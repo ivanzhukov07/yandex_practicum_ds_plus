{
 "cells": [
  {
   "cell_type": "markdown",
   "metadata": {},
   "source": [
    "# Research of apartments for sale ads\n",
    "\n",
    "## Description of the project\n",
    "\n",
    "On the basis of the archive of advertisements for the sale of apartments in St. Petersburg and neighboring cities for several years, you need to learn how to determine the market value of real estate. The first task is to set the parameters. This will allow to build an automated system: it will track anomalies and fraudulent activity. For each apartment for sale, two types of data are available. The first ones are entered by the user, the second ones are obtained automatically on the basis of cartographic data. For example, the distance to the center, airport, nearest park and reservoir.\n",
    "\n",
    "## Description of data\n",
    "\n",
    "`airports_nearest` - distance to the nearest airport in meters (m)\n",
    "`balcony` — number of balconies\n",
    "`ceiling_height` - ceiling height (m)\n",
    "`cityCenters_nearest` - distance to the city center (m)\n",
    "`days_exposition` - how many days the ad was placed (from publication to withdrawal)\n",
    "`first_day_exposition` - publication date\n",
    "`floor` - floor\n",
    "`floors_total` - total floors in the house\n",
    "`is_apartment` - apartments (boolean)\n",
    "`kitchen_area` - kitchen area in square meters (m²)\n",
    "`last_price` - price at the time of unpublishing\n",
    "`living_area` - living area in square meters (m²)\n",
    "`locality_name` — name of the locality\n",
    "`open_plan` - open plan (boolean)\n",
    "`parks_around3000` - number of parks within a 3 km radius\n",
    "`parks_nearest` - distance to the nearest park (m)\n",
    "`ponds_around3000` — number of ponds within a 3 km radius\n",
    "`ponds_nearest` - distance to the nearest body of water (m)\n",
    "`rooms` - number of rooms\n",
    "`studio` - studio apartment (boolean)\n",
    "`total_area` - area of the apartment in square meters (m²)\n",
    "`total_images` - the number of photos of the apartment in the ad\n",
    "\n",
    "## Tools used\n",
    "\n",
    "`pandas` `numpy` `matplotlib` `math`"
   ]
  }
 ],
 "metadata": {
  "kernelspec": {
   "display_name": "Python 3 (ipykernel)",
   "language": "python",
   "name": "python3"
  },
  "language_info": {
   "codemirror_mode": {
    "name": "ipython",
    "version": 3
   },
   "file_extension": ".py",
   "mimetype": "text/x-python",
   "name": "python",
   "nbconvert_exporter": "python",
   "pygments_lexer": "ipython3",
   "version": "3.8.5"
  }
 },
 "nbformat": 4,
 "nbformat_minor": 4
}
