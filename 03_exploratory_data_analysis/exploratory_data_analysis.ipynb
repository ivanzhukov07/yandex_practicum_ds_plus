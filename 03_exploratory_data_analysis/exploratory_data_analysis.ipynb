{
 "cells": [
  {
   "cell_type": "markdown",
   "metadata": {},
   "source": [
    "# Research of apartments for sale ads\n",
    "\n",
    "At your disposal is the data of the Yandex.Realty service - an archive of ads for the sale of apartments in St. Petersburg and neighboring settlements for several years. You need to learn how to determine the market value of real estate. Your job is to set the parameters. This will allow to build an automated system: it will track anomalies and fraudulent activity.\n",
    "\n",
    "For each apartment for sale, two types of data are available. The first ones are entered by the user, the second ones are obtained automatically on the basis of cartographic data. For example, the distance to the center, airport, nearest park and reservoir."
   ]
  },
  {
   "cell_type": "markdown",
   "metadata": {},
   "source": [
    "## Exploring data from a file"
   ]
  },
  {
   "cell_type": "markdown",
   "metadata": {},
   "source": [
    "As is usually the case, let's start by exploring the dataset."
   ]
  },
  {
   "cell_type": "code",
   "execution_count": 1,
   "metadata": {},
   "outputs": [],
   "source": [
    "import pandas as pd\n",
    "import numpy as np\n",
    "import matplotlib.pyplot as plt"
   ]
  },
  {
   "cell_type": "markdown",
   "metadata": {},
   "source": [
    "Reading data:"
   ]
  },
  {
   "cell_type": "code",
   "execution_count": 2,
   "metadata": {},
   "outputs": [],
   "source": [
    "df = pd.read_csv('/datasets/real_estate_data.csv', sep = '\\t')"
   ]
  },
  {
   "cell_type": "markdown",
   "metadata": {},
   "source": [
    "### Overview of the dataset"
   ]
  },
  {
   "cell_type": "markdown",
   "metadata": {},
   "source": [
    "Let's look at the first 5 lines of the array for review:"
   ]
  },
  {
   "cell_type": "code",
   "execution_count": 3,
   "metadata": {},
   "outputs": [
    {
     "data": {
      "text/html": [
       "<div>\n",
       "<style scoped>\n",
       "    .dataframe tbody tr th:only-of-type {\n",
       "        vertical-align: middle;\n",
       "    }\n",
       "\n",
       "    .dataframe tbody tr th {\n",
       "        vertical-align: top;\n",
       "    }\n",
       "\n",
       "    .dataframe thead th {\n",
       "        text-align: right;\n",
       "    }\n",
       "</style>\n",
       "<table border=\"1\" class=\"dataframe\">\n",
       "  <thead>\n",
       "    <tr style=\"text-align: right;\">\n",
       "      <th></th>\n",
       "      <th>total_images</th>\n",
       "      <th>last_price</th>\n",
       "      <th>total_area</th>\n",
       "      <th>first_day_exposition</th>\n",
       "      <th>rooms</th>\n",
       "      <th>ceiling_height</th>\n",
       "      <th>floors_total</th>\n",
       "      <th>living_area</th>\n",
       "      <th>floor</th>\n",
       "      <th>is_apartment</th>\n",
       "      <th>...</th>\n",
       "      <th>kitchen_area</th>\n",
       "      <th>balcony</th>\n",
       "      <th>locality_name</th>\n",
       "      <th>airports_nearest</th>\n",
       "      <th>cityCenters_nearest</th>\n",
       "      <th>parks_around3000</th>\n",
       "      <th>parks_nearest</th>\n",
       "      <th>ponds_around3000</th>\n",
       "      <th>ponds_nearest</th>\n",
       "      <th>days_exposition</th>\n",
       "    </tr>\n",
       "  </thead>\n",
       "  <tbody>\n",
       "    <tr>\n",
       "      <th>0</th>\n",
       "      <td>20</td>\n",
       "      <td>13000000.0</td>\n",
       "      <td>108.0</td>\n",
       "      <td>2019-03-07T00:00:00</td>\n",
       "      <td>3</td>\n",
       "      <td>2.70</td>\n",
       "      <td>16.0</td>\n",
       "      <td>51.0</td>\n",
       "      <td>8</td>\n",
       "      <td>NaN</td>\n",
       "      <td>...</td>\n",
       "      <td>25.0</td>\n",
       "      <td>NaN</td>\n",
       "      <td>Санкт-Петербург</td>\n",
       "      <td>18863.0</td>\n",
       "      <td>16028.0</td>\n",
       "      <td>1.0</td>\n",
       "      <td>482.0</td>\n",
       "      <td>2.0</td>\n",
       "      <td>755.0</td>\n",
       "      <td>NaN</td>\n",
       "    </tr>\n",
       "    <tr>\n",
       "      <th>1</th>\n",
       "      <td>7</td>\n",
       "      <td>3350000.0</td>\n",
       "      <td>40.4</td>\n",
       "      <td>2018-12-04T00:00:00</td>\n",
       "      <td>1</td>\n",
       "      <td>NaN</td>\n",
       "      <td>11.0</td>\n",
       "      <td>18.6</td>\n",
       "      <td>1</td>\n",
       "      <td>NaN</td>\n",
       "      <td>...</td>\n",
       "      <td>11.0</td>\n",
       "      <td>2.0</td>\n",
       "      <td>посёлок Шушары</td>\n",
       "      <td>12817.0</td>\n",
       "      <td>18603.0</td>\n",
       "      <td>0.0</td>\n",
       "      <td>NaN</td>\n",
       "      <td>0.0</td>\n",
       "      <td>NaN</td>\n",
       "      <td>81.0</td>\n",
       "    </tr>\n",
       "    <tr>\n",
       "      <th>2</th>\n",
       "      <td>10</td>\n",
       "      <td>5196000.0</td>\n",
       "      <td>56.0</td>\n",
       "      <td>2015-08-20T00:00:00</td>\n",
       "      <td>2</td>\n",
       "      <td>NaN</td>\n",
       "      <td>5.0</td>\n",
       "      <td>34.3</td>\n",
       "      <td>4</td>\n",
       "      <td>NaN</td>\n",
       "      <td>...</td>\n",
       "      <td>8.3</td>\n",
       "      <td>0.0</td>\n",
       "      <td>Санкт-Петербург</td>\n",
       "      <td>21741.0</td>\n",
       "      <td>13933.0</td>\n",
       "      <td>1.0</td>\n",
       "      <td>90.0</td>\n",
       "      <td>2.0</td>\n",
       "      <td>574.0</td>\n",
       "      <td>558.0</td>\n",
       "    </tr>\n",
       "    <tr>\n",
       "      <th>3</th>\n",
       "      <td>0</td>\n",
       "      <td>64900000.0</td>\n",
       "      <td>159.0</td>\n",
       "      <td>2015-07-24T00:00:00</td>\n",
       "      <td>3</td>\n",
       "      <td>NaN</td>\n",
       "      <td>14.0</td>\n",
       "      <td>NaN</td>\n",
       "      <td>9</td>\n",
       "      <td>NaN</td>\n",
       "      <td>...</td>\n",
       "      <td>NaN</td>\n",
       "      <td>0.0</td>\n",
       "      <td>Санкт-Петербург</td>\n",
       "      <td>28098.0</td>\n",
       "      <td>6800.0</td>\n",
       "      <td>2.0</td>\n",
       "      <td>84.0</td>\n",
       "      <td>3.0</td>\n",
       "      <td>234.0</td>\n",
       "      <td>424.0</td>\n",
       "    </tr>\n",
       "    <tr>\n",
       "      <th>4</th>\n",
       "      <td>2</td>\n",
       "      <td>10000000.0</td>\n",
       "      <td>100.0</td>\n",
       "      <td>2018-06-19T00:00:00</td>\n",
       "      <td>2</td>\n",
       "      <td>3.03</td>\n",
       "      <td>14.0</td>\n",
       "      <td>32.0</td>\n",
       "      <td>13</td>\n",
       "      <td>NaN</td>\n",
       "      <td>...</td>\n",
       "      <td>41.0</td>\n",
       "      <td>NaN</td>\n",
       "      <td>Санкт-Петербург</td>\n",
       "      <td>31856.0</td>\n",
       "      <td>8098.0</td>\n",
       "      <td>2.0</td>\n",
       "      <td>112.0</td>\n",
       "      <td>1.0</td>\n",
       "      <td>48.0</td>\n",
       "      <td>121.0</td>\n",
       "    </tr>\n",
       "  </tbody>\n",
       "</table>\n",
       "<p>5 rows × 22 columns</p>\n",
       "</div>"
      ],
      "text/plain": [
       "   total_images  last_price  total_area first_day_exposition  rooms  \\\n",
       "0            20  13000000.0       108.0  2019-03-07T00:00:00      3   \n",
       "1             7   3350000.0        40.4  2018-12-04T00:00:00      1   \n",
       "2            10   5196000.0        56.0  2015-08-20T00:00:00      2   \n",
       "3             0  64900000.0       159.0  2015-07-24T00:00:00      3   \n",
       "4             2  10000000.0       100.0  2018-06-19T00:00:00      2   \n",
       "\n",
       "   ceiling_height  floors_total  living_area  floor is_apartment  ...  \\\n",
       "0            2.70          16.0         51.0      8          NaN  ...   \n",
       "1             NaN          11.0         18.6      1          NaN  ...   \n",
       "2             NaN           5.0         34.3      4          NaN  ...   \n",
       "3             NaN          14.0          NaN      9          NaN  ...   \n",
       "4            3.03          14.0         32.0     13          NaN  ...   \n",
       "\n",
       "   kitchen_area  balcony    locality_name  airports_nearest  \\\n",
       "0          25.0      NaN  Санкт-Петербург           18863.0   \n",
       "1          11.0      2.0   посёлок Шушары           12817.0   \n",
       "2           8.3      0.0  Санкт-Петербург           21741.0   \n",
       "3           NaN      0.0  Санкт-Петербург           28098.0   \n",
       "4          41.0      NaN  Санкт-Петербург           31856.0   \n",
       "\n",
       "  cityCenters_nearest  parks_around3000  parks_nearest  ponds_around3000  \\\n",
       "0             16028.0               1.0          482.0               2.0   \n",
       "1             18603.0               0.0            NaN               0.0   \n",
       "2             13933.0               1.0           90.0               2.0   \n",
       "3              6800.0               2.0           84.0               3.0   \n",
       "4              8098.0               2.0          112.0               1.0   \n",
       "\n",
       "   ponds_nearest  days_exposition  \n",
       "0          755.0              NaN  \n",
       "1            NaN             81.0  \n",
       "2          574.0            558.0  \n",
       "3          234.0            424.0  \n",
       "4           48.0            121.0  \n",
       "\n",
       "[5 rows x 22 columns]"
      ]
     },
     "execution_count": 3,
     "metadata": {},
     "output_type": "execute_result"
    }
   ],
   "source": [
    "df.head(5)"
   ]
  },
  {
   "cell_type": "markdown",
   "metadata": {},
   "source": [
    "And a brief description of the dataset:"
   ]
  },
  {
   "cell_type": "code",
   "execution_count": 4,
   "metadata": {
    "scrolled": true
   },
   "outputs": [
    {
     "name": "stdout",
     "output_type": "stream",
     "text": [
      "<class 'pandas.core.frame.DataFrame'>\n",
      "RangeIndex: 23699 entries, 0 to 23698\n",
      "Data columns (total 22 columns):\n",
      " #   Column                Non-Null Count  Dtype  \n",
      "---  ------                --------------  -----  \n",
      " 0   total_images          23699 non-null  int64  \n",
      " 1   last_price            23699 non-null  float64\n",
      " 2   total_area            23699 non-null  float64\n",
      " 3   first_day_exposition  23699 non-null  object \n",
      " 4   rooms                 23699 non-null  int64  \n",
      " 5   ceiling_height        14504 non-null  float64\n",
      " 6   floors_total          23613 non-null  float64\n",
      " 7   living_area           21796 non-null  float64\n",
      " 8   floor                 23699 non-null  int64  \n",
      " 9   is_apartment          2775 non-null   object \n",
      " 10  studio                23699 non-null  bool   \n",
      " 11  open_plan             23699 non-null  bool   \n",
      " 12  kitchen_area          21421 non-null  float64\n",
      " 13  balcony               12180 non-null  float64\n",
      " 14  locality_name         23650 non-null  object \n",
      " 15  airports_nearest      18157 non-null  float64\n",
      " 16  cityCenters_nearest   18180 non-null  float64\n",
      " 17  parks_around3000      18181 non-null  float64\n",
      " 18  parks_nearest         8079 non-null   float64\n",
      " 19  ponds_around3000      18181 non-null  float64\n",
      " 20  ponds_nearest         9110 non-null   float64\n",
      " 21  days_exposition       20518 non-null  float64\n",
      "dtypes: bool(2), float64(14), int64(3), object(3)\n",
      "memory usage: 3.7+ MB\n"
     ]
    }
   ],
   "source": [
    "df.info()"
   ]
  },
  {
   "cell_type": "markdown",
   "metadata": {},
   "source": [
    "The table has 22 columns, of which:\n",
    "* `int64` - 3 variables\n",
    "* `float64` - 14 variables\n",
    "* `object` - 3 variables\n",
    "* `bool` - 2 variables\n",
    "\n",
    "All columns are named correctly and nothing needs to be changed."
   ]
  },
  {
   "cell_type": "markdown",
   "metadata": {},
   "source": [
    "According to the data documentation:\n",
    "    \n",
    "* `airports_nearest` — distance to the nearest airport in meters (m)\n",
    "* `balcony` — number of balconies\n",
    "* `ceiling_height` - ceiling height (m)\n",
    "* `cityCenters_nearest` — distance to city center (m)\n",
    "* `days_exposition` - how many days the ad was placed (from publication to removal)\n",
    "* `first_day_exposition` — publication date\n",
    "* `floor` - floor\n",
    "* `floors_total` - total floors in the house\n",
    "* `is_apartment` - apartments (boolean type)\n",
    "* `kitchen_area` - kitchen area in square meters (m²)\n",
    "* `last_price` - price at the time of removal from publication\n",
    "* `living_area` - living area in square meters (m²)\n",
    "* `locality_name` - the name of the locality\n",
    "* `open_plan` - free planning (boolean type)\n",
    "* `parks_around3000` - number of parks within a 3 km radius\n",
    "* `parks_nearest` - distance to the nearest park (m)\n",
    "* `ponds_around3000` - the number of ponds within a radius of 3 km\n",
    "* `ponds_nearest` - distance to the nearest body of water (m)\n",
    "* `rooms` - number of rooms\n",
    "* `studio` - studio apartment (boolean)\n",
    "* `total_area` - area of ​​the apartment in square meters (m²)\n",
    "* `total_images` - the number of photos of the apartment in the ad\n",
    "All columns are named correctly and nothing needs to be changed."
   ]
  },
  {
   "cell_type": "markdown",
   "metadata": {},
   "source": [
    "Since there were enough errors and inaccuracies in the data in past projects, let's take a closer look at the data."
   ]
  },
  {
   "cell_type": "markdown",
   "metadata": {},
   "source": [
    "Check the file for obvious duplicates:"
   ]
  },
  {
   "cell_type": "code",
   "execution_count": 5,
   "metadata": {},
   "outputs": [
    {
     "data": {
      "text/plain": [
       "0"
      ]
     },
     "execution_count": 5,
     "metadata": {},
     "output_type": "execute_result"
    }
   ],
   "source": [
    "df.duplicated().sum()"
   ]
  },
  {
   "cell_type": "markdown",
   "metadata": {},
   "source": [
    "There are not obvious duplicates - great."
   ]
  },
  {
   "cell_type": "markdown",
   "metadata": {},
   "source": [
    "### Object variables  "
   ]
  },
  {
   "cell_type": "markdown",
   "metadata": {},
   "source": [
    "Let's see the unique values of categorical variables, whether everything in these columns is correct."
   ]
  },
  {
   "cell_type": "code",
   "execution_count": 6,
   "metadata": {},
   "outputs": [
    {
     "data": {
      "text/plain": [
       "array(['Санкт-Петербург', 'посёлок Шушары', 'городской посёлок Янино-1',\n",
       "       'посёлок Парголово', 'посёлок Мурино'], dtype=object)"
      ]
     },
     "execution_count": 6,
     "metadata": {},
     "output_type": "execute_result"
    }
   ],
   "source": [
    "df['locality_name'].unique()[:5]"
   ]
  },
  {
   "cell_type": "markdown",
   "metadata": {},
   "source": [
    "* **Here we see the names of the settlements, I don't think the column needs to be adjusted**\n",
    "* **There are 49 gaps in the column**"
   ]
  },
  {
   "cell_type": "code",
   "execution_count": 7,
   "metadata": {},
   "outputs": [
    {
     "data": {
      "text/plain": [
       "array([nan, False, True], dtype=object)"
      ]
     },
     "execution_count": 7,
     "metadata": {},
     "output_type": "execute_result"
    }
   ],
   "source": [
    "df['is_apartment'].unique()"
   ]
  },
  {
   "cell_type": "code",
   "execution_count": 8,
   "metadata": {},
   "outputs": [
    {
     "data": {
      "text/html": [
       "<div>\n",
       "<style scoped>\n",
       "    .dataframe tbody tr th:only-of-type {\n",
       "        vertical-align: middle;\n",
       "    }\n",
       "\n",
       "    .dataframe tbody tr th {\n",
       "        vertical-align: top;\n",
       "    }\n",
       "\n",
       "    .dataframe thead th {\n",
       "        text-align: right;\n",
       "    }\n",
       "</style>\n",
       "<table border=\"1\" class=\"dataframe\">\n",
       "  <thead>\n",
       "    <tr style=\"text-align: right;\">\n",
       "      <th></th>\n",
       "      <th>is_apartment</th>\n",
       "    </tr>\n",
       "  </thead>\n",
       "  <tbody>\n",
       "    <tr>\n",
       "      <th>False</th>\n",
       "      <td>2725</td>\n",
       "    </tr>\n",
       "    <tr>\n",
       "      <th>True</th>\n",
       "      <td>50</td>\n",
       "    </tr>\n",
       "  </tbody>\n",
       "</table>\n",
       "</div>"
      ],
      "text/plain": [
       "       is_apartment\n",
       "False          2725\n",
       "True             50"
      ]
     },
     "execution_count": 8,
     "metadata": {},
     "output_type": "execute_result"
    }
   ],
   "source": [
    "df['is_apartment'].value_counts().to_frame()"
   ]
  },
  {
   "cell_type": "markdown",
   "metadata": {},
   "source": [
    "* **Obviously for this column you need to change the data type to boolean**\n",
    "* **Column contains gaps**"
   ]
  },
  {
   "cell_type": "code",
   "execution_count": 9,
   "metadata": {},
   "outputs": [
    {
     "data": {
      "text/plain": [
       "array(['2019-03-07T00:00:00', '2018-12-04T00:00:00',\n",
       "       '2015-08-20T00:00:00', '2015-07-24T00:00:00',\n",
       "       '2018-06-19T00:00:00'], dtype=object)"
      ]
     },
     "execution_count": 9,
     "metadata": {},
     "output_type": "execute_result"
    }
   ],
   "source": [
    "df['first_day_exposition'].unique()[:5]"
   ]
  },
  {
   "cell_type": "markdown",
   "metadata": {},
   "source": [
    "* **For this column, you need to change the data type to date**\n",
    "* **Column contains no gaps**"
   ]
  },
  {
   "cell_type": "markdown",
   "metadata": {},
   "source": [
    "### Quantitative variables"
   ]
  },
  {
   "cell_type": "markdown",
   "metadata": {},
   "source": [
    "Let's continue the review and see what happens with the numeric columns:"
   ]
  },
  {
   "cell_type": "code",
   "execution_count": null,
   "metadata": {
    "scrolled": true
   },
   "outputs": [],
   "source": [
    "df.describe().T"
   ]
  },
  {
   "cell_type": "markdown",
   "metadata": {},
   "source": [
    "* there are no negative values in numerical variables, where they cannot be in meaning, which is also good\n",
    "* maximum ceiling height - 100 meters (variable needs to be checked)"
   ]
  },
  {
   "cell_type": "markdown",
   "metadata": {},
   "source": [
    "**Which numeric columns need to change data types and why?**\n",
    "\n",
    "* `floors_total` - the number of floors cannot be fractional, you need to change the data type to **int**\n",
    "* `balcony` - similarly, change the data type to **int**\n",
    "* `days_exposition` - how many days the ad was placed (from publication to withdrawal) - change the data type to **int**\n",
    "* `last_price` - the price at the time of removal from the publication, I don't think that everything that goes in the price of the apartment after the decimal point really matters to us, because the cost of apartments is estimated at millions.\n",
    "\n",
    "**Group of parameters with distances to marker locations (in meters):**\n",
    "\n",
    "It is more logical to convert to an integer type (it is easier to measure the distance in meters without a decimal fractional part)\n",
    "\n",
    "* `airports_nearest`\n",
    "* `cityCenters_nearest`\n",
    "* `parks_nearest`\n",
    "* `ponds_nearest`\n",
    "\n",
    "**Number of marker locations at a distance of up to 3000 meters:**\n",
    "\n",
    "Also convert to int, also distance\n",
    "\n",
    "* `parks_around3000`\n",
    "* `ponds_around3000`"
   ]
  },
  {
   "cell_type": "markdown",
   "metadata": {},
   "source": [
    "### Enumerate columns with missing data"
   ]
  },
  {
   "cell_type": "markdown",
   "metadata": {},
   "source": [
    "**Data gaps contained in columns:**\n",
    "\n",
    "**To be completed by the user**\n",
    "\n",
    "* `ceiling_height`\n",
    "* `floors_total`\n",
    "* `living_area`\n",
    "* `is_apartment`\n",
    "* `kitchen_area`\n",
    "*`balcony`\n",
    "* `locality_name`\n",
    "\n",
    "**Filled in automatically**\n",
    "* `airports_nearest`\n",
    "* `cityCenters_nearest`\n",
    "* `parks_around3000`\n",
    "* `parks_nearest`\n",
    "* `ponds_around3000`\n",
    "* `ponds_nearest`\n",
    "* `days_exposition`"
   ]
  },
  {
   "cell_type": "markdown",
   "metadata": {},
   "source": [
    "### Conclusion"
   ]
  },
  {
   "cell_type": "markdown",
   "metadata": {},
   "source": [
    "* at this point, the file was read and a brief overview was made\n",
    "* file contains **23,699** lines\n",
    "* number of columns - **22**:\n",
    "    * `int64` - 3 variables\n",
    "    * `float64` - 14 variables\n",
    "    * `object` - 3 variables\n",
    "    * `bool` - 2 variables\n",
    "* column names are filled in correctly\n",
    "* data does not contain obvious duplicates\n",
    "\n",
    "**For the study, it is necessary to pre-process the data, because:**\n",
    "\n",
    "* a number of variables need to change the type from **float** to **int**, from **object** to **bool**, from **object** to **datetime**\n",
    "* there are gaps in the data for a number of columns, where possible they must be filled in"
   ]
  },
  {
   "cell_type": "markdown",
   "metadata": {},
   "source": [
    "## Data preprocessing"
   ]
  },
  {
   "cell_type": "markdown",
   "metadata": {},
   "source": [
    "In the last paragraph, we identified the problems found in the data, now you need to try to fix them."
   ]
  },
  {
   "cell_type": "markdown",
   "metadata": {},
   "source": [
    "### Missing values"
   ]
  },
  {
   "cell_type": "markdown",
   "metadata": {},
   "source": [
    "We know from past sprints that gaps can occur in both **quantity** and **categorical** variables.\n",
    "\n",
    "And also to be one of three types:\n",
    "\n",
    "* **Completely random:** if the probability of encountering a gap does not depend on any other values.\n",
    "* **Random:** if the skip probability depends on other values in the data set, but not on the values of its own column.\n",
    "* **Non-random:** if the skip probability depends on other values, including the values of its own column.\n",
    "\n",
    "Looking at our dataset globally, we have variables that are **filled in by the user** and some are **automatic** based on what the user of the service has filled in.\n",
    "\n",
    "Why there might be gaps in **user data**:\n",
    "* column was optional\n",
    "     * the user meant 0 for the empty value (in this case, we can put 0 ourselves)\n",
    "     * the user has chosen not to specify this value (we probably won't be able to do anything here, or we can fill in the gaps with `characteristic values` as in the last sprint)\n",
    "* the user deliberately filled in the required field with a false value or made a typo\n",
    "\n",
    "Why can there be gaps in **auto-filled data**, it’s easier here, this data should be filled in based on what the user filled in, so the options are as follows:\n",
    "\n",
    "* the field on which the signs are pulled up is not filled or filled in such a way that nothing was pulled up on it\n",
    "* the technical error"
   ]
  },
  {
   "cell_type": "markdown",
   "metadata": {},
   "source": [
    "#### Skipped by user"
   ]
  },
  {
   "cell_type": "markdown",
   "metadata": {},
   "source": [
    "List of columns with gaps:\n",
    "\n",
    "* `ceiling_height`\n",
    "* `floors_total`\n",
    "* `living_area`\n",
    "* `is_apartment`\n",
    "* `kitchen_area`\n",
    "* `balcony`\n",
    "* `locality_name`"
   ]
  },
  {
   "cell_type": "code",
   "execution_count": 11,
   "metadata": {},
   "outputs": [],
   "source": [
    "empty_list_cst = ['ceiling_height','floors_total','living_area',\n",
    "                  'is_apartment','kitchen_area','balcony','locality_name']"
   ]
  },
  {
   "cell_type": "markdown",
   "metadata": {},
   "source": [
    "Let's display the percentage of gaps in descending order, from the largest to the smallest:"
   ]
  },
  {
   "cell_type": "code",
   "execution_count": 12,
   "metadata": {},
   "outputs": [
    {
     "data": {
      "text/html": [
       "<div>\n",
       "<style scoped>\n",
       "    .dataframe tbody tr th:only-of-type {\n",
       "        vertical-align: middle;\n",
       "    }\n",
       "\n",
       "    .dataframe tbody tr th {\n",
       "        vertical-align: top;\n",
       "    }\n",
       "\n",
       "    .dataframe thead th {\n",
       "        text-align: right;\n",
       "    }\n",
       "</style>\n",
       "<table border=\"1\" class=\"dataframe\">\n",
       "  <thead>\n",
       "    <tr style=\"text-align: right;\">\n",
       "      <th></th>\n",
       "      <th>0</th>\n",
       "    </tr>\n",
       "  </thead>\n",
       "  <tbody>\n",
       "    <tr>\n",
       "      <th>is_apartment</th>\n",
       "      <td>0.882906</td>\n",
       "    </tr>\n",
       "    <tr>\n",
       "      <th>balcony</th>\n",
       "      <td>0.486054</td>\n",
       "    </tr>\n",
       "    <tr>\n",
       "      <th>ceiling_height</th>\n",
       "      <td>0.387991</td>\n",
       "    </tr>\n",
       "    <tr>\n",
       "      <th>kitchen_area</th>\n",
       "      <td>0.096122</td>\n",
       "    </tr>\n",
       "    <tr>\n",
       "      <th>living_area</th>\n",
       "      <td>0.080299</td>\n",
       "    </tr>\n",
       "    <tr>\n",
       "      <th>floors_total</th>\n",
       "      <td>0.003629</td>\n",
       "    </tr>\n",
       "    <tr>\n",
       "      <th>locality_name</th>\n",
       "      <td>0.002068</td>\n",
       "    </tr>\n",
       "  </tbody>\n",
       "</table>\n",
       "</div>"
      ],
      "text/plain": [
       "                       0\n",
       "is_apartment    0.882906\n",
       "balcony         0.486054\n",
       "ceiling_height  0.387991\n",
       "kitchen_area    0.096122\n",
       "living_area     0.080299\n",
       "floors_total    0.003629\n",
       "locality_name   0.002068"
      ]
     },
     "execution_count": 12,
     "metadata": {},
     "output_type": "execute_result"
    }
   ],
   "source": [
    "df.filter(empty_list_cst).isna().mean().to_frame().sort_values(by = 0, ascending = False)"
   ]
  },
  {
   "cell_type": "markdown",
   "metadata": {},
   "source": [
    "\n",
    "**is_apartment**  \n",
    "It is reasonable to assume that if nothing is marked, this is 0 (i.e. not an apartment, but an apartment)"
   ]
  },
  {
   "cell_type": "code",
   "execution_count": 13,
   "metadata": {},
   "outputs": [],
   "source": [
    "df['is_apartment'] = df['is_apartment'].fillna(False)"
   ]
  },
  {
   "cell_type": "code",
   "execution_count": 14,
   "metadata": {},
   "outputs": [
    {
     "data": {
      "text/html": [
       "<div>\n",
       "<style scoped>\n",
       "    .dataframe tbody tr th:only-of-type {\n",
       "        vertical-align: middle;\n",
       "    }\n",
       "\n",
       "    .dataframe tbody tr th {\n",
       "        vertical-align: top;\n",
       "    }\n",
       "\n",
       "    .dataframe thead th {\n",
       "        text-align: right;\n",
       "    }\n",
       "</style>\n",
       "<table border=\"1\" class=\"dataframe\">\n",
       "  <thead>\n",
       "    <tr style=\"text-align: right;\">\n",
       "      <th></th>\n",
       "      <th>is_apartment</th>\n",
       "    </tr>\n",
       "  </thead>\n",
       "  <tbody>\n",
       "    <tr>\n",
       "      <th>False</th>\n",
       "      <td>23649</td>\n",
       "    </tr>\n",
       "    <tr>\n",
       "      <th>True</th>\n",
       "      <td>50</td>\n",
       "    </tr>\n",
       "  </tbody>\n",
       "</table>\n",
       "</div>"
      ],
      "text/plain": [
       "       is_apartment\n",
       "False         23649\n",
       "True             50"
      ]
     },
     "execution_count": 14,
     "metadata": {},
     "output_type": "execute_result"
    }
   ],
   "source": [
    "df['is_apartment'].value_counts().to_frame()"
   ]
  },
  {
   "cell_type": "code",
   "execution_count": 15,
   "metadata": {},
   "outputs": [
    {
     "data": {
      "text/plain": [
       "dtype('bool')"
      ]
     },
     "execution_count": 15,
     "metadata": {},
     "output_type": "execute_result"
    }
   ],
   "source": [
    "df['is_apartment'].dtype"
   ]
  },
  {
   "cell_type": "markdown",
   "metadata": {},
   "source": [
    "P.S. at the same time, the type of the variable was changed to bool"
   ]
  },
  {
   "cell_type": "markdown",
   "metadata": {},
   "source": [
    "**balcony**  \n",
    "Here you can do it in the same way, if nothing is marked, then there is no balcony in the apartment"
   ]
  },
  {
   "cell_type": "code",
   "execution_count": 16,
   "metadata": {},
   "outputs": [],
   "source": [
    "df['balcony'] = df['balcony'].fillna(0).astype(int)"
   ]
  },
  {
   "cell_type": "code",
   "execution_count": 17,
   "metadata": {},
   "outputs": [
    {
     "data": {
      "text/html": [
       "<div>\n",
       "<style scoped>\n",
       "    .dataframe tbody tr th:only-of-type {\n",
       "        vertical-align: middle;\n",
       "    }\n",
       "\n",
       "    .dataframe tbody tr th {\n",
       "        vertical-align: top;\n",
       "    }\n",
       "\n",
       "    .dataframe thead th {\n",
       "        text-align: right;\n",
       "    }\n",
       "</style>\n",
       "<table border=\"1\" class=\"dataframe\">\n",
       "  <thead>\n",
       "    <tr style=\"text-align: right;\">\n",
       "      <th></th>\n",
       "      <th>balcony</th>\n",
       "    </tr>\n",
       "  </thead>\n",
       "  <tbody>\n",
       "    <tr>\n",
       "      <th>0</th>\n",
       "      <td>15277</td>\n",
       "    </tr>\n",
       "    <tr>\n",
       "      <th>1</th>\n",
       "      <td>4195</td>\n",
       "    </tr>\n",
       "    <tr>\n",
       "      <th>2</th>\n",
       "      <td>3659</td>\n",
       "    </tr>\n",
       "    <tr>\n",
       "      <th>5</th>\n",
       "      <td>304</td>\n",
       "    </tr>\n",
       "    <tr>\n",
       "      <th>4</th>\n",
       "      <td>183</td>\n",
       "    </tr>\n",
       "    <tr>\n",
       "      <th>3</th>\n",
       "      <td>81</td>\n",
       "    </tr>\n",
       "  </tbody>\n",
       "</table>\n",
       "</div>"
      ],
      "text/plain": [
       "   balcony\n",
       "0    15277\n",
       "1     4195\n",
       "2     3659\n",
       "5      304\n",
       "4      183\n",
       "3       81"
      ]
     },
     "execution_count": 17,
     "metadata": {},
     "output_type": "execute_result"
    }
   ],
   "source": [
    "df['balcony'].value_counts().to_frame()"
   ]
  },
  {
   "cell_type": "code",
   "execution_count": 18,
   "metadata": {},
   "outputs": [
    {
     "data": {
      "text/plain": [
       "dtype('int64')"
      ]
     },
     "execution_count": 18,
     "metadata": {},
     "output_type": "execute_result"
    }
   ],
   "source": [
    "df['balcony'].dtype"
   ]
  },
  {
   "cell_type": "markdown",
   "metadata": {},
   "source": [
    "**ceiling_height, floors_total, kitchen_area, living_area, locality_name** \n",
    " \n",
    "I propose to leave the gaps in this variable unchanged.\n",
    "If we had the exact address of the house or the name of the residential complex, we could try to do something with the passes, but in the current situation we will only confuse ourselves by dividing houses into categories - averaging the number of floors and area by city or cost is a rather bad idea."
   ]
  },
  {
   "cell_type": "markdown",
   "metadata": {},
   "source": [
    "#### Skipped by autofill"
   ]
  },
  {
   "cell_type": "markdown",
   "metadata": {},
   "source": [
    "List of columns with gaps:\n",
    "\n",
    "* `airports_nearest`\n",
    "* `cityCenters_nearest`\n",
    "* `parks_around3000`\n",
    "* `parks_nearest`\n",
    "* `ponds_around3000`\n",
    "* `ponds_nearest`\n",
    "* `days_exposition`"
   ]
  },
  {
   "cell_type": "markdown",
   "metadata": {},
   "source": [
    "Let's display the percentage of gaps in descending order, from the largest to the smallest:"
   ]
  },
  {
   "cell_type": "code",
   "execution_count": 19,
   "metadata": {},
   "outputs": [],
   "source": [
    "empty_list_auto = ['airports_nearest','cityCenters_nearest','parks_around3000',\n",
    "                  'parks_nearest','ponds_around3000','ponds_nearest','days_exposition']"
   ]
  },
  {
   "cell_type": "code",
   "execution_count": 20,
   "metadata": {},
   "outputs": [
    {
     "data": {
      "text/html": [
       "<div>\n",
       "<style scoped>\n",
       "    .dataframe tbody tr th:only-of-type {\n",
       "        vertical-align: middle;\n",
       "    }\n",
       "\n",
       "    .dataframe tbody tr th {\n",
       "        vertical-align: top;\n",
       "    }\n",
       "\n",
       "    .dataframe thead th {\n",
       "        text-align: right;\n",
       "    }\n",
       "</style>\n",
       "<table border=\"1\" class=\"dataframe\">\n",
       "  <thead>\n",
       "    <tr style=\"text-align: right;\">\n",
       "      <th></th>\n",
       "      <th>0</th>\n",
       "    </tr>\n",
       "  </thead>\n",
       "  <tbody>\n",
       "    <tr>\n",
       "      <th>parks_nearest</th>\n",
       "      <td>0.659100</td>\n",
       "    </tr>\n",
       "    <tr>\n",
       "      <th>ponds_nearest</th>\n",
       "      <td>0.615596</td>\n",
       "    </tr>\n",
       "    <tr>\n",
       "      <th>airports_nearest</th>\n",
       "      <td>0.233850</td>\n",
       "    </tr>\n",
       "    <tr>\n",
       "      <th>cityCenters_nearest</th>\n",
       "      <td>0.232879</td>\n",
       "    </tr>\n",
       "    <tr>\n",
       "      <th>parks_around3000</th>\n",
       "      <td>0.232837</td>\n",
       "    </tr>\n",
       "    <tr>\n",
       "      <th>ponds_around3000</th>\n",
       "      <td>0.232837</td>\n",
       "    </tr>\n",
       "    <tr>\n",
       "      <th>days_exposition</th>\n",
       "      <td>0.134225</td>\n",
       "    </tr>\n",
       "  </tbody>\n",
       "</table>\n",
       "</div>"
      ],
      "text/plain": [
       "                            0\n",
       "parks_nearest        0.659100\n",
       "ponds_nearest        0.615596\n",
       "airports_nearest     0.233850\n",
       "cityCenters_nearest  0.232879\n",
       "parks_around3000     0.232837\n",
       "ponds_around3000     0.232837\n",
       "days_exposition      0.134225"
      ]
     },
     "execution_count": 20,
     "metadata": {},
     "output_type": "execute_result"
    }
   ],
   "source": [
    "df.filter(empty_list_auto).isna().mean().to_frame().sort_values(by = 0, ascending = False)"
   ]
  },
  {
   "cell_type": "markdown",
   "metadata": {},
   "source": [
    "It's really interesting here:\n",
    "* 3 variables have approximately the same missing percentage (`ponds_around3000`, `parks_around3000`, `cityCenters_nearest`)\n",
    "* while the variables `ponds_nearest` and `parks_nearest` are not filled much more\n",
    "\n",
    "This means that you can try to enrich the values of the `ponds_nearest` and `parks_nearest` variables with the values from the `ponds_around3000` and `parks_around3000` columns.\n",
    "But first you need to understand what exactly `ponds_around3000` and `parks_around3000` are filled with."
   ]
  },
  {
   "cell_type": "code",
   "execution_count": 21,
   "metadata": {},
   "outputs": [
    {
     "data": {
      "text/plain": [
       "array([0.])"
      ]
     },
     "execution_count": 21,
     "metadata": {},
     "output_type": "execute_result"
    }
   ],
   "source": [
    "df[(df['ponds_around3000'].isna() == False) & (df['ponds_nearest'].isna()== True )]['ponds_around3000'].unique()"
   ]
  },
  {
   "cell_type": "code",
   "execution_count": 22,
   "metadata": {},
   "outputs": [
    {
     "data": {
      "text/plain": [
       "array([0.])"
      ]
     },
     "execution_count": 22,
     "metadata": {},
     "output_type": "execute_result"
    }
   ],
   "source": [
    "df[(df['parks_around3000'].isna() == False) & (df['parks_nearest'].isna()== True )]['parks_around3000'].unique()"
   ]
  },
  {
   "cell_type": "markdown",
   "metadata": {},
   "source": [
    "**For parameter group airports_nearest, cityCenters_nearest, parks_around3000, parks_nearest, ponds_around3000, ponds_nearest**\n",
    "\n",
    "Unfortunately, it will not be possible to enrich the data, because in the corresponding non-Null values - 0, but this is also the result.\n",
    "It makes no sense to fill in the gaps with some average value for distances.\n",
    "\n",
    "**days_exposition**\n",
    "\n",
    "Separately, I will note the gaps in the `days_exposition` column - *how many days the ad was placed (from publication to removal)*\n",
    "we have gaps, but the `last_price` column contains no gaps, the nature of the error is failure."
   ]
  },
  {
   "cell_type": "markdown",
   "metadata": {},
   "source": [
    "### Correction of data types"
   ]
  },
  {
   "cell_type": "markdown",
   "metadata": {},
   "source": [
    "In chapter **1.2 - 1.3** I described which parameters need to be type-corrected and why:\n",
    "\n",
    "* **To integer type:** floors_total, balcony, days_exposition, last_price, airports_nearest, cityCenters_nearest, parks_nearest, ponds_nearest\n",
    "* **To date type:** first_day_exposition\n",
    "* **To boolean:** is_apartment (*already done*)"
   ]
  },
  {
   "cell_type": "code",
   "execution_count": 23,
   "metadata": {},
   "outputs": [],
   "source": [
    "to_int = ['floors_total', 'balcony', 'days_exposition', 'last_price', 'airports_nearest', 'cityCenters_nearest',\n",
    "          'parks_nearest', 'ponds_nearest']\n",
    "to_dt = ['first_day_exposition']"
   ]
  },
  {
   "cell_type": "markdown",
   "metadata": {},
   "source": [
    "**There is an important point here, since we will not fill in the gaps everywhere, but honestly store the NaN values, changing the data type from `float` to `int` will not work for all columns (NaN - refers to the float type)**"
   ]
  },
  {
   "cell_type": "code",
   "execution_count": 24,
   "metadata": {},
   "outputs": [],
   "source": [
    "try:\n",
    "    df[to_int] = df[to_int].astype(int)\n",
    "except:\n",
    "    1"
   ]
  },
  {
   "cell_type": "code",
   "execution_count": 25,
   "metadata": {},
   "outputs": [],
   "source": [
    "df['first_day_exposition'] =  pd.to_datetime(df['first_day_exposition'], format='%Y-%m-%dT%H:%M:%S')"
   ]
  },
  {
   "cell_type": "code",
   "execution_count": 26,
   "metadata": {},
   "outputs": [
    {
     "data": {
      "text/html": [
       "<div>\n",
       "<style scoped>\n",
       "    .dataframe tbody tr th:only-of-type {\n",
       "        vertical-align: middle;\n",
       "    }\n",
       "\n",
       "    .dataframe tbody tr th {\n",
       "        vertical-align: top;\n",
       "    }\n",
       "\n",
       "    .dataframe thead th {\n",
       "        text-align: right;\n",
       "    }\n",
       "</style>\n",
       "<table border=\"1\" class=\"dataframe\">\n",
       "  <thead>\n",
       "    <tr style=\"text-align: right;\">\n",
       "      <th></th>\n",
       "      <th>first_day_exposition</th>\n",
       "    </tr>\n",
       "  </thead>\n",
       "  <tbody>\n",
       "    <tr>\n",
       "      <th>0</th>\n",
       "      <td>2019-03-07</td>\n",
       "    </tr>\n",
       "    <tr>\n",
       "      <th>1</th>\n",
       "      <td>2018-12-04</td>\n",
       "    </tr>\n",
       "    <tr>\n",
       "      <th>2</th>\n",
       "      <td>2015-08-20</td>\n",
       "    </tr>\n",
       "  </tbody>\n",
       "</table>\n",
       "</div>"
      ],
      "text/plain": [
       "  first_day_exposition\n",
       "0           2019-03-07\n",
       "1           2018-12-04\n",
       "2           2015-08-20"
      ]
     },
     "execution_count": 26,
     "metadata": {},
     "output_type": "execute_result"
    }
   ],
   "source": [
    "df[['first_day_exposition']].head(3)"
   ]
  },
  {
   "cell_type": "markdown",
   "metadata": {},
   "source": [
    "Checking data types and gaps:"
   ]
  },
  {
   "cell_type": "code",
   "execution_count": 27,
   "metadata": {},
   "outputs": [
    {
     "name": "stdout",
     "output_type": "stream",
     "text": [
      "<class 'pandas.core.frame.DataFrame'>\n",
      "RangeIndex: 23699 entries, 0 to 23698\n",
      "Data columns (total 22 columns):\n",
      " #   Column                Non-Null Count  Dtype         \n",
      "---  ------                --------------  -----         \n",
      " 0   total_images          23699 non-null  int64         \n",
      " 1   last_price            23699 non-null  float64       \n",
      " 2   total_area            23699 non-null  float64       \n",
      " 3   first_day_exposition  23699 non-null  datetime64[ns]\n",
      " 4   rooms                 23699 non-null  int64         \n",
      " 5   ceiling_height        14504 non-null  float64       \n",
      " 6   floors_total          23613 non-null  float64       \n",
      " 7   living_area           21796 non-null  float64       \n",
      " 8   floor                 23699 non-null  int64         \n",
      " 9   is_apartment          23699 non-null  bool          \n",
      " 10  studio                23699 non-null  bool          \n",
      " 11  open_plan             23699 non-null  bool          \n",
      " 12  kitchen_area          21421 non-null  float64       \n",
      " 13  balcony               23699 non-null  int64         \n",
      " 14  locality_name         23650 non-null  object        \n",
      " 15  airports_nearest      18157 non-null  float64       \n",
      " 16  cityCenters_nearest   18180 non-null  float64       \n",
      " 17  parks_around3000      18181 non-null  float64       \n",
      " 18  parks_nearest         8079 non-null   float64       \n",
      " 19  ponds_around3000      18181 non-null  float64       \n",
      " 20  ponds_nearest         9110 non-null   float64       \n",
      " 21  days_exposition       20518 non-null  float64       \n",
      "dtypes: bool(3), datetime64[ns](1), float64(13), int64(4), object(1)\n",
      "memory usage: 3.5+ MB\n"
     ]
    }
   ],
   "source": [
    "df.info()"
   ]
  },
  {
   "cell_type": "markdown",
   "metadata": {},
   "source": [
    "### Conclusion"
   ]
  },
  {
   "cell_type": "markdown",
   "metadata": {},
   "source": [
    "* In this chapter, we have localized gaps and explained the nature of their occurrence\n",
    "* Fill in gaps (as far as possible) - `is_apartment` and `balcony` columns\n",
    "* We decided to leave the values ​​blank if there were no replacement options more correctly. Lack of value is also an important signal that should not be hidden.\n",
    "* Changed data types and explained the logic of replacing types (more in chapters **1.2** and **1.3**)"
   ]
  },
  {
   "cell_type": "markdown",
   "metadata": {},
   "source": [
    "## Calculations and adding results to the table"
   ]
  },
  {
   "cell_type": "markdown",
   "metadata": {},
   "source": [
    "In this chapter, you need to add the following parameters to the original data set:\n",
    "*price per square meter\n",
    "* day of the week, month and year of publication of the announcement\n",
    "* apartment floor; options - first, last, other\n",
    "* the ratio of living and total area, as well as the ratio of kitchen area to total"
   ]
  },
  {
   "cell_type": "markdown",
   "metadata": {},
   "source": [
    "***Price per square meter***"
   ]
  },
  {
   "cell_type": "code",
   "execution_count": 28,
   "metadata": {},
   "outputs": [],
   "source": [
    "df['price_sq_m'] = df['last_price'] / df['total_area']"
   ]
  },
  {
   "cell_type": "code",
   "execution_count": 31,
   "metadata": {},
   "outputs": [
    {
     "data": {
      "image/png": "[encoded data removed]",
      "text/plain": [
       "<Figure size 432x288 with 1 Axes>"
      ]
     },
     "metadata": {
      "needs_background": "light"
     },
     "output_type": "display_data"
    }
   ],
   "source": [
    "df['price_sq_m'].hist(bins = 50, range = (0, 300000))\n",
    "plt.title(\"Distribution of the cost of 1 sq.m. according to all data\")\n",
    "plt.show()"
   ]
  },
  {
   "cell_type": "code",
   "execution_count": 32,
   "metadata": {},
   "outputs": [
    {
     "data": {
      "image/png": "[encoded data removed]",
      "text/plain": [
       "<Figure size 432x288 with 1 Axes>"
      ]
     },
     "metadata": {
      "needs_background": "light"
     },
     "output_type": "display_data"
    }
   ],
   "source": [
    "plt.ylim(0, 200000)\n",
    "df.boxplot(column=['price_sq_m']) \n",
    "plt.title(\"Distribution of the cost of 1 sq.m. for all data. Boxplot.\")\n",
    "plt.show()"
   ]
  },
  {
   "cell_type": "markdown",
   "metadata": {},
   "source": [
    "***Day of the week, month and year of publication of the announcement***"
   ]
  },
  {
   "cell_type": "code",
   "execution_count": 33,
   "metadata": {},
   "outputs": [],
   "source": [
    "df['year'] = (df['first_day_exposition']).dt.year\n",
    "df['month'] = (df['first_day_exposition']).dt.month\n",
    "df['day'] = (df['first_day_exposition']).dt.weekday"
   ]
  },
  {
   "cell_type": "markdown",
   "metadata": {},
   "source": [
    "**Floor of the apartment; options - first, last, other**"
   ]
  },
  {
   "cell_type": "code",
   "execution_count": 34,
   "metadata": {},
   "outputs": [],
   "source": [
    "def floor(row): \n",
    "    if row['floor'] == 1:\n",
    "        return 'first'\n",
    "    elif row['floor'] == row['floors_total']:\n",
    "        return 'last'\n",
    "    else:\n",
    "        return 'other'"
   ]
  },
  {
   "cell_type": "code",
   "execution_count": 35,
   "metadata": {},
   "outputs": [],
   "source": [
    "df['floor_type'] = df.apply(floor, axis=1)"
   ]
  },
  {
   "cell_type": "code",
   "execution_count": 36,
   "metadata": {},
   "outputs": [
    {
     "data": {
      "text/html": [
       "<div>\n",
       "<style scoped>\n",
       "    .dataframe tbody tr th:only-of-type {\n",
       "        vertical-align: middle;\n",
       "    }\n",
       "\n",
       "    .dataframe tbody tr th {\n",
       "        vertical-align: top;\n",
       "    }\n",
       "\n",
       "    .dataframe thead th {\n",
       "        text-align: right;\n",
       "    }\n",
       "</style>\n",
       "<table border=\"1\" class=\"dataframe\">\n",
       "  <thead>\n",
       "    <tr style=\"text-align: right;\">\n",
       "      <th></th>\n",
       "      <th>floor_type</th>\n",
       "    </tr>\n",
       "  </thead>\n",
       "  <tbody>\n",
       "    <tr>\n",
       "      <th>other</th>\n",
       "      <td>17446</td>\n",
       "    </tr>\n",
       "    <tr>\n",
       "      <th>last</th>\n",
       "      <td>3336</td>\n",
       "    </tr>\n",
       "    <tr>\n",
       "      <th>first</th>\n",
       "      <td>2917</td>\n",
       "    </tr>\n",
       "  </tbody>\n",
       "</table>\n",
       "</div>"
      ],
      "text/plain": [
       "       floor_type\n",
       "other       17446\n",
       "last         3336\n",
       "first        2917"
      ]
     },
     "execution_count": 36,
     "metadata": {},
     "output_type": "execute_result"
    }
   ],
   "source": [
    "df['floor_type'].value_counts().to_frame()"
   ]
  },
  {
   "cell_type": "markdown",
   "metadata": {},
   "source": [
    "**The ratio of living and total area, as well as the ratio of kitchen area to total**"
   ]
  },
  {
   "cell_type": "code",
   "execution_count": 37,
   "metadata": {},
   "outputs": [],
   "source": [
    "df['life2all'] = df['living_area']/df['total_area']\n",
    "df['kit2all'] = df['kitchen_area']/df['total_area']"
   ]
  },
  {
   "cell_type": "code",
   "execution_count": 38,
   "metadata": {},
   "outputs": [
    {
     "data": {
      "image/png": "[encoded data removed]",
      "text/plain": [
       "<Figure size 432x288 with 1 Axes>"
      ]
     },
     "metadata": {
      "needs_background": "light"
     },
     "output_type": "display_data"
    }
   ],
   "source": [
    "df['life2all'].hist(bins = 50, range = (0, 1), label = 'life2all')\n",
    "df['kit2all'].hist(bins = 50, range = (0, 1), label = 'kit2all')\n",
    "plt.title(\"Living area/Common area - Kitchen area/Common area.\")\n",
    "plt.legend(loc='upper right')\n",
    "plt.show()"
   ]
  },
  {
   "cell_type": "code",
   "execution_count": 39,
   "metadata": {},
   "outputs": [
    {
     "data": {
      "image/png": "[encoded data removed]",
      "text/plain": [
       "<Figure size 432x288 with 1 Axes>"
      ]
     },
     "metadata": {
      "needs_background": "light"
     },
     "output_type": "display_data"
    }
   ],
   "source": [
    "plt.ylim(0, 1)\n",
    "df.boxplot(column = ['life2all','kit2all'])\n",
    "plt.title(\"Living area/Common area - Kitchen area/Common area. Boxplot.\")\n",
    "plt.show()"
   ]
  },
  {
   "cell_type": "markdown",
   "metadata": {},
   "source": [
    "### Conclusion\n",
    "* in this paragraph, additional parameters were added, calculated on the basis of the initial data:\n",
    "    * the madian cost of a square meter of real estate `for the entire data set` is approximately 100 thousand rubles, most of the prices are in the range from 75 to 120 thousand rubles.\n",
    "    * the number of apartments on the first and last floors in the advertisements for sale is approximately the same and significantly less than the apartments on the other floors, which is quite logical (it would be strange if it were otherwise)\n",
    "    * the ratio of living space to the total median is approximately **0.6** (the distribution, visually, seems to be normal), there are values in the data greater than 3Q, but their presence can be explained by studios or the presence of apartments where the kitchen area takes a minimum value or it studio (apartment), where from the square there is only a room.\n",
    "    * the ratio of the kitchen area to the total area on the median is approximately **0.2**, which is again logical, since the kitchen should not make up a significant area of the apartment, while we see that most of the data is beyond 3Q, nothing falls into values less than 1Q"
   ]
  },
  {
   "cell_type": "markdown",
   "metadata": {},
   "source": [
    "## Exploratory data analysis"
   ]
  },
  {
   "cell_type": "markdown",
   "metadata": {},
   "source": [
    "### Area, price, number of rooms, ceiling height\n",
    "Earlier, at the preprocessing stage, we decided not to fill in the gaps for these parameters, since it is not yet possible to categorize and fill in the gaps with characteristic values.\n",
    "Let's take a closer look at the data we have:"
   ]
  },
  {
   "cell_type": "code",
   "execution_count": 40,
   "metadata": {},
   "outputs": [
    {
     "data": {
      "image/png": "[encoded data removed]",
      "text/plain": [
       "<Figure size 432x288 with 1 Axes>"
      ]
     },
     "metadata": {
      "needs_background": "light"
     },
     "output_type": "display_data"
    }
   ],
   "source": [
    "df['ceiling_height'].hist(bins = 3, range = (2, 5))\n",
    "plt.title(\"Distribution of all ads by ceiling height.\")\n",
    "plt.show()"
   ]
  },
  {
   "cell_type": "code",
   "execution_count": 41,
   "metadata": {},
   "outputs": [
    {
     "data": {
      "image/png": "[encoded data removed]",
      "text/plain": [
       "<Figure size 432x288 with 1 Axes>"
      ]
     },
     "metadata": {
      "needs_background": "light"
     },
     "output_type": "display_data"
    }
   ],
   "source": [
    "plt.ylim(2, 3)\n",
    "df.boxplot(column = ['ceiling_height']) \n",
    "plt.title(\"Distribution of all ads by ceiling height. Boxplot.\")\n",
    "plt.show()"
   ]
  },
  {
   "cell_type": "code",
   "execution_count": 42,
   "metadata": {},
   "outputs": [
    {
     "data": {
      "text/plain": [
       "2.65"
      ]
     },
     "execution_count": 42,
     "metadata": {},
     "output_type": "execute_result"
    }
   ],
   "source": [
    "df['ceiling_height'].median()"
   ]
  },
  {
   "cell_type": "markdown",
   "metadata": {},
   "source": [
    "**Ceiling height**\n",
    "* It would seem that everything is logical - the vast majority of apartments with high ceilings from 2.5 to 2.8 meters, there are more, but their share is minimal (do not forget about the emission, where the height of the ceiling is generally 100 meters)\n",
    "* Medea - 2.65 m"
   ]
  },
  {
   "cell_type": "code",
   "execution_count": 43,
   "metadata": {},
   "outputs": [
    {
     "data": {
      "image/png": "[encoded data removed]",
      "text/plain": [
       "<Figure size 432x288 with 1 Axes>"
      ]
     },
     "metadata": {
      "needs_background": "light"
     },
     "output_type": "display_data"
    }
   ],
   "source": [
    "df['total_area'].hist(bins = 50, range = (0, 200))\n",
    "plt.title(\"Distribution of all ads by apartment area.\")\n",
    "plt.show()"
   ]
  },
  {
   "cell_type": "code",
   "execution_count": 44,
   "metadata": {},
   "outputs": [
    {
     "data": {
      "image/png": "[encoded data removed]",
      "text/plain": [
       "<Figure size 432x288 with 1 Axes>"
      ]
     },
     "metadata": {
      "needs_background": "light"
     },
     "output_type": "display_data"
    }
   ],
   "source": [
    "plt.ylim(0, 100)\n",
    "df.boxplot(column = ['total_area']) \n",
    "plt.title(\"Distribution of all ads by apartment area. Boxplot.\")\n",
    "plt.show()"
   ]
  },
  {
   "cell_type": "code",
   "execution_count": 45,
   "metadata": {},
   "outputs": [
    {
     "data": {
      "text/plain": [
       "52.0"
      ]
     },
     "execution_count": 45,
     "metadata": {},
     "output_type": "execute_result"
    }
   ],
   "source": [
    "df['total_area'].median()"
   ]
  },
  {
   "cell_type": "markdown",
   "metadata": {},
   "source": [
    "**Total area**\n",
    "* there are apartments less than 25 meters \"surprisingly, someone buys them\"\n",
    "* most of the apartments 1Q - 3Q - from 40 to 75 sq.m.\n",
    "* median - 52 sq.m."
   ]
  },
  {
   "cell_type": "code",
   "execution_count": 46,
   "metadata": {},
   "outputs": [
    {
     "data": {
      "image/png": "[encoded data removed]",
      "text/plain": [
       "<Figure size 432x288 with 1 Axes>"
      ]
     },
     "metadata": {
      "needs_background": "light"
     },
     "output_type": "display_data"
    }
   ],
   "source": [
    "df['last_price'].hist(bins = 30, range = (0, 10000000))\n",
    "plt.title(\"Distribution of all ads by total cost\")\n",
    "plt.show()"
   ]
  },
  {
   "cell_type": "code",
   "execution_count": 47,
   "metadata": {},
   "outputs": [
    {
     "data": {
      "image/png": "[encoded data removed]",
      "text/plain": [
       "<Figure size 432x288 with 1 Axes>"
      ]
     },
     "metadata": {
      "needs_background": "light"
     },
     "output_type": "display_data"
    }
   ],
   "source": [
    "plt.ylim(0, 8000000)\n",
    "df.boxplot(column = ['last_price']) \n",
    "plt.title(\"Distribution of all ads by total cost. Boxplot.\")\n",
    "plt.show()"
   ]
  },
  {
   "cell_type": "code",
   "execution_count": 48,
   "metadata": {},
   "outputs": [
    {
     "data": {
      "text/plain": [
       "4650000.0"
      ]
     },
     "execution_count": 48,
     "metadata": {},
     "output_type": "execute_result"
    }
   ],
   "source": [
    "df['last_price'].median()"
   ]
  },
  {
   "cell_type": "markdown",
   "metadata": {},
   "source": [
    "**Price per property**\n",
    "* there is a strange behavior of the histogram in the area of the cost of apartments in 10 million rubles. (small splash visible)\n",
    "* most of the apartments 1Q - 3Q - from 3.5 to 7 million rubles\n",
    "* median - 4.65 million rubles"
   ]
  },
  {
   "cell_type": "code",
   "execution_count": 49,
   "metadata": {},
   "outputs": [
    {
     "data": {
      "image/png": "[encoded data removed]",
      "text/plain": [
       "<Figure size 432x288 with 1 Axes>"
      ]
     },
     "metadata": {
      "needs_background": "light"
     },
     "output_type": "display_data"
    }
   ],
   "source": [
    "df['rooms'].hist(bins = 10, range = (0, 10))\n",
    "plt.title(\"Distribution of all ads to the number of rooms\")\n",
    "plt.show()"
   ]
  },
  {
   "cell_type": "code",
   "execution_count": 50,
   "metadata": {},
   "outputs": [
    {
     "data": {
      "image/png": "[encoded data removed]",
      "text/plain": [
       "<Figure size 432x288 with 1 Axes>"
      ]
     },
     "metadata": {
      "needs_background": "light"
     },
     "output_type": "display_data"
    }
   ],
   "source": [
    "plt.ylim(0, 5)\n",
    "df.boxplot(column = ['rooms']) \n",
    "plt.title(\"Distribution of all ads to the number of rooms. Boxplot.\")\n",
    "plt.show()"
   ]
  },
  {
   "cell_type": "markdown",
   "metadata": {},
   "source": [
    "**Number of rooms**\n",
    "Everything is quite simple here:\n",
    "* most of the apartments are 1-3 rooms\n",
    "* median - 2 room apartments"
   ]
  },
  {
   "cell_type": "markdown",
   "metadata": {},
   "source": [
    "### Studying the time of sale of the apartment"
   ]
  },
  {
   "cell_type": "code",
   "execution_count": 51,
   "metadata": {
    "scrolled": true
   },
   "outputs": [
    {
     "data": {
      "image/png": "[encoded data removed]",
      "text/plain": [
       "<Figure size 432x288 with 1 Axes>"
      ]
     },
     "metadata": {
      "needs_background": "light"
     },
     "output_type": "display_data"
    }
   ],
   "source": [
    "df['days_exposition'].hist(bins = 20, range = (0, 700))\n",
    "plt.title(\"Distribution of all ads by sale time\")\n",
    "plt.show()"
   ]
  },
  {
   "cell_type": "code",
   "execution_count": 52,
   "metadata": {},
   "outputs": [
    {
     "name": "stdout",
     "output_type": "stream",
     "text": [
      "Median: 95.0\n",
      "Average: 180.88863436982163\n"
     ]
    }
   ],
   "source": [
    "print(f'Median: {df[\"days_exposition\"].median()}\\n'\n",
    "      f'Average: {df[\"days_exposition\"].mean()}')"
   ]
  },
  {
   "cell_type": "code",
   "execution_count": 53,
   "metadata": {},
   "outputs": [
    {
     "data": {
      "image/png": "[encoded data removed]",
      "text/plain": [
       "<Figure size 432x288 with 1 Axes>"
      ]
     },
     "metadata": {
      "needs_background": "light"
     },
     "output_type": "display_data"
    },
    {
     "data": {
      "image/png": "[encoded data removed]",
      "text/plain": [
       "<Figure size 432x288 with 1 Axes>"
      ]
     },
     "metadata": {
      "needs_background": "light"
     },
     "output_type": "display_data"
    }
   ],
   "source": [
    "plt.ylim(0, 300)\n",
    "df.boxplot(column = ['days_exposition'])\n",
    "plt.title(\"Distribution of all ads by sale time. Boxplot.\")\n",
    "plt.show()\n",
    "plt.ylim(0, 2000)\n",
    "df.boxplot(column = ['days_exposition'])\n",
    "plt.title(\"Distribution of all ads by sale time. Boxplot.\")\n",
    "plt.show()"
   ]
  },
  {
   "cell_type": "markdown",
   "metadata": {},
   "source": [
    "* Distribution profile similar to Poisson distribution\n",
    "* Median - 95 days of sale, while the average is 180, which indicates that there are more values in the sample above the median.\n",
    "* It usually takes 50 to 240 days to sell (according to the boxplot)\n",
    "* What is considered a very fast and very long sale:\n",
    "    * very fast - for our case, I propose to consider everything that is less than 1Q (i.e. less than 50 days)\n",
    "    * very long - everything that goes beyond 3Q i.e. everything that is more than the upper limit of the \"box\", I emphasize separately that values greater than 500 are an outlier (they are outside the interquartile range)"
   ]
  },
  {
   "cell_type": "markdown",
   "metadata": {},
   "source": [
    "### Exclusion of rare and outlier values."
   ]
  },
  {
   "cell_type": "markdown",
   "metadata": {},
   "source": [
    "If we are talking about outliers, we need to know the exact coordinates of the interquartile range, we write the function:"
   ]
  },
  {
   "cell_type": "code",
   "execution_count": 54,
   "metadata": {},
   "outputs": [],
   "source": [
    "def max_bx(row, data = df):\n",
    "    delta_bx = (data[row].quantile(q=0.75) - data[row].quantile(q=0.25))\n",
    "    max_bx = data[row].quantile(q=0.75) + 1.5*delta_bx\n",
    "    return max_bx\n",
    "def min_bx(row, data = df):\n",
    "    delta_bx = (data[row].quantile(q=0.75) - data[row].quantile(q=0.25))\n",
    "    if data[row].quantile(q=0.25) - 1.5*delta_bx > 0:\n",
    "        min_bx = data[row].quantile(q=0.25) - 1.5*delta_bx\n",
    "    else:\n",
    "        min_bx = 0\n",
    "    return min_bx"
   ]
  },
  {
   "cell_type": "markdown",
   "metadata": {},
   "source": [
    "We will also write a function to exclude extreme values"
   ]
  },
  {
   "cell_type": "code",
   "execution_count": 55,
   "metadata": {},
   "outputs": [],
   "source": [
    "def drp_extr(row, data = df):\n",
    "    return data[(data[row] <= max_bx(row, data)) & (data[row] >= min_bx(row, data))]"
   ]
  },
  {
   "cell_type": "markdown",
   "metadata": {},
   "source": [
    "I propose to filter all extreme and rare values by a set of parameters:"
   ]
  },
  {
   "cell_type": "code",
   "execution_count": 56,
   "metadata": {},
   "outputs": [],
   "source": [
    "clear_lst = ['days_exposition','rooms','last_price','total_area','ceiling_height','kit2all','life2all']\n",
    "df_clear = df\n",
    "for i in clear_lst:\n",
    "    df_clear = drp_extr(i, df_clear)"
   ]
  },
  {
   "cell_type": "markdown",
   "metadata": {},
   "source": [
    "Let's compare the distributions of indicators before and after cleaning:"
   ]
  },
  {
   "cell_type": "code",
   "execution_count": 57,
   "metadata": {},
   "outputs": [
    {
     "data": {
      "text/html": [
       "<div>\n",
       "<style scoped>\n",
       "    .dataframe tbody tr th:only-of-type {\n",
       "        vertical-align: middle;\n",
       "    }\n",
       "\n",
       "    .dataframe tbody tr th {\n",
       "        vertical-align: top;\n",
       "    }\n",
       "\n",
       "    .dataframe thead th {\n",
       "        text-align: right;\n",
       "    }\n",
       "</style>\n",
       "<table border=\"1\" class=\"dataframe\">\n",
       "  <thead>\n",
       "    <tr style=\"text-align: right;\">\n",
       "      <th></th>\n",
       "      <th>days_exposition</th>\n",
       "      <th>rooms</th>\n",
       "      <th>last_price</th>\n",
       "      <th>total_area</th>\n",
       "      <th>ceiling_height</th>\n",
       "      <th>kit2all</th>\n",
       "      <th>life2all</th>\n",
       "    </tr>\n",
       "  </thead>\n",
       "  <tbody>\n",
       "    <tr>\n",
       "      <th>count</th>\n",
       "      <td>20518.000000</td>\n",
       "      <td>23699.000000</td>\n",
       "      <td>2.369900e+04</td>\n",
       "      <td>23699.000000</td>\n",
       "      <td>14504.000000</td>\n",
       "      <td>21421.000000</td>\n",
       "      <td>21796.000000</td>\n",
       "    </tr>\n",
       "    <tr>\n",
       "      <th>mean</th>\n",
       "      <td>180.888634</td>\n",
       "      <td>2.070636</td>\n",
       "      <td>6.541549e+06</td>\n",
       "      <td>60.348651</td>\n",
       "      <td>2.771499</td>\n",
       "      <td>0.187355</td>\n",
       "      <td>0.564766</td>\n",
       "    </tr>\n",
       "    <tr>\n",
       "      <th>std</th>\n",
       "      <td>219.727988</td>\n",
       "      <td>1.078405</td>\n",
       "      <td>1.088701e+07</td>\n",
       "      <td>35.654083</td>\n",
       "      <td>1.261056</td>\n",
       "      <td>0.072968</td>\n",
       "      <td>0.105368</td>\n",
       "    </tr>\n",
       "    <tr>\n",
       "      <th>min</th>\n",
       "      <td>1.000000</td>\n",
       "      <td>0.000000</td>\n",
       "      <td>1.219000e+04</td>\n",
       "      <td>12.000000</td>\n",
       "      <td>1.000000</td>\n",
       "      <td>0.025381</td>\n",
       "      <td>0.021583</td>\n",
       "    </tr>\n",
       "    <tr>\n",
       "      <th>25%</th>\n",
       "      <td>45.000000</td>\n",
       "      <td>1.000000</td>\n",
       "      <td>3.400000e+06</td>\n",
       "      <td>40.000000</td>\n",
       "      <td>2.520000</td>\n",
       "      <td>0.133333</td>\n",
       "      <td>0.495177</td>\n",
       "    </tr>\n",
       "    <tr>\n",
       "      <th>50%</th>\n",
       "      <td>95.000000</td>\n",
       "      <td>2.000000</td>\n",
       "      <td>4.650000e+06</td>\n",
       "      <td>52.000000</td>\n",
       "      <td>2.650000</td>\n",
       "      <td>0.172414</td>\n",
       "      <td>0.567860</td>\n",
       "    </tr>\n",
       "    <tr>\n",
       "      <th>75%</th>\n",
       "      <td>232.000000</td>\n",
       "      <td>3.000000</td>\n",
       "      <td>6.800000e+06</td>\n",
       "      <td>69.900000</td>\n",
       "      <td>2.800000</td>\n",
       "      <td>0.232416</td>\n",
       "      <td>0.637880</td>\n",
       "    </tr>\n",
       "    <tr>\n",
       "      <th>max</th>\n",
       "      <td>1580.000000</td>\n",
       "      <td>19.000000</td>\n",
       "      <td>7.630000e+08</td>\n",
       "      <td>900.000000</td>\n",
       "      <td>100.000000</td>\n",
       "      <td>0.787879</td>\n",
       "      <td>1.000000</td>\n",
       "    </tr>\n",
       "  </tbody>\n",
       "</table>\n",
       "</div>"
      ],
      "text/plain": [
       "       days_exposition         rooms    last_price    total_area  \\\n",
       "count     20518.000000  23699.000000  2.369900e+04  23699.000000   \n",
       "mean        180.888634      2.070636  6.541549e+06     60.348651   \n",
       "std         219.727988      1.078405  1.088701e+07     35.654083   \n",
       "min           1.000000      0.000000  1.219000e+04     12.000000   \n",
       "25%          45.000000      1.000000  3.400000e+06     40.000000   \n",
       "50%          95.000000      2.000000  4.650000e+06     52.000000   \n",
       "75%         232.000000      3.000000  6.800000e+06     69.900000   \n",
       "max        1580.000000     19.000000  7.630000e+08    900.000000   \n",
       "\n",
       "       ceiling_height       kit2all      life2all  \n",
       "count    14504.000000  21421.000000  21796.000000  \n",
       "mean         2.771499      0.187355      0.564766  \n",
       "std          1.261056      0.072968      0.105368  \n",
       "min          1.000000      0.025381      0.021583  \n",
       "25%          2.520000      0.133333      0.495177  \n",
       "50%          2.650000      0.172414      0.567860  \n",
       "75%          2.800000      0.232416      0.637880  \n",
       "max        100.000000      0.787879      1.000000  "
      ]
     },
     "execution_count": 57,
     "metadata": {},
     "output_type": "execute_result"
    }
   ],
   "source": [
    "df[clear_lst].describe()"
   ]
  },
  {
   "cell_type": "code",
   "execution_count": 58,
   "metadata": {},
   "outputs": [
    {
     "data": {
      "text/html": [
       "<div>\n",
       "<style scoped>\n",
       "    .dataframe tbody tr th:only-of-type {\n",
       "        vertical-align: middle;\n",
       "    }\n",
       "\n",
       "    .dataframe tbody tr th {\n",
       "        vertical-align: top;\n",
       "    }\n",
       "\n",
       "    .dataframe thead th {\n",
       "        text-align: right;\n",
       "    }\n",
       "</style>\n",
       "<table border=\"1\" class=\"dataframe\">\n",
       "  <thead>\n",
       "    <tr style=\"text-align: right;\">\n",
       "      <th></th>\n",
       "      <th>days_exposition</th>\n",
       "      <th>rooms</th>\n",
       "      <th>last_price</th>\n",
       "      <th>total_area</th>\n",
       "      <th>ceiling_height</th>\n",
       "      <th>kit2all</th>\n",
       "      <th>life2all</th>\n",
       "    </tr>\n",
       "  </thead>\n",
       "  <tbody>\n",
       "    <tr>\n",
       "      <th>count</th>\n",
       "      <td>8445.000000</td>\n",
       "      <td>8445.000000</td>\n",
       "      <td>8.445000e+03</td>\n",
       "      <td>8445.000000</td>\n",
       "      <td>8445.000000</td>\n",
       "      <td>8445.000000</td>\n",
       "      <td>8445.000000</td>\n",
       "    </tr>\n",
       "    <tr>\n",
       "      <th>mean</th>\n",
       "      <td>128.416696</td>\n",
       "      <td>1.882297</td>\n",
       "      <td>4.637044e+06</td>\n",
       "      <td>50.930578</td>\n",
       "      <td>2.640548</td>\n",
       "      <td>0.185182</td>\n",
       "      <td>0.565898</td>\n",
       "    </tr>\n",
       "    <tr>\n",
       "      <th>std</th>\n",
       "      <td>120.588948</td>\n",
       "      <td>0.834690</td>\n",
       "      <td>1.843237e+06</td>\n",
       "      <td>15.472903</td>\n",
       "      <td>0.148190</td>\n",
       "      <td>0.060347</td>\n",
       "      <td>0.093550</td>\n",
       "    </tr>\n",
       "    <tr>\n",
       "      <th>min</th>\n",
       "      <td>1.000000</td>\n",
       "      <td>1.000000</td>\n",
       "      <td>5.000000e+05</td>\n",
       "      <td>17.000000</td>\n",
       "      <td>2.200000</td>\n",
       "      <td>0.059933</td>\n",
       "      <td>0.301170</td>\n",
       "    </tr>\n",
       "    <tr>\n",
       "      <th>25%</th>\n",
       "      <td>37.000000</td>\n",
       "      <td>1.000000</td>\n",
       "      <td>3.400000e+06</td>\n",
       "      <td>38.800000</td>\n",
       "      <td>2.500000</td>\n",
       "      <td>0.137255</td>\n",
       "      <td>0.500000</td>\n",
       "    </tr>\n",
       "    <tr>\n",
       "      <th>50%</th>\n",
       "      <td>86.000000</td>\n",
       "      <td>2.000000</td>\n",
       "      <td>4.350000e+06</td>\n",
       "      <td>47.600000</td>\n",
       "      <td>2.600000</td>\n",
       "      <td>0.175953</td>\n",
       "      <td>0.567568</td>\n",
       "    </tr>\n",
       "    <tr>\n",
       "      <th>75%</th>\n",
       "      <td>184.000000</td>\n",
       "      <td>2.000000</td>\n",
       "      <td>5.600000e+06</td>\n",
       "      <td>60.600000</td>\n",
       "      <td>2.700000</td>\n",
       "      <td>0.228571</td>\n",
       "      <td>0.632653</td>\n",
       "    </tr>\n",
       "    <tr>\n",
       "      <th>max</th>\n",
       "      <td>511.000000</td>\n",
       "      <td>6.000000</td>\n",
       "      <td>1.078800e+07</td>\n",
       "      <td>97.800000</td>\n",
       "      <td>3.120000</td>\n",
       "      <td>0.374194</td>\n",
       "      <td>0.827586</td>\n",
       "    </tr>\n",
       "  </tbody>\n",
       "</table>\n",
       "</div>"
      ],
      "text/plain": [
       "       days_exposition        rooms    last_price   total_area  \\\n",
       "count      8445.000000  8445.000000  8.445000e+03  8445.000000   \n",
       "mean        128.416696     1.882297  4.637044e+06    50.930578   \n",
       "std         120.588948     0.834690  1.843237e+06    15.472903   \n",
       "min           1.000000     1.000000  5.000000e+05    17.000000   \n",
       "25%          37.000000     1.000000  3.400000e+06    38.800000   \n",
       "50%          86.000000     2.000000  4.350000e+06    47.600000   \n",
       "75%         184.000000     2.000000  5.600000e+06    60.600000   \n",
       "max         511.000000     6.000000  1.078800e+07    97.800000   \n",
       "\n",
       "       ceiling_height      kit2all     life2all  \n",
       "count     8445.000000  8445.000000  8445.000000  \n",
       "mean         2.640548     0.185182     0.565898  \n",
       "std          0.148190     0.060347     0.093550  \n",
       "min          2.200000     0.059933     0.301170  \n",
       "25%          2.500000     0.137255     0.500000  \n",
       "50%          2.600000     0.175953     0.567568  \n",
       "75%          2.700000     0.228571     0.632653  \n",
       "max          3.120000     0.374194     0.827586  "
      ]
     },
     "execution_count": 58,
     "metadata": {},
     "output_type": "execute_result"
    }
   ],
   "source": [
    "df_clear[clear_lst].describe()"
   ]
  },
  {
   "cell_type": "code",
   "execution_count": 59,
   "metadata": {},
   "outputs": [
    {
     "name": "stdout",
     "output_type": "stream",
     "text": [
      "<class 'pandas.core.frame.DataFrame'>\n",
      "Int64Index: 8445 entries, 9 to 23693\n",
      "Data columns (total 29 columns):\n",
      " #   Column                Non-Null Count  Dtype         \n",
      "---  ------                --------------  -----         \n",
      " 0   total_images          8445 non-null   int64         \n",
      " 1   last_price            8445 non-null   float64       \n",
      " 2   total_area            8445 non-null   float64       \n",
      " 3   first_day_exposition  8445 non-null   datetime64[ns]\n",
      " 4   rooms                 8445 non-null   int64         \n",
      " 5   ceiling_height        8445 non-null   float64       \n",
      " 6   floors_total          8443 non-null   float64       \n",
      " 7   living_area           8445 non-null   float64       \n",
      " 8   floor                 8445 non-null   int64         \n",
      " 9   is_apartment          8445 non-null   bool          \n",
      " 10  studio                8445 non-null   bool          \n",
      " 11  open_plan             8445 non-null   bool          \n",
      " 12  kitchen_area          8445 non-null   float64       \n",
      " 13  balcony               8445 non-null   int64         \n",
      " 14  locality_name         8439 non-null   object        \n",
      " 15  airports_nearest      6626 non-null   float64       \n",
      " 16  cityCenters_nearest   6635 non-null   float64       \n",
      " 17  parks_around3000      6635 non-null   float64       \n",
      " 18  parks_nearest         2673 non-null   float64       \n",
      " 19  ponds_around3000      6635 non-null   float64       \n",
      " 20  ponds_nearest         2988 non-null   float64       \n",
      " 21  days_exposition       8445 non-null   float64       \n",
      " 22  price_sq_m            8445 non-null   float64       \n",
      " 23  year                  8445 non-null   int64         \n",
      " 24  month                 8445 non-null   int64         \n",
      " 25  day                   8445 non-null   int64         \n",
      " 26  floor_type            8445 non-null   object        \n",
      " 27  life2all              8445 non-null   float64       \n",
      " 28  kit2all               8445 non-null   float64       \n",
      "dtypes: bool(3), datetime64[ns](1), float64(16), int64(7), object(2)\n",
      "memory usage: 1.8+ MB\n"
     ]
    }
   ],
   "source": [
    "df_clear.info()"
   ]
  },
  {
   "cell_type": "markdown",
   "metadata": {},
   "source": [
    "**Important note:**\n",
    "\n",
    "The total size of the array was greatly reduced as the outliers were removed for each column in turn.\n",
    "This could cause outlier strings for one parameter to be normal for another."
   ]
  },
  {
   "cell_type": "markdown",
   "metadata": {},
   "source": [
    "### Factors most affecting the cost of an apartment"
   ]
  },
  {
   "cell_type": "markdown",
   "metadata": {},
   "source": [
    "We are invited to check the dependence of the price of the property on the following parameters:\n",
    "* number of rooms\n",
    "* floors\n",
    "* distance from the center\n",
    "\n",
    "Here it becomes clear that since we are talking about correlations and scatterplots, it was a very bad idea to encode the floor type in object."
   ]
  },
  {
   "cell_type": "code",
   "execution_count": 60,
   "metadata": {},
   "outputs": [],
   "source": [
    "def floor(row): \n",
    "    if row['floor'] == 1:\n",
    "        return 0\n",
    "    elif row['floor'] == row['floors_total']:\n",
    "        return 1\n",
    "    else:\n",
    "        return (-1)"
   ]
  },
  {
   "cell_type": "code",
   "execution_count": 61,
   "metadata": {},
   "outputs": [],
   "source": [
    "df_clear['floor_type'] = df_clear.apply(floor, axis=1)"
   ]
  },
  {
   "cell_type": "markdown",
   "metadata": {},
   "source": [
    "Based on our new data, we will plot a correlation matrix"
   ]
  },
  {
   "cell_type": "code",
   "execution_count": 62,
   "metadata": {},
   "outputs": [
    {
     "name": "stdout",
     "output_type": "stream",
     "text": [
      "                     last_price     rooms  floor_type  cityCenters_nearest\n",
      "last_price             1.000000  0.412205   -0.137474            -0.317443\n",
      "rooms                  0.412205  1.000000    0.064597            -0.037362\n",
      "floor_type            -0.137474  0.064597    1.000000             0.045724\n",
      "cityCenters_nearest   -0.317443 -0.037362    0.045724             1.000000\n"
     ]
    }
   ],
   "source": [
    "print(df_clear[['last_price','rooms','floor_type','cityCenters_nearest']].corr()) "
   ]
  },
  {
   "cell_type": "markdown",
   "metadata": {},
   "source": [
    "- We do not see any really strong relationships, although intuitively this is not so.\n",
    "- It is possible to single out only the dependence on the number of rooms and the dependence on the distance from the center.\n",
    "- Although, in my opinion, a strong correlation is something more than 70-80%"
   ]
  },
  {
   "cell_type": "code",
   "execution_count": 63,
   "metadata": {},
   "outputs": [
    {
     "data": {
      "image/png": "[encoded data removed]",
      "text/plain": [
       "<Figure size 864x864 with 16 Axes>"
      ]
     },
     "metadata": {
      "needs_background": "light"
     },
     "output_type": "display_data"
    }
   ],
   "source": [
    "pd.plotting.scatter_matrix(\n",
    "    df_clear[['last_price','rooms','floor_type','cityCenters_nearest']], \n",
    "    figsize=(12, 12)) \n",
    "plt.suptitle(\"Scatterplot matrix for de-outlier base\")\n",
    "plt.show()"
   ]
  },
  {
   "cell_type": "markdown",
   "metadata": {},
   "source": [
    "The scatterplot did not help either, you can try to build regular line graphs by grouped ones."
   ]
  },
  {
   "cell_type": "code",
   "execution_count": 64,
   "metadata": {},
   "outputs": [
    {
     "data": {
      "image/png": "[encoded data removed]",
      "text/plain": [
       "<Figure size 720x216 with 1 Axes>"
      ]
     },
     "metadata": {
      "needs_background": "light"
     },
     "output_type": "display_data"
    }
   ],
   "source": [
    "x_grp = df_clear.groupby('rooms').mean()['last_price'].to_frame()\n",
    "x_grp.reset_index(inplace = True)\n",
    "x_grp.plot(x = 'rooms', y = 'last_price', style='o-', xlim=(0, 7), grid=True, figsize=(10, 3))\n",
    "plt.title(\"Dependence of the average price on the number of rooms on the cleared base\")\n",
    "plt.show()"
   ]
  },
  {
   "cell_type": "markdown",
   "metadata": {},
   "source": [
    "* **As the number of rooms grows, the price goes up, seems quite obvious.**"
   ]
  },
  {
   "cell_type": "code",
   "execution_count": 67,
   "metadata": {},
   "outputs": [
    {
     "data": {
      "image/png": "[encoded data removed]",
      "text/plain": [
       "<Figure size 720x216 with 1 Axes>"
      ]
     },
     "metadata": {
      "needs_background": "light"
     },
     "output_type": "display_data"
    }
   ],
   "source": [
    "x_grp = df_clear.groupby('floor_type').mean()['last_price'].to_frame()\n",
    "x_grp.reset_index(inplace = True)\n",
    "x_grp.plot(x = 'floor_type', y = 'last_price', style='o-', xlim=(-1, 1), grid=True, figsize=(10, 3))\n",
    "plt.title(\"Dependence of the average price on the floor on the cleared base\")\n",
    "plt.show()"
   ]
  },
  {
   "cell_type": "markdown",
   "metadata": {},
   "source": [
    "* **lowest prices for apartments on the 1st floor (to be expected)**\n",
    "* **apartments on the top floors are also inferior in price to all other floors, if the housing stock is predominantly old (and we did the most greedy cleaning of emissions) this can also be believed**"
   ]
  },
  {
   "cell_type": "code",
   "execution_count": 66,
   "metadata": {},
   "outputs": [
    {
     "data": {
      "image/png": "[encoded data removed]",
      "text/plain": [
       "<Figure size 720x360 with 1 Axes>"
      ]
     },
     "metadata": {
      "needs_background": "light"
     },
     "output_type": "display_data"
    }
   ],
   "source": [
    "x_grp = df_clear.groupby('cityCenters_nearest').mean()['last_price'].to_frame()\n",
    "x_grp.reset_index(inplace = True)\n",
    "x_grp.plot(x = 'cityCenters_nearest', y = 'last_price', style='o', xlim=(0, 80000), grid=True, figsize=(10, 5))\n",
    "plt.title(\"Dependence of the average price of distance from the center\")\n",
    "plt.show()"
   ]
  },
  {
   "cell_type": "markdown",
   "metadata": {},
   "source": [
    "* **here it was not possible to build a beautiful line chart, although, of course, no one bothered to create a categorization of prices, so we see a swarm of points**\n",
    "* **but even in this, not the most ideal, form, it is clearly noticeable that the closer we are to 0 along the X axis, the more points can be in large Y values. Not all apartments closer to the center are expensive, but the closer we are to the center , the more expensive apartments there are.**"
   ]
  },
  {
   "cell_type": "markdown",
   "metadata": {},
   "source": [
    "And also from the date of placement:\n",
    "* year\n",
    "* month\n",
    "* day of the week "
   ]
  },
  {
   "cell_type": "markdown",
   "metadata": {},
   "source": [
    "Let's see the dependence of the price on the date of placement:"
   ]
  },
  {
   "cell_type": "code",
   "execution_count": 68,
   "metadata": {},
   "outputs": [
    {
     "name": "stdout",
     "output_type": "stream",
     "text": [
      "            last_price      year     month       day\n",
      "last_price    1.000000  0.011662  0.004879 -0.018664\n",
      "year          0.011662  1.000000 -0.251360 -0.003584\n",
      "month         0.004879 -0.251360  1.000000 -0.019345\n",
      "day          -0.018664 -0.003584 -0.019345  1.000000\n"
     ]
    }
   ],
   "source": [
    "print(df_clear[['last_price','year','month','day']].corr()) "
   ]
  },
  {
   "cell_type": "markdown",
   "metadata": {},
   "source": [
    "We immediately notice the dependence of the price on the year. Next, we will build line graphs, as in the previous paragraph."
   ]
  },
  {
   "cell_type": "code",
   "execution_count": 69,
   "metadata": {},
   "outputs": [
    {
     "data": {
      "image/png": "[encoded data removed]",
      "text/plain": [
       "<Figure size 720x216 with 1 Axes>"
      ]
     },
     "metadata": {
      "needs_background": "light"
     },
     "output_type": "display_data"
    }
   ],
   "source": [
    "x_grp = df_clear.groupby('year').mean()['last_price'].to_frame()\n",
    "x_grp.reset_index(inplace = True)\n",
    "x_grp.plot(x = 'year', y = 'last_price', style='o-', xlim=(2015, 2020), grid=True, figsize=(10, 3))\n",
    "plt.title(\"Dependence of the average price on the year of publication\")\n",
    "plt.show()"
   ]
  },
  {
   "cell_type": "markdown",
   "metadata": {},
   "source": [
    "* **we see a drawdown of 100 thousand rubles since 2016. in the average cost of the object**\n",
    "* **from 2019 growth to 4.9 million rubles per apartment**"
   ]
  },
  {
   "cell_type": "code",
   "execution_count": 70,
   "metadata": {},
   "outputs": [
    {
     "data": {
      "image/png": "[encoded data removed]",
      "text/plain": [
       "<Figure size 720x216 with 1 Axes>"
      ]
     },
     "metadata": {
      "needs_background": "light"
     },
     "output_type": "display_data"
    }
   ],
   "source": [
    "x_grp = df_clear.groupby('month').mean()['last_price'].to_frame()\n",
    "x_grp.reset_index(inplace = True)\n",
    "x_grp.plot(x = 'month', y = 'last_price', style='o-', xlim=(0, 12), grid=True, figsize=(10, 3))\n",
    "plt.title(\"Dependence of the average price on the month of publication\")\n",
    "plt.show()"
   ]
  },
  {
   "cell_type": "markdown",
   "metadata": {},
   "source": [
    "**General price trend depending on the month of publication:**\n",
    "\n",
    "* **the most expensive ads published in January and at the end of the year, it seems to me that this is a general market trend - to overprice before the new year**\n",
    "* **the rest of the time the price decreases almost monotonously until about October**\n",
    "* **something really weird with the price in March and June**"
   ]
  },
  {
   "cell_type": "code",
   "execution_count": 71,
   "metadata": {},
   "outputs": [
    {
     "data": {
      "image/png": "[encoded data removed]",
      "text/plain": [
       "<Figure size 720x216 with 1 Axes>"
      ]
     },
     "metadata": {
      "needs_background": "light"
     },
     "output_type": "display_data"
    }
   ],
   "source": [
    "x_grp = df_clear.groupby('day').mean()['last_price'].to_frame()\n",
    "x_grp.reset_index(inplace = True)\n",
    "x_grp.plot(x = 'day', y = 'last_price', style='o-', xlim=(0, 6), grid=True, figsize=(10, 3))\n",
    "plt.title(\"Dependence of the average price on the day of publication\")\n",
    "plt.show()"
   ]
  },
  {
   "cell_type": "markdown",
   "metadata": {},
   "source": [
    "- **Tuesday is the day of the most expensive apartments.**\n",
    "- **Probably, this day can be considered the most productive of the whole week. On weekends and on Mondays, few people think about buying property.**"
   ]
  },
  {
   "cell_type": "markdown",
   "metadata": {},
   "source": [
    "**Next calculation step:**\n",
    "* Select the 10 locations with the most ads\n",
    "* Next, you need to calculate the average price per square meter in these settlements.\n",
    "* Select the settlements with the highest and lowest cost of housing. This data can be found by name in the 'locality_name' column."
   ]
  },
  {
   "cell_type": "code",
   "execution_count": 72,
   "metadata": {},
   "outputs": [],
   "source": [
    "top10_price = pd.pivot_table(df_clear, values= 'price_sq_m', index = ['locality_name'],\n",
    "                    aggfunc = ['count','mean','max', 'min'])\n",
    "top10_price.reset_index(inplace = True)"
   ]
  },
  {
   "cell_type": "code",
   "execution_count": 73,
   "metadata": {},
   "outputs": [],
   "source": [
    "top10_price.columns = top10_price.columns.droplevel(1)"
   ]
  },
  {
   "cell_type": "markdown",
   "metadata": {},
   "source": [
    "**Top 10 by number of listings**"
   ]
  },
  {
   "cell_type": "code",
   "execution_count": 74,
   "metadata": {},
   "outputs": [
    {
     "data": {
      "text/html": [
       "<div>\n",
       "<style scoped>\n",
       "    .dataframe tbody tr th:only-of-type {\n",
       "        vertical-align: middle;\n",
       "    }\n",
       "\n",
       "    .dataframe tbody tr th {\n",
       "        vertical-align: top;\n",
       "    }\n",
       "\n",
       "    .dataframe thead th {\n",
       "        text-align: right;\n",
       "    }\n",
       "</style>\n",
       "<table border=\"1\" class=\"dataframe\">\n",
       "  <thead>\n",
       "    <tr style=\"text-align: right;\">\n",
       "      <th></th>\n",
       "      <th>locality_name</th>\n",
       "      <th>count</th>\n",
       "      <th>mean</th>\n",
       "      <th>max</th>\n",
       "      <th>min</th>\n",
       "    </tr>\n",
       "  </thead>\n",
       "  <tbody>\n",
       "    <tr>\n",
       "      <th>31</th>\n",
       "      <td>Санкт-Петербург</td>\n",
       "      <td>5644</td>\n",
       "      <td>103560.224259</td>\n",
       "      <td>237500.000000</td>\n",
       "      <td>24439.918534</td>\n",
       "    </tr>\n",
       "    <tr>\n",
       "      <th>2</th>\n",
       "      <td>Всеволожск</td>\n",
       "      <td>171</td>\n",
       "      <td>66002.823294</td>\n",
       "      <td>133333.333333</td>\n",
       "      <td>31400.000000</td>\n",
       "    </tr>\n",
       "    <tr>\n",
       "      <th>207</th>\n",
       "      <td>посёлок Шушары</td>\n",
       "      <td>160</td>\n",
       "      <td>78532.237525</td>\n",
       "      <td>134000.000000</td>\n",
       "      <td>54237.288136</td>\n",
       "    </tr>\n",
       "    <tr>\n",
       "      <th>12</th>\n",
       "      <td>Колпино</td>\n",
       "      <td>150</td>\n",
       "      <td>74427.020693</td>\n",
       "      <td>118694.362018</td>\n",
       "      <td>53333.333333</td>\n",
       "    </tr>\n",
       "    <tr>\n",
       "      <th>185</th>\n",
       "      <td>посёлок Мурино</td>\n",
       "      <td>147</td>\n",
       "      <td>87232.458381</td>\n",
       "      <td>138580.246914</td>\n",
       "      <td>53133.514986</td>\n",
       "    </tr>\n",
       "    <tr>\n",
       "      <th>30</th>\n",
       "      <td>Пушкин</td>\n",
       "      <td>134</td>\n",
       "      <td>97821.685922</td>\n",
       "      <td>159898.477157</td>\n",
       "      <td>59836.065574</td>\n",
       "    </tr>\n",
       "    <tr>\n",
       "      <th>188</th>\n",
       "      <td>посёлок Парголово</td>\n",
       "      <td>103</td>\n",
       "      <td>89823.449312</td>\n",
       "      <td>138522.427441</td>\n",
       "      <td>48543.689320</td>\n",
       "    </tr>\n",
       "    <tr>\n",
       "      <th>25</th>\n",
       "      <td>Петергоф</td>\n",
       "      <td>101</td>\n",
       "      <td>82562.532891</td>\n",
       "      <td>125673.249551</td>\n",
       "      <td>64024.390244</td>\n",
       "    </tr>\n",
       "    <tr>\n",
       "      <th>5</th>\n",
       "      <td>Гатчина</td>\n",
       "      <td>96</td>\n",
       "      <td>69156.258128</td>\n",
       "      <td>103076.923077</td>\n",
       "      <td>18103.448276</td>\n",
       "    </tr>\n",
       "    <tr>\n",
       "      <th>71</th>\n",
       "      <td>деревня Кудрово</td>\n",
       "      <td>84</td>\n",
       "      <td>91416.686957</td>\n",
       "      <td>125949.367089</td>\n",
       "      <td>54160.346696</td>\n",
       "    </tr>\n",
       "  </tbody>\n",
       "</table>\n",
       "</div>"
      ],
      "text/plain": [
       "         locality_name  count           mean            max           min\n",
       "31     Санкт-Петербург   5644  103560.224259  237500.000000  24439.918534\n",
       "2           Всеволожск    171   66002.823294  133333.333333  31400.000000\n",
       "207     посёлок Шушары    160   78532.237525  134000.000000  54237.288136\n",
       "12             Колпино    150   74427.020693  118694.362018  53333.333333\n",
       "185     посёлок Мурино    147   87232.458381  138580.246914  53133.514986\n",
       "30              Пушкин    134   97821.685922  159898.477157  59836.065574\n",
       "188  посёлок Парголово    103   89823.449312  138522.427441  48543.689320\n",
       "25            Петергоф    101   82562.532891  125673.249551  64024.390244\n",
       "5              Гатчина     96   69156.258128  103076.923077  18103.448276\n",
       "71     деревня Кудрово     84   91416.686957  125949.367089  54160.346696"
      ]
     },
     "execution_count": 74,
     "metadata": {},
     "output_type": "execute_result"
    }
   ],
   "source": [
    "top10_price.sort_values(by = 'count', ascending = False).head(10)"
   ]
  },
  {
   "cell_type": "markdown",
   "metadata": {},
   "source": [
    "**Select the settlements with the highest and lowest cost of housing**"
   ]
  },
  {
   "cell_type": "markdown",
   "metadata": {},
   "source": [
    "* In terms of price per 1 sq.m."
   ]
  },
  {
   "cell_type": "code",
   "execution_count": 75,
   "metadata": {},
   "outputs": [
    {
     "data": {
      "text/html": [
       "<div>\n",
       "<style scoped>\n",
       "    .dataframe tbody tr th:only-of-type {\n",
       "        vertical-align: middle;\n",
       "    }\n",
       "\n",
       "    .dataframe tbody tr th {\n",
       "        vertical-align: top;\n",
       "    }\n",
       "\n",
       "    .dataframe thead th {\n",
       "        text-align: right;\n",
       "    }\n",
       "</style>\n",
       "<table border=\"1\" class=\"dataframe\">\n",
       "  <thead>\n",
       "    <tr style=\"text-align: right;\">\n",
       "      <th></th>\n",
       "      <th>locality_name</th>\n",
       "      <th>count</th>\n",
       "      <th>mean</th>\n",
       "      <th>max</th>\n",
       "      <th>min</th>\n",
       "    </tr>\n",
       "  </thead>\n",
       "  <tbody>\n",
       "    <tr>\n",
       "      <th>31</th>\n",
       "      <td>Санкт-Петербург</td>\n",
       "      <td>5644</td>\n",
       "      <td>103560.224259</td>\n",
       "      <td>237500.0</td>\n",
       "      <td>24439.918534</td>\n",
       "    </tr>\n",
       "  </tbody>\n",
       "</table>\n",
       "</div>"
      ],
      "text/plain": [
       "      locality_name  count           mean       max           min\n",
       "31  Санкт-Петербург   5644  103560.224259  237500.0  24439.918534"
      ]
     },
     "execution_count": 75,
     "metadata": {},
     "output_type": "execute_result"
    }
   ],
   "source": [
    "top10_price.sort_values(by = 'max', ascending = False).head(1)"
   ]
  },
  {
   "cell_type": "code",
   "execution_count": 76,
   "metadata": {},
   "outputs": [
    {
     "data": {
      "text/html": [
       "<div>\n",
       "<style scoped>\n",
       "    .dataframe tbody tr th:only-of-type {\n",
       "        vertical-align: middle;\n",
       "    }\n",
       "\n",
       "    .dataframe tbody tr th {\n",
       "        vertical-align: top;\n",
       "    }\n",
       "\n",
       "    .dataframe thead th {\n",
       "        text-align: right;\n",
       "    }\n",
       "</style>\n",
       "<table border=\"1\" class=\"dataframe\">\n",
       "  <thead>\n",
       "    <tr style=\"text-align: right;\">\n",
       "      <th></th>\n",
       "      <th>locality_name</th>\n",
       "      <th>count</th>\n",
       "      <th>mean</th>\n",
       "      <th>max</th>\n",
       "      <th>min</th>\n",
       "    </tr>\n",
       "  </thead>\n",
       "  <tbody>\n",
       "    <tr>\n",
       "      <th>149</th>\n",
       "      <td>поселок Совхозный</td>\n",
       "      <td>1</td>\n",
       "      <td>12555.555556</td>\n",
       "      <td>12555.555556</td>\n",
       "      <td>12555.555556</td>\n",
       "    </tr>\n",
       "  </tbody>\n",
       "</table>\n",
       "</div>"
      ],
      "text/plain": [
       "         locality_name  count          mean           max           min\n",
       "149  поселок Совхозный      1  12555.555556  12555.555556  12555.555556"
      ]
     },
     "execution_count": 76,
     "metadata": {},
     "output_type": "execute_result"
    }
   ],
   "source": [
    "top10_price.sort_values(by = 'max', ascending = True).head(1)"
   ]
  },
  {
   "cell_type": "markdown",
   "metadata": {},
   "source": [
    "* In terms of total cost"
   ]
  },
  {
   "cell_type": "code",
   "execution_count": 77,
   "metadata": {},
   "outputs": [
    {
     "data": {
      "text/html": [
       "<div>\n",
       "<style scoped>\n",
       "    .dataframe tbody tr th:only-of-type {\n",
       "        vertical-align: middle;\n",
       "    }\n",
       "\n",
       "    .dataframe tbody tr th {\n",
       "        vertical-align: top;\n",
       "    }\n",
       "\n",
       "    .dataframe thead th {\n",
       "        text-align: right;\n",
       "    }\n",
       "</style>\n",
       "<table border=\"1\" class=\"dataframe\">\n",
       "  <thead>\n",
       "    <tr style=\"text-align: right;\">\n",
       "      <th></th>\n",
       "      <th>last_price</th>\n",
       "      <th>locality_name</th>\n",
       "    </tr>\n",
       "  </thead>\n",
       "  <tbody>\n",
       "    <tr>\n",
       "      <th>4405</th>\n",
       "      <td>500000.0</td>\n",
       "      <td>Сланцы</td>\n",
       "    </tr>\n",
       "  </tbody>\n",
       "</table>\n",
       "</div>"
      ],
      "text/plain": [
       "      last_price locality_name\n",
       "4405    500000.0        Сланцы"
      ]
     },
     "execution_count": 77,
     "metadata": {},
     "output_type": "execute_result"
    }
   ],
   "source": [
    "df_clear[df_clear['last_price']  == df_clear['last_price'].min()][['last_price','locality_name']]"
   ]
  },
  {
   "cell_type": "code",
   "execution_count": 78,
   "metadata": {},
   "outputs": [
    {
     "data": {
      "text/html": [
       "<div>\n",
       "<style scoped>\n",
       "    .dataframe tbody tr th:only-of-type {\n",
       "        vertical-align: middle;\n",
       "    }\n",
       "\n",
       "    .dataframe tbody tr th {\n",
       "        vertical-align: top;\n",
       "    }\n",
       "\n",
       "    .dataframe thead th {\n",
       "        text-align: right;\n",
       "    }\n",
       "</style>\n",
       "<table border=\"1\" class=\"dataframe\">\n",
       "  <thead>\n",
       "    <tr style=\"text-align: right;\">\n",
       "      <th></th>\n",
       "      <th>last_price</th>\n",
       "      <th>locality_name</th>\n",
       "    </tr>\n",
       "  </thead>\n",
       "  <tbody>\n",
       "    <tr>\n",
       "      <th>14376</th>\n",
       "      <td>10788000.0</td>\n",
       "      <td>Санкт-Петербург</td>\n",
       "    </tr>\n",
       "  </tbody>\n",
       "</table>\n",
       "</div>"
      ],
      "text/plain": [
       "       last_price    locality_name\n",
       "14376  10788000.0  Санкт-Петербург"
      ]
     },
     "execution_count": 78,
     "metadata": {},
     "output_type": "execute_result"
    }
   ],
   "source": [
    "df_clear[df_clear['last_price']  == df_clear['last_price'].max()][['last_price','locality_name']]"
   ]
  },
  {
   "cell_type": "markdown",
   "metadata": {},
   "source": [
    "* **St. Petersburg is the city with the most expensive apartments in our dataset, both by the price of the most expensive apartment and by the average cost per square meter**\n",
    "* **Most affordable housing**:\n",
    "     * **at the cost of the apartment - Slantsy (500 thousand rubles per apartment)**\n",
    "     * **price per sq.m. - Sovkhozny settlement (12.5 thousand rubles per sq. meter)**"
   ]
  },
  {
   "cell_type": "markdown",
   "metadata": {},
   "source": [
    "### Price and distance of the center in St. Petersburg\n",
    "\n",
    "**Procedure:**\n",
    "* create a column with the distance to the center in kilometers and round up to integer values\n",
    "* calculate the average price for each kilometer\n",
    "* build a graph: it should show how the price depends on the distance from the center\n",
    "* define the border where the graph changes a lot - this will be the central zone"
   ]
  },
  {
   "cell_type": "markdown",
   "metadata": {},
   "source": [
    "Create a column with the distance to the center in kilometers and round to integer values"
   ]
  },
  {
   "cell_type": "code",
   "execution_count": 79,
   "metadata": {},
   "outputs": [],
   "source": [
    "df_clear['km_to_centr'] = round(df_clear['cityCenters_nearest']/1000, 0)\n",
    "df_spb = df_clear[df_clear['locality_name'] == 'Санкт-Петербург']"
   ]
  },
  {
   "cell_type": "markdown",
   "metadata": {},
   "source": [
    "Calculate the average price for each kilometer"
   ]
  },
  {
   "cell_type": "code",
   "execution_count": 80,
   "metadata": {},
   "outputs": [],
   "source": [
    "sbp_price = pd.pivot_table(df_spb, values= ['last_price','price_sq_m'], index = 'km_to_centr',\n",
    "                    aggfunc = 'mean')\n",
    "sbp_price.reset_index(inplace = True)"
   ]
  },
  {
   "cell_type": "code",
   "execution_count": 81,
   "metadata": {},
   "outputs": [
    {
     "data": {
      "image/png": "[encoded data removed]",
      "text/plain": [
       "<Figure size 1080x216 with 2 Axes>"
      ]
     },
     "metadata": {
      "needs_background": "light"
     },
     "output_type": "display_data"
    }
   ],
   "source": [
    "sbp_price.plot(x = 'km_to_centr', y = ['last_price', 'price_sq_m'], style='o-', xlim=(0, 20), \n",
    "               grid=True, secondary_y = ['price_sq_m'], figsize=(15, 3))\n",
    "plt.axvline(2, color=\"red\", linestyle=\"--\")\n",
    "plt.axvline(5, color=\"green\", linestyle=\"--\")\n",
    "plt.title(\"Dependence of the average price on the distance from the center on the cleared base in St. Petersburg\")\n",
    "plt.show()"
   ]
  },
  {
   "cell_type": "markdown",
   "metadata": {},
   "source": [
    "* **constructed dependences of the average price of an apartment and the average cost per square meter on the distance to the center**\n",
    "* **it can be seen that the cost begins to gradually decrease at a distance of more than 1 km from the center, and at a distance of more than 2 km it decreases abruptly, which means that the most expensive and historical housing is located no further than this distance (the center is no more than 2 km)**"
   ]
  },
  {
   "cell_type": "markdown",
   "metadata": {},
   "source": [
    "### Real estate in the center of St. Petersburg\n",
    "**Procedure:**\n",
    "* select a segment of apartments in the center\n",
    "* analyze this territory and study the following parameters: area, price, number of rooms, ceiling height\n",
    "* also highlight the factors that affect the cost of the apartment (number of rooms, floor, distance from the center, date of placement of the ad)\n",
    "* Do patterns differ from general findings across the city"
   ]
  },
  {
   "cell_type": "code",
   "execution_count": 82,
   "metadata": {},
   "outputs": [],
   "source": [
    "df_spb_cntr = df_spb[df_spb['km_to_centr'] <= 5]"
   ]
  },
  {
   "cell_type": "code",
   "execution_count": 83,
   "metadata": {},
   "outputs": [],
   "source": [
    "def plt_grf_spb(param, text, data_1 = df_spb_cntr, data_2 = df_spb):\n",
    "    plt.figure(figsize=(14,4))\n",
    "    plt.hist(data_2[param], alpha = 0.5, label='All Spb')\n",
    "    plt.hist(data_1[param], alpha = 0.5, label='Center Spb')\n",
    "    plt.legend(loc='upper left')\n",
    "    plt.title(text)\n",
    "    plt.show()\n",
    "    print()"
   ]
  },
  {
   "cell_type": "code",
   "execution_count": 84,
   "metadata": {},
   "outputs": [],
   "source": [
    "dict_param = {'total_area': 'Distribution of ads by area (centre of St. Petersburg - St. Petersburg)',\n",
    "              'last_price': 'Distribution of ads by price (SPB center - SPB)',\n",
    "              'ceiling_height':'Distribution of ads by ceiling height (SPB center - SPB)'}"
   ]
  },
  {
   "cell_type": "code",
   "execution_count": 85,
   "metadata": {},
   "outputs": [
    {
     "data": {
      "image/png": "[encoded data removed]",
      "text/plain": [
       "<Figure size 1008x288 with 1 Axes>"
      ]
     },
     "metadata": {
      "needs_background": "light"
     },
     "output_type": "display_data"
    },
    {
     "name": "stdout",
     "output_type": "stream",
     "text": [
      "\n"
     ]
    },
    {
     "data": {
      "image/png": "[encoded data removed]",
      "text/plain": [
       "<Figure size 1008x288 with 1 Axes>"
      ]
     },
     "metadata": {
      "needs_background": "light"
     },
     "output_type": "display_data"
    },
    {
     "name": "stdout",
     "output_type": "stream",
     "text": [
      "\n"
     ]
    },
    {
     "data": {
      "image/png": "[encoded data removed]",
      "text/plain": [
       "<Figure size 1008x288 with 1 Axes>"
      ]
     },
     "metadata": {
      "needs_background": "light"
     },
     "output_type": "display_data"
    },
    {
     "name": "stdout",
     "output_type": "stream",
     "text": [
      "\n"
     ]
    }
   ],
   "source": [
    "for i in dict_param:\n",
    "    plt_grf_spb(i,dict_param.get(i))"
   ]
  },
  {
   "cell_type": "code",
   "execution_count": 86,
   "metadata": {},
   "outputs": [
    {
     "data": {
      "image/png": "[encoded data removed]",
      "text/plain": [
       "<Figure size 432x288 with 1 Axes>"
      ]
     },
     "metadata": {
      "needs_background": "light"
     },
     "output_type": "display_data"
    },
    {
     "data": {
      "image/png": "[encoded data removed]",
      "text/plain": [
       "<Figure size 432x288 with 1 Axes>"
      ]
     },
     "metadata": {
      "needs_background": "light"
     },
     "output_type": "display_data"
    }
   ],
   "source": [
    "df_spb_cntr['total_area'].hist(bins = 6)\n",
    "plt.title(\"Distribution of ads by area (center of St. Petersburg)\")\n",
    "plt.show()\n",
    "df_spb['total_area'].hist(bins = 6)\n",
    "plt.title(\"Distribution of ads by area (SPB)\")\n",
    "plt.show()"
   ]
  },
  {
   "cell_type": "code",
   "execution_count": 87,
   "metadata": {},
   "outputs": [
    {
     "name": "stdout",
     "output_type": "stream",
     "text": [
      "61.5\n",
      "48.2\n"
     ]
    }
   ],
   "source": [
    "print(df_spb_cntr['total_area'].median())\n",
    "print(df_spb['total_area'].median())"
   ]
  },
  {
   "cell_type": "markdown",
   "metadata": {},
   "source": [
    "* **There are more apartments in the center than in the whole city**"
   ]
  },
  {
   "cell_type": "code",
   "execution_count": 88,
   "metadata": {},
   "outputs": [
    {
     "data": {
      "image/png": "[encoded data removed]",
      "text/plain": [
       "<Figure size 432x288 with 1 Axes>"
      ]
     },
     "metadata": {
      "needs_background": "light"
     },
     "output_type": "display_data"
    },
    {
     "data": {
      "image/png": "[encoded data removed]",
      "text/plain": [
       "<Figure size 432x288 with 1 Axes>"
      ]
     },
     "metadata": {
      "needs_background": "light"
     },
     "output_type": "display_data"
    }
   ],
   "source": [
    "df_spb_cntr['last_price'].hist(bins = 6, range = (0, 10000000))\n",
    "plt.title(\"Distribution of ads by price (SPB center)\")\n",
    "plt.show()\n",
    "df_spb['last_price'].hist(bins = 6, range = (0, 10000000))\n",
    "plt.title(\"Distribution of ads by price (SPB)\")\n",
    "plt.show()"
   ]
  },
  {
   "cell_type": "code",
   "execution_count": 89,
   "metadata": {},
   "outputs": [
    {
     "name": "stdout",
     "output_type": "stream",
     "text": [
      "6900000.0\n",
      "4900000.0\n"
     ]
    }
   ],
   "source": [
    "print(df_spb_cntr['last_price'].median())\n",
    "print(df_spb['last_price'].median())"
   ]
  },
  {
   "cell_type": "markdown",
   "metadata": {},
   "source": [
    "* **In the center the average price for an apartment is higher**"
   ]
  },
  {
   "cell_type": "code",
   "execution_count": 90,
   "metadata": {},
   "outputs": [
    {
     "data": {
      "image/png": "[encoded data removed]",
      "text/plain": [
       "<Figure size 432x288 with 1 Axes>"
      ]
     },
     "metadata": {
      "needs_background": "light"
     },
     "output_type": "display_data"
    },
    {
     "data": {
      "image/png": "[encoded data removed]",
      "text/plain": [
       "<Figure size 432x288 with 1 Axes>"
      ]
     },
     "metadata": {
      "needs_background": "light"
     },
     "output_type": "display_data"
    }
   ],
   "source": [
    "df_spb_cntr['ceiling_height'].hist(bins = 4)\n",
    "plt.title(\"Distribution of ads by ceiling height (SPB center)\")\n",
    "plt.show()\n",
    "df_spb['ceiling_height'].hist(bins = 4)\n",
    "plt.title(\"Distribution of ads by ceiling height (SPB)\")\n",
    "plt.show()"
   ]
  },
  {
   "cell_type": "code",
   "execution_count": 91,
   "metadata": {},
   "outputs": [],
   "source": [
    "df_spb_cntr = df_spb[df_spb['km_to_centr'] <= 10]"
   ]
  },
  {
   "cell_type": "code",
   "execution_count": null,
   "metadata": {},
   "outputs": [],
   "source": [
    "plt.figure(figsize=(14,6))\n",
    "df_spb_cntr['total_area'].hist(bins = 25, alpha=0.5)\n",
    "df_spb['total_area'].hist(bins = 25, alpha=0.5,)\n",
    "plt.title(\"Распределение объявлений по площади (центр СПБ - СПБ)\")\n",
    "plt.show()"
   ]
  },
  {
   "cell_type": "code",
   "execution_count": 92,
   "metadata": {},
   "outputs": [
    {
     "data": {
      "image/png": "[encoded data removed]",
      "text/plain": [
       "<Figure size 1008x432 with 1 Axes>"
      ]
     },
     "metadata": {
      "needs_background": "light"
     },
     "output_type": "display_data"
    }
   ],
   "source": [
    "plt.figure(figsize=(14,6))\n",
    "plt.hist(df_spb['total_area'], bins=25, alpha = 0.5, label='All Spb')\n",
    "plt.hist(df_spb_cntr['total_area'], bins=25, alpha = 0.5, label='Center Spb')\n",
    "plt.legend(loc='upper left')\n",
    "plt.title(\"Distribution of ads by area (centre of St. Petersburg - St. Petersburg)\")\n",
    "plt.show()"
   ]
  },
  {
   "cell_type": "code",
   "execution_count": 93,
   "metadata": {},
   "outputs": [
    {
     "name": "stdout",
     "output_type": "stream",
     "text": [
      "2.7\n",
      "2.6\n"
     ]
    }
   ],
   "source": [
    "print(df_spb_cntr['ceiling_height'].median())\n",
    "print(df_spb['ceiling_height'].median())"
   ]
  },
  {
   "cell_type": "markdown",
   "metadata": {},
   "source": [
    "* **ceiling heights are also higher in the city center**\n",
    "* **based on the comparison of the indicated parameters, living in the center of St. Petersburg is very attractive**"
   ]
  },
  {
   "cell_type": "markdown",
   "metadata": {},
   "source": [
    "Now let's highlight the factors that affect the cost of an apartment (number of rooms, floor, distance from the center, date of placement of the ad) for an apartment in the center"
   ]
  },
  {
   "cell_type": "code",
   "execution_count": 94,
   "metadata": {},
   "outputs": [
    {
     "name": "stdout",
     "output_type": "stream",
     "text": [
      "                     last_price     rooms  floor_type  cityCenters_nearest\n",
      "last_price             1.000000  0.452543   -0.059932            -0.348192\n",
      "rooms                  0.452543  1.000000    0.105964            -0.190770\n",
      "floor_type            -0.059932  0.105964    1.000000            -0.142904\n",
      "cityCenters_nearest   -0.348192 -0.190770   -0.142904             1.000000\n"
     ]
    }
   ],
   "source": [
    "print(df_spb_cntr[['last_price','rooms','floor_type','cityCenters_nearest','first_day_exposition']].corr())"
   ]
  },
  {
   "cell_type": "markdown",
   "metadata": {},
   "source": [
    "It is immediately clear that the price strongly depends on the number of rooms. "
   ]
  },
  {
   "cell_type": "code",
   "execution_count": 95,
   "metadata": {},
   "outputs": [
    {
     "data": {
      "image/png": "[encoded data removed]",
      "text/plain": [
       "<Figure size 720x216 with 1 Axes>"
      ]
     },
     "metadata": {
      "needs_background": "light"
     },
     "output_type": "display_data"
    }
   ],
   "source": [
    "x_grp = df_spb_cntr.groupby('rooms').mean()['last_price'].to_frame()\n",
    "x_grp.reset_index(inplace = True)\n",
    "x_grp.plot(x = 'rooms', y = 'last_price', style='o-', xlim=(1, 5), grid=True, figsize=(10, 3))\n",
    "plt.title(\"Dependence of the price on the number of rooms for the center of St. Petersburg\")\n",
    "plt.show()"
   ]
  },
  {
   "cell_type": "markdown",
   "metadata": {},
   "source": [
    "* **more rooms - more price**"
   ]
  },
  {
   "cell_type": "code",
   "execution_count": 96,
   "metadata": {},
   "outputs": [
    {
     "data": {
      "image/png": "[encoded data removed]",
      "text/plain": [
       "<Figure size 720x216 with 1 Axes>"
      ]
     },
     "metadata": {
      "needs_background": "light"
     },
     "output_type": "display_data"
    }
   ],
   "source": [
    "x_grp = df_spb_cntr.groupby('floor_type').mean()['last_price'].to_frame()\n",
    "x_grp.reset_index(inplace = True)\n",
    "x_grp.plot(x = 'floor_type', y = 'last_price', style='o-', xlim=(-1, 1), grid=True, figsize=(10, 3))\n",
    "plt.title(\"Dependence of the price on the floor for the center of St. Petersburg\")\n",
    "plt.show()"
   ]
  },
  {
   "cell_type": "markdown",
   "metadata": {},
   "source": [
    "* **lowest prices for apartments on the 1st floor (to be expected)**\n",
    "* **apartments on the top floors are also inferior in price to all other floors, if the housing stock is predominantly old (and we did the most greedy cleaning of emissions) this can also be believed**"
   ]
  },
  {
   "cell_type": "code",
   "execution_count": 97,
   "metadata": {},
   "outputs": [
    {
     "data": {
      "image/png": "[encoded data removed]",
      "text/plain": [
       "<Figure size 720x216 with 1 Axes>"
      ]
     },
     "metadata": {
      "needs_background": "light"
     },
     "output_type": "display_data"
    }
   ],
   "source": [
    "x_grp = df_spb_cntr.groupby('km_to_centr').mean()['last_price'].to_frame()\n",
    "x_grp.reset_index(inplace = True)\n",
    "x_grp.plot(x = 'km_to_centr', y = 'last_price', style='o-', xlim=(0, 5), grid=True, figsize=(10, 3))\n",
    "plt.title(\"Dependence of price on distance from the center for the center of St. Petersburg\")\n",
    "plt.show()"
   ]
  },
  {
   "cell_type": "markdown",
   "metadata": {},
   "source": [
    "* **the most expensive apartments within a 1 km radius from the city center**"
   ]
  },
  {
   "cell_type": "markdown",
   "metadata": {},
   "source": [
    "Now let's see how the price depends on the date of placement of the ad"
   ]
  },
  {
   "cell_type": "code",
   "execution_count": 98,
   "metadata": {},
   "outputs": [
    {
     "data": {
      "image/png": "[encoded data removed]",
      "text/plain": [
       "<Figure size 720x216 with 1 Axes>"
      ]
     },
     "metadata": {
      "needs_background": "light"
     },
     "output_type": "display_data"
    }
   ],
   "source": [
    "x_grp = df_spb_cntr.groupby('year').mean()['last_price'].to_frame()\n",
    "x_grp.reset_index(inplace = True)\n",
    "x_grp.plot(x = 'year', y = 'last_price', style='o-', xlim=(2015, 2020), grid=True, figsize=(10, 3))\n",
    "plt.title(\"The dependence of the price on the year of publication for the center of St. Petersburg\")\n",
    "plt.show()"
   ]
  },
  {
   "cell_type": "markdown",
   "metadata": {},
   "source": [
    "* **Unlike the entire data set, there are no strong drawdowns in the price for 2016-2018, the price of real estate in the center is less dependent on external crisis factors**\n",
    "* **from 2019 growth to 9 million rubles per apartment**"
   ]
  },
  {
   "cell_type": "code",
   "execution_count": null,
   "metadata": {},
   "outputs": [],
   "source": [
    "x_grp = df_spb_cntr.groupby('month').mean()['last_price'].to_frame()\n",
    "x_grp.reset_index(inplace = True)\n",
    "x_grp.plot(x = 'month', y = 'last_price', style='o-', xlim=(1, 12), grid=True, figsize=(10, 3))\n",
    "plt.title(\"Зависимость цены от месяца публикации для центра СПБ\")\n",
    "plt.show()"
   ]
  },
  {
   "cell_type": "markdown",
   "metadata": {},
   "source": [
    "**General price trend depending on the month of publication:**\n",
    "* here the trends also differ from the general ones throughout the dataset\n",
    "* price peak when published at the beginning of the year, as well as in the middle of summer"
   ]
  },
  {
   "cell_type": "code",
   "execution_count": null,
   "metadata": {},
   "outputs": [],
   "source": [
    "x_grp = df_spb_cntr.groupby('day').mean()['last_price'].to_frame()\n",
    "x_grp.reset_index(inplace = True)\n",
    "x_grp.plot(x = 'day', y = 'last_price', style='o-', xlim=(0, 6), grid=True, figsize=(10, 3))\n",
    "plt.show()"
   ]
  },
  {
   "cell_type": "markdown",
   "metadata": {},
   "source": [
    "* Most expensive posts - Monday\n",
    "* Further, the price practically does not change depending on the day of publication\n",
    "* On Saturday, there is a dip in value - obviously there are fewer publications on this day and they are less interesting, the first day off after Friday is not the best day to sell real estate"
   ]
  },
  {
   "cell_type": "markdown",
   "metadata": {},
   "source": [
    "### Conclusion"
   ]
  },
  {
   "cell_type": "markdown",
   "metadata": {},
   "source": [
    "* In this chapter, dependency studies were carried out for the entire real estate market as a whole according to our data set, as well as for St. Petersburg with and without a division into the central part of the city.\n",
    "* The initial data set was cleared of extreme values ​​that are outside the boundaries of the interquartile ranges\n",
    "* Based on the dynamics of real estate prices, the historical center of the city was determined (the radius where the average price is maximum)\n",
    "* Dependences of the price on the area, number of rooms, ceiling height, floor, distance from the center and the day of publication of the announcement were considered (separately for St. Petersburg and for the entire data set)\n",
    "    * all dependencies except dates have similar behavior\n",
    "* It was found that such parameters as price, total area and ceiling height in the city center are higher than in the whole of St. Petersburg"
   ]
  },
  {
   "cell_type": "markdown",
   "metadata": {},
   "source": [
    "## General conclusion"
   ]
  },
  {
   "cell_type": "markdown",
   "metadata": {},
   "source": [
    "In this study, we analyzed ads for the sale of real estate in St. Petersburg and neighboring regions.\n",
    "The study consisted of 4 logical steps:\n",
    "  * review data\n",
    "  * data preprocessing (the stage included working with gaps and changing the types of variables)\n",
    "  * calculation of additional parameters\n",
    "  * direct research part\n",
    " \n",
    "As part of the study, it was possible to establish a direct dependence of the price of a property on the following parameters:\n",
    "  * distance from city center\n",
    "  * total area\n",
    "  * number of rooms\n",
    "  * ceiling height\n",
    " \n",
    "PS It was also found that apartments on the first and top floors are generally cheaper than apartments located on other floors.\n",
    " \n",
    "The dependence of the price of the object on the date of publication of the announcement was studied.\n",
    " \n",
    "For the local market of St. Petersburg, a historical center was identified and a comparative analysis of real estate objects for the center and the city as a whole was carried out.\n",
    "According to the main parameters, housing in the center looks more attractive than a typical apartment outside the city center, but the price for such real estate is much higher."
   ]
  }
 ],
 "metadata": {
  "ExecuteTimeLog": [
   {
    "duration": 769,
    "start_time": "2021-06-26T20:41:03.267Z"
   },
   {
    "duration": 76,
    "start_time": "2021-06-26T20:41:58.389Z"
   },
   {
    "duration": 20,
    "start_time": "2021-06-26T20:42:31.748Z"
   },
   {
    "duration": 85,
    "start_time": "2021-06-26T20:42:49.299Z"
   },
   {
    "duration": 36,
    "start_time": "2021-06-26T20:42:50.271Z"
   },
   {
    "duration": 16,
    "start_time": "2021-06-26T20:44:05.415Z"
   },
   {
    "duration": 106,
    "start_time": "2021-06-26T20:46:10.617Z"
   },
   {
    "duration": 40,
    "start_time": "2021-06-26T20:51:55.295Z"
   },
   {
    "duration": 115,
    "start_time": "2021-06-26T20:52:21.630Z"
   },
   {
    "duration": 110,
    "start_time": "2021-06-26T20:53:50.391Z"
   },
   {
    "duration": 333,
    "start_time": "2021-06-28T08:59:39.058Z"
   },
   {
    "duration": 794,
    "start_time": "2021-06-28T08:59:43.779Z"
   },
   {
    "duration": 96,
    "start_time": "2021-06-28T08:59:44.575Z"
   },
   {
    "duration": -9,
    "start_time": "2021-06-28T08:59:44.683Z"
   },
   {
    "duration": -17,
    "start_time": "2021-06-28T08:59:44.692Z"
   },
   {
    "duration": 367,
    "start_time": "2021-06-28T08:59:45.198Z"
   },
   {
    "duration": 299,
    "start_time": "2021-06-28T08:59:46.508Z"
   },
   {
    "duration": 87,
    "start_time": "2021-06-28T08:59:57.454Z"
   },
   {
    "duration": 48,
    "start_time": "2021-06-28T08:59:57.823Z"
   },
   {
    "duration": 17,
    "start_time": "2021-06-28T08:59:58.170Z"
   },
   {
    "duration": 40,
    "start_time": "2021-06-28T08:59:59.347Z"
   },
   {
    "duration": 385,
    "start_time": "2021-06-28T09:00:01.912Z"
   },
   {
    "duration": 9,
    "start_time": "2021-06-28T09:00:07.228Z"
   },
   {
    "duration": 83,
    "start_time": "2021-06-28T09:01:28.761Z"
   },
   {
    "duration": 7,
    "start_time": "2021-06-28T09:01:31.656Z"
   },
   {
    "duration": 125,
    "start_time": "2021-06-28T09:02:34.940Z"
   },
   {
    "duration": 8,
    "start_time": "2021-06-28T09:02:49.969Z"
   },
   {
    "duration": 10,
    "start_time": "2021-06-28T09:03:29.658Z"
   },
   {
    "duration": 7,
    "start_time": "2021-06-28T09:03:38.651Z"
   },
   {
    "duration": 9,
    "start_time": "2021-06-28T09:04:07.668Z"
   },
   {
    "duration": 250,
    "start_time": "2021-06-28T09:05:04.646Z"
   },
   {
    "duration": 34,
    "start_time": "2021-06-28T09:26:51.891Z"
   },
   {
    "duration": 276,
    "start_time": "2021-06-28T09:27:10.663Z"
   },
   {
    "duration": 284,
    "start_time": "2021-06-28T09:27:15.022Z"
   },
   {
    "duration": 7,
    "start_time": "2021-06-28T09:28:31.477Z"
   },
   {
    "duration": 232,
    "start_time": "2021-06-28T09:28:35.270Z"
   },
   {
    "duration": 6,
    "start_time": "2021-06-28T09:28:39.056Z"
   },
   {
    "duration": 31,
    "start_time": "2021-06-28T09:28:45.358Z"
   },
   {
    "duration": 285,
    "start_time": "2021-06-28T09:29:02.235Z"
   },
   {
    "duration": 328,
    "start_time": "2021-06-28T09:29:15.871Z"
   },
   {
    "duration": 23,
    "start_time": "2021-06-28T09:29:27.343Z"
   },
   {
    "duration": 20,
    "start_time": "2021-06-28T09:30:30.824Z"
   },
   {
    "duration": 708,
    "start_time": "2021-06-28T09:52:25.338Z"
   },
   {
    "duration": 514,
    "start_time": "2021-06-28T09:52:29.877Z"
   },
   {
    "duration": 819,
    "start_time": "2021-06-28T09:52:50.458Z"
   },
   {
    "duration": 49,
    "start_time": "2021-06-28T09:53:19.875Z"
   },
   {
    "duration": 4,
    "start_time": "2021-06-28T10:25:44.943Z"
   },
   {
    "duration": 4,
    "start_time": "2021-06-28T10:28:15.769Z"
   },
   {
    "duration": 3,
    "start_time": "2021-06-28T11:24:36.616Z"
   },
   {
    "duration": 102,
    "start_time": "2021-06-28T11:27:31.983Z"
   },
   {
    "duration": 8,
    "start_time": "2021-06-28T11:28:00.401Z"
   },
   {
    "duration": 57,
    "start_time": "2021-06-28T11:28:09.296Z"
   },
   {
    "duration": 58,
    "start_time": "2021-06-28T11:28:16.634Z"
   },
   {
    "duration": 38,
    "start_time": "2021-06-28T11:28:54.386Z"
   },
   {
    "duration": 9,
    "start_time": "2021-06-28T11:32:29.604Z"
   },
   {
    "duration": 3,
    "start_time": "2021-06-28T11:39:08.387Z"
   },
   {
    "duration": 66,
    "start_time": "2021-06-28T11:41:15.309Z"
   },
   {
    "duration": 9,
    "start_time": "2021-06-28T11:41:22.158Z"
   },
   {
    "duration": 11,
    "start_time": "2021-06-28T11:43:03.947Z"
   },
   {
    "duration": 13,
    "start_time": "2021-06-28T11:44:26.260Z"
   },
   {
    "duration": 16,
    "start_time": "2021-06-28T12:52:29.794Z"
   },
   {
    "duration": 415,
    "start_time": "2021-06-28T12:52:59.149Z"
   },
   {
    "duration": 17,
    "start_time": "2021-06-28T12:53:05.154Z"
   },
   {
    "duration": 268,
    "start_time": "2021-06-28T12:56:23.270Z"
   },
   {
    "duration": 29,
    "start_time": "2021-06-28T12:56:38.306Z"
   },
   {
    "duration": 28,
    "start_time": "2021-06-28T12:56:51.974Z"
   },
   {
    "duration": 742,
    "start_time": "2021-06-28T16:01:09.701Z"
   },
   {
    "duration": 93,
    "start_time": "2021-06-28T16:01:10.446Z"
   },
   {
    "duration": 52,
    "start_time": "2021-06-28T16:01:10.542Z"
   },
   {
    "duration": 17,
    "start_time": "2021-06-28T16:01:10.651Z"
   },
   {
    "duration": 39,
    "start_time": "2021-06-28T16:01:11.473Z"
   },
   {
    "duration": 7,
    "start_time": "2021-06-28T16:01:12.118Z"
   },
   {
    "duration": 8,
    "start_time": "2021-06-28T16:01:12.451Z"
   },
   {
    "duration": 22,
    "start_time": "2021-06-28T16:01:12.579Z"
   },
   {
    "duration": 7,
    "start_time": "2021-06-28T16:01:12.907Z"
   },
   {
    "duration": 113,
    "start_time": "2021-06-28T16:01:13.500Z"
   },
   {
    "duration": -23,
    "start_time": "2021-06-28T16:01:13.638Z"
   },
   {
    "duration": 4,
    "start_time": "2021-06-28T16:01:15.721Z"
   },
   {
    "duration": 16,
    "start_time": "2021-06-28T16:01:15.894Z"
   },
   {
    "duration": 21,
    "start_time": "2021-06-28T16:02:50.507Z"
   },
   {
    "duration": 98,
    "start_time": "2021-06-28T16:05:33.124Z"
   },
   {
    "duration": 16,
    "start_time": "2021-06-28T16:05:37.793Z"
   },
   {
    "duration": 8811,
    "start_time": "2021-06-28T16:06:36.187Z"
   },
   {
    "duration": 22,
    "start_time": "2021-06-28T16:07:03.413Z"
   },
   {
    "duration": 8,
    "start_time": "2021-06-28T16:07:40.664Z"
   },
   {
    "duration": 11,
    "start_time": "2021-06-28T16:08:00.844Z"
   },
   {
    "duration": 12,
    "start_time": "2021-06-28T16:08:37.526Z"
   },
   {
    "duration": 12,
    "start_time": "2021-06-28T16:08:53.411Z"
   },
   {
    "duration": 12,
    "start_time": "2021-06-28T16:08:54.491Z"
   },
   {
    "duration": 22,
    "start_time": "2021-06-28T16:11:17.488Z"
   },
   {
    "duration": 56,
    "start_time": "2021-06-28T16:12:04.265Z"
   },
   {
    "duration": 57,
    "start_time": "2021-06-28T16:12:32.106Z"
   },
   {
    "duration": 56,
    "start_time": "2021-06-28T16:12:44.690Z"
   },
   {
    "duration": 6,
    "start_time": "2021-06-28T16:18:58.866Z"
   },
   {
    "duration": 14,
    "start_time": "2021-06-28T16:19:03.477Z"
   },
   {
    "duration": 4,
    "start_time": "2021-06-28T16:19:29.682Z"
   },
   {
    "duration": 83,
    "start_time": "2021-06-28T16:19:29.979Z"
   },
   {
    "duration": 36,
    "start_time": "2021-06-28T16:19:30.576Z"
   },
   {
    "duration": 15,
    "start_time": "2021-06-28T16:19:30.880Z"
   },
   {
    "duration": 39,
    "start_time": "2021-06-28T16:19:31.679Z"
   },
   {
    "duration": 7,
    "start_time": "2021-06-28T16:19:32.422Z"
   },
   {
    "duration": 7,
    "start_time": "2021-06-28T16:19:32.660Z"
   },
   {
    "duration": 12,
    "start_time": "2021-06-28T16:19:32.828Z"
   },
   {
    "duration": 7,
    "start_time": "2021-06-28T16:19:33.522Z"
   },
   {
    "duration": 13,
    "start_time": "2021-06-28T16:19:38.056Z"
   },
   {
    "duration": 7,
    "start_time": "2021-06-28T16:19:38.389Z"
   },
   {
    "duration": 113,
    "start_time": "2021-06-28T16:19:40.156Z"
   },
   {
    "duration": 4,
    "start_time": "2021-06-28T16:19:47.384Z"
   },
   {
    "duration": 15,
    "start_time": "2021-06-28T16:19:48.279Z"
   },
   {
    "duration": 7,
    "start_time": "2021-06-28T16:20:00.998Z"
   },
   {
    "duration": 11,
    "start_time": "2021-06-28T16:20:01.940Z"
   },
   {
    "duration": 16,
    "start_time": "2021-06-28T16:20:20.154Z"
   },
   {
    "duration": 324,
    "start_time": "2021-06-28T16:21:18.624Z"
   },
   {
    "duration": 335,
    "start_time": "2021-06-28T16:21:27.766Z"
   },
   {
    "duration": 5,
    "start_time": "2021-06-28T16:22:36.076Z"
   },
   {
    "duration": 4,
    "start_time": "2021-06-28T16:23:19.994Z"
   },
   {
    "duration": 11,
    "start_time": "2021-06-28T16:23:21.013Z"
   },
   {
    "duration": 5,
    "start_time": "2021-06-28T16:23:37.138Z"
   },
   {
    "duration": 5,
    "start_time": "2021-06-28T16:24:11.108Z"
   },
   {
    "duration": 10,
    "start_time": "2021-06-28T16:24:11.843Z"
   },
   {
    "duration": 5,
    "start_time": "2021-06-28T16:24:12.787Z"
   },
   {
    "duration": 7,
    "start_time": "2021-06-28T16:24:34.416Z"
   },
   {
    "duration": 11,
    "start_time": "2021-06-28T16:24:34.857Z"
   },
   {
    "duration": 6,
    "start_time": "2021-06-28T16:24:42.344Z"
   },
   {
    "duration": 3,
    "start_time": "2021-06-28T16:24:48.090Z"
   },
   {
    "duration": 82,
    "start_time": "2021-06-28T16:24:48.440Z"
   },
   {
    "duration": 38,
    "start_time": "2021-06-28T16:24:48.758Z"
   },
   {
    "duration": 23,
    "start_time": "2021-06-28T16:24:49.096Z"
   },
   {
    "duration": 52,
    "start_time": "2021-06-28T16:24:49.744Z"
   },
   {
    "duration": 10,
    "start_time": "2021-06-28T16:24:50.357Z"
   },
   {
    "duration": 9,
    "start_time": "2021-06-28T16:24:50.668Z"
   },
   {
    "duration": 12,
    "start_time": "2021-06-28T16:24:50.822Z"
   },
   {
    "duration": 7,
    "start_time": "2021-06-28T16:24:51.194Z"
   },
   {
    "duration": 103,
    "start_time": "2021-06-28T16:24:51.733Z"
   },
   {
    "duration": 4,
    "start_time": "2021-06-28T16:24:55.500Z"
   },
   {
    "duration": 15,
    "start_time": "2021-06-28T16:24:56.173Z"
   },
   {
    "duration": 8,
    "start_time": "2021-06-28T16:24:58.668Z"
   },
   {
    "duration": 11,
    "start_time": "2021-06-28T16:24:58.822Z"
   },
   {
    "duration": 6,
    "start_time": "2021-06-28T16:24:58.972Z"
   },
   {
    "duration": 7,
    "start_time": "2021-06-28T16:25:00.152Z"
   },
   {
    "duration": 11,
    "start_time": "2021-06-28T16:25:00.375Z"
   },
   {
    "duration": 5,
    "start_time": "2021-06-28T16:25:05.312Z"
   },
   {
    "duration": 3,
    "start_time": "2021-06-28T16:25:38.982Z"
   },
   {
    "duration": 3,
    "start_time": "2021-06-28T16:29:06.172Z"
   },
   {
    "duration": 15,
    "start_time": "2021-06-28T16:29:07.433Z"
   },
   {
    "duration": 764,
    "start_time": "2021-06-28T19:09:23.896Z"
   },
   {
    "duration": 87,
    "start_time": "2021-06-28T19:09:24.753Z"
   },
   {
    "duration": 47,
    "start_time": "2021-06-28T19:09:25.314Z"
   },
   {
    "duration": 16,
    "start_time": "2021-06-28T19:09:25.668Z"
   },
   {
    "duration": 39,
    "start_time": "2021-06-28T19:09:26.495Z"
   },
   {
    "duration": 9,
    "start_time": "2021-06-28T19:09:27.190Z"
   },
   {
    "duration": 8,
    "start_time": "2021-06-28T19:09:27.525Z"
   },
   {
    "duration": 12,
    "start_time": "2021-06-28T19:09:27.691Z"
   },
   {
    "duration": 6,
    "start_time": "2021-06-28T19:09:28.012Z"
   },
   {
    "duration": 124,
    "start_time": "2021-06-28T19:09:28.698Z"
   },
   {
    "duration": 4,
    "start_time": "2021-06-28T19:09:31.076Z"
   },
   {
    "duration": 17,
    "start_time": "2021-06-28T19:09:32.066Z"
   },
   {
    "duration": 7,
    "start_time": "2021-06-28T19:09:35.236Z"
   },
   {
    "duration": 11,
    "start_time": "2021-06-28T19:09:35.406Z"
   },
   {
    "duration": 5,
    "start_time": "2021-06-28T19:09:35.561Z"
   },
   {
    "duration": 7,
    "start_time": "2021-06-28T19:09:36.031Z"
   },
   {
    "duration": 11,
    "start_time": "2021-06-28T19:09:36.194Z"
   },
   {
    "duration": 6,
    "start_time": "2021-06-28T19:09:36.345Z"
   },
   {
    "duration": 363,
    "start_time": "2021-06-28T19:13:27.609Z"
   },
   {
    "duration": 4,
    "start_time": "2021-06-28T19:13:36.658Z"
   },
   {
    "duration": 17,
    "start_time": "2021-06-28T19:13:37.366Z"
   },
   {
    "duration": 20,
    "start_time": "2021-06-28T19:13:37.728Z"
   },
   {
    "duration": 9,
    "start_time": "2021-06-28T19:17:17.317Z"
   },
   {
    "duration": 8,
    "start_time": "2021-06-28T19:17:26.036Z"
   },
   {
    "duration": 10,
    "start_time": "2021-06-28T19:17:30.492Z"
   },
   {
    "duration": 10,
    "start_time": "2021-06-28T19:17:49.455Z"
   },
   {
    "duration": 9,
    "start_time": "2021-06-28T19:17:55.401Z"
   },
   {
    "duration": 307,
    "start_time": "2021-06-28T19:18:21.709Z"
   },
   {
    "duration": 9,
    "start_time": "2021-06-28T19:18:29.876Z"
   },
   {
    "duration": 13,
    "start_time": "2021-06-28T19:18:36.493Z"
   },
   {
    "duration": 53,
    "start_time": "2021-06-28T19:21:10.052Z"
   },
   {
    "duration": 39,
    "start_time": "2021-06-28T19:21:56.596Z"
   },
   {
    "duration": 14,
    "start_time": "2021-06-28T19:22:02.138Z"
   },
   {
    "duration": 12,
    "start_time": "2021-06-28T19:22:23.102Z"
   },
   {
    "duration": 9,
    "start_time": "2021-06-28T19:22:37.092Z"
   },
   {
    "duration": 10,
    "start_time": "2021-06-28T19:23:01.635Z"
   },
   {
    "duration": 9,
    "start_time": "2021-06-28T19:23:24.266Z"
   },
   {
    "duration": 10,
    "start_time": "2021-06-28T19:23:38.039Z"
   },
   {
    "duration": 10,
    "start_time": "2021-06-28T19:23:48.514Z"
   },
   {
    "duration": 11,
    "start_time": "2021-06-28T19:24:01.421Z"
   },
   {
    "duration": 289,
    "start_time": "2021-06-28T19:29:25.010Z"
   },
   {
    "duration": 278,
    "start_time": "2021-06-28T19:29:44.278Z"
   },
   {
    "duration": 384,
    "start_time": "2021-06-28T19:31:23.339Z"
   },
   {
    "duration": 278,
    "start_time": "2021-06-28T19:34:23.797Z"
   },
   {
    "duration": 4,
    "start_time": "2021-06-28T19:37:10.650Z"
   },
   {
    "duration": 87,
    "start_time": "2021-06-28T19:39:17.685Z"
   },
   {
    "duration": 471,
    "start_time": "2021-06-28T19:39:24.535Z"
   },
   {
    "duration": 474,
    "start_time": "2021-06-28T19:40:27.045Z"
   },
   {
    "duration": 449,
    "start_time": "2021-06-28T19:41:16.209Z"
   },
   {
    "duration": 468,
    "start_time": "2021-06-28T19:41:39.762Z"
   },
   {
    "duration": 500,
    "start_time": "2021-06-28T19:42:17.483Z"
   },
   {
    "duration": 454,
    "start_time": "2021-06-28T19:43:14.349Z"
   },
   {
    "duration": 495,
    "start_time": "2021-06-28T19:43:27.804Z"
   },
   {
    "duration": 466,
    "start_time": "2021-06-28T19:43:39.207Z"
   },
   {
    "duration": 478,
    "start_time": "2021-06-28T19:46:19.744Z"
   },
   {
    "duration": 10,
    "start_time": "2021-06-28T19:47:26.216Z"
   },
   {
    "duration": 80,
    "start_time": "2021-06-28T19:47:53.878Z"
   },
   {
    "duration": 97,
    "start_time": "2021-06-28T19:48:00.340Z"
   },
   {
    "duration": 8,
    "start_time": "2021-06-28T19:48:05.559Z"
   },
   {
    "duration": 96,
    "start_time": "2021-06-28T19:48:16.326Z"
   },
   {
    "duration": 7,
    "start_time": "2021-06-28T19:48:43.906Z"
   },
   {
    "duration": 12,
    "start_time": "2021-06-28T19:48:53.150Z"
   },
   {
    "duration": 8,
    "start_time": "2021-06-28T19:49:29.574Z"
   },
   {
    "duration": 12,
    "start_time": "2021-06-28T19:49:30.659Z"
   },
   {
    "duration": 10,
    "start_time": "2021-06-28T19:50:41.508Z"
   },
   {
    "duration": 8,
    "start_time": "2021-06-28T19:50:48.241Z"
   },
   {
    "duration": 13,
    "start_time": "2021-06-28T19:50:56.365Z"
   },
   {
    "duration": 57,
    "start_time": "2021-06-28T19:51:32.919Z"
   },
   {
    "duration": 8457,
    "start_time": "2021-06-28T19:51:52.619Z"
   },
   {
    "duration": 7165,
    "start_time": "2021-06-28T19:52:04.509Z"
   },
   {
    "duration": 58,
    "start_time": "2021-06-28T19:52:20.610Z"
   },
   {
    "duration": 6872,
    "start_time": "2021-06-28T19:54:17.820Z"
   },
   {
    "duration": 14,
    "start_time": "2021-06-28T19:55:27.302Z"
   },
   {
    "duration": 37,
    "start_time": "2021-06-28T19:55:46.848Z"
   },
   {
    "duration": 7451,
    "start_time": "2021-06-28T19:56:29.706Z"
   },
   {
    "duration": 288,
    "start_time": "2021-06-28T19:56:53.349Z"
   },
   {
    "duration": 277,
    "start_time": "2021-06-28T19:57:17.096Z"
   },
   {
    "duration": 59,
    "start_time": "2021-06-28T19:57:22.575Z"
   },
   {
    "duration": 19,
    "start_time": "2021-06-28T19:57:31.387Z"
   },
   {
    "duration": 20,
    "start_time": "2021-06-28T19:57:39.168Z"
   },
   {
    "duration": 91,
    "start_time": "2021-06-28T19:58:05.613Z"
   },
   {
    "duration": 79,
    "start_time": "2021-06-28T19:59:57.541Z"
   },
   {
    "duration": 62,
    "start_time": "2021-06-28T20:00:27.477Z"
   },
   {
    "duration": 15,
    "start_time": "2021-06-28T20:01:01.670Z"
   },
   {
    "duration": 65,
    "start_time": "2021-06-28T20:01:12.100Z"
   },
   {
    "duration": 19,
    "start_time": "2021-06-28T20:03:36.751Z"
   },
   {
    "duration": 272,
    "start_time": "2021-06-28T20:03:43.810Z"
   },
   {
    "duration": 289,
    "start_time": "2021-06-28T20:03:49.592Z"
   },
   {
    "duration": 282,
    "start_time": "2021-06-28T20:04:06.390Z"
   },
   {
    "duration": 11,
    "start_time": "2021-06-28T20:04:16.498Z"
   },
   {
    "duration": 6,
    "start_time": "2021-06-28T20:06:16.784Z"
   },
   {
    "duration": 11,
    "start_time": "2021-06-28T20:06:52.122Z"
   },
   {
    "duration": 18,
    "start_time": "2021-06-28T20:08:59.307Z"
   },
   {
    "duration": 101,
    "start_time": "2021-06-28T20:09:28.747Z"
   },
   {
    "duration": 21,
    "start_time": "2021-06-28T20:09:38.306Z"
   },
   {
    "duration": 10,
    "start_time": "2021-06-28T20:10:02.826Z"
   },
   {
    "duration": 10,
    "start_time": "2021-06-28T20:47:27.827Z"
   },
   {
    "duration": 9,
    "start_time": "2021-06-28T20:51:53.974Z"
   },
   {
    "duration": 16,
    "start_time": "2021-06-28T20:52:01.813Z"
   },
   {
    "duration": 4,
    "start_time": "2021-06-28T20:52:18.106Z"
   },
   {
    "duration": 81,
    "start_time": "2021-06-28T20:52:18.412Z"
   },
   {
    "duration": 34,
    "start_time": "2021-06-28T20:52:18.859Z"
   },
   {
    "duration": 16,
    "start_time": "2021-06-28T20:52:19.141Z"
   },
   {
    "duration": 37,
    "start_time": "2021-06-28T20:52:19.907Z"
   },
   {
    "duration": 8,
    "start_time": "2021-06-28T20:52:20.525Z"
   },
   {
    "duration": 7,
    "start_time": "2021-06-28T20:52:20.840Z"
   },
   {
    "duration": 13,
    "start_time": "2021-06-28T20:52:20.996Z"
   },
   {
    "duration": 7,
    "start_time": "2021-06-28T20:52:21.334Z"
   },
   {
    "duration": 100,
    "start_time": "2021-06-28T20:52:22.020Z"
   },
   {
    "duration": 3,
    "start_time": "2021-06-28T20:52:24.217Z"
   },
   {
    "duration": 17,
    "start_time": "2021-06-28T20:52:24.568Z"
   },
   {
    "duration": 8,
    "start_time": "2021-06-28T20:52:24.928Z"
   },
   {
    "duration": 12,
    "start_time": "2021-06-28T20:52:25.127Z"
   },
   {
    "duration": 6,
    "start_time": "2021-06-28T20:52:25.310Z"
   },
   {
    "duration": 7,
    "start_time": "2021-06-28T20:52:25.830Z"
   },
   {
    "duration": 10,
    "start_time": "2021-06-28T20:52:26.005Z"
   },
   {
    "duration": 5,
    "start_time": "2021-06-28T20:52:26.201Z"
   },
   {
    "duration": 11,
    "start_time": "2021-06-28T20:52:26.577Z"
   },
   {
    "duration": 4,
    "start_time": "2021-06-28T20:52:27.279Z"
   },
   {
    "duration": 12,
    "start_time": "2021-06-28T20:52:27.453Z"
   },
   {
    "duration": 12,
    "start_time": "2021-06-28T20:52:27.800Z"
   },
   {
    "duration": 11,
    "start_time": "2021-06-28T20:52:27.969Z"
   },
   {
    "duration": 14,
    "start_time": "2021-06-28T20:52:28.307Z"
   },
   {
    "duration": 25,
    "start_time": "2021-06-28T20:52:28.479Z"
   },
   {
    "duration": 4,
    "start_time": "2021-06-28T20:53:09.649Z"
   },
   {
    "duration": 805,
    "start_time": "2021-06-28T21:01:15.032Z"
   },
   {
    "duration": 273,
    "start_time": "2021-06-28T21:01:21.734Z"
   },
   {
    "duration": 10,
    "start_time": "2021-06-28T21:01:29.247Z"
   },
   {
    "duration": 11,
    "start_time": "2021-06-28T21:01:35.334Z"
   },
   {
    "duration": 12,
    "start_time": "2021-06-28T21:01:35.723Z"
   },
   {
    "duration": 4,
    "start_time": "2021-06-28T21:01:48.289Z"
   },
   {
    "duration": 82,
    "start_time": "2021-06-28T21:01:48.591Z"
   },
   {
    "duration": 36,
    "start_time": "2021-06-28T21:01:49.210Z"
   },
   {
    "duration": 16,
    "start_time": "2021-06-28T21:01:50.363Z"
   },
   {
    "duration": 37,
    "start_time": "2021-06-28T21:01:51.230Z"
   },
   {
    "duration": 7,
    "start_time": "2021-06-28T21:01:51.891Z"
   },
   {
    "duration": 7,
    "start_time": "2021-06-28T21:01:52.226Z"
   },
   {
    "duration": 12,
    "start_time": "2021-06-28T21:01:52.384Z"
   },
   {
    "duration": 7,
    "start_time": "2021-06-28T21:01:52.706Z"
   },
   {
    "duration": 102,
    "start_time": "2021-06-28T21:01:53.383Z"
   },
   {
    "duration": 3,
    "start_time": "2021-06-28T21:01:55.754Z"
   },
   {
    "duration": 15,
    "start_time": "2021-06-28T21:01:56.137Z"
   },
   {
    "duration": 7,
    "start_time": "2021-06-28T21:01:56.496Z"
   },
   {
    "duration": 13,
    "start_time": "2021-06-28T21:01:56.665Z"
   },
   {
    "duration": 5,
    "start_time": "2021-06-28T21:01:56.845Z"
   },
   {
    "duration": 6,
    "start_time": "2021-06-28T21:01:57.349Z"
   },
   {
    "duration": 13,
    "start_time": "2021-06-28T21:01:57.513Z"
   },
   {
    "duration": 5,
    "start_time": "2021-06-28T21:01:57.698Z"
   },
   {
    "duration": 12,
    "start_time": "2021-06-28T21:01:58.029Z"
   },
   {
    "duration": 4,
    "start_time": "2021-06-28T21:01:58.733Z"
   },
   {
    "duration": 13,
    "start_time": "2021-06-28T21:01:58.910Z"
   },
   {
    "duration": 11,
    "start_time": "2021-06-28T21:01:59.287Z"
   },
   {
    "duration": 11,
    "start_time": "2021-06-28T21:01:59.806Z"
   },
   {
    "duration": 8,
    "start_time": "2021-06-28T21:02:10.362Z"
   },
   {
    "duration": 15,
    "start_time": "2021-06-28T21:02:24.608Z"
   },
   {
    "duration": 4,
    "start_time": "2021-06-28T21:02:55.817Z"
   },
   {
    "duration": 1979,
    "start_time": "2021-06-28T21:03:16.922Z"
   },
   {
    "duration": -209,
    "start_time": "2021-06-28T21:03:19.113Z"
   },
   {
    "duration": 278,
    "start_time": "2021-06-28T21:03:38.349Z"
   },
   {
    "duration": 288,
    "start_time": "2021-06-28T21:04:19.150Z"
   },
   {
    "duration": 285,
    "start_time": "2021-06-28T21:04:25.453Z"
   },
   {
    "duration": 281,
    "start_time": "2021-06-28T21:04:42.361Z"
   },
   {
    "duration": 8,
    "start_time": "2021-06-28T21:04:48.140Z"
   },
   {
    "duration": 6,
    "start_time": "2021-06-28T21:05:16.545Z"
   },
   {
    "duration": 8,
    "start_time": "2021-06-28T21:08:03.222Z"
   },
   {
    "duration": 6,
    "start_time": "2021-06-28T21:08:11.921Z"
   },
   {
    "duration": 7,
    "start_time": "2021-06-28T21:08:20.980Z"
   },
   {
    "duration": 4,
    "start_time": "2021-06-28T21:08:26.250Z"
   },
   {
    "duration": 276,
    "start_time": "2021-06-28T21:08:40.239Z"
   },
   {
    "duration": 297,
    "start_time": "2021-06-28T21:08:51.826Z"
   },
   {
    "duration": 9,
    "start_time": "2021-06-28T21:09:16.488Z"
   },
   {
    "duration": 5,
    "start_time": "2021-06-28T21:09:24.946Z"
   },
   {
    "duration": 6,
    "start_time": "2021-06-28T21:09:26.965Z"
   },
   {
    "duration": 85,
    "start_time": "2021-06-28T21:10:52.904Z"
   },
   {
    "duration": 35,
    "start_time": "2021-06-28T21:10:53.359Z"
   },
   {
    "duration": 16,
    "start_time": "2021-06-28T21:10:53.672Z"
   },
   {
    "duration": 40,
    "start_time": "2021-06-28T21:10:54.480Z"
   },
   {
    "duration": 7,
    "start_time": "2021-06-28T21:10:55.148Z"
   },
   {
    "duration": 8,
    "start_time": "2021-06-28T21:10:55.482Z"
   },
   {
    "duration": 15,
    "start_time": "2021-06-28T21:10:55.664Z"
   },
   {
    "duration": 7,
    "start_time": "2021-06-28T21:10:56.008Z"
   },
   {
    "duration": 107,
    "start_time": "2021-06-28T21:10:56.674Z"
   },
   {
    "duration": 4,
    "start_time": "2021-06-28T21:10:59.272Z"
   },
   {
    "duration": 16,
    "start_time": "2021-06-28T21:11:00.155Z"
   },
   {
    "duration": 8,
    "start_time": "2021-06-28T21:11:00.894Z"
   },
   {
    "duration": 13,
    "start_time": "2021-06-28T21:11:01.259Z"
   },
   {
    "duration": 6,
    "start_time": "2021-06-28T21:11:01.490Z"
   },
   {
    "duration": 7,
    "start_time": "2021-06-28T21:11:02.168Z"
   },
   {
    "duration": 13,
    "start_time": "2021-06-28T21:11:02.882Z"
   },
   {
    "duration": 5,
    "start_time": "2021-06-28T21:11:03.078Z"
   },
   {
    "duration": 12,
    "start_time": "2021-06-28T21:11:03.463Z"
   },
   {
    "duration": 4,
    "start_time": "2021-06-28T21:11:04.681Z"
   },
   {
    "duration": 14,
    "start_time": "2021-06-28T21:11:04.870Z"
   },
   {
    "duration": 13,
    "start_time": "2021-06-28T21:11:05.192Z"
   },
   {
    "duration": 13,
    "start_time": "2021-06-28T21:11:05.360Z"
   },
   {
    "duration": 10,
    "start_time": "2021-06-28T21:11:05.700Z"
   },
   {
    "duration": 4,
    "start_time": "2021-06-28T21:11:06.201Z"
   },
   {
    "duration": 6,
    "start_time": "2021-06-28T21:11:06.532Z"
   },
   {
    "duration": 7,
    "start_time": "2021-06-28T21:11:06.708Z"
   },
   {
    "duration": 12,
    "start_time": "2021-06-28T21:11:06.899Z"
   },
   {
    "duration": 15,
    "start_time": "2021-06-28T21:11:07.070Z"
   },
   {
    "duration": 4,
    "start_time": "2021-06-28T21:11:24.206Z"
   },
   {
    "duration": 85,
    "start_time": "2021-06-28T21:11:24.530Z"
   },
   {
    "duration": 35,
    "start_time": "2021-06-28T21:11:25.136Z"
   },
   {
    "duration": 17,
    "start_time": "2021-06-28T21:11:25.570Z"
   },
   {
    "duration": 37,
    "start_time": "2021-06-28T21:11:26.350Z"
   },
   {
    "duration": 7,
    "start_time": "2021-06-28T21:11:27.035Z"
   },
   {
    "duration": 8,
    "start_time": "2021-06-28T21:11:27.393Z"
   },
   {
    "duration": 11,
    "start_time": "2021-06-28T21:11:27.545Z"
   },
   {
    "duration": 7,
    "start_time": "2021-06-28T21:11:27.895Z"
   },
   {
    "duration": 101,
    "start_time": "2021-06-28T21:11:28.569Z"
   },
   {
    "duration": 4,
    "start_time": "2021-06-28T21:11:31.231Z"
   },
   {
    "duration": 16,
    "start_time": "2021-06-28T21:11:31.970Z"
   },
   {
    "duration": 8,
    "start_time": "2021-06-28T21:11:33.266Z"
   },
   {
    "duration": 12,
    "start_time": "2021-06-28T21:11:33.468Z"
   },
   {
    "duration": 6,
    "start_time": "2021-06-28T21:11:33.651Z"
   },
   {
    "duration": 7,
    "start_time": "2021-06-28T21:11:34.820Z"
   },
   {
    "duration": 11,
    "start_time": "2021-06-28T21:11:35.002Z"
   },
   {
    "duration": 6,
    "start_time": "2021-06-28T21:11:35.200Z"
   },
   {
    "duration": 11,
    "start_time": "2021-06-28T21:11:36.000Z"
   },
   {
    "duration": 4,
    "start_time": "2021-06-28T21:11:37.004Z"
   },
   {
    "duration": 12,
    "start_time": "2021-06-28T21:11:37.741Z"
   },
   {
    "duration": 13,
    "start_time": "2021-06-28T21:11:40.177Z"
   },
   {
    "duration": 12,
    "start_time": "2021-06-28T21:11:40.685Z"
   },
   {
    "duration": 10,
    "start_time": "2021-06-28T21:11:41.222Z"
   },
   {
    "duration": 4,
    "start_time": "2021-06-28T21:11:41.870Z"
   },
   {
    "duration": 9,
    "start_time": "2021-06-28T21:11:42.076Z"
   },
   {
    "duration": 15,
    "start_time": "2021-06-28T21:11:42.266Z"
   },
   {
    "duration": 17,
    "start_time": "2021-06-28T21:11:47.023Z"
   },
   {
    "duration": 297,
    "start_time": "2021-06-28T21:12:59.520Z"
   },
   {
    "duration": 13,
    "start_time": "2021-06-28T21:13:03.865Z"
   },
   {
    "duration": 2254,
    "start_time": "2021-06-28T21:13:15.078Z"
   },
   {
    "duration": 16,
    "start_time": "2021-06-28T21:13:45.117Z"
   },
   {
    "duration": 15,
    "start_time": "2021-06-28T21:13:46.433Z"
   },
   {
    "duration": 10,
    "start_time": "2021-06-28T21:13:56.461Z"
   },
   {
    "duration": 14,
    "start_time": "2021-06-28T21:13:59.874Z"
   },
   {
    "duration": 4,
    "start_time": "2021-06-28T21:23:34.822Z"
   },
   {
    "duration": 6,
    "start_time": "2021-06-28T21:33:22.602Z"
   },
   {
    "duration": 271,
    "start_time": "2021-06-28T21:34:42.600Z"
   },
   {
    "duration": 994,
    "start_time": "2021-06-28T21:34:47.244Z"
   },
   {
    "duration": 630,
    "start_time": "2021-06-28T21:35:03.778Z"
   },
   {
    "duration": 534,
    "start_time": "2021-06-28T21:35:09.728Z"
   },
   {
    "duration": 527,
    "start_time": "2021-06-28T21:37:13.105Z"
   },
   {
    "duration": 371,
    "start_time": "2021-06-28T21:37:18.728Z"
   },
   {
    "duration": 10,
    "start_time": "2021-06-28T21:37:40.054Z"
   },
   {
    "duration": 17,
    "start_time": "2021-06-28T21:38:05.072Z"
   },
   {
    "duration": 3,
    "start_time": "2021-06-28T21:41:17.680Z"
   },
   {
    "duration": 85,
    "start_time": "2021-06-28T21:41:17.945Z"
   },
   {
    "duration": 36,
    "start_time": "2021-06-28T21:41:18.439Z"
   },
   {
    "duration": 15,
    "start_time": "2021-06-28T21:41:18.749Z"
   },
   {
    "duration": 37,
    "start_time": "2021-06-28T21:41:19.559Z"
   },
   {
    "duration": 6,
    "start_time": "2021-06-28T21:41:20.766Z"
   },
   {
    "duration": 11,
    "start_time": "2021-06-28T21:41:20.775Z"
   },
   {
    "duration": 13,
    "start_time": "2021-06-28T21:41:20.821Z"
   },
   {
    "duration": 8,
    "start_time": "2021-06-28T21:41:21.194Z"
   },
   {
    "duration": 106,
    "start_time": "2021-06-28T21:41:21.927Z"
   },
   {
    "duration": 3,
    "start_time": "2021-06-28T21:41:24.187Z"
   },
   {
    "duration": 15,
    "start_time": "2021-06-28T21:41:24.563Z"
   },
   {
    "duration": 8,
    "start_time": "2021-06-28T21:41:24.943Z"
   },
   {
    "duration": 12,
    "start_time": "2021-06-28T21:41:25.113Z"
   },
   {
    "duration": 5,
    "start_time": "2021-06-28T21:41:25.275Z"
   },
   {
    "duration": 6,
    "start_time": "2021-06-28T21:41:25.809Z"
   },
   {
    "duration": 10,
    "start_time": "2021-06-28T21:41:26.007Z"
   },
   {
    "duration": 6,
    "start_time": "2021-06-28T21:41:26.209Z"
   },
   {
    "duration": 3,
    "start_time": "2021-06-28T21:41:30.498Z"
   },
   {
    "duration": 4,
    "start_time": "2021-06-28T21:41:31.389Z"
   },
   {
    "duration": 13,
    "start_time": "2021-06-28T21:41:31.563Z"
   },
   {
    "duration": 11,
    "start_time": "2021-06-28T21:41:31.937Z"
   },
   {
    "duration": 12,
    "start_time": "2021-06-28T21:41:32.165Z"
   },
   {
    "duration": 4,
    "start_time": "2021-06-28T21:41:32.544Z"
   },
   {
    "duration": 3,
    "start_time": "2021-06-28T21:41:34.593Z"
   },
   {
    "duration": 274,
    "start_time": "2021-06-28T21:41:34.981Z"
   },
   {
    "duration": 11,
    "start_time": "2021-06-28T21:41:35.321Z"
   },
   {
    "duration": 14,
    "start_time": "2021-06-28T21:41:37.746Z"
   },
   {
    "duration": 5,
    "start_time": "2021-06-28T21:42:06.152Z"
   },
   {
    "duration": 547,
    "start_time": "2021-06-28T21:42:06.292Z"
   },
   {
    "duration": 281,
    "start_time": "2021-06-28T21:42:11.534Z"
   },
   {
    "duration": 6,
    "start_time": "2021-06-28T21:44:07.930Z"
   },
   {
    "duration": 4,
    "start_time": "2021-06-28T21:44:09.061Z"
   },
   {
    "duration": 282,
    "start_time": "2021-06-28T21:44:09.432Z"
   },
   {
    "duration": 4,
    "start_time": "2021-06-28T21:44:28.587Z"
   },
   {
    "duration": 4,
    "start_time": "2021-06-28T21:44:43.523Z"
   },
   {
    "duration": 88,
    "start_time": "2021-06-28T21:44:43.845Z"
   },
   {
    "duration": 38,
    "start_time": "2021-06-28T21:44:44.373Z"
   },
   {
    "duration": 18,
    "start_time": "2021-06-28T21:44:44.751Z"
   },
   {
    "duration": 38,
    "start_time": "2021-06-28T21:44:45.675Z"
   },
   {
    "duration": 8,
    "start_time": "2021-06-28T21:44:46.390Z"
   },
   {
    "duration": 8,
    "start_time": "2021-06-28T21:44:46.763Z"
   },
   {
    "duration": 13,
    "start_time": "2021-06-28T21:44:46.962Z"
   },
   {
    "duration": 11,
    "start_time": "2021-06-28T21:44:47.312Z"
   },
   {
    "duration": 148,
    "start_time": "2021-06-28T21:44:48.084Z"
   },
   {
    "duration": 4,
    "start_time": "2021-06-28T21:44:50.573Z"
   },
   {
    "duration": 21,
    "start_time": "2021-06-28T21:44:50.904Z"
   },
   {
    "duration": 10,
    "start_time": "2021-06-28T21:44:51.273Z"
   },
   {
    "duration": 14,
    "start_time": "2021-06-28T21:44:51.452Z"
   },
   {
    "duration": 7,
    "start_time": "2021-06-28T21:44:51.631Z"
   },
   {
    "duration": 8,
    "start_time": "2021-06-28T21:44:52.192Z"
   },
   {
    "duration": 11,
    "start_time": "2021-06-28T21:44:52.353Z"
   },
   {
    "duration": 6,
    "start_time": "2021-06-28T21:44:52.546Z"
   },
   {
    "duration": 4,
    "start_time": "2021-06-28T21:44:52.905Z"
   },
   {
    "duration": 4,
    "start_time": "2021-06-28T21:44:53.638Z"
   },
   {
    "duration": 18,
    "start_time": "2021-06-28T21:44:53.832Z"
   },
   {
    "duration": 15,
    "start_time": "2021-06-28T21:44:54.208Z"
   },
   {
    "duration": 15,
    "start_time": "2021-06-28T21:44:54.383Z"
   },
   {
    "duration": 4,
    "start_time": "2021-06-28T21:44:54.740Z"
   },
   {
    "duration": 4,
    "start_time": "2021-06-28T21:44:55.273Z"
   },
   {
    "duration": 12,
    "start_time": "2021-06-28T21:44:55.460Z"
   },
   {
    "duration": 11,
    "start_time": "2021-06-28T21:44:55.635Z"
   },
   {
    "duration": 14,
    "start_time": "2021-06-28T21:45:09.781Z"
   },
   {
    "duration": 6,
    "start_time": "2021-06-28T21:45:13.037Z"
   },
   {
    "duration": 572,
    "start_time": "2021-06-28T21:45:13.301Z"
   },
   {
    "duration": 20,
    "start_time": "2021-06-28T21:45:15.852Z"
   },
   {
    "duration": 4,
    "start_time": "2021-06-28T21:47:41.780Z"
   },
   {
    "duration": 20,
    "start_time": "2021-06-28T21:48:21.081Z"
   },
   {
    "duration": 7598,
    "start_time": "2021-06-28T21:48:38.551Z"
   },
   {
    "duration": 283,
    "start_time": "2021-06-28T21:48:58.034Z"
   },
   {
    "duration": 5,
    "start_time": "2021-06-28T21:49:32.816Z"
   },
   {
    "duration": 5,
    "start_time": "2021-06-28T21:49:47.474Z"
   },
   {
    "duration": 5,
    "start_time": "2021-06-28T21:49:53.206Z"
   },
   {
    "duration": 6,
    "start_time": "2021-06-28T21:49:57.844Z"
   },
   {
    "duration": 4,
    "start_time": "2021-06-28T21:54:26.603Z"
   },
   {
    "duration": 529,
    "start_time": "2021-06-28T21:54:27.402Z"
   },
   {
    "duration": 4,
    "start_time": "2021-06-28T21:54:53.953Z"
   },
   {
    "duration": 556,
    "start_time": "2021-06-28T21:54:54.530Z"
   },
   {
    "duration": 4,
    "start_time": "2021-06-28T21:55:12.949Z"
   },
   {
    "duration": 536,
    "start_time": "2021-06-28T21:55:18.325Z"
   },
   {
    "duration": 514,
    "start_time": "2021-06-28T21:55:39.105Z"
   },
   {
    "duration": 5,
    "start_time": "2021-06-28T21:55:59.898Z"
   },
   {
    "duration": 571,
    "start_time": "2021-06-28T21:56:00.553Z"
   },
   {
    "duration": 756,
    "start_time": "2021-06-28T21:56:36.196Z"
   },
   {
    "duration": -21,
    "start_time": "2021-06-28T21:56:36.976Z"
   },
   {
    "duration": 718,
    "start_time": "2021-06-28T21:56:48.438Z"
   },
   {
    "duration": 4,
    "start_time": "2021-06-28T21:56:51.998Z"
   },
   {
    "duration": 273,
    "start_time": "2021-06-28T21:56:52.946Z"
   },
   {
    "duration": 5,
    "start_time": "2021-06-28T21:57:58.054Z"
   },
   {
    "duration": 582,
    "start_time": "2021-06-28T21:58:02.278Z"
   },
   {
    "duration": 110,
    "start_time": "2021-06-28T22:00:06.313Z"
   },
   {
    "duration": 94,
    "start_time": "2021-06-28T22:00:12.632Z"
   },
   {
    "duration": 103,
    "start_time": "2021-06-28T22:00:32.890Z"
   },
   {
    "duration": 92,
    "start_time": "2021-06-28T22:00:52.506Z"
   },
   {
    "duration": 5,
    "start_time": "2021-06-28T22:01:05.870Z"
   },
   {
    "duration": 95,
    "start_time": "2021-06-28T22:01:22.652Z"
   },
   {
    "duration": 89,
    "start_time": "2021-06-28T22:01:27.121Z"
   },
   {
    "duration": 4,
    "start_time": "2021-06-28T22:02:53.448Z"
   },
   {
    "duration": 369,
    "start_time": "2021-06-28T22:02:56.729Z"
   },
   {
    "duration": 5,
    "start_time": "2021-06-28T22:03:26.878Z"
   },
   {
    "duration": 788,
    "start_time": "2021-06-28T22:03:28.961Z"
   },
   {
    "duration": 5,
    "start_time": "2021-06-28T22:03:59.640Z"
   },
   {
    "duration": 871,
    "start_time": "2021-06-28T22:04:00.099Z"
   },
   {
    "duration": 865,
    "start_time": "2021-06-28T22:05:00.564Z"
   },
   {
    "duration": 5,
    "start_time": "2021-06-28T22:06:48.828Z"
   },
   {
    "duration": 100,
    "start_time": "2021-06-28T22:07:17.882Z"
   },
   {
    "duration": 7,
    "start_time": "2021-06-28T22:09:42.383Z"
   },
   {
    "duration": 540,
    "start_time": "2021-06-28T22:09:57.864Z"
   },
   {
    "duration": 926,
    "start_time": "2021-06-28T22:10:02.953Z"
   },
   {
    "duration": 779,
    "start_time": "2021-06-28T22:10:13.814Z"
   },
   {
    "duration": 791,
    "start_time": "2021-06-28T22:10:23.877Z"
   },
   {
    "duration": 509,
    "start_time": "2021-06-28T22:10:35.619Z"
   },
   {
    "duration": 531,
    "start_time": "2021-06-28T22:10:40.977Z"
   },
   {
    "duration": 623,
    "start_time": "2021-06-28T22:10:49.227Z"
   },
   {
    "duration": 953,
    "start_time": "2021-06-28T22:11:03.137Z"
   },
   {
    "duration": 533,
    "start_time": "2021-06-28T22:12:10.686Z"
   },
   {
    "duration": 101,
    "start_time": "2021-06-28T22:12:31.834Z"
   },
   {
    "duration": 4,
    "start_time": "2021-06-28T22:12:43.425Z"
   },
   {
    "duration": 564,
    "start_time": "2021-06-28T22:12:49.696Z"
   },
   {
    "duration": 5,
    "start_time": "2021-06-28T22:14:36.225Z"
   },
   {
    "duration": 5,
    "start_time": "2021-06-28T22:14:43.301Z"
   },
   {
    "duration": 5,
    "start_time": "2021-06-28T22:14:56.802Z"
   },
   {
    "duration": 15,
    "start_time": "2021-06-28T22:15:57.703Z"
   },
   {
    "duration": 11,
    "start_time": "2021-06-28T22:16:13.682Z"
   },
   {
    "duration": 543,
    "start_time": "2021-06-28T22:16:25.190Z"
   },
   {
    "duration": 530,
    "start_time": "2021-06-28T22:16:36.774Z"
   },
   {
    "duration": 6980,
    "start_time": "2021-06-28T22:16:43.467Z"
   },
   {
    "duration": 6670,
    "start_time": "2021-06-28T22:20:38.020Z"
   },
   {
    "duration": 6932,
    "start_time": "2021-06-28T22:20:58.744Z"
   },
   {
    "duration": 6745,
    "start_time": "2021-06-28T22:21:33.397Z"
   },
   {
    "duration": 5,
    "start_time": "2021-06-28T22:22:25.031Z"
   },
   {
    "duration": 7080,
    "start_time": "2021-06-28T22:22:25.756Z"
   },
   {
    "duration": 8769,
    "start_time": "2021-06-28T22:22:47.204Z"
   },
   {
    "duration": 7124,
    "start_time": "2021-06-28T22:22:59.189Z"
   },
   {
    "duration": 7382,
    "start_time": "2021-06-28T22:23:14.478Z"
   },
   {
    "duration": 91,
    "start_time": "2021-06-28T22:23:25.753Z"
   },
   {
    "duration": 17,
    "start_time": "2021-06-28T22:23:33.180Z"
   },
   {
    "duration": 7337,
    "start_time": "2021-06-28T22:23:38.498Z"
   },
   {
    "duration": 11,
    "start_time": "2021-06-28T22:23:47.387Z"
   },
   {
    "duration": 296,
    "start_time": "2021-06-28T22:24:02.146Z"
   },
   {
    "duration": 4,
    "start_time": "2021-06-28T22:24:14.899Z"
   },
   {
    "duration": 553,
    "start_time": "2021-06-28T22:24:17.607Z"
   },
   {
    "duration": 4,
    "start_time": "2021-06-28T22:25:35.230Z"
   },
   {
    "duration": 602,
    "start_time": "2021-06-28T22:25:35.772Z"
   },
   {
    "duration": 4,
    "start_time": "2021-06-28T22:25:45.502Z"
   },
   {
    "duration": 545,
    "start_time": "2021-06-28T22:25:46.162Z"
   },
   {
    "duration": 570,
    "start_time": "2021-06-28T22:25:55.460Z"
   },
   {
    "duration": 1098,
    "start_time": "2021-06-28T22:25:59.858Z"
   },
   {
    "duration": 13,
    "start_time": "2021-06-28T22:26:06.411Z"
   },
   {
    "duration": 5,
    "start_time": "2021-06-28T22:26:27.465Z"
   },
   {
    "duration": 15,
    "start_time": "2021-06-28T22:26:30.050Z"
   },
   {
    "duration": 4,
    "start_time": "2021-06-28T22:26:37.462Z"
   },
   {
    "duration": 14,
    "start_time": "2021-06-28T22:26:37.965Z"
   },
   {
    "duration": 7002,
    "start_time": "2021-06-28T22:27:01.379Z"
   },
   {
    "duration": 545,
    "start_time": "2021-06-28T22:27:09.599Z"
   },
   {
    "duration": 4,
    "start_time": "2021-06-28T22:28:13.974Z"
   },
   {
    "duration": 585,
    "start_time": "2021-06-28T22:28:17.247Z"
   },
   {
    "duration": 4,
    "start_time": "2021-06-28T22:28:26.885Z"
   },
   {
    "duration": 17,
    "start_time": "2021-06-28T22:28:29.363Z"
   },
   {
    "duration": 4,
    "start_time": "2021-06-28T22:28:55.304Z"
   },
   {
    "duration": 17,
    "start_time": "2021-06-28T22:28:56.025Z"
   },
   {
    "duration": 4,
    "start_time": "2021-06-28T22:29:07.176Z"
   },
   {
    "duration": 11,
    "start_time": "2021-06-28T22:29:07.496Z"
   },
   {
    "duration": 4,
    "start_time": "2021-06-28T22:29:24.009Z"
   },
   {
    "duration": 4,
    "start_time": "2021-06-28T22:29:24.596Z"
   },
   {
    "duration": 10,
    "start_time": "2021-06-28T22:29:27.845Z"
   },
   {
    "duration": 12,
    "start_time": "2021-06-28T22:29:49.975Z"
   },
   {
    "duration": 56,
    "start_time": "2021-06-28T22:29:54.055Z"
   },
   {
    "duration": 4,
    "start_time": "2021-06-28T22:30:17.006Z"
   },
   {
    "duration": 11,
    "start_time": "2021-06-28T22:30:17.457Z"
   },
   {
    "duration": 54,
    "start_time": "2021-06-28T22:30:17.965Z"
   },
   {
    "duration": 6,
    "start_time": "2021-06-28T22:30:31.297Z"
   },
   {
    "duration": 553,
    "start_time": "2021-06-28T22:30:33.437Z"
   },
   {
    "duration": 5,
    "start_time": "2021-06-28T22:30:47.668Z"
   },
   {
    "duration": 535,
    "start_time": "2021-06-28T22:30:51.400Z"
   },
   {
    "duration": 6,
    "start_time": "2021-06-28T22:31:30.604Z"
   },
   {
    "duration": 5,
    "start_time": "2021-06-28T22:31:31.661Z"
   },
   {
    "duration": 551,
    "start_time": "2021-06-28T22:31:34.727Z"
   },
   {
    "duration": 1068,
    "start_time": "2021-06-28T22:31:45.255Z"
   },
   {
    "duration": 3,
    "start_time": "2021-06-28T22:32:09.102Z"
   },
   {
    "duration": 559,
    "start_time": "2021-06-28T22:32:15.576Z"
   },
   {
    "duration": 3,
    "start_time": "2021-06-28T22:32:22.557Z"
   },
   {
    "duration": 4,
    "start_time": "2021-06-28T22:32:23.124Z"
   },
   {
    "duration": 11,
    "start_time": "2021-06-28T22:32:23.607Z"
   },
   {
    "duration": 4,
    "start_time": "2021-06-28T22:32:32.181Z"
   },
   {
    "duration": 551,
    "start_time": "2021-06-28T22:32:35.184Z"
   },
   {
    "duration": 535,
    "start_time": "2021-06-28T22:32:52.952Z"
   },
   {
    "duration": 4,
    "start_time": "2021-06-28T22:37:31.116Z"
   },
   {
    "duration": 1019,
    "start_time": "2021-06-28T22:38:14.323Z"
   },
   {
    "duration": 56,
    "start_time": "2021-06-28T22:38:17.538Z"
   },
   {
    "duration": 14,
    "start_time": "2021-06-28T22:39:00.948Z"
   },
   {
    "duration": 12,
    "start_time": "2021-06-28T22:39:19.094Z"
   },
   {
    "duration": 4,
    "start_time": "2021-06-29T06:06:14.382Z"
   },
   {
    "duration": 90,
    "start_time": "2021-06-29T06:06:17.336Z"
   },
   {
    "duration": 38,
    "start_time": "2021-06-29T06:06:17.779Z"
   },
   {
    "duration": 16,
    "start_time": "2021-06-29T06:06:18.071Z"
   },
   {
    "duration": 37,
    "start_time": "2021-06-29T06:06:18.875Z"
   },
   {
    "duration": 7,
    "start_time": "2021-06-29T06:06:19.529Z"
   },
   {
    "duration": 7,
    "start_time": "2021-06-29T06:06:19.852Z"
   },
   {
    "duration": 12,
    "start_time": "2021-06-29T06:06:19.999Z"
   },
   {
    "duration": 7,
    "start_time": "2021-06-29T06:06:20.329Z"
   },
   {
    "duration": 103,
    "start_time": "2021-06-29T06:06:20.966Z"
   },
   {
    "duration": 4,
    "start_time": "2021-06-29T06:06:23.083Z"
   },
   {
    "duration": 15,
    "start_time": "2021-06-29T06:06:23.406Z"
   },
   {
    "duration": 8,
    "start_time": "2021-06-29T06:06:24.146Z"
   },
   {
    "duration": 12,
    "start_time": "2021-06-29T06:06:24.504Z"
   },
   {
    "duration": 6,
    "start_time": "2021-06-29T06:06:24.738Z"
   },
   {
    "duration": 7,
    "start_time": "2021-06-29T06:06:28.262Z"
   },
   {
    "duration": 11,
    "start_time": "2021-06-29T06:06:28.456Z"
   },
   {
    "duration": 5,
    "start_time": "2021-06-29T06:06:28.612Z"
   },
   {
    "duration": 4,
    "start_time": "2021-06-29T06:06:32.697Z"
   },
   {
    "duration": 14,
    "start_time": "2021-06-29T06:06:32.877Z"
   },
   {
    "duration": 12,
    "start_time": "2021-06-29T06:06:36.270Z"
   },
   {
    "duration": 11,
    "start_time": "2021-06-29T06:06:36.437Z"
   },
   {
    "duration": 4,
    "start_time": "2021-06-29T06:06:50.645Z"
   },
   {
    "duration": 12,
    "start_time": "2021-06-29T06:06:50.872Z"
   },
   {
    "duration": 11,
    "start_time": "2021-06-29T06:06:51.029Z"
   },
   {
    "duration": 14,
    "start_time": "2021-06-29T06:06:51.993Z"
   },
   {
    "duration": 102,
    "start_time": "2021-06-29T06:07:57.103Z"
   },
   {
    "duration": 89,
    "start_time": "2021-06-29T06:08:03.872Z"
   },
   {
    "duration": 274,
    "start_time": "2021-06-29T06:08:17.024Z"
   },
   {
    "duration": 280,
    "start_time": "2021-06-29T06:09:55.465Z"
   },
   {
    "duration": 6,
    "start_time": "2021-06-29T06:10:38.128Z"
   },
   {
    "duration": 6,
    "start_time": "2021-06-29T06:10:48.384Z"
   },
   {
    "duration": 11,
    "start_time": "2021-06-29T06:10:49.678Z"
   },
   {
    "duration": 13,
    "start_time": "2021-06-29T06:10:51.496Z"
   },
   {
    "duration": 13,
    "start_time": "2021-06-29T06:12:33.790Z"
   },
   {
    "duration": 5,
    "start_time": "2021-06-29T06:12:46.397Z"
   },
   {
    "duration": 560,
    "start_time": "2021-06-29T06:12:46.578Z"
   },
   {
    "duration": 17,
    "start_time": "2021-06-29T06:12:47.141Z"
   },
   {
    "duration": 4,
    "start_time": "2021-06-29T06:12:47.821Z"
   },
   {
    "duration": 1120,
    "start_time": "2021-06-29T06:12:48.334Z"
   },
   {
    "duration": 12,
    "start_time": "2021-06-29T06:12:49.457Z"
   },
   {
    "duration": 8,
    "start_time": "2021-06-29T06:12:53.055Z"
   },
   {
    "duration": 822,
    "start_time": "2021-06-29T06:12:53.545Z"
   },
   {
    "duration": 499,
    "start_time": "2021-06-29T06:15:16.829Z"
   },
   {
    "duration": 1454,
    "start_time": "2021-06-29T06:15:29.100Z"
   },
   {
    "duration": 202,
    "start_time": "2021-06-29T06:16:22.252Z"
   },
   {
    "duration": 535,
    "start_time": "2021-06-29T06:16:30.675Z"
   },
   {
    "duration": 213,
    "start_time": "2021-06-29T06:16:57.293Z"
   },
   {
    "duration": 223,
    "start_time": "2021-06-29T06:17:31.650Z"
   },
   {
    "duration": 1602,
    "start_time": "2021-06-29T06:19:17.707Z"
   },
   {
    "duration": 235,
    "start_time": "2021-06-29T06:19:23.353Z"
   },
   {
    "duration": 208,
    "start_time": "2021-06-29T06:21:19.637Z"
   },
   {
    "duration": 232,
    "start_time": "2021-06-29T06:21:29.862Z"
   },
   {
    "duration": 646,
    "start_time": "2021-06-29T06:22:31.584Z"
   },
   {
    "duration": 236,
    "start_time": "2021-06-29T06:23:02.768Z"
   },
   {
    "duration": 242,
    "start_time": "2021-06-29T06:28:25.987Z"
   },
   {
    "duration": 229,
    "start_time": "2021-06-29T06:28:43.818Z"
   },
   {
    "duration": 7,
    "start_time": "2021-06-29T06:36:32.964Z"
   },
   {
    "duration": 1659,
    "start_time": "2021-06-29T06:36:40.038Z"
   },
   {
    "duration": 6,
    "start_time": "2021-06-29T06:36:51.542Z"
   },
   {
    "duration": 10,
    "start_time": "2021-06-29T06:37:14.737Z"
   },
   {
    "duration": 11,
    "start_time": "2021-06-29T06:37:23.994Z"
   },
   {
    "duration": 1505,
    "start_time": "2021-06-29T06:37:35.708Z"
   },
   {
    "duration": 6,
    "start_time": "2021-06-29T06:37:48.050Z"
   },
   {
    "duration": 1652,
    "start_time": "2021-06-29T06:38:01.156Z"
   },
   {
    "duration": 585,
    "start_time": "2021-06-29T06:38:05.820Z"
   },
   {
    "duration": 524,
    "start_time": "2021-06-29T06:38:27.513Z"
   },
   {
    "duration": 578,
    "start_time": "2021-06-29T06:38:54.066Z"
   },
   {
    "duration": 218,
    "start_time": "2021-06-29T06:40:20.554Z"
   },
   {
    "duration": 242,
    "start_time": "2021-06-29T06:40:31.147Z"
   },
   {
    "duration": 218,
    "start_time": "2021-06-29T06:40:56.031Z"
   },
   {
    "duration": 581,
    "start_time": "2021-06-29T06:41:03.493Z"
   },
   {
    "duration": 218,
    "start_time": "2021-06-29T06:41:06.909Z"
   },
   {
    "duration": 251,
    "start_time": "2021-06-29T06:41:21.170Z"
   },
   {
    "duration": 211,
    "start_time": "2021-06-29T06:41:50.646Z"
   },
   {
    "duration": 492,
    "start_time": "2021-06-29T06:42:24.615Z"
   },
   {
    "duration": 249,
    "start_time": "2021-06-29T06:42:29.816Z"
   },
   {
    "duration": 6,
    "start_time": "2021-06-29T06:43:40.301Z"
   },
   {
    "duration": 481,
    "start_time": "2021-06-29T06:57:29.367Z"
   },
   {
    "duration": 256,
    "start_time": "2021-06-29T06:57:33.198Z"
   },
   {
    "duration": 1368,
    "start_time": "2021-06-29T07:14:06.402Z"
   },
   {
    "duration": 532,
    "start_time": "2021-06-29T07:14:14.362Z"
   },
   {
    "duration": 581,
    "start_time": "2021-06-29T07:14:22.559Z"
   },
   {
    "duration": 881,
    "start_time": "2021-06-29T07:14:28.425Z"
   },
   {
    "duration": 562,
    "start_time": "2021-06-29T07:14:47.804Z"
   },
   {
    "duration": 541,
    "start_time": "2021-06-29T07:14:52.727Z"
   },
   {
    "duration": 532,
    "start_time": "2021-06-29T07:15:35.213Z"
   },
   {
    "duration": 320,
    "start_time": "2021-06-29T07:15:39.796Z"
   },
   {
    "duration": 300,
    "start_time": "2021-06-29T07:15:44.509Z"
   },
   {
    "duration": 299,
    "start_time": "2021-06-29T07:15:49.520Z"
   },
   {
    "duration": 419,
    "start_time": "2021-06-29T07:15:54.557Z"
   },
   {
    "duration": 310,
    "start_time": "2021-06-29T07:16:00.256Z"
   },
   {
    "duration": 358,
    "start_time": "2021-06-29T07:16:04.887Z"
   },
   {
    "duration": 408,
    "start_time": "2021-06-29T07:16:17.824Z"
   },
   {
    "duration": 557,
    "start_time": "2021-06-29T07:16:25.582Z"
   },
   {
    "duration": 750,
    "start_time": "2021-06-29T07:16:36.430Z"
   },
   {
    "duration": 303,
    "start_time": "2021-06-29T07:16:43.400Z"
   },
   {
    "duration": 284,
    "start_time": "2021-06-29T07:16:56.240Z"
   },
   {
    "duration": 284,
    "start_time": "2021-06-29T07:17:03.757Z"
   },
   {
    "duration": 273,
    "start_time": "2021-06-29T07:17:17.456Z"
   },
   {
    "duration": 280,
    "start_time": "2021-06-29T07:17:23.864Z"
   },
   {
    "duration": 320,
    "start_time": "2021-06-29T07:19:24.718Z"
   },
   {
    "duration": 285,
    "start_time": "2021-06-29T07:19:32.627Z"
   },
   {
    "duration": 283,
    "start_time": "2021-06-29T07:22:06.209Z"
   },
   {
    "duration": 429,
    "start_time": "2021-06-29T07:22:53.957Z"
   },
   {
    "duration": 210,
    "start_time": "2021-06-29T07:23:17.424Z"
   },
   {
    "duration": 210,
    "start_time": "2021-06-29T07:23:25.381Z"
   },
   {
    "duration": 223,
    "start_time": "2021-06-29T07:23:32.287Z"
   },
   {
    "duration": 230,
    "start_time": "2021-06-29T07:24:17.914Z"
   },
   {
    "duration": 91,
    "start_time": "2021-06-29T07:24:34.967Z"
   },
   {
    "duration": 202,
    "start_time": "2021-06-29T07:26:32.640Z"
   },
   {
    "duration": 246,
    "start_time": "2021-06-29T07:27:05.990Z"
   },
   {
    "duration": 205,
    "start_time": "2021-06-29T07:27:15.114Z"
   },
   {
    "duration": 211,
    "start_time": "2021-06-29T07:27:55.416Z"
   },
   {
    "duration": 232,
    "start_time": "2021-06-29T07:28:00.371Z"
   },
   {
    "duration": 206,
    "start_time": "2021-06-29T07:28:07.117Z"
   },
   {
    "duration": 7,
    "start_time": "2021-06-29T07:28:40.376Z"
   },
   {
    "duration": 7,
    "start_time": "2021-06-29T07:29:02.760Z"
   },
   {
    "duration": 366,
    "start_time": "2021-06-29T07:29:44.320Z"
   },
   {
    "duration": 7,
    "start_time": "2021-06-29T07:29:55.852Z"
   },
   {
    "duration": 207,
    "start_time": "2021-06-29T07:32:17.209Z"
   },
   {
    "duration": 7,
    "start_time": "2021-06-29T07:33:52.800Z"
   },
   {
    "duration": 229,
    "start_time": "2021-06-29T07:35:09.248Z"
   },
   {
    "duration": 339,
    "start_time": "2021-06-29T07:36:50.466Z"
   },
   {
    "duration": 302,
    "start_time": "2021-06-29T07:36:55.721Z"
   },
   {
    "duration": 324,
    "start_time": "2021-06-29T07:37:01.500Z"
   },
   {
    "duration": 6,
    "start_time": "2021-06-29T07:37:21.176Z"
   },
   {
    "duration": 202,
    "start_time": "2021-06-29T07:37:36.689Z"
   },
   {
    "duration": 4,
    "start_time": "2021-06-29T07:39:41.272Z"
   },
   {
    "duration": 313,
    "start_time": "2021-06-29T07:48:38.573Z"
   },
   {
    "duration": 311,
    "start_time": "2021-06-29T07:48:44.479Z"
   },
   {
    "duration": 289,
    "start_time": "2021-06-29T07:48:53.851Z"
   },
   {
    "duration": 377,
    "start_time": "2021-06-29T07:48:58.610Z"
   },
   {
    "duration": 574,
    "start_time": "2021-06-29T07:49:05.811Z"
   },
   {
    "duration": 359,
    "start_time": "2021-06-29T07:49:12.026Z"
   },
   {
    "duration": 289,
    "start_time": "2021-06-29T07:49:21.917Z"
   },
   {
    "duration": 578,
    "start_time": "2021-06-29T07:49:29.444Z"
   },
   {
    "duration": 334,
    "start_time": "2021-06-29T07:49:35.029Z"
   },
   {
    "duration": 337,
    "start_time": "2021-06-29T07:49:41.535Z"
   },
   {
    "duration": 7,
    "start_time": "2021-06-29T07:50:22.261Z"
   },
   {
    "duration": 851,
    "start_time": "2021-06-29T07:50:49.536Z"
   },
   {
    "duration": 95,
    "start_time": "2021-06-29T07:51:25.173Z"
   },
   {
    "duration": 86,
    "start_time": "2021-06-29T07:51:33.629Z"
   },
   {
    "duration": 411,
    "start_time": "2021-06-29T07:51:48.824Z"
   },
   {
    "duration": 111,
    "start_time": "2021-06-29T07:52:43.075Z"
   },
   {
    "duration": 7,
    "start_time": "2021-06-29T07:52:50.028Z"
   },
   {
    "duration": 6,
    "start_time": "2021-06-29T07:52:55.600Z"
   },
   {
    "duration": 90,
    "start_time": "2021-06-29T07:53:04.081Z"
   },
   {
    "duration": 279,
    "start_time": "2021-06-29T07:53:11.806Z"
   },
   {
    "duration": 7,
    "start_time": "2021-06-29T07:54:37.208Z"
   },
   {
    "duration": 97,
    "start_time": "2021-06-29T07:55:15.773Z"
   },
   {
    "duration": 8,
    "start_time": "2021-06-29T07:55:55.672Z"
   },
   {
    "duration": 94,
    "start_time": "2021-06-29T07:56:22.204Z"
   },
   {
    "duration": 84,
    "start_time": "2021-06-29T07:57:18.098Z"
   },
   {
    "duration": 7,
    "start_time": "2021-06-29T07:57:25.661Z"
   },
   {
    "duration": 8,
    "start_time": "2021-06-29T07:57:32.173Z"
   },
   {
    "duration": 90,
    "start_time": "2021-06-29T07:57:49.718Z"
   },
   {
    "duration": 106,
    "start_time": "2021-06-29T07:58:10.347Z"
   },
   {
    "duration": 6,
    "start_time": "2021-06-29T07:58:18.257Z"
   },
   {
    "duration": 6,
    "start_time": "2021-06-29T07:58:28.125Z"
   },
   {
    "duration": 105,
    "start_time": "2021-06-29T07:58:57.543Z"
   },
   {
    "duration": 209,
    "start_time": "2021-06-29T07:59:02.719Z"
   },
   {
    "duration": 218,
    "start_time": "2021-06-29T07:59:10.747Z"
   },
   {
    "duration": 211,
    "start_time": "2021-06-29T07:59:16.327Z"
   },
   {
    "duration": 236,
    "start_time": "2021-06-29T08:00:21.916Z"
   },
   {
    "duration": 215,
    "start_time": "2021-06-29T08:00:27.732Z"
   },
   {
    "duration": 233,
    "start_time": "2021-06-29T08:01:13.455Z"
   },
   {
    "duration": 243,
    "start_time": "2021-06-29T08:01:17.451Z"
   },
   {
    "duration": 444,
    "start_time": "2021-06-29T08:01:48.681Z"
   },
   {
    "duration": 427,
    "start_time": "2021-06-29T08:01:55.132Z"
   },
   {
    "duration": 286,
    "start_time": "2021-06-29T20:28:49.429Z"
   },
   {
    "duration": 12,
    "start_time": "2021-06-29T20:29:05.135Z"
   },
   {
    "duration": 3,
    "start_time": "2021-06-30T06:52:55.074Z"
   },
   {
    "duration": 92,
    "start_time": "2021-06-30T06:52:55.357Z"
   },
   {
    "duration": 37,
    "start_time": "2021-06-30T06:52:55.760Z"
   },
   {
    "duration": 29,
    "start_time": "2021-06-30T06:52:56.044Z"
   },
   {
    "duration": 37,
    "start_time": "2021-06-30T06:52:56.765Z"
   },
   {
    "duration": 7,
    "start_time": "2021-06-30T06:52:57.366Z"
   },
   {
    "duration": 7,
    "start_time": "2021-06-30T06:52:57.665Z"
   },
   {
    "duration": 13,
    "start_time": "2021-06-30T06:52:57.825Z"
   },
   {
    "duration": 8,
    "start_time": "2021-06-30T06:52:58.143Z"
   },
   {
    "duration": 105,
    "start_time": "2021-06-30T06:52:58.777Z"
   },
   {
    "duration": 4,
    "start_time": "2021-06-30T06:53:00.968Z"
   },
   {
    "duration": 16,
    "start_time": "2021-06-30T06:53:01.300Z"
   },
   {
    "duration": 8,
    "start_time": "2021-06-30T06:53:01.630Z"
   },
   {
    "duration": 12,
    "start_time": "2021-06-30T06:53:01.801Z"
   },
   {
    "duration": 5,
    "start_time": "2021-06-30T06:53:01.948Z"
   },
   {
    "duration": 6,
    "start_time": "2021-06-30T06:53:02.451Z"
   },
   {
    "duration": 11,
    "start_time": "2021-06-30T06:53:02.636Z"
   },
   {
    "duration": 5,
    "start_time": "2021-06-30T06:53:02.811Z"
   },
   {
    "duration": 4,
    "start_time": "2021-06-30T06:53:03.693Z"
   },
   {
    "duration": 13,
    "start_time": "2021-06-30T06:53:03.872Z"
   },
   {
    "duration": 11,
    "start_time": "2021-06-30T06:53:04.242Z"
   },
   {
    "duration": 11,
    "start_time": "2021-06-30T06:53:04.412Z"
   },
   {
    "duration": 4,
    "start_time": "2021-06-30T06:53:05.062Z"
   },
   {
    "duration": 6,
    "start_time": "2021-06-30T06:53:05.442Z"
   },
   {
    "duration": 11,
    "start_time": "2021-06-30T06:53:05.650Z"
   },
   {
    "duration": 10,
    "start_time": "2021-06-30T06:53:05.881Z"
   },
   {
    "duration": 14,
    "start_time": "2021-06-30T06:53:06.194Z"
   },
   {
    "duration": 6,
    "start_time": "2021-06-30T06:53:07.576Z"
   },
   {
    "duration": 399,
    "start_time": "2021-06-30T06:53:07.695Z"
   },
   {
    "duration": 243,
    "start_time": "2021-06-30T06:53:08.100Z"
   },
   {
    "duration": 17,
    "start_time": "2021-06-30T06:53:08.403Z"
   },
   {
    "duration": 5,
    "start_time": "2021-06-30T06:53:08.800Z"
   },
   {
    "duration": 955,
    "start_time": "2021-06-30T06:53:09.280Z"
   },
   {
    "duration": 13,
    "start_time": "2021-06-30T06:53:10.237Z"
   },
   {
    "duration": 8,
    "start_time": "2021-06-30T06:53:10.253Z"
   },
   {
    "duration": 653,
    "start_time": "2021-06-30T06:53:10.615Z"
   },
   {
    "duration": 283,
    "start_time": "2021-06-30T06:53:11.271Z"
   },
   {
    "duration": 409,
    "start_time": "2021-06-30T06:53:12.483Z"
   },
   {
    "duration": 253,
    "start_time": "2021-06-30T06:53:12.901Z"
   },
   {
    "duration": 8,
    "start_time": "2021-06-30T06:53:13.157Z"
   },
   {
    "duration": 612,
    "start_time": "2021-06-30T06:53:13.171Z"
   },
   {
    "duration": 229,
    "start_time": "2021-06-30T06:53:13.787Z"
   },
   {
    "duration": 7,
    "start_time": "2021-06-30T06:53:14.019Z"
   },
   {
    "duration": 372,
    "start_time": "2021-06-30T06:53:14.751Z"
   },
   {
    "duration": 261,
    "start_time": "2021-06-30T06:53:15.127Z"
   },
   {
    "duration": 12,
    "start_time": "2021-06-30T06:53:15.391Z"
   },
   {
    "duration": 304,
    "start_time": "2021-06-30T06:53:16.065Z"
   },
   {
    "duration": 209,
    "start_time": "2021-06-30T06:53:16.629Z"
   },
   {
    "duration": 672,
    "start_time": "2021-06-30T06:53:20.754Z"
   },
   {
    "duration": 8,
    "start_time": "2021-06-30T06:53:21.430Z"
   },
   {
    "duration": 466,
    "start_time": "2021-06-30T06:53:21.442Z"
   },
   {
    "duration": 16,
    "start_time": "2021-06-30T06:53:21.911Z"
   },
   {
    "duration": 26,
    "start_time": "2021-06-30T07:02:57.766Z"
   },
   {
    "duration": 10,
    "start_time": "2021-06-30T07:03:07.993Z"
   },
   {
    "duration": 9,
    "start_time": "2021-06-30T07:05:13.566Z"
   },
   {
    "duration": 13,
    "start_time": "2021-06-30T07:05:13.922Z"
   },
   {
    "duration": 4,
    "start_time": "2021-06-30T07:05:14.356Z"
   },
   {
    "duration": 130,
    "start_time": "2021-06-30T07:07:31.760Z"
   },
   {
    "duration": 12,
    "start_time": "2021-06-30T07:07:38.527Z"
   },
   {
    "duration": 12,
    "start_time": "2021-06-30T07:07:39.139Z"
   },
   {
    "duration": 5,
    "start_time": "2021-06-30T07:07:39.582Z"
   },
   {
    "duration": 5,
    "start_time": "2021-06-30T07:07:51.676Z"
   },
   {
    "duration": 15,
    "start_time": "2021-06-30T07:09:42.744Z"
   },
   {
    "duration": 12,
    "start_time": "2021-06-30T07:09:43.570Z"
   },
   {
    "duration": 6,
    "start_time": "2021-06-30T07:09:45.631Z"
   },
   {
    "duration": 486,
    "start_time": "2021-06-30T07:14:44.765Z"
   },
   {
    "duration": 5,
    "start_time": "2021-06-30T07:14:50.498Z"
   },
   {
    "duration": 7196,
    "start_time": "2021-06-30T07:15:09.700Z"
   },
   {
    "duration": 5,
    "start_time": "2021-06-30T07:15:31.208Z"
   },
   {
    "duration": 12,
    "start_time": "2021-06-30T07:15:32.557Z"
   },
   {
    "duration": 11,
    "start_time": "2021-06-30T07:15:33.032Z"
   },
   {
    "duration": 6,
    "start_time": "2021-06-30T07:16:35.049Z"
   },
   {
    "duration": 12,
    "start_time": "2021-06-30T07:16:35.907Z"
   },
   {
    "duration": 10,
    "start_time": "2021-06-30T07:16:43.816Z"
   },
   {
    "duration": 63,
    "start_time": "2021-06-30T07:18:51.000Z"
   },
   {
    "duration": 4,
    "start_time": "2021-06-30T07:22:16.383Z"
   },
   {
    "duration": 6,
    "start_time": "2021-06-30T07:22:30.415Z"
   },
   {
    "duration": 1639,
    "start_time": "2021-06-30T07:22:40.669Z"
   },
   {
    "duration": 766,
    "start_time": "2021-06-30T07:23:12.772Z"
   },
   {
    "duration": 1655,
    "start_time": "2021-06-30T07:24:03.369Z"
   },
   {
    "duration": 1278,
    "start_time": "2021-06-30T07:24:42.898Z"
   },
   {
    "duration": 719,
    "start_time": "2021-06-30T07:24:47.362Z"
   },
   {
    "duration": 6,
    "start_time": "2021-06-30T07:25:00.787Z"
   },
   {
    "duration": 4,
    "start_time": "2021-06-30T07:25:06.724Z"
   },
   {
    "duration": 11,
    "start_time": "2021-06-30T07:25:34.826Z"
   },
   {
    "duration": 5,
    "start_time": "2021-06-30T07:26:28.804Z"
   },
   {
    "duration": 572,
    "start_time": "2021-06-30T07:26:50.945Z"
   },
   {
    "duration": 4,
    "start_time": "2021-06-30T07:27:45.783Z"
   },
   {
    "duration": 61,
    "start_time": "2021-06-30T07:27:46.353Z"
   },
   {
    "duration": 58,
    "start_time": "2021-06-30T07:31:07.377Z"
   },
   {
    "duration": 61,
    "start_time": "2021-06-30T07:32:38.040Z"
   },
   {
    "duration": 61,
    "start_time": "2021-06-30T07:33:26.766Z"
   },
   {
    "duration": 60,
    "start_time": "2021-06-30T07:34:44.257Z"
   },
   {
    "duration": 277,
    "start_time": "2021-06-30T07:36:09.706Z"
   },
   {
    "duration": 114,
    "start_time": "2021-06-30T07:36:23.776Z"
   },
   {
    "duration": 61,
    "start_time": "2021-06-30T07:36:27.060Z"
   },
   {
    "duration": 60,
    "start_time": "2021-06-30T07:36:40.649Z"
   },
   {
    "duration": 6,
    "start_time": "2021-06-30T07:39:21.624Z"
   },
   {
    "duration": 5,
    "start_time": "2021-06-30T07:41:25.455Z"
   },
   {
    "duration": 73,
    "start_time": "2021-06-30T07:41:33.099Z"
   },
   {
    "duration": 4,
    "start_time": "2021-06-30T07:42:00.196Z"
   },
   {
    "duration": 69,
    "start_time": "2021-06-30T07:42:04.714Z"
   },
   {
    "duration": 120,
    "start_time": "2021-06-30T07:52:22.784Z"
   },
   {
    "duration": 276,
    "start_time": "2021-06-30T07:53:28.799Z"
   },
   {
    "duration": 5,
    "start_time": "2021-06-30T07:53:39.464Z"
   },
   {
    "duration": 290,
    "start_time": "2021-06-30T07:53:40.675Z"
   },
   {
    "duration": 95,
    "start_time": "2021-06-30T07:53:59.319Z"
   },
   {
    "duration": 300,
    "start_time": "2021-06-30T07:54:26.687Z"
   },
   {
    "duration": 24,
    "start_time": "2021-06-30T07:54:32.756Z"
   },
   {
    "duration": 47,
    "start_time": "2021-06-30T07:54:46.196Z"
   },
   {
    "duration": 51,
    "start_time": "2021-06-30T07:55:07.958Z"
   },
   {
    "duration": 367,
    "start_time": "2021-06-30T07:56:50.971Z"
   },
   {
    "duration": 144,
    "start_time": "2021-06-30T07:57:02.558Z"
   },
   {
    "duration": 12,
    "start_time": "2021-06-30T07:58:21.618Z"
   },
   {
    "duration": 3,
    "start_time": "2021-06-30T07:58:33.117Z"
   },
   {
    "duration": 96,
    "start_time": "2021-06-30T07:58:34.533Z"
   },
   {
    "duration": 52,
    "start_time": "2021-06-30T07:58:42.081Z"
   },
   {
    "duration": 48,
    "start_time": "2021-06-30T07:58:42.715Z"
   },
   {
    "duration": 140,
    "start_time": "2021-06-30T07:59:23.732Z"
   },
   {
    "duration": 105,
    "start_time": "2021-06-30T08:00:38.073Z"
   },
   {
    "duration": 4,
    "start_time": "2021-06-30T08:04:01.210Z"
   },
   {
    "duration": 4,
    "start_time": "2021-06-30T08:05:46.867Z"
   },
   {
    "duration": 80,
    "start_time": "2021-06-30T08:05:47.119Z"
   },
   {
    "duration": 34,
    "start_time": "2021-06-30T08:05:47.483Z"
   },
   {
    "duration": 20,
    "start_time": "2021-06-30T08:05:47.731Z"
   },
   {
    "duration": 36,
    "start_time": "2021-06-30T08:05:48.495Z"
   },
   {
    "duration": 6,
    "start_time": "2021-06-30T08:05:49.051Z"
   },
   {
    "duration": 7,
    "start_time": "2021-06-30T08:05:49.487Z"
   },
   {
    "duration": 13,
    "start_time": "2021-06-30T08:05:49.634Z"
   },
   {
    "duration": 7,
    "start_time": "2021-06-30T08:05:49.916Z"
   },
   {
    "duration": 101,
    "start_time": "2021-06-30T08:05:50.433Z"
   },
   {
    "duration": 4,
    "start_time": "2021-06-30T08:05:52.304Z"
   },
   {
    "duration": 15,
    "start_time": "2021-06-30T08:05:52.585Z"
   },
   {
    "duration": 7,
    "start_time": "2021-06-30T08:05:52.900Z"
   },
   {
    "duration": 11,
    "start_time": "2021-06-30T08:05:53.039Z"
   },
   {
    "duration": 5,
    "start_time": "2021-06-30T08:05:53.197Z"
   },
   {
    "duration": 6,
    "start_time": "2021-06-30T08:05:53.705Z"
   },
   {
    "duration": 11,
    "start_time": "2021-06-30T08:05:53.858Z"
   },
   {
    "duration": 7,
    "start_time": "2021-06-30T08:05:54.003Z"
   },
   {
    "duration": 3,
    "start_time": "2021-06-30T08:06:04.296Z"
   },
   {
    "duration": 14,
    "start_time": "2021-06-30T08:06:04.442Z"
   },
   {
    "duration": 12,
    "start_time": "2021-06-30T08:06:04.787Z"
   },
   {
    "duration": 13,
    "start_time": "2021-06-30T08:06:04.951Z"
   },
   {
    "duration": 4,
    "start_time": "2021-06-30T08:06:05.850Z"
   },
   {
    "duration": 6,
    "start_time": "2021-06-30T08:06:06.453Z"
   },
   {
    "duration": 12,
    "start_time": "2021-06-30T08:06:06.614Z"
   },
   {
    "duration": 13,
    "start_time": "2021-06-30T08:06:06.927Z"
   },
   {
    "duration": 15,
    "start_time": "2021-06-30T08:06:07.218Z"
   },
   {
    "duration": 6,
    "start_time": "2021-06-30T08:06:08.152Z"
   },
   {
    "duration": 401,
    "start_time": "2021-06-30T08:06:08.307Z"
   },
   {
    "duration": 255,
    "start_time": "2021-06-30T08:06:08.711Z"
   },
   {
    "duration": 13,
    "start_time": "2021-06-30T08:06:08.969Z"
   },
   {
    "duration": 5,
    "start_time": "2021-06-30T08:06:09.516Z"
   },
   {
    "duration": 1027,
    "start_time": "2021-06-30T08:06:09.668Z"
   },
   {
    "duration": 13,
    "start_time": "2021-06-30T08:06:10.700Z"
   },
   {
    "duration": 7,
    "start_time": "2021-06-30T08:06:10.733Z"
   },
   {
    "duration": 571,
    "start_time": "2021-06-30T08:06:11.339Z"
   },
   {
    "duration": 255,
    "start_time": "2021-06-30T08:06:12.016Z"
   },
   {
    "duration": 280,
    "start_time": "2021-06-30T08:06:14.360Z"
   },
   {
    "duration": 230,
    "start_time": "2021-06-30T08:06:14.643Z"
   },
   {
    "duration": 7,
    "start_time": "2021-06-30T08:06:14.876Z"
   },
   {
    "duration": 437,
    "start_time": "2021-06-30T08:06:17.118Z"
   },
   {
    "duration": 236,
    "start_time": "2021-06-30T08:06:17.558Z"
   },
   {
    "duration": 8,
    "start_time": "2021-06-30T08:06:17.797Z"
   },
   {
    "duration": 351,
    "start_time": "2021-06-30T08:06:18.519Z"
   },
   {
    "duration": 236,
    "start_time": "2021-06-30T08:06:18.873Z"
   },
   {
    "duration": 6,
    "start_time": "2021-06-30T08:06:19.112Z"
   },
   {
    "duration": 307,
    "start_time": "2021-06-30T08:06:20.186Z"
   },
   {
    "duration": 203,
    "start_time": "2021-06-30T08:06:20.936Z"
   },
   {
    "duration": 352,
    "start_time": "2021-06-30T08:06:21.705Z"
   },
   {
    "duration": 7,
    "start_time": "2021-06-30T08:06:22.060Z"
   },
   {
    "duration": 450,
    "start_time": "2021-06-30T08:06:22.070Z"
   },
   {
    "duration": 6,
    "start_time": "2021-06-30T08:06:27.824Z"
   },
   {
    "duration": 4,
    "start_time": "2021-06-30T08:06:28.515Z"
   },
   {
    "duration": 88,
    "start_time": "2021-06-30T08:06:29.110Z"
   },
   {
    "duration": 52,
    "start_time": "2021-06-30T08:06:29.601Z"
   },
   {
    "duration": 48,
    "start_time": "2021-06-30T08:06:29.789Z"
   },
   {
    "duration": 36,
    "start_time": "2021-06-30T08:07:38.538Z"
   },
   {
    "duration": 17,
    "start_time": "2021-06-30T08:08:20.188Z"
   },
   {
    "duration": 7,
    "start_time": "2021-06-30T08:08:29.436Z"
   },
   {
    "duration": 14,
    "start_time": "2021-06-30T08:08:47.407Z"
   },
   {
    "duration": 8,
    "start_time": "2021-06-30T08:08:47.856Z"
   },
   {
    "duration": 16,
    "start_time": "2021-06-30T08:08:53.534Z"
   },
   {
    "duration": 7,
    "start_time": "2021-06-30T08:08:53.974Z"
   },
   {
    "duration": 5,
    "start_time": "2021-06-30T08:08:57.364Z"
   },
   {
    "duration": 936,
    "start_time": "2021-06-30T08:08:57.471Z"
   },
   {
    "duration": 13,
    "start_time": "2021-06-30T08:08:58.409Z"
   },
   {
    "duration": 7,
    "start_time": "2021-06-30T08:08:58.425Z"
   },
   {
    "duration": 680,
    "start_time": "2021-06-30T08:08:58.434Z"
   },
   {
    "duration": 260,
    "start_time": "2021-06-30T08:08:59.117Z"
   },
   {
    "duration": 288,
    "start_time": "2021-06-30T08:08:59.380Z"
   },
   {
    "duration": 232,
    "start_time": "2021-06-30T08:08:59.671Z"
   },
   {
    "duration": 7,
    "start_time": "2021-06-30T08:08:59.905Z"
   },
   {
    "duration": 443,
    "start_time": "2021-06-30T08:08:59.914Z"
   },
   {
    "duration": 222,
    "start_time": "2021-06-30T08:09:00.359Z"
   },
   {
    "duration": 18,
    "start_time": "2021-06-30T08:09:00.584Z"
   },
   {
    "duration": 380,
    "start_time": "2021-06-30T08:09:00.605Z"
   },
   {
    "duration": 251,
    "start_time": "2021-06-30T08:09:00.987Z"
   },
   {
    "duration": 8,
    "start_time": "2021-06-30T08:09:01.241Z"
   },
   {
    "duration": 364,
    "start_time": "2021-06-30T08:09:01.252Z"
   },
   {
    "duration": 228,
    "start_time": "2021-06-30T08:09:01.619Z"
   },
   {
    "duration": 377,
    "start_time": "2021-06-30T08:09:01.851Z"
   },
   {
    "duration": 7,
    "start_time": "2021-06-30T08:09:02.231Z"
   },
   {
    "duration": 803,
    "start_time": "2021-06-30T08:09:02.240Z"
   },
   {
    "duration": 7,
    "start_time": "2021-06-30T08:09:05.969Z"
   },
   {
    "duration": 5,
    "start_time": "2021-06-30T08:09:06.241Z"
   },
   {
    "duration": 86,
    "start_time": "2021-06-30T08:09:06.851Z"
   },
   {
    "duration": 53,
    "start_time": "2021-06-30T08:09:07.136Z"
   },
   {
    "duration": 49,
    "start_time": "2021-06-30T08:09:08.039Z"
   },
   {
    "duration": 39,
    "start_time": "2021-06-30T08:09:10.748Z"
   },
   {
    "duration": -83,
    "start_time": "2021-06-30T08:16:59.993Z"
   },
   {
    "duration": 89,
    "start_time": "2021-06-30T08:17:02.756Z"
   },
   {
    "duration": 2394,
    "start_time": "2021-06-30T08:17:15.197Z"
   },
   {
    "duration": 2288,
    "start_time": "2021-06-30T08:18:22.832Z"
   },
   {
    "duration": 2817,
    "start_time": "2021-06-30T08:18:47.219Z"
   },
   {
    "duration": 2608,
    "start_time": "2021-06-30T08:21:12.237Z"
   },
   {
    "duration": 1173,
    "start_time": "2021-06-30T08:21:32.140Z"
   },
   {
    "duration": 2265,
    "start_time": "2021-06-30T08:21:43.978Z"
   },
   {
    "duration": 13,
    "start_time": "2021-06-30T09:24:02.013Z"
   },
   {
    "duration": 1167,
    "start_time": "2021-06-30T09:24:40.966Z"
   },
   {
    "duration": 438,
    "start_time": "2021-06-30T09:25:12.073Z"
   },
   {
    "duration": 7,
    "start_time": "2021-06-30T13:36:27.879Z"
   },
   {
    "duration": 12,
    "start_time": "2021-06-30T13:41:29.455Z"
   },
   {
    "duration": 99,
    "start_time": "2021-06-30T13:44:30.728Z"
   },
   {
    "duration": 2304,
    "start_time": "2021-06-30T13:44:30.918Z"
   },
   {
    "duration": 276,
    "start_time": "2021-06-30T13:44:43.520Z"
   },
   {
    "duration": 2628,
    "start_time": "2021-06-30T13:44:59.434Z"
   },
   {
    "duration": 18,
    "start_time": "2021-06-30T13:48:28.799Z"
   },
   {
    "duration": 4,
    "start_time": "2021-06-30T13:56:05.116Z"
   },
   {
    "duration": 5,
    "start_time": "2021-06-30T13:57:40.430Z"
   },
   {
    "duration": 984,
    "start_time": "2021-06-30T13:57:41.367Z"
   },
   {
    "duration": 11,
    "start_time": "2021-06-30T13:57:46.609Z"
   },
   {
    "duration": 1052,
    "start_time": "2021-06-30T13:57:58.634Z"
   },
   {
    "duration": 276,
    "start_time": "2021-06-30T13:58:16.102Z"
   },
   {
    "duration": 292,
    "start_time": "2021-06-30T13:58:26.954Z"
   },
   {
    "duration": 5,
    "start_time": "2021-06-30T13:58:33.043Z"
   },
   {
    "duration": 18,
    "start_time": "2021-06-30T13:59:13.395Z"
   },
   {
    "duration": 6,
    "start_time": "2021-06-30T13:59:34.616Z"
   },
   {
    "duration": 348,
    "start_time": "2021-06-30T13:59:35.038Z"
   },
   {
    "duration": 6,
    "start_time": "2021-06-30T13:59:35.726Z"
   },
   {
    "duration": 18,
    "start_time": "2021-06-30T13:59:36.396Z"
   },
   {
    "duration": 5355,
    "start_time": "2021-06-30T14:00:08.576Z"
   },
   {
    "duration": 89,
    "start_time": "2021-06-30T14:02:49.836Z"
   },
   {
    "duration": 14,
    "start_time": "2021-06-30T14:04:28.902Z"
   },
   {
    "duration": 5013,
    "start_time": "2021-06-30T14:04:49.722Z"
   },
   {
    "duration": 97,
    "start_time": "2021-06-30T14:05:25.615Z"
   },
   {
    "duration": 11,
    "start_time": "2021-06-30T14:05:32.649Z"
   },
   {
    "duration": 92,
    "start_time": "2021-06-30T14:46:33.826Z"
   },
   {
    "duration": 698,
    "start_time": "2021-06-30T15:25:20.460Z"
   },
   {
    "duration": 800,
    "start_time": "2021-06-30T15:25:31.103Z"
   },
   {
    "duration": 685,
    "start_time": "2021-06-30T15:25:44.186Z"
   },
   {
    "duration": 674,
    "start_time": "2021-06-30T15:26:28.786Z"
   },
   {
    "duration": 124,
    "start_time": "2021-06-30T15:28:45.280Z"
   },
   {
    "duration": 15,
    "start_time": "2021-06-30T15:28:49.854Z"
   },
   {
    "duration": 14,
    "start_time": "2021-06-30T15:29:15.460Z"
   },
   {
    "duration": 14,
    "start_time": "2021-06-30T15:29:29.634Z"
   },
   {
    "duration": 284,
    "start_time": "2021-06-30T15:29:35.301Z"
   },
   {
    "duration": 15,
    "start_time": "2021-06-30T15:29:42.216Z"
   },
   {
    "duration": 272,
    "start_time": "2021-06-30T15:29:42.822Z"
   },
   {
    "duration": 6,
    "start_time": "2021-06-30T15:29:56.668Z"
   },
   {
    "duration": 12,
    "start_time": "2021-06-30T15:30:15.531Z"
   },
   {
    "duration": 9,
    "start_time": "2021-06-30T15:30:16.020Z"
   },
   {
    "duration": -6,
    "start_time": "2021-06-30T15:30:58.425Z"
   },
   {
    "duration": -8,
    "start_time": "2021-06-30T15:30:58.429Z"
   },
   {
    "duration": 15,
    "start_time": "2021-06-30T15:31:00.202Z"
   },
   {
    "duration": 7161,
    "start_time": "2021-06-30T15:31:00.860Z"
   },
   {
    "duration": 13,
    "start_time": "2021-06-30T15:31:28.129Z"
   },
   {
    "duration": 4,
    "start_time": "2021-06-30T15:31:45.997Z"
   },
   {
    "duration": 6,
    "start_time": "2021-06-30T15:31:56.675Z"
   },
   {
    "duration": 13,
    "start_time": "2021-06-30T15:32:02.912Z"
   },
   {
    "duration": 10,
    "start_time": "2021-06-30T15:32:05.873Z"
   },
   {
    "duration": 5,
    "start_time": "2021-06-30T15:32:20.642Z"
   },
   {
    "duration": 13,
    "start_time": "2021-06-30T15:32:30.241Z"
   },
   {
    "duration": 11,
    "start_time": "2021-06-30T15:32:57.318Z"
   },
   {
    "duration": 280,
    "start_time": "2021-06-30T15:32:58.012Z"
   },
   {
    "duration": 12,
    "start_time": "2021-06-30T15:33:00.503Z"
   },
   {
    "duration": 10,
    "start_time": "2021-06-30T15:33:01.060Z"
   },
   {
    "duration": 12,
    "start_time": "2021-06-30T15:33:24.519Z"
   },
   {
    "duration": 11,
    "start_time": "2021-06-30T15:33:24.909Z"
   },
   {
    "duration": 321,
    "start_time": "2021-06-30T15:33:42.345Z"
   },
   {
    "duration": 11,
    "start_time": "2021-06-30T15:34:29.026Z"
   },
   {
    "duration": 5,
    "start_time": "2021-06-30T15:34:29.529Z"
   },
   {
    "duration": 327,
    "start_time": "2021-06-30T15:34:30.004Z"
   },
   {
    "duration": 5,
    "start_time": "2021-06-30T15:38:24.808Z"
   },
   {
    "duration": 318,
    "start_time": "2021-06-30T15:39:09.504Z"
   },
   {
    "duration": 5,
    "start_time": "2021-06-30T15:39:28.085Z"
   },
   {
    "duration": 319,
    "start_time": "2021-06-30T15:39:28.632Z"
   },
   {
    "duration": 970,
    "start_time": "2021-06-30T15:40:32.343Z"
   },
   {
    "duration": 469,
    "start_time": "2021-06-30T15:44:36.335Z"
   },
   {
    "duration": 310,
    "start_time": "2021-06-30T15:44:49.846Z"
   },
   {
    "duration": 297,
    "start_time": "2021-06-30T15:45:34.337Z"
   },
   {
    "duration": 68,
    "start_time": "2021-06-30T15:45:50.066Z"
   },
   {
    "duration": 310,
    "start_time": "2021-06-30T15:46:14.183Z"
   },
   {
    "duration": 249,
    "start_time": "2021-06-30T15:46:26.358Z"
   },
   {
    "duration": 253,
    "start_time": "2021-06-30T15:47:24.439Z"
   },
   {
    "duration": 274,
    "start_time": "2021-06-30T15:47:34.926Z"
   },
   {
    "duration": 277,
    "start_time": "2021-06-30T15:47:44.752Z"
   },
   {
    "duration": 305,
    "start_time": "2021-06-30T15:47:59.736Z"
   },
   {
    "duration": 296,
    "start_time": "2021-06-30T15:48:20.172Z"
   },
   {
    "duration": 1289,
    "start_time": "2021-06-30T15:48:42.033Z"
   },
   {
    "duration": 320,
    "start_time": "2021-06-30T15:48:55.932Z"
   },
   {
    "duration": 356,
    "start_time": "2021-06-30T15:50:18.557Z"
   },
   {
    "duration": 311,
    "start_time": "2021-06-30T16:02:52.441Z"
   },
   {
    "duration": 301,
    "start_time": "2021-06-30T16:04:15.281Z"
   },
   {
    "duration": 316,
    "start_time": "2021-06-30T16:04:24.740Z"
   },
   {
    "duration": 297,
    "start_time": "2021-06-30T16:07:27.634Z"
   },
   {
    "duration": 306,
    "start_time": "2021-06-30T16:07:37.660Z"
   },
   {
    "duration": 305,
    "start_time": "2021-06-30T16:08:01.241Z"
   },
   {
    "duration": 301,
    "start_time": "2021-06-30T16:15:15.528Z"
   },
   {
    "duration": 306,
    "start_time": "2021-06-30T16:15:22.465Z"
   },
   {
    "duration": 301,
    "start_time": "2021-06-30T16:15:58.050Z"
   },
   {
    "duration": 35,
    "start_time": "2021-06-30T16:26:27.018Z"
   },
   {
    "duration": 25,
    "start_time": "2021-06-30T16:28:47.993Z"
   },
   {
    "duration": 14,
    "start_time": "2021-06-30T16:28:57.052Z"
   },
   {
    "duration": 290,
    "start_time": "2021-06-30T16:29:12.240Z"
   },
   {
    "duration": 297,
    "start_time": "2021-06-30T16:29:25.648Z"
   },
   {
    "duration": 27,
    "start_time": "2021-06-30T16:29:37.837Z"
   },
   {
    "duration": 13,
    "start_time": "2021-06-30T16:29:48.827Z"
   },
   {
    "duration": 6,
    "start_time": "2021-06-30T16:30:29.725Z"
   },
   {
    "duration": 24,
    "start_time": "2021-06-30T16:30:40.097Z"
   },
   {
    "duration": 25,
    "start_time": "2021-06-30T16:30:47.308Z"
   },
   {
    "duration": 20,
    "start_time": "2021-06-30T16:30:48.095Z"
   },
   {
    "duration": 17,
    "start_time": "2021-06-30T16:31:03.823Z"
   },
   {
    "duration": 299,
    "start_time": "2021-06-30T16:31:08.777Z"
   },
   {
    "duration": 26,
    "start_time": "2021-06-30T16:31:50.747Z"
   },
   {
    "duration": 4368,
    "start_time": "2021-06-30T16:31:53.854Z"
   },
   {
    "duration": -125,
    "start_time": "2021-06-30T16:31:58.350Z"
   },
   {
    "duration": -128,
    "start_time": "2021-06-30T16:31:58.355Z"
   },
   {
    "duration": 25,
    "start_time": "2021-06-30T16:32:00.448Z"
   },
   {
    "duration": 22,
    "start_time": "2021-06-30T16:32:00.839Z"
   },
   {
    "duration": 26,
    "start_time": "2021-06-30T16:32:19.470Z"
   },
   {
    "duration": 324,
    "start_time": "2021-06-30T16:32:19.906Z"
   },
   {
    "duration": 295,
    "start_time": "2021-06-30T16:32:28.392Z"
   },
   {
    "duration": 24,
    "start_time": "2021-06-30T16:32:33.344Z"
   },
   {
    "duration": 24,
    "start_time": "2021-06-30T16:33:22.238Z"
   },
   {
    "duration": 17,
    "start_time": "2021-06-30T16:33:22.632Z"
   },
   {
    "duration": 23,
    "start_time": "2021-06-30T16:33:31.675Z"
   },
   {
    "duration": 18,
    "start_time": "2021-06-30T16:33:31.948Z"
   },
   {
    "duration": 306,
    "start_time": "2021-06-30T16:33:40.540Z"
   },
   {
    "duration": 278,
    "start_time": "2021-06-30T16:33:56.569Z"
   },
   {
    "duration": 369,
    "start_time": "2021-06-30T16:34:59.836Z"
   },
   {
    "duration": 653,
    "start_time": "2021-06-30T16:35:13.488Z"
   },
   {
    "duration": 25,
    "start_time": "2021-06-30T16:35:16.543Z"
   },
   {
    "duration": 17,
    "start_time": "2021-06-30T16:35:17.030Z"
   },
   {
    "duration": 17,
    "start_time": "2021-06-30T16:35:21.484Z"
   },
   {
    "duration": 17,
    "start_time": "2021-06-30T16:35:36.456Z"
   },
   {
    "duration": 14,
    "start_time": "2021-06-30T16:35:47.538Z"
   },
   {
    "duration": 26,
    "start_time": "2021-06-30T16:36:28.427Z"
   },
   {
    "duration": 31,
    "start_time": "2021-06-30T16:36:50.441Z"
   },
   {
    "duration": 291,
    "start_time": "2021-06-30T16:36:51.132Z"
   },
   {
    "duration": 274,
    "start_time": "2021-06-30T16:37:04.080Z"
   },
   {
    "duration": 30,
    "start_time": "2021-06-30T16:37:13.317Z"
   },
   {
    "duration": 3,
    "start_time": "2021-06-30T16:37:17.314Z"
   },
   {
    "duration": 25,
    "start_time": "2021-06-30T16:37:35.996Z"
   },
   {
    "duration": 7,
    "start_time": "2021-06-30T16:37:36.674Z"
   },
   {
    "duration": 25,
    "start_time": "2021-06-30T16:37:40.233Z"
   },
   {
    "duration": 24,
    "start_time": "2021-06-30T16:37:42.562Z"
   },
   {
    "duration": 19,
    "start_time": "2021-06-30T16:37:43.095Z"
   },
   {
    "duration": 26,
    "start_time": "2021-06-30T16:38:06.838Z"
   },
   {
    "duration": 288,
    "start_time": "2021-06-30T16:38:09.806Z"
   },
   {
    "duration": 285,
    "start_time": "2021-06-30T16:38:34.718Z"
   },
   {
    "duration": 279,
    "start_time": "2021-06-30T16:38:50.663Z"
   },
   {
    "duration": 26,
    "start_time": "2021-06-30T16:39:01.096Z"
   },
   {
    "duration": 21,
    "start_time": "2021-06-30T16:39:01.605Z"
   },
   {
    "duration": 4,
    "start_time": "2021-06-30T16:39:04.471Z"
   },
   {
    "duration": 284,
    "start_time": "2021-06-30T16:39:06.367Z"
   },
   {
    "duration": 14,
    "start_time": "2021-06-30T16:39:15.196Z"
   },
   {
    "duration": 14,
    "start_time": "2021-06-30T16:39:20.381Z"
   },
   {
    "duration": 27,
    "start_time": "2021-06-30T16:40:12.474Z"
   },
   {
    "duration": 4,
    "start_time": "2021-06-30T16:40:13.026Z"
   },
   {
    "duration": 13,
    "start_time": "2021-06-30T16:40:13.682Z"
   },
   {
    "duration": 44,
    "start_time": "2021-06-30T16:43:25.792Z"
   },
   {
    "duration": 5,
    "start_time": "2021-06-30T16:43:26.653Z"
   },
   {
    "duration": 16,
    "start_time": "2021-06-30T16:43:28.324Z"
   },
   {
    "duration": 14,
    "start_time": "2021-06-30T16:43:52.442Z"
   },
   {
    "duration": 15,
    "start_time": "2021-06-30T16:44:32.292Z"
   },
   {
    "duration": 89,
    "start_time": "2021-06-30T16:45:31.758Z"
   },
   {
    "duration": 146,
    "start_time": "2021-06-30T16:48:00.396Z"
   },
   {
    "duration": 6687,
    "start_time": "2021-06-30T16:48:11.834Z"
   },
   {
    "duration": 6554,
    "start_time": "2021-06-30T16:48:55.486Z"
   },
   {
    "duration": 33,
    "start_time": "2021-06-30T16:49:24.844Z"
   },
   {
    "duration": 13,
    "start_time": "2021-06-30T16:49:52.200Z"
   },
   {
    "duration": 14,
    "start_time": "2021-06-30T16:50:01.546Z"
   },
   {
    "duration": 6,
    "start_time": "2021-06-30T19:13:09.468Z"
   },
   {
    "duration": 10,
    "start_time": "2021-06-30T19:13:25.028Z"
   },
   {
    "duration": 11,
    "start_time": "2021-06-30T19:14:56.602Z"
   },
   {
    "duration": 60,
    "start_time": "2021-06-30T19:15:21.307Z"
   },
   {
    "duration": 15,
    "start_time": "2021-06-30T19:17:51.358Z"
   },
   {
    "duration": 12,
    "start_time": "2021-06-30T19:18:30.015Z"
   },
   {
    "duration": 11,
    "start_time": "2021-06-30T19:19:24.001Z"
   },
   {
    "duration": 298,
    "start_time": "2021-06-30T19:20:31.955Z"
   },
   {
    "duration": 15,
    "start_time": "2021-06-30T19:22:13.368Z"
   },
   {
    "duration": -126,
    "start_time": "2021-06-30T19:22:30.052Z"
   },
   {
    "duration": 9,
    "start_time": "2021-06-30T19:22:37.283Z"
   },
   {
    "duration": 320,
    "start_time": "2021-06-30T19:22:43.418Z"
   },
   {
    "duration": 16,
    "start_time": "2021-06-30T19:23:16.140Z"
   },
   {
    "duration": 12,
    "start_time": "2021-06-30T19:23:16.771Z"
   },
   {
    "duration": 341,
    "start_time": "2021-06-30T19:23:33.365Z"
   },
   {
    "duration": 621,
    "start_time": "2021-06-30T19:25:27.797Z"
   },
   {
    "duration": 86,
    "start_time": "2021-06-30T19:29:47.103Z"
   },
   {
    "duration": 3,
    "start_time": "2021-06-30T19:30:44.731Z"
   },
   {
    "duration": 6,
    "start_time": "2021-06-30T20:03:22.779Z"
   },
   {
    "duration": 72,
    "start_time": "2021-06-30T20:03:26.488Z"
   },
   {
    "duration": 307,
    "start_time": "2021-06-30T20:04:13.381Z"
   },
   {
    "duration": 303,
    "start_time": "2021-06-30T20:04:22.015Z"
   },
   {
    "duration": 281,
    "start_time": "2021-06-30T20:04:29.271Z"
   },
   {
    "duration": 1110,
    "start_time": "2021-06-30T20:06:35.730Z"
   },
   {
    "duration": 279,
    "start_time": "2021-06-30T20:06:58.594Z"
   },
   {
    "duration": 299,
    "start_time": "2021-07-01T05:58:23.714Z"
   },
   {
    "duration": 573,
    "start_time": "2021-07-01T05:58:41.787Z"
   },
   {
    "duration": 372,
    "start_time": "2021-07-01T06:02:08.473Z"
   },
   {
    "duration": 441,
    "start_time": "2021-07-01T06:04:31.047Z"
   },
   {
    "duration": 418,
    "start_time": "2021-07-01T06:05:01.849Z"
   },
   {
    "duration": 750,
    "start_time": "2021-07-01T06:07:02.012Z"
   },
   {
    "duration": 550,
    "start_time": "2021-07-01T06:07:49.944Z"
   },
   {
    "duration": 544,
    "start_time": "2021-07-01T06:08:24.127Z"
   },
   {
    "duration": 342,
    "start_time": "2021-07-01T06:12:07.941Z"
   },
   {
    "duration": 1004,
    "start_time": "2021-07-01T06:13:42.237Z"
   },
   {
    "duration": 295,
    "start_time": "2021-07-01T06:16:12.348Z"
   },
   {
    "duration": 608,
    "start_time": "2021-07-01T06:18:15.332Z"
   },
   {
    "duration": 500,
    "start_time": "2021-07-01T06:20:15.607Z"
   },
   {
    "duration": 534,
    "start_time": "2021-07-01T06:21:23.640Z"
   },
   {
    "duration": 569,
    "start_time": "2021-07-01T06:21:33.125Z"
   },
   {
    "duration": 5,
    "start_time": "2021-07-01T06:24:58.370Z"
   },
   {
    "duration": 5,
    "start_time": "2021-07-01T06:27:39.354Z"
   },
   {
    "duration": 109,
    "start_time": "2021-07-01T06:28:04.302Z"
   },
   {
    "duration": 2410,
    "start_time": "2021-07-01T06:28:09.063Z"
   },
   {
    "duration": 585,
    "start_time": "2021-07-01T06:29:10.822Z"
   },
   {
    "duration": 629,
    "start_time": "2021-07-01T06:29:19.784Z"
   },
   {
    "duration": 630,
    "start_time": "2021-07-01T06:29:39.134Z"
   },
   {
    "duration": 543,
    "start_time": "2021-07-01T06:30:01.629Z"
   },
   {
    "duration": 847,
    "start_time": "2021-07-01T06:30:06.901Z"
   },
   {
    "duration": 573,
    "start_time": "2021-07-01T06:30:15.709Z"
   },
   {
    "duration": 530,
    "start_time": "2021-07-01T06:35:27.859Z"
   },
   {
    "duration": 1330,
    "start_time": "2021-07-01T06:35:40.481Z"
   },
   {
    "duration": 582,
    "start_time": "2021-07-01T06:36:00.857Z"
   },
   {
    "duration": 567,
    "start_time": "2021-07-01T06:36:12.281Z"
   },
   {
    "duration": 568,
    "start_time": "2021-07-01T06:36:29.345Z"
   },
   {
    "duration": 635,
    "start_time": "2021-07-01T06:36:41.920Z"
   },
   {
    "duration": 546,
    "start_time": "2021-07-01T06:36:58.470Z"
   },
   {
    "duration": 538,
    "start_time": "2021-07-01T06:37:05.937Z"
   },
   {
    "duration": 585,
    "start_time": "2021-07-01T06:37:12.144Z"
   },
   {
    "duration": 572,
    "start_time": "2021-07-01T06:37:21.314Z"
   },
   {
    "duration": 598,
    "start_time": "2021-07-01T06:37:41.991Z"
   },
   {
    "duration": 589,
    "start_time": "2021-07-01T06:37:49.542Z"
   },
   {
    "duration": 555,
    "start_time": "2021-07-01T06:38:00.185Z"
   },
   {
    "duration": 560,
    "start_time": "2021-07-01T06:38:05.724Z"
   },
   {
    "duration": 546,
    "start_time": "2021-07-01T06:38:22.657Z"
   },
   {
    "duration": 7,
    "start_time": "2021-07-01T06:40:49.847Z"
   },
   {
    "duration": 8,
    "start_time": "2021-07-01T06:41:17.598Z"
   },
   {
    "duration": 143,
    "start_time": "2021-07-01T06:41:40.185Z"
   },
   {
    "duration": 7,
    "start_time": "2021-07-01T06:42:15.265Z"
   },
   {
    "duration": 7,
    "start_time": "2021-07-01T06:43:22.595Z"
   },
   {
    "duration": 10,
    "start_time": "2021-07-01T06:47:42.027Z"
   },
   {
    "duration": 11,
    "start_time": "2021-07-01T06:48:03.831Z"
   },
   {
    "duration": 358,
    "start_time": "2021-07-01T06:49:14.784Z"
   },
   {
    "duration": 274,
    "start_time": "2021-07-01T06:49:23.200Z"
   },
   {
    "duration": 363,
    "start_time": "2021-07-01T06:49:30.045Z"
   },
   {
    "duration": 382,
    "start_time": "2021-07-01T06:49:39.369Z"
   },
   {
    "duration": 312,
    "start_time": "2021-07-01T06:49:49.516Z"
   },
   {
    "duration": 311,
    "start_time": "2021-07-01T06:50:23.786Z"
   },
   {
    "duration": 300,
    "start_time": "2021-07-01T06:50:47.613Z"
   },
   {
    "duration": 305,
    "start_time": "2021-07-01T06:50:59.735Z"
   },
   {
    "duration": 382,
    "start_time": "2021-07-01T06:51:17.241Z"
   },
   {
    "duration": 319,
    "start_time": "2021-07-01T06:51:26.551Z"
   },
   {
    "duration": 246,
    "start_time": "2021-07-01T06:51:29.832Z"
   },
   {
    "duration": 287,
    "start_time": "2021-07-01T06:52:53.354Z"
   },
   {
    "duration": 320,
    "start_time": "2021-07-01T06:53:04.454Z"
   },
   {
    "duration": 323,
    "start_time": "2021-07-01T06:54:18.462Z"
   },
   {
    "duration": 332,
    "start_time": "2021-07-01T06:54:29.849Z"
   },
   {
    "duration": 292,
    "start_time": "2021-07-01T06:55:44.546Z"
   },
   {
    "duration": 322,
    "start_time": "2021-07-01T06:56:07.872Z"
   },
   {
    "duration": 446,
    "start_time": "2021-07-01T06:56:16.354Z"
   },
   {
    "duration": 294,
    "start_time": "2021-07-01T07:00:36.430Z"
   },
   {
    "duration": 311,
    "start_time": "2021-07-01T07:00:38.333Z"
   },
   {
    "duration": 322,
    "start_time": "2021-07-01T07:02:53.780Z"
   },
   {
    "duration": 287,
    "start_time": "2021-07-01T07:04:55.771Z"
   },
   {
    "duration": 917,
    "start_time": "2021-07-01T08:12:06.362Z"
   },
   {
    "duration": 84,
    "start_time": "2021-07-01T08:12:07.281Z"
   },
   {
    "duration": 49,
    "start_time": "2021-07-01T08:12:07.367Z"
   },
   {
    "duration": 20,
    "start_time": "2021-07-01T08:12:07.418Z"
   },
   {
    "duration": 37,
    "start_time": "2021-07-01T08:12:07.440Z"
   },
   {
    "duration": 28,
    "start_time": "2021-07-01T08:12:07.479Z"
   },
   {
    "duration": 26,
    "start_time": "2021-07-01T08:12:07.509Z"
   },
   {
    "duration": 28,
    "start_time": "2021-07-01T08:12:07.539Z"
   },
   {
    "duration": 15,
    "start_time": "2021-07-01T08:12:07.569Z"
   },
   {
    "duration": 116,
    "start_time": "2021-07-01T08:12:07.587Z"
   },
   {
    "duration": 3,
    "start_time": "2021-07-01T08:12:07.706Z"
   },
   {
    "duration": 29,
    "start_time": "2021-07-01T08:12:07.712Z"
   },
   {
    "duration": 19,
    "start_time": "2021-07-01T08:12:07.744Z"
   },
   {
    "duration": 25,
    "start_time": "2021-07-01T08:12:07.765Z"
   },
   {
    "duration": 31,
    "start_time": "2021-07-01T08:12:07.793Z"
   },
   {
    "duration": 21,
    "start_time": "2021-07-01T08:12:07.827Z"
   },
   {
    "duration": 20,
    "start_time": "2021-07-01T08:12:07.851Z"
   },
   {
    "duration": 25,
    "start_time": "2021-07-01T08:12:07.874Z"
   },
   {
    "duration": 21,
    "start_time": "2021-07-01T08:12:07.902Z"
   },
   {
    "duration": 30,
    "start_time": "2021-07-01T08:12:07.925Z"
   },
   {
    "duration": 20,
    "start_time": "2021-07-01T08:12:07.958Z"
   },
   {
    "duration": 17,
    "start_time": "2021-07-01T08:12:07.980Z"
   },
   {
    "duration": 15,
    "start_time": "2021-07-01T08:12:08.003Z"
   },
   {
    "duration": 24,
    "start_time": "2021-07-01T08:12:08.022Z"
   },
   {
    "duration": 15,
    "start_time": "2021-07-01T08:12:08.048Z"
   },
   {
    "duration": 32,
    "start_time": "2021-07-01T08:12:08.065Z"
   },
   {
    "duration": 26,
    "start_time": "2021-07-01T08:12:08.100Z"
   },
   {
    "duration": 12,
    "start_time": "2021-07-01T08:12:08.129Z"
   },
   {
    "duration": 501,
    "start_time": "2021-07-01T08:12:08.144Z"
   },
   {
    "duration": 243,
    "start_time": "2021-07-01T08:12:08.647Z"
   },
   {
    "duration": 21,
    "start_time": "2021-07-01T08:12:08.892Z"
   },
   {
    "duration": 3,
    "start_time": "2021-07-01T08:12:08.916Z"
   },
   {
    "duration": 975,
    "start_time": "2021-07-01T08:12:08.922Z"
   },
   {
    "duration": 12,
    "start_time": "2021-07-01T08:12:09.899Z"
   },
   {
    "duration": 15,
    "start_time": "2021-07-01T08:12:09.913Z"
   },
   {
    "duration": 539,
    "start_time": "2021-07-01T08:12:09.930Z"
   },
   {
    "duration": 256,
    "start_time": "2021-07-01T08:12:10.472Z"
   },
   {
    "duration": 284,
    "start_time": "2021-07-01T08:12:10.730Z"
   },
   {
    "duration": 213,
    "start_time": "2021-07-01T08:12:11.017Z"
   },
   {
    "duration": 6,
    "start_time": "2021-07-01T08:12:11.232Z"
   },
   {
    "duration": 429,
    "start_time": "2021-07-01T08:12:11.240Z"
   },
   {
    "duration": 218,
    "start_time": "2021-07-01T08:12:11.672Z"
   },
   {
    "duration": 11,
    "start_time": "2021-07-01T08:12:11.893Z"
   },
   {
    "duration": 368,
    "start_time": "2021-07-01T08:12:11.906Z"
   },
   {
    "duration": 256,
    "start_time": "2021-07-01T08:12:12.276Z"
   },
   {
    "duration": 6,
    "start_time": "2021-07-01T08:12:12.534Z"
   },
   {
    "duration": 366,
    "start_time": "2021-07-01T08:12:12.542Z"
   },
   {
    "duration": 209,
    "start_time": "2021-07-01T08:12:12.911Z"
   },
   {
    "duration": 350,
    "start_time": "2021-07-01T08:12:13.123Z"
   },
   {
    "duration": 6,
    "start_time": "2021-07-01T08:12:13.475Z"
   },
   {
    "duration": 444,
    "start_time": "2021-07-01T08:12:13.483Z"
   },
   {
    "duration": 8,
    "start_time": "2021-07-01T08:12:13.930Z"
   },
   {
    "duration": 7,
    "start_time": "2021-07-01T08:12:13.940Z"
   },
   {
    "duration": 119,
    "start_time": "2021-07-01T08:12:13.949Z"
   },
   {
    "duration": 62,
    "start_time": "2021-07-01T08:12:14.070Z"
   },
   {
    "duration": 47,
    "start_time": "2021-07-01T08:12:14.134Z"
   },
   {
    "duration": 20,
    "start_time": "2021-07-01T08:12:14.183Z"
   },
   {
    "duration": 342,
    "start_time": "2021-07-01T08:12:14.205Z"
   },
   {
    "duration": 12,
    "start_time": "2021-07-01T08:12:14.549Z"
   },
   {
    "duration": 4722,
    "start_time": "2021-07-01T08:12:14.564Z"
   },
   {
    "duration": 321,
    "start_time": "2021-07-01T08:12:19.289Z"
   },
   {
    "duration": 268,
    "start_time": "2021-07-01T08:12:19.614Z"
   },
   {
    "duration": 380,
    "start_time": "2021-07-01T08:12:19.885Z"
   },
   {
    "duration": 13,
    "start_time": "2021-07-01T08:12:20.268Z"
   },
   {
    "duration": 311,
    "start_time": "2021-07-01T08:12:20.301Z"
   },
   {
    "duration": 314,
    "start_time": "2021-07-01T08:12:20.615Z"
   },
   {
    "duration": 303,
    "start_time": "2021-07-01T08:12:20.933Z"
   },
   {
    "duration": 62,
    "start_time": "2021-07-01T08:12:21.244Z"
   },
   {
    "duration": 3,
    "start_time": "2021-07-01T08:12:21.309Z"
   },
   {
    "duration": 22,
    "start_time": "2021-07-01T08:12:21.314Z"
   },
   {
    "duration": 14,
    "start_time": "2021-07-01T08:12:21.339Z"
   },
   {
    "duration": 48,
    "start_time": "2021-07-01T08:12:21.355Z"
   },
   {
    "duration": 19,
    "start_time": "2021-07-01T08:12:21.405Z"
   },
   {
    "duration": 25,
    "start_time": "2021-07-01T08:12:21.426Z"
   },
   {
    "duration": 17,
    "start_time": "2021-07-01T08:12:21.453Z"
   },
   {
    "duration": 29,
    "start_time": "2021-07-01T08:12:21.472Z"
   },
   {
    "duration": 540,
    "start_time": "2021-07-01T08:12:21.503Z"
   },
   {
    "duration": 6,
    "start_time": "2021-07-01T08:12:22.046Z"
   },
   {
    "duration": 572,
    "start_time": "2021-07-01T08:12:22.054Z"
   },
   {
    "duration": 6,
    "start_time": "2021-07-01T08:12:22.628Z"
   },
   {
    "duration": 557,
    "start_time": "2021-07-01T08:12:22.636Z"
   },
   {
    "duration": 5,
    "start_time": "2021-07-01T08:12:23.200Z"
   },
   {
    "duration": 517,
    "start_time": "2021-07-01T08:12:23.207Z"
   },
   {
    "duration": 6,
    "start_time": "2021-07-01T08:12:23.726Z"
   },
   {
    "duration": 17,
    "start_time": "2021-07-01T08:12:23.734Z"
   },
   {
    "duration": 339,
    "start_time": "2021-07-01T08:12:23.754Z"
   },
   {
    "duration": 542,
    "start_time": "2021-07-01T08:12:24.095Z"
   },
   {
    "duration": 336,
    "start_time": "2021-07-01T08:12:24.639Z"
   },
   {
    "duration": 302,
    "start_time": "2021-07-01T08:12:24.977Z"
   },
   {
    "duration": 303,
    "start_time": "2021-07-01T08:12:25.281Z"
   },
   {
    "duration": 301,
    "start_time": "2021-07-01T08:12:25.586Z"
   },
   {
    "duration": 262,
    "start_time": "2021-07-01T08:23:58.860Z"
   },
   {
    "duration": 265,
    "start_time": "2021-07-01T08:24:24.612Z"
   },
   {
    "duration": 267,
    "start_time": "2021-07-01T08:24:36.395Z"
   },
   {
    "duration": 266,
    "start_time": "2021-07-01T08:25:36.384Z"
   },
   {
    "duration": 256,
    "start_time": "2021-07-01T08:25:39.744Z"
   },
   {
    "duration": 425,
    "start_time": "2021-07-01T08:27:11.130Z"
   },
   {
    "duration": 350,
    "start_time": "2021-07-01T08:27:15.429Z"
   },
   {
    "duration": 400,
    "start_time": "2021-07-01T08:27:18.856Z"
   },
   {
    "duration": 523,
    "start_time": "2021-07-01T08:27:23.132Z"
   },
   {
    "duration": 360,
    "start_time": "2021-07-01T08:27:28.284Z"
   },
   {
    "duration": 510,
    "start_time": "2021-07-01T08:28:34.369Z"
   },
   {
    "duration": 582,
    "start_time": "2021-07-01T08:28:46.440Z"
   },
   {
    "duration": 617,
    "start_time": "2021-07-01T08:28:48.780Z"
   },
   {
    "duration": 614,
    "start_time": "2021-07-01T08:29:02.768Z"
   },
   {
    "duration": 779,
    "start_time": "2021-07-01T08:29:11.905Z"
   },
   {
    "duration": 650,
    "start_time": "2021-07-01T08:29:16.003Z"
   },
   {
    "duration": 667,
    "start_time": "2021-07-01T08:29:30.165Z"
   },
   {
    "duration": 660,
    "start_time": "2021-07-01T08:29:38.848Z"
   },
   {
    "duration": 652,
    "start_time": "2021-07-01T08:29:44.452Z"
   },
   {
    "duration": 326,
    "start_time": "2021-07-01T08:30:22.202Z"
   },
   {
    "duration": 570,
    "start_time": "2021-07-01T08:31:07.307Z"
   },
   {
    "duration": 7,
    "start_time": "2021-07-01T08:31:49.374Z"
   },
   {
    "duration": 8,
    "start_time": "2021-07-01T08:31:55.492Z"
   },
   {
    "duration": 539,
    "start_time": "2021-07-01T08:32:38.493Z"
   },
   {
    "duration": 429,
    "start_time": "2021-07-01T08:32:50.998Z"
   },
   {
    "duration": 6,
    "start_time": "2021-07-01T08:34:55.151Z"
   },
   {
    "duration": 5,
    "start_time": "2021-07-01T08:35:02.255Z"
   },
   {
    "duration": 6,
    "start_time": "2021-07-01T08:35:39.882Z"
   },
   {
    "duration": 678,
    "start_time": "2021-07-01T08:35:41.802Z"
   },
   {
    "duration": 500,
    "start_time": "2021-07-01T08:35:55.434Z"
   },
   {
    "duration": 538,
    "start_time": "2021-07-01T08:36:01.922Z"
   },
   {
    "duration": 442,
    "start_time": "2021-07-01T08:36:07.406Z"
   },
   {
    "duration": 418,
    "start_time": "2021-07-01T08:37:36.226Z"
   },
   {
    "duration": 676,
    "start_time": "2021-07-01T08:37:46.307Z"
   },
   {
    "duration": 570,
    "start_time": "2021-07-01T09:11:40.236Z"
   },
   {
    "duration": 555,
    "start_time": "2021-07-01T09:12:09.714Z"
   },
   {
    "duration": 600,
    "start_time": "2021-07-01T09:12:15.611Z"
   },
   {
    "duration": 590,
    "start_time": "2021-07-01T09:13:27.926Z"
   },
   {
    "duration": 132,
    "start_time": "2021-07-01T09:25:55.641Z"
   },
   {
    "duration": 138,
    "start_time": "2021-07-01T09:26:01.967Z"
   },
   {
    "duration": 139,
    "start_time": "2021-07-01T09:26:07.335Z"
   },
   {
    "duration": 140,
    "start_time": "2021-07-01T11:07:06.823Z"
   },
   {
    "duration": 389,
    "start_time": "2021-07-01T11:07:25.527Z"
   },
   {
    "duration": 684,
    "start_time": "2021-07-01T11:08:01.487Z"
   },
   {
    "duration": 669,
    "start_time": "2021-07-01T11:10:03.466Z"
   },
   {
    "duration": 10,
    "start_time": "2021-07-01T11:10:23.396Z"
   },
   {
    "duration": 419,
    "start_time": "2021-07-01T11:10:25.493Z"
   },
   {
    "duration": 439,
    "start_time": "2021-07-01T11:11:02.284Z"
   },
   {
    "duration": 237,
    "start_time": "2021-07-01T11:12:20.663Z"
   },
   {
    "duration": 236,
    "start_time": "2021-07-01T11:12:33.275Z"
   },
   {
    "duration": 574,
    "start_time": "2021-07-01T11:14:34.478Z"
   },
   {
    "duration": 264,
    "start_time": "2021-07-01T11:16:58.310Z"
   },
   {
    "duration": 242,
    "start_time": "2021-07-01T11:17:09.939Z"
   },
   {
    "duration": 281,
    "start_time": "2021-07-01T11:18:14.843Z"
   },
   {
    "duration": 254,
    "start_time": "2021-07-01T11:18:35.868Z"
   },
   {
    "duration": 229,
    "start_time": "2021-07-01T11:18:58.781Z"
   },
   {
    "duration": 425,
    "start_time": "2021-07-01T11:20:06.127Z"
   },
   {
    "duration": 228,
    "start_time": "2021-07-01T11:20:29.294Z"
   },
   {
    "duration": 220,
    "start_time": "2021-07-01T11:20:55.893Z"
   },
   {
    "duration": 2246,
    "start_time": "2021-07-01T11:21:20.858Z"
   },
   {
    "duration": 248,
    "start_time": "2021-07-01T11:21:39.605Z"
   },
   {
    "duration": 8,
    "start_time": "2021-07-01T11:21:50.955Z"
   },
   {
    "duration": 295,
    "start_time": "2021-07-01T11:21:55.154Z"
   },
   {
    "duration": 312,
    "start_time": "2021-07-01T11:23:23.113Z"
   },
   {
    "duration": 293,
    "start_time": "2021-07-01T11:23:45.341Z"
   },
   {
    "duration": 225,
    "start_time": "2021-07-01T11:23:58.762Z"
   },
   {
    "duration": 376,
    "start_time": "2021-07-01T11:24:57.773Z"
   },
   {
    "duration": 483,
    "start_time": "2021-07-01T11:26:04.968Z"
   },
   {
    "duration": 4550,
    "start_time": "2021-07-01T13:00:42.364Z"
   },
   {
    "duration": 4800,
    "start_time": "2021-07-01T13:01:02.117Z"
   },
   {
    "duration": 96,
    "start_time": "2021-07-01T13:02:13.996Z"
   },
   {
    "duration": 409,
    "start_time": "2021-07-01T13:03:06.257Z"
   },
   {
    "duration": 345,
    "start_time": "2021-07-01T13:03:36.220Z"
   },
   {
    "duration": 293,
    "start_time": "2021-07-01T13:04:05.985Z"
   },
   {
    "duration": 437,
    "start_time": "2021-07-01T13:04:38.462Z"
   },
   {
    "duration": 327,
    "start_time": "2021-07-01T13:05:02.093Z"
   },
   {
    "duration": 318,
    "start_time": "2021-07-01T13:05:21.686Z"
   },
   {
    "duration": 310,
    "start_time": "2021-07-01T13:05:33.863Z"
   },
   {
    "duration": 570,
    "start_time": "2021-07-01T13:06:52.493Z"
   },
   {
    "duration": 52,
    "start_time": "2021-07-01T13:07:16.126Z"
   },
   {
    "duration": 8,
    "start_time": "2021-07-01T13:07:33.743Z"
   },
   {
    "duration": 608,
    "start_time": "2021-07-01T13:07:49.529Z"
   },
   {
    "duration": 778,
    "start_time": "2021-07-01T13:07:56.134Z"
   },
   {
    "duration": 596,
    "start_time": "2021-07-01T13:12:20.859Z"
   },
   {
    "duration": 569,
    "start_time": "2021-07-01T13:12:43.643Z"
   },
   {
    "duration": 583,
    "start_time": "2021-07-01T13:12:54.976Z"
   },
   {
    "duration": 561,
    "start_time": "2021-07-01T13:13:29.863Z"
   },
   {
    "duration": 537,
    "start_time": "2021-07-01T13:14:08.484Z"
   },
   {
    "duration": 102,
    "start_time": "2021-07-01T13:14:56.526Z"
   },
   {
    "duration": 636,
    "start_time": "2021-07-01T13:15:47.152Z"
   },
   {
    "duration": 7,
    "start_time": "2021-07-01T13:17:34.310Z"
   },
   {
    "duration": 579,
    "start_time": "2021-07-01T13:17:34.767Z"
   },
   {
    "duration": 7,
    "start_time": "2021-07-01T13:17:36.286Z"
   },
   {
    "duration": 561,
    "start_time": "2021-07-01T13:17:37.389Z"
   },
   {
    "duration": 7,
    "start_time": "2021-07-01T13:17:50.348Z"
   },
   {
    "duration": 548,
    "start_time": "2021-07-01T13:17:51.752Z"
   },
   {
    "duration": 6,
    "start_time": "2021-07-01T13:17:58.600Z"
   },
   {
    "duration": 539,
    "start_time": "2021-07-01T13:17:59.130Z"
   },
   {
    "duration": 531,
    "start_time": "2021-07-01T13:18:11.512Z"
   },
   {
    "duration": 528,
    "start_time": "2021-07-01T13:18:22.385Z"
   },
   {
    "duration": 1224,
    "start_time": "2021-07-01T13:18:46.703Z"
   },
   {
    "duration": 7,
    "start_time": "2021-07-01T13:18:50.772Z"
   },
   {
    "duration": 11,
    "start_time": "2021-07-01T13:20:32.453Z"
   },
   {
    "duration": 344,
    "start_time": "2021-07-01T13:20:32.785Z"
   },
   {
    "duration": 339,
    "start_time": "2021-07-01T13:20:33.132Z"
   },
   {
    "duration": 431,
    "start_time": "2021-07-01T13:20:33.592Z"
   },
   {
    "duration": 340,
    "start_time": "2021-07-01T13:20:34.026Z"
   },
   {
    "duration": 309,
    "start_time": "2021-07-01T13:20:34.381Z"
   },
   {
    "duration": 329,
    "start_time": "2021-07-01T13:20:34.962Z"
   },
   {
    "duration": 333,
    "start_time": "2021-07-01T13:21:25.605Z"
   },
   {
    "duration": 326,
    "start_time": "2021-07-01T13:21:45.092Z"
   },
   {
    "duration": 312,
    "start_time": "2021-07-01T13:22:07.582Z"
   },
   {
    "duration": 310,
    "start_time": "2021-07-01T13:22:26.889Z"
   },
   {
    "duration": 323,
    "start_time": "2021-07-01T13:22:43.899Z"
   },
   {
    "duration": 112,
    "start_time": "2021-07-01T13:24:04.662Z"
   },
   {
    "duration": 334,
    "start_time": "2021-07-01T13:25:01.470Z"
   },
   {
    "duration": 324,
    "start_time": "2021-07-01T13:25:13.417Z"
   },
   {
    "duration": 320,
    "start_time": "2021-07-01T13:25:28.541Z"
   },
   {
    "duration": 307,
    "start_time": "2021-07-01T13:26:48.878Z"
   },
   {
    "duration": 101,
    "start_time": "2021-07-01T13:27:42.130Z"
   },
   {
    "duration": 299,
    "start_time": "2021-07-01T13:30:39.035Z"
   },
   {
    "duration": 4,
    "start_time": "2021-07-01T13:30:41.831Z"
   },
   {
    "duration": 5,
    "start_time": "2021-07-01T13:30:42.309Z"
   },
   {
    "duration": 5,
    "start_time": "2021-07-01T13:30:49.284Z"
   },
   {
    "duration": 5,
    "start_time": "2021-07-01T13:31:07.235Z"
   },
   {
    "duration": 6,
    "start_time": "2021-07-01T13:31:53.762Z"
   },
   {
    "duration": 5,
    "start_time": "2021-07-01T13:32:19.604Z"
   },
   {
    "duration": 5,
    "start_time": "2021-07-01T13:32:22.262Z"
   },
   {
    "duration": 6,
    "start_time": "2021-07-01T13:34:23.845Z"
   },
   {
    "duration": 4,
    "start_time": "2021-07-01T13:34:24.999Z"
   },
   {
    "duration": 468,
    "start_time": "2021-07-01T13:35:30.208Z"
   },
   {
    "duration": 469,
    "start_time": "2021-07-01T13:36:17.417Z"
   },
   {
    "duration": 5,
    "start_time": "2021-07-01T13:38:13.045Z"
   },
   {
    "duration": 7470,
    "start_time": "2021-07-01T13:38:39.019Z"
   },
   {
    "duration": 6,
    "start_time": "2021-07-01T13:39:13.092Z"
   },
   {
    "duration": 410,
    "start_time": "2021-07-01T13:39:13.583Z"
   },
   {
    "duration": 6,
    "start_time": "2021-07-01T13:40:05.782Z"
   },
   {
    "duration": 406,
    "start_time": "2021-07-01T13:40:07.729Z"
   },
   {
    "duration": 303,
    "start_time": "2021-07-01T13:41:05.294Z"
   },
   {
    "duration": 354,
    "start_time": "2021-07-01T13:41:31.456Z"
   },
   {
    "duration": 5,
    "start_time": "2021-07-01T13:41:35.991Z"
   },
   {
    "duration": 5,
    "start_time": "2021-07-01T13:41:52.961Z"
   },
   {
    "duration": 6,
    "start_time": "2021-07-01T13:43:09.209Z"
   },
   {
    "duration": 5,
    "start_time": "2021-07-01T13:43:53.927Z"
   },
   {
    "duration": 1243,
    "start_time": "2021-07-01T13:43:59.934Z"
   },
   {
    "duration": 4,
    "start_time": "2021-07-01T13:44:11.153Z"
   },
   {
    "duration": 1290,
    "start_time": "2021-07-01T13:44:11.885Z"
   },
   {
    "duration": 5,
    "start_time": "2021-07-01T13:44:31.634Z"
   },
   {
    "duration": 1281,
    "start_time": "2021-07-01T13:44:36.004Z"
   },
   {
    "duration": 4,
    "start_time": "2021-07-01T13:45:29.382Z"
   },
   {
    "duration": 1268,
    "start_time": "2021-07-01T13:45:30.682Z"
   },
   {
    "duration": 113,
    "start_time": "2021-07-01T13:48:30.897Z"
   },
   {
    "duration": 124,
    "start_time": "2021-07-01T13:50:53.325Z"
   },
   {
    "duration": 594,
    "start_time": "2021-07-01T13:52:55.901Z"
   },
   {
    "duration": 685,
    "start_time": "2021-07-01T14:23:15.996Z"
   },
   {
    "duration": 65,
    "start_time": "2021-07-01T14:23:16.684Z"
   },
   {
    "duration": 25,
    "start_time": "2021-07-01T14:23:16.751Z"
   },
   {
    "duration": 16,
    "start_time": "2021-07-01T14:23:16.778Z"
   },
   {
    "duration": 27,
    "start_time": "2021-07-01T14:23:16.796Z"
   },
   {
    "duration": 5,
    "start_time": "2021-07-01T14:23:16.825Z"
   },
   {
    "duration": 9,
    "start_time": "2021-07-01T14:23:16.831Z"
   },
   {
    "duration": 9,
    "start_time": "2021-07-01T14:23:16.842Z"
   },
   {
    "duration": 34,
    "start_time": "2021-07-01T14:23:16.853Z"
   },
   {
    "duration": 66,
    "start_time": "2021-07-01T14:23:16.890Z"
   },
   {
    "duration": 2,
    "start_time": "2021-07-01T14:23:16.958Z"
   },
   {
    "duration": 33,
    "start_time": "2021-07-01T14:23:16.962Z"
   },
   {
    "duration": 9,
    "start_time": "2021-07-01T14:23:16.996Z"
   },
   {
    "duration": 8,
    "start_time": "2021-07-01T14:23:17.007Z"
   },
   {
    "duration": 4,
    "start_time": "2021-07-01T14:23:17.016Z"
   },
   {
    "duration": 5,
    "start_time": "2021-07-01T14:23:17.022Z"
   },
   {
    "duration": 10,
    "start_time": "2021-07-01T14:23:17.029Z"
   },
   {
    "duration": 3,
    "start_time": "2021-07-01T14:23:17.042Z"
   },
   {
    "duration": 38,
    "start_time": "2021-07-01T14:23:17.048Z"
   },
   {
    "duration": 14,
    "start_time": "2021-07-01T14:23:17.089Z"
   },
   {
    "duration": 9,
    "start_time": "2021-07-01T14:23:17.105Z"
   },
   {
    "duration": 10,
    "start_time": "2021-07-01T14:23:17.115Z"
   },
   {
    "duration": 2,
    "start_time": "2021-07-01T14:23:17.129Z"
   },
   {
    "duration": 6,
    "start_time": "2021-07-01T14:23:17.133Z"
   },
   {
    "duration": 9,
    "start_time": "2021-07-01T14:23:17.140Z"
   },
   {
    "duration": 43,
    "start_time": "2021-07-01T14:23:17.151Z"
   },
   {
    "duration": 12,
    "start_time": "2021-07-01T14:23:17.196Z"
   },
   {
    "duration": 4,
    "start_time": "2021-07-01T14:23:17.210Z"
   },
   {
    "duration": 278,
    "start_time": "2021-07-01T14:23:17.216Z"
   },
   {
    "duration": 169,
    "start_time": "2021-07-01T14:23:17.496Z"
   },
   {
    "duration": 20,
    "start_time": "2021-07-01T14:23:17.666Z"
   },
   {
    "duration": 3,
    "start_time": "2021-07-01T14:23:17.688Z"
   },
   {
    "duration": 640,
    "start_time": "2021-07-01T14:23:17.694Z"
   },
   {
    "duration": 9,
    "start_time": "2021-07-01T14:23:18.335Z"
   },
   {
    "duration": 5,
    "start_time": "2021-07-01T14:23:18.346Z"
   },
   {
    "duration": 366,
    "start_time": "2021-07-01T14:23:18.353Z"
   },
   {
    "duration": 168,
    "start_time": "2021-07-01T14:23:18.721Z"
   },
   {
    "duration": 187,
    "start_time": "2021-07-01T14:23:18.891Z"
   },
   {
    "duration": 162,
    "start_time": "2021-07-01T14:23:19.079Z"
   },
   {
    "duration": 5,
    "start_time": "2021-07-01T14:23:19.242Z"
   },
   {
    "duration": 300,
    "start_time": "2021-07-01T14:23:19.249Z"
   },
   {
    "duration": 158,
    "start_time": "2021-07-01T14:23:19.550Z"
   },
   {
    "duration": 4,
    "start_time": "2021-07-01T14:23:19.710Z"
   },
   {
    "duration": 251,
    "start_time": "2021-07-01T14:23:19.716Z"
   },
   {
    "duration": 172,
    "start_time": "2021-07-01T14:23:19.969Z"
   },
   {
    "duration": 4,
    "start_time": "2021-07-01T14:23:20.143Z"
   },
   {
    "duration": 262,
    "start_time": "2021-07-01T14:23:20.149Z"
   },
   {
    "duration": 137,
    "start_time": "2021-07-01T14:23:20.413Z"
   },
   {
    "duration": 233,
    "start_time": "2021-07-01T14:23:20.552Z"
   },
   {
    "duration": 5,
    "start_time": "2021-07-01T14:23:20.787Z"
   },
   {
    "duration": 336,
    "start_time": "2021-07-01T14:23:20.794Z"
   },
   {
    "duration": 4,
    "start_time": "2021-07-01T14:23:21.132Z"
   },
   {
    "duration": 5,
    "start_time": "2021-07-01T14:23:21.138Z"
   },
   {
    "duration": 75,
    "start_time": "2021-07-01T14:23:21.145Z"
   },
   {
    "duration": 34,
    "start_time": "2021-07-01T14:23:21.222Z"
   },
   {
    "duration": 49,
    "start_time": "2021-07-01T14:23:21.257Z"
   },
   {
    "duration": 2,
    "start_time": "2021-07-01T14:23:21.308Z"
   },
   {
    "duration": 223,
    "start_time": "2021-07-01T14:23:21.312Z"
   },
   {
    "duration": 10,
    "start_time": "2021-07-01T14:23:21.537Z"
   },
   {
    "duration": 3129,
    "start_time": "2021-07-01T14:23:21.549Z"
   },
   {
    "duration": 247,
    "start_time": "2021-07-01T14:23:24.680Z"
   },
   {
    "duration": 186,
    "start_time": "2021-07-01T14:23:24.929Z"
   },
   {
    "duration": 265,
    "start_time": "2021-07-01T14:23:25.117Z"
   },
   {
    "duration": 10,
    "start_time": "2021-07-01T14:23:25.383Z"
   },
   {
    "duration": 233,
    "start_time": "2021-07-01T14:23:25.395Z"
   },
   {
    "duration": 221,
    "start_time": "2021-07-01T14:23:25.629Z"
   },
   {
    "duration": 222,
    "start_time": "2021-07-01T14:23:25.852Z"
   },
   {
    "duration": 39,
    "start_time": "2021-07-01T14:23:26.080Z"
   },
   {
    "duration": 3,
    "start_time": "2021-07-01T14:23:26.121Z"
   },
   {
    "duration": 13,
    "start_time": "2021-07-01T14:23:26.126Z"
   },
   {
    "duration": 8,
    "start_time": "2021-07-01T14:23:26.140Z"
   },
   {
    "duration": 8,
    "start_time": "2021-07-01T14:23:26.150Z"
   },
   {
    "duration": 35,
    "start_time": "2021-07-01T14:23:26.159Z"
   },
   {
    "duration": 10,
    "start_time": "2021-07-01T14:23:26.196Z"
   },
   {
    "duration": 7,
    "start_time": "2021-07-01T14:23:26.208Z"
   },
   {
    "duration": 9,
    "start_time": "2021-07-01T14:23:26.217Z"
   },
   {
    "duration": 521,
    "start_time": "2021-07-01T14:23:26.228Z"
   },
   {
    "duration": 4,
    "start_time": "2021-07-01T14:23:26.751Z"
   },
   {
    "duration": 10,
    "start_time": "2021-07-01T14:23:26.757Z"
   },
   {
    "duration": 14,
    "start_time": "2021-07-01T14:23:26.768Z"
   },
   {
    "duration": 863,
    "start_time": "2021-07-01T14:23:26.786Z"
   },
   {
    "duration": 407,
    "start_time": "2021-07-01T14:23:27.651Z"
   },
   {
    "duration": 5,
    "start_time": "2021-07-01T14:23:28.060Z"
   },
   {
    "duration": 369,
    "start_time": "2021-07-01T14:23:28.067Z"
   },
   {
    "duration": 5,
    "start_time": "2021-07-01T14:23:28.438Z"
   },
   {
    "duration": 368,
    "start_time": "2021-07-01T14:23:28.445Z"
   },
   {
    "duration": 5,
    "start_time": "2021-07-01T14:23:28.814Z"
   },
   {
    "duration": 342,
    "start_time": "2021-07-01T14:23:28.820Z"
   },
   {
    "duration": 364,
    "start_time": "2021-07-01T14:23:29.163Z"
   },
   {
    "duration": 4,
    "start_time": "2021-07-01T14:23:29.529Z"
   },
   {
    "duration": 9,
    "start_time": "2021-07-01T14:23:29.535Z"
   },
   {
    "duration": 295,
    "start_time": "2021-07-01T14:23:29.546Z"
   },
   {
    "duration": 220,
    "start_time": "2021-07-01T14:23:29.842Z"
   },
   {
    "duration": 215,
    "start_time": "2021-07-01T14:23:30.063Z"
   },
   {
    "duration": 232,
    "start_time": "2021-07-01T14:23:30.280Z"
   },
   {
    "duration": 214,
    "start_time": "2021-07-01T14:23:30.514Z"
   },
   {
    "duration": 213,
    "start_time": "2021-07-01T14:23:30.729Z"
   },
   {
    "duration": 3244,
    "start_time": "2021-07-01T14:24:26.100Z"
   },
   {
    "duration": 2100,
    "start_time": "2021-07-01T14:24:54.011Z"
   },
   {
    "duration": 2381,
    "start_time": "2021-07-01T14:25:07.045Z"
   },
   {
    "duration": 2217,
    "start_time": "2021-07-01T14:25:09.731Z"
   },
   {
    "duration": 3509,
    "start_time": "2021-07-01T14:26:22.341Z"
   },
   {
    "duration": 3146,
    "start_time": "2021-07-01T14:26:33.660Z"
   },
   {
    "duration": 3316,
    "start_time": "2021-07-01T14:27:33.956Z"
   },
   {
    "duration": 310,
    "start_time": "2021-07-01T17:17:40.134Z"
   }
  ],
  "kernelspec": {
   "display_name": "Python 3",
   "language": "python",
   "name": "python3"
  },
  "language_info": {
   "codemirror_mode": {
    "name": "ipython",
    "version": 3
   },
   "file_extension": ".py",
   "mimetype": "text/x-python",
   "name": "python",
   "nbconvert_exporter": "python",
   "pygments_lexer": "ipython3",
   "version": "3.8.5"
  },
  "toc": {
   "base_numbering": 1,
   "nav_menu": {},
   "number_sections": true,
   "sideBar": true,
   "skip_h1_title": true,
   "title_cell": "Содержание",
   "title_sidebar": "Contents",
   "toc_cell": true,
   "toc_position": {
    "height": "671px",
    "left": "42px",
    "top": "110px",
    "width": "165px"
   },
   "toc_section_display": true,
   "toc_window_display": true
  }
 },
 "nbformat": 4,
 "nbformat_minor": 2
}
