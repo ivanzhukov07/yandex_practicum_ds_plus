{
 "cells": [
  {
   "cell_type": "markdown",
   "metadata": {},
   "source": [
    "# Natural language processing (determination of the toxicity of comments)"
   ]
  },
  {
   "cell_type": "markdown",
   "metadata": {},
   "source": [
    "The online store is launching a new service. Now users can edit and supplement product descriptions, as in wiki communities. That is, clients offer their edits and comment on the changes of others. The store needs a tool that will search for toxic comments and send them for moderation.\n",
    "\n",
    "Train the model to classify comments into positive and negative. At your disposal is a data set with markup on the toxicity of edits.\n",
    "\n",
    "Build a model with the value of the quality metric *F1* at least 0.75.\n",
    "\n",
    "**Data description**\n",
    "\n",
    "The data is in the file `toxic_comments.csv`. \n",
    "The *text* column in it contains the comment text, and *toxic* is the target."
   ]
  },
  {
   "cell_type": "code",
   "execution_count": 1,
   "metadata": {},
   "outputs": [],
   "source": [
    "import warnings\n",
    "warnings.filterwarnings('ignore')\n",
    "\n",
    "import pandas as pd\n",
    "import numpy as np\n",
    "import seaborn as sns\n",
    "import matplotlib.pyplot as plt\n",
    "\n",
    "import re\n",
    "\n",
    "from nltk.corpus import stopwords \n",
    "import nltk\n",
    "\n",
    "import spacy\n",
    "import en_core_web_sm\n",
    "spacy.prefer_gpu()\n",
    "nlp = en_core_web_sm.load()\n",
    "\n",
    "import en_core_web_sm\n",
    "\n",
    "import scipy.sparse as sps\n",
    "\n",
    "from sklearn.preprocessing import StandardScaler\n",
    "from sklearn.feature_extraction.text import TfidfVectorizer\n",
    "from sklearn.utils.class_weight import compute_class_weight\n",
    "\n",
    "from sklearn.model_selection import train_test_split\n",
    "from sklearn.model_selection import GridSearchCV\n",
    "from sklearn.model_selection import KFold\n",
    "from sklearn.model_selection import cross_val_score\n",
    "\n",
    "from sklearn.metrics import f1_score\n",
    "from sklearn.linear_model import LogisticRegression\n",
    "from catboost import Pool, CatBoostClassifier, cv\n",
    "import lightgbm as lgbm"
   ]
  },
  {
   "cell_type": "code",
   "execution_count": 2,
   "metadata": {},
   "outputs": [
    {
     "name": "stderr",
     "output_type": "stream",
     "text": [
      "[nltk_data] Downloading package stopwords to\n",
      "[nltk_data]     /Users/ivan.zhukov/nltk_data...\n",
      "[nltk_data]   Package stopwords is already up-to-date!\n"
     ]
    }
   ],
   "source": [
    "nltk.download('stopwords')\n",
    "stopwords = set(stopwords.words('english'))"
   ]
  },
  {
   "cell_type": "code",
   "execution_count": 3,
   "metadata": {},
   "outputs": [],
   "source": [
    "RECALC_FLG = False"
   ]
  },
  {
   "cell_type": "markdown",
   "metadata": {},
   "source": [
    "## Preparation"
   ]
  },
  {
   "cell_type": "markdown",
   "metadata": {},
   "source": [
    "### Data Overview"
   ]
  },
  {
   "cell_type": "markdown",
   "metadata": {},
   "source": [
    "Let's read the data and look at them"
   ]
  },
  {
   "cell_type": "code",
   "execution_count": 4,
   "metadata": {},
   "outputs": [
    {
     "data": {
      "text/html": [
       "<div>\n",
       "<style scoped>\n",
       "    .dataframe tbody tr th:only-of-type {\n",
       "        vertical-align: middle;\n",
       "    }\n",
       "\n",
       "    .dataframe tbody tr th {\n",
       "        vertical-align: top;\n",
       "    }\n",
       "\n",
       "    .dataframe thead th {\n",
       "        text-align: right;\n",
       "    }\n",
       "</style>\n",
       "<table border=\"1\" class=\"dataframe\">\n",
       "  <thead>\n",
       "    <tr style=\"text-align: right;\">\n",
       "      <th></th>\n",
       "      <th>text</th>\n",
       "      <th>toxic</th>\n",
       "    </tr>\n",
       "  </thead>\n",
       "  <tbody>\n",
       "    <tr>\n",
       "      <th>0</th>\n",
       "      <td>Explanation\\nWhy the edits made under my usern...</td>\n",
       "      <td>0</td>\n",
       "    </tr>\n",
       "    <tr>\n",
       "      <th>1</th>\n",
       "      <td>D'aww! He matches this background colour I'm s...</td>\n",
       "      <td>0</td>\n",
       "    </tr>\n",
       "    <tr>\n",
       "      <th>2</th>\n",
       "      <td>Hey man, I'm really not trying to edit war. It...</td>\n",
       "      <td>0</td>\n",
       "    </tr>\n",
       "    <tr>\n",
       "      <th>3</th>\n",
       "      <td>\"\\nMore\\nI can't make any real suggestions on ...</td>\n",
       "      <td>0</td>\n",
       "    </tr>\n",
       "    <tr>\n",
       "      <th>4</th>\n",
       "      <td>You, sir, are my hero. Any chance you remember...</td>\n",
       "      <td>0</td>\n",
       "    </tr>\n",
       "  </tbody>\n",
       "</table>\n",
       "</div>"
      ],
      "text/plain": [
       "                                                text  toxic\n",
       "0  Explanation\\nWhy the edits made under my usern...      0\n",
       "1  D'aww! He matches this background colour I'm s...      0\n",
       "2  Hey man, I'm really not trying to edit war. It...      0\n",
       "3  \"\\nMore\\nI can't make any real suggestions on ...      0\n",
       "4  You, sir, are my hero. Any chance you remember...      0"
      ]
     },
     "execution_count": 4,
     "metadata": {},
     "output_type": "execute_result"
    }
   ],
   "source": [
    "df = pd.read_csv('toxic_comments.csv')\n",
    "df.head()"
   ]
  },
  {
   "cell_type": "code",
   "execution_count": 5,
   "metadata": {},
   "outputs": [
    {
     "name": "stdout",
     "output_type": "stream",
     "text": [
      "<class 'pandas.core.frame.DataFrame'>\n",
      "RangeIndex: 159571 entries, 0 to 159570\n",
      "Data columns (total 2 columns):\n",
      " #   Column  Non-Null Count   Dtype \n",
      "---  ------  --------------   ----- \n",
      " 0   text    159571 non-null  object\n",
      " 1   toxic   159571 non-null  int64 \n",
      "dtypes: int64(1), object(1)\n",
      "memory usage: 2.4+ MB\n"
     ]
    }
   ],
   "source": [
    "df.info()"
   ]
  },
  {
   "cell_type": "markdown",
   "metadata": {},
   "source": [
    "Initially, we were given the text and markup for toxic / non-toxic comments to it (our target feature).\n",
    "\n",
    "Let's check the class balance for the target variable."
   ]
  },
  {
   "cell_type": "code",
   "execution_count": 6,
   "metadata": {},
   "outputs": [
    {
     "data": {
      "image/png": "[encoded data removed]",
      "text/plain": [
       "<Figure size 432x288 with 1 Axes>"
      ]
     },
     "metadata": {
      "needs_background": "light"
     },
     "output_type": "display_data"
    }
   ],
   "source": [
    "sns.countplot(data = df, x = 'toxic') \n",
    "plt.title('Balance of classes of the target variable')\n",
    "plt.grid(True)\n",
    "plt.show()"
   ]
  },
  {
   "cell_type": "markdown",
   "metadata": {},
   "source": [
    "We get an obvious result - in real life, there are really fewer toxic comments than non-toxic ones (with the normal operation of the service).\n",
    "The imbalance of classes must be taken into account when training the model.\n",
    "\n",
    "Let's take a closer look at the texts:"
   ]
  },
  {
   "cell_type": "code",
   "execution_count": 7,
   "metadata": {},
   "outputs": [
    {
     "data": {
      "image/png": "[encoded data removed]",
      "text/plain": [
       "<Figure size 720x288 with 1 Axes>"
      ]
     },
     "metadata": {
      "needs_background": "light"
     },
     "output_type": "display_data"
    }
   ],
   "source": [
    "plt.figure(figsize=(10,4))\n",
    "sns.histplot(df['text'].str.len(), kde = True ,color = 'green', linewidth = 0, bins = 40, alpha = 0.3)\n",
    "plt.grid(True)\n",
    "plt.title('Text length distribution')\n",
    "plt.show()"
   ]
  },
  {
   "cell_type": "code",
   "execution_count": 8,
   "metadata": {},
   "outputs": [
    {
     "name": "stdout",
     "output_type": "stream",
     "text": [
      "Minimum text length 6 characters\n",
      "Maxiumum text length 5000 characters\n",
      "Number of texts < 10 characters 5\n",
      "Number of texts >= 5000 characters 42\n"
     ]
    }
   ],
   "source": [
    "print('Minimum text length {} characters'.format(df['text'].str.len().min()))\n",
    "print('Maxiumum text length {} characters'.format(df['text'].str.len().max()))\n",
    "\n",
    "print('Number of texts < 10 characters {}'.format(len(df[df['text'].str.len() < 10]['text'])))\n",
    "print('Number of texts >= 5000 characters {}'.format(len(df[df['text'].str.len() >= 5000]['text'])))"
   ]
  },
  {
   "cell_type": "markdown",
   "metadata": {},
   "source": [
    "Let's see the TOP 5 longest and shortest comments"
   ]
  },
  {
   "cell_type": "code",
   "execution_count": 9,
   "metadata": {},
   "outputs": [
    {
     "data": {
      "text/html": [
       "<div>\n",
       "<style scoped>\n",
       "    .dataframe tbody tr th:only-of-type {\n",
       "        vertical-align: middle;\n",
       "    }\n",
       "\n",
       "    .dataframe tbody tr th {\n",
       "        vertical-align: top;\n",
       "    }\n",
       "\n",
       "    .dataframe thead th {\n",
       "        text-align: right;\n",
       "    }\n",
       "</style>\n",
       "<table border=\"1\" class=\"dataframe\">\n",
       "  <thead>\n",
       "    <tr style=\"text-align: right;\">\n",
       "      <th></th>\n",
       "      <th>text</th>\n",
       "      <th>toxic</th>\n",
       "    </tr>\n",
       "  </thead>\n",
       "  <tbody>\n",
       "    <tr>\n",
       "      <th>0</th>\n",
       "      <td>14:53,</td>\n",
       "      <td>1</td>\n",
       "    </tr>\n",
       "    <tr>\n",
       "      <th>1</th>\n",
       "      <td>FUCK YOU</td>\n",
       "      <td>1</td>\n",
       "    </tr>\n",
       "    <tr>\n",
       "      <th>2</th>\n",
       "      <td>you suck</td>\n",
       "      <td>1</td>\n",
       "    </tr>\n",
       "    <tr>\n",
       "      <th>3</th>\n",
       "      <td>{{unbloc</td>\n",
       "      <td>1</td>\n",
       "    </tr>\n",
       "    <tr>\n",
       "      <th>4</th>\n",
       "      <td>~ J.Lo</td>\n",
       "      <td>1</td>\n",
       "    </tr>\n",
       "  </tbody>\n",
       "</table>\n",
       "</div>"
      ],
      "text/plain": [
       "       text  toxic\n",
       "0    14:53,      1\n",
       "1  FUCK YOU      1\n",
       "2  you suck      1\n",
       "3  {{unbloc      1\n",
       "4    ~ J.Lo      1"
      ]
     },
     "execution_count": 9,
     "metadata": {},
     "output_type": "execute_result"
    }
   ],
   "source": [
    "(df[df['text'].str.len() < 10].groupby('text', as_index = False).agg({'toxic': 'count'})\n",
    "                 .sort_values('toxic', ascending = False)).head(5)"
   ]
  },
  {
   "cell_type": "markdown",
   "metadata": {},
   "source": [
    "There are both meaningless and semantic texts   \n",
    "I had to add a loop here, otherwise the text would have been cut off"
   ]
  },
  {
   "cell_type": "code",
   "execution_count": 10,
   "metadata": {},
   "outputs": [
    {
     "name": "stdout",
     "output_type": "stream",
     "text": [
      "MESSAGE:  \"....would you prefer expressing my frustration in what i don't agree with and try to say it as direct and respectful as possible or would you prefer for me to not say much and be harsh to you and not give care to what you sat? would that be suit you better?i could..but i don't think that's what you\n",
      "\n",
      "MESSAGE:  YOU SUCK YOU SUCK YOU SUCK YOU SUCK YOU SUCK YOU SUCK YOU SUCK YOU SUCK YOU SUCK YOU SUCK YOU SUCK YOU SUCK YOU SUCK YOU SUCK YOU SUCK YOU SUCK YOU SUCK YOU SUCK YOU SUCK YOU SUCK YOU SUCK YOU SUCK YOU SUCK YOU SUCK YOU SUCK YOU SUCK YOU SUCK YOU SUCK YOU SUCK YOU SUCK YOU SUCK YOU SUCK YOU SUCK YOU\n",
      "\n",
      "MESSAGE:  JIM WALES MUST DIE!!!!!!!!!!!!  JIM WALES MUST DIE!!!!!!!!!!!!  JIM WALES MUST DIE!!!!!!!!!!!!  JIM WALES MUST DIE!!!!!!!!!!!!  JIM WALES MUST DIE!!!!!!!!!!!!  JIM WALES MUST DIE!!!!!!!!!!!!  JIM WALES MUST DIE!!!!!!!!!!!!  JIM WALES MUST DIE!!!!!!!!!!!!  JIM WALES MUST DIE!!!!!!!!!!!!  JIM WALES MU\n",
      "\n",
      "MESSAGE:  LMAO WHAT WEAK THREATS, I HAVENT BEEN BANNED YET BITCH, GO VANDALISM LMAO WHAT WEAK THREATS, I HAVENT BEEN BANNED YET BITCH, GO VANDALISM LMAO WHAT WEAK THREATS, I HAVENT BEEN BANNED YET BITCH, GO VANDALISM LMAO WHAT WEAK THREATS, I HAVENT BEEN BANNED YET BITCH, GO VANDALISM LMAO WHAT WEAK THREATS, \n",
      "\n",
      "MESSAGE:  MUAHAHAHAHAHAHAHAHAHAHAHAHAHAHAHAHAHAHA, YOU CAN'T STOP MY VANDALISM MUAHAHAHAHAHAHAHAHAHAHAHAHAHAHAHAHAHAHA, YOU CAN'T STOP MY VANDALISM MUAHAHAHAHAHAHAHAHAHAHAHAHAHAHAHAHAHAHA, YOU CAN'T STOP MY VANDALISM MUAHAHAHAHAHAHAHAHAHAHAHAHAHAHAHAHAHAHA, YOU CAN'T STOP MY VANDALISM MUAHAHAHAHAHAHAHAHAHAHAH\n",
      "\n"
     ]
    }
   ],
   "source": [
    "for i in (df[df['text'].str.len() >= 5000].groupby('text', as_index = False).agg({'toxic': 'count'})\n",
    "                 .sort_values('toxic', ascending = False))['text'].head(5).values:\n",
    "    print('MESSAGE: ', i[:300])\n",
    "    print('')"
   ]
  },
  {
   "cell_type": "markdown",
   "metadata": {},
   "source": [
    "There are really long texts, and repetitions.\n",
    "Using regular expressions, we are looking for texts in Russian and Chinese (I think Cyrillic or hieroglyphs are very noticeable against the background of Latin alphanumeric)"
   ]
  },
  {
   "cell_type": "code",
   "execution_count": 11,
   "metadata": {},
   "outputs": [
    {
     "data": {
      "text/plain": [
       "0    159312\n",
       "1       259\n",
       "Name: flg_rus, dtype: int64"
      ]
     },
     "metadata": {},
     "output_type": "display_data"
    },
    {
     "data": {
      "text/plain": [
       "0    159227\n",
       "1       344\n",
       "Name: flg_ch, dtype: int64"
      ]
     },
     "metadata": {},
     "output_type": "display_data"
    }
   ],
   "source": [
    "rus = r'[а-яА-ЯёЁ]'\n",
    "ch = r'([\\u4e00-\\u9fff]+)'\n",
    "\n",
    "def check_rus(value):\n",
    "    return int(re.search(rus, value) is not None)\n",
    "\n",
    "def check_ch(value):\n",
    "    return int(re.search(ch, value) is not None)\n",
    "\n",
    "df['flg_rus'] = df['text'].apply(check_rus)\n",
    "df['flg_ch'] = df['text'].apply(check_ch)\n",
    "\n",
    "display(df['flg_rus'].value_counts())\n",
    "display(df['flg_ch'].value_counts())"
   ]
  },
  {
   "cell_type": "code",
   "execution_count": 12,
   "metadata": {},
   "outputs": [
    {
     "name": "stdout",
     "output_type": "stream",
     "text": [
      "MESSAGE:  Ahh, Hello Witzeman \n",
      "\n",
      "203.92.84.161  \n",
      "Symbols: ~ | ¡ ¿ † ‡ ↔ ↑ ↓ • ¶   # ½ ⅓ ⅔ ¼ ¾ ⅛ ⅜ ⅝ ⅞ ∞   ‘ “ ’ ” «»   ¤ ₳ ฿ ₵ ¢ ₡ ₢ $ ₫ ₯ € ₠ ₣ ƒ ₴ ₭ ₤ ℳ ₥ ₦ № ₧ ₰ £ ៛ ₨ ₪ ৳ ₮ ₩ ¥   ♠ ♣ ♥ ♦   m² m³ \n",
      "Characters: Á á Ć ć É é Í í Ĺ ĺ Ń ń Ó ó Ŕ ŕ Ś ś Ú ú Ý ý Ź ź   À à È è Ì ì Ò ò Ù ù   Â â Ĉ ĉ Ê ê Ĝ ĝ Ĥ ĥ Î î Ĵ ĵ Ô ô Ŝ ŝ Û û Ŵ ŵ Ŷ ŷ   Ä ä Ë ë Ï ï Ö ö Ü ü Ÿ ÿ   ß   Ã ã Ẽ ẽ Ĩ ĩ Ñ ñ Õ õ Ũ ũ Ỹ ỹ   Ç ç Ģ ģ Ķ ķ Ļ ļ Ņ ņ Ŗ ŗ Ş ş Ţ ţ   Đ đ   Ů ů   Ǎ ǎ Č č Ď ď Ě ě Ǐ ǐ Ľ ľ Ň ň Ǒ ǒ Ř ř Š š Ť ť Ǔ ǔ Ž ž   Ā ā Ē ē Ī ī Ō ō Ū\n",
      "\n",
      "MESSAGE:  http://www.users.bigpond.com/MONTDALE/page8.html  Heritage from village Κρανιώνας in macedonian Дреновени. Sources claim that the village was pure Slavic.\n",
      "\n",
      "MESSAGE:  \"\n",
      "\n",
      " Yobot: incorrect DEFAULTSORT \n",
      "\n",
      "Hi, Yobot  an incorrect DEFAULTSORT. It's puzzling as to why it didn't recognize the article as being about a person. Among other clues, it included birth and death dates at the top, as well as a  (which Yobot substituted to additionally include the correct DEFAULTSORT).  • XAЯAbИAM \"\n",
      "\n"
     ]
    }
   ],
   "source": [
    "for i in df[df['flg_rus'] == 1]['text'].head(3).values:\n",
    "    print('MESSAGE: ', i[:500])\n",
    "    print('')"
   ]
  },
  {
   "cell_type": "code",
   "execution_count": 13,
   "metadata": {},
   "outputs": [
    {
     "name": "stdout",
     "output_type": "stream",
     "text": [
      "MESSAGE:  \"\n",
      "Oppose I find it hard to believe this requires an RFC, but such is the wikiworld... 連絡 見学/迷惑 \"\n",
      "\n",
      "MESSAGE:  \"\n",
      "The fact of the matter is that Toei and Bandai have been using \"\"Gorenger\"\" to exclusively refer to the first Super Sentai series since at least 2006. Every subsequent series that has the レンジャー ending has been \"\"-ranger\"\". You can see this sort of thing on any of the print material released by them lately has it as \"\"Gorenger\"\", while all the others have been \"\"Turboranger\"\", \"\"Zyuranger\"\", \"\"Dairanger\"\", \"\"Kakuranger\"\", \"\"Ohranger\"\", \"\"Carranger\"\", \"\"Megaranger\"\", \"\"Timeranger\"\", \"\"Gaoranger\"\n",
      "\n",
      "MESSAGE:  \", 20 January 2013 (UTC)\n",
      "The argument at WP:NATURAL seems to rely on showing that the other name is common, so you need to prove that the other name is common. Numbers might help a bit. Also, above we are told that \"\"Gohatto\"\" rather than 御法度 is the name of the film in Japan, but this turned out to be false. Incidentally, Ryuhei Matsuda, it seems to me, looks more like his mother than his father. What do you think? Also, how authentic is the portrayal of the Shinsengumi in this film? Do you have\n",
      "\n"
     ]
    }
   ],
   "source": [
    "for i in df[df['flg_ch'] == 1]['text'].head(3).values:\n",
    "    print('MESSAGE: ', i[:500])\n",
    "    print('')"
   ]
  },
  {
   "cell_type": "code",
   "execution_count": 14,
   "metadata": {},
   "outputs": [],
   "source": [
    "drop_clmns = ['flg_rus','flg_ch']\n",
    "df = df.drop(drop_clmns, axis = 1).copy()"
   ]
  },
  {
   "cell_type": "markdown",
   "metadata": {},
   "source": [
    "**I propose to consider the comments as English**"
   ]
  },
  {
   "cell_type": "markdown",
   "metadata": {},
   "source": [
    "### Feature generation"
   ]
  },
  {
   "cell_type": "markdown",
   "metadata": {},
   "source": [
    "Before processing texts and removing extra characters, repetitions, etc. from them, it will be useful to generate additional features on the initially available data, this will help the model make a better prediction. \n",
    "\n",
    "I propose to create the following signs:\n",
    "\n",
    "- Number of characters\n",
    "- Number of words\n",
    "- Number of unique words\n",
    "- The number of words typed by caps\n",
    "- Number of stop words\n",
    "- Number of exclamation/question marks\n",
    "- Average word length\n",
    "\n",
    "All these signs (except for the average word length) must be normalized by the number of characters in the comment, since we have a large spread in the length of texts"
   ]
  },
  {
   "cell_type": "code",
   "execution_count": 15,
   "metadata": {},
   "outputs": [],
   "source": [
    "df['char_count'] = df['text'].str.len()\n",
    "\n",
    "df['words_count'] = df['text'].str.count(' ') + 1\n",
    "\n",
    "def uniq_cnt(string):\n",
    "    string = str(string)\n",
    "    return len(set(string.split()))\n",
    "\n",
    "df['words_unique_count'] = df['text'].apply(uniq_cnt)\n",
    "\n",
    "def caps_cnt(string):\n",
    "    cnt = 0\n",
    "    string = str(string)\n",
    "    for i in string.split():\n",
    "        if i.isupper() == True:\n",
    "            cnt += 1\n",
    "    return cnt\n",
    "\n",
    "df['words_caps_count'] = df['text'].apply(caps_cnt)\n",
    "\n",
    "def stop_words_cnt(string):\n",
    "    cnt = 0\n",
    "    string = str(string)\n",
    "    for i in string.split():\n",
    "        if i in stopwords:\n",
    "            cnt += 1\n",
    "    return cnt\n",
    "            \n",
    "df['stop_words_count'] = df['text'].apply(stop_words_cnt)\n",
    "\n",
    "def quest_cnt(string):\n",
    "    cnt = 0\n",
    "    string = str(string)\n",
    "    for i in string.split():\n",
    "        cnt += i.count('?')\n",
    "    return cnt\n",
    "            \n",
    "df['q_words_count'] = df['text'].apply(quest_cnt)\n",
    "\n",
    "def excl_cnt(string):\n",
    "    cnt = 0\n",
    "    string = str(string)\n",
    "    for i in string.split():\n",
    "        cnt += i.count('!')\n",
    "    return cnt\n",
    "            \n",
    "df['excl_words_count'] = df['text'].apply(excl_cnt)\n",
    "\n",
    "\n",
    "def avg_len_word(string):\n",
    "    string = str(string)\n",
    "    return sum(len(word) for word in string.split()) / len(string.split())\n",
    "\n",
    "df['avg_len_word'] = df['text'].apply(avg_len_word)"
   ]
  },
  {
   "cell_type": "code",
   "execution_count": 16,
   "metadata": {},
   "outputs": [
    {
     "data": {
      "text/html": [
       "<div>\n",
       "<style scoped>\n",
       "    .dataframe tbody tr th:only-of-type {\n",
       "        vertical-align: middle;\n",
       "    }\n",
       "\n",
       "    .dataframe tbody tr th {\n",
       "        vertical-align: top;\n",
       "    }\n",
       "\n",
       "    .dataframe thead th {\n",
       "        text-align: right;\n",
       "    }\n",
       "</style>\n",
       "<table border=\"1\" class=\"dataframe\">\n",
       "  <thead>\n",
       "    <tr style=\"text-align: right;\">\n",
       "      <th></th>\n",
       "      <th>text</th>\n",
       "      <th>toxic</th>\n",
       "      <th>char_count</th>\n",
       "      <th>words_count</th>\n",
       "      <th>words_unique_count</th>\n",
       "      <th>words_caps_count</th>\n",
       "      <th>stop_words_count</th>\n",
       "      <th>q_words_count</th>\n",
       "      <th>excl_words_count</th>\n",
       "      <th>avg_len_word</th>\n",
       "    </tr>\n",
       "  </thead>\n",
       "  <tbody>\n",
       "    <tr>\n",
       "      <th>0</th>\n",
       "      <td>Explanation\\nWhy the edits made under my usern...</td>\n",
       "      <td>0</td>\n",
       "      <td>264</td>\n",
       "      <td>42</td>\n",
       "      <td>41</td>\n",
       "      <td>2</td>\n",
       "      <td>14</td>\n",
       "      <td>1</td>\n",
       "      <td>0</td>\n",
       "      <td>5.162791</td>\n",
       "    </tr>\n",
       "    <tr>\n",
       "      <th>1</th>\n",
       "      <td>D'aww! He matches this background colour I'm s...</td>\n",
       "      <td>0</td>\n",
       "      <td>112</td>\n",
       "      <td>18</td>\n",
       "      <td>17</td>\n",
       "      <td>1</td>\n",
       "      <td>1</td>\n",
       "      <td>0</td>\n",
       "      <td>1</td>\n",
       "      <td>5.588235</td>\n",
       "    </tr>\n",
       "    <tr>\n",
       "      <th>2</th>\n",
       "      <td>Hey man, I'm really not trying to edit war. It...</td>\n",
       "      <td>0</td>\n",
       "      <td>233</td>\n",
       "      <td>42</td>\n",
       "      <td>39</td>\n",
       "      <td>0</td>\n",
       "      <td>18</td>\n",
       "      <td>0</td>\n",
       "      <td>0</td>\n",
       "      <td>4.571429</td>\n",
       "    </tr>\n",
       "  </tbody>\n",
       "</table>\n",
       "</div>"
      ],
      "text/plain": [
       "                                                text  toxic  char_count  \\\n",
       "0  Explanation\\nWhy the edits made under my usern...      0         264   \n",
       "1  D'aww! He matches this background colour I'm s...      0         112   \n",
       "2  Hey man, I'm really not trying to edit war. It...      0         233   \n",
       "\n",
       "   words_count  words_unique_count  words_caps_count  stop_words_count  \\\n",
       "0           42                  41                 2                14   \n",
       "1           18                  17                 1                 1   \n",
       "2           42                  39                 0                18   \n",
       "\n",
       "   q_words_count  excl_words_count  avg_len_word  \n",
       "0              1                 0      5.162791  \n",
       "1              0                 1      5.588235  \n",
       "2              0                 0      4.571429  "
      ]
     },
     "execution_count": 16,
     "metadata": {},
     "output_type": "execute_result"
    }
   ],
   "source": [
    "df.head(3)"
   ]
  },
  {
   "cell_type": "code",
   "execution_count": 17,
   "metadata": {},
   "outputs": [
    {
     "data": {
      "text/html": [
       "<div>\n",
       "<style scoped>\n",
       "    .dataframe tbody tr th:only-of-type {\n",
       "        vertical-align: middle;\n",
       "    }\n",
       "\n",
       "    .dataframe tbody tr th {\n",
       "        vertical-align: top;\n",
       "    }\n",
       "\n",
       "    .dataframe thead th {\n",
       "        text-align: right;\n",
       "    }\n",
       "</style>\n",
       "<table border=\"1\" class=\"dataframe\">\n",
       "  <thead>\n",
       "    <tr style=\"text-align: right;\">\n",
       "      <th></th>\n",
       "      <th>text</th>\n",
       "      <th>toxic</th>\n",
       "      <th>words_count</th>\n",
       "      <th>words_unique_count</th>\n",
       "      <th>words_caps_count</th>\n",
       "      <th>stop_words_count</th>\n",
       "      <th>q_words_count</th>\n",
       "      <th>excl_words_count</th>\n",
       "      <th>avg_len_word</th>\n",
       "    </tr>\n",
       "  </thead>\n",
       "  <tbody>\n",
       "    <tr>\n",
       "      <th>0</th>\n",
       "      <td>Explanation\\nWhy the edits made under my usern...</td>\n",
       "      <td>0</td>\n",
       "      <td>0.159091</td>\n",
       "      <td>0.155303</td>\n",
       "      <td>0.007576</td>\n",
       "      <td>0.053030</td>\n",
       "      <td>0.003788</td>\n",
       "      <td>0.000000</td>\n",
       "      <td>0.019556</td>\n",
       "    </tr>\n",
       "    <tr>\n",
       "      <th>1</th>\n",
       "      <td>D'aww! He matches this background colour I'm s...</td>\n",
       "      <td>0</td>\n",
       "      <td>0.160714</td>\n",
       "      <td>0.151786</td>\n",
       "      <td>0.008929</td>\n",
       "      <td>0.008929</td>\n",
       "      <td>0.000000</td>\n",
       "      <td>0.008929</td>\n",
       "      <td>0.049895</td>\n",
       "    </tr>\n",
       "    <tr>\n",
       "      <th>2</th>\n",
       "      <td>Hey man, I'm really not trying to edit war. It...</td>\n",
       "      <td>0</td>\n",
       "      <td>0.180258</td>\n",
       "      <td>0.167382</td>\n",
       "      <td>0.000000</td>\n",
       "      <td>0.077253</td>\n",
       "      <td>0.000000</td>\n",
       "      <td>0.000000</td>\n",
       "      <td>0.019620</td>\n",
       "    </tr>\n",
       "  </tbody>\n",
       "</table>\n",
       "</div>"
      ],
      "text/plain": [
       "                                                text  toxic  words_count  \\\n",
       "0  Explanation\\nWhy the edits made under my usern...      0     0.159091   \n",
       "1  D'aww! He matches this background colour I'm s...      0     0.160714   \n",
       "2  Hey man, I'm really not trying to edit war. It...      0     0.180258   \n",
       "\n",
       "   words_unique_count  words_caps_count  stop_words_count  q_words_count  \\\n",
       "0            0.155303          0.007576          0.053030       0.003788   \n",
       "1            0.151786          0.008929          0.008929       0.000000   \n",
       "2            0.167382          0.000000          0.077253       0.000000   \n",
       "\n",
       "   excl_words_count  avg_len_word  \n",
       "0          0.000000      0.019556  \n",
       "1          0.008929      0.049895  \n",
       "2          0.000000      0.019620  "
      ]
     },
     "execution_count": 17,
     "metadata": {},
     "output_type": "execute_result"
    }
   ],
   "source": [
    "for column in df.columns[3:]:\n",
    "    df[column] = df[column] / df['char_count']\n",
    "\n",
    "drop_clmns = ['char_count']\n",
    "df = df.drop(drop_clmns, axis = 1).copy()\n",
    "\n",
    "df.head(3)"
   ]
  },
  {
   "cell_type": "markdown",
   "metadata": {},
   "source": [
    "Signs have been created, normalization has been made."
   ]
  },
  {
   "cell_type": "markdown",
   "metadata": {},
   "source": [
    "### Clearing texts"
   ]
  },
  {
   "cell_type": "markdown",
   "metadata": {},
   "source": [
    "Next, the text must be cleared of punctuation marks, links, usernames and other unnecessary constructions.  "
   ]
  },
  {
   "cell_type": "code",
   "execution_count": 18,
   "metadata": {},
   "outputs": [],
   "source": [
    "def fix_text(text):\n",
    "    \n",
    "    username = re.compile(r'user\\S*')              \n",
    "    url = re.compile(r'https?://\\S+|www\\.\\S+')        \n",
    "    html = re.compile(r'<.*?>')                       \n",
    "    engl = re.compile(r'[^a-z]')                      \n",
    "    \n",
    "    for i in [username, url, html, engl]:\n",
    "        new = i.sub(r' ',text.lower())\n",
    "    \n",
    "    new = \" \".join(new.split())\n",
    "   \n",
    "    return new"
   ]
  },
  {
   "cell_type": "markdown",
   "metadata": {},
   "source": [
    "We will apply it to the text, and we will also delete all entries that have become empty after the transformations."
   ]
  },
  {
   "cell_type": "code",
   "execution_count": 19,
   "metadata": {},
   "outputs": [
    {
     "data": {
      "text/plain": [
       "159564"
      ]
     },
     "execution_count": 19,
     "metadata": {},
     "output_type": "execute_result"
    }
   ],
   "source": [
    "df['text'] = df['text'].apply(fix_text)\n",
    "df = df[df['text'] != '']\n",
    "\n",
    "len(df)"
   ]
  },
  {
   "cell_type": "markdown",
   "metadata": {},
   "source": [
    "### Lemmitization"
   ]
  },
  {
   "cell_type": "markdown",
   "metadata": {},
   "source": [
    "After all manipulations with the data, we will carry out lemmitization"
   ]
  },
  {
   "cell_type": "code",
   "execution_count": 20,
   "metadata": {
    "scrolled": true
   },
   "outputs": [
    {
     "name": "stdout",
     "output_type": "stream",
     "text": [
      "you sir are my hero any chance you remember what page that s on \n",
      "\n",
      "sir hero chance remember page\n",
      "CPU times: user 14.7 ms, sys: 1.92 ms, total: 16.7 ms\n",
      "Wall time: 15.1 ms\n"
     ]
    }
   ],
   "source": [
    "%%time\n",
    "\n",
    "def lemmatize_text(text):\n",
    "    res = []\n",
    "    sentence = nlp(text)\n",
    "    for token in sentence:\n",
    "        lemm = token.lemma_\n",
    "        if lemm not in stopwords:\n",
    "            res.append(lemm)\n",
    "    return ' '.join(res)\n",
    "\n",
    "\n",
    "print(df['text'][4], '\\n')\n",
    "print(lemmatize_text(df['text'][4]))"
   ]
  },
  {
   "cell_type": "code",
   "execution_count": 21,
   "metadata": {},
   "outputs": [
    {
     "name": "stdout",
     "output_type": "stream",
     "text": [
      "CPU times: user 3 µs, sys: 0 ns, total: 3 µs\n",
      "Wall time: 5.96 µs\n"
     ]
    }
   ],
   "source": [
    "%%time\n",
    "if RECALC_FLG == True:\n",
    "    df['text_lemm'] = df['text'].apply(lemmatize_text)\n",
    "    df.to_csv('toxic_comments_end.csv')"
   ]
  },
  {
   "cell_type": "markdown",
   "metadata": {},
   "source": [
    "We will save the results so as not to wait for recalculation, if we need to recalculate or clarify something"
   ]
  },
  {
   "cell_type": "code",
   "execution_count": 22,
   "metadata": {},
   "outputs": [],
   "source": [
    "df = pd.read_csv('toxic_comments_end.csv', index_col = 0)"
   ]
  },
  {
   "cell_type": "code",
   "execution_count": 23,
   "metadata": {},
   "outputs": [],
   "source": [
    "drop_clmns = ['text']\n",
    "df = df.drop(drop_clmns, axis = 1).copy()"
   ]
  },
  {
   "cell_type": "markdown",
   "metadata": {},
   "source": [
    "### Text vectorization"
   ]
  },
  {
   "cell_type": "markdown",
   "metadata": {},
   "source": [
    "Immediately before vectorization, we will perform the stages of preparing data for training that are familiar to us.  \n",
    "First, let's break down our data into a train and a test"
   ]
  },
  {
   "cell_type": "code",
   "execution_count": 24,
   "metadata": {},
   "outputs": [],
   "source": [
    "features = df.drop('toxic', axis=1)\n",
    "target = df['toxic']"
   ]
  },
  {
   "cell_type": "code",
   "execution_count": 25,
   "metadata": {},
   "outputs": [],
   "source": [
    "features_train, features_test, target_train, target_test = train_test_split(\n",
    "                                     features, target, test_size = 0.25, random_state = 12345)"
   ]
  },
  {
   "cell_type": "code",
   "execution_count": 26,
   "metadata": {},
   "outputs": [],
   "source": [
    "scaler = StandardScaler()\n",
    "\n",
    "scaler.fit(features_train.drop('text_lemm', axis = 1))\n",
    "\n",
    "features_train_nm = scaler.transform(features_train.drop('text_lemm', axis = 1))\n",
    "features_test_nm = scaler.transform(features_test.drop('text_lemm', axis = 1))"
   ]
  },
  {
   "cell_type": "markdown",
   "metadata": {},
   "source": [
    "**TF/IDF**\n",
    "\n",
    "The evaluation of the importance of a word is determined by the TF-IDF value.\n",
    "- TF is responsible for the number of mentions of a word in a separate text\n",
    "- IDF reflects the frequency of its use throughout the corpus"
   ]
  },
  {
   "cell_type": "code",
   "execution_count": 27,
   "metadata": {},
   "outputs": [],
   "source": [
    "features_train_corpus = features_train['text_lemm'].values.astype('U')\n",
    "features_test_corpus = features_test['text_lemm'].values.astype('U')"
   ]
  },
  {
   "cell_type": "markdown",
   "metadata": {},
   "source": [
    "We carry out vectorization\n",
    "\n",
    "Let's set a limit on the number of generated features, otherwise no model will be able to survive our dataset"
   ]
  },
  {
   "cell_type": "code",
   "execution_count": 28,
   "metadata": {},
   "outputs": [],
   "source": [
    "tf_idf = TfidfVectorizer(sublinear_tf = True, max_features = 100000)\n",
    "\n",
    "tf_idf_train = tf_idf.fit_transform(features_train_corpus)\n",
    "tf_idf_test = tf_idf.transform(features_test_corpus)"
   ]
  },
  {
   "cell_type": "code",
   "execution_count": 29,
   "metadata": {},
   "outputs": [
    {
     "name": "stdout",
     "output_type": "stream",
     "text": [
      "(119673, 100000)\n",
      "(39891, 100000)\n"
     ]
    }
   ],
   "source": [
    "print(tf_idf_train.shape)\n",
    "print(tf_idf_test.shape)"
   ]
  },
  {
   "cell_type": "markdown",
   "metadata": {},
   "source": [
    "It is important not to forget to add our scaled additional features to the result"
   ]
  },
  {
   "cell_type": "code",
   "execution_count": 30,
   "metadata": {},
   "outputs": [
    {
     "name": "stdout",
     "output_type": "stream",
     "text": [
      "<class 'scipy.sparse._csr.csr_matrix'>\n",
      "<class 'numpy.ndarray'>\n"
     ]
    }
   ],
   "source": [
    "print(type(tf_idf_train))\n",
    "print(type(features_train_nm))"
   ]
  },
  {
   "cell_type": "code",
   "execution_count": 31,
   "metadata": {},
   "outputs": [
    {
     "data": {
      "text/plain": [
       "(119673, 100007)"
      ]
     },
     "execution_count": 31,
     "metadata": {},
     "output_type": "execute_result"
    }
   ],
   "source": [
    "features_train_end = sps.hstack([tf_idf_train, features_train_nm]).tocsr()\n",
    "features_test_end = sps.hstack([tf_idf_test, features_test_nm]).tocsr()\n",
    "\n",
    "features_train_end.shape"
   ]
  },
  {
   "cell_type": "code",
   "execution_count": 32,
   "metadata": {},
   "outputs": [
    {
     "name": "stdout",
     "output_type": "stream",
     "text": [
      "<class 'scipy.sparse._csr.csr_matrix'>\n"
     ]
    }
   ],
   "source": [
    "print(type(features_train_end))"
   ]
  },
  {
   "cell_type": "markdown",
   "metadata": {},
   "source": [
    "**Conclusion**\n",
    "\n",
    "At this stage of the study, the following were carried out:\n",
    "\n",
    "- data preprocessing and research\n",
    "    - read and studied the data\n",
    "    - created additional prizes\n",
    "    - cleaned texts from links, usernames and tags\n",
    "- preparation of data for training\n",
    "    - split the sample into test and training\n",
    "    - carried out scaling of quantitative features\n",
    "    - made lemmitization and vectorization of the text"
   ]
  },
  {
   "cell_type": "markdown",
   "metadata": {},
   "source": [
    "## Model training"
   ]
  },
  {
   "cell_type": "markdown",
   "metadata": {},
   "source": [
    "Now you can start training models.\n",
    "\n",
    "***Unlike all previous projects, here we will not use cross validation and selection of hyperparameters,\n",
    "because all this kills the kernel, I believe this is due to the size of the dataset.***\n",
    "\n",
    "**Logistic regression**"
   ]
  },
  {
   "cell_type": "code",
   "execution_count": 33,
   "metadata": {},
   "outputs": [],
   "source": [
    "model_lr = LogisticRegression(random_state = 12345, class_weight = 'balanced', max_iter = 500)"
   ]
  },
  {
   "cell_type": "markdown",
   "metadata": {},
   "source": [
    "The dimensions of the dataset, taking into account vectorization, became significant, so I had to manually change the number of iterations"
   ]
  },
  {
   "cell_type": "code",
   "execution_count": 34,
   "metadata": {},
   "outputs": [
    {
     "name": "stdout",
     "output_type": "stream",
     "text": [
      "F1 LR 0.75700425160798\n",
      "CPU times: user 1min 58s, sys: 48.5 s, total: 2min 47s\n",
      "Wall time: 16.6 s\n"
     ]
    }
   ],
   "source": [
    "%%time\n",
    "\n",
    "model_lr.fit(features_train_end, target_train)\n",
    "\n",
    "predicted_target_test_lr = model_lr.predict(features_test_end)\n",
    "print('F1 LR', f1_score(predicted_target_test_lr, target_test))"
   ]
  },
  {
   "cell_type": "markdown",
   "metadata": {},
   "source": [
    "**CatBoost**\n",
    "\n",
    "There is a built-in type of variables for the text, so we will train the model on pre-limited and cleaned texts, but without vectoization"
   ]
  },
  {
   "cell_type": "code",
   "execution_count": 35,
   "metadata": {},
   "outputs": [],
   "source": [
    "df_cb = pd.read_csv('toxic_comments_end.csv', index_col = 0)\n",
    "df_cb = df_cb.drop('text', axis = 1).copy()\n",
    "df_cb.rename(columns = {'text_lemm':'text'}, inplace = True)\n",
    "df_cb['text'] = df_cb['text'].dropna().copy()\n",
    "df_cb['text'] = df_cb['text'].astype('str')\n",
    "\n",
    "\n",
    "features_cb = df_cb.drop('toxic', axis=1)\n",
    "target_cb = df_cb['toxic']\n",
    "\n",
    "features_train_cb, features_test_cb, target_train_cb, target_test_cb = train_test_split(\n",
    "                                     features_cb, target_cb, test_size = 0.25, random_state = 12345)\n",
    "\n",
    "cw = [1, (pd.DataFrame(target_train_cb)['toxic'] == 0).sum() / \n",
    "                   (pd.DataFrame(target_train_cb)['toxic'] == 1).sum()]"
   ]
  },
  {
   "cell_type": "code",
   "execution_count": 36,
   "metadata": {},
   "outputs": [],
   "source": [
    "model_cb = CatBoostClassifier(verbose = 100,\n",
    "                               learning_rate = 0.5,\n",
    "                               early_stopping_rounds = 200,\n",
    "                               eval_metric = 'F1',\n",
    "                               loss_function = 'Logloss',\n",
    "                               class_weights = cw)                  "
   ]
  },
  {
   "cell_type": "code",
   "execution_count": 37,
   "metadata": {},
   "outputs": [
    {
     "name": "stdout",
     "output_type": "stream",
     "text": [
      "0:\tlearn: 0.8370818\ttotal: 164ms\tremaining: 2m 44s\n",
      "100:\tlearn: 0.9285629\ttotal: 8.76s\tremaining: 1m 18s\n",
      "200:\tlearn: 0.9471598\ttotal: 16.6s\tremaining: 1m 6s\n",
      "300:\tlearn: 0.9602968\ttotal: 24.5s\tremaining: 57s\n",
      "400:\tlearn: 0.9692884\ttotal: 33s\tremaining: 49.2s\n",
      "500:\tlearn: 0.9755328\ttotal: 41.9s\tremaining: 41.7s\n",
      "600:\tlearn: 0.9790730\ttotal: 50.2s\tremaining: 33.4s\n",
      "700:\tlearn: 0.9817389\ttotal: 58.5s\tremaining: 25s\n",
      "800:\tlearn: 0.9841077\ttotal: 1m 6s\tremaining: 16.6s\n",
      "900:\tlearn: 0.9855123\ttotal: 1m 14s\tremaining: 8.21s\n",
      "999:\tlearn: 0.9873443\ttotal: 1m 22s\tremaining: 0us\n",
      "CPU times: user 11min 38s, sys: 1min 27s, total: 13min 6s\n",
      "Wall time: 1min 26s\n"
     ]
    },
    {
     "data": {
      "text/plain": [
       "<catboost.core.CatBoostClassifier at 0x7fd563d11700>"
      ]
     },
     "execution_count": 37,
     "metadata": {},
     "output_type": "execute_result"
    }
   ],
   "source": [
    "%%time\n",
    "\n",
    "model_cb.fit(\n",
    "        features_train_cb, \n",
    "        target_train_cb,\n",
    "        text_features = ['text']) "
   ]
  },
  {
   "cell_type": "code",
   "execution_count": 38,
   "metadata": {},
   "outputs": [
    {
     "name": "stdout",
     "output_type": "stream",
     "text": [
      "F1 CB 0.759545923632611\n",
      "CPU times: user 4.51 s, sys: 59.9 ms, total: 4.57 s\n",
      "Wall time: 438 ms\n"
     ]
    }
   ],
   "source": [
    "%%time\n",
    "\n",
    "predicted_target_test_cb = model_cb.predict(features_test_cb)\n",
    "print('F1 CB', f1_score(predicted_target_test_cb, target_test_cb))"
   ]
  },
  {
   "cell_type": "markdown",
   "metadata": {},
   "source": [
    "## General conclusion"
   ]
  },
  {
   "cell_type": "markdown",
   "metadata": {},
   "source": [
    "The purpose of the work was to train a model to predict the toxicity of comments on the finished markup from the customer.\n",
    "\n",
    "The target value of the quality metric F1 > 0.75 was also indicated\n",
    "\n",
    "In the course of solving the problem , the following stages were completed:\n",
    "\n",
    "- research data analysis\n",
    "   - we looked at the balance of classes by target attribute\n",
    "   - distribution of the length of comments\n",
    "   - checked whether the comments are multilingual and if they are presented only in English\n",
    "\n",
    "- data preprocessing\n",
    "   - created additional prizenaks\n",
    "   - cleaned texts from links, usernames and tags\n",
    "\n",
    "- preparation of data for training\n",
    "   - split the sample into test and training\n",
    "   - carried out scaling of quantitative features\n",
    " \n",
    "- training of logistic regression models (**F1 = 0.757**) and gradient boosting (**F1= 0.759**)"
   ]
  }
 ],
 "metadata": {
  "ExecuteTimeLog": [
   {
    "duration": 1832,
    "start_time": "2022-07-17T09:22:39.795Z"
   },
   {
    "duration": 3308,
    "start_time": "2022-07-17T09:23:50.163Z"
   },
   {
    "duration": 178,
    "start_time": "2022-07-17T09:27:13.115Z"
   },
   {
    "duration": 1399,
    "start_time": "2022-07-17T09:27:37.749Z"
   },
   {
    "duration": 120,
    "start_time": "2022-07-17T09:28:14.266Z"
   },
   {
    "duration": 112,
    "start_time": "2022-07-17T09:28:33.253Z"
   },
   {
    "duration": 131,
    "start_time": "2022-07-17T09:29:00.160Z"
   },
   {
    "duration": 150,
    "start_time": "2022-07-17T09:32:34.615Z"
   },
   {
    "duration": 108,
    "start_time": "2022-07-17T09:32:46.477Z"
   },
   {
    "duration": 195,
    "start_time": "2022-07-17T09:33:01.777Z"
   },
   {
    "duration": 131,
    "start_time": "2022-07-17T09:34:18.766Z"
   },
   {
    "duration": 1027,
    "start_time": "2022-07-17T09:34:30.119Z"
   },
   {
    "duration": 1218,
    "start_time": "2022-07-17T09:34:53.566Z"
   },
   {
    "duration": 1135,
    "start_time": "2022-07-17T09:35:20.879Z"
   },
   {
    "duration": 977,
    "start_time": "2022-07-17T09:35:29.333Z"
   },
   {
    "duration": 1047,
    "start_time": "2022-07-17T09:35:36.951Z"
   },
   {
    "duration": 1706,
    "start_time": "2022-07-17T09:36:31.772Z"
   },
   {
    "duration": 1516,
    "start_time": "2022-07-17T09:36:49.542Z"
   },
   {
    "duration": 103,
    "start_time": "2022-07-17T09:37:40.061Z"
   },
   {
    "duration": 1056,
    "start_time": "2022-07-17T09:37:49.521Z"
   },
   {
    "duration": 1895,
    "start_time": "2022-07-17T09:38:02.753Z"
   },
   {
    "duration": 1688,
    "start_time": "2022-07-17T09:38:10.207Z"
   },
   {
    "duration": 1026,
    "start_time": "2022-07-17T09:39:54.938Z"
   },
   {
    "duration": 988,
    "start_time": "2022-07-17T09:40:01.313Z"
   },
   {
    "duration": 1120,
    "start_time": "2022-07-17T09:40:17.382Z"
   },
   {
    "duration": 1116,
    "start_time": "2022-07-17T09:41:21.719Z"
   },
   {
    "duration": 1286,
    "start_time": "2022-07-17T09:41:27.250Z"
   },
   {
    "duration": 1102,
    "start_time": "2022-07-17T09:41:49.898Z"
   },
   {
    "duration": 1181,
    "start_time": "2022-07-17T09:42:00.245Z"
   },
   {
    "duration": 590,
    "start_time": "2022-07-17T09:44:36.439Z"
   },
   {
    "duration": 116,
    "start_time": "2022-07-17T09:45:04.273Z"
   },
   {
    "duration": 122,
    "start_time": "2022-07-17T09:45:17.935Z"
   },
   {
    "duration": 100,
    "start_time": "2022-07-17T09:46:17.008Z"
   },
   {
    "duration": 110,
    "start_time": "2022-07-17T09:46:42.274Z"
   },
   {
    "duration": 116,
    "start_time": "2022-07-17T09:49:26.550Z"
   },
   {
    "duration": 106,
    "start_time": "2022-07-17T09:51:07.120Z"
   },
   {
    "duration": 148,
    "start_time": "2022-07-17T09:51:43.223Z"
   },
   {
    "duration": 93,
    "start_time": "2022-07-17T09:51:58.934Z"
   },
   {
    "duration": 120,
    "start_time": "2022-07-17T09:52:15.156Z"
   },
   {
    "duration": 117,
    "start_time": "2022-07-17T09:52:50.456Z"
   },
   {
    "duration": 99,
    "start_time": "2022-07-17T09:52:58.369Z"
   },
   {
    "duration": 105,
    "start_time": "2022-07-17T09:53:16.747Z"
   },
   {
    "duration": 102,
    "start_time": "2022-07-17T09:53:22.430Z"
   },
   {
    "duration": 105,
    "start_time": "2022-07-17T09:53:30.363Z"
   },
   {
    "duration": 107,
    "start_time": "2022-07-17T09:53:34.895Z"
   },
   {
    "duration": 137,
    "start_time": "2022-07-17T09:53:39.041Z"
   },
   {
    "duration": 163,
    "start_time": "2022-07-17T09:53:43.665Z"
   },
   {
    "duration": 311,
    "start_time": "2022-07-17T09:53:57.250Z"
   },
   {
    "duration": 107,
    "start_time": "2022-07-17T09:54:36.780Z"
   },
   {
    "duration": 437,
    "start_time": "2022-07-17T09:56:38.158Z"
   },
   {
    "duration": 363,
    "start_time": "2022-07-17T09:57:03.649Z"
   },
   {
    "duration": 475,
    "start_time": "2022-07-17T09:57:30.898Z"
   },
   {
    "duration": 33,
    "start_time": "2022-07-17T09:57:52.692Z"
   },
   {
    "duration": 110,
    "start_time": "2022-07-17T09:58:38.491Z"
   },
   {
    "duration": 202,
    "start_time": "2022-07-17T09:58:49.072Z"
   },
   {
    "duration": 116,
    "start_time": "2022-07-17T09:58:59.645Z"
   },
   {
    "duration": 117,
    "start_time": "2022-07-17T09:59:05.944Z"
   },
   {
    "duration": 431,
    "start_time": "2022-07-17T09:59:17.451Z"
   },
   {
    "duration": 484,
    "start_time": "2022-07-17T09:59:27.164Z"
   },
   {
    "duration": 372,
    "start_time": "2022-07-17T09:59:32.845Z"
   },
   {
    "duration": 143,
    "start_time": "2022-07-17T09:59:41.700Z"
   },
   {
    "duration": 135,
    "start_time": "2022-07-17T10:00:05.403Z"
   },
   {
    "duration": 119,
    "start_time": "2022-07-17T10:00:35.647Z"
   },
   {
    "duration": 93,
    "start_time": "2022-07-17T10:02:25.938Z"
   },
   {
    "duration": 52,
    "start_time": "2022-07-17T10:02:41.477Z"
   },
   {
    "duration": 98,
    "start_time": "2022-07-17T10:02:45.111Z"
   },
   {
    "duration": 105,
    "start_time": "2022-07-17T10:02:58.044Z"
   },
   {
    "duration": 95,
    "start_time": "2022-07-17T10:03:36.818Z"
   },
   {
    "duration": 4,
    "start_time": "2022-07-17T11:03:01.861Z"
   },
   {
    "duration": 23,
    "start_time": "2022-07-17T11:05:24.989Z"
   },
   {
    "duration": 15,
    "start_time": "2022-07-17T11:05:46.320Z"
   },
   {
    "duration": 23,
    "start_time": "2022-07-17T11:06:43.949Z"
   },
   {
    "duration": 359,
    "start_time": "2022-07-17T11:07:02.913Z"
   },
   {
    "duration": 1115,
    "start_time": "2022-07-17T11:07:09.222Z"
   },
   {
    "duration": 438,
    "start_time": "2022-07-17T11:08:16.886Z"
   },
   {
    "duration": 1012,
    "start_time": "2022-07-17T11:08:32.692Z"
   },
   {
    "duration": 20,
    "start_time": "2022-07-17T11:08:54.207Z"
   },
   {
    "duration": 16,
    "start_time": "2022-07-17T11:09:05.396Z"
   },
   {
    "duration": 1121,
    "start_time": "2022-07-17T11:09:16.151Z"
   },
   {
    "duration": 480,
    "start_time": "2022-07-17T11:11:00.582Z"
   },
   {
    "duration": 17,
    "start_time": "2022-07-17T11:11:07.295Z"
   },
   {
    "duration": 279,
    "start_time": "2022-07-17T11:11:23.184Z"
   },
   {
    "duration": 331,
    "start_time": "2022-07-17T11:11:30.050Z"
   },
   {
    "duration": 285,
    "start_time": "2022-07-17T11:11:50.085Z"
   },
   {
    "duration": 5,
    "start_time": "2022-07-17T11:11:56.951Z"
   },
   {
    "duration": 1138,
    "start_time": "2022-07-17T11:11:57.321Z"
   },
   {
    "duration": 41,
    "start_time": "2022-07-17T11:11:58.462Z"
   },
   {
    "duration": 179,
    "start_time": "2022-07-17T11:11:58.525Z"
   },
   {
    "duration": 1732,
    "start_time": "2022-07-17T11:11:58.707Z"
   },
   {
    "duration": 529,
    "start_time": "2022-07-17T11:12:00.445Z"
   },
   {
    "duration": 137,
    "start_time": "2022-07-17T11:12:00.981Z"
   },
   {
    "duration": 148,
    "start_time": "2022-07-17T11:12:01.125Z"
   },
   {
    "duration": 337,
    "start_time": "2022-07-17T11:12:01.275Z"
   },
   {
    "duration": 1008,
    "start_time": "2022-07-17T11:12:34.080Z"
   },
   {
    "duration": 2242,
    "start_time": "2022-07-17T11:13:33.549Z"
   },
   {
    "duration": 2338,
    "start_time": "2022-07-17T11:13:51.647Z"
   },
   {
    "duration": 2536,
    "start_time": "2022-07-17T11:14:06.195Z"
   },
   {
    "duration": 15,
    "start_time": "2022-07-17T11:16:02.952Z"
   },
   {
    "duration": 8,
    "start_time": "2022-07-17T11:16:35.215Z"
   },
   {
    "duration": 6,
    "start_time": "2022-07-17T11:16:43.180Z"
   },
   {
    "duration": 7,
    "start_time": "2022-07-17T11:17:04.494Z"
   },
   {
    "duration": 11,
    "start_time": "2022-07-17T11:17:43.624Z"
   },
   {
    "duration": 71,
    "start_time": "2022-07-17T11:17:43.828Z"
   },
   {
    "duration": 7,
    "start_time": "2022-07-17T12:35:26.978Z"
   },
   {
    "duration": 2147,
    "start_time": "2022-07-17T14:41:14.309Z"
   },
   {
    "duration": 9030,
    "start_time": "2022-07-17T14:48:31.273Z"
   },
   {
    "duration": 20,
    "start_time": "2022-07-17T14:53:05.657Z"
   },
   {
    "duration": 4,
    "start_time": "2022-07-17T14:54:16.040Z"
   },
   {
    "duration": 3,
    "start_time": "2022-07-17T14:54:22.876Z"
   },
   {
    "duration": 12,
    "start_time": "2022-07-17T14:54:38.449Z"
   },
   {
    "duration": 5,
    "start_time": "2022-07-17T14:54:49.277Z"
   },
   {
    "duration": 6,
    "start_time": "2022-07-17T14:55:01.224Z"
   },
   {
    "duration": 35,
    "start_time": "2022-07-17T14:55:11.382Z"
   },
   {
    "duration": 10,
    "start_time": "2022-07-17T14:55:30.537Z"
   },
   {
    "duration": 5,
    "start_time": "2022-07-17T14:55:48.561Z"
   },
   {
    "duration": 3,
    "start_time": "2022-07-17T14:55:54.703Z"
   },
   {
    "duration": 9,
    "start_time": "2022-07-17T14:55:57.287Z"
   },
   {
    "duration": 21,
    "start_time": "2022-07-17T14:56:54.346Z"
   },
   {
    "duration": 8,
    "start_time": "2022-07-17T14:57:00.650Z"
   },
   {
    "duration": 9,
    "start_time": "2022-07-17T14:57:10.760Z"
   },
   {
    "duration": 10,
    "start_time": "2022-07-17T14:57:16.042Z"
   },
   {
    "duration": 3,
    "start_time": "2022-07-17T14:57:22.858Z"
   },
   {
    "duration": 5,
    "start_time": "2022-07-17T14:57:23.475Z"
   },
   {
    "duration": 5,
    "start_time": "2022-07-17T14:57:34.781Z"
   },
   {
    "duration": 8,
    "start_time": "2022-07-17T14:57:59.922Z"
   },
   {
    "duration": 13,
    "start_time": "2022-07-17T14:58:00.357Z"
   },
   {
    "duration": 3948,
    "start_time": "2022-07-17T14:58:19.174Z"
   },
   {
    "duration": 18,
    "start_time": "2022-07-17T14:58:25.271Z"
   },
   {
    "duration": 3993,
    "start_time": "2022-07-17T15:02:40.722Z"
   },
   {
    "duration": 464,
    "start_time": "2022-07-17T15:04:08.488Z"
   },
   {
    "duration": 3808,
    "start_time": "2022-07-17T15:04:17.237Z"
   },
   {
    "duration": 3986,
    "start_time": "2022-07-17T15:04:34.978Z"
   },
   {
    "duration": 5,
    "start_time": "2022-07-17T15:05:06.017Z"
   },
   {
    "duration": 4,
    "start_time": "2022-07-17T15:05:30.878Z"
   },
   {
    "duration": 5,
    "start_time": "2022-07-17T15:05:35.597Z"
   },
   {
    "duration": 1608,
    "start_time": "2022-07-17T15:05:45.862Z"
   },
   {
    "duration": 131,
    "start_time": "2022-07-17T15:05:47.473Z"
   },
   {
    "duration": 939,
    "start_time": "2022-07-17T15:05:47.606Z"
   },
   {
    "duration": 36,
    "start_time": "2022-07-17T15:05:48.548Z"
   },
   {
    "duration": 161,
    "start_time": "2022-07-17T15:05:48.586Z"
   },
   {
    "duration": 1158,
    "start_time": "2022-07-17T15:05:48.750Z"
   },
   {
    "duration": 377,
    "start_time": "2022-07-17T15:05:49.910Z"
   },
   {
    "duration": 146,
    "start_time": "2022-07-17T15:05:50.289Z"
   },
   {
    "duration": 114,
    "start_time": "2022-07-17T15:05:50.437Z"
   },
   {
    "duration": 2177,
    "start_time": "2022-07-17T15:05:50.554Z"
   },
   {
    "duration": 16,
    "start_time": "2022-07-17T15:05:52.734Z"
   },
   {
    "duration": 7,
    "start_time": "2022-07-17T15:05:52.752Z"
   },
   {
    "duration": 5037,
    "start_time": "2022-07-17T15:05:52.761Z"
   },
   {
    "duration": 5022,
    "start_time": "2022-07-17T15:06:38.579Z"
   },
   {
    "duration": 8,
    "start_time": "2022-07-17T15:27:07.893Z"
   },
   {
    "duration": 7,
    "start_time": "2022-07-17T15:27:23.051Z"
   },
   {
    "duration": 6853,
    "start_time": "2022-07-17T15:28:49.196Z"
   },
   {
    "duration": 26,
    "start_time": "2022-07-17T15:29:13.489Z"
   },
   {
    "duration": 151,
    "start_time": "2022-07-17T15:29:31.727Z"
   },
   {
    "duration": 17,
    "start_time": "2022-07-17T15:29:42.565Z"
   },
   {
    "duration": 22,
    "start_time": "2022-07-17T15:29:46.863Z"
   },
   {
    "duration": 20,
    "start_time": "2022-07-17T15:29:54.685Z"
   },
   {
    "duration": 19,
    "start_time": "2022-07-17T15:30:01.068Z"
   },
   {
    "duration": 20,
    "start_time": "2022-07-17T15:30:05.329Z"
   },
   {
    "duration": 20,
    "start_time": "2022-07-17T15:30:12.511Z"
   },
   {
    "duration": 11,
    "start_time": "2022-07-17T15:30:19.968Z"
   },
   {
    "duration": 10496,
    "start_time": "2022-07-17T15:31:12.914Z"
   },
   {
    "duration": 22,
    "start_time": "2022-07-17T15:31:29.077Z"
   },
   {
    "duration": 87,
    "start_time": "2022-07-17T15:32:56.890Z"
   },
   {
    "duration": 12937,
    "start_time": "2022-07-17T15:33:06.288Z"
   },
   {
    "duration": 12,
    "start_time": "2022-07-17T15:33:55.189Z"
   },
   {
    "duration": 29,
    "start_time": "2022-07-17T15:42:52.876Z"
   },
   {
    "duration": 20,
    "start_time": "2022-07-17T15:42:56.325Z"
   },
   {
    "duration": 12,
    "start_time": "2022-07-17T15:44:58.267Z"
   },
   {
    "duration": 32,
    "start_time": "2022-07-17T15:46:52.276Z"
   },
   {
    "duration": 75,
    "start_time": "2022-07-17T15:50:18.462Z"
   },
   {
    "duration": 14190,
    "start_time": "2022-07-17T15:51:05.714Z"
   },
   {
    "duration": 11,
    "start_time": "2022-07-17T15:51:19.905Z"
   },
   {
    "duration": 79,
    "start_time": "2022-07-17T15:51:19.917Z"
   },
   {
    "duration": 74,
    "start_time": "2022-07-17T15:53:10.495Z"
   },
   {
    "duration": 4,
    "start_time": "2022-07-17T16:01:33.898Z"
   },
   {
    "duration": 440,
    "start_time": "2022-07-17T16:02:07.874Z"
   },
   {
    "duration": 4,
    "start_time": "2022-07-17T16:02:29.293Z"
   },
   {
    "duration": 7304,
    "start_time": "2022-07-17T16:02:29.674Z"
   },
   {
    "duration": 17,
    "start_time": "2022-07-17T16:03:14.184Z"
   },
   {
    "duration": 4,
    "start_time": "2022-07-17T16:08:01.391Z"
   },
   {
    "duration": 5387,
    "start_time": "2022-07-17T16:08:06.183Z"
   },
   {
    "duration": 5201,
    "start_time": "2022-07-17T16:08:19.316Z"
   },
   {
    "duration": 5430,
    "start_time": "2022-07-17T16:08:42.516Z"
   },
   {
    "duration": 5393,
    "start_time": "2022-07-17T16:09:51.463Z"
   },
   {
    "duration": 46,
    "start_time": "2022-07-17T16:10:26.975Z"
   },
   {
    "duration": 6234,
    "start_time": "2022-07-17T16:10:43.467Z"
   },
   {
    "duration": 6518,
    "start_time": "2022-07-17T16:10:56.178Z"
   },
   {
    "duration": 104,
    "start_time": "2022-07-17T16:22:44.393Z"
   },
   {
    "duration": 501,
    "start_time": "2022-07-17T16:22:59.528Z"
   },
   {
    "duration": 70496,
    "start_time": "2022-07-17T16:24:01.571Z"
   },
   {
    "duration": 715,
    "start_time": "2022-07-17T16:25:12.077Z"
   },
   {
    "duration": 103,
    "start_time": "2022-07-17T16:26:03.865Z"
   },
   {
    "duration": 3,
    "start_time": "2022-07-17T16:26:58.668Z"
   },
   {
    "duration": 511,
    "start_time": "2022-07-17T16:27:07.976Z"
   },
   {
    "duration": 5,
    "start_time": "2022-07-17T16:27:33.568Z"
   },
   {
    "duration": 1048,
    "start_time": "2022-07-17T16:27:39.162Z"
   },
   {
    "duration": 1612,
    "start_time": "2022-07-17T16:27:45.864Z"
   },
   {
    "duration": 49983,
    "start_time": "2022-07-17T16:28:26.856Z"
   },
   {
    "duration": 8,
    "start_time": "2022-07-17T16:29:16.841Z"
   },
   {
    "duration": 166,
    "start_time": "2022-07-17T16:29:16.851Z"
   },
   {
    "duration": 2040371,
    "start_time": "2022-07-17T16:29:23.518Z"
   },
   {
    "duration": 1059,
    "start_time": "2022-07-17T17:04:03.434Z"
   },
   {
    "duration": 460,
    "start_time": "2022-07-17T17:04:14.646Z"
   },
   {
    "duration": 506,
    "start_time": "2022-07-17T17:05:39.433Z"
   },
   {
    "duration": 494,
    "start_time": "2022-07-17T17:05:59.608Z"
   },
   {
    "duration": 455,
    "start_time": "2022-07-17T17:07:09.980Z"
   },
   {
    "duration": 421,
    "start_time": "2022-07-17T17:07:18.054Z"
   },
   {
    "duration": 982,
    "start_time": "2022-07-17T17:07:33.759Z"
   },
   {
    "duration": 44806519,
    "start_time": "2022-07-17T17:07:46.341Z"
   },
   {
    "duration": 85,
    "start_time": "2022-07-18T05:34:32.863Z"
   },
   {
    "duration": 33006,
    "start_time": "2022-07-18T05:36:00.240Z"
   },
   {
    "duration": 3,
    "start_time": "2022-07-18T05:36:33.249Z"
   },
   {
    "duration": 466,
    "start_time": "2022-07-18T05:36:33.255Z"
   },
   {
    "duration": 841,
    "start_time": "2022-07-18T05:36:33.723Z"
   },
   {
    "duration": 37,
    "start_time": "2022-07-18T05:36:34.566Z"
   },
   {
    "duration": 155,
    "start_time": "2022-07-18T05:36:34.606Z"
   },
   {
    "duration": 1178,
    "start_time": "2022-07-18T05:36:34.763Z"
   },
   {
    "duration": 340,
    "start_time": "2022-07-18T05:36:35.943Z"
   },
   {
    "duration": 90,
    "start_time": "2022-07-18T05:36:36.286Z"
   },
   {
    "duration": 94,
    "start_time": "2022-07-18T05:36:36.378Z"
   },
   {
    "duration": 2127,
    "start_time": "2022-07-18T05:36:36.474Z"
   },
   {
    "duration": 8,
    "start_time": "2022-07-18T05:36:38.603Z"
   },
   {
    "duration": 26,
    "start_time": "2022-07-18T05:36:38.612Z"
   },
   {
    "duration": 21,
    "start_time": "2022-07-18T05:36:38.640Z"
   },
   {
    "duration": 10498,
    "start_time": "2022-07-18T05:36:38.663Z"
   },
   {
    "duration": 9,
    "start_time": "2022-07-18T05:36:49.163Z"
   },
   {
    "duration": 63,
    "start_time": "2022-07-18T05:36:49.174Z"
   },
   {
    "duration": 7,
    "start_time": "2022-07-18T05:36:49.239Z"
   },
   {
    "duration": 5653,
    "start_time": "2022-07-18T05:36:49.247Z"
   },
   {
    "duration": 38,
    "start_time": "2022-07-18T05:36:54.902Z"
   },
   {
    "duration": 75,
    "start_time": "2022-07-18T05:37:53.538Z"
   },
   {
    "duration": 64,
    "start_time": "2022-07-18T05:38:03.801Z"
   },
   {
    "duration": 11,
    "start_time": "2022-07-18T05:38:08.742Z"
   },
   {
    "duration": 1601,
    "start_time": "2022-07-18T05:38:18.383Z"
   },
   {
    "duration": 7140,
    "start_time": "2022-07-18T05:38:25.374Z"
   },
   {
    "duration": 14278,
    "start_time": "2022-07-18T05:38:38.313Z"
   },
   {
    "duration": 545426,
    "start_time": "2022-07-18T05:39:12.717Z"
   },
   {
    "duration": 56,
    "start_time": "2022-07-18T05:48:18.145Z"
   },
   {
    "duration": 33093,
    "start_time": "2022-07-18T05:48:33.442Z"
   },
   {
    "duration": 58349,
    "start_time": "2022-07-18T05:49:06.541Z"
   },
   {
    "duration": 705,
    "start_time": "2022-07-18T05:50:04.892Z"
   },
   {
    "duration": 856,
    "start_time": "2022-07-18T05:50:05.599Z"
   },
   {
    "duration": 38,
    "start_time": "2022-07-18T05:50:06.457Z"
   },
   {
    "duration": 175,
    "start_time": "2022-07-18T05:50:06.497Z"
   },
   {
    "duration": 1195,
    "start_time": "2022-07-18T05:50:06.674Z"
   },
   {
    "duration": 334,
    "start_time": "2022-07-18T05:50:07.871Z"
   },
   {
    "duration": 94,
    "start_time": "2022-07-18T05:50:08.206Z"
   },
   {
    "duration": 97,
    "start_time": "2022-07-18T05:50:08.303Z"
   },
   {
    "duration": 2115,
    "start_time": "2022-07-18T05:50:08.402Z"
   },
   {
    "duration": 21,
    "start_time": "2022-07-18T05:50:10.519Z"
   },
   {
    "duration": 11,
    "start_time": "2022-07-18T05:50:10.542Z"
   },
   {
    "duration": 19,
    "start_time": "2022-07-18T05:50:10.555Z"
   },
   {
    "duration": 10464,
    "start_time": "2022-07-18T05:50:10.576Z"
   },
   {
    "duration": 11,
    "start_time": "2022-07-18T05:50:21.042Z"
   },
   {
    "duration": 80,
    "start_time": "2022-07-18T05:50:21.055Z"
   },
   {
    "duration": 5,
    "start_time": "2022-07-18T05:50:21.138Z"
   },
   {
    "duration": 5562,
    "start_time": "2022-07-18T05:50:21.145Z"
   },
   {
    "duration": 492,
    "start_time": "2022-07-18T05:50:26.709Z"
   },
   {
    "duration": 2,
    "start_time": "2022-07-18T05:50:27.202Z"
   },
   {
    "duration": 1489145,
    "start_time": "2022-07-18T05:50:27.208Z"
   },
   {
    "duration": 63,
    "start_time": "2022-07-18T06:15:16.355Z"
   },
   {
    "duration": 4366,
    "start_time": "2022-07-18T06:17:23.673Z"
   },
   {
    "duration": 33826,
    "start_time": "2022-07-18T06:17:36.104Z"
   },
   {
    "duration": 18923,
    "start_time": "2022-07-18T06:18:09.932Z"
   },
   {
    "duration": 0,
    "start_time": "2022-07-18T06:18:28.861Z"
   },
   {
    "duration": 0,
    "start_time": "2022-07-18T06:18:28.862Z"
   },
   {
    "duration": 0,
    "start_time": "2022-07-18T06:18:28.863Z"
   },
   {
    "duration": 0,
    "start_time": "2022-07-18T06:18:28.864Z"
   },
   {
    "duration": 0,
    "start_time": "2022-07-18T06:18:28.866Z"
   },
   {
    "duration": 0,
    "start_time": "2022-07-18T06:18:28.867Z"
   },
   {
    "duration": 0,
    "start_time": "2022-07-18T06:18:28.868Z"
   },
   {
    "duration": 0,
    "start_time": "2022-07-18T06:18:28.869Z"
   },
   {
    "duration": 0,
    "start_time": "2022-07-18T06:18:28.870Z"
   },
   {
    "duration": 0,
    "start_time": "2022-07-18T06:18:28.871Z"
   },
   {
    "duration": 0,
    "start_time": "2022-07-18T06:18:28.872Z"
   },
   {
    "duration": 0,
    "start_time": "2022-07-18T06:18:28.873Z"
   },
   {
    "duration": 0,
    "start_time": "2022-07-18T06:18:28.875Z"
   },
   {
    "duration": 0,
    "start_time": "2022-07-18T06:18:28.875Z"
   },
   {
    "duration": 0,
    "start_time": "2022-07-18T06:18:28.877Z"
   },
   {
    "duration": 0,
    "start_time": "2022-07-18T06:18:28.878Z"
   },
   {
    "duration": 0,
    "start_time": "2022-07-18T06:18:28.879Z"
   },
   {
    "duration": 0,
    "start_time": "2022-07-18T06:18:28.880Z"
   },
   {
    "duration": 31156,
    "start_time": "2022-07-18T06:18:34.819Z"
   },
   {
    "duration": 52559,
    "start_time": "2022-07-18T06:19:05.977Z"
   },
   {
    "duration": 0,
    "start_time": "2022-07-18T06:19:58.538Z"
   },
   {
    "duration": 0,
    "start_time": "2022-07-18T06:19:58.539Z"
   },
   {
    "duration": 0,
    "start_time": "2022-07-18T06:19:58.540Z"
   },
   {
    "duration": 0,
    "start_time": "2022-07-18T06:19:58.541Z"
   },
   {
    "duration": 0,
    "start_time": "2022-07-18T06:19:58.542Z"
   },
   {
    "duration": 0,
    "start_time": "2022-07-18T06:19:58.543Z"
   },
   {
    "duration": 0,
    "start_time": "2022-07-18T06:19:58.544Z"
   },
   {
    "duration": 0,
    "start_time": "2022-07-18T06:19:58.546Z"
   },
   {
    "duration": 0,
    "start_time": "2022-07-18T06:19:58.547Z"
   },
   {
    "duration": 0,
    "start_time": "2022-07-18T06:19:58.547Z"
   },
   {
    "duration": 0,
    "start_time": "2022-07-18T06:19:58.548Z"
   },
   {
    "duration": 0,
    "start_time": "2022-07-18T06:19:58.549Z"
   },
   {
    "duration": 0,
    "start_time": "2022-07-18T06:19:58.550Z"
   },
   {
    "duration": 0,
    "start_time": "2022-07-18T06:19:58.551Z"
   },
   {
    "duration": 0,
    "start_time": "2022-07-18T06:19:58.552Z"
   },
   {
    "duration": 0,
    "start_time": "2022-07-18T06:19:58.554Z"
   },
   {
    "duration": 0,
    "start_time": "2022-07-18T06:19:58.555Z"
   },
   {
    "duration": 0,
    "start_time": "2022-07-18T06:19:58.556Z"
   },
   {
    "duration": 0,
    "start_time": "2022-07-18T06:19:58.557Z"
   },
   {
    "duration": 0,
    "start_time": "2022-07-18T06:19:58.558Z"
   },
   {
    "duration": 0,
    "start_time": "2022-07-18T06:19:58.559Z"
   },
   {
    "duration": 20,
    "start_time": "2022-07-18T06:21:06.845Z"
   },
   {
    "duration": 515,
    "start_time": "2022-07-18T06:21:35.394Z"
   },
   {
    "duration": 187,
    "start_time": "2022-07-18T06:21:39.778Z"
   },
   {
    "duration": 841,
    "start_time": "2022-07-18T06:21:41.060Z"
   },
   {
    "duration": 44,
    "start_time": "2022-07-18T06:21:41.903Z"
   },
   {
    "duration": 134,
    "start_time": "2022-07-18T06:21:41.948Z"
   },
   {
    "duration": 1082,
    "start_time": "2022-07-18T06:21:42.084Z"
   },
   {
    "duration": 333,
    "start_time": "2022-07-18T06:21:43.167Z"
   },
   {
    "duration": 97,
    "start_time": "2022-07-18T06:21:43.503Z"
   },
   {
    "duration": 96,
    "start_time": "2022-07-18T06:21:43.602Z"
   },
   {
    "duration": 2058,
    "start_time": "2022-07-18T06:21:43.699Z"
   },
   {
    "duration": 8,
    "start_time": "2022-07-18T06:21:45.758Z"
   },
   {
    "duration": 8,
    "start_time": "2022-07-18T06:21:45.768Z"
   },
   {
    "duration": 20,
    "start_time": "2022-07-18T06:21:45.778Z"
   },
   {
    "duration": 10405,
    "start_time": "2022-07-18T06:21:45.800Z"
   },
   {
    "duration": 28,
    "start_time": "2022-07-18T06:21:56.207Z"
   },
   {
    "duration": 63,
    "start_time": "2022-07-18T06:21:56.238Z"
   },
   {
    "duration": 4,
    "start_time": "2022-07-18T06:21:56.303Z"
   },
   {
    "duration": 5644,
    "start_time": "2022-07-18T06:21:56.309Z"
   },
   {
    "duration": 20,
    "start_time": "2022-07-18T06:22:01.954Z"
   },
   {
    "duration": 14,
    "start_time": "2022-07-18T06:26:48.510Z"
   },
   {
    "duration": 15495,
    "start_time": "2022-07-18T06:27:02.609Z"
   },
   {
    "duration": 3,
    "start_time": "2022-07-18T06:27:29.030Z"
   },
   {
    "duration": 2202305,
    "start_time": "2022-07-18T06:27:31.019Z"
   },
   {
    "duration": 67,
    "start_time": "2022-07-18T07:04:13.326Z"
   },
   {
    "duration": 7002,
    "start_time": "2022-07-18T07:08:20.239Z"
   },
   {
    "duration": 45455,
    "start_time": "2022-07-19T08:50:32.755Z"
   },
   {
    "duration": 65301,
    "start_time": "2022-07-19T08:51:18.212Z"
   },
   {
    "duration": 317,
    "start_time": "2022-07-19T08:52:23.516Z"
   },
   {
    "duration": 2492,
    "start_time": "2022-07-19T08:52:23.836Z"
   },
   {
    "duration": 35,
    "start_time": "2022-07-19T08:52:26.330Z"
   },
   {
    "duration": 146,
    "start_time": "2022-07-19T08:52:26.367Z"
   },
   {
    "duration": 1189,
    "start_time": "2022-07-19T08:52:26.515Z"
   },
   {
    "duration": 351,
    "start_time": "2022-07-19T08:52:27.706Z"
   },
   {
    "duration": 96,
    "start_time": "2022-07-19T08:52:28.061Z"
   },
   {
    "duration": 86,
    "start_time": "2022-07-19T08:52:28.162Z"
   },
   {
    "duration": 2320,
    "start_time": "2022-07-19T08:52:28.255Z"
   },
   {
    "duration": 9,
    "start_time": "2022-07-19T08:52:30.577Z"
   },
   {
    "duration": 19,
    "start_time": "2022-07-19T08:52:30.588Z"
   },
   {
    "duration": 52,
    "start_time": "2022-07-19T08:52:30.609Z"
   },
   {
    "duration": 11063,
    "start_time": "2022-07-19T08:52:30.662Z"
   },
   {
    "duration": 12,
    "start_time": "2022-07-19T08:52:41.727Z"
   },
   {
    "duration": 64,
    "start_time": "2022-07-19T08:52:41.753Z"
   },
   {
    "duration": 4,
    "start_time": "2022-07-19T08:52:41.818Z"
   },
   {
    "duration": 5748,
    "start_time": "2022-07-19T08:52:41.823Z"
   },
   {
    "duration": 18,
    "start_time": "2022-07-19T08:52:47.574Z"
   },
   {
    "duration": 2264585,
    "start_time": "2022-07-19T08:52:47.594Z"
   },
   {
    "duration": 11033,
    "start_time": "2022-07-19T09:30:32.182Z"
   },
   {
    "duration": 41,
    "start_time": "2022-07-19T10:00:13.734Z"
   },
   {
    "duration": 382,
    "start_time": "2022-07-19T10:01:10.159Z"
   },
   {
    "duration": 8,
    "start_time": "2022-07-19T10:01:21.660Z"
   },
   {
    "duration": 25,
    "start_time": "2022-07-19T10:01:23.592Z"
   },
   {
    "duration": 458,
    "start_time": "2022-07-19T10:02:07.956Z"
   },
   {
    "duration": 43,
    "start_time": "2022-07-19T10:02:13.645Z"
   },
   {
    "duration": 1065,
    "start_time": "2022-07-19T10:04:35.887Z"
   },
   {
    "duration": 1082,
    "start_time": "2022-07-19T10:04:47.013Z"
   },
   {
    "duration": 14,
    "start_time": "2022-07-19T10:05:28.536Z"
   },
   {
    "duration": 62,
    "start_time": "2022-07-19T10:05:29.048Z"
   },
   {
    "duration": 2123,
    "start_time": "2022-07-19T10:05:30.034Z"
   },
   {
    "duration": 5,
    "start_time": "2022-07-19T10:05:44.435Z"
   },
   {
    "duration": 4,
    "start_time": "2022-07-19T10:05:50.162Z"
   },
   {
    "duration": 30,
    "start_time": "2022-07-19T10:07:51.938Z"
   },
   {
    "duration": 23,
    "start_time": "2022-07-19T10:08:05.665Z"
   },
   {
    "duration": 23,
    "start_time": "2022-07-19T10:09:41.199Z"
   },
   {
    "duration": 7755,
    "start_time": "2022-07-19T10:10:35.141Z"
   },
   {
    "duration": 4,
    "start_time": "2022-07-19T10:10:52.865Z"
   },
   {
    "duration": 23,
    "start_time": "2022-07-19T10:11:04.670Z"
   },
   {
    "duration": 5,
    "start_time": "2022-07-19T10:11:15.337Z"
   },
   {
    "duration": 7,
    "start_time": "2022-07-19T10:11:22.056Z"
   },
   {
    "duration": 4,
    "start_time": "2022-07-19T10:11:31.468Z"
   },
   {
    "duration": 63,
    "start_time": "2022-07-19T11:25:43.375Z"
   },
   {
    "duration": 43803,
    "start_time": "2022-07-19T11:26:02.427Z"
   },
   {
    "duration": 75686,
    "start_time": "2022-07-19T11:26:46.234Z"
   },
   {
    "duration": 200,
    "start_time": "2022-07-19T11:28:01.922Z"
   },
   {
    "duration": 2309,
    "start_time": "2022-07-19T11:28:02.124Z"
   },
   {
    "duration": 50,
    "start_time": "2022-07-19T11:28:04.435Z"
   },
   {
    "duration": 18,
    "start_time": "2022-07-19T11:28:04.487Z"
   },
   {
    "duration": 59,
    "start_time": "2022-07-19T11:28:04.507Z"
   },
   {
    "duration": 403,
    "start_time": "2022-07-19T11:28:04.568Z"
   },
   {
    "duration": 449,
    "start_time": "2022-07-19T11:31:53.517Z"
   },
   {
    "duration": 119,
    "start_time": "2022-07-19T11:31:58.207Z"
   },
   {
    "duration": 26,
    "start_time": "2022-07-19T11:32:42.793Z"
   },
   {
    "duration": 125,
    "start_time": "2022-07-19T11:32:48.544Z"
   },
   {
    "duration": 112,
    "start_time": "2022-07-19T11:35:14.921Z"
   },
   {
    "duration": 47,
    "start_time": "2022-07-19T11:35:27.967Z"
   },
   {
    "duration": 2052,
    "start_time": "2022-07-19T11:35:41.028Z"
   },
   {
    "duration": 7594,
    "start_time": "2022-07-19T11:35:43.083Z"
   },
   {
    "duration": 3,
    "start_time": "2022-07-19T11:35:50.679Z"
   },
   {
    "duration": 19,
    "start_time": "2022-07-19T11:36:33.518Z"
   },
   {
    "duration": 10,
    "start_time": "2022-07-19T11:36:39.043Z"
   },
   {
    "duration": 40,
    "start_time": "2022-07-19T11:38:52.918Z"
   },
   {
    "duration": 24,
    "start_time": "2022-07-19T11:39:03.675Z"
   },
   {
    "duration": 5,
    "start_time": "2022-07-19T11:39:10.963Z"
   },
   {
    "duration": 5,
    "start_time": "2022-07-19T11:39:14.688Z"
   },
   {
    "duration": 5,
    "start_time": "2022-07-19T11:39:31.751Z"
   },
   {
    "duration": 22,
    "start_time": "2022-07-19T11:39:37.763Z"
   },
   {
    "duration": 20,
    "start_time": "2022-07-19T11:39:40.464Z"
   },
   {
    "duration": 19,
    "start_time": "2022-07-19T11:39:44.510Z"
   },
   {
    "duration": 5,
    "start_time": "2022-07-19T11:39:49.098Z"
   },
   {
    "duration": 4,
    "start_time": "2022-07-19T11:40:40.501Z"
   },
   {
    "duration": 4,
    "start_time": "2022-07-19T11:40:48.874Z"
   },
   {
    "duration": 24,
    "start_time": "2022-07-19T11:44:12.733Z"
   },
   {
    "duration": 407,
    "start_time": "2022-07-19T11:44:44.538Z"
   },
   {
    "duration": 169,
    "start_time": "2022-07-19T11:44:52.704Z"
   },
   {
    "duration": 4,
    "start_time": "2022-07-19T11:45:17.007Z"
   },
   {
    "duration": 3,
    "start_time": "2022-07-19T11:45:35.862Z"
   },
   {
    "duration": 4,
    "start_time": "2022-07-19T11:45:46.772Z"
   },
   {
    "duration": 350,
    "start_time": "2022-07-19T11:46:18.531Z"
   },
   {
    "duration": 3,
    "start_time": "2022-07-19T11:46:19.577Z"
   },
   {
    "duration": 4,
    "start_time": "2022-07-19T11:46:22.205Z"
   },
   {
    "duration": 3,
    "start_time": "2022-07-19T12:11:58.189Z"
   },
   {
    "duration": 4,
    "start_time": "2022-07-19T12:11:58.938Z"
   },
   {
    "duration": 91,
    "start_time": "2022-07-19T12:13:43.672Z"
   },
   {
    "duration": 583819,
    "start_time": "2022-07-19T12:15:24.065Z"
   },
   {
    "duration": 23,
    "start_time": "2022-07-19T12:25:07.886Z"
   },
   {
    "duration": 0,
    "start_time": "2022-07-19T12:25:07.910Z"
   },
   {
    "duration": 7,
    "start_time": "2022-07-19T12:25:19.864Z"
   },
   {
    "duration": 2,
    "start_time": "2022-07-19T12:25:25.031Z"
   },
   {
    "duration": 184657,
    "start_time": "2022-07-19T12:25:25.621Z"
   },
   {
    "duration": 22,
    "start_time": "2022-07-19T12:28:30.279Z"
   },
   {
    "duration": 0,
    "start_time": "2022-07-19T12:28:30.303Z"
   },
   {
    "duration": 3,
    "start_time": "2022-07-19T12:28:32.638Z"
   },
   {
    "duration": 3,
    "start_time": "2022-07-19T12:28:33.018Z"
   },
   {
    "duration": 3,
    "start_time": "2022-07-19T12:28:33.512Z"
   },
   {
    "duration": 855319,
    "start_time": "2022-07-19T12:28:33.947Z"
   },
   {
    "duration": 26,
    "start_time": "2022-07-19T12:42:49.270Z"
   },
   {
    "duration": 0,
    "start_time": "2022-07-19T12:42:49.298Z"
   },
   {
    "duration": 4,
    "start_time": "2022-07-19T12:42:54.509Z"
   },
   {
    "duration": 5,
    "start_time": "2022-07-19T12:42:55.270Z"
   },
   {
    "duration": 3,
    "start_time": "2022-07-19T12:42:55.803Z"
   },
   {
    "duration": 1041707,
    "start_time": "2022-07-19T12:42:56.248Z"
   },
   {
    "duration": 20,
    "start_time": "2022-07-19T13:00:17.960Z"
   },
   {
    "duration": 0,
    "start_time": "2022-07-19T13:00:17.981Z"
   },
   {
    "duration": 1112039,
    "start_time": "2022-07-19T13:04:58.464Z"
   },
   {
    "duration": 3,
    "start_time": "2022-07-19T13:23:30.506Z"
   },
   {
    "duration": 73,
    "start_time": "2022-07-19T13:23:30.511Z"
   },
   {
    "duration": 460,
    "start_time": "2022-07-19T13:26:59.627Z"
   },
   {
    "duration": 9,
    "start_time": "2022-07-19T13:27:10.350Z"
   },
   {
    "duration": 6,
    "start_time": "2022-07-19T13:27:11.184Z"
   },
   {
    "duration": 11639,
    "start_time": "2022-07-19T13:34:04.608Z"
   },
   {
    "duration": 41667,
    "start_time": "2022-07-19T13:34:25.093Z"
   },
   {
    "duration": 63916,
    "start_time": "2022-07-19T13:35:06.765Z"
   },
   {
    "duration": 215,
    "start_time": "2022-07-19T13:36:10.683Z"
   },
   {
    "duration": 2489,
    "start_time": "2022-07-19T13:36:10.900Z"
   },
   {
    "duration": 34,
    "start_time": "2022-07-19T13:36:13.391Z"
   },
   {
    "duration": 174,
    "start_time": "2022-07-19T13:36:13.427Z"
   },
   {
    "duration": 1086,
    "start_time": "2022-07-19T13:36:13.603Z"
   },
   {
    "duration": 397,
    "start_time": "2022-07-19T13:36:14.691Z"
   },
   {
    "duration": 127,
    "start_time": "2022-07-19T13:36:15.089Z"
   },
   {
    "duration": 94,
    "start_time": "2022-07-19T13:36:15.218Z"
   },
   {
    "duration": 2187,
    "start_time": "2022-07-19T13:36:15.314Z"
   },
   {
    "duration": 9,
    "start_time": "2022-07-19T13:36:17.504Z"
   },
   {
    "duration": 7,
    "start_time": "2022-07-19T13:36:17.515Z"
   },
   {
    "duration": 57,
    "start_time": "2022-07-19T13:36:17.523Z"
   },
   {
    "duration": 10973,
    "start_time": "2022-07-19T13:36:17.582Z"
   },
   {
    "duration": 15,
    "start_time": "2022-07-19T13:36:28.557Z"
   },
   {
    "duration": 66,
    "start_time": "2022-07-19T13:36:28.573Z"
   },
   {
    "duration": 9,
    "start_time": "2022-07-19T13:36:28.641Z"
   },
   {
    "duration": 5891,
    "start_time": "2022-07-19T13:36:28.651Z"
   },
   {
    "duration": 25,
    "start_time": "2022-07-19T13:36:34.546Z"
   },
   {
    "duration": 2246,
    "start_time": "2022-07-19T13:36:34.574Z"
   },
   {
    "duration": 54,
    "start_time": "2022-07-19T13:36:36.822Z"
   },
   {
    "duration": 19,
    "start_time": "2022-07-19T13:36:36.880Z"
   },
   {
    "duration": 36,
    "start_time": "2022-07-19T13:36:36.901Z"
   },
   {
    "duration": 54,
    "start_time": "2022-07-19T13:36:36.939Z"
   },
   {
    "duration": 2066,
    "start_time": "2022-07-19T13:36:36.995Z"
   },
   {
    "duration": 7618,
    "start_time": "2022-07-19T13:36:39.063Z"
   },
   {
    "duration": 4,
    "start_time": "2022-07-19T13:36:46.684Z"
   },
   {
    "duration": 17,
    "start_time": "2022-07-19T13:36:46.690Z"
   },
   {
    "duration": 358,
    "start_time": "2022-07-19T13:36:46.709Z"
   },
   {
    "duration": 4,
    "start_time": "2022-07-19T13:36:47.070Z"
   },
   {
    "duration": 19,
    "start_time": "2022-07-19T13:36:47.075Z"
   },
   {
    "duration": 14,
    "start_time": "2022-07-19T13:36:47.095Z"
   },
   {
    "duration": 12,
    "start_time": "2022-07-19T13:38:10.355Z"
   },
   {
    "duration": 41500,
    "start_time": "2022-07-19T13:38:14.716Z"
   },
   {
    "duration": 64183,
    "start_time": "2022-07-19T13:38:56.219Z"
   },
   {
    "duration": 219,
    "start_time": "2022-07-19T13:40:00.404Z"
   },
   {
    "duration": 2511,
    "start_time": "2022-07-19T13:40:00.626Z"
   },
   {
    "duration": 38,
    "start_time": "2022-07-19T13:40:03.139Z"
   },
   {
    "duration": 141,
    "start_time": "2022-07-19T13:40:03.179Z"
   },
   {
    "duration": 1114,
    "start_time": "2022-07-19T13:40:03.321Z"
   },
   {
    "duration": 359,
    "start_time": "2022-07-19T13:40:04.437Z"
   },
   {
    "duration": 101,
    "start_time": "2022-07-19T13:40:04.798Z"
   },
   {
    "duration": 111,
    "start_time": "2022-07-19T13:40:04.903Z"
   },
   {
    "duration": 2133,
    "start_time": "2022-07-19T13:40:05.017Z"
   },
   {
    "duration": 13,
    "start_time": "2022-07-19T13:40:07.154Z"
   },
   {
    "duration": 10,
    "start_time": "2022-07-19T13:40:07.169Z"
   },
   {
    "duration": 25,
    "start_time": "2022-07-19T13:40:07.181Z"
   },
   {
    "duration": 10990,
    "start_time": "2022-07-19T13:40:07.208Z"
   },
   {
    "duration": 10,
    "start_time": "2022-07-19T13:40:18.200Z"
   },
   {
    "duration": 74,
    "start_time": "2022-07-19T13:40:18.212Z"
   },
   {
    "duration": 5,
    "start_time": "2022-07-19T13:40:18.288Z"
   },
   {
    "duration": 5968,
    "start_time": "2022-07-19T13:40:18.295Z"
   },
   {
    "duration": 20,
    "start_time": "2022-07-19T13:40:24.264Z"
   },
   {
    "duration": 2334,
    "start_time": "2022-07-19T13:40:24.286Z"
   },
   {
    "duration": 42,
    "start_time": "2022-07-19T13:40:26.625Z"
   },
   {
    "duration": 11,
    "start_time": "2022-07-19T13:40:26.669Z"
   },
   {
    "duration": 40,
    "start_time": "2022-07-19T13:40:26.682Z"
   },
   {
    "duration": 56,
    "start_time": "2022-07-19T13:40:26.724Z"
   },
   {
    "duration": 2038,
    "start_time": "2022-07-19T13:40:26.781Z"
   },
   {
    "duration": 7710,
    "start_time": "2022-07-19T13:40:28.821Z"
   },
   {
    "duration": 3,
    "start_time": "2022-07-19T13:40:36.535Z"
   },
   {
    "duration": 6,
    "start_time": "2022-07-19T13:40:36.546Z"
   },
   {
    "duration": 368,
    "start_time": "2022-07-19T13:40:36.557Z"
   },
   {
    "duration": 3,
    "start_time": "2022-07-19T13:40:36.927Z"
   },
   {
    "duration": 18,
    "start_time": "2022-07-19T13:40:36.931Z"
   },
   {
    "duration": 19,
    "start_time": "2022-07-19T13:40:36.951Z"
   },
   {
    "duration": 39953,
    "start_time": "2022-07-19T13:43:52.117Z"
   },
   {
    "duration": 64261,
    "start_time": "2022-07-19T13:44:32.073Z"
   },
   {
    "duration": 190,
    "start_time": "2022-07-19T13:45:36.336Z"
   },
   {
    "duration": 2460,
    "start_time": "2022-07-19T13:45:36.528Z"
   },
   {
    "duration": 42,
    "start_time": "2022-07-19T13:45:38.989Z"
   },
   {
    "duration": 195,
    "start_time": "2022-07-19T13:45:39.034Z"
   },
   {
    "duration": 1057,
    "start_time": "2022-07-19T13:45:39.232Z"
   },
   {
    "duration": 337,
    "start_time": "2022-07-19T13:45:40.291Z"
   },
   {
    "duration": 98,
    "start_time": "2022-07-19T13:45:40.630Z"
   },
   {
    "duration": 97,
    "start_time": "2022-07-19T13:45:40.732Z"
   },
   {
    "duration": 2087,
    "start_time": "2022-07-19T13:45:40.830Z"
   },
   {
    "duration": 8,
    "start_time": "2022-07-19T13:45:42.919Z"
   },
   {
    "duration": 24,
    "start_time": "2022-07-19T13:45:42.928Z"
   },
   {
    "duration": 30,
    "start_time": "2022-07-19T13:45:42.953Z"
   },
   {
    "duration": 10698,
    "start_time": "2022-07-19T13:45:42.985Z"
   },
   {
    "duration": 10,
    "start_time": "2022-07-19T13:45:53.685Z"
   },
   {
    "duration": 73,
    "start_time": "2022-07-19T13:45:53.697Z"
   },
   {
    "duration": 4,
    "start_time": "2022-07-19T13:45:53.772Z"
   },
   {
    "duration": 5646,
    "start_time": "2022-07-19T13:45:53.777Z"
   },
   {
    "duration": 33,
    "start_time": "2022-07-19T13:45:59.425Z"
   },
   {
    "duration": 2071,
    "start_time": "2022-07-19T13:45:59.460Z"
   },
   {
    "duration": 52,
    "start_time": "2022-07-19T13:46:01.535Z"
   },
   {
    "duration": 14,
    "start_time": "2022-07-19T13:46:01.589Z"
   },
   {
    "duration": 59,
    "start_time": "2022-07-19T13:46:01.605Z"
   },
   {
    "duration": 42,
    "start_time": "2022-07-19T13:46:01.666Z"
   },
   {
    "duration": 2042,
    "start_time": "2022-07-19T13:46:01.709Z"
   },
   {
    "duration": 7297,
    "start_time": "2022-07-19T13:46:03.756Z"
   },
   {
    "duration": 5,
    "start_time": "2022-07-19T13:46:11.058Z"
   },
   {
    "duration": 18,
    "start_time": "2022-07-19T13:46:11.064Z"
   },
   {
    "duration": 346,
    "start_time": "2022-07-19T13:46:11.084Z"
   },
   {
    "duration": 3,
    "start_time": "2022-07-19T13:46:11.432Z"
   },
   {
    "duration": 28,
    "start_time": "2022-07-19T13:46:11.436Z"
   },
   {
    "duration": 6,
    "start_time": "2022-07-19T13:46:11.466Z"
   },
   {
    "duration": 41349,
    "start_time": "2022-07-19T13:54:23.328Z"
   },
   {
    "duration": 75963,
    "start_time": "2022-07-19T13:55:04.680Z"
   },
   {
    "duration": 232,
    "start_time": "2022-07-19T13:56:20.645Z"
   },
   {
    "duration": 2524,
    "start_time": "2022-07-19T13:56:20.880Z"
   },
   {
    "duration": 36,
    "start_time": "2022-07-19T13:56:23.405Z"
   },
   {
    "duration": 172,
    "start_time": "2022-07-19T13:56:23.443Z"
   },
   {
    "duration": 1203,
    "start_time": "2022-07-19T13:56:23.617Z"
   },
   {
    "duration": 351,
    "start_time": "2022-07-19T13:56:24.821Z"
   },
   {
    "duration": 122,
    "start_time": "2022-07-19T13:56:25.174Z"
   },
   {
    "duration": 99,
    "start_time": "2022-07-19T13:56:25.299Z"
   },
   {
    "duration": 2121,
    "start_time": "2022-07-19T13:56:25.400Z"
   },
   {
    "duration": 22,
    "start_time": "2022-07-19T13:56:27.523Z"
   },
   {
    "duration": 13,
    "start_time": "2022-07-19T13:56:27.547Z"
   },
   {
    "duration": 30,
    "start_time": "2022-07-19T13:56:27.565Z"
   },
   {
    "duration": 10988,
    "start_time": "2022-07-19T13:56:27.597Z"
   },
   {
    "duration": 10,
    "start_time": "2022-07-19T13:56:38.587Z"
   },
   {
    "duration": 77,
    "start_time": "2022-07-19T13:56:38.599Z"
   },
   {
    "duration": 3,
    "start_time": "2022-07-19T13:56:38.678Z"
   },
   {
    "duration": 5949,
    "start_time": "2022-07-19T13:56:38.684Z"
   },
   {
    "duration": 44,
    "start_time": "2022-07-19T13:56:44.634Z"
   },
   {
    "duration": 2284,
    "start_time": "2022-07-19T13:56:44.681Z"
   },
   {
    "duration": 35,
    "start_time": "2022-07-19T13:56:46.967Z"
   },
   {
    "duration": 13,
    "start_time": "2022-07-19T13:56:47.005Z"
   },
   {
    "duration": 59,
    "start_time": "2022-07-19T13:56:47.019Z"
   },
   {
    "duration": 37,
    "start_time": "2022-07-19T13:56:47.080Z"
   },
   {
    "duration": 2076,
    "start_time": "2022-07-19T13:56:47.118Z"
   },
   {
    "duration": 7736,
    "start_time": "2022-07-19T13:56:49.197Z"
   },
   {
    "duration": 5,
    "start_time": "2022-07-19T13:56:56.937Z"
   },
   {
    "duration": 28,
    "start_time": "2022-07-19T13:56:56.946Z"
   },
   {
    "duration": 390,
    "start_time": "2022-07-19T13:56:56.977Z"
   },
   {
    "duration": 3,
    "start_time": "2022-07-19T13:56:57.369Z"
   },
   {
    "duration": 7,
    "start_time": "2022-07-19T13:56:57.374Z"
   },
   {
    "duration": 6,
    "start_time": "2022-07-19T13:56:57.383Z"
   },
   {
    "duration": 11112,
    "start_time": "2022-07-19T14:28:54.417Z"
   },
   {
    "duration": 40937,
    "start_time": "2022-07-19T14:29:26.900Z"
   },
   {
    "duration": 67322,
    "start_time": "2022-07-19T14:30:07.840Z"
   },
   {
    "duration": 191,
    "start_time": "2022-07-19T14:31:15.164Z"
   },
   {
    "duration": 2551,
    "start_time": "2022-07-19T14:31:15.357Z"
   },
   {
    "duration": 36,
    "start_time": "2022-07-19T14:31:17.910Z"
   },
   {
    "duration": 155,
    "start_time": "2022-07-19T14:31:17.948Z"
   },
   {
    "duration": 1219,
    "start_time": "2022-07-19T14:31:18.105Z"
   },
   {
    "duration": 421,
    "start_time": "2022-07-19T14:31:19.327Z"
   },
   {
    "duration": 106,
    "start_time": "2022-07-19T14:31:19.759Z"
   },
   {
    "duration": 97,
    "start_time": "2022-07-19T14:31:19.868Z"
   },
   {
    "duration": 2109,
    "start_time": "2022-07-19T14:31:19.968Z"
   },
   {
    "duration": 9,
    "start_time": "2022-07-19T14:31:22.080Z"
   },
   {
    "duration": 15,
    "start_time": "2022-07-19T14:31:22.091Z"
   },
   {
    "duration": 43,
    "start_time": "2022-07-19T14:31:22.108Z"
   },
   {
    "duration": 10882,
    "start_time": "2022-07-19T14:31:22.153Z"
   },
   {
    "duration": 23,
    "start_time": "2022-07-19T14:31:33.037Z"
   },
   {
    "duration": 68,
    "start_time": "2022-07-19T14:31:33.062Z"
   },
   {
    "duration": 4,
    "start_time": "2022-07-19T14:31:33.131Z"
   },
   {
    "duration": 5895,
    "start_time": "2022-07-19T14:31:33.137Z"
   },
   {
    "duration": 34,
    "start_time": "2022-07-19T14:31:39.035Z"
   },
   {
    "duration": 21,
    "start_time": "2022-07-19T14:31:39.073Z"
   },
   {
    "duration": 2636,
    "start_time": "2022-07-19T14:31:39.096Z"
   },
   {
    "duration": 42,
    "start_time": "2022-07-19T14:31:41.733Z"
   },
   {
    "duration": 13,
    "start_time": "2022-07-19T14:31:41.777Z"
   },
   {
    "duration": 42,
    "start_time": "2022-07-19T14:31:41.792Z"
   },
   {
    "duration": 46,
    "start_time": "2022-07-19T14:31:41.846Z"
   },
   {
    "duration": 2137,
    "start_time": "2022-07-19T14:31:41.895Z"
   },
   {
    "duration": 7739,
    "start_time": "2022-07-19T14:31:44.045Z"
   },
   {
    "duration": 4,
    "start_time": "2022-07-19T14:31:51.785Z"
   },
   {
    "duration": 9,
    "start_time": "2022-07-19T14:31:51.791Z"
   },
   {
    "duration": 379,
    "start_time": "2022-07-19T14:31:51.802Z"
   },
   {
    "duration": 4,
    "start_time": "2022-07-19T14:31:52.182Z"
   },
   {
    "duration": 13,
    "start_time": "2022-07-19T14:31:52.187Z"
   },
   {
    "duration": 7,
    "start_time": "2022-07-19T14:31:52.203Z"
   },
   {
    "duration": 42949,
    "start_time": "2022-07-19T14:44:36.117Z"
   },
   {
    "duration": 67944,
    "start_time": "2022-07-19T14:45:19.069Z"
   },
   {
    "duration": 204,
    "start_time": "2022-07-19T14:46:27.015Z"
   },
   {
    "duration": 2595,
    "start_time": "2022-07-19T14:46:27.222Z"
   },
   {
    "duration": 50,
    "start_time": "2022-07-19T14:46:29.820Z"
   },
   {
    "duration": 161,
    "start_time": "2022-07-19T14:46:29.872Z"
   },
   {
    "duration": 1097,
    "start_time": "2022-07-19T14:46:30.036Z"
   },
   {
    "duration": 392,
    "start_time": "2022-07-19T14:46:31.136Z"
   },
   {
    "duration": 106,
    "start_time": "2022-07-19T14:46:31.530Z"
   },
   {
    "duration": 102,
    "start_time": "2022-07-19T14:46:31.647Z"
   },
   {
    "duration": 2181,
    "start_time": "2022-07-19T14:46:31.752Z"
   },
   {
    "duration": 20,
    "start_time": "2022-07-19T14:46:33.935Z"
   },
   {
    "duration": 8,
    "start_time": "2022-07-19T14:46:33.963Z"
   },
   {
    "duration": 44,
    "start_time": "2022-07-19T14:46:33.973Z"
   },
   {
    "duration": 11020,
    "start_time": "2022-07-19T14:46:34.020Z"
   },
   {
    "duration": 22,
    "start_time": "2022-07-19T14:46:45.042Z"
   },
   {
    "duration": 83,
    "start_time": "2022-07-19T14:46:45.069Z"
   },
   {
    "duration": 7,
    "start_time": "2022-07-19T14:46:45.159Z"
   },
   {
    "duration": 5900,
    "start_time": "2022-07-19T14:46:45.168Z"
   },
   {
    "duration": 21,
    "start_time": "2022-07-19T14:46:51.070Z"
   },
   {
    "duration": 4,
    "start_time": "2022-07-19T14:46:51.092Z"
   },
   {
    "duration": 2935,
    "start_time": "2022-07-19T14:46:51.097Z"
   },
   {
    "duration": 46,
    "start_time": "2022-07-19T14:46:54.034Z"
   },
   {
    "duration": 19,
    "start_time": "2022-07-19T14:46:54.083Z"
   },
   {
    "duration": 65,
    "start_time": "2022-07-19T14:46:54.104Z"
   },
   {
    "duration": 42,
    "start_time": "2022-07-19T14:46:54.170Z"
   },
   {
    "duration": 2106,
    "start_time": "2022-07-19T14:46:54.214Z"
   },
   {
    "duration": 7601,
    "start_time": "2022-07-19T14:46:56.324Z"
   },
   {
    "duration": 3,
    "start_time": "2022-07-19T14:47:03.928Z"
   },
   {
    "duration": 49,
    "start_time": "2022-07-19T14:47:03.934Z"
   },
   {
    "duration": 412,
    "start_time": "2022-07-19T14:47:03.985Z"
   },
   {
    "duration": 4,
    "start_time": "2022-07-19T14:47:04.399Z"
   },
   {
    "duration": 22,
    "start_time": "2022-07-19T14:47:04.404Z"
   },
   {
    "duration": 52,
    "start_time": "2022-07-19T14:47:04.428Z"
   },
   {
    "duration": 49519,
    "start_time": "2022-07-19T14:52:00.219Z"
   },
   {
    "duration": 71489,
    "start_time": "2022-07-19T14:52:49.741Z"
   },
   {
    "duration": 284,
    "start_time": "2022-07-19T14:54:01.232Z"
   },
   {
    "duration": 2431,
    "start_time": "2022-07-19T14:54:01.518Z"
   },
   {
    "duration": 39,
    "start_time": "2022-07-19T14:54:03.956Z"
   },
   {
    "duration": 144,
    "start_time": "2022-07-19T14:54:03.997Z"
   },
   {
    "duration": 1237,
    "start_time": "2022-07-19T14:54:04.147Z"
   },
   {
    "duration": 386,
    "start_time": "2022-07-19T14:54:05.386Z"
   },
   {
    "duration": 109,
    "start_time": "2022-07-19T14:54:05.774Z"
   },
   {
    "duration": 108,
    "start_time": "2022-07-19T14:54:05.886Z"
   },
   {
    "duration": 2131,
    "start_time": "2022-07-19T14:54:05.996Z"
   },
   {
    "duration": 23,
    "start_time": "2022-07-19T14:54:08.129Z"
   },
   {
    "duration": 9,
    "start_time": "2022-07-19T14:54:08.157Z"
   },
   {
    "duration": 21,
    "start_time": "2022-07-19T14:54:08.168Z"
   },
   {
    "duration": 11897,
    "start_time": "2022-07-19T14:54:08.191Z"
   },
   {
    "duration": 14,
    "start_time": "2022-07-19T14:54:20.090Z"
   },
   {
    "duration": 81,
    "start_time": "2022-07-19T14:54:20.106Z"
   },
   {
    "duration": 4,
    "start_time": "2022-07-19T14:54:20.189Z"
   },
   {
    "duration": 6631,
    "start_time": "2022-07-19T14:54:20.195Z"
   },
   {
    "duration": 37,
    "start_time": "2022-07-19T14:54:26.828Z"
   },
   {
    "duration": 5,
    "start_time": "2022-07-19T14:54:26.869Z"
   },
   {
    "duration": 2482,
    "start_time": "2022-07-19T14:54:26.876Z"
   },
   {
    "duration": 51,
    "start_time": "2022-07-19T14:54:29.364Z"
   },
   {
    "duration": 30,
    "start_time": "2022-07-19T14:54:29.418Z"
   },
   {
    "duration": 51,
    "start_time": "2022-07-19T14:54:29.450Z"
   },
   {
    "duration": 55,
    "start_time": "2022-07-19T14:54:29.505Z"
   },
   {
    "duration": 2156,
    "start_time": "2022-07-19T14:54:29.561Z"
   },
   {
    "duration": 7939,
    "start_time": "2022-07-19T14:54:31.720Z"
   },
   {
    "duration": 4,
    "start_time": "2022-07-19T14:54:39.664Z"
   },
   {
    "duration": 29,
    "start_time": "2022-07-19T14:54:39.670Z"
   },
   {
    "duration": 369,
    "start_time": "2022-07-19T14:54:39.701Z"
   },
   {
    "duration": 4,
    "start_time": "2022-07-19T14:54:40.072Z"
   },
   {
    "duration": 15,
    "start_time": "2022-07-19T14:54:40.078Z"
   },
   {
    "duration": 10,
    "start_time": "2022-07-19T14:54:40.095Z"
   },
   {
    "duration": 38455,
    "start_time": "2022-07-19T14:57:32.113Z"
   },
   {
    "duration": 67403,
    "start_time": "2022-07-19T14:58:10.571Z"
   },
   {
    "duration": 248,
    "start_time": "2022-07-19T14:59:17.976Z"
   },
   {
    "duration": 2586,
    "start_time": "2022-07-19T14:59:18.226Z"
   },
   {
    "duration": 41,
    "start_time": "2022-07-19T14:59:20.814Z"
   },
   {
    "duration": 141,
    "start_time": "2022-07-19T14:59:20.860Z"
   },
   {
    "duration": 1162,
    "start_time": "2022-07-19T14:59:21.003Z"
   },
   {
    "duration": 388,
    "start_time": "2022-07-19T14:59:22.169Z"
   },
   {
    "duration": 112,
    "start_time": "2022-07-19T14:59:22.565Z"
   },
   {
    "duration": 144,
    "start_time": "2022-07-19T14:59:22.680Z"
   },
   {
    "duration": 2238,
    "start_time": "2022-07-19T14:59:22.826Z"
   },
   {
    "duration": 9,
    "start_time": "2022-07-19T14:59:25.068Z"
   },
   {
    "duration": 15,
    "start_time": "2022-07-19T14:59:25.079Z"
   },
   {
    "duration": 21,
    "start_time": "2022-07-19T14:59:25.097Z"
   },
   {
    "duration": 11451,
    "start_time": "2022-07-19T14:59:25.120Z"
   },
   {
    "duration": 15,
    "start_time": "2022-07-19T14:59:36.574Z"
   },
   {
    "duration": 82,
    "start_time": "2022-07-19T14:59:36.591Z"
   },
   {
    "duration": 4,
    "start_time": "2022-07-19T14:59:36.674Z"
   },
   {
    "duration": 6303,
    "start_time": "2022-07-19T14:59:36.680Z"
   },
   {
    "duration": 20,
    "start_time": "2022-07-19T14:59:42.985Z"
   },
   {
    "duration": 6,
    "start_time": "2022-07-19T14:59:43.008Z"
   },
   {
    "duration": 3386,
    "start_time": "2022-07-19T14:59:43.016Z"
   },
   {
    "duration": 64,
    "start_time": "2022-07-19T14:59:46.404Z"
   },
   {
    "duration": 19,
    "start_time": "2022-07-19T14:59:46.470Z"
   },
   {
    "duration": 65,
    "start_time": "2022-07-19T14:59:46.491Z"
   },
   {
    "duration": 44,
    "start_time": "2022-07-19T14:59:46.565Z"
   },
   {
    "duration": 2181,
    "start_time": "2022-07-19T14:59:46.611Z"
   },
   {
    "duration": 8133,
    "start_time": "2022-07-19T14:59:48.794Z"
   },
   {
    "duration": 3,
    "start_time": "2022-07-19T14:59:56.930Z"
   },
   {
    "duration": 22,
    "start_time": "2022-07-19T14:59:56.935Z"
   },
   {
    "duration": 368,
    "start_time": "2022-07-19T14:59:56.959Z"
   },
   {
    "duration": 4,
    "start_time": "2022-07-19T14:59:57.328Z"
   },
   {
    "duration": 33,
    "start_time": "2022-07-19T14:59:57.334Z"
   },
   {
    "duration": 14,
    "start_time": "2022-07-19T14:59:57.369Z"
   },
   {
    "duration": 40178,
    "start_time": "2022-07-19T15:12:29.343Z"
   },
   {
    "duration": 73290,
    "start_time": "2022-07-19T15:13:09.524Z"
   },
   {
    "duration": 252,
    "start_time": "2022-07-19T15:14:22.816Z"
   },
   {
    "duration": 2396,
    "start_time": "2022-07-19T15:14:23.070Z"
   },
   {
    "duration": 34,
    "start_time": "2022-07-19T15:14:25.468Z"
   },
   {
    "duration": 146,
    "start_time": "2022-07-19T15:14:25.504Z"
   },
   {
    "duration": 1144,
    "start_time": "2022-07-19T15:14:25.663Z"
   },
   {
    "duration": 375,
    "start_time": "2022-07-19T15:14:26.809Z"
   },
   {
    "duration": 110,
    "start_time": "2022-07-19T15:14:27.186Z"
   },
   {
    "duration": 102,
    "start_time": "2022-07-19T15:14:27.299Z"
   },
   {
    "duration": 2265,
    "start_time": "2022-07-19T15:14:27.403Z"
   },
   {
    "duration": 8,
    "start_time": "2022-07-19T15:14:29.671Z"
   },
   {
    "duration": 10,
    "start_time": "2022-07-19T15:14:29.681Z"
   },
   {
    "duration": 22,
    "start_time": "2022-07-19T15:14:29.693Z"
   },
   {
    "duration": 10807,
    "start_time": "2022-07-19T15:14:29.717Z"
   },
   {
    "duration": 10,
    "start_time": "2022-07-19T15:14:40.526Z"
   },
   {
    "duration": 64,
    "start_time": "2022-07-19T15:14:40.548Z"
   },
   {
    "duration": 4,
    "start_time": "2022-07-19T15:14:40.614Z"
   },
   {
    "duration": 5672,
    "start_time": "2022-07-19T15:14:40.620Z"
   },
   {
    "duration": 18,
    "start_time": "2022-07-19T15:14:46.294Z"
   },
   {
    "duration": 3,
    "start_time": "2022-07-19T15:14:46.314Z"
   },
   {
    "duration": 2695,
    "start_time": "2022-07-19T15:14:46.319Z"
   },
   {
    "duration": 56,
    "start_time": "2022-07-19T15:14:49.016Z"
   },
   {
    "duration": 15,
    "start_time": "2022-07-19T15:14:49.074Z"
   },
   {
    "duration": 60,
    "start_time": "2022-07-19T15:14:49.092Z"
   },
   {
    "duration": 62,
    "start_time": "2022-07-19T15:14:49.155Z"
   },
   {
    "duration": 2065,
    "start_time": "2022-07-19T15:14:49.219Z"
   },
   {
    "duration": 7425,
    "start_time": "2022-07-19T15:14:51.288Z"
   },
   {
    "duration": 4,
    "start_time": "2022-07-19T15:14:58.715Z"
   },
   {
    "duration": 9,
    "start_time": "2022-07-19T15:14:58.721Z"
   },
   {
    "duration": 403,
    "start_time": "2022-07-19T15:14:58.732Z"
   },
   {
    "duration": 10,
    "start_time": "2022-07-19T15:14:59.137Z"
   },
   {
    "duration": 28,
    "start_time": "2022-07-19T15:14:59.149Z"
   },
   {
    "duration": 14,
    "start_time": "2022-07-19T15:14:59.180Z"
   },
   {
    "duration": 68301,
    "start_time": "2022-07-19T19:01:54.621Z"
   },
   {
    "duration": 106035,
    "start_time": "2022-07-19T19:03:02.925Z"
   },
   {
    "duration": 453,
    "start_time": "2022-07-19T19:04:48.966Z"
   },
   {
    "duration": 4,
    "start_time": "2022-07-19T19:04:49.422Z"
   },
   {
    "duration": 4985,
    "start_time": "2022-07-19T19:04:49.428Z"
   },
   {
    "duration": 49,
    "start_time": "2022-07-19T19:04:54.416Z"
   },
   {
    "duration": 224,
    "start_time": "2022-07-19T19:04:54.472Z"
   },
   {
    "duration": 1420,
    "start_time": "2022-07-19T19:04:54.698Z"
   },
   {
    "duration": 405,
    "start_time": "2022-07-19T19:04:56.119Z"
   },
   {
    "duration": 108,
    "start_time": "2022-07-19T19:04:56.527Z"
   },
   {
    "duration": 112,
    "start_time": "2022-07-19T19:04:56.636Z"
   },
   {
    "duration": 2767,
    "start_time": "2022-07-19T19:04:56.751Z"
   },
   {
    "duration": 8,
    "start_time": "2022-07-19T19:04:59.520Z"
   },
   {
    "duration": 20,
    "start_time": "2022-07-19T19:04:59.540Z"
   },
   {
    "duration": 42,
    "start_time": "2022-07-19T19:04:59.569Z"
   },
   {
    "duration": 14076,
    "start_time": "2022-07-19T19:04:59.614Z"
   },
   {
    "duration": 11,
    "start_time": "2022-07-19T19:05:13.692Z"
   },
   {
    "duration": 86,
    "start_time": "2022-07-19T19:05:13.704Z"
   },
   {
    "duration": 4,
    "start_time": "2022-07-19T19:05:13.792Z"
   },
   {
    "duration": 7563,
    "start_time": "2022-07-19T19:05:13.798Z"
   },
   {
    "duration": 35,
    "start_time": "2022-07-19T19:05:21.366Z"
   },
   {
    "duration": 5,
    "start_time": "2022-07-19T19:05:21.403Z"
   },
   {
    "duration": 2615,
    "start_time": "2022-07-19T19:05:21.411Z"
   },
   {
    "duration": 51,
    "start_time": "2022-07-19T19:05:24.028Z"
   },
   {
    "duration": 25,
    "start_time": "2022-07-19T19:05:24.081Z"
   },
   {
    "duration": 54,
    "start_time": "2022-07-19T19:05:24.108Z"
   },
   {
    "duration": 47,
    "start_time": "2022-07-19T19:05:24.167Z"
   },
   {
    "duration": 2249,
    "start_time": "2022-07-19T19:05:24.217Z"
   },
   {
    "duration": 9293,
    "start_time": "2022-07-19T19:05:26.469Z"
   },
   {
    "duration": 4,
    "start_time": "2022-07-19T19:05:35.767Z"
   },
   {
    "duration": 43,
    "start_time": "2022-07-19T19:05:35.773Z"
   },
   {
    "duration": 61258,
    "start_time": "2022-07-19T19:05:59.295Z"
   },
   {
    "duration": 105907,
    "start_time": "2022-07-19T19:07:00.556Z"
   },
   {
    "duration": 233,
    "start_time": "2022-07-19T19:08:46.472Z"
   },
   {
    "duration": 3,
    "start_time": "2022-07-19T19:08:46.707Z"
   },
   {
    "duration": 4682,
    "start_time": "2022-07-19T19:08:46.713Z"
   },
   {
    "duration": 33,
    "start_time": "2022-07-19T19:08:51.397Z"
   },
   {
    "duration": 174,
    "start_time": "2022-07-19T19:08:51.432Z"
   },
   {
    "duration": 1300,
    "start_time": "2022-07-19T19:08:51.608Z"
   },
   {
    "duration": 400,
    "start_time": "2022-07-19T19:08:52.909Z"
   },
   {
    "duration": 119,
    "start_time": "2022-07-19T19:08:53.311Z"
   },
   {
    "duration": 112,
    "start_time": "2022-07-19T19:08:53.442Z"
   },
   {
    "duration": 2690,
    "start_time": "2022-07-19T19:08:53.560Z"
   },
   {
    "duration": 9,
    "start_time": "2022-07-19T19:08:56.252Z"
   },
   {
    "duration": 29,
    "start_time": "2022-07-19T19:08:56.265Z"
   },
   {
    "duration": 28,
    "start_time": "2022-07-19T19:08:56.297Z"
   },
   {
    "duration": 14108,
    "start_time": "2022-07-19T19:08:56.328Z"
   },
   {
    "duration": 18,
    "start_time": "2022-07-19T19:09:10.438Z"
   },
   {
    "duration": 83,
    "start_time": "2022-07-19T19:09:10.470Z"
   },
   {
    "duration": 7,
    "start_time": "2022-07-19T19:09:10.554Z"
   },
   {
    "duration": 7490,
    "start_time": "2022-07-19T19:09:10.563Z"
   },
   {
    "duration": 39,
    "start_time": "2022-07-19T19:09:18.055Z"
   },
   {
    "duration": 20,
    "start_time": "2022-07-19T19:09:18.096Z"
   },
   {
    "duration": 2490,
    "start_time": "2022-07-19T19:09:18.119Z"
   },
   {
    "duration": 54,
    "start_time": "2022-07-19T19:09:20.611Z"
   },
   {
    "duration": 20,
    "start_time": "2022-07-19T19:09:20.671Z"
   },
   {
    "duration": 43,
    "start_time": "2022-07-19T19:09:20.694Z"
   },
   {
    "duration": 46,
    "start_time": "2022-07-19T19:09:20.739Z"
   },
   {
    "duration": 2138,
    "start_time": "2022-07-19T19:09:20.787Z"
   },
   {
    "duration": 8880,
    "start_time": "2022-07-19T19:09:22.927Z"
   },
   {
    "duration": 4,
    "start_time": "2022-07-19T19:09:31.809Z"
   },
   {
    "duration": 8,
    "start_time": "2022-07-19T19:09:31.815Z"
   },
   {
    "duration": 383,
    "start_time": "2022-07-19T19:09:31.825Z"
   },
   {
    "duration": 5,
    "start_time": "2022-07-19T19:09:32.210Z"
   },
   {
    "duration": 25,
    "start_time": "2022-07-19T19:09:32.217Z"
   },
   {
    "duration": 53,
    "start_time": "2022-07-19T19:09:32.243Z"
   },
   {
    "duration": 54952,
    "start_time": "2022-07-19T19:11:22.975Z"
   },
   {
    "duration": 101220,
    "start_time": "2022-07-19T19:12:17.931Z"
   },
   {
    "duration": 343,
    "start_time": "2022-07-19T19:13:59.153Z"
   },
   {
    "duration": 3,
    "start_time": "2022-07-19T19:13:59.499Z"
   },
   {
    "duration": 5389,
    "start_time": "2022-07-19T19:13:59.505Z"
   },
   {
    "duration": 33,
    "start_time": "2022-07-19T19:14:04.902Z"
   },
   {
    "duration": 221,
    "start_time": "2022-07-19T19:14:04.937Z"
   },
   {
    "duration": 1408,
    "start_time": "2022-07-19T19:14:05.170Z"
   },
   {
    "duration": 454,
    "start_time": "2022-07-19T19:14:06.583Z"
   },
   {
    "duration": 119,
    "start_time": "2022-07-19T19:14:07.039Z"
   },
   {
    "duration": 151,
    "start_time": "2022-07-19T19:14:07.166Z"
   },
   {
    "duration": 3002,
    "start_time": "2022-07-19T19:14:07.319Z"
   },
   {
    "duration": 8,
    "start_time": "2022-07-19T19:14:10.322Z"
   },
   {
    "duration": 46,
    "start_time": "2022-07-19T19:14:10.357Z"
   },
   {
    "duration": 17,
    "start_time": "2022-07-19T19:14:10.405Z"
   },
   {
    "duration": 15372,
    "start_time": "2022-07-19T19:14:10.424Z"
   },
   {
    "duration": 15,
    "start_time": "2022-07-19T19:14:25.799Z"
   },
   {
    "duration": 81,
    "start_time": "2022-07-19T19:14:25.816Z"
   },
   {
    "duration": 6,
    "start_time": "2022-07-19T19:14:25.905Z"
   },
   {
    "duration": 8204,
    "start_time": "2022-07-19T19:14:25.913Z"
   },
   {
    "duration": 33,
    "start_time": "2022-07-19T19:14:34.119Z"
   },
   {
    "duration": 8,
    "start_time": "2022-07-19T19:14:34.154Z"
   },
   {
    "duration": 2470,
    "start_time": "2022-07-19T19:14:34.164Z"
   },
   {
    "duration": 47,
    "start_time": "2022-07-19T19:14:36.636Z"
   },
   {
    "duration": 32,
    "start_time": "2022-07-19T19:14:36.685Z"
   },
   {
    "duration": 53,
    "start_time": "2022-07-19T19:14:36.719Z"
   },
   {
    "duration": 44,
    "start_time": "2022-07-19T19:14:36.774Z"
   },
   {
    "duration": 2207,
    "start_time": "2022-07-19T19:14:36.820Z"
   },
   {
    "duration": 8773,
    "start_time": "2022-07-19T19:14:39.029Z"
   },
   {
    "duration": 3,
    "start_time": "2022-07-19T19:14:47.804Z"
   },
   {
    "duration": 22,
    "start_time": "2022-07-19T19:14:47.810Z"
   },
   {
    "duration": 678,
    "start_time": "2022-07-19T19:14:47.834Z"
   },
   {
    "duration": 4,
    "start_time": "2022-07-19T19:14:48.514Z"
   },
   {
    "duration": 7,
    "start_time": "2022-07-19T19:14:48.520Z"
   },
   {
    "duration": 500,
    "start_time": "2022-07-19T19:14:48.528Z"
   },
   {
    "duration": 106622,
    "start_time": "2022-07-19T19:16:04.527Z"
   },
   {
    "duration": 3,
    "start_time": "2022-07-19T19:20:49.222Z"
   },
   {
    "duration": 198811,
    "start_time": "2022-07-19T19:20:50.274Z"
   },
   {
    "duration": 590,
    "start_time": "2022-07-19T19:30:01.422Z"
   },
   {
    "duration": 5,
    "start_time": "2022-07-19T19:40:50.363Z"
   },
   {
    "duration": 3,
    "start_time": "2022-07-19T19:41:11.171Z"
   },
   {
    "duration": 56962,
    "start_time": "2022-07-19T19:41:42.463Z"
   },
   {
    "duration": 59266,
    "start_time": "2022-07-19T19:44:07.715Z"
   },
   {
    "duration": 102615,
    "start_time": "2022-07-19T19:45:06.983Z"
   },
   {
    "duration": 284,
    "start_time": "2022-07-19T19:46:49.599Z"
   },
   {
    "duration": 3,
    "start_time": "2022-07-19T19:46:49.884Z"
   },
   {
    "duration": 3914,
    "start_time": "2022-07-19T19:46:49.889Z"
   },
   {
    "duration": 30,
    "start_time": "2022-07-19T19:46:53.804Z"
   },
   {
    "duration": 144,
    "start_time": "2022-07-19T19:46:53.835Z"
   },
   {
    "duration": 1211,
    "start_time": "2022-07-19T19:46:53.981Z"
   },
   {
    "duration": 412,
    "start_time": "2022-07-19T19:46:55.194Z"
   },
   {
    "duration": 135,
    "start_time": "2022-07-19T19:46:55.610Z"
   },
   {
    "duration": 104,
    "start_time": "2022-07-19T19:46:55.747Z"
   },
   {
    "duration": 2755,
    "start_time": "2022-07-19T19:46:55.860Z"
   },
   {
    "duration": 9,
    "start_time": "2022-07-19T19:46:58.617Z"
   },
   {
    "duration": 12,
    "start_time": "2022-07-19T19:46:58.640Z"
   },
   {
    "duration": 44,
    "start_time": "2022-07-19T19:46:58.654Z"
   },
   {
    "duration": 12510,
    "start_time": "2022-07-19T19:46:58.700Z"
   },
   {
    "duration": 11,
    "start_time": "2022-07-19T19:47:11.212Z"
   },
   {
    "duration": 90,
    "start_time": "2022-07-19T19:47:11.226Z"
   },
   {
    "duration": 5,
    "start_time": "2022-07-19T19:47:11.317Z"
   },
   {
    "duration": 7116,
    "start_time": "2022-07-19T19:47:11.323Z"
   },
   {
    "duration": 26,
    "start_time": "2022-07-19T19:47:18.443Z"
   },
   {
    "duration": 29,
    "start_time": "2022-07-19T19:47:18.474Z"
   },
   {
    "duration": 2531,
    "start_time": "2022-07-19T19:47:18.504Z"
   },
   {
    "duration": 54,
    "start_time": "2022-07-19T19:47:21.037Z"
   },
   {
    "duration": 26,
    "start_time": "2022-07-19T19:47:21.093Z"
   },
   {
    "duration": 65,
    "start_time": "2022-07-19T19:47:21.121Z"
   },
   {
    "duration": 43,
    "start_time": "2022-07-19T19:47:21.192Z"
   },
   {
    "duration": 2216,
    "start_time": "2022-07-19T19:47:21.238Z"
   },
   {
    "duration": 8901,
    "start_time": "2022-07-19T19:47:23.458Z"
   },
   {
    "duration": 9,
    "start_time": "2022-07-19T19:47:32.361Z"
   },
   {
    "duration": 15,
    "start_time": "2022-07-19T19:47:32.372Z"
   },
   {
    "duration": 484,
    "start_time": "2022-07-19T19:47:32.389Z"
   },
   {
    "duration": 8,
    "start_time": "2022-07-19T19:47:32.875Z"
   },
   {
    "duration": 11,
    "start_time": "2022-07-19T19:47:32.885Z"
   },
   {
    "duration": 192563,
    "start_time": "2022-07-19T19:47:32.898Z"
   },
   {
    "duration": 10,
    "start_time": "2022-07-19T19:50:45.471Z"
   },
   {
    "duration": 56673,
    "start_time": "2022-07-19T20:13:45.233Z"
   },
   {
    "duration": 101302,
    "start_time": "2022-07-19T20:14:41.909Z"
   },
   {
    "duration": 208,
    "start_time": "2022-07-19T20:16:23.213Z"
   },
   {
    "duration": 3,
    "start_time": "2022-07-19T20:16:23.422Z"
   },
   {
    "duration": 4394,
    "start_time": "2022-07-19T20:16:23.427Z"
   },
   {
    "duration": 50,
    "start_time": "2022-07-19T20:16:27.825Z"
   },
   {
    "duration": 229,
    "start_time": "2022-07-19T20:16:27.877Z"
   },
   {
    "duration": 1341,
    "start_time": "2022-07-19T20:16:28.108Z"
   },
   {
    "duration": 369,
    "start_time": "2022-07-19T20:16:29.453Z"
   },
   {
    "duration": 109,
    "start_time": "2022-07-19T20:16:29.824Z"
   },
   {
    "duration": 101,
    "start_time": "2022-07-19T20:16:29.934Z"
   },
   {
    "duration": 2538,
    "start_time": "2022-07-19T20:16:30.040Z"
   },
   {
    "duration": 8,
    "start_time": "2022-07-19T20:16:32.581Z"
   },
   {
    "duration": 92,
    "start_time": "2022-07-19T20:16:32.592Z"
   },
   {
    "duration": 28,
    "start_time": "2022-07-19T20:16:32.686Z"
   },
   {
    "duration": 14390,
    "start_time": "2022-07-19T20:16:32.716Z"
   },
   {
    "duration": 11,
    "start_time": "2022-07-19T20:16:47.108Z"
   },
   {
    "duration": 82,
    "start_time": "2022-07-19T20:16:47.120Z"
   },
   {
    "duration": 4,
    "start_time": "2022-07-19T20:16:47.203Z"
   },
   {
    "duration": 7599,
    "start_time": "2022-07-19T20:16:47.209Z"
   },
   {
    "duration": 19,
    "start_time": "2022-07-19T20:16:54.810Z"
   },
   {
    "duration": 6,
    "start_time": "2022-07-19T20:16:54.847Z"
   },
   {
    "duration": 3513,
    "start_time": "2022-07-19T20:16:54.855Z"
   },
   {
    "duration": 43,
    "start_time": "2022-07-19T20:16:58.375Z"
   },
   {
    "duration": 11,
    "start_time": "2022-07-19T20:16:58.420Z"
   },
   {
    "duration": 56,
    "start_time": "2022-07-19T20:16:58.433Z"
   },
   {
    "duration": 38,
    "start_time": "2022-07-19T20:16:58.495Z"
   },
   {
    "duration": 2183,
    "start_time": "2022-07-19T20:16:58.534Z"
   },
   {
    "duration": 9088,
    "start_time": "2022-07-19T20:17:00.719Z"
   },
   {
    "duration": 3,
    "start_time": "2022-07-19T20:17:09.809Z"
   },
   {
    "duration": 6,
    "start_time": "2022-07-19T20:17:09.813Z"
   },
   {
    "duration": 65161,
    "start_time": "2022-07-19T20:18:21.090Z"
   },
   {
    "duration": 135939,
    "start_time": "2022-07-19T20:19:26.258Z"
   },
   {
    "duration": 301,
    "start_time": "2022-07-19T20:21:42.201Z"
   },
   {
    "duration": 3,
    "start_time": "2022-07-19T20:21:42.503Z"
   },
   {
    "duration": 5116,
    "start_time": "2022-07-19T20:21:42.509Z"
   },
   {
    "duration": 34,
    "start_time": "2022-07-19T20:21:47.627Z"
   },
   {
    "duration": 249,
    "start_time": "2022-07-19T20:21:47.663Z"
   },
   {
    "duration": 1479,
    "start_time": "2022-07-19T20:21:47.914Z"
   },
   {
    "duration": 408,
    "start_time": "2022-07-19T20:21:49.402Z"
   },
   {
    "duration": 114,
    "start_time": "2022-07-19T20:21:49.811Z"
   },
   {
    "duration": 105,
    "start_time": "2022-07-19T20:21:49.927Z"
   },
   {
    "duration": 2978,
    "start_time": "2022-07-19T20:21:50.048Z"
   },
   {
    "duration": 29,
    "start_time": "2022-07-19T20:21:53.028Z"
   },
   {
    "duration": 25,
    "start_time": "2022-07-19T20:21:53.076Z"
   },
   {
    "duration": 19,
    "start_time": "2022-07-19T20:21:53.103Z"
   },
   {
    "duration": 16225,
    "start_time": "2022-07-19T20:21:53.124Z"
   },
   {
    "duration": 13,
    "start_time": "2022-07-19T20:22:09.351Z"
   },
   {
    "duration": 167,
    "start_time": "2022-07-19T20:22:09.366Z"
   },
   {
    "duration": 18,
    "start_time": "2022-07-19T20:22:09.535Z"
   },
   {
    "duration": 9024,
    "start_time": "2022-07-19T20:22:09.573Z"
   },
   {
    "duration": 35,
    "start_time": "2022-07-19T20:22:18.599Z"
   },
   {
    "duration": 89,
    "start_time": "2022-07-19T20:22:18.636Z"
   },
   {
    "duration": 7604,
    "start_time": "2022-07-19T20:22:18.727Z"
   },
   {
    "duration": 49,
    "start_time": "2022-07-19T20:22:26.333Z"
   },
   {
    "duration": 43,
    "start_time": "2022-07-19T20:22:26.385Z"
   },
   {
    "duration": 116,
    "start_time": "2022-07-19T20:22:26.431Z"
   },
   {
    "duration": 64,
    "start_time": "2022-07-19T20:22:26.555Z"
   },
   {
    "duration": 2393,
    "start_time": "2022-07-19T20:22:26.622Z"
   },
   {
    "duration": 10746,
    "start_time": "2022-07-19T20:22:29.021Z"
   },
   {
    "duration": 7,
    "start_time": "2022-07-19T20:22:39.770Z"
   },
   {
    "duration": 43,
    "start_time": "2022-07-19T20:22:39.778Z"
   },
   {
    "duration": 81162,
    "start_time": "2022-07-19T20:23:09.227Z"
   },
   {
    "duration": 140970,
    "start_time": "2022-07-19T20:24:30.391Z"
   },
   {
    "duration": 270,
    "start_time": "2022-07-19T20:26:51.364Z"
   },
   {
    "duration": 11,
    "start_time": "2022-07-19T20:26:51.636Z"
   },
   {
    "duration": 6112,
    "start_time": "2022-07-19T20:26:51.652Z"
   },
   {
    "duration": 54,
    "start_time": "2022-07-19T20:26:57.766Z"
   },
   {
    "duration": 378,
    "start_time": "2022-07-19T20:26:57.836Z"
   },
   {
    "duration": 1723,
    "start_time": "2022-07-19T20:26:58.216Z"
   },
   {
    "duration": 503,
    "start_time": "2022-07-19T20:26:59.941Z"
   },
   {
    "duration": 130,
    "start_time": "2022-07-19T20:27:00.447Z"
   },
   {
    "duration": 227,
    "start_time": "2022-07-19T20:27:00.580Z"
   },
   {
    "duration": 3224,
    "start_time": "2022-07-19T20:27:00.812Z"
   },
   {
    "duration": 20,
    "start_time": "2022-07-19T20:27:04.038Z"
   },
   {
    "duration": 69,
    "start_time": "2022-07-19T20:27:04.062Z"
   },
   {
    "duration": 66,
    "start_time": "2022-07-19T20:27:04.133Z"
   },
   {
    "duration": 16917,
    "start_time": "2022-07-19T20:27:04.201Z"
   },
   {
    "duration": 18,
    "start_time": "2022-07-19T20:27:21.120Z"
   },
   {
    "duration": 209,
    "start_time": "2022-07-19T20:27:21.142Z"
   },
   {
    "duration": 9,
    "start_time": "2022-07-19T20:27:21.352Z"
   },
   {
    "duration": 9156,
    "start_time": "2022-07-19T20:27:21.362Z"
   },
   {
    "duration": 26,
    "start_time": "2022-07-19T20:27:30.521Z"
   },
   {
    "duration": 74,
    "start_time": "2022-07-19T20:27:30.551Z"
   },
   {
    "duration": 2896,
    "start_time": "2022-07-19T20:27:30.626Z"
   },
   {
    "duration": 59,
    "start_time": "2022-07-19T20:27:33.525Z"
   },
   {
    "duration": 50,
    "start_time": "2022-07-19T20:27:33.586Z"
   },
   {
    "duration": 98,
    "start_time": "2022-07-19T20:27:33.638Z"
   },
   {
    "duration": 67,
    "start_time": "2022-07-19T20:27:33.737Z"
   },
   {
    "duration": 2346,
    "start_time": "2022-07-19T20:27:33.814Z"
   },
   {
    "duration": 10463,
    "start_time": "2022-07-19T20:27:36.162Z"
   },
   {
    "duration": 4,
    "start_time": "2022-07-19T20:27:46.627Z"
   },
   {
    "duration": 29,
    "start_time": "2022-07-19T20:27:46.632Z"
   },
   {
    "duration": 443,
    "start_time": "2022-07-19T20:27:46.672Z"
   },
   {
    "duration": 3,
    "start_time": "2022-07-19T20:27:47.117Z"
   },
   {
    "duration": 8,
    "start_time": "2022-07-19T20:27:47.122Z"
   },
   {
    "duration": 199825,
    "start_time": "2022-07-19T20:27:47.145Z"
   },
   {
    "duration": 29,
    "start_time": "2022-07-19T20:31:06.972Z"
   },
   {
    "duration": 76358,
    "start_time": "2022-07-19T20:32:04.921Z"
   },
   {
    "duration": 182288,
    "start_time": "2022-07-19T20:33:21.281Z"
   },
   {
    "duration": 314,
    "start_time": "2022-07-19T20:36:23.580Z"
   },
   {
    "duration": 3,
    "start_time": "2022-07-19T20:36:23.901Z"
   },
   {
    "duration": 5591,
    "start_time": "2022-07-19T20:36:23.906Z"
   },
   {
    "duration": 35,
    "start_time": "2022-07-19T20:36:29.501Z"
   },
   {
    "duration": 190,
    "start_time": "2022-07-19T20:36:29.538Z"
   },
   {
    "duration": 1497,
    "start_time": "2022-07-19T20:36:29.730Z"
   },
   {
    "duration": 505,
    "start_time": "2022-07-19T20:36:31.229Z"
   },
   {
    "duration": 134,
    "start_time": "2022-07-19T20:36:31.736Z"
   },
   {
    "duration": 147,
    "start_time": "2022-07-19T20:36:31.877Z"
   },
   {
    "duration": 2939,
    "start_time": "2022-07-19T20:36:32.026Z"
   },
   {
    "duration": 12,
    "start_time": "2022-07-19T20:36:34.967Z"
   },
   {
    "duration": 39,
    "start_time": "2022-07-19T20:36:34.981Z"
   },
   {
    "duration": 92,
    "start_time": "2022-07-19T20:36:35.024Z"
   },
   {
    "duration": 15355,
    "start_time": "2022-07-19T20:36:35.118Z"
   },
   {
    "duration": 23,
    "start_time": "2022-07-19T20:36:50.484Z"
   },
   {
    "duration": 90,
    "start_time": "2022-07-19T20:36:50.509Z"
   },
   {
    "duration": 4,
    "start_time": "2022-07-19T20:36:50.602Z"
   },
   {
    "duration": 8313,
    "start_time": "2022-07-19T20:36:50.607Z"
   },
   {
    "duration": 40,
    "start_time": "2022-07-19T20:36:58.922Z"
   },
   {
    "duration": 7,
    "start_time": "2022-07-19T20:36:58.964Z"
   },
   {
    "duration": 2857,
    "start_time": "2022-07-19T20:36:58.973Z"
   },
   {
    "duration": 53,
    "start_time": "2022-07-19T20:37:01.832Z"
   },
   {
    "duration": 30,
    "start_time": "2022-07-19T20:37:01.902Z"
   },
   {
    "duration": 156,
    "start_time": "2022-07-19T20:37:01.934Z"
   },
   {
    "duration": 69,
    "start_time": "2022-07-19T20:37:02.101Z"
   },
   {
    "duration": 2294,
    "start_time": "2022-07-19T20:37:02.183Z"
   },
   {
    "duration": 10282,
    "start_time": "2022-07-19T20:37:04.479Z"
   },
   {
    "duration": 5,
    "start_time": "2022-07-19T20:37:14.764Z"
   },
   {
    "duration": 5,
    "start_time": "2022-07-19T20:37:14.771Z"
   },
   {
    "duration": 498,
    "start_time": "2022-07-19T20:37:14.779Z"
   },
   {
    "duration": 7,
    "start_time": "2022-07-19T20:37:15.280Z"
   },
   {
    "duration": 68,
    "start_time": "2022-07-19T20:37:15.290Z"
   },
   {
    "duration": 199090,
    "start_time": "2022-07-19T20:37:15.370Z"
   },
   {
    "duration": 10,
    "start_time": "2022-07-19T20:40:34.469Z"
   },
   {
    "duration": 46,
    "start_time": "2022-07-20T07:21:13.359Z"
   },
   {
    "duration": 38874,
    "start_time": "2022-07-20T07:22:12.459Z"
   },
   {
    "duration": 65440,
    "start_time": "2022-07-20T07:22:51.335Z"
   },
   {
    "duration": 336,
    "start_time": "2022-07-20T07:23:56.777Z"
   },
   {
    "duration": 4,
    "start_time": "2022-07-20T07:23:57.115Z"
   },
   {
    "duration": 2340,
    "start_time": "2022-07-20T07:23:57.121Z"
   },
   {
    "duration": 32,
    "start_time": "2022-07-20T07:23:59.462Z"
   },
   {
    "duration": 128,
    "start_time": "2022-07-20T07:23:59.495Z"
   },
   {
    "duration": 1033,
    "start_time": "2022-07-20T07:23:59.625Z"
   },
   {
    "duration": 322,
    "start_time": "2022-07-20T07:24:00.659Z"
   },
   {
    "duration": 94,
    "start_time": "2022-07-20T07:24:00.983Z"
   },
   {
    "duration": 116,
    "start_time": "2022-07-20T07:24:01.079Z"
   },
   {
    "duration": 1911,
    "start_time": "2022-07-20T07:24:01.197Z"
   },
   {
    "duration": 15,
    "start_time": "2022-07-20T07:24:03.110Z"
   },
   {
    "duration": 6,
    "start_time": "2022-07-20T07:24:03.127Z"
   },
   {
    "duration": 33,
    "start_time": "2022-07-20T07:24:03.135Z"
   },
   {
    "duration": 9840,
    "start_time": "2022-07-20T07:24:03.170Z"
   },
   {
    "duration": 13,
    "start_time": "2022-07-20T07:24:13.011Z"
   },
   {
    "duration": 57,
    "start_time": "2022-07-20T07:24:13.026Z"
   },
   {
    "duration": 4,
    "start_time": "2022-07-20T07:24:13.085Z"
   },
   {
    "duration": 5248,
    "start_time": "2022-07-20T07:24:13.090Z"
   },
   {
    "duration": 19,
    "start_time": "2022-07-20T07:24:18.340Z"
   },
   {
    "duration": 3,
    "start_time": "2022-07-20T07:24:18.361Z"
   },
   {
    "duration": 2009,
    "start_time": "2022-07-20T07:24:18.366Z"
   },
   {
    "duration": 31,
    "start_time": "2022-07-20T07:24:20.377Z"
   },
   {
    "duration": 24,
    "start_time": "2022-07-20T07:24:20.409Z"
   },
   {
    "duration": 35,
    "start_time": "2022-07-20T07:24:20.435Z"
   },
   {
    "duration": 55,
    "start_time": "2022-07-20T07:24:20.472Z"
   },
   {
    "duration": 1945,
    "start_time": "2022-07-20T07:24:20.530Z"
   },
   {
    "duration": 6970,
    "start_time": "2022-07-20T07:24:22.477Z"
   },
   {
    "duration": 4,
    "start_time": "2022-07-20T07:24:29.448Z"
   },
   {
    "duration": 13,
    "start_time": "2022-07-20T07:24:29.453Z"
   },
   {
    "duration": 335,
    "start_time": "2022-07-20T07:24:29.468Z"
   },
   {
    "duration": 3,
    "start_time": "2022-07-20T07:24:29.804Z"
   },
   {
    "duration": 7,
    "start_time": "2022-07-20T07:24:29.808Z"
   },
   {
    "duration": 170818,
    "start_time": "2022-07-20T07:24:29.816Z"
   },
   {
    "duration": 3,
    "start_time": "2022-07-20T07:27:20.636Z"
   },
   {
    "duration": 11,
    "start_time": "2022-07-20T07:27:20.640Z"
   },
   {
    "duration": 375,
    "start_time": "2022-07-20T07:27:20.652Z"
   },
   {
    "duration": 0,
    "start_time": "2022-07-20T07:27:21.028Z"
   },
   {
    "duration": 18,
    "start_time": "2022-07-20T07:29:48.114Z"
   },
   {
    "duration": 48022,
    "start_time": "2022-07-20T07:30:30.715Z"
   },
   {
    "duration": 72849,
    "start_time": "2022-07-20T07:31:18.739Z"
   },
   {
    "duration": 212,
    "start_time": "2022-07-20T07:32:31.590Z"
   },
   {
    "duration": 3,
    "start_time": "2022-07-20T07:32:31.805Z"
   },
   {
    "duration": 2349,
    "start_time": "2022-07-20T07:32:31.809Z"
   },
   {
    "duration": 32,
    "start_time": "2022-07-20T07:32:34.160Z"
   },
   {
    "duration": 134,
    "start_time": "2022-07-20T07:32:34.194Z"
   },
   {
    "duration": 1020,
    "start_time": "2022-07-20T07:32:34.330Z"
   },
   {
    "duration": 300,
    "start_time": "2022-07-20T07:32:35.352Z"
   },
   {
    "duration": 91,
    "start_time": "2022-07-20T07:32:35.656Z"
   },
   {
    "duration": 89,
    "start_time": "2022-07-20T07:32:35.749Z"
   },
   {
    "duration": 1925,
    "start_time": "2022-07-20T07:32:35.840Z"
   },
   {
    "duration": 7,
    "start_time": "2022-07-20T07:32:37.767Z"
   },
   {
    "duration": 8,
    "start_time": "2022-07-20T07:32:37.775Z"
   },
   {
    "duration": 19,
    "start_time": "2022-07-20T07:32:37.784Z"
   },
   {
    "duration": 9970,
    "start_time": "2022-07-20T07:32:37.823Z"
   },
   {
    "duration": 10,
    "start_time": "2022-07-20T07:32:47.795Z"
   },
   {
    "duration": 74,
    "start_time": "2022-07-20T07:32:47.807Z"
   },
   {
    "duration": 3,
    "start_time": "2022-07-20T07:32:47.883Z"
   },
   {
    "duration": 5358,
    "start_time": "2022-07-20T07:32:47.887Z"
   },
   {
    "duration": 19,
    "start_time": "2022-07-20T07:32:53.246Z"
   },
   {
    "duration": 4,
    "start_time": "2022-07-20T07:32:53.266Z"
   },
   {
    "duration": 2501,
    "start_time": "2022-07-20T07:32:53.271Z"
   },
   {
    "duration": 32,
    "start_time": "2022-07-20T07:32:55.773Z"
   },
   {
    "duration": 18,
    "start_time": "2022-07-20T07:32:55.807Z"
   },
   {
    "duration": 34,
    "start_time": "2022-07-20T07:32:55.827Z"
   },
   {
    "duration": 38,
    "start_time": "2022-07-20T07:32:55.863Z"
   },
   {
    "duration": 2010,
    "start_time": "2022-07-20T07:32:55.925Z"
   },
   {
    "duration": 6942,
    "start_time": "2022-07-20T07:32:57.937Z"
   },
   {
    "duration": 3,
    "start_time": "2022-07-20T07:33:04.881Z"
   },
   {
    "duration": 11,
    "start_time": "2022-07-20T07:33:04.885Z"
   },
   {
    "duration": 338,
    "start_time": "2022-07-20T07:33:04.898Z"
   },
   {
    "duration": 3,
    "start_time": "2022-07-20T07:33:05.237Z"
   },
   {
    "duration": 22,
    "start_time": "2022-07-20T07:33:05.242Z"
   },
   {
    "duration": 171563,
    "start_time": "2022-07-20T07:33:05.266Z"
   },
   {
    "duration": 3,
    "start_time": "2022-07-20T07:35:56.831Z"
   },
   {
    "duration": 12,
    "start_time": "2022-07-20T07:35:56.836Z"
   },
   {
    "duration": 36483,
    "start_time": "2022-07-20T07:40:12.098Z"
   },
   {
    "duration": 55951,
    "start_time": "2022-07-20T07:40:48.584Z"
   },
   {
    "duration": 151,
    "start_time": "2022-07-20T07:41:44.537Z"
   },
   {
    "duration": 3,
    "start_time": "2022-07-20T07:41:44.690Z"
   },
   {
    "duration": 2387,
    "start_time": "2022-07-20T07:41:44.695Z"
   },
   {
    "duration": 34,
    "start_time": "2022-07-20T07:41:47.084Z"
   },
   {
    "duration": 150,
    "start_time": "2022-07-20T07:41:47.119Z"
   },
   {
    "duration": 1109,
    "start_time": "2022-07-20T07:41:47.271Z"
   },
   {
    "duration": 303,
    "start_time": "2022-07-20T07:41:48.382Z"
   },
   {
    "duration": 107,
    "start_time": "2022-07-20T07:41:48.687Z"
   },
   {
    "duration": 92,
    "start_time": "2022-07-20T07:41:48.796Z"
   },
   {
    "duration": 1943,
    "start_time": "2022-07-20T07:41:48.889Z"
   },
   {
    "duration": 8,
    "start_time": "2022-07-20T07:41:50.834Z"
   },
   {
    "duration": 39,
    "start_time": "2022-07-20T07:41:50.846Z"
   },
   {
    "duration": 19,
    "start_time": "2022-07-20T07:41:50.887Z"
   },
   {
    "duration": 10044,
    "start_time": "2022-07-20T07:41:50.908Z"
   },
   {
    "duration": 10,
    "start_time": "2022-07-20T07:42:00.954Z"
   },
   {
    "duration": 71,
    "start_time": "2022-07-20T07:42:00.966Z"
   },
   {
    "duration": 3,
    "start_time": "2022-07-20T07:42:01.039Z"
   },
   {
    "duration": 5364,
    "start_time": "2022-07-20T07:42:01.044Z"
   },
   {
    "duration": 25,
    "start_time": "2022-07-20T07:42:06.409Z"
   },
   {
    "duration": 4,
    "start_time": "2022-07-20T07:42:06.436Z"
   },
   {
    "duration": 2054,
    "start_time": "2022-07-20T07:42:06.441Z"
   },
   {
    "duration": 43,
    "start_time": "2022-07-20T07:42:08.497Z"
   },
   {
    "duration": 12,
    "start_time": "2022-07-20T07:42:08.542Z"
   },
   {
    "duration": 39,
    "start_time": "2022-07-20T07:42:08.555Z"
   },
   {
    "duration": 56,
    "start_time": "2022-07-20T07:42:08.595Z"
   },
   {
    "duration": 1952,
    "start_time": "2022-07-20T07:42:08.652Z"
   },
   {
    "duration": 6914,
    "start_time": "2022-07-20T07:42:10.605Z"
   },
   {
    "duration": 3,
    "start_time": "2022-07-20T07:42:17.523Z"
   },
   {
    "duration": 8,
    "start_time": "2022-07-20T07:42:17.528Z"
   },
   {
    "duration": 318,
    "start_time": "2022-07-20T07:42:17.538Z"
   },
   {
    "duration": 2,
    "start_time": "2022-07-20T07:42:17.858Z"
   },
   {
    "duration": 7,
    "start_time": "2022-07-20T07:42:17.862Z"
   },
   {
    "duration": 140660,
    "start_time": "2022-07-20T07:42:17.870Z"
   },
   {
    "duration": 3,
    "start_time": "2022-07-20T07:44:38.532Z"
   },
   {
    "duration": 7,
    "start_time": "2022-07-20T07:44:38.536Z"
   },
   {
    "duration": 34200,
    "start_time": "2022-07-20T07:45:17.210Z"
   },
   {
    "duration": 62675,
    "start_time": "2022-07-20T07:45:51.412Z"
   },
   {
    "duration": 139,
    "start_time": "2022-07-20T07:46:54.089Z"
   },
   {
    "duration": 3,
    "start_time": "2022-07-20T07:46:54.230Z"
   },
   {
    "duration": 2328,
    "start_time": "2022-07-20T07:46:54.235Z"
   },
   {
    "duration": 38,
    "start_time": "2022-07-20T07:46:56.565Z"
   },
   {
    "duration": 135,
    "start_time": "2022-07-20T07:46:56.605Z"
   },
   {
    "duration": 1074,
    "start_time": "2022-07-20T07:46:56.742Z"
   },
   {
    "duration": 301,
    "start_time": "2022-07-20T07:46:57.818Z"
   },
   {
    "duration": 85,
    "start_time": "2022-07-20T07:46:58.123Z"
   },
   {
    "duration": 92,
    "start_time": "2022-07-20T07:46:58.210Z"
   },
   {
    "duration": 1869,
    "start_time": "2022-07-20T07:46:58.304Z"
   },
   {
    "duration": 6,
    "start_time": "2022-07-20T07:47:00.175Z"
   },
   {
    "duration": 10,
    "start_time": "2022-07-20T07:47:00.184Z"
   },
   {
    "duration": 30,
    "start_time": "2022-07-20T07:47:00.195Z"
   },
   {
    "duration": 9845,
    "start_time": "2022-07-20T07:47:00.227Z"
   },
   {
    "duration": 9,
    "start_time": "2022-07-20T07:47:10.074Z"
   },
   {
    "duration": 66,
    "start_time": "2022-07-20T07:47:10.085Z"
   },
   {
    "duration": 5,
    "start_time": "2022-07-20T07:47:10.153Z"
   },
   {
    "duration": 5239,
    "start_time": "2022-07-20T07:47:10.159Z"
   },
   {
    "duration": 25,
    "start_time": "2022-07-20T07:47:15.400Z"
   },
   {
    "duration": 4,
    "start_time": "2022-07-20T07:47:15.427Z"
   },
   {
    "duration": 2227,
    "start_time": "2022-07-20T07:47:15.433Z"
   },
   {
    "duration": 33,
    "start_time": "2022-07-20T07:47:17.662Z"
   },
   {
    "duration": 28,
    "start_time": "2022-07-20T07:47:17.697Z"
   },
   {
    "duration": 45,
    "start_time": "2022-07-20T07:47:17.727Z"
   },
   {
    "duration": 33,
    "start_time": "2022-07-20T07:47:17.774Z"
   },
   {
    "duration": 1947,
    "start_time": "2022-07-20T07:47:17.809Z"
   },
   {
    "duration": 6689,
    "start_time": "2022-07-20T07:47:19.758Z"
   },
   {
    "duration": 4,
    "start_time": "2022-07-20T07:47:26.448Z"
   },
   {
    "duration": 10,
    "start_time": "2022-07-20T07:47:26.453Z"
   },
   {
    "duration": 332,
    "start_time": "2022-07-20T07:47:26.465Z"
   },
   {
    "duration": 3,
    "start_time": "2022-07-20T07:47:26.798Z"
   },
   {
    "duration": 17,
    "start_time": "2022-07-20T07:47:26.802Z"
   },
   {
    "duration": 121618,
    "start_time": "2022-07-20T07:47:26.820Z"
   },
   {
    "duration": 3,
    "start_time": "2022-07-20T07:49:28.441Z"
   },
   {
    "duration": 10,
    "start_time": "2022-07-20T07:49:28.447Z"
   },
   {
    "duration": 41813,
    "start_time": "2022-07-20T07:58:44.136Z"
   },
   {
    "duration": 67092,
    "start_time": "2022-07-20T07:59:25.952Z"
   },
   {
    "duration": 223,
    "start_time": "2022-07-20T08:00:33.046Z"
   },
   {
    "duration": 3,
    "start_time": "2022-07-20T08:00:33.270Z"
   },
   {
    "duration": 2297,
    "start_time": "2022-07-20T08:00:33.275Z"
   },
   {
    "duration": 32,
    "start_time": "2022-07-20T08:00:35.574Z"
   },
   {
    "duration": 125,
    "start_time": "2022-07-20T08:00:35.608Z"
   },
   {
    "duration": 1031,
    "start_time": "2022-07-20T08:00:35.735Z"
   },
   {
    "duration": 300,
    "start_time": "2022-07-20T08:00:36.768Z"
   },
   {
    "duration": 88,
    "start_time": "2022-07-20T08:00:37.070Z"
   },
   {
    "duration": 115,
    "start_time": "2022-07-20T08:00:37.160Z"
   },
   {
    "duration": 1969,
    "start_time": "2022-07-20T08:00:37.277Z"
   },
   {
    "duration": 7,
    "start_time": "2022-07-20T08:00:39.248Z"
   },
   {
    "duration": 11,
    "start_time": "2022-07-20T08:00:39.258Z"
   },
   {
    "duration": 17,
    "start_time": "2022-07-20T08:00:39.271Z"
   },
   {
    "duration": 9863,
    "start_time": "2022-07-20T08:00:39.290Z"
   },
   {
    "duration": 10,
    "start_time": "2022-07-20T08:00:49.154Z"
   },
   {
    "duration": 103,
    "start_time": "2022-07-20T08:00:49.166Z"
   },
   {
    "duration": 54,
    "start_time": "2022-07-20T08:00:49.271Z"
   },
   {
    "duration": 5203,
    "start_time": "2022-07-20T08:00:49.327Z"
   },
   {
    "duration": 21,
    "start_time": "2022-07-20T08:00:54.532Z"
   },
   {
    "duration": 4,
    "start_time": "2022-07-20T08:00:54.555Z"
   },
   {
    "duration": 2436,
    "start_time": "2022-07-20T08:00:54.561Z"
   },
   {
    "duration": 34,
    "start_time": "2022-07-20T08:00:56.999Z"
   },
   {
    "duration": 12,
    "start_time": "2022-07-20T08:00:57.035Z"
   },
   {
    "duration": 36,
    "start_time": "2022-07-20T08:00:57.049Z"
   },
   {
    "duration": 62,
    "start_time": "2022-07-20T08:00:57.087Z"
   },
   {
    "duration": 1966,
    "start_time": "2022-07-20T08:00:57.151Z"
   },
   {
    "duration": 6849,
    "start_time": "2022-07-20T08:00:59.124Z"
   },
   {
    "duration": 3,
    "start_time": "2022-07-20T08:01:05.975Z"
   },
   {
    "duration": 26,
    "start_time": "2022-07-20T08:01:05.980Z"
   },
   {
    "duration": 321,
    "start_time": "2022-07-20T08:01:06.007Z"
   },
   {
    "duration": 3,
    "start_time": "2022-07-20T08:01:06.330Z"
   },
   {
    "duration": 8,
    "start_time": "2022-07-20T08:01:06.335Z"
   },
   {
    "duration": 120085,
    "start_time": "2022-07-20T08:01:06.344Z"
   },
   {
    "duration": 3,
    "start_time": "2022-07-20T08:03:06.431Z"
   },
   {
    "duration": 14,
    "start_time": "2022-07-20T08:03:06.435Z"
   },
   {
    "duration": 43034,
    "start_time": "2022-07-20T08:14:33.264Z"
   },
   {
    "duration": 65135,
    "start_time": "2022-07-20T08:15:16.300Z"
   },
   {
    "duration": 191,
    "start_time": "2022-07-20T08:16:21.437Z"
   },
   {
    "duration": 2,
    "start_time": "2022-07-20T08:16:21.631Z"
   },
   {
    "duration": 2317,
    "start_time": "2022-07-20T08:16:21.635Z"
   },
   {
    "duration": 31,
    "start_time": "2022-07-20T08:16:23.954Z"
   },
   {
    "duration": 127,
    "start_time": "2022-07-20T08:16:23.987Z"
   },
   {
    "duration": 1068,
    "start_time": "2022-07-20T08:16:24.116Z"
   },
   {
    "duration": 322,
    "start_time": "2022-07-20T08:16:25.186Z"
   },
   {
    "duration": 96,
    "start_time": "2022-07-20T08:16:25.510Z"
   },
   {
    "duration": 95,
    "start_time": "2022-07-20T08:16:25.607Z"
   },
   {
    "duration": 2012,
    "start_time": "2022-07-20T08:16:25.704Z"
   },
   {
    "duration": 8,
    "start_time": "2022-07-20T08:16:27.723Z"
   },
   {
    "duration": 8,
    "start_time": "2022-07-20T08:16:27.733Z"
   },
   {
    "duration": 18,
    "start_time": "2022-07-20T08:16:27.742Z"
   },
   {
    "duration": 9848,
    "start_time": "2022-07-20T08:16:27.761Z"
   },
   {
    "duration": 14,
    "start_time": "2022-07-20T08:16:37.610Z"
   },
   {
    "duration": 57,
    "start_time": "2022-07-20T08:16:37.625Z"
   },
   {
    "duration": 3,
    "start_time": "2022-07-20T08:16:37.684Z"
   },
   {
    "duration": 5252,
    "start_time": "2022-07-20T08:16:37.689Z"
   },
   {
    "duration": 17,
    "start_time": "2022-07-20T08:16:42.942Z"
   },
   {
    "duration": 4,
    "start_time": "2022-07-20T08:16:42.960Z"
   },
   {
    "duration": 2103,
    "start_time": "2022-07-20T08:16:42.966Z"
   },
   {
    "duration": 33,
    "start_time": "2022-07-20T08:16:45.071Z"
   },
   {
    "duration": 24,
    "start_time": "2022-07-20T08:16:45.106Z"
   },
   {
    "duration": 51,
    "start_time": "2022-07-20T08:16:45.132Z"
   },
   {
    "duration": 34,
    "start_time": "2022-07-20T08:16:45.185Z"
   },
   {
    "duration": 1953,
    "start_time": "2022-07-20T08:16:45.222Z"
   },
   {
    "duration": 6853,
    "start_time": "2022-07-20T08:16:47.178Z"
   },
   {
    "duration": 4,
    "start_time": "2022-07-20T08:16:54.032Z"
   },
   {
    "duration": 11,
    "start_time": "2022-07-20T08:16:54.037Z"
   },
   {
    "duration": 312,
    "start_time": "2022-07-20T08:16:54.050Z"
   },
   {
    "duration": 3,
    "start_time": "2022-07-20T08:16:54.364Z"
   },
   {
    "duration": 7,
    "start_time": "2022-07-20T08:16:54.369Z"
   },
   {
    "duration": 112353,
    "start_time": "2022-07-20T08:16:54.377Z"
   },
   {
    "duration": 3,
    "start_time": "2022-07-20T08:18:46.731Z"
   },
   {
    "duration": 8,
    "start_time": "2022-07-20T08:18:46.735Z"
   },
   {
    "duration": 37877,
    "start_time": "2022-07-20T09:18:29.959Z"
   },
   {
    "duration": 74585,
    "start_time": "2022-07-20T09:19:07.838Z"
   },
   {
    "duration": 198,
    "start_time": "2022-07-20T09:20:22.425Z"
   },
   {
    "duration": 3,
    "start_time": "2022-07-20T09:20:22.625Z"
   },
   {
    "duration": 2399,
    "start_time": "2022-07-20T09:20:22.630Z"
   },
   {
    "duration": 33,
    "start_time": "2022-07-20T09:20:25.031Z"
   },
   {
    "duration": 160,
    "start_time": "2022-07-20T09:20:25.065Z"
   },
   {
    "duration": 1054,
    "start_time": "2022-07-20T09:20:25.227Z"
   },
   {
    "duration": 331,
    "start_time": "2022-07-20T09:20:26.282Z"
   },
   {
    "duration": 85,
    "start_time": "2022-07-20T09:20:26.623Z"
   },
   {
    "duration": 93,
    "start_time": "2022-07-20T09:20:26.711Z"
   },
   {
    "duration": 2179,
    "start_time": "2022-07-20T09:20:26.805Z"
   },
   {
    "duration": 7,
    "start_time": "2022-07-20T09:20:28.986Z"
   },
   {
    "duration": 8,
    "start_time": "2022-07-20T09:20:28.995Z"
   },
   {
    "duration": 34,
    "start_time": "2022-07-20T09:20:29.005Z"
   },
   {
    "duration": 10223,
    "start_time": "2022-07-20T09:20:29.040Z"
   },
   {
    "duration": 10,
    "start_time": "2022-07-20T09:20:39.265Z"
   },
   {
    "duration": 64,
    "start_time": "2022-07-20T09:20:39.276Z"
   },
   {
    "duration": 4,
    "start_time": "2022-07-20T09:20:39.341Z"
   },
   {
    "duration": 5292,
    "start_time": "2022-07-20T09:20:39.347Z"
   },
   {
    "duration": 20,
    "start_time": "2022-07-20T09:20:44.640Z"
   },
   {
    "duration": 21,
    "start_time": "2022-07-20T09:20:44.663Z"
   },
   {
    "duration": 2138,
    "start_time": "2022-07-20T09:20:44.686Z"
   },
   {
    "duration": 31,
    "start_time": "2022-07-20T09:20:46.826Z"
   },
   {
    "duration": 12,
    "start_time": "2022-07-20T09:20:46.858Z"
   },
   {
    "duration": 55,
    "start_time": "2022-07-20T09:20:46.872Z"
   },
   {
    "duration": 34,
    "start_time": "2022-07-20T09:20:46.929Z"
   },
   {
    "duration": 1999,
    "start_time": "2022-07-20T09:20:46.966Z"
   },
   {
    "duration": 6858,
    "start_time": "2022-07-20T09:20:48.966Z"
   },
   {
    "duration": 4,
    "start_time": "2022-07-20T09:20:55.825Z"
   },
   {
    "duration": 10,
    "start_time": "2022-07-20T09:20:55.830Z"
   },
   {
    "duration": 232,
    "start_time": "2022-07-20T09:20:55.841Z"
   },
   {
    "duration": 4,
    "start_time": "2022-07-20T09:20:56.075Z"
   },
   {
    "duration": 8,
    "start_time": "2022-07-20T09:20:56.080Z"
   },
   {
    "duration": 4675,
    "start_time": "2022-07-20T09:20:56.089Z"
   },
   {
    "duration": 3,
    "start_time": "2022-07-20T09:21:00.766Z"
   },
   {
    "duration": 27,
    "start_time": "2022-07-20T09:21:00.770Z"
   },
   {
    "duration": 35139,
    "start_time": "2022-07-20T09:23:18.077Z"
   },
   {
    "duration": 68372,
    "start_time": "2022-07-20T09:23:53.218Z"
   },
   {
    "duration": 216,
    "start_time": "2022-07-20T09:25:01.593Z"
   },
   {
    "duration": 2,
    "start_time": "2022-07-20T09:25:01.812Z"
   },
   {
    "duration": 2353,
    "start_time": "2022-07-20T09:25:01.816Z"
   },
   {
    "duration": 31,
    "start_time": "2022-07-20T09:25:04.171Z"
   },
   {
    "duration": 138,
    "start_time": "2022-07-20T09:25:04.204Z"
   },
   {
    "duration": 1029,
    "start_time": "2022-07-20T09:25:04.344Z"
   },
   {
    "duration": 321,
    "start_time": "2022-07-20T09:25:05.375Z"
   },
   {
    "duration": 93,
    "start_time": "2022-07-20T09:25:05.698Z"
   },
   {
    "duration": 104,
    "start_time": "2022-07-20T09:25:05.793Z"
   },
   {
    "duration": 2057,
    "start_time": "2022-07-20T09:25:05.899Z"
   },
   {
    "duration": 8,
    "start_time": "2022-07-20T09:25:07.958Z"
   },
   {
    "duration": 9,
    "start_time": "2022-07-20T09:25:07.968Z"
   },
   {
    "duration": 18,
    "start_time": "2022-07-20T09:25:07.978Z"
   },
   {
    "duration": 10872,
    "start_time": "2022-07-20T09:25:07.998Z"
   },
   {
    "duration": 10,
    "start_time": "2022-07-20T09:25:18.872Z"
   },
   {
    "duration": 70,
    "start_time": "2022-07-20T09:25:18.884Z"
   },
   {
    "duration": 4,
    "start_time": "2022-07-20T09:25:18.956Z"
   },
   {
    "duration": 5469,
    "start_time": "2022-07-20T09:25:18.961Z"
   },
   {
    "duration": 16,
    "start_time": "2022-07-20T09:25:24.431Z"
   },
   {
    "duration": 3,
    "start_time": "2022-07-20T09:25:24.449Z"
   },
   {
    "duration": 2077,
    "start_time": "2022-07-20T09:25:24.454Z"
   },
   {
    "duration": 31,
    "start_time": "2022-07-20T09:25:26.533Z"
   },
   {
    "duration": 13,
    "start_time": "2022-07-20T09:25:26.566Z"
   },
   {
    "duration": 53,
    "start_time": "2022-07-20T09:25:26.581Z"
   },
   {
    "duration": 35,
    "start_time": "2022-07-20T09:25:26.636Z"
   },
   {
    "duration": 1955,
    "start_time": "2022-07-20T09:25:26.674Z"
   },
   {
    "duration": 6781,
    "start_time": "2022-07-20T09:25:28.632Z"
   },
   {
    "duration": 3,
    "start_time": "2022-07-20T09:25:35.415Z"
   },
   {
    "duration": 16,
    "start_time": "2022-07-20T09:25:35.420Z"
   },
   {
    "duration": 229,
    "start_time": "2022-07-20T09:25:35.438Z"
   },
   {
    "duration": 4,
    "start_time": "2022-07-20T09:25:35.668Z"
   },
   {
    "duration": 7,
    "start_time": "2022-07-20T09:25:35.674Z"
   },
   {
    "duration": 4531,
    "start_time": "2022-07-20T09:25:35.683Z"
   },
   {
    "duration": 10,
    "start_time": "2022-07-20T09:25:40.215Z"
   },
   {
    "duration": 12,
    "start_time": "2022-07-20T09:25:40.226Z"
   },
   {
    "duration": 36632,
    "start_time": "2022-07-20T09:26:22.233Z"
   },
   {
    "duration": 65733,
    "start_time": "2022-07-20T09:26:58.867Z"
   },
   {
    "duration": 134,
    "start_time": "2022-07-20T09:28:04.602Z"
   },
   {
    "duration": 2,
    "start_time": "2022-07-20T09:28:04.738Z"
   },
   {
    "duration": 2322,
    "start_time": "2022-07-20T09:28:04.743Z"
   },
   {
    "duration": 32,
    "start_time": "2022-07-20T09:28:07.067Z"
   },
   {
    "duration": 166,
    "start_time": "2022-07-20T09:28:07.101Z"
   },
   {
    "duration": 1099,
    "start_time": "2022-07-20T09:28:07.269Z"
   },
   {
    "duration": 324,
    "start_time": "2022-07-20T09:28:08.371Z"
   },
   {
    "duration": 100,
    "start_time": "2022-07-20T09:28:08.697Z"
   },
   {
    "duration": 98,
    "start_time": "2022-07-20T09:28:08.799Z"
   },
   {
    "duration": 2025,
    "start_time": "2022-07-20T09:28:08.899Z"
   },
   {
    "duration": 8,
    "start_time": "2022-07-20T09:28:10.926Z"
   },
   {
    "duration": 6,
    "start_time": "2022-07-20T09:28:10.937Z"
   },
   {
    "duration": 24,
    "start_time": "2022-07-20T09:28:10.945Z"
   },
   {
    "duration": 10529,
    "start_time": "2022-07-20T09:28:10.971Z"
   },
   {
    "duration": 11,
    "start_time": "2022-07-20T09:28:21.502Z"
   },
   {
    "duration": 69,
    "start_time": "2022-07-20T09:28:21.515Z"
   },
   {
    "duration": 4,
    "start_time": "2022-07-20T09:28:21.586Z"
   },
   {
    "duration": 5880,
    "start_time": "2022-07-20T09:28:21.592Z"
   },
   {
    "duration": 19,
    "start_time": "2022-07-20T09:28:27.477Z"
   },
   {
    "duration": 5,
    "start_time": "2022-07-20T09:28:27.498Z"
   },
   {
    "duration": 2572,
    "start_time": "2022-07-20T09:28:27.525Z"
   },
   {
    "duration": 44,
    "start_time": "2022-07-20T09:28:30.099Z"
   },
   {
    "duration": 12,
    "start_time": "2022-07-20T09:28:30.145Z"
   },
   {
    "duration": 64,
    "start_time": "2022-07-20T09:28:30.158Z"
   },
   {
    "duration": 48,
    "start_time": "2022-07-20T09:28:30.225Z"
   },
   {
    "duration": 1981,
    "start_time": "2022-07-20T09:28:30.275Z"
   },
   {
    "duration": 6776,
    "start_time": "2022-07-20T09:28:32.257Z"
   },
   {
    "duration": 5,
    "start_time": "2022-07-20T09:28:39.035Z"
   },
   {
    "duration": 7,
    "start_time": "2022-07-20T09:28:39.042Z"
   },
   {
    "duration": 145,
    "start_time": "2022-07-20T09:28:39.050Z"
   },
   {
    "duration": 4,
    "start_time": "2022-07-20T09:28:39.196Z"
   },
   {
    "duration": 7,
    "start_time": "2022-07-20T09:28:39.201Z"
   },
   {
    "duration": 1783,
    "start_time": "2022-07-20T09:28:39.210Z"
   },
   {
    "duration": 4,
    "start_time": "2022-07-20T09:28:40.994Z"
   },
   {
    "duration": 9,
    "start_time": "2022-07-20T09:28:40.999Z"
   },
   {
    "duration": 81622,
    "start_time": "2022-07-20T09:28:41.010Z"
   },
   {
    "duration": 2607,
    "start_time": "2022-07-20T09:30:02.633Z"
   },
   {
    "duration": 80997,
    "start_time": "2022-07-20T09:37:00.135Z"
   },
   {
    "duration": 36018,
    "start_time": "2022-07-20T09:40:53.265Z"
   },
   {
    "duration": 61796,
    "start_time": "2022-07-20T09:41:29.287Z"
   },
   {
    "duration": 141,
    "start_time": "2022-07-20T09:42:31.085Z"
   },
   {
    "duration": 3,
    "start_time": "2022-07-20T09:42:31.228Z"
   },
   {
    "duration": 2337,
    "start_time": "2022-07-20T09:42:31.232Z"
   },
   {
    "duration": 32,
    "start_time": "2022-07-20T09:42:33.571Z"
   },
   {
    "duration": 133,
    "start_time": "2022-07-20T09:42:33.605Z"
   },
   {
    "duration": 1089,
    "start_time": "2022-07-20T09:42:33.739Z"
   },
   {
    "duration": 315,
    "start_time": "2022-07-20T09:42:34.830Z"
   },
   {
    "duration": 94,
    "start_time": "2022-07-20T09:42:35.147Z"
   },
   {
    "duration": 96,
    "start_time": "2022-07-20T09:42:35.243Z"
   },
   {
    "duration": 1916,
    "start_time": "2022-07-20T09:42:35.340Z"
   },
   {
    "duration": 9,
    "start_time": "2022-07-20T09:42:37.258Z"
   },
   {
    "duration": 7,
    "start_time": "2022-07-20T09:42:37.271Z"
   },
   {
    "duration": 49,
    "start_time": "2022-07-20T09:42:37.280Z"
   },
   {
    "duration": 10030,
    "start_time": "2022-07-20T09:42:37.331Z"
   },
   {
    "duration": 18,
    "start_time": "2022-07-20T09:42:47.363Z"
   },
   {
    "duration": 77,
    "start_time": "2022-07-20T09:42:47.383Z"
   },
   {
    "duration": 4,
    "start_time": "2022-07-20T09:42:47.463Z"
   },
   {
    "duration": 5321,
    "start_time": "2022-07-20T09:42:47.469Z"
   },
   {
    "duration": 20,
    "start_time": "2022-07-20T09:42:52.792Z"
   },
   {
    "duration": 4,
    "start_time": "2022-07-20T09:42:52.824Z"
   },
   {
    "duration": 2287,
    "start_time": "2022-07-20T09:42:52.829Z"
   },
   {
    "duration": 36,
    "start_time": "2022-07-20T09:42:55.118Z"
   },
   {
    "duration": 11,
    "start_time": "2022-07-20T09:42:55.156Z"
   },
   {
    "duration": 41,
    "start_time": "2022-07-20T09:42:55.168Z"
   },
   {
    "duration": 42,
    "start_time": "2022-07-20T09:42:55.211Z"
   },
   {
    "duration": 1992,
    "start_time": "2022-07-20T09:42:55.254Z"
   },
   {
    "duration": 6670,
    "start_time": "2022-07-20T09:42:57.248Z"
   },
   {
    "duration": 4,
    "start_time": "2022-07-20T09:43:03.920Z"
   },
   {
    "duration": 8,
    "start_time": "2022-07-20T09:43:03.926Z"
   },
   {
    "duration": 217,
    "start_time": "2022-07-20T09:43:03.935Z"
   },
   {
    "duration": 4,
    "start_time": "2022-07-20T09:43:04.153Z"
   },
   {
    "duration": 7,
    "start_time": "2022-07-20T09:43:04.158Z"
   },
   {
    "duration": 3393,
    "start_time": "2022-07-20T09:43:04.167Z"
   },
   {
    "duration": 2,
    "start_time": "2022-07-20T09:43:07.562Z"
   },
   {
    "duration": 9,
    "start_time": "2022-07-20T09:43:07.566Z"
   },
   {
    "duration": 88151,
    "start_time": "2022-07-20T09:43:07.577Z"
   },
   {
    "duration": 1412,
    "start_time": "2022-07-20T09:44:35.730Z"
   },
   {
    "duration": 51061,
    "start_time": "2022-07-20T10:35:30.776Z"
   },
   {
    "duration": 79524,
    "start_time": "2022-07-20T10:36:21.840Z"
   },
   {
    "duration": 210,
    "start_time": "2022-07-20T10:37:41.366Z"
   },
   {
    "duration": 3,
    "start_time": "2022-07-20T10:37:41.578Z"
   },
   {
    "duration": 2419,
    "start_time": "2022-07-20T10:37:41.583Z"
   },
   {
    "duration": 32,
    "start_time": "2022-07-20T10:37:44.004Z"
   },
   {
    "duration": 152,
    "start_time": "2022-07-20T10:37:44.038Z"
   },
   {
    "duration": 1132,
    "start_time": "2022-07-20T10:37:44.192Z"
   },
   {
    "duration": 324,
    "start_time": "2022-07-20T10:37:45.325Z"
   },
   {
    "duration": 102,
    "start_time": "2022-07-20T10:37:45.651Z"
   },
   {
    "duration": 94,
    "start_time": "2022-07-20T10:37:45.754Z"
   },
   {
    "duration": 2079,
    "start_time": "2022-07-20T10:37:45.849Z"
   },
   {
    "duration": 9,
    "start_time": "2022-07-20T10:37:47.930Z"
   },
   {
    "duration": 11,
    "start_time": "2022-07-20T10:37:47.944Z"
   },
   {
    "duration": 18,
    "start_time": "2022-07-20T10:37:47.957Z"
   },
   {
    "duration": 10881,
    "start_time": "2022-07-20T10:37:47.977Z"
   },
   {
    "duration": 10,
    "start_time": "2022-07-20T10:37:58.860Z"
   },
   {
    "duration": 79,
    "start_time": "2022-07-20T10:37:58.871Z"
   },
   {
    "duration": 4,
    "start_time": "2022-07-20T10:37:58.952Z"
   },
   {
    "duration": 5652,
    "start_time": "2022-07-20T10:37:58.957Z"
   },
   {
    "duration": 44,
    "start_time": "2022-07-20T10:38:04.612Z"
   },
   {
    "duration": 4,
    "start_time": "2022-07-20T10:38:04.658Z"
   },
   {
    "duration": 2311,
    "start_time": "2022-07-20T10:38:04.663Z"
   },
   {
    "duration": 31,
    "start_time": "2022-07-20T10:38:06.976Z"
   },
   {
    "duration": 29,
    "start_time": "2022-07-20T10:38:07.009Z"
   },
   {
    "duration": 40,
    "start_time": "2022-07-20T10:38:07.041Z"
   },
   {
    "duration": 64,
    "start_time": "2022-07-20T10:38:07.082Z"
   },
   {
    "duration": 2196,
    "start_time": "2022-07-20T10:38:07.149Z"
   },
   {
    "duration": 6847,
    "start_time": "2022-07-20T10:38:09.348Z"
   },
   {
    "duration": 3,
    "start_time": "2022-07-20T10:38:16.197Z"
   },
   {
    "duration": 10,
    "start_time": "2022-07-20T10:38:16.202Z"
   },
   {
    "duration": 227,
    "start_time": "2022-07-20T10:38:16.224Z"
   },
   {
    "duration": 3,
    "start_time": "2022-07-20T10:38:16.453Z"
   },
   {
    "duration": 7,
    "start_time": "2022-07-20T10:38:16.458Z"
   },
   {
    "duration": 5477,
    "start_time": "2022-07-20T10:38:16.467Z"
   },
   {
    "duration": 3,
    "start_time": "2022-07-20T10:38:21.946Z"
   },
   {
    "duration": 9,
    "start_time": "2022-07-20T10:38:21.951Z"
   },
   {
    "duration": 44264,
    "start_time": "2022-07-20T12:35:06.489Z"
   },
   {
    "duration": 69896,
    "start_time": "2022-07-20T12:35:50.755Z"
   },
   {
    "duration": 186,
    "start_time": "2022-07-20T12:37:00.653Z"
   },
   {
    "duration": 3,
    "start_time": "2022-07-20T12:37:00.840Z"
   },
   {
    "duration": 2376,
    "start_time": "2022-07-20T12:37:00.845Z"
   },
   {
    "duration": 31,
    "start_time": "2022-07-20T12:37:03.222Z"
   },
   {
    "duration": 134,
    "start_time": "2022-07-20T12:37:03.254Z"
   },
   {
    "duration": 1077,
    "start_time": "2022-07-20T12:37:03.389Z"
   },
   {
    "duration": 344,
    "start_time": "2022-07-20T12:37:04.468Z"
   },
   {
    "duration": 90,
    "start_time": "2022-07-20T12:37:04.814Z"
   },
   {
    "duration": 95,
    "start_time": "2022-07-20T12:37:04.905Z"
   },
   {
    "duration": 1906,
    "start_time": "2022-07-20T12:37:05.001Z"
   },
   {
    "duration": 15,
    "start_time": "2022-07-20T12:37:06.909Z"
   },
   {
    "duration": 6,
    "start_time": "2022-07-20T12:37:06.926Z"
   },
   {
    "duration": 17,
    "start_time": "2022-07-20T12:37:06.934Z"
   },
   {
    "duration": 9928,
    "start_time": "2022-07-20T12:37:06.953Z"
   },
   {
    "duration": 11,
    "start_time": "2022-07-20T12:37:16.883Z"
   },
   {
    "duration": 69,
    "start_time": "2022-07-20T12:37:16.896Z"
   },
   {
    "duration": 5,
    "start_time": "2022-07-20T12:37:16.967Z"
   },
   {
    "duration": 5290,
    "start_time": "2022-07-20T12:37:16.973Z"
   },
   {
    "duration": 44,
    "start_time": "2022-07-20T12:37:22.265Z"
   },
   {
    "duration": 4,
    "start_time": "2022-07-20T12:37:22.311Z"
   },
   {
    "duration": 2120,
    "start_time": "2022-07-20T12:37:22.317Z"
   },
   {
    "duration": 33,
    "start_time": "2022-07-20T12:37:24.438Z"
   },
   {
    "duration": 12,
    "start_time": "2022-07-20T12:37:24.472Z"
   },
   {
    "duration": 56,
    "start_time": "2022-07-20T12:37:24.485Z"
   },
   {
    "duration": 39,
    "start_time": "2022-07-20T12:37:24.542Z"
   },
   {
    "duration": 2119,
    "start_time": "2022-07-20T12:37:24.583Z"
   },
   {
    "duration": 6964,
    "start_time": "2022-07-20T12:37:26.704Z"
   },
   {
    "duration": 4,
    "start_time": "2022-07-20T12:37:33.670Z"
   },
   {
    "duration": 30,
    "start_time": "2022-07-20T12:37:33.675Z"
   },
   {
    "duration": 473,
    "start_time": "2022-07-20T12:37:33.707Z"
   },
   {
    "duration": 3,
    "start_time": "2022-07-20T12:37:34.181Z"
   },
   {
    "duration": 30,
    "start_time": "2022-07-20T12:37:34.186Z"
   },
   {
    "duration": 172411,
    "start_time": "2022-07-20T12:37:34.217Z"
   },
   {
    "duration": 40269,
    "start_time": "2022-07-20T12:41:13.414Z"
   },
   {
    "duration": 65487,
    "start_time": "2022-07-20T12:41:53.686Z"
   },
   {
    "duration": 236,
    "start_time": "2022-07-20T12:42:59.174Z"
   },
   {
    "duration": 3,
    "start_time": "2022-07-20T12:42:59.411Z"
   },
   {
    "duration": 2383,
    "start_time": "2022-07-20T12:42:59.416Z"
   },
   {
    "duration": 34,
    "start_time": "2022-07-20T12:43:01.801Z"
   },
   {
    "duration": 172,
    "start_time": "2022-07-20T12:43:01.837Z"
   },
   {
    "duration": 1159,
    "start_time": "2022-07-20T12:43:02.011Z"
   },
   {
    "duration": 375,
    "start_time": "2022-07-20T12:43:03.172Z"
   },
   {
    "duration": 103,
    "start_time": "2022-07-20T12:43:03.548Z"
   },
   {
    "duration": 104,
    "start_time": "2022-07-20T12:43:03.653Z"
   },
   {
    "duration": 2169,
    "start_time": "2022-07-20T12:43:03.759Z"
   },
   {
    "duration": 7,
    "start_time": "2022-07-20T12:43:05.930Z"
   },
   {
    "duration": 32,
    "start_time": "2022-07-20T12:43:05.940Z"
   },
   {
    "duration": 30,
    "start_time": "2022-07-20T12:43:05.974Z"
   },
   {
    "duration": 10162,
    "start_time": "2022-07-20T12:43:06.006Z"
   },
   {
    "duration": 10,
    "start_time": "2022-07-20T12:43:16.170Z"
   },
   {
    "duration": 65,
    "start_time": "2022-07-20T12:43:16.182Z"
   },
   {
    "duration": 3,
    "start_time": "2022-07-20T12:43:16.249Z"
   },
   {
    "duration": 5399,
    "start_time": "2022-07-20T12:43:16.254Z"
   },
   {
    "duration": 44,
    "start_time": "2022-07-20T12:43:21.655Z"
   },
   {
    "duration": 4,
    "start_time": "2022-07-20T12:43:21.701Z"
   },
   {
    "duration": 2944,
    "start_time": "2022-07-20T12:43:21.706Z"
   },
   {
    "duration": 38,
    "start_time": "2022-07-20T12:43:24.652Z"
   },
   {
    "duration": 13,
    "start_time": "2022-07-20T12:43:24.692Z"
   },
   {
    "duration": 34,
    "start_time": "2022-07-20T12:43:24.723Z"
   },
   {
    "duration": 39,
    "start_time": "2022-07-20T12:43:24.758Z"
   },
   {
    "duration": 2086,
    "start_time": "2022-07-20T12:43:24.798Z"
   },
   {
    "duration": 7233,
    "start_time": "2022-07-20T12:43:26.885Z"
   },
   {
    "duration": 4,
    "start_time": "2022-07-20T12:43:34.121Z"
   },
   {
    "duration": 15,
    "start_time": "2022-07-20T12:43:34.126Z"
   },
   {
    "duration": 442,
    "start_time": "2022-07-20T12:43:34.143Z"
   },
   {
    "duration": 3,
    "start_time": "2022-07-20T12:43:34.587Z"
   },
   {
    "duration": 13,
    "start_time": "2022-07-20T12:43:34.592Z"
   },
   {
    "duration": 168733,
    "start_time": "2022-07-20T12:43:34.607Z"
   },
   {
    "duration": 74646,
    "start_time": "2022-07-20T12:46:45.938Z"
   },
   {
    "duration": 223,
    "start_time": "2022-07-20T12:48:00.586Z"
   },
   {
    "duration": 3,
    "start_time": "2022-07-20T12:48:00.810Z"
   },
   {
    "duration": 2871,
    "start_time": "2022-07-20T12:48:00.815Z"
   },
   {
    "duration": 923,
    "start_time": "2022-07-20T12:48:59.586Z"
   },
   {
    "duration": 911,
    "start_time": "2022-07-20T12:49:08.016Z"
   },
   {
    "duration": 885,
    "start_time": "2022-07-20T12:49:13.365Z"
   },
   {
    "duration": 1734,
    "start_time": "2022-07-20T12:49:24.516Z"
   },
   {
    "duration": 8,
    "start_time": "2022-07-20T12:49:58.785Z"
   },
   {
    "duration": 20,
    "start_time": "2022-07-20T12:50:31.902Z"
   },
   {
    "duration": 25,
    "start_time": "2022-07-20T12:50:37.006Z"
   },
   {
    "duration": 12,
    "start_time": "2022-07-20T12:50:39.250Z"
   },
   {
    "duration": 6,
    "start_time": "2022-07-20T12:50:50.201Z"
   },
   {
    "duration": 925,
    "start_time": "2022-07-20T12:51:04.562Z"
   },
   {
    "duration": 57,
    "start_time": "2022-07-20T12:51:16.652Z"
   },
   {
    "duration": 57,
    "start_time": "2022-07-20T12:51:42.603Z"
   },
   {
    "duration": 22,
    "start_time": "2022-07-20T12:51:47.680Z"
   },
   {
    "duration": 447,
    "start_time": "2022-07-20T12:52:06.768Z"
   },
   {
    "duration": 8,
    "start_time": "2022-07-20T12:52:11.855Z"
   },
   {
    "duration": 4,
    "start_time": "2022-07-20T12:52:37.974Z"
   },
   {
    "duration": 21,
    "start_time": "2022-07-20T12:53:01.839Z"
   },
   {
    "duration": 23,
    "start_time": "2022-07-20T12:54:02.379Z"
   },
   {
    "duration": 44437,
    "start_time": "2022-07-20T12:56:29.311Z"
   },
   {
    "duration": 534091,
    "start_time": "2022-07-20T12:57:16.388Z"
   },
   {
    "duration": 4603,
    "start_time": "2022-07-20T13:06:10.481Z"
   },
   {
    "duration": 18,
    "start_time": "2022-07-20T13:06:41.908Z"
   },
   {
    "duration": 72,
    "start_time": "2022-07-20T13:06:43.020Z"
   },
   {
    "duration": 3,
    "start_time": "2022-07-20T13:07:01.014Z"
   },
   {
    "duration": 68,
    "start_time": "2022-07-20T13:07:01.976Z"
   },
   {
    "duration": 5,
    "start_time": "2022-07-20T13:12:23.701Z"
   },
   {
    "duration": 819,
    "start_time": "2022-07-20T13:12:28.294Z"
   },
   {
    "duration": 4,
    "start_time": "2022-07-20T13:12:50.099Z"
   },
   {
    "duration": 616,
    "start_time": "2022-07-20T13:12:51.794Z"
   },
   {
    "duration": 3,
    "start_time": "2022-07-20T13:13:09.519Z"
   },
   {
    "duration": 36048,
    "start_time": "2022-07-20T13:25:06.976Z"
   },
   {
    "duration": 12,
    "start_time": "2022-07-20T13:26:02.856Z"
   },
   {
    "duration": 38547,
    "start_time": "2022-07-20T13:26:06.559Z"
   },
   {
    "duration": 62791,
    "start_time": "2022-07-20T13:26:45.109Z"
   },
   {
    "duration": 185,
    "start_time": "2022-07-20T13:27:47.902Z"
   },
   {
    "duration": 3,
    "start_time": "2022-07-20T13:27:48.089Z"
   },
   {
    "duration": 811,
    "start_time": "2022-07-20T13:32:11.205Z"
   },
   {
    "duration": 7,
    "start_time": "2022-07-20T13:32:12.018Z"
   },
   {
    "duration": 31964,
    "start_time": "2022-07-20T13:32:12.361Z"
   },
   {
    "duration": 150,
    "start_time": "2022-07-20T13:32:44.328Z"
   },
   {
    "duration": 503457,
    "start_time": "2022-07-20T13:32:44.969Z"
   },
   {
    "duration": 4378,
    "start_time": "2022-07-20T13:41:08.428Z"
   },
   {
    "duration": 3,
    "start_time": "2022-07-20T13:41:56.918Z"
   },
   {
    "duration": 261384,
    "start_time": "2022-07-20T13:41:57.415Z"
   },
   {
    "duration": 80,
    "start_time": "2022-07-20T13:46:18.802Z"
   },
   {
    "duration": 2372,
    "start_time": "2022-07-20T13:46:18.884Z"
   },
   {
    "duration": 2263,
    "start_time": "2022-07-20T13:46:21.616Z"
   },
   {
    "duration": 2091,
    "start_time": "2022-07-20T13:46:28.758Z"
   },
   {
    "duration": 19,
    "start_time": "2022-07-20T13:46:51.748Z"
   },
   {
    "duration": 1883,
    "start_time": "2022-07-20T13:47:26.876Z"
   },
   {
    "duration": 2026,
    "start_time": "2022-07-20T13:47:35.559Z"
   },
   {
    "duration": 2179,
    "start_time": "2022-07-20T13:47:39.363Z"
   },
   {
    "duration": 2011,
    "start_time": "2022-07-20T13:47:46.178Z"
   },
   {
    "duration": 2070,
    "start_time": "2022-07-20T13:48:05.617Z"
   },
   {
    "duration": 2074,
    "start_time": "2022-07-20T13:49:25.351Z"
   },
   {
    "duration": 2056,
    "start_time": "2022-07-20T13:49:47.787Z"
   },
   {
    "duration": 9,
    "start_time": "2022-07-20T13:49:51.310Z"
   },
   {
    "duration": 506649,
    "start_time": "2022-07-20T13:49:52.149Z"
   },
   {
    "duration": 4361,
    "start_time": "2022-07-20T13:58:18.800Z"
   },
   {
    "duration": 2305,
    "start_time": "2022-07-20T13:58:23.163Z"
   },
   {
    "duration": 3,
    "start_time": "2022-07-20T14:02:26.924Z"
   },
   {
    "duration": 3310,
    "start_time": "2022-07-20T14:02:27.353Z"
   },
   {
    "duration": 2354,
    "start_time": "2022-07-20T14:02:39.785Z"
   },
   {
    "duration": 3,
    "start_time": "2022-07-20T14:02:42.141Z"
   },
   {
    "duration": 1727,
    "start_time": "2022-07-20T14:02:42.146Z"
   },
   {
    "duration": 75,
    "start_time": "2022-07-20T14:02:43.876Z"
   },
   {
    "duration": 2795,
    "start_time": "2022-07-20T14:02:58.697Z"
   },
   {
    "duration": 4,
    "start_time": "2022-07-20T14:03:04.505Z"
   },
   {
    "duration": 1866,
    "start_time": "2022-07-20T14:03:05.151Z"
   },
   {
    "duration": 15,
    "start_time": "2022-07-20T14:06:00.958Z"
   },
   {
    "duration": 10,
    "start_time": "2022-07-20T14:06:08.899Z"
   },
   {
    "duration": 20,
    "start_time": "2022-07-20T14:06:16.751Z"
   },
   {
    "duration": 192,
    "start_time": "2022-07-20T14:06:31.353Z"
   },
   {
    "duration": 137,
    "start_time": "2022-07-20T14:06:35.920Z"
   },
   {
    "duration": 35,
    "start_time": "2022-07-20T14:06:42.261Z"
   },
   {
    "duration": 3115,
    "start_time": "2022-07-20T14:07:19.489Z"
   },
   {
    "duration": 3,
    "start_time": "2022-07-20T14:07:24.508Z"
   },
   {
    "duration": 1342,
    "start_time": "2022-07-20T14:07:25.050Z"
   },
   {
    "duration": 43166,
    "start_time": "2022-07-20T14:07:45.413Z"
   },
   {
    "duration": 66677,
    "start_time": "2022-07-20T14:08:28.581Z"
   },
   {
    "duration": 198,
    "start_time": "2022-07-20T14:09:35.260Z"
   },
   {
    "duration": 4433,
    "start_time": "2022-07-20T14:09:35.460Z"
   },
   {
    "duration": 3,
    "start_time": "2022-07-20T14:09:39.895Z"
   },
   {
    "duration": 1662,
    "start_time": "2022-07-20T14:09:39.900Z"
   },
   {
    "duration": 77,
    "start_time": "2022-07-20T14:09:41.564Z"
   },
   {
    "duration": 2450,
    "start_time": "2022-07-20T14:16:17.609Z"
   },
   {
    "duration": 3,
    "start_time": "2022-07-20T14:16:20.448Z"
   },
   {
    "duration": 2431,
    "start_time": "2022-07-20T14:16:21.294Z"
   },
   {
    "duration": 2177,
    "start_time": "2022-07-20T14:16:33.679Z"
   },
   {
    "duration": 4,
    "start_time": "2022-07-20T14:16:35.858Z"
   },
   {
    "duration": 1527,
    "start_time": "2022-07-20T14:16:35.863Z"
   },
   {
    "duration": 1968,
    "start_time": "2022-07-20T14:17:07.679Z"
   },
   {
    "duration": 3713,
    "start_time": "2022-07-20T14:17:18.254Z"
   },
   {
    "duration": 3,
    "start_time": "2022-07-20T14:17:21.969Z"
   },
   {
    "duration": 1471,
    "start_time": "2022-07-20T14:17:21.974Z"
   },
   {
    "duration": 66,
    "start_time": "2022-07-20T14:17:23.448Z"
   },
   {
    "duration": 2005,
    "start_time": "2022-07-20T14:17:41.919Z"
   },
   {
    "duration": 2,
    "start_time": "2022-07-20T14:17:43.926Z"
   },
   {
    "duration": 498476,
    "start_time": "2022-07-20T14:17:44.198Z"
   },
   {
    "duration": 2387,
    "start_time": "2022-07-20T14:26:02.676Z"
   },
   {
    "duration": 2329,
    "start_time": "2022-07-20T14:28:47.308Z"
   },
   {
    "duration": 3,
    "start_time": "2022-07-20T14:28:49.639Z"
   },
   {
    "duration": 700,
    "start_time": "2022-07-20T14:28:49.643Z"
   },
   {
    "duration": 104,
    "start_time": "2022-07-20T14:28:50.459Z"
   },
   {
    "duration": 6376,
    "start_time": "2022-07-20T14:29:01.265Z"
   },
   {
    "duration": 4,
    "start_time": "2022-07-20T14:29:07.643Z"
   },
   {
    "duration": 651,
    "start_time": "2022-07-20T14:29:07.648Z"
   },
   {
    "duration": 71,
    "start_time": "2022-07-20T14:29:08.301Z"
   },
   {
    "duration": 3,
    "start_time": "2022-07-20T14:31:06.157Z"
   },
   {
    "duration": 122,
    "start_time": "2022-07-20T14:31:07.576Z"
   },
   {
    "duration": 3,
    "start_time": "2022-07-20T14:31:23.709Z"
   },
   {
    "duration": 499565,
    "start_time": "2022-07-20T14:31:24.240Z"
   },
   {
    "duration": 2477,
    "start_time": "2022-07-20T14:39:43.807Z"
   },
   {
    "duration": 4,
    "start_time": "2022-07-20T14:39:59.601Z"
   },
   {
    "duration": 1410,
    "start_time": "2022-07-20T14:40:01.538Z"
   },
   {
    "duration": 5,
    "start_time": "2022-07-20T14:41:02.251Z"
   },
   {
    "duration": 263344,
    "start_time": "2022-07-20T14:41:02.751Z"
   },
   {
    "duration": 2383,
    "start_time": "2022-07-20T14:45:26.097Z"
   },
   {
    "duration": 4,
    "start_time": "2022-07-20T14:45:48.053Z"
   },
   {
    "duration": 262765,
    "start_time": "2022-07-20T14:45:48.412Z"
   },
   {
    "duration": 2385,
    "start_time": "2022-07-20T14:50:11.178Z"
   },
   {
    "duration": 53418,
    "start_time": "2022-07-20T14:50:37.786Z"
   },
   {
    "duration": 72787,
    "start_time": "2022-07-20T14:51:31.206Z"
   },
   {
    "duration": 113,
    "start_time": "2022-07-20T14:52:43.994Z"
   },
   {
    "duration": 2,
    "start_time": "2022-07-20T14:52:44.109Z"
   },
   {
    "duration": 853,
    "start_time": "2022-07-20T14:52:44.113Z"
   },
   {
    "duration": 34,
    "start_time": "2022-07-20T14:52:44.967Z"
   },
   {
    "duration": 147,
    "start_time": "2022-07-20T14:52:45.003Z"
   },
   {
    "duration": 1000,
    "start_time": "2022-07-20T14:52:45.151Z"
   },
   {
    "duration": 322,
    "start_time": "2022-07-20T14:52:46.152Z"
   },
   {
    "duration": 91,
    "start_time": "2022-07-20T14:52:46.476Z"
   },
   {
    "duration": 92,
    "start_time": "2022-07-20T14:52:46.569Z"
   },
   {
    "duration": 1929,
    "start_time": "2022-07-20T14:52:46.663Z"
   },
   {
    "duration": 7,
    "start_time": "2022-07-20T14:52:48.593Z"
   },
   {
    "duration": 23,
    "start_time": "2022-07-20T14:52:48.602Z"
   },
   {
    "duration": 17,
    "start_time": "2022-07-20T14:52:48.626Z"
   },
   {
    "duration": 9945,
    "start_time": "2022-07-20T14:52:48.645Z"
   },
   {
    "duration": 9,
    "start_time": "2022-07-20T14:52:58.593Z"
   },
   {
    "duration": 69,
    "start_time": "2022-07-20T14:52:58.603Z"
   },
   {
    "duration": 3,
    "start_time": "2022-07-20T14:52:58.674Z"
   },
   {
    "duration": 5494,
    "start_time": "2022-07-20T14:52:58.679Z"
   },
   {
    "duration": 50,
    "start_time": "2022-07-20T14:53:04.175Z"
   },
   {
    "duration": 3,
    "start_time": "2022-07-20T14:53:04.227Z"
   },
   {
    "duration": 2892,
    "start_time": "2022-07-20T14:53:04.232Z"
   },
   {
    "duration": 36,
    "start_time": "2022-07-20T14:53:07.126Z"
   },
   {
    "duration": 13,
    "start_time": "2022-07-20T14:53:07.164Z"
   },
   {
    "duration": 59,
    "start_time": "2022-07-20T14:53:07.178Z"
   },
   {
    "duration": 35,
    "start_time": "2022-07-20T14:53:07.240Z"
   },
   {
    "duration": 2207,
    "start_time": "2022-07-20T14:53:07.279Z"
   },
   {
    "duration": 6903,
    "start_time": "2022-07-20T14:53:09.488Z"
   },
   {
    "duration": 3,
    "start_time": "2022-07-20T14:53:16.393Z"
   },
   {
    "duration": 7,
    "start_time": "2022-07-20T14:53:16.398Z"
   },
   {
    "duration": 315,
    "start_time": "2022-07-20T14:53:16.407Z"
   },
   {
    "duration": 3,
    "start_time": "2022-07-20T14:53:16.724Z"
   },
   {
    "duration": 11,
    "start_time": "2022-07-20T14:53:16.728Z"
   },
   {
    "duration": 179185,
    "start_time": "2022-07-20T14:53:16.740Z"
   },
   {
    "duration": 17980,
    "start_time": "2022-07-20T20:39:50.263Z"
   },
   {
    "duration": 0,
    "start_time": "2022-07-20T20:40:08.245Z"
   },
   {
    "duration": 0,
    "start_time": "2022-07-20T20:40:08.247Z"
   },
   {
    "duration": 75940,
    "start_time": "2022-07-20T20:40:14.765Z"
   },
   {
    "duration": 73718,
    "start_time": "2022-07-20T20:41:30.707Z"
   },
   {
    "duration": 459,
    "start_time": "2022-07-20T20:42:44.427Z"
   },
   {
    "duration": 3,
    "start_time": "2022-07-20T20:42:44.888Z"
   },
   {
    "duration": 2403,
    "start_time": "2022-07-20T20:42:58.295Z"
   },
   {
    "duration": 3,
    "start_time": "2022-07-20T20:43:00.975Z"
   },
   {
    "duration": 523997,
    "start_time": "2022-07-20T20:43:01.608Z"
   },
   {
    "duration": 2742,
    "start_time": "2022-07-20T20:51:45.607Z"
   },
   {
    "duration": 66,
    "start_time": "2022-07-25T08:27:10.223Z"
   },
   {
    "duration": 61240,
    "start_time": "2022-07-25T08:40:16.966Z"
   },
   {
    "duration": 72274,
    "start_time": "2022-07-25T08:41:18.210Z"
   },
   {
    "duration": 415,
    "start_time": "2022-07-25T08:42:30.486Z"
   },
   {
    "duration": 5,
    "start_time": "2022-07-25T08:42:30.904Z"
   },
   {
    "duration": 34,
    "start_time": "2022-07-25T08:42:30.912Z"
   },
   {
    "duration": 2912,
    "start_time": "2022-07-25T08:42:30.949Z"
   },
   {
    "duration": 5,
    "start_time": "2022-07-25T08:43:33.205Z"
   },
   {
    "duration": 2661,
    "start_time": "2022-07-25T08:53:41.442Z"
   },
   {
    "duration": 8,
    "start_time": "2022-07-25T08:58:44.359Z"
   },
   {
    "duration": 5,
    "start_time": "2022-07-25T08:58:50.396Z"
   },
   {
    "duration": 5,
    "start_time": "2022-07-25T08:59:23.936Z"
   },
   {
    "duration": 311,
    "start_time": "2022-07-25T08:59:36.445Z"
   },
   {
    "duration": 4,
    "start_time": "2022-07-25T09:01:01.158Z"
   },
   {
    "duration": 67,
    "start_time": "2022-07-25T09:03:07.010Z"
   },
   {
    "duration": 77,
    "start_time": "2022-07-25T09:03:24.630Z"
   },
   {
    "duration": 74,
    "start_time": "2022-07-25T09:03:29.279Z"
   },
   {
    "duration": 109,
    "start_time": "2022-07-25T09:03:36.370Z"
   },
   {
    "duration": 2482,
    "start_time": "2022-07-25T09:04:11.158Z"
   },
   {
    "duration": 4,
    "start_time": "2022-07-25T09:04:13.643Z"
   },
   {
    "duration": 60,
    "start_time": "2022-07-25T09:04:26.507Z"
   },
   {
    "duration": 20,
    "start_time": "2022-07-25T09:06:37.822Z"
   },
   {
    "duration": 3,
    "start_time": "2022-07-25T09:07:06.224Z"
   },
   {
    "duration": 2271,
    "start_time": "2022-07-25T09:07:08.406Z"
   },
   {
    "duration": 5,
    "start_time": "2022-07-25T09:07:10.679Z"
   },
   {
    "duration": 37,
    "start_time": "2022-07-25T09:07:16.480Z"
   },
   {
    "duration": 28,
    "start_time": "2022-07-25T09:08:07.370Z"
   },
   {
    "duration": 4,
    "start_time": "2022-07-25T09:09:04.908Z"
   },
   {
    "duration": 49,
    "start_time": "2022-07-25T09:09:06.185Z"
   },
   {
    "duration": 7,
    "start_time": "2022-07-25T09:09:11.173Z"
   },
   {
    "duration": 109,
    "start_time": "2022-07-25T09:09:12.270Z"
   },
   {
    "duration": 23,
    "start_time": "2022-07-25T09:09:25.414Z"
   },
   {
    "duration": 16,
    "start_time": "2022-07-25T09:10:07.749Z"
   },
   {
    "duration": 2396,
    "start_time": "2022-07-25T09:10:26.910Z"
   },
   {
    "duration": 23,
    "start_time": "2022-07-25T09:10:30.064Z"
   },
   {
    "duration": 3467,
    "start_time": "2022-07-25T09:12:22.138Z"
   },
   {
    "duration": 12,
    "start_time": "2022-07-25T09:12:25.607Z"
   },
   {
    "duration": 3,
    "start_time": "2022-07-25T09:12:41.375Z"
   },
   {
    "duration": 49913,
    "start_time": "2022-07-25T09:12:42.612Z"
   },
   {
    "duration": 22,
    "start_time": "2022-07-25T09:17:44.759Z"
   },
   {
    "duration": 25,
    "start_time": "2022-07-25T09:17:50.802Z"
   },
   {
    "duration": 3,
    "start_time": "2022-07-25T09:17:59.219Z"
   },
   {
    "duration": 4,
    "start_time": "2022-07-25T09:18:02.616Z"
   },
   {
    "duration": 2,
    "start_time": "2022-07-25T09:18:03.413Z"
   },
   {
    "duration": 79,
    "start_time": "2022-07-25T09:22:38.694Z"
   },
   {
    "duration": 51,
    "start_time": "2022-07-25T09:23:13.738Z"
   },
   {
    "duration": 6,
    "start_time": "2022-07-25T09:24:39.828Z"
   },
   {
    "duration": 4,
    "start_time": "2022-07-25T09:24:41.454Z"
   },
   {
    "duration": 2,
    "start_time": "2022-07-25T09:24:41.834Z"
   },
   {
    "duration": 45,
    "start_time": "2022-07-25T09:24:42.328Z"
   },
   {
    "duration": 5,
    "start_time": "2022-07-25T09:25:22.099Z"
   },
   {
    "duration": 5,
    "start_time": "2022-07-25T09:26:17.584Z"
   },
   {
    "duration": 3,
    "start_time": "2022-07-25T09:26:18.685Z"
   },
   {
    "duration": 3,
    "start_time": "2022-07-25T09:26:19.120Z"
   },
   {
    "duration": 5,
    "start_time": "2022-07-25T09:26:19.593Z"
   },
   {
    "duration": 56,
    "start_time": "2022-07-25T09:26:20.233Z"
   },
   {
    "duration": 68,
    "start_time": "2022-07-25T09:26:25.880Z"
   },
   {
    "duration": 7,
    "start_time": "2022-07-25T09:26:52.708Z"
   },
   {
    "duration": 3,
    "start_time": "2022-07-25T09:26:53.529Z"
   },
   {
    "duration": 4,
    "start_time": "2022-07-25T09:26:53.858Z"
   },
   {
    "duration": 5,
    "start_time": "2022-07-25T09:26:54.216Z"
   },
   {
    "duration": 1282502,
    "start_time": "2022-07-25T09:26:54.739Z"
   },
   {
    "duration": 0,
    "start_time": "2022-07-25T09:48:17.243Z"
   },
   {
    "duration": 8,
    "start_time": "2022-07-25T09:49:12.089Z"
   },
   {
    "duration": 6,
    "start_time": "2022-07-25T09:49:36.182Z"
   },
   {
    "duration": 6,
    "start_time": "2022-07-25T09:50:28.811Z"
   },
   {
    "duration": 6,
    "start_time": "2022-07-25T09:50:30.077Z"
   },
   {
    "duration": 3,
    "start_time": "2022-07-25T09:50:31.079Z"
   },
   {
    "duration": 3,
    "start_time": "2022-07-25T09:50:31.576Z"
   },
   {
    "duration": 305426,
    "start_time": "2022-07-25T09:50:32.160Z"
   },
   {
    "duration": 48494,
    "start_time": "2022-07-25T09:56:51.170Z"
   },
   {
    "duration": 53,
    "start_time": "2022-07-25T09:57:39.667Z"
   },
   {
    "duration": 0,
    "start_time": "2022-07-25T09:57:39.722Z"
   },
   {
    "duration": 0,
    "start_time": "2022-07-25T09:57:39.724Z"
   },
   {
    "duration": 0,
    "start_time": "2022-07-25T09:57:39.726Z"
   },
   {
    "duration": 0,
    "start_time": "2022-07-25T09:57:39.728Z"
   },
   {
    "duration": 5,
    "start_time": "2022-07-25T09:59:15.461Z"
   },
   {
    "duration": 5,
    "start_time": "2022-07-25T09:59:17.046Z"
   },
   {
    "duration": 3,
    "start_time": "2022-07-25T09:59:18.546Z"
   },
   {
    "duration": 15,
    "start_time": "2022-07-25T09:59:19.301Z"
   },
   {
    "duration": 168107,
    "start_time": "2022-07-25T09:59:20.034Z"
   },
   {
    "duration": 5,
    "start_time": "2022-07-25T10:07:03.891Z"
   },
   {
    "duration": 2512,
    "start_time": "2022-07-25T10:08:46.829Z"
   },
   {
    "duration": 3,
    "start_time": "2022-07-25T10:09:03.552Z"
   },
   {
    "duration": 6,
    "start_time": "2022-07-25T10:09:17.356Z"
   },
   {
    "duration": 2687,
    "start_time": "2022-07-25T10:10:06.385Z"
   },
   {
    "duration": 7,
    "start_time": "2022-07-25T10:10:09.074Z"
   },
   {
    "duration": 2241,
    "start_time": "2022-07-25T10:10:20.449Z"
   },
   {
    "duration": 5,
    "start_time": "2022-07-25T10:10:22.692Z"
   },
   {
    "duration": 4875,
    "start_time": "2022-07-25T10:10:38.804Z"
   },
   {
    "duration": 2583,
    "start_time": "2022-07-25T10:11:14.748Z"
   },
   {
    "duration": 2753,
    "start_time": "2022-07-25T10:12:03.658Z"
   },
   {
    "duration": 53,
    "start_time": "2022-07-25T10:12:45.375Z"
   },
   {
    "duration": 29,
    "start_time": "2022-07-25T10:13:58.485Z"
   },
   {
    "duration": 2264,
    "start_time": "2022-07-25T10:14:40.453Z"
   },
   {
    "duration": 36,
    "start_time": "2022-07-25T10:14:42.719Z"
   },
   {
    "duration": 4,
    "start_time": "2022-07-25T10:15:26.263Z"
   },
   {
    "duration": 6,
    "start_time": "2022-07-25T10:15:34.172Z"
   },
   {
    "duration": 2536,
    "start_time": "2022-07-25T10:17:03.161Z"
   },
   {
    "duration": 7,
    "start_time": "2022-07-25T10:17:05.699Z"
   },
   {
    "duration": 20,
    "start_time": "2022-07-25T10:17:05.708Z"
   },
   {
    "duration": 36,
    "start_time": "2022-07-25T10:17:08.040Z"
   },
   {
    "duration": 29282,
    "start_time": "2022-07-25T10:17:59.948Z"
   },
   {
    "duration": 2387,
    "start_time": "2022-07-25T10:18:31.332Z"
   },
   {
    "duration": 5,
    "start_time": "2022-07-25T10:18:33.722Z"
   },
   {
    "duration": 14,
    "start_time": "2022-07-25T10:18:33.729Z"
   },
   {
    "duration": 495979,
    "start_time": "2022-07-25T10:18:36.721Z"
   },
   {
    "duration": 5,
    "start_time": "2022-07-25T10:26:52.702Z"
   },
   {
    "duration": 4377900,
    "start_time": "2022-07-25T10:26:52.709Z"
   },
   {
    "duration": 31,
    "start_time": "2022-07-25T12:35:58.315Z"
   },
   {
    "duration": 779,
    "start_time": "2022-07-25T12:36:16.715Z"
   },
   {
    "duration": 4,
    "start_time": "2022-07-25T12:36:21.472Z"
   },
   {
    "duration": 7,
    "start_time": "2022-07-25T12:37:26.009Z"
   },
   {
    "duration": 93,
    "start_time": "2022-07-25T12:38:07.343Z"
   },
   {
    "duration": 5,
    "start_time": "2022-07-25T12:38:46.269Z"
   },
   {
    "duration": 103,
    "start_time": "2022-07-25T12:39:36.402Z"
   },
   {
    "duration": 6,
    "start_time": "2022-07-25T12:44:42.645Z"
   }
  ],
  "kernelspec": {
   "display_name": "Python 3",
   "language": "python",
   "name": "python3"
  },
  "language_info": {
   "codemirror_mode": {
    "name": "ipython",
    "version": 3
   },
   "file_extension": ".py",
   "mimetype": "text/x-python",
   "name": "python",
   "nbconvert_exporter": "python",
   "pygments_lexer": "ipython3",
   "version": "3.8.5"
  },
  "toc": {
   "base_numbering": 1,
   "nav_menu": {},
   "number_sections": true,
   "sideBar": true,
   "skip_h1_title": true,
   "title_cell": "Содержание",
   "title_sidebar": "Contents",
   "toc_cell": true,
   "toc_position": {
    "height": "calc(100% - 180px)",
    "left": "10px",
    "top": "150px",
    "width": "302.391px"
   },
   "toc_section_display": true,
   "toc_window_display": false
  }
 },
 "nbformat": 4,
 "nbformat_minor": 2
}
