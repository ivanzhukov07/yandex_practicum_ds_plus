{
 "cells": [
  {
   "cell_type": "markdown",
   "metadata": {},
   "source": [
    "# Borrower reliability research\n",
    "\n",
    "The customer is the credit department of the bank. It is necessary to find out whether the marital status and the number of children of the client affect the fact of repaying the loan on time. Input data from the bank - statistics on the solvency of customers.\n",
    "\n",
    "The results of the study will be taken into account when building a **credit scoring** model - a special system that evaluates the ability of a potential borrower to repay a loan to a bank."
   ]
  },
  {
   "cell_type": "markdown",
   "metadata": {},
   "source": [
    "## Step 1. Open the data file and examine the general information"
   ]
  },
  {
   "cell_type": "code",
   "execution_count": 1,
   "metadata": {},
   "outputs": [],
   "source": [
    "import pandas as pd\n",
    "import numpy as np"
   ]
  },
  {
   "cell_type": "markdown",
   "metadata": {},
   "source": [
    "Reading the data:"
   ]
  },
  {
   "cell_type": "code",
   "execution_count": 6,
   "metadata": {},
   "outputs": [],
   "source": [
    "df = pd.read_csv('data.csv')"
   ]
  },
  {
   "cell_type": "markdown",
   "metadata": {},
   "source": [
    "Let's look at the first 5 rows of the array for reference:"
   ]
  },
  {
   "cell_type": "code",
   "execution_count": 7,
   "metadata": {},
   "outputs": [
    {
     "data": {
      "text/html": [
       "<div>\n",
       "<style scoped>\n",
       "    .dataframe tbody tr th:only-of-type {\n",
       "        vertical-align: middle;\n",
       "    }\n",
       "\n",
       "    .dataframe tbody tr th {\n",
       "        vertical-align: top;\n",
       "    }\n",
       "\n",
       "    .dataframe thead th {\n",
       "        text-align: right;\n",
       "    }\n",
       "</style>\n",
       "<table border=\"1\" class=\"dataframe\">\n",
       "  <thead>\n",
       "    <tr style=\"text-align: right;\">\n",
       "      <th></th>\n",
       "      <th>children</th>\n",
       "      <th>days_employed</th>\n",
       "      <th>dob_years</th>\n",
       "      <th>education</th>\n",
       "      <th>education_id</th>\n",
       "      <th>family_status</th>\n",
       "      <th>family_status_id</th>\n",
       "      <th>gender</th>\n",
       "      <th>income_type</th>\n",
       "      <th>debt</th>\n",
       "      <th>total_income</th>\n",
       "      <th>purpose</th>\n",
       "    </tr>\n",
       "  </thead>\n",
       "  <tbody>\n",
       "    <tr>\n",
       "      <th>0</th>\n",
       "      <td>1</td>\n",
       "      <td>-8437.673028</td>\n",
       "      <td>42</td>\n",
       "      <td>высшее</td>\n",
       "      <td>0</td>\n",
       "      <td>женат / замужем</td>\n",
       "      <td>0</td>\n",
       "      <td>F</td>\n",
       "      <td>сотрудник</td>\n",
       "      <td>0</td>\n",
       "      <td>253875.639453</td>\n",
       "      <td>покупка жилья</td>\n",
       "    </tr>\n",
       "    <tr>\n",
       "      <th>1</th>\n",
       "      <td>1</td>\n",
       "      <td>-4024.803754</td>\n",
       "      <td>36</td>\n",
       "      <td>среднее</td>\n",
       "      <td>1</td>\n",
       "      <td>женат / замужем</td>\n",
       "      <td>0</td>\n",
       "      <td>F</td>\n",
       "      <td>сотрудник</td>\n",
       "      <td>0</td>\n",
       "      <td>112080.014102</td>\n",
       "      <td>приобретение автомобиля</td>\n",
       "    </tr>\n",
       "    <tr>\n",
       "      <th>2</th>\n",
       "      <td>0</td>\n",
       "      <td>-5623.422610</td>\n",
       "      <td>33</td>\n",
       "      <td>Среднее</td>\n",
       "      <td>1</td>\n",
       "      <td>женат / замужем</td>\n",
       "      <td>0</td>\n",
       "      <td>M</td>\n",
       "      <td>сотрудник</td>\n",
       "      <td>0</td>\n",
       "      <td>145885.952297</td>\n",
       "      <td>покупка жилья</td>\n",
       "    </tr>\n",
       "    <tr>\n",
       "      <th>3</th>\n",
       "      <td>3</td>\n",
       "      <td>-4124.747207</td>\n",
       "      <td>32</td>\n",
       "      <td>среднее</td>\n",
       "      <td>1</td>\n",
       "      <td>женат / замужем</td>\n",
       "      <td>0</td>\n",
       "      <td>M</td>\n",
       "      <td>сотрудник</td>\n",
       "      <td>0</td>\n",
       "      <td>267628.550329</td>\n",
       "      <td>дополнительное образование</td>\n",
       "    </tr>\n",
       "    <tr>\n",
       "      <th>4</th>\n",
       "      <td>0</td>\n",
       "      <td>340266.072047</td>\n",
       "      <td>53</td>\n",
       "      <td>среднее</td>\n",
       "      <td>1</td>\n",
       "      <td>гражданский брак</td>\n",
       "      <td>1</td>\n",
       "      <td>F</td>\n",
       "      <td>пенсионер</td>\n",
       "      <td>0</td>\n",
       "      <td>158616.077870</td>\n",
       "      <td>сыграть свадьбу</td>\n",
       "    </tr>\n",
       "  </tbody>\n",
       "</table>\n",
       "</div>"
      ],
      "text/plain": [
       "   children  days_employed  dob_years education  education_id  \\\n",
       "0         1   -8437.673028         42    высшее             0   \n",
       "1         1   -4024.803754         36   среднее             1   \n",
       "2         0   -5623.422610         33   Среднее             1   \n",
       "3         3   -4124.747207         32   среднее             1   \n",
       "4         0  340266.072047         53   среднее             1   \n",
       "\n",
       "      family_status  family_status_id gender income_type  debt   total_income  \\\n",
       "0   женат / замужем                 0      F   сотрудник     0  253875.639453   \n",
       "1   женат / замужем                 0      F   сотрудник     0  112080.014102   \n",
       "2   женат / замужем                 0      M   сотрудник     0  145885.952297   \n",
       "3   женат / замужем                 0      M   сотрудник     0  267628.550329   \n",
       "4  гражданский брак                 1      F   пенсионер     0  158616.077870   \n",
       "\n",
       "                      purpose  \n",
       "0               покупка жилья  \n",
       "1     приобретение автомобиля  \n",
       "2               покупка жилья  \n",
       "3  дополнительное образование  \n",
       "4             сыграть свадьбу  "
      ]
     },
     "execution_count": 7,
     "metadata": {},
     "output_type": "execute_result"
    }
   ],
   "source": [
    "df.head(5)"
   ]
  },
  {
   "cell_type": "markdown",
   "metadata": {},
   "source": [
    "The table has 12 columns. Data type — `int64`, `float64`, `object`\n",
    "\n",
    "According to the data documentation:\n",
    "* `children` - the number of children in the family;\n",
    "* `days_employed` - work experience in days;\n",
    "* `dob_years` - client's age in years;\n",
    "* `education` - education of the client;\n",
    "* `education_id` - education identifier;\n",
    "* `family_status` - marital status;\n",
    "* `family_status_id` - marital status identifier;\n",
    "* `gender` - gender of the client;\n",
    "* `income_type` - employment type;\n",
    "* `debt` - whether he had a debt to repay loans;\n",
    "* `total_income` - income per month;\n",
    "* `purpose` - the purpose of the loan;"
   ]
  },
  {
   "cell_type": "markdown",
   "metadata": {},
   "source": [
    "Note that there are **sign - ID** pairs in the columns (`education - education_id`, `family_status - family_status_id`), this can be useful for checking the correctness of filling in the cells in the corresponding columns."
   ]
  },
  {
   "cell_type": "markdown",
   "metadata": {},
   "source": [
    "Let's get general information about the data in the df table:"
   ]
  },
  {
   "cell_type": "code",
   "execution_count": 8,
   "metadata": {},
   "outputs": [
    {
     "name": "stdout",
     "output_type": "stream",
     "text": [
      "<class 'pandas.core.frame.DataFrame'>\n",
      "RangeIndex: 21525 entries, 0 to 21524\n",
      "Data columns (total 12 columns):\n",
      " #   Column            Non-Null Count  Dtype  \n",
      "---  ------            --------------  -----  \n",
      " 0   children          21525 non-null  int64  \n",
      " 1   days_employed     19351 non-null  float64\n",
      " 2   dob_years         21525 non-null  int64  \n",
      " 3   education         21525 non-null  object \n",
      " 4   education_id      21525 non-null  int64  \n",
      " 5   family_status     21525 non-null  object \n",
      " 6   family_status_id  21525 non-null  int64  \n",
      " 7   gender            21525 non-null  object \n",
      " 8   income_type       21525 non-null  object \n",
      " 9   debt              21525 non-null  int64  \n",
      " 10  total_income      19351 non-null  float64\n",
      " 11  purpose           21525 non-null  object \n",
      "dtypes: float64(2), int64(5), object(5)\n",
      "memory usage: 2.0+ MB\n"
     ]
    }
   ],
   "source": [
    "df.info()"
   ]
  },
  {
   "cell_type": "code",
   "execution_count": 9,
   "metadata": {},
   "outputs": [
    {
     "data": {
      "text/plain": [
       "array([nan])"
      ]
     },
     "execution_count": 9,
     "metadata": {},
     "output_type": "execute_result"
    }
   ],
   "source": [
    "df[df['days_employed'].isna()]['total_income'].unique()"
   ]
  },
  {
   "cell_type": "code",
   "execution_count": 10,
   "metadata": {},
   "outputs": [
    {
     "data": {
      "text/plain": [
       "array([nan])"
      ]
     },
     "execution_count": 10,
     "metadata": {},
     "output_type": "execute_result"
    }
   ],
   "source": [
    "df[df['total_income'].isna()]['days_employed'].unique()"
   ]
  },
  {
   "cell_type": "markdown",
   "metadata": {},
   "source": [
    "* **The number of values in the columns varies. This means there are missing values in the data (columns with `days_employed` and `total_income` quantitative values).**\n",
    "* **Wherever there is a `days_employed` gap there is a `total_income` gap and vice versa**\n",
    "* **Data types in columns `days_employed` and `total_income`, current type `real`, but more logical - `integer`**"
   ]
  },
  {
   "cell_type": "markdown",
   "metadata": {},
   "source": [
    "Let's check how the columns of the attribute-ID pair correlate (I wrote about them earlier):"
   ]
  },
  {
   "cell_type": "code",
   "execution_count": 11,
   "metadata": {
    "scrolled": true
   },
   "outputs": [
    {
     "data": {
      "text/html": [
       "<div>\n",
       "<style scoped>\n",
       "    .dataframe tbody tr th:only-of-type {\n",
       "        vertical-align: middle;\n",
       "    }\n",
       "\n",
       "    .dataframe tbody tr th {\n",
       "        vertical-align: top;\n",
       "    }\n",
       "\n",
       "    .dataframe thead th {\n",
       "        text-align: right;\n",
       "    }\n",
       "</style>\n",
       "<table border=\"1\" class=\"dataframe\">\n",
       "  <thead>\n",
       "    <tr style=\"text-align: right;\">\n",
       "      <th></th>\n",
       "      <th></th>\n",
       "      <th>children</th>\n",
       "    </tr>\n",
       "    <tr>\n",
       "      <th>education_id</th>\n",
       "      <th>education</th>\n",
       "      <th></th>\n",
       "    </tr>\n",
       "  </thead>\n",
       "  <tbody>\n",
       "    <tr>\n",
       "      <th rowspan=\"3\" valign=\"top\">0</th>\n",
       "      <th>ВЫСШЕЕ</th>\n",
       "      <td>274</td>\n",
       "    </tr>\n",
       "    <tr>\n",
       "      <th>Высшее</th>\n",
       "      <td>268</td>\n",
       "    </tr>\n",
       "    <tr>\n",
       "      <th>высшее</th>\n",
       "      <td>4718</td>\n",
       "    </tr>\n",
       "    <tr>\n",
       "      <th rowspan=\"3\" valign=\"top\">1</th>\n",
       "      <th>СРЕДНЕЕ</th>\n",
       "      <td>772</td>\n",
       "    </tr>\n",
       "    <tr>\n",
       "      <th>Среднее</th>\n",
       "      <td>711</td>\n",
       "    </tr>\n",
       "    <tr>\n",
       "      <th>среднее</th>\n",
       "      <td>13750</td>\n",
       "    </tr>\n",
       "    <tr>\n",
       "      <th rowspan=\"3\" valign=\"top\">2</th>\n",
       "      <th>НЕОКОНЧЕННОЕ ВЫСШЕЕ</th>\n",
       "      <td>29</td>\n",
       "    </tr>\n",
       "    <tr>\n",
       "      <th>Неоконченное высшее</th>\n",
       "      <td>47</td>\n",
       "    </tr>\n",
       "    <tr>\n",
       "      <th>неоконченное высшее</th>\n",
       "      <td>668</td>\n",
       "    </tr>\n",
       "    <tr>\n",
       "      <th rowspan=\"3\" valign=\"top\">3</th>\n",
       "      <th>НАЧАЛЬНОЕ</th>\n",
       "      <td>17</td>\n",
       "    </tr>\n",
       "    <tr>\n",
       "      <th>Начальное</th>\n",
       "      <td>15</td>\n",
       "    </tr>\n",
       "    <tr>\n",
       "      <th>начальное</th>\n",
       "      <td>250</td>\n",
       "    </tr>\n",
       "    <tr>\n",
       "      <th rowspan=\"3\" valign=\"top\">4</th>\n",
       "      <th>УЧЕНАЯ СТЕПЕНЬ</th>\n",
       "      <td>1</td>\n",
       "    </tr>\n",
       "    <tr>\n",
       "      <th>Ученая степень</th>\n",
       "      <td>1</td>\n",
       "    </tr>\n",
       "    <tr>\n",
       "      <th>ученая степень</th>\n",
       "      <td>4</td>\n",
       "    </tr>\n",
       "  </tbody>\n",
       "</table>\n",
       "</div>"
      ],
      "text/plain": [
       "                                  children\n",
       "education_id education                    \n",
       "0            ВЫСШЕЕ                    274\n",
       "             Высшее                    268\n",
       "             высшее                   4718\n",
       "1            СРЕДНЕЕ                   772\n",
       "             Среднее                   711\n",
       "             среднее                 13750\n",
       "2            НЕОКОНЧЕННОЕ ВЫСШЕЕ        29\n",
       "             Неоконченное высшее        47\n",
       "             неоконченное высшее       668\n",
       "3            НАЧАЛЬНОЕ                  17\n",
       "             Начальное                  15\n",
       "             начальное                 250\n",
       "4            УЧЕНАЯ СТЕПЕНЬ              1\n",
       "             Ученая степень              1\n",
       "             ученая степень              4"
      ]
     },
     "execution_count": 11,
     "metadata": {},
     "output_type": "execute_result"
    }
   ],
   "source": [
    "df.groupby(['education_id','education'])[['children']].count()"
   ]
  },
  {
   "cell_type": "markdown",
   "metadata": {},
   "source": [
    "* **`education` - we see an error in filling in categorical variables, different register - this needs to be corrected**"
   ]
  },
  {
   "cell_type": "code",
   "execution_count": 12,
   "metadata": {},
   "outputs": [
    {
     "data": {
      "text/html": [
       "<div>\n",
       "<style scoped>\n",
       "    .dataframe tbody tr th:only-of-type {\n",
       "        vertical-align: middle;\n",
       "    }\n",
       "\n",
       "    .dataframe tbody tr th {\n",
       "        vertical-align: top;\n",
       "    }\n",
       "\n",
       "    .dataframe thead th {\n",
       "        text-align: right;\n",
       "    }\n",
       "</style>\n",
       "<table border=\"1\" class=\"dataframe\">\n",
       "  <thead>\n",
       "    <tr style=\"text-align: right;\">\n",
       "      <th></th>\n",
       "      <th></th>\n",
       "      <th>children</th>\n",
       "    </tr>\n",
       "    <tr>\n",
       "      <th>family_status_id</th>\n",
       "      <th>family_status</th>\n",
       "      <th></th>\n",
       "    </tr>\n",
       "  </thead>\n",
       "  <tbody>\n",
       "    <tr>\n",
       "      <th>0</th>\n",
       "      <th>женат / замужем</th>\n",
       "      <td>12380</td>\n",
       "    </tr>\n",
       "    <tr>\n",
       "      <th>1</th>\n",
       "      <th>гражданский брак</th>\n",
       "      <td>4177</td>\n",
       "    </tr>\n",
       "    <tr>\n",
       "      <th>2</th>\n",
       "      <th>вдовец / вдова</th>\n",
       "      <td>960</td>\n",
       "    </tr>\n",
       "    <tr>\n",
       "      <th>3</th>\n",
       "      <th>в разводе</th>\n",
       "      <td>1195</td>\n",
       "    </tr>\n",
       "    <tr>\n",
       "      <th>4</th>\n",
       "      <th>Не женат / не замужем</th>\n",
       "      <td>2813</td>\n",
       "    </tr>\n",
       "  </tbody>\n",
       "</table>\n",
       "</div>"
      ],
      "text/plain": [
       "                                        children\n",
       "family_status_id family_status                  \n",
       "0                женат / замужем           12380\n",
       "1                гражданский брак           4177\n",
       "2                вдовец / вдова              960\n",
       "3                в разводе                  1195\n",
       "4                Не женат / не замужем      2813"
      ]
     },
     "execution_count": 12,
     "metadata": {},
     "output_type": "execute_result"
    }
   ],
   "source": [
    "df.groupby(['family_status_id','family_status'])[['children']].count()"
   ]
  },
  {
   "cell_type": "markdown",
   "metadata": {},
   "source": [
    "* **`family_status` - less critical here, but the case also needs to be greeted to the same format**"
   ]
  },
  {
   "cell_type": "markdown",
   "metadata": {},
   "source": [
    "To complete the review of categorical columns, check the unique values for `gender` and `income_type`:"
   ]
  },
  {
   "cell_type": "code",
   "execution_count": 13,
   "metadata": {},
   "outputs": [
    {
     "data": {
      "text/plain": [
       "array(['F', 'M', 'XNA'], dtype=object)"
      ]
     },
     "execution_count": 13,
     "metadata": {},
     "output_type": "execute_result"
    }
   ],
   "source": [
    "df['gender'].unique()"
   ]
  },
  {
   "cell_type": "code",
   "execution_count": 14,
   "metadata": {},
   "outputs": [
    {
     "data": {
      "text/plain": [
       "array(['сотрудник', 'пенсионер', 'компаньон', 'госслужащий',\n",
       "       'безработный', 'предприниматель', 'студент', 'в декрете'],\n",
       "      dtype=object)"
      ]
     },
     "execution_count": 14,
     "metadata": {},
     "output_type": "execute_result"
    }
   ],
   "source": [
    "df['income_type'].unique()"
   ]
  },
  {
   "cell_type": "markdown",
   "metadata": {},
   "source": [
    "- **`XNA` - I guess it's NA and can be replaced with an empty string, for convenience. We will not be able to restore the value***"
   ]
  },
  {
   "cell_type": "markdown",
   "metadata": {},
   "source": [
    "Let's continue the review and see what happens with the numeric columns:"
   ]
  },
  {
   "cell_type": "code",
   "execution_count": 15,
   "metadata": {},
   "outputs": [
    {
     "data": {
      "text/html": [
       "<div>\n",
       "<style scoped>\n",
       "    .dataframe tbody tr th:only-of-type {\n",
       "        vertical-align: middle;\n",
       "    }\n",
       "\n",
       "    .dataframe tbody tr th {\n",
       "        vertical-align: top;\n",
       "    }\n",
       "\n",
       "    .dataframe thead th {\n",
       "        text-align: right;\n",
       "    }\n",
       "</style>\n",
       "<table border=\"1\" class=\"dataframe\">\n",
       "  <thead>\n",
       "    <tr style=\"text-align: right;\">\n",
       "      <th></th>\n",
       "      <th>children</th>\n",
       "      <th>days_employed</th>\n",
       "      <th>dob_years</th>\n",
       "      <th>education_id</th>\n",
       "      <th>family_status_id</th>\n",
       "      <th>debt</th>\n",
       "      <th>total_income</th>\n",
       "    </tr>\n",
       "  </thead>\n",
       "  <tbody>\n",
       "    <tr>\n",
       "      <th>count</th>\n",
       "      <td>21525.000000</td>\n",
       "      <td>19351.000000</td>\n",
       "      <td>21525.000000</td>\n",
       "      <td>21525.000000</td>\n",
       "      <td>21525.000000</td>\n",
       "      <td>21525.000000</td>\n",
       "      <td>1.935100e+04</td>\n",
       "    </tr>\n",
       "    <tr>\n",
       "      <th>mean</th>\n",
       "      <td>0.538908</td>\n",
       "      <td>63046.497661</td>\n",
       "      <td>43.293380</td>\n",
       "      <td>0.817236</td>\n",
       "      <td>0.972544</td>\n",
       "      <td>0.080883</td>\n",
       "      <td>1.674223e+05</td>\n",
       "    </tr>\n",
       "    <tr>\n",
       "      <th>std</th>\n",
       "      <td>1.381587</td>\n",
       "      <td>140827.311974</td>\n",
       "      <td>12.574584</td>\n",
       "      <td>0.548138</td>\n",
       "      <td>1.420324</td>\n",
       "      <td>0.272661</td>\n",
       "      <td>1.029716e+05</td>\n",
       "    </tr>\n",
       "    <tr>\n",
       "      <th>min</th>\n",
       "      <td>-1.000000</td>\n",
       "      <td>-18388.949901</td>\n",
       "      <td>0.000000</td>\n",
       "      <td>0.000000</td>\n",
       "      <td>0.000000</td>\n",
       "      <td>0.000000</td>\n",
       "      <td>2.066726e+04</td>\n",
       "    </tr>\n",
       "    <tr>\n",
       "      <th>25%</th>\n",
       "      <td>0.000000</td>\n",
       "      <td>-2747.423625</td>\n",
       "      <td>33.000000</td>\n",
       "      <td>1.000000</td>\n",
       "      <td>0.000000</td>\n",
       "      <td>0.000000</td>\n",
       "      <td>1.030532e+05</td>\n",
       "    </tr>\n",
       "    <tr>\n",
       "      <th>50%</th>\n",
       "      <td>0.000000</td>\n",
       "      <td>-1203.369529</td>\n",
       "      <td>42.000000</td>\n",
       "      <td>1.000000</td>\n",
       "      <td>0.000000</td>\n",
       "      <td>0.000000</td>\n",
       "      <td>1.450179e+05</td>\n",
       "    </tr>\n",
       "    <tr>\n",
       "      <th>75%</th>\n",
       "      <td>1.000000</td>\n",
       "      <td>-291.095954</td>\n",
       "      <td>53.000000</td>\n",
       "      <td>1.000000</td>\n",
       "      <td>1.000000</td>\n",
       "      <td>0.000000</td>\n",
       "      <td>2.034351e+05</td>\n",
       "    </tr>\n",
       "    <tr>\n",
       "      <th>max</th>\n",
       "      <td>20.000000</td>\n",
       "      <td>401755.400475</td>\n",
       "      <td>75.000000</td>\n",
       "      <td>4.000000</td>\n",
       "      <td>4.000000</td>\n",
       "      <td>1.000000</td>\n",
       "      <td>2.265604e+06</td>\n",
       "    </tr>\n",
       "  </tbody>\n",
       "</table>\n",
       "</div>"
      ],
      "text/plain": [
       "           children  days_employed     dob_years  education_id  \\\n",
       "count  21525.000000   19351.000000  21525.000000  21525.000000   \n",
       "mean       0.538908   63046.497661     43.293380      0.817236   \n",
       "std        1.381587  140827.311974     12.574584      0.548138   \n",
       "min       -1.000000  -18388.949901      0.000000      0.000000   \n",
       "25%        0.000000   -2747.423625     33.000000      1.000000   \n",
       "50%        0.000000   -1203.369529     42.000000      1.000000   \n",
       "75%        1.000000    -291.095954     53.000000      1.000000   \n",
       "max       20.000000  401755.400475     75.000000      4.000000   \n",
       "\n",
       "       family_status_id          debt  total_income  \n",
       "count      21525.000000  21525.000000  1.935100e+04  \n",
       "mean           0.972544      0.080883  1.674223e+05  \n",
       "std            1.420324      0.272661  1.029716e+05  \n",
       "min            0.000000      0.000000  2.066726e+04  \n",
       "25%            0.000000      0.000000  1.030532e+05  \n",
       "50%            0.000000      0.000000  1.450179e+05  \n",
       "75%            1.000000      0.000000  2.034351e+05  \n",
       "max            4.000000      1.000000  2.265604e+06  "
      ]
     },
     "execution_count": 15,
     "metadata": {},
     "output_type": "execute_result"
    }
   ],
   "source": [
    "df.describe()"
   ]
  },
  {
   "cell_type": "markdown",
   "metadata": {},
   "source": [
    "This is also not without problems:\n",
    "- **`children` minimum value `-1`, maximum `20` look like typos when entering data**\n",
    "- **`dob_years` minimum value `0` (we will not be able to restore the value)**\n",
    "- **`days_employed` there are both negative values and extremely large ones (`experience >> 100 years`)**"
   ]
  },
  {
   "cell_type": "markdown",
   "metadata": {},
   "source": [
    "Let's also see if there are obvious duplicates in the selection (even in its current state, with all the inaccuracies that I described above):"
   ]
  },
  {
   "cell_type": "code",
   "execution_count": 16,
   "metadata": {},
   "outputs": [
    {
     "data": {
      "text/plain": [
       "54"
      ]
     },
     "execution_count": 16,
     "metadata": {},
     "output_type": "execute_result"
    }
   ],
   "source": [
    "df.duplicated().sum()"
   ]
  },
  {
   "cell_type": "markdown",
   "metadata": {},
   "source": [
    "**Conclusion**"
   ]
  },
  {
   "cell_type": "markdown",
   "metadata": {},
   "source": [
    "Each row of the table contains data about the borrower of the bank. Some of the columns describe the socio-demographic characteristics of the client: gender, age, work experience, education data, marital status and number of children. The rest are economic (including risky) metrics for the client: the presence of delays, the amount of monthly income, the purpose of obtaining a loan.\n",
    "\n",
    "Additionally, it should be noted that:\n",
    "- there are omissions\n",
    "- part of the columns must be converted to an integer data type\n",
    "- quantitative variables are either extremely high or negative values\n",
    "- there are typos in categorical variables\n",
    "- there are obvious duplicates\n",
    "\n",
    "To move forward, you need to fix problems in the data."
   ]
  },
  {
   "cell_type": "markdown",
   "metadata": {},
   "source": [
    "## Step 2. Data preprocessing"
   ]
  },
  {
   "cell_type": "markdown",
   "metadata": {},
   "source": [
    "### Pass processing"
   ]
  },
  {
   "cell_type": "markdown",
   "metadata": {},
   "source": [
    "The next task of the project is to fill in the blanks.\n",
    "In data review, I found gap issues in two columns `days_employed` and `total_income`\n",
    "\n",
    "- In both cases, gaps in *quantitative variables*.\n",
    "- Also, gaps in both columns are random, and wherever there is a gap `days_employed` there is a gap `total_income` and vice versa\n",
    "- Gaps in such variables are filled with *characteristic values*.\n",
    "\n",
    "**Possible reason for gaps**\n",
    "- The bank does not always know everything about the salary and seniority of the client, for example, if this is an incoming application from a new client who has never been served by this bank before. At the same time, the client can leave an application on the site, and the bank must decide on the issuance based on the data indicated in the questionnaire (in our case, information about the length of service and income level was not filled out)\n",
    "- There may also be typos when entering data\n",
    "- Or technical errors, like with the `days_employed` field\n",
    "\n",
    "\n",
    "**Note**\n",
    "If we replace the gaps throughout the array with the arithmetic mean, the result will be as inaccurate as possible, so I suggest splitting the array into more stable subgroups. Since clustering has not yet been read to us, I will assume that a strong influence on `length of service` and `income level` can have:\n",
    "\n",
    "\n",
    "- type of employment\n",
    "- type of education\n",
    "- gender\n",
    "- age\n",
    "\n",
    "At the same time, the last parameter is given to us in years, without breaking down into groups, so in order to more accurately fill in the gaps, we will have to categorize by age right now."
   ]
  },
  {
   "cell_type": "code",
   "execution_count": 17,
   "metadata": {
    "scrolled": true
   },
   "outputs": [],
   "source": [
    "def age_group(age):\n",
    "    if age <= 18:\n",
    "        return '0-18'\n",
    "    elif  age >= 19 and age <= 25:\n",
    "        return '19-25'\n",
    "    elif  age >= 26 and age <= 35:\n",
    "        return '26-35'\n",
    "    elif  age >= 36 and age <= 55:\n",
    "        return '36-55'\n",
    "    else:\n",
    "        return '56+'"
   ]
  },
  {
   "cell_type": "code",
   "execution_count": 18,
   "metadata": {},
   "outputs": [],
   "source": [
    "df['age_id'] = df['dob_years'].apply(age_group)"
   ]
  },
  {
   "cell_type": "code",
   "execution_count": 19,
   "metadata": {},
   "outputs": [
    {
     "data": {
      "text/html": [
       "<div>\n",
       "<style scoped>\n",
       "    .dataframe tbody tr th:only-of-type {\n",
       "        vertical-align: middle;\n",
       "    }\n",
       "\n",
       "    .dataframe tbody tr th {\n",
       "        vertical-align: top;\n",
       "    }\n",
       "\n",
       "    .dataframe thead th {\n",
       "        text-align: right;\n",
       "    }\n",
       "</style>\n",
       "<table border=\"1\" class=\"dataframe\">\n",
       "  <thead>\n",
       "    <tr style=\"text-align: right;\">\n",
       "      <th></th>\n",
       "      <th>education_id</th>\n",
       "    </tr>\n",
       "    <tr>\n",
       "      <th>age_id</th>\n",
       "      <th></th>\n",
       "    </tr>\n",
       "  </thead>\n",
       "  <tbody>\n",
       "    <tr>\n",
       "      <th>0-18</th>\n",
       "      <td>101</td>\n",
       "    </tr>\n",
       "    <tr>\n",
       "      <th>19-25</th>\n",
       "      <td>1234</td>\n",
       "    </tr>\n",
       "    <tr>\n",
       "      <th>26-35</th>\n",
       "      <td>5360</td>\n",
       "    </tr>\n",
       "    <tr>\n",
       "      <th>36-55</th>\n",
       "      <td>10461</td>\n",
       "    </tr>\n",
       "    <tr>\n",
       "      <th>56+</th>\n",
       "      <td>4369</td>\n",
       "    </tr>\n",
       "  </tbody>\n",
       "</table>\n",
       "</div>"
      ],
      "text/plain": [
       "        education_id\n",
       "age_id              \n",
       "0-18             101\n",
       "19-25           1234\n",
       "26-35           5360\n",
       "36-55          10461\n",
       "56+             4369"
      ]
     },
     "execution_count": 19,
     "metadata": {},
     "output_type": "execute_result"
    }
   ],
   "source": [
    "## verification\n",
    "df.groupby(['age_id'])[['education_id']].count()"
   ]
  },
  {
   "cell_type": "markdown",
   "metadata": {},
   "source": [
    "Let's also fix the case for text columns:"
   ]
  },
  {
   "cell_type": "code",
   "execution_count": 20,
   "metadata": {},
   "outputs": [],
   "source": [
    "for i in df:\n",
    "    try:\n",
    "        df[i] = df[i].str.lower()\n",
    "    except:\n",
    "        df[i] = df[i]"
   ]
  },
  {
   "cell_type": "code",
   "execution_count": 21,
   "metadata": {},
   "outputs": [
    {
     "data": {
      "text/html": [
       "<div>\n",
       "<style scoped>\n",
       "    .dataframe tbody tr th:only-of-type {\n",
       "        vertical-align: middle;\n",
       "    }\n",
       "\n",
       "    .dataframe tbody tr th {\n",
       "        vertical-align: top;\n",
       "    }\n",
       "\n",
       "    .dataframe thead th {\n",
       "        text-align: right;\n",
       "    }\n",
       "</style>\n",
       "<table border=\"1\" class=\"dataframe\">\n",
       "  <thead>\n",
       "    <tr style=\"text-align: right;\">\n",
       "      <th></th>\n",
       "      <th></th>\n",
       "      <th>children</th>\n",
       "    </tr>\n",
       "    <tr>\n",
       "      <th>education_id</th>\n",
       "      <th>education</th>\n",
       "      <th></th>\n",
       "    </tr>\n",
       "  </thead>\n",
       "  <tbody>\n",
       "    <tr>\n",
       "      <th>0</th>\n",
       "      <th>высшее</th>\n",
       "      <td>5260</td>\n",
       "    </tr>\n",
       "    <tr>\n",
       "      <th>1</th>\n",
       "      <th>среднее</th>\n",
       "      <td>15233</td>\n",
       "    </tr>\n",
       "    <tr>\n",
       "      <th>2</th>\n",
       "      <th>неоконченное высшее</th>\n",
       "      <td>744</td>\n",
       "    </tr>\n",
       "    <tr>\n",
       "      <th>3</th>\n",
       "      <th>начальное</th>\n",
       "      <td>282</td>\n",
       "    </tr>\n",
       "    <tr>\n",
       "      <th>4</th>\n",
       "      <th>ученая степень</th>\n",
       "      <td>6</td>\n",
       "    </tr>\n",
       "  </tbody>\n",
       "</table>\n",
       "</div>"
      ],
      "text/plain": [
       "                                  children\n",
       "education_id education                    \n",
       "0            высшее                   5260\n",
       "1            среднее                 15233\n",
       "2            неоконченное высшее       744\n",
       "3            начальное                 282\n",
       "4            ученая степень              6"
      ]
     },
     "execution_count": 21,
     "metadata": {},
     "output_type": "execute_result"
    }
   ],
   "source": [
    "## verification\n",
    "df.groupby(['education_id','education'])[['children']].count()"
   ]
  },
  {
   "cell_type": "code",
   "execution_count": 22,
   "metadata": {},
   "outputs": [
    {
     "data": {
      "text/html": [
       "<div>\n",
       "<style scoped>\n",
       "    .dataframe tbody tr th:only-of-type {\n",
       "        vertical-align: middle;\n",
       "    }\n",
       "\n",
       "    .dataframe tbody tr th {\n",
       "        vertical-align: top;\n",
       "    }\n",
       "\n",
       "    .dataframe thead th {\n",
       "        text-align: right;\n",
       "    }\n",
       "</style>\n",
       "<table border=\"1\" class=\"dataframe\">\n",
       "  <thead>\n",
       "    <tr style=\"text-align: right;\">\n",
       "      <th></th>\n",
       "      <th></th>\n",
       "      <th>children</th>\n",
       "    </tr>\n",
       "    <tr>\n",
       "      <th>family_status_id</th>\n",
       "      <th>family_status</th>\n",
       "      <th></th>\n",
       "    </tr>\n",
       "  </thead>\n",
       "  <tbody>\n",
       "    <tr>\n",
       "      <th>0</th>\n",
       "      <th>женат / замужем</th>\n",
       "      <td>12380</td>\n",
       "    </tr>\n",
       "    <tr>\n",
       "      <th>1</th>\n",
       "      <th>гражданский брак</th>\n",
       "      <td>4177</td>\n",
       "    </tr>\n",
       "    <tr>\n",
       "      <th>2</th>\n",
       "      <th>вдовец / вдова</th>\n",
       "      <td>960</td>\n",
       "    </tr>\n",
       "    <tr>\n",
       "      <th>3</th>\n",
       "      <th>в разводе</th>\n",
       "      <td>1195</td>\n",
       "    </tr>\n",
       "    <tr>\n",
       "      <th>4</th>\n",
       "      <th>не женат / не замужем</th>\n",
       "      <td>2813</td>\n",
       "    </tr>\n",
       "  </tbody>\n",
       "</table>\n",
       "</div>"
      ],
      "text/plain": [
       "                                        children\n",
       "family_status_id family_status                  \n",
       "0                женат / замужем           12380\n",
       "1                гражданский брак           4177\n",
       "2                вдовец / вдова              960\n",
       "3                в разводе                  1195\n",
       "4                не женат / не замужем      2813"
      ]
     },
     "execution_count": 22,
     "metadata": {},
     "output_type": "execute_result"
    }
   ],
   "source": [
    "## verification\n",
    "df.groupby(['family_status_id','family_status'])[['children']].count()"
   ]
  },
  {
   "cell_type": "markdown",
   "metadata": {},
   "source": [
    "Let's fix the values in the `children` column, under the suspicion of -1 and 20"
   ]
  },
  {
   "cell_type": "code",
   "execution_count": 23,
   "metadata": {},
   "outputs": [
    {
     "data": {
      "text/plain": [
       "array([ 1,  0,  3,  2, -1,  4, 20,  5])"
      ]
     },
     "execution_count": 23,
     "metadata": {},
     "output_type": "execute_result"
    }
   ],
   "source": [
    "df['children'].unique()"
   ]
  },
  {
   "cell_type": "code",
   "execution_count": 24,
   "metadata": {},
   "outputs": [
    {
     "data": {
      "text/plain": [
       "123"
      ]
     },
     "execution_count": 24,
     "metadata": {},
     "output_type": "execute_result"
    }
   ],
   "source": [
    "len(df[(df['children'] == 20) | (df['children'] == -1)])"
   ]
  },
  {
   "cell_type": "markdown",
   "metadata": {},
   "source": [
    "I'm assuming these are all typos."
   ]
  },
  {
   "cell_type": "code",
   "execution_count": 25,
   "metadata": {},
   "outputs": [],
   "source": [
    "df['children'] = df['children'].replace(20,2)\n",
    "df['children'] = df['children'].replace(-1,1)"
   ]
  },
  {
   "cell_type": "markdown",
   "metadata": {},
   "source": [
    "Change the **XNA** value to **None** in the `gender` column"
   ]
  },
  {
   "cell_type": "code",
   "execution_count": 26,
   "metadata": {},
   "outputs": [],
   "source": [
    "df['gender'] = df['gender'].replace('xna','none')"
   ]
  },
  {
   "cell_type": "code",
   "execution_count": 27,
   "metadata": {},
   "outputs": [
    {
     "data": {
      "text/plain": [
       "array(['f', 'm', 'none'], dtype=object)"
      ]
     },
     "execution_count": 27,
     "metadata": {},
     "output_type": "execute_result"
    }
   ],
   "source": [
    "df['gender'].unique()"
   ]
  },
  {
   "cell_type": "markdown",
   "metadata": {},
   "source": [
    "**After basic manipulations, let's move on to filling in the gaps**\n",
    "**days_employed**\n",
    "\n",
    "Above, I wrote about extreme values in it, as well as the presence of both positive and negative variables.\n",
    "This suggests that the problem is deeper and it is not possible to simply fill in the gaps with column averages.\n",
    "Let's look at the distribution of values in the days_employed column for values > 0:"
   ]
  },
  {
   "cell_type": "code",
   "execution_count": 28,
   "metadata": {},
   "outputs": [
    {
     "data": {
      "text/plain": [
       "count      3445.000000\n",
       "mean     365004.309916\n",
       "std       21075.016396\n",
       "min      328728.720605\n",
       "25%      346639.413916\n",
       "50%      365213.306266\n",
       "75%      383246.444219\n",
       "max      401755.400475\n",
       "Name: days_employed, dtype: float64"
      ]
     },
     "execution_count": 28,
     "metadata": {},
     "output_type": "execute_result"
    }
   ],
   "source": [
    "df[df['days_employed'] > 0]['days_employed'].describe()"
   ]
  },
  {
   "cell_type": "markdown",
   "metadata": {},
   "source": [
    "It can be seen that even the minimum value of experience here is > 900 years\n",
    "Now let's look at the distributions for seniority values < 0:"
   ]
  },
  {
   "cell_type": "code",
   "execution_count": 29,
   "metadata": {},
   "outputs": [
    {
     "data": {
      "text/plain": [
       "count    15906.000000\n",
       "mean     -2353.015932\n",
       "std       2304.243851\n",
       "min     -18388.949901\n",
       "25%      -3157.480084\n",
       "50%      -1630.019381\n",
       "75%       -756.371964\n",
       "max        -24.141633\n",
       "Name: days_employed, dtype: float64"
      ]
     },
     "execution_count": 29,
     "metadata": {},
     "output_type": "execute_result"
    }
   ],
   "source": [
    "df[df['days_employed'] < 0]['days_employed'].describe()"
   ]
  },
  {
   "cell_type": "markdown",
   "metadata": {},
   "source": [
    "Here everything looks more believable (assuming that negative values are actually positive).\n",
    "\n",
    "Let's check the maximum value of experience."
   ]
  },
  {
   "cell_type": "code",
   "execution_count": 30,
   "metadata": {},
   "outputs": [
    {
     "data": {
      "text/html": [
       "<div>\n",
       "<style scoped>\n",
       "    .dataframe tbody tr th:only-of-type {\n",
       "        vertical-align: middle;\n",
       "    }\n",
       "\n",
       "    .dataframe tbody tr th {\n",
       "        vertical-align: top;\n",
       "    }\n",
       "\n",
       "    .dataframe thead th {\n",
       "        text-align: right;\n",
       "    }\n",
       "</style>\n",
       "<table border=\"1\" class=\"dataframe\">\n",
       "  <thead>\n",
       "    <tr style=\"text-align: right;\">\n",
       "      <th></th>\n",
       "      <th>children</th>\n",
       "      <th>days_employed</th>\n",
       "      <th>dob_years</th>\n",
       "      <th>education</th>\n",
       "      <th>education_id</th>\n",
       "      <th>family_status</th>\n",
       "      <th>family_status_id</th>\n",
       "      <th>gender</th>\n",
       "      <th>income_type</th>\n",
       "      <th>debt</th>\n",
       "      <th>total_income</th>\n",
       "      <th>purpose</th>\n",
       "      <th>age_id</th>\n",
       "    </tr>\n",
       "  </thead>\n",
       "  <tbody>\n",
       "    <tr>\n",
       "      <th>16335</th>\n",
       "      <td>1</td>\n",
       "      <td>-18388.949901</td>\n",
       "      <td>61</td>\n",
       "      <td>среднее</td>\n",
       "      <td>1</td>\n",
       "      <td>женат / замужем</td>\n",
       "      <td>0</td>\n",
       "      <td>f</td>\n",
       "      <td>сотрудник</td>\n",
       "      <td>0</td>\n",
       "      <td>186178.934089</td>\n",
       "      <td>операции с недвижимостью</td>\n",
       "      <td>56+</td>\n",
       "    </tr>\n",
       "  </tbody>\n",
       "</table>\n",
       "</div>"
      ],
      "text/plain": [
       "       children  days_employed  dob_years education  education_id  \\\n",
       "16335         1  -18388.949901         61   среднее             1   \n",
       "\n",
       "         family_status  family_status_id gender income_type  debt  \\\n",
       "16335  женат / замужем                 0      f   сотрудник     0   \n",
       "\n",
       "        total_income                   purpose age_id  \n",
       "16335  186178.934089  операции с недвижимостью    56+  "
      ]
     },
     "execution_count": 30,
     "metadata": {},
     "output_type": "execute_result"
    }
   ],
   "source": [
    "df[df['days_employed'] == df[df['days_employed'] < 0]['days_employed'].min()]"
   ]
  },
  {
   "cell_type": "markdown",
   "metadata": {},
   "source": [
    "The age of the client bank is 61 years, while the experience is ~50 years.\n",
    "\n",
    "At the same time, the 25% quantile for the negative values of the days_employed column is 3157 days (or 8.6 years), which means that 75% of records have an experience greater than -3157 (that is, 75% of customers have an experience of less than 8.6 years)."
   ]
  },
  {
   "cell_type": "markdown",
   "metadata": {},
   "source": [
    "**Suggestions for adjusting the `days_employed` column:**\n",
    "- replace positive seniority values with an empty string\n",
    "- take the remaining negative values modulo\n",
    "- fill in the gaps in the column with the average values for the groups `type of employment-type of education-gender-age-marital status`"
   ]
  },
  {
   "cell_type": "markdown",
   "metadata": {},
   "source": [
    "**Replacing positive experience values with an empty string**"
   ]
  },
  {
   "cell_type": "code",
   "execution_count": 31,
   "metadata": {},
   "outputs": [],
   "source": [
    "for i in range(len(df)):\n",
    "    if df.loc[i, 'days_employed'] > 0:\n",
    "        df.loc[i, 'days_employed'] = np.nan"
   ]
  },
  {
   "cell_type": "code",
   "execution_count": 32,
   "metadata": {},
   "outputs": [
    {
     "data": {
      "text/plain": [
       "count    0.0\n",
       "mean     NaN\n",
       "std      NaN\n",
       "min      NaN\n",
       "25%      NaN\n",
       "50%      NaN\n",
       "75%      NaN\n",
       "max      NaN\n",
       "Name: days_employed, dtype: float64"
      ]
     },
     "execution_count": 32,
     "metadata": {},
     "output_type": "execute_result"
    }
   ],
   "source": [
    "### verification\n",
    "df[df['days_employed'] > 0]['days_employed'].describe()"
   ]
  },
  {
   "cell_type": "markdown",
   "metadata": {},
   "source": [
    "**We take the remaining negative values modulo**"
   ]
  },
  {
   "cell_type": "code",
   "execution_count": 33,
   "metadata": {},
   "outputs": [],
   "source": [
    "df['days_employed'] = df['days_employed'].abs()"
   ]
  },
  {
   "cell_type": "code",
   "execution_count": 34,
   "metadata": {},
   "outputs": [
    {
     "data": {
      "text/plain": [
       "24.14163324048118"
      ]
     },
     "execution_count": 34,
     "metadata": {},
     "output_type": "execute_result"
    }
   ],
   "source": [
    "### verification\n",
    "df['days_employed'].min()"
   ]
  },
  {
   "cell_type": "markdown",
   "metadata": {},
   "source": [
    "**Search for characteristic values of experience for subgroups**"
   ]
  },
  {
   "cell_type": "code",
   "execution_count": 35,
   "metadata": {},
   "outputs": [],
   "source": [
    "avg_d_empl = df.groupby(['age_id','family_status_id','income_type','education_id', 'gender'])\\\n",
    "      .agg({'days_employed': ['count', 'sum']}).reset_index()"
   ]
  },
  {
   "cell_type": "code",
   "execution_count": 36,
   "metadata": {},
   "outputs": [],
   "source": [
    "avg_d_empl.columns =  avg_d_empl.columns.droplevel(level = 1)"
   ]
  },
  {
   "cell_type": "code",
   "execution_count": 37,
   "metadata": {},
   "outputs": [],
   "source": [
    "avg_d_empl.columns = ['age_id', 'family_status_id', 'income_type', 'education_id', 'gender','count', 'sum']"
   ]
  },
  {
   "cell_type": "code",
   "execution_count": 38,
   "metadata": {},
   "outputs": [
    {
     "data": {
      "text/plain": [
       "461"
      ]
     },
     "execution_count": 38,
     "metadata": {},
     "output_type": "execute_result"
    }
   ],
   "source": [
    "len(avg_d_empl)"
   ]
  },
  {
   "cell_type": "markdown",
   "metadata": {},
   "source": [
    "We got a large reference table with average values, we will check for the worst condition:\n",
    "     when there were examples in the subgroup, but not a single value of experience was found."
   ]
  },
  {
   "cell_type": "code",
   "execution_count": 39,
   "metadata": {
    "scrolled": true
   },
   "outputs": [
    {
     "data": {
      "text/html": [
       "<div>\n",
       "<style scoped>\n",
       "    .dataframe tbody tr th:only-of-type {\n",
       "        vertical-align: middle;\n",
       "    }\n",
       "\n",
       "    .dataframe tbody tr th {\n",
       "        vertical-align: top;\n",
       "    }\n",
       "\n",
       "    .dataframe thead th {\n",
       "        text-align: right;\n",
       "    }\n",
       "</style>\n",
       "<table border=\"1\" class=\"dataframe\">\n",
       "  <thead>\n",
       "    <tr style=\"text-align: right;\">\n",
       "      <th></th>\n",
       "      <th>age_id</th>\n",
       "      <th>family_status_id</th>\n",
       "      <th>income_type</th>\n",
       "      <th>education_id</th>\n",
       "      <th>gender</th>\n",
       "      <th>count</th>\n",
       "      <th>sum</th>\n",
       "    </tr>\n",
       "  </thead>\n",
       "  <tbody>\n",
       "  </tbody>\n",
       "</table>\n",
       "</div>"
      ],
      "text/plain": [
       "Empty DataFrame\n",
       "Columns: [age_id, family_status_id, income_type, education_id, gender, count, sum]\n",
       "Index: []"
      ]
     },
     "execution_count": 39,
     "metadata": {},
     "output_type": "execute_result"
    }
   ],
   "source": [
    "avg_d_empl[(avg_d_empl['count'] != 0) & (avg_d_empl['sum'] ==  0)].head(5)"
   ]
  },
  {
   "cell_type": "markdown",
   "metadata": {},
   "source": [
    "I added too many groups for the directory, zero values ​​appeared - such a directory will not suit us."
   ]
  },
  {
   "cell_type": "code",
   "execution_count": 40,
   "metadata": {},
   "outputs": [],
   "source": [
    "avg_d_empl = df.groupby(['gender', 'age_id'])\\\n",
    "      .agg({'days_employed': ['count', 'sum']}).reset_index()"
   ]
  },
  {
   "cell_type": "code",
   "execution_count": 41,
   "metadata": {},
   "outputs": [],
   "source": [
    "avg_d_empl.columns =  avg_d_empl.columns.droplevel(level = 1)"
   ]
  },
  {
   "cell_type": "code",
   "execution_count": 42,
   "metadata": {},
   "outputs": [],
   "source": [
    "avg_d_empl.columns = ['gender','age_id','count', 'sum']"
   ]
  },
  {
   "cell_type": "code",
   "execution_count": 43,
   "metadata": {},
   "outputs": [
    {
     "data": {
      "text/html": [
       "<div>\n",
       "<style scoped>\n",
       "    .dataframe tbody tr th:only-of-type {\n",
       "        vertical-align: middle;\n",
       "    }\n",
       "\n",
       "    .dataframe tbody tr th {\n",
       "        vertical-align: top;\n",
       "    }\n",
       "\n",
       "    .dataframe thead th {\n",
       "        text-align: right;\n",
       "    }\n",
       "</style>\n",
       "<table border=\"1\" class=\"dataframe\">\n",
       "  <thead>\n",
       "    <tr style=\"text-align: right;\">\n",
       "      <th></th>\n",
       "      <th>gender</th>\n",
       "      <th>age_id</th>\n",
       "      <th>count</th>\n",
       "      <th>sum</th>\n",
       "    </tr>\n",
       "  </thead>\n",
       "  <tbody>\n",
       "  </tbody>\n",
       "</table>\n",
       "</div>"
      ],
      "text/plain": [
       "Empty DataFrame\n",
       "Columns: [gender, age_id, count, sum]\n",
       "Index: []"
      ]
     },
     "execution_count": 43,
     "metadata": {},
     "output_type": "execute_result"
    }
   ],
   "source": [
    "avg_d_empl[(avg_d_empl['count'] != 0) & (avg_d_empl['sum'] ==  0)].head(5)"
   ]
  },
  {
   "cell_type": "code",
   "execution_count": 44,
   "metadata": {},
   "outputs": [
    {
     "data": {
      "text/plain": [
       "11"
      ]
     },
     "execution_count": 44,
     "metadata": {},
     "output_type": "execute_result"
    }
   ],
   "source": [
    "len(avg_d_empl)"
   ]
  },
  {
   "cell_type": "code",
   "execution_count": 45,
   "metadata": {},
   "outputs": [
    {
     "data": {
      "text/html": [
       "<div>\n",
       "<style scoped>\n",
       "    .dataframe tbody tr th:only-of-type {\n",
       "        vertical-align: middle;\n",
       "    }\n",
       "\n",
       "    .dataframe tbody tr th {\n",
       "        vertical-align: top;\n",
       "    }\n",
       "\n",
       "    .dataframe thead th {\n",
       "        text-align: right;\n",
       "    }\n",
       "</style>\n",
       "<table border=\"1\" class=\"dataframe\">\n",
       "  <thead>\n",
       "    <tr style=\"text-align: right;\">\n",
       "      <th></th>\n",
       "      <th>gender</th>\n",
       "      <th>age_id</th>\n",
       "      <th>count</th>\n",
       "      <th>sum</th>\n",
       "    </tr>\n",
       "  </thead>\n",
       "  <tbody>\n",
       "    <tr>\n",
       "      <th>0</th>\n",
       "      <td>f</td>\n",
       "      <td>0-18</td>\n",
       "      <td>48</td>\n",
       "      <td>1.219516e+05</td>\n",
       "    </tr>\n",
       "    <tr>\n",
       "      <th>1</th>\n",
       "      <td>f</td>\n",
       "      <td>19-25</td>\n",
       "      <td>636</td>\n",
       "      <td>5.901306e+05</td>\n",
       "    </tr>\n",
       "    <tr>\n",
       "      <th>2</th>\n",
       "      <td>f</td>\n",
       "      <td>26-35</td>\n",
       "      <td>2836</td>\n",
       "      <td>4.865908e+06</td>\n",
       "    </tr>\n",
       "    <tr>\n",
       "      <th>3</th>\n",
       "      <td>f</td>\n",
       "      <td>36-55</td>\n",
       "      <td>5619</td>\n",
       "      <td>1.628293e+07</td>\n",
       "    </tr>\n",
       "    <tr>\n",
       "      <th>4</th>\n",
       "      <td>f</td>\n",
       "      <td>56+</td>\n",
       "      <td>806</td>\n",
       "      <td>3.192357e+06</td>\n",
       "    </tr>\n",
       "  </tbody>\n",
       "</table>\n",
       "</div>"
      ],
      "text/plain": [
       "  gender age_id  count           sum\n",
       "0      f   0-18     48  1.219516e+05\n",
       "1      f  19-25    636  5.901306e+05\n",
       "2      f  26-35   2836  4.865908e+06\n",
       "3      f  36-55   5619  1.628293e+07\n",
       "4      f    56+    806  3.192357e+06"
      ]
     },
     "execution_count": 45,
     "metadata": {},
     "output_type": "execute_result"
    }
   ],
   "source": [
    "avg_d_empl.head(5)"
   ]
  },
  {
   "cell_type": "markdown",
   "metadata": {},
   "source": [
    "There are no zero values of the sums, so the table can be used as a reference in this form."
   ]
  },
  {
   "cell_type": "markdown",
   "metadata": {},
   "source": [
    "**We pull the values from the reference book into our main table**"
   ]
  },
  {
   "cell_type": "code",
   "execution_count": 46,
   "metadata": {},
   "outputs": [],
   "source": [
    "df = df.merge(avg_d_empl, on=['age_id','gender'], how='left')"
   ]
  },
  {
   "cell_type": "code",
   "execution_count": 47,
   "metadata": {},
   "outputs": [],
   "source": [
    "df['days_employed'] = np.where(df['days_employed'].isnull(), df['sum'], df['days_employed'])"
   ]
  },
  {
   "cell_type": "code",
   "execution_count": 48,
   "metadata": {},
   "outputs": [],
   "source": [
    "df.drop(['sum', 'count'], axis=1, inplace=True)"
   ]
  },
  {
   "cell_type": "code",
   "execution_count": 49,
   "metadata": {},
   "outputs": [
    {
     "data": {
      "text/plain": [
       "count    2.152500e+04\n",
       "mean     1.716391e+06\n",
       "std      4.095927e+06\n",
       "min      2.414163e+01\n",
       "25%      1.025608e+03\n",
       "50%      2.609841e+03\n",
       "75%      1.421790e+06\n",
       "max      1.628293e+07\n",
       "Name: days_employed, dtype: float64"
      ]
     },
     "execution_count": 49,
     "metadata": {},
     "output_type": "execute_result"
    }
   ],
   "source": [
    "### verification\n",
    "df['days_employed'].describe()"
   ]
  },
  {
   "cell_type": "code",
   "execution_count": 50,
   "metadata": {},
   "outputs": [
    {
     "name": "stdout",
     "output_type": "stream",
     "text": [
      "<class 'pandas.core.frame.DataFrame'>\n",
      "Int64Index: 21525 entries, 0 to 21524\n",
      "Data columns (total 13 columns):\n",
      " #   Column            Non-Null Count  Dtype  \n",
      "---  ------            --------------  -----  \n",
      " 0   children          21525 non-null  int64  \n",
      " 1   days_employed     21525 non-null  float64\n",
      " 2   dob_years         21525 non-null  int64  \n",
      " 3   education         21525 non-null  object \n",
      " 4   education_id      21525 non-null  int64  \n",
      " 5   family_status     21525 non-null  object \n",
      " 6   family_status_id  21525 non-null  int64  \n",
      " 7   gender            21525 non-null  object \n",
      " 8   income_type       21525 non-null  object \n",
      " 9   debt              21525 non-null  int64  \n",
      " 10  total_income      19351 non-null  float64\n",
      " 11  purpose           21525 non-null  object \n",
      " 12  age_id            21525 non-null  object \n",
      "dtypes: float64(2), int64(5), object(6)\n",
      "memory usage: 2.3+ MB\n"
     ]
    }
   ],
   "source": [
    "df.info()"
   ]
  },
  {
   "cell_type": "markdown",
   "metadata": {},
   "source": [
    "**Result**\n",
    "Replaced gaps in `days_employed`"
   ]
  },
  {
   "cell_type": "markdown",
   "metadata": {},
   "source": [
    "**Fill in the gaps in the `total_income` column in the same way**\n",
    "The gap situation is simpler here than in the seniority column, since all values in the column are positive.\n",
    "My task will be:\n",
    "- to the search for characteristic values for subgroups\n",
    "- replacement of gaps with characteristic values"
   ]
  },
  {
   "cell_type": "code",
   "execution_count": 51,
   "metadata": {},
   "outputs": [
    {
     "data": {
      "text/plain": [
       "count    1.935100e+04\n",
       "mean     1.674223e+05\n",
       "std      1.029716e+05\n",
       "min      2.066726e+04\n",
       "25%      1.030532e+05\n",
       "50%      1.450179e+05\n",
       "75%      2.034351e+05\n",
       "max      2.265604e+06\n",
       "Name: total_income, dtype: float64"
      ]
     },
     "execution_count": 51,
     "metadata": {},
     "output_type": "execute_result"
    }
   ],
   "source": [
    "df['total_income'].describe()"
   ]
  },
  {
   "cell_type": "code",
   "execution_count": 52,
   "metadata": {},
   "outputs": [],
   "source": [
    "avg_inc = df.groupby(['gender', 'age_id'])\\\n",
    "      .agg({'total_income': ['count', 'sum']}).reset_index()"
   ]
  },
  {
   "cell_type": "code",
   "execution_count": 53,
   "metadata": {},
   "outputs": [],
   "source": [
    "avg_inc.columns =  avg_inc.columns.droplevel(level = 1)"
   ]
  },
  {
   "cell_type": "code",
   "execution_count": 54,
   "metadata": {},
   "outputs": [],
   "source": [
    "avg_inc.columns = ['gender','age_id','count', 'sum']"
   ]
  },
  {
   "cell_type": "code",
   "execution_count": 55,
   "metadata": {},
   "outputs": [
    {
     "data": {
      "text/html": [
       "<div>\n",
       "<style scoped>\n",
       "    .dataframe tbody tr th:only-of-type {\n",
       "        vertical-align: middle;\n",
       "    }\n",
       "\n",
       "    .dataframe tbody tr th {\n",
       "        vertical-align: top;\n",
       "    }\n",
       "\n",
       "    .dataframe thead th {\n",
       "        text-align: right;\n",
       "    }\n",
       "</style>\n",
       "<table border=\"1\" class=\"dataframe\">\n",
       "  <thead>\n",
       "    <tr style=\"text-align: right;\">\n",
       "      <th></th>\n",
       "      <th>gender</th>\n",
       "      <th>age_id</th>\n",
       "      <th>count</th>\n",
       "      <th>sum</th>\n",
       "    </tr>\n",
       "  </thead>\n",
       "  <tbody>\n",
       "  </tbody>\n",
       "</table>\n",
       "</div>"
      ],
      "text/plain": [
       "Empty DataFrame\n",
       "Columns: [gender, age_id, count, sum]\n",
       "Index: []"
      ]
     },
     "execution_count": 55,
     "metadata": {},
     "output_type": "execute_result"
    }
   ],
   "source": [
    "avg_inc[(avg_inc['count'] != 0) & (avg_inc['sum'] ==  0)].head(5)"
   ]
  },
  {
   "cell_type": "code",
   "execution_count": 56,
   "metadata": {},
   "outputs": [
    {
     "data": {
      "text/plain": [
       "11"
      ]
     },
     "execution_count": 56,
     "metadata": {},
     "output_type": "execute_result"
    }
   ],
   "source": [
    "len(avg_inc)"
   ]
  },
  {
   "cell_type": "markdown",
   "metadata": {},
   "source": [
    "**We pull the values from the reference book into our main table**"
   ]
  },
  {
   "cell_type": "code",
   "execution_count": 57,
   "metadata": {},
   "outputs": [],
   "source": [
    "df = df.merge(avg_inc, on=['age_id','gender'], how='left')\n",
    "df['total_income'] = np.where(df['total_income'].isnull(), df['sum'], df['total_income'])\n",
    "df.drop(['sum', 'count'], axis=1, inplace=True)"
   ]
  },
  {
   "cell_type": "code",
   "execution_count": 58,
   "metadata": {},
   "outputs": [
    {
     "data": {
      "text/plain": [
       "count    2.152500e+04\n",
       "mean     6.250003e+07\n",
       "std      2.097614e+08\n",
       "min      2.066726e+04\n",
       "25%      1.077982e+05\n",
       "50%      1.564003e+05\n",
       "75%      2.377920e+05\n",
       "max      1.003516e+09\n",
       "Name: total_income, dtype: float64"
      ]
     },
     "execution_count": 58,
     "metadata": {},
     "output_type": "execute_result"
    }
   ],
   "source": [
    "### verification\n",
    "df['total_income'].describe()"
   ]
  },
  {
   "cell_type": "code",
   "execution_count": 59,
   "metadata": {},
   "outputs": [
    {
     "name": "stdout",
     "output_type": "stream",
     "text": [
      "<class 'pandas.core.frame.DataFrame'>\n",
      "Int64Index: 21525 entries, 0 to 21524\n",
      "Data columns (total 13 columns):\n",
      " #   Column            Non-Null Count  Dtype  \n",
      "---  ------            --------------  -----  \n",
      " 0   children          21525 non-null  int64  \n",
      " 1   days_employed     21525 non-null  float64\n",
      " 2   dob_years         21525 non-null  int64  \n",
      " 3   education         21525 non-null  object \n",
      " 4   education_id      21525 non-null  int64  \n",
      " 5   family_status     21525 non-null  object \n",
      " 6   family_status_id  21525 non-null  int64  \n",
      " 7   gender            21525 non-null  object \n",
      " 8   income_type       21525 non-null  object \n",
      " 9   debt              21525 non-null  int64  \n",
      " 10  total_income      21525 non-null  float64\n",
      " 11  purpose           21525 non-null  object \n",
      " 12  age_id            21525 non-null  object \n",
      "dtypes: float64(2), int64(5), object(6)\n",
      "memory usage: 2.3+ MB\n"
     ]
    }
   ],
   "source": [
    "df.info()"
   ]
  },
  {
   "cell_type": "markdown",
   "metadata": {},
   "source": [
    "**Result**\n",
    "Replaced gaps in `total_income`"
   ]
  },
  {
   "cell_type": "markdown",
   "metadata": {},
   "source": [
    "**Conclusion**"
   ]
  },
  {
   "cell_type": "markdown",
   "metadata": {},
   "source": [
    "- At this point, in addition to the gaps, I took the liberty of correcting all other shortcomings in the data set\n",
    "- I did not use the `.fillna()` method to replace gaps, because for this purpose I made a reference book with characteristic values ​​​​for subgroups (I went the more complicated way)\n",
    "\n",
    "In data review, I found gap issues in two columns `days_employed` and `total_income`\n",
    "\n",
    "- In both cases, gaps in *quantitative variables*.\n",
    "- Also, gaps in both columns are random, and wherever there is a gap `days_employed` there is a gap `total_income` and vice versa\n",
    "- Gaps in such variables are filled with *characteristic values*.\n",
    "\n",
    "**Possible reason for gaps**\n",
    "- The bank does not always know everything about the salary and seniority of the client, for example, if this is an incoming application from a new client who has never been served by this bank before. At the same time, the client can leave an application on the site, and the bank must decide on the issuance based on the data indicated in the questionnaire (in our case, information about the length of service and income level was not filled out)\n",
    "- There may also be typos when entering data\n",
    "- Or technical errors, like with the `days_employed` field"
   ]
  },
  {
   "cell_type": "markdown",
   "metadata": {},
   "source": [
    "### Replacing the data type"
   ]
  },
  {
   "cell_type": "markdown",
   "metadata": {},
   "source": [
    "Even at the data review stage, I found:\n",
    "- Data types in `days_employed` and `total_income` columns, current type is real, but more logical - integer\n",
    "\n",
    "We removed the gaps in the last paragraph, so there should be no problems."
   ]
  },
  {
   "cell_type": "code",
   "execution_count": 60,
   "metadata": {},
   "outputs": [],
   "source": [
    "cols = ['days_employed', 'total_income']\n",
    "df[cols] = df[cols].astype(int)"
   ]
  },
  {
   "cell_type": "code",
   "execution_count": 61,
   "metadata": {},
   "outputs": [
    {
     "name": "stdout",
     "output_type": "stream",
     "text": [
      "<class 'pandas.core.frame.DataFrame'>\n",
      "Int64Index: 21525 entries, 0 to 21524\n",
      "Data columns (total 13 columns):\n",
      " #   Column            Non-Null Count  Dtype \n",
      "---  ------            --------------  ----- \n",
      " 0   children          21525 non-null  int64 \n",
      " 1   days_employed     21525 non-null  int64 \n",
      " 2   dob_years         21525 non-null  int64 \n",
      " 3   education         21525 non-null  object\n",
      " 4   education_id      21525 non-null  int64 \n",
      " 5   family_status     21525 non-null  object\n",
      " 6   family_status_id  21525 non-null  int64 \n",
      " 7   gender            21525 non-null  object\n",
      " 8   income_type       21525 non-null  object\n",
      " 9   debt              21525 non-null  int64 \n",
      " 10  total_income      21525 non-null  int64 \n",
      " 11  purpose           21525 non-null  object\n",
      " 12  age_id            21525 non-null  object\n",
      "dtypes: int64(7), object(6)\n",
      "memory usage: 2.3+ MB\n"
     ]
    }
   ],
   "source": [
    "df.info()"
   ]
  },
  {
   "cell_type": "markdown",
   "metadata": {},
   "source": [
    "**Conclusion**\n",
    "\n",
    "This point of the study turned out to be somewhat small.\n",
    "Let's answer the main questions:\n",
    "- for columns days_employed and total_income the data type was changed from real to integer\n",
    "- the `astype()` translation method was used, we know from the lectures that when using the `to_numeric()` method, all numbers will have the *float* data type, and in this case we need *int* and the `astype method ()` allows you to specify it."
   ]
  },
  {
   "cell_type": "markdown",
   "metadata": {},
   "source": [
    "### Handling duplicates"
   ]
  },
  {
   "cell_type": "markdown",
   "metadata": {},
   "source": [
    "After all the data manipulation and corrections, we can finally look for duplicates.\n",
    "Obvious duplicates:"
   ]
  },
  {
   "cell_type": "code",
   "execution_count": 62,
   "metadata": {},
   "outputs": [
    {
     "data": {
      "text/plain": [
       "21525"
      ]
     },
     "execution_count": 62,
     "metadata": {},
     "output_type": "execute_result"
    }
   ],
   "source": [
    "### data array before deleting duplicates\n",
    "len(df)"
   ]
  },
  {
   "cell_type": "code",
   "execution_count": 63,
   "metadata": {},
   "outputs": [
    {
     "data": {
      "text/plain": [
       "71"
      ]
     },
     "execution_count": 63,
     "metadata": {},
     "output_type": "execute_result"
    }
   ],
   "source": [
    "df.duplicated().sum()"
   ]
  },
  {
   "cell_type": "code",
   "execution_count": 64,
   "metadata": {},
   "outputs": [],
   "source": [
    "df = df.drop_duplicates()\n",
    "df = df.dropna().reset_index(drop = True)"
   ]
  },
  {
   "cell_type": "code",
   "execution_count": 65,
   "metadata": {},
   "outputs": [
    {
     "data": {
      "text/plain": [
       "0"
      ]
     },
     "execution_count": 65,
     "metadata": {},
     "output_type": "execute_result"
    }
   ],
   "source": [
    "## verification\n",
    "df.duplicated().sum()"
   ]
  },
  {
   "cell_type": "code",
   "execution_count": 66,
   "metadata": {},
   "outputs": [
    {
     "data": {
      "text/plain": [
       "21454"
      ]
     },
     "execution_count": 66,
     "metadata": {},
     "output_type": "execute_result"
    }
   ],
   "source": [
    "len(df)"
   ]
  },
  {
   "cell_type": "markdown",
   "metadata": {},
   "source": [
    "**Conclusion**\n",
    "\n",
    "- Obvious duplicates have been removed in this item of the study\n",
    "- By condition, we do not know the unique client ID, so we can dedupe by those columns that are given to us in the task, while we have already corrected all possible inaccuracies and typos earlier, which is why I applied the `drop_duplicates()` method to the entire array without selecting groups columns\n",
    "- The reason for the appearance of duplicates in our task, in addition to a technical failure, may be the repeated sending of an application by the same client with the same data"
   ]
  },
  {
   "cell_type": "markdown",
   "metadata": {},
   "source": [
    "### Lemmatization"
   ]
  },
  {
   "cell_type": "markdown",
   "metadata": {},
   "source": [
    "Let's lemmitize the column containing the description of the purpose of the loan - `purpose`.      \n",
    "**Lemmatization** - bringing a word to its dictionary form (lemma).\n",
    "\n",
    "Recording forms in the dictionary of Russian words:\n",
    "- for nouns - nominative case, singular\n",
    "- for adjectives - nominative case, singular, masculine\n",
    "- for verbs, participles, gerunds - a verb in the infinitive of the imperfect form."
   ]
  },
  {
   "cell_type": "code",
   "execution_count": 65,
   "metadata": {},
   "outputs": [],
   "source": [
    "from pymystem3 import Mystem\n",
    "m = Mystem()"
   ]
  },
  {
   "cell_type": "markdown",
   "metadata": {},
   "source": [
    "My idea is to collect a large list of all lemmas throughout the array and understand the most frequently occurring words in order to understand the purpose of the loan. "
   ]
  },
  {
   "cell_type": "code",
   "execution_count": 66,
   "metadata": {},
   "outputs": [],
   "source": [
    "lemmas = []\n",
    "for i in range(len(df)):\n",
    "    try:\n",
    "        lemmas +=  m.lemmatize(df.loc[i, 'purpose'])\n",
    "    except:\n",
    "        lemmas += ''"
   ]
  },
  {
   "cell_type": "code",
   "execution_count": 67,
   "metadata": {},
   "outputs": [],
   "source": [
    "from collections import Counter"
   ]
  },
  {
   "cell_type": "code",
   "execution_count": 68,
   "metadata": {},
   "outputs": [
    {
     "name": "stdout",
     "output_type": "stream",
     "text": [
      "Counter({' ': 33570, '\\n': 21454, 'недвижимость': 6351, 'покупка': 5897, 'жилье': 4460, 'автомобиль': 4306, 'образование': 4013, 'с': 2918, 'операция': 2604, 'свадьба': 2324, 'свой': 2230, 'на': 2222, 'строительство': 1878, 'высокий': 1374, 'получение': 1314, 'коммерческий': 1311, 'для': 1289, 'жилой': 1230, 'сделка': 941, 'дополнительный': 906, 'заниматься': 904, 'проведение': 768, 'сыграть': 765, 'сдача': 651, 'семья': 638, 'собственный': 635, 'со': 627, 'ремонт': 607, 'подержанный': 486, 'подержать': 478, 'приобретение': 461, 'профильный': 436})\n"
     ]
    }
   ],
   "source": [
    "print(Counter(lemmas)) "
   ]
  },
  {
   "cell_type": "markdown",
   "metadata": {},
   "source": [
    "**Conclusion**\n",
    "\n",
    "- conducted **lemmitization** (bringing a word to its dictionary form) of texts in the `loan purpose` column\n",
    "- the main purposes of acquiring a loan include:\n",
    "     - real estate and housing (operations or construction)\n",
    "     - automobile\n",
    "     - education\n",
    "     - wedding\n",
    "- the resulting representation will help for further research (categorization and study of data dependencies)"
   ]
  },
  {
   "cell_type": "markdown",
   "metadata": {},
   "source": [
    "### Data categorization"
   ]
  },
  {
   "cell_type": "markdown",
   "metadata": {},
   "source": [
    "**Categorization** - combining data into categories based on a common feature.   \n",
    "Previously, I already performed this operation with `client age`, now you need to do the same for `income` and `loan purpose`.  \n",
    "\n",
    "This will make it easier to work with the data and make it easier to find patterns in them."
   ]
  },
  {
   "cell_type": "code",
   "execution_count": 69,
   "metadata": {},
   "outputs": [],
   "source": [
    "def inc_group(income):\n",
    "    if income <= 100000:\n",
    "        return '0-100'\n",
    "    elif  income > 100000 and income <= 150000:\n",
    "        return '100-150'\n",
    "    elif  income > 150000 and income <= 250000:\n",
    "        return '150-250'\n",
    "    elif  income > 250000:\n",
    "        return '250+'\n",
    "    else:\n",
    "        return 'other'"
   ]
  },
  {
   "cell_type": "code",
   "execution_count": 70,
   "metadata": {},
   "outputs": [
    {
     "data": {
      "text/html": [
       "<div>\n",
       "<style scoped>\n",
       "    .dataframe tbody tr th:only-of-type {\n",
       "        vertical-align: middle;\n",
       "    }\n",
       "\n",
       "    .dataframe tbody tr th {\n",
       "        vertical-align: top;\n",
       "    }\n",
       "\n",
       "    .dataframe thead th {\n",
       "        text-align: right;\n",
       "    }\n",
       "</style>\n",
       "<table border=\"1\" class=\"dataframe\">\n",
       "  <thead>\n",
       "    <tr style=\"text-align: right;\">\n",
       "      <th></th>\n",
       "      <th>education_id</th>\n",
       "    </tr>\n",
       "    <tr>\n",
       "      <th>inc_group</th>\n",
       "      <th></th>\n",
       "    </tr>\n",
       "  </thead>\n",
       "  <tbody>\n",
       "    <tr>\n",
       "      <td>0-100</td>\n",
       "      <td>4463</td>\n",
       "    </tr>\n",
       "    <tr>\n",
       "      <td>100-150</td>\n",
       "      <td>5704</td>\n",
       "    </tr>\n",
       "    <tr>\n",
       "      <td>150-250</td>\n",
       "      <td>6372</td>\n",
       "    </tr>\n",
       "    <tr>\n",
       "      <td>250+</td>\n",
       "      <td>4915</td>\n",
       "    </tr>\n",
       "  </tbody>\n",
       "</table>\n",
       "</div>"
      ],
      "text/plain": [
       "           education_id\n",
       "inc_group              \n",
       "0-100              4463\n",
       "100-150            5704\n",
       "150-250            6372\n",
       "250+               4915"
      ]
     },
     "execution_count": 70,
     "metadata": {},
     "output_type": "execute_result"
    }
   ],
   "source": [
    "df['inc_group'] = df['total_income'].apply(inc_group)\n",
    "### verification\n",
    "df.groupby(['inc_group'])[['education_id']].count()"
   ]
  },
  {
   "cell_type": "markdown",
   "metadata": {},
   "source": [
    "In the **Lemmitization** section, we have identified the most popular loan purposes, it will be convenient to create a `purpose_type` category column in our dataset."
   ]
  },
  {
   "cell_type": "code",
   "execution_count": 71,
   "metadata": {},
   "outputs": [],
   "source": [
    "for i in range(len(df)):\n",
    "    try:\n",
    "        if 'недвижимость' in m.lemmatize(df.loc[i, 'purpose']) or 'жилье' in m.lemmatize(df.loc[i, 'purpose']):\n",
    "            df.loc[i,'purpose_type'] = 'недвижимость'\n",
    "        elif 'автомобиль' in m.lemmatize(df.loc[i, 'purpose']):\n",
    "            df.loc[i,'purpose_type'] = 'автомобиль'\n",
    "        elif 'образование' in m.lemmatize(df.loc[i, 'purpose']):\n",
    "            df.loc[i,'purpose_type'] = 'образование'\n",
    "        elif 'свадьба' in m.lemmatize(df.loc[i, 'purpose']):\n",
    "            df.loc[i,'purpose_type'] = 'свадьба'\n",
    "        else:\n",
    "            df.loc[i,'purpose_type'] = 'прочее'\n",
    "    except:\n",
    "        df.loc[i,'purpose_type'] = ''"
   ]
  },
  {
   "cell_type": "code",
   "execution_count": 72,
   "metadata": {},
   "outputs": [
    {
     "data": {
      "text/plain": [
       "недвижимость    10811\n",
       "автомобиль       4306\n",
       "образование      4013\n",
       "свадьба          2324\n",
       "Name: purpose_type, dtype: int64"
      ]
     },
     "execution_count": 72,
     "metadata": {},
     "output_type": "execute_result"
    }
   ],
   "source": [
    "df['purpose_type'].value_counts()"
   ]
  },
  {
   "cell_type": "code",
   "execution_count": 73,
   "metadata": {},
   "outputs": [
    {
     "data": {
      "text/plain": [
       "36-55    10434\n",
       "26-35     5351\n",
       "56+       4336\n",
       "19-25     1232\n",
       "0-18       101\n",
       "Name: age_id, dtype: int64"
      ]
     },
     "execution_count": 73,
     "metadata": {},
     "output_type": "execute_result"
    }
   ],
   "source": [
    "df['age_id'].value_counts()"
   ]
  },
  {
   "cell_type": "markdown",
   "metadata": {},
   "source": [
    "**Conclusion**"
   ]
  },
  {
   "cell_type": "markdown",
   "metadata": {},
   "source": [
    "- the data was categorized by the columns `age of the client` and `loan purpose`\n",
    "- the most popular loan purpose is *real estate* (acquisition or construction)\n",
    "- the main age category of borrowers - *36-55 years*"
   ]
  },
  {
   "cell_type": "markdown",
   "metadata": {},
   "source": [
    "## Step 3: Answer the questions"
   ]
  },
  {
   "cell_type": "markdown",
   "metadata": {},
   "source": [
    "- Is there a relationship between marital status and loan repayment on time?"
   ]
  },
  {
   "cell_type": "code",
   "execution_count": 74,
   "metadata": {},
   "outputs": [],
   "source": [
    "pivot_chld = df.pivot_table(\n",
    "      values=['age_id'], index='children', columns='debt',fill_value=0, aggfunc='count')"
   ]
  },
  {
   "cell_type": "code",
   "execution_count": 75,
   "metadata": {},
   "outputs": [],
   "source": [
    "### Added a line total\n",
    "pivot_chld['total'] = pivot_chld['age_id'][0] + pivot_chld['age_id'][1]"
   ]
  },
  {
   "cell_type": "code",
   "execution_count": 76,
   "metadata": {},
   "outputs": [],
   "source": [
    "### Calculate the share of the total\n",
    "pivot_chld['0_%%'] = round(pivot_chld['age_id'][0]*100/pivot_chld['total'], 1)\n",
    "pivot_chld['1_%%'] = round(pivot_chld['age_id'][1]*100/pivot_chld['total'], 1)"
   ]
  },
  {
   "cell_type": "code",
   "execution_count": 77,
   "metadata": {},
   "outputs": [
    {
     "data": {
      "text/html": [
       "<div>\n",
       "<style scoped>\n",
       "    .dataframe tbody tr th:only-of-type {\n",
       "        vertical-align: middle;\n",
       "    }\n",
       "\n",
       "    .dataframe tbody tr th {\n",
       "        vertical-align: top;\n",
       "    }\n",
       "\n",
       "    .dataframe thead tr th {\n",
       "        text-align: left;\n",
       "    }\n",
       "\n",
       "    .dataframe thead tr:last-of-type th {\n",
       "        text-align: right;\n",
       "    }\n",
       "</style>\n",
       "<table border=\"1\" class=\"dataframe\">\n",
       "  <thead>\n",
       "    <tr>\n",
       "      <th></th>\n",
       "      <th colspan=\"2\" halign=\"left\">age_id</th>\n",
       "      <th>total</th>\n",
       "      <th>0_%%</th>\n",
       "      <th>1_%%</th>\n",
       "    </tr>\n",
       "    <tr>\n",
       "      <th>debt</th>\n",
       "      <th>0</th>\n",
       "      <th>1</th>\n",
       "      <th></th>\n",
       "      <th></th>\n",
       "      <th></th>\n",
       "    </tr>\n",
       "    <tr>\n",
       "      <th>children</th>\n",
       "      <th></th>\n",
       "      <th></th>\n",
       "      <th></th>\n",
       "      <th></th>\n",
       "      <th></th>\n",
       "    </tr>\n",
       "  </thead>\n",
       "  <tbody>\n",
       "    <tr>\n",
       "      <td>0</td>\n",
       "      <td>13028</td>\n",
       "      <td>1063</td>\n",
       "      <td>14091</td>\n",
       "      <td>92.5</td>\n",
       "      <td>7.5</td>\n",
       "    </tr>\n",
       "    <tr>\n",
       "      <td>1</td>\n",
       "      <td>4410</td>\n",
       "      <td>445</td>\n",
       "      <td>4855</td>\n",
       "      <td>90.8</td>\n",
       "      <td>9.2</td>\n",
       "    </tr>\n",
       "    <tr>\n",
       "      <td>2</td>\n",
       "      <td>1926</td>\n",
       "      <td>202</td>\n",
       "      <td>2128</td>\n",
       "      <td>90.5</td>\n",
       "      <td>9.5</td>\n",
       "    </tr>\n",
       "    <tr>\n",
       "      <td>3</td>\n",
       "      <td>303</td>\n",
       "      <td>27</td>\n",
       "      <td>330</td>\n",
       "      <td>91.8</td>\n",
       "      <td>8.2</td>\n",
       "    </tr>\n",
       "    <tr>\n",
       "      <td>4</td>\n",
       "      <td>37</td>\n",
       "      <td>4</td>\n",
       "      <td>41</td>\n",
       "      <td>90.2</td>\n",
       "      <td>9.8</td>\n",
       "    </tr>\n",
       "    <tr>\n",
       "      <td>5</td>\n",
       "      <td>9</td>\n",
       "      <td>0</td>\n",
       "      <td>9</td>\n",
       "      <td>100.0</td>\n",
       "      <td>0.0</td>\n",
       "    </tr>\n",
       "  </tbody>\n",
       "</table>\n",
       "</div>"
      ],
      "text/plain": [
       "         age_id        total   0_%% 1_%%\n",
       "debt          0     1                   \n",
       "children                                \n",
       "0         13028  1063  14091   92.5  7.5\n",
       "1          4410   445   4855   90.8  9.2\n",
       "2          1926   202   2128   90.5  9.5\n",
       "3           303    27    330   91.8  8.2\n",
       "4            37     4     41   90.2  9.8\n",
       "5             9     0      9  100.0  0.0"
      ]
     },
     "execution_count": 77,
     "metadata": {},
     "output_type": "execute_result"
    }
   ],
   "source": [
    "pivot_chld"
   ]
  },
  {
   "cell_type": "markdown",
   "metadata": {},
   "source": [
    "**Conclusion**"
   ]
  },
  {
   "cell_type": "markdown",
   "metadata": {},
   "source": [
    "Such a dependence is indeed traced:\n",
    "- for borrowers without children, the probability of default is 7.5%\n",
    "- for borrowers with children, the probability of default is higher than 8.2%, while the probability of non-payment increases as the number of children grows (the exception is families with 3 and 5 children, but since the sample is small, %% metrics are very sensitive to small deviations in absolute numbers)"
   ]
  },
  {
   "cell_type": "markdown",
   "metadata": {},
   "source": [
    "- Is there a relationship between the level of income and repayment of the loan on time?"
   ]
  },
  {
   "cell_type": "code",
   "execution_count": 78,
   "metadata": {},
   "outputs": [],
   "source": [
    "pivot_inc = df.pivot_table(\n",
    "      values=['age_id'], index='inc_group', columns='debt',fill_value=0, aggfunc='count')"
   ]
  },
  {
   "cell_type": "code",
   "execution_count": 79,
   "metadata": {},
   "outputs": [],
   "source": [
    "### Added a line total\n",
    "pivot_inc['total'] = pivot_inc['age_id'][0] + pivot_inc['age_id'][1]"
   ]
  },
  {
   "cell_type": "code",
   "execution_count": 80,
   "metadata": {},
   "outputs": [],
   "source": [
    "### Calculate the share of the total\n",
    "pivot_inc['0_%%'] = round(pivot_inc['age_id'][0]*100/pivot_inc['total'], 1)\n",
    "pivot_inc['1_%%'] = round(pivot_inc['age_id'][1]*100/pivot_inc['total'], 1)"
   ]
  },
  {
   "cell_type": "code",
   "execution_count": 81,
   "metadata": {},
   "outputs": [
    {
     "data": {
      "text/html": [
       "<div>\n",
       "<style scoped>\n",
       "    .dataframe tbody tr th:only-of-type {\n",
       "        vertical-align: middle;\n",
       "    }\n",
       "\n",
       "    .dataframe tbody tr th {\n",
       "        vertical-align: top;\n",
       "    }\n",
       "\n",
       "    .dataframe thead tr th {\n",
       "        text-align: left;\n",
       "    }\n",
       "\n",
       "    .dataframe thead tr:last-of-type th {\n",
       "        text-align: right;\n",
       "    }\n",
       "</style>\n",
       "<table border=\"1\" class=\"dataframe\">\n",
       "  <thead>\n",
       "    <tr>\n",
       "      <th></th>\n",
       "      <th colspan=\"2\" halign=\"left\">age_id</th>\n",
       "      <th>total</th>\n",
       "      <th>0_%%</th>\n",
       "      <th>1_%%</th>\n",
       "    </tr>\n",
       "    <tr>\n",
       "      <th>debt</th>\n",
       "      <th>0</th>\n",
       "      <th>1</th>\n",
       "      <th></th>\n",
       "      <th></th>\n",
       "      <th></th>\n",
       "    </tr>\n",
       "    <tr>\n",
       "      <th>inc_group</th>\n",
       "      <th></th>\n",
       "      <th></th>\n",
       "      <th></th>\n",
       "      <th></th>\n",
       "      <th></th>\n",
       "    </tr>\n",
       "  </thead>\n",
       "  <tbody>\n",
       "    <tr>\n",
       "      <td>0-100</td>\n",
       "      <td>4109</td>\n",
       "      <td>354</td>\n",
       "      <td>4463</td>\n",
       "      <td>92.1</td>\n",
       "      <td>7.9</td>\n",
       "    </tr>\n",
       "    <tr>\n",
       "      <td>100-150</td>\n",
       "      <td>5213</td>\n",
       "      <td>491</td>\n",
       "      <td>5704</td>\n",
       "      <td>91.4</td>\n",
       "      <td>8.6</td>\n",
       "    </tr>\n",
       "    <tr>\n",
       "      <td>150-250</td>\n",
       "      <td>5840</td>\n",
       "      <td>532</td>\n",
       "      <td>6372</td>\n",
       "      <td>91.7</td>\n",
       "      <td>8.3</td>\n",
       "    </tr>\n",
       "    <tr>\n",
       "      <td>250+</td>\n",
       "      <td>4551</td>\n",
       "      <td>364</td>\n",
       "      <td>4915</td>\n",
       "      <td>92.6</td>\n",
       "      <td>7.4</td>\n",
       "    </tr>\n",
       "  </tbody>\n",
       "</table>\n",
       "</div>"
      ],
      "text/plain": [
       "          age_id      total  0_%% 1_%%\n",
       "debt           0    1                 \n",
       "inc_group                             \n",
       "0-100       4109  354  4463  92.1  7.9\n",
       "100-150     5213  491  5704  91.4  8.6\n",
       "150-250     5840  532  6372  91.7  8.3\n",
       "250+        4551  364  4915  92.6  7.4"
      ]
     },
     "execution_count": 81,
     "metadata": {},
     "output_type": "execute_result"
    }
   ],
   "source": [
    "pivot_inc"
   ]
  },
  {
   "cell_type": "markdown",
   "metadata": {},
   "source": [
    "**Additionally**  \n",
    "It is interesting how borrowers with an income of 0-100 are distributed by age groups.\n",
    "Suddenly there are many very young borrowers who are simply not approved for loans due to their age."
   ]
  },
  {
   "cell_type": "code",
   "execution_count": 82,
   "metadata": {},
   "outputs": [],
   "source": [
    "pivot_inc_age = df.pivot_table(\n",
    "      values=['children'], index=['inc_group','age_id'], columns='debt',fill_value=0, aggfunc='count')"
   ]
  },
  {
   "cell_type": "code",
   "execution_count": 83,
   "metadata": {},
   "outputs": [
    {
     "data": {
      "text/html": [
       "<div>\n",
       "<style scoped>\n",
       "    .dataframe tbody tr th:only-of-type {\n",
       "        vertical-align: middle;\n",
       "    }\n",
       "\n",
       "    .dataframe tbody tr th {\n",
       "        vertical-align: top;\n",
       "    }\n",
       "\n",
       "    .dataframe thead tr th {\n",
       "        text-align: left;\n",
       "    }\n",
       "\n",
       "    .dataframe thead tr:last-of-type th {\n",
       "        text-align: right;\n",
       "    }\n",
       "</style>\n",
       "<table border=\"1\" class=\"dataframe\">\n",
       "  <thead>\n",
       "    <tr>\n",
       "      <th></th>\n",
       "      <th></th>\n",
       "      <th colspan=\"2\" halign=\"left\">children</th>\n",
       "    </tr>\n",
       "    <tr>\n",
       "      <th></th>\n",
       "      <th>debt</th>\n",
       "      <th>0</th>\n",
       "      <th>1</th>\n",
       "    </tr>\n",
       "    <tr>\n",
       "      <th>inc_group</th>\n",
       "      <th>age_id</th>\n",
       "      <th></th>\n",
       "      <th></th>\n",
       "    </tr>\n",
       "  </thead>\n",
       "  <tbody>\n",
       "    <tr>\n",
       "      <td rowspan=\"5\" valign=\"top\">0-100</td>\n",
       "      <td>0-18</td>\n",
       "      <td>22</td>\n",
       "      <td>1</td>\n",
       "    </tr>\n",
       "    <tr>\n",
       "      <td>19-25</td>\n",
       "      <td>267</td>\n",
       "      <td>31</td>\n",
       "    </tr>\n",
       "    <tr>\n",
       "      <td>26-35</td>\n",
       "      <td>855</td>\n",
       "      <td>101</td>\n",
       "    </tr>\n",
       "    <tr>\n",
       "      <td>36-55</td>\n",
       "      <td>1791</td>\n",
       "      <td>158</td>\n",
       "    </tr>\n",
       "    <tr>\n",
       "      <td>56+</td>\n",
       "      <td>1174</td>\n",
       "      <td>63</td>\n",
       "    </tr>\n",
       "  </tbody>\n",
       "</table>\n",
       "</div>"
      ],
      "text/plain": [
       "                 children     \n",
       "debt                    0    1\n",
       "inc_group age_id              \n",
       "0-100     0-18         22    1\n",
       "          19-25       267   31\n",
       "          26-35       855  101\n",
       "          36-55      1791  158\n",
       "          56+        1174   63"
      ]
     },
     "execution_count": 83,
     "metadata": {},
     "output_type": "execute_result"
    }
   ],
   "source": [
    "pivot_inc_age.head(5)"
   ]
  },
  {
   "cell_type": "markdown",
   "metadata": {},
   "source": [
    "The hypothesis was not confirmed"
   ]
  },
  {
   "cell_type": "markdown",
   "metadata": {},
   "source": [
    "**Conclusion**"
   ]
  },
  {
   "cell_type": "markdown",
   "metadata": {},
   "source": [
    "- Borrowers with high income (more than 250 thousand rubles) fall into arrears less than all other categories of income\n",
    "- At the same time, the higher the income, the less likely it is to go into delay\n",
    "- Also, the percentage of delays is low in the category with income from 0 to 100 thousand rubles, this can be explained by the fact that banks approve smaller amounts for them and check them more carefully"
   ]
  },
  {
   "cell_type": "markdown",
   "metadata": {},
   "source": [
    "- How do different purposes of the loan affect its repayment on time?"
   ]
  },
  {
   "cell_type": "code",
   "execution_count": 84,
   "metadata": {},
   "outputs": [],
   "source": [
    "pivot_purp = df.pivot_table(\n",
    "      values=['age_id'], index='purpose_type', columns='debt',fill_value=0, aggfunc='count')"
   ]
  },
  {
   "cell_type": "code",
   "execution_count": 85,
   "metadata": {},
   "outputs": [],
   "source": [
    "### Added a line total\n",
    "pivot_purp['total'] = pivot_purp['age_id'][0] + pivot_purp['age_id'][1]"
   ]
  },
  {
   "cell_type": "code",
   "execution_count": 86,
   "metadata": {},
   "outputs": [],
   "source": [
    "### Calculate the share of the total\n",
    "pivot_purp['0_%%'] = round(pivot_purp['age_id'][0]*100/pivot_purp['total'], 1)\n",
    "pivot_purp['1_%%'] = round(pivot_purp['age_id'][1]*100/pivot_purp['total'], 1)"
   ]
  },
  {
   "cell_type": "code",
   "execution_count": 87,
   "metadata": {},
   "outputs": [
    {
     "data": {
      "text/html": [
       "<div>\n",
       "<style scoped>\n",
       "    .dataframe tbody tr th:only-of-type {\n",
       "        vertical-align: middle;\n",
       "    }\n",
       "\n",
       "    .dataframe tbody tr th {\n",
       "        vertical-align: top;\n",
       "    }\n",
       "\n",
       "    .dataframe thead tr th {\n",
       "        text-align: left;\n",
       "    }\n",
       "\n",
       "    .dataframe thead tr:last-of-type th {\n",
       "        text-align: right;\n",
       "    }\n",
       "</style>\n",
       "<table border=\"1\" class=\"dataframe\">\n",
       "  <thead>\n",
       "    <tr>\n",
       "      <th></th>\n",
       "      <th colspan=\"2\" halign=\"left\">age_id</th>\n",
       "      <th>total</th>\n",
       "      <th>0_%%</th>\n",
       "      <th>1_%%</th>\n",
       "    </tr>\n",
       "    <tr>\n",
       "      <th>debt</th>\n",
       "      <th>0</th>\n",
       "      <th>1</th>\n",
       "      <th></th>\n",
       "      <th></th>\n",
       "      <th></th>\n",
       "    </tr>\n",
       "    <tr>\n",
       "      <th>purpose_type</th>\n",
       "      <th></th>\n",
       "      <th></th>\n",
       "      <th></th>\n",
       "      <th></th>\n",
       "      <th></th>\n",
       "    </tr>\n",
       "  </thead>\n",
       "  <tbody>\n",
       "    <tr>\n",
       "      <td>автомобиль</td>\n",
       "      <td>3903</td>\n",
       "      <td>403</td>\n",
       "      <td>4306</td>\n",
       "      <td>90.6</td>\n",
       "      <td>9.4</td>\n",
       "    </tr>\n",
       "    <tr>\n",
       "      <td>недвижимость</td>\n",
       "      <td>10029</td>\n",
       "      <td>782</td>\n",
       "      <td>10811</td>\n",
       "      <td>92.8</td>\n",
       "      <td>7.2</td>\n",
       "    </tr>\n",
       "    <tr>\n",
       "      <td>образование</td>\n",
       "      <td>3643</td>\n",
       "      <td>370</td>\n",
       "      <td>4013</td>\n",
       "      <td>90.8</td>\n",
       "      <td>9.2</td>\n",
       "    </tr>\n",
       "    <tr>\n",
       "      <td>свадьба</td>\n",
       "      <td>2138</td>\n",
       "      <td>186</td>\n",
       "      <td>2324</td>\n",
       "      <td>92.0</td>\n",
       "      <td>8.0</td>\n",
       "    </tr>\n",
       "  </tbody>\n",
       "</table>\n",
       "</div>"
      ],
      "text/plain": [
       "             age_id       total  0_%% 1_%%\n",
       "debt              0    1                  \n",
       "purpose_type                              \n",
       "автомобиль     3903  403   4306  90.6  9.4\n",
       "недвижимость  10029  782  10811  92.8  7.2\n",
       "образование    3643  370   4013  90.8  9.2\n",
       "свадьба        2138  186   2324  92.0  8.0"
      ]
     },
     "execution_count": 87,
     "metadata": {},
     "output_type": "execute_result"
    }
   ],
   "source": [
    "pivot_purp"
   ]
  },
  {
   "cell_type": "markdown",
   "metadata": {},
   "source": [
    "**Conclusion**"
   ]
  },
  {
   "cell_type": "markdown",
   "metadata": {},
   "source": [
    "The objectives of lending also strongly share risk:\n",
    "- the highest probability of non-repayment of the loan - a loan for the purchase of a car and for education\n",
    "- the lowest risk - for real estate loans"
   ]
  },
  {
   "cell_type": "markdown",
   "metadata": {},
   "source": [
    "- Is there a relationship between marital status and loan repayment on time?"
   ]
  },
  {
   "cell_type": "code",
   "execution_count": 88,
   "metadata": {},
   "outputs": [],
   "source": [
    "pivot_fam = df.pivot_table(\n",
    "      values=['age_id'], index='family_status', columns='debt',fill_value=0, aggfunc='count')"
   ]
  },
  {
   "cell_type": "code",
   "execution_count": 89,
   "metadata": {},
   "outputs": [],
   "source": [
    "### Added a line total\n",
    "pivot_fam['total'] = pivot_fam['age_id'][0] + pivot_fam['age_id'][1]"
   ]
  },
  {
   "cell_type": "code",
   "execution_count": 90,
   "metadata": {},
   "outputs": [],
   "source": [
    "### Calculate the share of the total\n",
    "pivot_fam['0_%%'] = round(pivot_fam['age_id'][0]*100/pivot_fam['total'], 1)\n",
    "pivot_fam['1_%%'] = round(pivot_fam['age_id'][1]*100/pivot_fam['total'], 1)"
   ]
  },
  {
   "cell_type": "code",
   "execution_count": 92,
   "metadata": {},
   "outputs": [
    {
     "data": {
      "text/html": [
       "<div>\n",
       "<style scoped>\n",
       "    .dataframe tbody tr th:only-of-type {\n",
       "        vertical-align: middle;\n",
       "    }\n",
       "\n",
       "    .dataframe tbody tr th {\n",
       "        vertical-align: top;\n",
       "    }\n",
       "\n",
       "    .dataframe thead tr th {\n",
       "        text-align: left;\n",
       "    }\n",
       "\n",
       "    .dataframe thead tr:last-of-type th {\n",
       "        text-align: right;\n",
       "    }\n",
       "</style>\n",
       "<table border=\"1\" class=\"dataframe\">\n",
       "  <thead>\n",
       "    <tr>\n",
       "      <th></th>\n",
       "      <th colspan=\"2\" halign=\"left\">age_id</th>\n",
       "      <th>total</th>\n",
       "      <th>0_%%</th>\n",
       "      <th>1_%%</th>\n",
       "    </tr>\n",
       "    <tr>\n",
       "      <th>debt</th>\n",
       "      <th>0</th>\n",
       "      <th>1</th>\n",
       "      <th></th>\n",
       "      <th></th>\n",
       "      <th></th>\n",
       "    </tr>\n",
       "    <tr>\n",
       "      <th>family_status</th>\n",
       "      <th></th>\n",
       "      <th></th>\n",
       "      <th></th>\n",
       "      <th></th>\n",
       "      <th></th>\n",
       "    </tr>\n",
       "  </thead>\n",
       "  <tbody>\n",
       "    <tr>\n",
       "      <td>в разводе</td>\n",
       "      <td>1110</td>\n",
       "      <td>85</td>\n",
       "      <td>1195</td>\n",
       "      <td>92.9</td>\n",
       "      <td>7.1</td>\n",
       "    </tr>\n",
       "    <tr>\n",
       "      <td>вдовец / вдова</td>\n",
       "      <td>896</td>\n",
       "      <td>63</td>\n",
       "      <td>959</td>\n",
       "      <td>93.4</td>\n",
       "      <td>6.6</td>\n",
       "    </tr>\n",
       "    <tr>\n",
       "      <td>гражданский брак</td>\n",
       "      <td>3763</td>\n",
       "      <td>388</td>\n",
       "      <td>4151</td>\n",
       "      <td>90.7</td>\n",
       "      <td>9.3</td>\n",
       "    </tr>\n",
       "    <tr>\n",
       "      <td>женат / замужем</td>\n",
       "      <td>11408</td>\n",
       "      <td>931</td>\n",
       "      <td>12339</td>\n",
       "      <td>92.5</td>\n",
       "      <td>7.5</td>\n",
       "    </tr>\n",
       "    <tr>\n",
       "      <td>не женат / не замужем</td>\n",
       "      <td>2536</td>\n",
       "      <td>274</td>\n",
       "      <td>2810</td>\n",
       "      <td>90.2</td>\n",
       "      <td>9.8</td>\n",
       "    </tr>\n",
       "  </tbody>\n",
       "</table>\n",
       "</div>"
      ],
      "text/plain": [
       "                      age_id       total  0_%% 1_%%\n",
       "debt                       0    1                  \n",
       "family_status                                      \n",
       "в разводе               1110   85   1195  92.9  7.1\n",
       "вдовец / вдова           896   63    959  93.4  6.6\n",
       "гражданский брак        3763  388   4151  90.7  9.3\n",
       "женат / замужем        11408  931  12339  92.5  7.5\n",
       "не женат / не замужем   2536  274   2810  90.2  9.8"
      ]
     },
     "execution_count": 92,
     "metadata": {},
     "output_type": "execute_result"
    }
   ],
   "source": [
    "pivot_fam"
   ]
  },
  {
   "cell_type": "markdown",
   "metadata": {},
   "source": [
    "**Conclusion**"
   ]
  },
  {
   "cell_type": "markdown",
   "metadata": {},
   "source": [
    "- the highest risk is concentrated in the category of unmarried / unmarried borrowers, as well as among people who are in a civil marriage\n",
    "- at the same time, the lowest among official marriages, as well as people who are divorced, widows / widowers, but there is nothing strange here. The last two categories are the smallest and banks check \"loners\" more carefully (a similar example was with low risk on salary accruals of less than 100 thousand rubles.)"
   ]
  },
  {
   "cell_type": "markdown",
   "metadata": {},
   "source": [
    "## Step 4. General conclusion"
   ]
  },
  {
   "cell_type": "markdown",
   "metadata": {},
   "source": [
    "The project analyzed the bank's borrower base, it was necessary to analyze the client's solvency depending on a number of parameters (number of children, purpose of the loan, income level)\n",
    "\n",
    "The project consisted of two major phases:\n",
    "- data preprocessing and correction of errors and inaccuracies in it\n",
    "- hypothesis testing\n",
    "\n",
    "The first part was the most time consuming (I spent a lot of time on it) and included:\n",
    "- filling in blanks\n",
    "- correction of data types\n",
    "- remove duplicates\n",
    "- text lemmitization (field - purpose of the loan)\n",
    "- categorization of a number of characteristics (age, purpose of the loan, income level)\n",
    "\n",
    "The second part was devoted to the study of the dependence of solvency.\n",
    "Within the framework of this paragraph, conclusions were drawn about the correlation of exit in arrears from:\n",
    "- the number of children in the family (moreover, the more children, the higher the probability of loan default)\n",
    "- income level (the data showed that the higher the income, the lower the probability of default, while there is an exception - in the group of borrowers with an income of less than 100 thousand rubles, there are slightly fewer defaults, since banks approve smaller amounts for such clients and check them more carefully before issuing)\n",
    "- purposes of lending, it was possible to find out that loans for a car and education carry the greatest risk"
   ]
  }
 ],
 "metadata": {
  "ExecuteTimeLog": [
   {
    "duration": 60,
    "start_time": "2021-06-08T16:12:50.356Z"
   },
   {
    "duration": 240,
    "start_time": "2021-06-08T16:15:07.298Z"
   },
   {
    "duration": 538,
    "start_time": "2021-06-08T16:15:20.953Z"
   },
   {
    "duration": 48,
    "start_time": "2021-06-08T16:15:21.492Z"
   },
   {
    "duration": 16,
    "start_time": "2021-06-08T16:15:21.542Z"
   },
   {
    "duration": 12,
    "start_time": "2021-06-08T16:15:22.009Z"
   },
   {
    "duration": 6,
    "start_time": "2021-06-08T16:15:22.134Z"
   },
   {
    "duration": 6,
    "start_time": "2021-06-08T16:15:22.272Z"
   },
   {
    "duration": 12,
    "start_time": "2021-06-08T16:15:22.710Z"
   },
   {
    "duration": 11,
    "start_time": "2021-06-08T16:15:23.038Z"
   },
   {
    "duration": 6,
    "start_time": "2021-06-08T16:15:23.481Z"
   },
   {
    "duration": 6,
    "start_time": "2021-06-08T16:15:23.636Z"
   },
   {
    "duration": 32,
    "start_time": "2021-06-08T16:15:24.109Z"
   },
   {
    "duration": 15,
    "start_time": "2021-06-08T16:15:24.546Z"
   },
   {
    "duration": 3,
    "start_time": "2021-06-08T16:15:25.611Z"
   },
   {
    "duration": 8,
    "start_time": "2021-06-08T16:15:25.917Z"
   },
   {
    "duration": 10,
    "start_time": "2021-06-08T16:15:26.070Z"
   },
   {
    "duration": 78,
    "start_time": "2021-06-08T16:15:26.398Z"
   },
   {
    "duration": 12,
    "start_time": "2021-06-08T16:15:26.544Z"
   },
   {
    "duration": 13,
    "start_time": "2021-06-08T16:15:26.706Z"
   },
   {
    "duration": 5,
    "start_time": "2021-06-08T16:15:27.018Z"
   },
   {
    "duration": 7,
    "start_time": "2021-06-08T16:15:27.163Z"
   },
   {
    "duration": 5,
    "start_time": "2021-06-08T16:15:27.478Z"
   },
   {
    "duration": 5,
    "start_time": "2021-06-08T16:15:27.954Z"
   },
   {
    "duration": 5,
    "start_time": "2021-06-08T16:15:28.106Z"
   },
   {
    "duration": 10,
    "start_time": "2021-06-08T16:15:28.439Z"
   },
   {
    "duration": 13,
    "start_time": "2021-06-08T16:15:28.768Z"
   },
   {
    "duration": 15,
    "start_time": "2021-06-08T16:15:29.114Z"
   },
   {
    "duration": 1324,
    "start_time": "2021-06-08T16:15:29.754Z"
   },
   {
    "duration": 7,
    "start_time": "2021-06-08T16:15:31.080Z"
   },
   {
    "duration": 9,
    "start_time": "2021-06-08T16:15:31.089Z"
   },
   {
    "duration": 14,
    "start_time": "2021-06-08T16:15:31.100Z"
   },
   {
    "duration": 24,
    "start_time": "2021-06-08T16:15:31.116Z"
   },
   {
    "duration": 2,
    "start_time": "2021-06-08T16:15:31.142Z"
   },
   {
    "duration": 8,
    "start_time": "2021-06-08T16:15:31.146Z"
   },
   {
    "duration": 4,
    "start_time": "2021-06-08T16:15:31.263Z"
   },
   {
    "duration": 10,
    "start_time": "2021-06-08T16:15:31.613Z"
   },
   {
    "duration": 12,
    "start_time": "2021-06-08T16:15:31.962Z"
   },
   {
    "duration": 2,
    "start_time": "2021-06-08T16:15:32.127Z"
   },
   {
    "duration": 3,
    "start_time": "2021-06-08T16:15:32.295Z"
   },
   {
    "duration": 9,
    "start_time": "2021-06-08T16:15:32.466Z"
   },
   {
    "duration": 4,
    "start_time": "2021-06-08T16:15:32.624Z"
   },
   {
    "duration": 9,
    "start_time": "2021-06-08T16:15:32.808Z"
   },
   {
    "duration": 26,
    "start_time": "2021-06-08T16:15:33.321Z"
   },
   {
    "duration": 4,
    "start_time": "2021-06-08T16:15:33.680Z"
   },
   {
    "duration": 14,
    "start_time": "2021-06-08T16:15:33.835Z"
   },
   {
    "duration": 9,
    "start_time": "2021-06-08T16:15:34.007Z"
   },
   {
    "duration": 12,
    "start_time": "2021-06-08T16:15:34.192Z"
   },
   {
    "duration": 9,
    "start_time": "2021-06-08T16:15:34.697Z"
   },
   {
    "duration": 12,
    "start_time": "2021-06-08T16:15:34.856Z"
   },
   {
    "duration": 3,
    "start_time": "2021-06-08T16:15:35.029Z"
   },
   {
    "duration": 2,
    "start_time": "2021-06-08T16:15:35.238Z"
   },
   {
    "duration": 8,
    "start_time": "2021-06-08T16:15:35.711Z"
   },
   {
    "duration": 4,
    "start_time": "2021-06-08T16:15:35.874Z"
   },
   {
    "duration": 34,
    "start_time": "2021-06-08T16:15:36.218Z"
   },
   {
    "duration": 9,
    "start_time": "2021-06-08T16:15:36.381Z"
   },
   {
    "duration": 12,
    "start_time": "2021-06-08T16:15:36.541Z"
   },
   {
    "duration": 5,
    "start_time": "2021-06-08T16:15:38.058Z"
   },
   {
    "duration": 13,
    "start_time": "2021-06-08T16:15:38.250Z"
   },
   {
    "duration": 3,
    "start_time": "2021-06-08T16:15:38.944Z"
   },
   {
    "duration": 21,
    "start_time": "2021-06-08T16:15:39.119Z"
   },
   {
    "duration": 29,
    "start_time": "2021-06-08T16:15:39.294Z"
   },
   {
    "duration": 18,
    "start_time": "2021-06-08T16:15:39.465Z"
   },
   {
    "duration": 4,
    "start_time": "2021-06-08T16:15:39.675Z"
   },
   {
    "duration": 4,
    "start_time": "2021-06-08T16:15:40.709Z"
   },
   {
    "duration": 3597,
    "start_time": "2021-06-08T16:15:41.119Z"
   },
   {
    "duration": 2,
    "start_time": "2021-06-08T16:15:44.718Z"
   },
   {
    "duration": 13,
    "start_time": "2021-06-08T16:15:44.722Z"
   },
   {
    "duration": 4,
    "start_time": "2021-06-08T16:15:44.737Z"
   },
   {
    "duration": 46,
    "start_time": "2021-06-08T16:15:44.743Z"
   },
   {
    "duration": 34434,
    "start_time": "2021-06-08T16:15:44.791Z"
   },
   {
    "duration": 8,
    "start_time": "2021-06-08T16:16:19.227Z"
   },
   {
    "duration": 8,
    "start_time": "2021-06-08T16:16:19.238Z"
   },
   {
    "duration": 35,
    "start_time": "2021-06-08T16:16:19.249Z"
   },
   {
    "duration": 8,
    "start_time": "2021-06-08T16:16:19.286Z"
   },
   {
    "duration": 10,
    "start_time": "2021-06-08T16:16:19.295Z"
   },
   {
    "duration": 10,
    "start_time": "2021-06-08T16:16:19.307Z"
   },
   {
    "duration": 15,
    "start_time": "2021-06-08T16:16:19.319Z"
   },
   {
    "duration": 7,
    "start_time": "2021-06-08T16:16:19.335Z"
   },
   {
    "duration": 42,
    "start_time": "2021-06-08T16:16:19.343Z"
   },
   {
    "duration": 10,
    "start_time": "2021-06-08T16:16:19.386Z"
   },
   {
    "duration": 16,
    "start_time": "2021-06-08T16:16:19.397Z"
   },
   {
    "duration": 9,
    "start_time": "2021-06-08T16:16:19.414Z"
   },
   {
    "duration": 14,
    "start_time": "2021-06-08T16:16:19.425Z"
   },
   {
    "duration": 5,
    "start_time": "2021-06-08T16:16:19.440Z"
   },
   {
    "duration": 48,
    "start_time": "2021-06-08T16:16:19.447Z"
   },
   {
    "duration": 15,
    "start_time": "2021-06-08T16:16:19.497Z"
   },
   {
    "duration": 16,
    "start_time": "2021-06-08T16:16:19.515Z"
   },
   {
    "duration": 9,
    "start_time": "2021-06-08T16:17:06.122Z"
   },
   {
    "duration": 11,
    "start_time": "2021-06-08T16:17:06.656Z"
   },
   {
    "duration": 10,
    "start_time": "2021-06-08T16:17:07.181Z"
   },
   {
    "duration": 9,
    "start_time": "2021-06-08T16:17:10.728Z"
   }
  ],
  "kernelspec": {
   "display_name": "Python 3",
   "language": "python",
   "name": "python3"
  },
  "language_info": {
   "codemirror_mode": {
    "name": "ipython",
    "version": 3
   },
   "file_extension": ".py",
   "mimetype": "text/x-python",
   "name": "python",
   "nbconvert_exporter": "python",
   "pygments_lexer": "ipython3",
   "version": "3.8.5"
  },
  "toc": {
   "base_numbering": 1,
   "nav_menu": {},
   "number_sections": true,
   "sideBar": true,
   "skip_h1_title": true,
   "title_cell": "Table of Contents",
   "title_sidebar": "Contents",
   "toc_cell": false,
   "toc_position": {},
   "toc_section_display": true,
   "toc_window_display": false
  }
 },
 "nbformat": 4,
 "nbformat_minor": 2
}
