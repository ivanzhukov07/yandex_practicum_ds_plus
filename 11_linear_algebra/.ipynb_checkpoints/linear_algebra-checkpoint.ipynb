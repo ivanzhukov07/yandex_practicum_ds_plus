{
 "cells": [
  {
   "cell_type": "markdown",
   "metadata": {},
   "source": [
    "# Protection of personal data of clients"
   ]
  },
  {
   "cell_type": "markdown",
   "metadata": {},
   "source": [
    "We need to protect the customer data of the insurance company. Develop a method of data transformation so that it is difficult to recover personal information from them. Justify the correctness of his work.\n",
    "\n",
    "It is necessary to protect the data so that the quality of machine learning models does not deteriorate during the conversion. There is no need to select the best model."
   ]
  },
  {
   "cell_type": "markdown",
   "metadata": {},
   "source": [
    "## Loading data"
   ]
  },
  {
   "cell_type": "markdown",
   "metadata": {},
   "source": [
    "Importing the necessary libraries"
   ]
  },
  {
   "cell_type": "code",
   "execution_count": 1,
   "metadata": {},
   "outputs": [],
   "source": [
    "import pandas as pd\n",
    "import numpy as np\n",
    "import matplotlib.pyplot as plt\n",
    "import seaborn as sns\n",
    "\n",
    "from sklearn.linear_model import LinearRegression\n",
    "from sklearn.metrics import r2_score"
   ]
  },
  {
   "cell_type": "markdown",
   "metadata": {},
   "source": [
    "Reading the data"
   ]
  },
  {
   "cell_type": "code",
   "execution_count": 2,
   "metadata": {},
   "outputs": [],
   "source": [
    "df = pd.read_csv('/datasets/insurance.csv')\n",
    "\n",
    "df.columns = ['gender','age','salary','famaly_members','insurance_compensation']"
   ]
  },
  {
   "cell_type": "code",
   "execution_count": 3,
   "metadata": {},
   "outputs": [
    {
     "data": {
      "text/html": [
       "<div>\n",
       "<style scoped>\n",
       "    .dataframe tbody tr th:only-of-type {\n",
       "        vertical-align: middle;\n",
       "    }\n",
       "\n",
       "    .dataframe tbody tr th {\n",
       "        vertical-align: top;\n",
       "    }\n",
       "\n",
       "    .dataframe thead th {\n",
       "        text-align: right;\n",
       "    }\n",
       "</style>\n",
       "<table border=\"1\" class=\"dataframe\">\n",
       "  <thead>\n",
       "    <tr style=\"text-align: right;\">\n",
       "      <th></th>\n",
       "      <th>gender</th>\n",
       "      <th>age</th>\n",
       "      <th>salary</th>\n",
       "      <th>famaly_members</th>\n",
       "      <th>insurance_compensation</th>\n",
       "    </tr>\n",
       "  </thead>\n",
       "  <tbody>\n",
       "    <tr>\n",
       "      <th>0</th>\n",
       "      <td>1</td>\n",
       "      <td>41.0</td>\n",
       "      <td>49600.0</td>\n",
       "      <td>1</td>\n",
       "      <td>0</td>\n",
       "    </tr>\n",
       "    <tr>\n",
       "      <th>1</th>\n",
       "      <td>0</td>\n",
       "      <td>46.0</td>\n",
       "      <td>38000.0</td>\n",
       "      <td>1</td>\n",
       "      <td>1</td>\n",
       "    </tr>\n",
       "    <tr>\n",
       "      <th>2</th>\n",
       "      <td>0</td>\n",
       "      <td>29.0</td>\n",
       "      <td>21000.0</td>\n",
       "      <td>0</td>\n",
       "      <td>0</td>\n",
       "    </tr>\n",
       "    <tr>\n",
       "      <th>3</th>\n",
       "      <td>0</td>\n",
       "      <td>21.0</td>\n",
       "      <td>41700.0</td>\n",
       "      <td>2</td>\n",
       "      <td>0</td>\n",
       "    </tr>\n",
       "    <tr>\n",
       "      <th>4</th>\n",
       "      <td>1</td>\n",
       "      <td>28.0</td>\n",
       "      <td>26100.0</td>\n",
       "      <td>0</td>\n",
       "      <td>0</td>\n",
       "    </tr>\n",
       "  </tbody>\n",
       "</table>\n",
       "</div>"
      ],
      "text/plain": [
       "   gender   age   salary  famaly_members  insurance_compensation\n",
       "0       1  41.0  49600.0               1                       0\n",
       "1       0  46.0  38000.0               1                       1\n",
       "2       0  29.0  21000.0               0                       0\n",
       "3       0  21.0  41700.0               2                       0\n",
       "4       1  28.0  26100.0               0                       0"
      ]
     },
     "execution_count": 3,
     "metadata": {},
     "output_type": "execute_result"
    }
   ],
   "source": [
    "df.head()"
   ]
  },
  {
   "cell_type": "code",
   "execution_count": 4,
   "metadata": {},
   "outputs": [
    {
     "name": "stdout",
     "output_type": "stream",
     "text": [
      "<class 'pandas.core.frame.DataFrame'>\n",
      "RangeIndex: 5000 entries, 0 to 4999\n",
      "Data columns (total 5 columns):\n",
      " #   Column                  Non-Null Count  Dtype  \n",
      "---  ------                  --------------  -----  \n",
      " 0   gender                  5000 non-null   int64  \n",
      " 1   age                     5000 non-null   float64\n",
      " 2   salary                  5000 non-null   float64\n",
      " 3   famaly_members          5000 non-null   int64  \n",
      " 4   insurance_compensation  5000 non-null   int64  \n",
      "dtypes: float64(2), int64(3)\n",
      "memory usage: 195.4 KB\n"
     ]
    }
   ],
   "source": [
    "df.info()"
   ]
  },
  {
   "cell_type": "code",
   "execution_count": 5,
   "metadata": {},
   "outputs": [
    {
     "data": {
      "text/html": [
       "<div>\n",
       "<style scoped>\n",
       "    .dataframe tbody tr th:only-of-type {\n",
       "        vertical-align: middle;\n",
       "    }\n",
       "\n",
       "    .dataframe tbody tr th {\n",
       "        vertical-align: top;\n",
       "    }\n",
       "\n",
       "    .dataframe thead th {\n",
       "        text-align: right;\n",
       "    }\n",
       "</style>\n",
       "<table border=\"1\" class=\"dataframe\">\n",
       "  <thead>\n",
       "    <tr style=\"text-align: right;\">\n",
       "      <th></th>\n",
       "      <th>count</th>\n",
       "      <th>mean</th>\n",
       "      <th>std</th>\n",
       "      <th>min</th>\n",
       "      <th>25%</th>\n",
       "      <th>50%</th>\n",
       "      <th>75%</th>\n",
       "      <th>max</th>\n",
       "    </tr>\n",
       "  </thead>\n",
       "  <tbody>\n",
       "    <tr>\n",
       "      <th>gender</th>\n",
       "      <td>5000.0</td>\n",
       "      <td>0.4990</td>\n",
       "      <td>0.500049</td>\n",
       "      <td>0.0</td>\n",
       "      <td>0.0</td>\n",
       "      <td>0.0</td>\n",
       "      <td>1.0</td>\n",
       "      <td>1.0</td>\n",
       "    </tr>\n",
       "    <tr>\n",
       "      <th>age</th>\n",
       "      <td>5000.0</td>\n",
       "      <td>30.9528</td>\n",
       "      <td>8.440807</td>\n",
       "      <td>18.0</td>\n",
       "      <td>24.0</td>\n",
       "      <td>30.0</td>\n",
       "      <td>37.0</td>\n",
       "      <td>65.0</td>\n",
       "    </tr>\n",
       "    <tr>\n",
       "      <th>salary</th>\n",
       "      <td>5000.0</td>\n",
       "      <td>39916.3600</td>\n",
       "      <td>9900.083569</td>\n",
       "      <td>5300.0</td>\n",
       "      <td>33300.0</td>\n",
       "      <td>40200.0</td>\n",
       "      <td>46600.0</td>\n",
       "      <td>79000.0</td>\n",
       "    </tr>\n",
       "    <tr>\n",
       "      <th>famaly_members</th>\n",
       "      <td>5000.0</td>\n",
       "      <td>1.1942</td>\n",
       "      <td>1.091387</td>\n",
       "      <td>0.0</td>\n",
       "      <td>0.0</td>\n",
       "      <td>1.0</td>\n",
       "      <td>2.0</td>\n",
       "      <td>6.0</td>\n",
       "    </tr>\n",
       "    <tr>\n",
       "      <th>insurance_compensation</th>\n",
       "      <td>5000.0</td>\n",
       "      <td>0.1480</td>\n",
       "      <td>0.463183</td>\n",
       "      <td>0.0</td>\n",
       "      <td>0.0</td>\n",
       "      <td>0.0</td>\n",
       "      <td>0.0</td>\n",
       "      <td>5.0</td>\n",
       "    </tr>\n",
       "  </tbody>\n",
       "</table>\n",
       "</div>"
      ],
      "text/plain": [
       "                         count        mean          std     min      25%  \\\n",
       "gender                  5000.0      0.4990     0.500049     0.0      0.0   \n",
       "age                     5000.0     30.9528     8.440807    18.0     24.0   \n",
       "salary                  5000.0  39916.3600  9900.083569  5300.0  33300.0   \n",
       "famaly_members          5000.0      1.1942     1.091387     0.0      0.0   \n",
       "insurance_compensation  5000.0      0.1480     0.463183     0.0      0.0   \n",
       "\n",
       "                            50%      75%      max  \n",
       "gender                      0.0      1.0      1.0  \n",
       "age                        30.0     37.0     65.0  \n",
       "salary                  40200.0  46600.0  79000.0  \n",
       "famaly_members              1.0      2.0      6.0  \n",
       "insurance_compensation      0.0      0.0      5.0  "
      ]
     },
     "execution_count": 5,
     "metadata": {},
     "output_type": "execute_result"
    }
   ],
   "source": [
    "df.describe().T"
   ]
  },
  {
   "cell_type": "markdown",
   "metadata": {},
   "source": [
    "As the source data, we have a small dataset of 5000 rows with 5 parameters.\n",
    "\n",
    "- 1 categorical (gender)\n",
    "- 4 quantitative \n",
    "\n",
    "Let's check the dataset for duplicates:"
   ]
  },
  {
   "cell_type": "code",
   "execution_count": 6,
   "metadata": {},
   "outputs": [
    {
     "data": {
      "text/plain": [
       "0.0306"
      ]
     },
     "execution_count": 6,
     "metadata": {},
     "output_type": "execute_result"
    }
   ],
   "source": [
    "df.duplicated().sum()/len(df)"
   ]
  },
  {
   "cell_type": "markdown",
   "metadata": {},
   "source": [
    "3% does not look like something critical, I note that we do not have a user ID,\n",
    "and situations of coincidence of all 4 signs on real clients are quite possible.\n",
    "\n",
    "I suggest not to clean up duplicates."
   ]
  },
  {
   "cell_type": "markdown",
   "metadata": {},
   "source": [
    "Let's look at the distribution of values on the graphs:"
   ]
  },
  {
   "cell_type": "code",
   "execution_count": 7,
   "metadata": {},
   "outputs": [
    {
     "data": {
      "image/png": "[encoded data removed]",
      "text/plain": [
       "<Figure size 1440x2160 with 5 Axes>"
      ]
     },
     "metadata": {
      "needs_background": "light"
     },
     "output_type": "display_data"
    }
   ],
   "source": [
    "lst = df.columns\n",
    "\n",
    "a = 5  \n",
    "b = 5  \n",
    "c = 1  \n",
    "\n",
    "fig = plt.figure(figsize=(20,30))\n",
    "\n",
    "for i in lst:\n",
    "    plt.subplot(a, b, c)\n",
    "    plt.title(i)\n",
    "    plt.xlabel(i)\n",
    "    plt.hist(df[i])\n",
    "    c = c + 1"
   ]
  },
  {
   "cell_type": "markdown",
   "metadata": {},
   "source": [
    "Let's check the correlations"
   ]
  },
  {
   "cell_type": "code",
   "execution_count": 8,
   "metadata": {},
   "outputs": [
    {
     "data": {
      "image/png": "[encoded data removed]",
      "text/plain": [
       "<Figure size 360x360 with 2 Axes>"
      ]
     },
     "metadata": {
      "needs_background": "light"
     },
     "output_type": "display_data"
    }
   ],
   "source": [
    "fig, ax = plt.subplots(figsize=(5,5))    \n",
    "\n",
    "sns.heatmap(df.corr(), annot = True, linewidths = 1, linecolor = 'white',ax = ax)\n",
    "plt.suptitle(\"Feature correlation\")\n",
    "plt.show()"
   ]
  },
  {
   "cell_type": "markdown",
   "metadata": {},
   "source": [
    "**Conclusion**\n",
    "\n",
    "As the source data, we have been given a sufficiently ***clean*** dataset:\n",
    "   - no extreme values were detected\n",
    "   - there are no data gaps\n",
    "   - duplicates - 3%\n",
    "   - there are no paired correlations of signs"
   ]
  },
  {
   "cell_type": "markdown",
   "metadata": {},
   "source": [
    "## Matrix multiplication"
   ]
  },
  {
   "cell_type": "markdown",
   "metadata": {},
   "source": [
    "Designations:\n",
    "\n",
    "- $X$ — feature matrix (the zero column consists of units)\n",
    "\n",
    "- $y$ — vector of the target feature\n",
    "\n",
    "- $P$ is the matrix by which the signs are multiplied\n",
    "\n",
    "- $w$ is a vector of linear regression weights (the zero element is equal to the shift)"
   ]
  },
  {
   "cell_type": "markdown",
   "metadata": {},
   "source": [
    "Predictions:\n",
    "\n",
    "$$\n",
    "a = Xw\n",
    "$$\n",
    "\n",
    "The task of training:\n",
    "\n",
    "$$\n",
    "w = \\arg\\min_w MSE(X w, y)\n",
    "$$\n",
    "\n",
    "Learning formula:\n",
    "\n",
    "$$\n",
    "w = (X^T X)^{-1} X^T y\n",
    "$$"
   ]
  },
  {
   "cell_type": "markdown",
   "metadata": {},
   "source": [
    "**Rationale:**\n",
    "\n",
    "Properties used:\n",
    "\n",
    "$$\n",
    "(AB)^T=B^T A^T\n",
    "$$\n",
    "$$\n",
    "(AB)^{-1} = B^{-1} A^{-1}\n",
    "$$\n",
    "$$\n",
    "A A^{-1} = A^{-1} A = E\n",
    "$$\n",
    "$$\n",
    "AE = EA = A\n",
    "$$\n",
    "\n",
    "\n",
    "Let us write down an analytical solution.\n",
    "\n",
    "It is known from the matrix multiplication rule that we will multiply the 5000 x 4 feature matrix (our initial data) by the 4 x 4 invertible matrix\n",
    "\n",
    "Let's take the prediction formula and multiply the feature matrix *X* by *P*, we don't know what *w* and *a* will be, so we add a stroke to them (we are trying to prove or disprove this)\n",
    "\n",
    "$$\n",
    "a^{1} = XPw^{1}\n",
    "$$\n",
    "\n",
    "$$\n",
    "a = Xw = XEw = XPP^{-1}w = (XP)P^{-1}w = (XP)w'\n",
    "$$\n",
    "\\\n",
    "$$\n",
    "w = (X^T X)^{-1} X^T y\n",
    "$$\n",
    "\\\n",
    "$$\n",
    "w' = ((XP)^T XP)^{-1} (XP)^T y\n",
    "$$\n",
    "$$\n",
    "w' = (P^T (X^T X) P)^{-1} (XP)^T y\n",
    "$$\n",
    "$$\n",
    "w' = (P^T (X^T X) P)^{-1} P^T X^T y\n",
    "$$\n",
    "\n",
    "$$\n",
    "w' = P^{-1} (X^T X)^{-1} (P^T)^{-1} P^T X^T y\n",
    "$$\n",
    "    \n",
    "We return to the prediction formula again:\n",
    "    \n",
    "$$\n",
    "a^{1} = XPw^{1}\n",
    "$$\n",
    "\n",
    "Substitute $w^{1}$\n",
    "    \n",
    "$$\n",
    "a^{1} = XP P^{-1} (X^T X)^{-1} (P^T)^{-1} P^T X^T y\n",
    "$$\n",
    "    \n",
    "    \n",
    "The products of $P P^{-1}$ and $(P^T)^{-1} P^T$ give identity matrices that can be excluded from the equation\n",
    "    \n",
    "\n",
    "$$\n",
    "a^{1} = X (X^T X)^{-1} X^T y \\tag{1}\n",
    "$$\n",
    "    \n",
    "Wherein:\n",
    "    \n",
    "    \n",
    "$$\n",
    "w = (X^T X)^{-1} X^T y \\tag{2}\n",
    "$$\n",
    "    \n",
    "Substitute $(1)$ into $(2)$:\n",
    "    \n",
    "$$\n",
    "a^{1} = Xw\n",
    "$$"
   ]
  },
  {
   "cell_type": "markdown",
   "metadata": {},
   "source": [
    "## Conversion algorithm"
   ]
  },
  {
   "cell_type": "markdown",
   "metadata": {},
   "source": [
    "**Algorithm**\n",
    "\n",
    "It would be great to test the results in practice.\n",
    "\n",
    "To do this, we need: \n",
    "\n",
    "- select a feature matrix for regression training X (5000 x 4)\n",
    "- set an invertible matrix P (4 x 4)\n",
    "- train a linear regression model and calculate the R2 metric\n",
    "    - on the initial data\n",
    "    - on the matrix of features multiplied by the reversible matrix \n",
    "- if the metrics are equal, I was not mistaken in the analytical conclusion and it is fair"
   ]
  },
  {
   "cell_type": "markdown",
   "metadata": {},
   "source": [
    "**Justification**\n",
    "\n",
    "We proceed from the postulate that was proved in the last chapter:\n",
    "\n",
    "multiplying features by an invertible matrix does not lead to a change in predictions, so the R2 metric should be unchanged for both options."
   ]
  },
  {
   "cell_type": "markdown",
   "metadata": {},
   "source": [
    "## Checking the algorithm"
   ]
  },
  {
   "cell_type": "code",
   "execution_count": 9,
   "metadata": {},
   "outputs": [],
   "source": [
    "features = df.drop('insurance_compensation', axis=1)\n",
    "target = df['insurance_compensation']"
   ]
  },
  {
   "cell_type": "markdown",
   "metadata": {},
   "source": [
    "Next, you need to set a randomly invertible 4 x 4 matrix.\n",
    "\n",
    "Invertibility criterion: A matrix is invertible if and only if it is non-degenerate, that is, its determinant is not zero."
   ]
  },
  {
   "cell_type": "code",
   "execution_count": 10,
   "metadata": {},
   "outputs": [
    {
     "data": {
      "text/plain": [
       "array([[ 0.30072958, -0.37264202, -0.07233653,  1.0843954 ],\n",
       "       [ 0.37483812,  1.04765392,  0.94990312, -1.52233263],\n",
       "       [ 0.67592028,  1.31538386, -0.95568085,  1.21544534],\n",
       "       [-0.26943522,  0.36360844,  0.1938971 , -0.18238009]])"
      ]
     },
     "execution_count": 10,
     "metadata": {},
     "output_type": "execute_result"
    }
   ],
   "source": [
    "det = 0\n",
    "P = 0\n",
    "while det == 0:\n",
    "    P = np.random.normal(size=(4, 4))\n",
    "    det = np.linalg.det(P)\n",
    "P"
   ]
  },
  {
   "cell_type": "markdown",
   "metadata": {},
   "source": [
    "We check whether the invertible matrix is exactly"
   ]
  },
  {
   "cell_type": "code",
   "execution_count": 11,
   "metadata": {},
   "outputs": [
    {
     "data": {
      "text/html": [
       "<div>\n",
       "<style scoped>\n",
       "    .dataframe tbody tr th:only-of-type {\n",
       "        vertical-align: middle;\n",
       "    }\n",
       "\n",
       "    .dataframe tbody tr th {\n",
       "        vertical-align: top;\n",
       "    }\n",
       "\n",
       "    .dataframe thead th {\n",
       "        text-align: right;\n",
       "    }\n",
       "</style>\n",
       "<table border=\"1\" class=\"dataframe\">\n",
       "  <thead>\n",
       "    <tr style=\"text-align: right;\">\n",
       "      <th></th>\n",
       "      <th>0</th>\n",
       "      <th>1</th>\n",
       "      <th>2</th>\n",
       "      <th>3</th>\n",
       "    </tr>\n",
       "  </thead>\n",
       "  <tbody>\n",
       "    <tr>\n",
       "      <th>0</th>\n",
       "      <td>1.0</td>\n",
       "      <td>0.0</td>\n",
       "      <td>0.0</td>\n",
       "      <td>0.0</td>\n",
       "    </tr>\n",
       "    <tr>\n",
       "      <th>1</th>\n",
       "      <td>0.0</td>\n",
       "      <td>1.0</td>\n",
       "      <td>0.0</td>\n",
       "      <td>0.0</td>\n",
       "    </tr>\n",
       "    <tr>\n",
       "      <th>2</th>\n",
       "      <td>0.0</td>\n",
       "      <td>0.0</td>\n",
       "      <td>1.0</td>\n",
       "      <td>0.0</td>\n",
       "    </tr>\n",
       "    <tr>\n",
       "      <th>3</th>\n",
       "      <td>0.0</td>\n",
       "      <td>0.0</td>\n",
       "      <td>0.0</td>\n",
       "      <td>1.0</td>\n",
       "    </tr>\n",
       "  </tbody>\n",
       "</table>\n",
       "</div>"
      ],
      "text/plain": [
       "     0    1    2    3\n",
       "0  1.0  0.0  0.0  0.0\n",
       "1  0.0  1.0  0.0  0.0\n",
       "2  0.0  0.0  1.0  0.0\n",
       "3  0.0  0.0  0.0  1.0"
      ]
     },
     "execution_count": 11,
     "metadata": {},
     "output_type": "execute_result"
    }
   ],
   "source": [
    "pd.DataFrame(np.linalg.inv(P) @ (P)).round(0).abs()"
   ]
  },
  {
   "cell_type": "markdown",
   "metadata": {},
   "source": [
    "Multiply the signs by the reversible matrix *P*"
   ]
  },
  {
   "cell_type": "code",
   "execution_count": 12,
   "metadata": {},
   "outputs": [
    {
     "data": {
      "text/html": [
       "<div>\n",
       "<style scoped>\n",
       "    .dataframe tbody tr th:only-of-type {\n",
       "        vertical-align: middle;\n",
       "    }\n",
       "\n",
       "    .dataframe tbody tr th {\n",
       "        vertical-align: top;\n",
       "    }\n",
       "\n",
       "    .dataframe thead th {\n",
       "        text-align: right;\n",
       "    }\n",
       "</style>\n",
       "<table border=\"1\" class=\"dataframe\">\n",
       "  <thead>\n",
       "    <tr style=\"text-align: right;\">\n",
       "      <th></th>\n",
       "      <th>0</th>\n",
       "      <th>1</th>\n",
       "      <th>2</th>\n",
       "      <th>3</th>\n",
       "    </tr>\n",
       "  </thead>\n",
       "  <tbody>\n",
       "    <tr>\n",
       "      <th>0</th>\n",
       "      <td>33541.045763</td>\n",
       "      <td>65285.984338</td>\n",
       "      <td>-47362.702647</td>\n",
       "      <td>60224.575267</td>\n",
       "    </tr>\n",
       "    <tr>\n",
       "      <th>1</th>\n",
       "      <td>25701.943925</td>\n",
       "      <td>50033.142449</td>\n",
       "      <td>-36271.982917</td>\n",
       "      <td>46116.713259</td>\n",
       "    </tr>\n",
       "    <tr>\n",
       "      <th>2</th>\n",
       "      <td>14205.196278</td>\n",
       "      <td>27653.443068</td>\n",
       "      <td>-20041.750691</td>\n",
       "      <td>25480.204505</td>\n",
       "    </tr>\n",
       "    <tr>\n",
       "      <th>3</th>\n",
       "      <td>28193.208589</td>\n",
       "      <td>54874.234999</td>\n",
       "      <td>-39831.555749</td>\n",
       "      <td>50651.736954</td>\n",
       "    </tr>\n",
       "    <tr>\n",
       "      <th>4</th>\n",
       "      <td>17652.315620</td>\n",
       "      <td>34360.480469</td>\n",
       "      <td>-24916.745274</td>\n",
       "      <td>31681.582469</td>\n",
       "    </tr>\n",
       "  </tbody>\n",
       "</table>\n",
       "</div>"
      ],
      "text/plain": [
       "              0             1             2             3\n",
       "0  33541.045763  65285.984338 -47362.702647  60224.575267\n",
       "1  25701.943925  50033.142449 -36271.982917  46116.713259\n",
       "2  14205.196278  27653.443068 -20041.750691  25480.204505\n",
       "3  28193.208589  54874.234999 -39831.555749  50651.736954\n",
       "4  17652.315620  34360.480469 -24916.745274  31681.582469"
      ]
     },
     "execution_count": 12,
     "metadata": {},
     "output_type": "execute_result"
    }
   ],
   "source": [
    "features_new = features @ P\n",
    "features_new.head()"
   ]
  },
  {
   "cell_type": "markdown",
   "metadata": {},
   "source": [
    "We train models and check metrics:"
   ]
  },
  {
   "cell_type": "code",
   "execution_count": 13,
   "metadata": {},
   "outputs": [
    {
     "name": "stdout",
     "output_type": "stream",
     "text": [
      "R2 on the initial data 0.42494550286668\n"
     ]
    }
   ],
   "source": [
    "model = LinearRegression()\n",
    "model.fit(features, target)\n",
    "predictions = model.predict(features)\n",
    "r2 = r2_score(target, predictions)\n",
    "print(f'R2 on the initial data {r2}')"
   ]
  },
  {
   "cell_type": "code",
   "execution_count": 14,
   "metadata": {},
   "outputs": [
    {
     "name": "stdout",
     "output_type": "stream",
     "text": [
      "R2 on converted data 0.42494550286668653\n"
     ]
    }
   ],
   "source": [
    "model_2 = LinearRegression()\n",
    "model_2.fit(features_new, target)\n",
    "predictions = model_2.predict(features_new)\n",
    "r2_new = r2_score(target, predictions)\n",
    "print(f'R2 on converted data {r2_new}')"
   ]
  },
  {
   "cell_type": "markdown",
   "metadata": {},
   "source": [
    "## **General conclusion**"
   ]
  },
  {
   "cell_type": "markdown",
   "metadata": {},
   "source": [
    "Multiplication of features by a random reversible matrix did not affect the R2 metric of linear regression in any way.\n",
    "\n",
    "We were convinced of this by making an analytical conclusion, checking this conclusion in practice.\n",
    "\n",
    "The practical application is obvious - data encryption when transmitting or publishing a model with a part of the training sample."
   ]
  }
 ],
 "metadata": {
  "ExecuteTimeLog": [
   {
    "duration": 651,
    "start_time": "2022-02-20T13:10:33.148Z"
   },
   {
    "duration": 41,
    "start_time": "2022-02-20T13:10:33.801Z"
   },
   {
    "duration": 18,
    "start_time": "2022-02-20T13:10:45.766Z"
   },
   {
    "duration": 35,
    "start_time": "2022-02-20T13:11:06.106Z"
   },
   {
    "duration": 13,
    "start_time": "2022-02-20T13:11:19.490Z"
   },
   {
    "duration": 22,
    "start_time": "2022-02-20T13:11:28.432Z"
   },
   {
    "duration": 18,
    "start_time": "2022-02-20T13:11:34.327Z"
   },
   {
    "duration": 17,
    "start_time": "2022-02-20T13:11:45.549Z"
   },
   {
    "duration": 7,
    "start_time": "2022-02-20T13:12:13.506Z"
   },
   {
    "duration": 1116,
    "start_time": "2022-03-09T20:24:28.603Z"
   },
   {
    "duration": 13,
    "start_time": "2022-03-09T20:24:31.432Z"
   },
   {
    "duration": 12,
    "start_time": "2022-03-09T20:24:31.588Z"
   },
   {
    "duration": 7,
    "start_time": "2022-03-09T20:24:31.746Z"
   },
   {
    "duration": 25,
    "start_time": "2022-03-09T20:24:31.902Z"
   },
   {
    "duration": 809,
    "start_time": "2022-03-09T20:24:33.880Z"
   },
   {
    "duration": 716,
    "start_time": "2022-03-09T20:24:55.340Z"
   },
   {
    "duration": 405,
    "start_time": "2022-03-09T20:25:02.260Z"
   },
   {
    "duration": 336,
    "start_time": "2022-03-09T20:25:10.700Z"
   },
   {
    "duration": 342,
    "start_time": "2022-03-09T20:25:52.620Z"
   },
   {
    "duration": 1132,
    "start_time": "2022-03-09T20:28:39.102Z"
   },
   {
    "duration": 1106,
    "start_time": "2022-03-09T20:28:54.159Z"
   },
   {
    "duration": 7,
    "start_time": "2022-03-09T20:31:26.529Z"
   },
   {
    "duration": 228,
    "start_time": "2022-03-09T21:33:18.746Z"
   },
   {
    "duration": 5,
    "start_time": "2022-03-09T21:33:27.190Z"
   },
   {
    "duration": 247,
    "start_time": "2022-03-09T21:39:11.526Z"
   },
   {
    "duration": 382,
    "start_time": "2022-03-09T21:39:16.944Z"
   },
   {
    "duration": 231,
    "start_time": "2022-03-09T21:40:04.287Z"
   },
   {
    "duration": 247,
    "start_time": "2022-03-09T21:40:07.590Z"
   },
   {
    "duration": 524,
    "start_time": "2022-03-09T21:40:12.056Z"
   },
   {
    "duration": 6,
    "start_time": "2022-03-09T21:40:20.457Z"
   },
   {
    "duration": 6,
    "start_time": "2022-03-09T21:41:19.294Z"
   },
   {
    "duration": 5,
    "start_time": "2022-03-09T21:41:24.848Z"
   },
   {
    "duration": 235,
    "start_time": "2022-03-09T21:42:40.779Z"
   },
   {
    "duration": 7,
    "start_time": "2022-03-09T21:44:06.479Z"
   },
   {
    "duration": 6,
    "start_time": "2022-03-09T21:44:11.649Z"
   },
   {
    "duration": 5,
    "start_time": "2022-03-09T21:44:18.468Z"
   },
   {
    "duration": 4,
    "start_time": "2022-03-09T21:44:47.805Z"
   },
   {
    "duration": 6,
    "start_time": "2022-03-09T21:50:27.222Z"
   },
   {
    "duration": 5,
    "start_time": "2022-03-09T21:52:11.337Z"
   },
   {
    "duration": 6,
    "start_time": "2022-03-09T21:52:21.329Z"
   },
   {
    "duration": 6,
    "start_time": "2022-03-09T21:52:36.802Z"
   },
   {
    "duration": 12,
    "start_time": "2022-03-09T21:52:48.750Z"
   },
   {
    "duration": 12,
    "start_time": "2022-03-09T21:53:56.649Z"
   },
   {
    "duration": 13,
    "start_time": "2022-03-09T21:54:13.320Z"
   },
   {
    "duration": 8,
    "start_time": "2022-03-09T21:54:20.818Z"
   },
   {
    "duration": 16,
    "start_time": "2022-03-09T21:54:29.102Z"
   },
   {
    "duration": 17,
    "start_time": "2022-03-09T21:54:43.503Z"
   },
   {
    "duration": 13,
    "start_time": "2022-03-09T21:56:18.972Z"
   },
   {
    "duration": 255,
    "start_time": "2022-03-09T21:57:39.057Z"
   },
   {
    "duration": 77,
    "start_time": "2022-03-09T21:58:14.948Z"
   },
   {
    "duration": 34,
    "start_time": "2022-03-09T21:58:19.829Z"
   },
   {
    "duration": 10,
    "start_time": "2022-03-09T21:58:28.660Z"
   },
   {
    "duration": 8,
    "start_time": "2022-03-09T21:59:37.986Z"
   },
   {
    "duration": 62,
    "start_time": "2022-03-09T22:00:02.709Z"
   },
   {
    "duration": 1234,
    "start_time": "2022-03-09T22:03:30.237Z"
   },
   {
    "duration": 12,
    "start_time": "2022-03-09T22:03:31.473Z"
   },
   {
    "duration": 13,
    "start_time": "2022-03-09T22:03:31.487Z"
   },
   {
    "duration": 13,
    "start_time": "2022-03-09T22:03:31.501Z"
   },
   {
    "duration": 23,
    "start_time": "2022-03-09T22:03:31.516Z"
   },
   {
    "duration": 24,
    "start_time": "2022-03-09T22:03:31.540Z"
   },
   {
    "duration": 1031,
    "start_time": "2022-03-09T22:03:31.756Z"
   },
   {
    "duration": 345,
    "start_time": "2022-03-09T22:03:32.789Z"
   },
   {
    "duration": 5,
    "start_time": "2022-03-09T22:03:34.249Z"
   },
   {
    "duration": 8,
    "start_time": "2022-03-09T22:03:34.637Z"
   },
   {
    "duration": 15,
    "start_time": "2022-03-09T22:03:34.985Z"
   },
   {
    "duration": 9,
    "start_time": "2022-03-09T22:03:35.374Z"
   },
   {
    "duration": 17,
    "start_time": "2022-03-09T22:03:36.260Z"
   },
   {
    "duration": 12,
    "start_time": "2022-03-09T22:03:36.870Z"
   },
   {
    "duration": 12,
    "start_time": "2022-03-09T22:05:10.538Z"
   },
   {
    "duration": 1161,
    "start_time": "2022-03-09T22:05:19.783Z"
   },
   {
    "duration": 12,
    "start_time": "2022-03-09T22:05:20.946Z"
   },
   {
    "duration": 12,
    "start_time": "2022-03-09T22:05:20.963Z"
   },
   {
    "duration": 9,
    "start_time": "2022-03-09T22:05:20.976Z"
   },
   {
    "duration": 23,
    "start_time": "2022-03-09T22:05:20.987Z"
   },
   {
    "duration": 6,
    "start_time": "2022-03-09T22:05:21.012Z"
   },
   {
    "duration": 1086,
    "start_time": "2022-03-09T22:05:21.020Z"
   },
   {
    "duration": 381,
    "start_time": "2022-03-09T22:05:22.108Z"
   },
   {
    "duration": 4,
    "start_time": "2022-03-09T22:05:22.491Z"
   },
   {
    "duration": 8,
    "start_time": "2022-03-09T22:05:22.496Z"
   },
   {
    "duration": 64,
    "start_time": "2022-03-09T22:05:22.505Z"
   },
   {
    "duration": 92,
    "start_time": "2022-03-09T22:05:22.572Z"
   },
   {
    "duration": 21,
    "start_time": "2022-03-09T22:05:22.667Z"
   },
   {
    "duration": 106,
    "start_time": "2022-03-09T22:05:22.764Z"
   }
  ],
  "kernelspec": {
   "display_name": "Python 3",
   "language": "python",
   "name": "python3"
  },
  "language_info": {
   "codemirror_mode": {
    "name": "ipython",
    "version": 3
   },
   "file_extension": ".py",
   "mimetype": "text/x-python",
   "name": "python",
   "nbconvert_exporter": "python",
   "pygments_lexer": "ipython3",
   "version": "3.8.5"
  },
  "toc": {
   "base_numbering": 1,
   "nav_menu": {},
   "number_sections": true,
   "sideBar": true,
   "skip_h1_title": true,
   "title_cell": "Содержание",
   "title_sidebar": "Contents",
   "toc_cell": true,
   "toc_position": {},
   "toc_section_display": true,
   "toc_window_display": true
  }
 },
 "nbformat": 4,
 "nbformat_minor": 2
}
