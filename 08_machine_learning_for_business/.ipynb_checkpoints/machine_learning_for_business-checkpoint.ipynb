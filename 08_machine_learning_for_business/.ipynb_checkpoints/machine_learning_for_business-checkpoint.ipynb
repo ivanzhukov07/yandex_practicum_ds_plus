{
 "cells": [
  {
   "cell_type": "markdown",
   "metadata": {},
   "source": [
    "# Choosing a location for an oil well"
   ]
  },
  {
   "cell_type": "markdown",
   "metadata": {},
   "source": [
    "Let's say you work for the mining company \"GlavRosGosNeft\". We need to decide where to drill a new well.\n",
    "\n",
    "You have been provided with oil samples in three regions: in each of 10 000 fields, where the quality of oil and the volume of its reserves have been measured. Build a machine learning model to help determine the region where mining will bring the most profit. Analyze possible profits and risks using the *Bootstrap.* technique\n",
    "\n",
    "Steps to choose a location:\n",
    "\n",
    "- In the selected region, they are looking for deposits, for each, the values of the signs are determined;\n",
    "- Build a model and estimate the volume of reserves;\n",
    "- Select the deposits with the highest value estimates. The number of fields depends on the company's budget and the cost of developing one well;\n",
    "- The profit is equal to the total profit of the selected deposits.\n",
    "\n",
    "\n",
    "**Data Description:**\n",
    "\n",
    "Geological exploration data of three regions are in the files:\n",
    "\n",
    "- `/datasets/geo_data_0.csv`\n",
    "- `/datasets/geo_data_1.csv`\n",
    "- `/datasets/geo_data_2.csv`\n",
    "- **`id`** — unique identifier of the well;\n",
    "- **`f0`**, **`f1`**, **`f2`** - three signs of dots (it doesn't matter what they mean, but the signs themselves are significant);\n",
    "- **`product`** — volume of reserves in the well (thousand barrels).\n",
    "\n",
    "**Conditions of the problem:**\n",
    "\n",
    "- For model training, **only linear regression** is suitable (the rest are not predictable enough).\n",
    "- When exploring a region, **500 wells** are explored, from which, using machine learning, the **200 best** are selected for development.\n",
    "- The budget for the development of wells in the region is **10 billion rubles**.\n",
    "- At current prices, one barrel of raw materials brings **450 rubles** of income. The income from each unit of the product is **450 thousand rubles**, since the volume is indicated in thousands of barrels.\n",
    "- After assessing the risks, you need to leave only those regions in which the probability of losses is less than **2.5%**. Among them, choose the region with the highest average profit.\n",
    "\n",
    "Synthetic data: details of contracts and characteristics of deposits were not disclosed."
   ]
  },
  {
   "cell_type": "markdown",
   "metadata": {},
   "source": [
    "## Loading and preparing data"
   ]
  },
  {
   "cell_type": "markdown",
   "metadata": {},
   "source": [
    "We import everything that is needed in the project:"
   ]
  },
  {
   "cell_type": "code",
   "execution_count": 1,
   "metadata": {},
   "outputs": [],
   "source": [
    "import pandas as pd\n",
    "import numpy as np\n",
    "import matplotlib.pyplot as plt\n",
    "import seaborn as sns\n",
    "\n",
    "from sklearn.model_selection import train_test_split\n",
    "from sklearn.linear_model import LinearRegression\n",
    "from sklearn.metrics import mean_squared_error"
   ]
  },
  {
   "cell_type": "markdown",
   "metadata": {},
   "source": [
    "Let's read and see our data."
   ]
  },
  {
   "cell_type": "code",
   "execution_count": 2,
   "metadata": {},
   "outputs": [],
   "source": [
    "df1 = pd.read_csv('/datasets/geo_data_0.csv')\n",
    "df2 = pd.read_csv('/datasets/geo_data_1.csv')\n",
    "df3 = pd.read_csv('/datasets/geo_data_2.csv')"
   ]
  },
  {
   "cell_type": "markdown",
   "metadata": {},
   "source": [
    "**General overview (data types/missings)**"
   ]
  },
  {
   "cell_type": "code",
   "execution_count": 3,
   "metadata": {},
   "outputs": [
    {
     "name": "stdout",
     "output_type": "stream",
     "text": [
      "=====df1=====\n",
      "<class 'pandas.core.frame.DataFrame'>\n",
      "RangeIndex: 100000 entries, 0 to 99999\n",
      "Data columns (total 5 columns):\n",
      " #   Column   Non-Null Count   Dtype  \n",
      "---  ------   --------------   -----  \n",
      " 0   id       100000 non-null  object \n",
      " 1   f0       100000 non-null  float64\n",
      " 2   f1       100000 non-null  float64\n",
      " 3   f2       100000 non-null  float64\n",
      " 4   product  100000 non-null  float64\n",
      "dtypes: float64(4), object(1)\n",
      "memory usage: 3.8+ MB\n",
      "=====df2=====\n",
      "<class 'pandas.core.frame.DataFrame'>\n",
      "RangeIndex: 100000 entries, 0 to 99999\n",
      "Data columns (total 5 columns):\n",
      " #   Column   Non-Null Count   Dtype  \n",
      "---  ------   --------------   -----  \n",
      " 0   id       100000 non-null  object \n",
      " 1   f0       100000 non-null  float64\n",
      " 2   f1       100000 non-null  float64\n",
      " 3   f2       100000 non-null  float64\n",
      " 4   product  100000 non-null  float64\n",
      "dtypes: float64(4), object(1)\n",
      "memory usage: 3.8+ MB\n",
      "=====df3=====\n",
      "<class 'pandas.core.frame.DataFrame'>\n",
      "RangeIndex: 100000 entries, 0 to 99999\n",
      "Data columns (total 5 columns):\n",
      " #   Column   Non-Null Count   Dtype  \n",
      "---  ------   --------------   -----  \n",
      " 0   id       100000 non-null  object \n",
      " 1   f0       100000 non-null  float64\n",
      " 2   f1       100000 non-null  float64\n",
      " 3   f2       100000 non-null  float64\n",
      " 4   product  100000 non-null  float64\n",
      "dtypes: float64(4), object(1)\n",
      "memory usage: 3.8+ MB\n"
     ]
    }
   ],
   "source": [
    "print('=====df1=====')\n",
    "df1.info()\n",
    "print('=====df2=====')\n",
    "df2.info()\n",
    "print('=====df3=====')\n",
    "df3.info()"
   ]
  },
  {
   "cell_type": "markdown",
   "metadata": {},
   "source": [
    "**Duplicates**"
   ]
  },
  {
   "cell_type": "code",
   "execution_count": 4,
   "metadata": {},
   "outputs": [
    {
     "name": "stdout",
     "output_type": "stream",
     "text": [
      "0 0 0\n"
     ]
    }
   ],
   "source": [
    "print(df1.duplicated().sum(), df2.duplicated().sum(), df3.duplicated().sum())"
   ]
  },
  {
   "cell_type": "markdown",
   "metadata": {},
   "source": [
    "### Features overview"
   ]
  },
  {
   "cell_type": "markdown",
   "metadata": {},
   "source": [
    "Let's see how oil reserves are distributed for each of the three files."
   ]
  },
  {
   "cell_type": "code",
   "execution_count": 5,
   "metadata": {},
   "outputs": [
    {
     "data": {
      "image/png": "[encoded data removed]",
      "text/plain": [
       "<Figure size 864x360 with 1 Axes>"
      ]
     },
     "metadata": {
      "needs_background": "light"
     },
     "output_type": "display_data"
    }
   ],
   "source": [
    "df1['product'].hist(figsize=(12, 5), bins = 50, alpha=0.5, label = 'df1')\n",
    "df2['product'].hist(figsize=(12, 5), bins = 50, alpha=0.5, label = 'df2')\n",
    "df3['product'].hist(figsize=(12, 5), bins = 50, alpha=0.5, label = 'df3')\n",
    "plt.title('Distribution of oil reserves by oil fields')\n",
    "plt.legend(loc ='upper right')\n",
    "plt.xlabel(\"Volume of oil reserves\")\n",
    "plt.ylabel(\"Number of oil fields\")\n",
    "plt.show()"
   ]
  },
  {
   "cell_type": "markdown",
   "metadata": {},
   "source": [
    "Data set 2 looks very strange, one can only guess about the reasons for this distribution."
   ]
  },
  {
   "cell_type": "markdown",
   "metadata": {},
   "source": [
    "**Estimate the multicollinearity of features**\n",
    "\n",
    "It is important to check if there are strong relationships in features that can interfere with model training."
   ]
  },
  {
   "cell_type": "markdown",
   "metadata": {},
   "source": [
    "**Set 1**"
   ]
  },
  {
   "cell_type": "code",
   "execution_count": 6,
   "metadata": {},
   "outputs": [
    {
     "data": {
      "image/png": "[encoded data removed]",
      "text/plain": [
       "<Figure size 360x216 with 2 Axes>"
      ]
     },
     "metadata": {
      "needs_background": "light"
     },
     "output_type": "display_data"
    },
    {
     "name": "stdout",
     "output_type": "stream",
     "text": [
      "CPU times: user 418 ms, sys: 44.7 ms, total: 463 ms\n",
      "Wall time: 226 ms\n"
     ]
    }
   ],
   "source": [
    "%%time\n",
    "fig, ax = plt.subplots(figsize=(5,3))    \n",
    "\n",
    "sns.heatmap(df1.corr(), annot = True,  ax = ax)\n",
    "plt.suptitle(\"Feature correlation\")\n",
    "plt.show()"
   ]
  },
  {
   "cell_type": "code",
   "execution_count": 7,
   "metadata": {},
   "outputs": [
    {
     "data": {
      "image/png": "[encoded data removed]",
      "text/plain": [
       "<Figure size 720x360 with 16 Axes>"
      ]
     },
     "metadata": {
      "needs_background": "light"
     },
     "output_type": "display_data"
    },
    {
     "name": "stdout",
     "output_type": "stream",
     "text": [
      "CPU times: user 4.96 s, sys: 82 ms, total: 5.04 s\n",
      "Wall time: 4.83 s\n"
     ]
    }
   ],
   "source": [
    "%%time\n",
    "pd.plotting.scatter_matrix(df1, alpha = 0.2, figsize = (10, 5))\n",
    "plt.show()"
   ]
  },
  {
   "cell_type": "markdown",
   "metadata": {},
   "source": [
    "- product - f2 (**0.48**)\n",
    "- f1 - f0, the relationship is not linear, therefore, the value in the correlation matrix is very small"
   ]
  },
  {
   "cell_type": "markdown",
   "metadata": {},
   "source": [
    "**Set 2**"
   ]
  },
  {
   "cell_type": "code",
   "execution_count": 8,
   "metadata": {},
   "outputs": [
    {
     "data": {
      "image/png": "[encoded data removed]",
      "text/plain": [
       "<Figure size 360x216 with 2 Axes>"
      ]
     },
     "metadata": {
      "needs_background": "light"
     },
     "output_type": "display_data"
    },
    {
     "name": "stdout",
     "output_type": "stream",
     "text": [
      "CPU times: user 351 ms, sys: 54.2 ms, total: 406 ms\n",
      "Wall time: 172 ms\n"
     ]
    }
   ],
   "source": [
    "%%time\n",
    "fig, ax = plt.subplots(figsize=(5,3))    \n",
    "\n",
    "sns.heatmap(df2.corr(), annot = True,  ax = ax)\n",
    "plt.suptitle(\"Feature correlation\")\n",
    "plt.show()"
   ]
  },
  {
   "cell_type": "code",
   "execution_count": 9,
   "metadata": {},
   "outputs": [
    {
     "data": {
      "image/png": "[encoded data removed]",
      "text/plain": [
       "<Figure size 720x360 with 16 Axes>"
      ]
     },
     "metadata": {
      "needs_background": "light"
     },
     "output_type": "display_data"
    },
    {
     "name": "stdout",
     "output_type": "stream",
     "text": [
      "CPU times: user 4.81 s, sys: 77.1 ms, total: 4.88 s\n",
      "Wall time: 4.66 s\n"
     ]
    }
   ],
   "source": [
    "%%time\n",
    "pd.plotting.scatter_matrix(df2, alpha = 0.2, figsize = (10, 5))\n",
    "plt.show()"
   ]
  },
  {
   "cell_type": "markdown",
   "metadata": {},
   "source": [
    "The oddities with the set continue, now we see 100% correlation of the feature pair **product - f2**"
   ]
  },
  {
   "cell_type": "markdown",
   "metadata": {},
   "source": [
    "**Set 3**"
   ]
  },
  {
   "cell_type": "code",
   "execution_count": 10,
   "metadata": {},
   "outputs": [
    {
     "data": {
      "image/png": "[encoded data removed]",
      "text/plain": [
       "<Figure size 360x216 with 2 Axes>"
      ]
     },
     "metadata": {
      "needs_background": "light"
     },
     "output_type": "display_data"
    },
    {
     "name": "stdout",
     "output_type": "stream",
     "text": [
      "CPU times: user 361 ms, sys: 46.3 ms, total: 407 ms\n",
      "Wall time: 169 ms\n"
     ]
    }
   ],
   "source": [
    "%%time\n",
    "fig, ax = plt.subplots(figsize=(5,3))    \n",
    "\n",
    "sns.heatmap(df3.corr(), annot = True,  ax = ax)\n",
    "plt.suptitle(\"Feature correlation\")\n",
    "plt.show()"
   ]
  },
  {
   "cell_type": "code",
   "execution_count": 11,
   "metadata": {},
   "outputs": [
    {
     "data": {
      "image/png": "[encoded data removed]",
      "text/plain": [
       "<Figure size 720x360 with 16 Axes>"
      ]
     },
     "metadata": {
      "needs_background": "light"
     },
     "output_type": "display_data"
    },
    {
     "name": "stdout",
     "output_type": "stream",
     "text": [
      "CPU times: user 5.12 s, sys: 92 ms, total: 5.21 s\n",
      "Wall time: 4.99 s\n"
     ]
    }
   ],
   "source": [
    "%%time\n",
    "pd.plotting.scatter_matrix(df3, alpha = 0.2, figsize = (10, 5))\n",
    "plt.show()"
   ]
  },
  {
   "cell_type": "markdown",
   "metadata": {},
   "source": [
    "- product - f2 (**0.45**)"
   ]
  },
  {
   "cell_type": "markdown",
   "metadata": {},
   "source": [
    "**Conclusion:**\n",
    "\n",
    "- read and looked at datasets by region\n",
    "- made a check for obvious duplicates and missings\n",
    "- looked at how the volume of reserves is distributed depending on the region, found an abnormal distribution in region 2\n",
    "- also evaluated pairwise correlations of features in the proposed files. the second region shows a strong dependence of the volume of the product on the feature f2. This tells us that it is the feature f2 that has the maximum impact on the volume of the deposit in the second region."
   ]
  },
  {
   "cell_type": "markdown",
   "metadata": {},
   "source": [
    "## Train and validate the model"
   ]
  },
  {
   "cell_type": "markdown",
   "metadata": {},
   "source": [
    "### We split the data into training and validation samples in the ratio of 75:25\n",
    "\n",
    "**We first remove the `id`, it will not be needed for training and analysis of the results**"
   ]
  },
  {
   "cell_type": "code",
   "execution_count": 12,
   "metadata": {},
   "outputs": [],
   "source": [
    "for i in [df1, df2, df3]:\n",
    "    i = i.drop(['id'], axis = 1, inplace = True)"
   ]
  },
  {
   "cell_type": "code",
   "execution_count": 13,
   "metadata": {},
   "outputs": [],
   "source": [
    "model_ln_r = LinearRegression()"
   ]
  },
  {
   "cell_type": "markdown",
   "metadata": {},
   "source": [
    "**Set 1**"
   ]
  },
  {
   "cell_type": "code",
   "execution_count": 14,
   "metadata": {},
   "outputs": [],
   "source": [
    "features = df1.drop('product', axis= 1)\n",
    "target = df1['product']"
   ]
  },
  {
   "cell_type": "code",
   "execution_count": 15,
   "metadata": {},
   "outputs": [
    {
     "name": "stdout",
     "output_type": "stream",
     "text": [
      "0.75 0.75\n"
     ]
    }
   ],
   "source": [
    "features_train_df1, features_test_df1, target_train_df1, target_test_df1 = train_test_split(\n",
    "                       features, target, test_size = 0.25, random_state = 12345)\n",
    "## split check\n",
    "print(len(features_train_df1)/len(df1), len(target_train_df1)/len(df1))"
   ]
  },
  {
   "cell_type": "code",
   "execution_count": 16,
   "metadata": {},
   "outputs": [],
   "source": [
    "model_ln_r.fit(features_train_df1, target_train_df1)\n",
    "predic_df1 = model_ln_r.predict(features_test_df1)"
   ]
  },
  {
   "cell_type": "markdown",
   "metadata": {},
   "source": [
    "Let's print the average predicted oil reserve and RMSE model"
   ]
  },
  {
   "cell_type": "code",
   "execution_count": 17,
   "metadata": {},
   "outputs": [
    {
     "name": "stdout",
     "output_type": "stream",
     "text": [
      "Average oil reserve fact 92.07859674082941\n",
      "Average oil reserve predict 92.59256778438035\n",
      "RMSE 37.5794217150813\n"
     ]
    }
   ],
   "source": [
    "print('Average oil reserve fact', target_test_df1.mean())\n",
    "print('Average oil reserve predict', predic_df1.mean())\n",
    "print('RMSE', mean_squared_error(target_test_df1, predic_df1) ** 0.5)"
   ]
  },
  {
   "cell_type": "code",
   "execution_count": 18,
   "metadata": {},
   "outputs": [
    {
     "name": "stdout",
     "output_type": "stream",
     "text": [
      "Feature - Feature Importance\n",
      "f0 3.5928058490640447\n",
      "f1 -14.097944194480634\n",
      "f2 6.593166172509485\n"
     ]
    }
   ],
   "source": [
    "print('Feature - Feature Importance')\n",
    "for feature, coeff in zip(df1.columns, model_ln_r.coef_.T):\n",
    "    print(feature, coeff)"
   ]
  },
  {
   "cell_type": "markdown",
   "metadata": {},
   "source": [
    "**Set 2**"
   ]
  },
  {
   "cell_type": "code",
   "execution_count": 19,
   "metadata": {},
   "outputs": [],
   "source": [
    "features = df2.drop('product', axis= 1)\n",
    "target = df2['product']"
   ]
  },
  {
   "cell_type": "code",
   "execution_count": 20,
   "metadata": {},
   "outputs": [
    {
     "name": "stdout",
     "output_type": "stream",
     "text": [
      "0.75 0.75\n"
     ]
    }
   ],
   "source": [
    "features_train_df2, features_test_df2, target_train_df2, target_test_df2 = train_test_split(\n",
    "                       features, target, test_size = 0.25, random_state = 12345)\n",
    "## split check\n",
    "print(len(features_train_df2)/len(df2), len(target_train_df2)/len(df2))"
   ]
  },
  {
   "cell_type": "code",
   "execution_count": 21,
   "metadata": {},
   "outputs": [],
   "source": [
    "model_ln_r.fit(features_train_df2, target_train_df2)\n",
    "predic_df2 = model_ln_r.predict(features_test_df2)"
   ]
  },
  {
   "cell_type": "markdown",
   "metadata": {},
   "source": [
    "Let's print the average predicted oil reserve and RMSE model"
   ]
  },
  {
   "cell_type": "code",
   "execution_count": 22,
   "metadata": {},
   "outputs": [
    {
     "name": "stdout",
     "output_type": "stream",
     "text": [
      "Average oil reserve fact 68.72313602437494\n",
      "Average oil reserve predict 68.728546895446\n",
      "RMSE 0.893099286775617\n"
     ]
    }
   ],
   "source": [
    "print('Average oil reserve fact', target_test_df2.mean())\n",
    "print('Average oil reserve predict', predic_df2.mean())\n",
    "print('RMSE', mean_squared_error(target_test_df2, predic_df2) ** 0.5)"
   ]
  },
  {
   "cell_type": "code",
   "execution_count": 23,
   "metadata": {},
   "outputs": [
    {
     "name": "stdout",
     "output_type": "stream",
     "text": [
      "Feature - Feature Importance\n",
      "f0 -0.14494096735303977\n",
      "f1 -0.022027854174969413\n",
      "f2 26.95118049538883\n"
     ]
    }
   ],
   "source": [
    "print('Feature - Feature Importance')\n",
    "for feature, coeff in zip(df2.columns, model_ln_r.coef_.T):\n",
    "    print(feature, coeff)"
   ]
  },
  {
   "cell_type": "markdown",
   "metadata": {},
   "source": [
    "**Set 3**"
   ]
  },
  {
   "cell_type": "code",
   "execution_count": 25,
   "metadata": {},
   "outputs": [],
   "source": [
    "features = df3.drop('product', axis= 1)\n",
    "target = df3['product']"
   ]
  },
  {
   "cell_type": "code",
   "execution_count": 26,
   "metadata": {},
   "outputs": [
    {
     "name": "stdout",
     "output_type": "stream",
     "text": [
      "0.75 0.75\n"
     ]
    }
   ],
   "source": [
    "features_train_df3, features_test_df3, target_train_df3, target_test_df3 = train_test_split(\n",
    "                       features, target, test_size = 0.25, random_state = 12345)\n",
    "## split check\n",
    "print(len(features_train_df3)/len(df3), len(target_train_df3)/len(df3))"
   ]
  },
  {
   "cell_type": "code",
   "execution_count": 27,
   "metadata": {},
   "outputs": [],
   "source": [
    "model_ln_r.fit(features_train_df3, target_train_df3)\n",
    "predic_df3 = model_ln_r.predict(features_test_df3)"
   ]
  },
  {
   "cell_type": "code",
   "execution_count": 28,
   "metadata": {},
   "outputs": [
    {
     "name": "stdout",
     "output_type": "stream",
     "text": [
      "Average oil reserve fact 94.88423280885489\n",
      "Average oil reserve predict 94.96504596800489\n",
      "RMSE 40.02970873393434\n"
     ]
    }
   ],
   "source": [
    "print('Average oil reserve fact', target_test_df3.mean())\n",
    "print('Average oil reserve predict', predic_df3.mean())\n",
    "print('RMSE', mean_squared_error(target_test_df3, predic_df3) ** 0.5)"
   ]
  },
  {
   "cell_type": "code",
   "execution_count": 29,
   "metadata": {},
   "outputs": [
    {
     "name": "stdout",
     "output_type": "stream",
     "text": [
      "Feature - Feature Importance\n",
      "f0 0.030935725376218248\n",
      "f1 -0.04187718522708295\n",
      "f2 5.708542431435447\n"
     ]
    }
   ],
   "source": [
    "print('Feature - Feature Importance')\n",
    "for feature, coeff in zip(df3.columns, model_ln_r.coef_.T):\n",
    "    print(feature, coeff)"
   ]
  },
  {
   "cell_type": "markdown",
   "metadata": {},
   "source": [
    "**Conclusion:**\n",
    "\n",
    "- split all three sets into training and test sets\n",
    "- trained a linear regression model and made a prediction on the test\n",
    "- looked at the coefficients for each of the indicators in the model\n",
    "- the minimum RMSE value was obtained for model 2 **(0.89)**, it can be considered the most accurate (I believe this is due to the specifics of the data in this set)\n",
    "- while the average oil reserve in the second region is minimal\n",
    "- the results for the average reserve of deposits on the test `prediction - true value` differ slightly"
   ]
  },
  {
   "cell_type": "markdown",
   "metadata": {},
   "source": [
    "## Preparation for profit calculation"
   ]
  },
  {
   "cell_type": "markdown",
   "metadata": {},
   "source": [
    "It is necessary to calculate a sufficient volume of oil reserves for break-even development of a new well. Compare the received volume of raw materials with the average stock in each region\n",
    "\n",
    "\n",
    "- During the exploration of the region, **500 wells** are explored, from which, using machine learning, the **200 best** are selected for development.\n",
    "- The budget for the development of wells in the region is **10 billion rubles**.\n",
    "- At current prices, one barrel of oil brings **450 rubles** of income. The income from each unit of the product is **450 thousand rubles**, since the volume is indicated in thousands of barrels.\n",
    "- After assessing the risks, you need to leave only those regions in which the probability of losses is less than **2.5%**. Among them, choose the region with the highest average profit."
   ]
  },
  {
   "cell_type": "code",
   "execution_count": 30,
   "metadata": {},
   "outputs": [],
   "source": [
    "## Development budget in the region\n",
    "sum_all = 10_000_000_000\n",
    "## Explore 500 oil weels\n",
    "oil_well = 500\n",
    "## Choose TOP-200\n",
    "top_oil_well = 200\n",
    "## Revenue per unit of product\n",
    "income_one_oil_well = 450_000\n",
    "## Maximum Risk\n",
    "max_risk = 0.025 "
   ]
  },
  {
   "cell_type": "markdown",
   "metadata": {},
   "source": [
    "We calculate the required volume of oil reserves based on the economy and initial conditions:"
   ]
  },
  {
   "cell_type": "code",
   "execution_count": 30,
   "metadata": {},
   "outputs": [
    {
     "data": {
      "text/plain": [
       "111.11"
      ]
     },
     "execution_count": 30,
     "metadata": {},
     "output_type": "execute_result"
    }
   ],
   "source": [
    "round(sum_all/income_one_oil_well/top_oil_well,2)"
   ]
  },
  {
   "cell_type": "markdown",
   "metadata": {},
   "source": [
    "Write a function to calculate profit for selected wells and model predictions\n",
    "- Select wells with maximum prediction values\n",
    "- Sum the target value of the volume of raw materials corresponding to these predictions\n",
    "- Calculate the profit for the received volume of raw materials"
   ]
  },
  {
   "cell_type": "code",
   "execution_count": 31,
   "metadata": {},
   "outputs": [],
   "source": [
    "def profit(true_val, pred_val):\n",
    "    pred_val = pd.Series(pred_val).reset_index(drop = True)\n",
    "    true_val = pd.Series(true_val).reset_index(drop = True)\n",
    "    head_200 = pred_val.sort_values(ascending = False).head(top_oil_well).index\n",
    "    income = true_val[head_200].sum() * income_one_oil_well\n",
    "    profit = income - sum_all\n",
    "    return round(profit,2)"
   ]
  },
  {
   "cell_type": "code",
   "execution_count": 32,
   "metadata": {},
   "outputs": [
    {
     "name": "stdout",
     "output_type": "stream",
     "text": [
      "Region 1 profit  3,320,826,043.14\n",
      "Region 2 profit  2,415,086,696.68\n",
      "Region 3 profit  2,710,349,963.6\n"
     ]
    }
   ],
   "source": [
    "print(f'Region 1 profit {profit(target_test_df1, predic_df1): ,}')\n",
    "print(f'Region 2 profit {profit(target_test_df2, predic_df2): ,}')\n",
    "print(f'Region 3 profit {profit(target_test_df3, predic_df3): ,}')"
   ]
  },
  {
   "cell_type": "markdown",
   "metadata": {},
   "source": [
    "**Conclusion:**\n",
    "\n",
    "- to reach **\"break even\"** 200 wells must provide an average of **111.1** thousand barrels each.\n",
    "- none of our predictions gave such an average value on the test sample.\n",
    "- in this paragraph, we calculated the profit for the 200 best deposits in each of the regions and got very good results.\n",
    "- the bad news is that the calculation took into account the cost of researching 500 wells, and we selected the TOP-200 not from random 500, but from the entire volume of data from each region. In the next section of the study, we will simulate a random selection of 500 wells for the study and evaluate the results."
   ]
  },
  {
   "cell_type": "markdown",
   "metadata": {},
   "source": [
    "## Profit and Risk Calculation"
   ]
  },
  {
   "cell_type": "markdown",
   "metadata": {},
   "source": [
    "Now for each of the sets we use the Boostrap technique to simulate the situation of the search for deposits\n",
    "\n",
    "- Apply Bootstrap technique with 1000 samples to find profit distribution\n",
    "- Find the average profit, 95% confidence interval and risk of loss. Loss is negative profit"
   ]
  },
  {
   "cell_type": "code",
   "execution_count": 33,
   "metadata": {},
   "outputs": [],
   "source": [
    "state = np.random.RandomState(12345)"
   ]
  },
  {
   "cell_type": "markdown",
   "metadata": {},
   "source": [
    "**Set 1**  \n",
    "\n",
    "Boostrap and profit collection in one list"
   ]
  },
  {
   "cell_type": "code",
   "execution_count": 34,
   "metadata": {},
   "outputs": [],
   "source": [
    "values = []\n",
    "for i in range(1000):\n",
    "    subsample_true = pd.Series(target_test_df1).\\\n",
    "                reset_index(drop = True).sample(n = oil_well, replace = True, random_state = state)\n",
    "    subsample_predic = pd.Series(predic_df1).reset_index(drop = True)[subsample_true.index]\n",
    "    values.append(profit(subsample_true, subsample_predic))    "
   ]
  },
  {
   "cell_type": "markdown",
   "metadata": {},
   "source": [
    "Calculation of indicators for assessing the prospects of the region:"
   ]
  },
  {
   "cell_type": "code",
   "execution_count": 35,
   "metadata": {},
   "outputs": [],
   "source": [
    "values = pd.Series(values)\n",
    "mean = values.mean()\n",
    "risk = (values < 0).mean()\n",
    "\n",
    "lower = values.quantile(0.025)\n",
    "upper = values.quantile(0.975)\n",
    "interval = (lower, upper)"
   ]
  },
  {
   "cell_type": "code",
   "execution_count": 36,
   "metadata": {},
   "outputs": [
    {
     "name": "stdout",
     "output_type": "stream",
     "text": [
      "Average profit:  396,164,984.8\n",
      "95% confidence interval: (-111215545.89, 909766941.5539998)\n",
      "Risk of loss, %: 6.9\n"
     ]
    }
   ],
   "source": [
    "print(f'Average profit: {round(mean,2): ,}')\n",
    "print(f'95% confidence interval: {interval}') \n",
    "print(f'Risk of loss, %: {round(risk*100, 2)}')"
   ]
  },
  {
   "cell_type": "markdown",
   "metadata": {},
   "source": [
    "**Set 2**  \n",
    "\n",
    "Boostrap and profit collection in one list"
   ]
  },
  {
   "cell_type": "code",
   "execution_count": 37,
   "metadata": {},
   "outputs": [],
   "source": [
    "values = []\n",
    "for i in range(1000):\n",
    "    subsample_true = pd.Series(target_test_df2).\\\n",
    "                reset_index(drop = True).sample(n = oil_well, replace = True, random_state = state)\n",
    "    subsample_predic = pd.Series(predic_df2).reset_index(drop = True)[subsample_true.index]\n",
    "    values.append(profit(subsample_true, subsample_predic))    "
   ]
  },
  {
   "cell_type": "markdown",
   "metadata": {},
   "source": [
    "Calculation of indicators for assessing the prospects of the region:"
   ]
  },
  {
   "cell_type": "code",
   "execution_count": 38,
   "metadata": {},
   "outputs": [],
   "source": [
    "values = pd.Series(values)\n",
    "mean = values.mean()\n",
    "risk = (values < 0).mean()\n",
    "\n",
    "lower = values.quantile(0.025)\n",
    "upper = values.quantile(0.975)\n",
    "interval = (lower, upper)"
   ]
  },
  {
   "cell_type": "code",
   "execution_count": 39,
   "metadata": {},
   "outputs": [
    {
     "name": "stdout",
     "output_type": "stream",
     "text": [
      "Average profit:  461,155,817.28\n",
      "95% confidence interval: (78050810.74800001, 862952060.26)\n",
      "Risk of loss, %: 0.7\n"
     ]
    }
   ],
   "source": [
    "print(f'Average profit: {round(mean,2): ,}')\n",
    "print(f'95% confidence interval: {interval}') \n",
    "print(f'Risk of loss, %: {round(risk*100, 2)}')"
   ]
  },
  {
   "cell_type": "markdown",
   "metadata": {},
   "source": [
    "**Set 3**  \n",
    "\n",
    "Boostrap and profit collection in one list"
   ]
  },
  {
   "cell_type": "code",
   "execution_count": 40,
   "metadata": {},
   "outputs": [],
   "source": [
    "values = []\n",
    "for i in range(1000):\n",
    "    subsample_true = pd.Series(target_test_df3).\\\n",
    "                reset_index(drop = True).sample(n = oil_well, replace = True, random_state = state)\n",
    "    subsample_predic = pd.Series(predic_df3).reset_index(drop = True)[subsample_true.index]\n",
    "    values.append(profit(subsample_true, subsample_predic))    "
   ]
  },
  {
   "cell_type": "markdown",
   "metadata": {},
   "source": [
    "Calculation of indicators for assessing the prospects of the region:"
   ]
  },
  {
   "cell_type": "code",
   "execution_count": 41,
   "metadata": {},
   "outputs": [],
   "source": [
    "values = pd.Series(values)\n",
    "mean = values.mean()\n",
    "risk = (values < 0).mean()\n",
    "\n",
    "lower = values.quantile(0.025)\n",
    "upper = values.quantile(0.975)\n",
    "interval = (lower, upper)"
   ]
  },
  {
   "cell_type": "code",
   "execution_count": 42,
   "metadata": {},
   "outputs": [
    {
     "name": "stdout",
     "output_type": "stream",
     "text": [
      "Average profit:  392,950,475.17\n",
      "95% confidence interval: (-112227625.37975, 934562914.5469998)\n",
      "Risk of loss, %: 6.5\n"
     ]
    }
   ],
   "source": [
    "print(f'Average profit: {round(mean,2): ,}')\n",
    "print(f'95% confidence interval: {interval}') \n",
    "print(f'Risk of loss, %: {round(risk*100, 2)}')"
   ]
  },
  {
   "cell_type": "markdown",
   "metadata": {},
   "source": [
    "**Conclusion**\n",
    "\n",
    "- all regions showed a positive average profit from **392** to **461** million rubles.\n",
    "- maximum risk indicator in the first and third regions > **2.5%** (admissible risk level according to the task condition)\n",
    "- based on the above, I propose to start developing deposits in **region 2**:\n",
    "     - probability of risk - **0.7%** (minimum value out of three data sets)\n",
    "     - average income - **461** million rubles. (maximum average revenue from three regions)"
   ]
  },
  {
   "cell_type": "markdown",
   "metadata": {},
   "source": [
    "## **General conclusion**"
   ]
  },
  {
   "cell_type": "markdown",
   "metadata": {},
   "source": [
    "In this project, the following stages of research were carried out:\n",
    "- initial overview of the data:\n",
    "    - check for gaps and obvious duplicates\n",
    "    - verification of pairwise correlation of features\n",
    "    - distribution of reserves by fields in all regions\n",
    "- training a linear regression model (target feature - `reserves of the field`)\n",
    "    - split all three data sets into `train` and `test`\n",
    "    - trained the model and made a prediction\n",
    "    - evaluate accuracy on `test` by **RMSE** metric, compare stocks of raw materials on test on predicted and true values\n",
    "- completed the calculation of the business case:\n",
    "    - wrote a function for calculating profit\n",
    "    - at the first stage, without using the **boostrap** technique, we selected the 200 best birthplaces for each region according to the prediction and calculated the average income\n",
    "    - at the second stage, an approach was considered with a selection of 500 random deposits and an estimate of the average income + possible risk of the project not paying off\n",
    "- in conclusion, a region was selected for selective exploration and development of deposits - **Region 2**"
   ]
  }
 ],
 "metadata": {
  "ExecuteTimeLog": [
   {
    "duration": 1646,
    "start_time": "2021-10-10T07:36:24.389Z"
   },
   {
    "duration": 2711,
    "start_time": "2021-10-10T07:37:55.501Z"
   },
   {
    "duration": 6937,
    "start_time": "2021-10-10T07:38:07.503Z"
   },
   {
    "duration": 488,
    "start_time": "2021-10-10T07:38:26.998Z"
   },
   {
    "duration": 34,
    "start_time": "2021-10-10T07:39:05.726Z"
   },
   {
    "duration": 34,
    "start_time": "2021-10-10T07:39:20.354Z"
   },
   {
    "duration": 444,
    "start_time": "2021-10-10T07:39:56.057Z"
   },
   {
    "duration": 361,
    "start_time": "2021-10-10T07:40:04.285Z"
   },
   {
    "duration": 438,
    "start_time": "2021-10-10T07:40:26.429Z"
   },
   {
    "duration": 119,
    "start_time": "2021-10-10T07:40:33.722Z"
   },
   {
    "duration": 121,
    "start_time": "2021-10-10T07:40:43.787Z"
   },
   {
    "duration": 176,
    "start_time": "2021-10-10T07:41:00.862Z"
   },
   {
    "duration": 172,
    "start_time": "2021-10-10T07:46:55.074Z"
   },
   {
    "duration": 335,
    "start_time": "2021-10-10T07:51:42.964Z"
   },
   {
    "duration": 309,
    "start_time": "2021-10-10T07:51:53.632Z"
   },
   {
    "duration": 390,
    "start_time": "2021-10-10T07:52:11.415Z"
   },
   {
    "duration": 398,
    "start_time": "2021-10-10T07:52:33.930Z"
   },
   {
    "duration": 433,
    "start_time": "2021-10-10T07:53:07.651Z"
   },
   {
    "duration": 548,
    "start_time": "2021-10-10T07:53:15.016Z"
   },
   {
    "duration": 559,
    "start_time": "2021-10-10T07:54:13.647Z"
   },
   {
    "duration": 465,
    "start_time": "2021-10-10T07:54:47.682Z"
   },
   {
    "duration": 497,
    "start_time": "2021-10-10T07:55:10.412Z"
   },
   {
    "duration": 595,
    "start_time": "2021-10-10T07:57:59.585Z"
   },
   {
    "duration": 494,
    "start_time": "2021-10-10T07:58:12.912Z"
   },
   {
    "duration": 487,
    "start_time": "2021-10-10T07:59:20.799Z"
   },
   {
    "duration": 492,
    "start_time": "2021-10-10T08:01:32.149Z"
   },
   {
    "duration": 2282,
    "start_time": "2021-10-10T08:01:55.750Z"
   },
   {
    "duration": 812,
    "start_time": "2021-10-10T08:02:13.227Z"
   },
   {
    "duration": 109,
    "start_time": "2021-10-10T08:04:19.536Z"
   },
   {
    "duration": 818,
    "start_time": "2021-10-10T08:06:24.381Z"
   },
   {
    "duration": 33,
    "start_time": "2021-10-10T08:08:17.483Z"
   },
   {
    "duration": 34,
    "start_time": "2021-10-10T08:08:41.874Z"
   },
   {
    "duration": -39,
    "start_time": "2021-10-10T08:15:00.622Z"
   },
   {
    "duration": 25782,
    "start_time": "2021-10-10T08:15:39.240Z"
   },
   {
    "duration": 25809,
    "start_time": "2021-10-10T08:16:34.984Z"
   },
   {
    "duration": 470,
    "start_time": "2021-10-10T08:21:15.890Z"
   },
   {
    "duration": 420,
    "start_time": "2021-10-10T08:22:31.176Z"
   },
   {
    "duration": 25790,
    "start_time": "2021-10-10T08:22:35.061Z"
   },
   {
    "duration": 427,
    "start_time": "2021-10-10T08:25:18.188Z"
   },
   {
    "duration": 25901,
    "start_time": "2021-10-10T08:25:34.569Z"
   },
   {
    "duration": 455,
    "start_time": "2021-10-10T08:33:10.013Z"
   },
   {
    "duration": 25770,
    "start_time": "2021-10-10T08:33:28.151Z"
   },
   {
    "duration": 386,
    "start_time": "2021-10-10T08:37:43.468Z"
   },
   {
    "duration": 388,
    "start_time": "2021-10-10T08:37:47.383Z"
   },
   {
    "duration": 411,
    "start_time": "2021-10-10T08:37:56.603Z"
   },
   {
    "duration": 408,
    "start_time": "2021-10-10T08:38:06.098Z"
   },
   {
    "duration": 25966,
    "start_time": "2021-10-10T08:38:14.083Z"
   },
   {
    "duration": 26099,
    "start_time": "2021-10-10T08:38:40.059Z"
   },
   {
    "duration": 26233,
    "start_time": "2021-10-10T08:40:24.704Z"
   },
   {
    "duration": 10,
    "start_time": "2021-10-10T09:01:28.338Z"
   },
   {
    "duration": 18,
    "start_time": "2021-10-10T09:01:32.215Z"
   },
   {
    "duration": 324,
    "start_time": "2021-10-10T09:01:54.697Z"
   },
   {
    "duration": 17,
    "start_time": "2021-10-10T09:01:56.337Z"
   },
   {
    "duration": 106,
    "start_time": "2021-10-10T09:02:07.035Z"
   },
   {
    "duration": 18,
    "start_time": "2021-10-10T09:02:07.962Z"
   },
   {
    "duration": 121,
    "start_time": "2021-10-10T09:02:10.557Z"
   },
   {
    "duration": 16,
    "start_time": "2021-10-10T09:02:11.327Z"
   },
   {
    "duration": 342,
    "start_time": "2021-10-10T09:02:16.626Z"
   },
   {
    "duration": 17,
    "start_time": "2021-10-10T09:02:17.649Z"
   },
   {
    "duration": 119,
    "start_time": "2021-10-10T09:02:40.233Z"
   },
   {
    "duration": 119,
    "start_time": "2021-10-10T09:04:38.465Z"
   },
   {
    "duration": 25,
    "start_time": "2021-10-10T09:04:51.085Z"
   },
   {
    "duration": 9,
    "start_time": "2021-10-10T09:05:06.615Z"
   },
   {
    "duration": 17,
    "start_time": "2021-10-10T09:05:07.354Z"
   },
   {
    "duration": 20,
    "start_time": "2021-10-10T09:05:19.912Z"
   },
   {
    "duration": 15,
    "start_time": "2021-10-10T09:05:20.517Z"
   },
   {
    "duration": 28063,
    "start_time": "2021-10-10T09:07:03.159Z"
   },
   {
    "duration": 389,
    "start_time": "2021-10-10T09:29:11.553Z"
   },
   {
    "duration": 6,
    "start_time": "2021-10-10T09:29:18.262Z"
   },
   {
    "duration": 447,
    "start_time": "2021-10-10T09:29:18.586Z"
   },
   {
    "duration": 40,
    "start_time": "2021-10-10T09:29:19.035Z"
   },
   {
    "duration": 160,
    "start_time": "2021-10-10T09:29:19.426Z"
   },
   {
    "duration": 1056,
    "start_time": "2021-10-10T09:29:19.929Z"
   },
   {
    "duration": 459,
    "start_time": "2021-10-10T09:29:20.988Z"
   },
   {
    "duration": 26659,
    "start_time": "2021-10-10T09:29:21.450Z"
   },
   {
    "duration": 437,
    "start_time": "2021-10-10T09:29:48.112Z"
   },
   {
    "duration": 26386,
    "start_time": "2021-10-10T09:29:48.552Z"
   },
   {
    "duration": 399,
    "start_time": "2021-10-10T09:30:14.941Z"
   },
   {
    "duration": 25529,
    "start_time": "2021-10-10T09:30:15.343Z"
   },
   {
    "duration": 18,
    "start_time": "2021-10-10T09:30:40.874Z"
   },
   {
    "duration": 6,
    "start_time": "2021-10-10T11:08:33.369Z"
   },
   {
    "duration": 5,
    "start_time": "2021-10-10T11:08:36.496Z"
   },
   {
    "duration": 741,
    "start_time": "2021-10-10T11:08:59.168Z"
   },
   {
    "duration": 3,
    "start_time": "2021-10-10T11:09:05.780Z"
   },
   {
    "duration": 6,
    "start_time": "2021-10-10T11:09:08.810Z"
   },
   {
    "duration": 584,
    "start_time": "2021-10-10T11:09:09.597Z"
   },
   {
    "duration": 14,
    "start_time": "2021-10-10T11:09:32.887Z"
   },
   {
    "duration": 18,
    "start_time": "2021-10-10T11:09:42.718Z"
   },
   {
    "duration": 23,
    "start_time": "2021-10-10T11:11:11.620Z"
   },
   {
    "duration": 19,
    "start_time": "2021-10-10T11:11:24.010Z"
   },
   {
    "duration": 392,
    "start_time": "2021-10-10T11:12:44.051Z"
   },
   {
    "duration": 339,
    "start_time": "2021-10-10T11:12:53.323Z"
   },
   {
    "duration": 333,
    "start_time": "2021-10-10T11:13:07.373Z"
   },
   {
    "duration": 15,
    "start_time": "2021-10-10T11:13:45.146Z"
   },
   {
    "duration": 79,
    "start_time": "2021-10-10T11:13:48.979Z"
   },
   {
    "duration": 6,
    "start_time": "2021-10-10T11:13:55.201Z"
   },
   {
    "duration": 13,
    "start_time": "2021-10-10T11:14:02.773Z"
   },
   {
    "duration": 7,
    "start_time": "2021-10-10T11:23:20.646Z"
   },
   {
    "duration": 365,
    "start_time": "2021-10-10T11:26:52.291Z"
   },
   {
    "duration": 5,
    "start_time": "2021-10-10T11:26:56.239Z"
   },
   {
    "duration": 434,
    "start_time": "2021-10-10T11:26:56.527Z"
   },
   {
    "duration": 36,
    "start_time": "2021-10-10T11:26:56.964Z"
   },
   {
    "duration": 176,
    "start_time": "2021-10-10T11:26:57.129Z"
   },
   {
    "duration": 825,
    "start_time": "2021-10-10T11:26:57.574Z"
   },
   {
    "duration": 431,
    "start_time": "2021-10-10T11:26:58.402Z"
   },
   {
    "duration": 27114,
    "start_time": "2021-10-10T11:26:58.836Z"
   },
   {
    "duration": 403,
    "start_time": "2021-10-10T11:27:25.959Z"
   },
   {
    "duration": 26501,
    "start_time": "2021-10-10T11:27:26.365Z"
   },
   {
    "duration": 394,
    "start_time": "2021-10-10T11:27:52.869Z"
   },
   {
    "duration": 25966,
    "start_time": "2021-10-10T11:27:53.266Z"
   },
   {
    "duration": 28,
    "start_time": "2021-10-10T11:28:19.234Z"
   },
   {
    "duration": 6,
    "start_time": "2021-10-10T11:28:19.265Z"
   },
   {
    "duration": 14,
    "start_time": "2021-10-10T11:28:19.274Z"
   },
   {
    "duration": 20,
    "start_time": "2021-10-10T11:28:19.291Z"
   },
   {
    "duration": 57,
    "start_time": "2021-10-10T11:28:19.313Z"
   },
   {
    "duration": 448,
    "start_time": "2021-10-10T11:28:19.459Z"
   },
   {
    "duration": 8,
    "start_time": "2021-10-10T11:30:45.118Z"
   },
   {
    "duration": 7,
    "start_time": "2021-10-10T11:34:55.938Z"
   },
   {
    "duration": 19,
    "start_time": "2021-10-10T11:34:56.632Z"
   },
   {
    "duration": 6,
    "start_time": "2021-10-10T11:35:28.522Z"
   },
   {
    "duration": 19,
    "start_time": "2021-10-10T11:35:28.958Z"
   },
   {
    "duration": 13,
    "start_time": "2021-10-10T11:35:29.487Z"
   },
   {
    "duration": 8,
    "start_time": "2021-10-10T11:35:30.544Z"
   },
   {
    "duration": 6,
    "start_time": "2021-10-10T11:39:28.775Z"
   },
   {
    "duration": 20,
    "start_time": "2021-10-10T11:40:10.672Z"
   },
   {
    "duration": 12,
    "start_time": "2021-10-10T11:40:11.536Z"
   },
   {
    "duration": 7,
    "start_time": "2021-10-10T11:40:27.954Z"
   },
   {
    "duration": 8,
    "start_time": "2021-10-10T11:40:44.636Z"
   },
   {
    "duration": 6,
    "start_time": "2021-10-10T11:52:00.160Z"
   },
   {
    "duration": 21,
    "start_time": "2021-10-10T11:52:00.490Z"
   },
   {
    "duration": 16,
    "start_time": "2021-10-10T11:52:00.884Z"
   },
   {
    "duration": 9,
    "start_time": "2021-10-10T11:52:01.813Z"
   },
   {
    "duration": 434,
    "start_time": "2021-10-10T11:52:02.330Z"
   },
   {
    "duration": 6,
    "start_time": "2021-10-10T11:52:20.839Z"
   },
   {
    "duration": 334,
    "start_time": "2021-10-10T11:52:33.522Z"
   },
   {
    "duration": 333,
    "start_time": "2021-10-10T11:54:23.892Z"
   },
   {
    "duration": 350,
    "start_time": "2021-10-10T11:54:50.062Z"
   },
   {
    "duration": 1897,
    "start_time": "2021-10-10T11:55:24.151Z"
   },
   {
    "duration": 6,
    "start_time": "2021-10-10T11:56:37.643Z"
   },
   {
    "duration": 523,
    "start_time": "2021-10-10T11:56:50.405Z"
   },
   {
    "duration": 418,
    "start_time": "2021-10-10T11:57:42.487Z"
   },
   {
    "duration": 315,
    "start_time": "2021-10-10T11:57:49.464Z"
   },
   {
    "duration": 5,
    "start_time": "2021-10-10T11:58:08.153Z"
   },
   {
    "duration": 9,
    "start_time": "2021-10-10T12:01:30.093Z"
   },
   {
    "duration": 351,
    "start_time": "2021-10-10T12:01:52.339Z"
   },
   {
    "duration": 349,
    "start_time": "2021-10-10T12:01:56.959Z"
   },
   {
    "duration": 9,
    "start_time": "2021-10-10T12:02:19.854Z"
   },
   {
    "duration": 6,
    "start_time": "2021-10-10T12:02:30.087Z"
   },
   {
    "duration": 6,
    "start_time": "2021-10-10T12:02:38.074Z"
   },
   {
    "duration": 5,
    "start_time": "2021-10-10T12:02:44.162Z"
   },
   {
    "duration": 6,
    "start_time": "2021-10-10T12:02:55.091Z"
   },
   {
    "duration": 328,
    "start_time": "2021-10-10T12:03:42.728Z"
   },
   {
    "duration": 299,
    "start_time": "2021-10-10T12:04:01.373Z"
   },
   {
    "duration": 9,
    "start_time": "2021-10-10T12:05:20.272Z"
   },
   {
    "duration": 7,
    "start_time": "2021-10-10T12:05:31.427Z"
   },
   {
    "duration": 5,
    "start_time": "2021-10-10T12:05:46.379Z"
   },
   {
    "duration": 6,
    "start_time": "2021-10-10T12:06:41.925Z"
   },
   {
    "duration": 6,
    "start_time": "2021-10-10T12:06:59.731Z"
   },
   {
    "duration": 20,
    "start_time": "2021-10-10T12:07:01.686Z"
   },
   {
    "duration": 20,
    "start_time": "2021-10-10T12:07:07.612Z"
   },
   {
    "duration": 7,
    "start_time": "2021-10-10T12:07:08.521Z"
   },
   {
    "duration": 6,
    "start_time": "2021-10-10T12:07:19.519Z"
   },
   {
    "duration": 6,
    "start_time": "2021-10-10T12:07:29.784Z"
   },
   {
    "duration": 20,
    "start_time": "2021-10-10T12:07:30.230Z"
   },
   {
    "duration": 22,
    "start_time": "2021-10-10T12:07:30.784Z"
   },
   {
    "duration": 7,
    "start_time": "2021-10-10T12:07:31.534Z"
   },
   {
    "duration": 6,
    "start_time": "2021-10-10T12:07:36.504Z"
   },
   {
    "duration": 4,
    "start_time": "2021-10-10T12:20:58.323Z"
   },
   {
    "duration": 4,
    "start_time": "2021-10-10T12:23:32.837Z"
   },
   {
    "duration": 5,
    "start_time": "2021-10-10T12:25:17.096Z"
   },
   {
    "duration": 5,
    "start_time": "2021-10-10T13:21:42.818Z"
   },
   {
    "duration": 4,
    "start_time": "2021-10-10T13:44:44.314Z"
   },
   {
    "duration": 120,
    "start_time": "2021-10-10T13:45:13.760Z"
   },
   {
    "duration": 766,
    "start_time": "2021-10-10T13:45:53.479Z"
   },
   {
    "duration": 5,
    "start_time": "2021-10-10T13:46:09.970Z"
   },
   {
    "duration": 668,
    "start_time": "2021-10-10T13:46:11.011Z"
   },
   {
    "duration": 396,
    "start_time": "2021-10-10T13:46:21.830Z"
   },
   {
    "duration": 6,
    "start_time": "2021-10-10T13:46:27.514Z"
   },
   {
    "duration": 364,
    "start_time": "2021-10-10T13:46:34.872Z"
   },
   {
    "duration": 328,
    "start_time": "2021-10-10T13:46:46.445Z"
   },
   {
    "duration": 1393,
    "start_time": "2021-10-10T13:47:51.330Z"
   },
   {
    "duration": 7,
    "start_time": "2021-10-10T13:48:15.224Z"
   },
   {
    "duration": 5,
    "start_time": "2021-10-10T13:48:30.828Z"
   },
   {
    "duration": 7,
    "start_time": "2021-10-10T13:48:31.885Z"
   },
   {
    "duration": 15,
    "start_time": "2021-10-10T13:48:35.068Z"
   },
   {
    "duration": 11,
    "start_time": "2021-10-10T13:48:52.437Z"
   },
   {
    "duration": 375,
    "start_time": "2021-10-10T13:49:34.926Z"
   },
   {
    "duration": 362,
    "start_time": "2021-10-10T13:49:46.543Z"
   },
   {
    "duration": 348,
    "start_time": "2021-10-10T13:50:11.192Z"
   },
   {
    "duration": 362,
    "start_time": "2021-10-10T13:50:12.142Z"
   },
   {
    "duration": 6,
    "start_time": "2021-10-10T13:50:19.925Z"
   },
   {
    "duration": 329,
    "start_time": "2021-10-10T13:50:54.083Z"
   },
   {
    "duration": 7,
    "start_time": "2021-10-10T13:51:00.947Z"
   },
   {
    "duration": 336,
    "start_time": "2021-10-10T13:51:10.487Z"
   },
   {
    "duration": 4,
    "start_time": "2021-10-10T13:51:22.333Z"
   },
   {
    "duration": 109,
    "start_time": "2021-10-10T13:51:37.028Z"
   },
   {
    "duration": 365,
    "start_time": "2021-10-10T13:51:55.228Z"
   },
   {
    "duration": 11,
    "start_time": "2021-10-10T13:52:03.814Z"
   },
   {
    "duration": 13,
    "start_time": "2021-10-10T13:52:09.153Z"
   },
   {
    "duration": 13,
    "start_time": "2021-10-10T13:52:29.917Z"
   },
   {
    "duration": 12,
    "start_time": "2021-10-10T13:52:53.466Z"
   },
   {
    "duration": 13,
    "start_time": "2021-10-10T13:53:00.434Z"
   },
   {
    "duration": 12,
    "start_time": "2021-10-10T13:53:08.634Z"
   },
   {
    "duration": 359,
    "start_time": "2021-10-10T13:53:16.369Z"
   },
   {
    "duration": 5,
    "start_time": "2021-10-10T13:53:21.936Z"
   },
   {
    "duration": 16,
    "start_time": "2021-10-10T13:53:22.831Z"
   },
   {
    "duration": 14,
    "start_time": "2021-10-10T13:53:30.159Z"
   },
   {
    "duration": 6,
    "start_time": "2021-10-10T13:54:09.882Z"
   },
   {
    "duration": 5,
    "start_time": "2021-10-10T13:58:21.021Z"
   },
   {
    "duration": 13,
    "start_time": "2021-10-10T13:59:08.732Z"
   },
   {
    "duration": 392,
    "start_time": "2021-10-10T14:01:43.260Z"
   },
   {
    "duration": 13,
    "start_time": "2021-10-10T14:01:51.461Z"
   },
   {
    "duration": 420,
    "start_time": "2021-10-10T14:04:30.737Z"
   },
   {
    "duration": 411,
    "start_time": "2021-10-10T14:04:41.175Z"
   },
   {
    "duration": 5,
    "start_time": "2021-10-10T14:04:44.318Z"
   },
   {
    "duration": 364,
    "start_time": "2021-10-10T14:04:44.715Z"
   },
   {
    "duration": 1201,
    "start_time": "2021-10-10T14:04:51.411Z"
   },
   {
    "duration": 378,
    "start_time": "2021-10-10T14:04:58.117Z"
   },
   {
    "duration": 11,
    "start_time": "2021-10-10T14:05:03.541Z"
   },
   {
    "duration": 336,
    "start_time": "2021-10-10T14:05:11.755Z"
   },
   {
    "duration": 12,
    "start_time": "2021-10-10T14:05:16.823Z"
   },
   {
    "duration": 10,
    "start_time": "2021-10-10T14:05:22.836Z"
   },
   {
    "duration": 365,
    "start_time": "2021-10-10T14:05:30.824Z"
   },
   {
    "duration": 361,
    "start_time": "2021-10-10T14:05:38.248Z"
   },
   {
    "duration": 477,
    "start_time": "2021-10-10T14:05:42.225Z"
   },
   {
    "duration": 338,
    "start_time": "2021-10-10T14:05:46.153Z"
   },
   {
    "duration": 339,
    "start_time": "2021-10-10T14:05:55.095Z"
   },
   {
    "duration": 11,
    "start_time": "2021-10-10T14:06:00.152Z"
   },
   {
    "duration": 11,
    "start_time": "2021-10-10T14:06:09.714Z"
   },
   {
    "duration": 25,
    "start_time": "2021-10-10T14:08:53.408Z"
   },
   {
    "duration": 5,
    "start_time": "2021-10-10T19:33:04.191Z"
   },
   {
    "duration": 443,
    "start_time": "2021-10-10T19:33:04.549Z"
   },
   {
    "duration": 34,
    "start_time": "2021-10-10T19:33:04.995Z"
   },
   {
    "duration": 208,
    "start_time": "2021-10-10T19:33:05.441Z"
   },
   {
    "duration": 871,
    "start_time": "2021-10-10T19:33:06.126Z"
   },
   {
    "duration": 422,
    "start_time": "2021-10-10T19:33:07.008Z"
   },
   {
    "duration": 25511,
    "start_time": "2021-10-10T19:33:07.433Z"
   },
   {
    "duration": 377,
    "start_time": "2021-10-10T19:33:32.957Z"
   },
   {
    "duration": 25195,
    "start_time": "2021-10-10T19:33:33.336Z"
   },
   {
    "duration": 401,
    "start_time": "2021-10-10T19:33:58.533Z"
   },
   {
    "duration": 26199,
    "start_time": "2021-10-10T19:33:58.937Z"
   },
   {
    "duration": 24,
    "start_time": "2021-10-10T19:34:25.140Z"
   },
   {
    "duration": 7,
    "start_time": "2021-10-10T19:34:25.169Z"
   },
   {
    "duration": 8,
    "start_time": "2021-10-10T19:34:25.179Z"
   },
   {
    "duration": 21,
    "start_time": "2021-10-10T19:34:25.190Z"
   },
   {
    "duration": 78,
    "start_time": "2021-10-10T19:34:25.214Z"
   },
   {
    "duration": 100,
    "start_time": "2021-10-10T19:34:25.359Z"
   },
   {
    "duration": 6,
    "start_time": "2021-10-10T19:34:25.461Z"
   },
   {
    "duration": 10,
    "start_time": "2021-10-10T19:34:25.469Z"
   },
   {
    "duration": 22,
    "start_time": "2021-10-10T19:34:25.482Z"
   },
   {
    "duration": 54,
    "start_time": "2021-10-10T19:34:25.507Z"
   },
   {
    "duration": 96,
    "start_time": "2021-10-10T19:34:25.564Z"
   },
   {
    "duration": 98,
    "start_time": "2021-10-10T19:34:25.663Z"
   },
   {
    "duration": 11,
    "start_time": "2021-10-10T19:34:25.766Z"
   },
   {
    "duration": 26,
    "start_time": "2021-10-10T19:34:25.780Z"
   },
   {
    "duration": 49,
    "start_time": "2021-10-10T19:34:25.809Z"
   },
   {
    "duration": 97,
    "start_time": "2021-10-10T19:34:25.866Z"
   },
   {
    "duration": 8,
    "start_time": "2021-10-10T19:34:25.966Z"
   },
   {
    "duration": 12,
    "start_time": "2021-10-10T19:34:25.977Z"
   },
   {
    "duration": 8,
    "start_time": "2021-10-10T19:34:25.991Z"
   },
   {
    "duration": 8,
    "start_time": "2021-10-10T19:34:26.001Z"
   },
   {
    "duration": 61,
    "start_time": "2021-10-10T19:34:26.011Z"
   },
   {
    "duration": 4,
    "start_time": "2021-10-10T19:51:28.088Z"
   },
   {
    "duration": 335,
    "start_time": "2021-10-10T19:51:28.839Z"
   },
   {
    "duration": 334,
    "start_time": "2021-10-10T19:51:53.461Z"
   },
   {
    "duration": 320,
    "start_time": "2021-10-10T19:51:58.805Z"
   },
   {
    "duration": 1118,
    "start_time": "2021-10-10T19:53:13.461Z"
   },
   {
    "duration": 672,
    "start_time": "2021-10-10T19:53:52.699Z"
   },
   {
    "duration": 6,
    "start_time": "2021-10-10T19:54:10.812Z"
   },
   {
    "duration": 6,
    "start_time": "2021-10-10T19:54:50.598Z"
   },
   {
    "duration": 4,
    "start_time": "2021-10-10T19:55:42.253Z"
   },
   {
    "duration": 663,
    "start_time": "2021-10-10T19:55:57.255Z"
   },
   {
    "duration": 4,
    "start_time": "2021-10-10T19:59:09.120Z"
   },
   {
    "duration": 114,
    "start_time": "2021-10-11T08:58:56.210Z"
   },
   {
    "duration": 5,
    "start_time": "2021-10-11T08:59:38.813Z"
   },
   {
    "duration": 23,
    "start_time": "2021-10-11T09:00:29.949Z"
   },
   {
    "duration": 22,
    "start_time": "2021-10-11T09:00:36.180Z"
   },
   {
    "duration": 11,
    "start_time": "2021-10-11T09:02:40.181Z"
   },
   {
    "duration": 320,
    "start_time": "2021-10-11T09:02:47.903Z"
   },
   {
    "duration": 6,
    "start_time": "2021-10-11T09:03:06.224Z"
   },
   {
    "duration": 135,
    "start_time": "2021-10-11T09:03:15.595Z"
   },
   {
    "duration": 9,
    "start_time": "2021-10-11T09:03:19.989Z"
   },
   {
    "duration": 10,
    "start_time": "2021-10-11T09:03:50.369Z"
   },
   {
    "duration": 16,
    "start_time": "2021-10-11T09:06:04.544Z"
   },
   {
    "duration": 6,
    "start_time": "2021-10-11T09:21:57.063Z"
   },
   {
    "duration": 5,
    "start_time": "2021-10-11T09:22:07.803Z"
   },
   {
    "duration": 5,
    "start_time": "2021-10-11T09:23:07.990Z"
   },
   {
    "duration": 4,
    "start_time": "2021-10-11T09:23:14.002Z"
   },
   {
    "duration": 4,
    "start_time": "2021-10-11T09:23:21.923Z"
   },
   {
    "duration": 5,
    "start_time": "2021-10-11T09:23:25.585Z"
   },
   {
    "duration": 23,
    "start_time": "2021-10-11T09:23:28.306Z"
   },
   {
    "duration": 4,
    "start_time": "2021-10-11T09:25:43.122Z"
   },
   {
    "duration": 1368,
    "start_time": "2021-10-11T09:25:44.767Z"
   },
   {
    "duration": 5,
    "start_time": "2021-10-11T09:26:10.767Z"
   },
   {
    "duration": 24,
    "start_time": "2021-10-11T09:26:12.190Z"
   },
   {
    "duration": 23,
    "start_time": "2021-10-11T09:26:46.603Z"
   },
   {
    "duration": 24,
    "start_time": "2021-10-11T09:26:55.598Z"
   },
   {
    "duration": 346,
    "start_time": "2021-10-11T09:59:53.787Z"
   },
   {
    "duration": 355,
    "start_time": "2021-10-11T10:00:13.538Z"
   },
   {
    "duration": 5,
    "start_time": "2021-10-11T10:02:08.769Z"
   },
   {
    "duration": 383,
    "start_time": "2021-10-11T10:02:17.916Z"
   },
   {
    "duration": 344,
    "start_time": "2021-10-11T10:02:36.082Z"
   },
   {
    "duration": 7,
    "start_time": "2021-10-11T10:03:23.540Z"
   },
   {
    "duration": 347,
    "start_time": "2021-10-11T10:03:45.137Z"
   },
   {
    "duration": 337,
    "start_time": "2021-10-11T10:03:57.043Z"
   },
   {
    "duration": 8,
    "start_time": "2021-10-11T10:06:24.973Z"
   },
   {
    "duration": 7,
    "start_time": "2021-10-11T10:06:25.813Z"
   },
   {
    "duration": 4864,
    "start_time": "2021-10-11T10:11:11.627Z"
   },
   {
    "duration": 4942,
    "start_time": "2021-10-11T10:11:27.020Z"
   },
   {
    "duration": 4866,
    "start_time": "2021-10-14T08:19:33.185Z"
   },
   {
    "duration": 173,
    "start_time": "2021-10-14T08:20:08.125Z"
   },
   {
    "duration": 4849,
    "start_time": "2021-10-14T08:20:13.819Z"
   },
   {
    "duration": 30,
    "start_time": "2021-10-14T08:21:32.860Z"
   },
   {
    "duration": 160,
    "start_time": "2021-10-14T08:22:12.776Z"
   },
   {
    "duration": 5328,
    "start_time": "2021-10-14T08:22:28.069Z"
   },
   {
    "duration": 4891,
    "start_time": "2021-10-14T08:22:45.200Z"
   },
   {
    "duration": 4846,
    "start_time": "2021-10-14T08:23:16.413Z"
   },
   {
    "duration": 5185,
    "start_time": "2021-10-14T08:23:54.516Z"
   },
   {
    "duration": 146,
    "start_time": "2021-10-14T08:24:36.899Z"
   },
   {
    "duration": 4871,
    "start_time": "2021-10-14T08:24:45.323Z"
   },
   {
    "duration": 5125,
    "start_time": "2021-10-14T08:25:49.447Z"
   },
   {
    "duration": 6,
    "start_time": "2021-10-14T08:25:54.574Z"
   },
   {
    "duration": 9,
    "start_time": "2021-10-14T08:25:54.582Z"
   },
   {
    "duration": 7,
    "start_time": "2021-10-14T08:25:54.593Z"
   },
   {
    "duration": 9,
    "start_time": "2021-10-14T08:27:39.098Z"
   },
   {
    "duration": 5,
    "start_time": "2021-10-14T08:27:42.450Z"
   },
   {
    "duration": 130,
    "start_time": "2021-10-14T08:28:26.664Z"
   },
   {
    "duration": 4840,
    "start_time": "2021-10-14T08:30:04.534Z"
   },
   {
    "duration": 9,
    "start_time": "2021-10-14T08:30:09.377Z"
   },
   {
    "duration": 21,
    "start_time": "2021-10-14T08:30:09.389Z"
   },
   {
    "duration": 4958,
    "start_time": "2021-10-14T08:30:09.413Z"
   },
   {
    "duration": 10,
    "start_time": "2021-10-14T08:30:14.374Z"
   },
   {
    "duration": 12,
    "start_time": "2021-10-14T08:30:14.386Z"
   },
   {
    "duration": 4977,
    "start_time": "2021-10-14T08:30:14.400Z"
   },
   {
    "duration": 10,
    "start_time": "2021-10-14T08:30:19.380Z"
   },
   {
    "duration": 14,
    "start_time": "2021-10-14T08:30:19.392Z"
   },
   {
    "duration": 1565,
    "start_time": "2021-10-14T08:48:17.152Z"
   },
   {
    "duration": 472,
    "start_time": "2021-10-14T08:48:18.720Z"
   },
   {
    "duration": 35,
    "start_time": "2021-10-14T08:48:19.196Z"
   },
   {
    "duration": 211,
    "start_time": "2021-10-14T08:48:19.234Z"
   },
   {
    "duration": 836,
    "start_time": "2021-10-14T08:48:19.447Z"
   },
   {
    "duration": 441,
    "start_time": "2021-10-14T08:48:20.286Z"
   },
   {
    "duration": 25830,
    "start_time": "2021-10-14T08:48:20.729Z"
   },
   {
    "duration": 376,
    "start_time": "2021-10-14T08:48:46.564Z"
   },
   {
    "duration": 26523,
    "start_time": "2021-10-14T08:48:46.943Z"
   },
   {
    "duration": 404,
    "start_time": "2021-10-14T08:49:13.469Z"
   },
   {
    "duration": 26961,
    "start_time": "2021-10-14T08:49:13.876Z"
   },
   {
    "duration": 33,
    "start_time": "2021-10-14T08:49:40.839Z"
   },
   {
    "duration": 6,
    "start_time": "2021-10-14T08:49:40.875Z"
   },
   {
    "duration": 7,
    "start_time": "2021-10-14T08:49:40.884Z"
   },
   {
    "duration": 71,
    "start_time": "2021-10-14T08:49:40.893Z"
   },
   {
    "duration": 19,
    "start_time": "2021-10-14T08:49:40.966Z"
   },
   {
    "duration": 10,
    "start_time": "2021-10-14T08:49:41.060Z"
   },
   {
    "duration": 93,
    "start_time": "2021-10-14T08:49:41.072Z"
   },
   {
    "duration": 7,
    "start_time": "2021-10-14T08:49:41.167Z"
   },
   {
    "duration": 20,
    "start_time": "2021-10-14T08:49:41.176Z"
   },
   {
    "duration": 76,
    "start_time": "2021-10-14T08:49:41.201Z"
   },
   {
    "duration": 100,
    "start_time": "2021-10-14T08:49:41.361Z"
   },
   {
    "duration": 7,
    "start_time": "2021-10-14T08:49:41.464Z"
   },
   {
    "duration": 14,
    "start_time": "2021-10-14T08:49:41.473Z"
   },
   {
    "duration": 20,
    "start_time": "2021-10-14T08:49:41.490Z"
   },
   {
    "duration": 62,
    "start_time": "2021-10-14T08:49:41.513Z"
   },
   {
    "duration": 14,
    "start_time": "2021-10-14T08:49:41.659Z"
   },
   {
    "duration": 6,
    "start_time": "2021-10-14T08:49:41.759Z"
   },
   {
    "duration": 8,
    "start_time": "2021-10-14T08:49:41.767Z"
   },
   {
    "duration": 8,
    "start_time": "2021-10-14T08:49:41.778Z"
   },
   {
    "duration": 7,
    "start_time": "2021-10-14T08:49:41.789Z"
   },
   {
    "duration": 82,
    "start_time": "2021-10-14T08:49:41.798Z"
   },
   {
    "duration": 4,
    "start_time": "2021-10-14T08:49:41.883Z"
   },
   {
    "duration": 4894,
    "start_time": "2021-10-14T08:49:41.889Z"
   },
   {
    "duration": 10,
    "start_time": "2021-10-14T08:49:46.785Z"
   },
   {
    "duration": 8,
    "start_time": "2021-10-14T08:49:46.797Z"
   },
   {
    "duration": 4678,
    "start_time": "2021-10-14T08:49:46.808Z"
   },
   {
    "duration": 12,
    "start_time": "2021-10-14T08:49:51.488Z"
   },
   {
    "duration": 23,
    "start_time": "2021-10-14T08:49:51.502Z"
   },
   {
    "duration": 4702,
    "start_time": "2021-10-14T08:49:51.528Z"
   },
   {
    "duration": 8,
    "start_time": "2021-10-14T08:49:56.233Z"
   },
   {
    "duration": 14,
    "start_time": "2021-10-14T08:49:56.243Z"
   }
  ],
  "kernelspec": {
   "display_name": "Python 3",
   "language": "python",
   "name": "python3"
  },
  "language_info": {
   "codemirror_mode": {
    "name": "ipython",
    "version": 3
   },
   "file_extension": ".py",
   "mimetype": "text/x-python",
   "name": "python",
   "nbconvert_exporter": "python",
   "pygments_lexer": "ipython3",
   "version": "3.8.5"
  },
  "toc": {
   "base_numbering": 1,
   "nav_menu": {},
   "number_sections": true,
   "sideBar": true,
   "skip_h1_title": true,
   "title_cell": "Table of Contents",
   "title_sidebar": "Contents",
   "toc_cell": false,
   "toc_position": {},
   "toc_section_display": true,
   "toc_window_display": false
  }
 },
 "nbformat": 4,
 "nbformat_minor": 2
}
