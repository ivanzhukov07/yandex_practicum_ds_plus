{
 "cells": [
  {
   "cell_type": "markdown",
   "metadata": {},
   "source": [
    "# Tariff recommendation"
   ]
  },
  {
   "cell_type": "markdown",
   "metadata": {},
   "source": [
    "We have at our disposal data on the behavior of customers who have already switched to these tariffs (from the draft course \"Statistical Data Analysis\"). You need to build a model for the classification problem that will select the appropriate rate. Data preprocessing is not required - you have already done it.\n",
    "\n",
    "Build the model with the largest possible *accuracy* value. To pass the project successfully, we need to bring the percentage of correct answers to at least 0.75. Check *accuracy* on the test set yourself."
   ]
  },
  {
   "cell_type": "markdown",
   "metadata": {},
   "source": [
    "## Open and examine the file"
   ]
  },
  {
   "cell_type": "code",
   "execution_count": 1,
   "metadata": {},
   "outputs": [],
   "source": [
    "import pandas as pd\n",
    "import numpy as np\n",
    "import matplotlib.pyplot as plt\n",
    "import seaborn as sns\n",
    "\n",
    "from sklearn.model_selection import train_test_split\n",
    "\n",
    "from sklearn.linear_model import LogisticRegression\n",
    "from sklearn.tree import DecisionTreeClassifier\n",
    "from sklearn.ensemble import RandomForestClassifier\n",
    "\n",
    "from sklearn.metrics import accuracy_score"
   ]
  },
  {
   "cell_type": "markdown",
   "metadata": {},
   "source": [
    "**Data Description**\n",
    "\n",
    "Each object in the data set is information about the behavior of one user per month.\n",
    "\n",
    "We known:\n",
    "* `calls` - number of calls,\n",
    "* `minutes` - total duration of calls in minutes,\n",
    "* `messages` - number of sms messages,\n",
    "* `mb_used` - used Internet traffic in Mb,\n",
    "* `is_ultra` - what tariff did you use during the month (\"Ultra\" - **1**, \"Smart\" - **0**).\n",
    "\n",
    "This time we don't have many fields, so it won't take long to see the data."
   ]
  },
  {
   "cell_type": "code",
   "execution_count": 2,
   "metadata": {},
   "outputs": [],
   "source": [
    "df = pd.read_csv('/datasets/users_behavior.csv')"
   ]
  },
  {
   "cell_type": "code",
   "execution_count": 3,
   "metadata": {},
   "outputs": [
    {
     "data": {
      "text/html": [
       "<div>\n",
       "<style scoped>\n",
       "    .dataframe tbody tr th:only-of-type {\n",
       "        vertical-align: middle;\n",
       "    }\n",
       "\n",
       "    .dataframe tbody tr th {\n",
       "        vertical-align: top;\n",
       "    }\n",
       "\n",
       "    .dataframe thead th {\n",
       "        text-align: right;\n",
       "    }\n",
       "</style>\n",
       "<table border=\"1\" class=\"dataframe\">\n",
       "  <thead>\n",
       "    <tr style=\"text-align: right;\">\n",
       "      <th></th>\n",
       "      <th>calls</th>\n",
       "      <th>minutes</th>\n",
       "      <th>messages</th>\n",
       "      <th>mb_used</th>\n",
       "      <th>is_ultra</th>\n",
       "    </tr>\n",
       "  </thead>\n",
       "  <tbody>\n",
       "    <tr>\n",
       "      <th>0</th>\n",
       "      <td>40.0</td>\n",
       "      <td>311.90</td>\n",
       "      <td>83.0</td>\n",
       "      <td>19915.42</td>\n",
       "      <td>0</td>\n",
       "    </tr>\n",
       "    <tr>\n",
       "      <th>1</th>\n",
       "      <td>85.0</td>\n",
       "      <td>516.75</td>\n",
       "      <td>56.0</td>\n",
       "      <td>22696.96</td>\n",
       "      <td>0</td>\n",
       "    </tr>\n",
       "    <tr>\n",
       "      <th>2</th>\n",
       "      <td>77.0</td>\n",
       "      <td>467.66</td>\n",
       "      <td>86.0</td>\n",
       "      <td>21060.45</td>\n",
       "      <td>0</td>\n",
       "    </tr>\n",
       "  </tbody>\n",
       "</table>\n",
       "</div>"
      ],
      "text/plain": [
       "   calls  minutes  messages   mb_used  is_ultra\n",
       "0   40.0   311.90      83.0  19915.42         0\n",
       "1   85.0   516.75      56.0  22696.96         0\n",
       "2   77.0   467.66      86.0  21060.45         0"
      ]
     },
     "execution_count": 3,
     "metadata": {},
     "output_type": "execute_result"
    }
   ],
   "source": [
    "df.head(3)"
   ]
  },
  {
   "cell_type": "code",
   "execution_count": 4,
   "metadata": {},
   "outputs": [
    {
     "name": "stdout",
     "output_type": "stream",
     "text": [
      "<class 'pandas.core.frame.DataFrame'>\n",
      "RangeIndex: 3214 entries, 0 to 3213\n",
      "Data columns (total 5 columns):\n",
      " #   Column    Non-Null Count  Dtype  \n",
      "---  ------    --------------  -----  \n",
      " 0   calls     3214 non-null   float64\n",
      " 1   minutes   3214 non-null   float64\n",
      " 2   messages  3214 non-null   float64\n",
      " 3   mb_used   3214 non-null   float64\n",
      " 4   is_ultra  3214 non-null   int64  \n",
      "dtypes: float64(4), int64(1)\n",
      "memory usage: 125.7 KB\n"
     ]
    }
   ],
   "source": [
    "df.info()"
   ]
  },
  {
   "cell_type": "markdown",
   "metadata": {},
   "source": [
    "* no passes\n",
    "* data types are also logical, in our dataset there are **5 fields**, all of them are numeric:\n",
    "     * **4 fields** - real\n",
    "     * **1 field** - integer"
   ]
  },
  {
   "cell_type": "code",
   "execution_count": 5,
   "metadata": {},
   "outputs": [
    {
     "data": {
      "text/html": [
       "<div>\n",
       "<style scoped>\n",
       "    .dataframe tbody tr th:only-of-type {\n",
       "        vertical-align: middle;\n",
       "    }\n",
       "\n",
       "    .dataframe tbody tr th {\n",
       "        vertical-align: top;\n",
       "    }\n",
       "\n",
       "    .dataframe thead th {\n",
       "        text-align: right;\n",
       "    }\n",
       "</style>\n",
       "<table border=\"1\" class=\"dataframe\">\n",
       "  <thead>\n",
       "    <tr style=\"text-align: right;\">\n",
       "      <th></th>\n",
       "      <th>count</th>\n",
       "      <th>mean</th>\n",
       "      <th>std</th>\n",
       "      <th>min</th>\n",
       "      <th>25%</th>\n",
       "      <th>50%</th>\n",
       "      <th>75%</th>\n",
       "      <th>max</th>\n",
       "    </tr>\n",
       "  </thead>\n",
       "  <tbody>\n",
       "    <tr>\n",
       "      <th>calls</th>\n",
       "      <td>3214.0</td>\n",
       "      <td>63.038892</td>\n",
       "      <td>33.236368</td>\n",
       "      <td>0.0</td>\n",
       "      <td>40.0000</td>\n",
       "      <td>62.000</td>\n",
       "      <td>82.0000</td>\n",
       "      <td>244.00</td>\n",
       "    </tr>\n",
       "    <tr>\n",
       "      <th>minutes</th>\n",
       "      <td>3214.0</td>\n",
       "      <td>438.208787</td>\n",
       "      <td>234.569872</td>\n",
       "      <td>0.0</td>\n",
       "      <td>274.5750</td>\n",
       "      <td>430.600</td>\n",
       "      <td>571.9275</td>\n",
       "      <td>1632.06</td>\n",
       "    </tr>\n",
       "    <tr>\n",
       "      <th>messages</th>\n",
       "      <td>3214.0</td>\n",
       "      <td>38.281269</td>\n",
       "      <td>36.148326</td>\n",
       "      <td>0.0</td>\n",
       "      <td>9.0000</td>\n",
       "      <td>30.000</td>\n",
       "      <td>57.0000</td>\n",
       "      <td>224.00</td>\n",
       "    </tr>\n",
       "    <tr>\n",
       "      <th>mb_used</th>\n",
       "      <td>3214.0</td>\n",
       "      <td>17207.673836</td>\n",
       "      <td>7570.968246</td>\n",
       "      <td>0.0</td>\n",
       "      <td>12491.9025</td>\n",
       "      <td>16943.235</td>\n",
       "      <td>21424.7000</td>\n",
       "      <td>49745.73</td>\n",
       "    </tr>\n",
       "    <tr>\n",
       "      <th>is_ultra</th>\n",
       "      <td>3214.0</td>\n",
       "      <td>0.306472</td>\n",
       "      <td>0.461100</td>\n",
       "      <td>0.0</td>\n",
       "      <td>0.0000</td>\n",
       "      <td>0.000</td>\n",
       "      <td>1.0000</td>\n",
       "      <td>1.00</td>\n",
       "    </tr>\n",
       "  </tbody>\n",
       "</table>\n",
       "</div>"
      ],
      "text/plain": [
       "           count          mean          std  min         25%        50%  \\\n",
       "calls     3214.0     63.038892    33.236368  0.0     40.0000     62.000   \n",
       "minutes   3214.0    438.208787   234.569872  0.0    274.5750    430.600   \n",
       "messages  3214.0     38.281269    36.148326  0.0      9.0000     30.000   \n",
       "mb_used   3214.0  17207.673836  7570.968246  0.0  12491.9025  16943.235   \n",
       "is_ultra  3214.0      0.306472     0.461100  0.0      0.0000      0.000   \n",
       "\n",
       "                 75%       max  \n",
       "calls        82.0000    244.00  \n",
       "minutes     571.9275   1632.06  \n",
       "messages     57.0000    224.00  \n",
       "mb_used   21424.7000  49745.73  \n",
       "is_ultra      1.0000      1.00  "
      ]
     },
     "execution_count": 5,
     "metadata": {},
     "output_type": "execute_result"
    }
   ],
   "source": [
    "df.describe().T"
   ]
  },
  {
   "cell_type": "markdown",
   "metadata": {},
   "source": [
    "* here, too, at first glance, everything is adequate"
   ]
  },
  {
   "cell_type": "code",
   "execution_count": 6,
   "metadata": {},
   "outputs": [
    {
     "data": {
      "text/html": [
       "<div>\n",
       "<style scoped>\n",
       "    .dataframe tbody tr th:only-of-type {\n",
       "        vertical-align: middle;\n",
       "    }\n",
       "\n",
       "    .dataframe tbody tr th {\n",
       "        vertical-align: top;\n",
       "    }\n",
       "\n",
       "    .dataframe thead th {\n",
       "        text-align: right;\n",
       "    }\n",
       "</style>\n",
       "<table border=\"1\" class=\"dataframe\">\n",
       "  <thead>\n",
       "    <tr style=\"text-align: right;\">\n",
       "      <th></th>\n",
       "      <th>calls</th>\n",
       "      <th>minutes</th>\n",
       "      <th>messages</th>\n",
       "      <th>mb_used</th>\n",
       "      <th>is_ultra</th>\n",
       "    </tr>\n",
       "  </thead>\n",
       "  <tbody>\n",
       "  </tbody>\n",
       "</table>\n",
       "</div>"
      ],
      "text/plain": [
       "Empty DataFrame\n",
       "Columns: [calls, minutes, messages, mb_used, is_ultra]\n",
       "Index: []"
      ]
     },
     "execution_count": 6,
     "metadata": {},
     "output_type": "execute_result"
    }
   ],
   "source": [
    "df[df.duplicated()]"
   ]
  },
  {
   "cell_type": "markdown",
   "metadata": {},
   "source": [
    "* no obvious duplicates"
   ]
  },
  {
   "cell_type": "markdown",
   "metadata": {},
   "source": [
    "**Conclusion**\n",
    "* read the file\n",
    "* made a brief description of the data\n",
    "* checked the dataset for obvious errors, they were not found"
   ]
  },
  {
   "cell_type": "code",
   "execution_count": 7,
   "metadata": {},
   "outputs": [
    {
     "data": {
      "image/png": "[encoded data removed]",
      "text/plain": [
       "<Figure size 432x288 with 2 Axes>"
      ]
     },
     "metadata": {
      "needs_background": "light"
     },
     "output_type": "display_data"
    }
   ],
   "source": [
    "sns.heatmap(df.corr())\n",
    "plt.suptitle(\"Correlation of variables\")\n",
    "plt.show()"
   ]
  },
  {
   "cell_type": "code",
   "execution_count": 8,
   "metadata": {
    "scrolled": true
   },
   "outputs": [
    {
     "data": {
      "image/png": "[encoded data removed]",
      "text/plain": [
       "<Figure size 504x504 with 25 Axes>"
      ]
     },
     "metadata": {
      "needs_background": "light"
     },
     "output_type": "display_data"
    }
   ],
   "source": [
    "pd.plotting.scatter_matrix(df, figsize=(7, 7))\n",
    "plt.suptitle(\"Correlation of variables\")\n",
    "plt.show()"
   ]
  },
  {
   "cell_type": "code",
   "execution_count": 9,
   "metadata": {},
   "outputs": [],
   "source": [
    "df = df.drop('minutes', axis = 1)"
   ]
  },
  {
   "cell_type": "markdown",
   "metadata": {},
   "source": [
    "## Divide the data into samples"
   ]
  },
  {
   "cell_type": "markdown",
   "metadata": {},
   "source": [
    "Let's decide on what signs future models will learn and what will be the target indicator (target):"
   ]
  },
  {
   "cell_type": "code",
   "execution_count": 10,
   "metadata": {},
   "outputs": [],
   "source": [
    "features = df.drop(['is_ultra'], axis=1)\n",
    "target = df['is_ultra']"
   ]
  },
  {
   "cell_type": "markdown",
   "metadata": {},
   "source": [
    "We need to split the original dataframe into **3 parts**:\n",
    "* `train` - data set on which we will train the model (**3 parts**)\n",
    "* `valid` - a data set on which the quality of the algorithm is checked during model training (**1 part**)\n",
    "* `test` - data set, on which the quality of the trained model will be checked (**1 part**)"
   ]
  },
  {
   "cell_type": "code",
   "execution_count": 11,
   "metadata": {},
   "outputs": [],
   "source": [
    "features_train_union, features_test, target_train_union, target_test = train_test_split(\n",
    "    features, target, test_size = 0.2, random_state = 12345, stratify = target) "
   ]
  },
  {
   "cell_type": "markdown",
   "metadata": {},
   "source": [
    "We will use the test sample at the very end, when the models are trained and tested."
   ]
  },
  {
   "cell_type": "markdown",
   "metadata": {},
   "source": [
    "Next, we split tds into train and valid"
   ]
  },
  {
   "cell_type": "code",
   "execution_count": 12,
   "metadata": {},
   "outputs": [],
   "source": [
    "features_train, features_valid, target_train, target_valid = train_test_split(\n",
    "    features_train_union, target_train_union, test_size = 0.25, random_state = 12345, stratify = target_train_union) "
   ]
  },
  {
   "cell_type": "markdown",
   "metadata": {},
   "source": [
    "Let's check the distribution by shares:"
   ]
  },
  {
   "cell_type": "code",
   "execution_count": 13,
   "metadata": {},
   "outputs": [
    {
     "name": "stdout",
     "output_type": "stream",
     "text": [
      "60%\n",
      "20%\n",
      "20%\n"
     ]
    }
   ],
   "source": [
    "print(\"{0:.0%}\".format(len(features_train)/len(df)))\n",
    "print(\"{0:.0%}\".format(len(features_valid)/len(df)))\n",
    "print(\"{0:.0%}\".format(len(features_test)/len(df)))"
   ]
  },
  {
   "cell_type": "markdown",
   "metadata": {},
   "source": [
    "**Conclusion**\n",
    "* determined the target feature and the features on which we will train the model\n",
    "* split the original data into **train-valid-test** in the ratio **3-1-1**"
   ]
  },
  {
   "cell_type": "code",
   "execution_count": 14,
   "metadata": {},
   "outputs": [
    {
     "name": "stdout",
     "output_type": "stream",
     "text": [
      "Number of rows in target_train_union by class: [1783  788]\n",
      "Number of rows in target_train by class: [1337  591]\n",
      "Number of rows in target_valid by class: [446 197]\n",
      "Number of lines in target_test by class: [446 197]\n"
     ]
    }
   ],
   "source": [
    "print(f\"Number of rows in target_train_union by class: {np.bincount(target_train_union)}\")\n",
    "print(f\"Number of rows in target_train by class: {np.bincount(target_train)}\")\n",
    "print(f\"Number of rows in target_valid by class: {np.bincount(target_valid)}\")\n",
    "print(f\"Number of lines in target_test by class: {np.bincount(target_test)}\")"
   ]
  },
  {
   "cell_type": "markdown",
   "metadata": {},
   "source": [
    "## Explore models"
   ]
  },
  {
   "cell_type": "markdown",
   "metadata": {},
   "source": [
    "### Logistic regression"
   ]
  },
  {
   "cell_type": "code",
   "execution_count": 15,
   "metadata": {},
   "outputs": [],
   "source": [
    "model_lr = LogisticRegression(random_state = 12345, solver = 'lbfgs')"
   ]
  },
  {
   "cell_type": "code",
   "execution_count": 16,
   "metadata": {},
   "outputs": [
    {
     "name": "stdout",
     "output_type": "stream",
     "text": [
      "CPU times: user 98 ms, sys: 15.5 ms, total: 113 ms\n",
      "Wall time: 200 ms\n"
     ]
    },
    {
     "data": {
      "text/html": [
       "<style>#sk-container-id-1 {color: black;background-color: white;}#sk-container-id-1 pre{padding: 0;}#sk-container-id-1 div.sk-toggleable {background-color: white;}#sk-container-id-1 label.sk-toggleable__label {cursor: pointer;display: block;width: 100%;margin-bottom: 0;padding: 0.3em;box-sizing: border-box;text-align: center;}#sk-container-id-1 label.sk-toggleable__label-arrow:before {content: \"▸\";float: left;margin-right: 0.25em;color: #696969;}#sk-container-id-1 label.sk-toggleable__label-arrow:hover:before {color: black;}#sk-container-id-1 div.sk-estimator:hover label.sk-toggleable__label-arrow:before {color: black;}#sk-container-id-1 div.sk-toggleable__content {max-height: 0;max-width: 0;overflow: hidden;text-align: left;background-color: #f0f8ff;}#sk-container-id-1 div.sk-toggleable__content pre {margin: 0.2em;color: black;border-radius: 0.25em;background-color: #f0f8ff;}#sk-container-id-1 input.sk-toggleable__control:checked~div.sk-toggleable__content {max-height: 200px;max-width: 100%;overflow: auto;}#sk-container-id-1 input.sk-toggleable__control:checked~label.sk-toggleable__label-arrow:before {content: \"▾\";}#sk-container-id-1 div.sk-estimator input.sk-toggleable__control:checked~label.sk-toggleable__label {background-color: #d4ebff;}#sk-container-id-1 div.sk-label input.sk-toggleable__control:checked~label.sk-toggleable__label {background-color: #d4ebff;}#sk-container-id-1 input.sk-hidden--visually {border: 0;clip: rect(1px 1px 1px 1px);clip: rect(1px, 1px, 1px, 1px);height: 1px;margin: -1px;overflow: hidden;padding: 0;position: absolute;width: 1px;}#sk-container-id-1 div.sk-estimator {font-family: monospace;background-color: #f0f8ff;border: 1px dotted black;border-radius: 0.25em;box-sizing: border-box;margin-bottom: 0.5em;}#sk-container-id-1 div.sk-estimator:hover {background-color: #d4ebff;}#sk-container-id-1 div.sk-parallel-item::after {content: \"\";width: 100%;border-bottom: 1px solid gray;flex-grow: 1;}#sk-container-id-1 div.sk-label:hover label.sk-toggleable__label {background-color: #d4ebff;}#sk-container-id-1 div.sk-serial::before {content: \"\";position: absolute;border-left: 1px solid gray;box-sizing: border-box;top: 0;bottom: 0;left: 50%;z-index: 0;}#sk-container-id-1 div.sk-serial {display: flex;flex-direction: column;align-items: center;background-color: white;padding-right: 0.2em;padding-left: 0.2em;position: relative;}#sk-container-id-1 div.sk-item {position: relative;z-index: 1;}#sk-container-id-1 div.sk-parallel {display: flex;align-items: stretch;justify-content: center;background-color: white;position: relative;}#sk-container-id-1 div.sk-item::before, #sk-container-id-1 div.sk-parallel-item::before {content: \"\";position: absolute;border-left: 1px solid gray;box-sizing: border-box;top: 0;bottom: 0;left: 50%;z-index: -1;}#sk-container-id-1 div.sk-parallel-item {display: flex;flex-direction: column;z-index: 1;position: relative;background-color: white;}#sk-container-id-1 div.sk-parallel-item:first-child::after {align-self: flex-end;width: 50%;}#sk-container-id-1 div.sk-parallel-item:last-child::after {align-self: flex-start;width: 50%;}#sk-container-id-1 div.sk-parallel-item:only-child::after {width: 0;}#sk-container-id-1 div.sk-dashed-wrapped {border: 1px dashed gray;margin: 0 0.4em 0.5em 0.4em;box-sizing: border-box;padding-bottom: 0.4em;background-color: white;}#sk-container-id-1 div.sk-label label {font-family: monospace;font-weight: bold;display: inline-block;line-height: 1.2em;}#sk-container-id-1 div.sk-label-container {text-align: center;}#sk-container-id-1 div.sk-container {/* jupyter's `normalize.less` sets `[hidden] { display: none; }` but bootstrap.min.css set `[hidden] { display: none !important; }` so we also need the `!important` here to be able to override the default hidden behavior on the sphinx rendered scikit-learn.org. See: https://github.com/scikit-learn/scikit-learn/issues/21755 */display: inline-block !important;position: relative;}#sk-container-id-1 div.sk-text-repr-fallback {display: none;}</style><div id=\"sk-container-id-1\" class=\"sk-top-container\"><div class=\"sk-text-repr-fallback\"><pre>LogisticRegression(random_state=12345)</pre><b>In a Jupyter environment, please rerun this cell to show the HTML representation or trust the notebook. <br />On GitHub, the HTML representation is unable to render, please try loading this page with nbviewer.org.</b></div><div class=\"sk-container\" hidden><div class=\"sk-item\"><div class=\"sk-estimator sk-toggleable\"><input class=\"sk-toggleable__control sk-hidden--visually\" id=\"sk-estimator-id-1\" type=\"checkbox\" checked><label for=\"sk-estimator-id-1\" class=\"sk-toggleable__label sk-toggleable__label-arrow\">LogisticRegression</label><div class=\"sk-toggleable__content\"><pre>LogisticRegression(random_state=12345)</pre></div></div></div></div></div>"
      ],
      "text/plain": [
       "LogisticRegression(random_state=12345)"
      ]
     },
     "execution_count": 16,
     "metadata": {},
     "output_type": "execute_result"
    }
   ],
   "source": [
    "%%time\n",
    "model_lr.fit(features_train, target_train) "
   ]
  },
  {
   "cell_type": "code",
   "execution_count": 17,
   "metadata": {},
   "outputs": [
    {
     "name": "stdout",
     "output_type": "stream",
     "text": [
      "71%\n"
     ]
    }
   ],
   "source": [
    "print(\"{0:.000%}\".format(model_lr.score(features_valid, target_valid)))"
   ]
  },
  {
   "cell_type": "markdown",
   "metadata": {},
   "source": [
    "### Decision tree"
   ]
  },
  {
   "cell_type": "markdown",
   "metadata": {},
   "source": [
    "Here we add the selection of hyperparameters."
   ]
  },
  {
   "cell_type": "code",
   "execution_count": 18,
   "metadata": {},
   "outputs": [
    {
     "name": "stdout",
     "output_type": "stream",
     "text": [
      "Accuracy the best model on the validation set: 80% Tree depth: 5\n",
      "CPU times: user 29.8 ms, sys: 4.53 ms, total: 34.4 ms\n",
      "Wall time: 37.1 ms\n"
     ]
    }
   ],
   "source": [
    "%%time\n",
    "best_dt_model = None\n",
    "best_dt_result = 0\n",
    "best_dt_depth = 0\n",
    "\n",
    "for i in range(1, 6):\n",
    "    model_dt = DecisionTreeClassifier(random_state = 12345, max_depth = i)\n",
    "    model_dt.fit(features_train, target_train) \n",
    "    predictions_valid_dt = model_dt.predict(features_valid) \n",
    "    result_dt = accuracy_score(target_valid, predictions_valid_dt)\n",
    "    if result_dt > best_dt_result:\n",
    "        best_dt_model = model_dt\n",
    "        best_dt_result = result_dt\n",
    "        best_dt_depth = i\n",
    "\n",
    "print(\"Accuracy the best model on the validation set:\", (\"{0:.000%}\".format(best_dt_result)), \n",
    "      \"Tree depth:\", best_dt_depth)"
   ]
  },
  {
   "cell_type": "markdown",
   "metadata": {},
   "source": [
    "### Random Forest"
   ]
  },
  {
   "cell_type": "markdown",
   "metadata": {},
   "source": [
    "Here we add the selection of hyperparameters."
   ]
  },
  {
   "cell_type": "code",
   "execution_count": 19,
   "metadata": {},
   "outputs": [
    {
     "name": "stdout",
     "output_type": "stream",
     "text": [
      "Accuracy the best model on the validation set: 83% Tree depth: 7 N estimators: 10\n",
      "CPU times: user 4.16 s, sys: 52.5 ms, total: 4.21 s\n",
      "Wall time: 4.25 s\n"
     ]
    }
   ],
   "source": [
    "%%time\n",
    "best_rf_model = None\n",
    "best_rf_result = 0\n",
    "best_rf_est = 0\n",
    "best_rf_depth = 0\n",
    "\n",
    "for est in range(10, 51, 10):\n",
    "    for depth in range (1, 11):\n",
    "        model_rf = RandomForestClassifier(random_state = 12345, n_estimators = est, max_depth = depth)\n",
    "        model_rf.fit(features_train,target_train) \n",
    "        predictions_valid_rf = model_rf.predict(features_valid) \n",
    "        result_rf = accuracy_score(target_valid, predictions_valid_rf)\n",
    "        if result_rf > best_rf_result:\n",
    "            best_rf_model = model_rf\n",
    "            best_rf_result = result_rf\n",
    "            best_rf_est = est\n",
    "            best_rf_depth = depth\n",
    "print(\"Accuracy the best model on the validation set:\", (\"{0:.000%}\".format(best_rf_result)), \n",
    "      \"Tree depth:\", best_rf_depth, \"N estimators:\", best_rf_est)"
   ]
  },
  {
   "cell_type": "markdown",
   "metadata": {},
   "source": [
    "**Conclusion**\n",
    "- trained 3 models in turn and compared their accuracy on the validation set\n",
    "- hyperparameters were selected for the Random Forest and Decision Tree, which made it possible to achieve higher accuracy of the models\n",
    "- Random Forest showed the best accuracy on the validation set, this is not very surprising, the algorithm also turned out to be the most resource-intensive."
   ]
  },
  {
   "cell_type": "markdown",
   "metadata": {},
   "source": [
    "## Check the model on the test set"
   ]
  },
  {
   "cell_type": "code",
   "execution_count": 20,
   "metadata": {},
   "outputs": [
    {
     "data": {
      "text/html": [
       "<style>#sk-container-id-2 {color: black;background-color: white;}#sk-container-id-2 pre{padding: 0;}#sk-container-id-2 div.sk-toggleable {background-color: white;}#sk-container-id-2 label.sk-toggleable__label {cursor: pointer;display: block;width: 100%;margin-bottom: 0;padding: 0.3em;box-sizing: border-box;text-align: center;}#sk-container-id-2 label.sk-toggleable__label-arrow:before {content: \"▸\";float: left;margin-right: 0.25em;color: #696969;}#sk-container-id-2 label.sk-toggleable__label-arrow:hover:before {color: black;}#sk-container-id-2 div.sk-estimator:hover label.sk-toggleable__label-arrow:before {color: black;}#sk-container-id-2 div.sk-toggleable__content {max-height: 0;max-width: 0;overflow: hidden;text-align: left;background-color: #f0f8ff;}#sk-container-id-2 div.sk-toggleable__content pre {margin: 0.2em;color: black;border-radius: 0.25em;background-color: #f0f8ff;}#sk-container-id-2 input.sk-toggleable__control:checked~div.sk-toggleable__content {max-height: 200px;max-width: 100%;overflow: auto;}#sk-container-id-2 input.sk-toggleable__control:checked~label.sk-toggleable__label-arrow:before {content: \"▾\";}#sk-container-id-2 div.sk-estimator input.sk-toggleable__control:checked~label.sk-toggleable__label {background-color: #d4ebff;}#sk-container-id-2 div.sk-label input.sk-toggleable__control:checked~label.sk-toggleable__label {background-color: #d4ebff;}#sk-container-id-2 input.sk-hidden--visually {border: 0;clip: rect(1px 1px 1px 1px);clip: rect(1px, 1px, 1px, 1px);height: 1px;margin: -1px;overflow: hidden;padding: 0;position: absolute;width: 1px;}#sk-container-id-2 div.sk-estimator {font-family: monospace;background-color: #f0f8ff;border: 1px dotted black;border-radius: 0.25em;box-sizing: border-box;margin-bottom: 0.5em;}#sk-container-id-2 div.sk-estimator:hover {background-color: #d4ebff;}#sk-container-id-2 div.sk-parallel-item::after {content: \"\";width: 100%;border-bottom: 1px solid gray;flex-grow: 1;}#sk-container-id-2 div.sk-label:hover label.sk-toggleable__label {background-color: #d4ebff;}#sk-container-id-2 div.sk-serial::before {content: \"\";position: absolute;border-left: 1px solid gray;box-sizing: border-box;top: 0;bottom: 0;left: 50%;z-index: 0;}#sk-container-id-2 div.sk-serial {display: flex;flex-direction: column;align-items: center;background-color: white;padding-right: 0.2em;padding-left: 0.2em;position: relative;}#sk-container-id-2 div.sk-item {position: relative;z-index: 1;}#sk-container-id-2 div.sk-parallel {display: flex;align-items: stretch;justify-content: center;background-color: white;position: relative;}#sk-container-id-2 div.sk-item::before, #sk-container-id-2 div.sk-parallel-item::before {content: \"\";position: absolute;border-left: 1px solid gray;box-sizing: border-box;top: 0;bottom: 0;left: 50%;z-index: -1;}#sk-container-id-2 div.sk-parallel-item {display: flex;flex-direction: column;z-index: 1;position: relative;background-color: white;}#sk-container-id-2 div.sk-parallel-item:first-child::after {align-self: flex-end;width: 50%;}#sk-container-id-2 div.sk-parallel-item:last-child::after {align-self: flex-start;width: 50%;}#sk-container-id-2 div.sk-parallel-item:only-child::after {width: 0;}#sk-container-id-2 div.sk-dashed-wrapped {border: 1px dashed gray;margin: 0 0.4em 0.5em 0.4em;box-sizing: border-box;padding-bottom: 0.4em;background-color: white;}#sk-container-id-2 div.sk-label label {font-family: monospace;font-weight: bold;display: inline-block;line-height: 1.2em;}#sk-container-id-2 div.sk-label-container {text-align: center;}#sk-container-id-2 div.sk-container {/* jupyter's `normalize.less` sets `[hidden] { display: none; }` but bootstrap.min.css set `[hidden] { display: none !important; }` so we also need the `!important` here to be able to override the default hidden behavior on the sphinx rendered scikit-learn.org. See: https://github.com/scikit-learn/scikit-learn/issues/21755 */display: inline-block !important;position: relative;}#sk-container-id-2 div.sk-text-repr-fallback {display: none;}</style><div id=\"sk-container-id-2\" class=\"sk-top-container\"><div class=\"sk-text-repr-fallback\"><pre>RandomForestClassifier(max_depth=7, n_estimators=10, random_state=12345)</pre><b>In a Jupyter environment, please rerun this cell to show the HTML representation or trust the notebook. <br />On GitHub, the HTML representation is unable to render, please try loading this page with nbviewer.org.</b></div><div class=\"sk-container\" hidden><div class=\"sk-item\"><div class=\"sk-estimator sk-toggleable\"><input class=\"sk-toggleable__control sk-hidden--visually\" id=\"sk-estimator-id-2\" type=\"checkbox\" checked><label for=\"sk-estimator-id-2\" class=\"sk-toggleable__label sk-toggleable__label-arrow\">RandomForestClassifier</label><div class=\"sk-toggleable__content\"><pre>RandomForestClassifier(max_depth=7, n_estimators=10, random_state=12345)</pre></div></div></div></div></div>"
      ],
      "text/plain": [
       "RandomForestClassifier(max_depth=7, n_estimators=10, random_state=12345)"
      ]
     },
     "execution_count": 20,
     "metadata": {},
     "output_type": "execute_result"
    }
   ],
   "source": [
    "## Random Forest\n",
    "model_rf_union = RandomForestClassifier(random_state = 12345, n_estimators = best_rf_est, max_depth = best_rf_depth)\n",
    "model_rf_union.fit(features_train_union, target_train_union) "
   ]
  },
  {
   "cell_type": "code",
   "execution_count": 21,
   "metadata": {},
   "outputs": [
    {
     "data": {
      "text/html": [
       "<style>#sk-container-id-3 {color: black;background-color: white;}#sk-container-id-3 pre{padding: 0;}#sk-container-id-3 div.sk-toggleable {background-color: white;}#sk-container-id-3 label.sk-toggleable__label {cursor: pointer;display: block;width: 100%;margin-bottom: 0;padding: 0.3em;box-sizing: border-box;text-align: center;}#sk-container-id-3 label.sk-toggleable__label-arrow:before {content: \"▸\";float: left;margin-right: 0.25em;color: #696969;}#sk-container-id-3 label.sk-toggleable__label-arrow:hover:before {color: black;}#sk-container-id-3 div.sk-estimator:hover label.sk-toggleable__label-arrow:before {color: black;}#sk-container-id-3 div.sk-toggleable__content {max-height: 0;max-width: 0;overflow: hidden;text-align: left;background-color: #f0f8ff;}#sk-container-id-3 div.sk-toggleable__content pre {margin: 0.2em;color: black;border-radius: 0.25em;background-color: #f0f8ff;}#sk-container-id-3 input.sk-toggleable__control:checked~div.sk-toggleable__content {max-height: 200px;max-width: 100%;overflow: auto;}#sk-container-id-3 input.sk-toggleable__control:checked~label.sk-toggleable__label-arrow:before {content: \"▾\";}#sk-container-id-3 div.sk-estimator input.sk-toggleable__control:checked~label.sk-toggleable__label {background-color: #d4ebff;}#sk-container-id-3 div.sk-label input.sk-toggleable__control:checked~label.sk-toggleable__label {background-color: #d4ebff;}#sk-container-id-3 input.sk-hidden--visually {border: 0;clip: rect(1px 1px 1px 1px);clip: rect(1px, 1px, 1px, 1px);height: 1px;margin: -1px;overflow: hidden;padding: 0;position: absolute;width: 1px;}#sk-container-id-3 div.sk-estimator {font-family: monospace;background-color: #f0f8ff;border: 1px dotted black;border-radius: 0.25em;box-sizing: border-box;margin-bottom: 0.5em;}#sk-container-id-3 div.sk-estimator:hover {background-color: #d4ebff;}#sk-container-id-3 div.sk-parallel-item::after {content: \"\";width: 100%;border-bottom: 1px solid gray;flex-grow: 1;}#sk-container-id-3 div.sk-label:hover label.sk-toggleable__label {background-color: #d4ebff;}#sk-container-id-3 div.sk-serial::before {content: \"\";position: absolute;border-left: 1px solid gray;box-sizing: border-box;top: 0;bottom: 0;left: 50%;z-index: 0;}#sk-container-id-3 div.sk-serial {display: flex;flex-direction: column;align-items: center;background-color: white;padding-right: 0.2em;padding-left: 0.2em;position: relative;}#sk-container-id-3 div.sk-item {position: relative;z-index: 1;}#sk-container-id-3 div.sk-parallel {display: flex;align-items: stretch;justify-content: center;background-color: white;position: relative;}#sk-container-id-3 div.sk-item::before, #sk-container-id-3 div.sk-parallel-item::before {content: \"\";position: absolute;border-left: 1px solid gray;box-sizing: border-box;top: 0;bottom: 0;left: 50%;z-index: -1;}#sk-container-id-3 div.sk-parallel-item {display: flex;flex-direction: column;z-index: 1;position: relative;background-color: white;}#sk-container-id-3 div.sk-parallel-item:first-child::after {align-self: flex-end;width: 50%;}#sk-container-id-3 div.sk-parallel-item:last-child::after {align-self: flex-start;width: 50%;}#sk-container-id-3 div.sk-parallel-item:only-child::after {width: 0;}#sk-container-id-3 div.sk-dashed-wrapped {border: 1px dashed gray;margin: 0 0.4em 0.5em 0.4em;box-sizing: border-box;padding-bottom: 0.4em;background-color: white;}#sk-container-id-3 div.sk-label label {font-family: monospace;font-weight: bold;display: inline-block;line-height: 1.2em;}#sk-container-id-3 div.sk-label-container {text-align: center;}#sk-container-id-3 div.sk-container {/* jupyter's `normalize.less` sets `[hidden] { display: none; }` but bootstrap.min.css set `[hidden] { display: none !important; }` so we also need the `!important` here to be able to override the default hidden behavior on the sphinx rendered scikit-learn.org. See: https://github.com/scikit-learn/scikit-learn/issues/21755 */display: inline-block !important;position: relative;}#sk-container-id-3 div.sk-text-repr-fallback {display: none;}</style><div id=\"sk-container-id-3\" class=\"sk-top-container\"><div class=\"sk-text-repr-fallback\"><pre>DecisionTreeClassifier(max_depth=5, random_state=12345)</pre><b>In a Jupyter environment, please rerun this cell to show the HTML representation or trust the notebook. <br />On GitHub, the HTML representation is unable to render, please try loading this page with nbviewer.org.</b></div><div class=\"sk-container\" hidden><div class=\"sk-item\"><div class=\"sk-estimator sk-toggleable\"><input class=\"sk-toggleable__control sk-hidden--visually\" id=\"sk-estimator-id-3\" type=\"checkbox\" checked><label for=\"sk-estimator-id-3\" class=\"sk-toggleable__label sk-toggleable__label-arrow\">DecisionTreeClassifier</label><div class=\"sk-toggleable__content\"><pre>DecisionTreeClassifier(max_depth=5, random_state=12345)</pre></div></div></div></div></div>"
      ],
      "text/plain": [
       "DecisionTreeClassifier(max_depth=5, random_state=12345)"
      ]
     },
     "execution_count": 21,
     "metadata": {},
     "output_type": "execute_result"
    }
   ],
   "source": [
    "### Decision tree\n",
    "model_dt_union = DecisionTreeClassifier(random_state = 12345, max_depth = best_dt_depth)\n",
    "model_dt_union.fit(features_train_union, target_train_union) "
   ]
  },
  {
   "cell_type": "code",
   "execution_count": 22,
   "metadata": {},
   "outputs": [
    {
     "data": {
      "text/html": [
       "<style>#sk-container-id-4 {color: black;background-color: white;}#sk-container-id-4 pre{padding: 0;}#sk-container-id-4 div.sk-toggleable {background-color: white;}#sk-container-id-4 label.sk-toggleable__label {cursor: pointer;display: block;width: 100%;margin-bottom: 0;padding: 0.3em;box-sizing: border-box;text-align: center;}#sk-container-id-4 label.sk-toggleable__label-arrow:before {content: \"▸\";float: left;margin-right: 0.25em;color: #696969;}#sk-container-id-4 label.sk-toggleable__label-arrow:hover:before {color: black;}#sk-container-id-4 div.sk-estimator:hover label.sk-toggleable__label-arrow:before {color: black;}#sk-container-id-4 div.sk-toggleable__content {max-height: 0;max-width: 0;overflow: hidden;text-align: left;background-color: #f0f8ff;}#sk-container-id-4 div.sk-toggleable__content pre {margin: 0.2em;color: black;border-radius: 0.25em;background-color: #f0f8ff;}#sk-container-id-4 input.sk-toggleable__control:checked~div.sk-toggleable__content {max-height: 200px;max-width: 100%;overflow: auto;}#sk-container-id-4 input.sk-toggleable__control:checked~label.sk-toggleable__label-arrow:before {content: \"▾\";}#sk-container-id-4 div.sk-estimator input.sk-toggleable__control:checked~label.sk-toggleable__label {background-color: #d4ebff;}#sk-container-id-4 div.sk-label input.sk-toggleable__control:checked~label.sk-toggleable__label {background-color: #d4ebff;}#sk-container-id-4 input.sk-hidden--visually {border: 0;clip: rect(1px 1px 1px 1px);clip: rect(1px, 1px, 1px, 1px);height: 1px;margin: -1px;overflow: hidden;padding: 0;position: absolute;width: 1px;}#sk-container-id-4 div.sk-estimator {font-family: monospace;background-color: #f0f8ff;border: 1px dotted black;border-radius: 0.25em;box-sizing: border-box;margin-bottom: 0.5em;}#sk-container-id-4 div.sk-estimator:hover {background-color: #d4ebff;}#sk-container-id-4 div.sk-parallel-item::after {content: \"\";width: 100%;border-bottom: 1px solid gray;flex-grow: 1;}#sk-container-id-4 div.sk-label:hover label.sk-toggleable__label {background-color: #d4ebff;}#sk-container-id-4 div.sk-serial::before {content: \"\";position: absolute;border-left: 1px solid gray;box-sizing: border-box;top: 0;bottom: 0;left: 50%;z-index: 0;}#sk-container-id-4 div.sk-serial {display: flex;flex-direction: column;align-items: center;background-color: white;padding-right: 0.2em;padding-left: 0.2em;position: relative;}#sk-container-id-4 div.sk-item {position: relative;z-index: 1;}#sk-container-id-4 div.sk-parallel {display: flex;align-items: stretch;justify-content: center;background-color: white;position: relative;}#sk-container-id-4 div.sk-item::before, #sk-container-id-4 div.sk-parallel-item::before {content: \"\";position: absolute;border-left: 1px solid gray;box-sizing: border-box;top: 0;bottom: 0;left: 50%;z-index: -1;}#sk-container-id-4 div.sk-parallel-item {display: flex;flex-direction: column;z-index: 1;position: relative;background-color: white;}#sk-container-id-4 div.sk-parallel-item:first-child::after {align-self: flex-end;width: 50%;}#sk-container-id-4 div.sk-parallel-item:last-child::after {align-self: flex-start;width: 50%;}#sk-container-id-4 div.sk-parallel-item:only-child::after {width: 0;}#sk-container-id-4 div.sk-dashed-wrapped {border: 1px dashed gray;margin: 0 0.4em 0.5em 0.4em;box-sizing: border-box;padding-bottom: 0.4em;background-color: white;}#sk-container-id-4 div.sk-label label {font-family: monospace;font-weight: bold;display: inline-block;line-height: 1.2em;}#sk-container-id-4 div.sk-label-container {text-align: center;}#sk-container-id-4 div.sk-container {/* jupyter's `normalize.less` sets `[hidden] { display: none; }` but bootstrap.min.css set `[hidden] { display: none !important; }` so we also need the `!important` here to be able to override the default hidden behavior on the sphinx rendered scikit-learn.org. See: https://github.com/scikit-learn/scikit-learn/issues/21755 */display: inline-block !important;position: relative;}#sk-container-id-4 div.sk-text-repr-fallback {display: none;}</style><div id=\"sk-container-id-4\" class=\"sk-top-container\"><div class=\"sk-text-repr-fallback\"><pre>LogisticRegression(random_state=12345)</pre><b>In a Jupyter environment, please rerun this cell to show the HTML representation or trust the notebook. <br />On GitHub, the HTML representation is unable to render, please try loading this page with nbviewer.org.</b></div><div class=\"sk-container\" hidden><div class=\"sk-item\"><div class=\"sk-estimator sk-toggleable\"><input class=\"sk-toggleable__control sk-hidden--visually\" id=\"sk-estimator-id-4\" type=\"checkbox\" checked><label for=\"sk-estimator-id-4\" class=\"sk-toggleable__label sk-toggleable__label-arrow\">LogisticRegression</label><div class=\"sk-toggleable__content\"><pre>LogisticRegression(random_state=12345)</pre></div></div></div></div></div>"
      ],
      "text/plain": [
       "LogisticRegression(random_state=12345)"
      ]
     },
     "execution_count": 22,
     "metadata": {},
     "output_type": "execute_result"
    }
   ],
   "source": [
    "### Logistic regression\n",
    "model_lr_union = LogisticRegression(random_state = 12345, solver = 'lbfgs')\n",
    "model_lr_union.fit(features_train_union, target_train_union) "
   ]
  },
  {
   "cell_type": "markdown",
   "metadata": {},
   "source": [
    "Reached the final score.\n",
    "We make a prediction on previously trained models:"
   ]
  },
  {
   "cell_type": "code",
   "execution_count": 23,
   "metadata": {},
   "outputs": [
    {
     "name": "stdout",
     "output_type": "stream",
     "text": [
      "CPU times: user 11.1 ms, sys: 2.55 ms, total: 13.6 ms\n",
      "Wall time: 11.8 ms\n"
     ]
    }
   ],
   "source": [
    "%%time\n",
    "\n",
    "final_lr = model_lr.predict(features_test)\n",
    "final_dt = best_dt_model.predict(features_test)\n",
    "final_rf = best_rf_model.predict(features_test)"
   ]
  },
  {
   "cell_type": "markdown",
   "metadata": {},
   "source": [
    "Assessing the quality:"
   ]
  },
  {
   "cell_type": "code",
   "execution_count": 24,
   "metadata": {},
   "outputs": [],
   "source": [
    "result_final_lr = accuracy_score(final_lr, target_test)\n",
    "result_final_dt = accuracy_score(final_dt, target_test)\n",
    "result_final_rf = accuracy_score(final_rf, target_test)"
   ]
  },
  {
   "cell_type": "code",
   "execution_count": 25,
   "metadata": {},
   "outputs": [
    {
     "name": "stdout",
     "output_type": "stream",
     "text": [
      "Accuracy Логистическая регрессия: 70%\n",
      "Accuracy Решающее дерево: 81%\n",
      "Accuracy Случайный лес: 80%\n"
     ]
    }
   ],
   "source": [
    "print(\"Accuracy Логистическая регрессия:\", (\"{0:.000%}\".format(result_final_lr)))\n",
    "print(\"Accuracy Решающее дерево:\", (\"{0:.000%}\".format(result_final_dt)))\n",
    "print(\"Accuracy Случайный лес:\", (\"{0:.000%}\".format(result_final_rf)))"
   ]
  },
  {
   "cell_type": "code",
   "execution_count": 26,
   "metadata": {},
   "outputs": [
    {
     "name": "stdout",
     "output_type": "stream",
     "text": [
      "CPU times: user 11 ms, sys: 2.62 ms, total: 13.6 ms\n",
      "Wall time: 13.2 ms\n"
     ]
    }
   ],
   "source": [
    "%%time\n",
    "\n",
    "final_lr_union = model_lr_union.predict(features_test)\n",
    "final_dt_union  = model_dt_union.predict(features_test)\n",
    "final_rf_union  = model_rf_union.predict(features_test)"
   ]
  },
  {
   "cell_type": "code",
   "execution_count": 27,
   "metadata": {},
   "outputs": [],
   "source": [
    "result_final_lr_union  = accuracy_score(final_lr_union , target_test)\n",
    "result_final_dt_union  = accuracy_score(final_dt_union , target_test)\n",
    "result_final_rf_union  = accuracy_score(final_rf_union , target_test)"
   ]
  },
  {
   "cell_type": "code",
   "execution_count": 28,
   "metadata": {},
   "outputs": [
    {
     "name": "stdout",
     "output_type": "stream",
     "text": [
      "Accuracy Logistic regression: 74%\n",
      "Accuracy Decision tree: 79%\n",
      "Accuracy Random Forest: 81%\n"
     ]
    }
   ],
   "source": [
    "print(\"Accuracy Logistic regression:\", (\"{0:.000%}\".format(result_final_lr_union)))\n",
    "print(\"Accuracy Decision tree:\", (\"{0:.000%}\".format(result_final_dt_union)))\n",
    "print(\"Accuracy Random Forest:\", (\"{0:.000%}\".format(result_final_rf_union)))"
   ]
  },
  {
   "cell_type": "markdown",
   "metadata": {},
   "source": [
    "**Conclusion**\n",
    "- all 3 models showed a fairly high prediction accuracy on the test sample (more than 75% for all)\n",
    "- leader in the share of correct answers - random forest - 81%\n",
    "\n",
    "*Observation*\n",
    "The decision tree and regression on the test showed slightly higher accuracy than on the validation set."
   ]
  },
  {
   "cell_type": "markdown",
   "metadata": {},
   "source": [
    "## (bonus) Check models for adequacy"
   ]
  },
  {
   "cell_type": "code",
   "execution_count": 29,
   "metadata": {},
   "outputs": [],
   "source": [
    "from sklearn.dummy import DummyClassifier"
   ]
  },
  {
   "cell_type": "markdown",
   "metadata": {},
   "source": [
    "We looked at the distribution of the target in the initial data:"
   ]
  },
  {
   "cell_type": "code",
   "execution_count": 30,
   "metadata": {},
   "outputs": [
    {
     "data": {
      "text/plain": [
       "0    0.693528\n",
       "1    0.306472\n",
       "Name: is_ultra, dtype: float64"
      ]
     },
     "execution_count": 30,
     "metadata": {},
     "output_type": "execute_result"
    }
   ],
   "source": [
    "df['is_ultra'].value_counts(normalize=True)"
   ]
  },
  {
   "cell_type": "markdown",
   "metadata": {},
   "source": [
    "Strategy - always predicts the most frequently occurring label in the training set.\n",
    "\n",
    "In our case, everything will be filled with 0 values"
   ]
  },
  {
   "cell_type": "code",
   "execution_count": 31,
   "metadata": {},
   "outputs": [],
   "source": [
    "dummy_clf = DummyClassifier(strategy = 'most_frequent')"
   ]
  },
  {
   "cell_type": "markdown",
   "metadata": {},
   "source": [
    "Trained dummy model:"
   ]
  },
  {
   "cell_type": "code",
   "execution_count": 32,
   "metadata": {},
   "outputs": [
    {
     "data": {
      "text/html": [
       "<style>#sk-container-id-5 {color: black;background-color: white;}#sk-container-id-5 pre{padding: 0;}#sk-container-id-5 div.sk-toggleable {background-color: white;}#sk-container-id-5 label.sk-toggleable__label {cursor: pointer;display: block;width: 100%;margin-bottom: 0;padding: 0.3em;box-sizing: border-box;text-align: center;}#sk-container-id-5 label.sk-toggleable__label-arrow:before {content: \"▸\";float: left;margin-right: 0.25em;color: #696969;}#sk-container-id-5 label.sk-toggleable__label-arrow:hover:before {color: black;}#sk-container-id-5 div.sk-estimator:hover label.sk-toggleable__label-arrow:before {color: black;}#sk-container-id-5 div.sk-toggleable__content {max-height: 0;max-width: 0;overflow: hidden;text-align: left;background-color: #f0f8ff;}#sk-container-id-5 div.sk-toggleable__content pre {margin: 0.2em;color: black;border-radius: 0.25em;background-color: #f0f8ff;}#sk-container-id-5 input.sk-toggleable__control:checked~div.sk-toggleable__content {max-height: 200px;max-width: 100%;overflow: auto;}#sk-container-id-5 input.sk-toggleable__control:checked~label.sk-toggleable__label-arrow:before {content: \"▾\";}#sk-container-id-5 div.sk-estimator input.sk-toggleable__control:checked~label.sk-toggleable__label {background-color: #d4ebff;}#sk-container-id-5 div.sk-label input.sk-toggleable__control:checked~label.sk-toggleable__label {background-color: #d4ebff;}#sk-container-id-5 input.sk-hidden--visually {border: 0;clip: rect(1px 1px 1px 1px);clip: rect(1px, 1px, 1px, 1px);height: 1px;margin: -1px;overflow: hidden;padding: 0;position: absolute;width: 1px;}#sk-container-id-5 div.sk-estimator {font-family: monospace;background-color: #f0f8ff;border: 1px dotted black;border-radius: 0.25em;box-sizing: border-box;margin-bottom: 0.5em;}#sk-container-id-5 div.sk-estimator:hover {background-color: #d4ebff;}#sk-container-id-5 div.sk-parallel-item::after {content: \"\";width: 100%;border-bottom: 1px solid gray;flex-grow: 1;}#sk-container-id-5 div.sk-label:hover label.sk-toggleable__label {background-color: #d4ebff;}#sk-container-id-5 div.sk-serial::before {content: \"\";position: absolute;border-left: 1px solid gray;box-sizing: border-box;top: 0;bottom: 0;left: 50%;z-index: 0;}#sk-container-id-5 div.sk-serial {display: flex;flex-direction: column;align-items: center;background-color: white;padding-right: 0.2em;padding-left: 0.2em;position: relative;}#sk-container-id-5 div.sk-item {position: relative;z-index: 1;}#sk-container-id-5 div.sk-parallel {display: flex;align-items: stretch;justify-content: center;background-color: white;position: relative;}#sk-container-id-5 div.sk-item::before, #sk-container-id-5 div.sk-parallel-item::before {content: \"\";position: absolute;border-left: 1px solid gray;box-sizing: border-box;top: 0;bottom: 0;left: 50%;z-index: -1;}#sk-container-id-5 div.sk-parallel-item {display: flex;flex-direction: column;z-index: 1;position: relative;background-color: white;}#sk-container-id-5 div.sk-parallel-item:first-child::after {align-self: flex-end;width: 50%;}#sk-container-id-5 div.sk-parallel-item:last-child::after {align-self: flex-start;width: 50%;}#sk-container-id-5 div.sk-parallel-item:only-child::after {width: 0;}#sk-container-id-5 div.sk-dashed-wrapped {border: 1px dashed gray;margin: 0 0.4em 0.5em 0.4em;box-sizing: border-box;padding-bottom: 0.4em;background-color: white;}#sk-container-id-5 div.sk-label label {font-family: monospace;font-weight: bold;display: inline-block;line-height: 1.2em;}#sk-container-id-5 div.sk-label-container {text-align: center;}#sk-container-id-5 div.sk-container {/* jupyter's `normalize.less` sets `[hidden] { display: none; }` but bootstrap.min.css set `[hidden] { display: none !important; }` so we also need the `!important` here to be able to override the default hidden behavior on the sphinx rendered scikit-learn.org. See: https://github.com/scikit-learn/scikit-learn/issues/21755 */display: inline-block !important;position: relative;}#sk-container-id-5 div.sk-text-repr-fallback {display: none;}</style><div id=\"sk-container-id-5\" class=\"sk-top-container\"><div class=\"sk-text-repr-fallback\"><pre>DummyClassifier(strategy=&#x27;most_frequent&#x27;)</pre><b>In a Jupyter environment, please rerun this cell to show the HTML representation or trust the notebook. <br />On GitHub, the HTML representation is unable to render, please try loading this page with nbviewer.org.</b></div><div class=\"sk-container\" hidden><div class=\"sk-item\"><div class=\"sk-estimator sk-toggleable\"><input class=\"sk-toggleable__control sk-hidden--visually\" id=\"sk-estimator-id-5\" type=\"checkbox\" checked><label for=\"sk-estimator-id-5\" class=\"sk-toggleable__label sk-toggleable__label-arrow\">DummyClassifier</label><div class=\"sk-toggleable__content\"><pre>DummyClassifier(strategy=&#x27;most_frequent&#x27;)</pre></div></div></div></div></div>"
      ],
      "text/plain": [
       "DummyClassifier(strategy='most_frequent')"
      ]
     },
     "execution_count": 32,
     "metadata": {},
     "output_type": "execute_result"
    }
   ],
   "source": [
    "dummy_clf.fit(features, target)"
   ]
  },
  {
   "cell_type": "code",
   "execution_count": 33,
   "metadata": {},
   "outputs": [],
   "source": [
    "dummy_clf_mdl = dummy_clf.predict(features)"
   ]
  },
  {
   "cell_type": "code",
   "execution_count": 34,
   "metadata": {},
   "outputs": [
    {
     "name": "stdout",
     "output_type": "stream",
     "text": [
      "Accuracy dummy-model 69%\n"
     ]
    }
   ],
   "source": [
    "print('Accuracy dummy-model',\"{0:.000%}\".format(accuracy_score(dummy_clf_mdl, target)))"
   ]
  },
  {
   "cell_type": "markdown",
   "metadata": {},
   "source": [
    "Accuracy our models"
   ]
  },
  {
   "cell_type": "code",
   "execution_count": 35,
   "metadata": {},
   "outputs": [
    {
     "name": "stdout",
     "output_type": "stream",
     "text": [
      "Accuracy logistic regression: 74%\n",
      "Accuracy decision tree: 79%\n",
      "Accuracy random forest: 81%\n"
     ]
    }
   ],
   "source": [
    "print(\"Accuracy logistic regression:\", (\"{0:.000%}\".format(result_final_lr_union)))\n",
    "print(\"Accuracy decision tree:\", (\"{0:.000%}\".format(result_final_dt_union)))\n",
    "print(\"Accuracy random forest:\", (\"{0:.000%}\".format(result_final_rf_union)))"
   ]
  },
  {
   "cell_type": "markdown",
   "metadata": {},
   "source": [
    "**Accuracy metric for any of our models is higher than just populating everything with the most frequent target-column value**"
   ]
  },
  {
   "cell_type": "markdown",
   "metadata": {},
   "source": [
    "**General conclusion**\n",
    "- in the project on labeled data, we tried to predict the sign of the current tariff for the client based on his activity and consumption of services\n",
    "- the original dataset was split into `train` - `valid` - `test`, the target feature was defined\n",
    "- `logistic regression` - `decision tree` - `random forest` were trained sequentially (for the last two models, hyperparameters were selected, which made it possible to increase their accuracy)\n",
    "- the maximum share of correct answers on the test sample was shown by the Random Forest model - 80% (it also showed the highest resource intensity - the model studied on the cluster for the longest time)"
   ]
  }
 ],
 "metadata": {
  "ExecuteTimeLog": [
   {
    "duration": 735,
    "start_time": "2021-08-29T17:48:34.002Z"
   },
   {
    "duration": 24,
    "start_time": "2021-08-29T17:48:52.924Z"
   },
   {
    "duration": 22,
    "start_time": "2021-08-29T17:49:04.670Z"
   },
   {
    "duration": 10,
    "start_time": "2021-08-29T17:53:35.558Z"
   },
   {
    "duration": 34,
    "start_time": "2021-08-29T17:54:07.630Z"
   },
   {
    "duration": 466,
    "start_time": "2021-08-29T17:57:52.809Z"
   },
   {
    "duration": 13,
    "start_time": "2021-08-29T17:59:29.511Z"
   },
   {
    "duration": 591,
    "start_time": "2021-08-29T18:19:40.902Z"
   },
   {
    "duration": 5,
    "start_time": "2021-08-29T18:19:48.808Z"
   },
   {
    "duration": 5,
    "start_time": "2021-08-29T18:20:47.834Z"
   },
   {
    "duration": 5,
    "start_time": "2021-08-29T18:21:53.074Z"
   },
   {
    "duration": 4,
    "start_time": "2021-08-29T18:25:49.811Z"
   },
   {
    "duration": 36,
    "start_time": "2021-08-29T18:26:27.325Z"
   },
   {
    "duration": 5,
    "start_time": "2021-08-29T18:30:53.027Z"
   },
   {
    "duration": 15,
    "start_time": "2021-08-29T18:30:59.483Z"
   },
   {
    "duration": 9,
    "start_time": "2021-08-29T18:33:39.520Z"
   },
   {
    "duration": 5,
    "start_time": "2021-08-29T18:35:15.593Z"
   },
   {
    "duration": 5,
    "start_time": "2021-08-29T18:35:24.237Z"
   },
   {
    "duration": 6,
    "start_time": "2021-08-29T18:36:03.756Z"
   },
   {
    "duration": 5,
    "start_time": "2021-08-29T18:36:04.681Z"
   },
   {
    "duration": 120,
    "start_time": "2021-08-29T18:37:58.594Z"
   },
   {
    "duration": 8,
    "start_time": "2021-08-29T18:39:17.589Z"
   },
   {
    "duration": 6,
    "start_time": "2021-08-29T18:39:52.838Z"
   },
   {
    "duration": 8,
    "start_time": "2021-08-29T18:39:53.391Z"
   },
   {
    "duration": 5,
    "start_time": "2021-08-29T18:39:53.874Z"
   },
   {
    "duration": 7,
    "start_time": "2021-08-29T18:39:55.044Z"
   },
   {
    "duration": 5,
    "start_time": "2021-08-29T18:40:01.323Z"
   },
   {
    "duration": 5,
    "start_time": "2021-08-29T18:40:23.484Z"
   },
   {
    "duration": 5,
    "start_time": "2021-08-29T18:41:52.786Z"
   },
   {
    "duration": 8,
    "start_time": "2021-08-29T18:41:53.208Z"
   },
   {
    "duration": 5,
    "start_time": "2021-08-29T18:41:54.101Z"
   },
   {
    "duration": 8,
    "start_time": "2021-08-29T18:41:55.002Z"
   },
   {
    "duration": 5,
    "start_time": "2021-08-29T18:41:55.445Z"
   },
   {
    "duration": 7,
    "start_time": "2021-08-29T18:41:58.556Z"
   },
   {
    "duration": 6,
    "start_time": "2021-08-29T18:42:48.372Z"
   },
   {
    "duration": 113,
    "start_time": "2021-08-29T18:44:03.132Z"
   },
   {
    "duration": 4,
    "start_time": "2021-08-29T18:44:29.965Z"
   },
   {
    "duration": 5,
    "start_time": "2021-08-29T18:44:51.299Z"
   },
   {
    "duration": 6,
    "start_time": "2021-08-29T18:45:12.826Z"
   },
   {
    "duration": 20,
    "start_time": "2021-08-29T19:12:12.774Z"
   },
   {
    "duration": 4,
    "start_time": "2021-08-29T19:12:33.042Z"
   },
   {
    "duration": 20,
    "start_time": "2021-08-29T19:12:42.178Z"
   },
   {
    "duration": 124,
    "start_time": "2021-08-29T19:13:12.480Z"
   },
   {
    "duration": 7,
    "start_time": "2021-08-29T19:13:17.254Z"
   },
   {
    "duration": 8,
    "start_time": "2021-08-29T19:13:37.833Z"
   },
   {
    "duration": 4,
    "start_time": "2021-08-29T19:14:48.631Z"
   },
   {
    "duration": 7,
    "start_time": "2021-08-29T19:15:41.358Z"
   },
   {
    "duration": 6,
    "start_time": "2021-08-29T19:15:45.528Z"
   },
   {
    "duration": 9,
    "start_time": "2021-08-29T19:16:02.661Z"
   },
   {
    "duration": 387,
    "start_time": "2021-08-29T19:18:56.046Z"
   },
   {
    "duration": 353,
    "start_time": "2021-08-29T19:19:21.215Z"
   },
   {
    "duration": 388,
    "start_time": "2021-08-29T19:19:29.912Z"
   },
   {
    "duration": 526,
    "start_time": "2021-08-29T19:19:40.277Z"
   },
   {
    "duration": 34,
    "start_time": "2021-08-29T19:19:46.569Z"
   },
   {
    "duration": 42,
    "start_time": "2021-08-29T19:20:00.121Z"
   },
   {
    "duration": 35,
    "start_time": "2021-08-29T19:20:18.730Z"
   },
   {
    "duration": 40,
    "start_time": "2021-08-29T19:21:41.249Z"
   },
   {
    "duration": 370,
    "start_time": "2021-08-29T19:22:20.241Z"
   },
   {
    "duration": 4,
    "start_time": "2021-08-29T19:22:36.228Z"
   },
   {
    "duration": 45,
    "start_time": "2021-08-29T19:22:37.576Z"
   },
   {
    "duration": 6,
    "start_time": "2021-08-29T19:22:39.660Z"
   },
   {
    "duration": 36,
    "start_time": "2021-08-29T19:24:09.779Z"
   },
   {
    "duration": 35,
    "start_time": "2021-08-29T19:26:44.851Z"
   },
   {
    "duration": 35,
    "start_time": "2021-08-29T19:27:07.730Z"
   },
   {
    "duration": 35,
    "start_time": "2021-08-29T19:27:20.457Z"
   },
   {
    "duration": 38,
    "start_time": "2021-08-29T19:29:15.933Z"
   },
   {
    "duration": 34,
    "start_time": "2021-08-29T19:29:25.396Z"
   },
   {
    "duration": 34,
    "start_time": "2021-08-29T19:33:03.901Z"
   },
   {
    "duration": 348,
    "start_time": "2021-08-29T19:33:53.571Z"
   },
   {
    "duration": 4910,
    "start_time": "2021-08-29T19:34:07.958Z"
   },
   {
    "duration": 4934,
    "start_time": "2021-08-29T19:35:09.541Z"
   },
   {
    "duration": 35,
    "start_time": "2021-08-29T19:35:35.944Z"
   },
   {
    "duration": 4,
    "start_time": "2021-08-29T19:35:53.081Z"
   },
   {
    "duration": 44,
    "start_time": "2021-08-29T19:35:53.769Z"
   },
   {
    "duration": 7,
    "start_time": "2021-08-29T19:35:54.865Z"
   },
   {
    "duration": 35,
    "start_time": "2021-08-29T19:35:57.120Z"
   },
   {
    "duration": 5191,
    "start_time": "2021-08-29T19:36:09.635Z"
   },
   {
    "duration": 5041,
    "start_time": "2021-08-29T19:36:20.299Z"
   },
   {
    "duration": 108,
    "start_time": "2021-08-29T19:44:18.774Z"
   },
   {
    "duration": 23,
    "start_time": "2021-08-29T19:44:43.431Z"
   },
   {
    "duration": 8,
    "start_time": "2021-08-29T19:47:44.279Z"
   },
   {
    "duration": 5,
    "start_time": "2021-08-29T19:49:15.103Z"
   },
   {
    "duration": 128,
    "start_time": "2021-08-29T20:01:46.589Z"
   },
   {
    "duration": 3,
    "start_time": "2021-08-29T20:02:11.055Z"
   },
   {
    "duration": 348,
    "start_time": "2021-08-29T20:02:33.827Z"
   },
   {
    "duration": 365,
    "start_time": "2021-08-29T20:03:48.889Z"
   },
   {
    "duration": 11,
    "start_time": "2021-08-29T20:04:04.760Z"
   },
   {
    "duration": 11,
    "start_time": "2021-08-29T20:04:32.195Z"
   },
   {
    "duration": 10,
    "start_time": "2021-08-29T20:05:33.302Z"
   },
   {
    "duration": 10,
    "start_time": "2021-08-29T20:05:37.475Z"
   },
   {
    "duration": 10,
    "start_time": "2021-08-29T20:05:48.435Z"
   },
   {
    "duration": 350,
    "start_time": "2021-08-29T20:06:22.581Z"
   },
   {
    "duration": 366,
    "start_time": "2021-08-29T20:06:23.902Z"
   },
   {
    "duration": 1276,
    "start_time": "2021-08-29T20:16:19.802Z"
   },
   {
    "duration": 23,
    "start_time": "2021-08-29T20:16:21.081Z"
   },
   {
    "duration": 21,
    "start_time": "2021-08-29T20:16:21.107Z"
   },
   {
    "duration": 9,
    "start_time": "2021-08-29T20:16:21.130Z"
   },
   {
    "duration": 36,
    "start_time": "2021-08-29T20:16:21.677Z"
   },
   {
    "duration": 12,
    "start_time": "2021-08-29T20:16:23.951Z"
   },
   {
    "duration": 4,
    "start_time": "2021-08-29T20:16:23.966Z"
   },
   {
    "duration": 8,
    "start_time": "2021-08-29T20:16:23.973Z"
   },
   {
    "duration": 12,
    "start_time": "2021-08-29T20:16:23.983Z"
   },
   {
    "duration": 6,
    "start_time": "2021-08-29T20:16:24.091Z"
   },
   {
    "duration": 3,
    "start_time": "2021-08-29T20:16:24.782Z"
   },
   {
    "duration": 46,
    "start_time": "2021-08-29T20:16:24.950Z"
   },
   {
    "duration": 7,
    "start_time": "2021-08-29T20:16:25.323Z"
   },
   {
    "duration": 34,
    "start_time": "2021-08-29T20:16:25.638Z"
   },
   {
    "duration": 5165,
    "start_time": "2021-08-29T20:16:26.383Z"
   },
   {
    "duration": 21,
    "start_time": "2021-08-29T20:16:31.551Z"
   },
   {
    "duration": 6,
    "start_time": "2021-08-29T20:16:31.574Z"
   },
   {
    "duration": 21,
    "start_time": "2021-08-29T20:16:31.582Z"
   },
   {
    "duration": 3,
    "start_time": "2021-08-29T20:21:44.741Z"
   },
   {
    "duration": 7,
    "start_time": "2021-08-29T20:21:59.000Z"
   },
   {
    "duration": 476,
    "start_time": "2021-08-29T20:22:23.507Z"
   },
   {
    "duration": 9,
    "start_time": "2021-08-29T20:22:39.784Z"
   },
   {
    "duration": 9,
    "start_time": "2021-08-29T20:26:42.723Z"
   },
   {
    "duration": 10,
    "start_time": "2021-08-29T20:27:30.922Z"
   },
   {
    "duration": 10,
    "start_time": "2021-08-29T20:27:40.520Z"
   },
   {
    "duration": 365,
    "start_time": "2021-08-29T20:29:16.321Z"
   },
   {
    "duration": 9,
    "start_time": "2021-08-29T20:29:26.756Z"
   },
   {
    "duration": 10,
    "start_time": "2021-08-29T20:29:45.749Z"
   },
   {
    "duration": 10,
    "start_time": "2021-08-29T20:29:55.984Z"
   },
   {
    "duration": 1442,
    "start_time": "2021-08-29T20:44:51.855Z"
   },
   {
    "duration": 23,
    "start_time": "2021-08-29T20:44:53.300Z"
   },
   {
    "duration": 35,
    "start_time": "2021-08-29T20:44:53.327Z"
   },
   {
    "duration": 11,
    "start_time": "2021-08-29T20:44:53.364Z"
   },
   {
    "duration": 47,
    "start_time": "2021-08-29T20:44:53.378Z"
   },
   {
    "duration": 41,
    "start_time": "2021-08-29T20:44:53.428Z"
   },
   {
    "duration": 6,
    "start_time": "2021-08-29T20:44:53.873Z"
   },
   {
    "duration": 7,
    "start_time": "2021-08-29T20:44:54.202Z"
   },
   {
    "duration": 7,
    "start_time": "2021-08-29T20:44:54.694Z"
   },
   {
    "duration": 6,
    "start_time": "2021-08-29T20:44:55.001Z"
   },
   {
    "duration": 4,
    "start_time": "2021-08-29T20:44:55.649Z"
   },
   {
    "duration": 82,
    "start_time": "2021-08-29T20:44:55.821Z"
   },
   {
    "duration": 7,
    "start_time": "2021-08-29T20:44:55.986Z"
   },
   {
    "duration": 37,
    "start_time": "2021-08-29T20:44:56.505Z"
   },
   {
    "duration": 5051,
    "start_time": "2021-08-29T20:44:56.994Z"
   },
   {
    "duration": 21,
    "start_time": "2021-08-29T20:45:02.055Z"
   },
   {
    "duration": 40,
    "start_time": "2021-08-29T20:45:02.079Z"
   },
   {
    "duration": 90,
    "start_time": "2021-08-29T20:45:02.121Z"
   },
   {
    "duration": 38,
    "start_time": "2021-08-29T20:45:02.214Z"
   },
   {
    "duration": 25,
    "start_time": "2021-08-29T20:45:02.255Z"
   },
   {
    "duration": 30,
    "start_time": "2021-08-29T20:45:02.282Z"
   },
   {
    "duration": 14,
    "start_time": "2021-08-29T20:45:02.316Z"
   },
   {
    "duration": 5,
    "start_time": "2021-08-31T19:35:40.658Z"
   },
   {
    "duration": 22,
    "start_time": "2021-08-31T19:35:41.502Z"
   },
   {
    "duration": 12,
    "start_time": "2021-08-31T19:35:41.855Z"
   },
   {
    "duration": 9,
    "start_time": "2021-08-31T19:35:42.341Z"
   },
   {
    "duration": 36,
    "start_time": "2021-08-31T19:35:43.558Z"
   },
   {
    "duration": 13,
    "start_time": "2021-08-31T19:35:44.439Z"
   },
   {
    "duration": 11,
    "start_time": "2021-08-31T19:35:47.099Z"
   },
   {
    "duration": 5218,
    "start_time": "2021-08-31T19:37:59.154Z"
   },
   {
    "duration": 5408,
    "start_time": "2021-08-31T19:38:18.330Z"
   },
   {
    "duration": 5,
    "start_time": "2021-08-31T19:40:43.370Z"
   },
   {
    "duration": 4259,
    "start_time": "2021-08-31T19:40:47.445Z"
   },
   {
    "duration": 4741,
    "start_time": "2021-08-31T19:41:18.777Z"
   },
   {
    "duration": 4231,
    "start_time": "2021-08-31T19:42:11.091Z"
   },
   {
    "duration": 82,
    "start_time": "2021-08-31T19:42:53.716Z"
   },
   {
    "duration": 4160,
    "start_time": "2021-08-31T19:42:58.549Z"
   },
   {
    "duration": 16,
    "start_time": "2021-08-31T19:43:08.134Z"
   },
   {
    "duration": 388,
    "start_time": "2021-08-31T19:43:24.242Z"
   },
   {
    "duration": 540,
    "start_time": "2021-08-31T19:43:45.721Z"
   },
   {
    "duration": 4350,
    "start_time": "2021-08-31T19:47:36.084Z"
   },
   {
    "duration": 4013,
    "start_time": "2021-08-31T19:47:50.351Z"
   },
   {
    "duration": 5,
    "start_time": "2021-08-31T20:01:31.227Z"
   },
   {
    "duration": 16,
    "start_time": "2021-08-31T20:01:36.582Z"
   },
   {
    "duration": 7,
    "start_time": "2021-08-31T20:01:43.375Z"
   },
   {
    "duration": 11,
    "start_time": "2021-08-31T20:01:44.338Z"
   },
   {
    "duration": 433,
    "start_time": "2021-08-31T20:02:09.858Z"
   },
   {
    "duration": 11,
    "start_time": "2021-08-31T20:02:15.336Z"
   },
   {
    "duration": 346,
    "start_time": "2021-08-31T20:02:26.585Z"
   },
   {
    "duration": 10,
    "start_time": "2021-08-31T20:02:49.893Z"
   },
   {
    "duration": 6,
    "start_time": "2021-08-31T20:02:53.517Z"
   },
   {
    "duration": 620,
    "start_time": "2021-08-31T20:07:34.712Z"
   },
   {
    "duration": 6,
    "start_time": "2021-08-31T20:08:33.995Z"
   },
   {
    "duration": 7,
    "start_time": "2021-08-31T20:11:30.005Z"
   },
   {
    "duration": 373,
    "start_time": "2021-08-31T20:11:56.084Z"
   },
   {
    "duration": 11,
    "start_time": "2021-08-31T20:12:46.387Z"
   },
   {
    "duration": 6,
    "start_time": "2021-08-31T20:14:16.261Z"
   },
   {
    "duration": 3,
    "start_time": "2021-08-31T20:14:16.886Z"
   },
   {
    "duration": 25,
    "start_time": "2021-08-31T20:14:17.311Z"
   },
   {
    "duration": 7,
    "start_time": "2021-08-31T20:14:20.341Z"
   },
   {
    "duration": 33,
    "start_time": "2021-08-31T20:14:25.784Z"
   },
   {
    "duration": 4339,
    "start_time": "2021-08-31T20:14:33.825Z"
   },
   {
    "duration": 7,
    "start_time": "2021-08-31T20:16:10.747Z"
   },
   {
    "duration": 11,
    "start_time": "2021-08-31T20:16:11.706Z"
   },
   {
    "duration": 377,
    "start_time": "2021-08-31T20:16:25.150Z"
   },
   {
    "duration": 11,
    "start_time": "2021-08-31T20:16:41.023Z"
   },
   {
    "duration": 6,
    "start_time": "2021-08-31T20:16:42.939Z"
   },
   {
    "duration": 6,
    "start_time": "2021-08-31T20:16:46.885Z"
   },
   {
    "duration": 6,
    "start_time": "2021-08-31T20:17:05.068Z"
   },
   {
    "duration": 8,
    "start_time": "2021-08-31T20:17:18.964Z"
   },
   {
    "duration": 4,
    "start_time": "2021-08-31T20:17:23.174Z"
   },
   {
    "duration": 23,
    "start_time": "2021-08-31T20:17:23.796Z"
   },
   {
    "duration": 6,
    "start_time": "2021-08-31T20:17:23.822Z"
   },
   {
    "duration": 31,
    "start_time": "2021-08-31T20:17:23.918Z"
   },
   {
    "duration": 4131,
    "start_time": "2021-08-31T20:17:24.637Z"
   },
   {
    "duration": 40,
    "start_time": "2021-08-31T20:43:17.771Z"
   },
   {
    "duration": 13,
    "start_time": "2021-08-31T20:43:20.634Z"
   },
   {
    "duration": 33,
    "start_time": "2021-08-31T20:43:21.363Z"
   },
   {
    "duration": 134,
    "start_time": "2021-08-31T20:44:40.874Z"
   },
   {
    "duration": 52,
    "start_time": "2021-08-31T20:46:27.713Z"
   },
   {
    "duration": 12,
    "start_time": "2021-08-31T20:46:51.702Z"
   },
   {
    "duration": 6,
    "start_time": "2021-08-31T20:47:09.686Z"
   },
   {
    "duration": 6,
    "start_time": "2021-08-31T20:47:11.168Z"
   },
   {
    "duration": 5,
    "start_time": "2021-08-31T20:47:20.752Z"
   },
   {
    "duration": 1597,
    "start_time": "2021-08-31T20:48:10.004Z"
   },
   {
    "duration": 23,
    "start_time": "2021-08-31T20:48:11.603Z"
   },
   {
    "duration": 17,
    "start_time": "2021-08-31T20:48:11.629Z"
   },
   {
    "duration": 15,
    "start_time": "2021-08-31T20:48:11.657Z"
   },
   {
    "duration": 43,
    "start_time": "2021-08-31T20:48:11.675Z"
   },
   {
    "duration": 35,
    "start_time": "2021-08-31T20:48:11.721Z"
   },
   {
    "duration": 429,
    "start_time": "2021-08-31T20:48:12.315Z"
   },
   {
    "duration": 4319,
    "start_time": "2021-08-31T20:48:12.747Z"
   },
   {
    "duration": 5,
    "start_time": "2021-08-31T20:48:17.069Z"
   },
   {
    "duration": 11,
    "start_time": "2021-08-31T20:48:17.078Z"
   },
   {
    "duration": 13,
    "start_time": "2021-08-31T20:48:17.093Z"
   },
   {
    "duration": 47,
    "start_time": "2021-08-31T20:48:17.109Z"
   },
   {
    "duration": 8,
    "start_time": "2021-08-31T20:48:17.161Z"
   },
   {
    "duration": 11,
    "start_time": "2021-08-31T20:48:17.172Z"
   },
   {
    "duration": 7,
    "start_time": "2021-08-31T20:48:17.186Z"
   },
   {
    "duration": 72,
    "start_time": "2021-08-31T20:48:17.196Z"
   },
   {
    "duration": 8,
    "start_time": "2021-08-31T20:48:17.271Z"
   },
   {
    "duration": 33,
    "start_time": "2021-08-31T20:48:17.370Z"
   },
   {
    "duration": 4130,
    "start_time": "2021-08-31T20:48:17.963Z"
   },
   {
    "duration": 73,
    "start_time": "2021-08-31T20:48:22.096Z"
   },
   {
    "duration": 17,
    "start_time": "2021-08-31T20:48:22.173Z"
   },
   {
    "duration": 77,
    "start_time": "2021-08-31T20:48:22.194Z"
   },
   {
    "duration": 16,
    "start_time": "2021-08-31T20:48:28.805Z"
   },
   {
    "duration": 7,
    "start_time": "2021-08-31T20:48:29.651Z"
   },
   {
    "duration": 8,
    "start_time": "2021-08-31T20:48:31.452Z"
   },
   {
    "duration": 13,
    "start_time": "2021-08-31T20:48:36.686Z"
   },
   {
    "duration": 8,
    "start_time": "2021-08-31T20:48:38.921Z"
   },
   {
    "duration": 7,
    "start_time": "2021-08-31T20:48:39.630Z"
   },
   {
    "duration": 14,
    "start_time": "2021-08-31T20:49:24.778Z"
   },
   {
    "duration": 12,
    "start_time": "2021-08-31T21:00:34.996Z"
   },
   {
    "duration": 4,
    "start_time": "2021-09-01T15:16:59.911Z"
   },
   {
    "duration": 3,
    "start_time": "2021-09-01T15:18:24.253Z"
   },
   {
    "duration": 7,
    "start_time": "2021-09-01T15:26:46.568Z"
   },
   {
    "duration": 7,
    "start_time": "2021-09-01T15:28:11.012Z"
   },
   {
    "duration": 7,
    "start_time": "2021-09-01T15:28:30.031Z"
   },
   {
    "duration": 3,
    "start_time": "2021-09-01T15:28:52.342Z"
   },
   {
    "duration": 7,
    "start_time": "2021-09-01T15:28:53.453Z"
   },
   {
    "duration": 8,
    "start_time": "2021-09-01T15:28:54.048Z"
   },
   {
    "duration": 4,
    "start_time": "2021-09-01T15:29:03.014Z"
   },
   {
    "duration": 6,
    "start_time": "2021-09-01T15:29:03.855Z"
   },
   {
    "duration": 7,
    "start_time": "2021-09-01T15:29:04.316Z"
   },
   {
    "duration": 4,
    "start_time": "2021-09-01T15:29:16.855Z"
   },
   {
    "duration": 8,
    "start_time": "2021-09-01T15:29:17.589Z"
   },
   {
    "duration": 7,
    "start_time": "2021-09-01T15:29:17.985Z"
   },
   {
    "duration": 4,
    "start_time": "2021-09-01T15:29:46.405Z"
   },
   {
    "duration": 541,
    "start_time": "2021-09-01T15:29:47.337Z"
   },
   {
    "duration": 353,
    "start_time": "2021-09-01T15:29:47.907Z"
   },
   {
    "duration": 4,
    "start_time": "2021-09-01T15:30:23.238Z"
   },
   {
    "duration": 7,
    "start_time": "2021-09-01T15:30:24.175Z"
   },
   {
    "duration": 10,
    "start_time": "2021-09-01T15:30:25.205Z"
   },
   {
    "duration": 3,
    "start_time": "2021-09-01T15:30:38.052Z"
   },
   {
    "duration": 6,
    "start_time": "2021-09-01T15:30:38.785Z"
   },
   {
    "duration": 7,
    "start_time": "2021-09-01T15:30:39.229Z"
   },
   {
    "duration": 9,
    "start_time": "2021-09-01T15:41:41.359Z"
   },
   {
    "duration": 8,
    "start_time": "2021-09-01T15:41:42.010Z"
   },
   {
    "duration": 4,
    "start_time": "2021-09-01T15:41:46.864Z"
   },
   {
    "duration": 8,
    "start_time": "2021-09-01T15:41:47.381Z"
   },
   {
    "duration": 7,
    "start_time": "2021-09-01T15:41:50.924Z"
   },
   {
    "duration": 6,
    "start_time": "2021-09-01T15:52:51.351Z"
   },
   {
    "duration": 6,
    "start_time": "2021-09-01T15:54:08.946Z"
   },
   {
    "duration": 6,
    "start_time": "2021-09-01T15:54:14.848Z"
   },
   {
    "duration": 379,
    "start_time": "2021-09-01T15:55:08.597Z"
   },
   {
    "duration": 3,
    "start_time": "2021-09-01T15:55:23.508Z"
   },
   {
    "duration": 10,
    "start_time": "2021-09-01T15:55:24.693Z"
   },
   {
    "duration": 11,
    "start_time": "2021-09-01T15:55:26.429Z"
   },
   {
    "duration": 13,
    "start_time": "2021-09-01T15:55:27.141Z"
   },
   {
    "duration": 4,
    "start_time": "2021-09-01T15:55:27.733Z"
   },
   {
    "duration": 9,
    "start_time": "2021-09-01T15:55:28.348Z"
   },
   {
    "duration": 4,
    "start_time": "2021-09-01T15:55:28.628Z"
   },
   {
    "duration": 8,
    "start_time": "2021-09-01T15:55:29.884Z"
   },
   {
    "duration": 4,
    "start_time": "2021-09-01T15:55:30.515Z"
   },
   {
    "duration": 13,
    "start_time": "2021-09-01T15:55:31.336Z"
   },
   {
    "duration": 6,
    "start_time": "2021-09-01T15:56:23.364Z"
   },
   {
    "duration": 7,
    "start_time": "2021-09-01T16:09:49.117Z"
   },
   {
    "duration": 6,
    "start_time": "2021-09-01T16:11:30.578Z"
   },
   {
    "duration": 1644,
    "start_time": "2021-09-01T16:11:40.465Z"
   },
   {
    "duration": 23,
    "start_time": "2021-09-01T16:11:42.111Z"
   },
   {
    "duration": 26,
    "start_time": "2021-09-01T16:11:42.137Z"
   },
   {
    "duration": 9,
    "start_time": "2021-09-01T16:11:42.166Z"
   },
   {
    "duration": 81,
    "start_time": "2021-09-01T16:11:42.177Z"
   },
   {
    "duration": 16,
    "start_time": "2021-09-01T16:11:42.260Z"
   },
   {
    "duration": 452,
    "start_time": "2021-09-01T16:11:42.280Z"
   },
   {
    "duration": 4069,
    "start_time": "2021-09-01T16:11:42.738Z"
   },
   {
    "duration": 6,
    "start_time": "2021-09-01T16:11:46.810Z"
   },
   {
    "duration": 10,
    "start_time": "2021-09-01T16:11:46.820Z"
   },
   {
    "duration": 9,
    "start_time": "2021-09-01T16:11:46.856Z"
   },
   {
    "duration": 10,
    "start_time": "2021-09-01T16:11:46.868Z"
   },
   {
    "duration": 15,
    "start_time": "2021-09-01T16:11:46.880Z"
   },
   {
    "duration": 16,
    "start_time": "2021-09-01T16:11:46.898Z"
   },
   {
    "duration": 39,
    "start_time": "2021-09-01T16:11:46.917Z"
   },
   {
    "duration": 28,
    "start_time": "2021-09-01T16:11:46.959Z"
   },
   {
    "duration": 9,
    "start_time": "2021-09-01T16:11:46.991Z"
   },
   {
    "duration": 74,
    "start_time": "2021-09-01T16:11:47.002Z"
   },
   {
    "duration": 4080,
    "start_time": "2021-09-01T16:11:47.079Z"
   },
   {
    "duration": 43,
    "start_time": "2021-09-01T16:11:51.162Z"
   },
   {
    "duration": 12,
    "start_time": "2021-09-01T16:11:51.208Z"
   },
   {
    "duration": 33,
    "start_time": "2021-09-01T16:11:51.256Z"
   },
   {
    "duration": 11,
    "start_time": "2021-09-01T16:11:51.293Z"
   },
   {
    "duration": 8,
    "start_time": "2021-09-01T16:11:51.307Z"
   },
   {
    "duration": 43,
    "start_time": "2021-09-01T16:11:51.318Z"
   },
   {
    "duration": 24,
    "start_time": "2021-09-01T16:11:51.364Z"
   },
   {
    "duration": 9,
    "start_time": "2021-09-01T16:11:51.391Z"
   },
   {
    "duration": 19,
    "start_time": "2021-09-01T16:11:51.403Z"
   },
   {
    "duration": 31,
    "start_time": "2021-09-01T16:11:51.425Z"
   },
   {
    "duration": 11,
    "start_time": "2021-09-01T16:11:51.459Z"
   },
   {
    "duration": 23,
    "start_time": "2021-09-01T16:11:51.473Z"
   },
   {
    "duration": 18,
    "start_time": "2021-09-01T16:11:51.499Z"
   },
   {
    "duration": 3,
    "start_time": "2021-09-01T16:11:51.555Z"
   },
   {
    "duration": 15,
    "start_time": "2021-09-01T16:11:51.561Z"
   },
   {
    "duration": 12,
    "start_time": "2021-09-01T16:11:51.579Z"
   },
   {
    "duration": 13,
    "start_time": "2021-09-01T16:11:51.593Z"
   },
   {
    "duration": 9,
    "start_time": "2021-09-01T16:11:51.608Z"
   },
   {
    "duration": 41,
    "start_time": "2021-09-01T16:11:51.619Z"
   },
   {
    "duration": 7,
    "start_time": "2021-09-01T16:11:51.663Z"
   }
  ],
  "kernelspec": {
   "display_name": "Python 3",
   "language": "python",
   "name": "python3"
  },
  "language_info": {
   "codemirror_mode": {
    "name": "ipython",
    "version": 3
   },
   "file_extension": ".py",
   "mimetype": "text/x-python",
   "name": "python",
   "nbconvert_exporter": "python",
   "pygments_lexer": "ipython3",
   "version": "3.8.5"
  },
  "toc": {
   "base_numbering": 1,
   "nav_menu": {},
   "number_sections": true,
   "sideBar": true,
   "skip_h1_title": true,
   "title_cell": "Table of Contents",
   "title_sidebar": "Contents",
   "toc_cell": false,
   "toc_position": {},
   "toc_section_display": true,
   "toc_window_display": false
  }
 },
 "nbformat": 4,
 "nbformat_minor": 2
}
