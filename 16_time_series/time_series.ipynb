{
 "cells": [
  {
   "cell_type": "markdown",
   "metadata": {},
   "source": [
    "#  The number of taxi orders for the next hour forecasting"
   ]
  },
  {
   "cell_type": "markdown",
   "metadata": {},
   "source": [
    "The company collected historical data on taxi orders at airports. To attract more drivers during peak load, you need to predict the number of taxi orders for the next hour. Build a model for such a prediction.\n",
    "\n",
    "The value of the *RMSE* metric in the test sample should be no more than 48.\n",
    "\n",
    "We need to:\n",
    "\n",
    "1. Download the data and resample it one hour at a time.\n",
    "2. Analyze the data.\n",
    "3. Train different models with different hyperparameters. Make a test sample of 10% of the original data.\n",
    "4. Check the data on the test sample and draw conclusions.\n",
    "\n",
    "\n",
    "The data is in the file `taxi.csv'. The number of orders is in the `num_orders` column."
   ]
  },
  {
   "cell_type": "markdown",
   "metadata": {},
   "source": [
    "Importing the libraries necessary for the work:"
   ]
  },
  {
   "cell_type": "code",
   "execution_count": 1,
   "metadata": {},
   "outputs": [],
   "source": [
    "import warnings\n",
    "warnings.filterwarnings('ignore')\n",
    "\n",
    "import pandas as pd\n",
    "import numpy as np\n",
    "import matplotlib.pyplot as plt\n",
    "import seaborn as sns\n",
    "import datetime\n",
    "\n",
    "from statsmodels.tsa.seasonal import seasonal_decompose\n",
    "from sklearn.preprocessing import StandardScaler\n",
    "\n",
    "from sklearn.model_selection import train_test_split\n",
    "from sklearn.model_selection import GridSearchCV\n",
    "from sklearn.model_selection import KFold\n",
    "from sklearn.model_selection import cross_val_score\n",
    "from sklearn.model_selection import TimeSeriesSplit\n",
    "\n",
    "from sklearn.linear_model import LinearRegression\n",
    "from sklearn.ensemble import RandomForestRegressor\n",
    "from lightgbm import LGBMRegressor\n",
    "from catboost import CatBoostRegressor\n",
    "\n",
    "from sklearn.metrics import mean_squared_error"
   ]
  },
  {
   "cell_type": "markdown",
   "metadata": {},
   "source": [
    "## Preparation"
   ]
  },
  {
   "cell_type": "markdown",
   "metadata": {},
   "source": [
    "Let's look at the data:"
   ]
  },
  {
   "cell_type": "code",
   "execution_count": 2,
   "metadata": {},
   "outputs": [
    {
     "data": {
      "text/html": [
       "<div>\n",
       "<style scoped>\n",
       "    .dataframe tbody tr th:only-of-type {\n",
       "        vertical-align: middle;\n",
       "    }\n",
       "\n",
       "    .dataframe tbody tr th {\n",
       "        vertical-align: top;\n",
       "    }\n",
       "\n",
       "    .dataframe thead th {\n",
       "        text-align: right;\n",
       "    }\n",
       "</style>\n",
       "<table border=\"1\" class=\"dataframe\">\n",
       "  <thead>\n",
       "    <tr style=\"text-align: right;\">\n",
       "      <th></th>\n",
       "      <th>datetime</th>\n",
       "      <th>num_orders</th>\n",
       "    </tr>\n",
       "  </thead>\n",
       "  <tbody>\n",
       "    <tr>\n",
       "      <th>0</th>\n",
       "      <td>2018-03-01 00:00:00</td>\n",
       "      <td>9</td>\n",
       "    </tr>\n",
       "    <tr>\n",
       "      <th>1</th>\n",
       "      <td>2018-03-01 00:10:00</td>\n",
       "      <td>14</td>\n",
       "    </tr>\n",
       "    <tr>\n",
       "      <th>2</th>\n",
       "      <td>2018-03-01 00:20:00</td>\n",
       "      <td>28</td>\n",
       "    </tr>\n",
       "  </tbody>\n",
       "</table>\n",
       "</div>"
      ],
      "text/plain": [
       "              datetime  num_orders\n",
       "0  2018-03-01 00:00:00           9\n",
       "1  2018-03-01 00:10:00          14\n",
       "2  2018-03-01 00:20:00          28"
      ]
     },
     "execution_count": 2,
     "metadata": {},
     "output_type": "execute_result"
    }
   ],
   "source": [
    "df = pd.read_csv('/datasets/taxi.csv')\n",
    "df.head(3)"
   ]
  },
  {
   "cell_type": "markdown",
   "metadata": {},
   "source": [
    "Let's make the date an index and define it as **`datetime`**"
   ]
  },
  {
   "cell_type": "code",
   "execution_count": 3,
   "metadata": {},
   "outputs": [
    {
     "name": "stdout",
     "output_type": "stream",
     "text": [
      "<class 'pandas.core.frame.DataFrame'>\n",
      "DatetimeIndex: 26496 entries, 2018-03-01 00:00:00 to 2018-08-31 23:50:00\n",
      "Data columns (total 1 columns):\n",
      " #   Column      Non-Null Count  Dtype\n",
      "---  ------      --------------  -----\n",
      " 0   num_orders  26496 non-null  int64\n",
      "dtypes: int64(1)\n",
      "memory usage: 414.0 KB\n"
     ]
    }
   ],
   "source": [
    "df = pd.read_csv('/datasets/taxi.csv', index_col=[0], parse_dates=[0])\n",
    "df.sort_index(inplace = True)\n",
    "df.info()"
   ]
  },
  {
   "cell_type": "markdown",
   "metadata": {},
   "source": [
    "Let's check whether the sorting has turned out and whether the indexes are in chronological order"
   ]
  },
  {
   "cell_type": "code",
   "execution_count": 4,
   "metadata": {},
   "outputs": [
    {
     "name": "stdout",
     "output_type": "stream",
     "text": [
      "Indexes are sorted\n"
     ]
    }
   ],
   "source": [
    "if df.index.is_monotonic == True:\n",
    "    print('Indexes are sorted')\n",
    "else:\n",
    "    print('An error in the chronology')"
   ]
  },
  {
   "cell_type": "markdown",
   "metadata": {},
   "source": [
    "Let's perform resampling **`one hour at a time`**"
   ]
  },
  {
   "cell_type": "code",
   "execution_count": 5,
   "metadata": {},
   "outputs": [
    {
     "name": "stdout",
     "output_type": "stream",
     "text": [
      "<class 'pandas.core.frame.DataFrame'>\n",
      "DatetimeIndex: 4416 entries, 2018-03-01 00:00:00 to 2018-08-31 23:00:00\n",
      "Freq: H\n",
      "Data columns (total 1 columns):\n",
      " #   Column      Non-Null Count  Dtype\n",
      "---  ------      --------------  -----\n",
      " 0   num_orders  4416 non-null   int64\n",
      "dtypes: int64(1)\n",
      "memory usage: 69.0 KB\n"
     ]
    }
   ],
   "source": [
    "df = df.resample('1H').sum()\n",
    "df.info()"
   ]
  },
  {
   "cell_type": "markdown",
   "metadata": {},
   "source": [
    "**Conclusion:**\n",
    "- read the data\n",
    "- converted the date to the required format **`datetime`**\n",
    "- for further work, the date was made an index\n",
    "- made resampling of data by the hour"
   ]
  },
  {
   "cell_type": "markdown",
   "metadata": {},
   "source": [
    "## Analysis"
   ]
  },
  {
   "cell_type": "markdown",
   "metadata": {},
   "source": [
    "Let's do an EDA, we don't have much data, so let's take a closer look at the time series."
   ]
  },
  {
   "cell_type": "code",
   "execution_count": 6,
   "metadata": {},
   "outputs": [
    {
     "data": {
      "text/html": [
       "<div>\n",
       "<style scoped>\n",
       "    .dataframe tbody tr th:only-of-type {\n",
       "        vertical-align: middle;\n",
       "    }\n",
       "\n",
       "    .dataframe tbody tr th {\n",
       "        vertical-align: top;\n",
       "    }\n",
       "\n",
       "    .dataframe thead th {\n",
       "        text-align: right;\n",
       "    }\n",
       "</style>\n",
       "<table border=\"1\" class=\"dataframe\">\n",
       "  <thead>\n",
       "    <tr style=\"text-align: right;\">\n",
       "      <th></th>\n",
       "      <th>count</th>\n",
       "      <th>mean</th>\n",
       "      <th>std</th>\n",
       "      <th>min</th>\n",
       "      <th>25%</th>\n",
       "      <th>50%</th>\n",
       "      <th>75%</th>\n",
       "      <th>max</th>\n",
       "    </tr>\n",
       "  </thead>\n",
       "  <tbody>\n",
       "    <tr>\n",
       "      <th>num_orders</th>\n",
       "      <td>4416.0</td>\n",
       "      <td>84.422781</td>\n",
       "      <td>45.023853</td>\n",
       "      <td>0.0</td>\n",
       "      <td>54.0</td>\n",
       "      <td>78.0</td>\n",
       "      <td>107.0</td>\n",
       "      <td>462.0</td>\n",
       "    </tr>\n",
       "  </tbody>\n",
       "</table>\n",
       "</div>"
      ],
      "text/plain": [
       "             count       mean        std  min   25%   50%    75%    max\n",
       "num_orders  4416.0  84.422781  45.023853  0.0  54.0  78.0  107.0  462.0"
      ]
     },
     "execution_count": 6,
     "metadata": {},
     "output_type": "execute_result"
    }
   ],
   "source": [
    "df.describe().T"
   ]
  },
  {
   "cell_type": "markdown",
   "metadata": {},
   "source": [
    "Number of orders by hour:\n",
    "- takes values from 0 to 462\n",
    "- with an average of 84 orders per hour\n",
    "- standard deviation 45"
   ]
  },
  {
   "cell_type": "markdown",
   "metadata": {},
   "source": [
    "Now let's look at the charts:"
   ]
  },
  {
   "cell_type": "code",
   "execution_count": 7,
   "metadata": {},
   "outputs": [],
   "source": [
    "def plot_time(data, nm):\n",
    "    plt.figure(figsize = (14, 4))\n",
    "\n",
    "    plt.plot(data)\n",
    "\n",
    "    plt.title(nm)\n",
    "\n",
    "    plt.xlabel('date')\n",
    "    plt.ylabel('cnt_sum')\n",
    "    plt.grid(True)\n",
    "    plt.show()"
   ]
  },
  {
   "cell_type": "code",
   "execution_count": 8,
   "metadata": {},
   "outputs": [
    {
     "data": {
      "image/png": "[encoded data removed]",
      "text/plain": [
       "<Figure size 1008x288 with 1 Axes>"
      ]
     },
     "metadata": {
      "needs_background": "light"
     },
     "output_type": "display_data"
    }
   ],
   "source": [
    "plot_time(df, 'Distribution of values by dates')"
   ]
  },
  {
   "cell_type": "code",
   "execution_count": 9,
   "metadata": {},
   "outputs": [
    {
     "data": {
      "image/png": "[encoded data removed]",
      "text/plain": [
       "<Figure size 1008x288 with 1 Axes>"
      ]
     },
     "metadata": {
      "needs_background": "light"
     },
     "output_type": "display_data"
    }
   ],
   "source": [
    "plot_time(df.head(24*7), 'Distribution of values by week')"
   ]
  },
  {
   "cell_type": "markdown",
   "metadata": {},
   "source": [
    "Use the **seasonal_decompose()** function and select the components of the time series:\n",
    "\n",
    "   - `decomposed.trend` — trend\n",
    "   - `decomposed.seasonal` — seasonal component\n",
    "   - `decomposed.resid` — decomposition remainder"
   ]
  },
  {
   "cell_type": "code",
   "execution_count": 10,
   "metadata": {},
   "outputs": [
    {
     "data": {
      "image/png": "[encoded data removed]",
      "text/plain": [
       "<Figure size 1008x288 with 1 Axes>"
      ]
     },
     "metadata": {
      "needs_background": "light"
     },
     "output_type": "display_data"
    },
    {
     "data": {
      "image/png": "[encoded data removed]",
      "text/plain": [
       "<Figure size 1008x288 with 1 Axes>"
      ]
     },
     "metadata": {
      "needs_background": "light"
     },
     "output_type": "display_data"
    },
    {
     "data": {
      "image/png": "[encoded data removed]",
      "text/plain": [
       "<Figure size 1008x288 with 1 Axes>"
      ]
     },
     "metadata": {
      "needs_background": "light"
     },
     "output_type": "display_data"
    }
   ],
   "source": [
    "decomposed = seasonal_decompose(df)\n",
    "\n",
    "list_grph = {'Trend': decomposed.trend, \n",
    "             'Seasonal component': decomposed.seasonal, \n",
    "             'Decomposition remainder': decomposed.resid}\n",
    "\n",
    "for i in list_grph:\n",
    "    plot_time(list_grph[i], i)"
   ]
  },
  {
   "cell_type": "markdown",
   "metadata": {},
   "source": [
    "The graphs show:\n",
    "   - the number of orders is growing over time (trend chart) - taxi business is going uphill\n",
    "   - the remainder of the decomposition (noise) is stationary, except for the period *2018-08 - 2018-09*, with an uptrend, the remainder is growing (it looks logical)\n",
    "   - let's look at the seasonal component on a different scale\n",
    "   \n",
    "   \n",
    "`Stationary time series` are series in which the mean and standard deviation do not change"
   ]
  },
  {
   "cell_type": "code",
   "execution_count": 11,
   "metadata": {},
   "outputs": [
    {
     "data": {
      "image/png": "[encoded data removed]",
      "text/plain": [
       "<Figure size 1008x288 with 1 Axes>"
      ]
     },
     "metadata": {
      "needs_background": "light"
     },
     "output_type": "display_data"
    }
   ],
   "source": [
    "plot_time(decomposed.seasonal.head(24*7), 'Seasonal component by week')"
   ]
  },
  {
   "cell_type": "code",
   "execution_count": 12,
   "metadata": {},
   "outputs": [
    {
     "data": {
      "image/png": "[encoded data removed]",
      "text/plain": [
       "<Figure size 1008x288 with 1 Axes>"
      ]
     },
     "metadata": {
      "needs_background": "light"
     },
     "output_type": "display_data"
    }
   ],
   "source": [
    "plot_time(decomposed.seasonal.head(24), 'Seasonal component by day')"
   ]
  },
  {
   "cell_type": "markdown",
   "metadata": {},
   "source": [
    "It turns out quite clearly:\n",
    "- seasonality is associated with days, which is quite logical\n",
    "- the spread of the target variable is 120 on a weekly scale\n",
    "- if you look at the daily scale, the peak hours at 9 am and 16 pm are highlighted"
   ]
  },
  {
   "cell_type": "markdown",
   "metadata": {},
   "source": [
    "**Conclusion:**\n",
    "- studied the data in more detail\n",
    "- anomalies and omissions have not been identified\n",
    "- split the time trend, seasonality and remainder into components and viewed them at different scales"
   ]
  },
  {
   "cell_type": "markdown",
   "metadata": {},
   "source": [
    "## Training"
   ]
  },
  {
   "cell_type": "markdown",
   "metadata": {},
   "source": [
    "### Data preprocessing"
   ]
  },
  {
   "cell_type": "markdown",
   "metadata": {},
   "source": [
    "**The main objective of the project:**\n",
    "\n",
    "It is necessary to predict the number of taxi orders for the next hour\n",
    "\n",
    "**Target variable:**\n",
    "\n",
    "`num_orders` - set by condition\n",
    "\n",
    "**What type of task is being solved:**\n",
    "\n",
    "A quantitative feature is predicted, we solve the regression problem\n",
    "\n",
    "**Quality metric:**\n",
    "\n",
    "RSME - set by condition\n",
    "\n",
    "**Feature generation**\n",
    "\n",
    "Before training the model and selecting parameters, we need to generate features:\n",
    "- `Calendar signs` - year, month, day of the week, day, hour\n",
    "- `Lagging values` - previous values of the time series will tell you whether the function x(t) will grow or decrease\n",
    "- `Moving average` - smoothing of time series. The essence is to find the values that are least susceptible to fluctuations, that is, arithmetic averages.\n",
    "\n",
    "\n",
    "We will write a function for creating features, in our project it is important to take into account, including hours, so we will optionally add their accounting to the feature generation function."
   ]
  },
  {
   "cell_type": "code",
   "execution_count": 13,
   "metadata": {},
   "outputs": [],
   "source": [
    "def make_features(df, max_lag, rolling_mean_size, flg_hour):\n",
    "    \n",
    "    data = df.copy()\n",
    "\n",
    "    data['month'] = data.index.month\n",
    "    data['day'] = data.index.day\n",
    "    data['dayofweek'] = data.index.dayofweek\n",
    "    \n",
    "    if flg_hour == True:\n",
    "        hour = data.index.hour\n",
    "        data['hour'] = hour\n",
    "    \n",
    "    for lag in range(1, max_lag + 1):\n",
    "        data['lag_{}'.format(lag)] = data['num_orders'].shift(lag)\n",
    "\n",
    "    data['rolling_mean'] = data['num_orders'].shift().rolling(rolling_mean_size).mean()\n",
    "    \n",
    "    return data\n",
    "    \n",
    "    \n",
    "df_tst = make_features(df, 4, 4, 1)"
   ]
  },
  {
   "cell_type": "markdown",
   "metadata": {},
   "source": [
    "So we wrote a function to generate features (checked its operation and output test values)\n",
    "\n",
    "Now we need to decide on which combination of features we will teach our models and compare their results.\n",
    "\n",
    "**Idea:**\n",
    "\n",
    "Make an improvised GridSearch on the base model:\n",
    "   - try different combinations\n",
    "   - view the metric on the test\n",
    "   - choose the best combination\n",
    " \n",
    "As a *baseline model*, I propose to take linear regression (*there are no surprises here - it learns very quickly*)."
   ]
  },
  {
   "cell_type": "code",
   "execution_count": 14,
   "metadata": {},
   "outputs": [
    {
     "name": "stdout",
     "output_type": "stream",
     "text": [
      "CPU times: user 2 µs, sys: 1 µs, total: 3 µs\n",
      "Wall time: 6.2 µs\n",
      "max_lag: 10, rolling_mean_size: 5, flg_hour: 0, RMSE: 53.623838361403806\n",
      "max_lag: 10, rolling_mean_size: 5, flg_hour: 1, RMSE: 53.454643856732545\n",
      "max_lag: 10, rolling_mean_size: 10, flg_hour: 0, RMSE: 53.62383836140376\n",
      "max_lag: 10, rolling_mean_size: 10, flg_hour: 1, RMSE: 53.454643856732545\n",
      "max_lag: 10, rolling_mean_size: 15, flg_hour: 0, RMSE: 54.19492856610559\n",
      "max_lag: 10, rolling_mean_size: 15, flg_hour: 1, RMSE: 53.97908360958351\n",
      "max_lag: 10, rolling_mean_size: 20, flg_hour: 0, RMSE: 56.30491421060951\n",
      "max_lag: 10, rolling_mean_size: 20, flg_hour: 1, RMSE: 56.06755778424661\n",
      "max_lag: 20, rolling_mean_size: 5, flg_hour: 0, RMSE: 55.23993109743643\n",
      "max_lag: 20, rolling_mean_size: 5, flg_hour: 1, RMSE: 54.43628578201461\n",
      "max_lag: 20, rolling_mean_size: 10, flg_hour: 0, RMSE: 55.239931097436596\n",
      "max_lag: 20, rolling_mean_size: 10, flg_hour: 1, RMSE: 54.436285782014586\n",
      "max_lag: 20, rolling_mean_size: 15, flg_hour: 0, RMSE: 55.23993109743644\n",
      "max_lag: 20, rolling_mean_size: 15, flg_hour: 1, RMSE: 54.43628578201456\n",
      "max_lag: 20, rolling_mean_size: 20, flg_hour: 0, RMSE: 55.239931097436575\n",
      "max_lag: 20, rolling_mean_size: 20, flg_hour: 1, RMSE: 54.43628578201459\n",
      "max_lag: 30, rolling_mean_size: 5, flg_hour: 0, RMSE: 46.88634057753084\n",
      "max_lag: 30, rolling_mean_size: 5, flg_hour: 1, RMSE: 46.858281157799155\n",
      "max_lag: 30, rolling_mean_size: 10, flg_hour: 0, RMSE: 46.88634057753086\n",
      "max_lag: 30, rolling_mean_size: 10, flg_hour: 1, RMSE: 46.85828115779918\n",
      "max_lag: 30, rolling_mean_size: 15, flg_hour: 0, RMSE: 46.886340577530866\n",
      "max_lag: 30, rolling_mean_size: 15, flg_hour: 1, RMSE: 46.85828115779918\n",
      "max_lag: 30, rolling_mean_size: 20, flg_hour: 0, RMSE: 46.88634057753088\n",
      "max_lag: 30, rolling_mean_size: 20, flg_hour: 1, RMSE: 46.85828115779916\n",
      "max_lag: 40, rolling_mean_size: 5, flg_hour: 0, RMSE: 48.06386899817973\n",
      "max_lag: 40, rolling_mean_size: 5, flg_hour: 1, RMSE: 48.03015936975975\n",
      "max_lag: 40, rolling_mean_size: 10, flg_hour: 0, RMSE: 48.04954860055897\n",
      "max_lag: 40, rolling_mean_size: 10, flg_hour: 1, RMSE: 48.03015936975983\n",
      "max_lag: 40, rolling_mean_size: 15, flg_hour: 0, RMSE: 48.05182158697961\n",
      "max_lag: 40, rolling_mean_size: 15, flg_hour: 1, RMSE: 48.03015936975979\n",
      "max_lag: 40, rolling_mean_size: 20, flg_hour: 0, RMSE: 48.0607740297909\n",
      "max_lag: 40, rolling_mean_size: 20, flg_hour: 1, RMSE: 48.03015936975972\n"
     ]
    }
   ],
   "source": [
    "%time\n",
    "\n",
    "res_df = pd.DataFrame()\n",
    "\n",
    "for max_lag in range(10, 41, 10):\n",
    "    for rolling_mean_size in range(5, 21, 5):\n",
    "        for flg_hour in range(2):\n",
    "            \n",
    "            df_test = make_features(df, max_lag, rolling_mean_size, bool(flg_hour))\n",
    "            \n",
    "            train, test = train_test_split(\n",
    "                    df_test,\n",
    "                    test_size = 0.1, \n",
    "                    random_state = 12345,\n",
    "                    shuffle = False\n",
    "                   )\n",
    "                \n",
    "            train = train.dropna() \n",
    "                  \n",
    "            X_train = train.drop(['num_orders'], axis=1)\n",
    "            y_train = train['num_orders']\n",
    "\n",
    "            X_test = test.drop(['num_orders'], axis=1)\n",
    "            y_test = test['num_orders']\n",
    "            \n",
    "            model_lr = LinearRegression()\n",
    "            model_lr.fit(X_train, y_train)\n",
    "\n",
    "            y_pred = model_lr.predict(X_test)\n",
    "\n",
    "            search_df = {'max_lag': [max_lag],\n",
    "                         'rolling_mean_size': [rolling_mean_size],\n",
    "                         'flg_hour': [flg_hour],\n",
    "                         'rmse': [mean_squared_error(y_pred, y_test) ** 0.5]\n",
    "                        }\n",
    "            \n",
    "            res_df = pd.concat([res_df, pd.DataFrame(search_df)], ignore_index = True)\n",
    "            \n",
    "            print('max_lag: {}, rolling_mean_size: {}, flg_hour: {}, RMSE: {}'.format(\n",
    "                max_lag, rolling_mean_size, flg_hour ,mean_squared_error(y_pred, y_test) ** 0.5))"
   ]
  },
  {
   "cell_type": "markdown",
   "metadata": {},
   "source": [
    "Choosing the best parameters:"
   ]
  },
  {
   "cell_type": "code",
   "execution_count": 15,
   "metadata": {},
   "outputs": [
    {
     "data": {
      "text/html": [
       "<div>\n",
       "<style scoped>\n",
       "    .dataframe tbody tr th:only-of-type {\n",
       "        vertical-align: middle;\n",
       "    }\n",
       "\n",
       "    .dataframe tbody tr th {\n",
       "        vertical-align: top;\n",
       "    }\n",
       "\n",
       "    .dataframe thead th {\n",
       "        text-align: right;\n",
       "    }\n",
       "</style>\n",
       "<table border=\"1\" class=\"dataframe\">\n",
       "  <thead>\n",
       "    <tr style=\"text-align: right;\">\n",
       "      <th></th>\n",
       "      <th>max_lag</th>\n",
       "      <th>rolling_mean_size</th>\n",
       "      <th>flg_hour</th>\n",
       "      <th>rmse</th>\n",
       "    </tr>\n",
       "  </thead>\n",
       "  <tbody>\n",
       "    <tr>\n",
       "      <th>17</th>\n",
       "      <td>30</td>\n",
       "      <td>5</td>\n",
       "      <td>1</td>\n",
       "      <td>46.858281</td>\n",
       "    </tr>\n",
       "  </tbody>\n",
       "</table>\n",
       "</div>"
      ],
      "text/plain": [
       "    max_lag  rolling_mean_size  flg_hour       rmse\n",
       "17       30                  5         1  46.858281"
      ]
     },
     "execution_count": 15,
     "metadata": {},
     "output_type": "execute_result"
    }
   ],
   "source": [
    "res_df = res_df.sort_values(by = 'rmse', ascending = True).head(1)\n",
    "res_df"
   ]
  },
  {
   "cell_type": "markdown",
   "metadata": {},
   "source": [
    "We are collecting the final dataset on which we will train the models:   "
   ]
  },
  {
   "cell_type": "code",
   "execution_count": 16,
   "metadata": {},
   "outputs": [],
   "source": [
    "df_test = make_features(df, list(res_df['max_lag'])[0], \n",
    "                            list(res_df['rolling_mean_size'])[0],\n",
    "                            list(res_df['flg_hour'])[0])\n",
    "\n",
    "train, test = train_test_split(df_test, shuffle = False, test_size = 0.1)\n",
    "train = train.dropna()\n",
    "\n",
    "\n",
    "X_train = train.drop(columns = ['num_orders'], axis=1)\n",
    "y_train = train['num_orders']\n",
    "\n",
    "X_test = test.drop(columns = ['num_orders'], axis=1)\n",
    "y_test = test['num_orders']"
   ]
  },
  {
   "cell_type": "markdown",
   "metadata": {},
   "source": [
    "### Model training"
   ]
  },
  {
   "cell_type": "code",
   "execution_count": 17,
   "metadata": {},
   "outputs": [],
   "source": [
    "from sklearn.metrics import make_scorer\n",
    "\n",
    "def rmse(y_true, y_pred):\n",
    "    error = (y_true - y_pred) ** 2\n",
    "    return np.sqrt(np.mean(error))\n",
    "\n",
    "rmse_scorer = make_scorer(\n",
    "    rmse,\n",
    "    greater_is_better = False\n",
    ")"
   ]
  },
  {
   "cell_type": "code",
   "execution_count": 18,
   "metadata": {},
   "outputs": [],
   "source": [
    "ts_cv = TimeSeriesSplit(n_splits = 5)"
   ]
  },
  {
   "cell_type": "markdown",
   "metadata": {},
   "source": [
    "#### Linear regression"
   ]
  },
  {
   "cell_type": "code",
   "execution_count": 19,
   "metadata": {},
   "outputs": [
    {
     "name": "stdout",
     "output_type": "stream",
     "text": [
      "CPU times: user 267 ms, sys: 144 ms, total: 411 ms\n",
      "Wall time: 40.7 ms\n"
     ]
    },
    {
     "data": {
      "text/plain": [
       "array([-23.2183007 , -23.47032418, -25.18129987, -27.21956321,\n",
       "       -33.44048881])"
      ]
     },
     "execution_count": 19,
     "metadata": {},
     "output_type": "execute_result"
    }
   ],
   "source": [
    "%%time\n",
    "\n",
    "t1 = datetime.datetime.now()\n",
    "\n",
    "model_lr = LinearRegression()\n",
    "\n",
    "scores_lr = np.array([])\n",
    "\n",
    "scores_on_this_split = cross_val_score(\n",
    "            estimator = model_lr , X = X_train, y = y_train,\n",
    "            cv = ts_cv, scoring = rmse_scorer)\n",
    "\n",
    "scores_lr = np.append(scores_lr, scores_on_this_split)\n",
    "\n",
    "t2 = datetime.datetime.now()\n",
    "\n",
    "time_lr = round((t2-t1).total_seconds(), 1)\n",
    "\n",
    "time_lr_cv = round((t2-t1).total_seconds(), 1)\n",
    "\n",
    "scores_lr"
   ]
  },
  {
   "cell_type": "markdown",
   "metadata": {},
   "source": [
    "Training the model"
   ]
  },
  {
   "cell_type": "code",
   "execution_count": 20,
   "metadata": {},
   "outputs": [
    {
     "name": "stdout",
     "output_type": "stream",
     "text": [
      "CPU times: user 15.3 ms, sys: 37.6 ms, total: 52.9 ms\n",
      "Wall time: 5.63 ms\n"
     ]
    }
   ],
   "source": [
    "%%time\n",
    "\n",
    "t1 = datetime.datetime.now()\n",
    "\n",
    "model_lr.fit(X_train, y_train)\n",
    "\n",
    "t2 = datetime.datetime.now()\n",
    "\n",
    "time_lr_fit = round((t2-t1).total_seconds(), 1)"
   ]
  },
  {
   "cell_type": "markdown",
   "metadata": {},
   "source": [
    "Making a prediction"
   ]
  },
  {
   "cell_type": "code",
   "execution_count": 21,
   "metadata": {},
   "outputs": [
    {
     "name": "stdout",
     "output_type": "stream",
     "text": [
      "CPU times: user 4.32 ms, sys: 11.1 ms, total: 15.4 ms\n",
      "Wall time: 1.73 ms\n"
     ]
    }
   ],
   "source": [
    "%%time\n",
    "\n",
    "t1 = datetime.datetime.now()\n",
    "\n",
    "predicted_target_test_lr = model_lr.predict(X_test)\n",
    "\n",
    "t2 = datetime.datetime.now()\n",
    "\n",
    "time_lr_prd = round((t2-t1).total_seconds(), 1)"
   ]
  },
  {
   "cell_type": "code",
   "execution_count": 22,
   "metadata": {},
   "outputs": [
    {
     "data": {
      "text/plain": [
       "46.858281157799155"
      ]
     },
     "execution_count": 22,
     "metadata": {},
     "output_type": "execute_result"
    }
   ],
   "source": [
    "score_lr = mean_squared_error(y_test, predicted_target_test_lr) ** 0.5\n",
    "score_lr"
   ]
  },
  {
   "cell_type": "markdown",
   "metadata": {},
   "source": [
    "#### Random Forest"
   ]
  },
  {
   "cell_type": "code",
   "execution_count": 23,
   "metadata": {},
   "outputs": [],
   "source": [
    "model_rf = RandomForestRegressor(random_state = 12345)"
   ]
  },
  {
   "cell_type": "code",
   "execution_count": 24,
   "metadata": {},
   "outputs": [],
   "source": [
    "param_grid_rf = { \n",
    "    'max_depth' : [4,5,6,7,8,9,10,11,12,13,14,15,16, 17, 18, 19, 20],\n",
    "    'n_estimators': [2, 3, 4, 5, 6, 7, 8, 9, 10, 11, 12, 13, 14, 15]\n",
    "}"
   ]
  },
  {
   "cell_type": "code",
   "execution_count": 25,
   "metadata": {
    "scrolled": true
   },
   "outputs": [
    {
     "name": "stdout",
     "output_type": "stream",
     "text": [
      "Best param RF\n",
      "{'max_depth': 12, 'n_estimators': 15}\n",
      "CPU times: user 5min 20s, sys: 1.36 s, total: 5min 22s\n",
      "Wall time: 5min 22s\n"
     ]
    }
   ],
   "source": [
    "%%time\n",
    "\n",
    "t1 = datetime.datetime.now()\n",
    "\n",
    "CV_rf = GridSearchCV(estimator = model_rf, param_grid = param_grid_rf, cv = 5, \n",
    "                                                  scoring = rmse_scorer)\n",
    "CV_rf.fit(X_train, y_train)\n",
    "\n",
    "print(\"Best param RF\")\n",
    "print(CV_rf.best_params_)\n",
    "\n",
    "model_rf.set_params(**CV_rf.best_params_)\n",
    "\n",
    "\n",
    "scores_rf = np.array([])\n",
    "\n",
    "scores_on_this_split = cross_val_score(\n",
    "            estimator = model_rf , X = X_train, y = y_train,\n",
    "            cv = ts_cv, scoring = rmse_scorer)\n",
    "\n",
    "scores_rf = np.append(scores_rf, scores_on_this_split)\n",
    "\n",
    "t2 = datetime.datetime.now()\n",
    "\n",
    "time_rf_cv = round((t2-t1).total_seconds(), 1)"
   ]
  },
  {
   "cell_type": "markdown",
   "metadata": {},
   "source": [
    "Training the model"
   ]
  },
  {
   "cell_type": "code",
   "execution_count": 26,
   "metadata": {},
   "outputs": [
    {
     "name": "stdout",
     "output_type": "stream",
     "text": [
      "CPU times: user 604 ms, sys: 2.18 ms, total: 606 ms\n",
      "Wall time: 605 ms\n"
     ]
    }
   ],
   "source": [
    "%%time\n",
    "\n",
    "t1 = datetime.datetime.now()\n",
    "\n",
    "model_rf.fit(X_train, y_train)\n",
    "\n",
    "t2 = datetime.datetime.now()\n",
    "\n",
    "time_rf_fit = round((t2-t1).total_seconds(), 1)"
   ]
  },
  {
   "cell_type": "markdown",
   "metadata": {},
   "source": [
    "Making a prediction"
   ]
  },
  {
   "cell_type": "code",
   "execution_count": 27,
   "metadata": {},
   "outputs": [
    {
     "name": "stdout",
     "output_type": "stream",
     "text": [
      "CPU times: user 3.86 ms, sys: 927 µs, total: 4.79 ms\n",
      "Wall time: 3.97 ms\n"
     ]
    }
   ],
   "source": [
    "%%time\n",
    "\n",
    "t1 = datetime.datetime.now()\n",
    "\n",
    "predicted_target_test_rf = model_rf.predict(X_test)\n",
    "\n",
    "t2 = datetime.datetime.now()\n",
    "\n",
    "time_rf_prd = round((t2-t1).total_seconds(), 1)"
   ]
  },
  {
   "cell_type": "code",
   "execution_count": 28,
   "metadata": {},
   "outputs": [
    {
     "data": {
      "text/plain": [
       "45.11128118765155"
      ]
     },
     "execution_count": 28,
     "metadata": {},
     "output_type": "execute_result"
    }
   ],
   "source": [
    "score_rf = mean_squared_error(y_test, predicted_target_test_rf) ** 0.5\n",
    "score_rf"
   ]
  },
  {
   "cell_type": "markdown",
   "metadata": {},
   "source": [
    "#### CatBoost"
   ]
  },
  {
   "cell_type": "code",
   "execution_count": 29,
   "metadata": {},
   "outputs": [],
   "source": [
    "model_catbst = CatBoostRegressor(random_state = 12345, \n",
    "                                 verbose = False, \n",
    "                                 loss_function='RMSE') "
   ]
  },
  {
   "cell_type": "code",
   "execution_count": 30,
   "metadata": {},
   "outputs": [],
   "source": [
    "param_grid_catbst = {'learning_rate':[0.1, 0.5, 0.8], 'iterations': [20, 40, 60, 80, 100]}"
   ]
  },
  {
   "cell_type": "code",
   "execution_count": 31,
   "metadata": {},
   "outputs": [
    {
     "name": "stdout",
     "output_type": "stream",
     "text": [
      "Best param Catbst\n",
      "{'iterations': 100, 'learning_rate': 0.1}\n",
      "CPU times: user 1min 27s, sys: 1.69 s, total: 1min 28s\n",
      "Wall time: 9.49 s\n"
     ]
    }
   ],
   "source": [
    "%%time\n",
    "\n",
    "t1 = datetime.datetime.now()\n",
    "CV_catbst = GridSearchCV(estimator = model_catbst, param_grid = param_grid_catbst, cv = 5, \n",
    "                                                  scoring = rmse_scorer)\n",
    "CV_catbst.fit(X_train, y_train)\n",
    "\n",
    "print(\"Best param Catbst\")\n",
    "print(CV_catbst.best_params_)\n",
    "\n",
    "model_catbst.set_params(**CV_catbst.best_params_)\n",
    "\n",
    "scores_catbst = np.array([])\n",
    "\n",
    "scores_on_this_split = cross_val_score(\n",
    "            estimator = model_catbst , X = X_train, y = y_train,\n",
    "            cv = ts_cv, scoring = rmse_scorer)\n",
    "scores_catbst = np.append(scores_catbst, scores_on_this_split)\n",
    "\n",
    "t2 = datetime.datetime.now()\n",
    "\n",
    "time_catbst_cv = round((t2-t1).total_seconds(), 1)"
   ]
  },
  {
   "cell_type": "markdown",
   "metadata": {},
   "source": [
    "Training the model"
   ]
  },
  {
   "cell_type": "code",
   "execution_count": 32,
   "metadata": {},
   "outputs": [
    {
     "name": "stdout",
     "output_type": "stream",
     "text": [
      "CPU times: user 1.93 s, sys: 41.9 ms, total: 1.98 s\n",
      "Wall time: 203 ms\n"
     ]
    }
   ],
   "source": [
    "%%time\n",
    "\n",
    "t1 = datetime.datetime.now()\n",
    "\n",
    "model_catbst.fit(X_train, y_train)\n",
    "\n",
    "t2 = datetime.datetime.now()\n",
    "\n",
    "time_catbst_fit = round((t2-t1).total_seconds(), 1)"
   ]
  },
  {
   "cell_type": "markdown",
   "metadata": {},
   "source": [
    "Making a prediction"
   ]
  },
  {
   "cell_type": "code",
   "execution_count": 33,
   "metadata": {},
   "outputs": [
    {
     "name": "stdout",
     "output_type": "stream",
     "text": [
      "CPU times: user 3.55 ms, sys: 688 µs, total: 4.23 ms\n",
      "Wall time: 1.97 ms\n"
     ]
    }
   ],
   "source": [
    "%%time\n",
    "\n",
    "t1 = datetime.datetime.now()\n",
    "\n",
    "predicted_target_test_catbst = model_catbst.predict(X_test)\n",
    "\n",
    "t2 = datetime.datetime.now()\n",
    "\n",
    "time_catbst_prd = round((t2-t1).total_seconds(), 1)"
   ]
  },
  {
   "cell_type": "code",
   "execution_count": 34,
   "metadata": {},
   "outputs": [
    {
     "data": {
      "text/plain": [
       "42.67854105460848"
      ]
     },
     "execution_count": 34,
     "metadata": {},
     "output_type": "execute_result"
    }
   ],
   "source": [
    "score_catbst = mean_squared_error(y_test, predicted_target_test_catbst) ** 0.5\n",
    "score_catbst"
   ]
  },
  {
   "cell_type": "markdown",
   "metadata": {},
   "source": [
    "#### LGBM"
   ]
  },
  {
   "cell_type": "code",
   "execution_count": 35,
   "metadata": {},
   "outputs": [],
   "source": [
    "model_lgbm = LGBMRegressor(seed = 12345,\n",
    "                           verbose = -1,\n",
    "                           boosting_type = 'gbdt',\n",
    "                           force_col_wise = True)"
   ]
  },
  {
   "cell_type": "code",
   "execution_count": 36,
   "metadata": {},
   "outputs": [],
   "source": [
    "param_grid_lgbm = {'learning_rate':[0.1, 0.5, 0.8], 'n_estimators': [20, 40, 60, 80, 100]}"
   ]
  },
  {
   "cell_type": "code",
   "execution_count": 37,
   "metadata": {},
   "outputs": [
    {
     "name": "stdout",
     "output_type": "stream",
     "text": [
      "Best param LGBM\n",
      "{'learning_rate': 0.1, 'n_estimators': 100}\n",
      "CPU times: user 54.9 s, sys: 793 ms, total: 55.7 s\n",
      "Wall time: 4.74 s\n"
     ]
    }
   ],
   "source": [
    "%%time\n",
    "\n",
    "t1 = datetime.datetime.now()\n",
    "\n",
    "CV_lgbm = GridSearchCV(estimator = model_lgbm, param_grid = param_grid_lgbm, cv = 5, \n",
    "                                                  scoring = rmse_scorer)\n",
    "CV_lgbm.fit(X_train, y_train)\n",
    "\n",
    "print(\"Best param LGBM\")\n",
    "print(CV_lgbm.best_params_)\n",
    "\n",
    "model_lgbm.set_params(**CV_lgbm.best_params_)\n",
    "\n",
    "scores_lgbm = np.array([])\n",
    "\n",
    "scores_on_this_split = cross_val_score(\n",
    "            estimator = model_lgbm , X = X_train, y = y_train,\n",
    "            cv = ts_cv, scoring = rmse_scorer)\n",
    "scores_lgbm = np.append(scores_lgbm, scores_on_this_split)\n",
    "\n",
    "t2 = datetime.datetime.now()\n",
    "\n",
    "time_lgbm_cv = round((t2-t1).total_seconds(), 1)"
   ]
  },
  {
   "cell_type": "markdown",
   "metadata": {},
   "source": [
    "Training the model"
   ]
  },
  {
   "cell_type": "code",
   "execution_count": 38,
   "metadata": {},
   "outputs": [
    {
     "name": "stdout",
     "output_type": "stream",
     "text": [
      "CPU times: user 1.13 s, sys: 29.9 ms, total: 1.16 s\n",
      "Wall time: 102 ms\n"
     ]
    }
   ],
   "source": [
    "%%time\n",
    "\n",
    "t1 = datetime.datetime.now()\n",
    "\n",
    "model_lgbm.fit(X_train, y_train)\n",
    "\n",
    "t2 = datetime.datetime.now()\n",
    "\n",
    "time_lgbm_fit = round((t2-t1).total_seconds(), 1)"
   ]
  },
  {
   "cell_type": "markdown",
   "metadata": {},
   "source": [
    "Making a prediction"
   ]
  },
  {
   "cell_type": "code",
   "execution_count": 39,
   "metadata": {},
   "outputs": [
    {
     "name": "stdout",
     "output_type": "stream",
     "text": [
      "CPU times: user 19.1 ms, sys: 3.94 ms, total: 23.1 ms\n",
      "Wall time: 2.74 ms\n"
     ]
    }
   ],
   "source": [
    "%%time\n",
    "\n",
    "t1 = datetime.datetime.now()\n",
    "\n",
    "predicted_target_test_lgbm = model_lgbm.predict(X_test)\n",
    "\n",
    "t2 = datetime.datetime.now()\n",
    "\n",
    "time_lgbm_prd = round((t2-t1).total_seconds(), 1)"
   ]
  },
  {
   "cell_type": "code",
   "execution_count": 40,
   "metadata": {},
   "outputs": [
    {
     "data": {
      "text/plain": [
       "40.97601230057044"
      ]
     },
     "execution_count": 40,
     "metadata": {},
     "output_type": "execute_result"
    }
   ],
   "source": [
    "score_lgbm = mean_squared_error(y_test, predicted_target_test_lgbm) ** 0.5\n",
    "score_lgbm"
   ]
  },
  {
   "cell_type": "markdown",
   "metadata": {},
   "source": [
    "**Conclusion**\n",
    "- completed the formulation of the ML task, designated the target variable and metric\n",
    "- implemented a function for adding new features\n",
    "- we selected the optimal set of features for further work (regression was used as the baseline)\n",
    "- trained models: Linear Regression, Random Forest, CatBoost, LGBM\n",
    "    - conducted the selection of hyperparameters\n",
    "    - did cross-validation"
   ]
  },
  {
   "cell_type": "markdown",
   "metadata": {},
   "source": [
    "## Testing"
   ]
  },
  {
   "cell_type": "markdown",
   "metadata": {},
   "source": [
    "For convenience, we will display the results in a table"
   ]
  },
  {
   "cell_type": "code",
   "execution_count": 41,
   "metadata": {},
   "outputs": [
    {
     "data": {
      "text/html": [
       "<div>\n",
       "<style scoped>\n",
       "    .dataframe tbody tr th:only-of-type {\n",
       "        vertical-align: middle;\n",
       "    }\n",
       "\n",
       "    .dataframe tbody tr th {\n",
       "        vertical-align: top;\n",
       "    }\n",
       "\n",
       "    .dataframe thead th {\n",
       "        text-align: right;\n",
       "    }\n",
       "</style>\n",
       "<table border=\"1\" class=\"dataframe\">\n",
       "  <thead>\n",
       "    <tr style=\"text-align: right;\">\n",
       "      <th></th>\n",
       "      <th>RSME on CV</th>\n",
       "      <th>Training time on CV, sec</th>\n",
       "      <th>RSME on test</th>\n",
       "      <th>Model training time, sec</th>\n",
       "      <th>Model prediction time, sec</th>\n",
       "    </tr>\n",
       "  </thead>\n",
       "  <tbody>\n",
       "    <tr>\n",
       "      <th>LinearRegression</th>\n",
       "      <td>-26.505995</td>\n",
       "      <td>0.0</td>\n",
       "      <td>46.858281</td>\n",
       "      <td>0.0</td>\n",
       "      <td>0.0</td>\n",
       "    </tr>\n",
       "    <tr>\n",
       "      <th>RandomForest</th>\n",
       "      <td>-25.929830</td>\n",
       "      <td>322.4</td>\n",
       "      <td>45.111281</td>\n",
       "      <td>0.6</td>\n",
       "      <td>0.0</td>\n",
       "    </tr>\n",
       "    <tr>\n",
       "      <th>CatBoost</th>\n",
       "      <td>-24.689775</td>\n",
       "      <td>9.5</td>\n",
       "      <td>42.678541</td>\n",
       "      <td>0.2</td>\n",
       "      <td>0.0</td>\n",
       "    </tr>\n",
       "    <tr>\n",
       "      <th>LGBM</th>\n",
       "      <td>-24.870513</td>\n",
       "      <td>4.7</td>\n",
       "      <td>40.976012</td>\n",
       "      <td>0.1</td>\n",
       "      <td>0.0</td>\n",
       "    </tr>\n",
       "  </tbody>\n",
       "</table>\n",
       "</div>"
      ],
      "text/plain": [
       "                  RSME on CV  Training time on CV, sec  RSME on test  \\\n",
       "LinearRegression  -26.505995                       0.0     46.858281   \n",
       "RandomForest      -25.929830                     322.4     45.111281   \n",
       "CatBoost          -24.689775                       9.5     42.678541   \n",
       "LGBM              -24.870513                       4.7     40.976012   \n",
       "\n",
       "                  Model training time, sec  Model prediction time, sec  \n",
       "LinearRegression                       0.0                         0.0  \n",
       "RandomForest                           0.6                         0.0  \n",
       "CatBoost                               0.2                         0.0  \n",
       "LGBM                                   0.1                         0.0  "
      ]
     },
     "execution_count": 41,
     "metadata": {},
     "output_type": "execute_result"
    }
   ],
   "source": [
    "index = ['LinearRegression',\n",
    "         'RandomForest',\n",
    "         'CatBoost',\n",
    "         'LGBM']\n",
    "\n",
    "data = {'RSME on CV':[scores_lr.mean(), scores_rf.mean(), scores_catbst.mean(), scores_lgbm.mean()],\n",
    "                           \n",
    "        'Training time on CV, sec':[time_lr_cv, time_rf_cv, time_catbst_cv, time_lgbm_cv],\n",
    "       \n",
    "        'RSME on test':[score_lr, score_rf, score_catbst, score_lgbm],\n",
    "        \n",
    "        'Model training time, sec':[time_lr_fit, time_rf_fit, time_catbst_fit, time_lgbm_fit],\n",
    "        \n",
    "        'Model prediction time, sec':[time_lr_prd, time_rf_prd, time_catbst_prd, time_lgbm_prd]}\n",
    "\n",
    "models_result = pd.DataFrame(data = data, index = index)\n",
    "models_result"
   ]
  },
  {
   "cell_type": "markdown",
   "metadata": {},
   "source": [
    "**Choosing the best model**\n",
    "\n",
    "With a significant advantage in the RSME metric, LGBM wins\n",
    "Note that the target indicator < 48 was shown by all models, which indicates an adequate preparation of features for the operation of models."
   ]
  },
  {
   "cell_type": "code",
   "execution_count": 42,
   "metadata": {
    "scrolled": true
   },
   "outputs": [
    {
     "data": {
      "image/png": "[encoded data removed]",
      "text/plain": [
       "<Figure size 1296x360 with 1 Axes>"
      ]
     },
     "metadata": {
      "needs_background": "light"
     },
     "output_type": "display_data"
    }
   ],
   "source": [
    "plt.figure(figsize = (18, 5))\n",
    "\n",
    "plt.plot(y_test, label = 'Target')\n",
    "plt.plot(y_test.index, predicted_target_test_lgbm, label = 'Predict')\n",
    "\n",
    "plt.title('Visualization of the best model')\n",
    "\n",
    "plt.legend()\n",
    "plt.xlabel('date')\n",
    "plt.ylabel('cnt_sum')\n",
    "plt.grid(True)\n",
    "plt.show()"
   ]
  },
  {
   "cell_type": "markdown",
   "metadata": {},
   "source": [
    "We see that the model predicted the trend component well, but it coped with outliers worse.  \n",
    "This can be seen at peak values, as well as at the end of the observation period, where the decomposition residue increased."
   ]
  },
  {
   "cell_type": "markdown",
   "metadata": {},
   "source": [
    "**General conclusion:**\n",
    "\n",
    "In this project, a model was created to predict the number of taxi orders for the next hour\n",
    "\n",
    "The project included the following stages:\n",
    " \n",
    "  - data preparation\n",
    "     - converted the date to the required datetime format for work\n",
    "     - made data resampling by the hour\n",
    "  - data analysis\n",
    "      - studied the data in more detail\n",
    "      - divided the time into components of trend, seasonality and residual and looked at them on different scales\n",
    "  - model training, included two stages\n",
    "      - generation of features (optimal set of features for further work was selected)\n",
    "      - training of models, the stage included:\n",
    "         - selection of hyperparameters\n",
    "         - cross-validation\n",
    "         - prediction\n",
    "  - testing\n",
    "     - Sweep all data into the final table\n",
    "     - chose the best model\n",
    "     - made a visualization of the prediction of the best model\n",
    " \n",
    "**Final Model** - LGBM:\n",
    "   - `learning_rate` - 0.1\n",
    "   - `n_estimators` - 100\n",
    "   - `RSME` - 41"
   ]
  }
 ],
 "metadata": {
  "ExecuteTimeLog": [
   {
    "duration": 1631,
    "start_time": "2022-06-25T16:21:56.364Z"
   },
   {
    "duration": 43,
    "start_time": "2022-06-25T16:23:57.625Z"
   },
   {
    "duration": 123,
    "start_time": "2022-06-25T16:24:03.636Z"
   },
   {
    "duration": 45,
    "start_time": "2022-06-25T16:24:08.528Z"
   },
   {
    "duration": 11,
    "start_time": "2022-06-25T16:24:45.404Z"
   },
   {
    "duration": 60,
    "start_time": "2022-06-25T16:26:45.939Z"
   },
   {
    "duration": 12,
    "start_time": "2022-06-25T16:26:59.181Z"
   },
   {
    "duration": 16,
    "start_time": "2022-06-25T16:38:17.288Z"
   },
   {
    "duration": 16,
    "start_time": "2022-06-25T16:38:32.389Z"
   },
   {
    "duration": 22,
    "start_time": "2022-06-25T17:31:41.106Z"
   },
   {
    "duration": 61,
    "start_time": "2022-06-25T17:34:24.704Z"
   },
   {
    "duration": 3,
    "start_time": "2022-06-25T18:09:11.234Z"
   },
   {
    "duration": 3,
    "start_time": "2022-06-25T18:09:21.837Z"
   },
   {
    "duration": 92,
    "start_time": "2022-06-25T18:18:42.031Z"
   },
   {
    "duration": 350,
    "start_time": "2022-06-25T18:18:46.429Z"
   },
   {
    "duration": 231,
    "start_time": "2022-06-25T18:18:53.160Z"
   },
   {
    "duration": 1739,
    "start_time": "2022-06-26T05:43:38.979Z"
   },
   {
    "duration": 188,
    "start_time": "2022-06-26T05:43:40.720Z"
   },
   {
    "duration": 32,
    "start_time": "2022-06-26T05:43:40.910Z"
   },
   {
    "duration": 4,
    "start_time": "2022-06-26T05:43:41.202Z"
   },
   {
    "duration": 15,
    "start_time": "2022-06-26T05:43:42.194Z"
   },
   {
    "duration": 16,
    "start_time": "2022-06-26T05:43:43.419Z"
   },
   {
    "duration": 294,
    "start_time": "2022-06-26T05:43:44.944Z"
   },
   {
    "duration": 188,
    "start_time": "2022-06-26T05:44:03.684Z"
   },
   {
    "duration": 273,
    "start_time": "2022-06-26T05:44:48.655Z"
   },
   {
    "duration": 4,
    "start_time": "2022-06-26T05:45:58.006Z"
   },
   {
    "duration": 170,
    "start_time": "2022-06-26T05:46:31.259Z"
   },
   {
    "duration": 176,
    "start_time": "2022-06-26T05:47:26.212Z"
   },
   {
    "duration": 4,
    "start_time": "2022-06-26T05:47:37.412Z"
   },
   {
    "duration": 167,
    "start_time": "2022-06-26T05:47:37.874Z"
   },
   {
    "duration": 193,
    "start_time": "2022-06-26T05:47:38.645Z"
   },
   {
    "duration": 118,
    "start_time": "2022-06-26T05:51:31.612Z"
   },
   {
    "duration": 32,
    "start_time": "2022-06-26T05:51:57.655Z"
   },
   {
    "duration": 5,
    "start_time": "2022-06-26T05:52:03.680Z"
   },
   {
    "duration": 8,
    "start_time": "2022-06-26T05:52:06.330Z"
   },
   {
    "duration": 590,
    "start_time": "2022-06-26T05:58:14.302Z"
   },
   {
    "duration": 26,
    "start_time": "2022-06-26T06:00:29.955Z"
   },
   {
    "duration": 15,
    "start_time": "2022-06-26T06:00:42.439Z"
   },
   {
    "duration": 16,
    "start_time": "2022-06-26T06:01:35.723Z"
   },
   {
    "duration": 15,
    "start_time": "2022-06-26T06:01:42.103Z"
   },
   {
    "duration": 57,
    "start_time": "2022-06-26T06:02:15.243Z"
   },
   {
    "duration": 8,
    "start_time": "2022-06-26T06:02:43.894Z"
   },
   {
    "duration": 347,
    "start_time": "2022-06-26T06:03:08.419Z"
   },
   {
    "duration": 104,
    "start_time": "2022-06-26T06:04:51.189Z"
   },
   {
    "duration": 671,
    "start_time": "2022-06-26T06:05:08.632Z"
   },
   {
    "duration": 175,
    "start_time": "2022-06-26T06:11:18.722Z"
   },
   {
    "duration": 238,
    "start_time": "2022-06-26T06:20:11.492Z"
   },
   {
    "duration": 1416,
    "start_time": "2022-06-26T13:58:23.603Z"
   },
   {
    "duration": 121,
    "start_time": "2022-06-26T13:58:25.020Z"
   },
   {
    "duration": 26,
    "start_time": "2022-06-26T13:58:25.142Z"
   },
   {
    "duration": 2,
    "start_time": "2022-06-26T13:58:25.170Z"
   },
   {
    "duration": 14,
    "start_time": "2022-06-26T13:58:25.173Z"
   },
   {
    "duration": 16,
    "start_time": "2022-06-26T13:58:25.975Z"
   },
   {
    "duration": 3,
    "start_time": "2022-06-26T13:58:26.486Z"
   },
   {
    "duration": 273,
    "start_time": "2022-06-26T13:58:26.666Z"
   },
   {
    "duration": 189,
    "start_time": "2022-06-26T13:58:26.941Z"
   },
   {
    "duration": 686,
    "start_time": "2022-06-26T13:58:27.195Z"
   },
   {
    "duration": 183,
    "start_time": "2022-06-26T13:58:27.883Z"
   },
   {
    "duration": 175,
    "start_time": "2022-06-26T13:58:28.155Z"
   },
   {
    "duration": 5,
    "start_time": "2022-06-26T13:58:45.280Z"
   },
   {
    "duration": 76,
    "start_time": "2022-06-26T14:13:20.689Z"
   },
   {
    "duration": 66,
    "start_time": "2022-06-26T14:22:23.484Z"
   },
   {
    "duration": 102,
    "start_time": "2022-06-26T14:22:43.691Z"
   },
   {
    "duration": 17,
    "start_time": "2022-06-26T14:22:49.400Z"
   },
   {
    "duration": 23,
    "start_time": "2022-06-26T14:22:56.051Z"
   },
   {
    "duration": 15,
    "start_time": "2022-06-26T14:23:11.055Z"
   },
   {
    "duration": 9,
    "start_time": "2022-06-26T14:42:47.113Z"
   },
   {
    "duration": 6,
    "start_time": "2022-06-26T14:42:53.957Z"
   },
   {
    "duration": 15,
    "start_time": "2022-06-26T14:44:19.162Z"
   },
   {
    "duration": 15,
    "start_time": "2022-06-26T14:44:33.311Z"
   },
   {
    "duration": 5,
    "start_time": "2022-06-26T14:44:36.848Z"
   },
   {
    "duration": 3,
    "start_time": "2022-06-26T14:47:40.191Z"
   },
   {
    "duration": 3,
    "start_time": "2022-06-26T14:48:04.441Z"
   },
   {
    "duration": 4,
    "start_time": "2022-06-26T14:48:48.611Z"
   },
   {
    "duration": 3,
    "start_time": "2022-06-26T15:09:02.775Z"
   },
   {
    "duration": 4,
    "start_time": "2022-06-26T15:09:06.526Z"
   },
   {
    "duration": 56,
    "start_time": "2022-06-26T15:17:28.109Z"
   },
   {
    "duration": 12,
    "start_time": "2022-06-26T15:17:34.256Z"
   },
   {
    "duration": 30,
    "start_time": "2022-06-26T15:17:49.401Z"
   },
   {
    "duration": 26,
    "start_time": "2022-06-26T15:18:18.609Z"
   },
   {
    "duration": 28,
    "start_time": "2022-06-26T15:20:46.938Z"
   },
   {
    "duration": 51,
    "start_time": "2022-06-26T15:24:36.809Z"
   },
   {
    "duration": 164,
    "start_time": "2022-06-26T15:24:42.393Z"
   },
   {
    "duration": 116,
    "start_time": "2022-06-26T15:25:15.936Z"
   },
   {
    "duration": 6738,
    "start_time": "2022-06-26T15:25:22.217Z"
   },
   {
    "duration": 10,
    "start_time": "2022-06-26T15:25:29.050Z"
   },
   {
    "duration": 42,
    "start_time": "2022-06-26T15:29:37.233Z"
   },
   {
    "duration": 7809,
    "start_time": "2022-06-26T15:30:03.942Z"
   },
   {
    "duration": 99,
    "start_time": "2022-06-26T15:30:11.753Z"
   },
   {
    "duration": 21,
    "start_time": "2022-06-26T15:30:38.642Z"
   },
   {
    "duration": 7915,
    "start_time": "2022-06-26T15:30:39.638Z"
   },
   {
    "duration": 99,
    "start_time": "2022-06-26T15:30:47.556Z"
   },
   {
    "duration": 1236,
    "start_time": "2022-06-26T15:31:32.337Z"
   },
   {
    "duration": 51,
    "start_time": "2022-06-26T15:31:33.575Z"
   },
   {
    "duration": 26,
    "start_time": "2022-06-26T15:31:33.628Z"
   },
   {
    "duration": 3,
    "start_time": "2022-06-26T15:31:33.655Z"
   },
   {
    "duration": 43,
    "start_time": "2022-06-26T15:31:33.659Z"
   },
   {
    "duration": 19,
    "start_time": "2022-06-26T15:31:33.703Z"
   },
   {
    "duration": 10,
    "start_time": "2022-06-26T15:31:33.723Z"
   },
   {
    "duration": 223,
    "start_time": "2022-06-26T15:31:33.735Z"
   },
   {
    "duration": 148,
    "start_time": "2022-06-26T15:31:33.959Z"
   },
   {
    "duration": 576,
    "start_time": "2022-06-26T15:31:34.109Z"
   },
   {
    "duration": 143,
    "start_time": "2022-06-26T15:31:34.686Z"
   },
   {
    "duration": 144,
    "start_time": "2022-06-26T15:31:34.830Z"
   },
   {
    "duration": 19,
    "start_time": "2022-06-26T15:31:34.975Z"
   },
   {
    "duration": 7162,
    "start_time": "2022-06-26T15:31:34.995Z"
   },
   {
    "duration": 95,
    "start_time": "2022-06-26T15:31:42.160Z"
   },
   {
    "duration": 6946,
    "start_time": "2022-06-26T15:32:29.605Z"
   },
   {
    "duration": 99,
    "start_time": "2022-06-26T15:32:36.553Z"
   },
   {
    "duration": 7412,
    "start_time": "2022-06-26T15:33:15.239Z"
   },
   {
    "duration": 103,
    "start_time": "2022-06-26T15:33:22.653Z"
   },
   {
    "duration": 7540,
    "start_time": "2022-06-26T15:34:26.413Z"
   },
   {
    "duration": 10,
    "start_time": "2022-06-26T15:34:33.955Z"
   },
   {
    "duration": 7924,
    "start_time": "2022-06-26T15:36:22.029Z"
   },
   {
    "duration": 96,
    "start_time": "2022-06-26T15:36:29.955Z"
   },
   {
    "duration": 7597,
    "start_time": "2022-06-26T15:38:07.458Z"
   },
   {
    "duration": 8041,
    "start_time": "2022-06-26T15:39:00.009Z"
   },
   {
    "duration": 6681,
    "start_time": "2022-06-26T15:41:43.085Z"
   },
   {
    "duration": 8533,
    "start_time": "2022-06-26T15:43:26.418Z"
   },
   {
    "duration": 100,
    "start_time": "2022-06-26T15:45:36.423Z"
   },
   {
    "duration": 128,
    "start_time": "2022-06-26T15:45:45.124Z"
   },
   {
    "duration": 5459,
    "start_time": "2022-06-26T15:46:09.594Z"
   },
   {
    "duration": 5,
    "start_time": "2022-06-26T15:46:16.702Z"
   },
   {
    "duration": 9,
    "start_time": "2022-06-26T15:46:42.329Z"
   },
   {
    "duration": 7357,
    "start_time": "2022-06-26T15:47:15.914Z"
   },
   {
    "duration": 9,
    "start_time": "2022-06-26T16:02:44.966Z"
   },
   {
    "duration": 63,
    "start_time": "2022-06-26T16:02:51.795Z"
   },
   {
    "duration": 7210,
    "start_time": "2022-06-26T16:03:04.145Z"
   },
   {
    "duration": 34,
    "start_time": "2022-06-26T16:03:24.508Z"
   },
   {
    "duration": 233,
    "start_time": "2022-06-26T16:04:46.918Z"
   },
   {
    "duration": 136,
    "start_time": "2022-06-26T16:04:50.625Z"
   },
   {
    "duration": 47,
    "start_time": "2022-06-26T16:07:16.547Z"
   },
   {
    "duration": 12,
    "start_time": "2022-06-26T16:10:09.115Z"
   },
   {
    "duration": 9,
    "start_time": "2022-06-26T16:10:17.062Z"
   },
   {
    "duration": 10,
    "start_time": "2022-06-26T16:10:26.020Z"
   },
   {
    "duration": 9,
    "start_time": "2022-06-26T16:10:52.056Z"
   },
   {
    "duration": 9,
    "start_time": "2022-06-26T16:10:57.556Z"
   },
   {
    "duration": 9,
    "start_time": "2022-06-26T16:11:10.903Z"
   },
   {
    "duration": 9,
    "start_time": "2022-06-26T16:11:38.546Z"
   },
   {
    "duration": 7,
    "start_time": "2022-06-26T16:12:20.800Z"
   },
   {
    "duration": 8,
    "start_time": "2022-06-26T16:19:23.690Z"
   },
   {
    "duration": 811,
    "start_time": "2022-06-26T16:23:44.294Z"
   },
   {
    "duration": 15,
    "start_time": "2022-06-26T16:23:55.781Z"
   },
   {
    "duration": 10,
    "start_time": "2022-06-26T16:24:41.898Z"
   },
   {
    "duration": 14,
    "start_time": "2022-06-26T16:24:55.194Z"
   },
   {
    "duration": 4,
    "start_time": "2022-06-26T16:25:05.622Z"
   },
   {
    "duration": 6,
    "start_time": "2022-06-26T16:25:12.123Z"
   },
   {
    "duration": 10,
    "start_time": "2022-06-26T16:25:19.401Z"
   },
   {
    "duration": 11,
    "start_time": "2022-06-26T16:25:22.911Z"
   },
   {
    "duration": 4,
    "start_time": "2022-06-26T16:25:26.197Z"
   },
   {
    "duration": 3,
    "start_time": "2022-06-26T16:25:31.199Z"
   },
   {
    "duration": 3,
    "start_time": "2022-06-26T16:25:36.528Z"
   },
   {
    "duration": 17,
    "start_time": "2022-06-26T16:26:26.201Z"
   },
   {
    "duration": 25,
    "start_time": "2022-06-26T16:26:33.246Z"
   },
   {
    "duration": 24,
    "start_time": "2022-06-26T16:26:57.216Z"
   },
   {
    "duration": 8,
    "start_time": "2022-06-26T16:28:08.206Z"
   },
   {
    "duration": 4,
    "start_time": "2022-06-26T16:28:10.851Z"
   },
   {
    "duration": 4,
    "start_time": "2022-06-26T16:28:48.431Z"
   },
   {
    "duration": 16,
    "start_time": "2022-06-26T16:29:42.926Z"
   },
   {
    "duration": 21,
    "start_time": "2022-06-26T16:29:48.612Z"
   },
   {
    "duration": 1252,
    "start_time": "2022-06-26T16:30:12.694Z"
   },
   {
    "duration": 45,
    "start_time": "2022-06-26T16:30:13.948Z"
   },
   {
    "duration": 26,
    "start_time": "2022-06-26T16:30:13.995Z"
   },
   {
    "duration": 3,
    "start_time": "2022-06-26T16:30:14.023Z"
   },
   {
    "duration": 21,
    "start_time": "2022-06-26T16:30:14.029Z"
   },
   {
    "duration": 22,
    "start_time": "2022-06-26T16:30:14.051Z"
   },
   {
    "duration": 3,
    "start_time": "2022-06-26T16:30:14.074Z"
   },
   {
    "duration": 210,
    "start_time": "2022-06-26T16:30:14.079Z"
   },
   {
    "duration": 180,
    "start_time": "2022-06-26T16:30:14.291Z"
   },
   {
    "duration": 584,
    "start_time": "2022-06-26T16:30:14.473Z"
   },
   {
    "duration": 145,
    "start_time": "2022-06-26T16:30:15.058Z"
   },
   {
    "duration": 151,
    "start_time": "2022-06-26T16:30:15.205Z"
   },
   {
    "duration": 19,
    "start_time": "2022-06-26T16:30:15.357Z"
   },
   {
    "duration": 14,
    "start_time": "2022-06-26T16:30:15.378Z"
   },
   {
    "duration": 5759,
    "start_time": "2022-06-26T16:30:15.393Z"
   },
   {
    "duration": 8,
    "start_time": "2022-06-26T16:30:21.153Z"
   },
   {
    "duration": 44,
    "start_time": "2022-06-26T16:30:21.162Z"
   },
   {
    "duration": 16,
    "start_time": "2022-06-26T16:30:21.207Z"
   },
   {
    "duration": 24,
    "start_time": "2022-06-26T16:32:02.799Z"
   },
   {
    "duration": 4,
    "start_time": "2022-06-26T16:32:23.797Z"
   },
   {
    "duration": 42,
    "start_time": "2022-06-26T16:32:24.227Z"
   },
   {
    "duration": 32,
    "start_time": "2022-06-26T16:32:24.501Z"
   },
   {
    "duration": 3,
    "start_time": "2022-06-26T16:32:24.797Z"
   },
   {
    "duration": 12,
    "start_time": "2022-06-26T16:32:25.415Z"
   },
   {
    "duration": 15,
    "start_time": "2022-06-26T16:32:27.702Z"
   },
   {
    "duration": 3,
    "start_time": "2022-06-26T16:32:28.194Z"
   },
   {
    "duration": 177,
    "start_time": "2022-06-26T16:32:28.493Z"
   },
   {
    "duration": 143,
    "start_time": "2022-06-26T16:32:28.992Z"
   },
   {
    "duration": 479,
    "start_time": "2022-06-26T16:32:29.836Z"
   },
   {
    "duration": 146,
    "start_time": "2022-06-26T16:32:30.316Z"
   },
   {
    "duration": 149,
    "start_time": "2022-06-26T16:32:30.464Z"
   },
   {
    "duration": 19,
    "start_time": "2022-06-26T16:32:36.395Z"
   },
   {
    "duration": 16,
    "start_time": "2022-06-26T16:32:41.453Z"
   },
   {
    "duration": 8,
    "start_time": "2022-06-26T16:33:20.493Z"
   },
   {
    "duration": 98,
    "start_time": "2022-06-26T16:33:30.620Z"
   },
   {
    "duration": 2,
    "start_time": "2022-06-26T16:33:34.999Z"
   },
   {
    "duration": 4,
    "start_time": "2022-06-26T16:34:33.633Z"
   },
   {
    "duration": 41,
    "start_time": "2022-06-26T16:34:34.035Z"
   },
   {
    "duration": 27,
    "start_time": "2022-06-26T16:34:34.337Z"
   },
   {
    "duration": 3,
    "start_time": "2022-06-26T16:34:34.630Z"
   },
   {
    "duration": 12,
    "start_time": "2022-06-26T16:34:34.910Z"
   },
   {
    "duration": 14,
    "start_time": "2022-06-26T16:34:35.553Z"
   },
   {
    "duration": 3,
    "start_time": "2022-06-26T16:34:36.269Z"
   },
   {
    "duration": 145,
    "start_time": "2022-06-26T16:34:36.452Z"
   },
   {
    "duration": 145,
    "start_time": "2022-06-26T16:34:36.940Z"
   },
   {
    "duration": 541,
    "start_time": "2022-06-26T16:34:37.445Z"
   },
   {
    "duration": 145,
    "start_time": "2022-06-26T16:34:37.991Z"
   },
   {
    "duration": 148,
    "start_time": "2022-06-26T16:34:38.137Z"
   },
   {
    "duration": 11,
    "start_time": "2022-06-26T16:34:40.385Z"
   },
   {
    "duration": 16,
    "start_time": "2022-06-26T16:34:42.940Z"
   },
   {
    "duration": 7,
    "start_time": "2022-06-26T16:34:47.434Z"
   },
   {
    "duration": 71,
    "start_time": "2022-06-26T16:34:56.380Z"
   },
   {
    "duration": 5839,
    "start_time": "2022-06-26T16:34:56.515Z"
   },
   {
    "duration": 96,
    "start_time": "2022-06-26T16:35:02.356Z"
   },
   {
    "duration": 29,
    "start_time": "2022-06-26T16:35:10.703Z"
   },
   {
    "duration": 11,
    "start_time": "2022-06-26T16:35:11.496Z"
   },
   {
    "duration": 25,
    "start_time": "2022-06-26T16:35:19.920Z"
   },
   {
    "duration": 65,
    "start_time": "2022-06-26T16:35:47.853Z"
   },
   {
    "duration": 33,
    "start_time": "2022-06-26T17:01:22.523Z"
   },
   {
    "duration": 6464,
    "start_time": "2022-06-26T17:01:28.888Z"
   },
   {
    "duration": 101,
    "start_time": "2022-06-26T17:01:35.354Z"
   },
   {
    "duration": 29,
    "start_time": "2022-06-26T17:01:38.544Z"
   },
   {
    "duration": 8,
    "start_time": "2022-06-26T17:01:54.590Z"
   },
   {
    "duration": 2,
    "start_time": "2022-06-26T17:01:59.785Z"
   },
   {
    "duration": 3,
    "start_time": "2022-06-26T17:03:34.324Z"
   },
   {
    "duration": 106,
    "start_time": "2022-06-26T17:06:19.245Z"
   },
   {
    "duration": 68,
    "start_time": "2022-06-26T17:07:07.479Z"
   },
   {
    "duration": 54,
    "start_time": "2022-06-26T17:08:19.683Z"
   },
   {
    "duration": 110,
    "start_time": "2022-06-26T17:09:04.840Z"
   },
   {
    "duration": 4,
    "start_time": "2022-06-26T17:11:08.298Z"
   },
   {
    "duration": 62,
    "start_time": "2022-06-26T17:11:13.514Z"
   },
   {
    "duration": 334,
    "start_time": "2022-06-26T17:12:07.224Z"
   },
   {
    "duration": 732,
    "start_time": "2022-06-26T17:13:57.628Z"
   },
   {
    "duration": 3,
    "start_time": "2022-06-26T17:17:32.402Z"
   },
   {
    "duration": 355,
    "start_time": "2022-06-26T17:18:01.896Z"
   },
   {
    "duration": 762,
    "start_time": "2022-06-26T17:20:24.690Z"
   },
   {
    "duration": 10,
    "start_time": "2022-06-26T17:21:28.035Z"
   },
   {
    "duration": 62,
    "start_time": "2022-06-26T17:22:23.585Z"
   },
   {
    "duration": 30,
    "start_time": "2022-06-26T17:23:33.224Z"
   },
   {
    "duration": 3,
    "start_time": "2022-06-26T17:23:33.942Z"
   },
   {
    "duration": 1001,
    "start_time": "2022-06-26T17:23:34.852Z"
   },
   {
    "duration": 14,
    "start_time": "2022-06-26T17:23:37.214Z"
   },
   {
    "duration": 8,
    "start_time": "2022-06-26T17:23:40.335Z"
   },
   {
    "duration": 4,
    "start_time": "2022-06-26T17:24:38.886Z"
   },
   {
    "duration": 9,
    "start_time": "2022-06-26T17:27:03.806Z"
   },
   {
    "duration": 2,
    "start_time": "2022-06-26T17:27:12.255Z"
   },
   {
    "duration": 3,
    "start_time": "2022-06-26T17:27:31.799Z"
   },
   {
    "duration": 3,
    "start_time": "2022-06-26T17:27:31.986Z"
   },
   {
    "duration": 279465,
    "start_time": "2022-06-26T17:34:23.747Z"
   },
   {
    "duration": 36,
    "start_time": "2022-06-26T17:39:03.213Z"
   },
   {
    "duration": 6,
    "start_time": "2022-06-26T17:39:03.251Z"
   },
   {
    "duration": 8,
    "start_time": "2022-06-26T17:39:03.258Z"
   },
   {
    "duration": 4,
    "start_time": "2022-06-26T17:39:03.267Z"
   },
   {
    "duration": 39136,
    "start_time": "2022-06-26T17:39:09.845Z"
   },
   {
    "duration": 347661,
    "start_time": "2022-06-26T17:39:49.812Z"
   },
   {
    "duration": 635,
    "start_time": "2022-06-26T17:45:37.475Z"
   },
   {
    "duration": 7,
    "start_time": "2022-06-26T17:45:38.112Z"
   },
   {
    "duration": 4,
    "start_time": "2022-06-26T17:45:38.121Z"
   },
   {
    "duration": 5,
    "start_time": "2022-06-26T17:45:38.127Z"
   },
   {
    "duration": 4,
    "start_time": "2022-06-26T17:48:24.292Z"
   },
   {
    "duration": 2,
    "start_time": "2022-06-26T17:49:15.425Z"
   },
   {
    "duration": 3,
    "start_time": "2022-06-26T17:49:16.246Z"
   },
   {
    "duration": 1314,
    "start_time": "2022-06-26T17:55:17.155Z"
   },
   {
    "duration": 37,
    "start_time": "2022-06-26T17:55:18.471Z"
   },
   {
    "duration": 28,
    "start_time": "2022-06-26T17:55:19.209Z"
   },
   {
    "duration": 3,
    "start_time": "2022-06-26T17:55:19.767Z"
   },
   {
    "duration": 15,
    "start_time": "2022-06-26T17:55:20.110Z"
   },
   {
    "duration": 16,
    "start_time": "2022-06-26T17:55:20.693Z"
   },
   {
    "duration": 4,
    "start_time": "2022-06-26T17:55:21.150Z"
   },
   {
    "duration": 269,
    "start_time": "2022-06-26T17:55:21.293Z"
   },
   {
    "duration": 191,
    "start_time": "2022-06-26T17:55:21.564Z"
   },
   {
    "duration": 614,
    "start_time": "2022-06-26T17:55:21.757Z"
   },
   {
    "duration": 147,
    "start_time": "2022-06-26T17:55:22.517Z"
   },
   {
    "duration": 143,
    "start_time": "2022-06-26T17:55:22.764Z"
   },
   {
    "duration": 12,
    "start_time": "2022-06-26T17:55:25.002Z"
   },
   {
    "duration": 6244,
    "start_time": "2022-06-26T17:55:26.410Z"
   },
   {
    "duration": 7,
    "start_time": "2022-06-26T17:55:32.656Z"
   },
   {
    "duration": 109,
    "start_time": "2022-06-26T17:55:32.664Z"
   },
   {
    "duration": 3,
    "start_time": "2022-06-26T17:55:32.775Z"
   },
   {
    "duration": 875,
    "start_time": "2022-06-26T17:55:32.779Z"
   },
   {
    "duration": 99,
    "start_time": "2022-06-26T17:55:33.657Z"
   },
   {
    "duration": 6,
    "start_time": "2022-06-26T17:55:37.587Z"
   },
   {
    "duration": 4,
    "start_time": "2022-06-26T17:55:38.382Z"
   },
   {
    "duration": 2,
    "start_time": "2022-06-26T17:55:46.493Z"
   },
   {
    "duration": 2,
    "start_time": "2022-06-26T17:55:46.929Z"
   },
   {
    "duration": 47567,
    "start_time": "2022-06-26T17:55:47.690Z"
   },
   {
    "duration": 878,
    "start_time": "2022-06-26T17:56:52.341Z"
   },
   {
    "duration": 5,
    "start_time": "2022-06-26T17:56:53.450Z"
   },
   {
    "duration": 4,
    "start_time": "2022-06-26T17:57:08.593Z"
   },
   {
    "duration": 2,
    "start_time": "2022-06-26T17:57:18.977Z"
   },
   {
    "duration": 89897,
    "start_time": "2022-06-26T17:57:19.455Z"
   },
   {
    "duration": 885,
    "start_time": "2022-06-26T17:58:49.354Z"
   },
   {
    "duration": 5,
    "start_time": "2022-06-26T17:58:50.241Z"
   },
   {
    "duration": 9,
    "start_time": "2022-06-26T17:58:50.248Z"
   },
   {
    "duration": 2,
    "start_time": "2022-06-26T17:59:44.022Z"
   },
   {
    "duration": 6121,
    "start_time": "2022-06-26T17:59:44.734Z"
   },
   {
    "duration": 91866,
    "start_time": "2022-06-26T17:59:55.036Z"
   },
   {
    "duration": 824,
    "start_time": "2022-06-26T18:01:26.903Z"
   },
   {
    "duration": 6,
    "start_time": "2022-06-26T18:01:27.728Z"
   },
   {
    "duration": 13,
    "start_time": "2022-06-26T18:01:27.736Z"
   },
   {
    "duration": 1303,
    "start_time": "2022-06-26T18:02:01.388Z"
   },
   {
    "duration": 33,
    "start_time": "2022-06-26T18:02:02.693Z"
   },
   {
    "duration": 29,
    "start_time": "2022-06-26T18:02:02.727Z"
   },
   {
    "duration": 3,
    "start_time": "2022-06-26T18:02:02.757Z"
   },
   {
    "duration": 12,
    "start_time": "2022-06-26T18:02:02.811Z"
   },
   {
    "duration": 18,
    "start_time": "2022-06-26T18:02:03.407Z"
   },
   {
    "duration": 3,
    "start_time": "2022-06-26T18:02:03.828Z"
   },
   {
    "duration": 214,
    "start_time": "2022-06-26T18:02:03.982Z"
   },
   {
    "duration": 162,
    "start_time": "2022-06-26T18:02:04.197Z"
   },
   {
    "duration": 559,
    "start_time": "2022-06-26T18:02:04.624Z"
   },
   {
    "duration": 152,
    "start_time": "2022-06-26T18:02:05.185Z"
   },
   {
    "duration": 157,
    "start_time": "2022-06-26T18:02:05.338Z"
   },
   {
    "duration": 14,
    "start_time": "2022-06-26T18:02:05.821Z"
   },
   {
    "duration": 6170,
    "start_time": "2022-06-26T18:02:16.489Z"
   },
   {
    "duration": 95,
    "start_time": "2022-06-26T18:02:22.661Z"
   },
   {
    "duration": 121,
    "start_time": "2022-06-26T18:02:22.758Z"
   },
   {
    "duration": 3,
    "start_time": "2022-06-26T18:02:22.880Z"
   },
   {
    "duration": 967,
    "start_time": "2022-06-26T18:02:22.884Z"
   },
   {
    "duration": 9,
    "start_time": "2022-06-26T18:02:23.852Z"
   },
   {
    "duration": 6,
    "start_time": "2022-06-26T18:02:24.292Z"
   },
   {
    "duration": 52,
    "start_time": "2022-06-26T18:02:24.300Z"
   },
   {
    "duration": 3,
    "start_time": "2022-06-26T18:02:28.727Z"
   },
   {
    "duration": 3,
    "start_time": "2022-06-26T18:02:28.903Z"
   },
   {
    "duration": 69803,
    "start_time": "2022-06-26T18:02:29.050Z"
   },
   {
    "duration": 1166,
    "start_time": "2022-06-26T18:03:38.855Z"
   },
   {
    "duration": 6,
    "start_time": "2022-06-26T18:03:40.023Z"
   },
   {
    "duration": 6,
    "start_time": "2022-06-26T18:03:40.031Z"
   },
   {
    "duration": 4,
    "start_time": "2022-06-26T18:03:40.039Z"
   },
   {
    "duration": 3,
    "start_time": "2022-06-26T18:06:21.078Z"
   },
   {
    "duration": 32274,
    "start_time": "2022-06-26T18:06:21.809Z"
   },
   {
    "duration": 2731,
    "start_time": "2022-06-26T18:07:00.981Z"
   },
   {
    "duration": 3,
    "start_time": "2022-06-26T18:07:05.862Z"
   },
   {
    "duration": 59314,
    "start_time": "2022-06-26T18:07:06.437Z"
   },
   {
    "duration": 10,
    "start_time": "2022-06-26T18:09:11.384Z"
   },
   {
    "duration": 3,
    "start_time": "2022-06-26T18:09:11.879Z"
   },
   {
    "duration": 3,
    "start_time": "2022-06-26T18:09:19.251Z"
   },
   {
    "duration": 2,
    "start_time": "2022-06-26T18:09:19.952Z"
   },
   {
    "duration": 81574,
    "start_time": "2022-06-26T18:09:20.594Z"
   },
   {
    "duration": 884,
    "start_time": "2022-06-26T18:10:56.272Z"
   },
   {
    "duration": 8,
    "start_time": "2022-06-26T18:11:33.902Z"
   },
   {
    "duration": 4,
    "start_time": "2022-06-26T18:12:04.952Z"
   },
   {
    "duration": 2,
    "start_time": "2022-06-26T18:21:05.384Z"
   },
   {
    "duration": 11,
    "start_time": "2022-06-26T18:21:05.929Z"
   },
   {
    "duration": 4,
    "start_time": "2022-06-26T18:21:23.877Z"
   },
   {
    "duration": 2,
    "start_time": "2022-06-26T18:21:35.994Z"
   },
   {
    "duration": 10,
    "start_time": "2022-06-26T18:21:39.125Z"
   },
   {
    "duration": 11,
    "start_time": "2022-06-26T18:22:48.242Z"
   },
   {
    "duration": 12,
    "start_time": "2022-06-26T18:23:38.251Z"
   },
   {
    "duration": 3,
    "start_time": "2022-06-26T18:24:23.532Z"
   },
   {
    "duration": 3,
    "start_time": "2022-06-26T18:24:40.879Z"
   },
   {
    "duration": 3,
    "start_time": "2022-06-26T18:24:48.561Z"
   },
   {
    "duration": 4,
    "start_time": "2022-06-26T18:25:04.259Z"
   },
   {
    "duration": 13,
    "start_time": "2022-06-26T18:27:40.516Z"
   },
   {
    "duration": 176,
    "start_time": "2022-06-26T18:38:06.816Z"
   },
   {
    "duration": 220,
    "start_time": "2022-06-26T18:38:17.067Z"
   },
   {
    "duration": 1338,
    "start_time": "2022-06-26T19:17:42.434Z"
   },
   {
    "duration": 33,
    "start_time": "2022-06-26T19:17:43.774Z"
   },
   {
    "duration": 26,
    "start_time": "2022-06-26T19:17:43.808Z"
   },
   {
    "duration": 2,
    "start_time": "2022-06-26T19:17:43.836Z"
   },
   {
    "duration": 16,
    "start_time": "2022-06-26T19:17:43.839Z"
   },
   {
    "duration": 12,
    "start_time": "2022-06-26T19:17:43.857Z"
   },
   {
    "duration": 3,
    "start_time": "2022-06-26T19:17:43.870Z"
   },
   {
    "duration": 221,
    "start_time": "2022-06-26T19:17:43.874Z"
   },
   {
    "duration": 155,
    "start_time": "2022-06-26T19:17:44.096Z"
   },
   {
    "duration": 593,
    "start_time": "2022-06-26T19:17:44.253Z"
   },
   {
    "duration": 151,
    "start_time": "2022-06-26T19:17:44.847Z"
   },
   {
    "duration": 152,
    "start_time": "2022-06-26T19:17:44.999Z"
   },
   {
    "duration": 12,
    "start_time": "2022-06-26T19:17:45.152Z"
   },
   {
    "duration": 5686,
    "start_time": "2022-06-26T19:17:45.165Z"
   },
   {
    "duration": 99,
    "start_time": "2022-06-26T19:17:50.853Z"
   },
   {
    "duration": 58,
    "start_time": "2022-06-26T19:17:50.954Z"
   },
   {
    "duration": 4,
    "start_time": "2022-06-26T19:17:51.013Z"
   },
   {
    "duration": 640,
    "start_time": "2022-06-26T19:17:51.019Z"
   },
   {
    "duration": 98,
    "start_time": "2022-06-26T19:17:51.660Z"
   },
   {
    "duration": 190,
    "start_time": "2022-06-26T19:17:51.763Z"
   },
   {
    "duration": 5,
    "start_time": "2022-06-26T19:17:51.954Z"
   },
   {
    "duration": 5,
    "start_time": "2022-06-26T19:17:51.961Z"
   },
   {
    "duration": 4,
    "start_time": "2022-06-26T19:17:52.051Z"
   },
   {
    "duration": 328527,
    "start_time": "2022-06-26T19:17:52.056Z"
   },
   {
    "duration": 598,
    "start_time": "2022-06-26T19:23:20.584Z"
   },
   {
    "duration": 7,
    "start_time": "2022-06-26T19:23:21.184Z"
   },
   {
    "duration": 7,
    "start_time": "2022-06-26T19:23:21.192Z"
   },
   {
    "duration": 4,
    "start_time": "2022-06-26T19:23:21.202Z"
   },
   {
    "duration": 4,
    "start_time": "2022-06-26T19:23:21.208Z"
   },
   {
    "duration": 64334,
    "start_time": "2022-06-26T19:23:21.213Z"
   },
   {
    "duration": 1131,
    "start_time": "2022-06-26T19:24:25.549Z"
   },
   {
    "duration": 6,
    "start_time": "2022-06-26T19:24:26.682Z"
   },
   {
    "duration": 5,
    "start_time": "2022-06-26T19:24:26.690Z"
   },
   {
    "duration": 4,
    "start_time": "2022-06-26T19:24:26.697Z"
   },
   {
    "duration": 6,
    "start_time": "2022-06-26T19:24:26.703Z"
   },
   {
    "duration": 53545,
    "start_time": "2022-06-26T19:24:26.710Z"
   },
   {
    "duration": 1104,
    "start_time": "2022-06-26T19:25:20.256Z"
   },
   {
    "duration": 91,
    "start_time": "2022-06-26T19:25:21.361Z"
   },
   {
    "duration": 6,
    "start_time": "2022-06-26T19:25:21.454Z"
   },
   {
    "duration": 13,
    "start_time": "2022-06-26T19:25:21.461Z"
   },
   {
    "duration": 0,
    "start_time": "2022-06-26T19:25:21.476Z"
   },
   {
    "duration": 1251,
    "start_time": "2022-06-26T19:29:56.321Z"
   },
   {
    "duration": 34,
    "start_time": "2022-06-26T19:29:57.573Z"
   },
   {
    "duration": 27,
    "start_time": "2022-06-26T19:29:57.608Z"
   },
   {
    "duration": 3,
    "start_time": "2022-06-26T19:29:57.636Z"
   },
   {
    "duration": 19,
    "start_time": "2022-06-26T19:29:57.641Z"
   },
   {
    "duration": 15,
    "start_time": "2022-06-26T19:29:57.661Z"
   },
   {
    "duration": 3,
    "start_time": "2022-06-26T19:29:57.677Z"
   },
   {
    "duration": 233,
    "start_time": "2022-06-26T19:29:57.682Z"
   },
   {
    "duration": 153,
    "start_time": "2022-06-26T19:29:57.916Z"
   },
   {
    "duration": 541,
    "start_time": "2022-06-26T19:29:58.070Z"
   },
   {
    "duration": 146,
    "start_time": "2022-06-26T19:29:58.612Z"
   },
   {
    "duration": 157,
    "start_time": "2022-06-26T19:29:58.759Z"
   },
   {
    "duration": 12,
    "start_time": "2022-06-26T19:29:58.917Z"
   },
   {
    "duration": 6021,
    "start_time": "2022-06-26T19:29:58.931Z"
   },
   {
    "duration": 9,
    "start_time": "2022-06-26T19:30:04.953Z"
   },
   {
    "duration": 34,
    "start_time": "2022-06-26T19:30:04.963Z"
   },
   {
    "duration": 53,
    "start_time": "2022-06-26T19:30:04.998Z"
   },
   {
    "duration": 1000,
    "start_time": "2022-06-26T19:30:05.052Z"
   },
   {
    "duration": 100,
    "start_time": "2022-06-26T19:30:06.053Z"
   },
   {
    "duration": 197,
    "start_time": "2022-06-26T19:30:06.155Z"
   },
   {
    "duration": 8,
    "start_time": "2022-06-26T19:30:06.354Z"
   },
   {
    "duration": 5,
    "start_time": "2022-06-26T19:30:06.363Z"
   },
   {
    "duration": 4,
    "start_time": "2022-06-26T19:30:06.369Z"
   },
   {
    "duration": 1639,
    "start_time": "2022-06-26T20:02:35.518Z"
   },
   {
    "duration": 174,
    "start_time": "2022-06-26T20:02:37.164Z"
   },
   {
    "duration": 45,
    "start_time": "2022-06-26T20:02:37.340Z"
   },
   {
    "duration": 4,
    "start_time": "2022-06-26T20:02:37.388Z"
   },
   {
    "duration": 33,
    "start_time": "2022-06-26T20:02:37.394Z"
   },
   {
    "duration": 16,
    "start_time": "2022-06-26T20:02:37.429Z"
   },
   {
    "duration": 4,
    "start_time": "2022-06-26T20:02:37.447Z"
   },
   {
    "duration": 295,
    "start_time": "2022-06-26T20:02:37.452Z"
   },
   {
    "duration": 181,
    "start_time": "2022-06-26T20:02:37.749Z"
   },
   {
    "duration": 617,
    "start_time": "2022-06-26T20:02:37.933Z"
   },
   {
    "duration": 202,
    "start_time": "2022-06-26T20:02:38.552Z"
   },
   {
    "duration": 180,
    "start_time": "2022-06-26T20:02:38.756Z"
   },
   {
    "duration": 16,
    "start_time": "2022-06-26T20:02:38.938Z"
   },
   {
    "duration": 7573,
    "start_time": "2022-06-26T20:02:38.956Z"
   },
   {
    "duration": 96,
    "start_time": "2022-06-26T20:02:46.531Z"
   },
   {
    "duration": 34,
    "start_time": "2022-06-26T20:02:46.630Z"
   },
   {
    "duration": 3,
    "start_time": "2022-06-26T20:02:46.665Z"
   },
   {
    "duration": 869,
    "start_time": "2022-06-26T20:02:46.670Z"
   },
   {
    "duration": 195,
    "start_time": "2022-06-26T20:02:47.541Z"
   },
   {
    "duration": 188,
    "start_time": "2022-06-26T20:02:47.741Z"
   },
   {
    "duration": 104,
    "start_time": "2022-06-26T20:02:47.932Z"
   },
   {
    "duration": 8,
    "start_time": "2022-06-26T20:02:48.037Z"
   },
   {
    "duration": 14,
    "start_time": "2022-06-26T20:02:48.046Z"
   },
   {
    "duration": 419395,
    "start_time": "2022-06-26T20:02:48.062Z"
   },
   {
    "duration": 775,
    "start_time": "2022-06-26T20:09:47.459Z"
   },
   {
    "duration": 11,
    "start_time": "2022-06-26T20:09:48.236Z"
   },
   {
    "duration": 11,
    "start_time": "2022-06-26T20:09:48.249Z"
   },
   {
    "duration": 12,
    "start_time": "2022-06-26T20:09:48.265Z"
   },
   {
    "duration": 17,
    "start_time": "2022-06-26T20:09:48.280Z"
   },
   {
    "duration": 82274,
    "start_time": "2022-06-26T20:09:48.299Z"
   },
   {
    "duration": 1520,
    "start_time": "2022-06-26T20:11:10.575Z"
   },
   {
    "duration": 10,
    "start_time": "2022-06-26T20:11:12.098Z"
   },
   {
    "duration": 49,
    "start_time": "2022-06-26T20:11:12.110Z"
   },
   {
    "duration": 39,
    "start_time": "2022-06-26T20:11:12.162Z"
   },
   {
    "duration": 24,
    "start_time": "2022-06-26T20:11:12.203Z"
   },
   {
    "duration": 1567,
    "start_time": "2022-06-26T21:03:36.466Z"
   },
   {
    "duration": 87,
    "start_time": "2022-06-26T21:03:38.034Z"
   },
   {
    "duration": 31,
    "start_time": "2022-06-26T21:03:38.123Z"
   },
   {
    "duration": 3,
    "start_time": "2022-06-26T21:03:38.156Z"
   },
   {
    "duration": 31,
    "start_time": "2022-06-26T21:03:38.161Z"
   },
   {
    "duration": 18,
    "start_time": "2022-06-26T21:03:38.193Z"
   },
   {
    "duration": 3,
    "start_time": "2022-06-26T21:03:38.212Z"
   },
   {
    "duration": 240,
    "start_time": "2022-06-26T21:03:38.217Z"
   },
   {
    "duration": 171,
    "start_time": "2022-06-26T21:03:38.458Z"
   },
   {
    "duration": 635,
    "start_time": "2022-06-26T21:03:38.632Z"
   },
   {
    "duration": 167,
    "start_time": "2022-06-26T21:03:39.268Z"
   },
   {
    "duration": 170,
    "start_time": "2022-06-26T21:03:39.437Z"
   },
   {
    "duration": 13,
    "start_time": "2022-06-26T21:03:39.609Z"
   },
   {
    "duration": 6231,
    "start_time": "2022-06-26T21:03:39.624Z"
   },
   {
    "duration": 10,
    "start_time": "2022-06-26T21:03:45.857Z"
   },
   {
    "duration": 121,
    "start_time": "2022-06-26T21:03:45.868Z"
   },
   {
    "duration": 3,
    "start_time": "2022-06-26T21:03:45.991Z"
   },
   {
    "duration": 465,
    "start_time": "2022-06-26T21:03:45.995Z"
   },
   {
    "duration": 92,
    "start_time": "2022-06-26T21:03:46.463Z"
   },
   {
    "duration": 99,
    "start_time": "2022-06-26T21:03:46.557Z"
   },
   {
    "duration": 93,
    "start_time": "2022-06-26T21:03:46.658Z"
   },
   {
    "duration": 14,
    "start_time": "2022-06-26T21:03:46.753Z"
   },
   {
    "duration": 5,
    "start_time": "2022-06-26T21:03:46.853Z"
   },
   {
    "duration": 378053,
    "start_time": "2022-06-26T21:03:46.859Z"
   },
   {
    "duration": 763,
    "start_time": "2022-06-26T21:10:04.914Z"
   },
   {
    "duration": 9,
    "start_time": "2022-06-26T21:10:05.680Z"
   },
   {
    "duration": 11,
    "start_time": "2022-06-26T21:10:05.691Z"
   },
   {
    "duration": 10,
    "start_time": "2022-06-26T21:10:05.706Z"
   },
   {
    "duration": 6,
    "start_time": "2022-06-26T21:10:05.718Z"
   },
   {
    "duration": 92394,
    "start_time": "2022-06-26T21:10:05.725Z"
   },
   {
    "duration": 1228,
    "start_time": "2022-06-26T21:11:38.121Z"
   },
   {
    "duration": 7,
    "start_time": "2022-06-26T21:11:39.351Z"
   },
   {
    "duration": 7,
    "start_time": "2022-06-26T21:11:39.360Z"
   },
   {
    "duration": 5,
    "start_time": "2022-06-26T21:11:39.368Z"
   },
   {
    "duration": 6,
    "start_time": "2022-06-26T21:11:39.375Z"
   },
   {
    "duration": 176179,
    "start_time": "2022-06-26T21:11:39.383Z"
   },
   {
    "duration": 1294,
    "start_time": "2022-06-26T21:14:35.564Z"
   },
   {
    "duration": 97,
    "start_time": "2022-06-26T21:14:36.860Z"
   },
   {
    "duration": 10,
    "start_time": "2022-06-26T21:14:36.959Z"
   },
   {
    "duration": 19,
    "start_time": "2022-06-26T21:14:36.971Z"
   },
   {
    "duration": 329,
    "start_time": "2022-06-26T21:14:36.992Z"
   },
   {
    "duration": 51,
    "start_time": "2022-06-26T21:14:37.322Z"
   },
   {
    "duration": 102,
    "start_time": "2022-06-27T09:36:30.624Z"
   },
   {
    "duration": 147,
    "start_time": "2022-06-27T12:53:04.459Z"
   },
   {
    "duration": 74,
    "start_time": "2022-06-27T13:09:07.896Z"
   },
   {
    "duration": 1612,
    "start_time": "2022-06-27T13:44:15.263Z"
   },
   {
    "duration": 96,
    "start_time": "2022-06-27T13:44:16.877Z"
   },
   {
    "duration": 30,
    "start_time": "2022-06-27T13:44:16.975Z"
   },
   {
    "duration": 3,
    "start_time": "2022-06-27T13:44:17.007Z"
   },
   {
    "duration": 15,
    "start_time": "2022-06-27T13:44:17.109Z"
   },
   {
    "duration": 16,
    "start_time": "2022-06-27T13:44:18.098Z"
   },
   {
    "duration": 3,
    "start_time": "2022-06-27T13:44:18.795Z"
   },
   {
    "duration": 249,
    "start_time": "2022-06-27T13:44:19.035Z"
   },
   {
    "duration": 182,
    "start_time": "2022-06-27T13:44:19.506Z"
   },
   {
    "duration": 663,
    "start_time": "2022-06-27T13:44:20.173Z"
   },
   {
    "duration": 186,
    "start_time": "2022-06-27T13:44:20.838Z"
   },
   {
    "duration": 195,
    "start_time": "2022-06-27T13:44:21.027Z"
   },
   {
    "duration": 13,
    "start_time": "2022-06-27T13:44:22.292Z"
   },
   {
    "duration": 7315,
    "start_time": "2022-06-27T13:45:32.247Z"
   },
   {
    "duration": 10,
    "start_time": "2022-06-27T13:45:39.653Z"
   },
   {
    "duration": 37,
    "start_time": "2022-06-27T13:45:39.665Z"
   },
   {
    "duration": 3,
    "start_time": "2022-06-27T13:45:39.753Z"
   },
   {
    "duration": 78,
    "start_time": "2022-06-27T13:45:39.758Z"
   },
   {
    "duration": 0,
    "start_time": "2022-06-27T13:45:39.838Z"
   },
   {
    "duration": 0,
    "start_time": "2022-06-27T13:45:39.852Z"
   },
   {
    "duration": 0,
    "start_time": "2022-06-27T13:45:39.853Z"
   },
   {
    "duration": 0,
    "start_time": "2022-06-27T13:45:39.854Z"
   },
   {
    "duration": 0,
    "start_time": "2022-06-27T13:45:39.855Z"
   },
   {
    "duration": 0,
    "start_time": "2022-06-27T13:45:39.856Z"
   },
   {
    "duration": 0,
    "start_time": "2022-06-27T13:45:39.857Z"
   },
   {
    "duration": 0,
    "start_time": "2022-06-27T13:45:39.858Z"
   },
   {
    "duration": 0,
    "start_time": "2022-06-27T13:45:39.860Z"
   },
   {
    "duration": 0,
    "start_time": "2022-06-27T13:45:39.861Z"
   },
   {
    "duration": 0,
    "start_time": "2022-06-27T13:45:39.862Z"
   },
   {
    "duration": 0,
    "start_time": "2022-06-27T13:45:39.863Z"
   },
   {
    "duration": 0,
    "start_time": "2022-06-27T13:45:39.863Z"
   },
   {
    "duration": 0,
    "start_time": "2022-06-27T13:45:39.864Z"
   },
   {
    "duration": 1,
    "start_time": "2022-06-27T13:45:39.865Z"
   },
   {
    "duration": 0,
    "start_time": "2022-06-27T13:45:39.867Z"
   },
   {
    "duration": 0,
    "start_time": "2022-06-27T13:45:39.868Z"
   },
   {
    "duration": 0,
    "start_time": "2022-06-27T13:45:39.869Z"
   },
   {
    "duration": 0,
    "start_time": "2022-06-27T13:45:39.870Z"
   },
   {
    "duration": 67,
    "start_time": "2022-06-27T13:45:39.873Z"
   },
   {
    "duration": 59,
    "start_time": "2022-06-27T13:45:40.165Z"
   },
   {
    "duration": 9,
    "start_time": "2022-06-27T13:45:40.343Z"
   },
   {
    "duration": 1407,
    "start_time": "2022-06-27T13:45:50.035Z"
   },
   {
    "duration": 35,
    "start_time": "2022-06-27T13:45:51.446Z"
   },
   {
    "duration": 29,
    "start_time": "2022-06-27T13:45:51.484Z"
   },
   {
    "duration": 4,
    "start_time": "2022-06-27T13:45:51.515Z"
   },
   {
    "duration": 18,
    "start_time": "2022-06-27T13:45:51.520Z"
   },
   {
    "duration": 28,
    "start_time": "2022-06-27T13:45:51.539Z"
   },
   {
    "duration": 4,
    "start_time": "2022-06-27T13:45:51.568Z"
   },
   {
    "duration": 257,
    "start_time": "2022-06-27T13:45:51.574Z"
   },
   {
    "duration": 189,
    "start_time": "2022-06-27T13:45:51.835Z"
   },
   {
    "duration": 702,
    "start_time": "2022-06-27T13:45:52.026Z"
   },
   {
    "duration": 182,
    "start_time": "2022-06-27T13:45:52.730Z"
   },
   {
    "duration": 181,
    "start_time": "2022-06-27T13:45:52.914Z"
   },
   {
    "duration": 13,
    "start_time": "2022-06-27T13:45:53.097Z"
   },
   {
    "duration": 6639,
    "start_time": "2022-06-27T13:45:53.112Z"
   },
   {
    "duration": 9,
    "start_time": "2022-06-27T13:45:59.754Z"
   },
   {
    "duration": 122,
    "start_time": "2022-06-27T13:45:59.765Z"
   },
   {
    "duration": 4,
    "start_time": "2022-06-27T13:45:59.889Z"
   },
   {
    "duration": 130,
    "start_time": "2022-06-27T13:45:59.896Z"
   },
   {
    "duration": 0,
    "start_time": "2022-06-27T13:46:00.029Z"
   },
   {
    "duration": 0,
    "start_time": "2022-06-27T13:46:00.031Z"
   },
   {
    "duration": 0,
    "start_time": "2022-06-27T13:46:00.033Z"
   },
   {
    "duration": 0,
    "start_time": "2022-06-27T13:46:00.034Z"
   },
   {
    "duration": 0,
    "start_time": "2022-06-27T13:46:00.035Z"
   },
   {
    "duration": 0,
    "start_time": "2022-06-27T13:46:00.052Z"
   },
   {
    "duration": 0,
    "start_time": "2022-06-27T13:46:00.053Z"
   },
   {
    "duration": 0,
    "start_time": "2022-06-27T13:46:00.054Z"
   },
   {
    "duration": 0,
    "start_time": "2022-06-27T13:46:00.056Z"
   },
   {
    "duration": 0,
    "start_time": "2022-06-27T13:46:00.057Z"
   },
   {
    "duration": 0,
    "start_time": "2022-06-27T13:46:00.058Z"
   },
   {
    "duration": 0,
    "start_time": "2022-06-27T13:46:00.059Z"
   },
   {
    "duration": 0,
    "start_time": "2022-06-27T13:46:00.060Z"
   },
   {
    "duration": 0,
    "start_time": "2022-06-27T13:46:00.061Z"
   },
   {
    "duration": 0,
    "start_time": "2022-06-27T13:46:00.062Z"
   },
   {
    "duration": 0,
    "start_time": "2022-06-27T13:46:00.063Z"
   },
   {
    "duration": 0,
    "start_time": "2022-06-27T13:46:00.064Z"
   },
   {
    "duration": 0,
    "start_time": "2022-06-27T13:46:00.065Z"
   },
   {
    "duration": 0,
    "start_time": "2022-06-27T13:46:00.066Z"
   },
   {
    "duration": 0,
    "start_time": "2022-06-27T13:46:00.067Z"
   },
   {
    "duration": 0,
    "start_time": "2022-06-27T13:46:00.068Z"
   },
   {
    "duration": 0,
    "start_time": "2022-06-27T13:46:00.070Z"
   },
   {
    "duration": 0,
    "start_time": "2022-06-27T13:46:00.071Z"
   },
   {
    "duration": 0,
    "start_time": "2022-06-27T13:46:00.072Z"
   },
   {
    "duration": 5,
    "start_time": "2022-06-27T13:46:45.567Z"
   },
   {
    "duration": 1410,
    "start_time": "2022-06-27T13:46:49.932Z"
   },
   {
    "duration": 38,
    "start_time": "2022-06-27T13:46:51.344Z"
   },
   {
    "duration": 28,
    "start_time": "2022-06-27T13:46:51.384Z"
   },
   {
    "duration": 3,
    "start_time": "2022-06-27T13:46:51.415Z"
   },
   {
    "duration": 22,
    "start_time": "2022-06-27T13:46:51.419Z"
   },
   {
    "duration": 20,
    "start_time": "2022-06-27T13:46:51.442Z"
   },
   {
    "duration": 6,
    "start_time": "2022-06-27T13:46:51.464Z"
   },
   {
    "duration": 248,
    "start_time": "2022-06-27T13:46:51.471Z"
   },
   {
    "duration": 175,
    "start_time": "2022-06-27T13:46:51.721Z"
   },
   {
    "duration": 653,
    "start_time": "2022-06-27T13:46:51.899Z"
   },
   {
    "duration": 207,
    "start_time": "2022-06-27T13:46:52.553Z"
   },
   {
    "duration": 192,
    "start_time": "2022-06-27T13:46:52.762Z"
   },
   {
    "duration": 12,
    "start_time": "2022-06-27T13:46:52.955Z"
   },
   {
    "duration": 6791,
    "start_time": "2022-06-27T13:46:52.969Z"
   },
   {
    "duration": 98,
    "start_time": "2022-06-27T13:46:59.761Z"
   },
   {
    "duration": 117,
    "start_time": "2022-06-27T13:46:59.861Z"
   },
   {
    "duration": 4,
    "start_time": "2022-06-27T13:46:59.980Z"
   },
   {
    "duration": 7,
    "start_time": "2022-06-27T13:46:59.985Z"
   },
   {
    "duration": 659,
    "start_time": "2022-06-27T13:46:59.994Z"
   },
   {
    "duration": 101,
    "start_time": "2022-06-27T13:47:00.655Z"
   },
   {
    "duration": 201,
    "start_time": "2022-06-27T13:47:00.758Z"
   },
   {
    "duration": 93,
    "start_time": "2022-06-27T13:47:00.960Z"
   },
   {
    "duration": 106,
    "start_time": "2022-06-27T13:47:01.056Z"
   },
   {
    "duration": 19,
    "start_time": "2022-06-27T13:47:01.164Z"
   },
   {
    "duration": 366672,
    "start_time": "2022-06-27T13:47:01.185Z"
   },
   {
    "duration": 721,
    "start_time": "2022-06-27T13:53:07.858Z"
   },
   {
    "duration": 9,
    "start_time": "2022-06-27T13:53:08.580Z"
   },
   {
    "duration": 4,
    "start_time": "2022-06-27T13:53:08.592Z"
   },
   {
    "duration": 8,
    "start_time": "2022-06-27T13:53:08.597Z"
   },
   {
    "duration": 7,
    "start_time": "2022-06-27T13:53:08.606Z"
   },
   {
    "duration": 69091,
    "start_time": "2022-06-27T13:53:08.614Z"
   },
   {
    "duration": 1177,
    "start_time": "2022-06-27T13:54:17.706Z"
   },
   {
    "duration": 6,
    "start_time": "2022-06-27T13:54:18.884Z"
   },
   {
    "duration": 9,
    "start_time": "2022-06-27T13:54:18.892Z"
   },
   {
    "duration": 10,
    "start_time": "2022-06-27T13:54:18.902Z"
   },
   {
    "duration": 7,
    "start_time": "2022-06-27T13:54:18.914Z"
   },
   {
    "duration": 65138,
    "start_time": "2022-06-27T13:54:18.922Z"
   },
   {
    "duration": 1393,
    "start_time": "2022-06-27T13:55:24.061Z"
   },
   {
    "duration": 10,
    "start_time": "2022-06-27T13:55:25.455Z"
   },
   {
    "duration": 12,
    "start_time": "2022-06-27T13:55:25.467Z"
   },
   {
    "duration": 13,
    "start_time": "2022-06-27T13:55:25.480Z"
   },
   {
    "duration": 320,
    "start_time": "2022-06-27T13:55:25.495Z"
   },
   {
    "duration": 4,
    "start_time": "2022-06-27T14:00:12.562Z"
   },
   {
    "duration": 3,
    "start_time": "2022-06-27T14:00:13.692Z"
   },
   {
    "duration": 67766,
    "start_time": "2022-06-27T14:00:14.190Z"
   },
   {
    "duration": 2008,
    "start_time": "2022-06-27T14:01:21.958Z"
   },
   {
    "duration": 88,
    "start_time": "2022-06-27T14:01:23.968Z"
   },
   {
    "duration": 5,
    "start_time": "2022-06-27T14:01:24.058Z"
   },
   {
    "duration": 20,
    "start_time": "2022-06-27T14:01:24.065Z"
   },
   {
    "duration": 302,
    "start_time": "2022-06-27T14:01:24.086Z"
   },
   {
    "duration": 116,
    "start_time": "2022-06-28T07:08:58.208Z"
   }
  ],
  "kernelspec": {
   "display_name": "Python 3",
   "language": "python",
   "name": "python3"
  },
  "language_info": {
   "codemirror_mode": {
    "name": "ipython",
    "version": 3
   },
   "file_extension": ".py",
   "mimetype": "text/x-python",
   "name": "python",
   "nbconvert_exporter": "python",
   "pygments_lexer": "ipython3",
   "version": "3.8.5"
  },
  "toc": {
   "base_numbering": 1,
   "nav_menu": {},
   "number_sections": true,
   "sideBar": true,
   "skip_h1_title": true,
   "title_cell": "Содержание",
   "title_sidebar": "Contents",
   "toc_cell": true,
   "toc_position": {
    "height": "calc(100% - 180px)",
    "left": "10px",
    "top": "150px",
    "width": "351.117px"
   },
   "toc_section_display": true,
   "toc_window_display": true
  }
 },
 "nbformat": 4,
 "nbformat_minor": 2
}
