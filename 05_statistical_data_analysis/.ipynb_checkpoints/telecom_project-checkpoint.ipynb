{
 "cells": [
  {
   "cell_type": "markdown",
   "metadata": {},
   "source": [
    "<div style=\"border:solid lightblue 3px; padding: 20px\">\n",
    "<b>Иван, привет!</b>\n",
    "\n",
    "Меня зовут Виталий Мехоношин, и я буду проверять твой проект. Предлагаю общаться на «ты» 😉\n",
    "\n",
    "Моя основная цель — не указать на совершенные тобою ошибки, а поделиться своим опытом и помочь тебе стать аналитиком данных. Тобой проделана большая работа над проектом, давай сделаем его еще лучше. Ниже ты найдешь мои комментарии. Есть несколько правил:<br>\n",
    "- <b>Пожалуйста, не перемещай, не изменяй и не удаляй комментарии.</b>\n",
    "- У комментариев могут быть приписки <b>V2, V3</b> и т.д., которые соответствуют версии проверки. \n",
    "- Еще обрати внимание на цветовую разметку:\n",
    "\n",
    "<div class=\"alert alert-danger\">\n",
    "<b>Комментарий ревьюера:</b> \n",
    "Комментарии такого цвета необходимо исправить, без их отработки проект не будет принят. \n",
    "</div>\n",
    "\n",
    "<div class=\"alert alert-warning\">\n",
    "<b>Комментарий ревьюера:</b> \n",
    "На комментарии такого цвета нужно обязательно обратить внимание. Их не должно быть много.\n",
    "</div>\n",
    "\n",
    "<div class=\"alert alert-success\">\n",
    "<b>Комментарий ревьюера:</b> \n",
    "Комментарии такого цвета будут содержать лайфхаки, которые смогут улучшить твой верный код, их необязательно исправлять.\n",
    "</div>\n",
    "\n",
    "Предлагаю работать над проектом в диалоге: если ты хочешь ответить на мои комментарии — пиши об этом. Мне будет легче отследить изменения, если ты выделишь свои комментарии вот так:\n",
    "<div class=\"alert alert-info\"> <b>Комментарий студента:</b> Например, вот так.</div>\n",
    "\n",
    "Всё это поможет выполнить повторную проверку твоего проекта оперативнее."
   ]
  },
  {
   "cell_type": "markdown",
   "metadata": {},
   "source": [
    "<div style=\"border:solid lightblue 3px; padding: 20px\">\n",
    "<b>Общий комментарий ревьюера:</b>\n",
    "\n",
    "У тебя замечательная и очень сильная работа. Каждый заголовок выделен, каждое рассуждение выделено, каждый пункт выделен. Хочется отметить так же упорядоченность и последовательность действий, нет скачков от одних пунктов к другим.\n",
    "    \n",
    "Так же отмечаю, что гипотезы проверены корректно. Обрати внимание на ряд рекомендаций к твоему и так очень хорошему коду. Готов принять проект с первого раза, возвращаю его на доработку с целью узнать, есть ли у тебя ко мне какие-нибудь вопросы😊\n",
    "</div>"
   ]
  },
  {
   "cell_type": "markdown",
   "metadata": {},
   "source": [
    "<div class=\"alert alert-info\">\n",
    "<b>Комментарий студента:</b>   \n",
    "\n",
    "Виталий, привет. \n",
    "\n",
    "Спасибо за проверку работы. \n",
    "\n",
    "Вопрос только один: <b>p-value</b> = 0.0 для первой гипотезы (п.1.4.1) это не страшно? такое бывает?\n",
    "\n",
    "</div>"
   ]
  },
  {
   "cell_type": "markdown",
   "metadata": {},
   "source": [
    "<div style=\"border:solid lightblue 3px; padding: 20px\">\n",
    "<b>Общий комментарий ревьюера V2:</b>\n",
    "\n",
    "Получившеемся значение 0 не страшно. Проект принят, удачи на следующих спринтах😊\n",
    "</div>"
   ]
  },
  {
   "cell_type": "markdown",
   "metadata": {},
   "source": [
    "## Определение перспективного тарифа для телеком компании  \n",
    "### Шаг 1 Описание проекта и имеющегося набора данных"
   ]
  },
  {
   "cell_type": "markdown",
   "metadata": {},
   "source": [
    "#### Описание проекта\n",
    "В этом проекте я выступаю в роли аналитика компании «Мегалайн» — федерального оператора сотовой связи.  \n",
    "Клиентам предлагают два тарифных плана: «Смарт» и «Ультра».  \n",
    "Чтобы скорректировать рекламный бюджет, коммерческий департамент хочет понять, какой тариф приносит больше денег. \n",
    "\n",
    "В проекте мне предстоит сделать предварительный анализ тарифов на небольшой выборке клиентов.  \n",
    "В нашем распоряжении данные 500 пользователей «Мегалайна»: кто они, откуда, каким тарифом пользуются, сколько звонков и сообщений каждый отправил за 2018 год.  \n",
    "\n",
    "Нужно проанализировать поведение клиентов и сделать вывод — какой тариф лучше."
   ]
  },
  {
   "cell_type": "markdown",
   "metadata": {},
   "source": [
    "#### Описание тарифов\n",
    "**Тариф «Смарт»**\n",
    "- Ежемесячная плата: `550` рублей\n",
    "- Включено `500 минут` разговора, `50` сообщений и `15 Гб` интернет-трафика\n",
    "- Стоимость услуг сверх тарифного пакета: \n",
    "    1. минута разговора: `3 рубля`\n",
    "    2. сообщение: `3 рубля`; \n",
    "    3. 1 Гб интернет-трафика: `200 рублей`  \n",
    "\n",
    "**Тариф «Ультра»**\n",
    "- Ежемесячная плата: `1950` рублей\n",
    "- Включено `3000 минут` разговора, `1000` сообщений и `30 Гб` интернет-трафика\n",
    "- Стоимость услуг сверх тарифного пакета: \n",
    "    1. минута разговора: `1 рубль`; \n",
    "    2. сообщение: `1 рубль`; \n",
    "    3. 1 Гб интернет-трафика: `150 рублей`\n",
    "    \n",
    "***Примечание***:   \n",
    "\n",
    "- «Мегалайн» всегда округляет секунды до минут, а мегабайты — до гигабайт.  \n",
    "- Каждый звонок округляется отдельно: даже если он длился всего 1 секунду, будет засчитан как 1 минута.\n",
    "- Для веб-трафика отдельные сессии не считаются. Вместо этого общая сумма за месяц округляется в бо́льшую сторону. Если абонент использует 1025 мегабайт в этом месяце, с него возьмут плату за 2 гигабайта."
   ]
  },
  {
   "cell_type": "markdown",
   "metadata": {},
   "source": [
    "#### Описание данных\n",
    "\n",
    "В этом проекте у нас действительно не мало признаков)\n",
    "\n",
    "Таблица **users** (информация о пользователях):\n",
    "* `user_id` — уникальный идентификатор пользователя;\n",
    "* `first_name` — имя пользователя;\n",
    "* `last_name` — фамилия пользователя;\n",
    "* `age` — возраст пользователя (годы);\n",
    "* `reg_date` — дата подключения тарифа (день, месяц, год);\n",
    "* `churn_date` — дата прекращения пользования тарифом (если значение пропущено, то тариф ещё действовал на момент выгрузки данных);\n",
    "* `city` — город проживания пользователя;\n",
    "* `tarif` — название тарифного плана;\n",
    "\n",
    "Таблица **messages** (информация о сообщениях):\n",
    "* `id` — уникальный номер сообщения;\n",
    "* `message_date` — дата сообщения;\n",
    "* `user_id` — идентификатор пользователя, отправившего сообщение;\n",
    "\n",
    "Таблица **internet** (информация об интернет-сессиях):\n",
    "* `id` — уникальный номер сессии;\n",
    "* `mb_used` — объём потраченного за сессию интернет-трафика (в мегабайтах);\n",
    "* `session_date` — дата интернет-сессии;\n",
    "* `user_id` — идентификатор пользователя;\n",
    "\n",
    "Таблица **tariffs** (информация о тарифах):\n",
    "* `tariff_name` — название тарифа;\n",
    "* `rub_monthly_fee` — ежемесячная абонентская плата в рублях;\n",
    "* `minutes_included` — количество минут разговора в месяц, включённых в абонентскую плату;\n",
    "* `messages_included` — количество сообщений в месяц, включённых в абонентскую плату;\n",
    "* `mb_per_month_included` — объём интернет-трафика, включённого в абонентскую плату (в мегабайтах);\n",
    "* `rub_per_minute` — стоимость минуты разговора сверх тарифного пакета (например, если в тарифе 100 минут разговора в месяц, то со 101 минуты будет взиматься плата);\n",
    "* `rub_per_message` — стоимость отправки сообщения сверх тарифного пакета;\n",
    "* `rub_per_gb` — стоимость дополнительного гигабайта интернет-трафика сверх тарифного пакета (1 гигабайт = 1024 мегабайта)."
   ]
  },
  {
   "cell_type": "markdown",
   "metadata": {},
   "source": [
    "<div class=\"alert alert-success\">\n",
    "<b>Комментарий ревьюера:</b>\n",
    "\n",
    "Супер, что расширяешь стандартное описание к проекту.\n",
    "</div>"
   ]
  },
  {
   "cell_type": "code",
   "execution_count": 1,
   "metadata": {},
   "outputs": [],
   "source": [
    "import pandas as pd\n",
    "import numpy as np\n",
    "import seaborn as sns\n",
    "import math as mth\n",
    "import matplotlib.pyplot as plt\n",
    "from scipy import stats as st"
   ]
  },
  {
   "cell_type": "markdown",
   "metadata": {},
   "source": [
    "Импортируем библиотеки и считываем данные"
   ]
  },
  {
   "cell_type": "code",
   "execution_count": 2,
   "metadata": {},
   "outputs": [],
   "source": [
    "calls = pd.read_csv('/datasets/calls.csv') \n",
    "internet = pd.read_csv('/datasets/internet.csv', index_col = 0) \n",
    "messages = pd.read_csv('/datasets/messages.csv') \n",
    "tariffs = pd.read_csv('/datasets/tariffs.csv') \n",
    "users = pd.read_csv('/datasets/users.csv') "
   ]
  },
  {
   "cell_type": "markdown",
   "metadata": {},
   "source": [
    "*Примечание:*  \n",
    "В исходнике таблицы **internet** был столбец-индекс"
   ]
  },
  {
   "cell_type": "code",
   "execution_count": 3,
   "metadata": {},
   "outputs": [],
   "source": [
    "internet = internet.drop(internet.columns[[0]], axis=1) "
   ]
  },
  {
   "cell_type": "markdown",
   "metadata": {},
   "source": [
    "<div class=\"alert alert-success\">\n",
    "<b>Комментарий ревьюера:</b>\n",
    "\n",
    "Да, согласен, он не нужен.\n",
    "</div>"
   ]
  },
  {
   "cell_type": "code",
   "execution_count": 4,
   "metadata": {},
   "outputs": [
    {
     "data": {
      "text/html": [
       "<div>\n",
       "<style scoped>\n",
       "    .dataframe tbody tr th:only-of-type {\n",
       "        vertical-align: middle;\n",
       "    }\n",
       "\n",
       "    .dataframe tbody tr th {\n",
       "        vertical-align: top;\n",
       "    }\n",
       "\n",
       "    .dataframe thead th {\n",
       "        text-align: right;\n",
       "    }\n",
       "</style>\n",
       "<table border=\"1\" class=\"dataframe\">\n",
       "  <thead>\n",
       "    <tr style=\"text-align: right;\">\n",
       "      <th></th>\n",
       "      <th>id</th>\n",
       "      <th>message_date</th>\n",
       "      <th>user_id</th>\n",
       "    </tr>\n",
       "  </thead>\n",
       "  <tbody>\n",
       "    <tr>\n",
       "      <td>0</td>\n",
       "      <td>1000_0</td>\n",
       "      <td>2018-06-27</td>\n",
       "      <td>1000</td>\n",
       "    </tr>\n",
       "    <tr>\n",
       "      <td>1</td>\n",
       "      <td>1000_1</td>\n",
       "      <td>2018-10-08</td>\n",
       "      <td>1000</td>\n",
       "    </tr>\n",
       "  </tbody>\n",
       "</table>\n",
       "</div>"
      ],
      "text/plain": [
       "       id message_date  user_id\n",
       "0  1000_0   2018-06-27     1000\n",
       "1  1000_1   2018-10-08     1000"
      ]
     },
     "execution_count": 4,
     "metadata": {},
     "output_type": "execute_result"
    }
   ],
   "source": [
    "messages.head(2)"
   ]
  },
  {
   "cell_type": "code",
   "execution_count": 5,
   "metadata": {},
   "outputs": [
    {
     "data": {
      "text/html": [
       "<div>\n",
       "<style scoped>\n",
       "    .dataframe tbody tr th:only-of-type {\n",
       "        vertical-align: middle;\n",
       "    }\n",
       "\n",
       "    .dataframe tbody tr th {\n",
       "        vertical-align: top;\n",
       "    }\n",
       "\n",
       "    .dataframe thead th {\n",
       "        text-align: right;\n",
       "    }\n",
       "</style>\n",
       "<table border=\"1\" class=\"dataframe\">\n",
       "  <thead>\n",
       "    <tr style=\"text-align: right;\">\n",
       "      <th></th>\n",
       "      <th>messages_included</th>\n",
       "      <th>mb_per_month_included</th>\n",
       "      <th>minutes_included</th>\n",
       "      <th>rub_monthly_fee</th>\n",
       "      <th>rub_per_gb</th>\n",
       "      <th>rub_per_message</th>\n",
       "      <th>rub_per_minute</th>\n",
       "      <th>tariff_name</th>\n",
       "    </tr>\n",
       "  </thead>\n",
       "  <tbody>\n",
       "    <tr>\n",
       "      <td>0</td>\n",
       "      <td>50</td>\n",
       "      <td>15360</td>\n",
       "      <td>500</td>\n",
       "      <td>550</td>\n",
       "      <td>200</td>\n",
       "      <td>3</td>\n",
       "      <td>3</td>\n",
       "      <td>smart</td>\n",
       "    </tr>\n",
       "    <tr>\n",
       "      <td>1</td>\n",
       "      <td>1000</td>\n",
       "      <td>30720</td>\n",
       "      <td>3000</td>\n",
       "      <td>1950</td>\n",
       "      <td>150</td>\n",
       "      <td>1</td>\n",
       "      <td>1</td>\n",
       "      <td>ultra</td>\n",
       "    </tr>\n",
       "  </tbody>\n",
       "</table>\n",
       "</div>"
      ],
      "text/plain": [
       "   messages_included  mb_per_month_included  minutes_included  \\\n",
       "0                 50                  15360               500   \n",
       "1               1000                  30720              3000   \n",
       "\n",
       "   rub_monthly_fee  rub_per_gb  rub_per_message  rub_per_minute tariff_name  \n",
       "0              550         200                3               3       smart  \n",
       "1             1950         150                1               1       ultra  "
      ]
     },
     "execution_count": 5,
     "metadata": {},
     "output_type": "execute_result"
    }
   ],
   "source": [
    "tariffs"
   ]
  },
  {
   "cell_type": "code",
   "execution_count": 6,
   "metadata": {},
   "outputs": [
    {
     "data": {
      "text/html": [
       "<div>\n",
       "<style scoped>\n",
       "    .dataframe tbody tr th:only-of-type {\n",
       "        vertical-align: middle;\n",
       "    }\n",
       "\n",
       "    .dataframe tbody tr th {\n",
       "        vertical-align: top;\n",
       "    }\n",
       "\n",
       "    .dataframe thead th {\n",
       "        text-align: right;\n",
       "    }\n",
       "</style>\n",
       "<table border=\"1\" class=\"dataframe\">\n",
       "  <thead>\n",
       "    <tr style=\"text-align: right;\">\n",
       "      <th></th>\n",
       "      <th>user_id</th>\n",
       "      <th>age</th>\n",
       "      <th>churn_date</th>\n",
       "      <th>city</th>\n",
       "      <th>first_name</th>\n",
       "      <th>last_name</th>\n",
       "      <th>reg_date</th>\n",
       "      <th>tariff</th>\n",
       "    </tr>\n",
       "  </thead>\n",
       "  <tbody>\n",
       "    <tr>\n",
       "      <td>0</td>\n",
       "      <td>1000</td>\n",
       "      <td>52</td>\n",
       "      <td>NaN</td>\n",
       "      <td>Краснодар</td>\n",
       "      <td>Рафаил</td>\n",
       "      <td>Верещагин</td>\n",
       "      <td>2018-05-25</td>\n",
       "      <td>ultra</td>\n",
       "    </tr>\n",
       "    <tr>\n",
       "      <td>1</td>\n",
       "      <td>1001</td>\n",
       "      <td>41</td>\n",
       "      <td>NaN</td>\n",
       "      <td>Москва</td>\n",
       "      <td>Иван</td>\n",
       "      <td>Ежов</td>\n",
       "      <td>2018-11-01</td>\n",
       "      <td>smart</td>\n",
       "    </tr>\n",
       "  </tbody>\n",
       "</table>\n",
       "</div>"
      ],
      "text/plain": [
       "   user_id  age churn_date       city first_name  last_name    reg_date tariff\n",
       "0     1000   52        NaN  Краснодар     Рафаил  Верещагин  2018-05-25  ultra\n",
       "1     1001   41        NaN     Москва       Иван       Ежов  2018-11-01  smart"
      ]
     },
     "execution_count": 6,
     "metadata": {},
     "output_type": "execute_result"
    }
   ],
   "source": [
    "users.head(2)"
   ]
  },
  {
   "cell_type": "markdown",
   "metadata": {},
   "source": [
    "**Вывод:**\n",
    "* описали задачи проекта и считали данные\n",
    "* дали описание таблицам и данным в них\n",
    "* у нас есть 5 датасетов из них:\n",
    "    * 2 таблицы - справочники (**users** и **tariffs**) - несут для нас общую, справочную информацию о тарифных планах и клиентах\n",
    "    * 3 таблицы - детальная суточная информация о **интернет-трафике**, **смс**, **звонках** по каждому клиенту за 2018 год\n",
    "\n",
    "\n",
    "*Примечание:*  \n",
    "1. Более детальная предобработка будет рассмотрена в следующем пункте\n",
    "2. Объединение массивов в одну большую таблицу на данном этапе считаю нецелесооразным и предлагаю выполнить этот шаг только после агрегации данных по трафику, смс и вызовам по месяцам."
   ]
  },
  {
   "cell_type": "markdown",
   "metadata": {},
   "source": [
    "<div class=\"alert alert-success\">\n",
    "<b>Комментарий ревьюера:</b>\n",
    "\n",
    "Первый взгляд на данные хороший. Молодец, что используешь практически все методы для предварительной оценки. Могу рекомендовать создать универсальную функцию, которая будет принимать на вход датафрейм, а на выходе она будет выводить всего нужные характеристики, например, `head`, `describe`, `info`, дубликаты и т.п.\n",
    "</div>"
   ]
  },
  {
   "cell_type": "markdown",
   "metadata": {},
   "source": [
    "### Шаг 2. Предобработка данных"
   ]
  },
  {
   "cell_type": "markdown",
   "metadata": {},
   "source": [
    "#### Этап I:\n",
    "* подробно изучить таблицы с данными\n",
    "* заменить типы данных и исправить ошибки если это необходимо "
   ]
  },
  {
   "cell_type": "markdown",
   "metadata": {},
   "source": [
    "**Таблицы `tariffs` и `users`**"
   ]
  },
  {
   "cell_type": "markdown",
   "metadata": {},
   "source": [
    "* По таблице тарифов замечаний нет, все типы данных и заполнение строк логичны"
   ]
  },
  {
   "cell_type": "code",
   "execution_count": 7,
   "metadata": {},
   "outputs": [
    {
     "name": "stdout",
     "output_type": "stream",
     "text": [
      "<class 'pandas.core.frame.DataFrame'>\n",
      "RangeIndex: 2 entries, 0 to 1\n",
      "Data columns (total 8 columns):\n",
      "messages_included        2 non-null int64\n",
      "mb_per_month_included    2 non-null int64\n",
      "minutes_included         2 non-null int64\n",
      "rub_monthly_fee          2 non-null int64\n",
      "rub_per_gb               2 non-null int64\n",
      "rub_per_message          2 non-null int64\n",
      "rub_per_minute           2 non-null int64\n",
      "tariff_name              2 non-null object\n",
      "dtypes: int64(7), object(1)\n",
      "memory usage: 256.0+ bytes\n"
     ]
    }
   ],
   "source": [
    "tariffs.info()"
   ]
  },
  {
   "cell_type": "markdown",
   "metadata": {},
   "source": [
    "* По таблице **users** необходимо:\n",
    "    * заменить типы данных для колонок `churn_date` и `reg_date` на **datetime**\n",
    "    * только у 38 клиентов заполнено поле `churn_date`, но это не является ошибкой\n",
    "    * по остальным полям замечаний нет"
   ]
  },
  {
   "cell_type": "code",
   "execution_count": 8,
   "metadata": {},
   "outputs": [],
   "source": [
    "users['reg_date'] = pd.to_datetime(users['reg_date'], format='%Y-%m-%d')\n",
    "users['churn_date'] = pd.to_datetime(users['churn_date'], format='%Y-%m-%d')"
   ]
  },
  {
   "cell_type": "markdown",
   "metadata": {},
   "source": [
    "Внимательно посмотрим нет ли у нас явных дублей"
   ]
  },
  {
   "cell_type": "code",
   "execution_count": 9,
   "metadata": {},
   "outputs": [
    {
     "data": {
      "text/plain": [
       "0"
      ]
     },
     "execution_count": 9,
     "metadata": {},
     "output_type": "execute_result"
    }
   ],
   "source": [
    "users.duplicated().sum()"
   ]
  },
  {
   "cell_type": "code",
   "execution_count": 10,
   "metadata": {},
   "outputs": [
    {
     "data": {
      "text/plain": [
       "0"
      ]
     },
     "execution_count": 10,
     "metadata": {},
     "output_type": "execute_result"
    }
   ],
   "source": [
    "users['user_id'].duplicated().sum()"
   ]
  },
  {
   "cell_type": "code",
   "execution_count": 11,
   "metadata": {},
   "outputs": [
    {
     "name": "stdout",
     "output_type": "stream",
     "text": [
      "<class 'pandas.core.frame.DataFrame'>\n",
      "RangeIndex: 500 entries, 0 to 499\n",
      "Data columns (total 8 columns):\n",
      "user_id       500 non-null int64\n",
      "age           500 non-null int64\n",
      "churn_date    38 non-null datetime64[ns]\n",
      "city          500 non-null object\n",
      "first_name    500 non-null object\n",
      "last_name     500 non-null object\n",
      "reg_date      500 non-null datetime64[ns]\n",
      "tariff        500 non-null object\n",
      "dtypes: datetime64[ns](2), int64(2), object(4)\n",
      "memory usage: 31.4+ KB\n"
     ]
    }
   ],
   "source": [
    "users.info()"
   ]
  },
  {
   "cell_type": "code",
   "execution_count": 12,
   "metadata": {},
   "outputs": [
    {
     "data": {
      "text/html": [
       "<div>\n",
       "<style scoped>\n",
       "    .dataframe tbody tr th:only-of-type {\n",
       "        vertical-align: middle;\n",
       "    }\n",
       "\n",
       "    .dataframe tbody tr th {\n",
       "        vertical-align: top;\n",
       "    }\n",
       "\n",
       "    .dataframe thead th {\n",
       "        text-align: right;\n",
       "    }\n",
       "</style>\n",
       "<table border=\"1\" class=\"dataframe\">\n",
       "  <thead>\n",
       "    <tr style=\"text-align: right;\">\n",
       "      <th></th>\n",
       "      <th>count</th>\n",
       "      <th>mean</th>\n",
       "      <th>std</th>\n",
       "      <th>min</th>\n",
       "      <th>25%</th>\n",
       "      <th>50%</th>\n",
       "      <th>75%</th>\n",
       "      <th>max</th>\n",
       "    </tr>\n",
       "  </thead>\n",
       "  <tbody>\n",
       "    <tr>\n",
       "      <td>user_id</td>\n",
       "      <td>500.0</td>\n",
       "      <td>1249.500</td>\n",
       "      <td>144.481833</td>\n",
       "      <td>1000.0</td>\n",
       "      <td>1124.75</td>\n",
       "      <td>1249.5</td>\n",
       "      <td>1374.25</td>\n",
       "      <td>1499.0</td>\n",
       "    </tr>\n",
       "    <tr>\n",
       "      <td>age</td>\n",
       "      <td>500.0</td>\n",
       "      <td>46.588</td>\n",
       "      <td>16.667630</td>\n",
       "      <td>18.0</td>\n",
       "      <td>32.00</td>\n",
       "      <td>46.0</td>\n",
       "      <td>62.00</td>\n",
       "      <td>75.0</td>\n",
       "    </tr>\n",
       "  </tbody>\n",
       "</table>\n",
       "</div>"
      ],
      "text/plain": [
       "         count      mean         std     min      25%     50%      75%     max\n",
       "user_id  500.0  1249.500  144.481833  1000.0  1124.75  1249.5  1374.25  1499.0\n",
       "age      500.0    46.588   16.667630    18.0    32.00    46.0    62.00    75.0"
      ]
     },
     "execution_count": 12,
     "metadata": {},
     "output_type": "execute_result"
    }
   ],
   "source": [
    "users.describe().T"
   ]
  },
  {
   "cell_type": "markdown",
   "metadata": {},
   "source": [
    "<div class=\"alert alert-success\">\n",
    "<b>Комментарий ревьюера:</b>\n",
    "\n",
    "Согласен, идем дальше.\n",
    "</div>"
   ]
  },
  {
   "cell_type": "markdown",
   "metadata": {},
   "source": [
    "**Таблицы `internet`, `messages`, `tariffs`**"
   ]
  },
  {
   "cell_type": "markdown",
   "metadata": {},
   "source": [
    "* По таблице **internet** необходимо:  \n",
    "    * заменить типы данных для столбца `session_date` на **datetime**  "
   ]
  },
  {
   "cell_type": "code",
   "execution_count": 13,
   "metadata": {},
   "outputs": [],
   "source": [
    "internet['session_date'] = pd.to_datetime(internet['session_date'], format='%Y-%m-%d')"
   ]
  },
  {
   "cell_type": "code",
   "execution_count": 14,
   "metadata": {},
   "outputs": [
    {
     "name": "stdout",
     "output_type": "stream",
     "text": [
      "<class 'pandas.core.frame.DataFrame'>\n",
      "Int64Index: 149396 entries, 0 to 149395\n",
      "Data columns (total 3 columns):\n",
      "mb_used         149396 non-null float64\n",
      "session_date    149396 non-null datetime64[ns]\n",
      "user_id         149396 non-null int64\n",
      "dtypes: datetime64[ns](1), float64(1), int64(1)\n",
      "memory usage: 4.6 MB\n"
     ]
    }
   ],
   "source": [
    "internet.info()"
   ]
  },
  {
   "cell_type": "code",
   "execution_count": 15,
   "metadata": {},
   "outputs": [
    {
     "data": {
      "text/html": [
       "<div>\n",
       "<style scoped>\n",
       "    .dataframe tbody tr th:only-of-type {\n",
       "        vertical-align: middle;\n",
       "    }\n",
       "\n",
       "    .dataframe tbody tr th {\n",
       "        vertical-align: top;\n",
       "    }\n",
       "\n",
       "    .dataframe thead th {\n",
       "        text-align: right;\n",
       "    }\n",
       "</style>\n",
       "<table border=\"1\" class=\"dataframe\">\n",
       "  <thead>\n",
       "    <tr style=\"text-align: right;\">\n",
       "      <th></th>\n",
       "      <th>count</th>\n",
       "      <th>mean</th>\n",
       "      <th>std</th>\n",
       "      <th>min</th>\n",
       "      <th>25%</th>\n",
       "      <th>50%</th>\n",
       "      <th>75%</th>\n",
       "      <th>max</th>\n",
       "    </tr>\n",
       "  </thead>\n",
       "  <tbody>\n",
       "    <tr>\n",
       "      <td>mb_used</td>\n",
       "      <td>149396.0</td>\n",
       "      <td>370.192426</td>\n",
       "      <td>278.300951</td>\n",
       "      <td>0.0</td>\n",
       "      <td>138.1875</td>\n",
       "      <td>348.015</td>\n",
       "      <td>559.5525</td>\n",
       "      <td>1724.83</td>\n",
       "    </tr>\n",
       "    <tr>\n",
       "      <td>user_id</td>\n",
       "      <td>149396.0</td>\n",
       "      <td>1252.099842</td>\n",
       "      <td>144.050823</td>\n",
       "      <td>1000.0</td>\n",
       "      <td>1130.0000</td>\n",
       "      <td>1251.000</td>\n",
       "      <td>1380.0000</td>\n",
       "      <td>1499.00</td>\n",
       "    </tr>\n",
       "  </tbody>\n",
       "</table>\n",
       "</div>"
      ],
      "text/plain": [
       "            count         mean         std     min        25%       50%  \\\n",
       "mb_used  149396.0   370.192426  278.300951     0.0   138.1875   348.015   \n",
       "user_id  149396.0  1252.099842  144.050823  1000.0  1130.0000  1251.000   \n",
       "\n",
       "               75%      max  \n",
       "mb_used   559.5525  1724.83  \n",
       "user_id  1380.0000  1499.00  "
      ]
     },
     "execution_count": 15,
     "metadata": {},
     "output_type": "execute_result"
    }
   ],
   "source": [
    "internet.describe().T"
   ]
  },
  {
   "cell_type": "markdown",
   "metadata": {},
   "source": [
    "* По таблице **messages** необходимо:  \n",
    "    * заменить типы данных для столбца `message_date` на **datetime**  "
   ]
  },
  {
   "cell_type": "code",
   "execution_count": 16,
   "metadata": {},
   "outputs": [],
   "source": [
    "messages['message_date'] = pd.to_datetime(messages['message_date'], format='%Y-%m-%d')"
   ]
  },
  {
   "cell_type": "code",
   "execution_count": 17,
   "metadata": {},
   "outputs": [
    {
     "data": {
      "text/html": [
       "<div>\n",
       "<style scoped>\n",
       "    .dataframe tbody tr th:only-of-type {\n",
       "        vertical-align: middle;\n",
       "    }\n",
       "\n",
       "    .dataframe tbody tr th {\n",
       "        vertical-align: top;\n",
       "    }\n",
       "\n",
       "    .dataframe thead th {\n",
       "        text-align: right;\n",
       "    }\n",
       "</style>\n",
       "<table border=\"1\" class=\"dataframe\">\n",
       "  <thead>\n",
       "    <tr style=\"text-align: right;\">\n",
       "      <th></th>\n",
       "      <th>id</th>\n",
       "      <th>message_date</th>\n",
       "      <th>user_id</th>\n",
       "    </tr>\n",
       "  </thead>\n",
       "  <tbody>\n",
       "    <tr>\n",
       "      <td>0</td>\n",
       "      <td>1000_0</td>\n",
       "      <td>2018-06-27</td>\n",
       "      <td>1000</td>\n",
       "    </tr>\n",
       "    <tr>\n",
       "      <td>1</td>\n",
       "      <td>1000_1</td>\n",
       "      <td>2018-10-08</td>\n",
       "      <td>1000</td>\n",
       "    </tr>\n",
       "    <tr>\n",
       "      <td>2</td>\n",
       "      <td>1000_2</td>\n",
       "      <td>2018-08-04</td>\n",
       "      <td>1000</td>\n",
       "    </tr>\n",
       "  </tbody>\n",
       "</table>\n",
       "</div>"
      ],
      "text/plain": [
       "       id message_date  user_id\n",
       "0  1000_0   2018-06-27     1000\n",
       "1  1000_1   2018-10-08     1000\n",
       "2  1000_2   2018-08-04     1000"
      ]
     },
     "execution_count": 17,
     "metadata": {},
     "output_type": "execute_result"
    }
   ],
   "source": [
    "messages.head(3)"
   ]
  },
  {
   "cell_type": "code",
   "execution_count": 18,
   "metadata": {},
   "outputs": [
    {
     "name": "stdout",
     "output_type": "stream",
     "text": [
      "<class 'pandas.core.frame.DataFrame'>\n",
      "RangeIndex: 123036 entries, 0 to 123035\n",
      "Data columns (total 3 columns):\n",
      "id              123036 non-null object\n",
      "message_date    123036 non-null datetime64[ns]\n",
      "user_id         123036 non-null int64\n",
      "dtypes: datetime64[ns](1), int64(1), object(1)\n",
      "memory usage: 2.8+ MB\n"
     ]
    }
   ],
   "source": [
    "messages.info()"
   ]
  },
  {
   "cell_type": "code",
   "execution_count": 19,
   "metadata": {},
   "outputs": [
    {
     "data": {
      "text/html": [
       "<div>\n",
       "<style scoped>\n",
       "    .dataframe tbody tr th:only-of-type {\n",
       "        vertical-align: middle;\n",
       "    }\n",
       "\n",
       "    .dataframe tbody tr th {\n",
       "        vertical-align: top;\n",
       "    }\n",
       "\n",
       "    .dataframe thead th {\n",
       "        text-align: right;\n",
       "    }\n",
       "</style>\n",
       "<table border=\"1\" class=\"dataframe\">\n",
       "  <thead>\n",
       "    <tr style=\"text-align: right;\">\n",
       "      <th></th>\n",
       "      <th>count</th>\n",
       "      <th>mean</th>\n",
       "      <th>std</th>\n",
       "      <th>min</th>\n",
       "      <th>25%</th>\n",
       "      <th>50%</th>\n",
       "      <th>75%</th>\n",
       "      <th>max</th>\n",
       "    </tr>\n",
       "  </thead>\n",
       "  <tbody>\n",
       "    <tr>\n",
       "      <td>user_id</td>\n",
       "      <td>123036.0</td>\n",
       "      <td>1256.98941</td>\n",
       "      <td>143.523967</td>\n",
       "      <td>1000.0</td>\n",
       "      <td>1134.0</td>\n",
       "      <td>1271.0</td>\n",
       "      <td>1381.0</td>\n",
       "      <td>1499.0</td>\n",
       "    </tr>\n",
       "  </tbody>\n",
       "</table>\n",
       "</div>"
      ],
      "text/plain": [
       "            count        mean         std     min     25%     50%     75%  \\\n",
       "user_id  123036.0  1256.98941  143.523967  1000.0  1134.0  1271.0  1381.0   \n",
       "\n",
       "            max  \n",
       "user_id  1499.0  "
      ]
     },
     "execution_count": 19,
     "metadata": {},
     "output_type": "execute_result"
    }
   ],
   "source": [
    "messages.describe().T"
   ]
  },
  {
   "cell_type": "markdown",
   "metadata": {},
   "source": [
    "* По таблице **calls** необходимо:  \n",
    "    * заменить типы данных для столбца `call_date` на **datetime**  \n",
    "    * звонки со значением **duration** - пропущенные и ошибкой не являются\n",
    "    * из условия, Мегалайн **всегда** округляет время **каждого** звонка до минут, каждый звонок отдельно => нам нужно округлить значениыя в поле **duration**, а ещё лучше перевести колонку к целочисленному типу"
   ]
  },
  {
   "cell_type": "code",
   "execution_count": 20,
   "metadata": {},
   "outputs": [],
   "source": [
    "calls['call_date'] = pd.to_datetime(calls['call_date'], format ='%Y-%m-%d')"
   ]
  },
  {
   "cell_type": "markdown",
   "metadata": {},
   "source": [
    "<div class=\"alert alert-success\">\n",
    "<b>Комментарий ревьюера:</b>\n",
    "\n",
    "С изменением типов данных согласен.\n",
    "</div>"
   ]
  },
  {
   "cell_type": "markdown",
   "metadata": {},
   "source": [
    "`round` нам здесь не подойдет поскольку даже 1 секунда разговора это уже 1 минута тарификации"
   ]
  },
  {
   "cell_type": "markdown",
   "metadata": {},
   "source": [
    "**Проверка:**\n",
    "\n",
    "Важно, чтобы `np.ceil` не перевел 0 в 1 (если в данных будут нулевые звонки это катастрофически исказит результат)"
   ]
  },
  {
   "cell_type": "code",
   "execution_count": 21,
   "metadata": {},
   "outputs": [
    {
     "data": {
      "text/html": [
       "<div>\n",
       "<style scoped>\n",
       "    .dataframe tbody tr th:only-of-type {\n",
       "        vertical-align: middle;\n",
       "    }\n",
       "\n",
       "    .dataframe tbody tr th {\n",
       "        vertical-align: top;\n",
       "    }\n",
       "\n",
       "    .dataframe thead th {\n",
       "        text-align: right;\n",
       "    }\n",
       "</style>\n",
       "<table border=\"1\" class=\"dataframe\">\n",
       "  <thead>\n",
       "    <tr style=\"text-align: right;\">\n",
       "      <th></th>\n",
       "      <th>abc</th>\n",
       "    </tr>\n",
       "  </thead>\n",
       "  <tbody>\n",
       "    <tr>\n",
       "      <td>0</td>\n",
       "      <td>0</td>\n",
       "    </tr>\n",
       "    <tr>\n",
       "      <td>1</td>\n",
       "      <td>1</td>\n",
       "    </tr>\n",
       "  </tbody>\n",
       "</table>\n",
       "</div>"
      ],
      "text/plain": [
       "   abc\n",
       "0    0\n",
       "1    1"
      ]
     },
     "execution_count": 21,
     "metadata": {},
     "output_type": "execute_result"
    }
   ],
   "source": [
    "test =  pd.DataFrame({\n",
    "   'abc': [0, 0.1]})\n",
    "\n",
    "test['abc'] = test['abc'].apply(np.ceil).astype(np.int64)\n",
    "test"
   ]
  },
  {
   "cell_type": "markdown",
   "metadata": {},
   "source": [
    "Все нормально, идём дальше."
   ]
  },
  {
   "cell_type": "markdown",
   "metadata": {},
   "source": [
    "<div class=\"alert alert-success\">\n",
    "<b>Комментарий ревьюера:</b>\n",
    "\n",
    "Молодец, что проверяешь себя.\n",
    "</div>"
   ]
  },
  {
   "cell_type": "code",
   "execution_count": 22,
   "metadata": {},
   "outputs": [],
   "source": [
    "calls['duration'] = calls['duration'].apply(np.ceil).astype(np.int64)"
   ]
  },
  {
   "cell_type": "code",
   "execution_count": 23,
   "metadata": {},
   "outputs": [
    {
     "name": "stdout",
     "output_type": "stream",
     "text": [
      "<class 'pandas.core.frame.DataFrame'>\n",
      "RangeIndex: 202607 entries, 0 to 202606\n",
      "Data columns (total 4 columns):\n",
      "id           202607 non-null object\n",
      "call_date    202607 non-null datetime64[ns]\n",
      "duration     202607 non-null int64\n",
      "user_id      202607 non-null int64\n",
      "dtypes: datetime64[ns](1), int64(2), object(1)\n",
      "memory usage: 6.2+ MB\n"
     ]
    }
   ],
   "source": [
    "calls.info()"
   ]
  },
  {
   "cell_type": "code",
   "execution_count": 24,
   "metadata": {},
   "outputs": [
    {
     "data": {
      "text/html": [
       "<div>\n",
       "<style scoped>\n",
       "    .dataframe tbody tr th:only-of-type {\n",
       "        vertical-align: middle;\n",
       "    }\n",
       "\n",
       "    .dataframe tbody tr th {\n",
       "        vertical-align: top;\n",
       "    }\n",
       "\n",
       "    .dataframe thead th {\n",
       "        text-align: right;\n",
       "    }\n",
       "</style>\n",
       "<table border=\"1\" class=\"dataframe\">\n",
       "  <thead>\n",
       "    <tr style=\"text-align: right;\">\n",
       "      <th></th>\n",
       "      <th>id</th>\n",
       "      <th>call_date</th>\n",
       "      <th>duration</th>\n",
       "      <th>user_id</th>\n",
       "    </tr>\n",
       "  </thead>\n",
       "  <tbody>\n",
       "    <tr>\n",
       "      <td>0</td>\n",
       "      <td>1000_0</td>\n",
       "      <td>2018-07-25</td>\n",
       "      <td>0</td>\n",
       "      <td>1000</td>\n",
       "    </tr>\n",
       "    <tr>\n",
       "      <td>1</td>\n",
       "      <td>1000_1</td>\n",
       "      <td>2018-08-17</td>\n",
       "      <td>0</td>\n",
       "      <td>1000</td>\n",
       "    </tr>\n",
       "    <tr>\n",
       "      <td>2</td>\n",
       "      <td>1000_2</td>\n",
       "      <td>2018-06-11</td>\n",
       "      <td>3</td>\n",
       "      <td>1000</td>\n",
       "    </tr>\n",
       "    <tr>\n",
       "      <td>3</td>\n",
       "      <td>1000_3</td>\n",
       "      <td>2018-09-21</td>\n",
       "      <td>14</td>\n",
       "      <td>1000</td>\n",
       "    </tr>\n",
       "    <tr>\n",
       "      <td>4</td>\n",
       "      <td>1000_4</td>\n",
       "      <td>2018-12-15</td>\n",
       "      <td>6</td>\n",
       "      <td>1000</td>\n",
       "    </tr>\n",
       "  </tbody>\n",
       "</table>\n",
       "</div>"
      ],
      "text/plain": [
       "       id  call_date  duration  user_id\n",
       "0  1000_0 2018-07-25         0     1000\n",
       "1  1000_1 2018-08-17         0     1000\n",
       "2  1000_2 2018-06-11         3     1000\n",
       "3  1000_3 2018-09-21        14     1000\n",
       "4  1000_4 2018-12-15         6     1000"
      ]
     },
     "execution_count": 24,
     "metadata": {},
     "output_type": "execute_result"
    }
   ],
   "source": [
    "calls.head(5)"
   ]
  },
  {
   "cell_type": "code",
   "execution_count": 25,
   "metadata": {},
   "outputs": [
    {
     "data": {
      "text/html": [
       "<div>\n",
       "<style scoped>\n",
       "    .dataframe tbody tr th:only-of-type {\n",
       "        vertical-align: middle;\n",
       "    }\n",
       "\n",
       "    .dataframe tbody tr th {\n",
       "        vertical-align: top;\n",
       "    }\n",
       "\n",
       "    .dataframe thead th {\n",
       "        text-align: right;\n",
       "    }\n",
       "</style>\n",
       "<table border=\"1\" class=\"dataframe\">\n",
       "  <thead>\n",
       "    <tr style=\"text-align: right;\">\n",
       "      <th></th>\n",
       "      <th>count</th>\n",
       "      <th>mean</th>\n",
       "      <th>std</th>\n",
       "      <th>min</th>\n",
       "      <th>25%</th>\n",
       "      <th>50%</th>\n",
       "      <th>75%</th>\n",
       "      <th>max</th>\n",
       "    </tr>\n",
       "  </thead>\n",
       "  <tbody>\n",
       "    <tr>\n",
       "      <td>duration</td>\n",
       "      <td>202607.0</td>\n",
       "      <td>7.158198</td>\n",
       "      <td>5.959173</td>\n",
       "      <td>0.0</td>\n",
       "      <td>2.0</td>\n",
       "      <td>6.0</td>\n",
       "      <td>11.0</td>\n",
       "      <td>38.0</td>\n",
       "    </tr>\n",
       "    <tr>\n",
       "      <td>user_id</td>\n",
       "      <td>202607.0</td>\n",
       "      <td>1253.940619</td>\n",
       "      <td>144.722751</td>\n",
       "      <td>1000.0</td>\n",
       "      <td>1126.0</td>\n",
       "      <td>1260.0</td>\n",
       "      <td>1379.0</td>\n",
       "      <td>1499.0</td>\n",
       "    </tr>\n",
       "  </tbody>\n",
       "</table>\n",
       "</div>"
      ],
      "text/plain": [
       "             count         mean         std     min     25%     50%     75%  \\\n",
       "duration  202607.0     7.158198    5.959173     0.0     2.0     6.0    11.0   \n",
       "user_id   202607.0  1253.940619  144.722751  1000.0  1126.0  1260.0  1379.0   \n",
       "\n",
       "             max  \n",
       "duration    38.0  \n",
       "user_id   1499.0  "
      ]
     },
     "execution_count": 25,
     "metadata": {},
     "output_type": "execute_result"
    }
   ],
   "source": [
    "calls.describe().T"
   ]
  },
  {
   "cell_type": "code",
   "execution_count": 26,
   "metadata": {},
   "outputs": [
    {
     "data": {
      "text/plain": [
       "0        2018-06-27\n",
       "1        2018-10-08\n",
       "2        2018-08-04\n",
       "3        2018-06-16\n",
       "4        2018-12-05\n",
       "            ...    \n",
       "123031   2018-12-12\n",
       "123032   2018-09-28\n",
       "123033   2018-09-27\n",
       "123034   2018-11-15\n",
       "123035   2018-11-16\n",
       "Name: message_date, Length: 123036, dtype: datetime64[ns]"
      ]
     },
     "execution_count": 26,
     "metadata": {},
     "output_type": "execute_result"
    }
   ],
   "source": [
    "messages['message_date'] "
   ]
  },
  {
   "cell_type": "markdown",
   "metadata": {},
   "source": [
    "<div class=\"alert alert-success\">\n",
    "<b>Комментарий ревьюера:</b>\n",
    "\n",
    "С предобработкой согласен, отлично.\n",
    "</div>"
   ]
  },
  {
   "cell_type": "markdown",
   "metadata": {},
   "source": [
    "#### Этап II:\n",
    "Для каждого пользователя нужно рассчитать:\n",
    "* количество сделанных звонков и израсходованных минут разговора по месяцам;\n",
    "* количество отправленных сообщений по месяцам;\n",
    "* объем израсходованного интернет-трафика по месяцам;\n",
    "* помесячную выручку с каждого пользователя (вычтите бесплатный лимит из суммарного количества звонков, сообщений и интернет-трафика. остаток умножьте на значение из тарифного плана; прибавьте абонентскую плату, соответствующую тарифному плану)."
   ]
  },
  {
   "cell_type": "code",
   "execution_count": 27,
   "metadata": {},
   "outputs": [
    {
     "data": {
      "text/html": [
       "<div>\n",
       "<style scoped>\n",
       "    .dataframe tbody tr th:only-of-type {\n",
       "        vertical-align: middle;\n",
       "    }\n",
       "\n",
       "    .dataframe tbody tr th {\n",
       "        vertical-align: top;\n",
       "    }\n",
       "\n",
       "    .dataframe thead th {\n",
       "        text-align: right;\n",
       "    }\n",
       "</style>\n",
       "<table border=\"1\" class=\"dataframe\">\n",
       "  <thead>\n",
       "    <tr style=\"text-align: right;\">\n",
       "      <th></th>\n",
       "      <th>id</th>\n",
       "      <th>call_date</th>\n",
       "      <th>duration</th>\n",
       "      <th>user_id</th>\n",
       "    </tr>\n",
       "  </thead>\n",
       "  <tbody>\n",
       "    <tr>\n",
       "      <td>0</td>\n",
       "      <td>1000_0</td>\n",
       "      <td>2018-07-25</td>\n",
       "      <td>0</td>\n",
       "      <td>1000</td>\n",
       "    </tr>\n",
       "    <tr>\n",
       "      <td>1</td>\n",
       "      <td>1000_1</td>\n",
       "      <td>2018-08-17</td>\n",
       "      <td>0</td>\n",
       "      <td>1000</td>\n",
       "    </tr>\n",
       "    <tr>\n",
       "      <td>2</td>\n",
       "      <td>1000_2</td>\n",
       "      <td>2018-06-11</td>\n",
       "      <td>3</td>\n",
       "      <td>1000</td>\n",
       "    </tr>\n",
       "    <tr>\n",
       "      <td>3</td>\n",
       "      <td>1000_3</td>\n",
       "      <td>2018-09-21</td>\n",
       "      <td>14</td>\n",
       "      <td>1000</td>\n",
       "    </tr>\n",
       "    <tr>\n",
       "      <td>4</td>\n",
       "      <td>1000_4</td>\n",
       "      <td>2018-12-15</td>\n",
       "      <td>6</td>\n",
       "      <td>1000</td>\n",
       "    </tr>\n",
       "  </tbody>\n",
       "</table>\n",
       "</div>"
      ],
      "text/plain": [
       "       id  call_date  duration  user_id\n",
       "0  1000_0 2018-07-25         0     1000\n",
       "1  1000_1 2018-08-17         0     1000\n",
       "2  1000_2 2018-06-11         3     1000\n",
       "3  1000_3 2018-09-21        14     1000\n",
       "4  1000_4 2018-12-15         6     1000"
      ]
     },
     "execution_count": 27,
     "metadata": {},
     "output_type": "execute_result"
    }
   ],
   "source": [
    "calls.head(5)"
   ]
  },
  {
   "cell_type": "markdown",
   "metadata": {},
   "source": [
    "Далее нам нужно сделать таблицы с агрегациями по месяцам, для этого в каждой из таблиц **`internet`, `messages`, `tariffs`** заведем дополнительное поле с отчетным месяцем и сделаем необходимую группировку данных."
   ]
  },
  {
   "cell_type": "code",
   "execution_count": 28,
   "metadata": {},
   "outputs": [],
   "source": [
    "internet['session_mnth'] = internet['session_date'].to_numpy().astype('datetime64[M]')\n",
    "messages['message_mnth'] = messages['message_date'].to_numpy().astype('datetime64[M]')\n",
    "calls['call_mnth'] = calls['call_date'].to_numpy().astype('datetime64[M]')"
   ]
  },
  {
   "cell_type": "markdown",
   "metadata": {},
   "source": [
    "**Дополнительная проверка**  \n",
    "Также было бы полезным проверить, а действительно ли данные по пользователям соотносятся с таблицей действия тарифа в таблице **`users`**"
   ]
  },
  {
   "cell_type": "code",
   "execution_count": 29,
   "metadata": {},
   "outputs": [],
   "source": [
    "calls_day_usr = calls.merge(users, on = 'user_id', how = 'left')\n",
    "msg_day_usr = messages.merge(users, on = 'user_id', how = 'left')\n",
    "int_day_usr = internet.merge(users, on = 'user_id', how = 'left')"
   ]
  },
  {
   "cell_type": "markdown",
   "metadata": {},
   "source": [
    "Суть проверки - дата звонка/смс/трафика **позже** даты завершения исползовния тарифа или дата события **раньше** даты регистрации пользователя"
   ]
  },
  {
   "cell_type": "code",
   "execution_count": 30,
   "metadata": {},
   "outputs": [
    {
     "data": {
      "text/html": [
       "<div>\n",
       "<style scoped>\n",
       "    .dataframe tbody tr th:only-of-type {\n",
       "        vertical-align: middle;\n",
       "    }\n",
       "\n",
       "    .dataframe tbody tr th {\n",
       "        vertical-align: top;\n",
       "    }\n",
       "\n",
       "    .dataframe thead th {\n",
       "        text-align: right;\n",
       "    }\n",
       "</style>\n",
       "<table border=\"1\" class=\"dataframe\">\n",
       "  <thead>\n",
       "    <tr style=\"text-align: right;\">\n",
       "      <th></th>\n",
       "      <th>id</th>\n",
       "      <th>call_date</th>\n",
       "      <th>duration</th>\n",
       "      <th>user_id</th>\n",
       "      <th>call_mnth</th>\n",
       "      <th>age</th>\n",
       "      <th>churn_date</th>\n",
       "      <th>city</th>\n",
       "      <th>first_name</th>\n",
       "      <th>last_name</th>\n",
       "      <th>reg_date</th>\n",
       "      <th>tariff</th>\n",
       "    </tr>\n",
       "  </thead>\n",
       "  <tbody>\n",
       "  </tbody>\n",
       "</table>\n",
       "</div>"
      ],
      "text/plain": [
       "Empty DataFrame\n",
       "Columns: [id, call_date, duration, user_id, call_mnth, age, churn_date, city, first_name, last_name, reg_date, tariff]\n",
       "Index: []"
      ]
     },
     "execution_count": 30,
     "metadata": {},
     "output_type": "execute_result"
    }
   ],
   "source": [
    "calls_day_usr[(calls_day_usr['call_date'] > calls_day_usr['churn_date'])|(calls_day_usr['call_date'] < calls_day_usr['reg_date'])\\\n",
    "                    & (calls_day_usr['churn_date'].isna() == False)]"
   ]
  },
  {
   "cell_type": "markdown",
   "metadata": {},
   "source": [
    "<div class=\"alert alert-success\">\n",
    "<b>Комментарий ревьюера:</b>\n",
    "\n",
    "Супер, что делаешь такие проверки и удостоверяешься в корректности данных. Могу рекомендовать в конкретно этом случае пользоваться `query` запросами при множестве условий, например, вот так:\n",
    "    \n",
    "```python\n",
    "calls_day_usr.query('(call_date > churn_date or call_date < reg_date) and ~churn_date.isna()')\n",
    "```\n",
    "Запрос будет немного короче и легче читаем. Так же при множестве фильтров можно их выделять отдельным переменными и затем подставлять.\n",
    "</div>"
   ]
  },
  {
   "cell_type": "code",
   "execution_count": 31,
   "metadata": {},
   "outputs": [
    {
     "data": {
      "text/html": [
       "<div>\n",
       "<style scoped>\n",
       "    .dataframe tbody tr th:only-of-type {\n",
       "        vertical-align: middle;\n",
       "    }\n",
       "\n",
       "    .dataframe tbody tr th {\n",
       "        vertical-align: top;\n",
       "    }\n",
       "\n",
       "    .dataframe thead th {\n",
       "        text-align: right;\n",
       "    }\n",
       "</style>\n",
       "<table border=\"1\" class=\"dataframe\">\n",
       "  <thead>\n",
       "    <tr style=\"text-align: right;\">\n",
       "      <th></th>\n",
       "      <th>id</th>\n",
       "      <th>message_date</th>\n",
       "      <th>user_id</th>\n",
       "      <th>message_mnth</th>\n",
       "      <th>age</th>\n",
       "      <th>churn_date</th>\n",
       "      <th>city</th>\n",
       "      <th>first_name</th>\n",
       "      <th>last_name</th>\n",
       "      <th>reg_date</th>\n",
       "      <th>tariff</th>\n",
       "    </tr>\n",
       "  </thead>\n",
       "  <tbody>\n",
       "  </tbody>\n",
       "</table>\n",
       "</div>"
      ],
      "text/plain": [
       "Empty DataFrame\n",
       "Columns: [id, message_date, user_id, message_mnth, age, churn_date, city, first_name, last_name, reg_date, tariff]\n",
       "Index: []"
      ]
     },
     "execution_count": 31,
     "metadata": {},
     "output_type": "execute_result"
    }
   ],
   "source": [
    "msg_day_usr[(msg_day_usr['message_date'] > msg_day_usr['churn_date'])|(msg_day_usr['message_date'] < msg_day_usr['reg_date'])\\\n",
    "                    & (msg_day_usr['churn_date'].isna() == False)]"
   ]
  },
  {
   "cell_type": "code",
   "execution_count": 32,
   "metadata": {},
   "outputs": [
    {
     "data": {
      "text/html": [
       "<div>\n",
       "<style scoped>\n",
       "    .dataframe tbody tr th:only-of-type {\n",
       "        vertical-align: middle;\n",
       "    }\n",
       "\n",
       "    .dataframe tbody tr th {\n",
       "        vertical-align: top;\n",
       "    }\n",
       "\n",
       "    .dataframe thead th {\n",
       "        text-align: right;\n",
       "    }\n",
       "</style>\n",
       "<table border=\"1\" class=\"dataframe\">\n",
       "  <thead>\n",
       "    <tr style=\"text-align: right;\">\n",
       "      <th></th>\n",
       "      <th>mb_used</th>\n",
       "      <th>session_date</th>\n",
       "      <th>user_id</th>\n",
       "      <th>session_mnth</th>\n",
       "      <th>age</th>\n",
       "      <th>churn_date</th>\n",
       "      <th>city</th>\n",
       "      <th>first_name</th>\n",
       "      <th>last_name</th>\n",
       "      <th>reg_date</th>\n",
       "      <th>tariff</th>\n",
       "    </tr>\n",
       "  </thead>\n",
       "  <tbody>\n",
       "  </tbody>\n",
       "</table>\n",
       "</div>"
      ],
      "text/plain": [
       "Empty DataFrame\n",
       "Columns: [mb_used, session_date, user_id, session_mnth, age, churn_date, city, first_name, last_name, reg_date, tariff]\n",
       "Index: []"
      ]
     },
     "execution_count": 32,
     "metadata": {},
     "output_type": "execute_result"
    }
   ],
   "source": [
    "int_day_usr[(int_day_usr['session_date'] > int_day_usr['churn_date'])|(int_day_usr['session_date'] < int_day_usr['reg_date'])\\\n",
    "                    & (int_day_usr['session_date'].isna() == False)]"
   ]
  },
  {
   "cell_type": "markdown",
   "metadata": {},
   "source": [
    "<div class=\"alert alert-success\">\n",
    "<b>Комментарий ревьюера:</b>\n",
    "\n",
    "Так же если действия одобразны и повторяются несколько раз, то делай функцию и ее реализацию на все датафреймы в цикле. Приведу пример:\n",
    "    \n",
    "```python\n",
    "def check(param, data):\n",
    "    return len(data.query(f'({param} > churn_date or {param} < reg_date) and ~churn_date.isna()'))\n",
    "        \n",
    "for dataset, param in zip([calls_day_usr, msg_day_usr, int_day_usr], ['call_date', 'message_date', 'session_date']):\n",
    "    print(check(param, dataset))\n",
    "```\n",
    "</div>"
   ]
  },
  {
   "cell_type": "markdown",
   "metadata": {},
   "source": [
    "<div class=\"alert alert-info\"> <b>Комментарий студента:</b> Это действительно очень полезный пример, спасибо.</div>"
   ]
  },
  {
   "cell_type": "markdown",
   "metadata": {},
   "source": [
    "Теперь сама группировка по юзерам, лишние ИД (например ИД звонка или ИД сессии) - выкидываем.  \n",
    "Данные сохраняем в новые таблицы."
   ]
  },
  {
   "cell_type": "code",
   "execution_count": 33,
   "metadata": {},
   "outputs": [],
   "source": [
    "internet_mnth =  internet.groupby(['user_id', 'session_mnth'])['mb_used'].agg(sum_mb = 'sum').reset_index()\n",
    "messages_mnth = messages.groupby(['user_id', 'message_mnth'])['id'].agg(sum_sms = 'count').reset_index()\n",
    "calls_mnth = calls.groupby(['user_id', 'call_mnth'])['duration']\\\n",
    "                                          .agg(sum_duration = 'sum', cnt_call = 'count').reset_index()"
   ]
  },
  {
   "cell_type": "markdown",
   "metadata": {},
   "source": [
    "<div class=\"alert alert-success\">\n",
    "<b>Комментарий ревьюера:</b>\n",
    "\n",
    "Группировки корректны, реализация хорошая, молодец.\n",
    "</div>"
   ]
  },
  {
   "cell_type": "markdown",
   "metadata": {},
   "source": [
    "И тут снова есть нюанс, трафик юзера **всегда округляется до Гб в большую сторону** по результатам месяца.  \n",
    "Если абонент использует 1025 мегабайт в этом месяце, с него возьмут плату за 2 гигабайта.  \n",
    "Для удобства вынесу результат в отдельную колонку."
   ]
  },
  {
   "cell_type": "code",
   "execution_count": 34,
   "metadata": {},
   "outputs": [],
   "source": [
    "internet_mnth['sum_gb'] = (internet_mnth['sum_mb']/1024).apply(np.ceil).astype('int64')"
   ]
  },
  {
   "cell_type": "markdown",
   "metadata": {},
   "source": [
    "<div class=\"alert alert-success\">\n",
    "<b>Комментарий ревьюера:</b>\n",
    "\n",
    "С округлением согласен.\n",
    "</div>"
   ]
  },
  {
   "cell_type": "markdown",
   "metadata": {},
   "source": [
    "**Помесячная выручка с каждого пользователя**  \n",
    "Проще всего посчиать выручку объеденив все данные в один датафрейм, наиболее оптимальное решение:\n",
    "* взять справочник пользователей **users**\n",
    "* сделать декартово произведение со всеми месяцами 2018 года (таким образом мы гарантированно ничего не потеряем и не ошибемся)\n",
    "* по связке `ID пользователя` + `месяц` поочередно привязать таблицы с трафиком, смс и звонками к полученной выше таблице"
   ]
  },
  {
   "cell_type": "markdown",
   "metadata": {},
   "source": [
    "Справочник с датами возьмем из любой нашей таблицы с агрегацией по месяцам:"
   ]
  },
  {
   "cell_type": "code",
   "execution_count": 35,
   "metadata": {},
   "outputs": [],
   "source": [
    "mnths = messages['message_mnth'].drop_duplicates().to_frame().reset_index(drop = True)"
   ]
  },
  {
   "cell_type": "markdown",
   "metadata": {},
   "source": [
    "**Далее декартово произведение для заготовки большой мастер-таблицы:**  \n",
    "***Примечание***  \n",
    "Оказалочь, что на хабе не работает **cross join**, а ведь он мог отработать без указания ключа в блоке *on = ''*"
   ]
  },
  {
   "cell_type": "code",
   "execution_count": 36,
   "metadata": {},
   "outputs": [],
   "source": [
    "mnths['tj'] = 1\n",
    "users['tj'] = 1"
   ]
  },
  {
   "cell_type": "code",
   "execution_count": 37,
   "metadata": {},
   "outputs": [],
   "source": [
    "master_tbl = users.merge(mnths, on = 'tj',how = 'outer').drop('tj', 1)\n",
    "master_tbl = master_tbl.rename({'message_mnth': 'mnth'}, axis='columns')"
   ]
  },
  {
   "cell_type": "markdown",
   "metadata": {},
   "source": [
    "*Проверка:*\n",
    "Число пользователей * 12 = 6 000 такой же размер у нового массива **master_tbl**"
   ]
  },
  {
   "cell_type": "code",
   "execution_count": 38,
   "metadata": {},
   "outputs": [
    {
     "name": "stdout",
     "output_type": "stream",
     "text": [
      "6000 6000\n"
     ]
    }
   ],
   "source": [
    "print(len(users) * 12, len(master_tbl))"
   ]
  },
  {
   "cell_type": "markdown",
   "metadata": {},
   "source": [
    "Собираем мастер-таблицу:"
   ]
  },
  {
   "cell_type": "code",
   "execution_count": 39,
   "metadata": {},
   "outputs": [],
   "source": [
    "master_tbl = master_tbl.merge(internet_mnth, left_on = ['mnth','user_id'],\\\n",
    "                                            right_on = ['session_mnth','user_id'], how  = 'left')\n",
    "master_tbl = master_tbl.merge(messages_mnth, left_on = ['mnth','user_id'],\n",
    "                                            right_on = ['message_mnth','user_id'] , how = 'left')\n",
    "master_tbl = master_tbl.merge(calls_mnth, left_on = ['mnth','user_id'],\n",
    "                                        right_on = ['call_mnth','user_id'] , how = 'left')\n",
    "master_tbl = master_tbl.merge(tariffs,  left_on = ['tariff'], right_on = ['tariff_name'] , how = 'left')"
   ]
  },
  {
   "cell_type": "markdown",
   "metadata": {},
   "source": [
    "<div class=\"alert alert-success\">\n",
    "<b>Комментарий ревьюера:</b>\n",
    "\n",
    "Реализация отличная и с точки зрения кода все хорошо. Только можно наверно сделать чуть проще, возьми себе на вооружение такой вариант. Чтобы данные не терялись есть разные виды соединений, например, при `merge` конкретно для этой задачи можно использовать `outer` при соединениях трафика, а потом к ним подсоединить `users`. Другой вариант, использовать `concat`. Там вообще не надо париться на счет типа соединения, ставишь `user_id` и `month` в индексы в каждом датасете и прописываешь массивом в `concat` - точно ничего не потеряется.\n",
    "</div>"
   ]
  },
  {
   "cell_type": "markdown",
   "metadata": {},
   "source": [
    "<div class=\"alert alert-info\"> <b>Комментарий студента:</b> Привычка пришедшая из SQL.</div>"
   ]
  },
  {
   "cell_type": "markdown",
   "metadata": {},
   "source": [
    "Удаляем лишние столбцы:"
   ]
  },
  {
   "cell_type": "code",
   "execution_count": 40,
   "metadata": {},
   "outputs": [],
   "source": [
    "master_tbl = master_tbl.drop(['session_mnth','call_mnth','message_mnth','tariff_name'], 1)"
   ]
  },
  {
   "cell_type": "code",
   "execution_count": 41,
   "metadata": {},
   "outputs": [
    {
     "data": {
      "text/html": [
       "<div>\n",
       "<style scoped>\n",
       "    .dataframe tbody tr th:only-of-type {\n",
       "        vertical-align: middle;\n",
       "    }\n",
       "\n",
       "    .dataframe tbody tr th {\n",
       "        vertical-align: top;\n",
       "    }\n",
       "\n",
       "    .dataframe thead th {\n",
       "        text-align: right;\n",
       "    }\n",
       "</style>\n",
       "<table border=\"1\" class=\"dataframe\">\n",
       "  <thead>\n",
       "    <tr style=\"text-align: right;\">\n",
       "      <th></th>\n",
       "      <th>user_id</th>\n",
       "      <th>age</th>\n",
       "      <th>churn_date</th>\n",
       "      <th>city</th>\n",
       "      <th>first_name</th>\n",
       "      <th>last_name</th>\n",
       "      <th>reg_date</th>\n",
       "      <th>tariff</th>\n",
       "      <th>mnth</th>\n",
       "      <th>sum_mb</th>\n",
       "      <th>...</th>\n",
       "      <th>sum_sms</th>\n",
       "      <th>sum_duration</th>\n",
       "      <th>cnt_call</th>\n",
       "      <th>messages_included</th>\n",
       "      <th>mb_per_month_included</th>\n",
       "      <th>minutes_included</th>\n",
       "      <th>rub_monthly_fee</th>\n",
       "      <th>rub_per_gb</th>\n",
       "      <th>rub_per_message</th>\n",
       "      <th>rub_per_minute</th>\n",
       "    </tr>\n",
       "  </thead>\n",
       "  <tbody>\n",
       "    <tr>\n",
       "      <td>0</td>\n",
       "      <td>1000</td>\n",
       "      <td>52</td>\n",
       "      <td>NaT</td>\n",
       "      <td>Краснодар</td>\n",
       "      <td>Рафаил</td>\n",
       "      <td>Верещагин</td>\n",
       "      <td>2018-05-25</td>\n",
       "      <td>ultra</td>\n",
       "      <td>2018-06-01</td>\n",
       "      <td>23233.77</td>\n",
       "      <td>...</td>\n",
       "      <td>60.0</td>\n",
       "      <td>172.0</td>\n",
       "      <td>43.0</td>\n",
       "      <td>1000</td>\n",
       "      <td>30720</td>\n",
       "      <td>3000</td>\n",
       "      <td>1950</td>\n",
       "      <td>150</td>\n",
       "      <td>1</td>\n",
       "      <td>1</td>\n",
       "    </tr>\n",
       "    <tr>\n",
       "      <td>1</td>\n",
       "      <td>1000</td>\n",
       "      <td>52</td>\n",
       "      <td>NaT</td>\n",
       "      <td>Краснодар</td>\n",
       "      <td>Рафаил</td>\n",
       "      <td>Верещагин</td>\n",
       "      <td>2018-05-25</td>\n",
       "      <td>ultra</td>\n",
       "      <td>2018-10-01</td>\n",
       "      <td>14702.49</td>\n",
       "      <td>...</td>\n",
       "      <td>73.0</td>\n",
       "      <td>350.0</td>\n",
       "      <td>57.0</td>\n",
       "      <td>1000</td>\n",
       "      <td>30720</td>\n",
       "      <td>3000</td>\n",
       "      <td>1950</td>\n",
       "      <td>150</td>\n",
       "      <td>1</td>\n",
       "      <td>1</td>\n",
       "    </tr>\n",
       "    <tr>\n",
       "      <td>2</td>\n",
       "      <td>1000</td>\n",
       "      <td>52</td>\n",
       "      <td>NaT</td>\n",
       "      <td>Краснодар</td>\n",
       "      <td>Рафаил</td>\n",
       "      <td>Верещагин</td>\n",
       "      <td>2018-05-25</td>\n",
       "      <td>ultra</td>\n",
       "      <td>2018-08-01</td>\n",
       "      <td>14055.93</td>\n",
       "      <td>...</td>\n",
       "      <td>81.0</td>\n",
       "      <td>408.0</td>\n",
       "      <td>52.0</td>\n",
       "      <td>1000</td>\n",
       "      <td>30720</td>\n",
       "      <td>3000</td>\n",
       "      <td>1950</td>\n",
       "      <td>150</td>\n",
       "      <td>1</td>\n",
       "      <td>1</td>\n",
       "    </tr>\n",
       "  </tbody>\n",
       "</table>\n",
       "<p>3 rows × 21 columns</p>\n",
       "</div>"
      ],
      "text/plain": [
       "   user_id  age churn_date       city first_name  last_name   reg_date tariff  \\\n",
       "0     1000   52        NaT  Краснодар     Рафаил  Верещагин 2018-05-25  ultra   \n",
       "1     1000   52        NaT  Краснодар     Рафаил  Верещагин 2018-05-25  ultra   \n",
       "2     1000   52        NaT  Краснодар     Рафаил  Верещагин 2018-05-25  ultra   \n",
       "\n",
       "        mnth    sum_mb  ...  sum_sms  sum_duration  cnt_call  \\\n",
       "0 2018-06-01  23233.77  ...     60.0         172.0      43.0   \n",
       "1 2018-10-01  14702.49  ...     73.0         350.0      57.0   \n",
       "2 2018-08-01  14055.93  ...     81.0         408.0      52.0   \n",
       "\n",
       "   messages_included  mb_per_month_included  minutes_included  \\\n",
       "0               1000                  30720              3000   \n",
       "1               1000                  30720              3000   \n",
       "2               1000                  30720              3000   \n",
       "\n",
       "   rub_monthly_fee  rub_per_gb  rub_per_message  rub_per_minute  \n",
       "0             1950         150                1               1  \n",
       "1             1950         150                1               1  \n",
       "2             1950         150                1               1  \n",
       "\n",
       "[3 rows x 21 columns]"
      ]
     },
     "execution_count": 41,
     "metadata": {},
     "output_type": "execute_result"
    }
   ],
   "source": [
    "master_tbl.head(3)"
   ]
  },
  {
   "cell_type": "markdown",
   "metadata": {},
   "source": [
    "Важно не забыть, что если пользователь использовал трафика-смс-минут меньше, чем в его тарифном плане вычитать стоимость недоиспользованных услуг из тарифного плана не нужно (по крайне мере эта опция не оговарена в условии)"
   ]
  },
  {
   "cell_type": "code",
   "execution_count": 42,
   "metadata": {},
   "outputs": [],
   "source": [
    "master_tbl['income'] = master_tbl['rub_monthly_fee'] +\\\n",
    "       np.where(master_tbl['sum_duration'] - master_tbl['minutes_included'] > 0,\\\n",
    "               (master_tbl['sum_duration'] - master_tbl['minutes_included'])*master_tbl['rub_per_minute'], 0) +\\\n",
    "       np.where(master_tbl['sum_sms'] - master_tbl['messages_included'] > 0,\\\n",
    "               (master_tbl['sum_sms'] - master_tbl['messages_included'])*master_tbl['rub_per_message'], 0) +\\\n",
    "       np.where(master_tbl['sum_gb'] - master_tbl['mb_per_month_included']/1024 > 0,\\\n",
    "               (master_tbl['sum_gb'] - master_tbl['mb_per_month_included']/1024)*master_tbl['rub_per_gb'], 0)"
   ]
  },
  {
   "cell_type": "markdown",
   "metadata": {},
   "source": [
    "<div class=\"alert alert-success\">\n",
    "<b>Комментарий ревьюера:</b>\n",
    "\n",
    "Отлично, вроде ничего не забыл.\n",
    "</div>"
   ]
  },
  {
   "cell_type": "markdown",
   "metadata": {},
   "source": [
    "**Выводы:**\n",
    "* заменили типы переменных на **datetime**, где это было необходимо\n",
    "* округлили звонки до минут в большую сторону\n",
    "* произвели помесячную агрегацию по трафику, числу смс, количеству и продолжительности звонков\n",
    "* сделали дополнительную проверку на корректностность данных о активности пользователя и датами активности тарифа\n",
    "* округлили показатель трафика за месяц до Гб в большую сторону\n",
    "* сделали общую мастер-таблицу для дальнейших расчётов в которой каждая строка - месяц 2018 года с активностью каждого пользователя по голосовым вызовам, трафику и смс"
   ]
  },
  {
   "cell_type": "markdown",
   "metadata": {},
   "source": [
    "### Шаг 3. Анализ данных\n",
    "\n",
    "* Опиcать поведение клиентов оператора, исходя из выборки. \n",
    "* Сколько минут разговора, сколько сообщений и какой объём интернет-трафика требуется пользователям каждого тарифа в месяц? \n",
    "* Посчитать среднее количество, дисперсию и стандартное отклонение. \n",
    "* Построить гистограммы. Описать распределения.  \n",
    "\n",
    "У нас есть два тарифа и мы должны вывести пул показателей по ним, мне кажется, что было бы здорово предстваить эти данные в виде таблицы.  \n",
    "Поскольку, по условию кейса мы - аналитик компании, анализировать будет уже итоговые, округленные данные по звонкам и трафику."
   ]
  },
  {
   "cell_type": "code",
   "execution_count": 43,
   "metadata": {},
   "outputs": [],
   "source": [
    "tariff_mean =  pd.DataFrame({\n",
    "   'Tariff': ['ultra','smart'],\n",
    "   'avg_options': ['-----','-----'],\n",
    "   'call_duration': [master_tbl[master_tbl['tariff'] == 'ultra']['sum_duration'].mean(),master_tbl[master_tbl['tariff'] == 'smart']['sum_duration'].mean()],\n",
    "   'sum_gb': [master_tbl[master_tbl['tariff'] == 'ultra']['sum_gb'].mean(),master_tbl[master_tbl['tariff'] == 'smart']['sum_gb'].mean()],\n",
    "   'sum_sms': [master_tbl[master_tbl['tariff'] == 'ultra']['sum_sms'].mean(),master_tbl[master_tbl['tariff'] == 'smart']['sum_sms'].mean()],\n",
    "   'var_options': ['-----','-----'],\n",
    "   'var_call_duration': [master_tbl[master_tbl['tariff'] == 'ultra']['sum_duration'].var(),master_tbl[master_tbl['tariff'] == 'smart']['sum_duration'].var()],\n",
    "   'var_sum_gb': [master_tbl[master_tbl['tariff'] == 'ultra']['sum_gb'].var(),master_tbl[master_tbl['tariff'] == 'smart']['sum_gb'].var()],\n",
    "   'var_sum_sms': [master_tbl[master_tbl['tariff'] == 'ultra']['sum_sms'].var(),master_tbl[master_tbl['tariff'] == 'smart']['sum_sms'].var()],\n",
    "   'std_options': ['-----','-----'],\n",
    "   'std_call_duration': [master_tbl[master_tbl['tariff'] == 'ultra']['sum_duration'].std(),master_tbl[master_tbl['tariff'] == 'smart']['sum_duration'].std()],\n",
    "   'std_sum_gb': [master_tbl[master_tbl['tariff'] == 'ultra']['sum_gb'].std(),master_tbl[master_tbl['tariff'] == 'smart']['sum_gb'].std()],\n",
    "   'std_sum_sms': [master_tbl[master_tbl['tariff'] == 'ultra']['sum_sms'].std(), master_tbl[master_tbl['tariff'] == 'smart']['sum_sms'].std()]\n",
    "})"
   ]
  },
  {
   "cell_type": "markdown",
   "metadata": {},
   "source": [
    "<div class=\"alert alert-success\">\n",
    "<b>Комментарий ревьюера:</b>\n",
    "\n",
    "Молодец, что заморочился на создание такой таблицы, но вручную это делать не совсем оптимально, делай группировку, например, вот так:\n",
    "    \n",
    "```python\n",
    "master_tbl.groupby('tariff')['cnt_call'\n",
    "                             , 'sum_duration'\n",
    "                             , 'sum_sms'\n",
    "                             , 'sum_gb'].agg([np.mean\n",
    "                                              , np.median\n",
    "                                              , np.var\n",
    "                                              , np.std]).T\n",
    "```\n",
    "</div>"
   ]
  },
  {
   "cell_type": "code",
   "execution_count": 44,
   "metadata": {},
   "outputs": [
    {
     "data": {
      "text/html": [
       "<div>\n",
       "<style scoped>\n",
       "    .dataframe tbody tr th:only-of-type {\n",
       "        vertical-align: middle;\n",
       "    }\n",
       "\n",
       "    .dataframe tbody tr th {\n",
       "        vertical-align: top;\n",
       "    }\n",
       "\n",
       "    .dataframe thead th {\n",
       "        text-align: right;\n",
       "    }\n",
       "</style>\n",
       "<table border=\"1\" class=\"dataframe\">\n",
       "  <thead>\n",
       "    <tr style=\"text-align: right;\">\n",
       "      <th>Tariff</th>\n",
       "      <th>ultra</th>\n",
       "      <th>smart</th>\n",
       "    </tr>\n",
       "  </thead>\n",
       "  <tbody>\n",
       "    <tr>\n",
       "      <td>avg_options</td>\n",
       "      <td>-----</td>\n",
       "      <td>-----</td>\n",
       "    </tr>\n",
       "    <tr>\n",
       "      <td>call_duration</td>\n",
       "      <td>545.451</td>\n",
       "      <td>419.063</td>\n",
       "    </tr>\n",
       "    <tr>\n",
       "      <td>sum_gb</td>\n",
       "      <td>19.6944</td>\n",
       "      <td>16.3362</td>\n",
       "    </tr>\n",
       "    <tr>\n",
       "      <td>sum_sms</td>\n",
       "      <td>61.161</td>\n",
       "      <td>38.7164</td>\n",
       "    </tr>\n",
       "    <tr>\n",
       "      <td>var_options</td>\n",
       "      <td>-----</td>\n",
       "      <td>-----</td>\n",
       "    </tr>\n",
       "    <tr>\n",
       "      <td>var_call_duration</td>\n",
       "      <td>94203.4</td>\n",
       "      <td>35844.2</td>\n",
       "    </tr>\n",
       "    <tr>\n",
       "      <td>var_sum_gb</td>\n",
       "      <td>94.1467</td>\n",
       "      <td>32.9238</td>\n",
       "    </tr>\n",
       "    <tr>\n",
       "      <td>var_sum_sms</td>\n",
       "      <td>2109.66</td>\n",
       "      <td>717.594</td>\n",
       "    </tr>\n",
       "    <tr>\n",
       "      <td>std_options</td>\n",
       "      <td>-----</td>\n",
       "      <td>-----</td>\n",
       "    </tr>\n",
       "    <tr>\n",
       "      <td>std_call_duration</td>\n",
       "      <td>306.926</td>\n",
       "      <td>189.326</td>\n",
       "    </tr>\n",
       "    <tr>\n",
       "      <td>std_sum_gb</td>\n",
       "      <td>9.70292</td>\n",
       "      <td>5.73792</td>\n",
       "    </tr>\n",
       "    <tr>\n",
       "      <td>std_sum_sms</td>\n",
       "      <td>45.931</td>\n",
       "      <td>26.7879</td>\n",
       "    </tr>\n",
       "  </tbody>\n",
       "</table>\n",
       "</div>"
      ],
      "text/plain": [
       "Tariff               ultra    smart\n",
       "avg_options          -----    -----\n",
       "call_duration      545.451  419.063\n",
       "sum_gb             19.6944  16.3362\n",
       "sum_sms             61.161  38.7164\n",
       "var_options          -----    -----\n",
       "var_call_duration  94203.4  35844.2\n",
       "var_sum_gb         94.1467  32.9238\n",
       "var_sum_sms        2109.66  717.594\n",
       "std_options          -----    -----\n",
       "std_call_duration  306.926  189.326\n",
       "std_sum_gb         9.70292  5.73792\n",
       "std_sum_sms         45.931  26.7879"
      ]
     },
     "execution_count": 44,
     "metadata": {},
     "output_type": "execute_result"
    }
   ],
   "source": [
    "tariff_mean.set_index('Tariff').T"
   ]
  },
  {
   "cell_type": "code",
   "execution_count": 45,
   "metadata": {},
   "outputs": [
    {
     "data": {
      "text/plain": [
       "'0.9.0'"
      ]
     },
     "execution_count": 45,
     "metadata": {},
     "output_type": "execute_result"
    }
   ],
   "source": [
    "sns.__version__"
   ]
  },
  {
   "cell_type": "code",
   "execution_count": 46,
   "metadata": {},
   "outputs": [
    {
     "data": {
      "image/png": "[encoded data removed]",
      "text/plain": [
       "<Figure size 605x540 with 12 Axes>"
      ]
     },
     "metadata": {
      "needs_background": "light"
     },
     "output_type": "display_data"
    }
   ],
   "source": [
    "sns.pairplot(master_tbl[['sum_duration','sum_gb','sum_sms','tariff']], hue = \"tariff\")\\\n",
    ".fig.suptitle(\"Графики распределений звонков, смс и трафика в зависимости от тарифа\", y = 1.08) \n",
    "plt.show()"
   ]
  },
  {
   "cell_type": "markdown",
   "metadata": {},
   "source": [
    "<div class=\"alert alert-success\">\n",
    "<b>Комментарий ревьюера:</b>\n",
    "\n",
    "Отличная визуализация, молодец. Особо информативны тут распределения параметров, остальное не очень.\n",
    "</div>"
   ]
  },
  {
   "cell_type": "code",
   "execution_count": 47,
   "metadata": {},
   "outputs": [
    {
     "data": {
      "text/html": [
       "<div>\n",
       "<style scoped>\n",
       "    .dataframe tbody tr th:only-of-type {\n",
       "        vertical-align: middle;\n",
       "    }\n",
       "\n",
       "    .dataframe tbody tr th {\n",
       "        vertical-align: top;\n",
       "    }\n",
       "\n",
       "    .dataframe thead th {\n",
       "        text-align: right;\n",
       "    }\n",
       "</style>\n",
       "<table border=\"1\" class=\"dataframe\">\n",
       "  <thead>\n",
       "    <tr style=\"text-align: right;\">\n",
       "      <th></th>\n",
       "      <th>messages_included</th>\n",
       "      <th>mb_per_month_included</th>\n",
       "      <th>minutes_included</th>\n",
       "      <th>rub_monthly_fee</th>\n",
       "      <th>rub_per_gb</th>\n",
       "      <th>rub_per_message</th>\n",
       "      <th>rub_per_minute</th>\n",
       "      <th>tariff_name</th>\n",
       "    </tr>\n",
       "  </thead>\n",
       "  <tbody>\n",
       "    <tr>\n",
       "      <td>0</td>\n",
       "      <td>50</td>\n",
       "      <td>15360</td>\n",
       "      <td>500</td>\n",
       "      <td>550</td>\n",
       "      <td>200</td>\n",
       "      <td>3</td>\n",
       "      <td>3</td>\n",
       "      <td>smart</td>\n",
       "    </tr>\n",
       "    <tr>\n",
       "      <td>1</td>\n",
       "      <td>1000</td>\n",
       "      <td>30720</td>\n",
       "      <td>3000</td>\n",
       "      <td>1950</td>\n",
       "      <td>150</td>\n",
       "      <td>1</td>\n",
       "      <td>1</td>\n",
       "      <td>ultra</td>\n",
       "    </tr>\n",
       "  </tbody>\n",
       "</table>\n",
       "</div>"
      ],
      "text/plain": [
       "   messages_included  mb_per_month_included  minutes_included  \\\n",
       "0                 50                  15360               500   \n",
       "1               1000                  30720              3000   \n",
       "\n",
       "   rub_monthly_fee  rub_per_gb  rub_per_message  rub_per_minute tariff_name  \n",
       "0              550         200                3               3       smart  \n",
       "1             1950         150                1               1       ultra  "
      ]
     },
     "execution_count": 47,
     "metadata": {},
     "output_type": "execute_result"
    }
   ],
   "source": [
    "tariffs"
   ]
  },
  {
   "cell_type": "markdown",
   "metadata": {},
   "source": [
    "**Выводы:**\n",
    "* посмотрели основные отличия стат. характеристик двух тарифов по праметрам **`продолжительность разговора`,`число смс`,`траффик`**\n",
    "* видим, что тариф `smart` (более дешовый и с меньшим объмом опций) обладает меньшими средними значениями характеристик и, в тоже время, меньшим разбросом (значение `стандартного отклонения` и `дисперсии`). \n",
    "* подтверждение этому также видим на графиках в диоганали:\n",
    "    *  у тарифа **Ultra** кривая всегда с меньшим пиком по оси Y (кол-во клиентов) при этом по оси Х (значение показателя) разброс относительно \"горба\" также больше, чем у тарифа **Smart**\n",
    "* характеристика распределений обладает подобным профилем:\n",
    "    * **cреднее число минут** (`sum_duration`) - нормальное распределение\n",
    "    * **cреднее число сообщений** (`sum_sms`) - распределение Пуассона\n",
    "    * **cреднее число Gb** (`sum_gb`) - нормальное распределение\n",
    "* это не кажется удивительным - тариф **Smart** дает большие лимиты по услугам, распределение более равномерно на большим интервале значений по потребляемым услугам => `горб` - ниже"
   ]
  },
  {
   "cell_type": "markdown",
   "metadata": {},
   "source": [
    "<div class=\"alert alert-success\">\n",
    "<b>Комментарий ревьюера:</b>\n",
    "\n",
    "Да, хорошо. Выводы приняты.\n",
    "</div>"
   ]
  },
  {
   "cell_type": "markdown",
   "metadata": {},
   "source": [
    "###  Шаг 4. Проверка гипотез\n",
    "* средняя выручка пользователей тарифов «Ультра» и «Смарт» различаются;\n",
    "* средняя выручка пользователи из Москвы отличается от выручки пользователей из других регионов.\n",
    "\n",
    "Пороговое значение alpha задать самостоятельно.\n",
    "\n",
    "***Пояснить:***\n",
    "* формулировку нулевой и альтернативной гипотезы;\n",
    "* какой критерий использовался для проверки гипотез и почему."
   ]
  },
  {
   "cell_type": "markdown",
   "metadata": {},
   "source": [
    "#### Гипотеза 1. Средняя выручка пользователей тарифов «Ультра» и «Смарт» различаются"
   ]
  },
  {
   "cell_type": "markdown",
   "metadata": {},
   "source": [
    "**Нулевая гипотеза (Н_0):** выручки пользователей тарифов «Ультра» и «Смарт» не отличаются (эту гипотезу мы будем пытаться опровергнуть)\n",
    "**Альтернативная гипотеза (Н_1):** выручки пользователей тарифов «Ультра» и «Смарт» отличаются (если **H_0** - ложная, принимаем **H_1**)\n",
    "\n",
    "Формулируем гипотезу, без указания в большую или меньшую сторону отличаются выручки.  \n",
    "Очевидно, что проверять мы будем гипотезу **о равенстве средних двух генеральных совокупностей**\n",
    "\n",
    "Из курса теории мы знаем, что для проверки такой гипотезы нам нужен **t-test**.  \n",
    "\n",
    "Допустимыми порогами значимости **alpha** обычно принимают 1% или 5%, предлагаю остановится на 5%.\n",
    "\n",
    "***Примечание из теории***\n",
    "\n",
    "*Если выборки разного размера и/или можно предположить, что дисперсии у генеральных совокупностей разные — укажите* ***equal_var = False*** *при вызове метода* ***scipy.stats.ttest_ind()***"
   ]
  },
  {
   "cell_type": "markdown",
   "metadata": {},
   "source": [
    "<div class=\"alert alert-success\">\n",
    "<b>Комментарий ревьюера:</b>\n",
    "\n",
    "Супер, постановка задачи образцово-показательная, все формулировки представлены, пороги подобраны корректно.\n",
    "</div>"
   ]
  },
  {
   "cell_type": "code",
   "execution_count": 48,
   "metadata": {},
   "outputs": [
    {
     "name": "stdout",
     "output_type": "stream",
     "text": [
      "p-значение:  0.0\n",
      "Отвергаем нулевую гипотезу\n"
     ]
    }
   ],
   "source": [
    "alpha = .05\n",
    "# критический уровень статистической значимости\n",
    "# если p-value окажется меньше него - отвегнем гипотезу\n",
    "\n",
    "results = st.ttest_ind(\n",
    "    master_tbl[master_tbl['tariff'] == 'ultra']['income'], \n",
    "    master_tbl[master_tbl['tariff'] == 'smart']['income'],\n",
    "    equal_var = False\n",
    ")\n",
    "\n",
    "print('p-значение: ', results.pvalue)\n",
    "\n",
    "if results.pvalue < alpha:\n",
    "    print(\"Отвергаем нулевую гипотезу\")\n",
    "else:\n",
    "    print(\"Не получилось отвергнуть нулевую гипотезу\") "
   ]
  },
  {
   "cell_type": "markdown",
   "metadata": {},
   "source": [
    "<div class=\"alert alert-success\">\n",
    "<b>Комментарий ревьюера:</b>\n",
    "\n",
    "Проверка гипотезы корректна.\n",
    "</div>"
   ]
  },
  {
   "cell_type": "markdown",
   "metadata": {},
   "source": [
    "**Гипотеза опровергается - средняя выручка двух разных тарифов `действительно` отличается**"
   ]
  },
  {
   "cell_type": "markdown",
   "metadata": {},
   "source": [
    "Странно то, что значение получилось нулевым.   \n",
    "Получается, что вероятности пересечения выручек двух тарифов не существует.  \n",
    "В случае опровержения я ожидал увидеть сколь угодно малое, но всеже число.   \n",
    "\n",
    "**С другой стороны**:    \n",
    "\n",
    "Ежемесячная абонентская плата по тарифам **`550`** против **`1950`** и интуитивно пересечься в выручке при таких вводных будет действительно очень сложно.\n",
    "\n",
    "**Проверка:**"
   ]
  },
  {
   "cell_type": "code",
   "execution_count": 49,
   "metadata": {},
   "outputs": [
    {
     "data": {
      "text/plain": [
       "2016.1912751677853"
      ]
     },
     "execution_count": 49,
     "metadata": {},
     "output_type": "execute_result"
    }
   ],
   "source": [
    "master_tbl[master_tbl['tariff'] == 'ultra']['income'].mean()"
   ]
  },
  {
   "cell_type": "code",
   "execution_count": 50,
   "metadata": {},
   "outputs": [
    {
     "data": {
      "text/plain": [
       "941.5956790123457"
      ]
     },
     "execution_count": 50,
     "metadata": {},
     "output_type": "execute_result"
    }
   ],
   "source": [
    "master_tbl[master_tbl['tariff'] == 'smart']['income'].mean()"
   ]
  },
  {
   "cell_type": "markdown",
   "metadata": {},
   "source": [
    "#### Гипотеза 2. Средняя выручка пользователи из Москвы отличается от выручки пользователей из других регионов."
   ]
  },
  {
   "cell_type": "markdown",
   "metadata": {},
   "source": [
    "Здесь на самом деле очень похожая история.\n",
    "\n",
    "**Нулевая гипотеза (Н_0):** выручки пользователей из Москвы и из остальных городов не отличаются (эту гипотезу мы будем пытаться опровергнуть)\n",
    "**Альтернативная гипотеза (Н_1):** выручки пользователей из Москвы и из остальных городов отличаются (если **H_0** - ложная, принимаем **H_1**)\n",
    "\n",
    "Как и раньше проверяем гипотезу **о равенстве средних двух генеральных совокупностей**\n",
    "\n",
    "Допустимыми порог значимости **alpha**  принимаем 5%"
   ]
  },
  {
   "cell_type": "code",
   "execution_count": 51,
   "metadata": {},
   "outputs": [
    {
     "name": "stdout",
     "output_type": "stream",
     "text": [
      "p-значение:  0.5510280155207565\n",
      "Не получилось отвергнуть нулевую гипотезу\n"
     ]
    }
   ],
   "source": [
    "alpha = .05\n",
    "# критический уровень статистической значимости\n",
    "# если p-value окажется меньше него - отвегнем гипотезу\n",
    "\n",
    "results = st.ttest_ind(\n",
    "    master_tbl[master_tbl['city'] == 'Москва']['income'], \n",
    "    master_tbl[master_tbl['city'] != 'Москва']['income'],\n",
    "    equal_var = False\n",
    ")\n",
    "\n",
    "print('p-значение: ', results.pvalue)\n",
    "\n",
    "if results.pvalue < alpha:\n",
    "    print(\"Отвергаем нулевую гипотезу\")\n",
    "else:\n",
    "    print(\"Не получилось отвергнуть нулевую гипотезу\") "
   ]
  },
  {
   "cell_type": "markdown",
   "metadata": {},
   "source": [
    "**Гипотеза не опровергается - средняя выручка от пользователей в Москве и не в Москве не отличается**"
   ]
  },
  {
   "cell_type": "markdown",
   "metadata": {},
   "source": [
    "**Вывод:**\n",
    "- проверили две гипотезы используя **t-test**:\n",
    "     - гипотеза о том, что выручка пользователей двух разных тарифов различна - **подтвердилась**\n",
    "     - гипотеза о том, что выручка пользователей из Москвы отличается от выручки пользователей из других городов - **была опровергнута**"
   ]
  },
  {
   "cell_type": "markdown",
   "metadata": {},
   "source": [
    "<div class=\"alert alert-success\">\n",
    "<b>Комментарий ревьюера:</b>\n",
    "\n",
    "По второй гипотезе так же все хорошо.\n",
    "</div>"
   ]
  },
  {
   "cell_type": "markdown",
   "metadata": {},
   "source": [
    "###  Шаг 5. Общий вывод"
   ]
  },
  {
   "cell_type": "markdown",
   "metadata": {},
   "source": [
    "В данном исследовании рассматривались данные об активности ползователей оператора связи «Мегалайн».\n",
    "В проекте были выполнены следующие этапы:\n",
    "\n",
    "- предобработка данных включала в себя:\n",
    "    -  заменену типов данных по части колонок на `datetime`\n",
    "    -  округление звонков до минут в большую сторону по каждому звонку\n",
    "    -  округление до Гигабайт ежемесячного трафика по каждому пользователю\n",
    "    -  сбор мастер - таблицы, где одна запись - объем трафика/смс/продолжительность звонков по каждому пользователю за месяц\n",
    "    -  расчет выручки на каждом клиенте помесячно\n",
    "- анализ данных:\n",
    "    - рассмотрели в детализации по тарифам значение средних объемов трафика/смс/продолжительность звонков, дисперсию, стандартное отклоенение\n",
    "    - построили графики зависимостей, в разбивке по тарифам\n",
    "- также были проведены t-тесты для проверки гипотез:\n",
    "    - cредняя выручка пользователей тарифов «Ультра» и «Смарт» различаются (**не опровергнута**)\n",
    "    - cредняя выручка пользователи из Москвы отличается от выручки пользователей из других регионов (**опровергнута**)\n",
    "- тариф Ultra выглядит более прибыльным для компании «Мегалайн», выручка с него выше"
   ]
  },
  {
   "cell_type": "markdown",
   "metadata": {},
   "source": [
    "<div class=\"alert alert-success\">\n",
    "<b>Комментарий ревьюера:</b>\n",
    "\n",
    "Общий вывод принят.\n",
    "</div>"
   ]
  }
 ],
 "metadata": {
  "ExecuteTimeLog": [
   {
    "duration": 97,
    "start_time": "2021-08-07T19:08:06.633Z"
   },
   {
    "duration": 1376,
    "start_time": "2021-08-07T19:48:42.452Z"
   },
   {
    "duration": 568,
    "start_time": "2021-08-07T19:51:15.475Z"
   },
   {
    "duration": 15,
    "start_time": "2021-08-07T19:55:20.224Z"
   },
   {
    "duration": 12,
    "start_time": "2021-08-07T19:55:33.319Z"
   },
   {
    "duration": 11,
    "start_time": "2021-08-07T19:55:48.431Z"
   },
   {
    "duration": 29,
    "start_time": "2021-08-07T19:58:01.463Z"
   },
   {
    "duration": 23,
    "start_time": "2021-08-07T19:58:09.993Z"
   },
   {
    "duration": 19,
    "start_time": "2021-08-07T19:58:16.999Z"
   },
   {
    "duration": 9,
    "start_time": "2021-08-07T19:58:21.881Z"
   },
   {
    "duration": 12,
    "start_time": "2021-08-07T19:58:26.906Z"
   },
   {
    "duration": 19,
    "start_time": "2021-08-07T19:58:32.432Z"
   },
   {
    "duration": 16,
    "start_time": "2021-08-07T20:00:07.757Z"
   },
   {
    "duration": 12,
    "start_time": "2021-08-07T20:02:41.275Z"
   },
   {
    "duration": 15,
    "start_time": "2021-08-07T20:02:50.981Z"
   },
   {
    "duration": 13,
    "start_time": "2021-08-07T20:03:05.753Z"
   },
   {
    "duration": 10,
    "start_time": "2021-08-07T20:03:40.289Z"
   },
   {
    "duration": 12,
    "start_time": "2021-08-07T20:04:26.411Z"
   },
   {
    "duration": 13,
    "start_time": "2021-08-07T20:04:26.906Z"
   },
   {
    "duration": 11,
    "start_time": "2021-08-07T20:04:27.290Z"
   },
   {
    "duration": 13,
    "start_time": "2021-08-07T20:04:31.995Z"
   },
   {
    "duration": 20,
    "start_time": "2021-08-07T20:04:36.744Z"
   },
   {
    "duration": 14,
    "start_time": "2021-08-07T20:11:51.181Z"
   },
   {
    "duration": 11,
    "start_time": "2021-08-07T20:11:53.240Z"
   },
   {
    "duration": 8,
    "start_time": "2021-08-07T20:20:20.658Z"
   },
   {
    "duration": 11,
    "start_time": "2021-08-07T20:20:44.322Z"
   },
   {
    "duration": 9,
    "start_time": "2021-08-07T20:22:10.624Z"
   },
   {
    "duration": 20,
    "start_time": "2021-08-07T20:22:17.183Z"
   },
   {
    "duration": 97,
    "start_time": "2021-08-07T20:24:41.660Z"
   },
   {
    "duration": 27,
    "start_time": "2021-08-07T20:24:45.148Z"
   },
   {
    "duration": 99,
    "start_time": "2021-08-07T20:27:11.765Z"
   },
   {
    "duration": 18,
    "start_time": "2021-08-07T20:28:25.657Z"
   },
   {
    "duration": 7,
    "start_time": "2021-08-07T20:29:02.155Z"
   },
   {
    "duration": 21,
    "start_time": "2021-08-07T20:29:03.039Z"
   },
   {
    "duration": 9,
    "start_time": "2021-08-07T20:29:03.808Z"
   },
   {
    "duration": 9,
    "start_time": "2021-08-07T20:29:23.420Z"
   },
   {
    "duration": 26,
    "start_time": "2021-08-07T20:29:25.459Z"
   },
   {
    "duration": 10,
    "start_time": "2021-08-07T20:29:26.713Z"
   },
   {
    "duration": 7,
    "start_time": "2021-08-07T20:31:19.716Z"
   },
   {
    "duration": 23,
    "start_time": "2021-08-07T20:31:20.602Z"
   },
   {
    "duration": 9,
    "start_time": "2021-08-07T20:31:21.420Z"
   },
   {
    "duration": 29,
    "start_time": "2021-08-07T20:31:24.298Z"
   },
   {
    "duration": 22,
    "start_time": "2021-08-07T20:34:10.740Z"
   },
   {
    "duration": 40,
    "start_time": "2021-08-07T20:34:18.661Z"
   },
   {
    "duration": 17,
    "start_time": "2021-08-07T20:34:45.727Z"
   },
   {
    "duration": 12,
    "start_time": "2021-08-07T20:34:51.526Z"
   },
   {
    "duration": 82,
    "start_time": "2021-08-07T20:42:46.549Z"
   },
   {
    "duration": 20,
    "start_time": "2021-08-07T20:42:46.949Z"
   },
   {
    "duration": 21,
    "start_time": "2021-08-07T20:42:51.690Z"
   },
   {
    "duration": 26,
    "start_time": "2021-08-07T20:42:52.151Z"
   },
   {
    "duration": 34,
    "start_time": "2021-08-07T20:44:51.799Z"
   },
   {
    "duration": 30,
    "start_time": "2021-08-07T20:44:52.421Z"
   },
   {
    "duration": 30,
    "start_time": "2021-08-07T20:45:19.289Z"
   },
   {
    "duration": 17,
    "start_time": "2021-08-07T20:45:19.800Z"
   },
   {
    "duration": 426,
    "start_time": "2021-08-07T20:45:53.813Z"
   },
   {
    "duration": 274,
    "start_time": "2021-08-07T20:45:58.858Z"
   },
   {
    "duration": 290,
    "start_time": "2021-08-07T20:45:59.360Z"
   },
   {
    "duration": 30,
    "start_time": "2021-08-07T20:46:16.539Z"
   },
   {
    "duration": 46,
    "start_time": "2021-08-07T20:46:16.727Z"
   },
   {
    "duration": 10,
    "start_time": "2021-08-07T20:46:46.978Z"
   },
   {
    "duration": 12,
    "start_time": "2021-08-07T20:46:59.933Z"
   },
   {
    "duration": 232,
    "start_time": "2021-08-07T20:54:27.906Z"
   },
   {
    "duration": 4,
    "start_time": "2021-08-07T20:54:31.031Z"
   },
   {
    "duration": 254,
    "start_time": "2021-08-07T20:54:31.354Z"
   },
   {
    "duration": 238,
    "start_time": "2021-08-07T20:54:41.422Z"
   },
   {
    "duration": 8,
    "start_time": "2021-08-07T20:55:28.381Z"
   },
   {
    "duration": 95,
    "start_time": "2021-08-07T20:56:11.904Z"
   },
   {
    "duration": 258,
    "start_time": "2021-08-07T20:56:18.375Z"
   },
   {
    "duration": 6,
    "start_time": "2021-08-07T20:56:38.555Z"
   },
   {
    "duration": 4,
    "start_time": "2021-08-07T20:56:52.999Z"
   },
   {
    "duration": 5,
    "start_time": "2021-08-07T20:56:53.477Z"
   },
   {
    "duration": 277,
    "start_time": "2021-08-07T20:56:58.911Z"
   },
   {
    "duration": 7,
    "start_time": "2021-08-07T20:57:37.524Z"
   },
   {
    "duration": 7,
    "start_time": "2021-08-07T20:57:44.414Z"
   },
   {
    "duration": 7,
    "start_time": "2021-08-07T20:58:05.483Z"
   },
   {
    "duration": 284,
    "start_time": "2021-08-07T20:58:20.260Z"
   },
   {
    "duration": 9,
    "start_time": "2021-08-07T21:00:32.717Z"
   },
   {
    "duration": 306,
    "start_time": "2021-08-07T21:03:43.279Z"
   },
   {
    "duration": 4581,
    "start_time": "2021-08-07T21:04:08.904Z"
   },
   {
    "duration": 230,
    "start_time": "2021-08-07T21:04:17.074Z"
   },
   {
    "duration": 5066,
    "start_time": "2021-08-07T21:04:48.390Z"
   },
   {
    "duration": 23,
    "start_time": "2021-08-07T21:05:02.340Z"
   },
   {
    "duration": 26,
    "start_time": "2021-08-07T21:05:54.298Z"
   },
   {
    "duration": 4809,
    "start_time": "2021-08-07T21:06:01.909Z"
   },
   {
    "duration": 5031,
    "start_time": "2021-08-07T21:06:41.966Z"
   },
   {
    "duration": 8,
    "start_time": "2021-08-07T21:06:52.126Z"
   },
   {
    "duration": 7,
    "start_time": "2021-08-07T21:07:02.232Z"
   },
   {
    "duration": 8,
    "start_time": "2021-08-07T21:07:15.788Z"
   },
   {
    "duration": 6133,
    "start_time": "2021-08-07T21:08:49.716Z"
   },
   {
    "duration": 7,
    "start_time": "2021-08-07T21:09:14.765Z"
   },
   {
    "duration": 12,
    "start_time": "2021-08-07T21:20:47.460Z"
   },
   {
    "duration": 13,
    "start_time": "2021-08-07T21:24:49.416Z"
   },
   {
    "duration": 303,
    "start_time": "2021-08-08T11:30:02.499Z"
   },
   {
    "duration": 305,
    "start_time": "2021-08-08T11:31:00.230Z"
   },
   {
    "duration": 87,
    "start_time": "2021-08-08T11:32:04.055Z"
   },
   {
    "duration": 206,
    "start_time": "2021-08-08T11:32:08.166Z"
   },
   {
    "duration": 11,
    "start_time": "2021-08-08T11:32:10.006Z"
   },
   {
    "duration": 179,
    "start_time": "2021-08-08T11:33:52.873Z"
   },
   {
    "duration": 12,
    "start_time": "2021-08-08T11:33:53.289Z"
   },
   {
    "duration": 12,
    "start_time": "2021-08-08T11:54:46.165Z"
   },
   {
    "duration": 11,
    "start_time": "2021-08-08T11:54:53.368Z"
   },
   {
    "duration": 13,
    "start_time": "2021-08-08T11:54:55.652Z"
   },
   {
    "duration": 16,
    "start_time": "2021-08-08T11:54:56.345Z"
   },
   {
    "duration": 67,
    "start_time": "2021-08-08T11:55:10.817Z"
   },
   {
    "duration": 16,
    "start_time": "2021-08-08T11:55:11.342Z"
   },
   {
    "duration": 9,
    "start_time": "2021-08-08T11:55:12.793Z"
   },
   {
    "duration": 14,
    "start_time": "2021-08-08T11:55:13.401Z"
   },
   {
    "duration": 22,
    "start_time": "2021-08-08T11:55:17.937Z"
   },
   {
    "duration": 43,
    "start_time": "2021-08-08T11:55:18.874Z"
   },
   {
    "duration": 5,
    "start_time": "2021-08-08T11:57:07.515Z"
   },
   {
    "duration": 10,
    "start_time": "2021-08-08T11:57:23.962Z"
   },
   {
    "duration": 11,
    "start_time": "2021-08-08T11:57:28.064Z"
   },
   {
    "duration": 4,
    "start_time": "2021-08-08T12:00:09.383Z"
   },
   {
    "duration": 7,
    "start_time": "2021-08-08T12:02:07.210Z"
   },
   {
    "duration": 8,
    "start_time": "2021-08-08T12:06:05.866Z"
   },
   {
    "duration": 18,
    "start_time": "2021-08-08T12:06:06.325Z"
   },
   {
    "duration": 31,
    "start_time": "2021-08-08T12:06:14.642Z"
   },
   {
    "duration": 50,
    "start_time": "2021-08-08T12:06:16.087Z"
   },
   {
    "duration": 7,
    "start_time": "2021-08-08T12:06:29.399Z"
   },
   {
    "duration": 25,
    "start_time": "2021-08-08T12:06:30.616Z"
   },
   {
    "duration": 40,
    "start_time": "2021-08-08T12:06:34.604Z"
   },
   {
    "duration": 6236,
    "start_time": "2021-08-08T12:21:45.489Z"
   },
   {
    "duration": -134,
    "start_time": "2021-08-08T12:21:51.862Z"
   },
   {
    "duration": -138,
    "start_time": "2021-08-08T12:21:51.867Z"
   },
   {
    "duration": 25,
    "start_time": "2021-08-08T12:22:09.476Z"
   },
   {
    "duration": 30,
    "start_time": "2021-08-08T12:22:16.493Z"
   },
   {
    "duration": 20,
    "start_time": "2021-08-08T12:22:18.523Z"
   },
   {
    "duration": 22,
    "start_time": "2021-08-08T12:22:21.247Z"
   },
   {
    "duration": 76,
    "start_time": "2021-08-08T12:22:50.718Z"
   },
   {
    "duration": 552,
    "start_time": "2021-08-08T12:22:56.472Z"
   },
   {
    "duration": 10,
    "start_time": "2021-08-08T12:22:58.335Z"
   },
   {
    "duration": 9,
    "start_time": "2021-08-08T12:22:58.928Z"
   },
   {
    "duration": 10,
    "start_time": "2021-08-08T12:22:59.387Z"
   },
   {
    "duration": 28,
    "start_time": "2021-08-08T12:22:59.678Z"
   },
   {
    "duration": 32,
    "start_time": "2021-08-08T12:23:00.257Z"
   },
   {
    "duration": 17,
    "start_time": "2021-08-08T12:23:00.522Z"
   },
   {
    "duration": 39,
    "start_time": "2021-08-08T12:23:00.702Z"
   },
   {
    "duration": 26,
    "start_time": "2021-08-08T12:23:01.011Z"
   },
   {
    "duration": 14,
    "start_time": "2021-08-08T12:23:01.204Z"
   },
   {
    "duration": 14,
    "start_time": "2021-08-08T12:23:01.460Z"
   },
   {
    "duration": 24,
    "start_time": "2021-08-08T12:23:01.636Z"
   },
   {
    "duration": 43,
    "start_time": "2021-08-08T12:23:02.980Z"
   },
   {
    "duration": 6,
    "start_time": "2021-08-08T12:23:03.025Z"
   },
   {
    "duration": 47,
    "start_time": "2021-08-08T12:23:03.034Z"
   },
   {
    "duration": 50,
    "start_time": "2021-08-08T12:23:03.083Z"
   },
   {
    "duration": 63,
    "start_time": "2021-08-08T12:23:04.378Z"
   },
   {
    "duration": 21,
    "start_time": "2021-08-08T12:23:08.764Z"
   },
   {
    "duration": 21,
    "start_time": "2021-08-08T12:30:48.221Z"
   },
   {
    "duration": 108,
    "start_time": "2021-08-08T12:30:59.843Z"
   },
   {
    "duration": 266,
    "start_time": "2021-08-08T12:32:39.970Z"
   },
   {
    "duration": 298,
    "start_time": "2021-08-08T12:32:54.584Z"
   },
   {
    "duration": 17,
    "start_time": "2021-08-08T12:32:58.192Z"
   },
   {
    "duration": 325,
    "start_time": "2021-08-08T12:33:14.729Z"
   },
   {
    "duration": 28,
    "start_time": "2021-08-08T12:33:20.134Z"
   },
   {
    "duration": 360,
    "start_time": "2021-08-08T12:33:58.679Z"
   },
   {
    "duration": 40,
    "start_time": "2021-08-08T12:34:02.499Z"
   },
   {
    "duration": 39,
    "start_time": "2021-08-08T12:34:10.475Z"
   },
   {
    "duration": 251,
    "start_time": "2021-08-08T12:34:21.539Z"
   },
   {
    "duration": 300,
    "start_time": "2021-08-08T12:34:26.474Z"
   },
   {
    "duration": 36,
    "start_time": "2021-08-08T12:34:37.893Z"
   },
   {
    "duration": 27,
    "start_time": "2021-08-08T12:34:57.243Z"
   },
   {
    "duration": 15,
    "start_time": "2021-08-08T12:35:00.787Z"
   },
   {
    "duration": 19,
    "start_time": "2021-08-08T12:35:31.496Z"
   },
   {
    "duration": 42,
    "start_time": "2021-08-08T12:36:15.154Z"
   },
   {
    "duration": 26,
    "start_time": "2021-08-08T12:36:25.852Z"
   },
   {
    "duration": 46,
    "start_time": "2021-08-08T12:37:40.101Z"
   },
   {
    "duration": 28,
    "start_time": "2021-08-08T12:38:19.502Z"
   },
   {
    "duration": 75,
    "start_time": "2021-08-08T12:38:39.313Z"
   },
   {
    "duration": 15,
    "start_time": "2021-08-08T12:38:47.301Z"
   },
   {
    "duration": 21,
    "start_time": "2021-08-08T12:58:38.896Z"
   },
   {
    "duration": 14,
    "start_time": "2021-08-08T12:58:43.136Z"
   },
   {
    "duration": 14,
    "start_time": "2021-08-08T13:01:09.725Z"
   },
   {
    "duration": 13,
    "start_time": "2021-08-08T13:01:15.680Z"
   },
   {
    "duration": 9,
    "start_time": "2021-08-08T13:01:34.179Z"
   },
   {
    "duration": 6,
    "start_time": "2021-08-08T13:02:09.902Z"
   },
   {
    "duration": 6,
    "start_time": "2021-08-08T13:02:15.652Z"
   },
   {
    "duration": 17,
    "start_time": "2021-08-08T13:02:19.484Z"
   },
   {
    "duration": 5,
    "start_time": "2021-08-08T13:02:34.102Z"
   },
   {
    "duration": 527,
    "start_time": "2021-08-08T13:02:34.419Z"
   },
   {
    "duration": 9,
    "start_time": "2021-08-08T13:02:35.459Z"
   },
   {
    "duration": 10,
    "start_time": "2021-08-08T13:02:35.757Z"
   },
   {
    "duration": 9,
    "start_time": "2021-08-08T13:02:35.928Z"
   },
   {
    "duration": 41,
    "start_time": "2021-08-08T13:02:36.078Z"
   },
   {
    "duration": 51,
    "start_time": "2021-08-08T13:02:36.537Z"
   },
   {
    "duration": 26,
    "start_time": "2021-08-08T13:02:36.692Z"
   },
   {
    "duration": 50,
    "start_time": "2021-08-08T13:02:36.841Z"
   },
   {
    "duration": 41,
    "start_time": "2021-08-08T13:02:37.151Z"
   },
   {
    "duration": 15,
    "start_time": "2021-08-08T13:02:37.310Z"
   },
   {
    "duration": 23,
    "start_time": "2021-08-08T13:02:37.461Z"
   },
   {
    "duration": 35,
    "start_time": "2021-08-08T13:02:37.607Z"
   },
   {
    "duration": 65,
    "start_time": "2021-08-08T13:02:37.898Z"
   },
   {
    "duration": 8,
    "start_time": "2021-08-08T13:02:38.215Z"
   },
   {
    "duration": 35,
    "start_time": "2021-08-08T13:02:38.359Z"
   },
   {
    "duration": 53,
    "start_time": "2021-08-08T13:02:38.541Z"
   },
   {
    "duration": 99,
    "start_time": "2021-08-08T13:02:39.007Z"
   },
   {
    "duration": 132,
    "start_time": "2021-08-08T13:02:39.348Z"
   },
   {
    "duration": 8,
    "start_time": "2021-08-08T13:02:39.636Z"
   },
   {
    "duration": 27,
    "start_time": "2021-08-08T13:02:39.828Z"
   },
   {
    "duration": 97,
    "start_time": "2021-08-08T13:02:41.528Z"
   },
   {
    "duration": 102,
    "start_time": "2021-08-08T13:02:41.879Z"
   },
   {
    "duration": 8,
    "start_time": "2021-08-08T13:02:42.228Z"
   },
   {
    "duration": 28,
    "start_time": "2021-08-08T13:02:43.171Z"
   },
   {
    "duration": 279,
    "start_time": "2021-08-08T13:10:11.544Z"
   },
   {
    "duration": 8,
    "start_time": "2021-08-08T13:12:14.696Z"
   },
   {
    "duration": 439,
    "start_time": "2021-08-08T13:12:21.723Z"
   },
   {
    "duration": 8,
    "start_time": "2021-08-08T13:13:08.274Z"
   },
   {
    "duration": 12,
    "start_time": "2021-08-08T13:13:28.366Z"
   },
   {
    "duration": 14,
    "start_time": "2021-08-08T13:13:37.492Z"
   },
   {
    "duration": 12,
    "start_time": "2021-08-08T13:13:46.800Z"
   },
   {
    "duration": 7,
    "start_time": "2021-08-08T13:13:59.822Z"
   },
   {
    "duration": 5,
    "start_time": "2021-08-08T13:18:33.262Z"
   },
   {
    "duration": 5,
    "start_time": "2021-08-08T13:18:42.704Z"
   },
   {
    "duration": 251,
    "start_time": "2021-08-08T13:18:48.410Z"
   },
   {
    "duration": 5,
    "start_time": "2021-08-08T13:19:44.512Z"
   },
   {
    "duration": 6,
    "start_time": "2021-08-08T13:19:53.450Z"
   },
   {
    "duration": 325,
    "start_time": "2021-08-08T13:20:00.346Z"
   },
   {
    "duration": 37,
    "start_time": "2021-08-08T13:20:21.259Z"
   },
   {
    "duration": 5,
    "start_time": "2021-08-08T13:23:27.571Z"
   },
   {
    "duration": 12,
    "start_time": "2021-08-08T13:24:09.590Z"
   },
   {
    "duration": 14,
    "start_time": "2021-08-08T13:24:58.916Z"
   },
   {
    "duration": 120,
    "start_time": "2021-08-08T13:25:10.612Z"
   },
   {
    "duration": 4,
    "start_time": "2021-08-08T13:25:21.526Z"
   },
   {
    "duration": 6,
    "start_time": "2021-08-08T13:25:27.044Z"
   },
   {
    "duration": 20,
    "start_time": "2021-08-08T19:31:13.368Z"
   },
   {
    "duration": 28,
    "start_time": "2021-08-08T19:31:21.589Z"
   },
   {
    "duration": 89,
    "start_time": "2021-08-08T19:32:42.032Z"
   },
   {
    "duration": 37,
    "start_time": "2021-08-08T19:32:57.867Z"
   },
   {
    "duration": 153,
    "start_time": "2021-08-08T19:33:53.772Z"
   },
   {
    "duration": 63,
    "start_time": "2021-08-08T19:35:09.656Z"
   },
   {
    "duration": 25,
    "start_time": "2021-08-08T19:35:45.283Z"
   },
   {
    "duration": 14,
    "start_time": "2021-08-08T19:38:26.452Z"
   },
   {
    "duration": 6,
    "start_time": "2021-08-08T19:39:15.738Z"
   },
   {
    "duration": 6,
    "start_time": "2021-08-08T19:40:17.187Z"
   },
   {
    "duration": 289,
    "start_time": "2021-08-08T19:41:17.500Z"
   },
   {
    "duration": 89,
    "start_time": "2021-08-08T19:41:21.521Z"
   },
   {
    "duration": 73,
    "start_time": "2021-08-08T19:41:21.915Z"
   },
   {
    "duration": 88,
    "start_time": "2021-08-08T19:43:23.822Z"
   },
   {
    "duration": 173,
    "start_time": "2021-08-08T19:44:20.820Z"
   },
   {
    "duration": 50,
    "start_time": "2021-08-08T19:45:53.196Z"
   },
   {
    "duration": 57,
    "start_time": "2021-08-08T19:46:32.010Z"
   },
   {
    "duration": 72,
    "start_time": "2021-08-08T19:46:42.234Z"
   },
   {
    "duration": 6,
    "start_time": "2021-08-08T19:46:43.644Z"
   },
   {
    "duration": 6,
    "start_time": "2021-08-08T19:46:46.298Z"
   },
   {
    "duration": 5,
    "start_time": "2021-08-08T19:46:47.319Z"
   },
   {
    "duration": 14,
    "start_time": "2021-08-08T19:46:47.684Z"
   },
   {
    "duration": 5,
    "start_time": "2021-08-08T19:46:49.705Z"
   },
   {
    "duration": 73,
    "start_time": "2021-08-08T19:52:15.645Z"
   },
   {
    "duration": 6,
    "start_time": "2021-08-08T19:52:19.735Z"
   },
   {
    "duration": 9,
    "start_time": "2021-08-08T19:52:23.579Z"
   },
   {
    "duration": 7,
    "start_time": "2021-08-08T19:52:24.703Z"
   },
   {
    "duration": 21,
    "start_time": "2021-08-08T19:52:25.041Z"
   },
   {
    "duration": 4,
    "start_time": "2021-08-08T19:52:25.806Z"
   },
   {
    "duration": 27,
    "start_time": "2021-08-08T19:59:06.596Z"
   },
   {
    "duration": 18,
    "start_time": "2021-08-08T20:30:07.216Z"
   },
   {
    "duration": 6,
    "start_time": "2021-08-08T20:30:08.829Z"
   },
   {
    "duration": 105,
    "start_time": "2021-08-08T20:30:09.236Z"
   },
   {
    "duration": 26,
    "start_time": "2021-08-08T20:30:09.732Z"
   },
   {
    "duration": 29,
    "start_time": "2021-08-08T20:31:08.635Z"
   },
   {
    "duration": 13,
    "start_time": "2021-08-08T20:32:23.445Z"
   },
   {
    "duration": 36,
    "start_time": "2021-08-08T20:32:28.218Z"
   },
   {
    "duration": 19,
    "start_time": "2021-08-08T20:33:25.451Z"
   },
   {
    "duration": 292,
    "start_time": "2021-08-08T20:33:32.983Z"
   },
   {
    "duration": 14,
    "start_time": "2021-08-08T20:33:43.822Z"
   },
   {
    "duration": 40,
    "start_time": "2021-08-08T20:33:49.236Z"
   },
   {
    "duration": 18,
    "start_time": "2021-08-08T20:34:13.959Z"
   },
   {
    "duration": 15,
    "start_time": "2021-08-08T20:34:21.660Z"
   },
   {
    "duration": 66,
    "start_time": "2021-08-08T20:34:27.530Z"
   },
   {
    "duration": 8,
    "start_time": "2021-08-08T20:35:23.666Z"
   },
   {
    "duration": 35,
    "start_time": "2021-08-08T20:35:26.815Z"
   },
   {
    "duration": 21,
    "start_time": "2021-08-08T20:35:37.519Z"
   },
   {
    "duration": 94,
    "start_time": "2021-08-08T20:38:30.629Z"
   },
   {
    "duration": 13,
    "start_time": "2021-08-08T20:40:35.749Z"
   },
   {
    "duration": 12,
    "start_time": "2021-08-08T20:40:45.765Z"
   },
   {
    "duration": 31,
    "start_time": "2021-08-08T20:40:55.093Z"
   },
   {
    "duration": 286,
    "start_time": "2021-08-08T20:41:10.932Z"
   },
   {
    "duration": 17,
    "start_time": "2021-08-08T20:41:19.315Z"
   },
   {
    "duration": 5,
    "start_time": "2021-08-08T20:41:20.023Z"
   },
   {
    "duration": 14,
    "start_time": "2021-08-08T20:41:20.665Z"
   },
   {
    "duration": 14,
    "start_time": "2021-08-08T20:41:20.832Z"
   },
   {
    "duration": 14,
    "start_time": "2021-08-08T20:41:21.011Z"
   },
   {
    "duration": 27,
    "start_time": "2021-08-08T20:41:21.194Z"
   },
   {
    "duration": 12,
    "start_time": "2021-08-08T20:41:22.101Z"
   },
   {
    "duration": 9,
    "start_time": "2021-08-08T20:41:22.655Z"
   },
   {
    "duration": 34,
    "start_time": "2021-08-08T20:43:16.827Z"
   },
   {
    "duration": 32,
    "start_time": "2021-08-08T20:43:40.920Z"
   },
   {
    "duration": 24,
    "start_time": "2021-08-08T20:47:23.673Z"
   },
   {
    "duration": 83,
    "start_time": "2021-08-08T20:50:48.772Z"
   },
   {
    "duration": 97,
    "start_time": "2021-08-08T20:50:53.778Z"
   },
   {
    "duration": 89,
    "start_time": "2021-08-08T20:50:57.054Z"
   },
   {
    "duration": 6502,
    "start_time": "2021-08-08T20:51:00.209Z"
   },
   {
    "duration": 8,
    "start_time": "2021-08-08T20:51:42.638Z"
   },
   {
    "duration": 15,
    "start_time": "2021-08-08T20:52:50.752Z"
   },
   {
    "duration": 10,
    "start_time": "2021-08-08T20:53:15.301Z"
   },
   {
    "duration": 9,
    "start_time": "2021-08-08T20:53:18.223Z"
   },
   {
    "duration": 16,
    "start_time": "2021-08-08T20:53:51.959Z"
   },
   {
    "duration": 12,
    "start_time": "2021-08-08T20:54:41.293Z"
   },
   {
    "duration": 7,
    "start_time": "2021-08-08T20:55:03.318Z"
   },
   {
    "duration": 13,
    "start_time": "2021-08-08T20:55:37.346Z"
   },
   {
    "duration": 54,
    "start_time": "2021-08-08T20:55:44.107Z"
   },
   {
    "duration": 16,
    "start_time": "2021-08-08T21:16:53.405Z"
   },
   {
    "duration": 5,
    "start_time": "2021-08-08T21:16:56.165Z"
   },
   {
    "duration": 4,
    "start_time": "2021-08-08T21:17:29.543Z"
   },
   {
    "duration": 508,
    "start_time": "2021-08-08T21:18:21.070Z"
   },
   {
    "duration": 5,
    "start_time": "2021-08-08T21:18:47.459Z"
   },
   {
    "duration": 13,
    "start_time": "2021-08-08T21:18:47.841Z"
   },
   {
    "duration": 42,
    "start_time": "2021-08-08T21:20:56.563Z"
   },
   {
    "duration": 30,
    "start_time": "2021-08-08T21:21:01.238Z"
   },
   {
    "duration": 230,
    "start_time": "2021-08-08T21:21:04.229Z"
   },
   {
    "duration": 15,
    "start_time": "2021-08-08T21:21:16.222Z"
   },
   {
    "duration": 5,
    "start_time": "2021-08-08T21:21:19.203Z"
   },
   {
    "duration": 41,
    "start_time": "2021-08-08T21:21:19.880Z"
   },
   {
    "duration": 8,
    "start_time": "2021-08-08T21:21:22.959Z"
   },
   {
    "duration": 33,
    "start_time": "2021-08-08T21:21:24.526Z"
   },
   {
    "duration": 7,
    "start_time": "2021-08-08T21:25:24.260Z"
   },
   {
    "duration": 8,
    "start_time": "2021-08-08T21:25:30.297Z"
   },
   {
    "duration": 5,
    "start_time": "2021-08-08T21:25:54.731Z"
   },
   {
    "duration": 7,
    "start_time": "2021-08-08T21:27:25.055Z"
   },
   {
    "duration": 13,
    "start_time": "2021-08-08T21:27:31.169Z"
   },
   {
    "duration": 76,
    "start_time": "2021-08-08T21:28:36.553Z"
   },
   {
    "duration": 6,
    "start_time": "2021-08-08T21:28:41.007Z"
   },
   {
    "duration": 4,
    "start_time": "2021-08-08T21:30:38.119Z"
   },
   {
    "duration": 5,
    "start_time": "2021-08-08T21:30:47.795Z"
   },
   {
    "duration": 235,
    "start_time": "2021-08-08T21:32:07.745Z"
   },
   {
    "duration": 16,
    "start_time": "2021-08-08T21:32:11.021Z"
   },
   {
    "duration": 5,
    "start_time": "2021-08-08T21:32:13.472Z"
   },
   {
    "duration": 219,
    "start_time": "2021-08-08T21:32:14.069Z"
   },
   {
    "duration": 252,
    "start_time": "2021-08-08T21:32:51.608Z"
   },
   {
    "duration": 263,
    "start_time": "2021-08-08T21:33:00.695Z"
   },
   {
    "duration": 5,
    "start_time": "2021-08-08T21:34:24.144Z"
   },
   {
    "duration": 541,
    "start_time": "2021-08-08T21:36:27.951Z"
   },
   {
    "duration": 17,
    "start_time": "2021-08-08T21:42:48.712Z"
   },
   {
    "duration": 16,
    "start_time": "2021-08-08T21:42:49.215Z"
   },
   {
    "duration": 4,
    "start_time": "2021-08-08T21:43:03.477Z"
   },
   {
    "duration": 271,
    "start_time": "2021-08-08T21:43:03.484Z"
   },
   {
    "duration": 280,
    "start_time": "2021-08-08T21:44:10.382Z"
   },
   {
    "duration": 243,
    "start_time": "2021-08-08T21:44:54.215Z"
   },
   {
    "duration": 221,
    "start_time": "2021-08-08T21:45:04.581Z"
   },
   {
    "duration": 417,
    "start_time": "2021-08-08T21:45:35.337Z"
   },
   {
    "duration": 5,
    "start_time": "2021-08-08T21:45:45.243Z"
   },
   {
    "duration": 18,
    "start_time": "2021-08-08T21:45:45.600Z"
   },
   {
    "duration": 4,
    "start_time": "2021-08-08T21:45:46.275Z"
   },
   {
    "duration": 18,
    "start_time": "2021-08-08T21:45:52.941Z"
   },
   {
    "duration": 280,
    "start_time": "2021-08-08T21:45:56.710Z"
   },
   {
    "duration": 41,
    "start_time": "2021-08-08T21:46:16.384Z"
   },
   {
    "duration": 9,
    "start_time": "2021-08-08T21:46:19.823Z"
   },
   {
    "duration": 33,
    "start_time": "2021-08-08T21:46:20.593Z"
   },
   {
    "duration": 13,
    "start_time": "2021-08-08T21:46:23.312Z"
   },
   {
    "duration": 36,
    "start_time": "2021-08-08T21:47:35.681Z"
   },
   {
    "duration": 22,
    "start_time": "2021-08-09T18:52:11.475Z"
   },
   {
    "duration": 53,
    "start_time": "2021-08-09T18:52:20.000Z"
   },
   {
    "duration": 120,
    "start_time": "2021-08-09T18:52:27.452Z"
   },
   {
    "duration": 74,
    "start_time": "2021-08-09T18:52:34.959Z"
   },
   {
    "duration": 35,
    "start_time": "2021-08-09T18:54:15.695Z"
   },
   {
    "duration": 34,
    "start_time": "2021-08-09T18:55:29.677Z"
   },
   {
    "duration": 355,
    "start_time": "2021-08-09T18:55:50.922Z"
   },
   {
    "duration": 33,
    "start_time": "2021-08-09T18:55:55.681Z"
   },
   {
    "duration": 9,
    "start_time": "2021-08-09T18:56:36.569Z"
   },
   {
    "duration": 34,
    "start_time": "2021-08-09T18:57:17.719Z"
   },
   {
    "duration": 35,
    "start_time": "2021-08-09T18:57:31.333Z"
   },
   {
    "duration": 11,
    "start_time": "2021-08-09T18:57:31.779Z"
   },
   {
    "duration": 9,
    "start_time": "2021-08-09T18:57:45.131Z"
   },
   {
    "duration": 9,
    "start_time": "2021-08-09T18:58:11.841Z"
   },
   {
    "duration": 35,
    "start_time": "2021-08-09T18:58:13.480Z"
   },
   {
    "duration": 9,
    "start_time": "2021-08-09T19:03:14.163Z"
   },
   {
    "duration": 9,
    "start_time": "2021-08-09T19:03:14.645Z"
   },
   {
    "duration": 9,
    "start_time": "2021-08-09T19:03:15.088Z"
   },
   {
    "duration": 9,
    "start_time": "2021-08-09T19:03:29.378Z"
   },
   {
    "duration": 10,
    "start_time": "2021-08-09T19:03:53.362Z"
   },
   {
    "duration": 9,
    "start_time": "2021-08-09T19:03:53.569Z"
   },
   {
    "duration": 5,
    "start_time": "2021-08-09T19:08:29.690Z"
   },
   {
    "duration": 6,
    "start_time": "2021-08-09T19:08:34.987Z"
   },
   {
    "duration": 285,
    "start_time": "2021-08-09T19:09:07.240Z"
   },
   {
    "duration": 6,
    "start_time": "2021-08-09T19:09:12.677Z"
   },
   {
    "duration": 10,
    "start_time": "2021-08-09T19:09:13.406Z"
   },
   {
    "duration": 314,
    "start_time": "2021-08-09T19:10:05.647Z"
   },
   {
    "duration": 9,
    "start_time": "2021-08-09T19:10:06.086Z"
   },
   {
    "duration": 7,
    "start_time": "2021-08-09T19:12:02.710Z"
   },
   {
    "duration": 11,
    "start_time": "2021-08-09T19:12:03.695Z"
   },
   {
    "duration": 7,
    "start_time": "2021-08-09T19:14:17.339Z"
   },
   {
    "duration": 12,
    "start_time": "2021-08-09T19:14:17.839Z"
   },
   {
    "duration": 11,
    "start_time": "2021-08-09T19:14:38.281Z"
   },
   {
    "duration": 25,
    "start_time": "2021-08-09T19:15:50.120Z"
   },
   {
    "duration": 11,
    "start_time": "2021-08-09T19:15:51.587Z"
   },
   {
    "duration": 30,
    "start_time": "2021-08-09T19:17:05.188Z"
   },
   {
    "duration": 12,
    "start_time": "2021-08-09T19:17:05.523Z"
   },
   {
    "duration": 96,
    "start_time": "2021-08-09T19:19:26.018Z"
   },
   {
    "duration": 51,
    "start_time": "2021-08-09T19:19:49.534Z"
   },
   {
    "duration": 12,
    "start_time": "2021-08-09T19:19:50.100Z"
   },
   {
    "duration": 78,
    "start_time": "2021-08-09T19:19:59.445Z"
   },
   {
    "duration": 15,
    "start_time": "2021-08-09T19:20:01.208Z"
   },
   {
    "duration": 79,
    "start_time": "2021-08-09T19:21:46.910Z"
   },
   {
    "duration": 15,
    "start_time": "2021-08-09T19:21:47.370Z"
   },
   {
    "duration": 52,
    "start_time": "2021-08-09T19:23:31.954Z"
   },
   {
    "duration": 15,
    "start_time": "2021-08-09T19:23:32.799Z"
   },
   {
    "duration": 17,
    "start_time": "2021-08-09T19:23:44.398Z"
   },
   {
    "duration": 10,
    "start_time": "2021-08-09T19:23:54.414Z"
   },
   {
    "duration": 51,
    "start_time": "2021-08-09T19:24:20.705Z"
   },
   {
    "duration": 10,
    "start_time": "2021-08-09T19:24:21.148Z"
   },
   {
    "duration": 17,
    "start_time": "2021-08-09T19:25:47.634Z"
   },
   {
    "duration": 12,
    "start_time": "2021-08-09T19:25:52.149Z"
   },
   {
    "duration": 53,
    "start_time": "2021-08-09T19:29:41.866Z"
   },
   {
    "duration": 12,
    "start_time": "2021-08-09T19:29:43.413Z"
   },
   {
    "duration": 57,
    "start_time": "2021-08-09T19:30:05.582Z"
   },
   {
    "duration": 14,
    "start_time": "2021-08-09T19:30:06.118Z"
   },
   {
    "duration": 77,
    "start_time": "2021-08-09T19:30:21.807Z"
   },
   {
    "duration": 17,
    "start_time": "2021-08-09T19:30:22.293Z"
   },
   {
    "duration": 20,
    "start_time": "2021-08-09T19:32:17.790Z"
   },
   {
    "duration": 121,
    "start_time": "2021-08-09T19:54:42.113Z"
   },
   {
    "duration": 5406,
    "start_time": "2021-08-09T19:55:57.458Z"
   },
   {
    "duration": 5497,
    "start_time": "2021-08-09T19:56:47.410Z"
   },
   {
    "duration": 264,
    "start_time": "2021-08-09T19:57:39.120Z"
   },
   {
    "duration": 270,
    "start_time": "2021-08-09T19:57:50.170Z"
   },
   {
    "duration": 5840,
    "start_time": "2021-08-09T19:59:16.926Z"
   },
   {
    "duration": 5578,
    "start_time": "2021-08-09T19:59:34.867Z"
   },
   {
    "duration": 5831,
    "start_time": "2021-08-09T19:59:43.406Z"
   },
   {
    "duration": 7533,
    "start_time": "2021-08-09T20:01:04.087Z"
   },
   {
    "duration": 16522,
    "start_time": "2021-08-09T20:03:25.395Z"
   },
   {
    "duration": 265,
    "start_time": "2021-08-09T20:04:54.892Z"
   },
   {
    "duration": 7200,
    "start_time": "2021-08-09T20:05:15.435Z"
   },
   {
    "duration": 260,
    "start_time": "2021-08-09T20:07:05.459Z"
   },
   {
    "duration": 231,
    "start_time": "2021-08-09T20:08:11.427Z"
   },
   {
    "duration": 91,
    "start_time": "2021-08-09T20:08:21.989Z"
   },
   {
    "duration": 705,
    "start_time": "2021-08-09T20:08:27.779Z"
   },
   {
    "duration": 242,
    "start_time": "2021-08-09T20:09:13.511Z"
   },
   {
    "duration": 659,
    "start_time": "2021-08-09T20:10:46.397Z"
   },
   {
    "duration": 7008,
    "start_time": "2021-08-09T20:11:28.253Z"
   },
   {
    "duration": 6757,
    "start_time": "2021-08-09T20:12:30.839Z"
   },
   {
    "duration": 7650,
    "start_time": "2021-08-09T20:12:46.654Z"
   },
   {
    "duration": 293,
    "start_time": "2021-08-09T20:14:02.733Z"
   },
   {
    "duration": 7,
    "start_time": "2021-08-09T20:14:59.708Z"
   },
   {
    "duration": 10204,
    "start_time": "2021-08-09T20:15:45.658Z"
   },
   {
    "duration": 6,
    "start_time": "2021-08-09T20:15:56.011Z"
   },
   {
    "duration": 8051,
    "start_time": "2021-08-09T20:21:47.657Z"
   },
   {
    "duration": 8158,
    "start_time": "2021-08-09T20:26:44.081Z"
   },
   {
    "duration": 8483,
    "start_time": "2021-08-09T20:27:09.260Z"
   },
   {
    "duration": 7055,
    "start_time": "2021-08-09T20:27:28.620Z"
   },
   {
    "duration": 7284,
    "start_time": "2021-08-09T20:28:00.106Z"
   },
   {
    "duration": 7058,
    "start_time": "2021-08-09T20:28:07.836Z"
   },
   {
    "duration": 7384,
    "start_time": "2021-08-09T20:28:41.250Z"
   },
   {
    "duration": 7518,
    "start_time": "2021-08-09T20:28:50.250Z"
   },
   {
    "duration": 7069,
    "start_time": "2021-08-09T20:29:02.107Z"
   },
   {
    "duration": 7070,
    "start_time": "2021-08-09T20:30:34.336Z"
   },
   {
    "duration": 7074,
    "start_time": "2021-08-09T20:39:55.412Z"
   },
   {
    "duration": 12,
    "start_time": "2021-08-09T21:50:02.809Z"
   },
   {
    "duration": 12,
    "start_time": "2021-08-10T13:59:59.491Z"
   },
   {
    "duration": 12,
    "start_time": "2021-08-10T14:00:26.779Z"
   },
   {
    "duration": 56,
    "start_time": "2021-08-10T14:00:43.973Z"
   },
   {
    "duration": 11,
    "start_time": "2021-08-10T14:01:07.834Z"
   },
   {
    "duration": 10,
    "start_time": "2021-08-10T14:01:13.494Z"
   },
   {
    "duration": 13,
    "start_time": "2021-08-10T14:02:10.636Z"
   },
   {
    "duration": 14,
    "start_time": "2021-08-10T14:02:14.931Z"
   },
   {
    "duration": 13,
    "start_time": "2021-08-10T14:02:19.145Z"
   },
   {
    "duration": 16,
    "start_time": "2021-08-10T14:02:30.672Z"
   },
   {
    "duration": 14,
    "start_time": "2021-08-10T14:02:36.185Z"
   },
   {
    "duration": 13,
    "start_time": "2021-08-10T14:06:02.040Z"
   },
   {
    "duration": 12,
    "start_time": "2021-08-10T14:06:05.819Z"
   },
   {
    "duration": 13,
    "start_time": "2021-08-10T14:07:49.801Z"
   },
   {
    "duration": 14,
    "start_time": "2021-08-10T14:07:58.591Z"
   },
   {
    "duration": 11,
    "start_time": "2021-08-10T14:11:02.581Z"
   },
   {
    "duration": 12,
    "start_time": "2021-08-10T14:11:12.883Z"
   },
   {
    "duration": 3,
    "start_time": "2021-08-10T14:16:49.538Z"
   },
   {
    "duration": 77,
    "start_time": "2021-08-10T14:20:50.911Z"
   },
   {
    "duration": 12,
    "start_time": "2021-08-10T14:20:55.903Z"
   },
   {
    "duration": 84,
    "start_time": "2021-08-10T14:21:36.223Z"
   },
   {
    "duration": 4,
    "start_time": "2021-08-10T14:40:17.573Z"
   },
   {
    "duration": 512,
    "start_time": "2021-08-10T14:40:18.263Z"
   },
   {
    "duration": 14,
    "start_time": "2021-08-10T14:40:19.018Z"
   },
   {
    "duration": 10,
    "start_time": "2021-08-10T14:40:19.362Z"
   },
   {
    "duration": 11,
    "start_time": "2021-08-10T14:40:19.747Z"
   },
   {
    "duration": 14,
    "start_time": "2021-08-10T14:40:20.162Z"
   },
   {
    "duration": 10,
    "start_time": "2021-08-10T14:40:23.715Z"
   },
   {
    "duration": 10,
    "start_time": "2021-08-10T14:40:26.554Z"
   },
   {
    "duration": 14,
    "start_time": "2021-08-10T14:40:27.180Z"
   },
   {
    "duration": 8,
    "start_time": "2021-08-10T14:40:27.460Z"
   },
   {
    "duration": 9,
    "start_time": "2021-08-10T14:40:31.127Z"
   },
   {
    "duration": 1474,
    "start_time": "2021-08-10T14:40:54.663Z"
   },
   {
    "duration": 552,
    "start_time": "2021-08-10T14:40:56.139Z"
   },
   {
    "duration": 14,
    "start_time": "2021-08-10T14:40:56.977Z"
   },
   {
    "duration": 22,
    "start_time": "2021-08-10T14:40:57.373Z"
   },
   {
    "duration": 11,
    "start_time": "2021-08-10T14:40:57.699Z"
   },
   {
    "duration": 14,
    "start_time": "2021-08-10T14:40:58.185Z"
   },
   {
    "duration": 10,
    "start_time": "2021-08-10T14:41:02.563Z"
   },
   {
    "duration": 9,
    "start_time": "2021-08-10T14:41:02.859Z"
   },
   {
    "duration": 10,
    "start_time": "2021-08-10T14:41:04.214Z"
   },
   {
    "duration": 6,
    "start_time": "2021-08-10T14:41:05.004Z"
   },
   {
    "duration": 11,
    "start_time": "2021-08-10T14:41:05.543Z"
   },
   {
    "duration": 29,
    "start_time": "2021-08-10T14:41:06.173Z"
   },
   {
    "duration": 29,
    "start_time": "2021-08-10T14:41:09.015Z"
   },
   {
    "duration": 10,
    "start_time": "2021-08-10T14:41:09.196Z"
   },
   {
    "duration": 37,
    "start_time": "2021-08-10T14:41:09.599Z"
   },
   {
    "duration": 27,
    "start_time": "2021-08-10T14:41:15.045Z"
   },
   {
    "duration": 11,
    "start_time": "2021-08-10T14:41:15.254Z"
   },
   {
    "duration": 14,
    "start_time": "2021-08-10T14:41:15.535Z"
   },
   {
    "duration": 32,
    "start_time": "2021-08-10T14:41:17.693Z"
   },
   {
    "duration": 69,
    "start_time": "2021-08-10T14:41:23.810Z"
   },
   {
    "duration": 6,
    "start_time": "2021-08-10T14:42:13.602Z"
   },
   {
    "duration": 12,
    "start_time": "2021-08-10T14:42:36.858Z"
   },
   {
    "duration": 474,
    "start_time": "2021-08-10T14:42:51.663Z"
   },
   {
    "duration": 10,
    "start_time": "2021-08-10T14:43:06.843Z"
   },
   {
    "duration": 248,
    "start_time": "2021-08-10T14:43:18.506Z"
   },
   {
    "duration": 11,
    "start_time": "2021-08-10T14:43:25.563Z"
   },
   {
    "duration": 1465,
    "start_time": "2021-08-10T14:45:11.989Z"
   },
   {
    "duration": 549,
    "start_time": "2021-08-10T14:45:13.457Z"
   },
   {
    "duration": 12,
    "start_time": "2021-08-10T14:45:14.009Z"
   },
   {
    "duration": 18,
    "start_time": "2021-08-10T14:45:14.025Z"
   },
   {
    "duration": 16,
    "start_time": "2021-08-10T14:45:14.046Z"
   },
   {
    "duration": 24,
    "start_time": "2021-08-10T14:45:14.064Z"
   },
   {
    "duration": 13,
    "start_time": "2021-08-10T14:45:14.091Z"
   },
   {
    "duration": 10,
    "start_time": "2021-08-10T14:45:14.109Z"
   },
   {
    "duration": 10,
    "start_time": "2021-08-10T14:45:14.384Z"
   },
   {
    "duration": 6,
    "start_time": "2021-08-10T14:45:14.512Z"
   },
   {
    "duration": 10,
    "start_time": "2021-08-10T14:45:14.664Z"
   },
   {
    "duration": 27,
    "start_time": "2021-08-10T14:45:14.819Z"
   },
   {
    "duration": 29,
    "start_time": "2021-08-10T14:45:15.249Z"
   },
   {
    "duration": 9,
    "start_time": "2021-08-10T14:45:15.399Z"
   },
   {
    "duration": 38,
    "start_time": "2021-08-10T14:45:15.553Z"
   },
   {
    "duration": 26,
    "start_time": "2021-08-10T14:45:15.840Z"
   },
   {
    "duration": 11,
    "start_time": "2021-08-10T14:45:16.005Z"
   },
   {
    "duration": 15,
    "start_time": "2021-08-10T14:45:16.153Z"
   },
   {
    "duration": 25,
    "start_time": "2021-08-10T14:45:16.296Z"
   },
   {
    "duration": 48,
    "start_time": "2021-08-10T14:45:16.656Z"
   },
   {
    "duration": 11,
    "start_time": "2021-08-10T14:45:17.138Z"
   },
   {
    "duration": 7,
    "start_time": "2021-08-10T14:45:17.461Z"
   },
   {
    "duration": 25,
    "start_time": "2021-08-10T14:45:17.613Z"
   },
   {
    "duration": 13,
    "start_time": "2021-08-10T14:45:17.758Z"
   },
   {
    "duration": 36,
    "start_time": "2021-08-10T14:45:17.913Z"
   },
   {
    "duration": 8,
    "start_time": "2021-08-10T14:45:18.065Z"
   },
   {
    "duration": 12,
    "start_time": "2021-08-10T14:45:18.380Z"
   },
   {
    "duration": 64,
    "start_time": "2021-08-10T14:45:18.693Z"
   },
   {
    "duration": 197,
    "start_time": "2021-08-10T14:45:19.009Z"
   },
   {
    "duration": 71,
    "start_time": "2021-08-10T14:45:19.319Z"
   },
   {
    "duration": 33,
    "start_time": "2021-08-10T14:45:19.465Z"
   },
   {
    "duration": 37,
    "start_time": "2021-08-10T14:45:19.628Z"
   },
   {
    "duration": 84,
    "start_time": "2021-08-10T14:45:19.965Z"
   },
   {
    "duration": 11,
    "start_time": "2021-08-10T14:45:20.283Z"
   },
   {
    "duration": 7,
    "start_time": "2021-08-10T14:45:20.818Z"
   },
   {
    "duration": 6,
    "start_time": "2021-08-10T14:45:21.142Z"
   },
   {
    "duration": 19,
    "start_time": "2021-08-10T14:45:21.306Z"
   },
   {
    "duration": 5,
    "start_time": "2021-08-10T14:45:21.607Z"
   },
   {
    "duration": 41,
    "start_time": "2021-08-10T14:45:21.925Z"
   },
   {
    "duration": 10,
    "start_time": "2021-08-10T14:45:22.239Z"
   },
   {
    "duration": 33,
    "start_time": "2021-08-10T14:45:22.394Z"
   },
   {
    "duration": 15,
    "start_time": "2021-08-10T14:45:22.710Z"
   },
   {
    "duration": 52,
    "start_time": "2021-08-10T14:45:23.551Z"
   },
   {
    "duration": 13,
    "start_time": "2021-08-10T14:45:23.733Z"
   },
   {
    "duration": 5,
    "start_time": "2021-08-10T14:45:24.359Z"
   },
   {
    "duration": 5198,
    "start_time": "2021-08-10T14:45:24.525Z"
   },
   {
    "duration": 14,
    "start_time": "2021-08-10T14:45:29.727Z"
   },
   {
    "duration": 16,
    "start_time": "2021-08-10T14:45:29.764Z"
   },
   {
    "duration": 15,
    "start_time": "2021-08-10T14:45:29.783Z"
   },
   {
    "duration": 11,
    "start_time": "2021-08-10T14:45:29.801Z"
   },
   {
    "duration": 57,
    "start_time": "2021-08-10T14:45:29.815Z"
   },
   {
    "duration": 2582,
    "start_time": "2021-08-11T07:50:36.485Z"
   },
   {
    "duration": 770,
    "start_time": "2021-08-11T07:50:39.070Z"
   },
   {
    "duration": 14,
    "start_time": "2021-08-11T07:50:39.844Z"
   },
   {
    "duration": 20,
    "start_time": "2021-08-11T07:50:39.862Z"
   },
   {
    "duration": 15,
    "start_time": "2021-08-11T07:50:39.885Z"
   },
   {
    "duration": 15,
    "start_time": "2021-08-11T07:50:39.904Z"
   },
   {
    "duration": 14,
    "start_time": "2021-08-11T07:50:39.922Z"
   },
   {
    "duration": 11,
    "start_time": "2021-08-11T07:50:39.968Z"
   },
   {
    "duration": 11,
    "start_time": "2021-08-11T07:50:39.985Z"
   },
   {
    "duration": 7,
    "start_time": "2021-08-11T07:50:40.000Z"
   },
   {
    "duration": 16,
    "start_time": "2021-08-11T07:50:40.009Z"
   },
   {
    "duration": 28,
    "start_time": "2021-08-11T07:50:40.068Z"
   },
   {
    "duration": 31,
    "start_time": "2021-08-11T07:50:40.099Z"
   },
   {
    "duration": 42,
    "start_time": "2021-08-11T07:50:40.132Z"
   },
   {
    "duration": 37,
    "start_time": "2021-08-11T07:50:40.177Z"
   },
   {
    "duration": 51,
    "start_time": "2021-08-11T07:50:40.216Z"
   },
   {
    "duration": 11,
    "start_time": "2021-08-11T07:50:40.269Z"
   },
   {
    "duration": 15,
    "start_time": "2021-08-11T07:50:40.283Z"
   },
   {
    "duration": 25,
    "start_time": "2021-08-11T07:50:40.300Z"
   },
   {
    "duration": 83,
    "start_time": "2021-08-11T07:50:40.327Z"
   },
   {
    "duration": 10,
    "start_time": "2021-08-11T07:50:40.413Z"
   },
   {
    "duration": 14,
    "start_time": "2021-08-11T07:50:40.426Z"
   },
   {
    "duration": 39,
    "start_time": "2021-08-11T07:50:40.442Z"
   },
   {
    "duration": 11,
    "start_time": "2021-08-11T07:50:40.483Z"
   },
   {
    "duration": 37,
    "start_time": "2021-08-11T07:50:40.497Z"
   },
   {
    "duration": 36,
    "start_time": "2021-08-11T07:50:40.536Z"
   },
   {
    "duration": 11,
    "start_time": "2021-08-11T07:50:40.577Z"
   },
   {
    "duration": 91,
    "start_time": "2021-08-11T07:50:40.591Z"
   },
   {
    "duration": 206,
    "start_time": "2021-08-11T07:50:40.684Z"
   },
   {
    "duration": 77,
    "start_time": "2021-08-11T07:50:40.892Z"
   },
   {
    "duration": 31,
    "start_time": "2021-08-11T07:50:40.971Z"
   },
   {
    "duration": 28,
    "start_time": "2021-08-11T07:50:41.005Z"
   },
   {
    "duration": 107,
    "start_time": "2021-08-11T07:50:41.036Z"
   },
   {
    "duration": 22,
    "start_time": "2021-08-11T07:50:41.145Z"
   },
   {
    "duration": 6,
    "start_time": "2021-08-11T07:50:41.170Z"
   },
   {
    "duration": 6,
    "start_time": "2021-08-11T07:50:41.178Z"
   },
   {
    "duration": 18,
    "start_time": "2021-08-11T07:50:41.186Z"
   },
   {
    "duration": 5,
    "start_time": "2021-08-11T07:50:41.207Z"
   },
   {
    "duration": 76,
    "start_time": "2021-08-11T07:50:41.215Z"
   },
   {
    "duration": 8,
    "start_time": "2021-08-11T07:50:41.293Z"
   },
   {
    "duration": 38,
    "start_time": "2021-08-11T07:50:41.303Z"
   },
   {
    "duration": 34,
    "start_time": "2021-08-11T07:50:41.343Z"
   },
   {
    "duration": 55,
    "start_time": "2021-08-11T07:50:41.379Z"
   },
   {
    "duration": 31,
    "start_time": "2021-08-11T07:50:41.436Z"
   },
   {
    "duration": 8,
    "start_time": "2021-08-11T07:50:41.470Z"
   },
   {
    "duration": 5474,
    "start_time": "2021-08-11T07:50:41.480Z"
   },
   {
    "duration": 16,
    "start_time": "2021-08-11T07:50:46.957Z"
   },
   {
    "duration": 14,
    "start_time": "2021-08-11T07:50:46.977Z"
   },
   {
    "duration": 9,
    "start_time": "2021-08-11T07:50:46.994Z"
   },
   {
    "duration": 10,
    "start_time": "2021-08-11T07:50:47.005Z"
   },
   {
    "duration": 13,
    "start_time": "2021-08-11T07:50:47.067Z"
   },
   {
    "duration": 20,
    "start_time": "2021-08-11T07:57:50.218Z"
   },
   {
    "duration": 21,
    "start_time": "2021-08-11T07:59:55.125Z"
   },
   {
    "duration": 40,
    "start_time": "2021-08-11T08:00:11.574Z"
   },
   {
    "duration": 61,
    "start_time": "2021-08-11T08:00:16.906Z"
   },
   {
    "duration": 4,
    "start_time": "2021-08-11T08:04:38.102Z"
   },
   {
    "duration": 793,
    "start_time": "2021-08-11T08:06:17.785Z"
   },
   {
    "duration": 33,
    "start_time": "2021-08-11T08:06:38.746Z"
   },
   {
    "duration": 4,
    "start_time": "2021-08-11T08:06:53.235Z"
   },
   {
    "duration": 33,
    "start_time": "2021-08-11T08:06:53.455Z"
   },
   {
    "duration": 17,
    "start_time": "2021-08-11T08:08:59.459Z"
   },
   {
    "duration": 11,
    "start_time": "2021-08-11T08:10:43.968Z"
   },
   {
    "duration": 7,
    "start_time": "2021-08-11T08:12:28.437Z"
   },
   {
    "duration": 6,
    "start_time": "2021-08-11T08:16:49.105Z"
   },
   {
    "duration": 43,
    "start_time": "2021-08-11T08:17:21.304Z"
   },
   {
    "duration": 34,
    "start_time": "2021-08-11T08:17:41.316Z"
   },
   {
    "duration": 40,
    "start_time": "2021-08-11T08:18:13.820Z"
   },
   {
    "duration": 6,
    "start_time": "2021-08-11T08:18:28.467Z"
   },
   {
    "duration": 6,
    "start_time": "2021-08-11T08:18:36.606Z"
   },
   {
    "duration": 50,
    "start_time": "2021-08-11T08:18:42.139Z"
   },
   {
    "duration": 38,
    "start_time": "2021-08-11T08:19:09.875Z"
   },
   {
    "duration": 220,
    "start_time": "2021-08-11T09:46:04.450Z"
   },
   {
    "duration": 1074,
    "start_time": "2021-08-11T09:46:16.944Z"
   },
   {
    "duration": 445,
    "start_time": "2021-08-11T09:46:18.019Z"
   },
   {
    "duration": 10,
    "start_time": "2021-08-11T09:46:18.466Z"
   },
   {
    "duration": 12,
    "start_time": "2021-08-11T09:46:18.478Z"
   },
   {
    "duration": 8,
    "start_time": "2021-08-11T09:46:18.491Z"
   },
   {
    "duration": 12,
    "start_time": "2021-08-11T09:46:18.501Z"
   },
   {
    "duration": 9,
    "start_time": "2021-08-11T09:46:18.515Z"
   },
   {
    "duration": 7,
    "start_time": "2021-08-11T09:46:18.526Z"
   },
   {
    "duration": 9,
    "start_time": "2021-08-11T09:46:18.535Z"
   },
   {
    "duration": 4,
    "start_time": "2021-08-11T09:46:18.546Z"
   },
   {
    "duration": 8,
    "start_time": "2021-08-11T09:46:18.585Z"
   },
   {
    "duration": 19,
    "start_time": "2021-08-11T09:46:18.595Z"
   },
   {
    "duration": 18,
    "start_time": "2021-08-11T09:46:18.616Z"
   },
   {
    "duration": 7,
    "start_time": "2021-08-11T09:46:18.636Z"
   },
   {
    "duration": 58,
    "start_time": "2021-08-11T09:46:18.644Z"
   },
   {
    "duration": 16,
    "start_time": "2021-08-11T09:46:18.704Z"
   },
   {
    "duration": 7,
    "start_time": "2021-08-11T09:46:18.721Z"
   },
   {
    "duration": 11,
    "start_time": "2021-08-11T09:46:18.730Z"
   },
   {
    "duration": 43,
    "start_time": "2021-08-11T09:46:18.743Z"
   },
   {
    "duration": 34,
    "start_time": "2021-08-11T09:46:18.787Z"
   },
   {
    "duration": 8,
    "start_time": "2021-08-11T09:46:18.823Z"
   },
   {
    "duration": 6,
    "start_time": "2021-08-11T09:46:18.833Z"
   },
   {
    "duration": 18,
    "start_time": "2021-08-11T09:46:18.843Z"
   },
   {
    "duration": 8,
    "start_time": "2021-08-11T09:46:18.886Z"
   },
   {
    "duration": 29,
    "start_time": "2021-08-11T09:46:18.896Z"
   },
   {
    "duration": 6,
    "start_time": "2021-08-11T09:46:18.926Z"
   },
   {
    "duration": 11,
    "start_time": "2021-08-11T09:46:18.933Z"
   },
   {
    "duration": 78,
    "start_time": "2021-08-11T09:46:18.945Z"
   },
   {
    "duration": 137,
    "start_time": "2021-08-11T09:46:19.025Z"
   },
   {
    "duration": 59,
    "start_time": "2021-08-11T09:46:19.164Z"
   },
   {
    "duration": 21,
    "start_time": "2021-08-11T09:46:19.225Z"
   },
   {
    "duration": 37,
    "start_time": "2021-08-11T09:46:19.248Z"
   },
   {
    "duration": 53,
    "start_time": "2021-08-11T09:46:19.287Z"
   },
   {
    "duration": 5,
    "start_time": "2021-08-11T09:46:19.342Z"
   },
   {
    "duration": 5,
    "start_time": "2021-08-11T09:46:19.348Z"
   },
   {
    "duration": 4,
    "start_time": "2021-08-11T09:46:19.354Z"
   },
   {
    "duration": 35,
    "start_time": "2021-08-11T09:46:19.359Z"
   },
   {
    "duration": 3,
    "start_time": "2021-08-11T09:46:19.396Z"
   },
   {
    "duration": 26,
    "start_time": "2021-08-11T09:46:19.400Z"
   },
   {
    "duration": 6,
    "start_time": "2021-08-11T09:46:19.427Z"
   },
   {
    "duration": 18,
    "start_time": "2021-08-11T09:46:19.435Z"
   },
   {
    "duration": 37,
    "start_time": "2021-08-11T09:46:19.454Z"
   },
   {
    "duration": 36,
    "start_time": "2021-08-11T09:46:19.493Z"
   },
   {
    "duration": 9,
    "start_time": "2021-08-11T09:46:19.531Z"
   },
   {
    "duration": 4,
    "start_time": "2021-08-11T09:46:19.543Z"
   },
   {
    "duration": 3626,
    "start_time": "2021-08-11T09:46:19.549Z"
   },
   {
    "duration": 15,
    "start_time": "2021-08-11T09:46:23.176Z"
   },
   {
    "duration": 14,
    "start_time": "2021-08-11T09:46:23.192Z"
   },
   {
    "duration": 5,
    "start_time": "2021-08-11T09:46:23.208Z"
   },
   {
    "duration": 9,
    "start_time": "2021-08-11T09:46:23.214Z"
   },
   {
    "duration": 8,
    "start_time": "2021-08-11T09:46:23.225Z"
   }
  ],
  "kernelspec": {
   "display_name": "Python 3",
   "language": "python",
   "name": "python3"
  },
  "language_info": {
   "codemirror_mode": {
    "name": "ipython",
    "version": 3
   },
   "file_extension": ".py",
   "mimetype": "text/x-python",
   "name": "python",
   "nbconvert_exporter": "python",
   "pygments_lexer": "ipython3",
   "version": "3.8.5"
  },
  "toc": {
   "base_numbering": 1,
   "nav_menu": {},
   "number_sections": true,
   "sideBar": true,
   "skip_h1_title": true,
   "title_cell": "Table of Contents",
   "title_sidebar": "Contents",
   "toc_cell": false,
   "toc_position": {},
   "toc_section_display": true,
   "toc_window_display": false
  }
 },
 "nbformat": 4,
 "nbformat_minor": 2
}
