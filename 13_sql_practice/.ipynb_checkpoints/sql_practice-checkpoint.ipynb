{
 "cells": [
  {
   "cell_type": "markdown",
   "metadata": {
    "id": "sRW85nPMDWKb"
   },
   "source": [
    "# SQL practice"
   ]
  },
  {
   "cell_type": "markdown",
   "metadata": {},
   "source": [
    "In this project, we need to write some SQL queries in Jupiter Notebook.\n",
    "\n",
    "The necessary data is located in the tables of the `stackoverflow` schema. We need to connect to the database using SQLAlchemy.\n",
    "\n",
    "The sample code for connecting to the database and uploading the results is in this notebook.\n",
    "\n",
    "Some tasks include additional questions — they need to be answered.\n",
    "In addition, some of the questions can be answered in text, and for some you will need visualization.\n",
    "The result of the request can be uploaded to a dataframe.\n",
    "\n",
    "We can use any appropriate field names in your queries."
   ]
  },
  {
   "cell_type": "code",
   "execution_count": 1,
   "metadata": {
    "id": "nlZBlglMDWKe"
   },
   "outputs": [],
   "source": [
    "import pandas as pd\n",
    "import matplotlib.pyplot as plt\n",
    "import seaborn as sns\n",
    "from sqlalchemy import create_engine "
   ]
  },
  {
   "cell_type": "markdown",
   "metadata": {
    "id": "XnOE3n28DWKg"
   },
   "source": [
    "### Configuration for connecting to the `data-analyst-advanced-sql` database"
   ]
  },
  {
   "cell_type": "code",
   "execution_count": 2,
   "metadata": {
    "id": "6p-yGp7qDWKg"
   },
   "outputs": [],
   "source": [
    "db_config = {\n",
    "    'user': 'praktikum_student',\n",
    "    'pwd': 'Sdf4$2;d-d30pp', \n",
    "    'host': 'rc1b-wcoijxj3yxfsf3fs.mdb.yandexcloud.net',\n",
    "    'port': 6432, \n",
    "    'db': 'data-analyst-advanced-sql' \n",
    "}  \n",
    "\n",
    "connection_string = 'postgresql://{}:{}@{}:{}/{}'.format(\n",
    "    db_config['user'],\n",
    "    db_config['pwd'],\n",
    "    db_config['host'],\n",
    "    db_config['port'],\n",
    "    db_config['db'],\n",
    ")"
   ]
  },
  {
   "cell_type": "markdown",
   "metadata": {
    "id": "2Rg8ZpS0DWKh"
   },
   "source": [
    "Creating a connection"
   ]
  },
  {
   "cell_type": "code",
   "execution_count": 3,
   "metadata": {
    "id": "DamCUTR6DWKi"
   },
   "outputs": [],
   "source": [
    "engine = create_engine(connection_string) "
   ]
  },
  {
   "cell_type": "markdown",
   "metadata": {
    "id": "bel8XeSlDWKj"
   },
   "source": [
    "Example of a database query\n",
    "\n",
    "`sample_df` is a pandas dataframe."
   ]
  },
  {
   "cell_type": "code",
   "execution_count": 4,
   "metadata": {
    "id": "6Z_fw0yLDWKk"
   },
   "outputs": [],
   "source": [
    "query = '''\n",
    "SELECT *\n",
    "FROM stackoverflow.users\n",
    "LIMIT 10;\n",
    "'''\n",
    "\n",
    "sample_df = pd.read_sql_query(query, con=engine) "
   ]
  },
  {
   "cell_type": "code",
   "execution_count": 5,
   "metadata": {
    "id": "ZpuZ290oDWKk",
    "outputId": "22785a0a-e2bc-4559-ec3c-4879c4b377eb"
   },
   "outputs": [
    {
     "data": {
      "text/html": [
       "<div>\n",
       "<style scoped>\n",
       "    .dataframe tbody tr th:only-of-type {\n",
       "        vertical-align: middle;\n",
       "    }\n",
       "\n",
       "    .dataframe tbody tr th {\n",
       "        vertical-align: top;\n",
       "    }\n",
       "\n",
       "    .dataframe thead th {\n",
       "        text-align: right;\n",
       "    }\n",
       "</style>\n",
       "<table border=\"1\" class=\"dataframe\">\n",
       "  <thead>\n",
       "    <tr style=\"text-align: right;\">\n",
       "      <th></th>\n",
       "      <th>id</th>\n",
       "      <th>creation_date</th>\n",
       "      <th>display_name</th>\n",
       "      <th>last_access_date</th>\n",
       "      <th>location</th>\n",
       "      <th>reputation</th>\n",
       "      <th>views</th>\n",
       "    </tr>\n",
       "  </thead>\n",
       "  <tbody>\n",
       "    <tr>\n",
       "      <th>0</th>\n",
       "      <td>1</td>\n",
       "      <td>2008-07-31 14:22:31</td>\n",
       "      <td>Jeff Atwood</td>\n",
       "      <td>2018-08-29 02:34:23</td>\n",
       "      <td>El Cerrito, CA</td>\n",
       "      <td>44300</td>\n",
       "      <td>408587</td>\n",
       "    </tr>\n",
       "    <tr>\n",
       "      <th>1</th>\n",
       "      <td>2</td>\n",
       "      <td>2008-07-31 14:22:31</td>\n",
       "      <td>Geoff Dalgas</td>\n",
       "      <td>2018-08-23 17:31:56</td>\n",
       "      <td>Corvallis, OR</td>\n",
       "      <td>3491</td>\n",
       "      <td>23966</td>\n",
       "    </tr>\n",
       "    <tr>\n",
       "      <th>2</th>\n",
       "      <td>3</td>\n",
       "      <td>2008-07-31 14:22:31</td>\n",
       "      <td>Jarrod Dixon</td>\n",
       "      <td>2018-08-30 20:56:24</td>\n",
       "      <td>Raleigh, NC, United States</td>\n",
       "      <td>13418</td>\n",
       "      <td>24396</td>\n",
       "    </tr>\n",
       "    <tr>\n",
       "      <th>3</th>\n",
       "      <td>4</td>\n",
       "      <td>2008-07-31 14:22:31</td>\n",
       "      <td>Joel Spolsky</td>\n",
       "      <td>2018-08-14 22:18:15</td>\n",
       "      <td>New York, NY</td>\n",
       "      <td>28768</td>\n",
       "      <td>73755</td>\n",
       "    </tr>\n",
       "    <tr>\n",
       "      <th>4</th>\n",
       "      <td>5</td>\n",
       "      <td>2008-07-31 14:22:31</td>\n",
       "      <td>Jon Galloway</td>\n",
       "      <td>2018-08-29 16:48:36</td>\n",
       "      <td>San Diego, CA</td>\n",
       "      <td>39172</td>\n",
       "      <td>11700</td>\n",
       "    </tr>\n",
       "    <tr>\n",
       "      <th>5</th>\n",
       "      <td>8</td>\n",
       "      <td>2008-07-31 21:33:24</td>\n",
       "      <td>Eggs McLaren</td>\n",
       "      <td>2018-04-09 02:04:56</td>\n",
       "      <td>None</td>\n",
       "      <td>942</td>\n",
       "      <td>6372</td>\n",
       "    </tr>\n",
       "    <tr>\n",
       "      <th>6</th>\n",
       "      <td>9</td>\n",
       "      <td>2008-07-31 21:35:27</td>\n",
       "      <td>Kevin Dente</td>\n",
       "      <td>2018-08-30 18:18:03</td>\n",
       "      <td>Oakland, CA</td>\n",
       "      <td>14337</td>\n",
       "      <td>4949</td>\n",
       "    </tr>\n",
       "    <tr>\n",
       "      <th>7</th>\n",
       "      <td>11</td>\n",
       "      <td>2008-08-01 00:59:11</td>\n",
       "      <td>Anonymous User</td>\n",
       "      <td>2008-08-01 00:59:11</td>\n",
       "      <td>None</td>\n",
       "      <td>1890</td>\n",
       "      <td>2123</td>\n",
       "    </tr>\n",
       "    <tr>\n",
       "      <th>8</th>\n",
       "      <td>13</td>\n",
       "      <td>2008-08-01 04:18:05</td>\n",
       "      <td>Chris Jester-Young</td>\n",
       "      <td>2018-08-30 02:47:23</td>\n",
       "      <td>Raleigh, NC, United States</td>\n",
       "      <td>177138</td>\n",
       "      <td>35414</td>\n",
       "    </tr>\n",
       "    <tr>\n",
       "      <th>9</th>\n",
       "      <td>17</td>\n",
       "      <td>2008-08-01 12:02:22</td>\n",
       "      <td>Nick Berardi</td>\n",
       "      <td>2018-01-22 01:35:38</td>\n",
       "      <td>Issaquah, WA</td>\n",
       "      <td>44443</td>\n",
       "      <td>4786</td>\n",
       "    </tr>\n",
       "  </tbody>\n",
       "</table>\n",
       "</div>"
      ],
      "text/plain": [
       "   id       creation_date        display_name    last_access_date  \\\n",
       "0   1 2008-07-31 14:22:31         Jeff Atwood 2018-08-29 02:34:23   \n",
       "1   2 2008-07-31 14:22:31        Geoff Dalgas 2018-08-23 17:31:56   \n",
       "2   3 2008-07-31 14:22:31        Jarrod Dixon 2018-08-30 20:56:24   \n",
       "3   4 2008-07-31 14:22:31        Joel Spolsky 2018-08-14 22:18:15   \n",
       "4   5 2008-07-31 14:22:31        Jon Galloway 2018-08-29 16:48:36   \n",
       "5   8 2008-07-31 21:33:24        Eggs McLaren 2018-04-09 02:04:56   \n",
       "6   9 2008-07-31 21:35:27         Kevin Dente 2018-08-30 18:18:03   \n",
       "7  11 2008-08-01 00:59:11      Anonymous User 2008-08-01 00:59:11   \n",
       "8  13 2008-08-01 04:18:05  Chris Jester-Young 2018-08-30 02:47:23   \n",
       "9  17 2008-08-01 12:02:22        Nick Berardi 2018-01-22 01:35:38   \n",
       "\n",
       "                     location  reputation   views  \n",
       "0              El Cerrito, CA       44300  408587  \n",
       "1               Corvallis, OR        3491   23966  \n",
       "2  Raleigh, NC, United States       13418   24396  \n",
       "3                New York, NY       28768   73755  \n",
       "4               San Diego, CA       39172   11700  \n",
       "5                        None         942    6372  \n",
       "6                 Oakland, CA       14337    4949  \n",
       "7                        None        1890    2123  \n",
       "8  Raleigh, NC, United States      177138   35414  \n",
       "9                Issaquah, WA       44443    4786  "
      ]
     },
     "execution_count": 5,
     "metadata": {},
     "output_type": "execute_result"
    }
   ],
   "source": [
    "sample_df"
   ]
  },
  {
   "cell_type": "markdown",
   "metadata": {
    "id": "gnBMXkDBDWKm"
   },
   "source": [
    "# Task 1"
   ]
  },
  {
   "cell_type": "markdown",
   "metadata": {
    "id": "vHsfOrrNDWKn"
   },
   "source": [
    "Calculate the total amount of post views for each month of 2008. If there is no data for any month in the database, you can skip such a month. Sort the result in descending order of the total number of views."
   ]
  },
  {
   "cell_type": "markdown",
   "metadata": {
    "id": "N5rTgGNmDWKn"
   },
   "source": [
    "| month_date  | total_views |\n",
    "| ------------- | ------------- |\n",
    "| 2008-09-01  | 452928568  |\n",
    "| 2008-10-01  | 365400138  |\n",
    "| ...         | ... |"
   ]
  },
  {
   "cell_type": "code",
   "execution_count": 6,
   "metadata": {
    "id": "eWvykcXTDWKo"
   },
   "outputs": [],
   "source": [
    "query = '''\n",
    "select \n",
    "   date_trunc('month',a.creation_date) as month_date,\n",
    "   sum(a.views_count) as total_views\n",
    "from stackoverflow.posts a\n",
    "where 1=1\n",
    "  and date_trunc('month',a.creation_date) >= date'2008-01-01'\n",
    "  and date_trunc('month',a.creation_date) < date'2009-01-01'\n",
    "group by date_trunc('month',a.creation_date)\n",
    "order by sum(a.views_count) desc;\n",
    "'''\n",
    "\n",
    "sample_df = pd.read_sql_query(query, con=engine) "
   ]
  },
  {
   "cell_type": "code",
   "execution_count": 7,
   "metadata": {},
   "outputs": [
    {
     "data": {
      "text/html": [
       "<div>\n",
       "<style scoped>\n",
       "    .dataframe tbody tr th:only-of-type {\n",
       "        vertical-align: middle;\n",
       "    }\n",
       "\n",
       "    .dataframe tbody tr th {\n",
       "        vertical-align: top;\n",
       "    }\n",
       "\n",
       "    .dataframe thead th {\n",
       "        text-align: right;\n",
       "    }\n",
       "</style>\n",
       "<table border=\"1\" class=\"dataframe\">\n",
       "  <thead>\n",
       "    <tr style=\"text-align: right;\">\n",
       "      <th></th>\n",
       "      <th>month_date</th>\n",
       "      <th>total_views</th>\n",
       "    </tr>\n",
       "  </thead>\n",
       "  <tbody>\n",
       "    <tr>\n",
       "      <th>0</th>\n",
       "      <td>2008-09-01</td>\n",
       "      <td>452928568</td>\n",
       "    </tr>\n",
       "    <tr>\n",
       "      <th>1</th>\n",
       "      <td>2008-10-01</td>\n",
       "      <td>365400138</td>\n",
       "    </tr>\n",
       "    <tr>\n",
       "      <th>2</th>\n",
       "      <td>2008-11-01</td>\n",
       "      <td>221759651</td>\n",
       "    </tr>\n",
       "  </tbody>\n",
       "</table>\n",
       "</div>"
      ],
      "text/plain": [
       "  month_date  total_views\n",
       "0 2008-09-01    452928568\n",
       "1 2008-10-01    365400138\n",
       "2 2008-11-01    221759651"
      ]
     },
     "execution_count": 7,
     "metadata": {},
     "output_type": "execute_result"
    }
   ],
   "source": [
    "sample_df.head(3)"
   ]
  },
  {
   "cell_type": "code",
   "execution_count": 8,
   "metadata": {},
   "outputs": [],
   "source": [
    "query = '''\n",
    "select \n",
    "   date_trunc('month',a.creation_date) as month_date,\n",
    "   count(a.id) as total_views\n",
    "from stackoverflow.users a\n",
    "where 1=1\n",
    "  and date_trunc('month',a.creation_date) >= date'2008-01-01'\n",
    "  and date_trunc('month',a.creation_date) < date'2009-01-01'\n",
    "group by date_trunc('month',a.creation_date);\n",
    "'''\n",
    "\n",
    "sample_df_1 = pd.read_sql_query(query, con=engine) "
   ]
  },
  {
   "cell_type": "markdown",
   "metadata": {
    "id": "I_ZvhOxkDWKp"
   },
   "source": [
    "Проанализируйте итоговую таблицу. Отличаются ли данные за разные месяцы? С чем могут быть связаны отличия?"
   ]
  },
  {
   "cell_type": "code",
   "execution_count": 9,
   "metadata": {},
   "outputs": [
    {
     "data": {
      "image/png": "[encoded data removed]",
      "text/plain": [
       "<Figure size 720x288 with 2 Axes>"
      ]
     },
     "metadata": {
      "needs_background": "light"
     },
     "output_type": "display_data"
    }
   ],
   "source": [
    "fig, ax1 = plt.subplots(figsize=(10,4))\n",
    "\n",
    "ax2 = ax1.twinx()\n",
    "\n",
    "ax1.plot(sample_df.sort_values(by = 'month_date')['month_date'], \n",
    "         sample_df.sort_values(by = 'month_date')['total_views'], 'g-')\n",
    "\n",
    "ax2.plot(sample_df_1.sort_values(by = 'month_date')['month_date'], \n",
    "         sample_df_1.sort_values(by = 'month_date')['total_views'], 'b-')\n",
    "\n",
    "ax1.set_xlabel('date')\n",
    "ax1.set_ylabel('views', color = 'g')\n",
    "ax2.set_ylabel('new_users', color = 'b')\n",
    "ax1.grid()\n",
    "\n",
    "plt.show()"
   ]
  },
  {
   "cell_type": "markdown",
   "metadata": {},
   "source": [
    "- unevenness may be related to seasonality\n",
    "- we see a similar surge in the registration of new users in the fall\n",
    "- the surge in the number of registrations may be related to the growing popularity of the platform *`stackoverflow`* (it was launched in 2008)"
   ]
  },
  {
   "cell_type": "markdown",
   "metadata": {
    "id": "FziIXkn5DWKr"
   },
   "source": [
    "# Task 2"
   ]
  },
  {
   "cell_type": "markdown",
   "metadata": {
    "id": "fTGESZvYDWKr"
   },
   "source": [
    "Show the names of the most active users who gave more than 100 responses in the first month after registration (including the day of registration). Do not take into account the questions that users asked. For each user name, output the number of unique values of `user_id`. Sort the result by the field with names in lexicographic order."
   ]
  },
  {
   "cell_type": "markdown",
   "metadata": {
    "id": "W5-tv6Y3DWKs"
   },
   "source": [
    "| display_name | count |\n",
    "| ------------ | ----- |\n",
    "| 1800 INFORMATION | 1 |\n",
    "| Adam Bellaire | 1 |\n",
    "| Adam Davis | 1 |\n",
    "| ... | ... |"
   ]
  },
  {
   "cell_type": "code",
   "execution_count": 10,
   "metadata": {
    "id": "fIO-y-YjDWKt"
   },
   "outputs": [],
   "source": [
    "query = '''\n",
    "with tmp as (\n",
    "\n",
    "select \n",
    "   a.display_name,\n",
    "   count(distinct a.id) as count,\n",
    "   c.type,\n",
    "   count(distinct b.id) as cnt_answ\n",
    "from stackoverflow.users a\n",
    "\n",
    "inner join stackoverflow.posts b\n",
    "on a.id = b.user_id\n",
    "  and a.creation_date <= b.creation_date\n",
    "  and date_trunc('day',a.creation_date) + interval '30 days' >= date_trunc('day',b.creation_date)\n",
    "\n",
    "inner join  stackoverflow.post_types c\n",
    "on b.post_type_id = c.id\n",
    "  and c.type = 'Answer'\n",
    "\n",
    "where 1=1\n",
    "group by a.display_name, c.type\n",
    "having  count(distinct b.id) > 100\n",
    "order by a.display_name asc\n",
    ")\n",
    "\n",
    "select \n",
    " a.display_name,\n",
    " a.count\n",
    "from tmp a;\n",
    "'''\n",
    "\n",
    "sample_df = pd.read_sql_query(query, con=engine)"
   ]
  },
  {
   "cell_type": "code",
   "execution_count": 11,
   "metadata": {},
   "outputs": [
    {
     "data": {
      "text/html": [
       "<div>\n",
       "<style scoped>\n",
       "    .dataframe tbody tr th:only-of-type {\n",
       "        vertical-align: middle;\n",
       "    }\n",
       "\n",
       "    .dataframe tbody tr th {\n",
       "        vertical-align: top;\n",
       "    }\n",
       "\n",
       "    .dataframe thead th {\n",
       "        text-align: right;\n",
       "    }\n",
       "</style>\n",
       "<table border=\"1\" class=\"dataframe\">\n",
       "  <thead>\n",
       "    <tr style=\"text-align: right;\">\n",
       "      <th></th>\n",
       "      <th>display_name</th>\n",
       "      <th>count</th>\n",
       "    </tr>\n",
       "  </thead>\n",
       "  <tbody>\n",
       "    <tr>\n",
       "      <th>0</th>\n",
       "      <td>1800 INFORMATION</td>\n",
       "      <td>1</td>\n",
       "    </tr>\n",
       "    <tr>\n",
       "      <th>1</th>\n",
       "      <td>Adam Bellaire</td>\n",
       "      <td>1</td>\n",
       "    </tr>\n",
       "    <tr>\n",
       "      <th>2</th>\n",
       "      <td>Adam Davis</td>\n",
       "      <td>1</td>\n",
       "    </tr>\n",
       "    <tr>\n",
       "      <th>3</th>\n",
       "      <td>Adam Liss</td>\n",
       "      <td>1</td>\n",
       "    </tr>\n",
       "    <tr>\n",
       "      <th>4</th>\n",
       "      <td>Alan</td>\n",
       "      <td>8</td>\n",
       "    </tr>\n",
       "    <tr>\n",
       "      <th>...</th>\n",
       "      <td>...</td>\n",
       "      <td>...</td>\n",
       "    </tr>\n",
       "    <tr>\n",
       "      <th>74</th>\n",
       "      <td>lomaxx</td>\n",
       "      <td>1</td>\n",
       "    </tr>\n",
       "    <tr>\n",
       "      <th>75</th>\n",
       "      <td>mattlant</td>\n",
       "      <td>1</td>\n",
       "    </tr>\n",
       "    <tr>\n",
       "      <th>76</th>\n",
       "      <td>paxdiablo</td>\n",
       "      <td>1</td>\n",
       "    </tr>\n",
       "    <tr>\n",
       "      <th>77</th>\n",
       "      <td>tvanfosson</td>\n",
       "      <td>1</td>\n",
       "    </tr>\n",
       "    <tr>\n",
       "      <th>78</th>\n",
       "      <td>tzot</td>\n",
       "      <td>1</td>\n",
       "    </tr>\n",
       "  </tbody>\n",
       "</table>\n",
       "<p>79 rows × 2 columns</p>\n",
       "</div>"
      ],
      "text/plain": [
       "        display_name  count\n",
       "0   1800 INFORMATION      1\n",
       "1      Adam Bellaire      1\n",
       "2         Adam Davis      1\n",
       "3          Adam Liss      1\n",
       "4               Alan      8\n",
       "..               ...    ...\n",
       "74            lomaxx      1\n",
       "75          mattlant      1\n",
       "76         paxdiablo      1\n",
       "77        tvanfosson      1\n",
       "78              tzot      1\n",
       "\n",
       "[79 rows x 2 columns]"
      ]
     },
     "execution_count": 11,
     "metadata": {},
     "output_type": "execute_result"
    }
   ],
   "source": [
    "sample_df"
   ]
  },
  {
   "cell_type": "code",
   "execution_count": 12,
   "metadata": {},
   "outputs": [
    {
     "data": {
      "text/plain": [
       "count\n",
       "1        60\n",
       "16        3\n",
       "3         2\n",
       "10        2\n",
       "15        2\n",
       "29        2\n",
       "5         1\n",
       "7         1\n",
       "8         1\n",
       "9         1\n",
       "11        1\n",
       "12        1\n",
       "19        1\n",
       "21        1\n",
       "dtype: int64"
      ]
     },
     "execution_count": 12,
     "metadata": {},
     "output_type": "execute_result"
    }
   ],
   "source": [
    "sample_df[['count']].value_counts()"
   ]
  },
  {
   "cell_type": "code",
   "execution_count": 13,
   "metadata": {},
   "outputs": [
    {
     "data": {
      "text/plain": [
       "19"
      ]
     },
     "execution_count": 13,
     "metadata": {},
     "output_type": "execute_result"
    }
   ],
   "source": [
    "len(sample_df[sample_df['count'] > 1])"
   ]
  },
  {
   "cell_type": "code",
   "execution_count": 14,
   "metadata": {},
   "outputs": [
    {
     "data": {
      "image/png": "[encoded data removed]",
      "text/plain": [
       "<Figure size 720x288 with 1 Axes>"
      ]
     },
     "metadata": {
      "needs_background": "light"
     },
     "output_type": "display_data"
    }
   ],
   "source": [
    "plt.subplots(figsize=(10,4))\n",
    "plt.hist(sample_df['count'], color = 'green')\n",
    "plt.grid()\n",
    "plt.show()"
   ]
  },
  {
   "cell_type": "markdown",
   "metadata": {},
   "source": [
    "- 19 active users have more than one account (with the same name):\n",
    "    - the user has forgotten or lost access to mail and password\n",
    "    - the user intentionally registers a lot of accounts:\n",
    "         - for example, to fill himself with karma on the main account     \n",
    "         - if you received too many \"cons\" on your current account"
   ]
  },
  {
   "cell_type": "markdown",
   "metadata": {
    "id": "JhM2xXj5DWKu"
   },
   "source": [
    "# Task 3"
   ]
  },
  {
   "cell_type": "markdown",
   "metadata": {
    "id": "IS6xPqyyDWKu"
   },
   "source": [
    "Print the number of posts for 2008 by month. Select posts from users who registered in September 2008 and made at least one post in December of the same year. Sort the table by month value in descending order."
   ]
  },
  {
   "cell_type": "markdown",
   "metadata": {
    "id": "WmjhjV2xDWKv"
   },
   "source": [
    "| month | count |\n",
    "| ------|------ |\n",
    "| 2008-12-01 | 17641 |\n",
    "| 2008-11-01 | 18294 |\n",
    "| ... | ... |"
   ]
  },
  {
   "cell_type": "code",
   "execution_count": 15,
   "metadata": {
    "id": "kVu0FB8WDWKv"
   },
   "outputs": [
    {
     "data": {
      "text/html": [
       "<div>\n",
       "<style scoped>\n",
       "    .dataframe tbody tr th:only-of-type {\n",
       "        vertical-align: middle;\n",
       "    }\n",
       "\n",
       "    .dataframe tbody tr th {\n",
       "        vertical-align: top;\n",
       "    }\n",
       "\n",
       "    .dataframe thead th {\n",
       "        text-align: right;\n",
       "    }\n",
       "</style>\n",
       "<table border=\"1\" class=\"dataframe\">\n",
       "  <thead>\n",
       "    <tr style=\"text-align: right;\">\n",
       "      <th></th>\n",
       "      <th>month</th>\n",
       "      <th>count</th>\n",
       "    </tr>\n",
       "  </thead>\n",
       "  <tbody>\n",
       "    <tr>\n",
       "      <th>0</th>\n",
       "      <td>2008-12-01</td>\n",
       "      <td>17641</td>\n",
       "    </tr>\n",
       "    <tr>\n",
       "      <th>1</th>\n",
       "      <td>2008-11-01</td>\n",
       "      <td>18294</td>\n",
       "    </tr>\n",
       "    <tr>\n",
       "      <th>2</th>\n",
       "      <td>2008-10-01</td>\n",
       "      <td>27171</td>\n",
       "    </tr>\n",
       "    <tr>\n",
       "      <th>3</th>\n",
       "      <td>2008-09-01</td>\n",
       "      <td>24870</td>\n",
       "    </tr>\n",
       "    <tr>\n",
       "      <th>4</th>\n",
       "      <td>2008-08-01</td>\n",
       "      <td>32</td>\n",
       "    </tr>\n",
       "  </tbody>\n",
       "</table>\n",
       "</div>"
      ],
      "text/plain": [
       "       month  count\n",
       "0 2008-12-01  17641\n",
       "1 2008-11-01  18294\n",
       "2 2008-10-01  27171\n",
       "3 2008-09-01  24870\n",
       "4 2008-08-01     32"
      ]
     },
     "execution_count": 15,
     "metadata": {},
     "output_type": "execute_result"
    }
   ],
   "source": [
    "query = '''\n",
    "with tmp as (\n",
    "\n",
    "select \n",
    " a.id,\n",
    " date_trunc('month',a.creation_date) as dt_reg,\n",
    " date_trunc('month',b.creation_date) as dt_post\n",
    " \n",
    "from stackoverflow.users a\n",
    "\n",
    "inner join stackoverflow.posts b\n",
    "on a.id = b.user_id\n",
    "  and date_trunc('month',b.creation_date) >= date'2008-12-01'\n",
    "  and date_trunc('month',b.creation_date) < date'2009-01-01'\n",
    "\n",
    "where 1=1\n",
    "  and date_trunc('month',a.creation_date) >= date'2008-09-01'\n",
    "  and date_trunc('month',a.creation_date) < date'2008-10-01'\n",
    "\n",
    ")\n",
    "\n",
    "\n",
    "select \n",
    "   date_trunc('month',a.creation_date) as month,\n",
    "   count(distinct a.id) as count\n",
    "from stackoverflow.posts a\n",
    "\n",
    "where 1=1\n",
    "   and a.user_id in (select id from tmp)\n",
    "group by date_trunc('month',a.creation_date)\n",
    "order by date_trunc('month',a.creation_date) desc;\n",
    "'''\n",
    "\n",
    "sample_df = pd.read_sql_query(query, con=engine)\n",
    "sample_df"
   ]
  },
  {
   "cell_type": "markdown",
   "metadata": {},
   "source": [
    "- we see that the activity of users who registered in September is gradually decreasing by December \n",
    "- their activity remains, but there are fewer posts than in the first 2 months after registration\n",
    "- anomaly - posts for August (32 pieces) for a sample of September users:\n",
    "    - possible reason: different time zones of the post / server where the information about user registrations lies"
   ]
  },
  {
   "cell_type": "markdown",
   "metadata": {
    "id": "5Pcizm0DDWKz"
   },
   "source": [
    "# Task 4"
   ]
  },
  {
   "cell_type": "markdown",
   "metadata": {
    "id": "KUZPF6vHDWKz"
   },
   "source": [
    "Using the data about the posts, output several fields:\n",
    "\n",
    "- id of the user who wrote the post;\n",
    "- date of creation of the post;\n",
    "- the number of views of the current post;\n",
    "- the amount of views of the author's posts with accumulation.\n",
    "\n",
    "The data in the table should be sorted in ascending order of user IDs, and the data about the same user should be sorted in ascending order of the post creation date."
   ]
  },
  {
   "cell_type": "markdown",
   "metadata": {
    "id": "ZpsTUVDYDWK0"
   },
   "source": [
    "| user_id | creation_date | views_count | cumulative_count |\n",
    "| ------ | -------------- | ----------- | ---------------- |\n",
    "| 1 | 2008-07-31 23:41:00  | 480476   | 480476  |\n",
    "| 1 | 2008-07-31 23:55:38  | 136033 | 616509  | \n",
    "| 1 | 2008-07-31 23:56:41  | 0 |  616509  |\n",
    "| ... | ... | ... | ... |\n",
    "| 2 | 2008-07-31 23:56:41 | 79087  | 79087 |\n",
    "| 2 | 2008-08-01 05:09:56 | 65443 | 144530 |\n",
    "| ... | ...  | ...  | ...  |"
   ]
  },
  {
   "cell_type": "code",
   "execution_count": 16,
   "metadata": {
    "id": "hDoJhMzfDWK0"
   },
   "outputs": [
    {
     "data": {
      "text/html": [
       "<div>\n",
       "<style scoped>\n",
       "    .dataframe tbody tr th:only-of-type {\n",
       "        vertical-align: middle;\n",
       "    }\n",
       "\n",
       "    .dataframe tbody tr th {\n",
       "        vertical-align: top;\n",
       "    }\n",
       "\n",
       "    .dataframe thead th {\n",
       "        text-align: right;\n",
       "    }\n",
       "</style>\n",
       "<table border=\"1\" class=\"dataframe\">\n",
       "  <thead>\n",
       "    <tr style=\"text-align: right;\">\n",
       "      <th></th>\n",
       "      <th>user_id</th>\n",
       "      <th>creation_date</th>\n",
       "      <th>views_count</th>\n",
       "      <th>cumulative_count</th>\n",
       "    </tr>\n",
       "  </thead>\n",
       "  <tbody>\n",
       "    <tr>\n",
       "      <th>0</th>\n",
       "      <td>1</td>\n",
       "      <td>2008-07-31 23:41:00</td>\n",
       "      <td>480476</td>\n",
       "      <td>480476</td>\n",
       "    </tr>\n",
       "    <tr>\n",
       "      <th>1</th>\n",
       "      <td>1</td>\n",
       "      <td>2008-07-31 23:55:38</td>\n",
       "      <td>136033</td>\n",
       "      <td>616509</td>\n",
       "    </tr>\n",
       "    <tr>\n",
       "      <th>2</th>\n",
       "      <td>1</td>\n",
       "      <td>2008-07-31 23:56:41</td>\n",
       "      <td>0</td>\n",
       "      <td>616509</td>\n",
       "    </tr>\n",
       "    <tr>\n",
       "      <th>3</th>\n",
       "      <td>1</td>\n",
       "      <td>2008-08-04 02:45:08</td>\n",
       "      <td>0</td>\n",
       "      <td>616509</td>\n",
       "    </tr>\n",
       "    <tr>\n",
       "      <th>4</th>\n",
       "      <td>1</td>\n",
       "      <td>2008-08-04 04:31:03</td>\n",
       "      <td>0</td>\n",
       "      <td>616509</td>\n",
       "    </tr>\n",
       "    <tr>\n",
       "      <th>...</th>\n",
       "      <td>...</td>\n",
       "      <td>...</td>\n",
       "      <td>...</td>\n",
       "      <td>...</td>\n",
       "    </tr>\n",
       "    <tr>\n",
       "      <th>243791</th>\n",
       "      <td>5696608</td>\n",
       "      <td>2008-12-23 16:00:37</td>\n",
       "      <td>0</td>\n",
       "      <td>2804</td>\n",
       "    </tr>\n",
       "    <tr>\n",
       "      <th>243792</th>\n",
       "      <td>5696608</td>\n",
       "      <td>2008-12-23 17:35:09</td>\n",
       "      <td>0</td>\n",
       "      <td>2804</td>\n",
       "    </tr>\n",
       "    <tr>\n",
       "      <th>243793</th>\n",
       "      <td>5696608</td>\n",
       "      <td>2008-12-24 01:02:48</td>\n",
       "      <td>0</td>\n",
       "      <td>2804</td>\n",
       "    </tr>\n",
       "    <tr>\n",
       "      <th>243794</th>\n",
       "      <td>5696608</td>\n",
       "      <td>2008-12-30 14:34:45</td>\n",
       "      <td>0</td>\n",
       "      <td>2804</td>\n",
       "    </tr>\n",
       "    <tr>\n",
       "      <th>243795</th>\n",
       "      <td>5696608</td>\n",
       "      <td>2008-12-30 16:32:12</td>\n",
       "      <td>0</td>\n",
       "      <td>2804</td>\n",
       "    </tr>\n",
       "  </tbody>\n",
       "</table>\n",
       "<p>243796 rows × 4 columns</p>\n",
       "</div>"
      ],
      "text/plain": [
       "        user_id       creation_date  views_count  cumulative_count\n",
       "0             1 2008-07-31 23:41:00       480476            480476\n",
       "1             1 2008-07-31 23:55:38       136033            616509\n",
       "2             1 2008-07-31 23:56:41            0            616509\n",
       "3             1 2008-08-04 02:45:08            0            616509\n",
       "4             1 2008-08-04 04:31:03            0            616509\n",
       "...         ...                 ...          ...               ...\n",
       "243791  5696608 2008-12-23 16:00:37            0              2804\n",
       "243792  5696608 2008-12-23 17:35:09            0              2804\n",
       "243793  5696608 2008-12-24 01:02:48            0              2804\n",
       "243794  5696608 2008-12-30 14:34:45            0              2804\n",
       "243795  5696608 2008-12-30 16:32:12            0              2804\n",
       "\n",
       "[243796 rows x 4 columns]"
      ]
     },
     "execution_count": 16,
     "metadata": {},
     "output_type": "execute_result"
    }
   ],
   "source": [
    "query = '''\n",
    "\n",
    "select \n",
    "   a.user_id,\n",
    "   a.creation_date,\n",
    "   a.views_count,\n",
    "   sum(a.views_count) over(partition by a.user_id order by a.creation_date asc) as cumulative_count\n",
    "from stackoverflow.posts a\n",
    "\n",
    "where 1=1\n",
    "order by a.user_id asc;\n",
    "\n",
    "'''\n",
    "\n",
    "sample_df = pd.read_sql_query(query, con=engine)\n",
    "sample_df"
   ]
  },
  {
   "cell_type": "markdown",
   "metadata": {
    "id": "N0kHRHvIDWK2"
   },
   "source": [
    "# Task 5"
   ]
  },
  {
   "cell_type": "markdown",
   "metadata": {
    "id": "gBgvmPtODWK2"
   },
   "source": [
    "Find the average number of user posts per day for August 2008. Select data on users who published more than 120 posts in August. Don't count days without publications. \n",
    "\n",
    "Sort the result in ascending order of the average number of posts. The values can not be rounded."
   ]
  },
  {
   "cell_type": "markdown",
   "metadata": {
    "id": "nfzR08BODWK3"
   },
   "source": [
    "| user_id | avg_daily |\n",
    "| ------- | --------- |\n",
    "| 116     | 4.777778  |\n",
    "| 234     | 5.208333  |\n",
    "| ...     | ... |"
   ]
  },
  {
   "cell_type": "code",
   "execution_count": 17,
   "metadata": {
    "id": "YFyPNz5GDWK3"
   },
   "outputs": [
    {
     "data": {
      "text/html": [
       "<div>\n",
       "<style scoped>\n",
       "    .dataframe tbody tr th:only-of-type {\n",
       "        vertical-align: middle;\n",
       "    }\n",
       "\n",
       "    .dataframe tbody tr th {\n",
       "        vertical-align: top;\n",
       "    }\n",
       "\n",
       "    .dataframe thead th {\n",
       "        text-align: right;\n",
       "    }\n",
       "</style>\n",
       "<table border=\"1\" class=\"dataframe\">\n",
       "  <thead>\n",
       "    <tr style=\"text-align: right;\">\n",
       "      <th></th>\n",
       "      <th>user_id</th>\n",
       "      <th>avg_daily</th>\n",
       "    </tr>\n",
       "  </thead>\n",
       "  <tbody>\n",
       "    <tr>\n",
       "      <th>0</th>\n",
       "      <td>116</td>\n",
       "      <td>4.777778</td>\n",
       "    </tr>\n",
       "    <tr>\n",
       "      <th>1</th>\n",
       "      <td>234</td>\n",
       "      <td>5.208333</td>\n",
       "    </tr>\n",
       "    <tr>\n",
       "      <th>2</th>\n",
       "      <td>91</td>\n",
       "      <td>5.681818</td>\n",
       "    </tr>\n",
       "    <tr>\n",
       "      <th>3</th>\n",
       "      <td>905</td>\n",
       "      <td>7.000000</td>\n",
       "    </tr>\n",
       "    <tr>\n",
       "      <th>4</th>\n",
       "      <td>383</td>\n",
       "      <td>7.277778</td>\n",
       "    </tr>\n",
       "  </tbody>\n",
       "</table>\n",
       "</div>"
      ],
      "text/plain": [
       "   user_id  avg_daily\n",
       "0      116   4.777778\n",
       "1      234   5.208333\n",
       "2       91   5.681818\n",
       "3      905   7.000000\n",
       "4      383   7.277778"
      ]
     },
     "execution_count": 17,
     "metadata": {},
     "output_type": "execute_result"
    }
   ],
   "source": [
    "query = '''\n",
    "with tmp as\n",
    "(\n",
    "select\n",
    "  a.user_id,\n",
    "  count(distinct a.id) as cnt_all\n",
    "from stackoverflow.posts a\n",
    "where 1=1\n",
    "  and date_trunc('month',a.creation_date) >= date'2008-08-01'\n",
    "  and date_trunc('month',a.creation_date) < date'2008-09-01'\n",
    "group by a.user_id\n",
    "having count(distinct a.id) > 120\n",
    ")\n",
    "\n",
    "select\n",
    " a.user_id,\n",
    " avg(a.daily) as avg_daily\n",
    " \n",
    "from (\n",
    "\n",
    "select\n",
    "  a.user_id,\n",
    "  date_trunc('day', a.creation_date) as dt,\n",
    "  count(a.id) as daily\n",
    "from stackoverflow.posts a\n",
    "where 1=1\n",
    " and a.user_id in (select a.user_id from tmp a)\n",
    " and date_trunc('month',a.creation_date) >= date'2008-08-01'\n",
    " and date_trunc('month',a.creation_date) < date'2008-09-01'\n",
    "group by \n",
    " a.user_id,  \n",
    " date_trunc('day', a.creation_date)\n",
    ") a\n",
    "\n",
    "group by a.user_id\n",
    "order by avg(a.daily) asc\n",
    "'''\n",
    "\n",
    "\n",
    "sample_df = pd.read_sql_query(query, con=engine)\n",
    "sample_df"
   ]
  },
  {
   "cell_type": "markdown",
   "metadata": {
    "id": "EQ0dcFH4DWK5"
   },
   "source": [
    "# Task 6"
   ]
  },
  {
   "cell_type": "markdown",
   "metadata": {
    "id": "c7flfg_hDWK5"
   },
   "source": [
    "On average, how many days did users interact with the platform during the period from December 1 to December 7, 2008? For each user, select the days on which he or she published at least one post. You need to get one integer — do not forget to round the result."
   ]
  },
  {
   "cell_type": "markdown",
   "metadata": {
    "id": "RC1Ibzm9DWK6"
   },
   "source": [
    "| result |\n",
    "| -----  |\n",
    "| <целое число> |"
   ]
  },
  {
   "cell_type": "code",
   "execution_count": 18,
   "metadata": {
    "id": "kZ7LXTr6DWK6"
   },
   "outputs": [
    {
     "data": {
      "text/html": [
       "<div>\n",
       "<style scoped>\n",
       "    .dataframe tbody tr th:only-of-type {\n",
       "        vertical-align: middle;\n",
       "    }\n",
       "\n",
       "    .dataframe tbody tr th {\n",
       "        vertical-align: top;\n",
       "    }\n",
       "\n",
       "    .dataframe thead th {\n",
       "        text-align: right;\n",
       "    }\n",
       "</style>\n",
       "<table border=\"1\" class=\"dataframe\">\n",
       "  <thead>\n",
       "    <tr style=\"text-align: right;\">\n",
       "      <th></th>\n",
       "      <th>round</th>\n",
       "    </tr>\n",
       "  </thead>\n",
       "  <tbody>\n",
       "    <tr>\n",
       "      <th>0</th>\n",
       "      <td>2.0</td>\n",
       "    </tr>\n",
       "  </tbody>\n",
       "</table>\n",
       "</div>"
      ],
      "text/plain": [
       "   round\n",
       "0    2.0"
      ]
     },
     "execution_count": 18,
     "metadata": {},
     "output_type": "execute_result"
    }
   ],
   "source": [
    "query = '''\n",
    "with tmp as\n",
    "(\n",
    "select\n",
    "  a.user_id,\n",
    "  count(distinct date_trunc('day',a.creation_date)) as cnt_days\n",
    "from stackoverflow.posts a\n",
    "where 1=1\n",
    "  and date_trunc('day',a.creation_date) >= date'2008-12-01'\n",
    "  and date_trunc('day',a.creation_date) < date'2008-12-07'\n",
    "group by a.user_id\n",
    ")\n",
    "\n",
    "select round(avg(a.cnt_days)) from tmp a\n",
    "'''\n",
    "\n",
    "sample_df = pd.read_sql_query(query, con=engine)\n",
    "sample_df"
   ]
  },
  {
   "cell_type": "markdown",
   "metadata": {},
   "source": [
    "- in the new year, everyone has a rest, even the most active users"
   ]
  },
  {
   "cell_type": "markdown",
   "metadata": {
    "id": "wfOmqmfLDWK8"
   },
   "source": [
    "# Task 7"
   ]
  },
  {
   "cell_type": "markdown",
   "metadata": {
    "id": "X4ARQimADWK9"
   },
   "source": [
    "Output the activity history of each user in this form: user ID, date of publication of the post. Sort the output in ascending order of user IDs, and for each user — in ascending order of publication date.\n",
    "\n",
    "Add a new field to the table: for each post, it will indicate the name of the month of the user's penultimate publication relative to the current one. If there is no such publication, specify `NULL`.  Python will automatically change `NULL` to `None`, but you don't need to additionally convert `None` values.\n",
    "\n",
    "Look carefully at the sample table: there is no penultimate publication for the first two posts, but starting from the third post, the required month is included in the new field. For the next user, the first two entries of the `second_last_month` field will also include `NULL`."
   ]
  },
  {
   "cell_type": "markdown",
   "metadata": {
    "id": "IGPjRP01DWK9"
   },
   "source": [
    "| user_id | creation_date | second_last_month |\n",
    "| ------- | ------------- | ----------------- |\n",
    "| 1       | 2008-07-31 23:41:00 | None |\n",
    "| 1       | 2008-07-31 23:55:38 | None |\n",
    "| 1       | 2008-07-31 23:56:41 | July |\n",
    "| 1       | 2008-08-04 02:45:08 | July |\n",
    "| 1       | 2008-08-04 04:31:03 | July |\n",
    "| 1       | 2008-08-04 08:04:42 | August |\n",
    "| ... | ... | ... |"
   ]
  },
  {
   "cell_type": "code",
   "execution_count": 19,
   "metadata": {
    "id": "HzI1vhaMDWK-"
   },
   "outputs": [
    {
     "data": {
      "text/html": [
       "<div>\n",
       "<style scoped>\n",
       "    .dataframe tbody tr th:only-of-type {\n",
       "        vertical-align: middle;\n",
       "    }\n",
       "\n",
       "    .dataframe tbody tr th {\n",
       "        vertical-align: top;\n",
       "    }\n",
       "\n",
       "    .dataframe thead th {\n",
       "        text-align: right;\n",
       "    }\n",
       "</style>\n",
       "<table border=\"1\" class=\"dataframe\">\n",
       "  <thead>\n",
       "    <tr style=\"text-align: right;\">\n",
       "      <th></th>\n",
       "      <th>user_id</th>\n",
       "      <th>creation_date</th>\n",
       "      <th>second_last_month</th>\n",
       "    </tr>\n",
       "  </thead>\n",
       "  <tbody>\n",
       "    <tr>\n",
       "      <th>0</th>\n",
       "      <td>1</td>\n",
       "      <td>2008-07-31 23:41:00</td>\n",
       "      <td>None</td>\n",
       "    </tr>\n",
       "    <tr>\n",
       "      <th>1</th>\n",
       "      <td>1</td>\n",
       "      <td>2008-07-31 23:55:38</td>\n",
       "      <td>None</td>\n",
       "    </tr>\n",
       "    <tr>\n",
       "      <th>2</th>\n",
       "      <td>1</td>\n",
       "      <td>2008-07-31 23:56:41</td>\n",
       "      <td>Jul</td>\n",
       "    </tr>\n",
       "    <tr>\n",
       "      <th>3</th>\n",
       "      <td>1</td>\n",
       "      <td>2008-08-04 02:45:08</td>\n",
       "      <td>Jul</td>\n",
       "    </tr>\n",
       "    <tr>\n",
       "      <th>4</th>\n",
       "      <td>1</td>\n",
       "      <td>2008-08-04 04:31:03</td>\n",
       "      <td>Jul</td>\n",
       "    </tr>\n",
       "    <tr>\n",
       "      <th>5</th>\n",
       "      <td>1</td>\n",
       "      <td>2008-08-04 08:04:42</td>\n",
       "      <td>Aug</td>\n",
       "    </tr>\n",
       "    <tr>\n",
       "      <th>6</th>\n",
       "      <td>1</td>\n",
       "      <td>2008-08-10 08:28:52</td>\n",
       "      <td>Aug</td>\n",
       "    </tr>\n",
       "  </tbody>\n",
       "</table>\n",
       "</div>"
      ],
      "text/plain": [
       "   user_id       creation_date second_last_month\n",
       "0        1 2008-07-31 23:41:00              None\n",
       "1        1 2008-07-31 23:55:38              None\n",
       "2        1 2008-07-31 23:56:41               Jul\n",
       "3        1 2008-08-04 02:45:08               Jul\n",
       "4        1 2008-08-04 04:31:03               Jul\n",
       "5        1 2008-08-04 08:04:42               Aug\n",
       "6        1 2008-08-10 08:28:52               Aug"
      ]
     },
     "execution_count": 19,
     "metadata": {},
     "output_type": "execute_result"
    }
   ],
   "source": [
    "query = '''\n",
    "\n",
    "select\n",
    " a.user_id,\n",
    " a.creation_date,\n",
    " LAG(TO_CHAR(a.creation_date, 'Mon'),2,NULL) over(partition by a.user_id order by a.creation_date) as second_last_month \n",
    "\n",
    "from stackoverflow.posts a\n",
    "\n",
    "order by a.user_id asc, a.creation_date asc\n",
    "\n",
    "'''\n",
    "\n",
    "sample_df = pd.read_sql_query(query, con=engine)\n",
    "sample_df.head(7)"
   ]
  },
  {
   "cell_type": "code",
   "execution_count": 20,
   "metadata": {},
   "outputs": [
    {
     "data": {
      "text/html": [
       "<div>\n",
       "<style scoped>\n",
       "    .dataframe tbody tr th:only-of-type {\n",
       "        vertical-align: middle;\n",
       "    }\n",
       "\n",
       "    .dataframe tbody tr th {\n",
       "        vertical-align: top;\n",
       "    }\n",
       "\n",
       "    .dataframe thead th {\n",
       "        text-align: right;\n",
       "    }\n",
       "</style>\n",
       "<table border=\"1\" class=\"dataframe\">\n",
       "  <thead>\n",
       "    <tr style=\"text-align: right;\">\n",
       "      <th></th>\n",
       "      <th>user_id</th>\n",
       "      <th>creation_date</th>\n",
       "      <th>second_last_month</th>\n",
       "    </tr>\n",
       "  </thead>\n",
       "  <tbody>\n",
       "    <tr>\n",
       "      <th>70</th>\n",
       "      <td>2</td>\n",
       "      <td>2008-08-01 04:59:34</td>\n",
       "      <td>None</td>\n",
       "    </tr>\n",
       "    <tr>\n",
       "      <th>71</th>\n",
       "      <td>2</td>\n",
       "      <td>2008-08-01 05:09:56</td>\n",
       "      <td>None</td>\n",
       "    </tr>\n",
       "    <tr>\n",
       "      <th>72</th>\n",
       "      <td>2</td>\n",
       "      <td>2008-08-04 05:51:57</td>\n",
       "      <td>Aug</td>\n",
       "    </tr>\n",
       "    <tr>\n",
       "      <th>73</th>\n",
       "      <td>2</td>\n",
       "      <td>2008-08-21 20:53:51</td>\n",
       "      <td>Aug</td>\n",
       "    </tr>\n",
       "    <tr>\n",
       "      <th>74</th>\n",
       "      <td>2</td>\n",
       "      <td>2008-10-13 23:46:09</td>\n",
       "      <td>Aug</td>\n",
       "    </tr>\n",
       "    <tr>\n",
       "      <th>75</th>\n",
       "      <td>2</td>\n",
       "      <td>2008-12-15 03:59:56</td>\n",
       "      <td>Aug</td>\n",
       "    </tr>\n",
       "  </tbody>\n",
       "</table>\n",
       "</div>"
      ],
      "text/plain": [
       "    user_id       creation_date second_last_month\n",
       "70        2 2008-08-01 04:59:34              None\n",
       "71        2 2008-08-01 05:09:56              None\n",
       "72        2 2008-08-04 05:51:57               Aug\n",
       "73        2 2008-08-21 20:53:51               Aug\n",
       "74        2 2008-10-13 23:46:09               Aug\n",
       "75        2 2008-12-15 03:59:56               Aug"
      ]
     },
     "execution_count": 20,
     "metadata": {},
     "output_type": "execute_result"
    }
   ],
   "source": [
    "sample_df[sample_df['user_id'] == 2].head(10)"
   ]
  },
  {
   "cell_type": "markdown",
   "metadata": {
    "id": "tf9qq2yzDWK_"
   },
   "source": [
    "# Task 8"
   ]
  },
  {
   "cell_type": "markdown",
   "metadata": {
    "id": "gfwLVXBYDWLA"
   },
   "source": [
    "Calculate the equivalent Retention Rate by month for StackOverflow users. Group users into cohorts by the month of their first post. Determine the return by the presence of a post in the current month."
   ]
  },
  {
   "cell_type": "markdown",
   "metadata": {
    "id": "kN2ic39WlKpl"
   },
   "source": [
    "| cohort_dt | session_date | users_cnt | cohort_users_cnt | retention_rate |\n",
    "| --- | --- | --- | --- | --- |\n",
    "| 2008-07-01 00:00:00 | 2008-07-01 00:00:00 | 3 | 3 | 100 |\n",
    "| 2008-07-01 00:00:00 | 2008-08-01 00:00:00 | 2 | 3 | 66,67 |\n",
    "| 2008-07-01 00:00:00 | 2008-09-01 00:00:00 | 1 | 3 | 33,33 |\n",
    "| 2008-07-01 00:00:00 | 2008-10-01 00:00:00 | 2 | 3 | 66,67 |\n",
    "| 2008-07-01 00:00:00 | 2008-11-01 00:00:00 | 1 | 3 | 33,33 |\n",
    "| 2008-07-01 00:00:00 | 2008-12-01 00:00:00 | 2 | 3 | 66,67 |\n",
    "| 2008-08-01 00:00:00 | 2008-08-01 00:00:00 | 2151 | 2151 | 100 |\n",
    "| ... | ... | ... | ... | ... |"
   ]
  },
  {
   "cell_type": "code",
   "execution_count": 21,
   "metadata": {
    "id": "LUgFmwmTDWLB"
   },
   "outputs": [
    {
     "data": {
      "text/html": [
       "<div>\n",
       "<style scoped>\n",
       "    .dataframe tbody tr th:only-of-type {\n",
       "        vertical-align: middle;\n",
       "    }\n",
       "\n",
       "    .dataframe tbody tr th {\n",
       "        vertical-align: top;\n",
       "    }\n",
       "\n",
       "    .dataframe thead th {\n",
       "        text-align: right;\n",
       "    }\n",
       "</style>\n",
       "<table border=\"1\" class=\"dataframe\">\n",
       "  <thead>\n",
       "    <tr style=\"text-align: right;\">\n",
       "      <th></th>\n",
       "      <th>cohort_dt</th>\n",
       "      <th>session_date</th>\n",
       "      <th>users_cnt</th>\n",
       "      <th>cohort_users_cnt</th>\n",
       "      <th>retention_rate</th>\n",
       "    </tr>\n",
       "  </thead>\n",
       "  <tbody>\n",
       "    <tr>\n",
       "      <th>0</th>\n",
       "      <td>2008-07-01</td>\n",
       "      <td>2008-07-01</td>\n",
       "      <td>3</td>\n",
       "      <td>3</td>\n",
       "      <td>100.00</td>\n",
       "    </tr>\n",
       "    <tr>\n",
       "      <th>1</th>\n",
       "      <td>2008-07-01</td>\n",
       "      <td>2008-08-01</td>\n",
       "      <td>2</td>\n",
       "      <td>3</td>\n",
       "      <td>66.67</td>\n",
       "    </tr>\n",
       "    <tr>\n",
       "      <th>2</th>\n",
       "      <td>2008-07-01</td>\n",
       "      <td>2008-09-01</td>\n",
       "      <td>1</td>\n",
       "      <td>3</td>\n",
       "      <td>33.33</td>\n",
       "    </tr>\n",
       "    <tr>\n",
       "      <th>3</th>\n",
       "      <td>2008-07-01</td>\n",
       "      <td>2008-10-01</td>\n",
       "      <td>2</td>\n",
       "      <td>3</td>\n",
       "      <td>66.67</td>\n",
       "    </tr>\n",
       "    <tr>\n",
       "      <th>4</th>\n",
       "      <td>2008-07-01</td>\n",
       "      <td>2008-11-01</td>\n",
       "      <td>1</td>\n",
       "      <td>3</td>\n",
       "      <td>33.33</td>\n",
       "    </tr>\n",
       "    <tr>\n",
       "      <th>5</th>\n",
       "      <td>2008-07-01</td>\n",
       "      <td>2008-12-01</td>\n",
       "      <td>2</td>\n",
       "      <td>3</td>\n",
       "      <td>66.67</td>\n",
       "    </tr>\n",
       "    <tr>\n",
       "      <th>6</th>\n",
       "      <td>2008-08-01</td>\n",
       "      <td>2008-08-01</td>\n",
       "      <td>2151</td>\n",
       "      <td>2151</td>\n",
       "      <td>100.00</td>\n",
       "    </tr>\n",
       "  </tbody>\n",
       "</table>\n",
       "</div>"
      ],
      "text/plain": [
       "   cohort_dt session_date  users_cnt  cohort_users_cnt  retention_rate\n",
       "0 2008-07-01   2008-07-01          3                 3          100.00\n",
       "1 2008-07-01   2008-08-01          2                 3           66.67\n",
       "2 2008-07-01   2008-09-01          1                 3           33.33\n",
       "3 2008-07-01   2008-10-01          2                 3           66.67\n",
       "4 2008-07-01   2008-11-01          1                 3           33.33\n",
       "5 2008-07-01   2008-12-01          2                 3           66.67\n",
       "6 2008-08-01   2008-08-01       2151              2151          100.00"
      ]
     },
     "execution_count": 21,
     "metadata": {},
     "output_type": "execute_result"
    }
   ],
   "source": [
    "query = '''\n",
    "with cohort as (\n",
    "select \n",
    "  a.user_id,\n",
    "  a.mnth_frst,\n",
    "  count(a.user_id) over(partition by a.mnth_frst) as cohort_users_cnt\n",
    "from \n",
    "(\n",
    "    select \n",
    "     a.user_id,\n",
    "     min(date_trunc('month',a.creation_date)) as mnth_frst\n",
    "\n",
    "    from stackoverflow.posts a\n",
    "\n",
    "    group by a.user_id\n",
    "\n",
    ") a ),\n",
    "\n",
    "session as (\n",
    "    \n",
    " select \n",
    "   a.user_id,\n",
    "   a.mnth_post,\n",
    "   count(a.user_id) over(partition by a.mnth_post) as users_cnt\n",
    " from (\n",
    "    \n",
    "    select distinct\n",
    "      a.user_id,\n",
    "      date_trunc('month',a.creation_date) as mnth_post\n",
    "    from stackoverflow.posts a\n",
    "  ) a\n",
    ")\n",
    "\n",
    "\n",
    "select \n",
    "  a.mnth_frst as cohort_dt,\n",
    "  b.mnth_post as session_date,\n",
    "  count(distinct b.user_id) as users_cnt,\n",
    "  a.cohort_users_cnt,\n",
    "  round(cast(count(distinct b.user_id) as numeric)*100/a.cohort_users_cnt, 2)  as retention_rate\n",
    "\n",
    "from cohort a\n",
    "inner join session b\n",
    "  on a.user_id = b.user_id\n",
    "   and a.mnth_frst <= b.mnth_post\n",
    "   \n",
    "group by a.mnth_frst,\n",
    "  b.mnth_post,\n",
    "  a.cohort_users_cnt\n",
    "\n",
    "'''\n",
    "\n",
    "sample_df = pd.read_sql_query(query, con=engine)\n",
    "sample_df.head(7)"
   ]
  },
  {
   "cell_type": "markdown",
   "metadata": {
    "id": "_msBtnb2DWLC"
   },
   "source": [
    "Build a Retention Rate heat map. What anomalies or other unusual phenomena have been identified? Formulate hypotheses about possible causes."
   ]
  },
  {
   "cell_type": "code",
   "execution_count": 22,
   "metadata": {},
   "outputs": [
    {
     "data": {
      "text/html": [
       "<div>\n",
       "<style scoped>\n",
       "    .dataframe tbody tr th:only-of-type {\n",
       "        vertical-align: middle;\n",
       "    }\n",
       "\n",
       "    .dataframe tbody tr th {\n",
       "        vertical-align: top;\n",
       "    }\n",
       "\n",
       "    .dataframe thead th {\n",
       "        text-align: right;\n",
       "    }\n",
       "</style>\n",
       "<table border=\"1\" class=\"dataframe\">\n",
       "  <thead>\n",
       "    <tr style=\"text-align: right;\">\n",
       "      <th>session_date</th>\n",
       "      <th>2008-07-01</th>\n",
       "      <th>2008-08-01</th>\n",
       "      <th>2008-09-01</th>\n",
       "      <th>2008-10-01</th>\n",
       "      <th>2008-11-01</th>\n",
       "      <th>2008-12-01</th>\n",
       "    </tr>\n",
       "    <tr>\n",
       "      <th>cohort_dt</th>\n",
       "      <th></th>\n",
       "      <th></th>\n",
       "      <th></th>\n",
       "      <th></th>\n",
       "      <th></th>\n",
       "      <th></th>\n",
       "    </tr>\n",
       "  </thead>\n",
       "  <tbody>\n",
       "    <tr>\n",
       "      <th>2008-07-01</th>\n",
       "      <td>100.0</td>\n",
       "      <td>66.67</td>\n",
       "      <td>33.33</td>\n",
       "      <td>66.67</td>\n",
       "      <td>33.33</td>\n",
       "      <td>66.67</td>\n",
       "    </tr>\n",
       "    <tr>\n",
       "      <th>2008-08-01</th>\n",
       "      <td>NaN</td>\n",
       "      <td>100.00</td>\n",
       "      <td>73.04</td>\n",
       "      <td>59.27</td>\n",
       "      <td>48.81</td>\n",
       "      <td>41.56</td>\n",
       "    </tr>\n",
       "    <tr>\n",
       "      <th>2008-09-01</th>\n",
       "      <td>NaN</td>\n",
       "      <td>NaN</td>\n",
       "      <td>100.00</td>\n",
       "      <td>53.82</td>\n",
       "      <td>38.63</td>\n",
       "      <td>32.56</td>\n",
       "    </tr>\n",
       "    <tr>\n",
       "      <th>2008-10-01</th>\n",
       "      <td>NaN</td>\n",
       "      <td>NaN</td>\n",
       "      <td>NaN</td>\n",
       "      <td>100.00</td>\n",
       "      <td>45.19</td>\n",
       "      <td>33.65</td>\n",
       "    </tr>\n",
       "    <tr>\n",
       "      <th>2008-11-01</th>\n",
       "      <td>NaN</td>\n",
       "      <td>NaN</td>\n",
       "      <td>NaN</td>\n",
       "      <td>NaN</td>\n",
       "      <td>100.00</td>\n",
       "      <td>40.36</td>\n",
       "    </tr>\n",
       "  </tbody>\n",
       "</table>\n",
       "</div>"
      ],
      "text/plain": [
       "session_date  2008-07-01  2008-08-01  2008-09-01  2008-10-01  2008-11-01  \\\n",
       "cohort_dt                                                                  \n",
       "2008-07-01         100.0       66.67       33.33       66.67       33.33   \n",
       "2008-08-01           NaN      100.00       73.04       59.27       48.81   \n",
       "2008-09-01           NaN         NaN      100.00       53.82       38.63   \n",
       "2008-10-01           NaN         NaN         NaN      100.00       45.19   \n",
       "2008-11-01           NaN         NaN         NaN         NaN      100.00   \n",
       "\n",
       "session_date  2008-12-01  \n",
       "cohort_dt                 \n",
       "2008-07-01         66.67  \n",
       "2008-08-01         41.56  \n",
       "2008-09-01         32.56  \n",
       "2008-10-01         33.65  \n",
       "2008-11-01         40.36  "
      ]
     },
     "execution_count": 22,
     "metadata": {},
     "output_type": "execute_result"
    }
   ],
   "source": [
    "retention = sample_df.pivot('cohort_dt', 'session_date', 'retention_rate')\n",
    "retention.head(5)"
   ]
  },
  {
   "cell_type": "code",
   "execution_count": 23,
   "metadata": {},
   "outputs": [
    {
     "data": {
      "text/html": [
       "<div>\n",
       "<style scoped>\n",
       "    .dataframe tbody tr th:only-of-type {\n",
       "        vertical-align: middle;\n",
       "    }\n",
       "\n",
       "    .dataframe tbody tr th {\n",
       "        vertical-align: top;\n",
       "    }\n",
       "\n",
       "    .dataframe thead th {\n",
       "        text-align: right;\n",
       "    }\n",
       "</style>\n",
       "<table border=\"1\" class=\"dataframe\">\n",
       "  <thead>\n",
       "    <tr style=\"text-align: right;\">\n",
       "      <th></th>\n",
       "      <th>2008-07-01</th>\n",
       "      <th>2008-08-01</th>\n",
       "      <th>2008-09-01</th>\n",
       "      <th>2008-10-01</th>\n",
       "      <th>2008-11-01</th>\n",
       "      <th>2008-12-01</th>\n",
       "    </tr>\n",
       "  </thead>\n",
       "  <tbody>\n",
       "    <tr>\n",
       "      <th>2008-07-01</th>\n",
       "      <td>100.0</td>\n",
       "      <td>66.67</td>\n",
       "      <td>33.33</td>\n",
       "      <td>66.67</td>\n",
       "      <td>33.33</td>\n",
       "      <td>66.67</td>\n",
       "    </tr>\n",
       "    <tr>\n",
       "      <th>2008-08-01</th>\n",
       "      <td>NaN</td>\n",
       "      <td>100.00</td>\n",
       "      <td>73.04</td>\n",
       "      <td>59.27</td>\n",
       "      <td>48.81</td>\n",
       "      <td>41.56</td>\n",
       "    </tr>\n",
       "    <tr>\n",
       "      <th>2008-09-01</th>\n",
       "      <td>NaN</td>\n",
       "      <td>NaN</td>\n",
       "      <td>100.00</td>\n",
       "      <td>53.82</td>\n",
       "      <td>38.63</td>\n",
       "      <td>32.56</td>\n",
       "    </tr>\n",
       "    <tr>\n",
       "      <th>2008-10-01</th>\n",
       "      <td>NaN</td>\n",
       "      <td>NaN</td>\n",
       "      <td>NaN</td>\n",
       "      <td>100.00</td>\n",
       "      <td>45.19</td>\n",
       "      <td>33.65</td>\n",
       "    </tr>\n",
       "    <tr>\n",
       "      <th>2008-11-01</th>\n",
       "      <td>NaN</td>\n",
       "      <td>NaN</td>\n",
       "      <td>NaN</td>\n",
       "      <td>NaN</td>\n",
       "      <td>100.00</td>\n",
       "      <td>40.36</td>\n",
       "    </tr>\n",
       "    <tr>\n",
       "      <th>2008-12-01</th>\n",
       "      <td>NaN</td>\n",
       "      <td>NaN</td>\n",
       "      <td>NaN</td>\n",
       "      <td>NaN</td>\n",
       "      <td>NaN</td>\n",
       "      <td>100.00</td>\n",
       "    </tr>\n",
       "  </tbody>\n",
       "</table>\n",
       "</div>"
      ],
      "text/plain": [
       "            2008-07-01  2008-08-01  2008-09-01  2008-10-01  2008-11-01  \\\n",
       "2008-07-01       100.0       66.67       33.33       66.67       33.33   \n",
       "2008-08-01         NaN      100.00       73.04       59.27       48.81   \n",
       "2008-09-01         NaN         NaN      100.00       53.82       38.63   \n",
       "2008-10-01         NaN         NaN         NaN      100.00       45.19   \n",
       "2008-11-01         NaN         NaN         NaN         NaN      100.00   \n",
       "2008-12-01         NaN         NaN         NaN         NaN         NaN   \n",
       "\n",
       "            2008-12-01  \n",
       "2008-07-01       66.67  \n",
       "2008-08-01       41.56  \n",
       "2008-09-01       32.56  \n",
       "2008-10-01       33.65  \n",
       "2008-11-01       40.36  \n",
       "2008-12-01      100.00  "
      ]
     },
     "execution_count": 23,
     "metadata": {},
     "output_type": "execute_result"
    }
   ],
   "source": [
    "retention.index = [str(x)[0:10] for x in retention.index]\n",
    "retention.columns = [str(x)[0:10] for x in retention.columns] \n",
    "retention.head(10)"
   ]
  },
  {
   "cell_type": "code",
   "execution_count": 24,
   "metadata": {},
   "outputs": [
    {
     "data": {
      "image/png": "[encoded data removed]",
      "text/plain": [
       "<Figure size 720x720 with 2 Axes>"
      ]
     },
     "metadata": {
      "needs_background": "light"
     },
     "output_type": "display_data"
    }
   ],
   "source": [
    "fig, ax = plt.subplots(figsize = (10,10))    \n",
    "\n",
    "sns.heatmap(retention, annot = True, linewidths=.5, cmap=\"YlGnBu\", square=False,  fmt='', ax = ax)\n",
    "plt.suptitle(\"Features correlation\")\n",
    "plt.show()"
   ]
  },
  {
   "cell_type": "markdown",
   "metadata": {},
   "source": [
    "- The first point would be to highlight the strange behavior of retention_rate in the very first cohort **2008-07-01** however, strong fluctuations in the indicator are easily explained by the size of the cohort - only 3 people. With any deviation of even one user, we will see strong distortions in the coefficients\n",
    "- A general pattern: in each following month, retention_rate drops for any cohort. Users lose interest after one month of activity and stop being active on the site\n",
    "- Retention_rate with each new cohort becomes lower at comparable cohort ages. This can be explained by the fact that when the platform was launched, the most interested and motivated users came, the further the interest of users in the platform is lower"
   ]
  },
  {
   "cell_type": "markdown",
   "metadata": {
    "id": "1k7oPWt5DWLK"
   },
   "source": [
    "# Task 9"
   ]
  },
  {
   "cell_type": "markdown",
   "metadata": {
    "id": "ALsYVSyRDWLM"
   },
   "source": [
    "By how many percent did the number of posts change monthly from September 1 to December 31, 2008? Display a table with the following fields:\n",
    "\n",
    "- month number;\n",
    "- number of posts per month;\n",
    "- a percentage that shows how much the number of posts has changed in the current month compared to the previous one.\n",
    "\n",
    "If there are fewer posts, the percentage value should be negative, if more — positive. Round the percentage value to two decimal places.\n",
    "\n",
    "Recall that when dividing one integer by another in PostgreSQL, the result is an integer rounded down to the nearest integer. To avoid this, convert the divisible to the `numeric` type."
   ]
  },
  {
   "cell_type": "markdown",
   "metadata": {
    "id": "u4E2zF8DDWLM"
   },
   "source": [
    "| creation_month | posts_count | percentage |\n",
    "| -------------- | ----------- | ---------- |\n",
    "| 9 | 70731 | Nan |\n",
    "| 10 | 63102 | -10.33 |\n",
    "| ... | ... | ... |"
   ]
  },
  {
   "cell_type": "code",
   "execution_count": 25,
   "metadata": {
    "id": "Mb5pShStDWLN"
   },
   "outputs": [
    {
     "data": {
      "text/html": [
       "<div>\n",
       "<style scoped>\n",
       "    .dataframe tbody tr th:only-of-type {\n",
       "        vertical-align: middle;\n",
       "    }\n",
       "\n",
       "    .dataframe tbody tr th {\n",
       "        vertical-align: top;\n",
       "    }\n",
       "\n",
       "    .dataframe thead th {\n",
       "        text-align: right;\n",
       "    }\n",
       "</style>\n",
       "<table border=\"1\" class=\"dataframe\">\n",
       "  <thead>\n",
       "    <tr style=\"text-align: right;\">\n",
       "      <th></th>\n",
       "      <th>creation_month</th>\n",
       "      <th>posts_count</th>\n",
       "      <th>percentage</th>\n",
       "    </tr>\n",
       "  </thead>\n",
       "  <tbody>\n",
       "    <tr>\n",
       "      <th>0</th>\n",
       "      <td>9</td>\n",
       "      <td>70371</td>\n",
       "      <td>NaN</td>\n",
       "    </tr>\n",
       "    <tr>\n",
       "      <th>1</th>\n",
       "      <td>10</td>\n",
       "      <td>63102</td>\n",
       "      <td>-10.33</td>\n",
       "    </tr>\n",
       "    <tr>\n",
       "      <th>2</th>\n",
       "      <td>11</td>\n",
       "      <td>46975</td>\n",
       "      <td>-25.56</td>\n",
       "    </tr>\n",
       "    <tr>\n",
       "      <th>3</th>\n",
       "      <td>12</td>\n",
       "      <td>44592</td>\n",
       "      <td>-5.07</td>\n",
       "    </tr>\n",
       "  </tbody>\n",
       "</table>\n",
       "</div>"
      ],
      "text/plain": [
       "   creation_month  posts_count  percentage\n",
       "0               9        70371         NaN\n",
       "1              10        63102      -10.33\n",
       "2              11        46975      -25.56\n",
       "3              12        44592       -5.07"
      ]
     },
     "execution_count": 25,
     "metadata": {},
     "output_type": "execute_result"
    }
   ],
   "source": [
    "query = '''\n",
    "with tmp as\n",
    "(\n",
    "select\n",
    "  cast(extract(month from a.creation_date) as int) as creation_month,\n",
    "  count(distinct a.id) as posts_count\n",
    "from stackoverflow.posts a\n",
    "where 1=1\n",
    "  and date_trunc('day',a.creation_date) >= date'2008-09-01'\n",
    "  and date_trunc('day',a.creation_date) <= date'2008-12-31'\n",
    "group by extract(month from a.creation_date)\n",
    "),\n",
    "\n",
    "tmp_2 as (\n",
    "\n",
    "select \n",
    "  a.creation_month,\n",
    "  a.posts_count,\n",
    "  LEAD(a.posts_count,-1,NULL) over(order by creation_month asc) as prev_cnt\n",
    "from tmp a)\n",
    "\n",
    "select\n",
    "  a.creation_month,\n",
    "  a.posts_count,\n",
    "  round(cast(a.posts_count - a.prev_cnt as numeric)*100/a.prev_cnt,2) as percentage\n",
    "from tmp_2 a\n",
    "\n",
    "'''\n",
    "\n",
    "sample_df = pd.read_sql_query(query, con=engine)\n",
    "sample_df.head(7)"
   ]
  },
  {
   "cell_type": "markdown",
   "metadata": {
    "id": "9NQE2y_MDWLP"
   },
   "source": [
    "Print a pie chart with the number of posts by month."
   ]
  },
  {
   "cell_type": "code",
   "execution_count": 26,
   "metadata": {},
   "outputs": [
    {
     "data": {
      "image/png": "[encoded data removed]",
      "text/plain": [
       "<Figure size 720x432 with 1 Axes>"
      ]
     },
     "metadata": {},
     "output_type": "display_data"
    }
   ],
   "source": [
    "# Data to plot\n",
    "\n",
    "fig, ax = plt.subplots(figsize=(10, 6))\n",
    "\n",
    "\n",
    "patches, texts, pcts = ax.pie(sample_df['posts_count'], \n",
    "                              labels = sample_df['creation_month'].astype('int'),\n",
    "                              autopct = '%.1f%%',\n",
    "                              wedgeprops = {'linewidth': 3.0, 'edgecolor': 'white'},\n",
    "                              textprops = {'size': 'x-large'})\n",
    "\n",
    "plt.setp(pcts, color = 'white', fontweight = 'bold')\n",
    "\n",
    "plt.axis('equal')\n",
    "plt.title('Number of posts by month', fontsize = 18)\n",
    "plt.show()"
   ]
  },
  {
   "cell_type": "code",
   "execution_count": 27,
   "metadata": {},
   "outputs": [
    {
     "data": {
      "text/plain": [
       "0    31.270441\n",
       "1    28.040348\n",
       "2    20.874067\n",
       "3    19.815144\n",
       "Name: posts_count, dtype: float64"
      ]
     },
     "execution_count": 27,
     "metadata": {},
     "output_type": "execute_result"
    }
   ],
   "source": [
    "sample_df['posts_count']*100/sample_df['posts_count'].sum()"
   ]
  },
  {
   "cell_type": "markdown",
   "metadata": {
    "id": "uw7qMtafDWLP"
   },
   "source": [
    "# Task 10"
   ]
  },
  {
   "cell_type": "markdown",
   "metadata": {
    "id": "oRBpWKx3DWLQ"
   },
   "source": [
    "Show the activity data of the user who has published the most posts of all time. Output the data for October 2008 in this form:\n",
    "\n",
    "- number of the week;\n",
    "- date and time of the last post published this week."
   ]
  },
  {
   "cell_type": "markdown",
   "metadata": {
    "id": "XjAWSn_3DWLQ"
   },
   "source": [
    "| week_creation | creation_date |\n",
    "| ------------- | ------------- |\n",
    "| 40 | 2008-10-05 09:00:58 |\n",
    "| 41 | 2008-10-12 21:22:23 |\n",
    "| ... | ... |"
   ]
  },
  {
   "cell_type": "code",
   "execution_count": 28,
   "metadata": {
    "id": "r5F5fSkwDWLQ"
   },
   "outputs": [
    {
     "data": {
      "text/html": [
       "<div>\n",
       "<style scoped>\n",
       "    .dataframe tbody tr th:only-of-type {\n",
       "        vertical-align: middle;\n",
       "    }\n",
       "\n",
       "    .dataframe tbody tr th {\n",
       "        vertical-align: top;\n",
       "    }\n",
       "\n",
       "    .dataframe thead th {\n",
       "        text-align: right;\n",
       "    }\n",
       "</style>\n",
       "<table border=\"1\" class=\"dataframe\">\n",
       "  <thead>\n",
       "    <tr style=\"text-align: right;\">\n",
       "      <th></th>\n",
       "      <th>week_creation</th>\n",
       "      <th>creation_date</th>\n",
       "    </tr>\n",
       "  </thead>\n",
       "  <tbody>\n",
       "    <tr>\n",
       "      <th>0</th>\n",
       "      <td>40</td>\n",
       "      <td>2008-10-05 09:00:58</td>\n",
       "    </tr>\n",
       "    <tr>\n",
       "      <th>1</th>\n",
       "      <td>41</td>\n",
       "      <td>2008-10-12 21:22:23</td>\n",
       "    </tr>\n",
       "    <tr>\n",
       "      <th>2</th>\n",
       "      <td>42</td>\n",
       "      <td>2008-10-19 06:49:30</td>\n",
       "    </tr>\n",
       "    <tr>\n",
       "      <th>3</th>\n",
       "      <td>43</td>\n",
       "      <td>2008-10-26 21:44:36</td>\n",
       "    </tr>\n",
       "    <tr>\n",
       "      <th>4</th>\n",
       "      <td>44</td>\n",
       "      <td>2008-10-31 22:16:01</td>\n",
       "    </tr>\n",
       "  </tbody>\n",
       "</table>\n",
       "</div>"
      ],
      "text/plain": [
       "   week_creation       creation_date\n",
       "0             40 2008-10-05 09:00:58\n",
       "1             41 2008-10-12 21:22:23\n",
       "2             42 2008-10-19 06:49:30\n",
       "3             43 2008-10-26 21:44:36\n",
       "4             44 2008-10-31 22:16:01"
      ]
     },
     "execution_count": 28,
     "metadata": {},
     "output_type": "execute_result"
    }
   ],
   "source": [
    "query = '''\n",
    "with tmp as \n",
    "(\n",
    "select\n",
    "  a.user_id,\n",
    "  count(distinct a.id) as cnt\n",
    "from stackoverflow.posts a\n",
    "where 1=1\n",
    "\n",
    "group by a.user_id\n",
    "),\n",
    "\n",
    "tmp_usr as (\n",
    "\n",
    "select \n",
    "  a.* \n",
    "from tmp a\n",
    "where 1=1\n",
    " and a.cnt in (select max(a.cnt) from tmp a)\n",
    "),\n",
    "\n",
    "tmp_end as (\n",
    " \n",
    " select\n",
    "   cast(extract(week from a.creation_date) as int) as week_creation,\n",
    "   a.creation_date,\n",
    "   a.user_id,\n",
    "   row_number() over(partition by extract(week from a.creation_date) order by a.creation_date desc) as n\n",
    " \n",
    " from stackoverflow.posts a\n",
    " \n",
    " where 1=1\n",
    "   and a.user_id in (select a.user_id from tmp_usr a)\n",
    "   and date_trunc('day',a.creation_date) >= date'2008-10-01'\n",
    "   and date_trunc('day',a.creation_date) <  date'2008-11-01'\n",
    ")\n",
    "\n",
    "select \n",
    "  a.week_creation,\n",
    "  a.creation_date\n",
    "\n",
    "from tmp_end a\n",
    "\n",
    "where 1=1\n",
    "  and a.n = 1\n",
    "\n",
    "'''\n",
    "\n",
    "\n",
    "sample_df = pd.read_sql_query(query, con=engine)\n",
    "sample_df.head(7)"
   ]
  }
 ],
 "metadata": {
  "ExecuteTimeLog": [
   {
    "duration": 1152,
    "start_time": "2022-05-08T04:32:57.739Z"
   },
   {
    "duration": 5,
    "start_time": "2022-05-08T04:33:39.682Z"
   },
   {
    "duration": 4524,
    "start_time": "2022-05-08T04:33:59.751Z"
   },
   {
    "duration": 167,
    "start_time": "2022-05-08T04:34:06.460Z"
   },
   {
    "duration": 22,
    "start_time": "2022-05-08T04:34:07.747Z"
   },
   {
    "duration": 104,
    "start_time": "2022-05-08T04:39:26.120Z"
   },
   {
    "duration": 9,
    "start_time": "2022-05-08T04:39:40.912Z"
   },
   {
    "duration": 128,
    "start_time": "2022-05-08T04:42:40.718Z"
   },
   {
    "duration": 197,
    "start_time": "2022-05-08T04:42:48.555Z"
   },
   {
    "duration": 358,
    "start_time": "2022-05-08T04:43:51.643Z"
   },
   {
    "duration": 234,
    "start_time": "2022-05-08T04:45:10.597Z"
   },
   {
    "duration": 210,
    "start_time": "2022-05-08T04:45:14.966Z"
   },
   {
    "duration": 3,
    "start_time": "2022-05-08T05:03:09.622Z"
   },
   {
    "duration": 139,
    "start_time": "2022-05-08T05:03:25.628Z"
   },
   {
    "duration": 146,
    "start_time": "2022-05-08T05:03:59.226Z"
   },
   {
    "duration": 137,
    "start_time": "2022-05-08T05:05:32.183Z"
   },
   {
    "duration": 139,
    "start_time": "2022-05-08T05:06:07.068Z"
   },
   {
    "duration": 169,
    "start_time": "2022-05-08T05:06:47.277Z"
   },
   {
    "duration": 42,
    "start_time": "2022-05-08T05:07:06.785Z"
   },
   {
    "duration": 10,
    "start_time": "2022-05-08T05:07:36.653Z"
   },
   {
    "duration": 122,
    "start_time": "2022-05-08T05:07:45.323Z"
   },
   {
    "duration": 9,
    "start_time": "2022-05-08T05:07:45.748Z"
   },
   {
    "duration": 41,
    "start_time": "2022-05-08T05:07:59.282Z"
   },
   {
    "duration": 41,
    "start_time": "2022-05-08T05:08:01.994Z"
   },
   {
    "duration": 9,
    "start_time": "2022-05-08T05:08:02.737Z"
   },
   {
    "duration": 193,
    "start_time": "2022-05-08T05:08:08.493Z"
   },
   {
    "duration": 16,
    "start_time": "2022-05-08T05:08:09.232Z"
   },
   {
    "duration": 163,
    "start_time": "2022-05-08T05:08:46.620Z"
   },
   {
    "duration": 181,
    "start_time": "2022-05-08T05:08:55.576Z"
   },
   {
    "duration": 36,
    "start_time": "2022-05-08T05:09:12.331Z"
   },
   {
    "duration": 122,
    "start_time": "2022-05-08T05:09:26.139Z"
   },
   {
    "duration": 10,
    "start_time": "2022-05-08T05:09:26.697Z"
   },
   {
    "duration": 215,
    "start_time": "2022-05-08T05:11:21.784Z"
   },
   {
    "duration": 36,
    "start_time": "2022-05-08T05:11:22.357Z"
   },
   {
    "duration": 155,
    "start_time": "2022-05-08T05:11:30.557Z"
   },
   {
    "duration": 13,
    "start_time": "2022-05-08T05:11:31.019Z"
   },
   {
    "duration": 159,
    "start_time": "2022-05-08T05:12:10.813Z"
   },
   {
    "duration": 14,
    "start_time": "2022-05-08T05:12:11.397Z"
   },
   {
    "duration": 120,
    "start_time": "2022-05-08T05:12:16.680Z"
   },
   {
    "duration": 8,
    "start_time": "2022-05-08T05:12:17.060Z"
   },
   {
    "duration": 129,
    "start_time": "2022-05-08T05:12:20.632Z"
   },
   {
    "duration": 9,
    "start_time": "2022-05-08T05:12:23.820Z"
   },
   {
    "duration": 122,
    "start_time": "2022-05-08T05:12:27.167Z"
   },
   {
    "duration": 9,
    "start_time": "2022-05-08T05:12:27.573Z"
   },
   {
    "duration": 218,
    "start_time": "2022-05-08T05:12:37.821Z"
   },
   {
    "duration": 16,
    "start_time": "2022-05-08T05:12:38.833Z"
   },
   {
    "duration": 161,
    "start_time": "2022-05-08T05:13:02.979Z"
   },
   {
    "duration": 15,
    "start_time": "2022-05-08T05:13:03.744Z"
   },
   {
    "duration": 131,
    "start_time": "2022-05-08T05:13:08.156Z"
   },
   {
    "duration": 9,
    "start_time": "2022-05-08T05:13:08.511Z"
   },
   {
    "duration": 168,
    "start_time": "2022-05-08T05:13:43.383Z"
   },
   {
    "duration": 15,
    "start_time": "2022-05-08T05:13:43.839Z"
   },
   {
    "duration": 252,
    "start_time": "2022-05-08T05:13:50.880Z"
   },
   {
    "duration": 15,
    "start_time": "2022-05-08T05:13:51.342Z"
   },
   {
    "duration": 118,
    "start_time": "2022-05-08T05:14:13.435Z"
   },
   {
    "duration": 116,
    "start_time": "2022-05-08T05:14:32.073Z"
   },
   {
    "duration": 9,
    "start_time": "2022-05-08T05:14:32.583Z"
   },
   {
    "duration": 42,
    "start_time": "2022-05-08T05:15:00.063Z"
   },
   {
    "duration": 126,
    "start_time": "2022-05-08T05:15:03.570Z"
   },
   {
    "duration": 9,
    "start_time": "2022-05-08T05:15:04.285Z"
   },
   {
    "duration": 114,
    "start_time": "2022-05-08T05:15:11.157Z"
   },
   {
    "duration": 11,
    "start_time": "2022-05-08T05:15:22.457Z"
   },
   {
    "duration": 115,
    "start_time": "2022-05-08T05:15:28.038Z"
   },
   {
    "duration": 127,
    "start_time": "2022-05-08T05:16:01.179Z"
   },
   {
    "duration": 120,
    "start_time": "2022-05-08T05:16:06.705Z"
   },
   {
    "duration": 10,
    "start_time": "2022-05-08T05:16:07.560Z"
   },
   {
    "duration": 41,
    "start_time": "2022-05-08T05:16:14.416Z"
   },
   {
    "duration": 10,
    "start_time": "2022-05-08T05:16:17.054Z"
   },
   {
    "duration": 196,
    "start_time": "2022-05-08T05:16:37.969Z"
   },
   {
    "duration": 17,
    "start_time": "2022-05-08T05:16:38.442Z"
   },
   {
    "duration": 199,
    "start_time": "2022-05-08T05:16:51.777Z"
   },
   {
    "duration": 17,
    "start_time": "2022-05-08T05:16:52.312Z"
   },
   {
    "duration": 14,
    "start_time": "2022-05-08T05:17:12.136Z"
   },
   {
    "duration": 9,
    "start_time": "2022-05-08T05:17:33.773Z"
   },
   {
    "duration": 206,
    "start_time": "2022-05-08T05:18:07.827Z"
   },
   {
    "duration": 14,
    "start_time": "2022-05-08T05:18:08.635Z"
   },
   {
    "duration": 9,
    "start_time": "2022-05-08T05:18:11.248Z"
   },
   {
    "duration": 41,
    "start_time": "2022-05-08T05:19:15.438Z"
   },
   {
    "duration": 10,
    "start_time": "2022-05-08T05:19:16.053Z"
   },
   {
    "duration": 9,
    "start_time": "2022-05-08T05:19:17.004Z"
   },
   {
    "duration": 40,
    "start_time": "2022-05-08T05:19:22.705Z"
   },
   {
    "duration": 10,
    "start_time": "2022-05-08T05:19:23.106Z"
   },
   {
    "duration": 8,
    "start_time": "2022-05-08T05:19:23.716Z"
   },
   {
    "duration": 40,
    "start_time": "2022-05-08T05:19:46.696Z"
   },
   {
    "duration": 9,
    "start_time": "2022-05-08T05:19:47.438Z"
   },
   {
    "duration": 41,
    "start_time": "2022-05-08T05:20:14.914Z"
   },
   {
    "duration": 11,
    "start_time": "2022-05-08T05:20:18.297Z"
   },
   {
    "duration": 41,
    "start_time": "2022-05-08T05:20:32.546Z"
   },
   {
    "duration": 10,
    "start_time": "2022-05-08T05:20:32.995Z"
   },
   {
    "duration": 268,
    "start_time": "2022-05-08T05:22:23.440Z"
   },
   {
    "duration": 76,
    "start_time": "2022-05-08T05:22:35.047Z"
   },
   {
    "duration": 76,
    "start_time": "2022-05-08T05:24:29.799Z"
   },
   {
    "duration": 40,
    "start_time": "2022-05-08T05:24:55.753Z"
   },
   {
    "duration": 10,
    "start_time": "2022-05-08T05:24:56.161Z"
   },
   {
    "duration": 8,
    "start_time": "2022-05-08T05:24:57.400Z"
   },
   {
    "duration": 75,
    "start_time": "2022-05-08T05:24:58.171Z"
   },
   {
    "duration": 133,
    "start_time": "2022-05-08T05:25:14.588Z"
   },
   {
    "duration": 80,
    "start_time": "2022-05-08T05:25:28.386Z"
   },
   {
    "duration": 143,
    "start_time": "2022-05-08T07:53:33.148Z"
   },
   {
    "duration": 42,
    "start_time": "2022-05-08T07:53:43.510Z"
   },
   {
    "duration": 20,
    "start_time": "2022-05-08T07:54:07.512Z"
   },
   {
    "duration": 206,
    "start_time": "2022-05-08T07:54:24.080Z"
   },
   {
    "duration": 17,
    "start_time": "2022-05-08T07:54:28.896Z"
   },
   {
    "duration": 42,
    "start_time": "2022-05-08T07:55:15.013Z"
   },
   {
    "duration": 96,
    "start_time": "2022-05-08T07:55:18.183Z"
   },
   {
    "duration": 10,
    "start_time": "2022-05-08T07:55:18.494Z"
   },
   {
    "duration": 41,
    "start_time": "2022-05-08T07:55:18.928Z"
   },
   {
    "duration": 218,
    "start_time": "2022-05-08T07:55:20.734Z"
   },
   {
    "duration": 232,
    "start_time": "2022-05-08T07:55:23.254Z"
   },
   {
    "duration": 90,
    "start_time": "2022-05-08T07:59:09.638Z"
   },
   {
    "duration": 397,
    "start_time": "2022-05-08T07:59:14.820Z"
   },
   {
    "duration": 306,
    "start_time": "2022-05-08T07:59:37.103Z"
   },
   {
    "duration": 309,
    "start_time": "2022-05-08T07:59:58.588Z"
   },
   {
    "duration": 310,
    "start_time": "2022-05-08T08:00:15.063Z"
   },
   {
    "duration": 93,
    "start_time": "2022-05-08T08:01:45.988Z"
   },
   {
    "duration": 302,
    "start_time": "2022-05-08T08:01:56.468Z"
   },
   {
    "duration": 5,
    "start_time": "2022-05-08T08:07:01.551Z"
   },
   {
    "duration": 40,
    "start_time": "2022-05-08T08:11:27.561Z"
   },
   {
    "duration": 10,
    "start_time": "2022-05-08T08:11:27.749Z"
   },
   {
    "duration": 76,
    "start_time": "2022-05-08T08:11:27.913Z"
   },
   {
    "duration": 3,
    "start_time": "2022-05-08T08:11:33.497Z"
   },
   {
    "duration": 137,
    "start_time": "2022-05-08T08:13:18.905Z"
   },
   {
    "duration": 85,
    "start_time": "2022-05-08T08:13:25.698Z"
   },
   {
    "duration": 38,
    "start_time": "2022-05-08T08:16:25.647Z"
   },
   {
    "duration": 36,
    "start_time": "2022-05-08T08:16:37.956Z"
   },
   {
    "duration": 257,
    "start_time": "2022-05-08T08:35:37.294Z"
   },
   {
    "duration": 160,
    "start_time": "2022-05-08T08:46:09.749Z"
   },
   {
    "duration": 100,
    "start_time": "2022-05-08T08:47:03.180Z"
   },
   {
    "duration": 14,
    "start_time": "2022-05-08T08:47:14.042Z"
   },
   {
    "duration": 42,
    "start_time": "2022-05-08T08:47:19.506Z"
   },
   {
    "duration": 325,
    "start_time": "2022-05-08T08:47:20.709Z"
   },
   {
    "duration": 4,
    "start_time": "2022-05-08T08:47:23.404Z"
   },
   {
    "duration": 156,
    "start_time": "2022-05-08T08:56:39.452Z"
   },
   {
    "duration": 163,
    "start_time": "2022-05-08T08:56:54.245Z"
   },
   {
    "duration": 1544,
    "start_time": "2022-05-08T08:59:01.195Z"
   },
   {
    "duration": 121,
    "start_time": "2022-05-08T09:37:37.198Z"
   },
   {
    "duration": 119,
    "start_time": "2022-05-08T09:38:19.387Z"
   },
   {
    "duration": 119,
    "start_time": "2022-05-08T09:38:36.641Z"
   },
   {
    "duration": 114,
    "start_time": "2022-05-08T09:38:40.028Z"
   },
   {
    "duration": 142,
    "start_time": "2022-05-08T10:08:18.820Z"
   },
   {
    "duration": 102,
    "start_time": "2022-05-08T10:09:02.389Z"
   },
   {
    "duration": 146,
    "start_time": "2022-05-08T10:10:31.411Z"
   },
   {
    "duration": 172,
    "start_time": "2022-05-08T10:10:51.578Z"
   },
   {
    "duration": 171,
    "start_time": "2022-05-08T10:11:09.080Z"
   },
   {
    "duration": 155,
    "start_time": "2022-05-08T10:11:21.966Z"
   },
   {
    "duration": 105,
    "start_time": "2022-05-08T10:11:42.820Z"
   },
   {
    "duration": 47,
    "start_time": "2022-05-08T10:13:10.545Z"
   },
   {
    "duration": 13,
    "start_time": "2022-05-08T10:13:11.287Z"
   },
   {
    "duration": 40,
    "start_time": "2022-05-08T10:13:28.389Z"
   },
   {
    "duration": 13,
    "start_time": "2022-05-08T10:13:29.077Z"
   },
   {
    "duration": 10,
    "start_time": "2022-05-08T10:13:56.919Z"
   },
   {
    "duration": 40,
    "start_time": "2022-05-08T10:14:51.065Z"
   },
   {
    "duration": 10,
    "start_time": "2022-05-08T10:14:51.621Z"
   },
   {
    "duration": 42,
    "start_time": "2022-05-08T10:14:57.796Z"
   },
   {
    "duration": 9,
    "start_time": "2022-05-08T10:14:58.308Z"
   },
   {
    "duration": 262,
    "start_time": "2022-05-08T10:15:44.481Z"
   },
   {
    "duration": 14,
    "start_time": "2022-05-08T10:15:45.122Z"
   },
   {
    "duration": 42,
    "start_time": "2022-05-08T10:15:49.885Z"
   },
   {
    "duration": 10,
    "start_time": "2022-05-08T10:15:50.352Z"
   },
   {
    "duration": 290,
    "start_time": "2022-05-08T10:16:00.809Z"
   },
   {
    "duration": 16,
    "start_time": "2022-05-08T10:16:01.137Z"
   },
   {
    "duration": 160,
    "start_time": "2022-05-08T10:16:07.634Z"
   },
   {
    "duration": 16,
    "start_time": "2022-05-08T10:16:08.173Z"
   },
   {
    "duration": 168,
    "start_time": "2022-05-08T10:16:12.786Z"
   },
   {
    "duration": 11,
    "start_time": "2022-05-08T10:16:13.368Z"
   },
   {
    "duration": 165,
    "start_time": "2022-05-08T10:16:31.683Z"
   },
   {
    "duration": 12,
    "start_time": "2022-05-08T10:16:32.365Z"
   },
   {
    "duration": 14,
    "start_time": "2022-05-08T10:16:57.078Z"
   },
   {
    "duration": 172,
    "start_time": "2022-05-08T10:17:34.670Z"
   },
   {
    "duration": 27,
    "start_time": "2022-05-08T10:17:37.661Z"
   },
   {
    "duration": 1512,
    "start_time": "2022-05-08T10:18:32.476Z"
   },
   {
    "duration": 336,
    "start_time": "2022-05-08T10:18:36.988Z"
   },
   {
    "duration": 14,
    "start_time": "2022-05-08T10:18:37.378Z"
   },
   {
    "duration": 194,
    "start_time": "2022-05-08T10:19:20.002Z"
   },
   {
    "duration": 286,
    "start_time": "2022-05-08T10:19:35.357Z"
   },
   {
    "duration": 216,
    "start_time": "2022-05-08T10:19:53.416Z"
   },
   {
    "duration": 13,
    "start_time": "2022-05-08T10:20:14.540Z"
   },
   {
    "duration": 13,
    "start_time": "2022-05-08T10:20:18.270Z"
   },
   {
    "duration": 14,
    "start_time": "2022-05-08T10:20:23.615Z"
   },
   {
    "duration": 15,
    "start_time": "2022-05-08T10:20:29.630Z"
   },
   {
    "duration": 16,
    "start_time": "2022-05-08T10:20:34.920Z"
   },
   {
    "duration": 11,
    "start_time": "2022-05-08T10:21:14.328Z"
   },
   {
    "duration": 11,
    "start_time": "2022-05-08T10:23:27.135Z"
   },
   {
    "duration": 90,
    "start_time": "2022-05-08T10:30:55.206Z"
   },
   {
    "duration": 63,
    "start_time": "2022-05-08T10:31:57.392Z"
   },
   {
    "duration": 1280,
    "start_time": "2022-05-08T10:40:51.450Z"
   },
   {
    "duration": 1557,
    "start_time": "2022-05-08T10:42:38.946Z"
   },
   {
    "duration": 10643,
    "start_time": "2022-05-08T10:43:11.888Z"
   },
   {
    "duration": 1780,
    "start_time": "2022-05-08T10:47:00.538Z"
   },
   {
    "duration": 1604,
    "start_time": "2022-05-08T10:47:18.758Z"
   },
   {
    "duration": 1326,
    "start_time": "2022-05-08T10:47:28.128Z"
   },
   {
    "duration": 1354,
    "start_time": "2022-05-08T10:47:42.435Z"
   },
   {
    "duration": 1442,
    "start_time": "2022-05-08T10:47:49.927Z"
   },
   {
    "duration": 1374,
    "start_time": "2022-05-08T10:47:58.733Z"
   },
   {
    "duration": 1370,
    "start_time": "2022-05-08T10:48:06.959Z"
   },
   {
    "duration": 1466,
    "start_time": "2022-05-08T10:48:14.401Z"
   },
   {
    "duration": 1394,
    "start_time": "2022-05-08T10:48:21.095Z"
   },
   {
    "duration": 1382,
    "start_time": "2022-05-08T10:48:36.703Z"
   },
   {
    "duration": 1520,
    "start_time": "2022-05-08T10:48:47.356Z"
   },
   {
    "duration": 13,
    "start_time": "2022-05-08T10:49:06.731Z"
   },
   {
    "duration": 1455,
    "start_time": "2022-05-08T10:49:28.057Z"
   },
   {
    "duration": 4,
    "start_time": "2022-05-08T11:22:25.415Z"
   },
   {
    "duration": 5,
    "start_time": "2022-05-08T11:22:25.755Z"
   },
   {
    "duration": 4,
    "start_time": "2022-05-08T11:22:26.081Z"
   },
   {
    "duration": 169,
    "start_time": "2022-05-08T11:22:26.399Z"
   },
   {
    "duration": 14,
    "start_time": "2022-05-08T11:22:26.571Z"
   },
   {
    "duration": 97,
    "start_time": "2022-05-08T11:22:27.171Z"
   },
   {
    "duration": 10,
    "start_time": "2022-05-08T11:22:27.308Z"
   },
   {
    "duration": 43,
    "start_time": "2022-05-08T11:22:27.479Z"
   },
   {
    "duration": 307,
    "start_time": "2022-05-08T11:22:27.966Z"
   },
   {
    "duration": 3,
    "start_time": "2022-05-08T11:22:28.276Z"
   },
   {
    "duration": 181,
    "start_time": "2022-05-08T11:22:29.019Z"
   },
   {
    "duration": 13,
    "start_time": "2022-05-08T11:22:29.203Z"
   },
   {
    "duration": 11,
    "start_time": "2022-05-08T11:22:29.348Z"
   },
   {
    "duration": 8,
    "start_time": "2022-05-08T11:22:29.522Z"
   },
   {
    "duration": 209,
    "start_time": "2022-05-08T11:22:29.702Z"
   },
   {
    "duration": 3,
    "start_time": "2022-05-08T11:22:30.932Z"
   },
   {
    "duration": 170,
    "start_time": "2022-05-08T11:22:32.595Z"
   },
   {
    "duration": 4,
    "start_time": "2022-05-08T11:22:33.076Z"
   },
   {
    "duration": 1825,
    "start_time": "2022-05-08T11:22:33.884Z"
   },
   {
    "duration": 105,
    "start_time": "2022-05-08T11:22:35.711Z"
   },
   {
    "duration": 68,
    "start_time": "2022-05-08T11:22:35.818Z"
   },
   {
    "duration": 3,
    "start_time": "2022-05-08T11:22:36.793Z"
   },
   {
    "duration": 1388,
    "start_time": "2022-05-08T11:22:39.141Z"
   },
   {
    "duration": 24,
    "start_time": "2022-05-08T11:22:40.531Z"
   },
   {
    "duration": 160,
    "start_time": "2022-05-08T11:26:02.828Z"
   },
   {
    "duration": 152,
    "start_time": "2022-05-08T11:27:08.436Z"
   },
   {
    "duration": 150,
    "start_time": "2022-05-08T11:27:14.087Z"
   },
   {
    "duration": 1914,
    "start_time": "2022-05-08T11:27:51.336Z"
   },
   {
    "duration": 147,
    "start_time": "2022-05-08T11:29:44.294Z"
   },
   {
    "duration": 138,
    "start_time": "2022-05-08T11:29:50.029Z"
   },
   {
    "duration": 263,
    "start_time": "2022-05-08T11:30:01.603Z"
   },
   {
    "duration": 260,
    "start_time": "2022-05-08T11:30:35.506Z"
   },
   {
    "duration": 282,
    "start_time": "2022-05-08T11:30:45.418Z"
   },
   {
    "duration": 144,
    "start_time": "2022-05-08T11:38:59.169Z"
   },
   {
    "duration": 144,
    "start_time": "2022-05-08T11:39:51.310Z"
   },
   {
    "duration": 193,
    "start_time": "2022-05-08T11:40:02.667Z"
   },
   {
    "duration": 983,
    "start_time": "2022-05-08T11:41:05.846Z"
   },
   {
    "duration": 6,
    "start_time": "2022-05-08T11:41:06.833Z"
   },
   {
    "duration": 5212,
    "start_time": "2022-05-08T11:41:07.490Z"
   },
   {
    "duration": 167,
    "start_time": "2022-05-08T11:41:12.706Z"
   },
   {
    "duration": 23,
    "start_time": "2022-05-08T11:41:12.875Z"
   },
   {
    "duration": 99,
    "start_time": "2022-05-08T11:41:12.902Z"
   },
   {
    "duration": 10,
    "start_time": "2022-05-08T11:41:13.003Z"
   },
   {
    "duration": 44,
    "start_time": "2022-05-08T11:41:13.016Z"
   },
   {
    "duration": 778,
    "start_time": "2022-05-08T11:41:13.062Z"
   },
   {
    "duration": 3,
    "start_time": "2022-05-08T11:41:13.851Z"
   },
   {
    "duration": 206,
    "start_time": "2022-05-08T11:41:13.857Z"
   },
   {
    "duration": 14,
    "start_time": "2022-05-08T11:41:14.066Z"
   },
   {
    "duration": 26,
    "start_time": "2022-05-08T11:41:14.082Z"
   },
   {
    "duration": 14,
    "start_time": "2022-05-08T11:41:14.110Z"
   },
   {
    "duration": 229,
    "start_time": "2022-05-08T11:41:14.126Z"
   },
   {
    "duration": 3,
    "start_time": "2022-05-08T11:41:14.357Z"
   },
   {
    "duration": 173,
    "start_time": "2022-05-08T11:41:14.362Z"
   },
   {
    "duration": 3,
    "start_time": "2022-05-08T11:41:14.537Z"
   },
   {
    "duration": 1515,
    "start_time": "2022-05-08T11:41:14.542Z"
   },
   {
    "duration": 110,
    "start_time": "2022-05-08T11:41:16.061Z"
   },
   {
    "duration": 67,
    "start_time": "2022-05-08T11:41:16.174Z"
   },
   {
    "duration": 4,
    "start_time": "2022-05-08T11:41:17.029Z"
   },
   {
    "duration": 1365,
    "start_time": "2022-05-08T11:41:19.143Z"
   },
   {
    "duration": 13,
    "start_time": "2022-05-08T11:41:20.511Z"
   },
   {
    "duration": 958,
    "start_time": "2022-05-08T11:41:55.920Z"
   },
   {
    "duration": 5,
    "start_time": "2022-05-08T11:41:56.881Z"
   },
   {
    "duration": 5059,
    "start_time": "2022-05-08T11:41:56.888Z"
   },
   {
    "duration": 152,
    "start_time": "2022-05-08T11:42:01.950Z"
   },
   {
    "duration": 19,
    "start_time": "2022-05-08T11:42:02.105Z"
   },
   {
    "duration": 100,
    "start_time": "2022-05-08T11:42:02.127Z"
   },
   {
    "duration": 9,
    "start_time": "2022-05-08T11:42:02.229Z"
   },
   {
    "duration": 39,
    "start_time": "2022-05-08T11:42:02.242Z"
   },
   {
    "duration": 517,
    "start_time": "2022-05-08T11:42:02.283Z"
   },
   {
    "duration": 2,
    "start_time": "2022-05-08T11:42:02.803Z"
   },
   {
    "duration": 202,
    "start_time": "2022-05-08T11:42:02.807Z"
   },
   {
    "duration": 14,
    "start_time": "2022-05-08T11:42:03.012Z"
   },
   {
    "duration": 13,
    "start_time": "2022-05-08T11:42:03.029Z"
   },
   {
    "duration": 10,
    "start_time": "2022-05-08T11:42:03.044Z"
   },
   {
    "duration": 231,
    "start_time": "2022-05-08T11:42:03.056Z"
   },
   {
    "duration": 4,
    "start_time": "2022-05-08T11:42:03.290Z"
   },
   {
    "duration": 189,
    "start_time": "2022-05-08T11:42:03.296Z"
   },
   {
    "duration": 3,
    "start_time": "2022-05-08T11:42:03.489Z"
   },
   {
    "duration": 1697,
    "start_time": "2022-05-08T11:42:03.494Z"
   },
   {
    "duration": 102,
    "start_time": "2022-05-08T11:42:05.194Z"
   },
   {
    "duration": 60,
    "start_time": "2022-05-08T11:42:05.298Z"
   },
   {
    "duration": 3,
    "start_time": "2022-05-08T11:42:05.752Z"
   },
   {
    "duration": 1607,
    "start_time": "2022-05-08T11:42:07.397Z"
   },
   {
    "duration": 17,
    "start_time": "2022-05-08T11:42:09.551Z"
   },
   {
    "duration": 339,
    "start_time": "2022-05-08T11:42:26.011Z"
   },
   {
    "duration": 929,
    "start_time": "2022-05-08T11:44:56.241Z"
   },
   {
    "duration": 105,
    "start_time": "2022-05-08T11:45:03.503Z"
   },
   {
    "duration": 11,
    "start_time": "2022-05-08T11:45:08.801Z"
   },
   {
    "duration": 5,
    "start_time": "2022-05-08T11:45:13.989Z"
   },
   {
    "duration": 5146,
    "start_time": "2022-05-08T11:45:14.844Z"
   },
   {
    "duration": 365,
    "start_time": "2022-05-08T11:45:22.585Z"
   },
   {
    "duration": 330,
    "start_time": "2022-05-08T11:45:30.600Z"
   },
   {
    "duration": 139,
    "start_time": "2022-05-08T11:46:15.860Z"
   },
   {
    "duration": 285,
    "start_time": "2022-05-08T11:46:24.120Z"
   },
   {
    "duration": 260,
    "start_time": "2022-05-08T11:47:06.667Z"
   },
   {
    "duration": 130,
    "start_time": "2022-05-08T11:47:15.393Z"
   },
   {
    "duration": 212,
    "start_time": "2022-05-08T11:47:32.640Z"
   },
   {
    "duration": 408,
    "start_time": "2022-05-08T11:48:25.138Z"
   },
   {
    "duration": 186,
    "start_time": "2022-05-08T11:52:42.550Z"
   },
   {
    "duration": 137,
    "start_time": "2022-05-08T11:52:49.119Z"
   },
   {
    "duration": 347,
    "start_time": "2022-05-08T11:53:03.227Z"
   },
   {
    "duration": 5314,
    "start_time": "2022-05-08T11:54:03.629Z"
   },
   {
    "duration": 150,
    "start_time": "2022-05-08T11:54:38.586Z"
   },
   {
    "duration": 3849,
    "start_time": "2022-05-08T11:55:05.225Z"
   },
   {
    "duration": 1486,
    "start_time": "2022-05-08T11:55:21.019Z"
   },
   {
    "duration": 554,
    "start_time": "2022-05-08T11:56:58.269Z"
   },
   {
    "duration": 520,
    "start_time": "2022-05-08T11:58:28.707Z"
   },
   {
    "duration": 393,
    "start_time": "2022-05-08T12:00:54.028Z"
   },
   {
    "duration": 4,
    "start_time": "2022-05-08T12:06:10.104Z"
   },
   {
    "duration": 53,
    "start_time": "2022-05-08T12:06:10.618Z"
   },
   {
    "duration": 10,
    "start_time": "2022-05-08T12:06:23.698Z"
   },
   {
    "duration": 526,
    "start_time": "2022-05-08T12:06:25.230Z"
   },
   {
    "duration": 22,
    "start_time": "2022-05-08T12:07:43.396Z"
   },
   {
    "duration": 22,
    "start_time": "2022-05-08T12:07:51.690Z"
   },
   {
    "duration": 539,
    "start_time": "2022-05-08T12:07:52.335Z"
   },
   {
    "duration": 554,
    "start_time": "2022-05-08T12:08:04.233Z"
   },
   {
    "duration": 23,
    "start_time": "2022-05-08T12:09:01.215Z"
   },
   {
    "duration": 24,
    "start_time": "2022-05-08T12:09:30.108Z"
   },
   {
    "duration": 25,
    "start_time": "2022-05-08T12:10:17.635Z"
   },
   {
    "duration": 18,
    "start_time": "2022-05-08T12:10:18.075Z"
   },
   {
    "duration": 568,
    "start_time": "2022-05-08T12:11:33.909Z"
   },
   {
    "duration": 166,
    "start_time": "2022-05-08T12:38:50.139Z"
   },
   {
    "duration": 174,
    "start_time": "2022-05-08T12:39:03.433Z"
   },
   {
    "duration": 166,
    "start_time": "2022-05-08T12:40:32.062Z"
   },
   {
    "duration": 137,
    "start_time": "2022-05-08T12:42:26.768Z"
   },
   {
    "duration": 142,
    "start_time": "2022-05-08T12:42:39.614Z"
   },
   {
    "duration": 177,
    "start_time": "2022-05-08T12:43:01.735Z"
   },
   {
    "duration": 180,
    "start_time": "2022-05-08T12:43:17.209Z"
   },
   {
    "duration": 179,
    "start_time": "2022-05-08T12:43:24.308Z"
   },
   {
    "duration": 173,
    "start_time": "2022-05-08T12:46:06.252Z"
   },
   {
    "duration": 109,
    "start_time": "2022-05-08T12:47:09.687Z"
   },
   {
    "duration": 124,
    "start_time": "2022-05-08T12:47:28.005Z"
   },
   {
    "duration": 136,
    "start_time": "2022-05-08T12:48:44.549Z"
   },
   {
    "duration": 145,
    "start_time": "2022-05-08T12:48:58.397Z"
   },
   {
    "duration": 11,
    "start_time": "2022-05-08T12:49:51.303Z"
   },
   {
    "duration": 17,
    "start_time": "2022-05-08T12:50:05.056Z"
   },
   {
    "duration": 8,
    "start_time": "2022-05-08T12:50:09.569Z"
   },
   {
    "duration": 9,
    "start_time": "2022-05-08T12:50:25.017Z"
   },
   {
    "duration": 257,
    "start_time": "2022-05-08T12:51:13.532Z"
   },
   {
    "duration": 1742,
    "start_time": "2022-05-08T17:15:02.559Z"
   },
   {
    "duration": 3,
    "start_time": "2022-05-08T17:15:04.303Z"
   },
   {
    "duration": 5819,
    "start_time": "2022-05-08T17:15:04.307Z"
   },
   {
    "duration": 203,
    "start_time": "2022-05-08T17:15:10.128Z"
   },
   {
    "duration": 13,
    "start_time": "2022-05-08T17:15:10.333Z"
   },
   {
    "duration": 102,
    "start_time": "2022-05-08T17:15:10.348Z"
   },
   {
    "duration": 7,
    "start_time": "2022-05-08T17:15:10.452Z"
   },
   {
    "duration": 51,
    "start_time": "2022-05-08T17:15:10.462Z"
   },
   {
    "duration": 268,
    "start_time": "2022-05-08T17:15:10.515Z"
   },
   {
    "duration": 3,
    "start_time": "2022-05-08T17:15:10.785Z"
   },
   {
    "duration": 194,
    "start_time": "2022-05-08T17:15:10.790Z"
   },
   {
    "duration": 12,
    "start_time": "2022-05-08T17:15:10.986Z"
   },
   {
    "duration": 11,
    "start_time": "2022-05-08T17:15:11.000Z"
   },
   {
    "duration": 7,
    "start_time": "2022-05-08T17:15:11.013Z"
   },
   {
    "duration": 140,
    "start_time": "2022-05-08T17:15:11.022Z"
   },
   {
    "duration": 3,
    "start_time": "2022-05-08T17:15:11.164Z"
   },
   {
    "duration": 181,
    "start_time": "2022-05-08T17:15:11.168Z"
   },
   {
    "duration": 2,
    "start_time": "2022-05-08T17:15:11.352Z"
   },
   {
    "duration": 1210,
    "start_time": "2022-05-08T17:15:11.356Z"
   },
   {
    "duration": 535,
    "start_time": "2022-05-08T17:15:12.568Z"
   },
   {
    "duration": 68,
    "start_time": "2022-05-08T17:15:13.105Z"
   },
   {
    "duration": 3,
    "start_time": "2022-05-08T17:15:13.581Z"
   },
   {
    "duration": 1172,
    "start_time": "2022-05-08T17:15:14.404Z"
   },
   {
    "duration": 9,
    "start_time": "2022-05-08T17:15:15.579Z"
   },
   {
    "duration": 2087,
    "start_time": "2022-05-08T17:15:15.658Z"
   },
   {
    "duration": 3,
    "start_time": "2022-05-08T17:15:17.747Z"
   },
   {
    "duration": 25,
    "start_time": "2022-05-08T17:15:17.751Z"
   },
   {
    "duration": 21,
    "start_time": "2022-05-08T17:15:17.778Z"
   },
   {
    "duration": 436,
    "start_time": "2022-05-08T17:15:17.800Z"
   },
   {
    "duration": 341,
    "start_time": "2022-05-08T17:15:19.561Z"
   },
   {
    "duration": 3,
    "start_time": "2022-05-08T17:15:20.110Z"
   },
   {
    "duration": 16,
    "start_time": "2022-05-08T17:15:20.302Z"
   },
   {
    "duration": 13,
    "start_time": "2022-05-08T17:15:20.493Z"
   },
   {
    "duration": 362,
    "start_time": "2022-05-08T17:15:20.690Z"
   },
   {
    "duration": 2,
    "start_time": "2022-05-08T17:15:21.055Z"
   },
   {
    "duration": 169,
    "start_time": "2022-05-08T17:15:22.227Z"
   },
   {
    "duration": 3,
    "start_time": "2022-05-08T17:15:23.135Z"
   },
   {
    "duration": 124,
    "start_time": "2022-05-08T17:15:23.857Z"
   },
   {
    "duration": 172,
    "start_time": "2022-05-08T17:16:07.944Z"
   },
   {
    "duration": 133,
    "start_time": "2022-05-08T17:16:18.797Z"
   },
   {
    "duration": 130,
    "start_time": "2022-05-08T17:16:35.748Z"
   },
   {
    "duration": 236,
    "start_time": "2022-05-08T17:17:22.466Z"
   },
   {
    "duration": 89,
    "start_time": "2022-05-08T17:18:25.296Z"
   },
   {
    "duration": 89,
    "start_time": "2022-05-08T17:18:56.369Z"
   },
   {
    "duration": 90,
    "start_time": "2022-05-08T17:20:00.455Z"
   },
   {
    "duration": 94,
    "start_time": "2022-05-08T17:20:22.615Z"
   },
   {
    "duration": 135,
    "start_time": "2022-05-08T17:21:20.546Z"
   },
   {
    "duration": 7,
    "start_time": "2022-05-08T17:26:58.382Z"
   },
   {
    "duration": 6,
    "start_time": "2022-05-08T17:27:38.597Z"
   },
   {
    "duration": 188,
    "start_time": "2022-05-08T17:29:04.449Z"
   },
   {
    "duration": 9,
    "start_time": "2022-05-08T17:29:05.019Z"
   },
   {
    "duration": 7,
    "start_time": "2022-05-08T17:29:05.595Z"
   },
   {
    "duration": 4,
    "start_time": "2022-05-08T17:29:06.123Z"
   },
   {
    "duration": 118,
    "start_time": "2022-05-08T17:29:17.545Z"
   },
   {
    "duration": 115,
    "start_time": "2022-05-08T17:29:32.065Z"
   },
   {
    "duration": 327,
    "start_time": "2022-05-08T17:36:08.983Z"
   },
   {
    "duration": 220,
    "start_time": "2022-05-08T17:36:37.383Z"
   },
   {
    "duration": 266,
    "start_time": "2022-05-08T17:37:14.394Z"
   },
   {
    "duration": 273,
    "start_time": "2022-05-08T17:37:25.181Z"
   },
   {
    "duration": 1680,
    "start_time": "2022-05-08T17:38:29.842Z"
   },
   {
    "duration": 182,
    "start_time": "2022-05-08T17:38:47.187Z"
   },
   {
    "duration": 242,
    "start_time": "2022-05-08T17:41:51.296Z"
   },
   {
    "duration": 179,
    "start_time": "2022-05-08T17:42:25.973Z"
   },
   {
    "duration": 223,
    "start_time": "2022-05-08T17:43:05.232Z"
   },
   {
    "duration": 228,
    "start_time": "2022-05-08T17:44:48.443Z"
   },
   {
    "duration": 169,
    "start_time": "2022-05-08T17:45:49.882Z"
   },
   {
    "duration": 239,
    "start_time": "2022-05-08T17:46:47.283Z"
   },
   {
    "duration": 148,
    "start_time": "2022-05-08T17:47:02.621Z"
   },
   {
    "duration": 224,
    "start_time": "2022-05-08T17:47:34.446Z"
   },
   {
    "duration": 1226,
    "start_time": "2022-05-08T17:48:04.612Z"
   },
   {
    "duration": 9,
    "start_time": "2022-05-08T17:48:05.839Z"
   },
   {
    "duration": 5410,
    "start_time": "2022-05-08T17:48:05.850Z"
   },
   {
    "duration": 199,
    "start_time": "2022-05-08T17:48:11.263Z"
   },
   {
    "duration": 15,
    "start_time": "2022-05-08T17:48:11.464Z"
   },
   {
    "duration": 99,
    "start_time": "2022-05-08T17:48:11.481Z"
   },
   {
    "duration": 7,
    "start_time": "2022-05-08T17:48:11.582Z"
   },
   {
    "duration": 55,
    "start_time": "2022-05-08T17:48:11.591Z"
   },
   {
    "duration": 353,
    "start_time": "2022-05-08T17:48:11.648Z"
   },
   {
    "duration": 2,
    "start_time": "2022-05-08T17:48:12.004Z"
   },
   {
    "duration": 199,
    "start_time": "2022-05-08T17:48:12.008Z"
   },
   {
    "duration": 9,
    "start_time": "2022-05-08T17:48:12.209Z"
   },
   {
    "duration": 14,
    "start_time": "2022-05-08T17:48:12.220Z"
   },
   {
    "duration": 9,
    "start_time": "2022-05-08T17:48:12.236Z"
   },
   {
    "duration": 133,
    "start_time": "2022-05-08T17:48:12.247Z"
   },
   {
    "duration": 2,
    "start_time": "2022-05-08T17:48:12.382Z"
   },
   {
    "duration": 162,
    "start_time": "2022-05-08T17:48:12.386Z"
   },
   {
    "duration": 2,
    "start_time": "2022-05-08T17:48:12.550Z"
   },
   {
    "duration": 2060,
    "start_time": "2022-05-08T17:48:12.554Z"
   },
   {
    "duration": 108,
    "start_time": "2022-05-08T17:48:14.615Z"
   },
   {
    "duration": 68,
    "start_time": "2022-05-08T17:48:14.725Z"
   },
   {
    "duration": 2,
    "start_time": "2022-05-08T17:48:14.795Z"
   },
   {
    "duration": 1092,
    "start_time": "2022-05-08T17:48:14.798Z"
   },
   {
    "duration": 8,
    "start_time": "2022-05-08T17:48:15.892Z"
   },
   {
    "duration": 1953,
    "start_time": "2022-05-08T17:48:15.902Z"
   },
   {
    "duration": 3,
    "start_time": "2022-05-08T17:48:17.856Z"
   },
   {
    "duration": 21,
    "start_time": "2022-05-08T17:48:17.860Z"
   },
   {
    "duration": 15,
    "start_time": "2022-05-08T17:48:17.884Z"
   },
   {
    "duration": 482,
    "start_time": "2022-05-08T17:48:17.900Z"
   },
   {
    "duration": 3,
    "start_time": "2022-05-08T17:48:18.384Z"
   },
   {
    "duration": 179,
    "start_time": "2022-05-08T17:48:18.389Z"
   },
   {
    "duration": 3,
    "start_time": "2022-05-08T17:48:18.900Z"
   },
   {
    "duration": 118,
    "start_time": "2022-05-08T17:48:19.644Z"
   },
   {
    "duration": 5,
    "start_time": "2022-05-08T17:48:20.299Z"
   },
   {
    "duration": 219,
    "start_time": "2022-05-08T17:48:21.347Z"
   },
   {
    "duration": 1650,
    "start_time": "2022-05-09T10:07:00.440Z"
   },
   {
    "duration": 5,
    "start_time": "2022-05-09T10:07:02.092Z"
   },
   {
    "duration": 4479,
    "start_time": "2022-05-09T10:07:02.099Z"
   },
   {
    "duration": 152,
    "start_time": "2022-05-09T10:07:06.581Z"
   },
   {
    "duration": 20,
    "start_time": "2022-05-09T10:07:06.735Z"
   },
   {
    "duration": 100,
    "start_time": "2022-05-09T10:07:06.757Z"
   },
   {
    "duration": 9,
    "start_time": "2022-05-09T10:07:06.860Z"
   },
   {
    "duration": 56,
    "start_time": "2022-05-09T10:07:06.871Z"
   },
   {
    "duration": 445,
    "start_time": "2022-05-09T10:07:06.930Z"
   },
   {
    "duration": 3,
    "start_time": "2022-05-09T10:07:07.379Z"
   },
   {
    "duration": 187,
    "start_time": "2022-05-09T10:07:07.384Z"
   },
   {
    "duration": 14,
    "start_time": "2022-05-09T10:07:07.573Z"
   },
   {
    "duration": 13,
    "start_time": "2022-05-09T10:07:07.589Z"
   },
   {
    "duration": 8,
    "start_time": "2022-05-09T10:07:07.604Z"
   },
   {
    "duration": 210,
    "start_time": "2022-05-09T10:07:07.614Z"
   },
   {
    "duration": 3,
    "start_time": "2022-05-09T10:07:07.827Z"
   },
   {
    "duration": 175,
    "start_time": "2022-05-09T10:07:07.832Z"
   },
   {
    "duration": 3,
    "start_time": "2022-05-09T10:07:08.009Z"
   },
   {
    "duration": 1473,
    "start_time": "2022-05-09T10:07:08.015Z"
   },
   {
    "duration": 99,
    "start_time": "2022-05-09T10:07:09.490Z"
   },
   {
    "duration": 61,
    "start_time": "2022-05-09T10:07:09.592Z"
   },
   {
    "duration": 4,
    "start_time": "2022-05-09T10:07:09.655Z"
   },
   {
    "duration": 1342,
    "start_time": "2022-05-09T10:07:09.660Z"
   },
   {
    "duration": 12,
    "start_time": "2022-05-09T10:07:11.004Z"
   },
   {
    "duration": 335,
    "start_time": "2022-05-09T10:07:11.018Z"
   },
   {
    "duration": 4,
    "start_time": "2022-05-09T10:07:11.355Z"
   },
   {
    "duration": 24,
    "start_time": "2022-05-09T10:07:11.361Z"
   },
   {
    "duration": 19,
    "start_time": "2022-05-09T10:07:11.389Z"
   },
   {
    "duration": 572,
    "start_time": "2022-05-09T10:07:11.411Z"
   },
   {
    "duration": 4,
    "start_time": "2022-05-09T10:07:11.986Z"
   },
   {
    "duration": 180,
    "start_time": "2022-05-09T10:07:11.993Z"
   },
   {
    "duration": 4,
    "start_time": "2022-05-09T10:07:12.176Z"
   },
   {
    "duration": 178,
    "start_time": "2022-05-09T10:07:12.182Z"
   },
   {
    "duration": 10,
    "start_time": "2022-05-09T10:07:12.363Z"
   },
   {
    "duration": 224,
    "start_time": "2022-05-09T10:07:12.375Z"
   },
   {
    "duration": 9,
    "start_time": "2022-05-09T10:07:42.746Z"
   },
   {
    "duration": 91,
    "start_time": "2022-05-09T10:07:46.463Z"
   },
   {
    "duration": 9,
    "start_time": "2022-05-09T10:07:47.231Z"
   },
   {
    "duration": 9,
    "start_time": "2022-05-09T10:07:51.647Z"
   },
   {
    "duration": 333,
    "start_time": "2022-05-09T10:10:14.370Z"
   },
   {
    "duration": 340,
    "start_time": "2022-05-09T10:10:19.128Z"
   },
   {
    "duration": 1317,
    "start_time": "2022-12-06T20:03:02.795Z"
   },
   {
    "duration": 4,
    "start_time": "2022-12-06T20:03:06.022Z"
   },
   {
    "duration": 5617,
    "start_time": "2022-12-06T20:03:09.710Z"
   },
   {
    "duration": 245,
    "start_time": "2022-12-06T20:03:15.330Z"
   },
   {
    "duration": 14,
    "start_time": "2022-12-06T20:03:19.548Z"
   }
  ],
  "colab": {
   "name": "AdvansedSQLProjectTemplate.ipynb",
   "provenance": []
  },
  "kernelspec": {
   "display_name": "Python 3",
   "language": "python",
   "name": "python3"
  },
  "language_info": {
   "codemirror_mode": {
    "name": "ipython",
    "version": 3
   },
   "file_extension": ".py",
   "mimetype": "text/x-python",
   "name": "python",
   "nbconvert_exporter": "python",
   "pygments_lexer": "ipython3",
   "version": "3.8.5"
  },
  "toc": {
   "base_numbering": 1,
   "nav_menu": {},
   "number_sections": false,
   "sideBar": true,
   "skip_h1_title": false,
   "title_cell": "Table of Contents",
   "title_sidebar": "Contents",
   "toc_cell": false,
   "toc_position": {},
   "toc_section_display": true,
   "toc_window_display": true
  }
 },
 "nbformat": 4,
 "nbformat_minor": 1
}
