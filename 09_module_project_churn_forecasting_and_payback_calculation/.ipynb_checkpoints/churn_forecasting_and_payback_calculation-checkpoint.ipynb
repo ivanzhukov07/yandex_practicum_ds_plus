{
 "cells": [
  {
   "cell_type": "markdown",
   "metadata": {},
   "source": [
    "# Churn forecasting and payback calculation"
   ]
  },
  {
   "cell_type": "markdown",
   "metadata": {},
   "source": [
    "**Project Description**  \n",
    " \n",
    "To attract customers, this hotel chain has added to its website the ability to book a room without prepayment. However, if the customer cancelled the booking, the company suffered losses. The hotel staff could, for example, buy groceries for the arrival of a guest or simply not have time to find another client.  \n",
    "To solve this problem, we need to develop a system that predicts the rejection of armor. If the model shows that the reservation will be canceled, the client is invited to make a deposit. The deposit amount is 80% of the room rate. The money will be debited from the client's account if he still cancels the reservation.\n",
    "\n",
    "**Information about the business model**\n",
    "\n",
    "**The profit of the hotel** is the difference between the cost of a room for all nights and the cost of a one—time service: both during the preparation of the room and during the stay of the guest.  \n",
    "The hotel has several types of rooms. Depending on the type of room, the cost per night is assigned. There are also cleaning costs. If the client has rented a room for a long time, then they are cleaned every two days.  \n",
    "\n",
    "***The cost of hotel rooms:***\n",
    "- `category A:` per night — 1 000, one—time service - 400\n",
    "- `category B:` per night — 800, one—time service - 350\n",
    "- `category C:` per night — 600, one—time service - 350\n",
    "- `category D:` per night — 550, one—time service - 150\n",
    "- `category F:` per night — 500, one—time service - 150\n",
    "- `category G:` per night — 350, one—time service - 150\n",
    "- `category H:` per night — 300, one—time service - 100\n",
    "\n",
    "The hotel's pricing policy uses seasonal coefficients: in spring and autumn prices increase by **20%**, in summer — by **40%**.  \n",
    "\n",
    "There is a budget for the development of the forecasting system — **400 000** . At the same time, it should be taken into account that the implementation of the model should pay off.  Development costs should be less than the revenue that the system will bring to the company."
   ]
  },
  {
   "cell_type": "markdown",
   "metadata": {},
   "source": [
    "**Data description**\n",
    "The *hotel_train* and *hotel_test* tables contain the same columns:\n",
    "\n",
    "- `ADR` — average daily Room Rate\n",
    "- `Adults` — number of adult guests\n",
    "- `Agent` — the agent through whom the order was made\n",
    "- `AssignedRoomType` — number type\n",
    "- `Babies' — number of babies\n",
    "- `BookingChanges` — the number of changes to the order parameters\n",
    "- `Children` — the number of children from 3 to 14 years old\n",
    "- `CompanyId` — ID of the company or legal entity responsible for booking\n",
    "- `Country` — citizenship of the guest\n",
    "- `CustomerType` — type of the customer:\n",
    "    - `Contract` — contract with a legal entity\n",
    "    - `Group` — group check-in\n",
    "    - `Transient` — not related to the contract or group check\n",
    "    - `Transient—party` - not related to the contract or group check-in, but related to the booking type `Transient`\n",
    "- `DaysInWaitingList` — how many days the order was waiting for confirmation\n",
    "- `DistributionChannel` — order distribution channel\n",
    "- `isCanceled` — order cancellation\n",
    "- `IsRepeatedGuest` — indicates that the guest is booking a room for the second time\n",
    "- `LeadTime` — the number of days between the booking date and the arrival date\n",
    "    - `Meal` — ordering options:\n",
    "    - `SC` — no additional options\n",
    "    - `BB` — breakfast included\n",
    "    - `HB` — breakfast and lunch included\n",
    "    - `FB` — breakfast, lunch and dinner included\n",
    "- `PreviousBookingsNotCanceled` — the number of confirmed orders from the client\n",
    "- `PreviousCancellations` — the number of cancelled orders from the client\n",
    "- `RequiredCarParkingSpaces` — the need for a place for the car\n",
    "- `ReservedRoomType` — type of reserved room\n",
    "- `StaysInWeekendNights` — number of nights on weekends\n",
    "- `StaysInWeekNights` — number of nights on weekdays\n",
    "- `TotalOfSpecialRequests` — number of special marks"
   ]
  },
  {
   "cell_type": "markdown",
   "metadata": {},
   "source": [
    "Importing the main libraries for the project:"
   ]
  },
  {
   "cell_type": "code",
   "execution_count": 1,
   "metadata": {},
   "outputs": [],
   "source": [
    "import pandas as pd\n",
    "import numpy as np\n",
    "import matplotlib.pyplot as plt\n",
    "import seaborn as sns\n",
    "\n",
    "from sklearn.preprocessing import StandardScaler\n",
    "from sklearn.preprocessing import OneHotEncoder\n",
    "\n",
    "from sklearn.model_selection import train_test_split\n",
    "from sklearn.model_selection import GridSearchCV\n",
    "from sklearn.model_selection import KFold\n",
    "from sklearn.model_selection import cross_val_score\n",
    "\n",
    "from sklearn.linear_model import LogisticRegression\n",
    "from sklearn.tree import DecisionTreeClassifier\n",
    "from sklearn.ensemble import RandomForestClassifier\n",
    "from sklearn.utils import shuffle\n",
    "\n",
    "from sklearn.metrics import accuracy_score\n",
    "from sklearn.metrics import f1_score\n",
    "from sklearn.metrics import roc_curve\n",
    "from sklearn.metrics import roc_auc_score\n",
    "from sklearn.metrics import recall_score\n",
    "from sklearn.metrics import precision_score"
   ]
  },
  {
   "cell_type": "markdown",
   "metadata": {},
   "source": [
    "### Step 1. Open the data files"
   ]
  },
  {
   "cell_type": "markdown",
   "metadata": {},
   "source": [
    "In this project, we have two separate files with a training and a test sample.   \n",
    "Let's see what is in each of the files."
   ]
  },
  {
   "cell_type": "code",
   "execution_count": 2,
   "metadata": {},
   "outputs": [],
   "source": [
    "df_train = pd.read_csv('/datasets/hotel_train.csv')\n",
    "df_test = pd.read_csv('/datasets/hotel_test.csv')"
   ]
  },
  {
   "cell_type": "code",
   "execution_count": 3,
   "metadata": {},
   "outputs": [
    {
     "data": {
      "text/html": [
       "<div>\n",
       "<style scoped>\n",
       "    .dataframe tbody tr th:only-of-type {\n",
       "        vertical-align: middle;\n",
       "    }\n",
       "\n",
       "    .dataframe tbody tr th {\n",
       "        vertical-align: top;\n",
       "    }\n",
       "\n",
       "    .dataframe thead th {\n",
       "        text-align: right;\n",
       "    }\n",
       "</style>\n",
       "<table border=\"1\" class=\"dataframe\">\n",
       "  <thead>\n",
       "    <tr style=\"text-align: right;\">\n",
       "      <th></th>\n",
       "      <th>is_canceled</th>\n",
       "      <th>lead_time</th>\n",
       "      <th>arrival_date_year</th>\n",
       "      <th>arrival_date_month</th>\n",
       "      <th>arrival_date_week_number</th>\n",
       "      <th>arrival_date_day_of_month</th>\n",
       "      <th>stays_in_weekend_nights</th>\n",
       "      <th>stays_in_week_nights</th>\n",
       "      <th>adults</th>\n",
       "      <th>children</th>\n",
       "      <th>...</th>\n",
       "      <th>booking_changes</th>\n",
       "      <th>agent</th>\n",
       "      <th>company</th>\n",
       "      <th>days_in_waiting_list</th>\n",
       "      <th>customer_type</th>\n",
       "      <th>adr</th>\n",
       "      <th>required_car_parking_spaces</th>\n",
       "      <th>total_of_special_requests</th>\n",
       "      <th>total_nights</th>\n",
       "      <th>price</th>\n",
       "    </tr>\n",
       "  </thead>\n",
       "  <tbody>\n",
       "    <tr>\n",
       "      <th>0</th>\n",
       "      <td>0</td>\n",
       "      <td>7.0</td>\n",
       "      <td>2015</td>\n",
       "      <td>July</td>\n",
       "      <td>27</td>\n",
       "      <td>1</td>\n",
       "      <td>0</td>\n",
       "      <td>1</td>\n",
       "      <td>1.0</td>\n",
       "      <td>0.0</td>\n",
       "      <td>...</td>\n",
       "      <td>0</td>\n",
       "      <td>999</td>\n",
       "      <td>999</td>\n",
       "      <td>0</td>\n",
       "      <td>Transient</td>\n",
       "      <td>75.0</td>\n",
       "      <td>0</td>\n",
       "      <td>0</td>\n",
       "      <td>1</td>\n",
       "      <td>75.0</td>\n",
       "    </tr>\n",
       "    <tr>\n",
       "      <th>1</th>\n",
       "      <td>0</td>\n",
       "      <td>13.0</td>\n",
       "      <td>2015</td>\n",
       "      <td>July</td>\n",
       "      <td>27</td>\n",
       "      <td>1</td>\n",
       "      <td>0</td>\n",
       "      <td>1</td>\n",
       "      <td>1.0</td>\n",
       "      <td>0.0</td>\n",
       "      <td>...</td>\n",
       "      <td>0</td>\n",
       "      <td>304</td>\n",
       "      <td>999</td>\n",
       "      <td>0</td>\n",
       "      <td>Transient</td>\n",
       "      <td>75.0</td>\n",
       "      <td>0</td>\n",
       "      <td>0</td>\n",
       "      <td>1</td>\n",
       "      <td>75.0</td>\n",
       "    </tr>\n",
       "    <tr>\n",
       "      <th>2</th>\n",
       "      <td>0</td>\n",
       "      <td>14.0</td>\n",
       "      <td>2015</td>\n",
       "      <td>July</td>\n",
       "      <td>27</td>\n",
       "      <td>1</td>\n",
       "      <td>0</td>\n",
       "      <td>2</td>\n",
       "      <td>2.0</td>\n",
       "      <td>0.0</td>\n",
       "      <td>...</td>\n",
       "      <td>0</td>\n",
       "      <td>240</td>\n",
       "      <td>999</td>\n",
       "      <td>0</td>\n",
       "      <td>Transient</td>\n",
       "      <td>98.0</td>\n",
       "      <td>0</td>\n",
       "      <td>1</td>\n",
       "      <td>2</td>\n",
       "      <td>196.0</td>\n",
       "    </tr>\n",
       "    <tr>\n",
       "      <th>3</th>\n",
       "      <td>0</td>\n",
       "      <td>NaN</td>\n",
       "      <td>2015</td>\n",
       "      <td>July</td>\n",
       "      <td>27</td>\n",
       "      <td>1</td>\n",
       "      <td>0</td>\n",
       "      <td>2</td>\n",
       "      <td>2.0</td>\n",
       "      <td>0.0</td>\n",
       "      <td>...</td>\n",
       "      <td>0</td>\n",
       "      <td>240</td>\n",
       "      <td>999</td>\n",
       "      <td>0</td>\n",
       "      <td>Transient</td>\n",
       "      <td>98.0</td>\n",
       "      <td>0</td>\n",
       "      <td>1</td>\n",
       "      <td>2</td>\n",
       "      <td>196.0</td>\n",
       "    </tr>\n",
       "    <tr>\n",
       "      <th>4</th>\n",
       "      <td>0</td>\n",
       "      <td>0.0</td>\n",
       "      <td>2015</td>\n",
       "      <td>July</td>\n",
       "      <td>27</td>\n",
       "      <td>1</td>\n",
       "      <td>0</td>\n",
       "      <td>2</td>\n",
       "      <td>2.0</td>\n",
       "      <td>0.0</td>\n",
       "      <td>...</td>\n",
       "      <td>0</td>\n",
       "      <td>999</td>\n",
       "      <td>999</td>\n",
       "      <td>0</td>\n",
       "      <td>Transient</td>\n",
       "      <td>107.0</td>\n",
       "      <td>0</td>\n",
       "      <td>0</td>\n",
       "      <td>2</td>\n",
       "      <td>214.0</td>\n",
       "    </tr>\n",
       "  </tbody>\n",
       "</table>\n",
       "<p>5 rows × 29 columns</p>\n",
       "</div>"
      ],
      "text/plain": [
       "   is_canceled  lead_time  arrival_date_year arrival_date_month  \\\n",
       "0            0        7.0               2015               July   \n",
       "1            0       13.0               2015               July   \n",
       "2            0       14.0               2015               July   \n",
       "3            0        NaN               2015               July   \n",
       "4            0        0.0               2015               July   \n",
       "\n",
       "   arrival_date_week_number  arrival_date_day_of_month  \\\n",
       "0                        27                          1   \n",
       "1                        27                          1   \n",
       "2                        27                          1   \n",
       "3                        27                          1   \n",
       "4                        27                          1   \n",
       "\n",
       "   stays_in_weekend_nights  stays_in_week_nights  adults  children  ...  \\\n",
       "0                        0                     1     1.0       0.0  ...   \n",
       "1                        0                     1     1.0       0.0  ...   \n",
       "2                        0                     2     2.0       0.0  ...   \n",
       "3                        0                     2     2.0       0.0  ...   \n",
       "4                        0                     2     2.0       0.0  ...   \n",
       "\n",
       "   booking_changes agent company days_in_waiting_list  customer_type    adr  \\\n",
       "0                0   999     999                    0      Transient   75.0   \n",
       "1                0   304     999                    0      Transient   75.0   \n",
       "2                0   240     999                    0      Transient   98.0   \n",
       "3                0   240     999                    0      Transient   98.0   \n",
       "4                0   999     999                    0      Transient  107.0   \n",
       "\n",
       "   required_car_parking_spaces total_of_special_requests total_nights  price  \n",
       "0                            0                         0            1   75.0  \n",
       "1                            0                         0            1   75.0  \n",
       "2                            0                         1            2  196.0  \n",
       "3                            0                         1            2  196.0  \n",
       "4                            0                         0            2  214.0  \n",
       "\n",
       "[5 rows x 29 columns]"
      ]
     },
     "execution_count": 3,
     "metadata": {},
     "output_type": "execute_result"
    }
   ],
   "source": [
    "df_train.head()"
   ]
  },
  {
   "cell_type": "code",
   "execution_count": 4,
   "metadata": {},
   "outputs": [
    {
     "data": {
      "text/html": [
       "<div>\n",
       "<style scoped>\n",
       "    .dataframe tbody tr th:only-of-type {\n",
       "        vertical-align: middle;\n",
       "    }\n",
       "\n",
       "    .dataframe tbody tr th {\n",
       "        vertical-align: top;\n",
       "    }\n",
       "\n",
       "    .dataframe thead th {\n",
       "        text-align: right;\n",
       "    }\n",
       "</style>\n",
       "<table border=\"1\" class=\"dataframe\">\n",
       "  <thead>\n",
       "    <tr style=\"text-align: right;\">\n",
       "      <th></th>\n",
       "      <th>is_canceled</th>\n",
       "      <th>lead_time</th>\n",
       "      <th>arrival_date_year</th>\n",
       "      <th>arrival_date_month</th>\n",
       "      <th>arrival_date_week_number</th>\n",
       "      <th>arrival_date_day_of_month</th>\n",
       "      <th>stays_in_weekend_nights</th>\n",
       "      <th>stays_in_week_nights</th>\n",
       "      <th>adults</th>\n",
       "      <th>children</th>\n",
       "      <th>...</th>\n",
       "      <th>booking_changes</th>\n",
       "      <th>agent</th>\n",
       "      <th>company</th>\n",
       "      <th>days_in_waiting_list</th>\n",
       "      <th>customer_type</th>\n",
       "      <th>adr</th>\n",
       "      <th>required_car_parking_spaces</th>\n",
       "      <th>total_of_special_requests</th>\n",
       "      <th>total_nights</th>\n",
       "      <th>price</th>\n",
       "    </tr>\n",
       "  </thead>\n",
       "  <tbody>\n",
       "    <tr>\n",
       "      <th>0</th>\n",
       "      <td>1</td>\n",
       "      <td>88</td>\n",
       "      <td>2015</td>\n",
       "      <td>July</td>\n",
       "      <td>27</td>\n",
       "      <td>1</td>\n",
       "      <td>0</td>\n",
       "      <td>4</td>\n",
       "      <td>2</td>\n",
       "      <td>0.0</td>\n",
       "      <td>...</td>\n",
       "      <td>0</td>\n",
       "      <td>9</td>\n",
       "      <td>999</td>\n",
       "      <td>0</td>\n",
       "      <td>Transient</td>\n",
       "      <td>76.5</td>\n",
       "      <td>0</td>\n",
       "      <td>1</td>\n",
       "      <td>4</td>\n",
       "      <td>306.0</td>\n",
       "    </tr>\n",
       "    <tr>\n",
       "      <th>1</th>\n",
       "      <td>1</td>\n",
       "      <td>65</td>\n",
       "      <td>2015</td>\n",
       "      <td>July</td>\n",
       "      <td>27</td>\n",
       "      <td>1</td>\n",
       "      <td>0</td>\n",
       "      <td>4</td>\n",
       "      <td>1</td>\n",
       "      <td>0.0</td>\n",
       "      <td>...</td>\n",
       "      <td>0</td>\n",
       "      <td>9</td>\n",
       "      <td>999</td>\n",
       "      <td>0</td>\n",
       "      <td>Transient</td>\n",
       "      <td>68.0</td>\n",
       "      <td>0</td>\n",
       "      <td>1</td>\n",
       "      <td>4</td>\n",
       "      <td>272.0</td>\n",
       "    </tr>\n",
       "    <tr>\n",
       "      <th>2</th>\n",
       "      <td>1</td>\n",
       "      <td>92</td>\n",
       "      <td>2015</td>\n",
       "      <td>July</td>\n",
       "      <td>27</td>\n",
       "      <td>1</td>\n",
       "      <td>2</td>\n",
       "      <td>4</td>\n",
       "      <td>2</td>\n",
       "      <td>0.0</td>\n",
       "      <td>...</td>\n",
       "      <td>0</td>\n",
       "      <td>9</td>\n",
       "      <td>999</td>\n",
       "      <td>0</td>\n",
       "      <td>Transient</td>\n",
       "      <td>76.5</td>\n",
       "      <td>0</td>\n",
       "      <td>2</td>\n",
       "      <td>6</td>\n",
       "      <td>459.0</td>\n",
       "    </tr>\n",
       "    <tr>\n",
       "      <th>3</th>\n",
       "      <td>1</td>\n",
       "      <td>100</td>\n",
       "      <td>2015</td>\n",
       "      <td>July</td>\n",
       "      <td>27</td>\n",
       "      <td>2</td>\n",
       "      <td>0</td>\n",
       "      <td>2</td>\n",
       "      <td>2</td>\n",
       "      <td>0.0</td>\n",
       "      <td>...</td>\n",
       "      <td>0</td>\n",
       "      <td>9</td>\n",
       "      <td>999</td>\n",
       "      <td>0</td>\n",
       "      <td>Transient</td>\n",
       "      <td>76.5</td>\n",
       "      <td>0</td>\n",
       "      <td>1</td>\n",
       "      <td>2</td>\n",
       "      <td>153.0</td>\n",
       "    </tr>\n",
       "    <tr>\n",
       "      <th>4</th>\n",
       "      <td>1</td>\n",
       "      <td>79</td>\n",
       "      <td>2015</td>\n",
       "      <td>July</td>\n",
       "      <td>27</td>\n",
       "      <td>2</td>\n",
       "      <td>0</td>\n",
       "      <td>3</td>\n",
       "      <td>2</td>\n",
       "      <td>0.0</td>\n",
       "      <td>...</td>\n",
       "      <td>0</td>\n",
       "      <td>9</td>\n",
       "      <td>999</td>\n",
       "      <td>0</td>\n",
       "      <td>Transient</td>\n",
       "      <td>76.5</td>\n",
       "      <td>0</td>\n",
       "      <td>1</td>\n",
       "      <td>3</td>\n",
       "      <td>229.5</td>\n",
       "    </tr>\n",
       "  </tbody>\n",
       "</table>\n",
       "<p>5 rows × 29 columns</p>\n",
       "</div>"
      ],
      "text/plain": [
       "   is_canceled  lead_time  arrival_date_year arrival_date_month  \\\n",
       "0            1         88               2015               July   \n",
       "1            1         65               2015               July   \n",
       "2            1         92               2015               July   \n",
       "3            1        100               2015               July   \n",
       "4            1         79               2015               July   \n",
       "\n",
       "   arrival_date_week_number  arrival_date_day_of_month  \\\n",
       "0                        27                          1   \n",
       "1                        27                          1   \n",
       "2                        27                          1   \n",
       "3                        27                          2   \n",
       "4                        27                          2   \n",
       "\n",
       "   stays_in_weekend_nights  stays_in_week_nights  adults  children  ...  \\\n",
       "0                        0                     4       2       0.0  ...   \n",
       "1                        0                     4       1       0.0  ...   \n",
       "2                        2                     4       2       0.0  ...   \n",
       "3                        0                     2       2       0.0  ...   \n",
       "4                        0                     3       2       0.0  ...   \n",
       "\n",
       "   booking_changes agent company days_in_waiting_list  customer_type   adr  \\\n",
       "0                0     9     999                    0      Transient  76.5   \n",
       "1                0     9     999                    0      Transient  68.0   \n",
       "2                0     9     999                    0      Transient  76.5   \n",
       "3                0     9     999                    0      Transient  76.5   \n",
       "4                0     9     999                    0      Transient  76.5   \n",
       "\n",
       "   required_car_parking_spaces total_of_special_requests total_nights  price  \n",
       "0                            0                         1            4  306.0  \n",
       "1                            0                         1            4  272.0  \n",
       "2                            0                         2            6  459.0  \n",
       "3                            0                         1            2  153.0  \n",
       "4                            0                         1            3  229.5  \n",
       "\n",
       "[5 rows x 29 columns]"
      ]
     },
     "execution_count": 4,
     "metadata": {},
     "output_type": "execute_result"
    }
   ],
   "source": [
    "df_test.head()"
   ]
  },
  {
   "cell_type": "code",
   "execution_count": 5,
   "metadata": {},
   "outputs": [
    {
     "name": "stdout",
     "output_type": "stream",
     "text": [
      "Train sample size 32417\n",
      "Test sample size 73270\n"
     ]
    }
   ],
   "source": [
    "print(f'Train sample size {len(df_train)}')\n",
    "print(f'Test sample size {len(df_test)}')"
   ]
  },
  {
   "cell_type": "markdown",
   "metadata": {},
   "source": [
    "The data preprocessing will be considered in the next point of the study, and now we will set dictionaries for the cost of a room depending on the category, as well as a reference book of seasonal coefficients - they may be useful to us later."
   ]
  },
  {
   "cell_type": "code",
   "execution_count": 6,
   "metadata": {},
   "outputs": [
    {
     "data": {
      "text/html": [
       "<div>\n",
       "<style scoped>\n",
       "    .dataframe tbody tr th:only-of-type {\n",
       "        vertical-align: middle;\n",
       "    }\n",
       "\n",
       "    .dataframe tbody tr th {\n",
       "        vertical-align: top;\n",
       "    }\n",
       "\n",
       "    .dataframe thead th {\n",
       "        text-align: right;\n",
       "    }\n",
       "</style>\n",
       "<table border=\"1\" class=\"dataframe\">\n",
       "  <thead>\n",
       "    <tr style=\"text-align: right;\">\n",
       "      <th></th>\n",
       "      <th>cat</th>\n",
       "      <th>prc</th>\n",
       "      <th>opt</th>\n",
       "    </tr>\n",
       "  </thead>\n",
       "  <tbody>\n",
       "    <tr>\n",
       "      <th>0</th>\n",
       "      <td>A</td>\n",
       "      <td>1000</td>\n",
       "      <td>400</td>\n",
       "    </tr>\n",
       "    <tr>\n",
       "      <th>1</th>\n",
       "      <td>B</td>\n",
       "      <td>800</td>\n",
       "      <td>250</td>\n",
       "    </tr>\n",
       "    <tr>\n",
       "      <th>2</th>\n",
       "      <td>C</td>\n",
       "      <td>600</td>\n",
       "      <td>250</td>\n",
       "    </tr>\n",
       "    <tr>\n",
       "      <th>3</th>\n",
       "      <td>D</td>\n",
       "      <td>550</td>\n",
       "      <td>150</td>\n",
       "    </tr>\n",
       "    <tr>\n",
       "      <th>4</th>\n",
       "      <td>E</td>\n",
       "      <td>500</td>\n",
       "      <td>150</td>\n",
       "    </tr>\n",
       "    <tr>\n",
       "      <th>5</th>\n",
       "      <td>F</td>\n",
       "      <td>400</td>\n",
       "      <td>150</td>\n",
       "    </tr>\n",
       "    <tr>\n",
       "      <th>6</th>\n",
       "      <td>G</td>\n",
       "      <td>350</td>\n",
       "      <td>150</td>\n",
       "    </tr>\n",
       "    <tr>\n",
       "      <th>7</th>\n",
       "      <td>H</td>\n",
       "      <td>300</td>\n",
       "      <td>100</td>\n",
       "    </tr>\n",
       "  </tbody>\n",
       "</table>\n",
       "</div>"
      ],
      "text/plain": [
       "  cat   prc  opt\n",
       "0   A  1000  400\n",
       "1   B   800  250\n",
       "2   C   600  250\n",
       "3   D   550  150\n",
       "4   E   500  150\n",
       "5   F   400  150\n",
       "6   G   350  150\n",
       "7   H   300  100"
      ]
     },
     "execution_count": 6,
     "metadata": {},
     "output_type": "execute_result"
    }
   ],
   "source": [
    "dict_categ =  pd.DataFrame({'cat': ['A', 'B', 'C', 'D', 'E', 'F', 'G','H'], \n",
    "                            'prc': [1000, 800, 600, 550, 500, 400, 350, 300],\n",
    "                            'opt': [400, 250, 250, 150, 150, 150, 150, 100]})\n",
    "dict_categ"
   ]
  },
  {
   "cell_type": "code",
   "execution_count": 7,
   "metadata": {},
   "outputs": [
    {
     "data": {
      "text/html": [
       "<div>\n",
       "<style scoped>\n",
       "    .dataframe tbody tr th:only-of-type {\n",
       "        vertical-align: middle;\n",
       "    }\n",
       "\n",
       "    .dataframe tbody tr th {\n",
       "        vertical-align: top;\n",
       "    }\n",
       "\n",
       "    .dataframe thead th {\n",
       "        text-align: right;\n",
       "    }\n",
       "</style>\n",
       "<table border=\"1\" class=\"dataframe\">\n",
       "  <thead>\n",
       "    <tr style=\"text-align: right;\">\n",
       "      <th></th>\n",
       "      <th>mnth</th>\n",
       "      <th>k</th>\n",
       "      <th>n</th>\n",
       "    </tr>\n",
       "  </thead>\n",
       "  <tbody>\n",
       "    <tr>\n",
       "      <th>0</th>\n",
       "      <td>January</td>\n",
       "      <td>1.0</td>\n",
       "      <td>1</td>\n",
       "    </tr>\n",
       "    <tr>\n",
       "      <th>1</th>\n",
       "      <td>February</td>\n",
       "      <td>1.0</td>\n",
       "      <td>2</td>\n",
       "    </tr>\n",
       "    <tr>\n",
       "      <th>2</th>\n",
       "      <td>March</td>\n",
       "      <td>1.2</td>\n",
       "      <td>3</td>\n",
       "    </tr>\n",
       "    <tr>\n",
       "      <th>3</th>\n",
       "      <td>April</td>\n",
       "      <td>1.2</td>\n",
       "      <td>4</td>\n",
       "    </tr>\n",
       "    <tr>\n",
       "      <th>4</th>\n",
       "      <td>May</td>\n",
       "      <td>1.2</td>\n",
       "      <td>5</td>\n",
       "    </tr>\n",
       "    <tr>\n",
       "      <th>5</th>\n",
       "      <td>June</td>\n",
       "      <td>1.4</td>\n",
       "      <td>6</td>\n",
       "    </tr>\n",
       "    <tr>\n",
       "      <th>6</th>\n",
       "      <td>July</td>\n",
       "      <td>1.4</td>\n",
       "      <td>7</td>\n",
       "    </tr>\n",
       "    <tr>\n",
       "      <th>7</th>\n",
       "      <td>August</td>\n",
       "      <td>1.4</td>\n",
       "      <td>8</td>\n",
       "    </tr>\n",
       "    <tr>\n",
       "      <th>8</th>\n",
       "      <td>September</td>\n",
       "      <td>1.2</td>\n",
       "      <td>9</td>\n",
       "    </tr>\n",
       "    <tr>\n",
       "      <th>9</th>\n",
       "      <td>October</td>\n",
       "      <td>1.2</td>\n",
       "      <td>10</td>\n",
       "    </tr>\n",
       "    <tr>\n",
       "      <th>10</th>\n",
       "      <td>November</td>\n",
       "      <td>1.2</td>\n",
       "      <td>11</td>\n",
       "    </tr>\n",
       "    <tr>\n",
       "      <th>11</th>\n",
       "      <td>December</td>\n",
       "      <td>1.0</td>\n",
       "      <td>12</td>\n",
       "    </tr>\n",
       "  </tbody>\n",
       "</table>\n",
       "</div>"
      ],
      "text/plain": [
       "         mnth    k   n\n",
       "0     January  1.0   1\n",
       "1    February  1.0   2\n",
       "2       March  1.2   3\n",
       "3       April  1.2   4\n",
       "4         May  1.2   5\n",
       "5        June  1.4   6\n",
       "6        July  1.4   7\n",
       "7      August  1.4   8\n",
       "8   September  1.2   9\n",
       "9     October  1.2  10\n",
       "10   November  1.2  11\n",
       "11   December  1.0  12"
      ]
     },
     "execution_count": 7,
     "metadata": {},
     "output_type": "execute_result"
    }
   ],
   "source": [
    "dict_coef =  pd.DataFrame({'mnth': ['January', 'February', 'March', 'April', 'May', 'June', \n",
    "                                    'July', 'August', 'September','October', 'November', 'December'], \n",
    "                            'k': [1.0, 1.0, 1.2, 1.2, 1.2, 1.4, 1.4, 1.4, 1.2, 1.2, 1.2, 1.0],\n",
    "                            'n': [1,2,3,4,5,6,7,8,9,10,11,12]})\n",
    "dict_coef"
   ]
  },
  {
   "cell_type": "markdown",
   "metadata": {},
   "source": [
    "***Conclusion***\n",
    "\n",
    "- a brief overview of the project was made\n",
    "- opened data files\n",
    "- prepared reference books for further work\n",
    "- note that the size of the test samples exceeds the object of the training sample by almost two times"
   ]
  },
  {
   "cell_type": "markdown",
   "metadata": {},
   "source": [
    "### Step 2. Preprocessing and exploratory data analysis"
   ]
  },
  {
   "cell_type": "markdown",
   "metadata": {},
   "source": [
    "#### A brief overview of quantitative variables"
   ]
  },
  {
   "cell_type": "markdown",
   "metadata": {},
   "source": [
    "At the very beginning, we will delete the extra columns - we will not need them further."
   ]
  },
  {
   "cell_type": "code",
   "execution_count": 8,
   "metadata": {},
   "outputs": [],
   "source": [
    "df_train = df_train.drop(columns = ['price', 'adr'], axis = 1).copy()\n",
    "df_test = df_test.drop(columns = ['price', 'adr'], axis = 1).copy()"
   ]
  },
  {
   "cell_type": "code",
   "execution_count": 9,
   "metadata": {
    "scrolled": true
   },
   "outputs": [
    {
     "data": {
      "text/html": [
       "<div>\n",
       "<style scoped>\n",
       "    .dataframe tbody tr th:only-of-type {\n",
       "        vertical-align: middle;\n",
       "    }\n",
       "\n",
       "    .dataframe tbody tr th {\n",
       "        vertical-align: top;\n",
       "    }\n",
       "\n",
       "    .dataframe thead th {\n",
       "        text-align: right;\n",
       "    }\n",
       "</style>\n",
       "<table border=\"1\" class=\"dataframe\">\n",
       "  <thead>\n",
       "    <tr style=\"text-align: right;\">\n",
       "      <th></th>\n",
       "      <th>count</th>\n",
       "      <th>mean</th>\n",
       "      <th>std</th>\n",
       "      <th>min</th>\n",
       "      <th>25%</th>\n",
       "      <th>50%</th>\n",
       "      <th>75%</th>\n",
       "      <th>max</th>\n",
       "    </tr>\n",
       "  </thead>\n",
       "  <tbody>\n",
       "    <tr>\n",
       "      <th>is_canceled</th>\n",
       "      <td>32417.0</td>\n",
       "      <td>0.268285</td>\n",
       "      <td>0.443074</td>\n",
       "      <td>0.0</td>\n",
       "      <td>0.0</td>\n",
       "      <td>0.0</td>\n",
       "      <td>1.0</td>\n",
       "      <td>1.0</td>\n",
       "    </tr>\n",
       "    <tr>\n",
       "      <th>lead_time</th>\n",
       "      <td>30948.0</td>\n",
       "      <td>85.236720</td>\n",
       "      <td>91.268188</td>\n",
       "      <td>0.0</td>\n",
       "      <td>8.0</td>\n",
       "      <td>48.0</td>\n",
       "      <td>143.0</td>\n",
       "      <td>373.0</td>\n",
       "    </tr>\n",
       "    <tr>\n",
       "      <th>arrival_date_year</th>\n",
       "      <td>32417.0</td>\n",
       "      <td>2016.098775</td>\n",
       "      <td>0.721440</td>\n",
       "      <td>2015.0</td>\n",
       "      <td>2016.0</td>\n",
       "      <td>2016.0</td>\n",
       "      <td>2017.0</td>\n",
       "      <td>2017.0</td>\n",
       "    </tr>\n",
       "    <tr>\n",
       "      <th>arrival_date_week_number</th>\n",
       "      <td>32417.0</td>\n",
       "      <td>26.439831</td>\n",
       "      <td>14.644381</td>\n",
       "      <td>1.0</td>\n",
       "      <td>14.0</td>\n",
       "      <td>26.0</td>\n",
       "      <td>39.0</td>\n",
       "      <td>53.0</td>\n",
       "    </tr>\n",
       "    <tr>\n",
       "      <th>arrival_date_day_of_month</th>\n",
       "      <td>32417.0</td>\n",
       "      <td>15.870593</td>\n",
       "      <td>8.877797</td>\n",
       "      <td>1.0</td>\n",
       "      <td>8.0</td>\n",
       "      <td>16.0</td>\n",
       "      <td>24.0</td>\n",
       "      <td>31.0</td>\n",
       "    </tr>\n",
       "    <tr>\n",
       "      <th>stays_in_weekend_nights</th>\n",
       "      <td>32417.0</td>\n",
       "      <td>1.005398</td>\n",
       "      <td>0.909158</td>\n",
       "      <td>0.0</td>\n",
       "      <td>0.0</td>\n",
       "      <td>1.0</td>\n",
       "      <td>2.0</td>\n",
       "      <td>4.0</td>\n",
       "    </tr>\n",
       "    <tr>\n",
       "      <th>stays_in_week_nights</th>\n",
       "      <td>32417.0</td>\n",
       "      <td>2.635901</td>\n",
       "      <td>1.678885</td>\n",
       "      <td>0.0</td>\n",
       "      <td>1.0</td>\n",
       "      <td>2.0</td>\n",
       "      <td>4.0</td>\n",
       "      <td>6.0</td>\n",
       "    </tr>\n",
       "    <tr>\n",
       "      <th>adults</th>\n",
       "      <td>31001.0</td>\n",
       "      <td>1.835521</td>\n",
       "      <td>0.439880</td>\n",
       "      <td>1.0</td>\n",
       "      <td>2.0</td>\n",
       "      <td>2.0</td>\n",
       "      <td>2.0</td>\n",
       "      <td>4.0</td>\n",
       "    </tr>\n",
       "    <tr>\n",
       "      <th>children</th>\n",
       "      <td>30929.0</td>\n",
       "      <td>0.093569</td>\n",
       "      <td>0.377662</td>\n",
       "      <td>0.0</td>\n",
       "      <td>0.0</td>\n",
       "      <td>0.0</td>\n",
       "      <td>0.0</td>\n",
       "      <td>3.0</td>\n",
       "    </tr>\n",
       "    <tr>\n",
       "      <th>babies</th>\n",
       "      <td>30920.0</td>\n",
       "      <td>0.013486</td>\n",
       "      <td>0.117293</td>\n",
       "      <td>0.0</td>\n",
       "      <td>0.0</td>\n",
       "      <td>0.0</td>\n",
       "      <td>0.0</td>\n",
       "      <td>2.0</td>\n",
       "    </tr>\n",
       "    <tr>\n",
       "      <th>is_repeated_guest</th>\n",
       "      <td>32417.0</td>\n",
       "      <td>0.047321</td>\n",
       "      <td>0.212328</td>\n",
       "      <td>0.0</td>\n",
       "      <td>0.0</td>\n",
       "      <td>0.0</td>\n",
       "      <td>0.0</td>\n",
       "      <td>1.0</td>\n",
       "    </tr>\n",
       "    <tr>\n",
       "      <th>previous_cancellations</th>\n",
       "      <td>32417.0</td>\n",
       "      <td>0.121479</td>\n",
       "      <td>1.481996</td>\n",
       "      <td>0.0</td>\n",
       "      <td>0.0</td>\n",
       "      <td>0.0</td>\n",
       "      <td>0.0</td>\n",
       "      <td>26.0</td>\n",
       "    </tr>\n",
       "    <tr>\n",
       "      <th>previous_bookings_not_canceled</th>\n",
       "      <td>32417.0</td>\n",
       "      <td>0.148317</td>\n",
       "      <td>1.009409</td>\n",
       "      <td>0.0</td>\n",
       "      <td>0.0</td>\n",
       "      <td>0.0</td>\n",
       "      <td>0.0</td>\n",
       "      <td>30.0</td>\n",
       "    </tr>\n",
       "    <tr>\n",
       "      <th>booking_changes</th>\n",
       "      <td>32417.0</td>\n",
       "      <td>0.267761</td>\n",
       "      <td>0.685708</td>\n",
       "      <td>0.0</td>\n",
       "      <td>0.0</td>\n",
       "      <td>0.0</td>\n",
       "      <td>0.0</td>\n",
       "      <td>16.0</td>\n",
       "    </tr>\n",
       "    <tr>\n",
       "      <th>agent</th>\n",
       "      <td>32417.0</td>\n",
       "      <td>383.845822</td>\n",
       "      <td>328.781107</td>\n",
       "      <td>1.0</td>\n",
       "      <td>240.0</td>\n",
       "      <td>240.0</td>\n",
       "      <td>315.0</td>\n",
       "      <td>999.0</td>\n",
       "    </tr>\n",
       "    <tr>\n",
       "      <th>company</th>\n",
       "      <td>32417.0</td>\n",
       "      <td>934.228368</td>\n",
       "      <td>214.617433</td>\n",
       "      <td>6.0</td>\n",
       "      <td>999.0</td>\n",
       "      <td>999.0</td>\n",
       "      <td>999.0</td>\n",
       "      <td>999.0</td>\n",
       "    </tr>\n",
       "    <tr>\n",
       "      <th>days_in_waiting_list</th>\n",
       "      <td>32417.0</td>\n",
       "      <td>0.580961</td>\n",
       "      <td>7.767637</td>\n",
       "      <td>0.0</td>\n",
       "      <td>0.0</td>\n",
       "      <td>0.0</td>\n",
       "      <td>0.0</td>\n",
       "      <td>185.0</td>\n",
       "    </tr>\n",
       "    <tr>\n",
       "      <th>required_car_parking_spaces</th>\n",
       "      <td>32417.0</td>\n",
       "      <td>0.141777</td>\n",
       "      <td>0.355398</td>\n",
       "      <td>0.0</td>\n",
       "      <td>0.0</td>\n",
       "      <td>0.0</td>\n",
       "      <td>0.0</td>\n",
       "      <td>8.0</td>\n",
       "    </tr>\n",
       "    <tr>\n",
       "      <th>total_of_special_requests</th>\n",
       "      <td>32417.0</td>\n",
       "      <td>0.593732</td>\n",
       "      <td>0.790520</td>\n",
       "      <td>0.0</td>\n",
       "      <td>0.0</td>\n",
       "      <td>0.0</td>\n",
       "      <td>1.0</td>\n",
       "      <td>5.0</td>\n",
       "    </tr>\n",
       "    <tr>\n",
       "      <th>total_nights</th>\n",
       "      <td>32417.0</td>\n",
       "      <td>3.641299</td>\n",
       "      <td>2.265229</td>\n",
       "      <td>1.0</td>\n",
       "      <td>2.0</td>\n",
       "      <td>3.0</td>\n",
       "      <td>5.0</td>\n",
       "      <td>10.0</td>\n",
       "    </tr>\n",
       "  </tbody>\n",
       "</table>\n",
       "</div>"
      ],
      "text/plain": [
       "                                  count         mean         std     min  \\\n",
       "is_canceled                     32417.0     0.268285    0.443074     0.0   \n",
       "lead_time                       30948.0    85.236720   91.268188     0.0   \n",
       "arrival_date_year               32417.0  2016.098775    0.721440  2015.0   \n",
       "arrival_date_week_number        32417.0    26.439831   14.644381     1.0   \n",
       "arrival_date_day_of_month       32417.0    15.870593    8.877797     1.0   \n",
       "stays_in_weekend_nights         32417.0     1.005398    0.909158     0.0   \n",
       "stays_in_week_nights            32417.0     2.635901    1.678885     0.0   \n",
       "adults                          31001.0     1.835521    0.439880     1.0   \n",
       "children                        30929.0     0.093569    0.377662     0.0   \n",
       "babies                          30920.0     0.013486    0.117293     0.0   \n",
       "is_repeated_guest               32417.0     0.047321    0.212328     0.0   \n",
       "previous_cancellations          32417.0     0.121479    1.481996     0.0   \n",
       "previous_bookings_not_canceled  32417.0     0.148317    1.009409     0.0   \n",
       "booking_changes                 32417.0     0.267761    0.685708     0.0   \n",
       "agent                           32417.0   383.845822  328.781107     1.0   \n",
       "company                         32417.0   934.228368  214.617433     6.0   \n",
       "days_in_waiting_list            32417.0     0.580961    7.767637     0.0   \n",
       "required_car_parking_spaces     32417.0     0.141777    0.355398     0.0   \n",
       "total_of_special_requests       32417.0     0.593732    0.790520     0.0   \n",
       "total_nights                    32417.0     3.641299    2.265229     1.0   \n",
       "\n",
       "                                   25%     50%     75%     max  \n",
       "is_canceled                        0.0     0.0     1.0     1.0  \n",
       "lead_time                          8.0    48.0   143.0   373.0  \n",
       "arrival_date_year               2016.0  2016.0  2017.0  2017.0  \n",
       "arrival_date_week_number          14.0    26.0    39.0    53.0  \n",
       "arrival_date_day_of_month          8.0    16.0    24.0    31.0  \n",
       "stays_in_weekend_nights            0.0     1.0     2.0     4.0  \n",
       "stays_in_week_nights               1.0     2.0     4.0     6.0  \n",
       "adults                             2.0     2.0     2.0     4.0  \n",
       "children                           0.0     0.0     0.0     3.0  \n",
       "babies                             0.0     0.0     0.0     2.0  \n",
       "is_repeated_guest                  0.0     0.0     0.0     1.0  \n",
       "previous_cancellations             0.0     0.0     0.0    26.0  \n",
       "previous_bookings_not_canceled     0.0     0.0     0.0    30.0  \n",
       "booking_changes                    0.0     0.0     0.0    16.0  \n",
       "agent                            240.0   240.0   315.0   999.0  \n",
       "company                          999.0   999.0   999.0   999.0  \n",
       "days_in_waiting_list               0.0     0.0     0.0   185.0  \n",
       "required_car_parking_spaces        0.0     0.0     0.0     8.0  \n",
       "total_of_special_requests          0.0     0.0     1.0     5.0  \n",
       "total_nights                       2.0     3.0     5.0    10.0  "
      ]
     },
     "execution_count": 9,
     "metadata": {},
     "output_type": "execute_result"
    }
   ],
   "source": [
    "df_train.describe().T"
   ]
  },
  {
   "cell_type": "code",
   "execution_count": 10,
   "metadata": {},
   "outputs": [
    {
     "data": {
      "text/html": [
       "<div>\n",
       "<style scoped>\n",
       "    .dataframe tbody tr th:only-of-type {\n",
       "        vertical-align: middle;\n",
       "    }\n",
       "\n",
       "    .dataframe tbody tr th {\n",
       "        vertical-align: top;\n",
       "    }\n",
       "\n",
       "    .dataframe thead th {\n",
       "        text-align: right;\n",
       "    }\n",
       "</style>\n",
       "<table border=\"1\" class=\"dataframe\">\n",
       "  <thead>\n",
       "    <tr style=\"text-align: right;\">\n",
       "      <th></th>\n",
       "      <th>count</th>\n",
       "      <th>mean</th>\n",
       "      <th>std</th>\n",
       "      <th>min</th>\n",
       "      <th>25%</th>\n",
       "      <th>50%</th>\n",
       "      <th>75%</th>\n",
       "      <th>max</th>\n",
       "    </tr>\n",
       "  </thead>\n",
       "  <tbody>\n",
       "    <tr>\n",
       "      <th>is_canceled</th>\n",
       "      <td>73270.0</td>\n",
       "      <td>0.411260</td>\n",
       "      <td>0.492066</td>\n",
       "      <td>0.0</td>\n",
       "      <td>0.0</td>\n",
       "      <td>0.0</td>\n",
       "      <td>1.0</td>\n",
       "      <td>1.0</td>\n",
       "    </tr>\n",
       "    <tr>\n",
       "      <th>lead_time</th>\n",
       "      <td>73270.0</td>\n",
       "      <td>100.437055</td>\n",
       "      <td>93.236172</td>\n",
       "      <td>0.0</td>\n",
       "      <td>23.0</td>\n",
       "      <td>72.0</td>\n",
       "      <td>155.0</td>\n",
       "      <td>374.0</td>\n",
       "    </tr>\n",
       "    <tr>\n",
       "      <th>arrival_date_year</th>\n",
       "      <td>73270.0</td>\n",
       "      <td>2016.159520</td>\n",
       "      <td>0.700153</td>\n",
       "      <td>2015.0</td>\n",
       "      <td>2016.0</td>\n",
       "      <td>2016.0</td>\n",
       "      <td>2017.0</td>\n",
       "      <td>2017.0</td>\n",
       "    </tr>\n",
       "    <tr>\n",
       "      <th>arrival_date_week_number</th>\n",
       "      <td>73270.0</td>\n",
       "      <td>27.008421</td>\n",
       "      <td>13.461644</td>\n",
       "      <td>1.0</td>\n",
       "      <td>16.0</td>\n",
       "      <td>27.0</td>\n",
       "      <td>38.0</td>\n",
       "      <td>53.0</td>\n",
       "    </tr>\n",
       "    <tr>\n",
       "      <th>arrival_date_day_of_month</th>\n",
       "      <td>73270.0</td>\n",
       "      <td>15.766576</td>\n",
       "      <td>8.723164</td>\n",
       "      <td>1.0</td>\n",
       "      <td>8.0</td>\n",
       "      <td>16.0</td>\n",
       "      <td>23.0</td>\n",
       "      <td>31.0</td>\n",
       "    </tr>\n",
       "    <tr>\n",
       "      <th>stays_in_weekend_nights</th>\n",
       "      <td>73270.0</td>\n",
       "      <td>0.782421</td>\n",
       "      <td>0.827071</td>\n",
       "      <td>0.0</td>\n",
       "      <td>0.0</td>\n",
       "      <td>1.0</td>\n",
       "      <td>1.0</td>\n",
       "      <td>4.0</td>\n",
       "    </tr>\n",
       "    <tr>\n",
       "      <th>stays_in_week_nights</th>\n",
       "      <td>73270.0</td>\n",
       "      <td>2.136714</td>\n",
       "      <td>1.212976</td>\n",
       "      <td>0.0</td>\n",
       "      <td>1.0</td>\n",
       "      <td>2.0</td>\n",
       "      <td>3.0</td>\n",
       "      <td>6.0</td>\n",
       "    </tr>\n",
       "    <tr>\n",
       "      <th>adults</th>\n",
       "      <td>73270.0</td>\n",
       "      <td>1.849898</td>\n",
       "      <td>0.499589</td>\n",
       "      <td>0.0</td>\n",
       "      <td>2.0</td>\n",
       "      <td>2.0</td>\n",
       "      <td>2.0</td>\n",
       "      <td>4.0</td>\n",
       "    </tr>\n",
       "    <tr>\n",
       "      <th>children</th>\n",
       "      <td>73270.0</td>\n",
       "      <td>0.075229</td>\n",
       "      <td>0.327391</td>\n",
       "      <td>0.0</td>\n",
       "      <td>0.0</td>\n",
       "      <td>0.0</td>\n",
       "      <td>0.0</td>\n",
       "      <td>3.0</td>\n",
       "    </tr>\n",
       "    <tr>\n",
       "      <th>babies</th>\n",
       "      <td>73270.0</td>\n",
       "      <td>0.004586</td>\n",
       "      <td>0.082811</td>\n",
       "      <td>0.0</td>\n",
       "      <td>0.0</td>\n",
       "      <td>0.0</td>\n",
       "      <td>0.0</td>\n",
       "      <td>10.0</td>\n",
       "    </tr>\n",
       "    <tr>\n",
       "      <th>is_repeated_guest</th>\n",
       "      <td>73270.0</td>\n",
       "      <td>0.022028</td>\n",
       "      <td>0.146776</td>\n",
       "      <td>0.0</td>\n",
       "      <td>0.0</td>\n",
       "      <td>0.0</td>\n",
       "      <td>0.0</td>\n",
       "      <td>1.0</td>\n",
       "    </tr>\n",
       "    <tr>\n",
       "      <th>previous_cancellations</th>\n",
       "      <td>73270.0</td>\n",
       "      <td>0.081261</td>\n",
       "      <td>0.420739</td>\n",
       "      <td>0.0</td>\n",
       "      <td>0.0</td>\n",
       "      <td>0.0</td>\n",
       "      <td>0.0</td>\n",
       "      <td>21.0</td>\n",
       "    </tr>\n",
       "    <tr>\n",
       "      <th>previous_bookings_not_canceled</th>\n",
       "      <td>73270.0</td>\n",
       "      <td>0.121742</td>\n",
       "      <td>1.668054</td>\n",
       "      <td>0.0</td>\n",
       "      <td>0.0</td>\n",
       "      <td>0.0</td>\n",
       "      <td>0.0</td>\n",
       "      <td>72.0</td>\n",
       "    </tr>\n",
       "    <tr>\n",
       "      <th>booking_changes</th>\n",
       "      <td>73270.0</td>\n",
       "      <td>0.180920</td>\n",
       "      <td>0.583590</td>\n",
       "      <td>0.0</td>\n",
       "      <td>0.0</td>\n",
       "      <td>0.0</td>\n",
       "      <td>0.0</td>\n",
       "      <td>18.0</td>\n",
       "    </tr>\n",
       "    <tr>\n",
       "      <th>agent</th>\n",
       "      <td>73270.0</td>\n",
       "      <td>124.425618</td>\n",
       "      <td>295.997006</td>\n",
       "      <td>1.0</td>\n",
       "      <td>9.0</td>\n",
       "      <td>9.0</td>\n",
       "      <td>29.0</td>\n",
       "      <td>999.0</td>\n",
       "    </tr>\n",
       "    <tr>\n",
       "      <th>company</th>\n",
       "      <td>73270.0</td>\n",
       "      <td>960.494827</td>\n",
       "      <td>178.286987</td>\n",
       "      <td>8.0</td>\n",
       "      <td>999.0</td>\n",
       "      <td>999.0</td>\n",
       "      <td>999.0</td>\n",
       "      <td>999.0</td>\n",
       "    </tr>\n",
       "    <tr>\n",
       "      <th>days_in_waiting_list</th>\n",
       "      <td>73270.0</td>\n",
       "      <td>2.881288</td>\n",
       "      <td>16.919103</td>\n",
       "      <td>0.0</td>\n",
       "      <td>0.0</td>\n",
       "      <td>0.0</td>\n",
       "      <td>0.0</td>\n",
       "      <td>259.0</td>\n",
       "    </tr>\n",
       "    <tr>\n",
       "      <th>required_car_parking_spaces</th>\n",
       "      <td>73270.0</td>\n",
       "      <td>0.024348</td>\n",
       "      <td>0.154748</td>\n",
       "      <td>0.0</td>\n",
       "      <td>0.0</td>\n",
       "      <td>0.0</td>\n",
       "      <td>0.0</td>\n",
       "      <td>3.0</td>\n",
       "    </tr>\n",
       "    <tr>\n",
       "      <th>total_of_special_requests</th>\n",
       "      <td>73270.0</td>\n",
       "      <td>0.549475</td>\n",
       "      <td>0.780711</td>\n",
       "      <td>0.0</td>\n",
       "      <td>0.0</td>\n",
       "      <td>0.0</td>\n",
       "      <td>1.0</td>\n",
       "      <td>5.0</td>\n",
       "    </tr>\n",
       "    <tr>\n",
       "      <th>total_nights</th>\n",
       "      <td>73270.0</td>\n",
       "      <td>2.919135</td>\n",
       "      <td>1.480781</td>\n",
       "      <td>1.0</td>\n",
       "      <td>2.0</td>\n",
       "      <td>3.0</td>\n",
       "      <td>4.0</td>\n",
       "      <td>10.0</td>\n",
       "    </tr>\n",
       "  </tbody>\n",
       "</table>\n",
       "</div>"
      ],
      "text/plain": [
       "                                  count         mean         std     min  \\\n",
       "is_canceled                     73270.0     0.411260    0.492066     0.0   \n",
       "lead_time                       73270.0   100.437055   93.236172     0.0   \n",
       "arrival_date_year               73270.0  2016.159520    0.700153  2015.0   \n",
       "arrival_date_week_number        73270.0    27.008421   13.461644     1.0   \n",
       "arrival_date_day_of_month       73270.0    15.766576    8.723164     1.0   \n",
       "stays_in_weekend_nights         73270.0     0.782421    0.827071     0.0   \n",
       "stays_in_week_nights            73270.0     2.136714    1.212976     0.0   \n",
       "adults                          73270.0     1.849898    0.499589     0.0   \n",
       "children                        73270.0     0.075229    0.327391     0.0   \n",
       "babies                          73270.0     0.004586    0.082811     0.0   \n",
       "is_repeated_guest               73270.0     0.022028    0.146776     0.0   \n",
       "previous_cancellations          73270.0     0.081261    0.420739     0.0   \n",
       "previous_bookings_not_canceled  73270.0     0.121742    1.668054     0.0   \n",
       "booking_changes                 73270.0     0.180920    0.583590     0.0   \n",
       "agent                           73270.0   124.425618  295.997006     1.0   \n",
       "company                         73270.0   960.494827  178.286987     8.0   \n",
       "days_in_waiting_list            73270.0     2.881288   16.919103     0.0   \n",
       "required_car_parking_spaces     73270.0     0.024348    0.154748     0.0   \n",
       "total_of_special_requests       73270.0     0.549475    0.780711     0.0   \n",
       "total_nights                    73270.0     2.919135    1.480781     1.0   \n",
       "\n",
       "                                   25%     50%     75%     max  \n",
       "is_canceled                        0.0     0.0     1.0     1.0  \n",
       "lead_time                         23.0    72.0   155.0   374.0  \n",
       "arrival_date_year               2016.0  2016.0  2017.0  2017.0  \n",
       "arrival_date_week_number          16.0    27.0    38.0    53.0  \n",
       "arrival_date_day_of_month          8.0    16.0    23.0    31.0  \n",
       "stays_in_weekend_nights            0.0     1.0     1.0     4.0  \n",
       "stays_in_week_nights               1.0     2.0     3.0     6.0  \n",
       "adults                             2.0     2.0     2.0     4.0  \n",
       "children                           0.0     0.0     0.0     3.0  \n",
       "babies                             0.0     0.0     0.0    10.0  \n",
       "is_repeated_guest                  0.0     0.0     0.0     1.0  \n",
       "previous_cancellations             0.0     0.0     0.0    21.0  \n",
       "previous_bookings_not_canceled     0.0     0.0     0.0    72.0  \n",
       "booking_changes                    0.0     0.0     0.0    18.0  \n",
       "agent                              9.0     9.0    29.0   999.0  \n",
       "company                          999.0   999.0   999.0   999.0  \n",
       "days_in_waiting_list               0.0     0.0     0.0   259.0  \n",
       "required_car_parking_spaces        0.0     0.0     0.0     3.0  \n",
       "total_of_special_requests          0.0     0.0     1.0     5.0  \n",
       "total_nights                       2.0     3.0     4.0    10.0  "
      ]
     },
     "execution_count": 10,
     "metadata": {},
     "output_type": "execute_result"
    }
   ],
   "source": [
    "df_test.describe().T"
   ]
  },
  {
   "cell_type": "code",
   "execution_count": 11,
   "metadata": {},
   "outputs": [
    {
     "data": {
      "text/plain": [
       "Index(['is_canceled', 'lead_time', 'arrival_date_year',\n",
       "       'arrival_date_week_number', 'arrival_date_day_of_month',\n",
       "       'stays_in_weekend_nights', 'stays_in_week_nights', 'adults', 'children',\n",
       "       'babies', 'is_repeated_guest', 'previous_cancellations',\n",
       "       'previous_bookings_not_canceled', 'booking_changes', 'agent', 'company',\n",
       "       'days_in_waiting_list', 'required_car_parking_spaces',\n",
       "       'total_of_special_requests', 'total_nights'],\n",
       "      dtype='object')"
      ]
     },
     "execution_count": 11,
     "metadata": {},
     "output_type": "execute_result"
    }
   ],
   "source": [
    "df_train.select_dtypes(exclude = ['object']).columns"
   ]
  },
  {
   "cell_type": "markdown",
   "metadata": {},
   "source": [
    "- the Practicum team has not corrected the data yet and you can observe a mix of 2015, 2016 and 2017 in the training and test samples\n",
    "- there are gaps in the training sample for a number of columns"
   ]
  },
  {
   "cell_type": "code",
   "execution_count": 12,
   "metadata": {
    "scrolled": true
   },
   "outputs": [
    {
     "data": {
      "image/png": "[encoded data removed]",
      "text/plain": [
       "<Figure size 1440x2160 with 10 Axes>"
      ]
     },
     "metadata": {
      "needs_background": "light"
     },
     "output_type": "display_data"
    }
   ],
   "source": [
    "lst = ['lead_time', 'previous_cancellations',\n",
    "'previous_bookings_not_canceled',\n",
    "'days_in_waiting_list',\n",
    "'total_nights'\n",
    "]\n",
    "\n",
    "a = 5  \n",
    "b = 5  \n",
    "c = 1  \n",
    "\n",
    "fig = plt.figure(figsize=(20,30))\n",
    "\n",
    "for i in lst:\n",
    "    plt.subplot(a, b, c)\n",
    "    plt.title(i)\n",
    "    plt.xlabel(i)\n",
    "    plt.hist(df_train[i])\n",
    "    c = c + 1\n",
    "\n",
    "for i in lst:\n",
    "    plt.subplot(a, b, c)\n",
    "    plt.title(i)\n",
    "    plt.xlabel(i)\n",
    "    plt.hist(df_test[i])\n",
    "    c = c + 1\n"
   ]
  },
  {
   "cell_type": "code",
   "execution_count": 13,
   "metadata": {},
   "outputs": [],
   "source": [
    "Q = (\n",
    "df_test.groupby('arrival_date_month').agg(cnt_all = ('is_canceled', 'count'),\n",
    "                                          cnt_canc = ('is_canceled', 'sum')).reset_index()\n",
    "      .merge(dict_coef[['mnth','n']], left_on = 'arrival_date_month', right_on = 'mnth', how = 'left')\n",
    "      .sort_values('n', ascending = True)\n",
    ")\n",
    "\n",
    "Q['prc_cnc'] = round(Q['cnt_canc']*100/Q['cnt_all'],0)\n",
    "\n",
    "Z = (\n",
    "df_train.groupby('arrival_date_month').agg(cnt_all = ('is_canceled', 'count'),\n",
    "                                          cnt_canc =('is_canceled', 'sum')).reset_index()\n",
    "      .merge(dict_coef[['mnth','n']], left_on = 'arrival_date_month', right_on = 'mnth', how = 'left')\n",
    "      .sort_values('n', ascending = True)\n",
    ")\n",
    "\n",
    "Z['prc_cnc'] = round(Z['cnt_canc']*100/Z['cnt_all'],0)"
   ]
  },
  {
   "cell_type": "code",
   "execution_count": 14,
   "metadata": {},
   "outputs": [
    {
     "data": {
      "image/png": "[encoded data removed]",
      "text/plain": [
       "<Figure size 1008x360 with 2 Axes>"
      ]
     },
     "metadata": {
      "needs_background": "light"
     },
     "output_type": "display_data"
    }
   ],
   "source": [
    "fig, ax = plt.subplots(figsize=(14, 5))\n",
    "ax2 = ax.twinx()\n",
    "\n",
    "ax.bar(Q['arrival_date_month'], Q['cnt_all'], label = 'cnt_all', alpha = 0.3)\n",
    "ax.bar(Q['arrival_date_month'], Q['cnt_canc'], label= 'cnt_cancel', alpha = 0.3)\n",
    "ax2.plot(Q['arrival_date_month'], Q['prc_cnc'], 'r-')\n",
    "ax2.axhline(Q['prc_cnc'].mean(), color = 'g', linestyle = '--')\n",
    "\n",
    "ax.set_ylabel('count')\n",
    "ax.set_xlabel('mnth')\n",
    "ax2.set_ylim(20,50)\n",
    "ax.set_title('Distribution of the share of failures in dynamics by month - TRAIN')\n",
    "ax.grid()\n",
    "ax.legend()\n",
    "\n",
    "plt.show()"
   ]
  },
  {
   "cell_type": "code",
   "execution_count": 15,
   "metadata": {},
   "outputs": [
    {
     "data": {
      "image/png": "[encoded data removed]",
      "text/plain": [
       "<Figure size 1008x360 with 2 Axes>"
      ]
     },
     "metadata": {
      "needs_background": "light"
     },
     "output_type": "display_data"
    }
   ],
   "source": [
    "fig, ax = plt.subplots(figsize=(14, 5))\n",
    "ax2 = ax.twinx()\n",
    "\n",
    "ax.bar(Z['arrival_date_month'], Z['cnt_all'], label = 'cnt_all', alpha = 0.3)\n",
    "ax.bar(Z['arrival_date_month'], Z['cnt_canc'], label= 'cnt_cancel', alpha = 0.3)\n",
    "ax2.plot(Z['arrival_date_month'], Z['prc_cnc'], 'r-')\n",
    "ax2.axhline(Z['prc_cnc'].mean(), color = 'g', linestyle = '--')\n",
    "\n",
    "ax.set_ylabel('count')\n",
    "ax.set_xlabel('mnth')\n",
    "ax2.set_ylim(10,50)\n",
    "ax.set_title('Distribution of the share of failures in dynamics by month - TEST')\n",
    "ax.grid()\n",
    "ax.legend()\n",
    "\n",
    "plt.show()"
   ]
  },
  {
   "cell_type": "markdown",
   "metadata": {},
   "source": [
    "#### Checking for obvious duplicates\n",
    "\n",
    "*Training sample*"
   ]
  },
  {
   "cell_type": "code",
   "execution_count": 16,
   "metadata": {},
   "outputs": [
    {
     "data": {
      "text/plain": [
       "0.1304870901070426"
      ]
     },
     "execution_count": 16,
     "metadata": {},
     "output_type": "execute_result"
    }
   ],
   "source": [
    "df_train.duplicated().sum()/len(df_train)"
   ]
  },
  {
   "cell_type": "markdown",
   "metadata": {},
   "source": [
    "*Test sample*"
   ]
  },
  {
   "cell_type": "code",
   "execution_count": 17,
   "metadata": {},
   "outputs": [
    {
     "data": {
      "text/plain": [
       "0.32758291251535415"
      ]
     },
     "execution_count": 17,
     "metadata": {},
     "output_type": "execute_result"
    }
   ],
   "source": [
    "df_test.duplicated().sum()/len(df_test)"
   ]
  },
  {
   "cell_type": "markdown",
   "metadata": {},
   "source": [
    "Both the training and test samples contain duplicates.  \n",
    "However, the nature of the data does not exclude their presence - we do not have a customer ID, or a hotel room ID to judge that this is a clear error.\n",
    "\n",
    "*Example:*\n",
    "In June 2016, a Class A room for 3 nights could take 1 person. The probability of identical signs is very high.\n",
    "\n",
    "I suggest leaving duplicates without deleting anything."
   ]
  },
  {
   "cell_type": "markdown",
   "metadata": {},
   "source": [
    "#### Checking data types and omissions"
   ]
  },
  {
   "cell_type": "markdown",
   "metadata": {},
   "source": [
    "Columns with omissions in the training sample:"
   ]
  },
  {
   "cell_type": "code",
   "execution_count": 18,
   "metadata": {},
   "outputs": [
    {
     "data": {
      "text/plain": [
       "Index(['lead_time', 'adults', 'children', 'babies', 'meal',\n",
       "       'distribution_channel'],\n",
       "      dtype='object')"
      ]
     },
     "execution_count": 18,
     "metadata": {},
     "output_type": "execute_result"
    }
   ],
   "source": [
    "df_train.columns[df_train.isnull().any()]"
   ]
  },
  {
   "cell_type": "code",
   "execution_count": 19,
   "metadata": {},
   "outputs": [
    {
     "data": {
      "text/html": [
       "<div>\n",
       "<style scoped>\n",
       "    .dataframe tbody tr th:only-of-type {\n",
       "        vertical-align: middle;\n",
       "    }\n",
       "\n",
       "    .dataframe tbody tr th {\n",
       "        vertical-align: top;\n",
       "    }\n",
       "\n",
       "    .dataframe thead th {\n",
       "        text-align: right;\n",
       "    }\n",
       "</style>\n",
       "<table border=\"1\" class=\"dataframe\">\n",
       "  <thead>\n",
       "    <tr style=\"text-align: right;\">\n",
       "      <th></th>\n",
       "      <th>0</th>\n",
       "    </tr>\n",
       "  </thead>\n",
       "  <tbody>\n",
       "    <tr>\n",
       "      <th>babies</th>\n",
       "      <td>0.046179</td>\n",
       "    </tr>\n",
       "    <tr>\n",
       "      <th>children</th>\n",
       "      <td>0.045902</td>\n",
       "    </tr>\n",
       "    <tr>\n",
       "      <th>lead_time</th>\n",
       "      <td>0.045316</td>\n",
       "    </tr>\n",
       "    <tr>\n",
       "      <th>distribution_channel</th>\n",
       "      <td>0.044545</td>\n",
       "    </tr>\n",
       "    <tr>\n",
       "      <th>meal</th>\n",
       "      <td>0.044483</td>\n",
       "    </tr>\n",
       "    <tr>\n",
       "      <th>adults</th>\n",
       "      <td>0.043681</td>\n",
       "    </tr>\n",
       "  </tbody>\n",
       "</table>\n",
       "</div>"
      ],
      "text/plain": [
       "                             0\n",
       "babies                0.046179\n",
       "children              0.045902\n",
       "lead_time             0.045316\n",
       "distribution_channel  0.044545\n",
       "meal                  0.044483\n",
       "adults                0.043681"
      ]
     },
     "execution_count": 19,
     "metadata": {},
     "output_type": "execute_result"
    }
   ],
   "source": [
    "df_train[df_train.columns[df_train.isnull().any()]].isna().mean().to_frame().sort_values(by=[0], ascending=False)"
   ]
  },
  {
   "cell_type": "markdown",
   "metadata": {},
   "source": [
    "Columns with omissions in the test sample:"
   ]
  },
  {
   "cell_type": "code",
   "execution_count": 20,
   "metadata": {},
   "outputs": [
    {
     "data": {
      "text/plain": [
       "Index([], dtype='object')"
      ]
     },
     "execution_count": 20,
     "metadata": {},
     "output_type": "execute_result"
    }
   ],
   "source": [
    "df_test.columns[df_test.isnull().any()]"
   ]
  },
  {
   "cell_type": "markdown",
   "metadata": {},
   "source": [
    "***there are no omissions in the test sample***"
   ]
  },
  {
   "cell_type": "markdown",
   "metadata": {},
   "source": [
    "Columns with different data types:"
   ]
  },
  {
   "cell_type": "code",
   "execution_count": 21,
   "metadata": {},
   "outputs": [
    {
     "name": "stdout",
     "output_type": "stream",
     "text": [
      "int64 16 19\n",
      "float64 4 1\n",
      "object 7 7\n"
     ]
    }
   ],
   "source": [
    "types_lst = ['int64','float64','object']\n",
    "\n",
    "for i in types_lst:\n",
    "    print(i, len(df_train.select_dtypes(include = [i]).columns), \\\n",
    "          len(df_test.select_dtypes(include = [i]).columns))    "
   ]
  },
  {
   "cell_type": "markdown",
   "metadata": {},
   "source": [
    "**`A note on omissions`**\n",
    "\n",
    "* there are gaps in the *training sample*, while there are no gaps in the *test data*\n",
    "    * for adequate training of the model, we must solve this problem\n",
    "* the data types in the three columns differ `lead_time`, `adults`, `babies`. \n",
    "    * the reason is the omissions. `int64` cannot contain nan\n",
    "\n",
    "Our primary task is to determine what to do with the omissions in the training sample.  \n",
    "Let's check if the omissions are common to all columns."
   ]
  },
  {
   "cell_type": "code",
   "execution_count": 22,
   "metadata": {},
   "outputs": [
    {
     "name": "stdout",
     "output_type": "stream",
     "text": [
      "Column name: lead_time\n"
     ]
    },
    {
     "data": {
      "text/html": [
       "<div>\n",
       "<style scoped>\n",
       "    .dataframe tbody tr th:only-of-type {\n",
       "        vertical-align: middle;\n",
       "    }\n",
       "\n",
       "    .dataframe tbody tr th {\n",
       "        vertical-align: top;\n",
       "    }\n",
       "\n",
       "    .dataframe thead th {\n",
       "        text-align: right;\n",
       "    }\n",
       "</style>\n",
       "<table border=\"1\" class=\"dataframe\">\n",
       "  <thead>\n",
       "    <tr style=\"text-align: right;\">\n",
       "      <th></th>\n",
       "      <th>lead_time</th>\n",
       "      <th>adults</th>\n",
       "      <th>children</th>\n",
       "      <th>babies</th>\n",
       "      <th>meal</th>\n",
       "      <th>distribution_channel</th>\n",
       "    </tr>\n",
       "  </thead>\n",
       "  <tbody>\n",
       "    <tr>\n",
       "      <th>3</th>\n",
       "      <td>NaN</td>\n",
       "      <td>2.0</td>\n",
       "      <td>0.0</td>\n",
       "      <td>0.0</td>\n",
       "      <td>BB</td>\n",
       "      <td>TA/TO</td>\n",
       "    </tr>\n",
       "    <tr>\n",
       "      <th>12</th>\n",
       "      <td>NaN</td>\n",
       "      <td>2.0</td>\n",
       "      <td>0.0</td>\n",
       "      <td>0.0</td>\n",
       "      <td>BB</td>\n",
       "      <td>TA/TO</td>\n",
       "    </tr>\n",
       "    <tr>\n",
       "      <th>15</th>\n",
       "      <td>NaN</td>\n",
       "      <td>2.0</td>\n",
       "      <td>0.0</td>\n",
       "      <td>0.0</td>\n",
       "      <td>BB</td>\n",
       "      <td>TA/TO</td>\n",
       "    </tr>\n",
       "    <tr>\n",
       "      <th>29</th>\n",
       "      <td>NaN</td>\n",
       "      <td>3.0</td>\n",
       "      <td>0.0</td>\n",
       "      <td>0.0</td>\n",
       "      <td>BB</td>\n",
       "      <td>TA/TO</td>\n",
       "    </tr>\n",
       "    <tr>\n",
       "      <th>47</th>\n",
       "      <td>NaN</td>\n",
       "      <td>2.0</td>\n",
       "      <td>0.0</td>\n",
       "      <td>0.0</td>\n",
       "      <td>BB</td>\n",
       "      <td>TA/TO</td>\n",
       "    </tr>\n",
       "    <tr>\n",
       "      <th>...</th>\n",
       "      <td>...</td>\n",
       "      <td>...</td>\n",
       "      <td>...</td>\n",
       "      <td>...</td>\n",
       "      <td>...</td>\n",
       "      <td>...</td>\n",
       "    </tr>\n",
       "    <tr>\n",
       "      <th>32389</th>\n",
       "      <td>NaN</td>\n",
       "      <td>2.0</td>\n",
       "      <td>0.0</td>\n",
       "      <td>0.0</td>\n",
       "      <td>BB</td>\n",
       "      <td>TA/TO</td>\n",
       "    </tr>\n",
       "    <tr>\n",
       "      <th>32391</th>\n",
       "      <td>NaN</td>\n",
       "      <td>2.0</td>\n",
       "      <td>0.0</td>\n",
       "      <td>0.0</td>\n",
       "      <td>BB</td>\n",
       "      <td>TA/TO</td>\n",
       "    </tr>\n",
       "    <tr>\n",
       "      <th>32392</th>\n",
       "      <td>NaN</td>\n",
       "      <td>2.0</td>\n",
       "      <td>0.0</td>\n",
       "      <td>0.0</td>\n",
       "      <td>NaN</td>\n",
       "      <td>TA/TO</td>\n",
       "    </tr>\n",
       "    <tr>\n",
       "      <th>32406</th>\n",
       "      <td>NaN</td>\n",
       "      <td>1.0</td>\n",
       "      <td>0.0</td>\n",
       "      <td>0.0</td>\n",
       "      <td>BB</td>\n",
       "      <td>TA/TO</td>\n",
       "    </tr>\n",
       "    <tr>\n",
       "      <th>32407</th>\n",
       "      <td>NaN</td>\n",
       "      <td>2.0</td>\n",
       "      <td>0.0</td>\n",
       "      <td>0.0</td>\n",
       "      <td>BB</td>\n",
       "      <td>Direct</td>\n",
       "    </tr>\n",
       "  </tbody>\n",
       "</table>\n",
       "<p>1469 rows × 6 columns</p>\n",
       "</div>"
      ],
      "text/plain": [
       "       lead_time  adults  children  babies       meal distribution_channel\n",
       "3            NaN     2.0       0.0     0.0  BB                       TA/TO\n",
       "12           NaN     2.0       0.0     0.0  BB                       TA/TO\n",
       "15           NaN     2.0       0.0     0.0  BB                       TA/TO\n",
       "29           NaN     3.0       0.0     0.0  BB                       TA/TO\n",
       "47           NaN     2.0       0.0     0.0  BB                       TA/TO\n",
       "...          ...     ...       ...     ...        ...                  ...\n",
       "32389        NaN     2.0       0.0     0.0  BB                       TA/TO\n",
       "32391        NaN     2.0       0.0     0.0  BB                       TA/TO\n",
       "32392        NaN     2.0       0.0     0.0        NaN                TA/TO\n",
       "32406        NaN     1.0       0.0     0.0  BB                       TA/TO\n",
       "32407        NaN     2.0       0.0     0.0  BB                      Direct\n",
       "\n",
       "[1469 rows x 6 columns]"
      ]
     },
     "metadata": {},
     "output_type": "display_data"
    },
    {
     "name": "stdout",
     "output_type": "stream",
     "text": [
      "Column name: adults\n"
     ]
    },
    {
     "data": {
      "text/html": [
       "<div>\n",
       "<style scoped>\n",
       "    .dataframe tbody tr th:only-of-type {\n",
       "        vertical-align: middle;\n",
       "    }\n",
       "\n",
       "    .dataframe tbody tr th {\n",
       "        vertical-align: top;\n",
       "    }\n",
       "\n",
       "    .dataframe thead th {\n",
       "        text-align: right;\n",
       "    }\n",
       "</style>\n",
       "<table border=\"1\" class=\"dataframe\">\n",
       "  <thead>\n",
       "    <tr style=\"text-align: right;\">\n",
       "      <th></th>\n",
       "      <th>lead_time</th>\n",
       "      <th>adults</th>\n",
       "      <th>children</th>\n",
       "      <th>babies</th>\n",
       "      <th>meal</th>\n",
       "      <th>distribution_channel</th>\n",
       "    </tr>\n",
       "  </thead>\n",
       "  <tbody>\n",
       "    <tr>\n",
       "      <th>22</th>\n",
       "      <td>127.0</td>\n",
       "      <td>NaN</td>\n",
       "      <td>0.0</td>\n",
       "      <td>0.0</td>\n",
       "      <td>HB</td>\n",
       "      <td>TA/TO</td>\n",
       "    </tr>\n",
       "    <tr>\n",
       "      <th>119</th>\n",
       "      <td>9.0</td>\n",
       "      <td>NaN</td>\n",
       "      <td>0.0</td>\n",
       "      <td>0.0</td>\n",
       "      <td>BB</td>\n",
       "      <td>TA/TO</td>\n",
       "    </tr>\n",
       "    <tr>\n",
       "      <th>156</th>\n",
       "      <td>111.0</td>\n",
       "      <td>NaN</td>\n",
       "      <td>0.0</td>\n",
       "      <td>0.0</td>\n",
       "      <td>HB</td>\n",
       "      <td>TA/TO</td>\n",
       "    </tr>\n",
       "    <tr>\n",
       "      <th>207</th>\n",
       "      <td>10.0</td>\n",
       "      <td>NaN</td>\n",
       "      <td>0.0</td>\n",
       "      <td>0.0</td>\n",
       "      <td>BB</td>\n",
       "      <td>Direct</td>\n",
       "    </tr>\n",
       "    <tr>\n",
       "      <th>208</th>\n",
       "      <td>22.0</td>\n",
       "      <td>NaN</td>\n",
       "      <td>0.0</td>\n",
       "      <td>0.0</td>\n",
       "      <td>BB</td>\n",
       "      <td>TA/TO</td>\n",
       "    </tr>\n",
       "    <tr>\n",
       "      <th>...</th>\n",
       "      <td>...</td>\n",
       "      <td>...</td>\n",
       "      <td>...</td>\n",
       "      <td>...</td>\n",
       "      <td>...</td>\n",
       "      <td>...</td>\n",
       "    </tr>\n",
       "    <tr>\n",
       "      <th>32296</th>\n",
       "      <td>204.0</td>\n",
       "      <td>NaN</td>\n",
       "      <td>1.0</td>\n",
       "      <td>0.0</td>\n",
       "      <td>HB</td>\n",
       "      <td>TA/TO</td>\n",
       "    </tr>\n",
       "    <tr>\n",
       "      <th>32298</th>\n",
       "      <td>204.0</td>\n",
       "      <td>NaN</td>\n",
       "      <td>1.0</td>\n",
       "      <td>0.0</td>\n",
       "      <td>HB</td>\n",
       "      <td>TA/TO</td>\n",
       "    </tr>\n",
       "    <tr>\n",
       "      <th>32334</th>\n",
       "      <td>0.0</td>\n",
       "      <td>NaN</td>\n",
       "      <td>0.0</td>\n",
       "      <td>0.0</td>\n",
       "      <td>BB</td>\n",
       "      <td>TA/TO</td>\n",
       "    </tr>\n",
       "    <tr>\n",
       "      <th>32377</th>\n",
       "      <td>97.0</td>\n",
       "      <td>NaN</td>\n",
       "      <td>0.0</td>\n",
       "      <td>0.0</td>\n",
       "      <td>BB</td>\n",
       "      <td>TA/TO</td>\n",
       "    </tr>\n",
       "    <tr>\n",
       "      <th>32382</th>\n",
       "      <td>61.0</td>\n",
       "      <td>NaN</td>\n",
       "      <td>0.0</td>\n",
       "      <td>0.0</td>\n",
       "      <td>BB</td>\n",
       "      <td>TA/TO</td>\n",
       "    </tr>\n",
       "  </tbody>\n",
       "</table>\n",
       "<p>1416 rows × 6 columns</p>\n",
       "</div>"
      ],
      "text/plain": [
       "       lead_time  adults  children  babies       meal distribution_channel\n",
       "22         127.0     NaN       0.0     0.0  HB                       TA/TO\n",
       "119          9.0     NaN       0.0     0.0  BB                       TA/TO\n",
       "156        111.0     NaN       0.0     0.0  HB                       TA/TO\n",
       "207         10.0     NaN       0.0     0.0  BB                      Direct\n",
       "208         22.0     NaN       0.0     0.0  BB                       TA/TO\n",
       "...          ...     ...       ...     ...        ...                  ...\n",
       "32296      204.0     NaN       1.0     0.0  HB                       TA/TO\n",
       "32298      204.0     NaN       1.0     0.0  HB                       TA/TO\n",
       "32334        0.0     NaN       0.0     0.0  BB                       TA/TO\n",
       "32377       97.0     NaN       0.0     0.0  BB                       TA/TO\n",
       "32382       61.0     NaN       0.0     0.0  BB                       TA/TO\n",
       "\n",
       "[1416 rows x 6 columns]"
      ]
     },
     "metadata": {},
     "output_type": "display_data"
    },
    {
     "name": "stdout",
     "output_type": "stream",
     "text": [
      "Column name: children\n"
     ]
    },
    {
     "data": {
      "text/html": [
       "<div>\n",
       "<style scoped>\n",
       "    .dataframe tbody tr th:only-of-type {\n",
       "        vertical-align: middle;\n",
       "    }\n",
       "\n",
       "    .dataframe tbody tr th {\n",
       "        vertical-align: top;\n",
       "    }\n",
       "\n",
       "    .dataframe thead th {\n",
       "        text-align: right;\n",
       "    }\n",
       "</style>\n",
       "<table border=\"1\" class=\"dataframe\">\n",
       "  <thead>\n",
       "    <tr style=\"text-align: right;\">\n",
       "      <th></th>\n",
       "      <th>lead_time</th>\n",
       "      <th>adults</th>\n",
       "      <th>children</th>\n",
       "      <th>babies</th>\n",
       "      <th>meal</th>\n",
       "      <th>distribution_channel</th>\n",
       "    </tr>\n",
       "  </thead>\n",
       "  <tbody>\n",
       "    <tr>\n",
       "      <th>18</th>\n",
       "      <td>37.0</td>\n",
       "      <td>1.0</td>\n",
       "      <td>NaN</td>\n",
       "      <td>0.0</td>\n",
       "      <td>BB</td>\n",
       "      <td>TA/TO</td>\n",
       "    </tr>\n",
       "    <tr>\n",
       "      <th>49</th>\n",
       "      <td>0.0</td>\n",
       "      <td>2.0</td>\n",
       "      <td>NaN</td>\n",
       "      <td>0.0</td>\n",
       "      <td>BB</td>\n",
       "      <td>Direct</td>\n",
       "    </tr>\n",
       "    <tr>\n",
       "      <th>76</th>\n",
       "      <td>21.0</td>\n",
       "      <td>2.0</td>\n",
       "      <td>NaN</td>\n",
       "      <td>0.0</td>\n",
       "      <td>BB</td>\n",
       "      <td>TA/TO</td>\n",
       "    </tr>\n",
       "    <tr>\n",
       "      <th>85</th>\n",
       "      <td>98.0</td>\n",
       "      <td>2.0</td>\n",
       "      <td>NaN</td>\n",
       "      <td>0.0</td>\n",
       "      <td>BB</td>\n",
       "      <td>TA/TO</td>\n",
       "    </tr>\n",
       "    <tr>\n",
       "      <th>92</th>\n",
       "      <td>115.0</td>\n",
       "      <td>2.0</td>\n",
       "      <td>NaN</td>\n",
       "      <td>NaN</td>\n",
       "      <td>BB</td>\n",
       "      <td>NaN</td>\n",
       "    </tr>\n",
       "    <tr>\n",
       "      <th>...</th>\n",
       "      <td>...</td>\n",
       "      <td>...</td>\n",
       "      <td>...</td>\n",
       "      <td>...</td>\n",
       "      <td>...</td>\n",
       "      <td>...</td>\n",
       "    </tr>\n",
       "    <tr>\n",
       "      <th>32341</th>\n",
       "      <td>43.0</td>\n",
       "      <td>2.0</td>\n",
       "      <td>NaN</td>\n",
       "      <td>0.0</td>\n",
       "      <td>BB</td>\n",
       "      <td>Direct</td>\n",
       "    </tr>\n",
       "    <tr>\n",
       "      <th>32346</th>\n",
       "      <td>75.0</td>\n",
       "      <td>2.0</td>\n",
       "      <td>NaN</td>\n",
       "      <td>0.0</td>\n",
       "      <td>BB</td>\n",
       "      <td>TA/TO</td>\n",
       "    </tr>\n",
       "    <tr>\n",
       "      <th>32362</th>\n",
       "      <td>26.0</td>\n",
       "      <td>2.0</td>\n",
       "      <td>NaN</td>\n",
       "      <td>0.0</td>\n",
       "      <td>HB</td>\n",
       "      <td>TA/TO</td>\n",
       "    </tr>\n",
       "    <tr>\n",
       "      <th>32379</th>\n",
       "      <td>18.0</td>\n",
       "      <td>2.0</td>\n",
       "      <td>NaN</td>\n",
       "      <td>0.0</td>\n",
       "      <td>BB</td>\n",
       "      <td>TA/TO</td>\n",
       "    </tr>\n",
       "    <tr>\n",
       "      <th>32404</th>\n",
       "      <td>50.0</td>\n",
       "      <td>2.0</td>\n",
       "      <td>NaN</td>\n",
       "      <td>0.0</td>\n",
       "      <td>BB</td>\n",
       "      <td>TA/TO</td>\n",
       "    </tr>\n",
       "  </tbody>\n",
       "</table>\n",
       "<p>1488 rows × 6 columns</p>\n",
       "</div>"
      ],
      "text/plain": [
       "       lead_time  adults  children  babies       meal distribution_channel\n",
       "18          37.0     1.0       NaN     0.0  BB                       TA/TO\n",
       "49           0.0     2.0       NaN     0.0  BB                      Direct\n",
       "76          21.0     2.0       NaN     0.0  BB                       TA/TO\n",
       "85          98.0     2.0       NaN     0.0  BB                       TA/TO\n",
       "92         115.0     2.0       NaN     NaN  BB                         NaN\n",
       "...          ...     ...       ...     ...        ...                  ...\n",
       "32341       43.0     2.0       NaN     0.0  BB                      Direct\n",
       "32346       75.0     2.0       NaN     0.0  BB                       TA/TO\n",
       "32362       26.0     2.0       NaN     0.0  HB                       TA/TO\n",
       "32379       18.0     2.0       NaN     0.0  BB                       TA/TO\n",
       "32404       50.0     2.0       NaN     0.0  BB                       TA/TO\n",
       "\n",
       "[1488 rows x 6 columns]"
      ]
     },
     "metadata": {},
     "output_type": "display_data"
    },
    {
     "name": "stdout",
     "output_type": "stream",
     "text": [
      "Column name: babies\n"
     ]
    },
    {
     "data": {
      "text/html": [
       "<div>\n",
       "<style scoped>\n",
       "    .dataframe tbody tr th:only-of-type {\n",
       "        vertical-align: middle;\n",
       "    }\n",
       "\n",
       "    .dataframe tbody tr th {\n",
       "        vertical-align: top;\n",
       "    }\n",
       "\n",
       "    .dataframe thead th {\n",
       "        text-align: right;\n",
       "    }\n",
       "</style>\n",
       "<table border=\"1\" class=\"dataframe\">\n",
       "  <thead>\n",
       "    <tr style=\"text-align: right;\">\n",
       "      <th></th>\n",
       "      <th>lead_time</th>\n",
       "      <th>adults</th>\n",
       "      <th>children</th>\n",
       "      <th>babies</th>\n",
       "      <th>meal</th>\n",
       "      <th>distribution_channel</th>\n",
       "    </tr>\n",
       "  </thead>\n",
       "  <tbody>\n",
       "    <tr>\n",
       "      <th>1</th>\n",
       "      <td>13.0</td>\n",
       "      <td>1.0</td>\n",
       "      <td>0.0</td>\n",
       "      <td>NaN</td>\n",
       "      <td>BB</td>\n",
       "      <td>Corporate</td>\n",
       "    </tr>\n",
       "    <tr>\n",
       "      <th>28</th>\n",
       "      <td>69.0</td>\n",
       "      <td>2.0</td>\n",
       "      <td>0.0</td>\n",
       "      <td>NaN</td>\n",
       "      <td>BB</td>\n",
       "      <td>TA/TO</td>\n",
       "    </tr>\n",
       "    <tr>\n",
       "      <th>33</th>\n",
       "      <td>43.0</td>\n",
       "      <td>3.0</td>\n",
       "      <td>0.0</td>\n",
       "      <td>NaN</td>\n",
       "      <td>BB</td>\n",
       "      <td>TA/TO</td>\n",
       "    </tr>\n",
       "    <tr>\n",
       "      <th>51</th>\n",
       "      <td>0.0</td>\n",
       "      <td>2.0</td>\n",
       "      <td>0.0</td>\n",
       "      <td>NaN</td>\n",
       "      <td>BB</td>\n",
       "      <td>Direct</td>\n",
       "    </tr>\n",
       "    <tr>\n",
       "      <th>70</th>\n",
       "      <td>2.0</td>\n",
       "      <td>1.0</td>\n",
       "      <td>0.0</td>\n",
       "      <td>NaN</td>\n",
       "      <td>BB</td>\n",
       "      <td>TA/TO</td>\n",
       "    </tr>\n",
       "    <tr>\n",
       "      <th>...</th>\n",
       "      <td>...</td>\n",
       "      <td>...</td>\n",
       "      <td>...</td>\n",
       "      <td>...</td>\n",
       "      <td>...</td>\n",
       "      <td>...</td>\n",
       "    </tr>\n",
       "    <tr>\n",
       "      <th>32360</th>\n",
       "      <td>6.0</td>\n",
       "      <td>2.0</td>\n",
       "      <td>0.0</td>\n",
       "      <td>NaN</td>\n",
       "      <td>BB</td>\n",
       "      <td>TA/TO</td>\n",
       "    </tr>\n",
       "    <tr>\n",
       "      <th>32372</th>\n",
       "      <td>2.0</td>\n",
       "      <td>2.0</td>\n",
       "      <td>0.0</td>\n",
       "      <td>NaN</td>\n",
       "      <td>BB</td>\n",
       "      <td>Direct</td>\n",
       "    </tr>\n",
       "    <tr>\n",
       "      <th>32373</th>\n",
       "      <td>2.0</td>\n",
       "      <td>2.0</td>\n",
       "      <td>2.0</td>\n",
       "      <td>NaN</td>\n",
       "      <td>BB</td>\n",
       "      <td>Direct</td>\n",
       "    </tr>\n",
       "    <tr>\n",
       "      <th>32409</th>\n",
       "      <td>301.0</td>\n",
       "      <td>2.0</td>\n",
       "      <td>0.0</td>\n",
       "      <td>NaN</td>\n",
       "      <td>HB</td>\n",
       "      <td>TA/TO</td>\n",
       "    </tr>\n",
       "    <tr>\n",
       "      <th>32416</th>\n",
       "      <td>227.0</td>\n",
       "      <td>2.0</td>\n",
       "      <td>1.0</td>\n",
       "      <td>NaN</td>\n",
       "      <td>BB</td>\n",
       "      <td>TA/TO</td>\n",
       "    </tr>\n",
       "  </tbody>\n",
       "</table>\n",
       "<p>1497 rows × 6 columns</p>\n",
       "</div>"
      ],
      "text/plain": [
       "       lead_time  adults  children  babies       meal distribution_channel\n",
       "1           13.0     1.0       0.0     NaN  BB                   Corporate\n",
       "28          69.0     2.0       0.0     NaN  BB                       TA/TO\n",
       "33          43.0     3.0       0.0     NaN  BB                       TA/TO\n",
       "51           0.0     2.0       0.0     NaN  BB                      Direct\n",
       "70           2.0     1.0       0.0     NaN  BB                       TA/TO\n",
       "...          ...     ...       ...     ...        ...                  ...\n",
       "32360        6.0     2.0       0.0     NaN  BB                       TA/TO\n",
       "32372        2.0     2.0       0.0     NaN  BB                      Direct\n",
       "32373        2.0     2.0       2.0     NaN  BB                      Direct\n",
       "32409      301.0     2.0       0.0     NaN  HB                       TA/TO\n",
       "32416      227.0     2.0       1.0     NaN  BB                       TA/TO\n",
       "\n",
       "[1497 rows x 6 columns]"
      ]
     },
     "metadata": {},
     "output_type": "display_data"
    },
    {
     "name": "stdout",
     "output_type": "stream",
     "text": [
      "Column name: meal\n"
     ]
    },
    {
     "data": {
      "text/html": [
       "<div>\n",
       "<style scoped>\n",
       "    .dataframe tbody tr th:only-of-type {\n",
       "        vertical-align: middle;\n",
       "    }\n",
       "\n",
       "    .dataframe tbody tr th {\n",
       "        vertical-align: top;\n",
       "    }\n",
       "\n",
       "    .dataframe thead th {\n",
       "        text-align: right;\n",
       "    }\n",
       "</style>\n",
       "<table border=\"1\" class=\"dataframe\">\n",
       "  <thead>\n",
       "    <tr style=\"text-align: right;\">\n",
       "      <th></th>\n",
       "      <th>lead_time</th>\n",
       "      <th>adults</th>\n",
       "      <th>children</th>\n",
       "      <th>babies</th>\n",
       "      <th>meal</th>\n",
       "      <th>distribution_channel</th>\n",
       "    </tr>\n",
       "  </thead>\n",
       "  <tbody>\n",
       "    <tr>\n",
       "      <th>23</th>\n",
       "      <td>78.0</td>\n",
       "      <td>2.0</td>\n",
       "      <td>0.0</td>\n",
       "      <td>0.0</td>\n",
       "      <td>NaN</td>\n",
       "      <td>TA/TO</td>\n",
       "    </tr>\n",
       "    <tr>\n",
       "      <th>25</th>\n",
       "      <td>60.0</td>\n",
       "      <td>2.0</td>\n",
       "      <td>0.0</td>\n",
       "      <td>0.0</td>\n",
       "      <td>NaN</td>\n",
       "      <td>TA/TO</td>\n",
       "    </tr>\n",
       "    <tr>\n",
       "      <th>43</th>\n",
       "      <td>90.0</td>\n",
       "      <td>2.0</td>\n",
       "      <td>0.0</td>\n",
       "      <td>0.0</td>\n",
       "      <td>NaN</td>\n",
       "      <td>TA/TO</td>\n",
       "    </tr>\n",
       "    <tr>\n",
       "      <th>67</th>\n",
       "      <td>51.0</td>\n",
       "      <td>3.0</td>\n",
       "      <td>0.0</td>\n",
       "      <td>0.0</td>\n",
       "      <td>NaN</td>\n",
       "      <td>TA/TO</td>\n",
       "    </tr>\n",
       "    <tr>\n",
       "      <th>88</th>\n",
       "      <td>102.0</td>\n",
       "      <td>2.0</td>\n",
       "      <td>0.0</td>\n",
       "      <td>0.0</td>\n",
       "      <td>NaN</td>\n",
       "      <td>TA/TO</td>\n",
       "    </tr>\n",
       "    <tr>\n",
       "      <th>...</th>\n",
       "      <td>...</td>\n",
       "      <td>...</td>\n",
       "      <td>...</td>\n",
       "      <td>...</td>\n",
       "      <td>...</td>\n",
       "      <td>...</td>\n",
       "    </tr>\n",
       "    <tr>\n",
       "      <th>32314</th>\n",
       "      <td>269.0</td>\n",
       "      <td>2.0</td>\n",
       "      <td>0.0</td>\n",
       "      <td>0.0</td>\n",
       "      <td>NaN</td>\n",
       "      <td>TA/TO</td>\n",
       "    </tr>\n",
       "    <tr>\n",
       "      <th>32317</th>\n",
       "      <td>14.0</td>\n",
       "      <td>2.0</td>\n",
       "      <td>0.0</td>\n",
       "      <td>0.0</td>\n",
       "      <td>NaN</td>\n",
       "      <td>TA/TO</td>\n",
       "    </tr>\n",
       "    <tr>\n",
       "      <th>32327</th>\n",
       "      <td>NaN</td>\n",
       "      <td>2.0</td>\n",
       "      <td>0.0</td>\n",
       "      <td>0.0</td>\n",
       "      <td>NaN</td>\n",
       "      <td>TA/TO</td>\n",
       "    </tr>\n",
       "    <tr>\n",
       "      <th>32349</th>\n",
       "      <td>30.0</td>\n",
       "      <td>1.0</td>\n",
       "      <td>0.0</td>\n",
       "      <td>0.0</td>\n",
       "      <td>NaN</td>\n",
       "      <td>TA/TO</td>\n",
       "    </tr>\n",
       "    <tr>\n",
       "      <th>32392</th>\n",
       "      <td>NaN</td>\n",
       "      <td>2.0</td>\n",
       "      <td>0.0</td>\n",
       "      <td>0.0</td>\n",
       "      <td>NaN</td>\n",
       "      <td>TA/TO</td>\n",
       "    </tr>\n",
       "  </tbody>\n",
       "</table>\n",
       "<p>1442 rows × 6 columns</p>\n",
       "</div>"
      ],
      "text/plain": [
       "       lead_time  adults  children  babies meal distribution_channel\n",
       "23          78.0     2.0       0.0     0.0  NaN                TA/TO\n",
       "25          60.0     2.0       0.0     0.0  NaN                TA/TO\n",
       "43          90.0     2.0       0.0     0.0  NaN                TA/TO\n",
       "67          51.0     3.0       0.0     0.0  NaN                TA/TO\n",
       "88         102.0     2.0       0.0     0.0  NaN                TA/TO\n",
       "...          ...     ...       ...     ...  ...                  ...\n",
       "32314      269.0     2.0       0.0     0.0  NaN                TA/TO\n",
       "32317       14.0     2.0       0.0     0.0  NaN                TA/TO\n",
       "32327        NaN     2.0       0.0     0.0  NaN                TA/TO\n",
       "32349       30.0     1.0       0.0     0.0  NaN                TA/TO\n",
       "32392        NaN     2.0       0.0     0.0  NaN                TA/TO\n",
       "\n",
       "[1442 rows x 6 columns]"
      ]
     },
     "metadata": {},
     "output_type": "display_data"
    },
    {
     "name": "stdout",
     "output_type": "stream",
     "text": [
      "Column name: distribution_channel\n"
     ]
    },
    {
     "data": {
      "text/html": [
       "<div>\n",
       "<style scoped>\n",
       "    .dataframe tbody tr th:only-of-type {\n",
       "        vertical-align: middle;\n",
       "    }\n",
       "\n",
       "    .dataframe tbody tr th {\n",
       "        vertical-align: top;\n",
       "    }\n",
       "\n",
       "    .dataframe thead th {\n",
       "        text-align: right;\n",
       "    }\n",
       "</style>\n",
       "<table border=\"1\" class=\"dataframe\">\n",
       "  <thead>\n",
       "    <tr style=\"text-align: right;\">\n",
       "      <th></th>\n",
       "      <th>lead_time</th>\n",
       "      <th>adults</th>\n",
       "      <th>children</th>\n",
       "      <th>babies</th>\n",
       "      <th>meal</th>\n",
       "      <th>distribution_channel</th>\n",
       "    </tr>\n",
       "  </thead>\n",
       "  <tbody>\n",
       "    <tr>\n",
       "      <th>9</th>\n",
       "      <td>35.0</td>\n",
       "      <td>2.0</td>\n",
       "      <td>0.0</td>\n",
       "      <td>0.0</td>\n",
       "      <td>HB</td>\n",
       "      <td>NaN</td>\n",
       "    </tr>\n",
       "    <tr>\n",
       "      <th>10</th>\n",
       "      <td>68.0</td>\n",
       "      <td>2.0</td>\n",
       "      <td>0.0</td>\n",
       "      <td>0.0</td>\n",
       "      <td>BB</td>\n",
       "      <td>NaN</td>\n",
       "    </tr>\n",
       "    <tr>\n",
       "      <th>38</th>\n",
       "      <td>70.0</td>\n",
       "      <td>2.0</td>\n",
       "      <td>0.0</td>\n",
       "      <td>0.0</td>\n",
       "      <td>HB</td>\n",
       "      <td>NaN</td>\n",
       "    </tr>\n",
       "    <tr>\n",
       "      <th>60</th>\n",
       "      <td>51.0</td>\n",
       "      <td>2.0</td>\n",
       "      <td>0.0</td>\n",
       "      <td>0.0</td>\n",
       "      <td>BB</td>\n",
       "      <td>NaN</td>\n",
       "    </tr>\n",
       "    <tr>\n",
       "      <th>92</th>\n",
       "      <td>115.0</td>\n",
       "      <td>2.0</td>\n",
       "      <td>NaN</td>\n",
       "      <td>NaN</td>\n",
       "      <td>BB</td>\n",
       "      <td>NaN</td>\n",
       "    </tr>\n",
       "    <tr>\n",
       "      <th>...</th>\n",
       "      <td>...</td>\n",
       "      <td>...</td>\n",
       "      <td>...</td>\n",
       "      <td>...</td>\n",
       "      <td>...</td>\n",
       "      <td>...</td>\n",
       "    </tr>\n",
       "    <tr>\n",
       "      <th>32195</th>\n",
       "      <td>280.0</td>\n",
       "      <td>3.0</td>\n",
       "      <td>0.0</td>\n",
       "      <td>0.0</td>\n",
       "      <td>HB</td>\n",
       "      <td>NaN</td>\n",
       "    </tr>\n",
       "    <tr>\n",
       "      <th>32243</th>\n",
       "      <td>23.0</td>\n",
       "      <td>2.0</td>\n",
       "      <td>0.0</td>\n",
       "      <td>0.0</td>\n",
       "      <td>BB</td>\n",
       "      <td>NaN</td>\n",
       "    </tr>\n",
       "    <tr>\n",
       "      <th>32252</th>\n",
       "      <td>62.0</td>\n",
       "      <td>2.0</td>\n",
       "      <td>0.0</td>\n",
       "      <td>0.0</td>\n",
       "      <td>BB</td>\n",
       "      <td>NaN</td>\n",
       "    </tr>\n",
       "    <tr>\n",
       "      <th>32335</th>\n",
       "      <td>169.0</td>\n",
       "      <td>2.0</td>\n",
       "      <td>0.0</td>\n",
       "      <td>NaN</td>\n",
       "      <td>BB</td>\n",
       "      <td>NaN</td>\n",
       "    </tr>\n",
       "    <tr>\n",
       "      <th>32347</th>\n",
       "      <td>30.0</td>\n",
       "      <td>2.0</td>\n",
       "      <td>0.0</td>\n",
       "      <td>0.0</td>\n",
       "      <td>BB</td>\n",
       "      <td>NaN</td>\n",
       "    </tr>\n",
       "  </tbody>\n",
       "</table>\n",
       "<p>1444 rows × 6 columns</p>\n",
       "</div>"
      ],
      "text/plain": [
       "       lead_time  adults  children  babies       meal distribution_channel\n",
       "9           35.0     2.0       0.0     0.0  HB                         NaN\n",
       "10          68.0     2.0       0.0     0.0  BB                         NaN\n",
       "38          70.0     2.0       0.0     0.0  HB                         NaN\n",
       "60          51.0     2.0       0.0     0.0  BB                         NaN\n",
       "92         115.0     2.0       NaN     NaN  BB                         NaN\n",
       "...          ...     ...       ...     ...        ...                  ...\n",
       "32195      280.0     3.0       0.0     0.0  HB                         NaN\n",
       "32243       23.0     2.0       0.0     0.0  BB                         NaN\n",
       "32252       62.0     2.0       0.0     0.0  BB                         NaN\n",
       "32335      169.0     2.0       0.0     NaN  BB                         NaN\n",
       "32347       30.0     2.0       0.0     0.0  BB                         NaN\n",
       "\n",
       "[1444 rows x 6 columns]"
      ]
     },
     "metadata": {},
     "output_type": "display_data"
    }
   ],
   "source": [
    "Q = df_train[df_train.columns[df_train.isnull().any()]]\n",
    "for i in Q.columns:\n",
    "    print(f'Column name: {i}')\n",
    "    display(Q[Q[i].isna() == True])"
   ]
  },
  {
   "cell_type": "markdown",
   "metadata": {},
   "source": [
    "Also let's look at the proportion of omissions relative to other values in the specified columns:"
   ]
  },
  {
   "cell_type": "code",
   "execution_count": 23,
   "metadata": {},
   "outputs": [
    {
     "name": "stdout",
     "output_type": "stream",
     "text": [
      "Column name: lead_time\n",
      "       lead_time\n",
      "0.0     0.085819\n",
      "NaN     0.045316\n",
      "1.0     0.041676\n",
      "2.0     0.024524\n",
      "3.0     0.020853\n",
      "...          ...\n",
      "366.0   0.000031\n",
      "372.0   0.000031\n",
      "358.0   0.000031\n",
      "359.0   0.000031\n",
      "362.0   0.000031\n",
      "\n",
      "[370 rows x 1 columns]\n",
      "===========================\n",
      "Column name: adults\n",
      "       adults\n",
      "2.0  0.746985\n",
      "1.0  0.183577\n",
      "NaN  0.043681\n",
      "3.0  0.025234\n",
      "4.0  0.000524\n",
      "===========================\n",
      "Column name: children\n",
      "     children\n",
      "0.0  0.892063\n",
      "NaN  0.045902\n",
      "1.0  0.035136\n",
      "2.0  0.026560\n",
      "3.0  0.000339\n",
      "===========================\n",
      "Column name: babies\n",
      "       babies\n",
      "0.0  0.941173\n",
      "NaN  0.046179\n",
      "1.0  0.012432\n",
      "2.0  0.000216\n",
      "===========================\n",
      "Column name: meal\n",
      "               meal\n",
      "BB         0.741648\n",
      "HB         0.166456\n",
      "NaN        0.044483\n",
      "SC         0.029244\n",
      "FB         0.017738\n",
      "SC         0.000432\n",
      "===========================\n",
      "Column name: distribution_channel\n",
      "           distribution_channel\n",
      "TA/TO                  0.687448\n",
      "Direct                 0.184039\n",
      "Corporate              0.083968\n",
      "NaN                    0.044545\n",
      "===========================\n"
     ]
    }
   ],
   "source": [
    "for i in df_train.columns[df_train.isnull().any()]:  \n",
    "    print(f'Column name: {i}')\n",
    "    print(df_train[i].value_counts(normalize=True, dropna = False).to_frame())\n",
    "    print('===========================')"
   ]
  },
  {
   "cell_type": "code",
   "execution_count": 24,
   "metadata": {
    "scrolled": true
   },
   "outputs": [
    {
     "name": "stdout",
     "output_type": "stream",
     "text": [
      "Column name: lead_time\n"
     ]
    },
    {
     "data": {
      "text/html": [
       "<div>\n",
       "<style scoped>\n",
       "    .dataframe tbody tr th:only-of-type {\n",
       "        vertical-align: middle;\n",
       "    }\n",
       "\n",
       "    .dataframe tbody tr th {\n",
       "        vertical-align: top;\n",
       "    }\n",
       "\n",
       "    .dataframe thead th {\n",
       "        text-align: right;\n",
       "    }\n",
       "</style>\n",
       "<table border=\"1\" class=\"dataframe\">\n",
       "  <thead>\n",
       "    <tr style=\"text-align: right;\">\n",
       "      <th></th>\n",
       "      <th>lead_time</th>\n",
       "      <th>adults</th>\n",
       "      <th>children</th>\n",
       "      <th>babies</th>\n",
       "      <th>meal</th>\n",
       "      <th>distribution_channel</th>\n",
       "    </tr>\n",
       "  </thead>\n",
       "  <tbody>\n",
       "    <tr>\n",
       "      <th>3</th>\n",
       "      <td>NaN</td>\n",
       "      <td>2.0</td>\n",
       "      <td>0.0</td>\n",
       "      <td>0.0</td>\n",
       "      <td>BB</td>\n",
       "      <td>TA/TO</td>\n",
       "    </tr>\n",
       "    <tr>\n",
       "      <th>12</th>\n",
       "      <td>NaN</td>\n",
       "      <td>2.0</td>\n",
       "      <td>0.0</td>\n",
       "      <td>0.0</td>\n",
       "      <td>BB</td>\n",
       "      <td>TA/TO</td>\n",
       "    </tr>\n",
       "    <tr>\n",
       "      <th>15</th>\n",
       "      <td>NaN</td>\n",
       "      <td>2.0</td>\n",
       "      <td>0.0</td>\n",
       "      <td>0.0</td>\n",
       "      <td>BB</td>\n",
       "      <td>TA/TO</td>\n",
       "    </tr>\n",
       "    <tr>\n",
       "      <th>29</th>\n",
       "      <td>NaN</td>\n",
       "      <td>3.0</td>\n",
       "      <td>0.0</td>\n",
       "      <td>0.0</td>\n",
       "      <td>BB</td>\n",
       "      <td>TA/TO</td>\n",
       "    </tr>\n",
       "    <tr>\n",
       "      <th>47</th>\n",
       "      <td>NaN</td>\n",
       "      <td>2.0</td>\n",
       "      <td>0.0</td>\n",
       "      <td>0.0</td>\n",
       "      <td>BB</td>\n",
       "      <td>TA/TO</td>\n",
       "    </tr>\n",
       "    <tr>\n",
       "      <th>...</th>\n",
       "      <td>...</td>\n",
       "      <td>...</td>\n",
       "      <td>...</td>\n",
       "      <td>...</td>\n",
       "      <td>...</td>\n",
       "      <td>...</td>\n",
       "    </tr>\n",
       "    <tr>\n",
       "      <th>32389</th>\n",
       "      <td>NaN</td>\n",
       "      <td>2.0</td>\n",
       "      <td>0.0</td>\n",
       "      <td>0.0</td>\n",
       "      <td>BB</td>\n",
       "      <td>TA/TO</td>\n",
       "    </tr>\n",
       "    <tr>\n",
       "      <th>32391</th>\n",
       "      <td>NaN</td>\n",
       "      <td>2.0</td>\n",
       "      <td>0.0</td>\n",
       "      <td>0.0</td>\n",
       "      <td>BB</td>\n",
       "      <td>TA/TO</td>\n",
       "    </tr>\n",
       "    <tr>\n",
       "      <th>32392</th>\n",
       "      <td>NaN</td>\n",
       "      <td>2.0</td>\n",
       "      <td>0.0</td>\n",
       "      <td>0.0</td>\n",
       "      <td>NaN</td>\n",
       "      <td>TA/TO</td>\n",
       "    </tr>\n",
       "    <tr>\n",
       "      <th>32406</th>\n",
       "      <td>NaN</td>\n",
       "      <td>1.0</td>\n",
       "      <td>0.0</td>\n",
       "      <td>0.0</td>\n",
       "      <td>BB</td>\n",
       "      <td>TA/TO</td>\n",
       "    </tr>\n",
       "    <tr>\n",
       "      <th>32407</th>\n",
       "      <td>NaN</td>\n",
       "      <td>2.0</td>\n",
       "      <td>0.0</td>\n",
       "      <td>0.0</td>\n",
       "      <td>BB</td>\n",
       "      <td>Direct</td>\n",
       "    </tr>\n",
       "  </tbody>\n",
       "</table>\n",
       "<p>1469 rows × 6 columns</p>\n",
       "</div>"
      ],
      "text/plain": [
       "       lead_time  adults  children  babies       meal distribution_channel\n",
       "3            NaN     2.0       0.0     0.0  BB                       TA/TO\n",
       "12           NaN     2.0       0.0     0.0  BB                       TA/TO\n",
       "15           NaN     2.0       0.0     0.0  BB                       TA/TO\n",
       "29           NaN     3.0       0.0     0.0  BB                       TA/TO\n",
       "47           NaN     2.0       0.0     0.0  BB                       TA/TO\n",
       "...          ...     ...       ...     ...        ...                  ...\n",
       "32389        NaN     2.0       0.0     0.0  BB                       TA/TO\n",
       "32391        NaN     2.0       0.0     0.0  BB                       TA/TO\n",
       "32392        NaN     2.0       0.0     0.0        NaN                TA/TO\n",
       "32406        NaN     1.0       0.0     0.0  BB                       TA/TO\n",
       "32407        NaN     2.0       0.0     0.0  BB                      Direct\n",
       "\n",
       "[1469 rows x 6 columns]"
      ]
     },
     "metadata": {},
     "output_type": "display_data"
    },
    {
     "name": "stdout",
     "output_type": "stream",
     "text": [
      "Column name: adults\n"
     ]
    },
    {
     "data": {
      "text/html": [
       "<div>\n",
       "<style scoped>\n",
       "    .dataframe tbody tr th:only-of-type {\n",
       "        vertical-align: middle;\n",
       "    }\n",
       "\n",
       "    .dataframe tbody tr th {\n",
       "        vertical-align: top;\n",
       "    }\n",
       "\n",
       "    .dataframe thead th {\n",
       "        text-align: right;\n",
       "    }\n",
       "</style>\n",
       "<table border=\"1\" class=\"dataframe\">\n",
       "  <thead>\n",
       "    <tr style=\"text-align: right;\">\n",
       "      <th></th>\n",
       "      <th>lead_time</th>\n",
       "      <th>adults</th>\n",
       "      <th>children</th>\n",
       "      <th>babies</th>\n",
       "      <th>meal</th>\n",
       "      <th>distribution_channel</th>\n",
       "    </tr>\n",
       "  </thead>\n",
       "  <tbody>\n",
       "    <tr>\n",
       "      <th>22</th>\n",
       "      <td>127.0</td>\n",
       "      <td>NaN</td>\n",
       "      <td>0.0</td>\n",
       "      <td>0.0</td>\n",
       "      <td>HB</td>\n",
       "      <td>TA/TO</td>\n",
       "    </tr>\n",
       "    <tr>\n",
       "      <th>119</th>\n",
       "      <td>9.0</td>\n",
       "      <td>NaN</td>\n",
       "      <td>0.0</td>\n",
       "      <td>0.0</td>\n",
       "      <td>BB</td>\n",
       "      <td>TA/TO</td>\n",
       "    </tr>\n",
       "    <tr>\n",
       "      <th>156</th>\n",
       "      <td>111.0</td>\n",
       "      <td>NaN</td>\n",
       "      <td>0.0</td>\n",
       "      <td>0.0</td>\n",
       "      <td>HB</td>\n",
       "      <td>TA/TO</td>\n",
       "    </tr>\n",
       "    <tr>\n",
       "      <th>207</th>\n",
       "      <td>10.0</td>\n",
       "      <td>NaN</td>\n",
       "      <td>0.0</td>\n",
       "      <td>0.0</td>\n",
       "      <td>BB</td>\n",
       "      <td>Direct</td>\n",
       "    </tr>\n",
       "    <tr>\n",
       "      <th>208</th>\n",
       "      <td>22.0</td>\n",
       "      <td>NaN</td>\n",
       "      <td>0.0</td>\n",
       "      <td>0.0</td>\n",
       "      <td>BB</td>\n",
       "      <td>TA/TO</td>\n",
       "    </tr>\n",
       "    <tr>\n",
       "      <th>...</th>\n",
       "      <td>...</td>\n",
       "      <td>...</td>\n",
       "      <td>...</td>\n",
       "      <td>...</td>\n",
       "      <td>...</td>\n",
       "      <td>...</td>\n",
       "    </tr>\n",
       "    <tr>\n",
       "      <th>32296</th>\n",
       "      <td>204.0</td>\n",
       "      <td>NaN</td>\n",
       "      <td>1.0</td>\n",
       "      <td>0.0</td>\n",
       "      <td>HB</td>\n",
       "      <td>TA/TO</td>\n",
       "    </tr>\n",
       "    <tr>\n",
       "      <th>32298</th>\n",
       "      <td>204.0</td>\n",
       "      <td>NaN</td>\n",
       "      <td>1.0</td>\n",
       "      <td>0.0</td>\n",
       "      <td>HB</td>\n",
       "      <td>TA/TO</td>\n",
       "    </tr>\n",
       "    <tr>\n",
       "      <th>32334</th>\n",
       "      <td>0.0</td>\n",
       "      <td>NaN</td>\n",
       "      <td>0.0</td>\n",
       "      <td>0.0</td>\n",
       "      <td>BB</td>\n",
       "      <td>TA/TO</td>\n",
       "    </tr>\n",
       "    <tr>\n",
       "      <th>32377</th>\n",
       "      <td>97.0</td>\n",
       "      <td>NaN</td>\n",
       "      <td>0.0</td>\n",
       "      <td>0.0</td>\n",
       "      <td>BB</td>\n",
       "      <td>TA/TO</td>\n",
       "    </tr>\n",
       "    <tr>\n",
       "      <th>32382</th>\n",
       "      <td>61.0</td>\n",
       "      <td>NaN</td>\n",
       "      <td>0.0</td>\n",
       "      <td>0.0</td>\n",
       "      <td>BB</td>\n",
       "      <td>TA/TO</td>\n",
       "    </tr>\n",
       "  </tbody>\n",
       "</table>\n",
       "<p>1416 rows × 6 columns</p>\n",
       "</div>"
      ],
      "text/plain": [
       "       lead_time  adults  children  babies       meal distribution_channel\n",
       "22         127.0     NaN       0.0     0.0  HB                       TA/TO\n",
       "119          9.0     NaN       0.0     0.0  BB                       TA/TO\n",
       "156        111.0     NaN       0.0     0.0  HB                       TA/TO\n",
       "207         10.0     NaN       0.0     0.0  BB                      Direct\n",
       "208         22.0     NaN       0.0     0.0  BB                       TA/TO\n",
       "...          ...     ...       ...     ...        ...                  ...\n",
       "32296      204.0     NaN       1.0     0.0  HB                       TA/TO\n",
       "32298      204.0     NaN       1.0     0.0  HB                       TA/TO\n",
       "32334        0.0     NaN       0.0     0.0  BB                       TA/TO\n",
       "32377       97.0     NaN       0.0     0.0  BB                       TA/TO\n",
       "32382       61.0     NaN       0.0     0.0  BB                       TA/TO\n",
       "\n",
       "[1416 rows x 6 columns]"
      ]
     },
     "metadata": {},
     "output_type": "display_data"
    },
    {
     "name": "stdout",
     "output_type": "stream",
     "text": [
      "Column name: children\n"
     ]
    },
    {
     "data": {
      "text/html": [
       "<div>\n",
       "<style scoped>\n",
       "    .dataframe tbody tr th:only-of-type {\n",
       "        vertical-align: middle;\n",
       "    }\n",
       "\n",
       "    .dataframe tbody tr th {\n",
       "        vertical-align: top;\n",
       "    }\n",
       "\n",
       "    .dataframe thead th {\n",
       "        text-align: right;\n",
       "    }\n",
       "</style>\n",
       "<table border=\"1\" class=\"dataframe\">\n",
       "  <thead>\n",
       "    <tr style=\"text-align: right;\">\n",
       "      <th></th>\n",
       "      <th>lead_time</th>\n",
       "      <th>adults</th>\n",
       "      <th>children</th>\n",
       "      <th>babies</th>\n",
       "      <th>meal</th>\n",
       "      <th>distribution_channel</th>\n",
       "    </tr>\n",
       "  </thead>\n",
       "  <tbody>\n",
       "    <tr>\n",
       "      <th>18</th>\n",
       "      <td>37.0</td>\n",
       "      <td>1.0</td>\n",
       "      <td>NaN</td>\n",
       "      <td>0.0</td>\n",
       "      <td>BB</td>\n",
       "      <td>TA/TO</td>\n",
       "    </tr>\n",
       "    <tr>\n",
       "      <th>49</th>\n",
       "      <td>0.0</td>\n",
       "      <td>2.0</td>\n",
       "      <td>NaN</td>\n",
       "      <td>0.0</td>\n",
       "      <td>BB</td>\n",
       "      <td>Direct</td>\n",
       "    </tr>\n",
       "    <tr>\n",
       "      <th>76</th>\n",
       "      <td>21.0</td>\n",
       "      <td>2.0</td>\n",
       "      <td>NaN</td>\n",
       "      <td>0.0</td>\n",
       "      <td>BB</td>\n",
       "      <td>TA/TO</td>\n",
       "    </tr>\n",
       "    <tr>\n",
       "      <th>85</th>\n",
       "      <td>98.0</td>\n",
       "      <td>2.0</td>\n",
       "      <td>NaN</td>\n",
       "      <td>0.0</td>\n",
       "      <td>BB</td>\n",
       "      <td>TA/TO</td>\n",
       "    </tr>\n",
       "    <tr>\n",
       "      <th>92</th>\n",
       "      <td>115.0</td>\n",
       "      <td>2.0</td>\n",
       "      <td>NaN</td>\n",
       "      <td>NaN</td>\n",
       "      <td>BB</td>\n",
       "      <td>NaN</td>\n",
       "    </tr>\n",
       "    <tr>\n",
       "      <th>...</th>\n",
       "      <td>...</td>\n",
       "      <td>...</td>\n",
       "      <td>...</td>\n",
       "      <td>...</td>\n",
       "      <td>...</td>\n",
       "      <td>...</td>\n",
       "    </tr>\n",
       "    <tr>\n",
       "      <th>32341</th>\n",
       "      <td>43.0</td>\n",
       "      <td>2.0</td>\n",
       "      <td>NaN</td>\n",
       "      <td>0.0</td>\n",
       "      <td>BB</td>\n",
       "      <td>Direct</td>\n",
       "    </tr>\n",
       "    <tr>\n",
       "      <th>32346</th>\n",
       "      <td>75.0</td>\n",
       "      <td>2.0</td>\n",
       "      <td>NaN</td>\n",
       "      <td>0.0</td>\n",
       "      <td>BB</td>\n",
       "      <td>TA/TO</td>\n",
       "    </tr>\n",
       "    <tr>\n",
       "      <th>32362</th>\n",
       "      <td>26.0</td>\n",
       "      <td>2.0</td>\n",
       "      <td>NaN</td>\n",
       "      <td>0.0</td>\n",
       "      <td>HB</td>\n",
       "      <td>TA/TO</td>\n",
       "    </tr>\n",
       "    <tr>\n",
       "      <th>32379</th>\n",
       "      <td>18.0</td>\n",
       "      <td>2.0</td>\n",
       "      <td>NaN</td>\n",
       "      <td>0.0</td>\n",
       "      <td>BB</td>\n",
       "      <td>TA/TO</td>\n",
       "    </tr>\n",
       "    <tr>\n",
       "      <th>32404</th>\n",
       "      <td>50.0</td>\n",
       "      <td>2.0</td>\n",
       "      <td>NaN</td>\n",
       "      <td>0.0</td>\n",
       "      <td>BB</td>\n",
       "      <td>TA/TO</td>\n",
       "    </tr>\n",
       "  </tbody>\n",
       "</table>\n",
       "<p>1488 rows × 6 columns</p>\n",
       "</div>"
      ],
      "text/plain": [
       "       lead_time  adults  children  babies       meal distribution_channel\n",
       "18          37.0     1.0       NaN     0.0  BB                       TA/TO\n",
       "49           0.0     2.0       NaN     0.0  BB                      Direct\n",
       "76          21.0     2.0       NaN     0.0  BB                       TA/TO\n",
       "85          98.0     2.0       NaN     0.0  BB                       TA/TO\n",
       "92         115.0     2.0       NaN     NaN  BB                         NaN\n",
       "...          ...     ...       ...     ...        ...                  ...\n",
       "32341       43.0     2.0       NaN     0.0  BB                      Direct\n",
       "32346       75.0     2.0       NaN     0.0  BB                       TA/TO\n",
       "32362       26.0     2.0       NaN     0.0  HB                       TA/TO\n",
       "32379       18.0     2.0       NaN     0.0  BB                       TA/TO\n",
       "32404       50.0     2.0       NaN     0.0  BB                       TA/TO\n",
       "\n",
       "[1488 rows x 6 columns]"
      ]
     },
     "metadata": {},
     "output_type": "display_data"
    },
    {
     "name": "stdout",
     "output_type": "stream",
     "text": [
      "Column name: babies\n"
     ]
    },
    {
     "data": {
      "text/html": [
       "<div>\n",
       "<style scoped>\n",
       "    .dataframe tbody tr th:only-of-type {\n",
       "        vertical-align: middle;\n",
       "    }\n",
       "\n",
       "    .dataframe tbody tr th {\n",
       "        vertical-align: top;\n",
       "    }\n",
       "\n",
       "    .dataframe thead th {\n",
       "        text-align: right;\n",
       "    }\n",
       "</style>\n",
       "<table border=\"1\" class=\"dataframe\">\n",
       "  <thead>\n",
       "    <tr style=\"text-align: right;\">\n",
       "      <th></th>\n",
       "      <th>lead_time</th>\n",
       "      <th>adults</th>\n",
       "      <th>children</th>\n",
       "      <th>babies</th>\n",
       "      <th>meal</th>\n",
       "      <th>distribution_channel</th>\n",
       "    </tr>\n",
       "  </thead>\n",
       "  <tbody>\n",
       "    <tr>\n",
       "      <th>1</th>\n",
       "      <td>13.0</td>\n",
       "      <td>1.0</td>\n",
       "      <td>0.0</td>\n",
       "      <td>NaN</td>\n",
       "      <td>BB</td>\n",
       "      <td>Corporate</td>\n",
       "    </tr>\n",
       "    <tr>\n",
       "      <th>28</th>\n",
       "      <td>69.0</td>\n",
       "      <td>2.0</td>\n",
       "      <td>0.0</td>\n",
       "      <td>NaN</td>\n",
       "      <td>BB</td>\n",
       "      <td>TA/TO</td>\n",
       "    </tr>\n",
       "    <tr>\n",
       "      <th>33</th>\n",
       "      <td>43.0</td>\n",
       "      <td>3.0</td>\n",
       "      <td>0.0</td>\n",
       "      <td>NaN</td>\n",
       "      <td>BB</td>\n",
       "      <td>TA/TO</td>\n",
       "    </tr>\n",
       "    <tr>\n",
       "      <th>51</th>\n",
       "      <td>0.0</td>\n",
       "      <td>2.0</td>\n",
       "      <td>0.0</td>\n",
       "      <td>NaN</td>\n",
       "      <td>BB</td>\n",
       "      <td>Direct</td>\n",
       "    </tr>\n",
       "    <tr>\n",
       "      <th>70</th>\n",
       "      <td>2.0</td>\n",
       "      <td>1.0</td>\n",
       "      <td>0.0</td>\n",
       "      <td>NaN</td>\n",
       "      <td>BB</td>\n",
       "      <td>TA/TO</td>\n",
       "    </tr>\n",
       "    <tr>\n",
       "      <th>...</th>\n",
       "      <td>...</td>\n",
       "      <td>...</td>\n",
       "      <td>...</td>\n",
       "      <td>...</td>\n",
       "      <td>...</td>\n",
       "      <td>...</td>\n",
       "    </tr>\n",
       "    <tr>\n",
       "      <th>32360</th>\n",
       "      <td>6.0</td>\n",
       "      <td>2.0</td>\n",
       "      <td>0.0</td>\n",
       "      <td>NaN</td>\n",
       "      <td>BB</td>\n",
       "      <td>TA/TO</td>\n",
       "    </tr>\n",
       "    <tr>\n",
       "      <th>32372</th>\n",
       "      <td>2.0</td>\n",
       "      <td>2.0</td>\n",
       "      <td>0.0</td>\n",
       "      <td>NaN</td>\n",
       "      <td>BB</td>\n",
       "      <td>Direct</td>\n",
       "    </tr>\n",
       "    <tr>\n",
       "      <th>32373</th>\n",
       "      <td>2.0</td>\n",
       "      <td>2.0</td>\n",
       "      <td>2.0</td>\n",
       "      <td>NaN</td>\n",
       "      <td>BB</td>\n",
       "      <td>Direct</td>\n",
       "    </tr>\n",
       "    <tr>\n",
       "      <th>32409</th>\n",
       "      <td>301.0</td>\n",
       "      <td>2.0</td>\n",
       "      <td>0.0</td>\n",
       "      <td>NaN</td>\n",
       "      <td>HB</td>\n",
       "      <td>TA/TO</td>\n",
       "    </tr>\n",
       "    <tr>\n",
       "      <th>32416</th>\n",
       "      <td>227.0</td>\n",
       "      <td>2.0</td>\n",
       "      <td>1.0</td>\n",
       "      <td>NaN</td>\n",
       "      <td>BB</td>\n",
       "      <td>TA/TO</td>\n",
       "    </tr>\n",
       "  </tbody>\n",
       "</table>\n",
       "<p>1497 rows × 6 columns</p>\n",
       "</div>"
      ],
      "text/plain": [
       "       lead_time  adults  children  babies       meal distribution_channel\n",
       "1           13.0     1.0       0.0     NaN  BB                   Corporate\n",
       "28          69.0     2.0       0.0     NaN  BB                       TA/TO\n",
       "33          43.0     3.0       0.0     NaN  BB                       TA/TO\n",
       "51           0.0     2.0       0.0     NaN  BB                      Direct\n",
       "70           2.0     1.0       0.0     NaN  BB                       TA/TO\n",
       "...          ...     ...       ...     ...        ...                  ...\n",
       "32360        6.0     2.0       0.0     NaN  BB                       TA/TO\n",
       "32372        2.0     2.0       0.0     NaN  BB                      Direct\n",
       "32373        2.0     2.0       2.0     NaN  BB                      Direct\n",
       "32409      301.0     2.0       0.0     NaN  HB                       TA/TO\n",
       "32416      227.0     2.0       1.0     NaN  BB                       TA/TO\n",
       "\n",
       "[1497 rows x 6 columns]"
      ]
     },
     "metadata": {},
     "output_type": "display_data"
    },
    {
     "name": "stdout",
     "output_type": "stream",
     "text": [
      "Column name: meal\n"
     ]
    },
    {
     "data": {
      "text/html": [
       "<div>\n",
       "<style scoped>\n",
       "    .dataframe tbody tr th:only-of-type {\n",
       "        vertical-align: middle;\n",
       "    }\n",
       "\n",
       "    .dataframe tbody tr th {\n",
       "        vertical-align: top;\n",
       "    }\n",
       "\n",
       "    .dataframe thead th {\n",
       "        text-align: right;\n",
       "    }\n",
       "</style>\n",
       "<table border=\"1\" class=\"dataframe\">\n",
       "  <thead>\n",
       "    <tr style=\"text-align: right;\">\n",
       "      <th></th>\n",
       "      <th>lead_time</th>\n",
       "      <th>adults</th>\n",
       "      <th>children</th>\n",
       "      <th>babies</th>\n",
       "      <th>meal</th>\n",
       "      <th>distribution_channel</th>\n",
       "    </tr>\n",
       "  </thead>\n",
       "  <tbody>\n",
       "    <tr>\n",
       "      <th>23</th>\n",
       "      <td>78.0</td>\n",
       "      <td>2.0</td>\n",
       "      <td>0.0</td>\n",
       "      <td>0.0</td>\n",
       "      <td>NaN</td>\n",
       "      <td>TA/TO</td>\n",
       "    </tr>\n",
       "    <tr>\n",
       "      <th>25</th>\n",
       "      <td>60.0</td>\n",
       "      <td>2.0</td>\n",
       "      <td>0.0</td>\n",
       "      <td>0.0</td>\n",
       "      <td>NaN</td>\n",
       "      <td>TA/TO</td>\n",
       "    </tr>\n",
       "    <tr>\n",
       "      <th>43</th>\n",
       "      <td>90.0</td>\n",
       "      <td>2.0</td>\n",
       "      <td>0.0</td>\n",
       "      <td>0.0</td>\n",
       "      <td>NaN</td>\n",
       "      <td>TA/TO</td>\n",
       "    </tr>\n",
       "    <tr>\n",
       "      <th>67</th>\n",
       "      <td>51.0</td>\n",
       "      <td>3.0</td>\n",
       "      <td>0.0</td>\n",
       "      <td>0.0</td>\n",
       "      <td>NaN</td>\n",
       "      <td>TA/TO</td>\n",
       "    </tr>\n",
       "    <tr>\n",
       "      <th>88</th>\n",
       "      <td>102.0</td>\n",
       "      <td>2.0</td>\n",
       "      <td>0.0</td>\n",
       "      <td>0.0</td>\n",
       "      <td>NaN</td>\n",
       "      <td>TA/TO</td>\n",
       "    </tr>\n",
       "    <tr>\n",
       "      <th>...</th>\n",
       "      <td>...</td>\n",
       "      <td>...</td>\n",
       "      <td>...</td>\n",
       "      <td>...</td>\n",
       "      <td>...</td>\n",
       "      <td>...</td>\n",
       "    </tr>\n",
       "    <tr>\n",
       "      <th>32314</th>\n",
       "      <td>269.0</td>\n",
       "      <td>2.0</td>\n",
       "      <td>0.0</td>\n",
       "      <td>0.0</td>\n",
       "      <td>NaN</td>\n",
       "      <td>TA/TO</td>\n",
       "    </tr>\n",
       "    <tr>\n",
       "      <th>32317</th>\n",
       "      <td>14.0</td>\n",
       "      <td>2.0</td>\n",
       "      <td>0.0</td>\n",
       "      <td>0.0</td>\n",
       "      <td>NaN</td>\n",
       "      <td>TA/TO</td>\n",
       "    </tr>\n",
       "    <tr>\n",
       "      <th>32327</th>\n",
       "      <td>NaN</td>\n",
       "      <td>2.0</td>\n",
       "      <td>0.0</td>\n",
       "      <td>0.0</td>\n",
       "      <td>NaN</td>\n",
       "      <td>TA/TO</td>\n",
       "    </tr>\n",
       "    <tr>\n",
       "      <th>32349</th>\n",
       "      <td>30.0</td>\n",
       "      <td>1.0</td>\n",
       "      <td>0.0</td>\n",
       "      <td>0.0</td>\n",
       "      <td>NaN</td>\n",
       "      <td>TA/TO</td>\n",
       "    </tr>\n",
       "    <tr>\n",
       "      <th>32392</th>\n",
       "      <td>NaN</td>\n",
       "      <td>2.0</td>\n",
       "      <td>0.0</td>\n",
       "      <td>0.0</td>\n",
       "      <td>NaN</td>\n",
       "      <td>TA/TO</td>\n",
       "    </tr>\n",
       "  </tbody>\n",
       "</table>\n",
       "<p>1442 rows × 6 columns</p>\n",
       "</div>"
      ],
      "text/plain": [
       "       lead_time  adults  children  babies meal distribution_channel\n",
       "23          78.0     2.0       0.0     0.0  NaN                TA/TO\n",
       "25          60.0     2.0       0.0     0.0  NaN                TA/TO\n",
       "43          90.0     2.0       0.0     0.0  NaN                TA/TO\n",
       "67          51.0     3.0       0.0     0.0  NaN                TA/TO\n",
       "88         102.0     2.0       0.0     0.0  NaN                TA/TO\n",
       "...          ...     ...       ...     ...  ...                  ...\n",
       "32314      269.0     2.0       0.0     0.0  NaN                TA/TO\n",
       "32317       14.0     2.0       0.0     0.0  NaN                TA/TO\n",
       "32327        NaN     2.0       0.0     0.0  NaN                TA/TO\n",
       "32349       30.0     1.0       0.0     0.0  NaN                TA/TO\n",
       "32392        NaN     2.0       0.0     0.0  NaN                TA/TO\n",
       "\n",
       "[1442 rows x 6 columns]"
      ]
     },
     "metadata": {},
     "output_type": "display_data"
    },
    {
     "name": "stdout",
     "output_type": "stream",
     "text": [
      "Column name: distribution_channel\n"
     ]
    },
    {
     "data": {
      "text/html": [
       "<div>\n",
       "<style scoped>\n",
       "    .dataframe tbody tr th:only-of-type {\n",
       "        vertical-align: middle;\n",
       "    }\n",
       "\n",
       "    .dataframe tbody tr th {\n",
       "        vertical-align: top;\n",
       "    }\n",
       "\n",
       "    .dataframe thead th {\n",
       "        text-align: right;\n",
       "    }\n",
       "</style>\n",
       "<table border=\"1\" class=\"dataframe\">\n",
       "  <thead>\n",
       "    <tr style=\"text-align: right;\">\n",
       "      <th></th>\n",
       "      <th>lead_time</th>\n",
       "      <th>adults</th>\n",
       "      <th>children</th>\n",
       "      <th>babies</th>\n",
       "      <th>meal</th>\n",
       "      <th>distribution_channel</th>\n",
       "    </tr>\n",
       "  </thead>\n",
       "  <tbody>\n",
       "    <tr>\n",
       "      <th>9</th>\n",
       "      <td>35.0</td>\n",
       "      <td>2.0</td>\n",
       "      <td>0.0</td>\n",
       "      <td>0.0</td>\n",
       "      <td>HB</td>\n",
       "      <td>NaN</td>\n",
       "    </tr>\n",
       "    <tr>\n",
       "      <th>10</th>\n",
       "      <td>68.0</td>\n",
       "      <td>2.0</td>\n",
       "      <td>0.0</td>\n",
       "      <td>0.0</td>\n",
       "      <td>BB</td>\n",
       "      <td>NaN</td>\n",
       "    </tr>\n",
       "    <tr>\n",
       "      <th>38</th>\n",
       "      <td>70.0</td>\n",
       "      <td>2.0</td>\n",
       "      <td>0.0</td>\n",
       "      <td>0.0</td>\n",
       "      <td>HB</td>\n",
       "      <td>NaN</td>\n",
       "    </tr>\n",
       "    <tr>\n",
       "      <th>60</th>\n",
       "      <td>51.0</td>\n",
       "      <td>2.0</td>\n",
       "      <td>0.0</td>\n",
       "      <td>0.0</td>\n",
       "      <td>BB</td>\n",
       "      <td>NaN</td>\n",
       "    </tr>\n",
       "    <tr>\n",
       "      <th>92</th>\n",
       "      <td>115.0</td>\n",
       "      <td>2.0</td>\n",
       "      <td>NaN</td>\n",
       "      <td>NaN</td>\n",
       "      <td>BB</td>\n",
       "      <td>NaN</td>\n",
       "    </tr>\n",
       "    <tr>\n",
       "      <th>...</th>\n",
       "      <td>...</td>\n",
       "      <td>...</td>\n",
       "      <td>...</td>\n",
       "      <td>...</td>\n",
       "      <td>...</td>\n",
       "      <td>...</td>\n",
       "    </tr>\n",
       "    <tr>\n",
       "      <th>32195</th>\n",
       "      <td>280.0</td>\n",
       "      <td>3.0</td>\n",
       "      <td>0.0</td>\n",
       "      <td>0.0</td>\n",
       "      <td>HB</td>\n",
       "      <td>NaN</td>\n",
       "    </tr>\n",
       "    <tr>\n",
       "      <th>32243</th>\n",
       "      <td>23.0</td>\n",
       "      <td>2.0</td>\n",
       "      <td>0.0</td>\n",
       "      <td>0.0</td>\n",
       "      <td>BB</td>\n",
       "      <td>NaN</td>\n",
       "    </tr>\n",
       "    <tr>\n",
       "      <th>32252</th>\n",
       "      <td>62.0</td>\n",
       "      <td>2.0</td>\n",
       "      <td>0.0</td>\n",
       "      <td>0.0</td>\n",
       "      <td>BB</td>\n",
       "      <td>NaN</td>\n",
       "    </tr>\n",
       "    <tr>\n",
       "      <th>32335</th>\n",
       "      <td>169.0</td>\n",
       "      <td>2.0</td>\n",
       "      <td>0.0</td>\n",
       "      <td>NaN</td>\n",
       "      <td>BB</td>\n",
       "      <td>NaN</td>\n",
       "    </tr>\n",
       "    <tr>\n",
       "      <th>32347</th>\n",
       "      <td>30.0</td>\n",
       "      <td>2.0</td>\n",
       "      <td>0.0</td>\n",
       "      <td>0.0</td>\n",
       "      <td>BB</td>\n",
       "      <td>NaN</td>\n",
       "    </tr>\n",
       "  </tbody>\n",
       "</table>\n",
       "<p>1444 rows × 6 columns</p>\n",
       "</div>"
      ],
      "text/plain": [
       "       lead_time  adults  children  babies       meal distribution_channel\n",
       "9           35.0     2.0       0.0     0.0  HB                         NaN\n",
       "10          68.0     2.0       0.0     0.0  BB                         NaN\n",
       "38          70.0     2.0       0.0     0.0  HB                         NaN\n",
       "60          51.0     2.0       0.0     0.0  BB                         NaN\n",
       "92         115.0     2.0       NaN     NaN  BB                         NaN\n",
       "...          ...     ...       ...     ...        ...                  ...\n",
       "32195      280.0     3.0       0.0     0.0  HB                         NaN\n",
       "32243       23.0     2.0       0.0     0.0  BB                         NaN\n",
       "32252       62.0     2.0       0.0     0.0  BB                         NaN\n",
       "32335      169.0     2.0       0.0     NaN  BB                         NaN\n",
       "32347       30.0     2.0       0.0     0.0  BB                         NaN\n",
       "\n",
       "[1444 rows x 6 columns]"
      ]
     },
     "metadata": {},
     "output_type": "display_data"
    }
   ],
   "source": [
    "for i in df_train.columns[df_train.isnull().any()]:  \n",
    "    print(f'Column name: {i}')\n",
    "    display(Q[Q[i].isna() == True])"
   ]
  },
  {
   "cell_type": "markdown",
   "metadata": {},
   "source": [
    "We see that the omissions do not depend on each other and individually their share does not exceed 5%"
   ]
  },
  {
   "cell_type": "code",
   "execution_count": 25,
   "metadata": {},
   "outputs": [
    {
     "data": {
      "text/plain": [
       "24634"
      ]
     },
     "execution_count": 25,
     "metadata": {},
     "output_type": "execute_result"
    }
   ],
   "source": [
    "df_train = df_train.dropna()\n",
    "len(df_train)"
   ]
  },
  {
   "cell_type": "markdown",
   "metadata": {},
   "source": [
    "#### Checking categorical variables"
   ]
  },
  {
   "cell_type": "code",
   "execution_count": 26,
   "metadata": {},
   "outputs": [
    {
     "name": "stdout",
     "output_type": "stream",
     "text": [
      "Column name: arrival_date_month\n",
      "\n",
      "['July' 'August' 'September' 'October' 'November' 'December' 'January'\n",
      " 'February' 'March' 'April' 'May' 'June']\n",
      "['July' 'August' 'September' 'October' 'November' 'December' 'January'\n",
      " 'February' 'March' 'April' 'May' 'June']\n",
      "===========================\n",
      "Column name: meal\n",
      "\n",
      "['BB       ' 'FB       ' 'HB       ' 'SC       ' 'SC']\n",
      "['BB       ' 'HB       ' 'SC       ' 'FB       ']\n",
      "===========================\n",
      "Column name: country\n",
      "\n",
      "['GBR' 'PRT' 'ESP' 'IRL' 'FRA' 'ROU' 'NOR' 'USA' 'DEU' 'BEL' 'CHE' 'CN'\n",
      " 'GRC' 'NLD' 'ARG' 'RUS' 'SWE' 'POL' 'EST' 'CZE' 'ITA' 'FIN' 'DNK' 'MOZ'\n",
      " 'BWA' 'LUX' 'BRA' 'SVN' 'ALB' 'CHN' 'MEX' 'MAR' 'SMR' 'LVA' 'IND' 'CHL'\n",
      " 'AUT' 'LTU' 'TUR' 'ISR' 'CYM' 'AUS' 'CPV' 'ZWE' 'DZA' 'KOR' 'CRI' 'HUN'\n",
      " 'TUN' 'ARE' 'HRV' 'HKG' 'IRN' 'GIB' 'JEY' 'URY' 'ZAF' 'COL' 'GGY' 'KWT'\n",
      " 'NGA' 'MDV' 'FJI' 'LBN' 'PHL' 'SYC' 'AGO' 'CYP' 'KAZ' 'THA' 'DOM' 'BLR'\n",
      " 'VEN' 'UKR' 'ARM' 'JPN' 'LKA' 'MYS' 'BIH' 'MUS' 'OMN' 'SUR' 'JAM' 'BGR'\n",
      " 'CIV' 'SRB' 'JOR' 'SYR' 'PRI' 'SGP' 'BDI' 'SAU' 'VNM' 'AZE' 'PLW' 'NZL'\n",
      " 'EGY' 'CMR' 'MLT' 'SVK' 'MWI' 'MDG' 'IDN' 'ISL' 'CAF' 'UZB' 'NPL' 'BHS'\n",
      " 'CUB' 'PAK' 'MAC' 'TWN']\n",
      "['PRT' 'ITA' 'ESP' 'DEU' 'FRA' 'NLD' 'ROU' 'BRA' 'SWE' 'GBR' 'AUT' 'BEL'\n",
      " 'CHE' 'NOR' 'RUS' 'ISR' 'IRL' 'POL' 'CHN' 'USA' 'AGO' 'MAR' 'AUS' 'MOZ'\n",
      " 'TUN' 'DNK' 'MEX' 'GRC' 'DZA' 'COL' 'LUX' 'CN' 'LVA' 'FIN' 'HRV' 'STP'\n",
      " 'BGR' 'UKR' 'VEN' 'TWN' 'IRN' 'KOR' 'TUR' 'BLR' 'JPN' 'CZE' 'HUN' 'AZE'\n",
      " 'KAZ' 'IND' 'NZL' 'IDN' 'LTU' 'LBN' 'SRB' 'SVN' 'SVK' 'MYS' 'CMR' 'CHL'\n",
      " 'ARG' 'SGP' 'SEN' 'PER' 'EGY' 'SAU' 'KNA' 'JOR' 'ZAF' 'THA' 'KWT' 'LKA'\n",
      " 'ALB' 'ETH' 'PHL' 'ARE' 'ECU' 'OMN' 'IRQ' 'AND' 'CPV' 'MUS' 'HND' 'NGA'\n",
      " 'EST' 'PAK' 'GEO' 'GIB' 'ZMB' 'QAT' 'KHM' 'HKG' 'MCO' 'BGD' 'ISL' 'UZB'\n",
      " 'URY' 'IMN' 'TJK' 'ARM' 'MDV' 'NIC' 'GGY' 'BEN' 'MAC' 'CYP' 'VGB' 'MLT'\n",
      " 'CRI' 'TZA' 'JEY' 'GAB' 'MKD' 'BIH' 'VNM' 'TMP' 'GLP' 'KEN' 'PRI' 'DOM'\n",
      " 'LIE' 'GNB' 'BHR' 'MNE' 'UMI' 'MYT' 'CIV' 'ZWE' 'MMR' 'PAN' 'BFA' 'LBY'\n",
      " 'MLI' 'NAM' 'BOL' 'JAM' 'SYC' 'PRY' 'BRB' 'ABW' 'SLV' 'DMA' 'CUB' 'PYF'\n",
      " 'UGA' 'GUY' 'LCA' 'ATA' 'RWA' 'GTM' 'GHA' 'ASM' 'SYR' 'TGO' 'SUR' 'MRT'\n",
      " 'CAF' 'NCL' 'KIR' 'SDN' 'ATF' 'SLE' 'LAO' 'FRO']\n",
      "===========================\n",
      "Column name: distribution_channel\n",
      "\n",
      "['Direct' 'TA/TO' 'Corporate']\n",
      "['TA/TO' 'Direct' 'Corporate' 'GDS']\n",
      "===========================\n",
      "Column name: reserved_room_type\n",
      "\n",
      "['A               ' 'C               ' 'D               '\n",
      " 'E               ' 'G               ' 'F               '\n",
      " 'H               ' 'L               ' 'B               ']\n",
      "['A               ' 'B               ' 'D               '\n",
      " 'F               ' 'E               ' 'C               '\n",
      " 'G               ']\n",
      "===========================\n",
      "Column name: assigned_room_type\n",
      "\n",
      "['C               ' 'A               ' 'D               '\n",
      " 'E               ' 'G               ' 'F               '\n",
      " 'H               ' 'B               ' 'I               '\n",
      " 'L               ']\n",
      "['A               ' 'B               ' 'D               '\n",
      " 'G               ' 'F               ' 'E               '\n",
      " 'K               ' 'C               ']\n",
      "===========================\n",
      "Column name: customer_type\n",
      "\n",
      "['Transient' 'Contract' 'Transient-Party' 'Group']\n",
      "['Transient' 'Transient-Party' 'Contract' 'Group']\n",
      "===========================\n"
     ]
    }
   ],
   "source": [
    "for i in df_train.select_dtypes(include = ['object']).columns:\n",
    "    print(f'Column name: {i}')\n",
    "    print()\n",
    "    print((df_train[i].unique()))\n",
    "    print((df_test[i].unique()))\n",
    "    print('===========================')"
   ]
  },
  {
   "cell_type": "markdown",
   "metadata": {},
   "source": [
    "Remove the extra spaces in the columns `meal`, `reserved_room_type`, `assigned_room_type`"
   ]
  },
  {
   "cell_type": "code",
   "execution_count": 27,
   "metadata": {
    "scrolled": true
   },
   "outputs": [
    {
     "name": "stdout",
     "output_type": "stream",
     "text": [
      "['BB' 'FB' 'HB' 'SC']\n",
      "\n",
      "['A' 'C' 'D' 'E' 'G' 'F' 'H' 'L' 'B']\n",
      "\n",
      "['C' 'A' 'D' 'E' 'G' 'F' 'H' 'B' 'I' 'L']\n",
      "\n",
      "['BB' 'HB' 'SC' 'FB']\n",
      "\n",
      "['A' 'B' 'D' 'F' 'E' 'C' 'G']\n",
      "\n",
      "['A' 'B' 'D' 'G' 'F' 'E' 'K' 'C']\n",
      "\n"
     ]
    }
   ],
   "source": [
    "for i in [df_train, df_test]:\n",
    "    for j in ['meal', 'reserved_room_type', 'assigned_room_type']:\n",
    "        i[j] = i[j].replace(' ', '',regex = True)\n",
    "        print(i[j].unique())\n",
    "        print()"
   ]
  },
  {
   "cell_type": "markdown",
   "metadata": {},
   "source": [
    "*Check*"
   ]
  },
  {
   "cell_type": "code",
   "execution_count": 28,
   "metadata": {},
   "outputs": [
    {
     "data": {
      "text/plain": [
       "array(['BB', 'FB', 'HB', 'SC'], dtype=object)"
      ]
     },
     "execution_count": 28,
     "metadata": {},
     "output_type": "execute_result"
    }
   ],
   "source": [
    "df_train['meal'].unique()"
   ]
  },
  {
   "cell_type": "markdown",
   "metadata": {},
   "source": [
    "It should also be noted:\n",
    "- the training sample does not contain some values that occur in the test dataset.  Columns `distribution_channel` and `country' (if we learn regression and use One-Hot Encoding, this should be taken into account)\n",
    "- in the training sample in the field `reserved_room_type` there is a category of number **L** - according to the condition of the task, such a category does not exist \n",
    "- in the training sample in the field `assigned_room_type` there is a category of number **I, L** - according to the condition of the task, there is no such category \n",
    "- in the test sample in the field `assigned_room_type` there is a category of the number **K** - according to the condition of the task, there is no such category"
   ]
  },
  {
   "cell_type": "code",
   "execution_count": 29,
   "metadata": {},
   "outputs": [
    {
     "name": "stdout",
     "output_type": "stream",
     "text": [
      "Column name: arrival_date_month\n"
     ]
    },
    {
     "data": {
      "text/plain": [
       "array(['July', 'August', 'September', 'October', 'November', 'December',\n",
       "       'January', 'February', 'March', 'April', 'May', 'June'],\n",
       "      dtype=object)"
      ]
     },
     "metadata": {},
     "output_type": "display_data"
    },
    {
     "data": {
      "text/plain": [
       "array(['July', 'August', 'September', 'October', 'November', 'December',\n",
       "       'January', 'February', 'March', 'April', 'May', 'June'],\n",
       "      dtype=object)"
      ]
     },
     "metadata": {},
     "output_type": "display_data"
    },
    {
     "name": "stdout",
     "output_type": "stream",
     "text": [
      "Column name: meal\n"
     ]
    },
    {
     "data": {
      "text/plain": [
       "array(['BB', 'FB', 'HB', 'SC'], dtype=object)"
      ]
     },
     "metadata": {},
     "output_type": "display_data"
    },
    {
     "data": {
      "text/plain": [
       "array(['BB', 'HB', 'SC', 'FB'], dtype=object)"
      ]
     },
     "metadata": {},
     "output_type": "display_data"
    },
    {
     "name": "stdout",
     "output_type": "stream",
     "text": [
      "Column name: country\n"
     ]
    },
    {
     "data": {
      "text/plain": [
       "array(['GBR', 'PRT', 'ESP', 'IRL', 'FRA', 'ROU', 'NOR', 'USA', 'DEU',\n",
       "       'BEL', 'CHE', 'CN', 'GRC', 'NLD', 'ARG', 'RUS', 'SWE', 'POL',\n",
       "       'EST', 'CZE', 'ITA', 'FIN', 'DNK', 'MOZ', 'BWA', 'LUX', 'BRA',\n",
       "       'SVN', 'ALB', 'CHN', 'MEX', 'MAR', 'SMR', 'LVA', 'IND', 'CHL',\n",
       "       'AUT', 'LTU', 'TUR', 'ISR', 'CYM', 'AUS', 'CPV', 'ZWE', 'DZA',\n",
       "       'KOR', 'CRI', 'HUN', 'TUN', 'ARE', 'HRV', 'HKG', 'IRN', 'GIB',\n",
       "       'JEY', 'URY', 'ZAF', 'COL', 'GGY', 'KWT', 'NGA', 'MDV', 'FJI',\n",
       "       'LBN', 'PHL', 'SYC', 'AGO', 'CYP', 'KAZ', 'THA', 'DOM', 'BLR',\n",
       "       'VEN', 'UKR', 'ARM', 'JPN', 'LKA', 'MYS', 'BIH', 'MUS', 'OMN',\n",
       "       'SUR', 'JAM', 'BGR', 'CIV', 'SRB', 'JOR', 'SYR', 'PRI', 'SGP',\n",
       "       'BDI', 'SAU', 'VNM', 'AZE', 'PLW', 'NZL', 'EGY', 'CMR', 'MLT',\n",
       "       'SVK', 'MWI', 'MDG', 'IDN', 'ISL', 'CAF', 'UZB', 'NPL', 'BHS',\n",
       "       'CUB', 'PAK', 'MAC', 'TWN'], dtype=object)"
      ]
     },
     "metadata": {},
     "output_type": "display_data"
    },
    {
     "data": {
      "text/plain": [
       "array(['PRT', 'ITA', 'ESP', 'DEU', 'FRA', 'NLD', 'ROU', 'BRA', 'SWE',\n",
       "       'GBR', 'AUT', 'BEL', 'CHE', 'NOR', 'RUS', 'ISR', 'IRL', 'POL',\n",
       "       'CHN', 'USA', 'AGO', 'MAR', 'AUS', 'MOZ', 'TUN', 'DNK', 'MEX',\n",
       "       'GRC', 'DZA', 'COL', 'LUX', 'CN', 'LVA', 'FIN', 'HRV', 'STP',\n",
       "       'BGR', 'UKR', 'VEN', 'TWN', 'IRN', 'KOR', 'TUR', 'BLR', 'JPN',\n",
       "       'CZE', 'HUN', 'AZE', 'KAZ', 'IND', 'NZL', 'IDN', 'LTU', 'LBN',\n",
       "       'SRB', 'SVN', 'SVK', 'MYS', 'CMR', 'CHL', 'ARG', 'SGP', 'SEN',\n",
       "       'PER', 'EGY', 'SAU', 'KNA', 'JOR', 'ZAF', 'THA', 'KWT', 'LKA',\n",
       "       'ALB', 'ETH', 'PHL', 'ARE', 'ECU', 'OMN', 'IRQ', 'AND', 'CPV',\n",
       "       'MUS', 'HND', 'NGA', 'EST', 'PAK', 'GEO', 'GIB', 'ZMB', 'QAT',\n",
       "       'KHM', 'HKG', 'MCO', 'BGD', 'ISL', 'UZB', 'URY', 'IMN', 'TJK',\n",
       "       'ARM', 'MDV', 'NIC', 'GGY', 'BEN', 'MAC', 'CYP', 'VGB', 'MLT',\n",
       "       'CRI', 'TZA', 'JEY', 'GAB', 'MKD', 'BIH', 'VNM', 'TMP', 'GLP',\n",
       "       'KEN', 'PRI', 'DOM', 'LIE', 'GNB', 'BHR', 'MNE', 'UMI', 'MYT',\n",
       "       'CIV', 'ZWE', 'MMR', 'PAN', 'BFA', 'LBY', 'MLI', 'NAM', 'BOL',\n",
       "       'JAM', 'SYC', 'PRY', 'BRB', 'ABW', 'SLV', 'DMA', 'CUB', 'PYF',\n",
       "       'UGA', 'GUY', 'LCA', 'ATA', 'RWA', 'GTM', 'GHA', 'ASM', 'SYR',\n",
       "       'TGO', 'SUR', 'MRT', 'CAF', 'NCL', 'KIR', 'SDN', 'ATF', 'SLE',\n",
       "       'LAO', 'FRO'], dtype=object)"
      ]
     },
     "metadata": {},
     "output_type": "display_data"
    },
    {
     "name": "stdout",
     "output_type": "stream",
     "text": [
      "Column name: distribution_channel\n"
     ]
    },
    {
     "data": {
      "text/plain": [
       "array(['Direct', 'TA/TO', 'Corporate'], dtype=object)"
      ]
     },
     "metadata": {},
     "output_type": "display_data"
    },
    {
     "data": {
      "text/plain": [
       "array(['TA/TO', 'Direct', 'Corporate', 'GDS'], dtype=object)"
      ]
     },
     "metadata": {},
     "output_type": "display_data"
    },
    {
     "name": "stdout",
     "output_type": "stream",
     "text": [
      "Column name: reserved_room_type\n"
     ]
    },
    {
     "data": {
      "text/plain": [
       "array(['A', 'C', 'D', 'E', 'G', 'F', 'H', 'L', 'B'], dtype=object)"
      ]
     },
     "metadata": {},
     "output_type": "display_data"
    },
    {
     "data": {
      "text/plain": [
       "array(['A', 'B', 'D', 'F', 'E', 'C', 'G'], dtype=object)"
      ]
     },
     "metadata": {},
     "output_type": "display_data"
    },
    {
     "name": "stdout",
     "output_type": "stream",
     "text": [
      "Column name: assigned_room_type\n"
     ]
    },
    {
     "data": {
      "text/plain": [
       "array(['C', 'A', 'D', 'E', 'G', 'F', 'H', 'B', 'I', 'L'], dtype=object)"
      ]
     },
     "metadata": {},
     "output_type": "display_data"
    },
    {
     "data": {
      "text/plain": [
       "array(['A', 'B', 'D', 'G', 'F', 'E', 'K', 'C'], dtype=object)"
      ]
     },
     "metadata": {},
     "output_type": "display_data"
    },
    {
     "name": "stdout",
     "output_type": "stream",
     "text": [
      "Column name: customer_type\n"
     ]
    },
    {
     "data": {
      "text/plain": [
       "array(['Transient', 'Contract', 'Transient-Party', 'Group'], dtype=object)"
      ]
     },
     "metadata": {},
     "output_type": "display_data"
    },
    {
     "data": {
      "text/plain": [
       "array(['Transient', 'Transient-Party', 'Contract', 'Group'], dtype=object)"
      ]
     },
     "metadata": {},
     "output_type": "display_data"
    }
   ],
   "source": [
    "for i in df_train.select_dtypes(include = ['object']).columns:\n",
    "    print(f'Column name: {i}')\n",
    "    display((df_train[i].unique()))\n",
    "    display((df_test[i].unique()))"
   ]
  },
  {
   "cell_type": "code",
   "execution_count": 30,
   "metadata": {},
   "outputs": [
    {
     "data": {
      "text/plain": [
       "TA/TO        0.720183\n",
       "Direct       0.192133\n",
       "Corporate    0.087684\n",
       "Name: distribution_channel, dtype: float64"
      ]
     },
     "execution_count": 30,
     "metadata": {},
     "output_type": "execute_result"
    }
   ],
   "source": [
    "df_train['distribution_channel'].value_counts(normalize=True, dropna = False)"
   ]
  },
  {
   "cell_type": "code",
   "execution_count": 31,
   "metadata": {},
   "outputs": [
    {
     "data": {
      "text/plain": [
       "TA/TO        0.873291\n",
       "Direct       0.079623\n",
       "Corporate    0.044575\n",
       "GDS          0.002511\n",
       "Name: distribution_channel, dtype: float64"
      ]
     },
     "execution_count": 31,
     "metadata": {},
     "output_type": "execute_result"
    }
   ],
   "source": [
    "df_test['distribution_channel'].value_counts(normalize=True, dropna = False)"
   ]
  },
  {
   "cell_type": "code",
   "execution_count": 32,
   "metadata": {},
   "outputs": [
    {
     "name": "stdout",
     "output_type": "stream",
     "text": [
      "112\n",
      "164\n"
     ]
    }
   ],
   "source": [
    "print(len(df_train['country'].unique()))\n",
    "print(len(df_test['country'].unique()))"
   ]
  },
  {
   "cell_type": "markdown",
   "metadata": {},
   "source": [
    "Deleting unknown room categories:"
   ]
  },
  {
   "cell_type": "code",
   "execution_count": 33,
   "metadata": {},
   "outputs": [
    {
     "name": "stdout",
     "output_type": "stream",
     "text": [
      "24538\n",
      "['A' 'C' 'D' 'E' 'G' 'F' 'H' 'B']\n",
      "['C' 'A' 'D' 'E' 'G' 'F' 'H' 'B']\n",
      "73136\n",
      "['A' 'B' 'D' 'F' 'E' 'C' 'G']\n",
      "['A' 'B' 'D' 'G' 'F' 'E' 'C']\n"
     ]
    }
   ],
   "source": [
    "df_train = (df_train[(df_train['reserved_room_type'] != 'L') \n",
    "                        & (df_train['assigned_room_type'] != 'I') \n",
    "                        & (df_train['assigned_room_type'] != 'L')])\n",
    "\n",
    "df_test = df_test[df_test['assigned_room_type'] != 'K']\n",
    "\n",
    "print(len(df_train))\n",
    "print(df_train['reserved_room_type'].unique())\n",
    "print(df_train['assigned_room_type'].unique())\n",
    "\n",
    "print(len(df_test))\n",
    "print(df_test['reserved_room_type'].unique())\n",
    "print(df_test['assigned_room_type'].unique())"
   ]
  },
  {
   "cell_type": "markdown",
   "metadata": {},
   "source": [
    "#### Class balance for target attribute and parameter correlation\n",
    "\n",
    "Here it is necessary to indicate what will be in the future a sign that we will predict.  \n",
    "Based on the task condition, this is the fact of cancellation of the order - `is_canceled`"
   ]
  },
  {
   "cell_type": "code",
   "execution_count": 34,
   "metadata": {},
   "outputs": [
    {
     "name": "stdout",
     "output_type": "stream",
     "text": [
      "Number of rows in df_train by target: [17952  6586]\n",
      "Number of rows in df_test by target: [43012 30124]\n"
     ]
    }
   ],
   "source": [
    "print(f\"Number of rows in df_train by target: {np.bincount(df_train['is_canceled'])}\")\n",
    "print(f\"Number of rows in df_test by target: {np.bincount(df_test['is_canceled'])}\")"
   ]
  },
  {
   "cell_type": "markdown",
   "metadata": {},
   "source": [
    "Let 's evaluate the multicollinearity of the features  \n",
    "It is important to check whether there are strong correlations in the signs.\n",
    "After that, you need to make a decision about including one of the correlating features in the model. \n",
    "\n",
    "In general, such signs only interfere with each other and make the model heavier."
   ]
  },
  {
   "cell_type": "code",
   "execution_count": 35,
   "metadata": {},
   "outputs": [
    {
     "data": {
      "image/png": "[encoded data removed]",
      "text/plain": [
       "<Figure size 1440x1440 with 2 Axes>"
      ]
     },
     "metadata": {
      "needs_background": "light"
     },
     "output_type": "display_data"
    }
   ],
   "source": [
    "fig, ax = plt.subplots(figsize=(20,20))    \n",
    "\n",
    "sns.heatmap(df_train.corr(), annot = True,  ax = ax)\n",
    "plt.suptitle(\"Feature correlation\")\n",
    "plt.show()"
   ]
  },
  {
   "cell_type": "markdown",
   "metadata": {},
   "source": [
    "We see strong dependencies in the following pairs of variables:\n",
    "\n",
    "- `stays_in_week_nights` - `total_nights`\n",
    "- `stays_in_weekend_nights` - `total_nights`\n",
    "\n",
    "I suggest throwing out the following parameters:\n",
    "- Derived from **`total_nights`**\n",
    "       - `stays_in_week_nights`\n",
    "       - `stays_in_weekend_nights`\n",
    " \n",
    "**Because:**\n",
    "\n",
    "*Total number of nights = Number of nights on weekdays + Number of nights on weekends*"
   ]
  },
  {
   "cell_type": "code",
   "execution_count": 36,
   "metadata": {},
   "outputs": [],
   "source": [
    "df_train = df_train.drop(['stays_in_week_nights', 'stays_in_weekend_nights'], axis = 1)\n",
    "df_test = df_test.drop(['stays_in_week_nights', 'stays_in_weekend_nights'], axis = 1)"
   ]
  },
  {
   "cell_type": "markdown",
   "metadata": {},
   "source": [
    "**Conclusion**\n",
    "\n",
    "On this EDA and part of the pre-processing, I propose to consider it complete.\n",
    "\n",
    "- estimated the volume of obvious duplicates and justified why they should not be deleted\n",
    "- checked quantitative features in training and test sets and removed gaps in TDS\n",
    "- removed unnecessary categories in the training and test samples in the columns `reserved_room_type` and `assigned_room_type`\n",
    "- identified the target feature and checked the balance of classes\n",
    "- we checked the features for multicolleniarity in the training and test sets, removed the features:\n",
    "      - `stays_in_week_nights`\n",
    "      - `stays_in_weekend_nights`"
   ]
  },
  {
   "cell_type": "markdown",
   "metadata": {},
   "source": [
    "### Step 3. Formulation of the ML problem based on the business problem"
   ]
  },
  {
   "cell_type": "markdown",
   "metadata": {},
   "source": [
    "#### Setting a business problem"
   ]
  },
  {
   "cell_type": "markdown",
   "metadata": {},
   "source": [
    "**Main objective of the project:**\n",
    "\n",
    "Evaluation of the economic effect of the introduction of a machine learning model that will predict whether the client will refuse the booking or not.\n",
    "\n",
    "**Target variable:**\n",
    "\n",
    "Based on the statement of the problem, it follows that we will predict the indicator **`is_canceled`**\n",
    "\n",
    "**What type of problem is solved:**\n",
    "\n",
    "A binary feature is predicted, we solve the classification problem\n",
    "\n",
    "\n",
    "**Quality metric:**\n",
    "\n",
    "I propose to optimize `AUC-ROC`, also evaluating `recall` on the final model\n",
    "\n",
    "**Detailed description of the business task:**\n",
    "\n",
    "- The introduction of the model will be justified if the hotel's income, taking into account all costs, exceeds the income before the implementation of the model.\n",
    "- Efficiency evaluation is carried out **only** on a test sample\n",
    "\n",
    "$$Profit_0 < Profit_1$$\n",
    "\n",
    "Let's write in more detail:\n",
    "\n",
    "$$IncRoom_0 - ExpensRoom_0 - Cancel_0 < IncRoom_1 + Deposit_1 - ExpensRoom_1 - Cancel_1 - ExpensDev - Churn$$\n",
    "\n",
    "**Before the implementation of the model:**\n",
    "\n",
    "- $IncRoom_0$ - revenue from the room stock\n",
    "- $ExpensRoom_0$ - room cleaning expenses (rooms require cleaning every 2 days + one day before check-in)\n",
    "- $Cancel_0$ - losses from booking cancellation (cleaning price is fixed)\n",
    "\n",
    "**After model implementation:**\n",
    "\n",
    "- $IncRoom_1$ - proceeds from the number of rooms\n",
    "- $Deposit_1$ - deposit 80% of the price on the first day\n",
    "- $ExpensRoom_1$ - room cleaning expenses (rooms require cleaning every 2 days + one day before check-in)\n",
    "- $Cancel_1$ - losses from booking cancellation (cleaning price is fixed)\n",
    "- $ExpensDev$ - expenses for the development and implementation of the model\n",
    "- $Churn$ - churn from fp-error (*see note*)\n",
    "\n",
    "**`Churn note:`** *It is worth noting that the condition does not say anything about false-positive model errors, in real life this could lead to an outflow of \"good customers\", which we mistook for potential refusers and demanded an advance payment from them*"
   ]
  },
  {
   "cell_type": "markdown",
   "metadata": {},
   "source": [
    "#### Profit calculation on test data without model implementation"
   ]
  },
  {
   "cell_type": "markdown",
   "metadata": {},
   "source": [
    "**We need to use dictionaries (this data does not need to be passed to the model)**"
   ]
  },
  {
   "cell_type": "markdown",
   "metadata": {},
   "source": [
    "By the condition of the problem, we have two columns:\n",
    "  - that the client booked `reserved_room_type`\n",
    "  - and then where he drove in fact `assigned_room_type`\n",
    "\n",
    "(in some cases, room classes do not match)\n",
    " \n",
    "Obviously, the actual class of residence is more significant.\n",
    "\n",
    "Regarding the price, several cases are possible:\n",
    "   - the class of the room has not changed in any way (nothing needs to be changed here)\n",
    "   - the class of the room was upgraded upon check-in (for example, in the case of overbooking more affordable rooms, the client is unlikely to pay extra)\n",
    "   - the class of the room was downgraded upon check-in (I assume that the client will pay for the price of a cheaper class)\n",
    "\n",
    "those. if the class of the room has changed, you need to take the minimum price for the client's vacation.\n",
    "\n",
    "The cost of service costs in the event of a class change is calculated as the sum:\n",
    "  - the cost of cleaning the room that was booked\n",
    "  - the cost of daily cleaning of the room, which was actually provided"
   ]
  },
  {
   "cell_type": "markdown",
   "metadata": {},
   "source": [
    "***Estimation of the proportion of mismatches***"
   ]
  },
  {
   "cell_type": "code",
   "execution_count": 37,
   "metadata": {},
   "outputs": [
    {
     "data": {
      "text/plain": [
       "0.08850634434478233"
      ]
     },
     "execution_count": 37,
     "metadata": {},
     "output_type": "execute_result"
    }
   ],
   "source": [
    "len(df_test[df_test['reserved_room_type'] != df_test['assigned_room_type']]) / len(df_test)"
   ]
  },
  {
   "cell_type": "markdown",
   "metadata": {},
   "source": [
    "**Add the seasonality coefficients**"
   ]
  },
  {
   "cell_type": "code",
   "execution_count": 38,
   "metadata": {},
   "outputs": [],
   "source": [
    "df_test_profit_0 = (df_test\n",
    "        .merge(dict_coef[['mnth','k']], how = 'left', left_on= 'arrival_date_month', right_on = 'mnth')\n",
    "        .drop(['mnth'], axis = 1)\n",
    ").copy()"
   ]
  },
  {
   "cell_type": "markdown",
   "metadata": {},
   "source": [
    "**We add the cost of the room per night, highlighting the minimum from the booking and the fact**"
   ]
  },
  {
   "cell_type": "code",
   "execution_count": 39,
   "metadata": {},
   "outputs": [],
   "source": [
    "df_test_profit_0 = (df_test_profit_0\n",
    "        .merge(dict_categ, how = 'left', left_on= 'reserved_room_type', right_on = 'cat')\n",
    "        .drop(['cat'], axis = 1)\n",
    ")\n",
    "\n",
    "df_test_profit_0 = (df_test_profit_0\n",
    "        .merge(dict_categ, how = 'left', left_on= 'assigned_room_type', right_on = 'cat')\n",
    "        .drop(['cat'], axis = 1)\n",
    ")"
   ]
  },
  {
   "cell_type": "code",
   "execution_count": 40,
   "metadata": {},
   "outputs": [],
   "source": [
    "df_test_profit_0['prc'] = (\n",
    "       np.where(df_test_profit_0['prc_x'] > df_test_profit_0['prc_y'], \n",
    "                df_test_profit_0['prc_y'] , df_test_profit_0['prc_x'])\n",
    "        )"
   ]
  },
  {
   "cell_type": "markdown",
   "metadata": {},
   "source": [
    "***Check***"
   ]
  },
  {
   "cell_type": "code",
   "execution_count": 41,
   "metadata": {},
   "outputs": [
    {
     "data": {
      "text/html": [
       "<div>\n",
       "<style scoped>\n",
       "    .dataframe tbody tr th:only-of-type {\n",
       "        vertical-align: middle;\n",
       "    }\n",
       "\n",
       "    .dataframe tbody tr th {\n",
       "        vertical-align: top;\n",
       "    }\n",
       "\n",
       "    .dataframe thead th {\n",
       "        text-align: right;\n",
       "    }\n",
       "</style>\n",
       "<table border=\"1\" class=\"dataframe\">\n",
       "  <thead>\n",
       "    <tr style=\"text-align: right;\">\n",
       "      <th></th>\n",
       "      <th>reserved_room_type</th>\n",
       "      <th>assigned_room_type</th>\n",
       "      <th>prc_x</th>\n",
       "      <th>prc_y</th>\n",
       "      <th>prc</th>\n",
       "      <th>opt_x</th>\n",
       "      <th>opt_y</th>\n",
       "    </tr>\n",
       "  </thead>\n",
       "  <tbody>\n",
       "    <tr>\n",
       "      <th>218</th>\n",
       "      <td>A</td>\n",
       "      <td>D</td>\n",
       "      <td>1000</td>\n",
       "      <td>550</td>\n",
       "      <td>550</td>\n",
       "      <td>400</td>\n",
       "      <td>150</td>\n",
       "    </tr>\n",
       "    <tr>\n",
       "      <th>231</th>\n",
       "      <td>A</td>\n",
       "      <td>D</td>\n",
       "      <td>1000</td>\n",
       "      <td>550</td>\n",
       "      <td>550</td>\n",
       "      <td>400</td>\n",
       "      <td>150</td>\n",
       "    </tr>\n",
       "    <tr>\n",
       "      <th>233</th>\n",
       "      <td>A</td>\n",
       "      <td>D</td>\n",
       "      <td>1000</td>\n",
       "      <td>550</td>\n",
       "      <td>550</td>\n",
       "      <td>400</td>\n",
       "      <td>150</td>\n",
       "    </tr>\n",
       "    <tr>\n",
       "      <th>247</th>\n",
       "      <td>A</td>\n",
       "      <td>G</td>\n",
       "      <td>1000</td>\n",
       "      <td>350</td>\n",
       "      <td>350</td>\n",
       "      <td>400</td>\n",
       "      <td>150</td>\n",
       "    </tr>\n",
       "    <tr>\n",
       "      <th>260</th>\n",
       "      <td>A</td>\n",
       "      <td>D</td>\n",
       "      <td>1000</td>\n",
       "      <td>550</td>\n",
       "      <td>550</td>\n",
       "      <td>400</td>\n",
       "      <td>150</td>\n",
       "    </tr>\n",
       "    <tr>\n",
       "      <th>268</th>\n",
       "      <td>A</td>\n",
       "      <td>D</td>\n",
       "      <td>1000</td>\n",
       "      <td>550</td>\n",
       "      <td>550</td>\n",
       "      <td>400</td>\n",
       "      <td>150</td>\n",
       "    </tr>\n",
       "    <tr>\n",
       "      <th>269</th>\n",
       "      <td>A</td>\n",
       "      <td>D</td>\n",
       "      <td>1000</td>\n",
       "      <td>550</td>\n",
       "      <td>550</td>\n",
       "      <td>400</td>\n",
       "      <td>150</td>\n",
       "    </tr>\n",
       "    <tr>\n",
       "      <th>281</th>\n",
       "      <td>A</td>\n",
       "      <td>D</td>\n",
       "      <td>1000</td>\n",
       "      <td>550</td>\n",
       "      <td>550</td>\n",
       "      <td>400</td>\n",
       "      <td>150</td>\n",
       "    </tr>\n",
       "    <tr>\n",
       "      <th>282</th>\n",
       "      <td>A</td>\n",
       "      <td>D</td>\n",
       "      <td>1000</td>\n",
       "      <td>550</td>\n",
       "      <td>550</td>\n",
       "      <td>400</td>\n",
       "      <td>150</td>\n",
       "    </tr>\n",
       "    <tr>\n",
       "      <th>284</th>\n",
       "      <td>A</td>\n",
       "      <td>B</td>\n",
       "      <td>1000</td>\n",
       "      <td>800</td>\n",
       "      <td>800</td>\n",
       "      <td>400</td>\n",
       "      <td>250</td>\n",
       "    </tr>\n",
       "  </tbody>\n",
       "</table>\n",
       "</div>"
      ],
      "text/plain": [
       "    reserved_room_type assigned_room_type  prc_x  prc_y  prc  opt_x  opt_y\n",
       "218                  A                  D   1000    550  550    400    150\n",
       "231                  A                  D   1000    550  550    400    150\n",
       "233                  A                  D   1000    550  550    400    150\n",
       "247                  A                  G   1000    350  350    400    150\n",
       "260                  A                  D   1000    550  550    400    150\n",
       "268                  A                  D   1000    550  550    400    150\n",
       "269                  A                  D   1000    550  550    400    150\n",
       "281                  A                  D   1000    550  550    400    150\n",
       "282                  A                  D   1000    550  550    400    150\n",
       "284                  A                  B   1000    800  800    400    250"
      ]
     },
     "execution_count": 41,
     "metadata": {},
     "output_type": "execute_result"
    }
   ],
   "source": [
    "df_test_profit_0[df_test_profit_0['reserved_room_type'] != df_test_profit_0['assigned_room_type']]\\\n",
    "[['reserved_room_type','assigned_room_type','prc_x','prc_y','prc','opt_x','opt_y']].head(10)"
   ]
  },
  {
   "cell_type": "code",
   "execution_count": 42,
   "metadata": {},
   "outputs": [],
   "source": [
    "df_test_profit_0 = df_test_profit_0.drop(['prc_x', 'prc_y'], axis = 1).copy()"
   ]
  },
  {
   "cell_type": "markdown",
   "metadata": {},
   "source": [
    "**Now let's move on to calculating profit:**"
   ]
  },
  {
   "cell_type": "code",
   "execution_count": 43,
   "metadata": {},
   "outputs": [
    {
     "data": {
      "text/plain": [
       "129358920"
      ]
     },
     "execution_count": 43,
     "metadata": {},
     "output_type": "execute_result"
    }
   ],
   "source": [
    "IncRoom_0 = (int(\n",
    "                  (df_test_profit_0[df_test_profit_0['is_canceled'] == 0]['prc'] * \n",
    "                   df_test_profit_0[df_test_profit_0['is_canceled'] == 0]['k'] *\n",
    "                   df_test_profit_0[df_test_profit_0['is_canceled'] == 0]['total_nights']).sum()\n",
    "                  ))\n",
    "IncRoom_0"
   ]
  },
  {
   "cell_type": "code",
   "execution_count": 44,
   "metadata": {},
   "outputs": [
    {
     "data": {
      "text/plain": [
       "34683350"
      ]
     },
     "execution_count": 44,
     "metadata": {},
     "output_type": "execute_result"
    }
   ],
   "source": [
    "ExpensRoom_0 = (int((df_test_profit_0[df_test_profit_0['is_canceled'] == 0]['opt_x'] +\n",
    "                    (df_test_profit_0[df_test_profit_0['is_canceled'] == 0]['opt_y'] *\n",
    "                     df_test_profit_0[df_test_profit_0['is_canceled'] == 0]['total_nights'] // 2)\n",
    "                  ).sum()\n",
    "               ))\n",
    "ExpensRoom_0"
   ]
  },
  {
   "cell_type": "code",
   "execution_count": 45,
   "metadata": {},
   "outputs": [
    {
     "data": {
      "text/html": [
       "<div>\n",
       "<style scoped>\n",
       "    .dataframe tbody tr th:only-of-type {\n",
       "        vertical-align: middle;\n",
       "    }\n",
       "\n",
       "    .dataframe tbody tr th {\n",
       "        vertical-align: top;\n",
       "    }\n",
       "\n",
       "    .dataframe thead th {\n",
       "        text-align: right;\n",
       "    }\n",
       "</style>\n",
       "<table border=\"1\" class=\"dataframe\">\n",
       "  <thead>\n",
       "    <tr style=\"text-align: right;\">\n",
       "      <th></th>\n",
       "      <th>total_nights</th>\n",
       "      <th>clear</th>\n",
       "    </tr>\n",
       "  </thead>\n",
       "  <tbody>\n",
       "    <tr>\n",
       "      <th>0</th>\n",
       "      <td>4</td>\n",
       "      <td>2</td>\n",
       "    </tr>\n",
       "    <tr>\n",
       "      <th>1</th>\n",
       "      <td>4</td>\n",
       "      <td>2</td>\n",
       "    </tr>\n",
       "    <tr>\n",
       "      <th>2</th>\n",
       "      <td>6</td>\n",
       "      <td>3</td>\n",
       "    </tr>\n",
       "    <tr>\n",
       "      <th>3</th>\n",
       "      <td>2</td>\n",
       "      <td>1</td>\n",
       "    </tr>\n",
       "    <tr>\n",
       "      <th>4</th>\n",
       "      <td>3</td>\n",
       "      <td>1</td>\n",
       "    </tr>\n",
       "  </tbody>\n",
       "</table>\n",
       "</div>"
      ],
      "text/plain": [
       "   total_nights  clear\n",
       "0             4      2\n",
       "1             4      2\n",
       "2             6      3\n",
       "3             2      1\n",
       "4             3      1"
      ]
     },
     "execution_count": 45,
     "metadata": {},
     "output_type": "execute_result"
    }
   ],
   "source": [
    "# Проверка расчета числа уборок\n",
    "Q = df_test_profit_0.copy()\n",
    "Q['clear'] = Q['total_nights'] // 2\n",
    "Q[['total_nights','clear']].head(5)"
   ]
  },
  {
   "cell_type": "code",
   "execution_count": 46,
   "metadata": {},
   "outputs": [
    {
     "data": {
      "text/plain": [
       "10817400"
      ]
     },
     "execution_count": 46,
     "metadata": {},
     "output_type": "execute_result"
    }
   ],
   "source": [
    "Cancel_0 = int((df_test_profit_0[df_test_profit_0['is_canceled'] == 1]['opt_x']).sum())\n",
    "Cancel_0"
   ]
  },
  {
   "cell_type": "code",
   "execution_count": 47,
   "metadata": {},
   "outputs": [
    {
     "data": {
      "text/plain": [
       "83858170"
      ]
     },
     "execution_count": 47,
     "metadata": {},
     "output_type": "execute_result"
    }
   ],
   "source": [
    "Profit_0 = IncRoom_0 - ExpensRoom_0 - Cancel_0\n",
    "Profit_0"
   ]
  },
  {
   "cell_type": "markdown",
   "metadata": {},
   "source": [
    "**Conclusion:**\n",
    "- formulated the ML-task and described the logic of profit calculation before and after the implementation of the model\n",
    "- made a calculation of profit on test data without introducing a model\n",
    "\n",
    "For the ML part, we denoted:\n",
    "- type of problem being solved\n",
    "- target variable\n",
    "- a metric for assessing the quality of models"
   ]
  },
  {
   "cell_type": "markdown",
   "metadata": {},
   "source": [
    "### Step 4. Train the ML Model"
   ]
  },
  {
   "cell_type": "markdown",
   "metadata": {},
   "source": [
    "#### Encode categorical features"
   ]
  },
  {
   "cell_type": "code",
   "execution_count": 48,
   "metadata": {
    "scrolled": true
   },
   "outputs": [
    {
     "data": {
      "text/plain": [
       "(24538, 150)"
      ]
     },
     "execution_count": 48,
     "metadata": {},
     "output_type": "execute_result"
    }
   ],
   "source": [
    "ohe = OneHotEncoder(handle_unknown = 'ignore', sparse = False)\n",
    "\n",
    "feature_arr = ohe.fit_transform(df_train[df_train.select_dtypes(include = ['object']).columns])\n",
    "feature_labels = ohe.get_feature_names(df_train.select_dtypes(include = ['object']).columns)\n",
    "\n",
    "features_train = pd.DataFrame(feature_arr, columns = feature_labels)\n",
    "\n",
    "features_train.shape"
   ]
  },
  {
   "cell_type": "code",
   "execution_count": 49,
   "metadata": {},
   "outputs": [],
   "source": [
    "features_arr = ohe.transform(df_test[df_test.select_dtypes(include = ['object']).columns])\n",
    "features_test = pd.DataFrame(features_arr, columns = feature_labels)"
   ]
  },
  {
   "cell_type": "code",
   "execution_count": 50,
   "metadata": {},
   "outputs": [
    {
     "data": {
      "text/plain": [
       "(73136, 150)"
      ]
     },
     "execution_count": 50,
     "metadata": {},
     "output_type": "execute_result"
    }
   ],
   "source": [
    "features_test.shape"
   ]
  },
  {
   "cell_type": "markdown",
   "metadata": {},
   "source": [
    "Dimensions matched.\n",
    "\n",
    "We check the encoding on the variable **`distribution_channel`**"
   ]
  },
  {
   "cell_type": "code",
   "execution_count": 51,
   "metadata": {
    "scrolled": true
   },
   "outputs": [
    {
     "name": "stdout",
     "output_type": "stream",
     "text": [
      "['Direct' 'TA/TO' 'Corporate']\n",
      "['TA/TO' 'Direct' 'Corporate' 'GDS']\n"
     ]
    }
   ],
   "source": [
    "print(df_train['distribution_channel'].unique())\n",
    "print(df_test['distribution_channel'].unique())"
   ]
  },
  {
   "cell_type": "markdown",
   "metadata": {},
   "source": [
    "It can be seen that in the encoded train there are no rows where all values == 0, this is logical, we trained ohe on it."
   ]
  },
  {
   "cell_type": "code",
   "execution_count": 52,
   "metadata": {},
   "outputs": [
    {
     "data": {
      "text/plain": [
       "0"
      ]
     },
     "execution_count": 52,
     "metadata": {},
     "output_type": "execute_result"
    }
   ],
   "source": [
    "len(features_train[(features_train['distribution_channel_Corporate'] == 0) \n",
    "               & (features_train['distribution_channel_Direct'] == 0) \n",
    "              & (features_train['distribution_channel_TA/TO'] == 0)])"
   ]
  },
  {
   "cell_type": "markdown",
   "metadata": {},
   "source": [
    "It is clear that in the train, the number of rows where all recoded columns == 0 should be equal to the number of \"additional\" features that were absent in the train.\n",
    "\n",
    "So it turned out - the check was carried out successfully."
   ]
  },
  {
   "cell_type": "code",
   "execution_count": 53,
   "metadata": {
    "scrolled": true
   },
   "outputs": [
    {
     "data": {
      "text/plain": [
       "184"
      ]
     },
     "execution_count": 53,
     "metadata": {},
     "output_type": "execute_result"
    }
   ],
   "source": [
    "len(features_test[(features_test['distribution_channel_Corporate'] == 0) \n",
    "               & (features_test['distribution_channel_Direct'] == 0) \n",
    "              & (features_test['distribution_channel_TA/TO'] == 0)])"
   ]
  },
  {
   "cell_type": "code",
   "execution_count": 54,
   "metadata": {},
   "outputs": [
    {
     "data": {
      "text/plain": [
       "184"
      ]
     },
     "execution_count": 54,
     "metadata": {},
     "output_type": "execute_result"
    }
   ],
   "source": [
    "len(df_test[df_test['distribution_channel'] == 'GDS'])"
   ]
  },
  {
   "cell_type": "markdown",
   "metadata": {},
   "source": [
    "Now let's pull new features to the data (since we join by indexes, everything should be in order with them):"
   ]
  },
  {
   "cell_type": "code",
   "execution_count": 55,
   "metadata": {},
   "outputs": [],
   "source": [
    "df_train = df_train.reset_index(drop = True)\n",
    "df_test = df_test.reset_index(drop = True)"
   ]
  },
  {
   "cell_type": "code",
   "execution_count": 56,
   "metadata": {},
   "outputs": [],
   "source": [
    "df_train_ohe = df_train[df_train.select_dtypes(exclude = ['object']).columns].join(features_train)\n",
    "df_test_ohe =  df_test[df_test.select_dtypes(exclude = ['object']).columns].join(features_test)"
   ]
  },
  {
   "cell_type": "code",
   "execution_count": 57,
   "metadata": {},
   "outputs": [
    {
     "name": "stdout",
     "output_type": "stream",
     "text": [
      "(24538, 168)\n",
      "(73136, 168)\n"
     ]
    }
   ],
   "source": [
    "print(df_train_ohe.shape)\n",
    "print(df_test_ohe.shape)"
   ]
  },
  {
   "cell_type": "markdown",
   "metadata": {},
   "source": [
    "Let's break down the data into features and target:"
   ]
  },
  {
   "cell_type": "code",
   "execution_count": 58,
   "metadata": {},
   "outputs": [],
   "source": [
    "features_train_ohe = df_train_ohe.drop(['is_canceled'], axis = 1)\n",
    "target_train_ohe = df_train_ohe['is_canceled']\n",
    "\n",
    "features_test_ohe = df_test_ohe.drop(['is_canceled'], axis = 1)\n",
    "target_test_ohe =  df_test_ohe['is_canceled']"
   ]
  },
  {
   "cell_type": "markdown",
   "metadata": {},
   "source": [
    "#### Logistic regression"
   ]
  },
  {
   "cell_type": "markdown",
   "metadata": {},
   "source": [
    "For the algorithm to work adequately, we need to normalize the data."
   ]
  },
  {
   "cell_type": "code",
   "execution_count": 59,
   "metadata": {},
   "outputs": [],
   "source": [
    "scaler = StandardScaler()"
   ]
  },
  {
   "cell_type": "code",
   "execution_count": 60,
   "metadata": {},
   "outputs": [],
   "source": [
    "scaler.fit(features_train_ohe)\n",
    "\n",
    "features_train_ohe_sc = scaler.transform(features_train_ohe)\n",
    "features_test_ohe_sc = scaler.transform(features_test_ohe)"
   ]
  },
  {
   "cell_type": "code",
   "execution_count": 61,
   "metadata": {},
   "outputs": [],
   "source": [
    "model_lr = LogisticRegression(random_state = 12345, solver = 'liblinear')"
   ]
  },
  {
   "cell_type": "markdown",
   "metadata": {},
   "source": [
    "**Let's see the accuracy on cross-validation:**\n",
    "\n",
    "Validation shows how the model will behave with unfamiliar data. If the accuracy of predictions drops sharply, the model is overfitted."
   ]
  },
  {
   "cell_type": "code",
   "execution_count": null,
   "metadata": {},
   "outputs": [],
   "source": [
    "%%time\n",
    "\n",
    "scores_lr = np.array([])\n",
    "\n",
    "fold = KFold(n_splits = 5 , shuffle = True, random_state = 12345)\n",
    "scores_on_this_split = cross_val_score(\n",
    "            estimator = model_lr , X = features_train_ohe_sc, y = target_train_ohe,\n",
    "            cv = fold, scoring = 'roc_auc')\n",
    "scores_lr = np.append(scores_lr, scores_on_this_split)"
   ]
  },
  {
   "cell_type": "code",
   "execution_count": null,
   "metadata": {},
   "outputs": [],
   "source": [
    "scores_lr"
   ]
  },
  {
   "cell_type": "markdown",
   "metadata": {},
   "source": [
    "Let's train the model to compare with others and build a predict:"
   ]
  },
  {
   "cell_type": "code",
   "execution_count": null,
   "metadata": {},
   "outputs": [],
   "source": [
    "%%time\n",
    "\n",
    "model_lr.fit(features_train_ohe_sc, target_train_ohe)"
   ]
  },
  {
   "cell_type": "markdown",
   "metadata": {},
   "source": [
    "Let's take a look at the test data:"
   ]
  },
  {
   "cell_type": "code",
   "execution_count": null,
   "metadata": {},
   "outputs": [],
   "source": [
    "predicted_target_test_lr = model_lr.predict(features_test_ohe_sc)\n",
    "\n",
    "print(recall_score(target_test_ohe, predicted_target_test_lr))\n",
    "print(roc_auc_score(target_test_ohe, predicted_target_test_lr))"
   ]
  },
  {
   "cell_type": "markdown",
   "metadata": {},
   "source": [
    "#### Decision tree"
   ]
  },
  {
   "cell_type": "markdown",
   "metadata": {},
   "source": [
    "- in the decision tree and random forest algorithms, we do not need to normalize\n",
    "- however, we need to choose the best parameters for training in order to get a more accurate result"
   ]
  },
  {
   "cell_type": "code",
   "execution_count": null,
   "metadata": {},
   "outputs": [],
   "source": [
    "model_dtc = DecisionTreeClassifier(random_state = 12345, class_weight = 'balanced')"
   ]
  },
  {
   "cell_type": "markdown",
   "metadata": {},
   "source": [
    "**GridSearchCV** - we need it to search for optimal hyperparameters.\n",
    "\n",
    "In fact, this is a grid search for different values, the combination where the metric value will be maximum."
   ]
  },
  {
   "cell_type": "code",
   "execution_count": null,
   "metadata": {},
   "outputs": [],
   "source": [
    "param_grid_dtc = { \n",
    "    'max_depth' : [4,5,6,7,8,9,10,11,12,13,14,15]\n",
    "}"
   ]
  },
  {
   "cell_type": "code",
   "execution_count": null,
   "metadata": {},
   "outputs": [],
   "source": [
    "%%time\n",
    "\n",
    "CV_dtc = GridSearchCV(estimator = model_dtc, param_grid = param_grid_dtc, cv = 5, scoring = 'roc_auc')\n",
    "CV_dtc.fit(features_train_ohe, target_train_ohe)\n",
    "\n",
    "CV_dtc.best_params_"
   ]
  },
  {
   "cell_type": "markdown",
   "metadata": {},
   "source": [
    "We pass the parameters of our model:"
   ]
  },
  {
   "cell_type": "code",
   "execution_count": null,
   "metadata": {},
   "outputs": [],
   "source": [
    "model_dtc.set_params(**CV_dtc.best_params_)"
   ]
  },
  {
   "cell_type": "markdown",
   "metadata": {},
   "source": [
    "**Let's see the accuracy on cross-validation:**"
   ]
  },
  {
   "cell_type": "code",
   "execution_count": null,
   "metadata": {},
   "outputs": [],
   "source": [
    "%%time\n",
    "\n",
    "scores_dtc = np.array([])\n",
    "\n",
    "fold = KFold(n_splits = 5 , shuffle = True, random_state = 12345)\n",
    "scores_on_this_split = cross_val_score(\n",
    "            estimator = model_dtc , X = features_train_ohe, y = target_train_ohe,\n",
    "            cv = fold, scoring = 'roc_auc')\n",
    "scores_dtc = np.append(scores_dtc, scores_on_this_split)"
   ]
  },
  {
   "cell_type": "code",
   "execution_count": null,
   "metadata": {},
   "outputs": [],
   "source": [
    "scores_dtc"
   ]
  },
  {
   "cell_type": "markdown",
   "metadata": {},
   "source": [
    "Let's train the model to compare with others and build a predict:"
   ]
  },
  {
   "cell_type": "code",
   "execution_count": null,
   "metadata": {},
   "outputs": [],
   "source": [
    "model_dtc.fit(features_train_ohe, target_train_ohe)"
   ]
  },
  {
   "cell_type": "markdown",
   "metadata": {},
   "source": [
    "Let's take a look at the test data:"
   ]
  },
  {
   "cell_type": "code",
   "execution_count": null,
   "metadata": {},
   "outputs": [],
   "source": [
    "predicted_target_test_dtc = model_dtc.predict(features_test_ohe)\n",
    "\n",
    "print(recall_score(target_test_ohe, predicted_target_test_dtc))\n",
    "print(roc_auc_score(target_test_ohe, predicted_target_test_dtc))"
   ]
  },
  {
   "cell_type": "markdown",
   "metadata": {},
   "source": [
    "#### Random forest"
   ]
  },
  {
   "cell_type": "markdown",
   "metadata": {},
   "source": [
    "Here everything is similar to the decision tree"
   ]
  },
  {
   "cell_type": "code",
   "execution_count": null,
   "metadata": {},
   "outputs": [],
   "source": [
    "model_rfc = RandomForestClassifier(random_state = 12345, class_weight = 'balanced')"
   ]
  },
  {
   "cell_type": "code",
   "execution_count": null,
   "metadata": {},
   "outputs": [],
   "source": [
    "param_grid_rfc = { \n",
    "    'max_depth' : [4,5,6,7,8,9,10,11,12,13,14,15,16, 17, 18, 19, 20],\n",
    "    'n_estimators': [2, 3, 4, 5, 6, 7, 8, 9, 10, 11, 12, 13, 14, 15]\n",
    "}"
   ]
  },
  {
   "cell_type": "markdown",
   "metadata": {},
   "source": [
    "**GridSearchCV** - we need it to search for optimal hyperparameters.\n",
    "\n",
    "In fact, this is a grid search for different values, the combination where the metric value will be maximum."
   ]
  },
  {
   "cell_type": "code",
   "execution_count": null,
   "metadata": {},
   "outputs": [],
   "source": [
    "%%time\n",
    "\n",
    "CV_rfc = GridSearchCV(estimator = model_rfc, param_grid = param_grid_rfc, cv = 5, scoring='roc_auc')\n",
    "CV_rfc.fit(features_train_ohe, target_train_ohe)\n",
    "\n",
    "CV_rfc.best_params_"
   ]
  },
  {
   "cell_type": "code",
   "execution_count": null,
   "metadata": {},
   "outputs": [],
   "source": [
    "model_rfc.set_params(**CV_rfc.best_params_)"
   ]
  },
  {
   "cell_type": "markdown",
   "metadata": {},
   "source": [
    "**Let's see the accuracy on cross-validation:**"
   ]
  },
  {
   "cell_type": "code",
   "execution_count": null,
   "metadata": {},
   "outputs": [],
   "source": [
    "%%time\n",
    "\n",
    "scores_rfc = np.array([])\n",
    "\n",
    "fold = KFold(n_splits = 5 , shuffle = True, random_state = 12345)\n",
    "scores_on_this_split = cross_val_score(\n",
    "            estimator = model_rfc , X = features_train_ohe, y = target_train_ohe,\n",
    "            cv = fold, scoring = 'roc_auc')\n",
    "scores_rfc = np.append(scores_rfc, scores_on_this_split)"
   ]
  },
  {
   "cell_type": "code",
   "execution_count": null,
   "metadata": {},
   "outputs": [],
   "source": [
    "scores_rfc"
   ]
  },
  {
   "cell_type": "markdown",
   "metadata": {},
   "source": [
    "Let's train the model to compare with others and build a predict:"
   ]
  },
  {
   "cell_type": "code",
   "execution_count": null,
   "metadata": {},
   "outputs": [],
   "source": [
    "model_rfc.fit(features_train_ohe, target_train_ohe)"
   ]
  },
  {
   "cell_type": "markdown",
   "metadata": {},
   "source": [
    "Let's take a look at the test data:"
   ]
  },
  {
   "cell_type": "code",
   "execution_count": null,
   "metadata": {},
   "outputs": [],
   "source": [
    "predicted_target_test_rfc = model_rfc.predict(features_test_ohe)\n",
    "\n",
    "print(recall_score(target_test_ohe, predicted_target_test_rfc))\n",
    "print(roc_auc_score(target_test_ohe, predicted_target_test_rfc))"
   ]
  },
  {
   "cell_type": "markdown",
   "metadata": {},
   "source": [
    "Let's display the ROC curve graphically:"
   ]
  },
  {
   "cell_type": "code",
   "execution_count": null,
   "metadata": {},
   "outputs": [],
   "source": [
    "prediction_lr_tst_gr = model_lr.predict_proba(features_test_ohe_sc)\n",
    "prediction_lr_gr = prediction_lr_tst_gr[:,1]\n",
    "fpr_lr_gr, tpr_lr_gr, thd_lg_gr = roc_curve(target_test_ohe, prediction_lr_gr)\n",
    "\n",
    "prediction_dtc_tst_gr = model_dtc.predict_proba(features_test_ohe)\n",
    "prediction_dtc_gr = prediction_dtc_tst_gr[:,1]\n",
    "fpr_dtc_gr, tpr_dtc_gr, thd_dtc_gr = roc_curve(target_test_ohe, prediction_dtc_gr)\n",
    "\n",
    "prediction_rfc_tst_gr = model_rfc.predict_proba(features_test_ohe)\n",
    "prediction_rfc_gr = prediction_rfc_tst_gr[:,1]\n",
    "fpr_rfc_gr, tpr_rfc_gr, thd_rfc_gr = roc_curve(target_test_ohe, prediction_rfc_gr)"
   ]
  },
  {
   "cell_type": "code",
   "execution_count": null,
   "metadata": {},
   "outputs": [],
   "source": [
    "plt.figure()\n",
    "\n",
    "plt.figure(figsize = (8, 5))\n",
    "plt.plot([0, 1], [0, 1], linestyle = '--')\n",
    "plt.xlim([0.0, 1.0])\n",
    "plt.ylim([0.0, 1.0])\n",
    "\n",
    "plt.plot(fpr_lr_gr, tpr_lr_gr)\n",
    "plt.plot(fpr_dtc_gr, tpr_dtc_gr)\n",
    "plt.plot(fpr_rfc_gr, tpr_rfc_gr)\n",
    "\n",
    "plt.xlabel('False Positive Rate')\n",
    "plt.ylabel('True Positive Rate')\n",
    "plt.title('ROC-curve')\n",
    "\n",
    "plt.legend(('Random Model','Logistic Regression','Decision Tree', 'Random Forest'),\n",
    "           loc = 'lower right')\n",
    "\n",
    "plt.show()"
   ]
  },
  {
   "cell_type": "code",
   "execution_count": null,
   "metadata": {},
   "outputs": [],
   "source": [
    "print(\"Logistic Regression roc_auc_score:\", roc_auc_score(target_test_ohe, predicted_target_test_lr))\n",
    "print(\"Decision Tree roc_auc_score:\", roc_auc_score(target_test_ohe, predicted_target_test_dtc))\n",
    "print(\"Random Forest roc_auc_score:\",roc_auc_score(target_test_ohe, predicted_target_test_rfc))"
   ]
  },
  {
   "cell_type": "code",
   "execution_count": null,
   "metadata": {},
   "outputs": [],
   "source": [
    "print(\"Logistic Regression recall_score:\", recall_score(target_test_ohe, predicted_target_test_lr))\n",
    "print(\"Decision Tree recall_score:\", recall_score(target_test_ohe, predicted_target_test_dtc))\n",
    "print(\"Random Forest recall_score:\",recall_score(target_test_ohe, predicted_target_test_rfc))"
   ]
  },
  {
   "cell_type": "code",
   "execution_count": null,
   "metadata": {
    "scrolled": true
   },
   "outputs": [],
   "source": [
    "print(\"Logistic Regression precision_score:\", precision_score(target_test_ohe, predicted_target_test_lr))\n",
    "print(\"Decision Tree precision_score:\", precision_score(target_test_ohe, predicted_target_test_dtc))\n",
    "print(\"Random Forest precision_score:\",precision_score(target_test_ohe, predicted_target_test_rfc))"
   ]
  },
  {
   "cell_type": "markdown",
   "metadata": {},
   "source": [
    "I propose to consider the **`random forest`** as a more objective model, and we will calculate the possible economic effect from the implementation with it."
   ]
  },
  {
   "cell_type": "markdown",
   "metadata": {},
   "source": [
    "#### Economic effect from the implementation of the model"
   ]
  },
  {
   "cell_type": "code",
   "execution_count": null,
   "metadata": {
    "scrolled": true
   },
   "outputs": [],
   "source": [
    "df_test = df_test.reset_index(drop = True)"
   ]
  },
  {
   "cell_type": "code",
   "execution_count": null,
   "metadata": {},
   "outputs": [],
   "source": [
    "df_test_end = (pd.concat([df_test, pd.DataFrame(predicted_target_test_rfc,\n",
    "                                 columns = ['is_canceled_prd']).reindex(df_test.index)], axis=1))"
   ]
  },
  {
   "cell_type": "code",
   "execution_count": null,
   "metadata": {},
   "outputs": [],
   "source": [
    "df_test_end['true_prd'] = np.where(df_test_end['is_canceled'] == df_test_end['is_canceled_prd'], 1, 0)"
   ]
  },
  {
   "cell_type": "markdown",
   "metadata": {},
   "source": [
    "The total number of actual cancellation:"
   ]
  },
  {
   "cell_type": "code",
   "execution_count": null,
   "metadata": {},
   "outputs": [],
   "source": [
    "len(df_test_end[(df_test_end['is_canceled'] == 1)])"
   ]
  },
  {
   "cell_type": "markdown",
   "metadata": {},
   "source": [
    "The number of cancellations that the model flagged as cancellations:"
   ]
  },
  {
   "cell_type": "code",
   "execution_count": null,
   "metadata": {},
   "outputs": [],
   "source": [
    "len(df_test_end[(df_test_end['true_prd'] == 1) & (df_test_end['is_canceled'] == 1)])"
   ]
  },
  {
   "cell_type": "markdown",
   "metadata": {},
   "source": [
    "**Join the seasonality coefficients**"
   ]
  },
  {
   "cell_type": "code",
   "execution_count": null,
   "metadata": {},
   "outputs": [],
   "source": [
    "df_test_end = (df_test_end\n",
    "        .merge(dict_coef[['mnth','k']], how = 'left', left_on= 'arrival_date_month', right_on = 'mnth')\n",
    "        .drop(['mnth'], axis = 1)\n",
    ").copy()"
   ]
  },
  {
   "cell_type": "markdown",
   "metadata": {},
   "source": [
    "**Join the cost of the room per night, highlighting the minimum from the booking and the fact**"
   ]
  },
  {
   "cell_type": "code",
   "execution_count": null,
   "metadata": {},
   "outputs": [],
   "source": [
    "df_test_end = (df_test_end\n",
    "        .merge(dict_categ, how = 'left', left_on= 'reserved_room_type', right_on = 'cat')\n",
    "        .drop(['cat'], axis = 1)\n",
    ")\n",
    "\n",
    "df_test_end = (df_test_end\n",
    "        .merge(dict_categ, how = 'left', left_on= 'assigned_room_type', right_on = 'cat')\n",
    "        .drop(['cat'], axis = 1)\n",
    ")"
   ]
  },
  {
   "cell_type": "code",
   "execution_count": null,
   "metadata": {},
   "outputs": [],
   "source": [
    "df_test_end['prc'] = (\n",
    "       np.where(df_test_end['prc_x'] > df_test_end['prc_y'], \n",
    "                df_test_end['prc_y'] , df_test_end['prc_x'])\n",
    "        )"
   ]
  },
  {
   "cell_type": "code",
   "execution_count": null,
   "metadata": {},
   "outputs": [],
   "source": [
    "df_test_end = df_test_end.drop(['prc_x', 'prc_y'], axis = 1).copy()"
   ]
  },
  {
   "cell_type": "markdown",
   "metadata": {},
   "source": [
    "**Now let's move on to calculating profit:**"
   ]
  },
  {
   "cell_type": "markdown",
   "metadata": {},
   "source": [
    "$$Profit_1 = IncRoom_1 + Deposit_1 - ExpensRoom_1 - Cancel_1 - ExpensDev$$\n",
    "\n",
    "**After model implementation:**\n",
    "\n",
    "- $IncRoom_1$ - proceeds from the number of rooms\n",
    "- $Deposit_1$ - deposit 80% of the price on the first day\n",
    "- $ExpensRoom_1$ - room cleaning expenses (rooms require cleaning every 2 days + one day before check-in)\n",
    "- $Cancel_1$ - losses from booking cancellation (cleaning price is fixed)\n",
    "- $ExpensDev$ - expenses for the development and implementation of the model"
   ]
  },
  {
   "cell_type": "code",
   "execution_count": null,
   "metadata": {},
   "outputs": [],
   "source": [
    "IncRoom_1 = IncRoom_0\n",
    "IncRoom_1"
   ]
  },
  {
   "cell_type": "code",
   "execution_count": null,
   "metadata": {},
   "outputs": [],
   "source": [
    "Deposit_1 = (int(\n",
    "\n",
    "         (df_test_end[(df_test_end['true_prd'] == 1) \n",
    "                       & (df_test_end['is_canceled'] == 1)]['prc'] *\n",
    "         df_test_end[(df_test_end['true_prd'] == 1) \n",
    "                       & (df_test_end['is_canceled'] == 1)]['k'] * 0.8).sum()\n",
    "\n",
    "))\n",
    "Deposit_1"
   ]
  },
  {
   "cell_type": "markdown",
   "metadata": {},
   "source": [
    "The cost of servicing non-cancelled numbers does not change"
   ]
  },
  {
   "cell_type": "code",
   "execution_count": null,
   "metadata": {},
   "outputs": [],
   "source": [
    "ExpensRoom_1 = ExpensRoom_0"
   ]
  },
  {
   "cell_type": "markdown",
   "metadata": {},
   "source": [
    "Nothing happens to the cost of losses, because all the rooms are still cleaned."
   ]
  },
  {
   "cell_type": "code",
   "execution_count": null,
   "metadata": {},
   "outputs": [],
   "source": [
    "Cancel_1 = Cancel_0"
   ]
  },
  {
   "cell_type": "code",
   "execution_count": null,
   "metadata": {},
   "outputs": [],
   "source": [
    "ExpensDev = 400000"
   ]
  },
  {
   "cell_type": "code",
   "execution_count": null,
   "metadata": {},
   "outputs": [],
   "source": [
    "Profit_1 = IncRoom_1 - ExpensRoom_1 - Cancel_1 - ExpensDev + Deposit_1\n",
    "Profit_1"
   ]
  },
  {
   "cell_type": "code",
   "execution_count": null,
   "metadata": {},
   "outputs": [],
   "source": [
    "Profit_0"
   ]
  },
  {
   "cell_type": "code",
   "execution_count": null,
   "metadata": {},
   "outputs": [],
   "source": [
    "print('Economic effect from the implementation of the model', Profit_1 - Profit_0)\n",
    "print('Profit growth is, %:', round((Profit_1/Profit_0 - 1)*100 ,1))"
   ]
  },
  {
   "cell_type": "markdown",
   "metadata": {},
   "source": [
    "**Conclusion**\n",
    "- prepared data for training\n",
    "- trained three models (regression, random forest, decision tree):\n",
    "     - picked up GridSearchCV hyperparameters\n",
    "     - checked the quality of the model on cross-validation\n",
    "- chose the optimal model for implementation and justified its choice\n",
    "- calculated the economic effect from the implementation of the model"
   ]
  },
  {
   "cell_type": "markdown",
   "metadata": {},
   "source": [
    "### Step 5. Describe the portrait of an \"unreliable\" client"
   ]
  },
  {
   "cell_type": "code",
   "execution_count": null,
   "metadata": {},
   "outputs": [],
   "source": [
    "importances = model_rfc.feature_importances_\n",
    "forest_importances = pd.Series(importances, index = features_train_ohe.columns).sort_values(ascending = False)"
   ]
  },
  {
   "cell_type": "code",
   "execution_count": null,
   "metadata": {},
   "outputs": [],
   "source": [
    "forest_importances[:10].plot.bar()\n",
    "plt.show()"
   ]
  },
  {
   "cell_type": "markdown",
   "metadata": {},
   "source": [
    "Let's note the TOP-5 important features for the model:\n",
    "\n",
    "- `Country` - citizenship of the guest (**PRT or GBR**)\n",
    "- `LeadTime` - the number of days between the date of booking and the date of arrival\n",
    "- `RequiredCardParkingSpaces` - the need for space for the car\n",
    "- `Agent` — the agent through which the order was made\n",
    "- `CustomerType` (Transient) — not related to the contract or group arrival"
   ]
  },
  {
   "cell_type": "code",
   "execution_count": null,
   "metadata": {},
   "outputs": [],
   "source": [
    "df_test_end[df_test_end['is_canceled_prd'] == 1]['lead_time'].hist(bins = 10, figsize=(10, 3))\n",
    "plt.title('Unreliable client lead_time')\n",
    "plt.xlabel(\"lead_time, days\")\n",
    "plt.ylabel(\"Number of clients\")\n",
    "plt.show()"
   ]
  },
  {
   "cell_type": "markdown",
   "metadata": {},
   "source": [
    "- early booking customers are more likely to cancel"
   ]
  },
  {
   "cell_type": "code",
   "execution_count": null,
   "metadata": {},
   "outputs": [],
   "source": [
    "df_test_end[df_test_end['is_canceled_prd'] == 1]['required_car_parking_spaces'].value_counts()"
   ]
  },
  {
   "cell_type": "markdown",
   "metadata": {},
   "source": [
    "- they don't need a parking space"
   ]
  },
  {
   "cell_type": "code",
   "execution_count": null,
   "metadata": {},
   "outputs": [],
   "source": [
    "df_test_end[df_test_end['is_canceled_prd'] == 1]['agent'].hist(figsize=(10, 3))\n",
    "plt.title('Unreliable client agent')\n",
    "plt.xlabel(\"agent\")\n",
    "plt.ylabel(\"Number of clients\")\n",
    "plt.show()"
   ]
  },
  {
   "cell_type": "code",
   "execution_count": null,
   "metadata": {},
   "outputs": [],
   "source": [
    "df_test_end[df_test_end['is_canceled_prd'] == 1]['agent'].value_counts()[:5]"
   ]
  },
  {
   "cell_type": "markdown",
   "metadata": {},
   "source": [
    "- come from agents 1, 9, 999"
   ]
  },
  {
   "cell_type": "markdown",
   "metadata": {},
   "source": [
    "**Conclusion**\n",
    "\n",
    "Clients who should be most suspicious of rejection are:\n",
    "   - from PRT or GBR\n",
    "   - without requesting a parking space\n",
    "   - with a reservation no more than 2 months before arrival\n",
    "   - from agents 1, 9, 999\n",
    "   - type of client - transient - not associated with a legal entity agreement or a group check-in"
   ]
  },
  {
   "cell_type": "markdown",
   "metadata": {},
   "source": [
    "### General conclusion"
   ]
  },
  {
   "cell_type": "markdown",
   "metadata": {},
   "source": [
    "As part of the work, the following stages were carried out:\n",
    "   - preprocessing and exploratory data analysis\n",
    "        - processing of passes and duplicates\n",
    "        - adjustment of categorical features\n",
    "        - assessment of multicolleniarity and balance of classes by the target variable\n",
    "   - the business task was considered in detail, the main indicators for calculating the company's profit were identified\n",
    "   - Based on the business task, an ML task was formulated:\n",
    "        - the type of the problem being solved is indicated\n",
    "        - model quality parameter selected\n",
    "   - models of regression, decision tree and random forest were built (optimal hyperparameters were selected for the last two)\n",
    "   - the final economic effect from the implementation of the model was calculated\n",
    "   - a portrait of an unreliable client was compiled based on the importance of parameters when training the model"
   ]
  }
 ],
 "metadata": {
  "ExecuteTimeLog": [
   {
    "duration": 1500,
    "start_time": "2021-11-03T21:29:49.973Z"
   },
   {
    "duration": 841,
    "start_time": "2021-11-03T21:34:37.255Z"
   },
   {
    "duration": 26,
    "start_time": "2021-11-03T21:34:45.974Z"
   },
   {
    "duration": 34,
    "start_time": "2021-11-03T21:35:20.153Z"
   },
   {
    "duration": 27,
    "start_time": "2021-11-03T21:35:50.599Z"
   },
   {
    "duration": 93,
    "start_time": "2021-11-03T21:37:22.135Z"
   },
   {
    "duration": 53,
    "start_time": "2021-11-03T21:37:44.382Z"
   },
   {
    "duration": 88,
    "start_time": "2021-11-03T21:38:39.726Z"
   },
   {
    "duration": 35,
    "start_time": "2021-11-03T21:38:56.472Z"
   },
   {
    "duration": 110,
    "start_time": "2021-11-03T21:40:07.241Z"
   },
   {
    "duration": 132,
    "start_time": "2021-11-03T21:40:07.880Z"
   },
   {
    "duration": 3043,
    "start_time": "2021-11-03T21:40:48.569Z"
   },
   {
    "duration": 3816,
    "start_time": "2021-11-03T21:41:00.021Z"
   },
   {
    "duration": 30,
    "start_time": "2021-11-04T05:59:55.978Z"
   },
   {
    "duration": 34,
    "start_time": "2021-11-04T06:00:19.858Z"
   },
   {
    "duration": 399,
    "start_time": "2021-11-04T06:09:59.338Z"
   },
   {
    "duration": 268,
    "start_time": "2021-11-04T06:10:21.719Z"
   },
   {
    "duration": 50,
    "start_time": "2021-11-04T06:11:19.107Z"
   },
   {
    "duration": 84,
    "start_time": "2021-11-04T06:11:20.203Z"
   },
   {
    "duration": 106,
    "start_time": "2021-11-04T06:11:20.520Z"
   },
   {
    "duration": 24,
    "start_time": "2021-11-04T06:13:09.912Z"
   },
   {
    "duration": 31,
    "start_time": "2021-11-04T06:13:10.999Z"
   },
   {
    "duration": 30,
    "start_time": "2021-11-04T06:16:37.911Z"
   },
   {
    "duration": 30,
    "start_time": "2021-11-04T06:16:56.351Z"
   },
   {
    "duration": 18,
    "start_time": "2021-11-04T06:17:22.952Z"
   },
   {
    "duration": 19,
    "start_time": "2021-11-04T06:17:31.790Z"
   },
   {
    "duration": 36,
    "start_time": "2021-11-04T06:19:52.347Z"
   },
   {
    "duration": 34,
    "start_time": "2021-11-04T06:20:02.901Z"
   },
   {
    "duration": 67,
    "start_time": "2021-11-04T06:20:30.004Z"
   },
   {
    "duration": 63,
    "start_time": "2021-11-04T06:21:43.176Z"
   },
   {
    "duration": 29,
    "start_time": "2021-11-04T06:37:42.310Z"
   },
   {
    "duration": 26,
    "start_time": "2021-11-04T06:37:55.361Z"
   },
   {
    "duration": 16,
    "start_time": "2021-11-04T06:38:11.341Z"
   },
   {
    "duration": 28,
    "start_time": "2021-11-04T06:38:25.248Z"
   },
   {
    "duration": 29,
    "start_time": "2021-11-04T06:38:36.675Z"
   },
   {
    "duration": 27,
    "start_time": "2021-11-04T06:38:57.553Z"
   },
   {
    "duration": 46,
    "start_time": "2021-11-04T06:39:37.572Z"
   },
   {
    "duration": 307,
    "start_time": "2021-11-04T06:40:13.224Z"
   },
   {
    "duration": 283,
    "start_time": "2021-11-04T06:41:10.236Z"
   },
   {
    "duration": 92,
    "start_time": "2021-11-04T06:41:22.861Z"
   },
   {
    "duration": 275,
    "start_time": "2021-11-04T06:41:33.390Z"
   },
   {
    "duration": 289,
    "start_time": "2021-11-04T06:42:37.106Z"
   },
   {
    "duration": 284,
    "start_time": "2021-11-04T06:43:12.822Z"
   },
   {
    "duration": 47,
    "start_time": "2021-11-04T06:43:39.331Z"
   },
   {
    "duration": 50,
    "start_time": "2021-11-04T06:45:44.295Z"
   },
   {
    "duration": 55,
    "start_time": "2021-11-04T06:45:51.929Z"
   },
   {
    "duration": 52,
    "start_time": "2021-11-04T06:46:06.407Z"
   },
   {
    "duration": 54,
    "start_time": "2021-11-04T06:46:15.299Z"
   },
   {
    "duration": 8,
    "start_time": "2021-11-04T06:48:31.239Z"
   },
   {
    "duration": 7,
    "start_time": "2021-11-04T06:48:37.948Z"
   },
   {
    "duration": 267,
    "start_time": "2021-11-04T06:48:58.175Z"
   },
   {
    "duration": 13,
    "start_time": "2021-11-04T06:49:33.213Z"
   },
   {
    "duration": 265,
    "start_time": "2021-11-04T06:49:47.983Z"
   },
   {
    "duration": 11,
    "start_time": "2021-11-04T06:50:04.152Z"
   },
   {
    "duration": 11,
    "start_time": "2021-11-04T06:51:01.342Z"
   },
   {
    "duration": 13,
    "start_time": "2021-11-04T06:51:11.575Z"
   },
   {
    "duration": 11,
    "start_time": "2021-11-04T06:51:30.395Z"
   },
   {
    "duration": 10,
    "start_time": "2021-11-04T06:51:35.453Z"
   },
   {
    "duration": 11,
    "start_time": "2021-11-04T06:51:56.230Z"
   },
   {
    "duration": 13,
    "start_time": "2021-11-04T06:51:56.737Z"
   },
   {
    "duration": 452,
    "start_time": "2021-11-04T06:54:04.308Z"
   },
   {
    "duration": 478,
    "start_time": "2021-11-04T06:54:16.149Z"
   },
   {
    "duration": 485,
    "start_time": "2021-11-04T06:55:32.468Z"
   },
   {
    "duration": 49,
    "start_time": "2021-11-04T06:56:13.882Z"
   },
   {
    "duration": 43,
    "start_time": "2021-11-04T07:25:19.473Z"
   },
   {
    "duration": 112,
    "start_time": "2021-11-04T07:25:34.353Z"
   },
   {
    "duration": 8,
    "start_time": "2021-11-04T07:26:08.068Z"
   },
   {
    "duration": 348,
    "start_time": "2021-11-04T07:26:08.625Z"
   },
   {
    "duration": 32,
    "start_time": "2021-11-04T07:26:08.975Z"
   },
   {
    "duration": 29,
    "start_time": "2021-11-04T07:26:09.022Z"
   },
   {
    "duration": 49,
    "start_time": "2021-11-04T07:26:09.429Z"
   },
   {
    "duration": 49,
    "start_time": "2021-11-04T07:26:09.900Z"
   },
   {
    "duration": 79,
    "start_time": "2021-11-04T07:26:10.707Z"
   },
   {
    "duration": 78,
    "start_time": "2021-11-04T07:26:11.150Z"
   },
   {
    "duration": 23,
    "start_time": "2021-11-04T07:26:12.115Z"
   },
   {
    "duration": 29,
    "start_time": "2021-11-04T07:26:13.315Z"
   },
   {
    "duration": 66,
    "start_time": "2021-11-04T07:26:13.863Z"
   },
   {
    "duration": 105,
    "start_time": "2021-11-04T07:26:15.324Z"
   },
   {
    "duration": 57,
    "start_time": "2021-11-04T07:26:21.468Z"
   },
   {
    "duration": 93,
    "start_time": "2021-11-04T07:26:44.434Z"
   },
   {
    "duration": 58,
    "start_time": "2021-11-04T07:27:32.283Z"
   },
   {
    "duration": 42,
    "start_time": "2021-11-04T07:27:48.950Z"
   },
   {
    "duration": 91,
    "start_time": "2021-11-04T07:27:53.820Z"
   },
   {
    "duration": 86,
    "start_time": "2021-11-04T07:29:41.574Z"
   },
   {
    "duration": 114,
    "start_time": "2021-11-04T07:29:54.522Z"
   },
   {
    "duration": 104,
    "start_time": "2021-11-04T07:30:02.069Z"
   },
   {
    "duration": 100,
    "start_time": "2021-11-04T07:34:27.448Z"
   },
   {
    "duration": 94,
    "start_time": "2021-11-04T07:34:31.584Z"
   },
   {
    "duration": 43,
    "start_time": "2021-11-04T07:34:49.308Z"
   },
   {
    "duration": 59,
    "start_time": "2021-11-04T07:35:00.108Z"
   },
   {
    "duration": 104,
    "start_time": "2021-11-04T07:35:12.994Z"
   },
   {
    "duration": 16,
    "start_time": "2021-11-04T07:37:42.572Z"
   },
   {
    "duration": 34,
    "start_time": "2021-11-04T07:37:51.613Z"
   },
   {
    "duration": 33,
    "start_time": "2021-11-04T07:38:18.519Z"
   },
   {
    "duration": 287,
    "start_time": "2021-11-04T07:38:30.761Z"
   },
   {
    "duration": 291,
    "start_time": "2021-11-04T07:38:44.043Z"
   },
   {
    "duration": 33,
    "start_time": "2021-11-04T07:38:54.302Z"
   },
   {
    "duration": 280,
    "start_time": "2021-11-04T07:39:11.506Z"
   },
   {
    "duration": 44,
    "start_time": "2021-11-04T07:39:21.360Z"
   },
   {
    "duration": 16,
    "start_time": "2021-11-04T07:39:27.089Z"
   },
   {
    "duration": 35,
    "start_time": "2021-11-04T07:39:39.028Z"
   },
   {
    "duration": 17,
    "start_time": "2021-11-04T07:40:14.908Z"
   },
   {
    "duration": 21,
    "start_time": "2021-11-04T07:40:23.263Z"
   },
   {
    "duration": 35,
    "start_time": "2021-11-04T07:40:32.141Z"
   },
   {
    "duration": 15,
    "start_time": "2021-11-04T07:41:38.708Z"
   },
   {
    "duration": 263,
    "start_time": "2021-11-04T07:41:55.567Z"
   },
   {
    "duration": 297,
    "start_time": "2021-11-04T07:42:01.816Z"
   },
   {
    "duration": 343,
    "start_time": "2021-11-04T07:42:16.221Z"
   },
   {
    "duration": 7,
    "start_time": "2021-11-04T07:42:20.493Z"
   },
   {
    "duration": 13,
    "start_time": "2021-11-04T07:42:24.298Z"
   },
   {
    "duration": 12,
    "start_time": "2021-11-04T07:42:30.743Z"
   },
   {
    "duration": 256,
    "start_time": "2021-11-04T07:42:53.120Z"
   },
   {
    "duration": 248,
    "start_time": "2021-11-04T07:43:02.280Z"
   },
   {
    "duration": 262,
    "start_time": "2021-11-04T07:43:18.714Z"
   },
   {
    "duration": 9,
    "start_time": "2021-11-04T07:43:27.097Z"
   },
   {
    "duration": 9,
    "start_time": "2021-11-04T07:43:36.884Z"
   },
   {
    "duration": 100,
    "start_time": "2021-11-04T07:44:16.967Z"
   },
   {
    "duration": 16,
    "start_time": "2021-11-04T07:44:21.878Z"
   },
   {
    "duration": 21,
    "start_time": "2021-11-04T07:44:42.857Z"
   },
   {
    "duration": 34,
    "start_time": "2021-11-04T07:45:29.379Z"
   },
   {
    "duration": 44,
    "start_time": "2021-11-04T07:45:36.632Z"
   },
   {
    "duration": 18,
    "start_time": "2021-11-04T07:46:31.427Z"
   },
   {
    "duration": 46,
    "start_time": "2021-11-04T07:46:53.672Z"
   },
   {
    "duration": 278,
    "start_time": "2021-11-04T07:47:10.158Z"
   },
   {
    "duration": 57,
    "start_time": "2021-11-04T07:47:31.499Z"
   },
   {
    "duration": 265,
    "start_time": "2021-11-04T07:49:20.891Z"
   },
   {
    "duration": 7,
    "start_time": "2021-11-04T07:50:05.146Z"
   },
   {
    "duration": 7,
    "start_time": "2021-11-04T07:50:18.984Z"
   },
   {
    "duration": 279,
    "start_time": "2021-11-04T07:52:23.436Z"
   },
   {
    "duration": 7,
    "start_time": "2021-11-04T07:52:38.330Z"
   },
   {
    "duration": 5,
    "start_time": "2021-11-04T07:52:45.203Z"
   },
   {
    "duration": 8,
    "start_time": "2021-11-04T07:52:48.399Z"
   },
   {
    "duration": 265,
    "start_time": "2021-11-04T07:52:58.437Z"
   },
   {
    "duration": 247,
    "start_time": "2021-11-04T07:53:08.471Z"
   },
   {
    "duration": 381,
    "start_time": "2021-11-04T07:53:11.057Z"
   },
   {
    "duration": 8,
    "start_time": "2021-11-04T07:53:14.550Z"
   },
   {
    "duration": 252,
    "start_time": "2021-11-04T07:53:25.431Z"
   },
   {
    "duration": 296,
    "start_time": "2021-11-04T07:53:32.687Z"
   },
   {
    "duration": 8,
    "start_time": "2021-11-04T07:53:38.114Z"
   },
   {
    "duration": 10,
    "start_time": "2021-11-04T07:55:10.929Z"
   },
   {
    "duration": 8,
    "start_time": "2021-11-04T07:55:20.738Z"
   },
   {
    "duration": 8,
    "start_time": "2021-11-04T07:55:27.312Z"
   },
   {
    "duration": 7,
    "start_time": "2021-11-04T07:55:39.009Z"
   },
   {
    "duration": 390,
    "start_time": "2021-11-04T07:55:53.463Z"
   },
   {
    "duration": 9,
    "start_time": "2021-11-04T07:56:19.083Z"
   },
   {
    "duration": 258,
    "start_time": "2021-11-04T07:56:44.714Z"
   },
   {
    "duration": 4,
    "start_time": "2021-11-04T07:56:53.343Z"
   },
   {
    "duration": 87,
    "start_time": "2021-11-04T07:56:59.063Z"
   },
   {
    "duration": 9,
    "start_time": "2021-11-04T07:57:02.942Z"
   },
   {
    "duration": 7,
    "start_time": "2021-11-04T07:58:41.697Z"
   },
   {
    "duration": 92,
    "start_time": "2021-11-04T08:00:07.969Z"
   },
   {
    "duration": 28,
    "start_time": "2021-11-04T08:00:11.428Z"
   },
   {
    "duration": 94,
    "start_time": "2021-11-04T08:01:28.299Z"
   },
   {
    "duration": 87,
    "start_time": "2021-11-04T08:01:39.837Z"
   },
   {
    "duration": 116,
    "start_time": "2021-11-04T08:01:45.802Z"
   },
   {
    "duration": 15,
    "start_time": "2021-11-04T08:01:58.785Z"
   },
   {
    "duration": 37,
    "start_time": "2021-11-04T08:02:03.827Z"
   },
   {
    "duration": 16,
    "start_time": "2021-11-04T08:02:08.849Z"
   },
   {
    "duration": 24,
    "start_time": "2021-11-04T08:02:30.740Z"
   },
   {
    "duration": 294,
    "start_time": "2021-11-04T08:03:46.834Z"
   },
   {
    "duration": 30,
    "start_time": "2021-11-04T08:03:51.903Z"
   },
   {
    "duration": 25,
    "start_time": "2021-11-04T08:04:32.164Z"
   },
   {
    "duration": 26,
    "start_time": "2021-11-04T08:04:49.734Z"
   },
   {
    "duration": 144,
    "start_time": "2021-11-04T08:09:24.149Z"
   },
   {
    "duration": 28,
    "start_time": "2021-11-04T08:11:07.726Z"
   },
   {
    "duration": 16,
    "start_time": "2021-11-04T08:11:21.177Z"
   },
   {
    "duration": 14,
    "start_time": "2021-11-04T11:15:38.045Z"
   },
   {
    "duration": 10,
    "start_time": "2021-11-04T11:16:15.610Z"
   },
   {
    "duration": 8,
    "start_time": "2021-11-04T11:16:32.064Z"
   },
   {
    "duration": 14,
    "start_time": "2021-11-04T11:16:41.904Z"
   },
   {
    "duration": 7,
    "start_time": "2021-11-04T11:16:42.911Z"
   },
   {
    "duration": 31,
    "start_time": "2021-11-04T11:17:11.306Z"
   },
   {
    "duration": 25,
    "start_time": "2021-11-04T11:17:30.784Z"
   },
   {
    "duration": 34,
    "start_time": "2021-11-04T11:18:15.320Z"
   },
   {
    "duration": 412,
    "start_time": "2021-11-04T11:18:33.592Z"
   },
   {
    "duration": 41,
    "start_time": "2021-11-04T11:18:34.007Z"
   },
   {
    "duration": 29,
    "start_time": "2021-11-04T11:18:34.051Z"
   },
   {
    "duration": 57,
    "start_time": "2021-11-04T11:18:34.216Z"
   },
   {
    "duration": 48,
    "start_time": "2021-11-04T11:18:34.457Z"
   },
   {
    "duration": 88,
    "start_time": "2021-11-04T11:18:34.758Z"
   },
   {
    "duration": 125,
    "start_time": "2021-11-04T11:18:34.908Z"
   },
   {
    "duration": 39,
    "start_time": "2021-11-04T11:18:35.202Z"
   },
   {
    "duration": 30,
    "start_time": "2021-11-04T11:18:35.490Z"
   },
   {
    "duration": 20,
    "start_time": "2021-11-04T11:18:35.825Z"
   },
   {
    "duration": 73,
    "start_time": "2021-11-04T11:18:36.580Z"
   },
   {
    "duration": 213,
    "start_time": "2021-11-04T11:18:36.929Z"
   },
   {
    "duration": 58,
    "start_time": "2021-11-04T11:18:38.058Z"
   },
   {
    "duration": 13,
    "start_time": "2021-11-04T11:18:38.978Z"
   },
   {
    "duration": 15,
    "start_time": "2021-11-04T11:18:39.694Z"
   },
   {
    "duration": 58,
    "start_time": "2021-11-04T11:18:40.800Z"
   },
   {
    "duration": 12,
    "start_time": "2021-11-04T11:19:09.733Z"
   },
   {
    "duration": 39,
    "start_time": "2021-11-04T11:20:08.171Z"
   },
   {
    "duration": 221,
    "start_time": "2021-11-04T11:20:20.440Z"
   },
   {
    "duration": 17,
    "start_time": "2021-11-04T11:20:41.927Z"
   },
   {
    "duration": 8,
    "start_time": "2021-11-04T11:20:54.902Z"
   },
   {
    "duration": 104,
    "start_time": "2021-11-04T11:21:06.651Z"
   },
   {
    "duration": 90,
    "start_time": "2021-11-04T11:45:25.785Z"
   },
   {
    "duration": 97,
    "start_time": "2021-11-04T11:45:30.142Z"
   },
   {
    "duration": 16,
    "start_time": "2021-11-04T11:45:35.556Z"
   },
   {
    "duration": 9,
    "start_time": "2021-11-04T11:46:15.731Z"
   },
   {
    "duration": 144,
    "start_time": "2021-11-04T11:46:42.601Z"
   },
   {
    "duration": 84,
    "start_time": "2021-11-04T11:46:58.989Z"
   },
   {
    "duration": 9,
    "start_time": "2021-11-04T11:47:08.061Z"
   },
   {
    "duration": 12,
    "start_time": "2021-11-04T11:47:58.407Z"
   },
   {
    "duration": 14,
    "start_time": "2021-11-04T11:47:58.954Z"
   },
   {
    "duration": 6,
    "start_time": "2021-11-04T12:01:34.925Z"
   },
   {
    "duration": 5,
    "start_time": "2021-11-04T12:01:58.442Z"
   },
   {
    "duration": 5,
    "start_time": "2021-11-04T12:02:33.737Z"
   },
   {
    "duration": 6,
    "start_time": "2021-11-04T12:03:16.695Z"
   },
   {
    "duration": 13,
    "start_time": "2021-11-04T12:25:53.586Z"
   },
   {
    "duration": 41,
    "start_time": "2021-11-04T12:26:00.417Z"
   },
   {
    "duration": 18,
    "start_time": "2021-11-04T18:49:28.162Z"
   },
   {
    "duration": 24,
    "start_time": "2021-11-04T18:49:37.336Z"
   },
   {
    "duration": 287,
    "start_time": "2021-11-04T18:49:51.127Z"
   },
   {
    "duration": 297,
    "start_time": "2021-11-04T18:50:16.151Z"
   },
   {
    "duration": 295,
    "start_time": "2021-11-04T18:50:23.793Z"
   },
   {
    "duration": 23,
    "start_time": "2021-11-04T18:50:29.439Z"
   },
   {
    "duration": 283,
    "start_time": "2021-11-04T18:50:41.846Z"
   },
   {
    "duration": 291,
    "start_time": "2021-11-04T18:51:13.388Z"
   },
   {
    "duration": 23,
    "start_time": "2021-11-04T18:51:18.044Z"
   },
   {
    "duration": 23,
    "start_time": "2021-11-04T18:51:33.555Z"
   },
   {
    "duration": 281,
    "start_time": "2021-11-04T18:51:51.479Z"
   },
   {
    "duration": 282,
    "start_time": "2021-11-04T18:53:01.389Z"
   },
   {
    "duration": 35,
    "start_time": "2021-11-04T18:53:06.994Z"
   },
   {
    "duration": 27,
    "start_time": "2021-11-04T18:53:23.791Z"
   },
   {
    "duration": 15,
    "start_time": "2021-11-04T18:54:11.530Z"
   },
   {
    "duration": 17,
    "start_time": "2021-11-04T18:54:20.715Z"
   },
   {
    "duration": 30,
    "start_time": "2021-11-04T18:54:38.314Z"
   },
   {
    "duration": 22,
    "start_time": "2021-11-04T18:55:18.120Z"
   },
   {
    "duration": 27,
    "start_time": "2021-11-04T18:55:55.800Z"
   },
   {
    "duration": 17,
    "start_time": "2021-11-04T18:56:00.162Z"
   },
   {
    "duration": 6,
    "start_time": "2021-11-04T19:06:39.148Z"
   },
   {
    "duration": 6,
    "start_time": "2021-11-04T19:07:00.930Z"
   },
   {
    "duration": 5,
    "start_time": "2021-11-04T19:11:35.979Z"
   },
   {
    "duration": 7,
    "start_time": "2021-11-04T19:11:44.673Z"
   },
   {
    "duration": 6,
    "start_time": "2021-11-04T19:12:37.679Z"
   },
   {
    "duration": 95,
    "start_time": "2021-11-04T19:24:45.000Z"
   },
   {
    "duration": 274,
    "start_time": "2021-11-04T19:24:58.712Z"
   },
   {
    "duration": 270,
    "start_time": "2021-11-04T19:26:33.115Z"
   },
   {
    "duration": 10,
    "start_time": "2021-11-04T19:26:41.218Z"
   },
   {
    "duration": 11,
    "start_time": "2021-11-04T19:28:12.231Z"
   },
   {
    "duration": 13,
    "start_time": "2021-11-04T19:28:54.164Z"
   },
   {
    "duration": 283,
    "start_time": "2021-11-04T19:33:19.783Z"
   },
   {
    "duration": 283,
    "start_time": "2021-11-04T19:33:41.889Z"
   },
   {
    "duration": 278,
    "start_time": "2021-11-04T19:34:02.392Z"
   },
   {
    "duration": 284,
    "start_time": "2021-11-04T19:34:12.302Z"
   },
   {
    "duration": 13,
    "start_time": "2021-11-04T19:34:41.131Z"
   },
   {
    "duration": 5609,
    "start_time": "2021-11-04T20:10:38.214Z"
   },
   {
    "duration": 17,
    "start_time": "2021-11-04T20:16:14.717Z"
   },
   {
    "duration": 77,
    "start_time": "2021-11-04T20:16:33.949Z"
   },
   {
    "duration": 221,
    "start_time": "2021-11-04T20:35:04.169Z"
   },
   {
    "duration": 171,
    "start_time": "2021-11-04T20:36:13.819Z"
   },
   {
    "duration": 52,
    "start_time": "2021-11-04T21:11:49.492Z"
   },
   {
    "duration": 66,
    "start_time": "2021-11-04T21:11:58.264Z"
   },
   {
    "duration": 5,
    "start_time": "2021-11-04T21:12:08.588Z"
   },
   {
    "duration": 372,
    "start_time": "2021-11-04T21:12:09.357Z"
   },
   {
    "duration": 32,
    "start_time": "2021-11-04T21:12:09.732Z"
   },
   {
    "duration": 30,
    "start_time": "2021-11-04T21:12:10.100Z"
   },
   {
    "duration": 5,
    "start_time": "2021-11-04T21:12:10.689Z"
   },
   {
    "duration": 13,
    "start_time": "2021-11-04T21:12:11.180Z"
   },
   {
    "duration": 13,
    "start_time": "2021-11-04T21:12:11.380Z"
   },
   {
    "duration": 113,
    "start_time": "2021-11-04T21:12:13.088Z"
   },
   {
    "duration": 135,
    "start_time": "2021-11-04T21:12:13.938Z"
   },
   {
    "duration": 69,
    "start_time": "2021-11-04T21:12:19.381Z"
   },
   {
    "duration": 75,
    "start_time": "2021-11-04T21:12:20.806Z"
   },
   {
    "duration": 111,
    "start_time": "2021-11-04T21:12:22.481Z"
   },
   {
    "duration": 120,
    "start_time": "2021-11-04T21:12:24.185Z"
   },
   {
    "duration": 17,
    "start_time": "2021-11-04T21:12:28.197Z"
   },
   {
    "duration": 27,
    "start_time": "2021-11-04T21:12:28.376Z"
   },
   {
    "duration": 24,
    "start_time": "2021-11-04T21:12:28.695Z"
   },
   {
    "duration": 64,
    "start_time": "2021-11-04T21:12:29.226Z"
   },
   {
    "duration": 223,
    "start_time": "2021-11-04T21:12:29.640Z"
   },
   {
    "duration": 87,
    "start_time": "2021-11-04T21:12:30.604Z"
   },
   {
    "duration": 74,
    "start_time": "2021-11-04T21:12:31.441Z"
   },
   {
    "duration": 248,
    "start_time": "2021-11-04T21:12:31.781Z"
   },
   {
    "duration": 7,
    "start_time": "2021-11-04T21:12:32.134Z"
   },
   {
    "duration": 12,
    "start_time": "2021-11-04T21:12:32.861Z"
   },
   {
    "duration": 14,
    "start_time": "2021-11-04T21:12:33.069Z"
   },
   {
    "duration": 11,
    "start_time": "2021-11-04T21:12:33.247Z"
   },
   {
    "duration": 36,
    "start_time": "2021-11-04T21:12:33.447Z"
   },
   {
    "duration": 5,
    "start_time": "2021-11-04T21:12:34.283Z"
   },
   {
    "duration": 3840,
    "start_time": "2021-11-04T21:12:35.162Z"
   },
   {
    "duration": 30,
    "start_time": "2021-11-04T21:12:39.005Z"
   },
   {
    "duration": 295,
    "start_time": "2021-11-05T10:23:14.827Z"
   },
   {
    "duration": 363,
    "start_time": "2021-11-05T10:23:30.111Z"
   },
   {
    "duration": 362,
    "start_time": "2021-11-05T10:23:41.360Z"
   },
   {
    "duration": 379,
    "start_time": "2021-11-05T10:23:49.460Z"
   },
   {
    "duration": 393,
    "start_time": "2021-11-05T10:24:22.776Z"
   },
   {
    "duration": 11,
    "start_time": "2021-11-05T10:24:59.951Z"
   },
   {
    "duration": 272,
    "start_time": "2021-11-05T10:25:14.240Z"
   },
   {
    "duration": 10,
    "start_time": "2021-11-05T10:25:26.972Z"
   },
   {
    "duration": 11,
    "start_time": "2021-11-05T10:25:32.407Z"
   },
   {
    "duration": 16,
    "start_time": "2021-11-05T10:26:09.389Z"
   },
   {
    "duration": 282,
    "start_time": "2021-11-05T10:27:07.319Z"
   },
   {
    "duration": 23,
    "start_time": "2021-11-05T10:27:40.716Z"
   },
   {
    "duration": 21,
    "start_time": "2021-11-05T10:27:57.585Z"
   },
   {
    "duration": 6853,
    "start_time": "2021-11-05T10:28:31.894Z"
   },
   {
    "duration": 29,
    "start_time": "2021-11-05T10:28:53.386Z"
   },
   {
    "duration": 40,
    "start_time": "2021-11-05T10:28:59.414Z"
   },
   {
    "duration": 336,
    "start_time": "2021-11-05T10:29:11.851Z"
   },
   {
    "duration": 548,
    "start_time": "2021-11-05T10:29:21.111Z"
   },
   {
    "duration": 376,
    "start_time": "2021-11-05T10:29:35.052Z"
   },
   {
    "duration": 376,
    "start_time": "2021-11-05T10:30:00.152Z"
   },
   {
    "duration": 351,
    "start_time": "2021-11-05T10:30:14.877Z"
   },
   {
    "duration": 341,
    "start_time": "2021-11-05T10:31:38.850Z"
   },
   {
    "duration": 695,
    "start_time": "2021-11-05T10:32:08.123Z"
   },
   {
    "duration": 708,
    "start_time": "2021-11-05T10:35:00.284Z"
   },
   {
    "duration": 526,
    "start_time": "2021-11-05T10:35:49.410Z"
   },
   {
    "duration": 901,
    "start_time": "2021-11-05T10:36:44.195Z"
   },
   {
    "duration": 685,
    "start_time": "2021-11-05T10:39:09.387Z"
   },
   {
    "duration": 684,
    "start_time": "2021-11-05T10:40:07.580Z"
   },
   {
    "duration": 705,
    "start_time": "2021-11-05T10:40:45.718Z"
   },
   {
    "duration": 550,
    "start_time": "2021-11-05T10:40:58.966Z"
   },
   {
    "duration": 53,
    "start_time": "2021-11-05T10:42:08.910Z"
   },
   {
    "duration": 517,
    "start_time": "2021-11-05T10:42:13.659Z"
   },
   {
    "duration": 355,
    "start_time": "2021-11-05T10:44:15.214Z"
   },
   {
    "duration": 350,
    "start_time": "2021-11-05T10:45:19.354Z"
   },
   {
    "duration": 658,
    "start_time": "2021-11-05T10:46:31.352Z"
   },
   {
    "duration": 1566,
    "start_time": "2021-11-05T10:47:21.088Z"
   },
   {
    "duration": 351,
    "start_time": "2021-11-05T10:47:31.527Z"
   },
   {
    "duration": 738,
    "start_time": "2021-11-05T10:48:30.700Z"
   },
   {
    "duration": 639,
    "start_time": "2021-11-05T10:49:39.110Z"
   },
   {
    "duration": 645,
    "start_time": "2021-11-05T10:49:47.580Z"
   },
   {
    "duration": 425,
    "start_time": "2021-11-05T10:50:39.283Z"
   },
   {
    "duration": 908,
    "start_time": "2021-11-05T10:50:58.641Z"
   },
   {
    "duration": 699,
    "start_time": "2021-11-05T10:51:05.861Z"
   },
   {
    "duration": 438,
    "start_time": "2021-11-05T10:51:39.940Z"
   },
   {
    "duration": 664,
    "start_time": "2021-11-05T10:52:38.802Z"
   },
   {
    "duration": 562,
    "start_time": "2021-11-05T10:53:29.199Z"
   },
   {
    "duration": 483,
    "start_time": "2021-11-05T10:53:54.661Z"
   },
   {
    "duration": 747,
    "start_time": "2021-11-05T10:54:08.505Z"
   },
   {
    "duration": 515,
    "start_time": "2021-11-05T10:55:25.077Z"
   },
   {
    "duration": 483,
    "start_time": "2021-11-05T10:55:31.818Z"
   },
   {
    "duration": 625,
    "start_time": "2021-11-05T10:57:43.592Z"
   },
   {
    "duration": 523,
    "start_time": "2021-11-05T10:57:52.613Z"
   },
   {
    "duration": 504,
    "start_time": "2021-11-05T10:58:42.794Z"
   },
   {
    "duration": 546,
    "start_time": "2021-11-05T10:58:50.403Z"
   },
   {
    "duration": 499,
    "start_time": "2021-11-05T10:58:56.625Z"
   },
   {
    "duration": 581,
    "start_time": "2021-11-05T10:59:01.574Z"
   },
   {
    "duration": 732,
    "start_time": "2021-11-05T10:59:18.411Z"
   },
   {
    "duration": 713,
    "start_time": "2021-11-05T10:59:28.786Z"
   },
   {
    "duration": 527,
    "start_time": "2021-11-05T11:01:22.702Z"
   },
   {
    "duration": 971,
    "start_time": "2021-11-05T11:02:29.095Z"
   },
   {
    "duration": 732,
    "start_time": "2021-11-05T11:02:37.369Z"
   },
   {
    "duration": 643,
    "start_time": "2021-11-05T11:03:18.839Z"
   },
   {
    "duration": 623,
    "start_time": "2021-11-05T11:03:28.891Z"
   },
   {
    "duration": 583,
    "start_time": "2021-11-05T11:04:00.915Z"
   },
   {
    "duration": 545,
    "start_time": "2021-11-05T11:04:16.012Z"
   },
   {
    "duration": 553,
    "start_time": "2021-11-05T11:07:08.331Z"
   },
   {
    "duration": 954,
    "start_time": "2021-11-05T11:07:17.379Z"
   },
   {
    "duration": 589,
    "start_time": "2021-11-05T11:07:59.273Z"
   },
   {
    "duration": 822,
    "start_time": "2021-11-05T11:08:07.530Z"
   },
   {
    "duration": 545,
    "start_time": "2021-11-05T11:08:16.224Z"
   },
   {
    "duration": 97,
    "start_time": "2021-11-05T11:09:44.803Z"
   },
   {
    "duration": 1032,
    "start_time": "2021-11-05T11:10:43.340Z"
   },
   {
    "duration": 545,
    "start_time": "2021-11-05T11:11:57.427Z"
   },
   {
    "duration": 565,
    "start_time": "2021-11-05T11:12:50.205Z"
   },
   {
    "duration": 840,
    "start_time": "2021-11-05T11:12:59.443Z"
   },
   {
    "duration": 797,
    "start_time": "2021-11-05T11:14:49.388Z"
   },
   {
    "duration": 677,
    "start_time": "2021-11-05T11:15:01.929Z"
   },
   {
    "duration": 595,
    "start_time": "2021-11-05T11:15:12.467Z"
   },
   {
    "duration": 550,
    "start_time": "2021-11-05T11:15:20.784Z"
   },
   {
    "duration": 560,
    "start_time": "2021-11-05T11:15:25.650Z"
   },
   {
    "duration": 563,
    "start_time": "2021-11-05T11:15:45.982Z"
   },
   {
    "duration": 705,
    "start_time": "2021-11-05T11:15:52.131Z"
   },
   {
    "duration": 1049,
    "start_time": "2021-11-05T11:16:30.929Z"
   },
   {
    "duration": 665,
    "start_time": "2021-11-05T11:17:25.609Z"
   },
   {
    "duration": 576,
    "start_time": "2021-11-05T11:17:36.064Z"
   },
   {
    "duration": 590,
    "start_time": "2021-11-05T11:17:44.510Z"
   },
   {
    "duration": 504,
    "start_time": "2021-11-05T11:19:21.757Z"
   },
   {
    "duration": 511,
    "start_time": "2021-11-05T11:19:46.940Z"
   },
   {
    "duration": 911,
    "start_time": "2021-11-05T11:20:40.998Z"
   },
   {
    "duration": 508,
    "start_time": "2021-11-05T11:20:48.349Z"
   },
   {
    "duration": 534,
    "start_time": "2021-11-05T11:27:15.603Z"
   },
   {
    "duration": 499,
    "start_time": "2021-11-05T11:28:50.154Z"
   },
   {
    "duration": 530,
    "start_time": "2021-11-05T11:29:00.014Z"
   },
   {
    "duration": 660,
    "start_time": "2021-11-05T11:29:09.152Z"
   },
   {
    "duration": 540,
    "start_time": "2021-11-05T11:30:34.892Z"
   },
   {
    "duration": 53,
    "start_time": "2021-11-05T11:31:37.379Z"
   },
   {
    "duration": 7210,
    "start_time": "2021-11-05T11:32:24.495Z"
   },
   {
    "duration": 76,
    "start_time": "2021-11-05T11:33:19.678Z"
   },
   {
    "duration": 872,
    "start_time": "2021-11-05T11:33:20.469Z"
   },
   {
    "duration": 23,
    "start_time": "2021-11-05T11:38:04.440Z"
   },
   {
    "duration": 24,
    "start_time": "2021-11-05T11:38:17.559Z"
   },
   {
    "duration": 18,
    "start_time": "2021-11-05T11:38:27.249Z"
   },
   {
    "duration": 17,
    "start_time": "2021-11-05T11:38:43.407Z"
   },
   {
    "duration": 4,
    "start_time": "2021-11-05T11:38:46.733Z"
   },
   {
    "duration": 20,
    "start_time": "2021-11-05T11:39:05.829Z"
   },
   {
    "duration": 25,
    "start_time": "2021-11-05T11:39:13.359Z"
   },
   {
    "duration": 7,
    "start_time": "2021-11-05T11:39:16.828Z"
   },
   {
    "duration": 5,
    "start_time": "2021-11-05T11:39:19.655Z"
   },
   {
    "duration": 32,
    "start_time": "2021-11-05T11:39:36.650Z"
   },
   {
    "duration": 40,
    "start_time": "2021-11-05T11:40:06.546Z"
   },
   {
    "duration": 33,
    "start_time": "2021-11-05T11:40:18.560Z"
   },
   {
    "duration": 31,
    "start_time": "2021-11-05T11:41:21.019Z"
   },
   {
    "duration": 30,
    "start_time": "2021-11-05T11:48:49.943Z"
   },
   {
    "duration": 15,
    "start_time": "2021-11-05T11:50:05.333Z"
   },
   {
    "duration": 10,
    "start_time": "2021-11-05T11:50:17.199Z"
   },
   {
    "duration": 8,
    "start_time": "2021-11-05T11:50:39.187Z"
   },
   {
    "duration": 30,
    "start_time": "2021-11-05T18:49:09.740Z"
   },
   {
    "duration": 312,
    "start_time": "2021-11-05T18:52:50.381Z"
   },
   {
    "duration": 346,
    "start_time": "2021-11-05T18:53:44.660Z"
   },
   {
    "duration": 19,
    "start_time": "2021-11-05T18:54:22.040Z"
   },
   {
    "duration": 25,
    "start_time": "2021-11-05T18:54:52.854Z"
   },
   {
    "duration": 24,
    "start_time": "2021-11-05T18:58:37.865Z"
   },
   {
    "duration": 18,
    "start_time": "2021-11-05T18:59:05.156Z"
   },
   {
    "duration": 23,
    "start_time": "2021-11-05T19:01:19.112Z"
   },
   {
    "duration": 7373,
    "start_time": "2021-11-05T19:02:07.752Z"
   },
   {
    "duration": 300,
    "start_time": "2021-11-05T19:02:18.080Z"
   },
   {
    "duration": 7319,
    "start_time": "2021-11-05T19:02:25.940Z"
   },
   {
    "duration": 35,
    "start_time": "2021-11-05T19:03:20.431Z"
   },
   {
    "duration": 67,
    "start_time": "2021-11-05T19:03:29.410Z"
   },
   {
    "duration": 43,
    "start_time": "2021-11-05T19:03:43.718Z"
   },
   {
    "duration": 22,
    "start_time": "2021-11-05T19:04:05.011Z"
   },
   {
    "duration": 1110,
    "start_time": "2021-11-05T19:06:27.051Z"
   },
   {
    "duration": 16,
    "start_time": "2021-11-05T19:06:35.506Z"
   },
   {
    "duration": 25,
    "start_time": "2021-11-05T19:06:56.530Z"
   },
   {
    "duration": 27,
    "start_time": "2021-11-05T19:07:32.217Z"
   },
   {
    "duration": 22,
    "start_time": "2021-11-05T19:07:40.113Z"
   },
   {
    "duration": 20,
    "start_time": "2021-11-05T19:07:48.627Z"
   },
   {
    "duration": 28,
    "start_time": "2021-11-05T19:16:07.982Z"
   },
   {
    "duration": 41,
    "start_time": "2021-11-05T19:17:58.790Z"
   },
   {
    "duration": 234,
    "start_time": "2021-11-05T19:20:36.620Z"
   },
   {
    "duration": 13,
    "start_time": "2021-11-05T19:21:13.958Z"
   },
   {
    "duration": 19,
    "start_time": "2021-11-05T19:21:21.920Z"
   },
   {
    "duration": 14,
    "start_time": "2021-11-05T19:21:22.299Z"
   },
   {
    "duration": 10,
    "start_time": "2021-11-05T19:21:22.936Z"
   },
   {
    "duration": 23,
    "start_time": "2021-11-05T19:21:23.546Z"
   },
   {
    "duration": 58,
    "start_time": "2021-11-05T19:21:55.549Z"
   },
   {
    "duration": 96,
    "start_time": "2021-11-05T19:22:38.319Z"
   },
   {
    "duration": 18,
    "start_time": "2021-11-05T19:23:09.894Z"
   },
   {
    "duration": 9,
    "start_time": "2021-11-05T19:23:13.375Z"
   },
   {
    "duration": 13,
    "start_time": "2021-11-05T19:23:26.491Z"
   },
   {
    "duration": 40,
    "start_time": "2021-11-05T19:23:36.450Z"
   },
   {
    "duration": 43,
    "start_time": "2021-11-05T19:43:41.837Z"
   },
   {
    "duration": 6,
    "start_time": "2021-11-05T19:59:33.572Z"
   },
   {
    "duration": 37,
    "start_time": "2021-11-05T20:42:31.810Z"
   },
   {
    "duration": 47,
    "start_time": "2021-11-05T20:42:47.420Z"
   },
   {
    "duration": 426,
    "start_time": "2021-11-05T20:42:55.605Z"
   },
   {
    "duration": 40,
    "start_time": "2021-11-05T20:42:56.035Z"
   },
   {
    "duration": 67,
    "start_time": "2021-11-05T20:42:56.078Z"
   },
   {
    "duration": 8,
    "start_time": "2021-11-05T20:42:56.217Z"
   },
   {
    "duration": 12,
    "start_time": "2021-11-05T20:42:56.610Z"
   },
   {
    "duration": 15,
    "start_time": "2021-11-05T20:42:56.806Z"
   },
   {
    "duration": 113,
    "start_time": "2021-11-05T20:42:57.291Z"
   },
   {
    "duration": 133,
    "start_time": "2021-11-05T20:42:57.457Z"
   },
   {
    "duration": 62,
    "start_time": "2021-11-05T20:42:57.805Z"
   },
   {
    "duration": 547,
    "start_time": "2021-11-05T20:42:57.941Z"
   },
   {
    "duration": 76,
    "start_time": "2021-11-05T20:42:58.491Z"
   },
   {
    "duration": 561,
    "start_time": "2021-11-05T20:42:58.570Z"
   },
   {
    "duration": 24,
    "start_time": "2021-11-05T20:42:59.135Z"
   },
   {
    "duration": 56,
    "start_time": "2021-11-05T20:42:59.483Z"
   },
   {
    "duration": 51,
    "start_time": "2021-11-05T20:43:00.060Z"
   },
   {
    "duration": 92,
    "start_time": "2021-11-05T20:43:00.996Z"
   },
   {
    "duration": 20,
    "start_time": "2021-11-05T20:43:04.218Z"
   },
   {
    "duration": 26,
    "start_time": "2021-11-05T20:43:04.866Z"
   },
   {
    "duration": 32,
    "start_time": "2021-11-05T20:43:06.811Z"
   },
   {
    "duration": 5,
    "start_time": "2021-11-05T20:43:55.012Z"
   },
   {
    "duration": 45,
    "start_time": "2021-11-05T20:44:00.844Z"
   },
   {
    "duration": 83,
    "start_time": "2021-11-05T20:44:10.802Z"
   },
   {
    "duration": 193,
    "start_time": "2021-11-05T20:44:12.173Z"
   },
   {
    "duration": 59,
    "start_time": "2021-11-05T20:44:13.426Z"
   },
   {
    "duration": 6,
    "start_time": "2021-11-05T20:44:14.945Z"
   },
   {
    "duration": 57,
    "start_time": "2021-11-05T20:44:16.012Z"
   },
   {
    "duration": 5,
    "start_time": "2021-11-05T20:44:30.858Z"
   },
   {
    "duration": 30,
    "start_time": "2021-11-05T20:44:37.712Z"
   },
   {
    "duration": 391,
    "start_time": "2021-11-05T20:45:43.889Z"
   },
   {
    "duration": 52,
    "start_time": "2021-11-05T20:45:44.283Z"
   },
   {
    "duration": 29,
    "start_time": "2021-11-05T20:45:44.338Z"
   },
   {
    "duration": 7,
    "start_time": "2021-11-05T20:45:44.479Z"
   },
   {
    "duration": 13,
    "start_time": "2021-11-05T20:45:44.864Z"
   },
   {
    "duration": 16,
    "start_time": "2021-11-05T20:45:45.074Z"
   },
   {
    "duration": 120,
    "start_time": "2021-11-05T20:45:45.590Z"
   },
   {
    "duration": 135,
    "start_time": "2021-11-05T20:45:45.863Z"
   },
   {
    "duration": 93,
    "start_time": "2021-11-05T20:45:46.181Z"
   },
   {
    "duration": 548,
    "start_time": "2021-11-05T20:45:46.335Z"
   },
   {
    "duration": 71,
    "start_time": "2021-11-05T20:45:46.886Z"
   },
   {
    "duration": 592,
    "start_time": "2021-11-05T20:45:46.960Z"
   },
   {
    "duration": 36,
    "start_time": "2021-11-05T20:45:47.556Z"
   },
   {
    "duration": 74,
    "start_time": "2021-11-05T20:45:47.806Z"
   },
   {
    "duration": 61,
    "start_time": "2021-11-05T20:45:48.011Z"
   },
   {
    "duration": 89,
    "start_time": "2021-11-05T20:45:48.496Z"
   },
   {
    "duration": 18,
    "start_time": "2021-11-05T20:45:49.770Z"
   },
   {
    "duration": 27,
    "start_time": "2021-11-05T20:45:50.987Z"
   },
   {
    "duration": 64,
    "start_time": "2021-11-05T20:45:52.314Z"
   },
   {
    "duration": 195,
    "start_time": "2021-11-05T20:45:57.578Z"
   },
   {
    "duration": 164,
    "start_time": "2021-11-05T20:45:58.364Z"
   },
   {
    "duration": 58,
    "start_time": "2021-11-05T20:45:58.803Z"
   },
   {
    "duration": 15,
    "start_time": "2021-11-05T20:46:18.272Z"
   },
   {
    "duration": 36,
    "start_time": "2021-11-05T20:46:28.432Z"
   },
   {
    "duration": 284,
    "start_time": "2021-11-05T20:46:36.687Z"
   },
   {
    "duration": 52,
    "start_time": "2021-11-05T20:46:42.046Z"
   },
   {
    "duration": 19,
    "start_time": "2021-11-05T20:47:43.452Z"
   },
   {
    "duration": 18,
    "start_time": "2021-11-05T20:47:51.138Z"
   },
   {
    "duration": 8,
    "start_time": "2021-11-05T20:48:41.101Z"
   },
   {
    "duration": 349,
    "start_time": "2021-11-05T20:48:45.555Z"
   },
   {
    "duration": 61,
    "start_time": "2021-11-05T20:48:49.753Z"
   },
   {
    "duration": 282,
    "start_time": "2021-11-05T20:49:13.562Z"
   },
   {
    "duration": 58,
    "start_time": "2021-11-05T20:49:48.825Z"
   },
   {
    "duration": 68,
    "start_time": "2021-11-05T20:50:04.126Z"
   },
   {
    "duration": 59,
    "start_time": "2021-11-05T20:50:09.652Z"
   },
   {
    "duration": 171,
    "start_time": "2021-11-05T20:57:23.711Z"
   },
   {
    "duration": 22,
    "start_time": "2021-11-05T20:57:28.140Z"
   },
   {
    "duration": 3288,
    "start_time": "2021-11-05T20:57:43.484Z"
   },
   {
    "duration": 6,
    "start_time": "2021-11-05T21:08:27.570Z"
   },
   {
    "duration": 367,
    "start_time": "2021-11-05T21:08:28.690Z"
   },
   {
    "duration": 78,
    "start_time": "2021-11-05T21:08:29.060Z"
   },
   {
    "duration": 68,
    "start_time": "2021-11-05T21:08:29.141Z"
   },
   {
    "duration": 31,
    "start_time": "2021-11-05T21:08:29.344Z"
   },
   {
    "duration": 33,
    "start_time": "2021-11-05T21:08:30.211Z"
   },
   {
    "duration": 5,
    "start_time": "2021-11-05T21:08:30.961Z"
   },
   {
    "duration": 14,
    "start_time": "2021-11-05T21:08:32.133Z"
   },
   {
    "duration": 16,
    "start_time": "2021-11-05T21:08:33.028Z"
   },
   {
    "duration": 162,
    "start_time": "2021-11-05T21:08:37.404Z"
   },
   {
    "duration": 142,
    "start_time": "2021-11-05T21:08:37.904Z"
   },
   {
    "duration": 57,
    "start_time": "2021-11-05T21:08:38.314Z"
   },
   {
    "duration": 510,
    "start_time": "2021-11-05T21:08:38.478Z"
   },
   {
    "duration": 75,
    "start_time": "2021-11-05T21:08:38.990Z"
   },
   {
    "duration": 535,
    "start_time": "2021-11-05T21:08:39.067Z"
   },
   {
    "duration": 39,
    "start_time": "2021-11-05T21:08:39.605Z"
   },
   {
    "duration": 34,
    "start_time": "2021-11-05T21:08:39.647Z"
   },
   {
    "duration": 35,
    "start_time": "2021-11-05T21:08:39.783Z"
   },
   {
    "duration": 75,
    "start_time": "2021-11-05T21:08:40.863Z"
   },
   {
    "duration": 14,
    "start_time": "2021-11-05T21:08:41.774Z"
   },
   {
    "duration": 18,
    "start_time": "2021-11-05T21:08:42.450Z"
   },
   {
    "duration": 33,
    "start_time": "2021-11-05T21:08:44.548Z"
   },
   {
    "duration": 73,
    "start_time": "2021-11-05T21:08:48.963Z"
   },
   {
    "duration": 18,
    "start_time": "2021-11-05T21:08:59.716Z"
   },
   {
    "duration": 13,
    "start_time": "2021-11-05T21:09:01.153Z"
   },
   {
    "duration": 20,
    "start_time": "2021-11-05T21:09:01.977Z"
   },
   {
    "duration": 57,
    "start_time": "2021-11-05T21:09:03.732Z"
   },
   {
    "duration": 402,
    "start_time": "2021-11-05T21:09:04.997Z"
   },
   {
    "duration": 8,
    "start_time": "2021-11-05T21:09:06.030Z"
   },
   {
    "duration": 11,
    "start_time": "2021-11-05T21:09:06.497Z"
   },
   {
    "duration": 23,
    "start_time": "2021-11-05T21:09:07.019Z"
   },
   {
    "duration": 11,
    "start_time": "2021-11-05T21:09:07.217Z"
   },
   {
    "duration": 56,
    "start_time": "2021-11-05T21:09:08.134Z"
   },
   {
    "duration": 15,
    "start_time": "2021-11-05T21:09:08.971Z"
   },
   {
    "duration": 13,
    "start_time": "2021-11-05T21:09:10.372Z"
   },
   {
    "duration": 48,
    "start_time": "2021-11-05T21:09:11.301Z"
   },
   {
    "duration": 7,
    "start_time": "2021-11-05T21:09:15.293Z"
   },
   {
    "duration": 364,
    "start_time": "2021-11-05T21:09:30.195Z"
   },
   {
    "duration": 75,
    "start_time": "2021-11-05T21:09:30.786Z"
   },
   {
    "duration": 31,
    "start_time": "2021-11-05T21:09:30.965Z"
   },
   {
    "duration": 32,
    "start_time": "2021-11-05T21:09:31.124Z"
   },
   {
    "duration": 5,
    "start_time": "2021-11-05T21:09:31.292Z"
   },
   {
    "duration": 13,
    "start_time": "2021-11-05T21:09:31.600Z"
   },
   {
    "duration": 14,
    "start_time": "2021-11-05T21:09:31.748Z"
   },
   {
    "duration": 119,
    "start_time": "2021-11-05T21:09:32.181Z"
   },
   {
    "duration": 134,
    "start_time": "2021-11-05T21:09:32.382Z"
   },
   {
    "duration": 80,
    "start_time": "2021-11-05T21:09:32.674Z"
   },
   {
    "duration": 556,
    "start_time": "2021-11-05T21:09:32.820Z"
   },
   {
    "duration": 77,
    "start_time": "2021-11-05T21:09:33.378Z"
   },
   {
    "duration": 558,
    "start_time": "2021-11-05T21:09:33.458Z"
   },
   {
    "duration": 28,
    "start_time": "2021-11-05T21:09:34.019Z"
   },
   {
    "duration": 35,
    "start_time": "2021-11-05T21:09:34.050Z"
   },
   {
    "duration": 70,
    "start_time": "2021-11-05T21:09:34.088Z"
   },
   {
    "duration": 80,
    "start_time": "2021-11-05T21:09:34.255Z"
   },
   {
    "duration": 14,
    "start_time": "2021-11-05T21:09:34.737Z"
   },
   {
    "duration": 22,
    "start_time": "2021-11-05T21:09:34.901Z"
   },
   {
    "duration": 30,
    "start_time": "2021-11-05T21:09:35.248Z"
   },
   {
    "duration": 75,
    "start_time": "2021-11-05T21:09:35.781Z"
   },
   {
    "duration": 14,
    "start_time": "2021-11-05T21:09:36.170Z"
   },
   {
    "duration": 17,
    "start_time": "2021-11-05T21:09:36.528Z"
   },
   {
    "duration": 22,
    "start_time": "2021-11-05T21:09:37.042Z"
   },
   {
    "duration": 66,
    "start_time": "2021-11-05T21:09:37.480Z"
   },
   {
    "duration": 411,
    "start_time": "2021-11-05T21:09:38.246Z"
   },
   {
    "duration": 8,
    "start_time": "2021-11-05T21:09:39.167Z"
   },
   {
    "duration": 15,
    "start_time": "2021-11-05T21:09:39.879Z"
   },
   {
    "duration": 26,
    "start_time": "2021-11-05T21:09:40.075Z"
   },
   {
    "duration": 15,
    "start_time": "2021-11-05T21:09:40.609Z"
   },
   {
    "duration": 60,
    "start_time": "2021-11-05T21:09:40.768Z"
   },
   {
    "duration": 18,
    "start_time": "2021-11-05T21:09:40.937Z"
   },
   {
    "duration": 11,
    "start_time": "2021-11-05T21:09:41.788Z"
   },
   {
    "duration": 46,
    "start_time": "2021-11-05T21:09:42.441Z"
   },
   {
    "duration": 7,
    "start_time": "2021-11-05T21:09:43.630Z"
   },
   {
    "duration": 4161,
    "start_time": "2021-11-05T21:09:44.325Z"
   },
   {
    "duration": 90,
    "start_time": "2021-11-05T21:12:16.200Z"
   },
   {
    "duration": 462,
    "start_time": "2021-11-05T21:12:24.762Z"
   },
   {
    "duration": 7,
    "start_time": "2021-11-05T21:12:39.908Z"
   },
   {
    "duration": 19,
    "start_time": "2021-11-05T21:12:43.832Z"
   },
   {
    "duration": 76,
    "start_time": "2021-11-05T21:14:04.825Z"
   },
   {
    "duration": 382,
    "start_time": "2021-11-05T21:14:09.256Z"
   },
   {
    "duration": 33,
    "start_time": "2021-11-05T21:14:09.951Z"
   },
   {
    "duration": 29,
    "start_time": "2021-11-05T21:14:10.146Z"
   },
   {
    "duration": 5,
    "start_time": "2021-11-05T21:14:10.295Z"
   },
   {
    "duration": 14,
    "start_time": "2021-11-05T21:14:10.675Z"
   },
   {
    "duration": 16,
    "start_time": "2021-11-05T21:14:10.862Z"
   },
   {
    "duration": 111,
    "start_time": "2021-11-05T21:14:11.353Z"
   },
   {
    "duration": 137,
    "start_time": "2021-11-05T21:14:11.546Z"
   },
   {
    "duration": 64,
    "start_time": "2021-11-05T21:14:13.231Z"
   },
   {
    "duration": 512,
    "start_time": "2021-11-05T21:14:13.736Z"
   },
   {
    "duration": 63,
    "start_time": "2021-11-05T21:14:14.436Z"
   },
   {
    "duration": 524,
    "start_time": "2021-11-05T21:14:14.985Z"
   },
   {
    "duration": 24,
    "start_time": "2021-11-05T21:14:15.977Z"
   },
   {
    "duration": 51,
    "start_time": "2021-11-05T21:14:17.483Z"
   },
   {
    "duration": 57,
    "start_time": "2021-11-05T21:14:18.106Z"
   },
   {
    "duration": 79,
    "start_time": "2021-11-05T21:14:19.515Z"
   },
   {
    "duration": 24,
    "start_time": "2021-11-05T21:14:21.119Z"
   },
   {
    "duration": 29,
    "start_time": "2021-11-05T21:14:21.851Z"
   },
   {
    "duration": 30,
    "start_time": "2021-11-05T21:14:23.279Z"
   },
   {
    "duration": 72,
    "start_time": "2021-11-05T21:14:25.056Z"
   },
   {
    "duration": 169,
    "start_time": "2021-11-05T21:14:26.597Z"
   },
   {
    "duration": 61,
    "start_time": "2021-11-05T21:14:28.347Z"
   },
   {
    "duration": 8,
    "start_time": "2021-11-05T21:15:23.928Z"
   },
   {
    "duration": 23,
    "start_time": "2021-11-05T21:15:25.077Z"
   },
   {
    "duration": 62,
    "start_time": "2021-11-05T21:15:26.607Z"
   },
   {
    "duration": 408,
    "start_time": "2021-11-05T21:15:27.045Z"
   },
   {
    "duration": 7,
    "start_time": "2021-11-05T21:15:27.456Z"
   },
   {
    "duration": 11,
    "start_time": "2021-11-05T21:15:27.754Z"
   },
   {
    "duration": 19,
    "start_time": "2021-11-05T21:15:27.931Z"
   },
   {
    "duration": 10,
    "start_time": "2021-11-05T21:15:28.093Z"
   },
   {
    "duration": 56,
    "start_time": "2021-11-05T21:15:28.264Z"
   },
   {
    "duration": 18,
    "start_time": "2021-11-05T21:15:28.449Z"
   },
   {
    "duration": 12,
    "start_time": "2021-11-05T21:15:28.889Z"
   },
   {
    "duration": 46,
    "start_time": "2021-11-05T21:15:29.230Z"
   },
   {
    "duration": 7,
    "start_time": "2021-11-05T21:15:29.559Z"
   },
   {
    "duration": 4237,
    "start_time": "2021-11-05T21:15:29.876Z"
   },
   {
    "duration": 20,
    "start_time": "2021-11-05T21:15:34.123Z"
   },
   {
    "duration": 3285,
    "start_time": "2021-11-05T21:16:07.469Z"
   },
   {
    "duration": 302,
    "start_time": "2021-11-05T21:16:10.757Z"
   },
   {
    "duration": 1254,
    "start_time": "2021-11-09T19:15:31.142Z"
   },
   {
    "duration": 275,
    "start_time": "2021-11-09T19:15:34.676Z"
   },
   {
    "duration": 24,
    "start_time": "2021-11-09T19:15:39.777Z"
   },
   {
    "duration": 17,
    "start_time": "2021-11-09T19:15:41.736Z"
   },
   {
    "duration": 3,
    "start_time": "2021-11-09T19:15:45.538Z"
   },
   {
    "duration": 8,
    "start_time": "2021-11-09T19:15:47.508Z"
   },
   {
    "duration": 10,
    "start_time": "2021-11-09T19:15:48.110Z"
   },
   {
    "duration": 74,
    "start_time": "2021-11-09T19:15:53.318Z"
   },
   {
    "duration": 90,
    "start_time": "2021-11-09T19:15:53.927Z"
   },
   {
    "duration": 10,
    "start_time": "2021-11-09T19:25:58.706Z"
   },
   {
    "duration": 10,
    "start_time": "2021-11-09T19:26:08.963Z"
   },
   {
    "duration": 348,
    "start_time": "2021-11-09T19:30:45.085Z"
   },
   {
    "duration": 18,
    "start_time": "2021-11-09T19:31:08.520Z"
   },
   {
    "duration": 18,
    "start_time": "2021-11-09T19:31:19.438Z"
   },
   {
    "duration": 66,
    "start_time": "2021-11-09T19:31:21.162Z"
   },
   {
    "duration": 83,
    "start_time": "2021-11-09T19:31:21.818Z"
   },
   {
    "duration": 27,
    "start_time": "2021-11-09T19:38:19.322Z"
   },
   {
    "duration": 48,
    "start_time": "2021-11-09T19:38:20.253Z"
   },
   {
    "duration": 15,
    "start_time": "2021-11-09T19:41:45.898Z"
   },
   {
    "duration": 20,
    "start_time": "2021-11-09T19:41:47.460Z"
   },
   {
    "duration": 25,
    "start_time": "2021-11-09T19:41:52.484Z"
   },
   {
    "duration": 14,
    "start_time": "2021-11-09T19:42:22.287Z"
   },
   {
    "duration": 24,
    "start_time": "2021-11-09T19:42:22.577Z"
   },
   {
    "duration": 23,
    "start_time": "2021-11-09T19:42:24.091Z"
   },
   {
    "duration": 38,
    "start_time": "2021-11-09T19:42:26.078Z"
   },
   {
    "duration": 75,
    "start_time": "2021-11-09T19:42:38.256Z"
   },
   {
    "duration": 40,
    "start_time": "2021-11-09T19:42:47.102Z"
   },
   {
    "duration": 6917,
    "start_time": "2021-11-09T19:43:23.150Z"
   },
   {
    "duration": 21,
    "start_time": "2021-11-09T19:43:33.858Z"
   },
   {
    "duration": 40,
    "start_time": "2021-11-09T19:44:16.743Z"
   },
   {
    "duration": 255,
    "start_time": "2021-11-09T19:44:22.130Z"
   },
   {
    "duration": 103,
    "start_time": "2021-11-09T19:44:39.690Z"
   },
   {
    "duration": 261,
    "start_time": "2021-11-09T19:45:48.758Z"
   },
   {
    "duration": 268,
    "start_time": "2021-11-09T19:45:54.589Z"
   },
   {
    "duration": 267,
    "start_time": "2021-11-09T19:45:59.931Z"
   },
   {
    "duration": 20,
    "start_time": "2021-11-09T19:46:00.200Z"
   },
   {
    "duration": 18,
    "start_time": "2021-11-09T19:46:00.245Z"
   },
   {
    "duration": 4,
    "start_time": "2021-11-09T19:46:00.408Z"
   },
   {
    "duration": 9,
    "start_time": "2021-11-09T19:46:00.725Z"
   },
   {
    "duration": 10,
    "start_time": "2021-11-09T19:46:01.224Z"
   },
   {
    "duration": 25,
    "start_time": "2021-11-09T19:46:06.990Z"
   },
   {
    "duration": 66,
    "start_time": "2021-11-09T19:46:07.740Z"
   },
   {
    "duration": 78,
    "start_time": "2021-11-09T19:46:08.242Z"
   },
   {
    "duration": 28,
    "start_time": "2021-11-09T19:46:08.763Z"
   },
   {
    "duration": 47,
    "start_time": "2021-11-09T19:46:09.079Z"
   },
   {
    "duration": 13,
    "start_time": "2021-11-09T19:46:09.682Z"
   },
   {
    "duration": 20,
    "start_time": "2021-11-09T19:46:09.852Z"
   },
   {
    "duration": 22,
    "start_time": "2021-11-09T19:46:10.178Z"
   },
   {
    "duration": 48,
    "start_time": "2021-11-09T19:46:10.628Z"
   },
   {
    "duration": 71,
    "start_time": "2021-11-09T19:46:10.931Z"
   },
   {
    "duration": 34,
    "start_time": "2021-11-09T19:46:11.265Z"
   },
   {
    "duration": 17,
    "start_time": "2021-11-09T19:46:11.639Z"
   },
   {
    "duration": 36,
    "start_time": "2021-11-09T19:46:12.905Z"
   },
   {
    "duration": 268,
    "start_time": "2021-11-09T19:46:14.277Z"
   },
   {
    "duration": 5,
    "start_time": "2021-11-09T19:47:06.782Z"
   },
   {
    "duration": 105,
    "start_time": "2021-11-09T19:48:00.925Z"
   },
   {
    "duration": 5,
    "start_time": "2021-11-09T19:50:20.182Z"
   },
   {
    "duration": 2086,
    "start_time": "2021-11-09T19:50:25.695Z"
   },
   {
    "duration": 14,
    "start_time": "2021-11-09T19:53:48.729Z"
   },
   {
    "duration": 14,
    "start_time": "2021-11-09T19:54:30.286Z"
   },
   {
    "duration": 16,
    "start_time": "2021-11-09T19:54:42.945Z"
   },
   {
    "duration": 32,
    "start_time": "2021-11-09T19:55:42.378Z"
   },
   {
    "duration": 18,
    "start_time": "2021-11-09T19:57:52.885Z"
   },
   {
    "duration": 3,
    "start_time": "2021-11-09T20:28:18.654Z"
   },
   {
    "duration": 10,
    "start_time": "2021-11-09T20:31:54.730Z"
   },
   {
    "duration": 112,
    "start_time": "2021-11-09T20:32:01.870Z"
   },
   {
    "duration": 9,
    "start_time": "2021-11-09T20:33:22.739Z"
   },
   {
    "duration": 8,
    "start_time": "2021-11-09T20:39:15.328Z"
   },
   {
    "duration": 38,
    "start_time": "2021-11-09T20:50:13.764Z"
   },
   {
    "duration": 8,
    "start_time": "2021-11-09T20:50:25.800Z"
   },
   {
    "duration": 10,
    "start_time": "2021-11-09T20:50:34.230Z"
   },
   {
    "duration": 13,
    "start_time": "2021-11-09T20:51:03.110Z"
   },
   {
    "duration": 21,
    "start_time": "2021-11-09T20:53:54.980Z"
   },
   {
    "duration": 63,
    "start_time": "2021-11-09T20:54:04.799Z"
   },
   {
    "duration": 62,
    "start_time": "2021-11-09T20:56:08.428Z"
   },
   {
    "duration": 32,
    "start_time": "2021-11-09T20:56:28.602Z"
   },
   {
    "duration": 21,
    "start_time": "2021-11-09T20:56:44.191Z"
   },
   {
    "duration": 99,
    "start_time": "2021-11-09T20:57:41.977Z"
   },
   {
    "duration": 23,
    "start_time": "2021-11-09T20:57:50.917Z"
   },
   {
    "duration": 88,
    "start_time": "2021-11-09T20:58:42.996Z"
   },
   {
    "duration": 51,
    "start_time": "2021-11-09T21:01:20.264Z"
   },
   {
    "duration": 60,
    "start_time": "2021-11-09T21:02:08.844Z"
   },
   {
    "duration": 33,
    "start_time": "2021-11-09T21:02:48.404Z"
   },
   {
    "duration": 67,
    "start_time": "2021-11-09T21:02:50.686Z"
   },
   {
    "duration": 80,
    "start_time": "2021-11-09T21:03:17.142Z"
   },
   {
    "duration": 38,
    "start_time": "2021-11-09T21:03:19.911Z"
   },
   {
    "duration": 4,
    "start_time": "2021-11-09T21:03:29.563Z"
   },
   {
    "duration": 270,
    "start_time": "2021-11-09T21:03:30.288Z"
   },
   {
    "duration": 24,
    "start_time": "2021-11-09T21:03:32.135Z"
   },
   {
    "duration": 19,
    "start_time": "2021-11-09T21:03:32.309Z"
   },
   {
    "duration": 4,
    "start_time": "2021-11-09T21:03:32.489Z"
   },
   {
    "duration": 10,
    "start_time": "2021-11-09T21:03:32.783Z"
   },
   {
    "duration": 11,
    "start_time": "2021-11-09T21:03:32.947Z"
   },
   {
    "duration": 33,
    "start_time": "2021-11-09T21:03:33.797Z"
   },
   {
    "duration": 72,
    "start_time": "2021-11-09T21:03:34.622Z"
   },
   {
    "duration": 84,
    "start_time": "2021-11-09T21:03:34.893Z"
   },
   {
    "duration": 29,
    "start_time": "2021-11-09T21:03:36.126Z"
   },
   {
    "duration": 48,
    "start_time": "2021-11-09T21:03:37.584Z"
   },
   {
    "duration": 15,
    "start_time": "2021-11-09T21:03:38.296Z"
   },
   {
    "duration": 22,
    "start_time": "2021-11-09T21:03:38.463Z"
   },
   {
    "duration": 25,
    "start_time": "2021-11-09T21:03:39.596Z"
   },
   {
    "duration": 43,
    "start_time": "2021-11-09T21:03:40.326Z"
   },
   {
    "duration": 89,
    "start_time": "2021-11-09T21:03:40.729Z"
   },
   {
    "duration": 42,
    "start_time": "2021-11-09T21:04:01.231Z"
   },
   {
    "duration": 19,
    "start_time": "2021-11-09T21:04:02.894Z"
   },
   {
    "duration": 39,
    "start_time": "2021-11-09T21:04:04.116Z"
   },
   {
    "duration": 268,
    "start_time": "2021-11-09T21:04:05.190Z"
   },
   {
    "duration": 5,
    "start_time": "2021-11-09T21:04:06.550Z"
   },
   {
    "duration": 9,
    "start_time": "2021-11-09T21:04:07.849Z"
   },
   {
    "duration": 12,
    "start_time": "2021-11-09T21:04:08.283Z"
   },
   {
    "duration": 7,
    "start_time": "2021-11-09T21:04:08.549Z"
   },
   {
    "duration": 36,
    "start_time": "2021-11-09T21:04:09.696Z"
   },
   {
    "duration": 5,
    "start_time": "2021-11-09T21:04:12.366Z"
   },
   {
    "duration": 2271,
    "start_time": "2021-11-09T21:04:12.696Z"
   },
   {
    "duration": 21,
    "start_time": "2021-11-09T21:04:14.969Z"
   },
   {
    "duration": 10,
    "start_time": "2021-11-09T21:04:18.121Z"
   },
   {
    "duration": 13,
    "start_time": "2021-11-09T21:04:18.677Z"
   },
   {
    "duration": 34,
    "start_time": "2021-11-09T21:04:19.967Z"
   },
   {
    "duration": 96,
    "start_time": "2021-11-09T21:04:20.382Z"
   },
   {
    "duration": 69,
    "start_time": "2021-11-09T21:04:26.772Z"
   },
   {
    "duration": 38,
    "start_time": "2021-11-09T21:04:27.714Z"
   },
   {
    "duration": 7,
    "start_time": "2021-11-09T21:06:50.617Z"
   },
   {
    "duration": 39,
    "start_time": "2021-11-09T21:06:51.402Z"
   },
   {
    "duration": 37,
    "start_time": "2021-11-09T21:07:11.540Z"
   },
   {
    "duration": 7,
    "start_time": "2021-11-09T21:08:01.427Z"
   },
   {
    "duration": 36,
    "start_time": "2021-11-09T21:08:02.286Z"
   },
   {
    "duration": 15,
    "start_time": "2021-11-09T21:09:14.472Z"
   },
   {
    "duration": 18,
    "start_time": "2021-11-09T21:09:46.582Z"
   },
   {
    "duration": 73,
    "start_time": "2021-11-09T21:10:01.140Z"
   },
   {
    "duration": 272,
    "start_time": "2021-11-09T21:10:01.715Z"
   },
   {
    "duration": 22,
    "start_time": "2021-11-09T21:10:02.218Z"
   },
   {
    "duration": 5,
    "start_time": "2021-11-09T21:10:06.700Z"
   },
   {
    "duration": 250,
    "start_time": "2021-11-09T21:10:07.484Z"
   },
   {
    "duration": 20,
    "start_time": "2021-11-09T21:10:07.736Z"
   },
   {
    "duration": 19,
    "start_time": "2021-11-09T21:10:07.835Z"
   },
   {
    "duration": 4,
    "start_time": "2021-11-09T21:10:07.995Z"
   },
   {
    "duration": 10,
    "start_time": "2021-11-09T21:10:08.339Z"
   },
   {
    "duration": 10,
    "start_time": "2021-11-09T21:10:08.524Z"
   },
   {
    "duration": 27,
    "start_time": "2021-11-09T21:10:09.446Z"
   },
   {
    "duration": 68,
    "start_time": "2021-11-09T21:10:09.627Z"
   },
   {
    "duration": 79,
    "start_time": "2021-11-09T21:10:09.815Z"
   },
   {
    "duration": 30,
    "start_time": "2021-11-09T21:10:10.315Z"
   },
   {
    "duration": 45,
    "start_time": "2021-11-09T21:10:10.649Z"
   },
   {
    "duration": 13,
    "start_time": "2021-11-09T21:10:11.340Z"
   },
   {
    "duration": 21,
    "start_time": "2021-11-09T21:10:11.515Z"
   },
   {
    "duration": 23,
    "start_time": "2021-11-09T21:10:11.858Z"
   },
   {
    "duration": 42,
    "start_time": "2021-11-09T21:10:12.402Z"
   },
   {
    "duration": 79,
    "start_time": "2021-11-09T21:10:12.745Z"
   },
   {
    "duration": 37,
    "start_time": "2021-11-09T21:10:13.106Z"
   },
   {
    "duration": 20,
    "start_time": "2021-11-09T21:10:13.446Z"
   },
   {
    "duration": 41,
    "start_time": "2021-11-09T21:10:15.486Z"
   },
   {
    "duration": 286,
    "start_time": "2021-11-09T21:10:15.836Z"
   },
   {
    "duration": 6,
    "start_time": "2021-11-09T21:10:16.305Z"
   },
   {
    "duration": 9,
    "start_time": "2021-11-09T21:10:16.662Z"
   },
   {
    "duration": 13,
    "start_time": "2021-11-09T21:10:16.871Z"
   },
   {
    "duration": 7,
    "start_time": "2021-11-09T21:10:17.269Z"
   },
   {
    "duration": 36,
    "start_time": "2021-11-09T21:10:17.601Z"
   },
   {
    "duration": 5,
    "start_time": "2021-11-09T21:10:18.334Z"
   },
   {
    "duration": 2284,
    "start_time": "2021-11-09T21:10:18.706Z"
   },
   {
    "duration": 17,
    "start_time": "2021-11-09T21:10:20.992Z"
   },
   {
    "duration": 16,
    "start_time": "2021-11-09T21:10:21.011Z"
   },
   {
    "duration": 14,
    "start_time": "2021-11-09T21:10:21.069Z"
   },
   {
    "duration": 36,
    "start_time": "2021-11-09T21:10:22.162Z"
   },
   {
    "duration": 91,
    "start_time": "2021-11-09T21:10:23.737Z"
   },
   {
    "duration": 67,
    "start_time": "2021-11-09T21:10:31.727Z"
   },
   {
    "duration": 6,
    "start_time": "2021-11-09T21:10:32.731Z"
   },
   {
    "duration": 20,
    "start_time": "2021-11-09T21:10:35.145Z"
   },
   {
    "duration": 10,
    "start_time": "2021-11-09T21:12:05.781Z"
   },
   {
    "duration": 21,
    "start_time": "2021-11-09T21:12:11.637Z"
   },
   {
    "duration": 183,
    "start_time": "2021-11-09T21:15:45.737Z"
   },
   {
    "duration": 7,
    "start_time": "2021-11-09T21:15:48.040Z"
   },
   {
    "duration": 35,
    "start_time": "2021-11-09T21:15:50.705Z"
   },
   {
    "duration": 19,
    "start_time": "2021-11-09T21:15:56.657Z"
   },
   {
    "duration": 1694,
    "start_time": "2021-11-10T17:38:59.669Z"
   },
   {
    "duration": 432,
    "start_time": "2021-11-10T17:39:01.365Z"
   },
   {
    "duration": 49,
    "start_time": "2021-11-10T17:39:01.800Z"
   },
   {
    "duration": 42,
    "start_time": "2021-11-10T17:39:01.861Z"
   },
   {
    "duration": 19,
    "start_time": "2021-11-10T17:39:01.906Z"
   },
   {
    "duration": 33,
    "start_time": "2021-11-10T17:39:01.928Z"
   },
   {
    "duration": 19,
    "start_time": "2021-11-10T17:39:01.964Z"
   },
   {
    "duration": 45,
    "start_time": "2021-11-10T17:39:02.673Z"
   },
   {
    "duration": 101,
    "start_time": "2021-11-10T17:39:02.849Z"
   },
   {
    "duration": 120,
    "start_time": "2021-11-10T17:39:03.037Z"
   },
   {
    "duration": 42,
    "start_time": "2021-11-10T17:39:03.507Z"
   },
   {
    "duration": 72,
    "start_time": "2021-11-10T17:39:03.830Z"
   },
   {
    "duration": 17,
    "start_time": "2021-11-10T17:39:04.453Z"
   },
   {
    "duration": 41,
    "start_time": "2021-11-10T17:39:04.618Z"
   },
   {
    "duration": 44,
    "start_time": "2021-11-10T17:39:04.932Z"
   },
   {
    "duration": 66,
    "start_time": "2021-11-10T17:39:05.407Z"
   },
   {
    "duration": 117,
    "start_time": "2021-11-10T17:39:05.731Z"
   },
   {
    "duration": 75,
    "start_time": "2021-11-10T17:39:06.081Z"
   },
   {
    "duration": 24,
    "start_time": "2021-11-10T17:39:06.389Z"
   },
   {
    "duration": 56,
    "start_time": "2021-11-10T17:39:06.686Z"
   },
   {
    "duration": 533,
    "start_time": "2021-11-10T17:39:07.023Z"
   },
   {
    "duration": 6,
    "start_time": "2021-11-10T17:39:07.560Z"
   },
   {
    "duration": 10,
    "start_time": "2021-11-10T17:39:07.752Z"
   },
   {
    "duration": 19,
    "start_time": "2021-11-10T17:39:07.887Z"
   },
   {
    "duration": 10,
    "start_time": "2021-11-10T17:39:08.069Z"
   },
   {
    "duration": 69,
    "start_time": "2021-11-10T17:39:08.394Z"
   },
   {
    "duration": 7,
    "start_time": "2021-11-10T17:39:09.169Z"
   },
   {
    "duration": 4501,
    "start_time": "2021-11-10T17:39:09.577Z"
   },
   {
    "duration": 27,
    "start_time": "2021-11-10T17:39:14.081Z"
   },
   {
    "duration": 1648,
    "start_time": "2021-11-10T19:03:08.750Z"
   },
   {
    "duration": 345,
    "start_time": "2021-11-10T19:03:10.400Z"
   },
   {
    "duration": 41,
    "start_time": "2021-11-10T19:03:10.747Z"
   },
   {
    "duration": 27,
    "start_time": "2021-11-10T19:03:10.792Z"
   },
   {
    "duration": 38,
    "start_time": "2021-11-10T19:03:10.822Z"
   },
   {
    "duration": 18,
    "start_time": "2021-11-10T19:03:10.863Z"
   },
   {
    "duration": 14,
    "start_time": "2021-11-10T19:03:11.013Z"
   },
   {
    "duration": 44,
    "start_time": "2021-11-10T19:03:11.790Z"
   },
   {
    "duration": 97,
    "start_time": "2021-11-10T19:03:11.932Z"
   },
   {
    "duration": 120,
    "start_time": "2021-11-10T19:03:12.099Z"
   },
   {
    "duration": 43,
    "start_time": "2021-11-10T19:03:12.602Z"
   },
   {
    "duration": 70,
    "start_time": "2021-11-10T19:03:12.932Z"
   },
   {
    "duration": 20,
    "start_time": "2021-11-10T19:03:13.599Z"
   },
   {
    "duration": 29,
    "start_time": "2021-11-10T19:03:13.783Z"
   },
   {
    "duration": 31,
    "start_time": "2021-11-10T19:03:14.158Z"
   },
   {
    "duration": 67,
    "start_time": "2021-11-10T19:03:15.002Z"
   },
   {
    "duration": 113,
    "start_time": "2021-11-10T19:03:15.325Z"
   },
   {
    "duration": 54,
    "start_time": "2021-11-10T19:03:15.667Z"
   },
   {
    "duration": 26,
    "start_time": "2021-11-10T19:03:16.005Z"
   },
   {
    "duration": 86,
    "start_time": "2021-11-10T19:03:16.310Z"
   },
   {
    "duration": 394,
    "start_time": "2021-11-10T19:03:16.806Z"
   },
   {
    "duration": 7,
    "start_time": "2021-11-10T19:03:17.202Z"
   },
   {
    "duration": 11,
    "start_time": "2021-11-10T19:03:17.494Z"
   },
   {
    "duration": 16,
    "start_time": "2021-11-10T19:03:17.652Z"
   },
   {
    "duration": 9,
    "start_time": "2021-11-10T19:03:17.808Z"
   },
   {
    "duration": 49,
    "start_time": "2021-11-10T19:03:18.147Z"
   },
   {
    "duration": 6,
    "start_time": "2021-11-10T19:03:18.489Z"
   },
   {
    "duration": 3378,
    "start_time": "2021-11-10T19:03:18.789Z"
   },
   {
    "duration": 23,
    "start_time": "2021-11-10T19:03:22.170Z"
   },
   {
    "duration": 17,
    "start_time": "2021-11-10T19:04:05.029Z"
   },
   {
    "duration": 129,
    "start_time": "2021-11-10T19:08:17.421Z"
   },
   {
    "duration": 244,
    "start_time": "2021-11-10T19:08:19.120Z"
   },
   {
    "duration": 9,
    "start_time": "2021-11-10T19:08:20.014Z"
   },
   {
    "duration": 127,
    "start_time": "2021-11-10T19:08:26.721Z"
   },
   {
    "duration": 27,
    "start_time": "2021-11-10T19:08:36.138Z"
   },
   {
    "duration": 28,
    "start_time": "2021-11-10T19:08:44.293Z"
   },
   {
    "duration": 73,
    "start_time": "2021-11-10T19:11:41.356Z"
   },
   {
    "duration": 59,
    "start_time": "2021-11-10T19:12:25.781Z"
   },
   {
    "duration": 74,
    "start_time": "2021-11-10T19:13:17.070Z"
   },
   {
    "duration": 31,
    "start_time": "2021-11-10T19:14:21.768Z"
   },
   {
    "duration": 27,
    "start_time": "2021-11-10T19:14:37.483Z"
   },
   {
    "duration": 127,
    "start_time": "2021-11-10T19:15:08.550Z"
   },
   {
    "duration": 17,
    "start_time": "2021-11-10T19:15:13.559Z"
   },
   {
    "duration": 608,
    "start_time": "2021-11-10T19:15:22.379Z"
   },
   {
    "duration": 29,
    "start_time": "2021-11-10T19:15:31.763Z"
   },
   {
    "duration": 12,
    "start_time": "2021-11-10T19:21:00.112Z"
   },
   {
    "duration": 6,
    "start_time": "2021-11-10T19:21:55.802Z"
   },
   {
    "duration": 25,
    "start_time": "2021-11-10T19:21:56.642Z"
   },
   {
    "duration": 11,
    "start_time": "2021-11-10T19:22:13.778Z"
   },
   {
    "duration": 11,
    "start_time": "2021-11-10T19:22:18.064Z"
   },
   {
    "duration": 32,
    "start_time": "2021-11-10T19:22:41.993Z"
   },
   {
    "duration": 41,
    "start_time": "2021-11-10T19:24:30.412Z"
   },
   {
    "duration": 28,
    "start_time": "2021-11-10T19:24:32.992Z"
   },
   {
    "duration": 32,
    "start_time": "2021-11-10T19:24:38.181Z"
   },
   {
    "duration": 36,
    "start_time": "2021-11-10T19:24:42.382Z"
   },
   {
    "duration": 14,
    "start_time": "2021-11-10T19:26:08.821Z"
   },
   {
    "duration": 4,
    "start_time": "2021-11-10T19:26:32.611Z"
   },
   {
    "duration": 5,
    "start_time": "2021-11-10T19:26:37.273Z"
   },
   {
    "duration": 16,
    "start_time": "2021-11-10T19:54:02.090Z"
   },
   {
    "duration": 134,
    "start_time": "2021-11-10T19:54:03.253Z"
   },
   {
    "duration": 249,
    "start_time": "2021-11-10T19:54:05.700Z"
   },
   {
    "duration": 6,
    "start_time": "2021-11-10T19:54:14.700Z"
   },
   {
    "duration": 383,
    "start_time": "2021-11-10T19:54:26.730Z"
   },
   {
    "duration": 65,
    "start_time": "2021-11-10T19:54:37.052Z"
   },
   {
    "duration": 25,
    "start_time": "2021-11-10T19:54:49.563Z"
   },
   {
    "duration": 26,
    "start_time": "2021-11-10T19:55:05.902Z"
   },
   {
    "duration": 143,
    "start_time": "2021-11-10T19:55:21.852Z"
   },
   {
    "duration": 246,
    "start_time": "2021-11-10T19:55:22.187Z"
   },
   {
    "duration": 8,
    "start_time": "2021-11-10T19:55:22.700Z"
   },
   {
    "duration": 51,
    "start_time": "2021-11-10T19:55:23.690Z"
   },
   {
    "duration": 27,
    "start_time": "2021-11-10T20:01:41.727Z"
   },
   {
    "duration": 28,
    "start_time": "2021-11-10T20:02:19.020Z"
   },
   {
    "duration": 38,
    "start_time": "2021-11-10T20:02:22.720Z"
   },
   {
    "duration": 34,
    "start_time": "2021-11-10T20:02:26.960Z"
   },
   {
    "duration": 14,
    "start_time": "2021-11-10T20:02:34.350Z"
   },
   {
    "duration": 6,
    "start_time": "2021-11-10T20:02:35.384Z"
   },
   {
    "duration": 5,
    "start_time": "2021-11-10T20:32:54.192Z"
   },
   {
    "duration": 424,
    "start_time": "2021-11-10T20:35:34.961Z"
   },
   {
    "duration": 4,
    "start_time": "2021-11-10T20:35:39.716Z"
   },
   {
    "duration": 9,
    "start_time": "2021-11-10T20:38:01.541Z"
   },
   {
    "duration": 13,
    "start_time": "2021-11-10T20:39:06.272Z"
   },
   {
    "duration": 428,
    "start_time": "2021-11-10T20:41:24.757Z"
   },
   {
    "duration": 4,
    "start_time": "2021-11-10T20:41:44.030Z"
   },
   {
    "duration": 34,
    "start_time": "2021-11-10T20:41:44.570Z"
   },
   {
    "duration": 89,
    "start_time": "2021-11-10T20:42:29.483Z"
   },
   {
    "duration": 5,
    "start_time": "2021-11-10T20:42:32.643Z"
   },
   {
    "duration": 387,
    "start_time": "2021-11-10T20:43:41.905Z"
   },
   {
    "duration": 6,
    "start_time": "2021-11-10T20:43:46.274Z"
   },
   {
    "duration": 85,
    "start_time": "2021-11-10T20:47:52.153Z"
   },
   {
    "duration": 20,
    "start_time": "2021-11-10T20:48:02.489Z"
   },
   {
    "duration": 451,
    "start_time": "2021-11-10T20:49:05.275Z"
   },
   {
    "duration": 13,
    "start_time": "2021-11-10T20:49:14.058Z"
   },
   {
    "duration": 378,
    "start_time": "2021-11-10T20:49:14.710Z"
   },
   {
    "duration": 9,
    "start_time": "2021-11-10T20:49:27.966Z"
   },
   {
    "duration": 400,
    "start_time": "2021-11-10T20:49:31.646Z"
   },
   {
    "duration": 11,
    "start_time": "2021-11-10T20:49:32.105Z"
   },
   {
    "duration": 12,
    "start_time": "2021-11-10T20:50:05.152Z"
   },
   {
    "duration": 6,
    "start_time": "2021-11-10T20:50:05.939Z"
   },
   {
    "duration": 2098,
    "start_time": "2021-11-10T20:50:52.519Z"
   },
   {
    "duration": 6,
    "start_time": "2021-11-10T21:03:31.223Z"
   },
   {
    "duration": 5,
    "start_time": "2021-11-10T21:03:47.286Z"
   },
   {
    "duration": 4,
    "start_time": "2021-11-10T21:07:00.073Z"
   },
   {
    "duration": 9,
    "start_time": "2021-11-10T21:07:00.840Z"
   },
   {
    "duration": 44,
    "start_time": "2021-11-10T21:07:12.378Z"
   },
   {
    "duration": 5,
    "start_time": "2021-11-10T21:07:20.990Z"
   },
   {
    "duration": 29,
    "start_time": "2021-11-10T21:07:37.394Z"
   },
   {
    "duration": 16,
    "start_time": "2021-11-10T21:09:34.103Z"
   },
   {
    "duration": 391,
    "start_time": "2021-11-10T21:09:51.804Z"
   },
   {
    "duration": 15,
    "start_time": "2021-11-10T21:10:02.705Z"
   },
   {
    "duration": 29,
    "start_time": "2021-11-10T21:10:13.754Z"
   },
   {
    "duration": 4,
    "start_time": "2021-11-10T21:10:26.453Z"
   },
   {
    "duration": 31,
    "start_time": "2021-11-10T21:10:33.256Z"
   },
   {
    "duration": 28,
    "start_time": "2021-11-10T21:10:58.504Z"
   },
   {
    "duration": 104,
    "start_time": "2021-11-10T21:11:08.491Z"
   },
   {
    "duration": 5,
    "start_time": "2021-11-10T21:11:08.960Z"
   },
   {
    "duration": 406,
    "start_time": "2021-11-10T21:11:13.638Z"
   },
   {
    "duration": 5,
    "start_time": "2021-11-10T21:12:06.134Z"
   },
   {
    "duration": 7,
    "start_time": "2021-11-10T21:12:29.438Z"
   },
   {
    "duration": 374,
    "start_time": "2021-11-10T21:12:47.822Z"
   },
   {
    "duration": 56,
    "start_time": "2021-11-10T21:13:19.432Z"
   },
   {
    "duration": 10,
    "start_time": "2021-11-10T21:13:50.595Z"
   },
   {
    "duration": 34,
    "start_time": "2021-11-10T21:14:00.869Z"
   },
   {
    "duration": 29,
    "start_time": "2021-11-10T21:14:04.339Z"
   },
   {
    "duration": 5,
    "start_time": "2021-11-11T06:20:29.950Z"
   },
   {
    "duration": 365,
    "start_time": "2021-11-11T06:20:30.609Z"
   },
   {
    "duration": 35,
    "start_time": "2021-11-11T06:20:30.976Z"
   },
   {
    "duration": 55,
    "start_time": "2021-11-11T06:20:31.015Z"
   },
   {
    "duration": 8,
    "start_time": "2021-11-11T06:20:31.073Z"
   },
   {
    "duration": 12,
    "start_time": "2021-11-11T06:20:31.367Z"
   },
   {
    "duration": 14,
    "start_time": "2021-11-11T06:20:31.538Z"
   },
   {
    "duration": 36,
    "start_time": "2021-11-11T06:20:32.331Z"
   },
   {
    "duration": 101,
    "start_time": "2021-11-11T06:20:32.480Z"
   },
   {
    "duration": 125,
    "start_time": "2021-11-11T06:20:32.641Z"
   },
   {
    "duration": 43,
    "start_time": "2021-11-11T06:20:33.140Z"
   },
   {
    "duration": 66,
    "start_time": "2021-11-11T06:20:33.476Z"
   },
   {
    "duration": 17,
    "start_time": "2021-11-11T06:20:34.137Z"
   },
   {
    "duration": 28,
    "start_time": "2021-11-11T06:20:34.326Z"
   },
   {
    "duration": 28,
    "start_time": "2021-11-11T06:20:34.669Z"
   },
   {
    "duration": 69,
    "start_time": "2021-11-11T06:20:35.160Z"
   },
   {
    "duration": 113,
    "start_time": "2021-11-11T06:20:35.506Z"
   },
   {
    "duration": 50,
    "start_time": "2021-11-11T06:20:35.850Z"
   },
   {
    "duration": 35,
    "start_time": "2021-11-11T06:20:36.188Z"
   },
   {
    "duration": 85,
    "start_time": "2021-11-11T06:20:36.555Z"
   },
   {
    "duration": 653,
    "start_time": "2021-11-11T06:20:36.878Z"
   },
   {
    "duration": 25,
    "start_time": "2021-11-11T06:20:37.534Z"
   },
   {
    "duration": 16,
    "start_time": "2021-11-11T06:20:37.597Z"
   },
   {
    "duration": 16,
    "start_time": "2021-11-11T06:20:37.758Z"
   },
   {
    "duration": 10,
    "start_time": "2021-11-11T06:20:37.925Z"
   },
   {
    "duration": 46,
    "start_time": "2021-11-11T06:20:38.279Z"
   },
   {
    "duration": 6,
    "start_time": "2021-11-11T06:20:38.594Z"
   },
   {
    "duration": 3459,
    "start_time": "2021-11-11T06:20:38.940Z"
   },
   {
    "duration": 21,
    "start_time": "2021-11-11T06:20:42.402Z"
   },
   {
    "duration": 45,
    "start_time": "2021-11-11T06:20:42.426Z"
   },
   {
    "duration": 157,
    "start_time": "2021-11-11T06:20:42.474Z"
   },
   {
    "duration": 268,
    "start_time": "2021-11-11T06:20:42.633Z"
   },
   {
    "duration": 6,
    "start_time": "2021-11-11T06:20:42.904Z"
   },
   {
    "duration": 56,
    "start_time": "2021-11-11T06:20:42.913Z"
   },
   {
    "duration": 27,
    "start_time": "2021-11-11T06:20:42.972Z"
   },
   {
    "duration": 58,
    "start_time": "2021-11-11T06:20:43.002Z"
   },
   {
    "duration": 39,
    "start_time": "2021-11-11T06:20:43.063Z"
   },
   {
    "duration": 29,
    "start_time": "2021-11-11T06:20:43.212Z"
   },
   {
    "duration": 14,
    "start_time": "2021-11-11T06:20:43.372Z"
   },
   {
    "duration": 6,
    "start_time": "2021-11-11T06:20:43.557Z"
   },
   {
    "duration": 9,
    "start_time": "2021-11-11T06:20:44.096Z"
   },
   {
    "duration": 17,
    "start_time": "2021-11-11T06:20:44.323Z"
   },
   {
    "duration": 30,
    "start_time": "2021-11-11T06:20:44.935Z"
   },
   {
    "duration": 4,
    "start_time": "2021-11-11T06:20:50.462Z"
   },
   {
    "duration": 12,
    "start_time": "2021-11-11T06:20:50.624Z"
   },
   {
    "duration": 38,
    "start_time": "2021-11-11T06:20:50.775Z"
   },
   {
    "duration": 41,
    "start_time": "2021-11-11T06:20:50.937Z"
   },
   {
    "duration": 3,
    "start_time": "2021-11-11T06:25:30.661Z"
   },
   {
    "duration": 3,
    "start_time": "2021-11-11T06:27:37.797Z"
   },
   {
    "duration": 4,
    "start_time": "2021-11-11T06:28:54.990Z"
   },
   {
    "duration": 7,
    "start_time": "2021-11-11T06:30:42.420Z"
   },
   {
    "duration": 463,
    "start_time": "2021-11-11T06:30:52.159Z"
   },
   {
    "duration": 4,
    "start_time": "2021-11-11T06:30:55.907Z"
   },
   {
    "duration": 491,
    "start_time": "2021-11-11T06:30:56.323Z"
   },
   {
    "duration": 508,
    "start_time": "2021-11-11T06:31:19.963Z"
   },
   {
    "duration": 756,
    "start_time": "2021-11-11T06:33:52.741Z"
   },
   {
    "duration": 61,
    "start_time": "2021-11-11T06:34:14.638Z"
   },
   {
    "duration": 7,
    "start_time": "2021-11-11T06:34:29.007Z"
   },
   {
    "duration": 10,
    "start_time": "2021-11-11T06:34:53.844Z"
   },
   {
    "duration": 18,
    "start_time": "2021-11-11T06:34:57.654Z"
   },
   {
    "duration": 544,
    "start_time": "2021-11-11T06:35:04.757Z"
   },
   {
    "duration": 97,
    "start_time": "2021-11-11T06:57:06.802Z"
   },
   {
    "duration": 14,
    "start_time": "2021-11-11T06:57:45.852Z"
   },
   {
    "duration": 13,
    "start_time": "2021-11-11T06:58:22.942Z"
   },
   {
    "duration": 14,
    "start_time": "2021-11-11T06:58:40.503Z"
   },
   {
    "duration": 16,
    "start_time": "2021-11-11T06:58:48.305Z"
   },
   {
    "duration": 24,
    "start_time": "2021-11-11T07:03:24.546Z"
   },
   {
    "duration": 114,
    "start_time": "2021-11-11T07:03:49.857Z"
   },
   {
    "duration": 16,
    "start_time": "2021-11-11T07:04:00.804Z"
   },
   {
    "duration": 43,
    "start_time": "2021-11-11T07:10:20.584Z"
   },
   {
    "duration": 120,
    "start_time": "2021-11-11T07:12:31.484Z"
   },
   {
    "duration": 147,
    "start_time": "2021-11-11T07:12:40.027Z"
   },
   {
    "duration": 101,
    "start_time": "2021-11-11T07:12:58.943Z"
   },
   {
    "duration": 38,
    "start_time": "2021-11-11T07:13:17.403Z"
   },
   {
    "duration": 413,
    "start_time": "2021-11-11T07:15:11.921Z"
   },
   {
    "duration": 467,
    "start_time": "2021-11-11T07:15:15.917Z"
   },
   {
    "duration": 225,
    "start_time": "2021-11-11T07:15:25.955Z"
   },
   {
    "duration": 203,
    "start_time": "2021-11-11T07:15:29.519Z"
   },
   {
    "duration": 10457,
    "start_time": "2021-11-11T07:16:39.527Z"
   },
   {
    "duration": 9898,
    "start_time": "2021-11-11T07:17:01.466Z"
   },
   {
    "duration": 9570,
    "start_time": "2021-11-11T07:17:15.347Z"
   },
   {
    "duration": 94,
    "start_time": "2021-11-11T07:17:26.188Z"
   },
   {
    "duration": 392,
    "start_time": "2021-11-11T07:18:42.828Z"
   },
   {
    "duration": 4,
    "start_time": "2021-11-11T07:38:29.293Z"
   },
   {
    "duration": 66,
    "start_time": "2021-11-11T07:40:19.217Z"
   },
   {
    "duration": 982,
    "start_time": "2021-11-11T07:41:01.817Z"
   },
   {
    "duration": 124,
    "start_time": "2021-11-11T07:47:13.058Z"
   },
   {
    "duration": 25,
    "start_time": "2021-11-11T07:48:04.761Z"
   },
   {
    "duration": 352,
    "start_time": "2021-11-11T07:48:38.744Z"
   },
   {
    "duration": 4,
    "start_time": "2021-11-11T07:49:15.764Z"
   },
   {
    "duration": 6,
    "start_time": "2021-11-11T07:58:05.474Z"
   },
   {
    "duration": 393,
    "start_time": "2021-11-11T08:00:03.959Z"
   },
   {
    "duration": 379,
    "start_time": "2021-11-11T08:00:17.143Z"
   },
   {
    "duration": 374,
    "start_time": "2021-11-11T08:00:55.012Z"
   },
   {
    "duration": 383,
    "start_time": "2021-11-11T08:01:04.762Z"
   },
   {
    "duration": 6,
    "start_time": "2021-11-11T08:01:17.857Z"
   },
   {
    "duration": 22,
    "start_time": "2021-11-11T08:01:29.597Z"
   },
   {
    "duration": 3,
    "start_time": "2021-11-11T08:01:30.613Z"
   },
   {
    "duration": 374,
    "start_time": "2021-11-11T08:01:30.795Z"
   },
   {
    "duration": 4,
    "start_time": "2021-11-11T08:01:31.171Z"
   },
   {
    "duration": 427,
    "start_time": "2021-11-11T08:01:31.278Z"
   },
   {
    "duration": 5,
    "start_time": "2021-11-11T08:01:58.744Z"
   },
   {
    "duration": 5,
    "start_time": "2021-11-11T08:02:16.495Z"
   },
   {
    "duration": 392,
    "start_time": "2021-11-11T08:02:33.293Z"
   },
   {
    "duration": 5,
    "start_time": "2021-11-11T08:03:00.503Z"
   },
   {
    "duration": 23,
    "start_time": "2021-11-11T08:03:08.053Z"
   },
   {
    "duration": 5,
    "start_time": "2021-11-11T08:03:08.525Z"
   },
   {
    "duration": 5,
    "start_time": "2021-11-11T08:03:09.020Z"
   },
   {
    "duration": 6,
    "start_time": "2021-11-11T08:03:22.225Z"
   },
   {
    "duration": 59,
    "start_time": "2021-11-11T08:03:46.154Z"
   },
   {
    "duration": 7,
    "start_time": "2021-11-11T08:04:05.296Z"
   },
   {
    "duration": 5,
    "start_time": "2021-11-11T08:04:18.132Z"
   },
   {
    "duration": 22,
    "start_time": "2021-11-11T08:04:33.523Z"
   },
   {
    "duration": 5,
    "start_time": "2021-11-11T08:04:34.147Z"
   },
   {
    "duration": 7,
    "start_time": "2021-11-11T08:04:39.438Z"
   },
   {
    "duration": 6,
    "start_time": "2021-11-11T08:04:39.980Z"
   },
   {
    "duration": 7,
    "start_time": "2021-11-11T08:04:44.949Z"
   },
   {
    "duration": 25,
    "start_time": "2021-11-11T08:05:07.763Z"
   },
   {
    "duration": 6,
    "start_time": "2021-11-11T08:05:08.274Z"
   },
   {
    "duration": 4,
    "start_time": "2021-11-11T08:05:13.667Z"
   },
   {
    "duration": 369,
    "start_time": "2021-11-11T08:05:13.832Z"
   },
   {
    "duration": 8,
    "start_time": "2021-11-11T08:05:14.203Z"
   },
   {
    "duration": 25612,
    "start_time": "2021-11-11T08:05:14.248Z"
   },
   {
    "duration": 131,
    "start_time": "2021-11-11T08:06:32.120Z"
   },
   {
    "duration": 25796,
    "start_time": "2021-11-11T08:06:39.883Z"
   },
   {
    "duration": 82,
    "start_time": "2021-11-11T08:07:05.682Z"
   },
   {
    "duration": 7,
    "start_time": "2021-11-11T08:16:03.967Z"
   },
   {
    "duration": 25948,
    "start_time": "2021-11-11T08:19:30.424Z"
   },
   {
    "duration": 404,
    "start_time": "2021-11-11T08:20:49.082Z"
   },
   {
    "duration": 6437,
    "start_time": "2021-11-11T08:21:52.298Z"
   },
   {
    "duration": 6380,
    "start_time": "2021-11-11T08:22:06.473Z"
   },
   {
    "duration": 208,
    "start_time": "2021-11-11T08:22:41.782Z"
   },
   {
    "duration": 12319,
    "start_time": "2021-11-11T08:25:07.766Z"
   },
   {
    "duration": 13076,
    "start_time": "2021-11-11T08:25:56.854Z"
   },
   {
    "duration": 12076,
    "start_time": "2021-11-11T08:27:03.072Z"
   },
   {
    "duration": 387,
    "start_time": "2021-11-11T08:28:44.800Z"
   },
   {
    "duration": 6,
    "start_time": "2021-11-11T08:28:53.196Z"
   },
   {
    "duration": 184,
    "start_time": "2021-11-11T08:29:36.824Z"
   },
   {
    "duration": 4,
    "start_time": "2021-11-11T08:30:11.334Z"
   },
   {
    "duration": 4,
    "start_time": "2021-11-11T08:30:12.300Z"
   },
   {
    "duration": 16374,
    "start_time": "2021-11-11T08:30:19.026Z"
   },
   {
    "duration": 5,
    "start_time": "2021-11-11T08:30:35.403Z"
   },
   {
    "duration": 286,
    "start_time": "2021-11-11T08:30:35.411Z"
   },
   {
    "duration": 1919,
    "start_time": "2021-11-11T08:30:37.477Z"
   },
   {
    "duration": 1684,
    "start_time": "2021-11-11T08:30:47.035Z"
   },
   {
    "duration": 5,
    "start_time": "2021-11-11T08:31:01.292Z"
   },
   {
    "duration": 1401,
    "start_time": "2021-11-11T08:31:29.487Z"
   },
   {
    "duration": 6,
    "start_time": "2021-11-11T08:31:52.976Z"
   },
   {
    "duration": 1382,
    "start_time": "2021-11-11T08:32:17.019Z"
   },
   {
    "duration": 5,
    "start_time": "2021-11-11T08:32:18.403Z"
   },
   {
    "duration": 373,
    "start_time": "2021-11-11T08:33:19.203Z"
   },
   {
    "duration": 6,
    "start_time": "2021-11-11T08:33:52.021Z"
   },
   {
    "duration": 189,
    "start_time": "2021-11-11T08:33:52.645Z"
   },
   {
    "duration": 928,
    "start_time": "2021-11-11T08:33:53.927Z"
   },
   {
    "duration": 5,
    "start_time": "2021-11-11T08:33:57.107Z"
   },
   {
    "duration": 142,
    "start_time": "2021-11-11T08:33:58.522Z"
   },
   {
    "duration": 4,
    "start_time": "2021-11-11T08:35:00.563Z"
   },
   {
    "duration": 4,
    "start_time": "2021-11-11T08:36:00.571Z"
   },
   {
    "duration": 4,
    "start_time": "2021-11-11T08:36:28.563Z"
   },
   {
    "duration": 1492265,
    "start_time": "2021-11-11T08:36:55.252Z"
   },
   {
    "duration": 362,
    "start_time": "2021-11-11T09:01:47.519Z"
   },
   {
    "duration": 6,
    "start_time": "2021-11-11T09:01:47.878Z"
   },
   {
    "duration": -7,
    "start_time": "2021-11-11T09:01:47.892Z"
   },
   {
    "duration": -11,
    "start_time": "2021-11-11T09:01:47.897Z"
   },
   {
    "duration": -23,
    "start_time": "2021-11-11T09:01:47.911Z"
   },
   {
    "duration": 4,
    "start_time": "2021-11-11T09:01:53.476Z"
   },
   {
    "duration": 139077,
    "start_time": "2021-11-11T09:01:54.292Z"
   },
   {
    "duration": 421,
    "start_time": "2021-11-11T09:04:13.372Z"
   },
   {
    "duration": -74,
    "start_time": "2021-11-11T09:04:13.870Z"
   },
   {
    "duration": -77,
    "start_time": "2021-11-11T09:04:13.874Z"
   },
   {
    "duration": -80,
    "start_time": "2021-11-11T09:04:13.879Z"
   },
   {
    "duration": -83,
    "start_time": "2021-11-11T09:04:13.883Z"
   },
   {
    "duration": 4,
    "start_time": "2021-11-11T09:04:36.483Z"
   },
   {
    "duration": 154089,
    "start_time": "2021-11-11T09:04:36.855Z"
   },
   {
    "duration": 443,
    "start_time": "2021-11-11T09:07:10.948Z"
   },
   {
    "duration": -26,
    "start_time": "2021-11-11T09:07:11.421Z"
   },
   {
    "duration": -28,
    "start_time": "2021-11-11T09:07:11.425Z"
   },
   {
    "duration": -30,
    "start_time": "2021-11-11T09:07:11.430Z"
   },
   {
    "duration": -31,
    "start_time": "2021-11-11T09:07:11.433Z"
   },
   {
    "duration": 5,
    "start_time": "2021-11-11T09:07:21.849Z"
   },
   {
    "duration": 85989,
    "start_time": "2021-11-11T09:07:22.401Z"
   },
   {
    "duration": 9,
    "start_time": "2021-11-11T09:08:48.393Z"
   },
   {
    "duration": 326,
    "start_time": "2021-11-11T09:08:48.406Z"
   },
   {
    "duration": 4,
    "start_time": "2021-11-11T09:09:47.273Z"
   },
   {
    "duration": 265454,
    "start_time": "2021-11-11T09:09:47.539Z"
   },
   {
    "duration": 5,
    "start_time": "2021-11-11T09:14:12.996Z"
   },
   {
    "duration": 284,
    "start_time": "2021-11-11T09:14:13.004Z"
   },
   {
    "duration": 1331,
    "start_time": "2021-11-11T09:14:13.291Z"
   },
   {
    "duration": 5,
    "start_time": "2021-11-11T09:14:14.624Z"
   },
   {
    "duration": 156,
    "start_time": "2021-11-11T09:14:14.632Z"
   },
   {
    "duration": 223,
    "start_time": "2021-11-11T09:15:57.869Z"
   },
   {
    "duration": 238,
    "start_time": "2021-11-11T09:17:20.809Z"
   },
   {
    "duration": 391,
    "start_time": "2021-11-11T09:18:48.012Z"
   },
   {
    "duration": 6,
    "start_time": "2021-11-11T09:18:55.245Z"
   },
   {
    "duration": 576,
    "start_time": "2021-11-11T09:19:06.364Z"
   },
   {
    "duration": 362,
    "start_time": "2021-11-11T09:19:24.927Z"
   },
   {
    "duration": 10,
    "start_time": "2021-11-11T09:19:54.741Z"
   },
   {
    "duration": 460,
    "start_time": "2021-11-11T09:20:05.790Z"
   },
   {
    "duration": 407,
    "start_time": "2021-11-11T09:20:21.484Z"
   },
   {
    "duration": 15,
    "start_time": "2021-11-11T09:20:34.377Z"
   },
   {
    "duration": 11,
    "start_time": "2021-11-11T09:27:57.280Z"
   },
   {
    "duration": 112,
    "start_time": "2021-11-11T09:36:19.385Z"
   },
   {
    "duration": 5,
    "start_time": "2021-11-11T09:36:47.430Z"
   },
   {
    "duration": 165,
    "start_time": "2021-11-11T09:37:19.850Z"
   },
   {
    "duration": 102,
    "start_time": "2021-11-11T09:37:30.789Z"
   },
   {
    "duration": 5,
    "start_time": "2021-11-11T09:37:49.009Z"
   },
   {
    "duration": 6,
    "start_time": "2021-11-11T09:38:20.429Z"
   },
   {
    "duration": 136,
    "start_time": "2021-11-11T09:38:35.828Z"
   },
   {
    "duration": 119,
    "start_time": "2021-11-11T09:38:42.914Z"
   },
   {
    "duration": 12,
    "start_time": "2021-11-11T09:38:55.691Z"
   },
   {
    "duration": 73,
    "start_time": "2021-11-11T09:39:25.186Z"
   },
   {
    "duration": 6,
    "start_time": "2021-11-11T09:39:58.313Z"
   },
   {
    "duration": 372,
    "start_time": "2021-11-11T09:40:07.737Z"
   },
   {
    "duration": 388,
    "start_time": "2021-11-11T09:40:13.633Z"
   },
   {
    "duration": 1935,
    "start_time": "2021-11-11T09:40:34.076Z"
   },
   {
    "duration": 409,
    "start_time": "2021-11-11T09:40:36.014Z"
   },
   {
    "duration": 48,
    "start_time": "2021-11-11T09:40:36.425Z"
   },
   {
    "duration": 46,
    "start_time": "2021-11-11T09:40:36.477Z"
   },
   {
    "duration": 32,
    "start_time": "2021-11-11T09:40:36.527Z"
   },
   {
    "duration": 16,
    "start_time": "2021-11-11T09:40:36.562Z"
   },
   {
    "duration": 27,
    "start_time": "2021-11-11T09:40:36.581Z"
   },
   {
    "duration": 90,
    "start_time": "2021-11-11T09:40:36.612Z"
   },
   {
    "duration": 126,
    "start_time": "2021-11-11T09:40:36.704Z"
   },
   {
    "duration": 175,
    "start_time": "2021-11-11T09:40:36.832Z"
   },
   {
    "duration": 63,
    "start_time": "2021-11-11T09:40:37.010Z"
   },
   {
    "duration": 95,
    "start_time": "2021-11-11T09:40:37.077Z"
   },
   {
    "duration": 19,
    "start_time": "2021-11-11T09:40:37.573Z"
   },
   {
    "duration": 31,
    "start_time": "2021-11-11T09:40:37.797Z"
   },
   {
    "duration": 35,
    "start_time": "2021-11-11T09:40:38.344Z"
   },
   {
    "duration": 71,
    "start_time": "2021-11-11T09:40:38.789Z"
   },
   {
    "duration": 146,
    "start_time": "2021-11-11T09:40:39.059Z"
   },
   {
    "duration": 69,
    "start_time": "2021-11-11T09:40:39.399Z"
   },
   {
    "duration": 27,
    "start_time": "2021-11-11T09:40:39.784Z"
   },
   {
    "duration": 59,
    "start_time": "2021-11-11T09:40:40.312Z"
   },
   {
    "duration": 416,
    "start_time": "2021-11-11T09:40:40.563Z"
   },
   {
    "duration": 10,
    "start_time": "2021-11-11T09:40:40.982Z"
   },
   {
    "duration": 12,
    "start_time": "2021-11-11T09:40:41.130Z"
   },
   {
    "duration": 15,
    "start_time": "2021-11-11T09:40:41.267Z"
   },
   {
    "duration": 9,
    "start_time": "2021-11-11T09:40:41.402Z"
   },
   {
    "duration": 49,
    "start_time": "2021-11-11T09:40:42.027Z"
   },
   {
    "duration": 6,
    "start_time": "2021-11-11T09:40:42.342Z"
   },
   {
    "duration": 3301,
    "start_time": "2021-11-11T09:40:42.669Z"
   },
   {
    "duration": 26,
    "start_time": "2021-11-11T09:40:45.972Z"
   },
   {
    "duration": 17,
    "start_time": "2021-11-11T09:40:46.143Z"
   },
   {
    "duration": 132,
    "start_time": "2021-11-11T09:40:46.421Z"
   },
   {
    "duration": 247,
    "start_time": "2021-11-11T09:40:46.713Z"
   },
   {
    "duration": 6,
    "start_time": "2021-11-11T09:40:46.962Z"
   },
   {
    "duration": 37,
    "start_time": "2021-11-11T09:40:47.183Z"
   },
   {
    "duration": 28,
    "start_time": "2021-11-11T09:40:47.345Z"
   },
   {
    "duration": 99,
    "start_time": "2021-11-11T09:40:47.924Z"
   },
   {
    "duration": 40,
    "start_time": "2021-11-11T09:40:48.081Z"
   },
   {
    "duration": 30,
    "start_time": "2021-11-11T09:40:48.224Z"
   },
   {
    "duration": 14,
    "start_time": "2021-11-11T09:40:48.376Z"
   },
   {
    "duration": 6,
    "start_time": "2021-11-11T09:40:48.514Z"
   },
   {
    "duration": 440,
    "start_time": "2021-11-11T09:40:50.436Z"
   },
   {
    "duration": 4,
    "start_time": "2021-11-11T09:40:50.879Z"
   },
   {
    "duration": 21,
    "start_time": "2021-11-11T09:40:50.893Z"
   },
   {
    "duration": 4,
    "start_time": "2021-11-11T09:40:51.445Z"
   },
   {
    "duration": 362,
    "start_time": "2021-11-11T09:40:51.615Z"
   },
   {
    "duration": 4,
    "start_time": "2021-11-11T09:40:51.980Z"
   },
   {
    "duration": 6843,
    "start_time": "2021-11-11T09:40:52.105Z"
   },
   {
    "duration": 27410,
    "start_time": "2021-11-11T09:40:58.951Z"
   },
   {
    "duration": 97,
    "start_time": "2021-11-11T09:41:26.365Z"
   },
   {
    "duration": 316,
    "start_time": "2021-11-11T09:41:26.466Z"
   },
   {
    "duration": 5,
    "start_time": "2021-11-11T09:41:26.786Z"
   },
   {
    "duration": 12,
    "start_time": "2021-11-11T09:41:26.794Z"
   },
   {
    "duration": 12267,
    "start_time": "2021-11-11T09:41:26.808Z"
   },
   {
    "duration": 7,
    "start_time": "2021-11-11T09:41:39.079Z"
   },
   {
    "duration": 214,
    "start_time": "2021-11-11T09:41:39.089Z"
   },
   {
    "duration": 977,
    "start_time": "2021-11-11T09:41:39.306Z"
   },
   {
    "duration": 6,
    "start_time": "2021-11-11T09:41:40.285Z"
   },
   {
    "duration": 174,
    "start_time": "2021-11-11T09:41:40.293Z"
   },
   {
    "duration": 4,
    "start_time": "2021-11-11T09:41:40.469Z"
   },
   {
    "duration": 8,
    "start_time": "2021-11-11T09:41:40.476Z"
   },
   {
    "duration": 278005,
    "start_time": "2021-11-11T09:41:40.487Z"
   },
   {
    "duration": 6,
    "start_time": "2021-11-11T09:46:18.494Z"
   },
   {
    "duration": 314,
    "start_time": "2021-11-11T09:46:18.502Z"
   },
   {
    "duration": 1477,
    "start_time": "2021-11-11T09:46:18.819Z"
   },
   {
    "duration": 6,
    "start_time": "2021-11-11T09:46:20.298Z"
   },
   {
    "duration": 262,
    "start_time": "2021-11-11T09:46:20.306Z"
   },
   {
    "duration": 4,
    "start_time": "2021-11-11T09:46:20.571Z"
   },
   {
    "duration": 8,
    "start_time": "2021-11-11T09:46:20.578Z"
   },
   {
    "duration": 106,
    "start_time": "2021-11-11T09:46:20.590Z"
   },
   {
    "duration": 118,
    "start_time": "2021-11-11T09:46:20.698Z"
   },
   {
    "duration": 11,
    "start_time": "2021-11-11T09:46:20.819Z"
   },
   {
    "duration": 5,
    "start_time": "2021-11-11T09:46:43.261Z"
   },
   {
    "duration": 15,
    "start_time": "2021-11-11T09:46:43.799Z"
   },
   {
    "duration": 107,
    "start_time": "2021-11-11T09:46:44.285Z"
   },
   {
    "duration": 21,
    "start_time": "2021-11-11T09:47:33.869Z"
   },
   {
    "duration": 7,
    "start_time": "2021-11-11T09:48:57.423Z"
   },
   {
    "duration": 53,
    "start_time": "2021-11-11T09:49:44.820Z"
   },
   {
    "duration": 11,
    "start_time": "2021-11-11T09:49:59.622Z"
   },
   {
    "duration": 5,
    "start_time": "2021-11-11T09:50:15.058Z"
   },
   {
    "duration": 5,
    "start_time": "2021-11-11T09:50:26.131Z"
   },
   {
    "duration": 21,
    "start_time": "2021-11-11T09:50:26.603Z"
   },
   {
    "duration": 15,
    "start_time": "2021-11-11T09:50:47.259Z"
   },
   {
    "duration": 20,
    "start_time": "2021-11-11T09:50:58.865Z"
   },
   {
    "duration": 12,
    "start_time": "2021-11-11T09:52:57.182Z"
   },
   {
    "duration": 15,
    "start_time": "2021-11-11T09:53:22.553Z"
   },
   {
    "duration": 17,
    "start_time": "2021-11-11T09:53:58.943Z"
   },
   {
    "duration": 14,
    "start_time": "2021-11-11T09:55:25.896Z"
   },
   {
    "duration": 57,
    "start_time": "2021-11-11T10:53:44.002Z"
   },
   {
    "duration": 53,
    "start_time": "2021-11-11T10:54:54.269Z"
   },
   {
    "duration": 616,
    "start_time": "2021-11-11T10:58:27.325Z"
   },
   {
    "duration": 6,
    "start_time": "2021-11-11T10:58:37.979Z"
   },
   {
    "duration": 371,
    "start_time": "2021-11-11T10:58:59.201Z"
   },
   {
    "duration": 504,
    "start_time": "2021-11-11T11:01:47.687Z"
   },
   {
    "duration": 1057,
    "start_time": "2021-11-11T11:02:00.676Z"
   },
   {
    "duration": 508,
    "start_time": "2021-11-11T11:02:39.652Z"
   },
   {
    "duration": 482,
    "start_time": "2021-11-11T11:02:52.511Z"
   },
   {
    "duration": 676,
    "start_time": "2021-11-11T11:02:53.189Z"
   },
   {
    "duration": 323,
    "start_time": "2021-11-11T11:03:12.909Z"
   },
   {
    "duration": 550,
    "start_time": "2021-11-11T11:04:36.535Z"
   },
   {
    "duration": 338,
    "start_time": "2021-11-11T11:04:37.371Z"
   },
   {
    "duration": 55,
    "start_time": "2021-11-11T11:04:46.000Z"
   },
   {
    "duration": 347,
    "start_time": "2021-11-11T11:05:03.970Z"
   },
   {
    "duration": 53,
    "start_time": "2021-11-11T11:05:54.193Z"
   },
   {
    "duration": 73,
    "start_time": "2021-11-11T11:06:55.183Z"
   },
   {
    "duration": 100,
    "start_time": "2021-11-11T11:07:49.940Z"
   },
   {
    "duration": 18,
    "start_time": "2021-11-11T11:09:13.588Z"
   },
   {
    "duration": 30,
    "start_time": "2021-11-11T11:09:27.417Z"
   },
   {
    "duration": 8,
    "start_time": "2021-11-11T11:09:31.046Z"
   },
   {
    "duration": 41,
    "start_time": "2021-11-11T11:09:36.084Z"
   },
   {
    "duration": 15,
    "start_time": "2021-11-11T11:09:36.603Z"
   },
   {
    "duration": 6988,
    "start_time": "2021-11-11T11:11:36.003Z"
   },
   {
    "duration": 27970,
    "start_time": "2021-11-11T11:11:42.993Z"
   },
   {
    "duration": 95,
    "start_time": "2021-11-11T11:12:10.967Z"
   },
   {
    "duration": 218,
    "start_time": "2021-11-11T11:12:11.065Z"
   },
   {
    "duration": 27606,
    "start_time": "2021-11-11T11:13:00.796Z"
   },
   {
    "duration": 97,
    "start_time": "2021-11-11T11:13:28.462Z"
   },
   {
    "duration": 5,
    "start_time": "2021-11-11T11:14:14.345Z"
   },
   {
    "duration": 4,
    "start_time": "2021-11-11T11:14:18.054Z"
   },
   {
    "duration": 360,
    "start_time": "2021-11-11T11:14:18.518Z"
   },
   {
    "duration": 4,
    "start_time": "2021-11-11T11:14:19.467Z"
   },
   {
    "duration": 7116,
    "start_time": "2021-11-11T11:14:20.155Z"
   },
   {
    "duration": 29282,
    "start_time": "2021-11-11T11:14:31.080Z"
   },
   {
    "duration": 4,
    "start_time": "2021-11-11T11:16:54.427Z"
   },
   {
    "duration": 27503,
    "start_time": "2021-11-11T11:16:56.758Z"
   },
   {
    "duration": 96,
    "start_time": "2021-11-11T11:17:24.266Z"
   },
   {
    "duration": 27693,
    "start_time": "2021-11-11T11:18:52.365Z"
   },
   {
    "duration": 6,
    "start_time": "2021-11-11T11:19:20.062Z"
   },
   {
    "duration": 15,
    "start_time": "2021-11-11T11:20:56.438Z"
   },
   {
    "duration": 23,
    "start_time": "2021-11-11T11:20:56.945Z"
   },
   {
    "duration": 6,
    "start_time": "2021-11-11T11:20:57.425Z"
   },
   {
    "duration": 38,
    "start_time": "2021-11-11T11:20:58.485Z"
   },
   {
    "duration": 16,
    "start_time": "2021-11-11T11:20:59.597Z"
   },
   {
    "duration": 137,
    "start_time": "2021-11-11T11:22:29.249Z"
   },
   {
    "duration": 270,
    "start_time": "2021-11-11T11:23:48.663Z"
   },
   {
    "duration": 7,
    "start_time": "2021-11-11T11:23:48.950Z"
   },
   {
    "duration": 34,
    "start_time": "2021-11-11T11:23:49.423Z"
   },
   {
    "duration": 31,
    "start_time": "2021-11-11T11:26:03.680Z"
   },
   {
    "duration": 52,
    "start_time": "2021-11-11T11:27:05.452Z"
   },
   {
    "duration": 39,
    "start_time": "2021-11-11T11:28:32.940Z"
   },
   {
    "duration": 40,
    "start_time": "2021-11-11T11:28:33.692Z"
   },
   {
    "duration": 31,
    "start_time": "2021-11-11T11:28:34.284Z"
   },
   {
    "duration": 15,
    "start_time": "2021-11-11T11:28:34.795Z"
   },
   {
    "duration": 5,
    "start_time": "2021-11-11T11:28:35.455Z"
   },
   {
    "duration": 137,
    "start_time": "2021-11-11T11:29:44.798Z"
   },
   {
    "duration": 39,
    "start_time": "2021-11-11T11:29:56.441Z"
   },
   {
    "duration": 23,
    "start_time": "2021-11-11T11:31:22.096Z"
   },
   {
    "duration": 24,
    "start_time": "2021-11-11T11:31:28.951Z"
   },
   {
    "duration": 23,
    "start_time": "2021-11-11T11:31:34.398Z"
   },
   {
    "duration": 6,
    "start_time": "2021-11-11T11:31:39.495Z"
   },
   {
    "duration": 3,
    "start_time": "2021-11-11T11:33:51.608Z"
   },
   {
    "duration": 3,
    "start_time": "2021-11-11T11:33:55.509Z"
   },
   {
    "duration": 4,
    "start_time": "2021-11-11T11:33:56.683Z"
   },
   {
    "duration": 5,
    "start_time": "2021-11-11T11:36:08.458Z"
   },
   {
    "duration": 4,
    "start_time": "2021-11-11T11:36:20.233Z"
   },
   {
    "duration": 5,
    "start_time": "2021-11-11T11:37:08.823Z"
   },
   {
    "duration": 4,
    "start_time": "2021-11-11T11:40:04.652Z"
   },
   {
    "duration": 410,
    "start_time": "2021-11-11T11:40:11.011Z"
   },
   {
    "duration": 427,
    "start_time": "2021-11-11T11:40:18.561Z"
   },
   {
    "duration": 5,
    "start_time": "2021-11-11T11:41:05.808Z"
   },
   {
    "duration": 6,
    "start_time": "2021-11-11T11:41:13.484Z"
   },
   {
    "duration": 5,
    "start_time": "2021-11-11T11:42:08.320Z"
   },
   {
    "duration": 6,
    "start_time": "2021-11-11T11:42:47.198Z"
   },
   {
    "duration": 6,
    "start_time": "2021-11-11T11:47:39.633Z"
   },
   {
    "duration": 11,
    "start_time": "2021-11-11T11:47:45.284Z"
   },
   {
    "duration": 359,
    "start_time": "2021-11-11T11:48:38.640Z"
   },
   {
    "duration": 5,
    "start_time": "2021-11-11T11:48:54.255Z"
   },
   {
    "duration": 36,
    "start_time": "2021-11-11T11:48:59.505Z"
   },
   {
    "duration": 6,
    "start_time": "2021-11-11T11:49:05.660Z"
   },
   {
    "duration": 6,
    "start_time": "2021-11-11T11:49:15.357Z"
   },
   {
    "duration": 586,
    "start_time": "2021-11-11T11:49:40.342Z"
   },
   {
    "duration": 446,
    "start_time": "2021-11-11T11:50:21.387Z"
   },
   {
    "duration": 380,
    "start_time": "2021-11-11T11:50:38.564Z"
   },
   {
    "duration": 7,
    "start_time": "2021-11-11T11:50:45.825Z"
   },
   {
    "duration": 5915,
    "start_time": "2021-11-11T11:50:47.494Z"
   },
   {
    "duration": 8,
    "start_time": "2021-11-11T11:51:56.563Z"
   },
   {
    "duration": 8,
    "start_time": "2021-11-11T11:52:05.745Z"
   },
   {
    "duration": 8,
    "start_time": "2021-11-11T11:52:10.783Z"
   },
   {
    "duration": 8,
    "start_time": "2021-11-11T11:52:20.621Z"
   },
   {
    "duration": 9,
    "start_time": "2021-11-11T11:52:39.671Z"
   },
   {
    "duration": 9,
    "start_time": "2021-11-11T11:52:51.892Z"
   },
   {
    "duration": 8,
    "start_time": "2021-11-11T11:53:05.551Z"
   },
   {
    "duration": 250,
    "start_time": "2021-11-11T11:53:41.024Z"
   },
   {
    "duration": 377,
    "start_time": "2021-11-11T11:53:53.410Z"
   },
   {
    "duration": 366,
    "start_time": "2021-11-11T11:54:16.696Z"
   },
   {
    "duration": 4899,
    "start_time": "2021-11-11T11:54:42.146Z"
   },
   {
    "duration": 120,
    "start_time": "2021-11-11T11:54:56.012Z"
   },
   {
    "duration": 376,
    "start_time": "2021-11-11T11:54:58.869Z"
   },
   {
    "duration": 397,
    "start_time": "2021-11-11T11:55:04.686Z"
   },
   {
    "duration": 296,
    "start_time": "2021-11-11T11:55:15.615Z"
   },
   {
    "duration": 9,
    "start_time": "2021-11-11T11:56:55.515Z"
   },
   {
    "duration": 10176,
    "start_time": "2021-11-11T12:04:14.631Z"
   },
   {
    "duration": 10388,
    "start_time": "2021-11-11T12:04:42.499Z"
   },
   {
    "duration": 9,
    "start_time": "2021-11-11T12:05:08.220Z"
   },
   {
    "duration": 420,
    "start_time": "2021-11-11T12:06:41.062Z"
   },
   {
    "duration": 56,
    "start_time": "2021-11-11T12:06:50.342Z"
   },
   {
    "duration": 18,
    "start_time": "2021-11-11T12:07:08.066Z"
   },
   {
    "duration": 92273,
    "start_time": "2021-11-11T12:07:38.396Z"
   },
   {
    "duration": 20,
    "start_time": "2021-11-11T12:09:22.186Z"
   },
   {
    "duration": 294,
    "start_time": "2021-11-11T12:10:14.881Z"
   },
   {
    "duration": 306,
    "start_time": "2021-11-11T12:11:22.048Z"
   },
   {
    "duration": 318,
    "start_time": "2021-11-11T12:11:54.934Z"
   },
   {
    "duration": 309,
    "start_time": "2021-11-11T12:12:01.473Z"
   },
   {
    "duration": 291,
    "start_time": "2021-11-11T12:12:08.311Z"
   },
   {
    "duration": 287,
    "start_time": "2021-11-11T12:12:15.607Z"
   },
   {
    "duration": 77,
    "start_time": "2021-11-11T12:12:25.195Z"
   },
   {
    "duration": 297,
    "start_time": "2021-11-11T12:12:41.584Z"
   },
   {
    "duration": 320,
    "start_time": "2021-11-11T12:12:50.793Z"
   },
   {
    "duration": 17,
    "start_time": "2021-11-11T12:13:11.224Z"
   },
   {
    "duration": 320,
    "start_time": "2021-11-11T12:13:18.434Z"
   },
   {
    "duration": 19,
    "start_time": "2021-11-11T12:13:48.414Z"
   },
   {
    "duration": 357,
    "start_time": "2021-11-11T12:14:33.374Z"
   },
   {
    "duration": 354,
    "start_time": "2021-11-11T12:14:47.934Z"
   },
   {
    "duration": 329,
    "start_time": "2021-11-11T12:15:13.945Z"
   },
   {
    "duration": 17,
    "start_time": "2021-11-11T12:15:37.707Z"
   },
   {
    "duration": 18,
    "start_time": "2021-11-11T12:16:10.292Z"
   },
   {
    "duration": 19,
    "start_time": "2021-11-11T12:16:37.629Z"
   },
   {
    "duration": 308,
    "start_time": "2021-11-11T12:17:02.458Z"
   },
   {
    "duration": 279,
    "start_time": "2021-11-11T12:17:12.982Z"
   },
   {
    "duration": 293,
    "start_time": "2021-11-11T12:17:20.713Z"
   },
   {
    "duration": 18,
    "start_time": "2021-11-11T12:17:37.192Z"
   },
   {
    "duration": 22,
    "start_time": "2021-11-11T12:17:48.100Z"
   },
   {
    "duration": 331,
    "start_time": "2021-11-11T12:18:03.533Z"
   },
   {
    "duration": 313,
    "start_time": "2021-11-11T12:18:12.279Z"
   },
   {
    "duration": 120,
    "start_time": "2021-11-11T12:21:36.151Z"
   },
   {
    "duration": 1641,
    "start_time": "2021-11-11T12:28:12.498Z"
   },
   {
    "duration": 3787,
    "start_time": "2021-11-11T12:28:14.148Z"
   },
   {
    "duration": 35,
    "start_time": "2021-11-11T12:28:17.938Z"
   },
   {
    "duration": 30,
    "start_time": "2021-11-11T12:28:17.976Z"
   },
   {
    "duration": 5,
    "start_time": "2021-11-11T12:28:18.009Z"
   },
   {
    "duration": 45,
    "start_time": "2021-11-11T12:28:18.016Z"
   },
   {
    "duration": 14,
    "start_time": "2021-11-11T12:28:18.064Z"
   },
   {
    "duration": 52,
    "start_time": "2021-11-11T12:28:18.082Z"
   },
   {
    "duration": 128,
    "start_time": "2021-11-11T12:28:18.137Z"
   },
   {
    "duration": 126,
    "start_time": "2021-11-11T12:28:18.267Z"
   },
   {
    "duration": 41,
    "start_time": "2021-11-11T12:28:18.396Z"
   },
   {
    "duration": 83,
    "start_time": "2021-11-11T12:28:18.440Z"
   },
   {
    "duration": 35,
    "start_time": "2021-11-11T12:28:18.528Z"
   },
   {
    "duration": 33,
    "start_time": "2021-11-11T12:28:18.565Z"
   },
   {
    "duration": 27,
    "start_time": "2021-11-11T12:28:18.600Z"
   },
   {
    "duration": 83,
    "start_time": "2021-11-11T12:28:18.632Z"
   },
   {
    "duration": 144,
    "start_time": "2021-11-11T12:28:18.718Z"
   },
   {
    "duration": 65,
    "start_time": "2021-11-11T12:28:18.865Z"
   },
   {
    "duration": 46,
    "start_time": "2021-11-11T12:28:18.932Z"
   },
   {
    "duration": 79,
    "start_time": "2021-11-11T12:28:18.981Z"
   },
   {
    "duration": 422,
    "start_time": "2021-11-11T12:28:19.063Z"
   },
   {
    "duration": 7,
    "start_time": "2021-11-11T12:28:19.487Z"
   },
   {
    "duration": 16,
    "start_time": "2021-11-11T12:28:19.496Z"
   },
   {
    "duration": 44,
    "start_time": "2021-11-11T12:28:19.517Z"
   },
   {
    "duration": 11,
    "start_time": "2021-11-11T12:28:19.564Z"
   },
   {
    "duration": 55,
    "start_time": "2021-11-11T12:28:19.578Z"
   },
   {
    "duration": 7,
    "start_time": "2021-11-11T12:28:19.660Z"
   },
   {
    "duration": 3439,
    "start_time": "2021-11-11T12:28:19.670Z"
   },
   {
    "duration": 24,
    "start_time": "2021-11-11T12:28:23.111Z"
   },
   {
    "duration": 16,
    "start_time": "2021-11-11T12:28:23.158Z"
   },
   {
    "duration": 146,
    "start_time": "2021-11-11T12:28:23.177Z"
   },
   {
    "duration": 335,
    "start_time": "2021-11-11T12:28:23.325Z"
   },
   {
    "duration": 8,
    "start_time": "2021-11-11T12:28:23.663Z"
   },
   {
    "duration": 39,
    "start_time": "2021-11-11T12:28:23.674Z"
   },
   {
    "duration": 48,
    "start_time": "2021-11-11T12:28:23.717Z"
   },
   {
    "duration": 38,
    "start_time": "2021-11-11T12:28:23.768Z"
   },
   {
    "duration": 59,
    "start_time": "2021-11-11T12:28:23.809Z"
   },
   {
    "duration": 31,
    "start_time": "2021-11-11T12:28:23.870Z"
   },
   {
    "duration": 14,
    "start_time": "2021-11-11T12:28:23.903Z"
   },
   {
    "duration": 25,
    "start_time": "2021-11-11T12:28:23.919Z"
   },
   {
    "duration": 461,
    "start_time": "2021-11-11T12:28:23.946Z"
   },
   {
    "duration": 5,
    "start_time": "2021-11-11T12:28:24.409Z"
   },
   {
    "duration": 43,
    "start_time": "2021-11-11T12:28:24.416Z"
   },
   {
    "duration": 4,
    "start_time": "2021-11-11T12:28:24.461Z"
   },
   {
    "duration": 371,
    "start_time": "2021-11-11T12:28:24.467Z"
   },
   {
    "duration": 4,
    "start_time": "2021-11-11T12:28:24.841Z"
   },
   {
    "duration": 6762,
    "start_time": "2021-11-11T12:28:24.860Z"
   },
   {
    "duration": 26833,
    "start_time": "2021-11-11T12:28:31.628Z"
   },
   {
    "duration": 5,
    "start_time": "2021-11-11T12:28:58.464Z"
   },
   {
    "duration": 221,
    "start_time": "2021-11-11T12:28:58.471Z"
   },
   {
    "duration": 4,
    "start_time": "2021-11-11T12:28:58.695Z"
   },
   {
    "duration": 7,
    "start_time": "2021-11-11T12:28:58.701Z"
   },
   {
    "duration": 13099,
    "start_time": "2021-11-11T12:28:58.710Z"
   },
   {
    "duration": 7,
    "start_time": "2021-11-11T12:29:11.812Z"
   },
   {
    "duration": 293,
    "start_time": "2021-11-11T12:29:11.822Z"
   },
   {
    "duration": 946,
    "start_time": "2021-11-11T12:29:12.118Z"
   },
   {
    "duration": 6,
    "start_time": "2021-11-11T12:29:13.067Z"
   },
   {
    "duration": 173,
    "start_time": "2021-11-11T12:29:13.076Z"
   },
   {
    "duration": 8,
    "start_time": "2021-11-11T12:29:13.252Z"
   },
   {
    "duration": 10,
    "start_time": "2021-11-11T12:29:13.263Z"
   },
   {
    "duration": 288737,
    "start_time": "2021-11-11T12:29:13.275Z"
   },
   {
    "duration": 7,
    "start_time": "2021-11-11T12:34:02.014Z"
   },
   {
    "duration": 305,
    "start_time": "2021-11-11T12:34:02.024Z"
   },
   {
    "duration": 1735,
    "start_time": "2021-11-11T12:34:02.331Z"
   },
   {
    "duration": 5,
    "start_time": "2021-11-11T12:34:04.069Z"
   },
   {
    "duration": 260,
    "start_time": "2021-11-11T12:34:04.076Z"
   },
   {
    "duration": 564,
    "start_time": "2021-11-11T12:34:04.339Z"
   },
   {
    "duration": 365,
    "start_time": "2021-11-11T12:34:04.906Z"
   },
   {
    "duration": 50,
    "start_time": "2021-11-11T12:34:05.274Z"
   },
   {
    "duration": 105,
    "start_time": "2021-11-11T12:34:05.327Z"
   },
   {
    "duration": 28,
    "start_time": "2021-11-11T12:34:05.438Z"
   },
   {
    "duration": 22,
    "start_time": "2021-11-11T12:34:05.470Z"
   },
   {
    "duration": 6,
    "start_time": "2021-11-11T12:34:05.495Z"
   },
   {
    "duration": 63,
    "start_time": "2021-11-11T12:34:05.503Z"
   },
   {
    "duration": 14,
    "start_time": "2021-11-11T12:34:05.568Z"
   },
   {
    "duration": 175,
    "start_time": "2021-11-11T12:34:05.584Z"
   },
   {
    "duration": 318,
    "start_time": "2021-11-11T12:34:05.761Z"
   },
   {
    "duration": 8,
    "start_time": "2021-11-11T12:34:06.082Z"
   },
   {
    "duration": 67,
    "start_time": "2021-11-11T12:34:06.093Z"
   },
   {
    "duration": 6,
    "start_time": "2021-11-11T12:34:06.163Z"
   },
   {
    "duration": 37,
    "start_time": "2021-11-11T12:34:06.173Z"
   },
   {
    "duration": 4,
    "start_time": "2021-11-11T12:34:06.213Z"
   },
   {
    "duration": 38,
    "start_time": "2021-11-11T12:34:06.221Z"
   },
   {
    "duration": 9,
    "start_time": "2021-11-11T12:34:06.261Z"
   },
   {
    "duration": 12,
    "start_time": "2021-11-11T12:34:06.272Z"
   },
   {
    "duration": 10,
    "start_time": "2021-11-11T12:34:06.287Z"
   },
   {
    "duration": 8,
    "start_time": "2021-11-11T12:34:06.300Z"
   },
   {
    "duration": 8,
    "start_time": "2021-11-11T12:34:06.310Z"
   },
   {
    "duration": 351,
    "start_time": "2021-11-11T12:34:06.321Z"
   },
   {
    "duration": 324,
    "start_time": "2021-11-11T12:34:06.674Z"
   },
   {
    "duration": 17,
    "start_time": "2021-11-11T12:34:07.001Z"
   },
   {
    "duration": 318,
    "start_time": "2021-11-11T12:34:07.021Z"
   },
   {
    "duration": 30,
    "start_time": "2021-11-11T12:34:07.341Z"
   },
   {
    "duration": 26191,
    "start_time": "2021-11-11T12:58:07.877Z"
   },
   {
    "duration": 8,
    "start_time": "2021-11-11T12:58:34.160Z"
   },
   {
    "duration": 317,
    "start_time": "2021-11-11T12:58:34.172Z"
   },
   {
    "duration": 3,
    "start_time": "2021-11-11T12:58:34.492Z"
   },
   {
    "duration": 24,
    "start_time": "2021-11-11T12:58:34.498Z"
   },
   {
    "duration": 13383,
    "start_time": "2021-11-11T12:58:34.525Z"
   },
   {
    "duration": 6,
    "start_time": "2021-11-11T12:58:47.910Z"
   },
   {
    "duration": 189,
    "start_time": "2021-11-11T12:58:47.919Z"
   },
   {
    "duration": 867,
    "start_time": "2021-11-11T12:58:48.111Z"
   },
   {
    "duration": 5,
    "start_time": "2021-11-11T12:58:48.981Z"
   },
   {
    "duration": 172,
    "start_time": "2021-11-11T12:58:48.988Z"
   },
   {
    "duration": 4,
    "start_time": "2021-11-11T12:58:49.162Z"
   },
   {
    "duration": 7,
    "start_time": "2021-11-11T12:58:49.168Z"
   },
   {
    "duration": 304207,
    "start_time": "2021-11-11T12:58:49.177Z"
   },
   {
    "duration": 6,
    "start_time": "2021-11-11T13:03:53.386Z"
   },
   {
    "duration": 198,
    "start_time": "2021-11-11T13:03:53.395Z"
   },
   {
    "duration": 965,
    "start_time": "2021-11-11T13:03:53.595Z"
   },
   {
    "duration": 7,
    "start_time": "2021-11-11T13:03:54.563Z"
   },
   {
    "duration": 290,
    "start_time": "2021-11-11T13:03:54.573Z"
   },
   {
    "duration": 493,
    "start_time": "2021-11-11T13:03:54.867Z"
   },
   {
    "duration": 377,
    "start_time": "2021-11-11T13:03:55.363Z"
   },
   {
    "duration": 56,
    "start_time": "2021-11-11T13:03:55.743Z"
   },
   {
    "duration": 94,
    "start_time": "2021-11-11T13:03:55.803Z"
   },
   {
    "duration": 14,
    "start_time": "2021-11-11T13:04:45.667Z"
   },
   {
    "duration": 25,
    "start_time": "2021-11-11T13:04:45.809Z"
   },
   {
    "duration": 7,
    "start_time": "2021-11-11T13:04:45.953Z"
   },
   {
    "duration": 43,
    "start_time": "2021-11-11T13:04:46.250Z"
   },
   {
    "duration": 15,
    "start_time": "2021-11-11T13:04:46.599Z"
   },
   {
    "duration": 148,
    "start_time": "2021-11-11T13:04:47.362Z"
   },
   {
    "duration": 267,
    "start_time": "2021-11-11T13:04:47.750Z"
   },
   {
    "duration": 6,
    "start_time": "2021-11-11T13:04:48.019Z"
   },
   {
    "duration": 45,
    "start_time": "2021-11-11T13:04:48.113Z"
   },
   {
    "duration": 6,
    "start_time": "2021-11-11T13:04:48.769Z"
   },
   {
    "duration": 25,
    "start_time": "2021-11-11T13:04:49.660Z"
   },
   {
    "duration": 3,
    "start_time": "2021-11-11T13:04:50.061Z"
   },
   {
    "duration": 4,
    "start_time": "2021-11-11T13:04:50.402Z"
   },
   {
    "duration": 4,
    "start_time": "2021-11-11T13:04:50.594Z"
   },
   {
    "duration": 5,
    "start_time": "2021-11-11T13:04:50.762Z"
   },
   {
    "duration": 5,
    "start_time": "2021-11-11T13:04:50.979Z"
   },
   {
    "duration": 6,
    "start_time": "2021-11-11T13:04:51.281Z"
   },
   {
    "duration": 9,
    "start_time": "2021-11-11T13:04:52.373Z"
   },
   {
    "duration": 303,
    "start_time": "2021-11-11T13:04:52.659Z"
   },
   {
    "duration": 316,
    "start_time": "2021-11-11T13:04:53.196Z"
   },
   {
    "duration": 21,
    "start_time": "2021-11-11T13:04:54.439Z"
   },
   {
    "duration": 391,
    "start_time": "2021-11-11T13:04:54.824Z"
   },
   {
    "duration": 19,
    "start_time": "2021-11-11T13:04:55.217Z"
   },
   {
    "duration": 1515,
    "start_time": "2021-11-12T11:45:42.743Z"
   },
   {
    "duration": 372,
    "start_time": "2021-11-12T11:45:44.262Z"
   },
   {
    "duration": 37,
    "start_time": "2021-11-12T11:45:44.637Z"
   },
   {
    "duration": 52,
    "start_time": "2021-11-12T11:45:44.676Z"
   },
   {
    "duration": 5,
    "start_time": "2021-11-12T11:45:44.731Z"
   },
   {
    "duration": 21,
    "start_time": "2021-11-12T11:45:44.739Z"
   },
   {
    "duration": 15,
    "start_time": "2021-11-12T11:45:44.762Z"
   },
   {
    "duration": 84,
    "start_time": "2021-11-12T11:45:44.780Z"
   },
   {
    "duration": 114,
    "start_time": "2021-11-12T11:45:44.867Z"
   },
   {
    "duration": 132,
    "start_time": "2021-11-12T11:45:44.983Z"
   },
   {
    "duration": 43,
    "start_time": "2021-11-12T11:45:45.896Z"
   },
   {
    "duration": 72,
    "start_time": "2021-11-12T11:45:46.403Z"
   },
   {
    "duration": 18,
    "start_time": "2021-11-12T11:45:47.552Z"
   },
   {
    "duration": 28,
    "start_time": "2021-11-12T11:45:47.988Z"
   },
   {
    "duration": 29,
    "start_time": "2021-11-12T11:45:49.739Z"
   },
   {
    "duration": 64,
    "start_time": "2021-11-12T11:45:50.772Z"
   },
   {
    "duration": 105,
    "start_time": "2021-11-12T11:45:51.496Z"
   },
   {
    "duration": 56,
    "start_time": "2021-11-12T11:45:52.360Z"
   },
   {
    "duration": 27,
    "start_time": "2021-11-12T11:45:52.972Z"
   },
   {
    "duration": 56,
    "start_time": "2021-11-12T11:45:53.532Z"
   },
   {
    "duration": 404,
    "start_time": "2021-11-12T11:45:54.184Z"
   },
   {
    "duration": 7,
    "start_time": "2021-11-12T11:45:54.737Z"
   },
   {
    "duration": 11,
    "start_time": "2021-11-12T11:45:55.347Z"
   },
   {
    "duration": 15,
    "start_time": "2021-11-12T11:45:55.642Z"
   },
   {
    "duration": 14,
    "start_time": "2021-11-12T11:45:55.976Z"
   },
   {
    "duration": 55,
    "start_time": "2021-11-12T11:45:56.711Z"
   },
   {
    "duration": 6,
    "start_time": "2021-11-12T11:45:57.519Z"
   },
   {
    "duration": 3364,
    "start_time": "2021-11-12T11:45:57.996Z"
   },
   {
    "duration": 29,
    "start_time": "2021-11-12T11:46:01.362Z"
   },
   {
    "duration": 19,
    "start_time": "2021-11-12T12:05:19.895Z"
   },
   {
    "duration": 143,
    "start_time": "2021-11-12T12:05:20.399Z"
   },
   {
    "duration": 290,
    "start_time": "2021-11-12T12:05:20.858Z"
   },
   {
    "duration": 9,
    "start_time": "2021-11-12T12:05:21.151Z"
   },
   {
    "duration": 40,
    "start_time": "2021-11-12T12:05:21.567Z"
   },
   {
    "duration": 31,
    "start_time": "2021-11-12T12:05:21.783Z"
   },
   {
    "duration": 122,
    "start_time": "2021-11-12T12:05:22.238Z"
   },
   {
    "duration": 42,
    "start_time": "2021-11-12T12:05:22.585Z"
   },
   {
    "duration": 31,
    "start_time": "2021-11-12T12:05:22.690Z"
   },
   {
    "duration": 17,
    "start_time": "2021-11-12T12:05:25.291Z"
   },
   {
    "duration": 6,
    "start_time": "2021-11-12T12:05:25.311Z"
   },
   {
    "duration": 486,
    "start_time": "2021-11-12T12:05:25.322Z"
   },
   {
    "duration": 12,
    "start_time": "2021-11-12T12:05:25.812Z"
   },
   {
    "duration": 27,
    "start_time": "2021-11-12T12:05:25.828Z"
   },
   {
    "duration": 4,
    "start_time": "2021-11-12T12:05:26.106Z"
   },
   {
    "duration": 379,
    "start_time": "2021-11-12T12:05:26.383Z"
   },
   {
    "duration": 4,
    "start_time": "2021-11-12T12:05:26.770Z"
   },
   {
    "duration": 7512,
    "start_time": "2021-11-12T12:05:27.047Z"
   },
   {
    "duration": 29365,
    "start_time": "2021-11-12T12:05:34.561Z"
   },
   {
    "duration": 94,
    "start_time": "2021-11-12T12:06:03.932Z"
   },
   {
    "duration": 319,
    "start_time": "2021-11-12T12:06:04.031Z"
   },
   {
    "duration": 3,
    "start_time": "2021-11-12T12:06:04.353Z"
   },
   {
    "duration": 8,
    "start_time": "2021-11-12T12:06:04.358Z"
   },
   {
    "duration": 13241,
    "start_time": "2021-11-12T12:06:04.369Z"
   },
   {
    "duration": 10,
    "start_time": "2021-11-12T12:06:17.614Z"
   },
   {
    "duration": 192,
    "start_time": "2021-11-12T12:06:17.627Z"
   },
   {
    "duration": 881,
    "start_time": "2021-11-12T12:06:17.823Z"
   },
   {
    "duration": 5,
    "start_time": "2021-11-12T12:06:18.706Z"
   },
   {
    "duration": 158,
    "start_time": "2021-11-12T12:06:18.723Z"
   },
   {
    "duration": 3,
    "start_time": "2021-11-12T12:06:18.884Z"
   },
   {
    "duration": 15,
    "start_time": "2021-11-12T12:06:18.890Z"
   },
   {
    "duration": 306042,
    "start_time": "2021-11-12T12:06:18.907Z"
   },
   {
    "duration": 6,
    "start_time": "2021-11-12T12:11:24.951Z"
   },
   {
    "duration": 190,
    "start_time": "2021-11-12T12:11:24.959Z"
   },
   {
    "duration": 946,
    "start_time": "2021-11-12T12:11:25.152Z"
   },
   {
    "duration": 7,
    "start_time": "2021-11-12T12:11:26.101Z"
   },
   {
    "duration": 205,
    "start_time": "2021-11-12T12:11:26.123Z"
   },
   {
    "duration": 487,
    "start_time": "2021-11-12T12:11:26.331Z"
   },
   {
    "duration": 365,
    "start_time": "2021-11-12T12:11:26.822Z"
   },
   {
    "duration": 58,
    "start_time": "2021-11-12T12:11:27.192Z"
   },
   {
    "duration": 86,
    "start_time": "2021-11-12T12:11:27.253Z"
   },
   {
    "duration": 15,
    "start_time": "2021-11-12T12:11:27.342Z"
   },
   {
    "duration": 21,
    "start_time": "2021-11-12T12:11:27.359Z"
   },
   {
    "duration": 7,
    "start_time": "2021-11-12T12:11:27.383Z"
   },
   {
    "duration": 62,
    "start_time": "2021-11-12T12:11:27.392Z"
   },
   {
    "duration": 14,
    "start_time": "2021-11-12T12:11:27.457Z"
   },
   {
    "duration": 178,
    "start_time": "2021-11-12T12:11:27.474Z"
   },
   {
    "duration": 301,
    "start_time": "2021-11-12T12:11:27.654Z"
   },
   {
    "duration": 6,
    "start_time": "2021-11-12T12:11:27.957Z"
   },
   {
    "duration": 60,
    "start_time": "2021-11-12T12:11:27.965Z"
   },
   {
    "duration": 7,
    "start_time": "2021-11-12T12:11:28.027Z"
   },
   {
    "duration": 32,
    "start_time": "2021-11-12T12:11:28.036Z"
   },
   {
    "duration": 4,
    "start_time": "2021-11-12T12:11:28.070Z"
   },
   {
    "duration": 10,
    "start_time": "2021-11-12T12:11:28.076Z"
   },
   {
    "duration": 33,
    "start_time": "2021-11-12T12:11:28.089Z"
   },
   {
    "duration": 9,
    "start_time": "2021-11-12T12:11:28.125Z"
   },
   {
    "duration": 13,
    "start_time": "2021-11-12T12:11:28.136Z"
   },
   {
    "duration": 6,
    "start_time": "2021-11-12T12:11:28.151Z"
   },
   {
    "duration": 12,
    "start_time": "2021-11-12T12:11:28.159Z"
   },
   {
    "duration": 328,
    "start_time": "2021-11-12T12:11:28.173Z"
   },
   {
    "duration": 321,
    "start_time": "2021-11-12T12:11:28.504Z"
   },
   {
    "duration": 18,
    "start_time": "2021-11-12T12:11:28.828Z"
   },
   {
    "duration": 430,
    "start_time": "2021-11-12T12:11:28.848Z"
   },
   {
    "duration": 20,
    "start_time": "2021-11-12T12:11:29.280Z"
   },
   {
    "duration": 1195,
    "start_time": "2021-11-12T19:50:44.997Z"
   },
   {
    "duration": 237,
    "start_time": "2021-11-12T19:50:46.453Z"
   },
   {
    "duration": 25,
    "start_time": "2021-11-12T19:50:46.692Z"
   },
   {
    "duration": 17,
    "start_time": "2021-11-12T19:50:46.875Z"
   },
   {
    "duration": 4,
    "start_time": "2021-11-12T19:50:47.060Z"
   },
   {
    "duration": 9,
    "start_time": "2021-11-12T19:50:47.666Z"
   },
   {
    "duration": 10,
    "start_time": "2021-11-12T19:50:47.911Z"
   },
   {
    "duration": 31,
    "start_time": "2021-11-12T19:50:53.431Z"
   },
   {
    "duration": 63,
    "start_time": "2021-11-12T19:50:53.949Z"
   },
   {
    "duration": 79,
    "start_time": "2021-11-12T19:50:54.195Z"
   },
   {
    "duration": 28,
    "start_time": "2021-11-12T19:50:54.966Z"
   },
   {
    "duration": 46,
    "start_time": "2021-11-12T19:50:55.360Z"
   },
   {
    "duration": 13,
    "start_time": "2021-11-12T19:50:56.308Z"
   },
   {
    "duration": 21,
    "start_time": "2021-11-12T19:50:56.534Z"
   },
   {
    "duration": 20,
    "start_time": "2021-11-12T19:50:56.930Z"
   },
   {
    "duration": 52,
    "start_time": "2021-11-12T19:50:57.513Z"
   },
   {
    "duration": 66,
    "start_time": "2021-11-12T19:51:01.876Z"
   },
   {
    "duration": 38,
    "start_time": "2021-11-12T19:51:03.068Z"
   },
   {
    "duration": 17,
    "start_time": "2021-11-12T19:51:05.937Z"
   },
   {
    "duration": 34,
    "start_time": "2021-11-12T19:51:07.732Z"
   },
   {
    "duration": 260,
    "start_time": "2021-11-12T19:51:08.376Z"
   },
   {
    "duration": 5,
    "start_time": "2021-11-12T19:51:10.120Z"
   },
   {
    "duration": 11,
    "start_time": "2021-11-12T19:51:10.127Z"
   },
   {
    "duration": 13,
    "start_time": "2021-11-12T19:51:10.140Z"
   },
   {
    "duration": 6,
    "start_time": "2021-11-12T19:51:10.317Z"
   },
   {
    "duration": 32,
    "start_time": "2021-11-12T19:51:11.274Z"
   },
   {
    "duration": 4,
    "start_time": "2021-11-12T19:51:12.122Z"
   },
   {
    "duration": 1998,
    "start_time": "2021-11-12T19:51:13.051Z"
   },
   {
    "duration": 17,
    "start_time": "2021-11-12T19:51:15.051Z"
   },
   {
    "duration": 12,
    "start_time": "2021-11-12T19:51:18.970Z"
   },
   {
    "duration": 82,
    "start_time": "2021-11-12T19:51:20.601Z"
   },
   {
    "duration": 166,
    "start_time": "2021-11-12T19:51:21.622Z"
   },
   {
    "duration": 5,
    "start_time": "2021-11-12T19:51:21.844Z"
   },
   {
    "duration": 24,
    "start_time": "2021-11-12T19:51:22.713Z"
   },
   {
    "duration": 18,
    "start_time": "2021-11-12T19:51:23.246Z"
   },
   {
    "duration": 78,
    "start_time": "2021-11-12T19:51:23.997Z"
   },
   {
    "duration": 25,
    "start_time": "2021-11-12T19:51:24.204Z"
   },
   {
    "duration": 22,
    "start_time": "2021-11-12T19:51:24.427Z"
   },
   {
    "duration": 9,
    "start_time": "2021-11-12T19:51:24.700Z"
   },
   {
    "duration": 4,
    "start_time": "2021-11-12T19:51:25.535Z"
   },
   {
    "duration": 3,
    "start_time": "2021-11-12T19:54:18.107Z"
   },
   {
    "duration": 17,
    "start_time": "2021-11-12T19:55:01.649Z"
   },
   {
    "duration": 19,
    "start_time": "2021-11-12T19:55:08.206Z"
   },
   {
    "duration": 726,
    "start_time": "2021-11-12T20:04:20.401Z"
   },
   {
    "duration": 376,
    "start_time": "2021-11-12T20:04:33.312Z"
   },
   {
    "duration": 10,
    "start_time": "2021-11-12T20:04:45.284Z"
   },
   {
    "duration": 5,
    "start_time": "2021-11-12T20:04:52.605Z"
   },
   {
    "duration": 4,
    "start_time": "2021-11-12T20:05:06.680Z"
   },
   {
    "duration": 352,
    "start_time": "2021-11-12T20:06:26.553Z"
   },
   {
    "duration": 72,
    "start_time": "2021-11-12T20:06:42.031Z"
   },
   {
    "duration": 2,
    "start_time": "2021-11-12T20:06:47.772Z"
   },
   {
    "duration": 4,
    "start_time": "2021-11-12T20:06:51.518Z"
   },
   {
    "duration": 3,
    "start_time": "2021-11-12T20:09:32.715Z"
   },
   {
    "duration": 4,
    "start_time": "2021-11-12T20:09:37.369Z"
   },
   {
    "duration": 77,
    "start_time": "2021-11-12T20:09:57.431Z"
   },
   {
    "duration": 3,
    "start_time": "2021-11-12T20:09:58.083Z"
   },
   {
    "duration": 79,
    "start_time": "2021-11-12T20:10:40.357Z"
   },
   {
    "duration": 4,
    "start_time": "2021-11-12T20:10:45.137Z"
   },
   {
    "duration": 3,
    "start_time": "2021-11-12T20:10:53.872Z"
   },
   {
    "duration": 4,
    "start_time": "2021-11-12T20:10:55.983Z"
   },
   {
    "duration": 74,
    "start_time": "2021-11-12T20:11:07.028Z"
   },
   {
    "duration": 294,
    "start_time": "2021-11-12T20:11:43.973Z"
   },
   {
    "duration": 4,
    "start_time": "2021-11-12T20:11:46.706Z"
   },
   {
    "duration": 87,
    "start_time": "2021-11-12T20:11:54.288Z"
   },
   {
    "duration": 4,
    "start_time": "2021-11-12T20:12:00.052Z"
   },
   {
    "duration": 3,
    "start_time": "2021-11-12T20:12:18.770Z"
   },
   {
    "duration": 33,
    "start_time": "2021-11-12T20:12:25.989Z"
   },
   {
    "duration": 102,
    "start_time": "2021-11-12T20:13:14.776Z"
   },
   {
    "duration": 57,
    "start_time": "2021-11-12T20:15:10.588Z"
   },
   {
    "duration": 31,
    "start_time": "2021-11-12T20:15:16.816Z"
   },
   {
    "duration": 433,
    "start_time": "2021-11-12T20:16:42.976Z"
   },
   {
    "duration": 73,
    "start_time": "2021-11-12T20:17:19.456Z"
   },
   {
    "duration": 49,
    "start_time": "2021-11-12T20:17:47.732Z"
   },
   {
    "duration": 372,
    "start_time": "2021-11-12T20:17:48.344Z"
   },
   {
    "duration": 8,
    "start_time": "2021-11-12T20:17:58.992Z"
   },
   {
    "duration": 43,
    "start_time": "2021-11-12T20:18:15.503Z"
   },
   {
    "duration": 4,
    "start_time": "2021-11-12T20:20:21.848Z"
   },
   {
    "duration": 430,
    "start_time": "2021-11-12T20:23:03.004Z"
   },
   {
    "duration": 108,
    "start_time": "2021-11-12T20:23:09.917Z"
   },
   {
    "duration": 59,
    "start_time": "2021-11-12T20:23:32.690Z"
   },
   {
    "duration": 191,
    "start_time": "2021-11-12T20:24:43.056Z"
   },
   {
    "duration": 197,
    "start_time": "2021-11-12T20:25:44.075Z"
   },
   {
    "duration": 195,
    "start_time": "2021-11-12T20:25:52.907Z"
   },
   {
    "duration": 4,
    "start_time": "2021-11-12T20:26:16.714Z"
   },
   {
    "duration": 61,
    "start_time": "2021-11-12T20:28:19.117Z"
   },
   {
    "duration": 13,
    "start_time": "2021-11-12T20:31:03.082Z"
   },
   {
    "duration": 81,
    "start_time": "2021-11-12T20:31:22.189Z"
   },
   {
    "duration": 188,
    "start_time": "2021-11-12T20:31:22.983Z"
   },
   {
    "duration": 4,
    "start_time": "2021-11-12T20:31:27.451Z"
   },
   {
    "duration": 12,
    "start_time": "2021-11-12T20:31:28.468Z"
   },
   {
    "duration": 12,
    "start_time": "2021-11-12T20:31:38.878Z"
   },
   {
    "duration": 401,
    "start_time": "2021-11-12T20:32:37.112Z"
   },
   {
    "duration": 6,
    "start_time": "2021-11-12T20:32:42.024Z"
   },
   {
    "duration": 9456,
    "start_time": "2021-11-12T20:32:54.196Z"
   },
   {
    "duration": 5,
    "start_time": "2021-11-12T20:33:07.616Z"
   },
   {
    "duration": 7,
    "start_time": "2021-11-12T20:33:22.114Z"
   },
   {
    "duration": 7,
    "start_time": "2021-11-12T20:33:28.922Z"
   },
   {
    "duration": 12,
    "start_time": "2021-11-12T20:34:36.341Z"
   },
   {
    "duration": 13,
    "start_time": "2021-11-12T20:34:59.571Z"
   },
   {
    "duration": 7,
    "start_time": "2021-11-12T20:35:04.927Z"
   },
   {
    "duration": 9,
    "start_time": "2021-11-12T20:35:27.452Z"
   },
   {
    "duration": 1011,
    "start_time": "2021-11-12T20:42:43.313Z"
   },
   {
    "duration": 208,
    "start_time": "2021-11-12T20:42:53.707Z"
   },
   {
    "duration": 10,
    "start_time": "2021-11-12T20:42:57.784Z"
   },
   {
    "duration": 8,
    "start_time": "2021-11-12T20:43:04.369Z"
   },
   {
    "duration": 134,
    "start_time": "2021-11-12T21:31:30.652Z"
   },
   {
    "duration": 21,
    "start_time": "2021-11-12T22:13:16.520Z"
   },
   {
    "duration": 38,
    "start_time": "2021-11-12T22:13:16.920Z"
   },
   {
    "duration": 11,
    "start_time": "2021-11-12T22:13:17.814Z"
   },
   {
    "duration": 13,
    "start_time": "2021-11-12T22:13:18.040Z"
   },
   {
    "duration": 22,
    "start_time": "2021-11-12T22:13:18.475Z"
   },
   {
    "duration": 36,
    "start_time": "2021-11-12T22:13:19.187Z"
   },
   {
    "duration": 12,
    "start_time": "2021-11-12T22:13:20.658Z"
   },
   {
    "duration": 4,
    "start_time": "2021-11-12T22:13:28.510Z"
   },
   {
    "duration": 202,
    "start_time": "2021-11-12T22:13:29.132Z"
   },
   {
    "duration": 16,
    "start_time": "2021-11-12T22:13:29.336Z"
   },
   {
    "duration": 16,
    "start_time": "2021-11-12T22:13:29.495Z"
   },
   {
    "duration": 3,
    "start_time": "2021-11-12T22:13:29.655Z"
   },
   {
    "duration": 9,
    "start_time": "2021-11-12T22:13:30.238Z"
   },
   {
    "duration": 9,
    "start_time": "2021-11-12T22:13:30.406Z"
   },
   {
    "duration": 19,
    "start_time": "2021-11-12T22:13:32.373Z"
   },
   {
    "duration": 61,
    "start_time": "2021-11-12T22:13:32.569Z"
   },
   {
    "duration": 73,
    "start_time": "2021-11-12T22:13:32.771Z"
   },
   {
    "duration": 56,
    "start_time": "2021-11-12T22:13:35.275Z"
   },
   {
    "duration": 41,
    "start_time": "2021-11-12T22:13:35.687Z"
   },
   {
    "duration": 12,
    "start_time": "2021-11-12T22:13:36.758Z"
   },
   {
    "duration": 19,
    "start_time": "2021-11-12T22:13:37.014Z"
   },
   {
    "duration": 21,
    "start_time": "2021-11-12T22:13:37.424Z"
   },
   {
    "duration": 33,
    "start_time": "2021-11-12T22:13:38.591Z"
   },
   {
    "duration": 65,
    "start_time": "2021-11-12T22:13:40.264Z"
   },
   {
    "duration": 33,
    "start_time": "2021-11-12T22:13:40.769Z"
   },
   {
    "duration": 64,
    "start_time": "2021-11-12T22:14:22.543Z"
   },
   {
    "duration": 69,
    "start_time": "2021-11-12T22:14:38.784Z"
   },
   {
    "duration": 68,
    "start_time": "2021-11-12T22:14:59.227Z"
   },
   {
    "duration": 69,
    "start_time": "2021-11-12T22:15:28.099Z"
   },
   {
    "duration": 128,
    "start_time": "2021-11-12T22:16:26.520Z"
   },
   {
    "duration": 74,
    "start_time": "2021-11-12T22:16:31.394Z"
   },
   {
    "duration": 66,
    "start_time": "2021-11-12T22:17:22.208Z"
   },
   {
    "duration": 65,
    "start_time": "2021-11-12T22:17:28.439Z"
   },
   {
    "duration": 64,
    "start_time": "2021-11-12T22:17:40.273Z"
   },
   {
    "duration": 46,
    "start_time": "2021-11-12T22:20:53.280Z"
   },
   {
    "duration": 122,
    "start_time": "2021-11-13T07:02:52.173Z"
   },
   {
    "duration": 396,
    "start_time": "2021-11-13T07:20:59.689Z"
   },
   {
    "duration": 1111,
    "start_time": "2021-11-13T07:21:38.626Z"
   },
   {
    "duration": 923,
    "start_time": "2021-11-13T07:22:27.337Z"
   },
   {
    "duration": 112,
    "start_time": "2021-11-13T07:25:43.079Z"
   },
   {
    "duration": 377,
    "start_time": "2021-11-13T07:29:20.045Z"
   },
   {
    "duration": 349,
    "start_time": "2021-11-13T07:29:29.036Z"
   },
   {
    "duration": 14,
    "start_time": "2021-11-13T07:29:34.581Z"
   },
   {
    "duration": 15,
    "start_time": "2021-11-13T07:30:07.358Z"
   },
   {
    "duration": 15,
    "start_time": "2021-11-13T07:30:17.677Z"
   },
   {
    "duration": 19,
    "start_time": "2021-11-13T07:30:46.928Z"
   },
   {
    "duration": 17,
    "start_time": "2021-11-13T07:30:52.093Z"
   },
   {
    "duration": 14,
    "start_time": "2021-11-13T07:31:40.881Z"
   },
   {
    "duration": 15,
    "start_time": "2021-11-13T07:31:51.525Z"
   },
   {
    "duration": 13,
    "start_time": "2021-11-13T07:32:10.237Z"
   },
   {
    "duration": 11,
    "start_time": "2021-11-13T07:32:20.305Z"
   },
   {
    "duration": 14,
    "start_time": "2021-11-13T07:32:29.505Z"
   },
   {
    "duration": 10,
    "start_time": "2021-11-13T07:32:34.031Z"
   },
   {
    "duration": 7,
    "start_time": "2021-11-13T07:32:59.266Z"
   },
   {
    "duration": 14,
    "start_time": "2021-11-13T07:33:11.097Z"
   },
   {
    "duration": 16,
    "start_time": "2021-11-13T07:35:12.214Z"
   },
   {
    "duration": 18,
    "start_time": "2021-11-13T07:36:44.076Z"
   },
   {
    "duration": 21,
    "start_time": "2021-11-13T07:36:59.652Z"
   },
   {
    "duration": 589,
    "start_time": "2021-11-13T07:37:08.703Z"
   },
   {
    "duration": 369,
    "start_time": "2021-11-13T07:37:51.098Z"
   },
   {
    "duration": 22,
    "start_time": "2021-11-13T07:38:00.485Z"
   },
   {
    "duration": 20,
    "start_time": "2021-11-13T07:38:08.371Z"
   },
   {
    "duration": 9082,
    "start_time": "2021-11-13T07:42:57.635Z"
   },
   {
    "duration": 9299,
    "start_time": "2021-11-13T07:43:20.659Z"
   },
   {
    "duration": 16,
    "start_time": "2021-11-13T07:43:37.475Z"
   },
   {
    "duration": 8738,
    "start_time": "2021-11-13T07:43:41.255Z"
   },
   {
    "duration": 542,
    "start_time": "2021-11-13T07:46:37.556Z"
   },
   {
    "duration": 8856,
    "start_time": "2021-11-13T07:46:47.771Z"
   },
   {
    "duration": 8,
    "start_time": "2021-11-13T07:47:06.787Z"
   },
   {
    "duration": 154,
    "start_time": "2021-11-13T07:47:20.954Z"
   },
   {
    "duration": 298,
    "start_time": "2021-11-13T07:48:11.044Z"
   },
   {
    "duration": 200,
    "start_time": "2021-11-13T07:53:13.112Z"
   },
   {
    "duration": 200,
    "start_time": "2021-11-13T07:53:50.539Z"
   },
   {
    "duration": 205,
    "start_time": "2021-11-13T07:53:57.749Z"
   },
   {
    "duration": 205,
    "start_time": "2021-11-13T07:54:13.471Z"
   },
   {
    "duration": 213,
    "start_time": "2021-11-13T07:54:39.381Z"
   },
   {
    "duration": 7,
    "start_time": "2021-11-13T07:55:22.922Z"
   },
   {
    "duration": 302,
    "start_time": "2021-11-13T07:56:14.928Z"
   },
   {
    "duration": 208,
    "start_time": "2021-11-13T07:56:35.375Z"
   },
   {
    "duration": 205,
    "start_time": "2021-11-13T07:56:46.216Z"
   },
   {
    "duration": 218,
    "start_time": "2021-11-13T07:57:00.162Z"
   },
   {
    "duration": 210,
    "start_time": "2021-11-13T07:57:55.477Z"
   },
   {
    "duration": 216,
    "start_time": "2021-11-13T07:58:10.096Z"
   },
   {
    "duration": 257,
    "start_time": "2021-11-13T07:59:17.804Z"
   },
   {
    "duration": 257,
    "start_time": "2021-11-13T07:59:28.334Z"
   },
   {
    "duration": 24,
    "start_time": "2021-11-13T08:03:16.687Z"
   },
   {
    "duration": 257,
    "start_time": "2021-11-13T08:05:33.814Z"
   },
   {
    "duration": 115,
    "start_time": "2021-11-13T08:07:23.847Z"
   },
   {
    "duration": 8922,
    "start_time": "2021-11-13T08:09:57.312Z"
   },
   {
    "duration": 41,
    "start_time": "2021-11-13T08:10:25.157Z"
   },
   {
    "duration": 604,
    "start_time": "2021-11-13T08:12:23.524Z"
   },
   {
    "duration": 614,
    "start_time": "2021-11-13T08:12:30.895Z"
   },
   {
    "duration": 358,
    "start_time": "2021-11-13T08:13:22.127Z"
   },
   {
    "duration": 332,
    "start_time": "2021-11-13T08:13:33.520Z"
   },
   {
    "duration": 328,
    "start_time": "2021-11-13T08:13:35.094Z"
   },
   {
    "duration": 335,
    "start_time": "2021-11-13T08:13:50.192Z"
   },
   {
    "duration": 328,
    "start_time": "2021-11-13T08:14:02.545Z"
   },
   {
    "duration": 496,
    "start_time": "2021-11-13T08:14:06.024Z"
   },
   {
    "duration": 338,
    "start_time": "2021-11-13T08:14:22.327Z"
   },
   {
    "duration": 408,
    "start_time": "2021-11-13T08:14:44.106Z"
   },
   {
    "duration": 132,
    "start_time": "2021-11-13T08:14:56.728Z"
   },
   {
    "duration": 123,
    "start_time": "2021-11-13T08:15:01.152Z"
   },
   {
    "duration": 394,
    "start_time": "2021-11-13T08:15:10.676Z"
   },
   {
    "duration": 27,
    "start_time": "2021-11-13T08:15:16.630Z"
   },
   {
    "duration": 328,
    "start_time": "2021-11-13T08:15:17.594Z"
   },
   {
    "duration": 335,
    "start_time": "2021-11-13T08:15:18.191Z"
   },
   {
    "duration": 336,
    "start_time": "2021-11-13T08:17:19.382Z"
   },
   {
    "duration": 430,
    "start_time": "2021-11-13T08:17:20.632Z"
   },
   {
    "duration": 323,
    "start_time": "2021-11-13T08:17:47.333Z"
   },
   {
    "duration": 341,
    "start_time": "2021-11-13T08:18:03.255Z"
   },
   {
    "duration": 340,
    "start_time": "2021-11-13T08:18:17.043Z"
   },
   {
    "duration": 336,
    "start_time": "2021-11-13T08:18:34.067Z"
   },
   {
    "duration": 623,
    "start_time": "2021-11-13T08:19:38.861Z"
   },
   {
    "duration": 427,
    "start_time": "2021-11-13T08:19:42.354Z"
   },
   {
    "duration": 346,
    "start_time": "2021-11-13T08:19:45.961Z"
   },
   {
    "duration": 663,
    "start_time": "2021-11-13T08:20:11.162Z"
   },
   {
    "duration": 642,
    "start_time": "2021-11-13T08:20:21.594Z"
   },
   {
    "duration": 349,
    "start_time": "2021-11-13T08:20:33.576Z"
   },
   {
    "duration": 4,
    "start_time": "2021-11-13T08:20:41.013Z"
   },
   {
    "duration": 352,
    "start_time": "2021-11-13T08:20:46.965Z"
   },
   {
    "duration": 361,
    "start_time": "2021-11-13T08:21:38.167Z"
   },
   {
    "duration": 362,
    "start_time": "2021-11-13T08:21:46.960Z"
   },
   {
    "duration": 5,
    "start_time": "2021-11-13T08:21:57.795Z"
   },
   {
    "duration": 441,
    "start_time": "2021-11-13T08:22:15.373Z"
   },
   {
    "duration": 663,
    "start_time": "2021-11-13T08:22:32.006Z"
   },
   {
    "duration": 417,
    "start_time": "2021-11-13T08:22:40.391Z"
   },
   {
    "duration": 513,
    "start_time": "2021-11-13T08:23:20.568Z"
   },
   {
    "duration": 571,
    "start_time": "2021-11-13T08:27:08.494Z"
   },
   {
    "duration": 509,
    "start_time": "2021-11-13T08:28:07.175Z"
   },
   {
    "duration": 504,
    "start_time": "2021-11-13T08:28:12.386Z"
   },
   {
    "duration": 187,
    "start_time": "2021-11-13T08:28:18.718Z"
   },
   {
    "duration": 451,
    "start_time": "2021-11-13T08:28:39.394Z"
   },
   {
    "duration": 650,
    "start_time": "2021-11-13T08:28:55.086Z"
   },
   {
    "duration": 533,
    "start_time": "2021-11-13T08:29:15.559Z"
   },
   {
    "duration": 485,
    "start_time": "2021-11-13T08:29:38.255Z"
   },
   {
    "duration": 347,
    "start_time": "2021-11-13T11:07:49.823Z"
   },
   {
    "duration": 9,
    "start_time": "2021-11-13T11:07:55.268Z"
   },
   {
    "duration": 589,
    "start_time": "2021-11-13T13:35:35.254Z"
   },
   {
    "duration": 111,
    "start_time": "2021-11-13T13:36:10.686Z"
   },
   {
    "duration": 120,
    "start_time": "2021-11-13T13:36:20.579Z"
   },
   {
    "duration": 129,
    "start_time": "2021-11-13T13:36:40.739Z"
   },
   {
    "duration": 117,
    "start_time": "2021-11-13T13:36:52.159Z"
   },
   {
    "duration": 348,
    "start_time": "2021-11-13T13:37:23.674Z"
   },
   {
    "duration": 1231,
    "start_time": "2021-11-13T13:38:30.093Z"
   },
   {
    "duration": 257,
    "start_time": "2021-11-13T13:38:31.330Z"
   },
   {
    "duration": 22,
    "start_time": "2021-11-13T13:38:31.589Z"
   },
   {
    "duration": 16,
    "start_time": "2021-11-13T13:38:31.612Z"
   },
   {
    "duration": 6,
    "start_time": "2021-11-13T13:38:31.630Z"
   },
   {
    "duration": 14,
    "start_time": "2021-11-13T13:38:31.640Z"
   },
   {
    "duration": 13,
    "start_time": "2021-11-13T13:38:31.655Z"
   },
   {
    "duration": 31,
    "start_time": "2021-11-13T13:38:33.012Z"
   },
   {
    "duration": 66,
    "start_time": "2021-11-13T13:38:33.254Z"
   },
   {
    "duration": 81,
    "start_time": "2021-11-13T13:38:33.425Z"
   },
   {
    "duration": 10,
    "start_time": "2021-11-13T13:38:34.335Z"
   },
   {
    "duration": 710,
    "start_time": "2021-11-13T13:39:12.537Z"
   },
   {
    "duration": 4745,
    "start_time": "2021-11-13T13:39:25.729Z"
   },
   {
    "duration": 9,
    "start_time": "2021-11-13T13:40:03.511Z"
   },
   {
    "duration": 522,
    "start_time": "2021-11-13T13:41:48.520Z"
   },
   {
    "duration": 1229,
    "start_time": "2021-11-13T13:42:48.012Z"
   },
   {
    "duration": 3,
    "start_time": "2021-11-13T13:44:37.850Z"
   },
   {
    "duration": 4,
    "start_time": "2021-11-13T13:44:44.486Z"
   },
   {
    "duration": 973,
    "start_time": "2021-11-13T13:46:06.796Z"
   },
   {
    "duration": 821,
    "start_time": "2021-11-13T13:46:13.543Z"
   },
   {
    "duration": 813,
    "start_time": "2021-11-13T13:46:24.931Z"
   },
   {
    "duration": 792,
    "start_time": "2021-11-13T13:47:00.865Z"
   },
   {
    "duration": 40,
    "start_time": "2021-11-13T13:47:44.673Z"
   },
   {
    "duration": 502,
    "start_time": "2021-11-13T13:47:44.960Z"
   },
   {
    "duration": 477,
    "start_time": "2021-11-13T13:47:45.490Z"
   },
   {
    "duration": 1160,
    "start_time": "2021-11-13T13:48:35.519Z"
   },
   {
    "duration": 827,
    "start_time": "2021-11-13T13:49:02.376Z"
   },
   {
    "duration": 847,
    "start_time": "2021-11-13T13:49:30.218Z"
   },
   {
    "duration": 812,
    "start_time": "2021-11-13T13:49:49.203Z"
   },
   {
    "duration": 610,
    "start_time": "2021-11-13T13:50:21.703Z"
   },
   {
    "duration": 835,
    "start_time": "2021-11-13T13:51:30.087Z"
   },
   {
    "duration": 749,
    "start_time": "2021-11-13T13:52:26.216Z"
   },
   {
    "duration": 1072,
    "start_time": "2021-11-13T13:52:52.399Z"
   },
   {
    "duration": 1127,
    "start_time": "2021-11-13T13:54:30.836Z"
   },
   {
    "duration": 7,
    "start_time": "2021-11-13T13:54:51.437Z"
   },
   {
    "duration": 8,
    "start_time": "2021-11-13T13:55:03.915Z"
   },
   {
    "duration": 7,
    "start_time": "2021-11-13T13:55:36.359Z"
   },
   {
    "duration": 4,
    "start_time": "2021-11-13T13:56:09.775Z"
   },
   {
    "duration": 8,
    "start_time": "2021-11-13T13:57:22.335Z"
   },
   {
    "duration": 4,
    "start_time": "2021-11-13T13:57:24.762Z"
   },
   {
    "duration": 376,
    "start_time": "2021-11-13T13:58:40.731Z"
   },
   {
    "duration": 703,
    "start_time": "2021-11-13T13:59:28.019Z"
   },
   {
    "duration": 776,
    "start_time": "2021-11-13T14:00:47.175Z"
   },
   {
    "duration": 11,
    "start_time": "2021-11-13T14:02:16.883Z"
   },
   {
    "duration": 9,
    "start_time": "2021-11-13T14:02:43.025Z"
   },
   {
    "duration": 552,
    "start_time": "2021-11-13T14:04:36.846Z"
   },
   {
    "duration": 7873,
    "start_time": "2021-11-13T14:04:50.592Z"
   },
   {
    "duration": 643,
    "start_time": "2021-11-13T14:05:29.521Z"
   },
   {
    "duration": 922,
    "start_time": "2021-11-13T14:07:26.774Z"
   },
   {
    "duration": 2611,
    "start_time": "2021-11-13T14:08:03.989Z"
   },
   {
    "duration": 3453,
    "start_time": "2021-11-13T14:08:45.508Z"
   },
   {
    "duration": 3821,
    "start_time": "2021-11-13T14:08:58.300Z"
   },
   {
    "duration": 3506,
    "start_time": "2021-11-13T14:09:12.438Z"
   },
   {
    "duration": 2609,
    "start_time": "2021-11-13T14:11:48.598Z"
   },
   {
    "duration": 5887,
    "start_time": "2021-11-13T14:12:23.185Z"
   },
   {
    "duration": 3558,
    "start_time": "2021-11-13T14:13:13.399Z"
   },
   {
    "duration": 3436,
    "start_time": "2021-11-13T14:13:25.003Z"
   },
   {
    "duration": 11,
    "start_time": "2021-11-13T14:17:01.180Z"
   },
   {
    "duration": 1753,
    "start_time": "2021-11-13T14:17:58.000Z"
   },
   {
    "duration": 1595,
    "start_time": "2021-11-13T14:18:32.397Z"
   },
   {
    "duration": 1711,
    "start_time": "2021-11-13T14:19:02.200Z"
   },
   {
    "duration": 3529,
    "start_time": "2021-11-13T14:21:14.582Z"
   },
   {
    "duration": 982,
    "start_time": "2021-11-13T14:44:21.274Z"
   },
   {
    "duration": 1048,
    "start_time": "2021-11-13T14:44:39.911Z"
   },
   {
    "duration": 927,
    "start_time": "2021-11-13T14:45:05.733Z"
   },
   {
    "duration": 1559,
    "start_time": "2021-11-13T14:45:12.765Z"
   },
   {
    "duration": 943,
    "start_time": "2021-11-13T14:45:21.663Z"
   },
   {
    "duration": 1602,
    "start_time": "2021-11-13T14:45:54.455Z"
   },
   {
    "duration": 1826,
    "start_time": "2021-11-13T14:46:04.513Z"
   },
   {
    "duration": 930,
    "start_time": "2021-11-13T14:46:35.407Z"
   },
   {
    "duration": 3051,
    "start_time": "2021-11-13T14:47:03.355Z"
   },
   {
    "duration": 1393,
    "start_time": "2021-11-13T14:47:19.396Z"
   },
   {
    "duration": 1779,
    "start_time": "2021-11-13T14:47:26.334Z"
   },
   {
    "duration": 1869,
    "start_time": "2021-11-13T14:47:43.132Z"
   },
   {
    "duration": 30,
    "start_time": "2021-11-13T14:52:15.244Z"
   },
   {
    "duration": 44,
    "start_time": "2021-11-13T14:52:15.696Z"
   },
   {
    "duration": 14,
    "start_time": "2021-11-13T14:52:16.887Z"
   },
   {
    "duration": 20,
    "start_time": "2021-11-13T14:52:17.189Z"
   },
   {
    "duration": 23,
    "start_time": "2021-11-13T14:52:18.228Z"
   },
   {
    "duration": 37,
    "start_time": "2021-11-13T14:52:21.268Z"
   },
   {
    "duration": 83,
    "start_time": "2021-11-13T14:52:24.331Z"
   },
   {
    "duration": 37,
    "start_time": "2021-11-13T14:52:25.097Z"
   },
   {
    "duration": 77,
    "start_time": "2021-11-13T14:52:28.279Z"
   },
   {
    "duration": 18,
    "start_time": "2021-11-13T14:52:30.193Z"
   },
   {
    "duration": 38,
    "start_time": "2021-11-13T15:26:54.242Z"
   },
   {
    "duration": 249,
    "start_time": "2021-11-13T15:26:54.634Z"
   },
   {
    "duration": 6,
    "start_time": "2021-11-13T15:26:55.043Z"
   },
   {
    "duration": 54,
    "start_time": "2021-11-13T15:26:56.764Z"
   },
   {
    "duration": 9,
    "start_time": "2021-11-13T15:26:56.910Z"
   },
   {
    "duration": 12,
    "start_time": "2021-11-13T15:26:57.311Z"
   },
   {
    "duration": 10,
    "start_time": "2021-11-13T15:26:57.541Z"
   },
   {
    "duration": 57,
    "start_time": "2021-11-13T15:26:57.847Z"
   },
   {
    "duration": 6,
    "start_time": "2021-11-13T15:26:58.251Z"
   },
   {
    "duration": 3406,
    "start_time": "2021-11-13T15:26:58.857Z"
   },
   {
    "duration": 142,
    "start_time": "2021-11-13T15:30:31.106Z"
   },
   {
    "duration": 16,
    "start_time": "2021-11-13T15:32:11.266Z"
   },
   {
    "duration": 13,
    "start_time": "2021-11-13T15:32:36.428Z"
   },
   {
    "duration": 103,
    "start_time": "2021-11-13T15:32:37.383Z"
   },
   {
    "duration": 172,
    "start_time": "2021-11-13T15:32:42.646Z"
   },
   {
    "duration": 4,
    "start_time": "2021-11-13T15:32:42.989Z"
   },
   {
    "duration": 25,
    "start_time": "2021-11-13T15:32:43.752Z"
   },
   {
    "duration": 19,
    "start_time": "2021-11-13T15:32:44.251Z"
   },
   {
    "duration": 25,
    "start_time": "2021-11-13T15:32:44.666Z"
   },
   {
    "duration": 28,
    "start_time": "2021-11-13T15:32:45.076Z"
   },
   {
    "duration": 23,
    "start_time": "2021-11-13T15:32:45.247Z"
   },
   {
    "duration": 11,
    "start_time": "2021-11-13T15:32:45.800Z"
   },
   {
    "duration": 4,
    "start_time": "2021-11-13T15:32:46.053Z"
   },
   {
    "duration": 87,
    "start_time": "2021-11-13T15:34:23.830Z"
   },
   {
    "duration": 213,
    "start_time": "2021-11-13T15:34:24.102Z"
   },
   {
    "duration": 5,
    "start_time": "2021-11-13T15:34:24.399Z"
   },
   {
    "duration": 5,
    "start_time": "2021-11-13T15:34:24.936Z"
   },
   {
    "duration": 7,
    "start_time": "2021-11-13T15:34:27.259Z"
   },
   {
    "duration": 7,
    "start_time": "2021-11-13T15:34:27.414Z"
   },
   {
    "duration": 12,
    "start_time": "2021-11-13T15:34:27.563Z"
   },
   {
    "duration": 8,
    "start_time": "2021-11-13T15:34:28.132Z"
   },
   {
    "duration": 111,
    "start_time": "2021-11-13T17:33:59.762Z"
   },
   {
    "duration": 8,
    "start_time": "2021-11-13T17:34:08.374Z"
   },
   {
    "duration": 56,
    "start_time": "2021-11-13T17:39:44.988Z"
   },
   {
    "duration": 55,
    "start_time": "2021-11-13T17:39:45.910Z"
   },
   {
    "duration": 36,
    "start_time": "2021-11-13T17:39:56.804Z"
   },
   {
    "duration": 405,
    "start_time": "2021-11-13T17:41:06.010Z"
   },
   {
    "duration": 113,
    "start_time": "2021-11-13T17:41:26.245Z"
   },
   {
    "duration": 21,
    "start_time": "2021-11-13T17:41:30.283Z"
   },
   {
    "duration": 25,
    "start_time": "2021-11-13T17:41:46.000Z"
   },
   {
    "duration": 224,
    "start_time": "2021-11-13T17:42:16.132Z"
   },
   {
    "duration": 4,
    "start_time": "2021-11-13T17:42:33.186Z"
   },
   {
    "duration": 136,
    "start_time": "2021-11-13T17:42:40.574Z"
   },
   {
    "duration": 2,
    "start_time": "2021-11-13T17:46:33.906Z"
   },
   {
    "duration": 222,
    "start_time": "2021-11-13T17:46:41.701Z"
   },
   {
    "duration": 3,
    "start_time": "2021-11-13T17:46:42.215Z"
   },
   {
    "duration": 284,
    "start_time": "2021-11-13T17:46:52.110Z"
   },
   {
    "duration": 265,
    "start_time": "2021-11-13T17:47:06.008Z"
   },
   {
    "duration": 3,
    "start_time": "2021-11-13T17:47:12.085Z"
   },
   {
    "duration": 222,
    "start_time": "2021-11-13T17:47:12.402Z"
   },
   {
    "duration": 3,
    "start_time": "2021-11-13T17:47:12.645Z"
   },
   {
    "duration": 263,
    "start_time": "2021-11-13T17:47:13.196Z"
   },
   {
    "duration": 41,
    "start_time": "2021-11-13T17:47:30.840Z"
   },
   {
    "duration": 31,
    "start_time": "2021-11-13T17:48:16.373Z"
   },
   {
    "duration": 49,
    "start_time": "2021-11-13T17:48:46.102Z"
   },
   {
    "duration": 13,
    "start_time": "2021-11-13T17:49:28.263Z"
   },
   {
    "duration": 50,
    "start_time": "2021-11-13T17:49:33.812Z"
   },
   {
    "duration": 38,
    "start_time": "2021-11-13T17:49:42.151Z"
   },
   {
    "duration": 51,
    "start_time": "2021-11-13T17:49:48.317Z"
   },
   {
    "duration": 4,
    "start_time": "2021-11-13T17:50:19.220Z"
   },
   {
    "duration": 207,
    "start_time": "2021-11-13T17:50:19.953Z"
   },
   {
    "duration": 18,
    "start_time": "2021-11-13T17:50:20.162Z"
   },
   {
    "duration": 17,
    "start_time": "2021-11-13T17:50:20.327Z"
   },
   {
    "duration": 3,
    "start_time": "2021-11-13T17:50:20.511Z"
   },
   {
    "duration": 9,
    "start_time": "2021-11-13T17:50:20.948Z"
   },
   {
    "duration": 10,
    "start_time": "2021-11-13T17:50:21.140Z"
   },
   {
    "duration": 19,
    "start_time": "2021-11-13T17:50:22.353Z"
   },
   {
    "duration": 66,
    "start_time": "2021-11-13T17:50:22.510Z"
   },
   {
    "duration": 78,
    "start_time": "2021-11-13T17:50:22.709Z"
   },
   {
    "duration": 9,
    "start_time": "2021-11-13T17:50:22.889Z"
   },
   {
    "duration": 1789,
    "start_time": "2021-11-13T17:50:23.527Z"
   },
   {
    "duration": 34,
    "start_time": "2021-11-13T17:50:25.318Z"
   },
   {
    "duration": 527,
    "start_time": "2021-11-13T17:50:25.354Z"
   },
   {
    "duration": 626,
    "start_time": "2021-11-13T17:50:25.883Z"
   },
   {
    "duration": 29,
    "start_time": "2021-11-13T17:50:26.511Z"
   },
   {
    "duration": 66,
    "start_time": "2021-11-13T17:50:26.542Z"
   },
   {
    "duration": 12,
    "start_time": "2021-11-13T17:50:26.610Z"
   },
   {
    "duration": 19,
    "start_time": "2021-11-13T17:50:26.623Z"
   },
   {
    "duration": 22,
    "start_time": "2021-11-13T17:50:26.644Z"
   },
   {
    "duration": 36,
    "start_time": "2021-11-13T17:50:27.022Z"
   },
   {
    "duration": 114,
    "start_time": "2021-11-13T17:50:27.502Z"
   },
   {
    "duration": 37,
    "start_time": "2021-11-13T17:50:27.867Z"
   },
   {
    "duration": 73,
    "start_time": "2021-11-13T17:50:28.353Z"
   },
   {
    "duration": 17,
    "start_time": "2021-11-13T17:50:28.756Z"
   },
   {
    "duration": 36,
    "start_time": "2021-11-13T17:50:29.352Z"
   },
   {
    "duration": 244,
    "start_time": "2021-11-13T17:50:29.730Z"
   },
   {
    "duration": 6,
    "start_time": "2021-11-13T17:50:30.008Z"
   },
   {
    "duration": 58,
    "start_time": "2021-11-13T17:50:30.502Z"
   },
   {
    "duration": 8,
    "start_time": "2021-11-13T17:50:30.699Z"
   },
   {
    "duration": 11,
    "start_time": "2021-11-13T17:50:30.860Z"
   },
   {
    "duration": 6,
    "start_time": "2021-11-13T17:50:31.022Z"
   },
   {
    "duration": 36,
    "start_time": "2021-11-13T17:50:31.365Z"
   },
   {
    "duration": 5,
    "start_time": "2021-11-13T17:50:31.743Z"
   },
   {
    "duration": 1993,
    "start_time": "2021-11-13T17:50:32.002Z"
   },
   {
    "duration": 22,
    "start_time": "2021-11-13T17:50:33.997Z"
   },
   {
    "duration": 12,
    "start_time": "2021-11-13T17:50:36.058Z"
   },
   {
    "duration": 88,
    "start_time": "2021-11-13T17:50:36.365Z"
   },
   {
    "duration": 166,
    "start_time": "2021-11-13T17:50:36.719Z"
   },
   {
    "duration": 4,
    "start_time": "2021-11-13T17:50:36.887Z"
   },
   {
    "duration": 26,
    "start_time": "2021-11-13T17:50:37.974Z"
   },
   {
    "duration": 20,
    "start_time": "2021-11-13T17:50:38.374Z"
   },
   {
    "duration": 27,
    "start_time": "2021-11-13T17:50:38.735Z"
   },
   {
    "duration": 25,
    "start_time": "2021-11-13T17:50:39.445Z"
   },
   {
    "duration": 21,
    "start_time": "2021-11-13T17:50:39.632Z"
   },
   {
    "duration": 11,
    "start_time": "2021-11-13T17:50:40.335Z"
   },
   {
    "duration": 4,
    "start_time": "2021-11-13T17:50:43.830Z"
   },
   {
    "duration": 64,
    "start_time": "2021-11-13T17:50:45.832Z"
   },
   {
    "duration": 214,
    "start_time": "2021-11-13T17:50:45.995Z"
   },
   {
    "duration": 5,
    "start_time": "2021-11-13T17:50:46.767Z"
   },
   {
    "duration": 8,
    "start_time": "2021-11-13T17:50:47.161Z"
   },
   {
    "duration": 7,
    "start_time": "2021-11-13T17:50:47.474Z"
   },
   {
    "duration": 12,
    "start_time": "2021-11-13T17:50:47.822Z"
   },
   {
    "duration": 7,
    "start_time": "2021-11-13T17:50:48.015Z"
   },
   {
    "duration": 8,
    "start_time": "2021-11-13T17:50:53.019Z"
   },
   {
    "duration": 3,
    "start_time": "2021-11-13T17:50:55.711Z"
   },
   {
    "duration": 4,
    "start_time": "2021-11-13T17:51:09.083Z"
   },
   {
    "duration": 213,
    "start_time": "2021-11-13T17:51:11.193Z"
   },
   {
    "duration": 19,
    "start_time": "2021-11-13T17:51:11.409Z"
   },
   {
    "duration": 20,
    "start_time": "2021-11-13T17:51:11.431Z"
   },
   {
    "duration": 4,
    "start_time": "2021-11-13T17:51:11.453Z"
   },
   {
    "duration": 20,
    "start_time": "2021-11-13T17:51:11.459Z"
   },
   {
    "duration": 28,
    "start_time": "2021-11-13T17:51:11.481Z"
   },
   {
    "duration": 20,
    "start_time": "2021-11-13T17:51:12.113Z"
   },
   {
    "duration": 67,
    "start_time": "2021-11-13T17:51:12.266Z"
   },
   {
    "duration": 86,
    "start_time": "2021-11-13T17:51:12.467Z"
   },
   {
    "duration": 9,
    "start_time": "2021-11-13T17:51:12.647Z"
   },
   {
    "duration": 1822,
    "start_time": "2021-11-13T17:51:13.390Z"
   },
   {
    "duration": 31,
    "start_time": "2021-11-13T17:51:15.214Z"
   },
   {
    "duration": 528,
    "start_time": "2021-11-13T17:51:15.247Z"
   },
   {
    "duration": 492,
    "start_time": "2021-11-13T17:51:15.777Z"
   },
   {
    "duration": 37,
    "start_time": "2021-11-13T17:51:16.271Z"
   },
   {
    "duration": 45,
    "start_time": "2021-11-13T17:51:16.310Z"
   },
   {
    "duration": 12,
    "start_time": "2021-11-13T17:51:17.250Z"
   },
   {
    "duration": 21,
    "start_time": "2021-11-13T17:51:17.450Z"
   },
   {
    "duration": 23,
    "start_time": "2021-11-13T17:51:17.784Z"
   },
   {
    "duration": 37,
    "start_time": "2021-11-13T17:51:18.358Z"
   },
   {
    "duration": 74,
    "start_time": "2021-11-13T17:51:19.054Z"
   },
   {
    "duration": 37,
    "start_time": "2021-11-13T17:51:20.123Z"
   },
   {
    "duration": 71,
    "start_time": "2021-11-13T17:51:20.840Z"
   },
   {
    "duration": 17,
    "start_time": "2021-11-13T17:51:22.033Z"
   },
   {
    "duration": 36,
    "start_time": "2021-11-13T17:51:23.240Z"
   },
   {
    "duration": 244,
    "start_time": "2021-11-13T17:51:24.275Z"
   },
   {
    "duration": 5,
    "start_time": "2021-11-13T17:51:24.698Z"
   },
   {
    "duration": 51,
    "start_time": "2021-11-13T17:51:25.716Z"
   },
   {
    "duration": 9,
    "start_time": "2021-11-13T17:51:26.191Z"
   },
   {
    "duration": 12,
    "start_time": "2021-11-13T17:51:26.665Z"
   },
   {
    "duration": 6,
    "start_time": "2021-11-13T17:51:26.965Z"
   },
   {
    "duration": 47,
    "start_time": "2021-11-13T17:51:27.572Z"
   },
   {
    "duration": 4,
    "start_time": "2021-11-13T17:51:28.319Z"
   },
   {
    "duration": 1988,
    "start_time": "2021-11-13T17:51:28.723Z"
   },
   {
    "duration": 15,
    "start_time": "2021-11-13T17:51:30.713Z"
   },
   {
    "duration": 14,
    "start_time": "2021-11-13T17:51:33.498Z"
   },
   {
    "duration": 89,
    "start_time": "2021-11-13T17:51:34.048Z"
   },
   {
    "duration": 166,
    "start_time": "2021-11-13T17:51:34.434Z"
   },
   {
    "duration": 5,
    "start_time": "2021-11-13T17:51:34.618Z"
   },
   {
    "duration": 25,
    "start_time": "2021-11-13T17:51:35.361Z"
   },
   {
    "duration": 20,
    "start_time": "2021-11-13T17:51:35.526Z"
   },
   {
    "duration": 26,
    "start_time": "2021-11-13T17:51:35.891Z"
   },
   {
    "duration": 27,
    "start_time": "2021-11-13T17:51:36.094Z"
   },
   {
    "duration": 21,
    "start_time": "2021-11-13T17:51:36.264Z"
   },
   {
    "duration": 10,
    "start_time": "2021-11-13T17:51:36.467Z"
   },
   {
    "duration": 4,
    "start_time": "2021-11-13T17:51:36.633Z"
   },
   {
    "duration": 86,
    "start_time": "2021-11-13T17:51:39.465Z"
   },
   {
    "duration": 207,
    "start_time": "2021-11-13T17:51:39.629Z"
   },
   {
    "duration": 5,
    "start_time": "2021-11-13T17:51:40.746Z"
   },
   {
    "duration": 7,
    "start_time": "2021-11-13T17:51:41.135Z"
   },
   {
    "duration": 8,
    "start_time": "2021-11-13T17:51:41.467Z"
   },
   {
    "duration": 11,
    "start_time": "2021-11-13T17:51:42.464Z"
   },
   {
    "duration": 9,
    "start_time": "2021-11-13T17:51:42.984Z"
   },
   {
    "duration": 13,
    "start_time": "2021-11-13T17:51:43.365Z"
   },
   {
    "duration": 38,
    "start_time": "2021-11-13T17:51:43.495Z"
   },
   {
    "duration": 209,
    "start_time": "2021-11-13T17:51:44.398Z"
   },
   {
    "duration": 3,
    "start_time": "2021-11-13T17:51:45.153Z"
   },
   {
    "duration": 133,
    "start_time": "2021-11-13T17:51:46.461Z"
   },
   {
    "duration": 3,
    "start_time": "2021-11-13T17:51:47.714Z"
   },
   {
    "duration": 182,
    "start_time": "2021-11-13T17:51:47.864Z"
   },
   {
    "duration": 2,
    "start_time": "2021-11-13T17:51:48.048Z"
   },
   {
    "duration": 3069,
    "start_time": "2021-11-13T17:51:48.214Z"
   },
   {
    "duration": 36,
    "start_time": "2021-11-13T17:52:26.473Z"
   },
   {
    "duration": 67,
    "start_time": "2021-11-13T17:52:47.195Z"
   },
   {
    "duration": 14116,
    "start_time": "2021-11-13T17:53:28.494Z"
   },
   {
    "duration": 5,
    "start_time": "2021-11-13T17:53:42.612Z"
   },
   {
    "duration": 308,
    "start_time": "2021-11-13T17:53:42.620Z"
   },
   {
    "duration": 3,
    "start_time": "2021-11-13T17:53:42.930Z"
   },
   {
    "duration": 7,
    "start_time": "2021-11-13T17:53:42.934Z"
   },
   {
    "duration": 8218,
    "start_time": "2021-11-13T17:53:42.943Z"
   },
   {
    "duration": 5,
    "start_time": "2021-11-13T17:53:51.163Z"
   },
   {
    "duration": 133,
    "start_time": "2021-11-13T17:53:51.171Z"
   },
   {
    "duration": 511,
    "start_time": "2021-11-13T17:53:51.307Z"
   },
   {
    "duration": 5,
    "start_time": "2021-11-13T17:53:51.820Z"
   },
   {
    "duration": 103,
    "start_time": "2021-11-13T17:53:51.827Z"
   },
   {
    "duration": 3,
    "start_time": "2021-11-13T17:53:51.932Z"
   },
   {
    "duration": 9,
    "start_time": "2021-11-13T17:53:51.937Z"
   },
   {
    "duration": 164851,
    "start_time": "2021-11-13T17:53:51.948Z"
   },
   {
    "duration": 9,
    "start_time": "2021-11-13T17:56:36.800Z"
   },
   {
    "duration": 167,
    "start_time": "2021-11-13T17:56:36.811Z"
   },
   {
    "duration": 737,
    "start_time": "2021-11-13T17:56:36.980Z"
   },
   {
    "duration": 3,
    "start_time": "2021-11-13T17:56:37.719Z"
   },
   {
    "duration": 162,
    "start_time": "2021-11-13T17:56:37.724Z"
   },
   {
    "duration": 415,
    "start_time": "2021-11-13T17:56:37.888Z"
   },
   {
    "duration": 220,
    "start_time": "2021-11-13T17:56:38.304Z"
   },
   {
    "duration": 41,
    "start_time": "2021-11-13T17:56:38.526Z"
   },
   {
    "duration": 85,
    "start_time": "2021-11-13T17:56:38.571Z"
   },
   {
    "duration": 2,
    "start_time": "2021-11-13T18:11:20.990Z"
   },
   {
    "duration": 4,
    "start_time": "2021-11-13T18:11:25.599Z"
   },
   {
    "duration": 1006,
    "start_time": "2021-11-13T18:11:54.768Z"
   },
   {
    "duration": 958,
    "start_time": "2021-11-13T18:11:59.555Z"
   },
   {
    "duration": 4,
    "start_time": "2021-11-13T18:12:07.768Z"
   },
   {
    "duration": 404,
    "start_time": "2021-11-13T18:12:19.538Z"
   },
   {
    "duration": 559,
    "start_time": "2021-11-13T18:12:24.021Z"
   },
   {
    "duration": 367,
    "start_time": "2021-11-13T18:12:27.952Z"
   },
   {
    "duration": 372,
    "start_time": "2021-11-13T18:12:41.745Z"
   },
   {
    "duration": 360,
    "start_time": "2021-11-13T18:13:15.605Z"
   },
   {
    "duration": 5,
    "start_time": "2021-11-13T18:14:00.257Z"
   },
   {
    "duration": 219,
    "start_time": "2021-11-13T18:15:55.251Z"
   },
   {
    "duration": 822,
    "start_time": "2021-11-13T18:18:24.585Z"
   },
   {
    "duration": 896,
    "start_time": "2021-11-13T18:33:11.283Z"
   },
   {
    "duration": 885,
    "start_time": "2021-11-13T18:33:29.183Z"
   },
   {
    "duration": 898,
    "start_time": "2021-11-13T18:33:54.112Z"
   },
   {
    "duration": 913,
    "start_time": "2021-11-13T18:34:52.156Z"
   },
   {
    "duration": 123,
    "start_time": "2021-11-13T19:30:02.860Z"
   },
   {
    "duration": 147,
    "start_time": "2021-11-13T19:30:08.959Z"
   },
   {
    "duration": 3,
    "start_time": "2021-11-13T19:30:55.839Z"
   },
   {
    "duration": 6,
    "start_time": "2021-11-13T19:31:11.318Z"
   },
   {
    "duration": 5,
    "start_time": "2021-11-13T19:32:27.089Z"
   },
   {
    "duration": 8,
    "start_time": "2021-11-13T19:32:31.472Z"
   },
   {
    "duration": 1112,
    "start_time": "2021-11-13T19:38:33.158Z"
   },
   {
    "duration": 974,
    "start_time": "2021-11-13T19:38:47.764Z"
   },
   {
    "duration": 1173,
    "start_time": "2021-11-13T19:40:05.270Z"
   },
   {
    "duration": 124,
    "start_time": "2021-11-13T19:42:32.539Z"
   },
   {
    "duration": 126,
    "start_time": "2021-11-13T19:43:00.845Z"
   },
   {
    "duration": 637,
    "start_time": "2021-11-13T19:45:05.383Z"
   },
   {
    "duration": 907,
    "start_time": "2021-11-13T19:46:17.216Z"
   },
   {
    "duration": 912,
    "start_time": "2021-11-13T19:47:32.898Z"
   },
   {
    "duration": 936,
    "start_time": "2021-11-13T19:47:48.122Z"
   },
   {
    "duration": 363,
    "start_time": "2021-11-13T19:50:38.598Z"
   },
   {
    "duration": 4,
    "start_time": "2021-11-13T19:50:52.886Z"
   },
   {
    "duration": 72,
    "start_time": "2021-11-13T19:51:11.099Z"
   },
   {
    "duration": 72,
    "start_time": "2021-11-13T19:51:21.396Z"
   },
   {
    "duration": 1151,
    "start_time": "2021-11-13T19:53:24.813Z"
   },
   {
    "duration": 1305,
    "start_time": "2021-11-13T19:57:37.367Z"
   },
   {
    "duration": 20,
    "start_time": "2021-11-13T20:04:56.991Z"
   },
   {
    "duration": 998,
    "start_time": "2021-11-13T20:06:29.412Z"
   },
   {
    "duration": 1013,
    "start_time": "2021-11-13T20:07:18.346Z"
   },
   {
    "duration": 965,
    "start_time": "2021-11-13T20:07:28.024Z"
   },
   {
    "duration": 937,
    "start_time": "2021-11-13T20:08:34.921Z"
   },
   {
    "duration": 1165,
    "start_time": "2021-11-13T20:36:25.248Z"
   },
   {
    "duration": 267,
    "start_time": "2021-11-13T20:36:26.415Z"
   },
   {
    "duration": 42,
    "start_time": "2021-11-13T20:36:26.684Z"
   },
   {
    "duration": 17,
    "start_time": "2021-11-13T20:36:26.727Z"
   },
   {
    "duration": 5,
    "start_time": "2021-11-13T20:36:26.746Z"
   },
   {
    "duration": 10,
    "start_time": "2021-11-13T20:36:26.753Z"
   },
   {
    "duration": 9,
    "start_time": "2021-11-13T20:36:26.928Z"
   },
   {
    "duration": 33,
    "start_time": "2021-11-13T20:36:27.959Z"
   },
   {
    "duration": 75,
    "start_time": "2021-11-13T20:36:28.203Z"
   },
   {
    "duration": 91,
    "start_time": "2021-11-13T20:36:28.352Z"
   },
   {
    "duration": 10,
    "start_time": "2021-11-13T20:36:28.489Z"
   },
   {
    "duration": 1975,
    "start_time": "2021-11-13T20:36:29.324Z"
   },
   {
    "duration": 52,
    "start_time": "2021-11-13T20:36:31.301Z"
   },
   {
    "duration": 514,
    "start_time": "2021-11-13T20:36:31.356Z"
   },
   {
    "duration": 508,
    "start_time": "2021-11-13T20:36:31.872Z"
   },
   {
    "duration": 44,
    "start_time": "2021-11-13T20:36:32.381Z"
   },
   {
    "duration": 49,
    "start_time": "2021-11-13T20:36:32.427Z"
   },
   {
    "duration": 13,
    "start_time": "2021-11-13T20:36:33.446Z"
   },
   {
    "duration": 21,
    "start_time": "2021-11-13T20:36:34.029Z"
   },
   {
    "duration": 21,
    "start_time": "2021-11-13T20:36:34.426Z"
   },
   {
    "duration": 39,
    "start_time": "2021-11-13T20:36:34.979Z"
   },
   {
    "duration": 79,
    "start_time": "2021-11-13T20:36:35.358Z"
   },
   {
    "duration": 46,
    "start_time": "2021-11-13T20:36:35.701Z"
   },
   {
    "duration": 87,
    "start_time": "2021-11-13T20:36:36.180Z"
   },
   {
    "duration": 19,
    "start_time": "2021-11-13T20:36:36.538Z"
   },
   {
    "duration": 38,
    "start_time": "2021-11-13T20:36:37.244Z"
   },
   {
    "duration": 283,
    "start_time": "2021-11-13T20:36:37.504Z"
   },
   {
    "duration": 5,
    "start_time": "2021-11-13T20:36:38.378Z"
   },
   {
    "duration": 51,
    "start_time": "2021-11-13T20:36:39.545Z"
   },
   {
    "duration": 8,
    "start_time": "2021-11-13T20:36:39.791Z"
   },
   {
    "duration": 12,
    "start_time": "2021-11-13T20:36:39.929Z"
   },
   {
    "duration": 6,
    "start_time": "2021-11-13T20:36:40.167Z"
   },
   {
    "duration": 49,
    "start_time": "2021-11-13T20:36:41.291Z"
   },
   {
    "duration": 5,
    "start_time": "2021-11-13T20:36:41.687Z"
   },
   {
    "duration": 2201,
    "start_time": "2021-11-13T20:36:44.177Z"
   },
   {
    "duration": 31,
    "start_time": "2021-11-13T20:36:46.380Z"
   },
   {
    "duration": 21,
    "start_time": "2021-11-13T20:36:48.207Z"
   },
   {
    "duration": 97,
    "start_time": "2021-11-13T20:36:49.089Z"
   },
   {
    "duration": 188,
    "start_time": "2021-11-13T20:36:49.425Z"
   },
   {
    "duration": 7,
    "start_time": "2021-11-13T20:36:49.749Z"
   },
   {
    "duration": 32,
    "start_time": "2021-11-13T20:36:50.120Z"
   },
   {
    "duration": 29,
    "start_time": "2021-11-13T20:36:51.073Z"
   },
   {
    "duration": 40,
    "start_time": "2021-11-13T20:36:53.500Z"
   },
   {
    "duration": 37,
    "start_time": "2021-11-13T20:36:53.733Z"
   },
   {
    "duration": 30,
    "start_time": "2021-11-13T20:36:53.928Z"
   },
   {
    "duration": 12,
    "start_time": "2021-11-13T20:36:54.092Z"
   },
   {
    "duration": 5,
    "start_time": "2021-11-13T20:36:54.308Z"
   },
   {
    "duration": 92,
    "start_time": "2021-11-13T20:38:09.178Z"
   },
   {
    "duration": 202,
    "start_time": "2021-11-13T20:38:22.623Z"
   },
   {
    "duration": 4,
    "start_time": "2021-11-13T20:38:23.271Z"
   },
   {
    "duration": 8,
    "start_time": "2021-11-13T20:38:29.390Z"
   },
   {
    "duration": 8,
    "start_time": "2021-11-13T20:38:32.320Z"
   },
   {
    "duration": 10,
    "start_time": "2021-11-13T20:38:33.645Z"
   },
   {
    "duration": 8,
    "start_time": "2021-11-13T20:38:34.132Z"
   },
   {
    "duration": 21,
    "start_time": "2021-11-13T20:38:34.796Z"
   },
   {
    "duration": 222,
    "start_time": "2021-11-13T20:38:34.992Z"
   },
   {
    "duration": 4,
    "start_time": "2021-11-13T20:38:35.431Z"
   },
   {
    "duration": 147,
    "start_time": "2021-11-13T20:38:38.195Z"
   },
   {
    "duration": 3,
    "start_time": "2021-11-13T20:38:42.169Z"
   },
   {
    "duration": 202,
    "start_time": "2021-11-13T20:39:15.506Z"
   },
   {
    "duration": 3,
    "start_time": "2021-11-13T20:39:17.361Z"
   },
   {
    "duration": 13096,
    "start_time": "2021-11-13T20:39:24.609Z"
   },
   {
    "duration": 4,
    "start_time": "2021-11-13T20:39:41.457Z"
   },
   {
    "duration": 452,
    "start_time": "2021-11-13T20:40:05.808Z"
   },
   {
    "duration": 3198,
    "start_time": "2021-11-13T20:40:08.052Z"
   },
   {
    "duration": 181,
    "start_time": "2021-11-13T20:40:11.252Z"
   },
   {
    "duration": 3665,
    "start_time": "2021-11-13T20:41:03.908Z"
   },
   {
    "duration": 247,
    "start_time": "2021-11-13T20:41:07.574Z"
   },
   {
    "duration": 3,
    "start_time": "2021-11-13T20:42:02.130Z"
   },
   {
    "duration": 3,
    "start_time": "2021-11-13T20:43:25.360Z"
   },
   {
    "duration": 7842,
    "start_time": "2021-11-13T20:43:30.164Z"
   },
   {
    "duration": 4,
    "start_time": "2021-11-13T20:43:48.119Z"
   },
   {
    "duration": 495,
    "start_time": "2021-11-13T20:44:22.463Z"
   },
   {
    "duration": 4,
    "start_time": "2021-11-13T20:44:24.805Z"
   },
   {
    "duration": 117,
    "start_time": "2021-11-13T20:45:34.219Z"
   },
   {
    "duration": 93,
    "start_time": "2021-11-13T20:45:35.393Z"
   },
   {
    "duration": 93,
    "start_time": "2021-11-13T20:47:32.336Z"
   },
   {
    "duration": 3,
    "start_time": "2021-11-13T20:49:21.935Z"
   },
   {
    "duration": 4,
    "start_time": "2021-11-13T20:49:22.805Z"
   },
   {
    "duration": 170930,
    "start_time": "2021-11-13T20:49:28.542Z"
   },
   {
    "duration": 5,
    "start_time": "2021-11-13T20:52:19.474Z"
   },
   {
    "duration": 770,
    "start_time": "2021-11-13T20:52:19.481Z"
   },
   {
    "duration": 4,
    "start_time": "2021-11-13T20:52:20.253Z"
   },
   {
    "duration": 182,
    "start_time": "2021-11-13T20:52:20.259Z"
   },
   {
    "duration": 162,
    "start_time": "2021-11-13T20:53:58.329Z"
   },
   {
    "duration": 350,
    "start_time": "2021-11-13T20:54:02.045Z"
   },
   {
    "duration": 219,
    "start_time": "2021-11-13T20:54:04.274Z"
   },
   {
    "duration": 44,
    "start_time": "2021-11-13T20:54:04.899Z"
   },
   {
    "duration": 78,
    "start_time": "2021-11-13T20:54:06.786Z"
   },
   {
    "duration": 69,
    "start_time": "2021-11-13T20:54:07.250Z"
   },
   {
    "duration": 11,
    "start_time": "2021-11-13T20:54:15.451Z"
   },
   {
    "duration": 17,
    "start_time": "2021-11-13T20:54:16.150Z"
   },
   {
    "duration": 5,
    "start_time": "2021-11-13T20:54:16.832Z"
   },
   {
    "duration": 26,
    "start_time": "2021-11-13T20:54:18.203Z"
   },
   {
    "duration": 11,
    "start_time": "2021-11-13T20:54:21.101Z"
   },
   {
    "duration": 88,
    "start_time": "2021-11-13T20:54:21.797Z"
   },
   {
    "duration": 164,
    "start_time": "2021-11-13T20:54:22.122Z"
   },
   {
    "duration": 4,
    "start_time": "2021-11-13T20:54:22.288Z"
   },
   {
    "duration": 26,
    "start_time": "2021-11-13T20:54:22.451Z"
   },
   {
    "duration": 4,
    "start_time": "2021-11-13T20:54:22.927Z"
   },
   {
    "duration": 16,
    "start_time": "2021-11-13T20:54:23.088Z"
   },
   {
    "duration": 3,
    "start_time": "2021-11-13T20:54:23.836Z"
   },
   {
    "duration": 2,
    "start_time": "2021-11-13T20:54:24.196Z"
   },
   {
    "duration": 2,
    "start_time": "2021-11-13T20:54:24.401Z"
   },
   {
    "duration": 3,
    "start_time": "2021-11-13T20:54:24.559Z"
   },
   {
    "duration": 3,
    "start_time": "2021-11-13T20:54:24.760Z"
   },
   {
    "duration": 4,
    "start_time": "2021-11-13T20:54:24.940Z"
   },
   {
    "duration": 2,
    "start_time": "2021-11-13T20:54:26.279Z"
   },
   {
    "duration": 1005,
    "start_time": "2021-11-13T20:54:26.871Z"
   },
   {
    "duration": 5,
    "start_time": "2021-11-13T20:54:27.908Z"
   },
   {
    "duration": 191,
    "start_time": "2021-11-13T20:54:28.079Z"
   },
   {
    "duration": 200,
    "start_time": "2021-11-13T20:54:28.622Z"
   },
   {
    "duration": 13,
    "start_time": "2021-11-13T20:54:29.861Z"
   },
   {
    "duration": 184,
    "start_time": "2021-11-13T20:54:30.244Z"
   },
   {
    "duration": 15,
    "start_time": "2021-11-13T20:54:30.526Z"
   },
   {
    "duration": 947,
    "start_time": "2021-11-13T21:23:46.294Z"
   },
   {
    "duration": 984,
    "start_time": "2021-11-13T21:25:25.387Z"
   },
   {
    "duration": 989,
    "start_time": "2021-11-13T21:26:03.395Z"
   },
   {
    "duration": 160,
    "start_time": "2021-11-13T21:27:00.974Z"
   },
   {
    "duration": 126,
    "start_time": "2021-11-13T21:27:38.508Z"
   },
   {
    "duration": 1093,
    "start_time": "2021-11-13T21:28:04.982Z"
   },
   {
    "duration": 1159,
    "start_time": "2021-11-13T21:28:24.480Z"
   }
  ],
  "kernelspec": {
   "display_name": "Python 3",
   "language": "python",
   "name": "python3"
  },
  "language_info": {
   "codemirror_mode": {
    "name": "ipython",
    "version": 3
   },
   "file_extension": ".py",
   "mimetype": "text/x-python",
   "name": "python",
   "nbconvert_exporter": "python",
   "pygments_lexer": "ipython3",
   "version": "3.8.5"
  },
  "toc": {
   "base_numbering": 1,
   "nav_menu": {},
   "number_sections": true,
   "sideBar": true,
   "skip_h1_title": true,
   "title_cell": "Table of Contents",
   "title_sidebar": "Contents",
   "toc_cell": false,
   "toc_position": {
    "height": "calc(100% - 180px)",
    "left": "10px",
    "top": "150px",
    "width": "342.391px"
   },
   "toc_section_display": true,
   "toc_window_display": false
  }
 },
 "nbformat": 4,
 "nbformat_minor": 2
}
