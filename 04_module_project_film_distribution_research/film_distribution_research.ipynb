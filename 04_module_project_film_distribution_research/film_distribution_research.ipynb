{
 "cells": [
  {
   "cell_type": "markdown",
   "metadata": {
    "id": "sIfNaMOxgFyK"
   },
   "source": [
    "## Russian film distribution research"
   ]
  },
  {
   "cell_type": "markdown",
   "metadata": {
    "id": "3bSlkCsbgFyL"
   },
   "source": [
    "### Step 1. Let's open the data files and merge them into one dataframe.\n",
    "\n",
    "Let's merge the data in such a way that all objects from the `mkrf_movies` dataset are included in the resulting dataframe."
   ]
  },
  {
   "cell_type": "markdown",
   "metadata": {},
   "source": [
    "#### Description of the project\n",
    "**The customer of this research** is the Ministry of Culture of the Russian Federation.\n",
    "* It is necessary to study the Russian film distribution market and identify current trends.\n",
    "* Pay attention to films that have received government support.\n",
    "* Answer the question of how interesting such films are to the viewer.\n",
    "* Source of information - open data on the portal of the Ministry of Culture.\n",
    "* The data set contains information about distribution certificates, box office and government support for films, as well as information from the KinoPoisk website."
   ]
  },
  {
   "cell_type": "markdown",
   "metadata": {},
   "source": [
    "#### Description of data\n",
    "The **mkrf_movies** table contains information from the rental license registry.\n",
    "One film can have several distribution certificates.\n",
    "* `title` - movie title;\n",
    "* `puNumber` — rental certificate number;\n",
    "* `show_start_date` - movie premiere date;\n",
    "* `type` - movie type;\n",
    "* `film_studio` - production studio;\n",
    "* `production_country` - country of origin;\n",
    "* `director` — director;\n",
    "* `producer` - producer;\n",
    "* `age_restriction` - age category;\n",
    "* `refundable_support` — amount of state support refundable funds;\n",
    "* `nonrefundable_support` - the amount of non-refundable state support funds;\n",
    "* `financing_source` - source of government funding;\n",
    "* `budget` - the total budget of the movie;\n",
    "* `ratings` — movie rating on KinoPoisk;\n",
    "* `genres` is the genre of the movie.\n",
    "\n",
    "**Note** the `budget` column already includes full government support.\n",
    "The data in this column is only for those films that received government support.\n",
    "\n",
    "The **mkrf_shows** table contains information about movie screenings in Russian cinemas.\n",
    "* `puNumber` — rental certificate number;\n",
    "* `box_office` — fees in rubles."
   ]
  },
  {
   "cell_type": "code",
   "execution_count": 1,
   "metadata": {},
   "outputs": [],
   "source": [
    "import pandas as pd\n",
    "import numpy as np\n",
    "import matplotlib.pyplot as plt"
   ]
  },
  {
   "cell_type": "code",
   "execution_count": 2,
   "metadata": {},
   "outputs": [],
   "source": [
    "df = pd.read_csv('/datasets/mkrf_movies.csv') \n",
    "df1 = pd.read_csv('/datasets/mkrf_shows.csv') "
   ]
  },
  {
   "cell_type": "code",
   "execution_count": 3,
   "metadata": {},
   "outputs": [
    {
     "name": "stdout",
     "output_type": "stream",
     "text": [
      "object\n",
      "int64\n"
     ]
    }
   ],
   "source": [
    "print(df['puNumber'].dtypes)\n",
    "print(df1['puNumber'].dtypes)"
   ]
  },
  {
   "cell_type": "code",
   "execution_count": 4,
   "metadata": {
    "scrolled": true
   },
   "outputs": [
    {
     "data": {
      "text/html": [
       "<div>\n",
       "<style scoped>\n",
       "    .dataframe tbody tr th:only-of-type {\n",
       "        vertical-align: middle;\n",
       "    }\n",
       "\n",
       "    .dataframe tbody tr th {\n",
       "        vertical-align: top;\n",
       "    }\n",
       "\n",
       "    .dataframe thead th {\n",
       "        text-align: right;\n",
       "    }\n",
       "</style>\n",
       "<table border=\"1\" class=\"dataframe\">\n",
       "  <thead>\n",
       "    <tr style=\"text-align: right;\">\n",
       "      <th></th>\n",
       "      <th>title</th>\n",
       "      <th>puNumber</th>\n",
       "      <th>show_start_date</th>\n",
       "      <th>type</th>\n",
       "      <th>film_studio</th>\n",
       "      <th>production_country</th>\n",
       "      <th>director</th>\n",
       "      <th>producer</th>\n",
       "      <th>age_restriction</th>\n",
       "      <th>refundable_support</th>\n",
       "      <th>nonrefundable_support</th>\n",
       "      <th>budget</th>\n",
       "      <th>financing_source</th>\n",
       "      <th>ratings</th>\n",
       "      <th>genres</th>\n",
       "    </tr>\n",
       "  </thead>\n",
       "  <tbody>\n",
       "    <tr>\n",
       "      <th>1797</th>\n",
       "      <td>Курбан-роман. (История с жертвой)</td>\n",
       "      <td>нет</td>\n",
       "      <td>2014-05-15T12:00:00.000Z</td>\n",
       "      <td>Художественный</td>\n",
       "      <td>ФОНД \"ИННОВАЦИЯ\"</td>\n",
       "      <td>Россия</td>\n",
       "      <td>С.Юзеев</td>\n",
       "      <td>М.Галицкая</td>\n",
       "      <td>«12+» - для детей старше 12 лет</td>\n",
       "      <td>NaN</td>\n",
       "      <td>NaN</td>\n",
       "      <td>NaN</td>\n",
       "      <td>NaN</td>\n",
       "      <td>NaN</td>\n",
       "      <td>NaN</td>\n",
       "    </tr>\n",
       "  </tbody>\n",
       "</table>\n",
       "</div>"
      ],
      "text/plain": [
       "                                  title puNumber           show_start_date  \\\n",
       "1797  Курбан-роман. (История с жертвой)      нет  2014-05-15T12:00:00.000Z   \n",
       "\n",
       "                type       film_studio production_country director  \\\n",
       "1797  Художественный  ФОНД \"ИННОВАЦИЯ\"             Россия  С.Юзеев   \n",
       "\n",
       "        producer                  age_restriction  refundable_support  \\\n",
       "1797  М.Галицкая  «12+» - для детей старше 12 лет                 NaN   \n",
       "\n",
       "      nonrefundable_support  budget financing_source ratings genres  \n",
       "1797                    NaN     NaN              NaN     NaN    NaN  "
      ]
     },
     "execution_count": 4,
     "metadata": {},
     "output_type": "execute_result"
    }
   ],
   "source": [
    "df[df['puNumber'] == 'нет']"
   ]
  },
  {
   "cell_type": "markdown",
   "metadata": {},
   "source": [
    "In order to add the values of one data set to another, we need to convert this column to a single type, it is most logical to convert this column to an integer type - this is a number, but there is a value in the `puNumber` column of the **df** table **`нет`** and this creates an additional step for us (*since we will not translate the string into a number with all our desire*).\n",
    "\n",
    "Therefore, we first translate into a string, connect, and then translate into an integer type."
   ]
  },
  {
   "cell_type": "code",
   "execution_count": 5,
   "metadata": {},
   "outputs": [],
   "source": [
    "df1['puNumber'] = df1['puNumber'].astype('str')\n",
    "df = df.merge(df1, how = 'left', on = 'puNumber')"
   ]
  },
  {
   "cell_type": "code",
   "execution_count": 6,
   "metadata": {},
   "outputs": [
    {
     "data": {
      "text/plain": [
       "0.5781458722949506"
      ]
     },
     "execution_count": 6,
     "metadata": {},
     "output_type": "execute_result"
    }
   ],
   "source": [
    "df['box_office'].isna().mean()"
   ]
  },
  {
   "cell_type": "markdown",
   "metadata": {},
   "source": [
    "Only **57%** of the entries in the first array have `fee` values.\n",
    "Let's look at the first lines of the received dataframe, where `box_office` did not pull up.\n",
    "It looks strange: there is a rental - there are no fees."
   ]
  },
  {
   "cell_type": "markdown",
   "metadata": {},
   "source": [
    "I propose to conduct further research on this issue in the paragraph **Data preprocessing**"
   ]
  },
  {
   "cell_type": "code",
   "execution_count": 7,
   "metadata": {},
   "outputs": [
    {
     "data": {
      "text/html": [
       "<div>\n",
       "<style scoped>\n",
       "    .dataframe tbody tr th:only-of-type {\n",
       "        vertical-align: middle;\n",
       "    }\n",
       "\n",
       "    .dataframe tbody tr th {\n",
       "        vertical-align: top;\n",
       "    }\n",
       "\n",
       "    .dataframe thead th {\n",
       "        text-align: right;\n",
       "    }\n",
       "</style>\n",
       "<table border=\"1\" class=\"dataframe\">\n",
       "  <thead>\n",
       "    <tr style=\"text-align: right;\">\n",
       "      <th></th>\n",
       "      <th>title</th>\n",
       "      <th>puNumber</th>\n",
       "      <th>show_start_date</th>\n",
       "      <th>type</th>\n",
       "      <th>film_studio</th>\n",
       "      <th>production_country</th>\n",
       "      <th>director</th>\n",
       "      <th>producer</th>\n",
       "      <th>age_restriction</th>\n",
       "      <th>refundable_support</th>\n",
       "      <th>nonrefundable_support</th>\n",
       "      <th>budget</th>\n",
       "      <th>financing_source</th>\n",
       "      <th>ratings</th>\n",
       "      <th>genres</th>\n",
       "      <th>box_office</th>\n",
       "    </tr>\n",
       "  </thead>\n",
       "  <tbody>\n",
       "    <tr>\n",
       "      <th>0</th>\n",
       "      <td>Открытый простор</td>\n",
       "      <td>221048915</td>\n",
       "      <td>2015-11-27T12:00:00.000Z</td>\n",
       "      <td>Художественный</td>\n",
       "      <td>Тачстоун Пикчерз, Кобальт Пикчерз, Бикон Пикче...</td>\n",
       "      <td>США</td>\n",
       "      <td>Кевин Костнер</td>\n",
       "      <td>Дэвид Валдес, Кевин Костнер, Джейк Эбертс</td>\n",
       "      <td>«18+» - запрещено для детей</td>\n",
       "      <td>NaN</td>\n",
       "      <td>NaN</td>\n",
       "      <td>NaN</td>\n",
       "      <td>NaN</td>\n",
       "      <td>7.2</td>\n",
       "      <td>боевик,драма,мелодрама</td>\n",
       "      <td>NaN</td>\n",
       "    </tr>\n",
       "    <tr>\n",
       "      <th>1</th>\n",
       "      <td>Особо важное задание</td>\n",
       "      <td>111013716</td>\n",
       "      <td>2016-09-13T12:00:00.000Z</td>\n",
       "      <td>Художественный</td>\n",
       "      <td>Киностудия \"Мосфильм\"</td>\n",
       "      <td>СССР</td>\n",
       "      <td>Е.Матвеев</td>\n",
       "      <td>NaN</td>\n",
       "      <td>«6+» - для детей старше 6 лет</td>\n",
       "      <td>NaN</td>\n",
       "      <td>NaN</td>\n",
       "      <td>NaN</td>\n",
       "      <td>NaN</td>\n",
       "      <td>6.6</td>\n",
       "      <td>драма,военный</td>\n",
       "      <td>NaN</td>\n",
       "    </tr>\n",
       "  </tbody>\n",
       "</table>\n",
       "</div>"
      ],
      "text/plain": [
       "                  title   puNumber           show_start_date            type  \\\n",
       "0      Открытый простор  221048915  2015-11-27T12:00:00.000Z  Художественный   \n",
       "1  Особо важное задание  111013716  2016-09-13T12:00:00.000Z  Художественный   \n",
       "\n",
       "                                         film_studio production_country  \\\n",
       "0  Тачстоун Пикчерз, Кобальт Пикчерз, Бикон Пикче...                США   \n",
       "1                              Киностудия \"Мосфильм\"               СССР   \n",
       "\n",
       "        director                                   producer  \\\n",
       "0  Кевин Костнер  Дэвид Валдес, Кевин Костнер, Джейк Эбертс   \n",
       "1      Е.Матвеев                                        NaN   \n",
       "\n",
       "                 age_restriction  refundable_support  nonrefundable_support  \\\n",
       "0    «18+» - запрещено для детей                 NaN                    NaN   \n",
       "1  «6+» - для детей старше 6 лет                 NaN                    NaN   \n",
       "\n",
       "   budget financing_source ratings                  genres  box_office  \n",
       "0     NaN              NaN     7.2  боевик,драма,мелодрама         NaN  \n",
       "1     NaN              NaN     6.6           драма,военный         NaN  "
      ]
     },
     "execution_count": 7,
     "metadata": {},
     "output_type": "execute_result"
    }
   ],
   "source": [
    "df[df['box_office'].isna()].head(2)"
   ]
  },
  {
   "cell_type": "markdown",
   "metadata": {},
   "source": [
    "**Conclusion**\n",
    "- in this paragraph, we read 2 arrays and combined them together\n",
    "- note that the attribute `box_office` could not be pulled up to 57% of the total volume of the table *datasets/mkrf_movies.csv*\n",
    "- `puNumber` was converted to a string as a temporary solution, we will deal with data types in the next paragraph"
   ]
  },
  {
   "cell_type": "markdown",
   "metadata": {
    "id": "KLDGpPG0gFyM"
   },
   "source": [
    "### Step 2. Data preprocessing"
   ]
  },
  {
   "cell_type": "markdown",
   "metadata": {
    "id": "ssWwKXsxgFyO"
   },
   "source": [
    "#### Step 2.1. Checking Data Types\n",
    "\n",
    "- Check the data types in the dataframe and convert them where necessary."
   ]
  },
  {
   "cell_type": "markdown",
   "metadata": {},
   "source": [
    "Now let's see what kind of data we have"
   ]
  },
  {
   "cell_type": "code",
   "execution_count": 8,
   "metadata": {},
   "outputs": [
    {
     "name": "stdout",
     "output_type": "stream",
     "text": [
      "<class 'pandas.core.frame.DataFrame'>\n",
      "Int64Index: 7486 entries, 0 to 7485\n",
      "Data columns (total 16 columns):\n",
      " #   Column                 Non-Null Count  Dtype  \n",
      "---  ------                 --------------  -----  \n",
      " 0   title                  7486 non-null   object \n",
      " 1   puNumber               7486 non-null   object \n",
      " 2   show_start_date        7486 non-null   object \n",
      " 3   type                   7486 non-null   object \n",
      " 4   film_studio            7468 non-null   object \n",
      " 5   production_country     7484 non-null   object \n",
      " 6   director               7477 non-null   object \n",
      " 7   producer               6918 non-null   object \n",
      " 8   age_restriction        7486 non-null   object \n",
      " 9   refundable_support     332 non-null    float64\n",
      " 10  nonrefundable_support  332 non-null    float64\n",
      " 11  budget                 332 non-null    float64\n",
      " 12  financing_source       332 non-null    object \n",
      " 13  ratings                6519 non-null   object \n",
      " 14  genres                 6510 non-null   object \n",
      " 15  box_office             3158 non-null   float64\n",
      "dtypes: float64(4), object(12)\n",
      "memory usage: 994.2+ KB\n"
     ]
    }
   ],
   "source": [
    "df.info()"
   ]
  },
  {
   "cell_type": "code",
   "execution_count": 9,
   "metadata": {},
   "outputs": [
    {
     "data": {
      "text/html": [
       "<div>\n",
       "<style scoped>\n",
       "    .dataframe tbody tr th:only-of-type {\n",
       "        vertical-align: middle;\n",
       "    }\n",
       "\n",
       "    .dataframe tbody tr th {\n",
       "        vertical-align: top;\n",
       "    }\n",
       "\n",
       "    .dataframe thead th {\n",
       "        text-align: right;\n",
       "    }\n",
       "</style>\n",
       "<table border=\"1\" class=\"dataframe\">\n",
       "  <thead>\n",
       "    <tr style=\"text-align: right;\">\n",
       "      <th></th>\n",
       "      <th>title</th>\n",
       "      <th>puNumber</th>\n",
       "      <th>show_start_date</th>\n",
       "      <th>type</th>\n",
       "      <th>film_studio</th>\n",
       "      <th>production_country</th>\n",
       "      <th>director</th>\n",
       "      <th>producer</th>\n",
       "      <th>age_restriction</th>\n",
       "      <th>refundable_support</th>\n",
       "      <th>nonrefundable_support</th>\n",
       "      <th>budget</th>\n",
       "      <th>financing_source</th>\n",
       "      <th>ratings</th>\n",
       "      <th>genres</th>\n",
       "      <th>box_office</th>\n",
       "    </tr>\n",
       "  </thead>\n",
       "  <tbody>\n",
       "    <tr>\n",
       "      <th>1281</th>\n",
       "      <td>Пока еще жива</td>\n",
       "      <td>111005313</td>\n",
       "      <td>2013-10-11T12:00:00.000Z</td>\n",
       "      <td>Художественный</td>\n",
       "      <td>АНО содействия развитию кинематографии \"Ангел-...</td>\n",
       "      <td>Россия</td>\n",
       "      <td>А.Атанесян</td>\n",
       "      <td>А.Атанесян, М.Бабаханов, Р.Бутко</td>\n",
       "      <td>«16+» - для детей старше 16 лет</td>\n",
       "      <td>0.0</td>\n",
       "      <td>26500000.0</td>\n",
       "      <td>79411900.0</td>\n",
       "      <td>Министерство культуры</td>\n",
       "      <td>8.1</td>\n",
       "      <td>драма,мелодрама</td>\n",
       "      <td>365353.6</td>\n",
       "    </tr>\n",
       "    <tr>\n",
       "      <th>1448</th>\n",
       "      <td>Бесславные придурки</td>\n",
       "      <td>111003314</td>\n",
       "      <td>2014-03-28T12:00:00.000Z</td>\n",
       "      <td>Художественный</td>\n",
       "      <td>ООО \"Компания \"АТК-Студио\"</td>\n",
       "      <td>Россия</td>\n",
       "      <td>А.Якимчук</td>\n",
       "      <td>А.Тютрюмов</td>\n",
       "      <td>«12+» - для детей старше 12 лет</td>\n",
       "      <td>0.0</td>\n",
       "      <td>26000000.0</td>\n",
       "      <td>37142857.0</td>\n",
       "      <td>Министерство культуры</td>\n",
       "      <td>NaN</td>\n",
       "      <td>NaN</td>\n",
       "      <td>28140.0</td>\n",
       "    </tr>\n",
       "    <tr>\n",
       "      <th>1498</th>\n",
       "      <td>Невидимки</td>\n",
       "      <td>111004213</td>\n",
       "      <td>2013-09-10T12:00:00.000Z</td>\n",
       "      <td>Художественный</td>\n",
       "      <td>ООО \"Компания \"РЕАЛ-ДАКОТА\"</td>\n",
       "      <td>Россия</td>\n",
       "      <td>Р.Давлетьяров, С.Комаров</td>\n",
       "      <td>Р.Давлетьяров, А.Котелевский, А.Олейников</td>\n",
       "      <td>«12+» - для детей старше 12 лет</td>\n",
       "      <td>0.0</td>\n",
       "      <td>107847945.0</td>\n",
       "      <td>176023490.0</td>\n",
       "      <td>Фонд кино</td>\n",
       "      <td>5.3</td>\n",
       "      <td>комедия,фантастика</td>\n",
       "      <td>19957031.5</td>\n",
       "    </tr>\n",
       "  </tbody>\n",
       "</table>\n",
       "</div>"
      ],
      "text/plain": [
       "                    title   puNumber           show_start_date  \\\n",
       "1281        Пока еще жива  111005313  2013-10-11T12:00:00.000Z   \n",
       "1448  Бесславные придурки  111003314  2014-03-28T12:00:00.000Z   \n",
       "1498            Невидимки  111004213  2013-09-10T12:00:00.000Z   \n",
       "\n",
       "                type                                        film_studio  \\\n",
       "1281  Художественный  АНО содействия развитию кинематографии \"Ангел-...   \n",
       "1448  Художественный                         ООО \"Компания \"АТК-Студио\"   \n",
       "1498  Художественный                        ООО \"Компания \"РЕАЛ-ДАКОТА\"   \n",
       "\n",
       "     production_country                  director  \\\n",
       "1281             Россия                А.Атанесян   \n",
       "1448             Россия                 А.Якимчук   \n",
       "1498             Россия  Р.Давлетьяров, С.Комаров   \n",
       "\n",
       "                                       producer  \\\n",
       "1281           А.Атанесян, М.Бабаханов, Р.Бутко   \n",
       "1448                                 А.Тютрюмов   \n",
       "1498  Р.Давлетьяров, А.Котелевский, А.Олейников   \n",
       "\n",
       "                      age_restriction  refundable_support  \\\n",
       "1281  «16+» - для детей старше 16 лет                 0.0   \n",
       "1448  «12+» - для детей старше 12 лет                 0.0   \n",
       "1498  «12+» - для детей старше 12 лет                 0.0   \n",
       "\n",
       "      nonrefundable_support       budget       financing_source ratings  \\\n",
       "1281             26500000.0   79411900.0  Министерство культуры     8.1   \n",
       "1448             26000000.0   37142857.0  Министерство культуры     NaN   \n",
       "1498            107847945.0  176023490.0              Фонд кино     5.3   \n",
       "\n",
       "                  genres  box_office  \n",
       "1281     драма,мелодрама    365353.6  \n",
       "1448                 NaN     28140.0  \n",
       "1498  комедия,фантастика  19957031.5  "
      ]
     },
     "execution_count": 9,
     "metadata": {},
     "output_type": "execute_result"
    }
   ],
   "source": [
    "df[df['budget'].isna() == False].head(3)"
   ]
  },
  {
   "cell_type": "markdown",
   "metadata": {},
   "source": [
    "It is most logical to make the following conversions with data types:\n",
    "* change type to **int** *(quantitative integer values)* - `puNumber`, `box_office`, `refundable_support`, `nonrefundable_support`, `budget`\n",
    "* change type to **float** *(quantitative real values)* - `ratings`\n",
    "* change type to **datetime** *(dates)* - `show_start_date`\n",
    "\n",
    "**Explanation**\n",
    "* `box_office`, `refundable_support`, `nonrefundable_support`, `budget` - the indicators refer to the budgets of films in rubles, it is unlikely that anyone will be interested in the values after the comma (`box_office`), it is more convenient and correct to translate the variables into **int* *\n",
    "* `ratings` is a rating and it is in this variable that the decimal point is important - the column needs the type **float**\n",
    "* `show_start_date` - everything is clear here, this is the rental date, you need to present the variable as ***YYYY-MM-DD*** (for this we cut the date using the *dt.floor* method), type **datetime**"
   ]
  },
  {
   "cell_type": "markdown",
   "metadata": {},
   "source": [
    "For training, I will carry out type conversion by creating a reference dictionary, and I will carry out the conversion itself through a function call (I don’t think that this is done in practice, but as part of training it will be useful)"
   ]
  },
  {
   "cell_type": "markdown",
   "metadata": {},
   "source": [
    "The array has data filling errors that can prevent us from changing data types:\n",
    "* `puNumber` - \"нет\"\n",
    "* `ratings` - part of the data is filled with ratings with the *%* sign, while the Kinopoisk scale is 10 points (checked on the site https://www.kinopoisk.ru/lists/top250/?tab=all)\n",
    "* `box_office` - round to the nearest integer so that there are no errors with translation to **int**"
   ]
  },
  {
   "cell_type": "code",
   "execution_count": 10,
   "metadata": {},
   "outputs": [],
   "source": [
    "df['puNumber'] = df['puNumber'].replace('нет', np.nan).astype(np.float64)\n",
    "df['ratings']  = df['ratings'].str.strip('%')\n",
    "df['box_office'] = df['box_office'].round(0)"
   ]
  },
  {
   "cell_type": "code",
   "execution_count": 11,
   "metadata": {},
   "outputs": [],
   "source": [
    "dict_param = {\n",
    "              'Int64': ['puNumber', 'box_office', 'refundable_support', 'nonrefundable_support', 'budget'], \n",
    "              'float64': ['ratings'],\n",
    "              'Datetime': ['show_start_date']\n",
    "             }"
   ]
  },
  {
   "cell_type": "code",
   "execution_count": 12,
   "metadata": {
    "scrolled": true
   },
   "outputs": [],
   "source": [
    "def new_tps(data ,prm):\n",
    "    for i in prm:\n",
    "        if i != 'Datetime':\n",
    "            data[prm.get(i)] = data[prm.get(i)].astype(i)\n",
    "        elif i == 'Datetime':\n",
    "            for z in prm.get(i):\n",
    "                data[z] = pd.to_datetime(data[z], format='%Y-%m-%dT%H:%M:%S.%fZ').dt.floor('1D')\n",
    "                \n",
    "    return data"
   ]
  },
  {
   "cell_type": "code",
   "execution_count": 13,
   "metadata": {},
   "outputs": [],
   "source": [
    "df = new_tps(df, dict_param)"
   ]
  },
  {
   "cell_type": "markdown",
   "metadata": {},
   "source": [
    "**Check:**"
   ]
  },
  {
   "cell_type": "code",
   "execution_count": 14,
   "metadata": {},
   "outputs": [
    {
     "name": "stdout",
     "output_type": "stream",
     "text": [
      "<class 'pandas.core.frame.DataFrame'>\n",
      "Int64Index: 7486 entries, 0 to 7485\n",
      "Data columns (total 16 columns):\n",
      " #   Column                 Non-Null Count  Dtype         \n",
      "---  ------                 --------------  -----         \n",
      " 0   title                  7486 non-null   object        \n",
      " 1   puNumber               7485 non-null   Int64         \n",
      " 2   show_start_date        7486 non-null   datetime64[ns]\n",
      " 3   type                   7486 non-null   object        \n",
      " 4   film_studio            7468 non-null   object        \n",
      " 5   production_country     7484 non-null   object        \n",
      " 6   director               7477 non-null   object        \n",
      " 7   producer               6918 non-null   object        \n",
      " 8   age_restriction        7486 non-null   object        \n",
      " 9   refundable_support     332 non-null    Int64         \n",
      " 10  nonrefundable_support  332 non-null    Int64         \n",
      " 11  budget                 332 non-null    Int64         \n",
      " 12  financing_source       332 non-null    object        \n",
      " 13  ratings                6519 non-null   float64       \n",
      " 14  genres                 6510 non-null   object        \n",
      " 15  box_office             3158 non-null   Int64         \n",
      "dtypes: Int64(5), datetime64[ns](1), float64(1), object(9)\n",
      "memory usage: 1.0+ MB\n"
     ]
    }
   ],
   "source": [
    "df.info()"
   ]
  },
  {
   "cell_type": "markdown",
   "metadata": {},
   "source": [
    "Now it is important not to forget about 3-digit ratings, which used to have a% sign,\n",
    "I really don't like **loc/iloc** and I really like **sql-like** expressions"
   ]
  },
  {
   "cell_type": "code",
   "execution_count": 15,
   "metadata": {},
   "outputs": [
    {
     "data": {
      "text/plain": [
       "29"
      ]
     },
     "execution_count": 15,
     "metadata": {},
     "output_type": "execute_result"
    }
   ],
   "source": [
    "len(df[df['ratings'] > 10])"
   ]
  },
  {
   "cell_type": "code",
   "execution_count": 16,
   "metadata": {},
   "outputs": [],
   "source": [
    "df['ratings']  = np.where(df['ratings'] > 10, np.nan , df['ratings'])"
   ]
  },
  {
   "cell_type": "markdown",
   "metadata": {},
   "source": [
    "Let's check:"
   ]
  },
  {
   "cell_type": "code",
   "execution_count": 17,
   "metadata": {},
   "outputs": [
    {
     "data": {
      "text/plain": [
       "0"
      ]
     },
     "execution_count": 17,
     "metadata": {},
     "output_type": "execute_result"
    }
   ],
   "source": [
    "len(df[df['ratings'] > 10])"
   ]
  },
  {
   "cell_type": "markdown",
   "metadata": {},
   "source": [
    "**Conclusion**\n",
    "- We read the final dataframe and looked at its composition: **7486** rows, **16** columns\n",
    "- Converted formats to more logical ones and explained their logic\n",
    "- To convert formats, we wrote a function **new_tps**\n",
    "- Conducted type conversions, we observe gaps in part of the pillars, we will deal with them in the next paragraph"
   ]
  },
  {
   "cell_type": "markdown",
   "metadata": {
    "id": "i0MOLbF-gFyP"
   },
   "source": [
    "#### Step 2.2. Let's study the gaps in the dataframe\n",
    "\n",
    "- We will explain why we filled in the gaps in a certain way or why we will not do this."
   ]
  },
  {
   "cell_type": "markdown",
   "metadata": {},
   "source": [
    "Let's display the percentage of gaps in descending order, from the largest to the smallest:"
   ]
  },
  {
   "cell_type": "code",
   "execution_count": 18,
   "metadata": {},
   "outputs": [],
   "source": [
    "empy_lst = ['puNumber','film_studio','production_country','director','producer',\n",
    "            'refundable_support','nonrefundable_support','budget','financing_source',\n",
    "            'ratings','genres','box_office']"
   ]
  },
  {
   "cell_type": "code",
   "execution_count": 19,
   "metadata": {},
   "outputs": [
    {
     "data": {
      "text/plain": [
       "refundable_support       95.57%\n",
       "nonrefundable_support    95.57%\n",
       "budget                   95.57%\n",
       "financing_source         95.57%\n",
       "box_office               57.81%\n",
       "ratings                  13.30%\n",
       "genres                   13.04%\n",
       "producer                  7.59%\n",
       "film_studio               0.24%\n",
       "director                  0.12%\n",
       "production_country        0.03%\n",
       "puNumber                  0.01%\n",
       "title                     0.00%\n",
       "show_start_date           0.00%\n",
       "type                      0.00%\n",
       "age_restriction           0.00%\n",
       "dtype: object"
      ]
     },
     "execution_count": 19,
     "metadata": {},
     "output_type": "execute_result"
    }
   ],
   "source": [
    "df.isna().mean().sort_values(ascending=False).apply('{:.2%}'.format)"
   ]
  },
  {
   "cell_type": "markdown",
   "metadata": {},
   "source": [
    "How much data was added into df from df1:"
   ]
  },
  {
   "cell_type": "code",
   "execution_count": 20,
   "metadata": {},
   "outputs": [
    {
     "data": {
      "text/plain": [
       "3158"
      ]
     },
     "execution_count": 20,
     "metadata": {},
     "output_type": "execute_result"
    }
   ],
   "source": [
    "df['box_office'].notna().sum()"
   ]
  },
  {
   "cell_type": "markdown",
   "metadata": {},
   "source": [
    "How much data is in df1 in general:"
   ]
  },
  {
   "cell_type": "code",
   "execution_count": 21,
   "metadata": {},
   "outputs": [
    {
     "data": {
      "text/plain": [
       "3158"
      ]
     },
     "execution_count": 21,
     "metadata": {},
     "output_type": "execute_result"
    }
   ],
   "source": [
    "len(df1)"
   ]
  },
  {
   "cell_type": "markdown",
   "metadata": {},
   "source": [
    "We have gaps in 12 columns out of 16, at first glance, scary.\n",
    "Let's see what gaps we have and whether they can be filled:\n",
    "\n",
    "- `refundable_support`, `nonrefundable_support`, `budget`, `financing_source` I selected these parameters in a group, since the share of passes for them is maximum and the same, the meaning of these indicators is to tell us about the state. support of films and efficient use of raised funds, obviously, a group of these fields should not be filled in for the entire data array, gaps do not need to be replaced\n",
    "- `box_office` - fee data, there are not many of them, but if there is no fee data, we cannot invent it.\n",
    "- `ratings` - data about the rating of the film, the gap in the indicator is similar to the previous parameter, despite the fact that we cannot average and fill in the gaps - this is not possible.\n",
    "- `genres`, `film_studio`, `producer`, `director` are categorical variables, we will not be able to process gaps \"manually\" quickly and efficiently, we have no other sources of information on the assignment\n",
    "- `puNumber` - there is one single gap here, previously it was filled with the value \"none\""
   ]
  },
  {
   "cell_type": "markdown",
   "metadata": {},
   "source": [
    "Perhaps the only field that we can fill in on our own is `production_country`, there are only two gaps and the data can be googled or guessed by the year of production."
   ]
  },
  {
   "cell_type": "code",
   "execution_count": 22,
   "metadata": {},
   "outputs": [
    {
     "data": {
      "text/html": [
       "<div>\n",
       "<style scoped>\n",
       "    .dataframe tbody tr th:only-of-type {\n",
       "        vertical-align: middle;\n",
       "    }\n",
       "\n",
       "    .dataframe tbody tr th {\n",
       "        vertical-align: top;\n",
       "    }\n",
       "\n",
       "    .dataframe thead th {\n",
       "        text-align: right;\n",
       "    }\n",
       "</style>\n",
       "<table border=\"1\" class=\"dataframe\">\n",
       "  <thead>\n",
       "    <tr style=\"text-align: right;\">\n",
       "      <th></th>\n",
       "      <th>title</th>\n",
       "      <th>puNumber</th>\n",
       "      <th>show_start_date</th>\n",
       "      <th>type</th>\n",
       "      <th>film_studio</th>\n",
       "      <th>production_country</th>\n",
       "      <th>director</th>\n",
       "      <th>producer</th>\n",
       "      <th>age_restriction</th>\n",
       "      <th>refundable_support</th>\n",
       "      <th>nonrefundable_support</th>\n",
       "      <th>budget</th>\n",
       "      <th>financing_source</th>\n",
       "      <th>ratings</th>\n",
       "      <th>genres</th>\n",
       "      <th>box_office</th>\n",
       "    </tr>\n",
       "  </thead>\n",
       "  <tbody>\n",
       "    <tr>\n",
       "      <th>3186</th>\n",
       "      <td>Детский юмористический киножурнал \"Ералаш. Ну ...</td>\n",
       "      <td>111001216</td>\n",
       "      <td>2016-02-09</td>\n",
       "      <td>Художественный</td>\n",
       "      <td>ООО \"Продюсерский центр ЕРАЛАШ\"</td>\n",
       "      <td>NaN</td>\n",
       "      <td>Р.Светлов, И.Магитон, А.Арутюнян, Л.Мирский, А...</td>\n",
       "      <td>ООО \"Продюсерский центр ЕРАЛАШ\"</td>\n",
       "      <td>«0+» - для любой зрительской аудитории</td>\n",
       "      <td>&lt;NA&gt;</td>\n",
       "      <td>&lt;NA&gt;</td>\n",
       "      <td>&lt;NA&gt;</td>\n",
       "      <td>NaN</td>\n",
       "      <td>7.2</td>\n",
       "      <td>детский,комедия</td>\n",
       "      <td>194527</td>\n",
       "    </tr>\n",
       "    <tr>\n",
       "      <th>4441</th>\n",
       "      <td>Мульт личности. Выпуск 5</td>\n",
       "      <td>214000410</td>\n",
       "      <td>2010-01-25</td>\n",
       "      <td>Художественный</td>\n",
       "      <td>NaN</td>\n",
       "      <td>NaN</td>\n",
       "      <td>NaN</td>\n",
       "      <td>NaN</td>\n",
       "      <td>«0+» - для любой зрительской аудитории</td>\n",
       "      <td>&lt;NA&gt;</td>\n",
       "      <td>&lt;NA&gt;</td>\n",
       "      <td>&lt;NA&gt;</td>\n",
       "      <td>NaN</td>\n",
       "      <td>4.0</td>\n",
       "      <td>мультфильм,комедия</td>\n",
       "      <td>&lt;NA&gt;</td>\n",
       "    </tr>\n",
       "  </tbody>\n",
       "</table>\n",
       "</div>"
      ],
      "text/plain": [
       "                                                  title   puNumber  \\\n",
       "3186  Детский юмористический киножурнал \"Ералаш. Ну ...  111001216   \n",
       "4441                           Мульт личности. Выпуск 5  214000410   \n",
       "\n",
       "     show_start_date            type                      film_studio  \\\n",
       "3186      2016-02-09  Художественный  ООО \"Продюсерский центр ЕРАЛАШ\"   \n",
       "4441      2010-01-25  Художественный                              NaN   \n",
       "\n",
       "     production_country                                           director  \\\n",
       "3186                NaN  Р.Светлов, И.Магитон, А.Арутюнян, Л.Мирский, А...   \n",
       "4441                NaN                                                NaN   \n",
       "\n",
       "                             producer                         age_restriction  \\\n",
       "3186  ООО \"Продюсерский центр ЕРАЛАШ\"  «0+» - для любой зрительской аудитории   \n",
       "4441                              NaN  «0+» - для любой зрительской аудитории   \n",
       "\n",
       "      refundable_support  nonrefundable_support  budget financing_source  \\\n",
       "3186                <NA>                   <NA>    <NA>              NaN   \n",
       "4441                <NA>                   <NA>    <NA>              NaN   \n",
       "\n",
       "      ratings              genres  box_office  \n",
       "3186      7.2     детский,комедия      194527  \n",
       "4441      4.0  мультфильм,комедия        <NA>  "
      ]
     },
     "execution_count": 22,
     "metadata": {},
     "output_type": "execute_result"
    }
   ],
   "source": [
    "df[df['production_country'].isna() == True]"
   ]
  },
  {
   "cell_type": "code",
   "execution_count": 23,
   "metadata": {},
   "outputs": [],
   "source": [
    "df['production_country'] = df['production_country'].fillna('Россия')"
   ]
  },
  {
   "cell_type": "markdown",
   "metadata": {
    "id": "8MJD_lkngFyP"
   },
   "source": [
    "**Conclusion:**\n",
    "- when filling in the gaps, it is very important not to \"invent\" the data, so that later you do not draw conclusions based on synthetic information about what is not there\n",
    "- omissions in the group columns `refundable_support`, `nonrefundable_support`, `budget`, `financing_source` are not actually an error, since not all films receive state. financing\n",
    "- it is possible that some of the gaps are caused by duplicates (when for a movie with the same name the columns are filled in differently or with gaps) - the reason for this problem is a technical error when saving data to the database\n",
    "- our current skills do not allow us to write a parser to collect additional. information from open sources (for example, from Kinopoisk), so I propose to leave almost all the gaps blank without exception"
   ]
  },
  {
   "cell_type": "markdown",
   "metadata": {
    "id": "4c6k1t9ygFyQ"
   },
   "source": [
    "#### Step 2.3. Examining duplicates in a dataframe\n",
    "- Check if there are duplicates in the data. Let us describe the reasons that could affect the appearance of duplicates."
   ]
  },
  {
   "cell_type": "markdown",
   "metadata": {
    "id": "aKck8RIdgFyQ"
   },
   "source": [
    "Check the file for obvious duplicates (when all parameters in two different lines of the file are filled in the same way)"
   ]
  },
  {
   "cell_type": "code",
   "execution_count": 24,
   "metadata": {},
   "outputs": [
    {
     "data": {
      "text/plain": [
       "0"
      ]
     },
     "execution_count": 24,
     "metadata": {},
     "output_type": "execute_result"
    }
   ],
   "source": [
    "df.duplicated().sum()"
   ]
  },
  {
   "cell_type": "markdown",
   "metadata": {},
   "source": [
    "There are not obvious duplicates.\n",
    "\n",
    "The essence of our table is the movie that was released.\n",
    "We need to check:\n",
    "- are there any repetitions in the ID of the rental certificate\n",
    "- are there any repetitions in the titles of films in the table, because a film cannot be released several times, unless the ID of its rental certificate changes (it is rather difficult to imagine this)."
   ]
  },
  {
   "cell_type": "markdown",
   "metadata": {},
   "source": [
    "**Duplicate Rental ID**"
   ]
  },
  {
   "cell_type": "code",
   "execution_count": 25,
   "metadata": {},
   "outputs": [
    {
     "data": {
      "text/html": [
       "<div>\n",
       "<style scoped>\n",
       "    .dataframe tbody tr th:only-of-type {\n",
       "        vertical-align: middle;\n",
       "    }\n",
       "\n",
       "    .dataframe tbody tr th {\n",
       "        vertical-align: top;\n",
       "    }\n",
       "\n",
       "    .dataframe thead th {\n",
       "        text-align: right;\n",
       "    }\n",
       "</style>\n",
       "<table border=\"1\" class=\"dataframe\">\n",
       "  <thead>\n",
       "    <tr style=\"text-align: right;\">\n",
       "      <th></th>\n",
       "      <th>puNumber</th>\n",
       "    </tr>\n",
       "  </thead>\n",
       "  <tbody>\n",
       "    <tr>\n",
       "      <th>221054410</th>\n",
       "      <td>2</td>\n",
       "    </tr>\n",
       "    <tr>\n",
       "      <th>221154310</th>\n",
       "      <td>2</td>\n",
       "    </tr>\n",
       "  </tbody>\n",
       "</table>\n",
       "</div>"
      ],
      "text/plain": [
       "           puNumber\n",
       "221054410         2\n",
       "221154310         2"
      ]
     },
     "execution_count": 25,
     "metadata": {},
     "output_type": "execute_result"
    }
   ],
   "source": [
    "df['puNumber'].value_counts().to_frame().query('puNumber > 1')"
   ]
  },
  {
   "cell_type": "markdown",
   "metadata": {},
   "source": [
    "These are duplicate rental certificates.  \n",
    "Let's take a look at the movie data."
   ]
  },
  {
   "cell_type": "code",
   "execution_count": 26,
   "metadata": {},
   "outputs": [
    {
     "data": {
      "text/html": [
       "<div>\n",
       "<style scoped>\n",
       "    .dataframe tbody tr th:only-of-type {\n",
       "        vertical-align: middle;\n",
       "    }\n",
       "\n",
       "    .dataframe tbody tr th {\n",
       "        vertical-align: top;\n",
       "    }\n",
       "\n",
       "    .dataframe thead th {\n",
       "        text-align: right;\n",
       "    }\n",
       "</style>\n",
       "<table border=\"1\" class=\"dataframe\">\n",
       "  <thead>\n",
       "    <tr style=\"text-align: right;\">\n",
       "      <th></th>\n",
       "      <th>title</th>\n",
       "      <th>puNumber</th>\n",
       "      <th>show_start_date</th>\n",
       "      <th>type</th>\n",
       "      <th>film_studio</th>\n",
       "      <th>production_country</th>\n",
       "      <th>director</th>\n",
       "      <th>producer</th>\n",
       "      <th>age_restriction</th>\n",
       "      <th>refundable_support</th>\n",
       "      <th>nonrefundable_support</th>\n",
       "      <th>budget</th>\n",
       "      <th>financing_source</th>\n",
       "      <th>ratings</th>\n",
       "      <th>genres</th>\n",
       "      <th>box_office</th>\n",
       "    </tr>\n",
       "  </thead>\n",
       "  <tbody>\n",
       "    <tr>\n",
       "      <th>5067</th>\n",
       "      <td>Анализируй это!</td>\n",
       "      <td>221054410</td>\n",
       "      <td>2010-05-25</td>\n",
       "      <td>Художественный</td>\n",
       "      <td>Уорнер Бразерс, Вилладж Роудшоу Филмз ЛТД</td>\n",
       "      <td>США-Австралия</td>\n",
       "      <td>ХЭрольд Рэмис</td>\n",
       "      <td>Джейн Розенталь, Пола Уейнстейн</td>\n",
       "      <td>«16+» - для детей старше 16 лет</td>\n",
       "      <td>&lt;NA&gt;</td>\n",
       "      <td>&lt;NA&gt;</td>\n",
       "      <td>&lt;NA&gt;</td>\n",
       "      <td>NaN</td>\n",
       "      <td>7.4</td>\n",
       "      <td>комедия,криминал</td>\n",
       "      <td>&lt;NA&gt;</td>\n",
       "    </tr>\n",
       "    <tr>\n",
       "      <th>5068</th>\n",
       "      <td>Анализируй то!</td>\n",
       "      <td>221054410</td>\n",
       "      <td>2010-05-25</td>\n",
       "      <td>Художественный</td>\n",
       "      <td>Уорнер Бразерс, Виллидж Роадшоу Пикчерз, Эн-Пи...</td>\n",
       "      <td>США</td>\n",
       "      <td>Гарольд Реймис</td>\n",
       "      <td>Джейн Розенталь, Паул Уэйнстейн</td>\n",
       "      <td>«12+» - для детей старше 12 лет</td>\n",
       "      <td>&lt;NA&gt;</td>\n",
       "      <td>&lt;NA&gt;</td>\n",
       "      <td>&lt;NA&gt;</td>\n",
       "      <td>NaN</td>\n",
       "      <td>6.8</td>\n",
       "      <td>комедия,криминал</td>\n",
       "      <td>&lt;NA&gt;</td>\n",
       "    </tr>\n",
       "  </tbody>\n",
       "</table>\n",
       "</div>"
      ],
      "text/plain": [
       "                title   puNumber show_start_date            type  \\\n",
       "5067  Анализируй это!  221054410      2010-05-25  Художественный   \n",
       "5068   Анализируй то!  221054410      2010-05-25  Художественный   \n",
       "\n",
       "                                            film_studio production_country  \\\n",
       "5067          Уорнер Бразерс, Вилладж Роудшоу Филмз ЛТД      США-Австралия   \n",
       "5068  Уорнер Бразерс, Виллидж Роадшоу Пикчерз, Эн-Пи...                США   \n",
       "\n",
       "            director                         producer  \\\n",
       "5067   ХЭрольд Рэмис  Джейн Розенталь, Пола Уейнстейн   \n",
       "5068  Гарольд Реймис  Джейн Розенталь, Паул Уэйнстейн   \n",
       "\n",
       "                      age_restriction  refundable_support  \\\n",
       "5067  «16+» - для детей старше 16 лет                <NA>   \n",
       "5068  «12+» - для детей старше 12 лет                <NA>   \n",
       "\n",
       "      nonrefundable_support  budget financing_source  ratings  \\\n",
       "5067                   <NA>    <NA>              NaN      7.4   \n",
       "5068                   <NA>    <NA>              NaN      6.8   \n",
       "\n",
       "                genres  box_office  \n",
       "5067  комедия,криминал        <NA>  \n",
       "5068  комедия,криминал        <NA>  "
      ]
     },
     "execution_count": 26,
     "metadata": {},
     "output_type": "execute_result"
    }
   ],
   "source": [
    "df.query('puNumber == 221054410')"
   ]
  },
  {
   "cell_type": "markdown",
   "metadata": {},
   "source": [
    "Specifically, this case looks like a technical error.  \n",
    "The data doubled due to the incorrect recording of the film's title, and a different rating was attracted to them.  \n",
    "Director Harold Ramis does not have a film \"Analyze That!\"  \n",
    "Let's delete the line where the rating is lower, and correct the typos."
   ]
  },
  {
   "cell_type": "code",
   "execution_count": 27,
   "metadata": {},
   "outputs": [],
   "source": [
    "df = df.drop([5068])"
   ]
  },
  {
   "cell_type": "code",
   "execution_count": 28,
   "metadata": {},
   "outputs": [],
   "source": [
    "df['director'] = df['director'].replace('ХЭрольд Рэмис','Гарольд Реймис')"
   ]
  },
  {
   "cell_type": "code",
   "execution_count": 29,
   "metadata": {},
   "outputs": [],
   "source": [
    "df = df.reset_index(drop = True)"
   ]
  },
  {
   "cell_type": "code",
   "execution_count": 30,
   "metadata": {},
   "outputs": [
    {
     "data": {
      "text/html": [
       "<div>\n",
       "<style scoped>\n",
       "    .dataframe tbody tr th:only-of-type {\n",
       "        vertical-align: middle;\n",
       "    }\n",
       "\n",
       "    .dataframe tbody tr th {\n",
       "        vertical-align: top;\n",
       "    }\n",
       "\n",
       "    .dataframe thead th {\n",
       "        text-align: right;\n",
       "    }\n",
       "</style>\n",
       "<table border=\"1\" class=\"dataframe\">\n",
       "  <thead>\n",
       "    <tr style=\"text-align: right;\">\n",
       "      <th></th>\n",
       "      <th>title</th>\n",
       "      <th>puNumber</th>\n",
       "      <th>show_start_date</th>\n",
       "      <th>type</th>\n",
       "      <th>film_studio</th>\n",
       "      <th>production_country</th>\n",
       "      <th>director</th>\n",
       "      <th>producer</th>\n",
       "      <th>age_restriction</th>\n",
       "      <th>refundable_support</th>\n",
       "      <th>nonrefundable_support</th>\n",
       "      <th>budget</th>\n",
       "      <th>financing_source</th>\n",
       "      <th>ratings</th>\n",
       "      <th>genres</th>\n",
       "      <th>box_office</th>\n",
       "    </tr>\n",
       "  </thead>\n",
       "  <tbody>\n",
       "    <tr>\n",
       "      <th>5067</th>\n",
       "      <td>Анализируй это!</td>\n",
       "      <td>221054410</td>\n",
       "      <td>2010-05-25</td>\n",
       "      <td>Художественный</td>\n",
       "      <td>Уорнер Бразерс, Вилладж Роудшоу Филмз ЛТД</td>\n",
       "      <td>США-Австралия</td>\n",
       "      <td>Гарольд Реймис</td>\n",
       "      <td>Джейн Розенталь, Пола Уейнстейн</td>\n",
       "      <td>«16+» - для детей старше 16 лет</td>\n",
       "      <td>&lt;NA&gt;</td>\n",
       "      <td>&lt;NA&gt;</td>\n",
       "      <td>&lt;NA&gt;</td>\n",
       "      <td>NaN</td>\n",
       "      <td>7.4</td>\n",
       "      <td>комедия,криминал</td>\n",
       "      <td>&lt;NA&gt;</td>\n",
       "    </tr>\n",
       "  </tbody>\n",
       "</table>\n",
       "</div>"
      ],
      "text/plain": [
       "                title   puNumber show_start_date            type  \\\n",
       "5067  Анализируй это!  221054410      2010-05-25  Художественный   \n",
       "\n",
       "                                    film_studio production_country  \\\n",
       "5067  Уорнер Бразерс, Вилладж Роудшоу Филмз ЛТД      США-Австралия   \n",
       "\n",
       "            director                         producer  \\\n",
       "5067  Гарольд Реймис  Джейн Розенталь, Пола Уейнстейн   \n",
       "\n",
       "                      age_restriction  refundable_support  \\\n",
       "5067  «16+» - для детей старше 16 лет                <NA>   \n",
       "\n",
       "      nonrefundable_support  budget financing_source  ratings  \\\n",
       "5067                   <NA>    <NA>              NaN      7.4   \n",
       "\n",
       "                genres  box_office  \n",
       "5067  комедия,криминал        <NA>  "
      ]
     },
     "execution_count": 30,
     "metadata": {},
     "output_type": "execute_result"
    }
   ],
   "source": [
    "df.query('puNumber == 221054410')"
   ]
  },
  {
   "cell_type": "markdown",
   "metadata": {},
   "source": [
    "Consider the second case of repeating the rental certificate ID:"
   ]
  },
  {
   "cell_type": "code",
   "execution_count": 31,
   "metadata": {},
   "outputs": [
    {
     "data": {
      "text/html": [
       "<div>\n",
       "<style scoped>\n",
       "    .dataframe tbody tr th:only-of-type {\n",
       "        vertical-align: middle;\n",
       "    }\n",
       "\n",
       "    .dataframe tbody tr th {\n",
       "        vertical-align: top;\n",
       "    }\n",
       "\n",
       "    .dataframe thead th {\n",
       "        text-align: right;\n",
       "    }\n",
       "</style>\n",
       "<table border=\"1\" class=\"dataframe\">\n",
       "  <thead>\n",
       "    <tr style=\"text-align: right;\">\n",
       "      <th></th>\n",
       "      <th>title</th>\n",
       "      <th>puNumber</th>\n",
       "      <th>show_start_date</th>\n",
       "      <th>type</th>\n",
       "      <th>film_studio</th>\n",
       "      <th>production_country</th>\n",
       "      <th>director</th>\n",
       "      <th>producer</th>\n",
       "      <th>age_restriction</th>\n",
       "      <th>refundable_support</th>\n",
       "      <th>nonrefundable_support</th>\n",
       "      <th>budget</th>\n",
       "      <th>financing_source</th>\n",
       "      <th>ratings</th>\n",
       "      <th>genres</th>\n",
       "      <th>box_office</th>\n",
       "    </tr>\n",
       "  </thead>\n",
       "  <tbody>\n",
       "    <tr>\n",
       "      <th>4638</th>\n",
       "      <td>Как жениться и остаться холостым</td>\n",
       "      <td>221154310</td>\n",
       "      <td>2010-12-17</td>\n",
       "      <td>Художественный</td>\n",
       "      <td>Ше Вам, Скрипт Ассосье, Тэ Фэ 1 Фильм Продюксь...</td>\n",
       "      <td>Франция</td>\n",
       "      <td>Эрик Лартиго</td>\n",
       "      <td>Амандин Било, Алан Шаба</td>\n",
       "      <td>«16+» - для детей старше 16 лет</td>\n",
       "      <td>&lt;NA&gt;</td>\n",
       "      <td>&lt;NA&gt;</td>\n",
       "      <td>&lt;NA&gt;</td>\n",
       "      <td>NaN</td>\n",
       "      <td>7.0</td>\n",
       "      <td>мелодрама,комедия</td>\n",
       "      <td>&lt;NA&gt;</td>\n",
       "    </tr>\n",
       "    <tr>\n",
       "      <th>4639</th>\n",
       "      <td>Иоанна - женщина на папском престоле /По роман...</td>\n",
       "      <td>221154310</td>\n",
       "      <td>2010-12-17</td>\n",
       "      <td>Художественный</td>\n",
       "      <td>Константин Фильм, А Эр Ди Дегето Фильм, Дюне ...</td>\n",
       "      <td>Германия - Великобритания - Италия - Испания</td>\n",
       "      <td>Зенке Вортманн</td>\n",
       "      <td>Оливер Бербен, Дорис Д.Хайнце, Фарук Элтан</td>\n",
       "      <td>«16+» - для детей старше 16 лет</td>\n",
       "      <td>&lt;NA&gt;</td>\n",
       "      <td>&lt;NA&gt;</td>\n",
       "      <td>&lt;NA&gt;</td>\n",
       "      <td>NaN</td>\n",
       "      <td>7.6</td>\n",
       "      <td>драма,мелодрама,история</td>\n",
       "      <td>&lt;NA&gt;</td>\n",
       "    </tr>\n",
       "  </tbody>\n",
       "</table>\n",
       "</div>"
      ],
      "text/plain": [
       "                                                  title   puNumber  \\\n",
       "4638                   Как жениться и остаться холостым  221154310   \n",
       "4639  Иоанна - женщина на папском престоле /По роман...  221154310   \n",
       "\n",
       "     show_start_date            type  \\\n",
       "4638      2010-12-17  Художественный   \n",
       "4639      2010-12-17  Художественный   \n",
       "\n",
       "                                            film_studio  \\\n",
       "4638  Ше Вам, Скрипт Ассосье, Тэ Фэ 1 Фильм Продюксь...   \n",
       "4639   Константин Фильм, А Эр Ди Дегето Фильм, Дюне ...   \n",
       "\n",
       "                                production_country        director  \\\n",
       "4638                                       Франция    Эрик Лартиго   \n",
       "4639  Германия - Великобритания - Италия - Испания  Зенке Вортманн   \n",
       "\n",
       "                                        producer  \\\n",
       "4638                     Амандин Било, Алан Шаба   \n",
       "4639  Оливер Бербен, Дорис Д.Хайнце, Фарук Элтан   \n",
       "\n",
       "                      age_restriction  refundable_support  \\\n",
       "4638  «16+» - для детей старше 16 лет                <NA>   \n",
       "4639  «16+» - для детей старше 16 лет                <NA>   \n",
       "\n",
       "      nonrefundable_support  budget financing_source  ratings  \\\n",
       "4638                   <NA>    <NA>              NaN      7.0   \n",
       "4639                   <NA>    <NA>              NaN      7.6   \n",
       "\n",
       "                       genres  box_office  \n",
       "4638        мелодрама,комедия        <NA>  \n",
       "4639  драма,мелодрама,история        <NA>  "
      ]
     },
     "execution_count": 31,
     "metadata": {},
     "output_type": "execute_result"
    }
   ],
   "source": [
    "df.query('puNumber == 221154310')"
   ]
  },
  {
   "cell_type": "markdown",
   "metadata": {},
   "source": [
    "We will not delete anything here, because for some reason, the IDs of the rental certificates are the same (I suspect that this is a technical error).  \n",
    "Information on fees not by ID was not pulled up, so here we were \"lucky\""
   ]
  },
  {
   "cell_type": "markdown",
   "metadata": {},
   "source": [
    "**Next, consider a situation where movie titles are repeated:**"
   ]
  },
  {
   "cell_type": "code",
   "execution_count": 32,
   "metadata": {},
   "outputs": [
    {
     "data": {
      "text/html": [
       "<div>\n",
       "<style scoped>\n",
       "    .dataframe tbody tr th:only-of-type {\n",
       "        vertical-align: middle;\n",
       "    }\n",
       "\n",
       "    .dataframe tbody tr th {\n",
       "        vertical-align: top;\n",
       "    }\n",
       "\n",
       "    .dataframe thead th {\n",
       "        text-align: right;\n",
       "    }\n",
       "</style>\n",
       "<table border=\"1\" class=\"dataframe\">\n",
       "  <thead>\n",
       "    <tr style=\"text-align: right;\">\n",
       "      <th></th>\n",
       "      <th>index</th>\n",
       "      <th>title</th>\n",
       "    </tr>\n",
       "  </thead>\n",
       "  <tbody>\n",
       "    <tr>\n",
       "      <th>0</th>\n",
       "      <td>День святого Валентина_</td>\n",
       "      <td>5</td>\n",
       "    </tr>\n",
       "    <tr>\n",
       "      <th>1</th>\n",
       "      <td>Белоснежка и охотник</td>\n",
       "      <td>4</td>\n",
       "    </tr>\n",
       "    <tr>\n",
       "      <th>2</th>\n",
       "      <td>Химера</td>\n",
       "      <td>4</td>\n",
       "    </tr>\n",
       "    <tr>\n",
       "      <th>3</th>\n",
       "      <td>Рапунцель: Запутанная история</td>\n",
       "      <td>4</td>\n",
       "    </tr>\n",
       "    <tr>\n",
       "      <th>4</th>\n",
       "      <td>Кошмар на улице Вязов /Фильм ужасов/</td>\n",
       "      <td>4</td>\n",
       "    </tr>\n",
       "    <tr>\n",
       "      <th>...</th>\n",
       "      <td>...</td>\n",
       "      <td>...</td>\n",
       "    </tr>\n",
       "    <tr>\n",
       "      <th>553</th>\n",
       "      <td>Рожденные на воле 3D</td>\n",
       "      <td>2</td>\n",
       "    </tr>\n",
       "    <tr>\n",
       "      <th>554</th>\n",
       "      <td>Властелин колец: Возвращение короля /По произв...</td>\n",
       "      <td>2</td>\n",
       "    </tr>\n",
       "    <tr>\n",
       "      <th>555</th>\n",
       "      <td>Под ветвями боярышника</td>\n",
       "      <td>2</td>\n",
       "    </tr>\n",
       "    <tr>\n",
       "      <th>556</th>\n",
       "      <td>Властелин колец: Две крепости /По произведению...</td>\n",
       "      <td>2</td>\n",
       "    </tr>\n",
       "    <tr>\n",
       "      <th>557</th>\n",
       "      <td>Паранормальное явление</td>\n",
       "      <td>2</td>\n",
       "    </tr>\n",
       "  </tbody>\n",
       "</table>\n",
       "<p>558 rows × 2 columns</p>\n",
       "</div>"
      ],
      "text/plain": [
       "                                                 index  title\n",
       "0                              День святого Валентина_      5\n",
       "1                                 Белоснежка и охотник      4\n",
       "2                                               Химера      4\n",
       "3                        Рапунцель: Запутанная история      4\n",
       "4                 Кошмар на улице Вязов /Фильм ужасов/      4\n",
       "..                                                 ...    ...\n",
       "553                               Рожденные на воле 3D      2\n",
       "554  Властелин колец: Возвращение короля /По произв...      2\n",
       "555                             Под ветвями боярышника      2\n",
       "556  Властелин колец: Две крепости /По произведению...      2\n",
       "557                             Паранормальное явление      2\n",
       "\n",
       "[558 rows x 2 columns]"
      ]
     },
     "execution_count": 32,
     "metadata": {},
     "output_type": "execute_result"
    }
   ],
   "source": [
    "df['title'].value_counts().to_frame().query('title > 1').reset_index()"
   ]
  },
  {
   "cell_type": "code",
   "execution_count": 33,
   "metadata": {},
   "outputs": [
    {
     "data": {
      "text/plain": [
       "1272"
      ]
     },
     "execution_count": 33,
     "metadata": {},
     "output_type": "execute_result"
    }
   ],
   "source": [
    "df['title'].value_counts().to_frame().query('title > 1').reset_index()['title'].sum()"
   ]
  },
  {
   "cell_type": "code",
   "execution_count": 34,
   "metadata": {},
   "outputs": [
    {
     "data": {
      "text/plain": [
       "714"
      ]
     },
     "execution_count": 34,
     "metadata": {},
     "output_type": "execute_result"
    }
   ],
   "source": [
    "df['title'].duplicated().sum()"
   ]
  },
  {
   "cell_type": "markdown",
   "metadata": {},
   "source": [
    "**This is how many films with the same titles are in our table**"
   ]
  },
  {
   "cell_type": "code",
   "execution_count": 35,
   "metadata": {},
   "outputs": [
    {
     "data": {
      "text/plain": [
       "0    День святого Валентина_\n",
       "Name: index, dtype: object"
      ]
     },
     "execution_count": 35,
     "metadata": {},
     "output_type": "execute_result"
    }
   ],
   "source": [
    "nms_dbl = df['title'].value_counts().to_frame().query('title > 1').reset_index()\n",
    "nms_dbl = nms_dbl['index']\n",
    "nms_dbl.columns = ['title']\n",
    "nms_dbl.head(1)"
   ]
  },
  {
   "cell_type": "markdown",
   "metadata": {},
   "source": [
    "This was unexpected, a film can indeed have several unique rental IDs.\n",
    "Let's take a closer look at an example.\n",
    "It can be seen that the film was simply released on different dates, which is why it received several rental certificates."
   ]
  },
  {
   "cell_type": "code",
   "execution_count": 36,
   "metadata": {},
   "outputs": [
    {
     "data": {
      "text/html": [
       "<div>\n",
       "<style scoped>\n",
       "    .dataframe tbody tr th:only-of-type {\n",
       "        vertical-align: middle;\n",
       "    }\n",
       "\n",
       "    .dataframe tbody tr th {\n",
       "        vertical-align: top;\n",
       "    }\n",
       "\n",
       "    .dataframe thead th {\n",
       "        text-align: right;\n",
       "    }\n",
       "</style>\n",
       "<table border=\"1\" class=\"dataframe\">\n",
       "  <thead>\n",
       "    <tr style=\"text-align: right;\">\n",
       "      <th></th>\n",
       "      <th>title</th>\n",
       "      <th>puNumber</th>\n",
       "      <th>show_start_date</th>\n",
       "      <th>type</th>\n",
       "      <th>film_studio</th>\n",
       "      <th>production_country</th>\n",
       "      <th>director</th>\n",
       "      <th>producer</th>\n",
       "      <th>age_restriction</th>\n",
       "      <th>refundable_support</th>\n",
       "      <th>nonrefundable_support</th>\n",
       "      <th>budget</th>\n",
       "      <th>financing_source</th>\n",
       "      <th>ratings</th>\n",
       "      <th>genres</th>\n",
       "      <th>box_office</th>\n",
       "    </tr>\n",
       "  </thead>\n",
       "  <tbody>\n",
       "    <tr>\n",
       "      <th>341</th>\n",
       "      <td>Красавчик-2</td>\n",
       "      <td>221011215</td>\n",
       "      <td>2015-04-03</td>\n",
       "      <td>Художественный</td>\n",
       "      <td>Ротсхирч Картун Филмс, Севен Пикчерз, Уорнер Б...</td>\n",
       "      <td>Германия</td>\n",
       "      <td>Тиль Швайгер</td>\n",
       "      <td>Тиль Швайгер</td>\n",
       "      <td>«16+» - для детей старше 16 лет</td>\n",
       "      <td>&lt;NA&gt;</td>\n",
       "      <td>&lt;NA&gt;</td>\n",
       "      <td>&lt;NA&gt;</td>\n",
       "      <td>NaN</td>\n",
       "      <td>7.1</td>\n",
       "      <td>мелодрама,комедия</td>\n",
       "      <td>&lt;NA&gt;</td>\n",
       "    </tr>\n",
       "    <tr>\n",
       "      <th>4357</th>\n",
       "      <td>Красавчик-2</td>\n",
       "      <td>221060010</td>\n",
       "      <td>2010-05-12</td>\n",
       "      <td>Художественный</td>\n",
       "      <td>Ротсхирч Картун Филмс, Севен Пикчерз, Уорнер Б...</td>\n",
       "      <td>Германия</td>\n",
       "      <td>Тиль Швайгер</td>\n",
       "      <td>Тиль Швайгер</td>\n",
       "      <td>«16+» - для детей старше 16 лет</td>\n",
       "      <td>&lt;NA&gt;</td>\n",
       "      <td>&lt;NA&gt;</td>\n",
       "      <td>&lt;NA&gt;</td>\n",
       "      <td>NaN</td>\n",
       "      <td>7.1</td>\n",
       "      <td>мелодрама,комедия</td>\n",
       "      <td>&lt;NA&gt;</td>\n",
       "    </tr>\n",
       "    <tr>\n",
       "      <th>4387</th>\n",
       "      <td>Красавчик-2</td>\n",
       "      <td>121006110</td>\n",
       "      <td>2010-03-30</td>\n",
       "      <td>Художественный</td>\n",
       "      <td>Ротсхирч Картун Филмс, Севен Пикчерз, Уорнер Б...</td>\n",
       "      <td>Германия</td>\n",
       "      <td>Тиль Швайгер</td>\n",
       "      <td>Тиль Швайгер</td>\n",
       "      <td>«16+» - для детей старше 16 лет</td>\n",
       "      <td>&lt;NA&gt;</td>\n",
       "      <td>&lt;NA&gt;</td>\n",
       "      <td>&lt;NA&gt;</td>\n",
       "      <td>NaN</td>\n",
       "      <td>7.1</td>\n",
       "      <td>мелодрама,комедия</td>\n",
       "      <td>&lt;NA&gt;</td>\n",
       "    </tr>\n",
       "    <tr>\n",
       "      <th>4615</th>\n",
       "      <td>Красавчик-2</td>\n",
       "      <td>221161610</td>\n",
       "      <td>2010-12-17</td>\n",
       "      <td>Художественный</td>\n",
       "      <td>Ротсхирч Картун Филмс, Севен Пикчерз, Уорнер Б...</td>\n",
       "      <td>Германия</td>\n",
       "      <td>Тиль Швайгер</td>\n",
       "      <td>Тиль Швайгер</td>\n",
       "      <td>«16+» - для детей старше 16 лет</td>\n",
       "      <td>&lt;NA&gt;</td>\n",
       "      <td>&lt;NA&gt;</td>\n",
       "      <td>&lt;NA&gt;</td>\n",
       "      <td>NaN</td>\n",
       "      <td>7.1</td>\n",
       "      <td>мелодрама,комедия</td>\n",
       "      <td>&lt;NA&gt;</td>\n",
       "    </tr>\n",
       "  </tbody>\n",
       "</table>\n",
       "</div>"
      ],
      "text/plain": [
       "            title   puNumber show_start_date            type  \\\n",
       "341   Красавчик-2  221011215      2015-04-03  Художественный   \n",
       "4357  Красавчик-2  221060010      2010-05-12  Художественный   \n",
       "4387  Красавчик-2  121006110      2010-03-30  Художественный   \n",
       "4615  Красавчик-2  221161610      2010-12-17  Художественный   \n",
       "\n",
       "                                            film_studio production_country  \\\n",
       "341   Ротсхирч Картун Филмс, Севен Пикчерз, Уорнер Б...           Германия   \n",
       "4357  Ротсхирч Картун Филмс, Севен Пикчерз, Уорнер Б...           Германия   \n",
       "4387  Ротсхирч Картун Филмс, Севен Пикчерз, Уорнер Б...           Германия   \n",
       "4615  Ротсхирч Картун Филмс, Севен Пикчерз, Уорнер Б...           Германия   \n",
       "\n",
       "          director      producer                  age_restriction  \\\n",
       "341   Тиль Швайгер  Тиль Швайгер  «16+» - для детей старше 16 лет   \n",
       "4357  Тиль Швайгер  Тиль Швайгер  «16+» - для детей старше 16 лет   \n",
       "4387  Тиль Швайгер  Тиль Швайгер  «16+» - для детей старше 16 лет   \n",
       "4615  Тиль Швайгер  Тиль Швайгер  «16+» - для детей старше 16 лет   \n",
       "\n",
       "      refundable_support  nonrefundable_support  budget financing_source  \\\n",
       "341                 <NA>                   <NA>    <NA>              NaN   \n",
       "4357                <NA>                   <NA>    <NA>              NaN   \n",
       "4387                <NA>                   <NA>    <NA>              NaN   \n",
       "4615                <NA>                   <NA>    <NA>              NaN   \n",
       "\n",
       "      ratings             genres  box_office  \n",
       "341       7.1  мелодрама,комедия        <NA>  \n",
       "4357      7.1  мелодрама,комедия        <NA>  \n",
       "4387      7.1  мелодрама,комедия        <NA>  \n",
       "4615      7.1  мелодрама,комедия        <NA>  "
      ]
     },
     "execution_count": 36,
     "metadata": {},
     "output_type": "execute_result"
    }
   ],
   "source": [
    "df[df['title'] == 'Красавчик-2']"
   ]
  },
  {
   "cell_type": "markdown",
   "metadata": {},
   "source": [
    "And here you can stop, provided that all other signs are filled in the same way.  \n",
    "But what if the rating for different IDs is filled in differently or there are gaps somewhere."
   ]
  },
  {
   "cell_type": "code",
   "execution_count": 37,
   "metadata": {},
   "outputs": [],
   "source": [
    "df_dbl = df.fillna(-1).query('''title in @nms_dbl''').groupby(\"title\")\\\n",
    "   .agg({\"puNumber\": 'count', \"ratings\": pd.Series.nunique, \"genres\": pd.Series.nunique,\n",
    "         \"type\": pd.Series.nunique, \"film_studio\": pd.Series.nunique,\n",
    "         \"production_country\": pd.Series.nunique, \"director\": pd.Series.nunique,\n",
    "         \"producer\": pd.Series.nunique, \"age_restriction\": pd.Series.nunique,     \n",
    "        }).reset_index().query('''ratings > 1 or genres > 1 or type > 1 or film_studio > 1\\\n",
    "or production_country > 1 or director > 1 or producer > 1 or  age_restriction > 1''')"
   ]
  },
  {
   "cell_type": "code",
   "execution_count": 38,
   "metadata": {},
   "outputs": [
    {
     "data": {
      "text/html": [
       "<div>\n",
       "<style scoped>\n",
       "    .dataframe tbody tr th:only-of-type {\n",
       "        vertical-align: middle;\n",
       "    }\n",
       "\n",
       "    .dataframe tbody tr th {\n",
       "        vertical-align: top;\n",
       "    }\n",
       "\n",
       "    .dataframe thead th {\n",
       "        text-align: right;\n",
       "    }\n",
       "</style>\n",
       "<table border=\"1\" class=\"dataframe\">\n",
       "  <thead>\n",
       "    <tr style=\"text-align: right;\">\n",
       "      <th></th>\n",
       "      <th>title</th>\n",
       "      <th>puNumber</th>\n",
       "      <th>ratings</th>\n",
       "      <th>genres</th>\n",
       "      <th>type</th>\n",
       "      <th>film_studio</th>\n",
       "      <th>production_country</th>\n",
       "      <th>director</th>\n",
       "      <th>producer</th>\n",
       "      <th>age_restriction</th>\n",
       "    </tr>\n",
       "  </thead>\n",
       "  <tbody>\n",
       "    <tr>\n",
       "      <th>13</th>\n",
       "      <td>Альдабра: Путешествие по таинственному острову</td>\n",
       "      <td>2</td>\n",
       "      <td>1</td>\n",
       "      <td>1</td>\n",
       "      <td>1</td>\n",
       "      <td>2</td>\n",
       "      <td>1</td>\n",
       "      <td>1</td>\n",
       "      <td>2</td>\n",
       "      <td>1</td>\n",
       "    </tr>\n",
       "    <tr>\n",
       "      <th>18</th>\n",
       "      <td>Аниматор</td>\n",
       "      <td>2</td>\n",
       "      <td>1</td>\n",
       "      <td>1</td>\n",
       "      <td>1</td>\n",
       "      <td>2</td>\n",
       "      <td>1</td>\n",
       "      <td>1</td>\n",
       "      <td>1</td>\n",
       "      <td>1</td>\n",
       "    </tr>\n",
       "    <tr>\n",
       "      <th>32</th>\n",
       "      <td>Безумный Макс: Дорога ярости</td>\n",
       "      <td>2</td>\n",
       "      <td>1</td>\n",
       "      <td>1</td>\n",
       "      <td>2</td>\n",
       "      <td>2</td>\n",
       "      <td>2</td>\n",
       "      <td>1</td>\n",
       "      <td>2</td>\n",
       "      <td>2</td>\n",
       "    </tr>\n",
       "    <tr>\n",
       "      <th>42</th>\n",
       "      <td>Большая игра</td>\n",
       "      <td>2</td>\n",
       "      <td>1</td>\n",
       "      <td>1</td>\n",
       "      <td>1</td>\n",
       "      <td>2</td>\n",
       "      <td>2</td>\n",
       "      <td>2</td>\n",
       "      <td>2</td>\n",
       "      <td>2</td>\n",
       "    </tr>\n",
       "    <tr>\n",
       "      <th>51</th>\n",
       "      <td>В тихом омуте</td>\n",
       "      <td>2</td>\n",
       "      <td>1</td>\n",
       "      <td>1</td>\n",
       "      <td>2</td>\n",
       "      <td>2</td>\n",
       "      <td>2</td>\n",
       "      <td>2</td>\n",
       "      <td>2</td>\n",
       "      <td>2</td>\n",
       "    </tr>\n",
       "  </tbody>\n",
       "</table>\n",
       "</div>"
      ],
      "text/plain": [
       "                                             title  puNumber  ratings  genres  \\\n",
       "13  Альдабра: Путешествие по таинственному острову         2        1       1   \n",
       "18                                        Аниматор         2        1       1   \n",
       "32                    Безумный Макс: Дорога ярости         2        1       1   \n",
       "42                                    Большая игра         2        1       1   \n",
       "51                                   В тихом омуте         2        1       1   \n",
       "\n",
       "    type  film_studio  production_country  director  producer  age_restriction  \n",
       "13     1            2                   1         1         2                1  \n",
       "18     1            2                   1         1         1                1  \n",
       "32     2            2                   2         1         2                2  \n",
       "42     1            2                   2         2         2                2  \n",
       "51     2            2                   2         2         2                2  "
      ]
     },
     "execution_count": 38,
     "metadata": {},
     "output_type": "execute_result"
    }
   ],
   "source": [
    "df_dbl.head()"
   ]
  },
  {
   "cell_type": "code",
   "execution_count": 39,
   "metadata": {},
   "outputs": [
    {
     "data": {
      "text/plain": [
       "array([1])"
      ]
     },
     "execution_count": 39,
     "metadata": {},
     "output_type": "execute_result"
    }
   ],
   "source": [
    "df_dbl['ratings'].unique()"
   ]
  },
  {
   "cell_type": "markdown",
   "metadata": {},
   "source": [
    "Excellent, the values are not duplicated with the rating, however, according to other signs, this is not the case - the values multiply."
   ]
  },
  {
   "cell_type": "code",
   "execution_count": 40,
   "metadata": {},
   "outputs": [
    {
     "data": {
      "text/html": [
       "<div>\n",
       "<style scoped>\n",
       "    .dataframe tbody tr th:only-of-type {\n",
       "        vertical-align: middle;\n",
       "    }\n",
       "\n",
       "    .dataframe tbody tr th {\n",
       "        vertical-align: top;\n",
       "    }\n",
       "\n",
       "    .dataframe thead th {\n",
       "        text-align: right;\n",
       "    }\n",
       "</style>\n",
       "<table border=\"1\" class=\"dataframe\">\n",
       "  <thead>\n",
       "    <tr style=\"text-align: right;\">\n",
       "      <th></th>\n",
       "      <th>title</th>\n",
       "      <th>puNumber</th>\n",
       "      <th>show_start_date</th>\n",
       "      <th>type</th>\n",
       "      <th>film_studio</th>\n",
       "      <th>production_country</th>\n",
       "      <th>director</th>\n",
       "      <th>producer</th>\n",
       "      <th>age_restriction</th>\n",
       "      <th>refundable_support</th>\n",
       "      <th>nonrefundable_support</th>\n",
       "      <th>budget</th>\n",
       "      <th>financing_source</th>\n",
       "      <th>ratings</th>\n",
       "      <th>genres</th>\n",
       "      <th>box_office</th>\n",
       "    </tr>\n",
       "  </thead>\n",
       "  <tbody>\n",
       "    <tr>\n",
       "      <th>2561</th>\n",
       "      <td>Безумный Макс: Дорога ярости</td>\n",
       "      <td>121009615</td>\n",
       "      <td>2015-04-27</td>\n",
       "      <td>Художественный</td>\n",
       "      <td>Кеннеди Миллер Продакшнз, Виллидж Роадшоу Пикч...</td>\n",
       "      <td>США - Австралия</td>\n",
       "      <td>Джордж Миллер</td>\n",
       "      <td>Джордж Миллер, Дуг Митчел</td>\n",
       "      <td>«16+» - для детей старше 16 лет</td>\n",
       "      <td>&lt;NA&gt;</td>\n",
       "      <td>&lt;NA&gt;</td>\n",
       "      <td>&lt;NA&gt;</td>\n",
       "      <td>NaN</td>\n",
       "      <td>7.8</td>\n",
       "      <td>боевик,фантастика,приключения</td>\n",
       "      <td>650165994</td>\n",
       "    </tr>\n",
       "    <tr>\n",
       "      <th>7312</th>\n",
       "      <td>Безумный Макс: Дорога ярости</td>\n",
       "      <td>121030019</td>\n",
       "      <td>2019-12-06</td>\n",
       "      <td>Художественный</td>\n",
       "      <td>Уорнер Бразерс Пикчерс</td>\n",
       "      <td>Австралия, США</td>\n",
       "      <td>Джордж Миллер</td>\n",
       "      <td>Джордж Миллер, Даг Митчелл, Брюс Берман</td>\n",
       "      <td>«18+» - запрещено для детей</td>\n",
       "      <td>&lt;NA&gt;</td>\n",
       "      <td>&lt;NA&gt;</td>\n",
       "      <td>&lt;NA&gt;</td>\n",
       "      <td>NaN</td>\n",
       "      <td>7.8</td>\n",
       "      <td>боевик,фантастика,приключения</td>\n",
       "      <td>&lt;NA&gt;</td>\n",
       "    </tr>\n",
       "  </tbody>\n",
       "</table>\n",
       "</div>"
      ],
      "text/plain": [
       "                             title   puNumber show_start_date  \\\n",
       "2561  Безумный Макс: Дорога ярости  121009615      2015-04-27   \n",
       "7312  Безумный Макс: Дорога ярости  121030019      2019-12-06   \n",
       "\n",
       "                 type                                        film_studio  \\\n",
       "2561   Художественный  Кеннеди Миллер Продакшнз, Виллидж Роадшоу Пикч...   \n",
       "7312   Художественный                             Уорнер Бразерс Пикчерс   \n",
       "\n",
       "     production_country       director  \\\n",
       "2561    США - Австралия  Джордж Миллер   \n",
       "7312     Австралия, США  Джордж Миллер   \n",
       "\n",
       "                                     producer  \\\n",
       "2561                Джордж Миллер, Дуг Митчел   \n",
       "7312  Джордж Миллер, Даг Митчелл, Брюс Берман   \n",
       "\n",
       "                      age_restriction  refundable_support  \\\n",
       "2561  «16+» - для детей старше 16 лет                <NA>   \n",
       "7312      «18+» - запрещено для детей                <NA>   \n",
       "\n",
       "      nonrefundable_support  budget financing_source  ratings  \\\n",
       "2561                   <NA>    <NA>              NaN      7.8   \n",
       "7312                   <NA>    <NA>              NaN      7.8   \n",
       "\n",
       "                             genres  box_office  \n",
       "2561  боевик,фантастика,приключения   650165994  \n",
       "7312  боевик,фантастика,приключения        <NA>  "
      ]
     },
     "execution_count": 40,
     "metadata": {},
     "output_type": "execute_result"
    }
   ],
   "source": [
    "df[df['title'] == 'Безумный Макс: Дорога ярости']"
   ]
  },
  {
   "cell_type": "markdown",
   "metadata": {},
   "source": [
    "The same film, the fields `production_country`, `film_studio`, `producer`, `age_restriction` (I can believe that the age limit is different in different rentals)\n",
    "\n",
    "Of course, we could write a function and replace the categorical fields in **1272** lines with 1 common value.\n",
    "But the problem is that the title of the movie is not the best sign for collapsing duplicates.\n",
    "An example is below, it's funny that here the films have the same rating."
   ]
  },
  {
   "cell_type": "code",
   "execution_count": 41,
   "metadata": {},
   "outputs": [
    {
     "data": {
      "text/html": [
       "<div>\n",
       "<style scoped>\n",
       "    .dataframe tbody tr th:only-of-type {\n",
       "        vertical-align: middle;\n",
       "    }\n",
       "\n",
       "    .dataframe tbody tr th {\n",
       "        vertical-align: top;\n",
       "    }\n",
       "\n",
       "    .dataframe thead th {\n",
       "        text-align: right;\n",
       "    }\n",
       "</style>\n",
       "<table border=\"1\" class=\"dataframe\">\n",
       "  <thead>\n",
       "    <tr style=\"text-align: right;\">\n",
       "      <th></th>\n",
       "      <th>title</th>\n",
       "      <th>puNumber</th>\n",
       "      <th>show_start_date</th>\n",
       "      <th>type</th>\n",
       "      <th>film_studio</th>\n",
       "      <th>production_country</th>\n",
       "      <th>director</th>\n",
       "      <th>producer</th>\n",
       "      <th>age_restriction</th>\n",
       "      <th>refundable_support</th>\n",
       "      <th>nonrefundable_support</th>\n",
       "      <th>budget</th>\n",
       "      <th>financing_source</th>\n",
       "      <th>ratings</th>\n",
       "      <th>genres</th>\n",
       "      <th>box_office</th>\n",
       "    </tr>\n",
       "  </thead>\n",
       "  <tbody>\n",
       "    <tr>\n",
       "      <th>5429</th>\n",
       "      <td>Вторжение</td>\n",
       "      <td>124002417</td>\n",
       "      <td>2017-08-01</td>\n",
       "      <td>Анимационный</td>\n",
       "      <td>Баобаб Студиос</td>\n",
       "      <td>США</td>\n",
       "      <td>Эрик Дарнелл</td>\n",
       "      <td>NaN</td>\n",
       "      <td>«6+» - для детей старше 6 лет</td>\n",
       "      <td>&lt;NA&gt;</td>\n",
       "      <td>&lt;NA&gt;</td>\n",
       "      <td>&lt;NA&gt;</td>\n",
       "      <td>NaN</td>\n",
       "      <td>5.7</td>\n",
       "      <td>фантастика,боевик</td>\n",
       "      <td>&lt;NA&gt;</td>\n",
       "    </tr>\n",
       "    <tr>\n",
       "      <th>7473</th>\n",
       "      <td>Вторжение</td>\n",
       "      <td>111022519</td>\n",
       "      <td>2019-12-23</td>\n",
       "      <td>Художественный</td>\n",
       "      <td>ООО \"Арт Пикчерс Студия\", ООО \"Водород 2011\"</td>\n",
       "      <td>Россия</td>\n",
       "      <td>Ф.Бондарчук</td>\n",
       "      <td>Ф.Бондарчук, М.Врубель, А.Андрющенко, Д.Рудовский</td>\n",
       "      <td>«12+» - для детей старше 12 лет</td>\n",
       "      <td>100000000</td>\n",
       "      <td>400000000</td>\n",
       "      <td>944000000</td>\n",
       "      <td>Фонд кино</td>\n",
       "      <td>5.7</td>\n",
       "      <td>фантастика,боевик</td>\n",
       "      <td>&lt;NA&gt;</td>\n",
       "    </tr>\n",
       "  </tbody>\n",
       "</table>\n",
       "</div>"
      ],
      "text/plain": [
       "          title   puNumber show_start_date             type  \\\n",
       "5429  Вторжение  124002417      2017-08-01     Анимационный   \n",
       "7473  Вторжение  111022519      2019-12-23   Художественный   \n",
       "\n",
       "                                       film_studio production_country  \\\n",
       "5429                                Баобаб Студиос                США   \n",
       "7473  ООО \"Арт Пикчерс Студия\", ООО \"Водород 2011\"             Россия   \n",
       "\n",
       "          director                                           producer  \\\n",
       "5429  Эрик Дарнелл                                                NaN   \n",
       "7473   Ф.Бондарчук  Ф.Бондарчук, М.Врубель, А.Андрющенко, Д.Рудовский   \n",
       "\n",
       "                      age_restriction  refundable_support  \\\n",
       "5429    «6+» - для детей старше 6 лет                <NA>   \n",
       "7473  «12+» - для детей старше 12 лет           100000000   \n",
       "\n",
       "      nonrefundable_support     budget financing_source  ratings  \\\n",
       "5429                   <NA>       <NA>              NaN      5.7   \n",
       "7473              400000000  944000000        Фонд кино      5.7   \n",
       "\n",
       "                 genres  box_office  \n",
       "5429  фантастика,боевик        <NA>  \n",
       "7473  фантастика,боевик        <NA>  "
      ]
     },
     "execution_count": 41,
     "metadata": {},
     "output_type": "execute_result"
    }
   ],
   "source": [
    "df[df['title'] == 'Вторжение']"
   ]
  },
  {
   "cell_type": "markdown",
   "metadata": {},
   "source": [
    "**Conclusion:**\n",
    "- There are no obvious duplicates in our dataset\n",
    "- 2 pairs of repetitions with the same rental ID were found in the sample, 1 ID was deleted (*221054410*).\n",
    "The remaining two identical IDs can be considered a technical error (*221154310*)\n",
    "- **1272** repetitions in movie titles were found in the data set, the reason for the repetitions is the presence of several rental certificates (the films were released in cinemas several times with an interval)\n",
    "It is important to note that some of the fields within the same film in several screenings may differ in categorical variables, which would be great to fix, this task is made more difficult by the fact that the titles of absolutely early films can be the same"
   ]
  },
  {
   "cell_type": "markdown",
   "metadata": {
    "id": "52fOPrEBgFyQ"
   },
   "source": [
    "#### Step 2.4. Learn categorical meanings\n",
    "\n",
    "- See what common problem occurs in almost all categorical columns;\n",
    "- Correct the problematic values in the `type` field."
   ]
  },
  {
   "cell_type": "code",
   "execution_count": 42,
   "metadata": {
    "id": "PnXKIVdFgFyR"
   },
   "outputs": [],
   "source": [
    "lst_obj = df.select_dtypes(include=[object]).columns.tolist()"
   ]
  },
  {
   "cell_type": "code",
   "execution_count": 43,
   "metadata": {},
   "outputs": [
    {
     "name": "stdout",
     "output_type": "stream",
     "text": [
      "title 6771\n",
      "type 8\n",
      "film_studio 5490\n",
      "production_country 950\n",
      "director 4811\n",
      "producer 5349\n",
      "age_restriction 5\n",
      "financing_source 4\n",
      "genres 743\n"
     ]
    }
   ],
   "source": [
    "for i in lst_obj:\n",
    "    print(i, len(df[i].unique()))"
   ]
  },
  {
   "cell_type": "markdown",
   "metadata": {},
   "source": [
    "The problem with categorical variables begins if the film was created in several countries, by several producers and has several genres - the order of writing these several titles may be different, for a person this is not critical, for the database and analysis these are two different values.\n",
    "It remains to be hoped that this will not be crucial for data analysis (or I will figure out how to get around this limitation)\n",
    "Below I output everything in a loop so as not to repeat the same thing many times."
   ]
  },
  {
   "cell_type": "code",
   "execution_count": 44,
   "metadata": {},
   "outputs": [
    {
     "data": {
      "text/html": [
       "<div>\n",
       "<style scoped>\n",
       "    .dataframe tbody tr th:only-of-type {\n",
       "        vertical-align: middle;\n",
       "    }\n",
       "\n",
       "    .dataframe tbody tr th {\n",
       "        vertical-align: top;\n",
       "    }\n",
       "\n",
       "    .dataframe thead th {\n",
       "        text-align: right;\n",
       "    }\n",
       "</style>\n",
       "<table border=\"1\" class=\"dataframe\">\n",
       "  <thead>\n",
       "    <tr style=\"text-align: right;\">\n",
       "      <th></th>\n",
       "      <th>type</th>\n",
       "    </tr>\n",
       "  </thead>\n",
       "  <tbody>\n",
       "    <tr>\n",
       "      <th>Художественный</th>\n",
       "      <td>4519</td>\n",
       "    </tr>\n",
       "    <tr>\n",
       "      <th>Художественный</th>\n",
       "      <td>1389</td>\n",
       "    </tr>\n",
       "    <tr>\n",
       "      <th>Анимационный</th>\n",
       "      <td>828</td>\n",
       "    </tr>\n",
       "    <tr>\n",
       "      <th>Прочие</th>\n",
       "      <td>406</td>\n",
       "    </tr>\n",
       "    <tr>\n",
       "      <th>Документальный</th>\n",
       "      <td>288</td>\n",
       "    </tr>\n",
       "    <tr>\n",
       "      <th>Научно-популярный</th>\n",
       "      <td>53</td>\n",
       "    </tr>\n",
       "    <tr>\n",
       "      <th>Анимационный</th>\n",
       "      <td>1</td>\n",
       "    </tr>\n",
       "    <tr>\n",
       "      <th>Музыкально-развлекательный</th>\n",
       "      <td>1</td>\n",
       "    </tr>\n",
       "  </tbody>\n",
       "</table>\n",
       "</div>"
      ],
      "text/plain": [
       "                            type\n",
       "Художественный              4519\n",
       " Художественный             1389\n",
       "Анимационный                 828\n",
       "Прочие                       406\n",
       "Документальный               288\n",
       "Научно-популярный             53\n",
       " Анимационный                  1\n",
       "Музыкально-развлекательный     1"
      ]
     },
     "metadata": {},
     "output_type": "display_data"
    },
    {
     "data": {
      "text/html": [
       "<div>\n",
       "<style scoped>\n",
       "    .dataframe tbody tr th:only-of-type {\n",
       "        vertical-align: middle;\n",
       "    }\n",
       "\n",
       "    .dataframe tbody tr th {\n",
       "        vertical-align: top;\n",
       "    }\n",
       "\n",
       "    .dataframe thead th {\n",
       "        text-align: right;\n",
       "    }\n",
       "</style>\n",
       "<table border=\"1\" class=\"dataframe\">\n",
       "  <thead>\n",
       "    <tr style=\"text-align: right;\">\n",
       "      <th></th>\n",
       "      <th>film_studio</th>\n",
       "    </tr>\n",
       "  </thead>\n",
       "  <tbody>\n",
       "    <tr>\n",
       "      <th>Киностудия \"Мосфильм\"</th>\n",
       "      <td>341</td>\n",
       "    </tr>\n",
       "    <tr>\n",
       "      <th>ООО \"Мульт в кино\"</th>\n",
       "      <td>57</td>\n",
       "    </tr>\n",
       "    <tr>\n",
       "      <th>Анимаккорд Лтд</th>\n",
       "      <td>23</td>\n",
       "    </tr>\n",
       "    <tr>\n",
       "      <th>ООО \"Мульт в кино\"</th>\n",
       "      <td>18</td>\n",
       "    </tr>\n",
       "    <tr>\n",
       "      <th>ФГУП \"ТПО \"Киностудия \"Союзмультфильм\"</th>\n",
       "      <td>16</td>\n",
       "    </tr>\n",
       "    <tr>\n",
       "      <th>...</th>\n",
       "      <td>...</td>\n",
       "    </tr>\n",
       "    <tr>\n",
       "      <th>Игнатов Генрих Генрихович</th>\n",
       "      <td>1</td>\n",
       "    </tr>\n",
       "    <tr>\n",
       "      <th>ООО \"РЕНОВАЦИО интертейнмент\"</th>\n",
       "      <td>1</td>\n",
       "    </tr>\n",
       "    <tr>\n",
       "      <th>Имадж Тен, Лаурель Групп, Маркет Скьяр Продакшнз</th>\n",
       "      <td>1</td>\n",
       "    </tr>\n",
       "    <tr>\n",
       "      <th>Блайндинг Эйдж Пикчерз, Блюмхаус Продакшнз</th>\n",
       "      <td>1</td>\n",
       "    </tr>\n",
       "    <tr>\n",
       "      <th>Долфин Интертэйнмент, Инжениус Медиа, Мэттель Интертэйнмент, Опэн Роуд Филмз, Плэйграунд Продакшнз</th>\n",
       "      <td>1</td>\n",
       "    </tr>\n",
       "  </tbody>\n",
       "</table>\n",
       "<p>5489 rows × 1 columns</p>\n",
       "</div>"
      ],
      "text/plain": [
       "                                                    film_studio\n",
       "Киностудия \"Мосфильм\"                                       341\n",
       "ООО \"Мульт в кино\"                                           57\n",
       "Анимаккорд Лтд                                               23\n",
       "ООО \"Мульт в кино\"                                           18\n",
       "ФГУП \"ТПО \"Киностудия \"Союзмультфильм\"                       16\n",
       "...                                                         ...\n",
       "Игнатов Генрих Генрихович                                     1\n",
       "ООО \"РЕНОВАЦИО интертейнмент\"                                 1\n",
       "Имадж Тен, Лаурель Групп, Маркет Скьяр Продакшнз              1\n",
       "Блайндинг Эйдж Пикчерз, Блюмхаус Продакшнз                    1\n",
       "Долфин Интертэйнмент, Инжениус Медиа, Мэттель И...            1\n",
       "\n",
       "[5489 rows x 1 columns]"
      ]
     },
     "metadata": {},
     "output_type": "display_data"
    },
    {
     "data": {
      "text/html": [
       "<div>\n",
       "<style scoped>\n",
       "    .dataframe tbody tr th:only-of-type {\n",
       "        vertical-align: middle;\n",
       "    }\n",
       "\n",
       "    .dataframe tbody tr th {\n",
       "        vertical-align: top;\n",
       "    }\n",
       "\n",
       "    .dataframe thead th {\n",
       "        text-align: right;\n",
       "    }\n",
       "</style>\n",
       "<table border=\"1\" class=\"dataframe\">\n",
       "  <thead>\n",
       "    <tr style=\"text-align: right;\">\n",
       "      <th></th>\n",
       "      <th>production_country</th>\n",
       "    </tr>\n",
       "  </thead>\n",
       "  <tbody>\n",
       "    <tr>\n",
       "      <th>США</th>\n",
       "      <td>2171</td>\n",
       "    </tr>\n",
       "    <tr>\n",
       "      <th>Россия</th>\n",
       "      <td>1823</td>\n",
       "    </tr>\n",
       "    <tr>\n",
       "      <th>СССР</th>\n",
       "      <td>347</td>\n",
       "    </tr>\n",
       "    <tr>\n",
       "      <th>Франция</th>\n",
       "      <td>301</td>\n",
       "    </tr>\n",
       "    <tr>\n",
       "      <th>Великобритания</th>\n",
       "      <td>257</td>\n",
       "    </tr>\n",
       "    <tr>\n",
       "      <th>...</th>\n",
       "      <td>...</td>\n",
       "    </tr>\n",
       "    <tr>\n",
       "      <th>Испания - Швейцария - Великобритания - Германия - Новая Зеландия - Нидерланды - Канада</th>\n",
       "      <td>1</td>\n",
       "    </tr>\n",
       "    <tr>\n",
       "      <th>Киргизия-Россия</th>\n",
       "      <td>1</td>\n",
       "    </tr>\n",
       "    <tr>\n",
       "      <th>Великобритания, США, Испания</th>\n",
       "      <td>1</td>\n",
       "    </tr>\n",
       "    <tr>\n",
       "      <th>Италия - Швейцария - Германия</th>\n",
       "      <td>1</td>\n",
       "    </tr>\n",
       "    <tr>\n",
       "      <th>Дания - Канада - Швеция - Франция - Германия - Великобритания - США</th>\n",
       "      <td>1</td>\n",
       "    </tr>\n",
       "  </tbody>\n",
       "</table>\n",
       "<p>950 rows × 1 columns</p>\n",
       "</div>"
      ],
      "text/plain": [
       "                                                    production_country\n",
       "США                                                               2171\n",
       "Россия                                                            1823\n",
       "СССР                                                               347\n",
       "Франция                                                            301\n",
       "Великобритания                                                     257\n",
       "...                                                                ...\n",
       "Испания - Швейцария - Великобритания - Германия...                   1\n",
       "Киргизия-Россия                                                      1\n",
       "Великобритания, США, Испания                                         1\n",
       "Италия - Швейцария - Германия                                        1\n",
       "Дания - Канада - Швеция - Франция - Германия - ...                   1\n",
       "\n",
       "[950 rows x 1 columns]"
      ]
     },
     "metadata": {},
     "output_type": "display_data"
    },
    {
     "data": {
      "text/html": [
       "<div>\n",
       "<style scoped>\n",
       "    .dataframe tbody tr th:only-of-type {\n",
       "        vertical-align: middle;\n",
       "    }\n",
       "\n",
       "    .dataframe tbody tr th {\n",
       "        vertical-align: top;\n",
       "    }\n",
       "\n",
       "    .dataframe thead th {\n",
       "        text-align: right;\n",
       "    }\n",
       "</style>\n",
       "<table border=\"1\" class=\"dataframe\">\n",
       "  <thead>\n",
       "    <tr style=\"text-align: right;\">\n",
       "      <th></th>\n",
       "      <th>director</th>\n",
       "    </tr>\n",
       "  </thead>\n",
       "  <tbody>\n",
       "    <tr>\n",
       "      <th>О.Семёнова</th>\n",
       "      <td>47</td>\n",
       "    </tr>\n",
       "    <tr>\n",
       "      <th>Стивен Содерберг</th>\n",
       "      <td>17</td>\n",
       "    </tr>\n",
       "    <tr>\n",
       "      <th>Д.Червяцов</th>\n",
       "      <td>17</td>\n",
       "    </tr>\n",
       "    <tr>\n",
       "      <th>Ридли Скотт</th>\n",
       "      <td>16</td>\n",
       "    </tr>\n",
       "    <tr>\n",
       "      <th>Тиль Швайгер</th>\n",
       "      <td>14</td>\n",
       "    </tr>\n",
       "    <tr>\n",
       "      <th>...</th>\n",
       "      <td>...</td>\n",
       "    </tr>\n",
       "    <tr>\n",
       "      <th>Майкл Митчелл, Триша Гам</th>\n",
       "      <td>1</td>\n",
       "    </tr>\n",
       "    <tr>\n",
       "      <th>Карстен Килерих</th>\n",
       "      <td>1</td>\n",
       "    </tr>\n",
       "    <tr>\n",
       "      <th>Силвейн Уайт</th>\n",
       "      <td>1</td>\n",
       "    </tr>\n",
       "    <tr>\n",
       "      <th>Карлус Диегос</th>\n",
       "      <td>1</td>\n",
       "    </tr>\n",
       "    <tr>\n",
       "      <th>И.Трусов</th>\n",
       "      <td>1</td>\n",
       "    </tr>\n",
       "  </tbody>\n",
       "</table>\n",
       "<p>4810 rows × 1 columns</p>\n",
       "</div>"
      ],
      "text/plain": [
       "                          director\n",
       "О.Семёнова                      47\n",
       "Стивен Содерберг                17\n",
       "Д.Червяцов                      17\n",
       "Ридли Скотт                     16\n",
       "Тиль Швайгер                    14\n",
       "...                            ...\n",
       "Майкл Митчелл, Триша Гам         1\n",
       "Карстен Килерих                  1\n",
       "Силвейн Уайт                     1\n",
       "Карлус Диегос                    1\n",
       "И.Трусов                         1\n",
       "\n",
       "[4810 rows x 1 columns]"
      ]
     },
     "metadata": {},
     "output_type": "display_data"
    },
    {
     "data": {
      "text/html": [
       "<div>\n",
       "<style scoped>\n",
       "    .dataframe tbody tr th:only-of-type {\n",
       "        vertical-align: middle;\n",
       "    }\n",
       "\n",
       "    .dataframe tbody tr th {\n",
       "        vertical-align: top;\n",
       "    }\n",
       "\n",
       "    .dataframe thead th {\n",
       "        text-align: right;\n",
       "    }\n",
       "</style>\n",
       "<table border=\"1\" class=\"dataframe\">\n",
       "  <thead>\n",
       "    <tr style=\"text-align: right;\">\n",
       "      <th></th>\n",
       "      <th>producer</th>\n",
       "    </tr>\n",
       "  </thead>\n",
       "  <tbody>\n",
       "    <tr>\n",
       "      <th>П.Смирнов</th>\n",
       "      <td>67</td>\n",
       "    </tr>\n",
       "    <tr>\n",
       "      <th>Олег Кузовков, Дмитрий Ловейко, Марина Ратина</th>\n",
       "      <td>28</td>\n",
       "    </tr>\n",
       "    <tr>\n",
       "      <th>С.Сельянов</th>\n",
       "      <td>18</td>\n",
       "    </tr>\n",
       "    <tr>\n",
       "      <th>Д.Ловейко, О.Кузовков</th>\n",
       "      <td>17</td>\n",
       "    </tr>\n",
       "    <tr>\n",
       "      <th>Тони Майерс</th>\n",
       "      <td>11</td>\n",
       "    </tr>\n",
       "    <tr>\n",
       "      <th>...</th>\n",
       "      <td>...</td>\n",
       "    </tr>\n",
       "    <tr>\n",
       "      <th>Дэн Ли, Рой Ли, Барбара Мускетти</th>\n",
       "      <td>1</td>\n",
       "    </tr>\n",
       "    <tr>\n",
       "      <th>Кэролайн Арагон, Винс Джоливетт, Майкл Мендельсон</th>\n",
       "      <td>1</td>\n",
       "    </tr>\n",
       "    <tr>\n",
       "      <th>Т.Бидеган, Д.Брафф, Б.Голдберг, Б.де Ганай, О.Декок, Д.Кеннелли, Д.Э.Кертис, М.Кэннон, Д.Мегхерби, Д.Печберти, А.Рис, Х.Л.Эллис</th>\n",
       "      <td>1</td>\n",
       "    </tr>\n",
       "    <tr>\n",
       "      <th>Д.Паклин, Т.Ивашкина</th>\n",
       "      <td>1</td>\n",
       "    </tr>\n",
       "    <tr>\n",
       "      <th>Дженнифер Додж</th>\n",
       "      <td>1</td>\n",
       "    </tr>\n",
       "  </tbody>\n",
       "</table>\n",
       "<p>5348 rows × 1 columns</p>\n",
       "</div>"
      ],
      "text/plain": [
       "                                                    producer\n",
       "П.Смирнов                                                 67\n",
       "Олег Кузовков, Дмитрий Ловейко, Марина Ратина             28\n",
       "С.Сельянов                                                18\n",
       "Д.Ловейко, О.Кузовков                                     17\n",
       "Тони Майерс                                               11\n",
       "...                                                      ...\n",
       "Дэн Ли, Рой Ли, Барбара Мускетти                           1\n",
       "Кэролайн Арагон, Винс Джоливетт, Майкл Мендельсон          1\n",
       "Т.Бидеган, Д.Брафф, Б.Голдберг, Б.де Ганай, О.Д...         1\n",
       "Д.Паклин, Т.Ивашкина                                       1\n",
       "Дженнифер Додж                                             1\n",
       "\n",
       "[5348 rows x 1 columns]"
      ]
     },
     "metadata": {},
     "output_type": "display_data"
    },
    {
     "data": {
      "text/html": [
       "<div>\n",
       "<style scoped>\n",
       "    .dataframe tbody tr th:only-of-type {\n",
       "        vertical-align: middle;\n",
       "    }\n",
       "\n",
       "    .dataframe tbody tr th {\n",
       "        vertical-align: top;\n",
       "    }\n",
       "\n",
       "    .dataframe thead th {\n",
       "        text-align: right;\n",
       "    }\n",
       "</style>\n",
       "<table border=\"1\" class=\"dataframe\">\n",
       "  <thead>\n",
       "    <tr style=\"text-align: right;\">\n",
       "      <th></th>\n",
       "      <th>age_restriction</th>\n",
       "    </tr>\n",
       "  </thead>\n",
       "  <tbody>\n",
       "    <tr>\n",
       "      <th>«16+» - для детей старше 16 лет</th>\n",
       "      <td>2851</td>\n",
       "    </tr>\n",
       "    <tr>\n",
       "      <th>«18+» - запрещено для детей</th>\n",
       "      <td>1605</td>\n",
       "    </tr>\n",
       "    <tr>\n",
       "      <th>«12+» - для детей старше 12 лет</th>\n",
       "      <td>1592</td>\n",
       "    </tr>\n",
       "    <tr>\n",
       "      <th>«0+» - для любой зрительской аудитории</th>\n",
       "      <td>811</td>\n",
       "    </tr>\n",
       "    <tr>\n",
       "      <th>«6+» - для детей старше 6 лет</th>\n",
       "      <td>626</td>\n",
       "    </tr>\n",
       "  </tbody>\n",
       "</table>\n",
       "</div>"
      ],
      "text/plain": [
       "                                        age_restriction\n",
       "«16+» - для детей старше 16 лет                    2851\n",
       "«18+» - запрещено для детей                        1605\n",
       "«12+» - для детей старше 12 лет                    1592\n",
       "«0+» - для любой зрительской аудитории              811\n",
       "«6+» - для детей старше 6 лет                       626"
      ]
     },
     "metadata": {},
     "output_type": "display_data"
    },
    {
     "data": {
      "text/html": [
       "<div>\n",
       "<style scoped>\n",
       "    .dataframe tbody tr th:only-of-type {\n",
       "        vertical-align: middle;\n",
       "    }\n",
       "\n",
       "    .dataframe tbody tr th {\n",
       "        vertical-align: top;\n",
       "    }\n",
       "\n",
       "    .dataframe thead th {\n",
       "        text-align: right;\n",
       "    }\n",
       "</style>\n",
       "<table border=\"1\" class=\"dataframe\">\n",
       "  <thead>\n",
       "    <tr style=\"text-align: right;\">\n",
       "      <th></th>\n",
       "      <th>financing_source</th>\n",
       "    </tr>\n",
       "  </thead>\n",
       "  <tbody>\n",
       "    <tr>\n",
       "      <th>Министерство культуры</th>\n",
       "      <td>164</td>\n",
       "    </tr>\n",
       "    <tr>\n",
       "      <th>Фонд кино</th>\n",
       "      <td>146</td>\n",
       "    </tr>\n",
       "    <tr>\n",
       "      <th>Министерство культуры, Фонд кино</th>\n",
       "      <td>22</td>\n",
       "    </tr>\n",
       "  </tbody>\n",
       "</table>\n",
       "</div>"
      ],
      "text/plain": [
       "                                  financing_source\n",
       "Министерство культуры                          164\n",
       "Фонд кино                                      146\n",
       "Министерство культуры, Фонд кино                22"
      ]
     },
     "metadata": {},
     "output_type": "display_data"
    },
    {
     "data": {
      "text/html": [
       "<div>\n",
       "<style scoped>\n",
       "    .dataframe tbody tr th:only-of-type {\n",
       "        vertical-align: middle;\n",
       "    }\n",
       "\n",
       "    .dataframe tbody tr th {\n",
       "        vertical-align: top;\n",
       "    }\n",
       "\n",
       "    .dataframe thead th {\n",
       "        text-align: right;\n",
       "    }\n",
       "</style>\n",
       "<table border=\"1\" class=\"dataframe\">\n",
       "  <thead>\n",
       "    <tr style=\"text-align: right;\">\n",
       "      <th></th>\n",
       "      <th>genres</th>\n",
       "    </tr>\n",
       "  </thead>\n",
       "  <tbody>\n",
       "    <tr>\n",
       "      <th>драма</th>\n",
       "      <td>476</td>\n",
       "    </tr>\n",
       "    <tr>\n",
       "      <th>комедия</th>\n",
       "      <td>352</td>\n",
       "    </tr>\n",
       "    <tr>\n",
       "      <th>мелодрама,комедия</th>\n",
       "      <td>222</td>\n",
       "    </tr>\n",
       "    <tr>\n",
       "      <th>драма,мелодрама,комедия</th>\n",
       "      <td>189</td>\n",
       "    </tr>\n",
       "    <tr>\n",
       "      <th>драма,мелодрама</th>\n",
       "      <td>183</td>\n",
       "    </tr>\n",
       "    <tr>\n",
       "      <th>...</th>\n",
       "      <td>...</td>\n",
       "    </tr>\n",
       "    <tr>\n",
       "      <th>мелодрама,музыка,драма</th>\n",
       "      <td>1</td>\n",
       "    </tr>\n",
       "    <tr>\n",
       "      <th>детектив,фантастика,триллер</th>\n",
       "      <td>1</td>\n",
       "    </tr>\n",
       "    <tr>\n",
       "      <th>драма,мелодрама,триллер</th>\n",
       "      <td>1</td>\n",
       "    </tr>\n",
       "    <tr>\n",
       "      <th>приключения,фантастика,драма</th>\n",
       "      <td>1</td>\n",
       "    </tr>\n",
       "    <tr>\n",
       "      <th>мелодрама,история,драма</th>\n",
       "      <td>1</td>\n",
       "    </tr>\n",
       "  </tbody>\n",
       "</table>\n",
       "<p>742 rows × 1 columns</p>\n",
       "</div>"
      ],
      "text/plain": [
       "                              genres\n",
       "драма                            476\n",
       "комедия                          352\n",
       "мелодрама,комедия                222\n",
       "драма,мелодрама,комедия          189\n",
       "драма,мелодрама                  183\n",
       "...                              ...\n",
       "мелодрама,музыка,драма             1\n",
       "детектив,фантастика,триллер        1\n",
       "драма,мелодрама,триллер            1\n",
       "приключения,фантастика,драма       1\n",
       "мелодрама,история,драма            1\n",
       "\n",
       "[742 rows x 1 columns]"
      ]
     },
     "metadata": {},
     "output_type": "display_data"
    }
   ],
   "source": [
    "for i in lst_obj[1:]:\n",
    "    display(df[i].value_counts().to_frame().sort_values(by = i, ascending = False))"
   ]
  },
  {
   "cell_type": "markdown",
   "metadata": {},
   "source": [
    "Fix the `type` field"
   ]
  },
  {
   "cell_type": "code",
   "execution_count": 45,
   "metadata": {},
   "outputs": [],
   "source": [
    "df['type'] = df['type'].str.strip()"
   ]
  },
  {
   "cell_type": "code",
   "execution_count": 46,
   "metadata": {},
   "outputs": [
    {
     "data": {
      "text/html": [
       "<div>\n",
       "<style scoped>\n",
       "    .dataframe tbody tr th:only-of-type {\n",
       "        vertical-align: middle;\n",
       "    }\n",
       "\n",
       "    .dataframe tbody tr th {\n",
       "        vertical-align: top;\n",
       "    }\n",
       "\n",
       "    .dataframe thead th {\n",
       "        text-align: right;\n",
       "    }\n",
       "</style>\n",
       "<table border=\"1\" class=\"dataframe\">\n",
       "  <thead>\n",
       "    <tr style=\"text-align: right;\">\n",
       "      <th></th>\n",
       "      <th>type</th>\n",
       "    </tr>\n",
       "  </thead>\n",
       "  <tbody>\n",
       "    <tr>\n",
       "      <th>Художественный</th>\n",
       "      <td>5908</td>\n",
       "    </tr>\n",
       "    <tr>\n",
       "      <th>Анимационный</th>\n",
       "      <td>829</td>\n",
       "    </tr>\n",
       "    <tr>\n",
       "      <th>Прочие</th>\n",
       "      <td>406</td>\n",
       "    </tr>\n",
       "    <tr>\n",
       "      <th>Документальный</th>\n",
       "      <td>288</td>\n",
       "    </tr>\n",
       "    <tr>\n",
       "      <th>Научно-популярный</th>\n",
       "      <td>53</td>\n",
       "    </tr>\n",
       "    <tr>\n",
       "      <th>Музыкально-развлекательный</th>\n",
       "      <td>1</td>\n",
       "    </tr>\n",
       "  </tbody>\n",
       "</table>\n",
       "</div>"
      ],
      "text/plain": [
       "                            type\n",
       "Художественный              5908\n",
       "Анимационный                 829\n",
       "Прочие                       406\n",
       "Документальный               288\n",
       "Научно-популярный             53\n",
       "Музыкально-развлекательный     1"
      ]
     },
     "metadata": {},
     "output_type": "display_data"
    }
   ],
   "source": [
    "display(df['type'].value_counts().to_frame().sort_values(by = 'type', ascending = False))"
   ]
  },
  {
   "cell_type": "markdown",
   "metadata": {},
   "source": [
    "**Conclusion:**\n",
    "- `type` field - fixed\n",
    "- the problem of categorical variables - identified"
   ]
  },
  {
   "cell_type": "markdown",
   "metadata": {
    "id": "XFSN5lrEgFyR"
   },
   "source": [
    "#### Step 2.5. Check quantitative values\n",
    "\n",
    "- Check if any suspicious data is found in such columns. What is the best way to deal with such data?"
   ]
  },
  {
   "cell_type": "markdown",
   "metadata": {
    "id": "YbzClBxagFyS"
   },
   "source": [
    "Quantity Columns (except ID):\n",
    "- `refundable_support`, `nonrefundable_support`, `budget` - values are related\n",
    "- `ratings` - rating\n",
    "- `box_office` - movie fees      "
   ]
  },
  {
   "cell_type": "code",
   "execution_count": 47,
   "metadata": {},
   "outputs": [],
   "source": [
    "pd.set_option('display.float_format', '{:.2f}'.format)"
   ]
  },
  {
   "cell_type": "code",
   "execution_count": 48,
   "metadata": {},
   "outputs": [
    {
     "data": {
      "text/html": [
       "<div>\n",
       "<style scoped>\n",
       "    .dataframe tbody tr th:only-of-type {\n",
       "        vertical-align: middle;\n",
       "    }\n",
       "\n",
       "    .dataframe tbody tr th {\n",
       "        vertical-align: top;\n",
       "    }\n",
       "\n",
       "    .dataframe thead th {\n",
       "        text-align: right;\n",
       "    }\n",
       "</style>\n",
       "<table border=\"1\" class=\"dataframe\">\n",
       "  <thead>\n",
       "    <tr style=\"text-align: right;\">\n",
       "      <th></th>\n",
       "      <th>count</th>\n",
       "      <th>mean</th>\n",
       "      <th>std</th>\n",
       "      <th>min</th>\n",
       "      <th>25%</th>\n",
       "      <th>50%</th>\n",
       "      <th>75%</th>\n",
       "      <th>max</th>\n",
       "    </tr>\n",
       "  </thead>\n",
       "  <tbody>\n",
       "    <tr>\n",
       "      <th>puNumber</th>\n",
       "      <td>7484.00</td>\n",
       "      <td>135185115.38</td>\n",
       "      <td>38342636.24</td>\n",
       "      <td>1811096.00</td>\n",
       "      <td>112025093.00</td>\n",
       "      <td>121015464.50</td>\n",
       "      <td>124003313.25</td>\n",
       "      <td>231001111.00</td>\n",
       "    </tr>\n",
       "    <tr>\n",
       "      <th>refundable_support</th>\n",
       "      <td>332.00</td>\n",
       "      <td>11864457.83</td>\n",
       "      <td>24916555.26</td>\n",
       "      <td>0.00</td>\n",
       "      <td>0.00</td>\n",
       "      <td>0.00</td>\n",
       "      <td>15000000.00</td>\n",
       "      <td>180000000.00</td>\n",
       "    </tr>\n",
       "    <tr>\n",
       "      <th>nonrefundable_support</th>\n",
       "      <td>332.00</td>\n",
       "      <td>48980988.89</td>\n",
       "      <td>59980117.92</td>\n",
       "      <td>0.00</td>\n",
       "      <td>25000000.00</td>\n",
       "      <td>30000000.00</td>\n",
       "      <td>40375000.00</td>\n",
       "      <td>400000000.00</td>\n",
       "    </tr>\n",
       "    <tr>\n",
       "      <th>budget</th>\n",
       "      <td>332.00</td>\n",
       "      <td>127229716.68</td>\n",
       "      <td>188588333.12</td>\n",
       "      <td>0.00</td>\n",
       "      <td>42000000.00</td>\n",
       "      <td>68649916.00</td>\n",
       "      <td>141985319.50</td>\n",
       "      <td>2305074303.00</td>\n",
       "    </tr>\n",
       "    <tr>\n",
       "      <th>ratings</th>\n",
       "      <td>6489.00</td>\n",
       "      <td>6.48</td>\n",
       "      <td>1.10</td>\n",
       "      <td>1.00</td>\n",
       "      <td>5.90</td>\n",
       "      <td>6.60</td>\n",
       "      <td>7.20</td>\n",
       "      <td>9.20</td>\n",
       "    </tr>\n",
       "    <tr>\n",
       "      <th>box_office</th>\n",
       "      <td>3158.00</td>\n",
       "      <td>76478696.16</td>\n",
       "      <td>240353122.83</td>\n",
       "      <td>0.00</td>\n",
       "      <td>86239.00</td>\n",
       "      <td>2327987.50</td>\n",
       "      <td>23979671.25</td>\n",
       "      <td>3073568691.00</td>\n",
       "    </tr>\n",
       "  </tbody>\n",
       "</table>\n",
       "</div>"
      ],
      "text/plain": [
       "                        count         mean          std        min  \\\n",
       "puNumber              7484.00 135185115.38  38342636.24 1811096.00   \n",
       "refundable_support     332.00  11864457.83  24916555.26       0.00   \n",
       "nonrefundable_support  332.00  48980988.89  59980117.92       0.00   \n",
       "budget                 332.00 127229716.68 188588333.12       0.00   \n",
       "ratings               6489.00         6.48         1.10       1.00   \n",
       "box_office            3158.00  76478696.16 240353122.83       0.00   \n",
       "\n",
       "                               25%          50%          75%           max  \n",
       "puNumber              112025093.00 121015464.50 124003313.25  231001111.00  \n",
       "refundable_support            0.00         0.00  15000000.00  180000000.00  \n",
       "nonrefundable_support  25000000.00  30000000.00  40375000.00  400000000.00  \n",
       "budget                 42000000.00  68649916.00 141985319.50 2305074303.00  \n",
       "ratings                       5.90         6.60         7.20          9.20  \n",
       "box_office                86239.00   2327987.50  23979671.25 3073568691.00  "
      ]
     },
     "execution_count": 48,
     "metadata": {},
     "output_type": "execute_result"
    }
   ],
   "source": [
    "df.describe().T"
   ]
  },
  {
   "cell_type": "markdown",
   "metadata": {},
   "source": [
    "Let's look at the maximum values of **ranking** and **fees**"
   ]
  },
  {
   "cell_type": "code",
   "execution_count": 49,
   "metadata": {},
   "outputs": [
    {
     "data": {
      "text/html": [
       "<div>\n",
       "<style scoped>\n",
       "    .dataframe tbody tr th:only-of-type {\n",
       "        vertical-align: middle;\n",
       "    }\n",
       "\n",
       "    .dataframe tbody tr th {\n",
       "        vertical-align: top;\n",
       "    }\n",
       "\n",
       "    .dataframe thead th {\n",
       "        text-align: right;\n",
       "    }\n",
       "</style>\n",
       "<table border=\"1\" class=\"dataframe\">\n",
       "  <thead>\n",
       "    <tr style=\"text-align: right;\">\n",
       "      <th></th>\n",
       "      <th>title</th>\n",
       "      <th>puNumber</th>\n",
       "      <th>show_start_date</th>\n",
       "      <th>type</th>\n",
       "      <th>film_studio</th>\n",
       "      <th>production_country</th>\n",
       "      <th>director</th>\n",
       "      <th>producer</th>\n",
       "      <th>age_restriction</th>\n",
       "      <th>refundable_support</th>\n",
       "      <th>nonrefundable_support</th>\n",
       "      <th>budget</th>\n",
       "      <th>financing_source</th>\n",
       "      <th>ratings</th>\n",
       "      <th>genres</th>\n",
       "      <th>box_office</th>\n",
       "    </tr>\n",
       "  </thead>\n",
       "  <tbody>\n",
       "    <tr>\n",
       "      <th>1471</th>\n",
       "      <td>Друзья друзей</td>\n",
       "      <td>111014513</td>\n",
       "      <td>2013-12-19</td>\n",
       "      <td>Художественный</td>\n",
       "      <td>ООО \"ЕМ Продакшн\"</td>\n",
       "      <td>Россия</td>\n",
       "      <td>А.Аксененко</td>\n",
       "      <td>Г.Малков, В.Поляков, Г.Андреасян, С.Андреасян</td>\n",
       "      <td>«16+» - для детей старше 16 лет</td>\n",
       "      <td>&lt;NA&gt;</td>\n",
       "      <td>&lt;NA&gt;</td>\n",
       "      <td>&lt;NA&gt;</td>\n",
       "      <td>NaN</td>\n",
       "      <td>9.20</td>\n",
       "      <td>комедия,мелодрама</td>\n",
       "      <td>27780</td>\n",
       "    </tr>\n",
       "  </tbody>\n",
       "</table>\n",
       "</div>"
      ],
      "text/plain": [
       "              title   puNumber show_start_date            type  \\\n",
       "1471  Друзья друзей  111014513      2013-12-19  Художественный   \n",
       "\n",
       "            film_studio production_country     director  \\\n",
       "1471  ООО \"ЕМ Продакшн\"             Россия  А.Аксененко   \n",
       "\n",
       "                                           producer  \\\n",
       "1471  Г.Малков, В.Поляков, Г.Андреасян, С.Андреасян   \n",
       "\n",
       "                      age_restriction  refundable_support  \\\n",
       "1471  «16+» - для детей старше 16 лет                <NA>   \n",
       "\n",
       "      nonrefundable_support  budget financing_source  ratings  \\\n",
       "1471                   <NA>    <NA>              NaN     9.20   \n",
       "\n",
       "                 genres  box_office  \n",
       "1471  комедия,мелодрама       27780  "
      ]
     },
     "execution_count": 49,
     "metadata": {},
     "output_type": "execute_result"
    }
   ],
   "source": [
    "df[df['ratings'] == 9.2]"
   ]
  },
  {
   "cell_type": "markdown",
   "metadata": {},
   "source": [
    "Who collected the maximum amount at the box office? (300 billion rubles)"
   ]
  },
  {
   "cell_type": "code",
   "execution_count": 50,
   "metadata": {},
   "outputs": [
    {
     "data": {
      "text/html": [
       "<div>\n",
       "<style scoped>\n",
       "    .dataframe tbody tr th:only-of-type {\n",
       "        vertical-align: middle;\n",
       "    }\n",
       "\n",
       "    .dataframe tbody tr th {\n",
       "        vertical-align: top;\n",
       "    }\n",
       "\n",
       "    .dataframe thead th {\n",
       "        text-align: right;\n",
       "    }\n",
       "</style>\n",
       "<table border=\"1\" class=\"dataframe\">\n",
       "  <thead>\n",
       "    <tr style=\"text-align: right;\">\n",
       "      <th></th>\n",
       "      <th>title</th>\n",
       "      <th>puNumber</th>\n",
       "      <th>show_start_date</th>\n",
       "      <th>type</th>\n",
       "      <th>film_studio</th>\n",
       "      <th>production_country</th>\n",
       "      <th>director</th>\n",
       "      <th>producer</th>\n",
       "      <th>age_restriction</th>\n",
       "      <th>refundable_support</th>\n",
       "      <th>nonrefundable_support</th>\n",
       "      <th>budget</th>\n",
       "      <th>financing_source</th>\n",
       "      <th>ratings</th>\n",
       "      <th>genres</th>\n",
       "      <th>box_office</th>\n",
       "    </tr>\n",
       "  </thead>\n",
       "  <tbody>\n",
       "    <tr>\n",
       "      <th>7455</th>\n",
       "      <td>Холоп</td>\n",
       "      <td>111021719</td>\n",
       "      <td>2019-12-19</td>\n",
       "      <td>Художественный</td>\n",
       "      <td>ООО \"МЕМ-МЕДИА\" по заказу АО \"ВБД Груп\"</td>\n",
       "      <td>Россия</td>\n",
       "      <td>К.Шипенко</td>\n",
       "      <td>Э.Илоян, Д.Жалинский, В.Дусмухаметов, Т.Бадзие...</td>\n",
       "      <td>«12+» - для детей старше 12 лет</td>\n",
       "      <td>25000000</td>\n",
       "      <td>35000000</td>\n",
       "      <td>160000000</td>\n",
       "      <td>Фонд кино</td>\n",
       "      <td>6.80</td>\n",
       "      <td>комедия</td>\n",
       "      <td>3073568691</td>\n",
       "    </tr>\n",
       "  </tbody>\n",
       "</table>\n",
       "</div>"
      ],
      "text/plain": [
       "      title   puNumber show_start_date            type  \\\n",
       "7455  Холоп  111021719      2019-12-19  Художественный   \n",
       "\n",
       "                                  film_studio production_country   director  \\\n",
       "7455  ООО \"МЕМ-МЕДИА\" по заказу АО \"ВБД Груп\"             Россия  К.Шипенко   \n",
       "\n",
       "                                               producer  \\\n",
       "7455  Э.Илоян, Д.Жалинский, В.Дусмухаметов, Т.Бадзие...   \n",
       "\n",
       "                      age_restriction  refundable_support  \\\n",
       "7455  «12+» - для детей старше 12 лет            25000000   \n",
       "\n",
       "      nonrefundable_support     budget financing_source  ratings   genres  \\\n",
       "7455               35000000  160000000        Фонд кино     6.80  комедия   \n",
       "\n",
       "      box_office  \n",
       "7455  3073568691  "
      ]
     },
     "execution_count": 50,
     "metadata": {},
     "output_type": "execute_result"
    }
   ],
   "source": [
    "df[df['box_office'] == 3073568691.00]"
   ]
  },
  {
   "cell_type": "markdown",
   "metadata": {},
   "source": [
    "Yandex says that the real charges are 3 billion, the figure is overestimated by 100 times."
   ]
  },
  {
   "cell_type": "markdown",
   "metadata": {},
   "source": [
    "Let's build box plots for **rating** and **fee**, estimate how many anomalous values are in the sample"
   ]
  },
  {
   "cell_type": "code",
   "execution_count": 51,
   "metadata": {},
   "outputs": [
    {
     "data": {
      "image/png": "[encoded data removed]",
      "text/plain": [
       "<Figure size 720x360 with 4 Axes>"
      ]
     },
     "metadata": {
      "needs_background": "light"
     },
     "output_type": "display_data"
    }
   ],
   "source": [
    "fig, axes = plt.subplots(nrows = 2, ncols = 2, figsize = (10, 5))\n",
    "\n",
    "\n",
    "axes[0,0].set_xlim([0, 11])\n",
    "axes[0,1].set_xlim([0, 80000000])\n",
    "\n",
    "axes[1,0].set_xlim([0, 11])\n",
    "axes[1,1].set_xlim([0, 80000000])\n",
    "\n",
    "\n",
    "axes[0,0].title.set_text(\"Box Plot. Rating.\")\n",
    "axes[0,1].title.set_text(\"Box Plot. Fee.\")\n",
    "axes[1,0].title.set_text(\"Histogram. Rating.\")\n",
    "axes[1,1].title.set_text(\"Histogram. Fee.\")\n",
    "\n",
    "\n",
    "df.boxplot(column = ['ratings'], vert = False, ax = axes[0,0])\n",
    "df.boxplot(column = ['box_office'],  vert = False, ax = axes[0,1])\n",
    "df.hist(column = ['ratings'], bins = 10, ax = axes[1,0])\n",
    "df.hist(column = ['box_office'], bins = 1000, ax = axes[1,1])\n",
    "\n",
    "fig.tight_layout()"
   ]
  },
  {
   "cell_type": "code",
   "execution_count": 52,
   "metadata": {},
   "outputs": [
    {
     "data": {
      "text/plain": [
       "34.39693682195278"
      ]
     },
     "execution_count": 52,
     "metadata": {},
     "output_type": "execute_result"
    }
   ],
   "source": [
    "len(df[df['box_office'] <= 500000])*100/len(df[df['box_office'] > 0])"
   ]
  },
  {
   "cell_type": "code",
   "execution_count": 53,
   "metadata": {},
   "outputs": [
    {
     "data": {
      "text/plain": [
       "93.95900755124056"
      ]
     },
     "execution_count": 53,
     "metadata": {},
     "output_type": "execute_result"
    }
   ],
   "source": [
    "len(df[df['ratings'] < 8])*100/len(df[df['ratings'] > 0])"
   ]
  },
  {
   "cell_type": "markdown",
   "metadata": {},
   "source": [
    "- a third of all films (**35%**), of those for which we have information, grossed < 0.5 million rubles at the box office (**looks suspicious**), this could be due to a technical error if most of the box office receipts < 500 thousand at the latest dates.\n",
    "- **93%** of all films with a rating > 0 have a rating less than 8 (here the data looks quite plausible). The `rating` distribution profile is similar to the normal distribution"
   ]
  },
  {
   "cell_type": "markdown",
   "metadata": {},
   "source": [
    "I propose to see how many outliers we have by `fee` for this, we will determine the boundaries of the box plot"
   ]
  },
  {
   "cell_type": "code",
   "execution_count": 54,
   "metadata": {},
   "outputs": [
    {
     "name": "stdout",
     "output_type": "stream",
     "text": [
      "59819819.625 0\n"
     ]
    }
   ],
   "source": [
    "delta_bx = (df['box_office'].quantile(q = 0.75) - df['box_office'].quantile(q = 0.25))\n",
    "\n",
    "max_bx = df['box_office'].quantile(q = 0.75) + 1.5*delta_bx\n",
    "\n",
    "if df['box_office'].quantile(q = 0.25) - 1.5*delta_bx > 0:\n",
    "    min_bx = df['box_office'].quantile(q = 0.25) - 1.5*delta_bx\n",
    "else:\n",
    "    min_bx = 0\n",
    "    \n",
    "print(max_bx, min_bx)"
   ]
  },
  {
   "cell_type": "code",
   "execution_count": 55,
   "metadata": {},
   "outputs": [
    {
     "name": "stdout",
     "output_type": "stream",
     "text": [
      "Outliers by fees 549\n",
      "Share of all completed fees 17.5%\n"
     ]
    }
   ],
   "source": [
    "print('Outliers by fees', len(df[df['box_office'] > max_bx]))\n",
    "print('Share of all completed fees', '{:.1%}'.format(len(df[df['box_office'] > max_bx])/len(df[df['box_office'] > 0])))"
   ]
  },
  {
   "cell_type": "markdown",
   "metadata": {},
   "source": [
    "At the moment I have no idea what to do with the fee column.\n",
    "- we cannot remove outliers - we will lose too much\n",
    "- adjusting the values is also not the best way\n",
    "\n",
    "The easiest way at this stage is to create an additional column and designate extreme values by 1, and all others by 0"
   ]
  },
  {
   "cell_type": "code",
   "execution_count": 56,
   "metadata": {},
   "outputs": [],
   "source": [
    "df['flg_bd_box_office'] = np.where(df['box_office'] > max_bx, 1 , 0)"
   ]
  },
  {
   "cell_type": "markdown",
   "metadata": {},
   "source": [
    "Check"
   ]
  },
  {
   "cell_type": "code",
   "execution_count": 57,
   "metadata": {},
   "outputs": [
    {
     "data": {
      "text/plain": [
       "549"
      ]
     },
     "execution_count": 57,
     "metadata": {},
     "output_type": "execute_result"
    }
   ],
   "source": [
    "len(df[df['flg_bd_box_office'] > 0])"
   ]
  },
  {
   "cell_type": "markdown",
   "metadata": {},
   "source": [
    "**refundable_support, nonrefundable_support, budget**  \n",
    "\n",
    "From the condition, we know that the **budget** field is filled only for state. financing, it is obvious that the budget of the film cannot be less than the sum of repayable and non-refundable funds (the film must also have its own budget, in addition to state support)\n",
    "\n",
    "Found **17** entries where the total budget is **0**, total films with filled fields `refundable_support` and `nonrefundable_support` - **332** (i.e. 17 entries - **5%** data)\n",
    "Since the share of lines with an unfilled budget is small and amounts to 5% of all films with state funding, I propose not to take these records into account in the analysis."
   ]
  },
  {
   "cell_type": "code",
   "execution_count": 58,
   "metadata": {},
   "outputs": [
    {
     "data": {
      "text/plain": [
       "17"
      ]
     },
     "execution_count": 58,
     "metadata": {},
     "output_type": "execute_result"
    }
   ],
   "source": [
    "len(df[(df['refundable_support'] + df['nonrefundable_support'] > df['budget'])])"
   ]
  },
  {
   "cell_type": "code",
   "execution_count": 59,
   "metadata": {},
   "outputs": [
    {
     "data": {
      "text/plain": [
       "332"
      ]
     },
     "execution_count": 59,
     "metadata": {},
     "output_type": "execute_result"
    }
   ],
   "source": [
    "len(df[(df['refundable_support'] + df['nonrefundable_support'] > 0)])"
   ]
  },
  {
   "cell_type": "code",
   "execution_count": 60,
   "metadata": {
    "scrolled": true
   },
   "outputs": [
    {
     "data": {
      "text/html": [
       "<div>\n",
       "<style scoped>\n",
       "    .dataframe tbody tr th:only-of-type {\n",
       "        vertical-align: middle;\n",
       "    }\n",
       "\n",
       "    .dataframe tbody tr th {\n",
       "        vertical-align: top;\n",
       "    }\n",
       "\n",
       "    .dataframe thead th {\n",
       "        text-align: right;\n",
       "    }\n",
       "</style>\n",
       "<table border=\"1\" class=\"dataframe\">\n",
       "  <thead>\n",
       "    <tr style=\"text-align: right;\">\n",
       "      <th></th>\n",
       "      <th>title</th>\n",
       "      <th>puNumber</th>\n",
       "      <th>show_start_date</th>\n",
       "      <th>type</th>\n",
       "      <th>film_studio</th>\n",
       "      <th>production_country</th>\n",
       "      <th>director</th>\n",
       "      <th>producer</th>\n",
       "      <th>age_restriction</th>\n",
       "      <th>refundable_support</th>\n",
       "      <th>nonrefundable_support</th>\n",
       "      <th>budget</th>\n",
       "      <th>financing_source</th>\n",
       "      <th>ratings</th>\n",
       "      <th>genres</th>\n",
       "      <th>box_office</th>\n",
       "      <th>flg_bd_box_office</th>\n",
       "    </tr>\n",
       "  </thead>\n",
       "  <tbody>\n",
       "    <tr>\n",
       "      <th>2053</th>\n",
       "      <td>14+</td>\n",
       "      <td>111023614</td>\n",
       "      <td>2014-12-19</td>\n",
       "      <td>Художественный</td>\n",
       "      <td>ООО Киностудия  \"Сентябрь\"</td>\n",
       "      <td>Россия</td>\n",
       "      <td>А.Зайцев</td>\n",
       "      <td>О.Гранина, А.Зайцев</td>\n",
       "      <td>«16+» - для детей старше 16 лет</td>\n",
       "      <td>0</td>\n",
       "      <td>23000000</td>\n",
       "      <td>0</td>\n",
       "      <td>Министерство культуры, Фонд кино</td>\n",
       "      <td>6.60</td>\n",
       "      <td>мелодрама</td>\n",
       "      <td>10234016</td>\n",
       "      <td>0</td>\n",
       "    </tr>\n",
       "    <tr>\n",
       "      <th>2058</th>\n",
       "      <td>Дуxless 2</td>\n",
       "      <td>111000415</td>\n",
       "      <td>2015-01-26</td>\n",
       "      <td>Художественный</td>\n",
       "      <td>ООО \"Киностудия \"Слово\", ООО \"Арт Пикчерс Студия\"</td>\n",
       "      <td>Россия</td>\n",
       "      <td>Р.Прыгунов</td>\n",
       "      <td>П.Ануров, Ф.Бондарчук, Д.Рудовский</td>\n",
       "      <td>«16+» - для детей старше 16 лет</td>\n",
       "      <td>0</td>\n",
       "      <td>75000000</td>\n",
       "      <td>0</td>\n",
       "      <td>Фонд кино</td>\n",
       "      <td>6.60</td>\n",
       "      <td>драма</td>\n",
       "      <td>446163511</td>\n",
       "      <td>1</td>\n",
       "    </tr>\n",
       "    <tr>\n",
       "      <th>2472</th>\n",
       "      <td>Воин (2015)</td>\n",
       "      <td>111017315</td>\n",
       "      <td>2015-09-28</td>\n",
       "      <td>Художественный</td>\n",
       "      <td>ООО \"Форпост Продакшн\", ООО \"Арт Пикчерс Студия\"</td>\n",
       "      <td>Россия</td>\n",
       "      <td>А.Андрианов</td>\n",
       "      <td>ООО \"Арт Пикчерс Студия\"</td>\n",
       "      <td>«12+» - для детей старше 12 лет</td>\n",
       "      <td>10000000</td>\n",
       "      <td>70000000</td>\n",
       "      <td>0</td>\n",
       "      <td>Фонд кино</td>\n",
       "      <td>7.80</td>\n",
       "      <td>боевик,драма,криминал</td>\n",
       "      <td>196572438</td>\n",
       "      <td>1</td>\n",
       "    </tr>\n",
       "    <tr>\n",
       "      <th>2532</th>\n",
       "      <td>Бармен.</td>\n",
       "      <td>111009615</td>\n",
       "      <td>2015-05-26</td>\n",
       "      <td>Художественный</td>\n",
       "      <td>АО \"ВайТ Медиа\", ООО \"Арт Пикчерс Студия\"</td>\n",
       "      <td>Россия</td>\n",
       "      <td>Д.Штурманова</td>\n",
       "      <td>Т.Вайнштейн</td>\n",
       "      <td>«16+» - для детей старше 16 лет</td>\n",
       "      <td>20000000</td>\n",
       "      <td>0</td>\n",
       "      <td>0</td>\n",
       "      <td>Фонд кино</td>\n",
       "      <td>6.20</td>\n",
       "      <td>комедия,фэнтези</td>\n",
       "      <td>67418975</td>\n",
       "      <td>1</td>\n",
       "    </tr>\n",
       "    <tr>\n",
       "      <th>2615</th>\n",
       "      <td>Савва. Сердце воина</td>\n",
       "      <td>114001715</td>\n",
       "      <td>2015-07-21</td>\n",
       "      <td>Анимационный</td>\n",
       "      <td>ООО \"Глюкоза Продакшн\", ООО \"Арт Пикчерс Студия\"</td>\n",
       "      <td>Россия</td>\n",
       "      <td>М.Фадеев</td>\n",
       "      <td>А.Чистяков</td>\n",
       "      <td>«6+» - для детей старше 6 лет</td>\n",
       "      <td>60000000</td>\n",
       "      <td>100000000</td>\n",
       "      <td>0</td>\n",
       "      <td>Фонд кино</td>\n",
       "      <td>4.60</td>\n",
       "      <td>мультфильм,приключения,фэнтези</td>\n",
       "      <td>184487551</td>\n",
       "      <td>1</td>\n",
       "    </tr>\n",
       "  </tbody>\n",
       "</table>\n",
       "</div>"
      ],
      "text/plain": [
       "                    title   puNumber show_start_date            type  \\\n",
       "2053                  14+  111023614      2014-12-19  Художественный   \n",
       "2058            Дуxless 2  111000415      2015-01-26  Художественный   \n",
       "2472          Воин (2015)  111017315      2015-09-28  Художественный   \n",
       "2532              Бармен.  111009615      2015-05-26  Художественный   \n",
       "2615  Савва. Сердце воина  114001715      2015-07-21    Анимационный   \n",
       "\n",
       "                                            film_studio production_country  \\\n",
       "2053                         ООО Киностудия  \"Сентябрь\"             Россия   \n",
       "2058  ООО \"Киностудия \"Слово\", ООО \"Арт Пикчерс Студия\"             Россия   \n",
       "2472   ООО \"Форпост Продакшн\", ООО \"Арт Пикчерс Студия\"             Россия   \n",
       "2532          АО \"ВайТ Медиа\", ООО \"Арт Пикчерс Студия\"             Россия   \n",
       "2615   ООО \"Глюкоза Продакшн\", ООО \"Арт Пикчерс Студия\"             Россия   \n",
       "\n",
       "          director                            producer  \\\n",
       "2053      А.Зайцев                 О.Гранина, А.Зайцев   \n",
       "2058    Р.Прыгунов  П.Ануров, Ф.Бондарчук, Д.Рудовский   \n",
       "2472   А.Андрианов            ООО \"Арт Пикчерс Студия\"   \n",
       "2532  Д.Штурманова                         Т.Вайнштейн   \n",
       "2615      М.Фадеев                          А.Чистяков   \n",
       "\n",
       "                      age_restriction  refundable_support  \\\n",
       "2053  «16+» - для детей старше 16 лет                   0   \n",
       "2058  «16+» - для детей старше 16 лет                   0   \n",
       "2472  «12+» - для детей старше 12 лет            10000000   \n",
       "2532  «16+» - для детей старше 16 лет            20000000   \n",
       "2615    «6+» - для детей старше 6 лет            60000000   \n",
       "\n",
       "      nonrefundable_support  budget                  financing_source  \\\n",
       "2053               23000000       0  Министерство культуры, Фонд кино   \n",
       "2058               75000000       0                         Фонд кино   \n",
       "2472               70000000       0                         Фонд кино   \n",
       "2532                      0       0                         Фонд кино   \n",
       "2615              100000000       0                         Фонд кино   \n",
       "\n",
       "      ratings                          genres  box_office  flg_bd_box_office  \n",
       "2053     6.60                       мелодрама    10234016                  0  \n",
       "2058     6.60                           драма   446163511                  1  \n",
       "2472     7.80           боевик,драма,криминал   196572438                  1  \n",
       "2532     6.20                 комедия,фэнтези    67418975                  1  \n",
       "2615     4.60  мультфильм,приключения,фэнтези   184487551                  1  "
      ]
     },
     "execution_count": 60,
     "metadata": {},
     "output_type": "execute_result"
    }
   ],
   "source": [
    "df[(df['refundable_support'] + df['nonrefundable_support'] > df['budget'])].head(5)"
   ]
  },
  {
   "cell_type": "markdown",
   "metadata": {},
   "source": [
    "**Check:**  \n",
    "Are there any pictures where the amount of repayable and non-refundable state funds. support / film budget > **80%**\n",
    "So we can see if we can change the value of `budget` to the amount of `refundable_support` + `nonrefundable_support`"
   ]
  },
  {
   "cell_type": "code",
   "execution_count": 61,
   "metadata": {},
   "outputs": [
    {
     "data": {
      "text/html": [
       "<div>\n",
       "<style scoped>\n",
       "    .dataframe tbody tr th:only-of-type {\n",
       "        vertical-align: middle;\n",
       "    }\n",
       "\n",
       "    .dataframe tbody tr th {\n",
       "        vertical-align: top;\n",
       "    }\n",
       "\n",
       "    .dataframe thead th {\n",
       "        text-align: right;\n",
       "    }\n",
       "</style>\n",
       "<table border=\"1\" class=\"dataframe\">\n",
       "  <thead>\n",
       "    <tr style=\"text-align: right;\">\n",
       "      <th></th>\n",
       "      <th>title</th>\n",
       "      <th>puNumber</th>\n",
       "      <th>show_start_date</th>\n",
       "      <th>type</th>\n",
       "      <th>film_studio</th>\n",
       "      <th>production_country</th>\n",
       "      <th>director</th>\n",
       "      <th>producer</th>\n",
       "      <th>age_restriction</th>\n",
       "      <th>refundable_support</th>\n",
       "      <th>nonrefundable_support</th>\n",
       "      <th>budget</th>\n",
       "      <th>financing_source</th>\n",
       "      <th>ratings</th>\n",
       "      <th>genres</th>\n",
       "      <th>box_office</th>\n",
       "      <th>flg_bd_box_office</th>\n",
       "    </tr>\n",
       "  </thead>\n",
       "  <tbody>\n",
       "    <tr>\n",
       "      <th>2053</th>\n",
       "      <td>14+</td>\n",
       "      <td>111023614</td>\n",
       "      <td>2014-12-19</td>\n",
       "      <td>Художественный</td>\n",
       "      <td>ООО Киностудия  \"Сентябрь\"</td>\n",
       "      <td>Россия</td>\n",
       "      <td>А.Зайцев</td>\n",
       "      <td>О.Гранина, А.Зайцев</td>\n",
       "      <td>«16+» - для детей старше 16 лет</td>\n",
       "      <td>0</td>\n",
       "      <td>23000000</td>\n",
       "      <td>0</td>\n",
       "      <td>Министерство культуры, Фонд кино</td>\n",
       "      <td>6.60</td>\n",
       "      <td>мелодрама</td>\n",
       "      <td>10234016</td>\n",
       "      <td>0</td>\n",
       "    </tr>\n",
       "    <tr>\n",
       "      <th>2058</th>\n",
       "      <td>Дуxless 2</td>\n",
       "      <td>111000415</td>\n",
       "      <td>2015-01-26</td>\n",
       "      <td>Художественный</td>\n",
       "      <td>ООО \"Киностудия \"Слово\", ООО \"Арт Пикчерс Студия\"</td>\n",
       "      <td>Россия</td>\n",
       "      <td>Р.Прыгунов</td>\n",
       "      <td>П.Ануров, Ф.Бондарчук, Д.Рудовский</td>\n",
       "      <td>«16+» - для детей старше 16 лет</td>\n",
       "      <td>0</td>\n",
       "      <td>75000000</td>\n",
       "      <td>0</td>\n",
       "      <td>Фонд кино</td>\n",
       "      <td>6.60</td>\n",
       "      <td>драма</td>\n",
       "      <td>446163511</td>\n",
       "      <td>1</td>\n",
       "    </tr>\n",
       "    <tr>\n",
       "      <th>2472</th>\n",
       "      <td>Воин (2015)</td>\n",
       "      <td>111017315</td>\n",
       "      <td>2015-09-28</td>\n",
       "      <td>Художественный</td>\n",
       "      <td>ООО \"Форпост Продакшн\", ООО \"Арт Пикчерс Студия\"</td>\n",
       "      <td>Россия</td>\n",
       "      <td>А.Андрианов</td>\n",
       "      <td>ООО \"Арт Пикчерс Студия\"</td>\n",
       "      <td>«12+» - для детей старше 12 лет</td>\n",
       "      <td>10000000</td>\n",
       "      <td>70000000</td>\n",
       "      <td>0</td>\n",
       "      <td>Фонд кино</td>\n",
       "      <td>7.80</td>\n",
       "      <td>боевик,драма,криминал</td>\n",
       "      <td>196572438</td>\n",
       "      <td>1</td>\n",
       "    </tr>\n",
       "    <tr>\n",
       "      <th>2532</th>\n",
       "      <td>Бармен.</td>\n",
       "      <td>111009615</td>\n",
       "      <td>2015-05-26</td>\n",
       "      <td>Художественный</td>\n",
       "      <td>АО \"ВайТ Медиа\", ООО \"Арт Пикчерс Студия\"</td>\n",
       "      <td>Россия</td>\n",
       "      <td>Д.Штурманова</td>\n",
       "      <td>Т.Вайнштейн</td>\n",
       "      <td>«16+» - для детей старше 16 лет</td>\n",
       "      <td>20000000</td>\n",
       "      <td>0</td>\n",
       "      <td>0</td>\n",
       "      <td>Фонд кино</td>\n",
       "      <td>6.20</td>\n",
       "      <td>комедия,фэнтези</td>\n",
       "      <td>67418975</td>\n",
       "      <td>1</td>\n",
       "    </tr>\n",
       "    <tr>\n",
       "      <th>2615</th>\n",
       "      <td>Савва. Сердце воина</td>\n",
       "      <td>114001715</td>\n",
       "      <td>2015-07-21</td>\n",
       "      <td>Анимационный</td>\n",
       "      <td>ООО \"Глюкоза Продакшн\", ООО \"Арт Пикчерс Студия\"</td>\n",
       "      <td>Россия</td>\n",
       "      <td>М.Фадеев</td>\n",
       "      <td>А.Чистяков</td>\n",
       "      <td>«6+» - для детей старше 6 лет</td>\n",
       "      <td>60000000</td>\n",
       "      <td>100000000</td>\n",
       "      <td>0</td>\n",
       "      <td>Фонд кино</td>\n",
       "      <td>4.60</td>\n",
       "      <td>мультфильм,приключения,фэнтези</td>\n",
       "      <td>184487551</td>\n",
       "      <td>1</td>\n",
       "    </tr>\n",
       "    <tr>\n",
       "      <th>2684</th>\n",
       "      <td>Тряпичный союз</td>\n",
       "      <td>111010215</td>\n",
       "      <td>2015-06-08</td>\n",
       "      <td>Художественный</td>\n",
       "      <td>ООО \"Кинокомпания \"КОКТЕБЕЛЬ\"</td>\n",
       "      <td>Россия</td>\n",
       "      <td>М.Местецкий</td>\n",
       "      <td>Р.Борисевич, А.Кушаев</td>\n",
       "      <td>«18+» - запрещено для детей</td>\n",
       "      <td>0</td>\n",
       "      <td>59000000</td>\n",
       "      <td>0</td>\n",
       "      <td>Фонд кино</td>\n",
       "      <td>6.30</td>\n",
       "      <td>комедия,драма</td>\n",
       "      <td>1957739</td>\n",
       "      <td>0</td>\n",
       "    </tr>\n",
       "    <tr>\n",
       "      <th>2788</th>\n",
       "      <td>Срочно выйду замуж</td>\n",
       "      <td>111017115</td>\n",
       "      <td>2015-09-30</td>\n",
       "      <td>Художественный</td>\n",
       "      <td>АО \"ВайТ Медиа\", ООО \"Арт Пикчерс Студия\"</td>\n",
       "      <td>Россия</td>\n",
       "      <td>С Чекалов</td>\n",
       "      <td>Ф.Бондарчук, Т.Вайнштейн, Д.Рудовский</td>\n",
       "      <td>«16+» - для детей старше 16 лет</td>\n",
       "      <td>0</td>\n",
       "      <td>35000000</td>\n",
       "      <td>0</td>\n",
       "      <td>Фонд кино</td>\n",
       "      <td>5.10</td>\n",
       "      <td>комедия,мелодрама</td>\n",
       "      <td>72937783</td>\n",
       "      <td>1</td>\n",
       "    </tr>\n",
       "    <tr>\n",
       "      <th>2874</th>\n",
       "      <td>Помню - не помню!</td>\n",
       "      <td>111004916</td>\n",
       "      <td>2016-03-01</td>\n",
       "      <td>Художественный</td>\n",
       "      <td>ООО \"КиноФирма\"</td>\n",
       "      <td>Россия</td>\n",
       "      <td>В.Ровенский</td>\n",
       "      <td>ООО \"КиноФирма\"</td>\n",
       "      <td>«12+» - для детей старше 12 лет</td>\n",
       "      <td>0</td>\n",
       "      <td>6000000</td>\n",
       "      <td>0</td>\n",
       "      <td>Министерство культуры</td>\n",
       "      <td>4.30</td>\n",
       "      <td>комедия</td>\n",
       "      <td>15362931</td>\n",
       "      <td>0</td>\n",
       "    </tr>\n",
       "    <tr>\n",
       "      <th>3047</th>\n",
       "      <td>Любовь с ограничениями</td>\n",
       "      <td>111008216</td>\n",
       "      <td>2016-04-29</td>\n",
       "      <td>Художественный</td>\n",
       "      <td>АО \"ВайТ Медиа\", ООО \"Арт Пикчерс Студия\"</td>\n",
       "      <td>Россия</td>\n",
       "      <td>Д.Тюрин</td>\n",
       "      <td>Ф.Бондарчук, Т.Вайнштейн, Д.Рудовский</td>\n",
       "      <td>«16+» - для детей старше 16 лет</td>\n",
       "      <td>19000000</td>\n",
       "      <td>51000000</td>\n",
       "      <td>0</td>\n",
       "      <td>Фонд кино</td>\n",
       "      <td>6.30</td>\n",
       "      <td>комедия,мелодрама</td>\n",
       "      <td>70299052</td>\n",
       "      <td>1</td>\n",
       "    </tr>\n",
       "    <tr>\n",
       "      <th>3565</th>\n",
       "      <td>Притяжение (2016)</td>\n",
       "      <td>111018116</td>\n",
       "      <td>2016-12-16</td>\n",
       "      <td>Художественный</td>\n",
       "      <td>ООО \"Водород 2011\",  ООО \"Арт Пикчерс Студия\"</td>\n",
       "      <td>Россия</td>\n",
       "      <td>Ф.Бондарчук</td>\n",
       "      <td>ООО \"Арт Пикчерс Студия\"</td>\n",
       "      <td>«12+» - для детей старше 12 лет</td>\n",
       "      <td>0</td>\n",
       "      <td>250000000</td>\n",
       "      <td>0</td>\n",
       "      <td>Фонд кино</td>\n",
       "      <td>5.60</td>\n",
       "      <td>фантастика</td>\n",
       "      <td>1038321489</td>\n",
       "      <td>1</td>\n",
       "    </tr>\n",
       "    <tr>\n",
       "      <th>3675</th>\n",
       "      <td>Чудо-юдо</td>\n",
       "      <td>114001817</td>\n",
       "      <td>2017-06-27</td>\n",
       "      <td>Анимационный</td>\n",
       "      <td>ООО \"КиноФирма\"</td>\n",
       "      <td>Россия</td>\n",
       "      <td>А.Лукичев</td>\n",
       "      <td>ООО \"КиноФирма\"</td>\n",
       "      <td>«6+» - для детей старше 6 лет</td>\n",
       "      <td>20000000</td>\n",
       "      <td>20000000</td>\n",
       "      <td>0</td>\n",
       "      <td>Фонд кино</td>\n",
       "      <td>5.20</td>\n",
       "      <td>мультфильм,фэнтези,семейный</td>\n",
       "      <td>55108015</td>\n",
       "      <td>0</td>\n",
       "    </tr>\n",
       "    <tr>\n",
       "      <th>3739</th>\n",
       "      <td>Мифы</td>\n",
       "      <td>111004317</td>\n",
       "      <td>2017-06-07</td>\n",
       "      <td>Художественный</td>\n",
       "      <td>ООО \"ХАЙПФИЛМ\", ООО \"Арт Пикчерс Студия\"</td>\n",
       "      <td>Россия</td>\n",
       "      <td>А.Молочников</td>\n",
       "      <td>Ф.Бондарчук, Д.Рудовский, И.Стюарт, М.Османн, ...</td>\n",
       "      <td>«16+» - для детей старше 16 лет</td>\n",
       "      <td>25000000</td>\n",
       "      <td>20000000</td>\n",
       "      <td>0</td>\n",
       "      <td>Фонд кино</td>\n",
       "      <td>4.80</td>\n",
       "      <td>комедия</td>\n",
       "      <td>50451949</td>\n",
       "      <td>0</td>\n",
       "    </tr>\n",
       "    <tr>\n",
       "      <th>5672</th>\n",
       "      <td>Селфи</td>\n",
       "      <td>111012117</td>\n",
       "      <td>2018-02-01</td>\n",
       "      <td>Художественный</td>\n",
       "      <td>ООО \"Киностудия \"Слово\", ООО \"Арт Пикчерс Студия\"</td>\n",
       "      <td>Россия</td>\n",
       "      <td>Н.Хомерики</td>\n",
       "      <td>П.Ануров, Ф.Бондарчук, Д.Рудовский</td>\n",
       "      <td>«16+» - для детей старше 16 лет</td>\n",
       "      <td>20000000</td>\n",
       "      <td>40000000</td>\n",
       "      <td>0</td>\n",
       "      <td>Фонд кино</td>\n",
       "      <td>5.80</td>\n",
       "      <td>триллер,драма</td>\n",
       "      <td>225196400</td>\n",
       "      <td>1</td>\n",
       "    </tr>\n",
       "    <tr>\n",
       "      <th>5805</th>\n",
       "      <td>Два хвоста</td>\n",
       "      <td>114001018</td>\n",
       "      <td>2018-05-31</td>\n",
       "      <td>Анимационный</td>\n",
       "      <td>ООО \"ЛИЦЕНЗИОННЫЕ БРЕНДЫ\"</td>\n",
       "      <td>Россия</td>\n",
       "      <td>В.Ровенский, Н.Лопато, В.Азеев</td>\n",
       "      <td>ООО \"ЛИЦЕНЗИОННЫЕ БРЕНДЫ\"</td>\n",
       "      <td>«6+» - для детей старше 6 лет</td>\n",
       "      <td>10000000</td>\n",
       "      <td>60000000</td>\n",
       "      <td>0</td>\n",
       "      <td>Фонд кино</td>\n",
       "      <td>5.00</td>\n",
       "      <td>мультфильм,детский</td>\n",
       "      <td>106514301</td>\n",
       "      <td>1</td>\n",
       "    </tr>\n",
       "    <tr>\n",
       "      <th>6007</th>\n",
       "      <td>Принцесса и дракон</td>\n",
       "      <td>114003018</td>\n",
       "      <td>2018-08-23</td>\n",
       "      <td>Анимационный</td>\n",
       "      <td>ООО \"ЛИЦЕНЗИОННЫЕ БРЕНДЫ\"</td>\n",
       "      <td>Россия</td>\n",
       "      <td>М.Нефедова</td>\n",
       "      <td>ООО \"ЛИЦЕНЗИОННЫЕ БРЕНДЫ\"</td>\n",
       "      <td>«6+» - для детей старше 6 лет</td>\n",
       "      <td>40000000</td>\n",
       "      <td>40000000</td>\n",
       "      <td>0</td>\n",
       "      <td>Фонд кино</td>\n",
       "      <td>5.20</td>\n",
       "      <td>мультфильм,фэнтези,детский</td>\n",
       "      <td>83366329</td>\n",
       "      <td>1</td>\n",
       "    </tr>\n",
       "    <tr>\n",
       "      <th>6322</th>\n",
       "      <td>Баба Яга</td>\n",
       "      <td>114006518</td>\n",
       "      <td>2018-11-08</td>\n",
       "      <td>Анимационный</td>\n",
       "      <td>ООО \"Арт Пикчерс Студия\"</td>\n",
       "      <td>Россия</td>\n",
       "      <td>В.Саков</td>\n",
       "      <td>ООО \"Арт Пикчерс Студия\", ООО \"КРИЭЙТИВ АНИМЭЙ...</td>\n",
       "      <td>«6+» - для детей старше 6 лет</td>\n",
       "      <td>0</td>\n",
       "      <td>138969465</td>\n",
       "      <td>0</td>\n",
       "      <td>Фонд кино</td>\n",
       "      <td>NaN</td>\n",
       "      <td>NaN</td>\n",
       "      <td>1334699</td>\n",
       "      <td>0</td>\n",
       "    </tr>\n",
       "    <tr>\n",
       "      <th>6822</th>\n",
       "      <td>Большое путешествие</td>\n",
       "      <td>114002419</td>\n",
       "      <td>2019-04-20</td>\n",
       "      <td>Анимационный</td>\n",
       "      <td>ООО \"ЛИЦЕНЗИОННЫЕ БРЕНДЫ\"</td>\n",
       "      <td>Россия</td>\n",
       "      <td>Н.Лопато, В.Ровенский</td>\n",
       "      <td>ООО \"ЛИЦЕНЗИОННЫЕ БРЕНДЫ\"</td>\n",
       "      <td>«6+» - для детей старше 6 лет</td>\n",
       "      <td>60000000</td>\n",
       "      <td>120000000</td>\n",
       "      <td>0</td>\n",
       "      <td>Фонд кино</td>\n",
       "      <td>6.20</td>\n",
       "      <td>мультфильм,комедия,приключения</td>\n",
       "      <td>147606827</td>\n",
       "      <td>1</td>\n",
       "    </tr>\n",
       "  </tbody>\n",
       "</table>\n",
       "</div>"
      ],
      "text/plain": [
       "                       title   puNumber show_start_date            type  \\\n",
       "2053                     14+  111023614      2014-12-19  Художественный   \n",
       "2058               Дуxless 2  111000415      2015-01-26  Художественный   \n",
       "2472             Воин (2015)  111017315      2015-09-28  Художественный   \n",
       "2532                 Бармен.  111009615      2015-05-26  Художественный   \n",
       "2615     Савва. Сердце воина  114001715      2015-07-21    Анимационный   \n",
       "2684          Тряпичный союз  111010215      2015-06-08  Художественный   \n",
       "2788      Срочно выйду замуж  111017115      2015-09-30  Художественный   \n",
       "2874       Помню - не помню!  111004916      2016-03-01  Художественный   \n",
       "3047  Любовь с ограничениями  111008216      2016-04-29  Художественный   \n",
       "3565       Притяжение (2016)  111018116      2016-12-16  Художественный   \n",
       "3675                Чудо-юдо  114001817      2017-06-27    Анимационный   \n",
       "3739                    Мифы  111004317      2017-06-07  Художественный   \n",
       "5672                   Селфи  111012117      2018-02-01  Художественный   \n",
       "5805              Два хвоста  114001018      2018-05-31    Анимационный   \n",
       "6007      Принцесса и дракон  114003018      2018-08-23    Анимационный   \n",
       "6322                Баба Яга  114006518      2018-11-08    Анимационный   \n",
       "6822     Большое путешествие  114002419      2019-04-20    Анимационный   \n",
       "\n",
       "                                            film_studio production_country  \\\n",
       "2053                         ООО Киностудия  \"Сентябрь\"             Россия   \n",
       "2058  ООО \"Киностудия \"Слово\", ООО \"Арт Пикчерс Студия\"             Россия   \n",
       "2472   ООО \"Форпост Продакшн\", ООО \"Арт Пикчерс Студия\"             Россия   \n",
       "2532          АО \"ВайТ Медиа\", ООО \"Арт Пикчерс Студия\"             Россия   \n",
       "2615   ООО \"Глюкоза Продакшн\", ООО \"Арт Пикчерс Студия\"             Россия   \n",
       "2684                      ООО \"Кинокомпания \"КОКТЕБЕЛЬ\"             Россия   \n",
       "2788          АО \"ВайТ Медиа\", ООО \"Арт Пикчерс Студия\"             Россия   \n",
       "2874                                    ООО \"КиноФирма\"             Россия   \n",
       "3047          АО \"ВайТ Медиа\", ООО \"Арт Пикчерс Студия\"             Россия   \n",
       "3565      ООО \"Водород 2011\",  ООО \"Арт Пикчерс Студия\"             Россия   \n",
       "3675                                    ООО \"КиноФирма\"             Россия   \n",
       "3739           ООО \"ХАЙПФИЛМ\", ООО \"Арт Пикчерс Студия\"             Россия   \n",
       "5672  ООО \"Киностудия \"Слово\", ООО \"Арт Пикчерс Студия\"             Россия   \n",
       "5805                          ООО \"ЛИЦЕНЗИОННЫЕ БРЕНДЫ\"             Россия   \n",
       "6007                          ООО \"ЛИЦЕНЗИОННЫЕ БРЕНДЫ\"             Россия   \n",
       "6322                           ООО \"Арт Пикчерс Студия\"             Россия   \n",
       "6822                          ООО \"ЛИЦЕНЗИОННЫЕ БРЕНДЫ\"             Россия   \n",
       "\n",
       "                            director  \\\n",
       "2053                        А.Зайцев   \n",
       "2058                      Р.Прыгунов   \n",
       "2472                     А.Андрианов   \n",
       "2532                    Д.Штурманова   \n",
       "2615                        М.Фадеев   \n",
       "2684                     М.Местецкий   \n",
       "2788                       С Чекалов   \n",
       "2874                     В.Ровенский   \n",
       "3047                         Д.Тюрин   \n",
       "3565                     Ф.Бондарчук   \n",
       "3675                       А.Лукичев   \n",
       "3739                    А.Молочников   \n",
       "5672                      Н.Хомерики   \n",
       "5805  В.Ровенский, Н.Лопато, В.Азеев   \n",
       "6007                      М.Нефедова   \n",
       "6322                         В.Саков   \n",
       "6822           Н.Лопато, В.Ровенский   \n",
       "\n",
       "                                               producer  \\\n",
       "2053                                О.Гранина, А.Зайцев   \n",
       "2058                 П.Ануров, Ф.Бондарчук, Д.Рудовский   \n",
       "2472                           ООО \"Арт Пикчерс Студия\"   \n",
       "2532                                        Т.Вайнштейн   \n",
       "2615                                         А.Чистяков   \n",
       "2684                              Р.Борисевич, А.Кушаев   \n",
       "2788              Ф.Бондарчук, Т.Вайнштейн, Д.Рудовский   \n",
       "2874                                    ООО \"КиноФирма\"   \n",
       "3047              Ф.Бондарчук, Т.Вайнштейн, Д.Рудовский   \n",
       "3565                           ООО \"Арт Пикчерс Студия\"   \n",
       "3675                                    ООО \"КиноФирма\"   \n",
       "3739  Ф.Бондарчук, Д.Рудовский, И.Стюарт, М.Османн, ...   \n",
       "5672                 П.Ануров, Ф.Бондарчук, Д.Рудовский   \n",
       "5805                          ООО \"ЛИЦЕНЗИОННЫЕ БРЕНДЫ\"   \n",
       "6007                          ООО \"ЛИЦЕНЗИОННЫЕ БРЕНДЫ\"   \n",
       "6322  ООО \"Арт Пикчерс Студия\", ООО \"КРИЭЙТИВ АНИМЭЙ...   \n",
       "6822                          ООО \"ЛИЦЕНЗИОННЫЕ БРЕНДЫ\"   \n",
       "\n",
       "                      age_restriction  refundable_support  \\\n",
       "2053  «16+» - для детей старше 16 лет                   0   \n",
       "2058  «16+» - для детей старше 16 лет                   0   \n",
       "2472  «12+» - для детей старше 12 лет            10000000   \n",
       "2532  «16+» - для детей старше 16 лет            20000000   \n",
       "2615    «6+» - для детей старше 6 лет            60000000   \n",
       "2684      «18+» - запрещено для детей                   0   \n",
       "2788  «16+» - для детей старше 16 лет                   0   \n",
       "2874  «12+» - для детей старше 12 лет                   0   \n",
       "3047  «16+» - для детей старше 16 лет            19000000   \n",
       "3565  «12+» - для детей старше 12 лет                   0   \n",
       "3675    «6+» - для детей старше 6 лет            20000000   \n",
       "3739  «16+» - для детей старше 16 лет            25000000   \n",
       "5672  «16+» - для детей старше 16 лет            20000000   \n",
       "5805    «6+» - для детей старше 6 лет            10000000   \n",
       "6007    «6+» - для детей старше 6 лет            40000000   \n",
       "6322    «6+» - для детей старше 6 лет                   0   \n",
       "6822    «6+» - для детей старше 6 лет            60000000   \n",
       "\n",
       "      nonrefundable_support  budget                  financing_source  \\\n",
       "2053               23000000       0  Министерство культуры, Фонд кино   \n",
       "2058               75000000       0                         Фонд кино   \n",
       "2472               70000000       0                         Фонд кино   \n",
       "2532                      0       0                         Фонд кино   \n",
       "2615              100000000       0                         Фонд кино   \n",
       "2684               59000000       0                         Фонд кино   \n",
       "2788               35000000       0                         Фонд кино   \n",
       "2874                6000000       0             Министерство культуры   \n",
       "3047               51000000       0                         Фонд кино   \n",
       "3565              250000000       0                         Фонд кино   \n",
       "3675               20000000       0                         Фонд кино   \n",
       "3739               20000000       0                         Фонд кино   \n",
       "5672               40000000       0                         Фонд кино   \n",
       "5805               60000000       0                         Фонд кино   \n",
       "6007               40000000       0                         Фонд кино   \n",
       "6322              138969465       0                         Фонд кино   \n",
       "6822              120000000       0                         Фонд кино   \n",
       "\n",
       "      ratings                          genres  box_office  flg_bd_box_office  \n",
       "2053     6.60                       мелодрама    10234016                  0  \n",
       "2058     6.60                           драма   446163511                  1  \n",
       "2472     7.80           боевик,драма,криминал   196572438                  1  \n",
       "2532     6.20                 комедия,фэнтези    67418975                  1  \n",
       "2615     4.60  мультфильм,приключения,фэнтези   184487551                  1  \n",
       "2684     6.30                   комедия,драма     1957739                  0  \n",
       "2788     5.10               комедия,мелодрама    72937783                  1  \n",
       "2874     4.30                         комедия    15362931                  0  \n",
       "3047     6.30               комедия,мелодрама    70299052                  1  \n",
       "3565     5.60                      фантастика  1038321489                  1  \n",
       "3675     5.20     мультфильм,фэнтези,семейный    55108015                  0  \n",
       "3739     4.80                         комедия    50451949                  0  \n",
       "5672     5.80                   триллер,драма   225196400                  1  \n",
       "5805     5.00              мультфильм,детский   106514301                  1  \n",
       "6007     5.20      мультфильм,фэнтези,детский    83366329                  1  \n",
       "6322      NaN                             NaN     1334699                  0  \n",
       "6822     6.20  мультфильм,комедия,приключения   147606827                  1  "
      ]
     },
     "execution_count": 61,
     "metadata": {},
     "output_type": "execute_result"
    }
   ],
   "source": [
    "df[(((df['refundable_support'] + df['nonrefundable_support']) / df['budget']) > 0.8)]"
   ]
  },
  {
   "cell_type": "code",
   "execution_count": 62,
   "metadata": {},
   "outputs": [
    {
     "data": {
      "text/html": [
       "<div>\n",
       "<style scoped>\n",
       "    .dataframe tbody tr th:only-of-type {\n",
       "        vertical-align: middle;\n",
       "    }\n",
       "\n",
       "    .dataframe tbody tr th {\n",
       "        vertical-align: top;\n",
       "    }\n",
       "\n",
       "    .dataframe thead th {\n",
       "        text-align: right;\n",
       "    }\n",
       "</style>\n",
       "<table border=\"1\" class=\"dataframe\">\n",
       "  <thead>\n",
       "    <tr style=\"text-align: right;\">\n",
       "      <th></th>\n",
       "      <th>title</th>\n",
       "      <th>puNumber</th>\n",
       "      <th>show_start_date</th>\n",
       "      <th>type</th>\n",
       "      <th>film_studio</th>\n",
       "      <th>production_country</th>\n",
       "      <th>director</th>\n",
       "      <th>producer</th>\n",
       "      <th>age_restriction</th>\n",
       "      <th>refundable_support</th>\n",
       "      <th>nonrefundable_support</th>\n",
       "      <th>budget</th>\n",
       "      <th>financing_source</th>\n",
       "      <th>ratings</th>\n",
       "      <th>genres</th>\n",
       "      <th>box_office</th>\n",
       "      <th>flg_bd_box_office</th>\n",
       "    </tr>\n",
       "  </thead>\n",
       "  <tbody>\n",
       "  </tbody>\n",
       "</table>\n",
       "</div>"
      ],
      "text/plain": [
       "Empty DataFrame\n",
       "Columns: [title, puNumber, show_start_date, type, film_studio, production_country, director, producer, age_restriction, refundable_support, nonrefundable_support, budget, financing_source, ratings, genres, box_office, flg_bd_box_office]\n",
       "Index: []"
      ]
     },
     "execution_count": 62,
     "metadata": {},
     "output_type": "execute_result"
    }
   ],
   "source": [
    "df[(df['refundable_support'] + df['nonrefundable_support'] == df['budget'])].head(5)"
   ]
  },
  {
   "cell_type": "markdown",
   "metadata": {},
   "source": [
    "well, replace 0 values of the `budget` column with the sum of `refundable_support` + `nonrefundable_support` **not allowed**"
   ]
  },
  {
   "cell_type": "markdown",
   "metadata": {},
   "source": [
    "**Replacing lines with budget = 0 with empty lines**  \n",
    "\n",
    "So that the data does not interfere with us in the future, I propose to reset the values."
   ]
  },
  {
   "cell_type": "code",
   "execution_count": 63,
   "metadata": {},
   "outputs": [],
   "source": [
    "id_bdg = df[(df['refundable_support'] + df['nonrefundable_support'] > df['budget'])]['puNumber'].to_list()"
   ]
  },
  {
   "cell_type": "code",
   "execution_count": 64,
   "metadata": {},
   "outputs": [
    {
     "data": {
      "text/plain": [
       "17"
      ]
     },
     "execution_count": 64,
     "metadata": {},
     "output_type": "execute_result"
    }
   ],
   "source": [
    "len(id_bdg)"
   ]
  },
  {
   "cell_type": "code",
   "execution_count": 66,
   "metadata": {},
   "outputs": [],
   "source": [
    "df['refundable_support'] = np.where(df.budget == 0,  np.nan , df['refundable_support'])\n",
    "df['nonrefundable_support'] = np.where(df.budget == 0,  np.nan , df['nonrefundable_support'])\n",
    "df['budget'] = np.where(df.budget == 0,  np.nan , df['budget'])"
   ]
  },
  {
   "cell_type": "markdown",
   "metadata": {},
   "source": [
    "Replacement check:"
   ]
  },
  {
   "cell_type": "code",
   "execution_count": 67,
   "metadata": {},
   "outputs": [
    {
     "data": {
      "text/html": [
       "<div>\n",
       "<style scoped>\n",
       "    .dataframe tbody tr th:only-of-type {\n",
       "        vertical-align: middle;\n",
       "    }\n",
       "\n",
       "    .dataframe tbody tr th {\n",
       "        vertical-align: top;\n",
       "    }\n",
       "\n",
       "    .dataframe thead th {\n",
       "        text-align: right;\n",
       "    }\n",
       "</style>\n",
       "<table border=\"1\" class=\"dataframe\">\n",
       "  <thead>\n",
       "    <tr style=\"text-align: right;\">\n",
       "      <th></th>\n",
       "      <th>budget</th>\n",
       "      <th>refundable_support</th>\n",
       "      <th>nonrefundable_support</th>\n",
       "    </tr>\n",
       "  </thead>\n",
       "  <tbody>\n",
       "    <tr>\n",
       "      <th>2053</th>\n",
       "      <td>NaN</td>\n",
       "      <td>NaN</td>\n",
       "      <td>NaN</td>\n",
       "    </tr>\n",
       "    <tr>\n",
       "      <th>2058</th>\n",
       "      <td>NaN</td>\n",
       "      <td>NaN</td>\n",
       "      <td>NaN</td>\n",
       "    </tr>\n",
       "    <tr>\n",
       "      <th>2472</th>\n",
       "      <td>NaN</td>\n",
       "      <td>NaN</td>\n",
       "      <td>NaN</td>\n",
       "    </tr>\n",
       "  </tbody>\n",
       "</table>\n",
       "</div>"
      ],
      "text/plain": [
       "     budget refundable_support nonrefundable_support\n",
       "2053    NaN                NaN                   NaN\n",
       "2058    NaN                NaN                   NaN\n",
       "2472    NaN                NaN                   NaN"
      ]
     },
     "execution_count": 67,
     "metadata": {},
     "output_type": "execute_result"
    }
   ],
   "source": [
    "df[df['puNumber'].isin(id_bdg)][['budget','refundable_support','nonrefundable_support']].head(3)"
   ]
  },
  {
   "cell_type": "markdown",
   "metadata": {},
   "source": [
    "**Conclusion**\n",
    "- `ratings` - the distribution has a profile similar to normal, I have no comments on the indicator\n",
    "- `box_office` - for **35%** of all completed rows, fees do not exceed **0.5** million rubles, separately created a flag column `flg_bd_box_office` to highlight outliers by indicator\n",
    "- complex `refundable_support`, `nonrefundable_support`, `budget` for **5%** of all completed records, the value of the total budget turned out to be incorrect (less than the amount of reimbursable and non-refundable state support), it was decided to reset the values of all three variables ( volume does not seem critical)"
   ]
  },
  {
   "cell_type": "markdown",
   "metadata": {
    "id": "Eu6oWp2CgFyS"
   },
   "source": [
    "#### Step 2.6. Add new columns"
   ]
  },
  {
   "cell_type": "markdown",
   "metadata": {
    "id": "7GgW-UpAgFyS"
   },
   "source": [
    "- Create a column with information about the rental year. Select the year from the movie's release date."
   ]
  },
  {
   "cell_type": "markdown",
   "metadata": {},
   "source": [
    "Nothing complicated, previously converted the column into a date."
   ]
  },
  {
   "cell_type": "code",
   "execution_count": 68,
   "metadata": {
    "id": "I-yd1DkWgFyT"
   },
   "outputs": [],
   "source": [
    "df['year_start'] = (df['show_start_date']).dt.year"
   ]
  },
  {
   "cell_type": "markdown",
   "metadata": {
    "id": "nFTDLDYOgFyT"
   },
   "source": [
    "- Create two columns: with the first and last name of the main director and the main genre of the film. The columns will include the first values from the list of directors and genres, respectively."
   ]
  },
  {
   "cell_type": "code",
   "execution_count": 69,
   "metadata": {},
   "outputs": [],
   "source": [
    "lst_new_clmn = {'genres': 'main_genre', \n",
    "                'director': 'main_director'}"
   ]
  },
  {
   "cell_type": "code",
   "execution_count": 70,
   "metadata": {},
   "outputs": [],
   "source": [
    "def new_clmn_nms(dct, data = df, sep = ','):\n",
    "    for i in dct:\n",
    "        data[dct.get(i)] = data[i].str.split(sep ,expand=True)[0] \n",
    "    return data"
   ]
  },
  {
   "cell_type": "code",
   "execution_count": 71,
   "metadata": {},
   "outputs": [],
   "source": [
    "df = new_clmn_nms(lst_new_clmn, df)"
   ]
  },
  {
   "cell_type": "markdown",
   "metadata": {},
   "source": [
    "Show new columns"
   ]
  },
  {
   "cell_type": "code",
   "execution_count": 72,
   "metadata": {},
   "outputs": [
    {
     "data": {
      "text/html": [
       "<div>\n",
       "<style scoped>\n",
       "    .dataframe tbody tr th:only-of-type {\n",
       "        vertical-align: middle;\n",
       "    }\n",
       "\n",
       "    .dataframe tbody tr th {\n",
       "        vertical-align: top;\n",
       "    }\n",
       "\n",
       "    .dataframe thead th {\n",
       "        text-align: right;\n",
       "    }\n",
       "</style>\n",
       "<table border=\"1\" class=\"dataframe\">\n",
       "  <thead>\n",
       "    <tr style=\"text-align: right;\">\n",
       "      <th></th>\n",
       "      <th>main_genre</th>\n",
       "    </tr>\n",
       "  </thead>\n",
       "  <tbody>\n",
       "    <tr>\n",
       "      <th>драма</th>\n",
       "      <td>1688</td>\n",
       "    </tr>\n",
       "    <tr>\n",
       "      <th>комедия</th>\n",
       "      <td>696</td>\n",
       "    </tr>\n",
       "    <tr>\n",
       "      <th>боевик</th>\n",
       "      <td>617</td>\n",
       "    </tr>\n",
       "    <tr>\n",
       "      <th>ужасы</th>\n",
       "      <td>573</td>\n",
       "    </tr>\n",
       "    <tr>\n",
       "      <th>мультфильм</th>\n",
       "      <td>538</td>\n",
       "    </tr>\n",
       "    <tr>\n",
       "      <th>триллер</th>\n",
       "      <td>521</td>\n",
       "    </tr>\n",
       "    <tr>\n",
       "      <th>фантастика</th>\n",
       "      <td>410</td>\n",
       "    </tr>\n",
       "    <tr>\n",
       "      <th>мелодрама</th>\n",
       "      <td>383</td>\n",
       "    </tr>\n",
       "    <tr>\n",
       "      <th>фэнтези</th>\n",
       "      <td>358</td>\n",
       "    </tr>\n",
       "    <tr>\n",
       "      <th>документальный</th>\n",
       "      <td>219</td>\n",
       "    </tr>\n",
       "    <tr>\n",
       "      <th>аниме</th>\n",
       "      <td>74</td>\n",
       "    </tr>\n",
       "    <tr>\n",
       "      <th>мюзикл</th>\n",
       "      <td>64</td>\n",
       "    </tr>\n",
       "    <tr>\n",
       "      <th>детектив</th>\n",
       "      <td>56</td>\n",
       "    </tr>\n",
       "    <tr>\n",
       "      <th>приключения</th>\n",
       "      <td>55</td>\n",
       "    </tr>\n",
       "    <tr>\n",
       "      <th>военный</th>\n",
       "      <td>46</td>\n",
       "    </tr>\n",
       "    <tr>\n",
       "      <th>криминал</th>\n",
       "      <td>39</td>\n",
       "    </tr>\n",
       "    <tr>\n",
       "      <th>биография</th>\n",
       "      <td>33</td>\n",
       "    </tr>\n",
       "    <tr>\n",
       "      <th>семейный</th>\n",
       "      <td>32</td>\n",
       "    </tr>\n",
       "    <tr>\n",
       "      <th>детский</th>\n",
       "      <td>28</td>\n",
       "    </tr>\n",
       "    <tr>\n",
       "      <th>история</th>\n",
       "      <td>26</td>\n",
       "    </tr>\n",
       "    <tr>\n",
       "      <th>короткометражка</th>\n",
       "      <td>13</td>\n",
       "    </tr>\n",
       "    <tr>\n",
       "      <th>концерт</th>\n",
       "      <td>12</td>\n",
       "    </tr>\n",
       "    <tr>\n",
       "      <th>спорт</th>\n",
       "      <td>9</td>\n",
       "    </tr>\n",
       "    <tr>\n",
       "      <th>вестерн</th>\n",
       "      <td>7</td>\n",
       "    </tr>\n",
       "    <tr>\n",
       "      <th>музыка</th>\n",
       "      <td>7</td>\n",
       "    </tr>\n",
       "    <tr>\n",
       "      <th>для взрослых</th>\n",
       "      <td>3</td>\n",
       "    </tr>\n",
       "    <tr>\n",
       "      <th>фильм-нуар</th>\n",
       "      <td>1</td>\n",
       "    </tr>\n",
       "    <tr>\n",
       "      <th>реальное ТВ</th>\n",
       "      <td>1</td>\n",
       "    </tr>\n",
       "  </tbody>\n",
       "</table>\n",
       "</div>"
      ],
      "text/plain": [
       "                 main_genre\n",
       "драма                  1688\n",
       "комедия                 696\n",
       "боевик                  617\n",
       "ужасы                   573\n",
       "мультфильм              538\n",
       "триллер                 521\n",
       "фантастика              410\n",
       "мелодрама               383\n",
       "фэнтези                 358\n",
       "документальный          219\n",
       "аниме                    74\n",
       "мюзикл                   64\n",
       "детектив                 56\n",
       "приключения              55\n",
       "военный                  46\n",
       "криминал                 39\n",
       "биография                33\n",
       "семейный                 32\n",
       "детский                  28\n",
       "история                  26\n",
       "короткометражка          13\n",
       "концерт                  12\n",
       "спорт                     9\n",
       "вестерн                   7\n",
       "музыка                    7\n",
       "для взрослых              3\n",
       "фильм-нуар                1\n",
       "реальное ТВ               1"
      ]
     },
     "metadata": {},
     "output_type": "display_data"
    },
    {
     "data": {
      "text/html": [
       "<div>\n",
       "<style scoped>\n",
       "    .dataframe tbody tr th:only-of-type {\n",
       "        vertical-align: middle;\n",
       "    }\n",
       "\n",
       "    .dataframe tbody tr th {\n",
       "        vertical-align: top;\n",
       "    }\n",
       "\n",
       "    .dataframe thead th {\n",
       "        text-align: right;\n",
       "    }\n",
       "</style>\n",
       "<table border=\"1\" class=\"dataframe\">\n",
       "  <thead>\n",
       "    <tr style=\"text-align: right;\">\n",
       "      <th></th>\n",
       "      <th>main_director</th>\n",
       "    </tr>\n",
       "  </thead>\n",
       "  <tbody>\n",
       "    <tr>\n",
       "      <th>О.Семёнова</th>\n",
       "      <td>47</td>\n",
       "    </tr>\n",
       "    <tr>\n",
       "      <th>Стивен Содерберг</th>\n",
       "      <td>17</td>\n",
       "    </tr>\n",
       "    <tr>\n",
       "      <th>Д.Червяцов</th>\n",
       "      <td>17</td>\n",
       "    </tr>\n",
       "    <tr>\n",
       "      <th>Ридли Скотт</th>\n",
       "      <td>16</td>\n",
       "    </tr>\n",
       "    <tr>\n",
       "      <th>Тиль Швайгер</th>\n",
       "      <td>14</td>\n",
       "    </tr>\n",
       "    <tr>\n",
       "      <th>...</th>\n",
       "      <td>...</td>\n",
       "    </tr>\n",
       "    <tr>\n",
       "      <th>А.Злобин</th>\n",
       "      <td>1</td>\n",
       "    </tr>\n",
       "    <tr>\n",
       "      <th>Н.Антонов</th>\n",
       "      <td>1</td>\n",
       "    </tr>\n",
       "    <tr>\n",
       "      <th>Карлус Диегос</th>\n",
       "      <td>1</td>\n",
       "    </tr>\n",
       "    <tr>\n",
       "      <th>Е.Дворецкая (псевдоним - Елена Лобачева-Дворецкая)</th>\n",
       "      <td>1</td>\n",
       "    </tr>\n",
       "    <tr>\n",
       "      <th>И.Трусов</th>\n",
       "      <td>1</td>\n",
       "    </tr>\n",
       "  </tbody>\n",
       "</table>\n",
       "<p>4611 rows × 1 columns</p>\n",
       "</div>"
      ],
      "text/plain": [
       "                                                    main_director\n",
       "О.Семёнова                                                     47\n",
       "Стивен Содерберг                                               17\n",
       "Д.Червяцов                                                     17\n",
       "Ридли Скотт                                                    16\n",
       "Тиль Швайгер                                                   14\n",
       "...                                                           ...\n",
       "А.Злобин                                                        1\n",
       "Н.Антонов                                                       1\n",
       "Карлус Диегос                                                   1\n",
       "Е.Дворецкая (псевдоним - Елена Лобачева-Дворецкая)              1\n",
       "И.Трусов                                                        1\n",
       "\n",
       "[4611 rows x 1 columns]"
      ]
     },
     "metadata": {},
     "output_type": "display_data"
    }
   ],
   "source": [
    "for i in lst_new_clmn:\n",
    "    display(df[lst_new_clmn.get(i)].value_counts().to_frame().sort_values(by = lst_new_clmn.get(i), ascending = False))"
   ]
  },
  {
   "cell_type": "markdown",
   "metadata": {
    "id": "1FsCXHwdgFyU"
   },
   "source": [
    "- Calculate what proportion of the total budget of the film is government support."
   ]
  },
  {
   "cell_type": "code",
   "execution_count": 73,
   "metadata": {
    "id": "LV6qFuZLgFyV"
   },
   "outputs": [],
   "source": [
    "df['part_gov_help'] = (df['nonrefundable_support'] + df['refundable_support'])*100/df['budget']"
   ]
  },
  {
   "cell_type": "code",
   "execution_count": 74,
   "metadata": {},
   "outputs": [
    {
     "data": {
      "image/png": "[encoded data removed]",
      "text/plain": [
       "<Figure size 720x216 with 1 Axes>"
      ]
     },
     "metadata": {
      "needs_background": "light"
     },
     "output_type": "display_data"
    }
   ],
   "source": [
    "df['part_gov_help'].hist(bins = 10, range = (0,100), figsize=(10, 3))\n",
    "plt.title('Distribution of state shares support by the number of films(median-'+ str(round(df['part_gov_help'].median(),1)) + ')')\n",
    "plt.xlabel(\"The share of state support in the budget of the film, %\")\n",
    "plt.ylabel(\"Number of films\")\n",
    "plt.show()"
   ]
  },
  {
   "cell_type": "markdown",
   "metadata": {},
   "source": [
    "- the share of state support in the total budget of the film - **60%** by median value"
   ]
  },
  {
   "cell_type": "code",
   "execution_count": 75,
   "metadata": {},
   "outputs": [
    {
     "data": {
      "text/plain": [
       "59.2"
      ]
     },
     "execution_count": 75,
     "metadata": {},
     "output_type": "execute_result"
    }
   ],
   "source": [
    "round(df['part_gov_help'].median(), 1)"
   ]
  },
  {
   "cell_type": "markdown",
   "metadata": {},
   "source": [
    "**Conclusion**\n",
    "- in this paragraph, we created 4 columns (`year_start`, `main_genre`, `main_director`, `part_gov_help`) based on the data already available\n",
    "- to work with text fields, we wrote a function **new_clmn_nms**"
   ]
  },
  {
   "cell_type": "markdown",
   "metadata": {
    "id": "6t4EukPLgFyV"
   },
   "source": [
    "### Step 3: Conduct an exploratory data analysis"
   ]
  },
  {
   "cell_type": "markdown",
   "metadata": {
    "id": "vAH8WCzugFyV"
   },
   "source": [
    "- See how many films were released each year. Please note that not all films have theatrical release figures. Calculate the share of films with the specified information about rental in cinemas."
   ]
  },
  {
   "cell_type": "markdown",
   "metadata": {},
   "source": [
    "Here we need to remember about not obvious duplicates, when 1 film received several rental certificates."
   ]
  },
  {
   "cell_type": "code",
   "execution_count": 76,
   "metadata": {},
   "outputs": [],
   "source": [
    "df_clear = df[['title', 'year_start', 'main_genre', 'main_director', 'part_gov_help', 'box_office']].drop_duplicates()"
   ]
  },
  {
   "cell_type": "code",
   "execution_count": 77,
   "metadata": {},
   "outputs": [
    {
     "name": "stdout",
     "output_type": "stream",
     "text": [
      "7485 7205\n"
     ]
    }
   ],
   "source": [
    "print(len(df), len(df_clear))"
   ]
  },
  {
   "cell_type": "code",
   "execution_count": 78,
   "metadata": {},
   "outputs": [
    {
     "data": {
      "image/png": "[encoded data removed]",
      "text/plain": [
       "<Figure size 1080x360 with 2 Axes>"
      ]
     },
     "metadata": {
      "needs_background": "light"
     },
     "output_type": "display_data"
    }
   ],
   "source": [
    "fig, axes = plt.subplots(nrows = 1, ncols = 2, figsize = (15, 5))\n",
    "\n",
    "axes[0].title.set_text(\"Dynamics of the number of films in the practice (without data cleaning)\")\n",
    "axes[1].title.set_text(\"Dynamics of the number of films in the practice (with data cleaning)\")\n",
    "\n",
    "df['year_start'].hist(bins = 10, alpha=0.5, ax = axes[0], label = 'All films in cinema')\n",
    "df.query('box_office >= 0')['year_start'].hist(bins = 10, alpha=0.5, ax = axes[0], label = 'Films with notable box office')\n",
    "axes[0].legend(loc ='lower right')\n",
    "\n",
    "df_clear['year_start'].hist(bins = 10, alpha=0.5, ax = axes[1], label = 'All films in cinema')\n",
    "df_clear.query('box_office >= 0')['year_start'].hist(bins = 10, alpha=0.5, ax = axes[1], label = 'Films with notable box office')\n",
    "axes[1].legend(loc ='lower right')\n",
    "\n",
    "fig.tight_layout()"
   ]
  },
  {
   "cell_type": "code",
   "execution_count": 79,
   "metadata": {},
   "outputs": [
    {
     "data": {
      "text/plain": [
       "836"
      ]
     },
     "execution_count": 79,
     "metadata": {},
     "output_type": "execute_result"
    }
   ],
   "source": [
    "df_clear['title'].value_counts().to_frame().query('title > 1').reset_index()['title'].sum()"
   ]
  },
  {
   "cell_type": "code",
   "execution_count": 80,
   "metadata": {},
   "outputs": [
    {
     "data": {
      "text/plain": [
       "1272"
      ]
     },
     "execution_count": 80,
     "metadata": {},
     "output_type": "execute_result"
    }
   ],
   "source": [
    "df['title'].value_counts().to_frame().query('title > 1').reset_index()['title'].sum()"
   ]
  },
  {
   "cell_type": "markdown",
   "metadata": {},
   "source": [
    "It can be seen that my method did not help much to clean up the data, in principle it was possible not to drop duplicates and not create a new dataframe."
   ]
  },
  {
   "cell_type": "code",
   "execution_count": 81,
   "metadata": {},
   "outputs": [],
   "source": [
    "df_flms_yrs = df.groupby('year_start')['title'].count().to_frame().reset_index()"
   ]
  },
  {
   "cell_type": "code",
   "execution_count": 82,
   "metadata": {},
   "outputs": [],
   "source": [
    "df_flms_yrs_wth_inf =  df.query('box_office >= 0').groupby('year_start')['title'].count().to_frame().reset_index()"
   ]
  },
  {
   "cell_type": "code",
   "execution_count": 83,
   "metadata": {},
   "outputs": [],
   "source": [
    "df_flms_yrs = df_flms_yrs.merge(df_flms_yrs_wth_inf, how = 'left', on = 'year_start')"
   ]
  },
  {
   "cell_type": "code",
   "execution_count": 84,
   "metadata": {},
   "outputs": [],
   "source": [
    "df_flms_yrs.columns = ['year_start', 'cnt_all', 'cnt_wth_inf']"
   ]
  },
  {
   "cell_type": "code",
   "execution_count": 85,
   "metadata": {},
   "outputs": [],
   "source": [
    "df_flms_yrs['part_wth_info'] = round(df_flms_yrs['cnt_wth_inf']*100/df_flms_yrs['cnt_all'],1)"
   ]
  },
  {
   "cell_type": "markdown",
   "metadata": {},
   "source": [
    "Let's display the dynamics of the share and number of films in the box office in the form of a table"
   ]
  },
  {
   "cell_type": "code",
   "execution_count": 86,
   "metadata": {},
   "outputs": [
    {
     "data": {
      "text/html": [
       "<div>\n",
       "<style scoped>\n",
       "    .dataframe tbody tr th:only-of-type {\n",
       "        vertical-align: middle;\n",
       "    }\n",
       "\n",
       "    .dataframe tbody tr th {\n",
       "        vertical-align: top;\n",
       "    }\n",
       "\n",
       "    .dataframe thead th {\n",
       "        text-align: right;\n",
       "    }\n",
       "</style>\n",
       "<table border=\"1\" class=\"dataframe\">\n",
       "  <thead>\n",
       "    <tr style=\"text-align: right;\">\n",
       "      <th></th>\n",
       "      <th>year_start</th>\n",
       "      <th>cnt_all</th>\n",
       "      <th>cnt_wth_inf</th>\n",
       "      <th>part_wth_info</th>\n",
       "    </tr>\n",
       "  </thead>\n",
       "  <tbody>\n",
       "    <tr>\n",
       "      <th>0</th>\n",
       "      <td>2010</td>\n",
       "      <td>984</td>\n",
       "      <td>105</td>\n",
       "      <td>10.70</td>\n",
       "    </tr>\n",
       "    <tr>\n",
       "      <th>1</th>\n",
       "      <td>2011</td>\n",
       "      <td>622</td>\n",
       "      <td>109</td>\n",
       "      <td>17.50</td>\n",
       "    </tr>\n",
       "    <tr>\n",
       "      <th>2</th>\n",
       "      <td>2012</td>\n",
       "      <td>593</td>\n",
       "      <td>128</td>\n",
       "      <td>21.60</td>\n",
       "    </tr>\n",
       "    <tr>\n",
       "      <th>3</th>\n",
       "      <td>2013</td>\n",
       "      <td>630</td>\n",
       "      <td>184</td>\n",
       "      <td>29.20</td>\n",
       "    </tr>\n",
       "    <tr>\n",
       "      <th>4</th>\n",
       "      <td>2014</td>\n",
       "      <td>807</td>\n",
       "      <td>279</td>\n",
       "      <td>34.60</td>\n",
       "    </tr>\n",
       "    <tr>\n",
       "      <th>5</th>\n",
       "      <td>2015</td>\n",
       "      <td>705</td>\n",
       "      <td>465</td>\n",
       "      <td>66.00</td>\n",
       "    </tr>\n",
       "    <tr>\n",
       "      <th>6</th>\n",
       "      <td>2016</td>\n",
       "      <td>818</td>\n",
       "      <td>526</td>\n",
       "      <td>64.30</td>\n",
       "    </tr>\n",
       "    <tr>\n",
       "      <th>7</th>\n",
       "      <td>2017</td>\n",
       "      <td>505</td>\n",
       "      <td>357</td>\n",
       "      <td>70.70</td>\n",
       "    </tr>\n",
       "    <tr>\n",
       "      <th>8</th>\n",
       "      <td>2018</td>\n",
       "      <td>891</td>\n",
       "      <td>475</td>\n",
       "      <td>53.30</td>\n",
       "    </tr>\n",
       "    <tr>\n",
       "      <th>9</th>\n",
       "      <td>2019</td>\n",
       "      <td>930</td>\n",
       "      <td>530</td>\n",
       "      <td>57.00</td>\n",
       "    </tr>\n",
       "  </tbody>\n",
       "</table>\n",
       "</div>"
      ],
      "text/plain": [
       "   year_start  cnt_all  cnt_wth_inf  part_wth_info\n",
       "0        2010      984          105          10.70\n",
       "1        2011      622          109          17.50\n",
       "2        2012      593          128          21.60\n",
       "3        2013      630          184          29.20\n",
       "4        2014      807          279          34.60\n",
       "5        2015      705          465          66.00\n",
       "6        2016      818          526          64.30\n",
       "7        2017      505          357          70.70\n",
       "8        2018      891          475          53.30\n",
       "9        2019      930          530          57.00"
      ]
     },
     "execution_count": 86,
     "metadata": {},
     "output_type": "execute_result"
    }
   ],
   "source": [
    "df_flms_yrs"
   ]
  },
  {
   "cell_type": "code",
   "execution_count": 87,
   "metadata": {},
   "outputs": [
    {
     "data": {
      "image/png": "[encoded data removed]",
      "text/plain": [
       "<Figure size 1080x216 with 2 Axes>"
      ]
     },
     "metadata": {
      "needs_background": "light"
     },
     "output_type": "display_data"
    }
   ],
   "source": [
    "df_flms_yrs.plot(x = 'year_start', y = ['cnt_all', 'cnt_wth_inf', 'part_wth_info'] , style='o-' ,\n",
    "               grid=True, secondary_y = ['part_wth_info'], \n",
    "             figsize=(15, 3)),\n",
    "plt.title(\"Graph of the number of films by year with and without box office data + share of films with box office information\")\n",
    "plt.show()"
   ]
  },
  {
   "cell_type": "code",
   "execution_count": 88,
   "metadata": {},
   "outputs": [
    {
     "data": {
      "image/png": "[encoded data removed]",
      "text/plain": [
       "<Figure size 1080x216 with 1 Axes>"
      ]
     },
     "metadata": {
      "needs_background": "light"
     },
     "output_type": "display_data"
    }
   ],
   "source": [
    "df['year_start'].hist(bins = 10, alpha=0.5, figsize = (15,3))\n",
    "plt.title(\"All films in cinema\")\n",
    "plt.show()"
   ]
  },
  {
   "cell_type": "markdown",
   "metadata": {},
   "source": [
    "- in 2010 the number of rental certificates issued was maximum\n",
    "- there is a general trend towards a gradual increase in the number of films in the box office from 2011 to 2019\n",
    "- it can also be seen that the share of films with the specified information about box office is minimal at the beginning of observations (2010) and then grows until 2019"
   ]
  },
  {
   "cell_type": "markdown",
   "metadata": {
    "id": "BEOdcIrIgFyW"
   },
   "source": [
    "- Study how the dynamics of rental has changed over the years. In which year was the lowest fee? And the maximum?"
   ]
  },
  {
   "cell_type": "code",
   "execution_count": 89,
   "metadata": {},
   "outputs": [],
   "source": [
    "df_box = df.pivot_table(values = 'box_office', index = 'year_start', \n",
    "                aggfunc = 'sum').fillna(0).reset_index()  "
   ]
  },
  {
   "cell_type": "code",
   "execution_count": 90,
   "metadata": {},
   "outputs": [
    {
     "data": {
      "text/html": [
       "<div>\n",
       "<style scoped>\n",
       "    .dataframe tbody tr th:only-of-type {\n",
       "        vertical-align: middle;\n",
       "    }\n",
       "\n",
       "    .dataframe tbody tr th {\n",
       "        vertical-align: top;\n",
       "    }\n",
       "\n",
       "    .dataframe thead th {\n",
       "        text-align: right;\n",
       "    }\n",
       "</style>\n",
       "<table border=\"1\" class=\"dataframe\">\n",
       "  <thead>\n",
       "    <tr style=\"text-align: right;\">\n",
       "      <th></th>\n",
       "      <th>year_start</th>\n",
       "      <th>box_office</th>\n",
       "    </tr>\n",
       "  </thead>\n",
       "  <tbody>\n",
       "    <tr>\n",
       "      <th>0</th>\n",
       "      <td>2010</td>\n",
       "      <td>2428654</td>\n",
       "    </tr>\n",
       "    <tr>\n",
       "      <th>1</th>\n",
       "      <td>2011</td>\n",
       "      <td>14102765</td>\n",
       "    </tr>\n",
       "    <tr>\n",
       "      <th>2</th>\n",
       "      <td>2012</td>\n",
       "      <td>6955423</td>\n",
       "    </tr>\n",
       "    <tr>\n",
       "      <th>3</th>\n",
       "      <td>2013</td>\n",
       "      <td>29799708</td>\n",
       "    </tr>\n",
       "    <tr>\n",
       "      <th>4</th>\n",
       "      <td>2014</td>\n",
       "      <td>7444951857</td>\n",
       "    </tr>\n",
       "    <tr>\n",
       "      <th>5</th>\n",
       "      <td>2015</td>\n",
       "      <td>39497365190</td>\n",
       "    </tr>\n",
       "    <tr>\n",
       "      <th>6</th>\n",
       "      <td>2016</td>\n",
       "      <td>47866299757</td>\n",
       "    </tr>\n",
       "    <tr>\n",
       "      <th>7</th>\n",
       "      <td>2017</td>\n",
       "      <td>48563707218</td>\n",
       "    </tr>\n",
       "    <tr>\n",
       "      <th>8</th>\n",
       "      <td>2018</td>\n",
       "      <td>49668403134</td>\n",
       "    </tr>\n",
       "    <tr>\n",
       "      <th>9</th>\n",
       "      <td>2019</td>\n",
       "      <td>48425708783</td>\n",
       "    </tr>\n",
       "  </tbody>\n",
       "</table>\n",
       "</div>"
      ],
      "text/plain": [
       "   year_start   box_office\n",
       "0        2010      2428654\n",
       "1        2011     14102765\n",
       "2        2012      6955423\n",
       "3        2013     29799708\n",
       "4        2014   7444951857\n",
       "5        2015  39497365190\n",
       "6        2016  47866299757\n",
       "7        2017  48563707218\n",
       "8        2018  49668403134\n",
       "9        2019  48425708783"
      ]
     },
     "execution_count": 90,
     "metadata": {},
     "output_type": "execute_result"
    }
   ],
   "source": [
    "df_box"
   ]
  },
  {
   "cell_type": "code",
   "execution_count": 91,
   "metadata": {
    "scrolled": true
   },
   "outputs": [
    {
     "data": {
      "image/png": "[encoded data removed]",
      "text/plain": [
       "<Figure size 1080x216 with 1 Axes>"
      ]
     },
     "metadata": {
      "needs_background": "light"
     },
     "output_type": "display_data"
    }
   ],
   "source": [
    "df_box.plot(x = 'year_start', y = 'box_office' , style='o-',  grid = True, figsize=(15, 3))\n",
    "plt.title(\"Dynamics of fees by years, rub\")\n",
    "plt.show()"
   ]
  },
  {
   "cell_type": "code",
   "execution_count": 93,
   "metadata": {},
   "outputs": [
    {
     "name": "stdout",
     "output_type": "stream",
     "text": [
      "Minimum fees 2428654 YR 2010\n",
      "Maximum fees 49668403134 YR 2018\n"
     ]
    }
   ],
   "source": [
    "print('Minimum fees' , df_box['box_office'].min(), 'YR', \n",
    "    df_box[df_box['box_office'] == df_box['box_office'].min()].iloc[0]['year_start'])\n",
    "print('Maximum fees' , df_box['box_office'].max(), 'YR',\n",
    "    df_box[df_box['box_office'] == df_box['box_office'].max()].iloc[0]['year_start'])\n",
    "     "
   ]
  },
  {
   "cell_type": "markdown",
   "metadata": {},
   "source": [
    "**Conclusion**\n",
    "- collection volumes began to grow from 2015 (which correlates with the increase in the number of rental certificates in the same period)"
   ]
  },
  {
   "cell_type": "markdown",
   "metadata": {
    "id": "G-7qS-N-gFyY"
   },
   "source": [
    "- Using the pivot table, calculate the average and median fees for each year."
   ]
  },
  {
   "cell_type": "markdown",
   "metadata": {
    "id": "jmp-rgg9gFyY"
   },
   "source": [
    "In this study, I propose to consider in more detail the extreme values of the box_office parameter"
   ]
  },
  {
   "cell_type": "code",
   "execution_count": 94,
   "metadata": {
    "scrolled": true
   },
   "outputs": [
    {
     "ename": "TypeError",
     "evalue": "Int64",
     "output_type": "error",
     "traceback": [
      "\u001b[0;31m---------------------------------------------------------------------------\u001b[0m",
      "\u001b[0;31mTypeError\u001b[0m                                 Traceback (most recent call last)",
      "Input \u001b[0;32mIn [94]\u001b[0m, in \u001b[0;36m<module>\u001b[0;34m\u001b[0m\n\u001b[0;32m----> 1\u001b[0m \u001b[43mdf\u001b[49m\u001b[38;5;241;43m.\u001b[39;49m\u001b[43mpivot_table\u001b[49m\u001b[43m(\u001b[49m\u001b[43mvalues\u001b[49m\u001b[43m \u001b[49m\u001b[38;5;241;43m=\u001b[39;49m\u001b[43m \u001b[49m\u001b[38;5;124;43m'\u001b[39;49m\u001b[38;5;124;43mbox_office\u001b[39;49m\u001b[38;5;124;43m'\u001b[39;49m\u001b[43m,\u001b[49m\u001b[43m \u001b[49m\u001b[43mindex\u001b[49m\u001b[43m \u001b[49m\u001b[38;5;241;43m=\u001b[39;49m\u001b[43m \u001b[49m\u001b[38;5;124;43m'\u001b[39;49m\u001b[38;5;124;43myear_start\u001b[39;49m\u001b[38;5;124;43m'\u001b[39;49m\u001b[43m,\u001b[49m\n\u001b[1;32m      2\u001b[0m \u001b[43m                \u001b[49m\u001b[43maggfunc\u001b[49m\u001b[43m \u001b[49m\u001b[38;5;241;43m=\u001b[39;49m\u001b[43m \u001b[49m\u001b[43m[\u001b[49m\u001b[38;5;124;43m'\u001b[39;49m\u001b[38;5;124;43mcount\u001b[39;49m\u001b[38;5;124;43m'\u001b[39;49m\u001b[43m,\u001b[49m\u001b[38;5;124;43m'\u001b[39;49m\u001b[38;5;124;43mmean\u001b[39;49m\u001b[38;5;124;43m'\u001b[39;49m\u001b[43m,\u001b[49m\u001b[43m \u001b[49m\u001b[38;5;124;43m'\u001b[39;49m\u001b[38;5;124;43mmedian\u001b[39;49m\u001b[38;5;124;43m'\u001b[39;49m\u001b[43m]\u001b[49m\u001b[43m)\u001b[49m\u001b[38;5;241m.\u001b[39mfillna(\u001b[38;5;241m0\u001b[39m)\u001b[38;5;241m.\u001b[39mreset_index()\n",
      "File \u001b[0;32m/opt/anaconda3/lib/python3.8/site-packages/pandas/core/frame.py:8044\u001b[0m, in \u001b[0;36mDataFrame.pivot_table\u001b[0;34m(self, values, index, columns, aggfunc, fill_value, margins, dropna, margins_name, observed, sort)\u001b[0m\n\u001b[1;32m   8027\u001b[0m \u001b[38;5;129m@Substitution\u001b[39m(\u001b[38;5;124m\"\u001b[39m\u001b[38;5;124m\"\u001b[39m)\n\u001b[1;32m   8028\u001b[0m \u001b[38;5;129m@Appender\u001b[39m(_shared_docs[\u001b[38;5;124m\"\u001b[39m\u001b[38;5;124mpivot_table\u001b[39m\u001b[38;5;124m\"\u001b[39m])\n\u001b[1;32m   8029\u001b[0m \u001b[38;5;28;01mdef\u001b[39;00m \u001b[38;5;21mpivot_table\u001b[39m(\n\u001b[0;32m   (...)\u001b[0m\n\u001b[1;32m   8040\u001b[0m     sort\u001b[38;5;241m=\u001b[39m\u001b[38;5;28;01mTrue\u001b[39;00m,\n\u001b[1;32m   8041\u001b[0m ) \u001b[38;5;241m-\u001b[39m\u001b[38;5;241m>\u001b[39m DataFrame:\n\u001b[1;32m   8042\u001b[0m     \u001b[38;5;28;01mfrom\u001b[39;00m \u001b[38;5;21;01mpandas\u001b[39;00m\u001b[38;5;21;01m.\u001b[39;00m\u001b[38;5;21;01mcore\u001b[39;00m\u001b[38;5;21;01m.\u001b[39;00m\u001b[38;5;21;01mreshape\u001b[39;00m\u001b[38;5;21;01m.\u001b[39;00m\u001b[38;5;21;01mpivot\u001b[39;00m \u001b[38;5;28;01mimport\u001b[39;00m pivot_table\n\u001b[0;32m-> 8044\u001b[0m     \u001b[38;5;28;01mreturn\u001b[39;00m \u001b[43mpivot_table\u001b[49m\u001b[43m(\u001b[49m\n\u001b[1;32m   8045\u001b[0m \u001b[43m        \u001b[49m\u001b[38;5;28;43mself\u001b[39;49m\u001b[43m,\u001b[49m\n\u001b[1;32m   8046\u001b[0m \u001b[43m        \u001b[49m\u001b[43mvalues\u001b[49m\u001b[38;5;241;43m=\u001b[39;49m\u001b[43mvalues\u001b[49m\u001b[43m,\u001b[49m\n\u001b[1;32m   8047\u001b[0m \u001b[43m        \u001b[49m\u001b[43mindex\u001b[49m\u001b[38;5;241;43m=\u001b[39;49m\u001b[43mindex\u001b[49m\u001b[43m,\u001b[49m\n\u001b[1;32m   8048\u001b[0m \u001b[43m        \u001b[49m\u001b[43mcolumns\u001b[49m\u001b[38;5;241;43m=\u001b[39;49m\u001b[43mcolumns\u001b[49m\u001b[43m,\u001b[49m\n\u001b[1;32m   8049\u001b[0m \u001b[43m        \u001b[49m\u001b[43maggfunc\u001b[49m\u001b[38;5;241;43m=\u001b[39;49m\u001b[43maggfunc\u001b[49m\u001b[43m,\u001b[49m\n\u001b[1;32m   8050\u001b[0m \u001b[43m        \u001b[49m\u001b[43mfill_value\u001b[49m\u001b[38;5;241;43m=\u001b[39;49m\u001b[43mfill_value\u001b[49m\u001b[43m,\u001b[49m\n\u001b[1;32m   8051\u001b[0m \u001b[43m        \u001b[49m\u001b[43mmargins\u001b[49m\u001b[38;5;241;43m=\u001b[39;49m\u001b[43mmargins\u001b[49m\u001b[43m,\u001b[49m\n\u001b[1;32m   8052\u001b[0m \u001b[43m        \u001b[49m\u001b[43mdropna\u001b[49m\u001b[38;5;241;43m=\u001b[39;49m\u001b[43mdropna\u001b[49m\u001b[43m,\u001b[49m\n\u001b[1;32m   8053\u001b[0m \u001b[43m        \u001b[49m\u001b[43mmargins_name\u001b[49m\u001b[38;5;241;43m=\u001b[39;49m\u001b[43mmargins_name\u001b[49m\u001b[43m,\u001b[49m\n\u001b[1;32m   8054\u001b[0m \u001b[43m        \u001b[49m\u001b[43mobserved\u001b[49m\u001b[38;5;241;43m=\u001b[39;49m\u001b[43mobserved\u001b[49m\u001b[43m,\u001b[49m\n\u001b[1;32m   8055\u001b[0m \u001b[43m        \u001b[49m\u001b[43msort\u001b[49m\u001b[38;5;241;43m=\u001b[39;49m\u001b[43msort\u001b[49m\u001b[43m,\u001b[49m\n\u001b[1;32m   8056\u001b[0m \u001b[43m    \u001b[49m\u001b[43m)\u001b[49m\n",
      "File \u001b[0;32m/opt/anaconda3/lib/python3.8/site-packages/pandas/core/reshape/pivot.py:76\u001b[0m, in \u001b[0;36mpivot_table\u001b[0;34m(data, values, index, columns, aggfunc, fill_value, margins, dropna, margins_name, observed, sort)\u001b[0m\n\u001b[1;32m     74\u001b[0m keys \u001b[38;5;241m=\u001b[39m []\n\u001b[1;32m     75\u001b[0m \u001b[38;5;28;01mfor\u001b[39;00m func \u001b[38;5;129;01min\u001b[39;00m aggfunc:\n\u001b[0;32m---> 76\u001b[0m     _table \u001b[38;5;241m=\u001b[39m \u001b[43m__internal_pivot_table\u001b[49m\u001b[43m(\u001b[49m\n\u001b[1;32m     77\u001b[0m \u001b[43m        \u001b[49m\u001b[43mdata\u001b[49m\u001b[43m,\u001b[49m\n\u001b[1;32m     78\u001b[0m \u001b[43m        \u001b[49m\u001b[43mvalues\u001b[49m\u001b[38;5;241;43m=\u001b[39;49m\u001b[43mvalues\u001b[49m\u001b[43m,\u001b[49m\n\u001b[1;32m     79\u001b[0m \u001b[43m        \u001b[49m\u001b[43mindex\u001b[49m\u001b[38;5;241;43m=\u001b[39;49m\u001b[43mindex\u001b[49m\u001b[43m,\u001b[49m\n\u001b[1;32m     80\u001b[0m \u001b[43m        \u001b[49m\u001b[43mcolumns\u001b[49m\u001b[38;5;241;43m=\u001b[39;49m\u001b[43mcolumns\u001b[49m\u001b[43m,\u001b[49m\n\u001b[1;32m     81\u001b[0m \u001b[43m        \u001b[49m\u001b[43mfill_value\u001b[49m\u001b[38;5;241;43m=\u001b[39;49m\u001b[43mfill_value\u001b[49m\u001b[43m,\u001b[49m\n\u001b[1;32m     82\u001b[0m \u001b[43m        \u001b[49m\u001b[43maggfunc\u001b[49m\u001b[38;5;241;43m=\u001b[39;49m\u001b[43mfunc\u001b[49m\u001b[43m,\u001b[49m\n\u001b[1;32m     83\u001b[0m \u001b[43m        \u001b[49m\u001b[43mmargins\u001b[49m\u001b[38;5;241;43m=\u001b[39;49m\u001b[43mmargins\u001b[49m\u001b[43m,\u001b[49m\n\u001b[1;32m     84\u001b[0m \u001b[43m        \u001b[49m\u001b[43mdropna\u001b[49m\u001b[38;5;241;43m=\u001b[39;49m\u001b[43mdropna\u001b[49m\u001b[43m,\u001b[49m\n\u001b[1;32m     85\u001b[0m \u001b[43m        \u001b[49m\u001b[43mmargins_name\u001b[49m\u001b[38;5;241;43m=\u001b[39;49m\u001b[43mmargins_name\u001b[49m\u001b[43m,\u001b[49m\n\u001b[1;32m     86\u001b[0m \u001b[43m        \u001b[49m\u001b[43mobserved\u001b[49m\u001b[38;5;241;43m=\u001b[39;49m\u001b[43mobserved\u001b[49m\u001b[43m,\u001b[49m\n\u001b[1;32m     87\u001b[0m \u001b[43m        \u001b[49m\u001b[43msort\u001b[49m\u001b[38;5;241;43m=\u001b[39;49m\u001b[43msort\u001b[49m\u001b[43m,\u001b[49m\n\u001b[1;32m     88\u001b[0m \u001b[43m    \u001b[49m\u001b[43m)\u001b[49m\n\u001b[1;32m     89\u001b[0m     pieces\u001b[38;5;241m.\u001b[39mappend(_table)\n\u001b[1;32m     90\u001b[0m     keys\u001b[38;5;241m.\u001b[39mappend(\u001b[38;5;28mgetattr\u001b[39m(func, \u001b[38;5;124m\"\u001b[39m\u001b[38;5;124m__name__\u001b[39m\u001b[38;5;124m\"\u001b[39m, func))\n",
      "File \u001b[0;32m/opt/anaconda3/lib/python3.8/site-packages/pandas/core/reshape/pivot.py:187\u001b[0m, in \u001b[0;36m__internal_pivot_table\u001b[0;34m(data, values, index, columns, aggfunc, fill_value, margins, dropna, margins_name, observed, sort)\u001b[0m\n\u001b[1;32m    175\u001b[0m         \u001b[38;5;28;01mif\u001b[39;00m (\n\u001b[1;32m    176\u001b[0m             v \u001b[38;5;129;01min\u001b[39;00m data\n\u001b[1;32m    177\u001b[0m             \u001b[38;5;129;01mand\u001b[39;00m is_integer_dtype(data[v])\n\u001b[1;32m    178\u001b[0m             \u001b[38;5;129;01mand\u001b[39;00m v \u001b[38;5;129;01min\u001b[39;00m agged\n\u001b[1;32m    179\u001b[0m             \u001b[38;5;129;01mand\u001b[39;00m \u001b[38;5;129;01mnot\u001b[39;00m is_integer_dtype(agged[v])\n\u001b[1;32m    180\u001b[0m         ):\n\u001b[1;32m    181\u001b[0m             \u001b[38;5;28;01mif\u001b[39;00m \u001b[38;5;129;01mnot\u001b[39;00m \u001b[38;5;28misinstance\u001b[39m(agged[v], ABCDataFrame):\n\u001b[1;32m    182\u001b[0m                 \u001b[38;5;66;03m# exclude DataFrame case bc maybe_downcast_to_dtype expects\u001b[39;00m\n\u001b[1;32m    183\u001b[0m                 \u001b[38;5;66;03m#  ArrayLike\u001b[39;00m\n\u001b[1;32m    184\u001b[0m                 \u001b[38;5;66;03m# e.g. test_pivot_table_multiindex_columns_doctest_case\u001b[39;00m\n\u001b[1;32m    185\u001b[0m                 \u001b[38;5;66;03m#  agged.columns is a MultiIndex and 'v' is indexing only\u001b[39;00m\n\u001b[1;32m    186\u001b[0m                 \u001b[38;5;66;03m#  on its first level.\u001b[39;00m\n\u001b[0;32m--> 187\u001b[0m                 agged[v] \u001b[38;5;241m=\u001b[39m \u001b[43mmaybe_downcast_to_dtype\u001b[49m\u001b[43m(\u001b[49m\u001b[43magged\u001b[49m\u001b[43m[\u001b[49m\u001b[43mv\u001b[49m\u001b[43m]\u001b[49m\u001b[43m,\u001b[49m\u001b[43m \u001b[49m\u001b[43mdata\u001b[49m\u001b[43m[\u001b[49m\u001b[43mv\u001b[49m\u001b[43m]\u001b[49m\u001b[38;5;241;43m.\u001b[39;49m\u001b[43mdtype\u001b[49m\u001b[43m)\u001b[49m\n\u001b[1;32m    189\u001b[0m table \u001b[38;5;241m=\u001b[39m agged\n\u001b[1;32m    191\u001b[0m \u001b[38;5;66;03m# GH17038, this check should only happen if index is defined (not None)\u001b[39;00m\n",
      "File \u001b[0;32m/opt/anaconda3/lib/python3.8/site-packages/pandas/core/dtypes/cast.py:277\u001b[0m, in \u001b[0;36mmaybe_downcast_to_dtype\u001b[0;34m(result, dtype)\u001b[0m\n\u001b[1;32m    273\u001b[0m     dtype \u001b[38;5;241m=\u001b[39m np\u001b[38;5;241m.\u001b[39mdtype(dtype)\n\u001b[1;32m    275\u001b[0m \u001b[38;5;28;01mif\u001b[39;00m \u001b[38;5;129;01mnot\u001b[39;00m \u001b[38;5;28misinstance\u001b[39m(dtype, np\u001b[38;5;241m.\u001b[39mdtype):\n\u001b[1;32m    276\u001b[0m     \u001b[38;5;66;03m# enforce our signature annotation\u001b[39;00m\n\u001b[0;32m--> 277\u001b[0m     \u001b[38;5;28;01mraise\u001b[39;00m \u001b[38;5;167;01mTypeError\u001b[39;00m(dtype)  \u001b[38;5;66;03m# pragma: no cover\u001b[39;00m\n\u001b[1;32m    279\u001b[0m converted \u001b[38;5;241m=\u001b[39m maybe_downcast_numeric(result, dtype, do_round)\n\u001b[1;32m    280\u001b[0m \u001b[38;5;28;01mif\u001b[39;00m converted \u001b[38;5;129;01mis\u001b[39;00m \u001b[38;5;129;01mnot\u001b[39;00m result:\n",
      "\u001b[0;31mTypeError\u001b[0m: Int64"
     ]
    }
   ],
   "source": [
    "df.pivot_table(values = 'box_office', index = 'year_start',\n",
    "                aggfunc = ['count','mean', 'median']).fillna(0).reset_index()"
   ]
  },
  {
   "cell_type": "markdown",
   "metadata": {},
   "source": [
    "Detailed by the flag of extreme fees:"
   ]
  },
  {
   "cell_type": "code",
   "execution_count": 95,
   "metadata": {},
   "outputs": [
    {
     "ename": "TypeError",
     "evalue": "Int64",
     "output_type": "error",
     "traceback": [
      "\u001b[0;31m---------------------------------------------------------------------------\u001b[0m",
      "\u001b[0;31mTypeError\u001b[0m                                 Traceback (most recent call last)",
      "Input \u001b[0;32mIn [95]\u001b[0m, in \u001b[0;36m<module>\u001b[0;34m\u001b[0m\n\u001b[0;32m----> 1\u001b[0m \u001b[43mdf\u001b[49m\u001b[38;5;241;43m.\u001b[39;49m\u001b[43mpivot_table\u001b[49m\u001b[43m(\u001b[49m\u001b[43mvalues\u001b[49m\u001b[43m \u001b[49m\u001b[38;5;241;43m=\u001b[39;49m\u001b[43m \u001b[49m\u001b[38;5;124;43m'\u001b[39;49m\u001b[38;5;124;43mbox_office\u001b[39;49m\u001b[38;5;124;43m'\u001b[39;49m\u001b[43m,\u001b[49m\u001b[43m \u001b[49m\u001b[43mindex\u001b[49m\u001b[43m \u001b[49m\u001b[38;5;241;43m=\u001b[39;49m\u001b[43m \u001b[49m\u001b[38;5;124;43m'\u001b[39;49m\u001b[38;5;124;43myear_start\u001b[39;49m\u001b[38;5;124;43m'\u001b[39;49m\u001b[43m,\u001b[49m\u001b[43m \u001b[49m\u001b[43mcolumns\u001b[49m\u001b[43m \u001b[49m\u001b[38;5;241;43m=\u001b[39;49m\u001b[43m \u001b[49m\u001b[38;5;124;43m'\u001b[39;49m\u001b[38;5;124;43mflg_bd_box_office\u001b[39;49m\u001b[38;5;124;43m'\u001b[39;49m\u001b[43m,\u001b[49m\n\u001b[1;32m      2\u001b[0m \u001b[43m                \u001b[49m\u001b[43maggfunc\u001b[49m\u001b[43m \u001b[49m\u001b[38;5;241;43m=\u001b[39;49m\u001b[43m \u001b[49m\u001b[43m[\u001b[49m\u001b[38;5;124;43m'\u001b[39;49m\u001b[38;5;124;43mcount\u001b[39;49m\u001b[38;5;124;43m'\u001b[39;49m\u001b[43m,\u001b[49m\u001b[38;5;124;43m'\u001b[39;49m\u001b[38;5;124;43mmean\u001b[39;49m\u001b[38;5;124;43m'\u001b[39;49m\u001b[43m,\u001b[49m\u001b[43m \u001b[49m\u001b[38;5;124;43m'\u001b[39;49m\u001b[38;5;124;43mmedian\u001b[39;49m\u001b[38;5;124;43m'\u001b[39;49m\u001b[43m]\u001b[49m\u001b[43m)\u001b[49m\u001b[38;5;241m.\u001b[39mfillna(\u001b[38;5;241m0\u001b[39m)\u001b[38;5;241m.\u001b[39mreset_index()\n",
      "File \u001b[0;32m/opt/anaconda3/lib/python3.8/site-packages/pandas/core/frame.py:8044\u001b[0m, in \u001b[0;36mDataFrame.pivot_table\u001b[0;34m(self, values, index, columns, aggfunc, fill_value, margins, dropna, margins_name, observed, sort)\u001b[0m\n\u001b[1;32m   8027\u001b[0m \u001b[38;5;129m@Substitution\u001b[39m(\u001b[38;5;124m\"\u001b[39m\u001b[38;5;124m\"\u001b[39m)\n\u001b[1;32m   8028\u001b[0m \u001b[38;5;129m@Appender\u001b[39m(_shared_docs[\u001b[38;5;124m\"\u001b[39m\u001b[38;5;124mpivot_table\u001b[39m\u001b[38;5;124m\"\u001b[39m])\n\u001b[1;32m   8029\u001b[0m \u001b[38;5;28;01mdef\u001b[39;00m \u001b[38;5;21mpivot_table\u001b[39m(\n\u001b[0;32m   (...)\u001b[0m\n\u001b[1;32m   8040\u001b[0m     sort\u001b[38;5;241m=\u001b[39m\u001b[38;5;28;01mTrue\u001b[39;00m,\n\u001b[1;32m   8041\u001b[0m ) \u001b[38;5;241m-\u001b[39m\u001b[38;5;241m>\u001b[39m DataFrame:\n\u001b[1;32m   8042\u001b[0m     \u001b[38;5;28;01mfrom\u001b[39;00m \u001b[38;5;21;01mpandas\u001b[39;00m\u001b[38;5;21;01m.\u001b[39;00m\u001b[38;5;21;01mcore\u001b[39;00m\u001b[38;5;21;01m.\u001b[39;00m\u001b[38;5;21;01mreshape\u001b[39;00m\u001b[38;5;21;01m.\u001b[39;00m\u001b[38;5;21;01mpivot\u001b[39;00m \u001b[38;5;28;01mimport\u001b[39;00m pivot_table\n\u001b[0;32m-> 8044\u001b[0m     \u001b[38;5;28;01mreturn\u001b[39;00m \u001b[43mpivot_table\u001b[49m\u001b[43m(\u001b[49m\n\u001b[1;32m   8045\u001b[0m \u001b[43m        \u001b[49m\u001b[38;5;28;43mself\u001b[39;49m\u001b[43m,\u001b[49m\n\u001b[1;32m   8046\u001b[0m \u001b[43m        \u001b[49m\u001b[43mvalues\u001b[49m\u001b[38;5;241;43m=\u001b[39;49m\u001b[43mvalues\u001b[49m\u001b[43m,\u001b[49m\n\u001b[1;32m   8047\u001b[0m \u001b[43m        \u001b[49m\u001b[43mindex\u001b[49m\u001b[38;5;241;43m=\u001b[39;49m\u001b[43mindex\u001b[49m\u001b[43m,\u001b[49m\n\u001b[1;32m   8048\u001b[0m \u001b[43m        \u001b[49m\u001b[43mcolumns\u001b[49m\u001b[38;5;241;43m=\u001b[39;49m\u001b[43mcolumns\u001b[49m\u001b[43m,\u001b[49m\n\u001b[1;32m   8049\u001b[0m \u001b[43m        \u001b[49m\u001b[43maggfunc\u001b[49m\u001b[38;5;241;43m=\u001b[39;49m\u001b[43maggfunc\u001b[49m\u001b[43m,\u001b[49m\n\u001b[1;32m   8050\u001b[0m \u001b[43m        \u001b[49m\u001b[43mfill_value\u001b[49m\u001b[38;5;241;43m=\u001b[39;49m\u001b[43mfill_value\u001b[49m\u001b[43m,\u001b[49m\n\u001b[1;32m   8051\u001b[0m \u001b[43m        \u001b[49m\u001b[43mmargins\u001b[49m\u001b[38;5;241;43m=\u001b[39;49m\u001b[43mmargins\u001b[49m\u001b[43m,\u001b[49m\n\u001b[1;32m   8052\u001b[0m \u001b[43m        \u001b[49m\u001b[43mdropna\u001b[49m\u001b[38;5;241;43m=\u001b[39;49m\u001b[43mdropna\u001b[49m\u001b[43m,\u001b[49m\n\u001b[1;32m   8053\u001b[0m \u001b[43m        \u001b[49m\u001b[43mmargins_name\u001b[49m\u001b[38;5;241;43m=\u001b[39;49m\u001b[43mmargins_name\u001b[49m\u001b[43m,\u001b[49m\n\u001b[1;32m   8054\u001b[0m \u001b[43m        \u001b[49m\u001b[43mobserved\u001b[49m\u001b[38;5;241;43m=\u001b[39;49m\u001b[43mobserved\u001b[49m\u001b[43m,\u001b[49m\n\u001b[1;32m   8055\u001b[0m \u001b[43m        \u001b[49m\u001b[43msort\u001b[49m\u001b[38;5;241;43m=\u001b[39;49m\u001b[43msort\u001b[49m\u001b[43m,\u001b[49m\n\u001b[1;32m   8056\u001b[0m \u001b[43m    \u001b[49m\u001b[43m)\u001b[49m\n",
      "File \u001b[0;32m/opt/anaconda3/lib/python3.8/site-packages/pandas/core/reshape/pivot.py:76\u001b[0m, in \u001b[0;36mpivot_table\u001b[0;34m(data, values, index, columns, aggfunc, fill_value, margins, dropna, margins_name, observed, sort)\u001b[0m\n\u001b[1;32m     74\u001b[0m keys \u001b[38;5;241m=\u001b[39m []\n\u001b[1;32m     75\u001b[0m \u001b[38;5;28;01mfor\u001b[39;00m func \u001b[38;5;129;01min\u001b[39;00m aggfunc:\n\u001b[0;32m---> 76\u001b[0m     _table \u001b[38;5;241m=\u001b[39m \u001b[43m__internal_pivot_table\u001b[49m\u001b[43m(\u001b[49m\n\u001b[1;32m     77\u001b[0m \u001b[43m        \u001b[49m\u001b[43mdata\u001b[49m\u001b[43m,\u001b[49m\n\u001b[1;32m     78\u001b[0m \u001b[43m        \u001b[49m\u001b[43mvalues\u001b[49m\u001b[38;5;241;43m=\u001b[39;49m\u001b[43mvalues\u001b[49m\u001b[43m,\u001b[49m\n\u001b[1;32m     79\u001b[0m \u001b[43m        \u001b[49m\u001b[43mindex\u001b[49m\u001b[38;5;241;43m=\u001b[39;49m\u001b[43mindex\u001b[49m\u001b[43m,\u001b[49m\n\u001b[1;32m     80\u001b[0m \u001b[43m        \u001b[49m\u001b[43mcolumns\u001b[49m\u001b[38;5;241;43m=\u001b[39;49m\u001b[43mcolumns\u001b[49m\u001b[43m,\u001b[49m\n\u001b[1;32m     81\u001b[0m \u001b[43m        \u001b[49m\u001b[43mfill_value\u001b[49m\u001b[38;5;241;43m=\u001b[39;49m\u001b[43mfill_value\u001b[49m\u001b[43m,\u001b[49m\n\u001b[1;32m     82\u001b[0m \u001b[43m        \u001b[49m\u001b[43maggfunc\u001b[49m\u001b[38;5;241;43m=\u001b[39;49m\u001b[43mfunc\u001b[49m\u001b[43m,\u001b[49m\n\u001b[1;32m     83\u001b[0m \u001b[43m        \u001b[49m\u001b[43mmargins\u001b[49m\u001b[38;5;241;43m=\u001b[39;49m\u001b[43mmargins\u001b[49m\u001b[43m,\u001b[49m\n\u001b[1;32m     84\u001b[0m \u001b[43m        \u001b[49m\u001b[43mdropna\u001b[49m\u001b[38;5;241;43m=\u001b[39;49m\u001b[43mdropna\u001b[49m\u001b[43m,\u001b[49m\n\u001b[1;32m     85\u001b[0m \u001b[43m        \u001b[49m\u001b[43mmargins_name\u001b[49m\u001b[38;5;241;43m=\u001b[39;49m\u001b[43mmargins_name\u001b[49m\u001b[43m,\u001b[49m\n\u001b[1;32m     86\u001b[0m \u001b[43m        \u001b[49m\u001b[43mobserved\u001b[49m\u001b[38;5;241;43m=\u001b[39;49m\u001b[43mobserved\u001b[49m\u001b[43m,\u001b[49m\n\u001b[1;32m     87\u001b[0m \u001b[43m        \u001b[49m\u001b[43msort\u001b[49m\u001b[38;5;241;43m=\u001b[39;49m\u001b[43msort\u001b[49m\u001b[43m,\u001b[49m\n\u001b[1;32m     88\u001b[0m \u001b[43m    \u001b[49m\u001b[43m)\u001b[49m\n\u001b[1;32m     89\u001b[0m     pieces\u001b[38;5;241m.\u001b[39mappend(_table)\n\u001b[1;32m     90\u001b[0m     keys\u001b[38;5;241m.\u001b[39mappend(\u001b[38;5;28mgetattr\u001b[39m(func, \u001b[38;5;124m\"\u001b[39m\u001b[38;5;124m__name__\u001b[39m\u001b[38;5;124m\"\u001b[39m, func))\n",
      "File \u001b[0;32m/opt/anaconda3/lib/python3.8/site-packages/pandas/core/reshape/pivot.py:187\u001b[0m, in \u001b[0;36m__internal_pivot_table\u001b[0;34m(data, values, index, columns, aggfunc, fill_value, margins, dropna, margins_name, observed, sort)\u001b[0m\n\u001b[1;32m    175\u001b[0m         \u001b[38;5;28;01mif\u001b[39;00m (\n\u001b[1;32m    176\u001b[0m             v \u001b[38;5;129;01min\u001b[39;00m data\n\u001b[1;32m    177\u001b[0m             \u001b[38;5;129;01mand\u001b[39;00m is_integer_dtype(data[v])\n\u001b[1;32m    178\u001b[0m             \u001b[38;5;129;01mand\u001b[39;00m v \u001b[38;5;129;01min\u001b[39;00m agged\n\u001b[1;32m    179\u001b[0m             \u001b[38;5;129;01mand\u001b[39;00m \u001b[38;5;129;01mnot\u001b[39;00m is_integer_dtype(agged[v])\n\u001b[1;32m    180\u001b[0m         ):\n\u001b[1;32m    181\u001b[0m             \u001b[38;5;28;01mif\u001b[39;00m \u001b[38;5;129;01mnot\u001b[39;00m \u001b[38;5;28misinstance\u001b[39m(agged[v], ABCDataFrame):\n\u001b[1;32m    182\u001b[0m                 \u001b[38;5;66;03m# exclude DataFrame case bc maybe_downcast_to_dtype expects\u001b[39;00m\n\u001b[1;32m    183\u001b[0m                 \u001b[38;5;66;03m#  ArrayLike\u001b[39;00m\n\u001b[1;32m    184\u001b[0m                 \u001b[38;5;66;03m# e.g. test_pivot_table_multiindex_columns_doctest_case\u001b[39;00m\n\u001b[1;32m    185\u001b[0m                 \u001b[38;5;66;03m#  agged.columns is a MultiIndex and 'v' is indexing only\u001b[39;00m\n\u001b[1;32m    186\u001b[0m                 \u001b[38;5;66;03m#  on its first level.\u001b[39;00m\n\u001b[0;32m--> 187\u001b[0m                 agged[v] \u001b[38;5;241m=\u001b[39m \u001b[43mmaybe_downcast_to_dtype\u001b[49m\u001b[43m(\u001b[49m\u001b[43magged\u001b[49m\u001b[43m[\u001b[49m\u001b[43mv\u001b[49m\u001b[43m]\u001b[49m\u001b[43m,\u001b[49m\u001b[43m \u001b[49m\u001b[43mdata\u001b[49m\u001b[43m[\u001b[49m\u001b[43mv\u001b[49m\u001b[43m]\u001b[49m\u001b[38;5;241;43m.\u001b[39;49m\u001b[43mdtype\u001b[49m\u001b[43m)\u001b[49m\n\u001b[1;32m    189\u001b[0m table \u001b[38;5;241m=\u001b[39m agged\n\u001b[1;32m    191\u001b[0m \u001b[38;5;66;03m# GH17038, this check should only happen if index is defined (not None)\u001b[39;00m\n",
      "File \u001b[0;32m/opt/anaconda3/lib/python3.8/site-packages/pandas/core/dtypes/cast.py:277\u001b[0m, in \u001b[0;36mmaybe_downcast_to_dtype\u001b[0;34m(result, dtype)\u001b[0m\n\u001b[1;32m    273\u001b[0m     dtype \u001b[38;5;241m=\u001b[39m np\u001b[38;5;241m.\u001b[39mdtype(dtype)\n\u001b[1;32m    275\u001b[0m \u001b[38;5;28;01mif\u001b[39;00m \u001b[38;5;129;01mnot\u001b[39;00m \u001b[38;5;28misinstance\u001b[39m(dtype, np\u001b[38;5;241m.\u001b[39mdtype):\n\u001b[1;32m    276\u001b[0m     \u001b[38;5;66;03m# enforce our signature annotation\u001b[39;00m\n\u001b[0;32m--> 277\u001b[0m     \u001b[38;5;28;01mraise\u001b[39;00m \u001b[38;5;167;01mTypeError\u001b[39;00m(dtype)  \u001b[38;5;66;03m# pragma: no cover\u001b[39;00m\n\u001b[1;32m    279\u001b[0m converted \u001b[38;5;241m=\u001b[39m maybe_downcast_numeric(result, dtype, do_round)\n\u001b[1;32m    280\u001b[0m \u001b[38;5;28;01mif\u001b[39;00m converted \u001b[38;5;129;01mis\u001b[39;00m \u001b[38;5;129;01mnot\u001b[39;00m result:\n",
      "\u001b[0;31mTypeError\u001b[0m: Int64"
     ]
    }
   ],
   "source": [
    "df.pivot_table(values = 'box_office', index = 'year_start', columns = 'flg_bd_box_office',\n",
    "                aggfunc = ['count','mean', 'median']).fillna(0).reset_index() "
   ]
  },
  {
   "cell_type": "markdown",
   "metadata": {},
   "source": [
    "**Conclusion**\n",
    "- average values of volumes up to 2014 - less than 500 thousand rubles. and look implausible with median values even worse - in our data there are a lot of near-zero values for collections, I can assume that the old data is simply not in the min database. culture. for most films released in the period 2010-2014 and it is not rational to consider this period in further analysis\n",
    "- the flag `flg_bd_box_office`, built earlier on the basis of the range diagram, in `1` shows us films with relatively high box office receipts, in `0` - films with small box office values."
   ]
  },
  {
   "cell_type": "markdown",
   "metadata": {
    "id": "Ok89WFwJgFyZ"
   },
   "source": [
    "- Determine if the age limit of the audience (“6+”, “12+”, “16+”, “18+”, etc.) affects the box office of the film in the period from 2015 to 2019? Which age-rated films made the most money at the box office? Does the picture change depending on the year? If yes, please suggest what it might be."
   ]
  },
  {
   "cell_type": "code",
   "execution_count": 96,
   "metadata": {},
   "outputs": [
    {
     "data": {
      "text/html": [
       "<div>\n",
       "<style scoped>\n",
       "    .dataframe tbody tr th:only-of-type {\n",
       "        vertical-align: middle;\n",
       "    }\n",
       "\n",
       "    .dataframe tbody tr th {\n",
       "        vertical-align: top;\n",
       "    }\n",
       "\n",
       "    .dataframe thead th {\n",
       "        text-align: right;\n",
       "    }\n",
       "</style>\n",
       "<table border=\"1\" class=\"dataframe\">\n",
       "  <thead>\n",
       "    <tr style=\"text-align: right;\">\n",
       "      <th></th>\n",
       "      <th>box_office</th>\n",
       "    </tr>\n",
       "    <tr>\n",
       "      <th>age_restriction</th>\n",
       "      <th></th>\n",
       "    </tr>\n",
       "  </thead>\n",
       "  <tbody>\n",
       "    <tr>\n",
       "      <th>«16+» - для детей старше 16 лет</th>\n",
       "      <td>76034733646</td>\n",
       "    </tr>\n",
       "    <tr>\n",
       "      <th>«12+» - для детей старше 12 лет</th>\n",
       "      <td>60619446629</td>\n",
       "    </tr>\n",
       "    <tr>\n",
       "      <th>«6+» - для детей старше 6 лет</th>\n",
       "      <td>55798610801</td>\n",
       "    </tr>\n",
       "    <tr>\n",
       "      <th>«18+» - запрещено для детей</th>\n",
       "      <td>40759615577</td>\n",
       "    </tr>\n",
       "    <tr>\n",
       "      <th>«0+» - для любой зрительской аудитории</th>\n",
       "      <td>809077429</td>\n",
       "    </tr>\n",
       "  </tbody>\n",
       "</table>\n",
       "</div>"
      ],
      "text/plain": [
       "                                         box_office\n",
       "age_restriction                                    \n",
       "«16+» - для детей старше 16 лет         76034733646\n",
       "«12+» - для детей старше 12 лет         60619446629\n",
       "«6+» - для детей старше 6 лет           55798610801\n",
       "«18+» - запрещено для детей             40759615577\n",
       "«0+» - для любой зрительской аудитории    809077429"
      ]
     },
     "execution_count": 96,
     "metadata": {},
     "output_type": "execute_result"
    }
   ],
   "source": [
    "df[df['year_start'] >= 2015].groupby('age_restriction')['box_office'].sum().to_frame().\\\n",
    "  sort_values(by = 'box_office', ascending = False)"
   ]
  },
  {
   "cell_type": "markdown",
   "metadata": {},
   "source": [
    "Consider the dynamics over the years:"
   ]
  },
  {
   "cell_type": "code",
   "execution_count": 97,
   "metadata": {
    "id": "jsSbEqfjgFya"
   },
   "outputs": [],
   "source": [
    "age2mny = df[df['year_start'] >= 2014].pivot_table(values = 'box_office', index = 'year_start', columns = 'age_restriction',\n",
    "                aggfunc = ['sum']).fillna(0).reset_index() "
   ]
  },
  {
   "cell_type": "code",
   "execution_count": 98,
   "metadata": {},
   "outputs": [],
   "source": [
    "age2mny.columns = age2mny.columns.droplevel(0)\n",
    "age2mny = age2mny.rename(columns={'': 'year'})"
   ]
  },
  {
   "cell_type": "code",
   "execution_count": 99,
   "metadata": {},
   "outputs": [
    {
     "data": {
      "text/html": [
       "<div>\n",
       "<style scoped>\n",
       "    .dataframe tbody tr th:only-of-type {\n",
       "        vertical-align: middle;\n",
       "    }\n",
       "\n",
       "    .dataframe tbody tr th {\n",
       "        vertical-align: top;\n",
       "    }\n",
       "\n",
       "    .dataframe thead th {\n",
       "        text-align: right;\n",
       "    }\n",
       "</style>\n",
       "<table border=\"1\" class=\"dataframe\">\n",
       "  <thead>\n",
       "    <tr style=\"text-align: right;\">\n",
       "      <th>age_restriction</th>\n",
       "      <th>year</th>\n",
       "      <th>«0+» - для любой зрительской аудитории</th>\n",
       "      <th>«12+» - для детей старше 12 лет</th>\n",
       "      <th>«16+» - для детей старше 16 лет</th>\n",
       "      <th>«18+» - запрещено для детей</th>\n",
       "      <th>«6+» - для детей старше 6 лет</th>\n",
       "    </tr>\n",
       "  </thead>\n",
       "  <tbody>\n",
       "    <tr>\n",
       "      <th>0</th>\n",
       "      <td>2014</td>\n",
       "      <td>375562258</td>\n",
       "      <td>2584782323</td>\n",
       "      <td>544280086</td>\n",
       "      <td>2209712747</td>\n",
       "      <td>1730614443</td>\n",
       "    </tr>\n",
       "    <tr>\n",
       "      <th>1</th>\n",
       "      <td>2015</td>\n",
       "      <td>379054580</td>\n",
       "      <td>13616082007</td>\n",
       "      <td>11368120867</td>\n",
       "      <td>5432308365</td>\n",
       "      <td>8701799371</td>\n",
       "    </tr>\n",
       "    <tr>\n",
       "      <th>2</th>\n",
       "      <td>2016</td>\n",
       "      <td>150228851</td>\n",
       "      <td>12204446526</td>\n",
       "      <td>16664548544</td>\n",
       "      <td>6793929825</td>\n",
       "      <td>12053146011</td>\n",
       "    </tr>\n",
       "    <tr>\n",
       "      <th>3</th>\n",
       "      <td>2017</td>\n",
       "      <td>229598930</td>\n",
       "      <td>7851427661</td>\n",
       "      <td>18745042900</td>\n",
       "      <td>9651495581</td>\n",
       "      <td>12086142146</td>\n",
       "    </tr>\n",
       "    <tr>\n",
       "      <th>4</th>\n",
       "      <td>2018</td>\n",
       "      <td>32449002</td>\n",
       "      <td>14267291657</td>\n",
       "      <td>16503602350</td>\n",
       "      <td>8760085500</td>\n",
       "      <td>10104974625</td>\n",
       "    </tr>\n",
       "    <tr>\n",
       "      <th>5</th>\n",
       "      <td>2019</td>\n",
       "      <td>17746066</td>\n",
       "      <td>12680198778</td>\n",
       "      <td>12753418985</td>\n",
       "      <td>10121796306</td>\n",
       "      <td>12852548648</td>\n",
       "    </tr>\n",
       "  </tbody>\n",
       "</table>\n",
       "</div>"
      ],
      "text/plain": [
       "age_restriction  year  «0+» - для любой зрительской аудитории  \\\n",
       "0                2014                               375562258   \n",
       "1                2015                               379054580   \n",
       "2                2016                               150228851   \n",
       "3                2017                               229598930   \n",
       "4                2018                                32449002   \n",
       "5                2019                                17746066   \n",
       "\n",
       "age_restriction  «12+» - для детей старше 12 лет  \\\n",
       "0                                     2584782323   \n",
       "1                                    13616082007   \n",
       "2                                    12204446526   \n",
       "3                                     7851427661   \n",
       "4                                    14267291657   \n",
       "5                                    12680198778   \n",
       "\n",
       "age_restriction  «16+» - для детей старше 16 лет  «18+» - запрещено для детей  \\\n",
       "0                                      544280086                   2209712747   \n",
       "1                                    11368120867                   5432308365   \n",
       "2                                    16664548544                   6793929825   \n",
       "3                                    18745042900                   9651495581   \n",
       "4                                    16503602350                   8760085500   \n",
       "5                                    12753418985                  10121796306   \n",
       "\n",
       "age_restriction  «6+» - для детей старше 6 лет  \n",
       "0                                   1730614443  \n",
       "1                                   8701799371  \n",
       "2                                  12053146011  \n",
       "3                                  12086142146  \n",
       "4                                  10104974625  \n",
       "5                                  12852548648  "
      ]
     },
     "execution_count": 99,
     "metadata": {},
     "output_type": "execute_result"
    }
   ],
   "source": [
    "age2mny"
   ]
  },
  {
   "cell_type": "code",
   "execution_count": 100,
   "metadata": {},
   "outputs": [
    {
     "data": {
      "image/png": "[encoded data removed]",
      "text/plain": [
       "<Figure size 1440x720 with 1 Axes>"
      ]
     },
     "metadata": {
      "needs_background": "light"
     },
     "output_type": "display_data"
    }
   ],
   "source": [
    "age2mny.plot(x = 'year', y = age2mny.columns[1:] , style='o-',  grid = True, figsize=(20, 10))\n",
    "plt.title(\"Distribution of fees by years and age categories, rub\")\n",
    "plt.show()"
   ]
  },
  {
   "cell_type": "markdown",
   "metadata": {},
   "source": [
    "**Which films win in the 16+ category for 16 and 17 year olds**"
   ]
  },
  {
   "cell_type": "code",
   "execution_count": 101,
   "metadata": {},
   "outputs": [
    {
     "data": {
      "text/html": [
       "<div>\n",
       "<style scoped>\n",
       "    .dataframe tbody tr th:only-of-type {\n",
       "        vertical-align: middle;\n",
       "    }\n",
       "\n",
       "    .dataframe tbody tr th {\n",
       "        vertical-align: top;\n",
       "    }\n",
       "\n",
       "    .dataframe thead th {\n",
       "        text-align: right;\n",
       "    }\n",
       "</style>\n",
       "<table border=\"1\" class=\"dataframe\">\n",
       "  <thead>\n",
       "    <tr style=\"text-align: right;\">\n",
       "      <th></th>\n",
       "      <th>title</th>\n",
       "    </tr>\n",
       "  </thead>\n",
       "  <tbody>\n",
       "    <tr>\n",
       "      <th>3488</th>\n",
       "      <td>Пираты Карибского моря: Мертвецы не рассказыва...</td>\n",
       "    </tr>\n",
       "    <tr>\n",
       "      <th>3523</th>\n",
       "      <td>Стражи Галактики. Часть 2</td>\n",
       "    </tr>\n",
       "    <tr>\n",
       "      <th>5653</th>\n",
       "      <td>Джуманджи: Зов джунглей</td>\n",
       "    </tr>\n",
       "    <tr>\n",
       "      <th>5547</th>\n",
       "      <td>Тор: Рагнарёк</td>\n",
       "    </tr>\n",
       "    <tr>\n",
       "      <th>3613</th>\n",
       "      <td>Мумия (2017)</td>\n",
       "    </tr>\n",
       "  </tbody>\n",
       "</table>\n",
       "</div>"
      ],
      "text/plain": [
       "                                                  title\n",
       "3488  Пираты Карибского моря: Мертвецы не рассказыва...\n",
       "3523                          Стражи Галактики. Часть 2\n",
       "5653                            Джуманджи: Зов джунглей\n",
       "5547                                      Тор: Рагнарёк\n",
       "3613                                       Мумия (2017)"
      ]
     },
     "execution_count": 101,
     "metadata": {},
     "output_type": "execute_result"
    }
   ],
   "source": [
    "df[(df['year_start'] == 2017) & (df['age_restriction'] == '«16+» - для детей старше 16 лет')].\\\n",
    " sort_values(by = 'box_office', ascending = False)['title'].head(5).to_frame()"
   ]
  },
  {
   "cell_type": "code",
   "execution_count": 102,
   "metadata": {},
   "outputs": [
    {
     "data": {
      "text/html": [
       "<div>\n",
       "<style scoped>\n",
       "    .dataframe tbody tr th:only-of-type {\n",
       "        vertical-align: middle;\n",
       "    }\n",
       "\n",
       "    .dataframe tbody tr th {\n",
       "        vertical-align: top;\n",
       "    }\n",
       "\n",
       "    .dataframe thead th {\n",
       "        text-align: right;\n",
       "    }\n",
       "</style>\n",
       "<table border=\"1\" class=\"dataframe\">\n",
       "  <thead>\n",
       "    <tr style=\"text-align: right;\">\n",
       "      <th></th>\n",
       "      <th>title</th>\n",
       "    </tr>\n",
       "  </thead>\n",
       "  <tbody>\n",
       "    <tr>\n",
       "      <th>3396</th>\n",
       "      <td>Отряд самоубийц</td>\n",
       "    </tr>\n",
       "    <tr>\n",
       "      <th>3318</th>\n",
       "      <td>Доктор Стрэндж</td>\n",
       "    </tr>\n",
       "    <tr>\n",
       "      <th>2886</th>\n",
       "      <td>Первый мститель: Противостояние</td>\n",
       "    </tr>\n",
       "    <tr>\n",
       "      <th>3661</th>\n",
       "      <td>Дом странных детей мисс Перегрин</td>\n",
       "    </tr>\n",
       "    <tr>\n",
       "      <th>3521</th>\n",
       "      <td>Кредо убийцы</td>\n",
       "    </tr>\n",
       "  </tbody>\n",
       "</table>\n",
       "</div>"
      ],
      "text/plain": [
       "                                 title\n",
       "3396                   Отряд самоубийц\n",
       "3318                    Доктор Стрэндж\n",
       "2886   Первый мститель: Противостояние\n",
       "3661  Дом странных детей мисс Перегрин\n",
       "3521                      Кредо убийцы"
      ]
     },
     "execution_count": 102,
     "metadata": {},
     "output_type": "execute_result"
    }
   ],
   "source": [
    "df[(df['year_start'] == 2016) & (df['age_restriction'] == '«16+» - для детей старше 16 лет')].\\\n",
    " sort_values(by = 'box_office', ascending = False)['title'].head(5).to_frame()"
   ]
  },
  {
   "cell_type": "markdown",
   "metadata": {},
   "source": [
    "**Conclusion**\n",
    "- the total amount of fees for the period since 2014 is maximum for the category of films `16+`\n",
    "- it seems logical to me, since `18+` cuts off part of the audience, and most spectacular film blockbusters are `16+`\n",
    "- Interestingly, the revenue from films in the `16+` category is the largest with a significant margin from other categories, starting from 2016 - this coincides with the start of the release of blockbusters from `Marvel` and other superhero and popular films (Pirates of the Caribbean, etc.)"
   ]
  },
  {
   "cell_type": "markdown",
   "metadata": {},
   "source": [
    "***Additionally***\n",
    "\n",
    "If we consider all films for the period 2014 - 2019, we can see:\n",
    "- the general trend is to increase in all categories of films, except for the `0+` category, these are the most stringent limits and restrictions, films are made for a very small audience and such films rarely get on the big screen\n",
    "- after `0+`, the complete opposite is `18+`, big film studios don't like this format lately either, and even at the editing stage they cut out the most controversial scenes so as not to fall into this category. The manufacturer's logic here is simple: less audience coverage - less fees.\n",
    "- category `6+` - this is the so-called. \"family movie\", dynamics without any surprises, except for the failure in 2018\n",
    "\n",
    "Next, 2 categories in which the character of the dynamics changed: `12+` and `16+`, above I considered why 16+ took the lead according to the results of the rental of 2016-2017 (these are marvel and other adventure films)\n",
    "\n",
    "Now you can see why from `2015` to `2017` `12+` sags, and the loan recovers in `2018`, against the backdrop of a decline already `6+`\n",
    "I propose to look at the dynamics not in money, but in pieces:"
   ]
  },
  {
   "cell_type": "code",
   "execution_count": 103,
   "metadata": {},
   "outputs": [],
   "source": [
    "age2mny = df[df['year_start'] >= 2014].pivot_table(values = 'box_office', index = 'year_start', columns = 'age_restriction',\n",
    "                aggfunc = ['count']).fillna(0).reset_index()"
   ]
  },
  {
   "cell_type": "code",
   "execution_count": 104,
   "metadata": {},
   "outputs": [],
   "source": [
    "age2mny.columns = age2mny.columns.droplevel(0)\n",
    "age2mny = age2mny.rename(columns={'': 'year'})"
   ]
  },
  {
   "cell_type": "code",
   "execution_count": 105,
   "metadata": {},
   "outputs": [
    {
     "data": {
      "text/html": [
       "<div>\n",
       "<style scoped>\n",
       "    .dataframe tbody tr th:only-of-type {\n",
       "        vertical-align: middle;\n",
       "    }\n",
       "\n",
       "    .dataframe tbody tr th {\n",
       "        vertical-align: top;\n",
       "    }\n",
       "\n",
       "    .dataframe thead th {\n",
       "        text-align: right;\n",
       "    }\n",
       "</style>\n",
       "<table border=\"1\" class=\"dataframe\">\n",
       "  <thead>\n",
       "    <tr style=\"text-align: right;\">\n",
       "      <th>age_restriction</th>\n",
       "      <th>year</th>\n",
       "      <th>«6+» - для детей старше 6 лет</th>\n",
       "      <th>«12+» - для детей старше 12 лет</th>\n",
       "      <th>«16+» - для детей старше 16 лет</th>\n",
       "    </tr>\n",
       "  </thead>\n",
       "  <tbody>\n",
       "    <tr>\n",
       "      <th>0</th>\n",
       "      <td>2014</td>\n",
       "      <td>30</td>\n",
       "      <td>84</td>\n",
       "      <td>82</td>\n",
       "    </tr>\n",
       "    <tr>\n",
       "      <th>1</th>\n",
       "      <td>2015</td>\n",
       "      <td>53</td>\n",
       "      <td>73</td>\n",
       "      <td>168</td>\n",
       "    </tr>\n",
       "    <tr>\n",
       "      <th>2</th>\n",
       "      <td>2016</td>\n",
       "      <td>70</td>\n",
       "      <td>82</td>\n",
       "      <td>182</td>\n",
       "    </tr>\n",
       "    <tr>\n",
       "      <th>3</th>\n",
       "      <td>2017</td>\n",
       "      <td>45</td>\n",
       "      <td>41</td>\n",
       "      <td>121</td>\n",
       "    </tr>\n",
       "    <tr>\n",
       "      <th>4</th>\n",
       "      <td>2018</td>\n",
       "      <td>68</td>\n",
       "      <td>67</td>\n",
       "      <td>156</td>\n",
       "    </tr>\n",
       "    <tr>\n",
       "      <th>5</th>\n",
       "      <td>2019</td>\n",
       "      <td>81</td>\n",
       "      <td>85</td>\n",
       "      <td>178</td>\n",
       "    </tr>\n",
       "  </tbody>\n",
       "</table>\n",
       "</div>"
      ],
      "text/plain": [
       "age_restriction  year  «6+» - для детей старше 6 лет  \\\n",
       "0                2014                             30   \n",
       "1                2015                             53   \n",
       "2                2016                             70   \n",
       "3                2017                             45   \n",
       "4                2018                             68   \n",
       "5                2019                             81   \n",
       "\n",
       "age_restriction  «12+» - для детей старше 12 лет  \\\n",
       "0                                             84   \n",
       "1                                             73   \n",
       "2                                             82   \n",
       "3                                             41   \n",
       "4                                             67   \n",
       "5                                             85   \n",
       "\n",
       "age_restriction  «16+» - для детей старше 16 лет  \n",
       "0                                             82  \n",
       "1                                            168  \n",
       "2                                            182  \n",
       "3                                            121  \n",
       "4                                            156  \n",
       "5                                            178  "
      ]
     },
     "execution_count": 105,
     "metadata": {},
     "output_type": "execute_result"
    }
   ],
   "source": [
    "age2mny[['year','«6+» - для детей старше 6 лет','«12+» - для детей старше 12 лет','«16+» - для детей старше 16 лет']]"
   ]
  },
  {
   "cell_type": "markdown",
   "metadata": {},
   "source": [
    "It can be seen that in 2017 the number of films at the box office was the smallest, we know the films that were released and collected the maximum fees, the producers know the same information.\n",
    "If Suicide Squad, Doctor Strange, The First Avenger (2017 for example) are released in the same year, these films can “skip ahead” so as not to lose profit from their films, but release them later."
   ]
  },
  {
   "cell_type": "markdown",
   "metadata": {},
   "source": [
    "What helped `12+` recover in 2018? - again, superhero movies (sequels and sequels) + one film about the war"
   ]
  },
  {
   "cell_type": "code",
   "execution_count": 106,
   "metadata": {},
   "outputs": [
    {
     "data": {
      "text/html": [
       "<div>\n",
       "<style scoped>\n",
       "    .dataframe tbody tr th:only-of-type {\n",
       "        vertical-align: middle;\n",
       "    }\n",
       "\n",
       "    .dataframe tbody tr th {\n",
       "        vertical-align: top;\n",
       "    }\n",
       "\n",
       "    .dataframe thead th {\n",
       "        text-align: right;\n",
       "    }\n",
       "</style>\n",
       "<table border=\"1\" class=\"dataframe\">\n",
       "  <thead>\n",
       "    <tr style=\"text-align: right;\">\n",
       "      <th></th>\n",
       "      <th>title</th>\n",
       "    </tr>\n",
       "  </thead>\n",
       "  <tbody>\n",
       "    <tr>\n",
       "      <th>6548</th>\n",
       "      <td>Т-34</td>\n",
       "    </tr>\n",
       "    <tr>\n",
       "      <th>6391</th>\n",
       "      <td>Фантастические твари: Преступления Грин-де-Вальда</td>\n",
       "    </tr>\n",
       "    <tr>\n",
       "      <th>5707</th>\n",
       "      <td>Лёд</td>\n",
       "    </tr>\n",
       "    <tr>\n",
       "      <th>6500</th>\n",
       "      <td>Аквамен</td>\n",
       "    </tr>\n",
       "    <tr>\n",
       "      <th>5895</th>\n",
       "      <td>Мир Юрского периода 2</td>\n",
       "    </tr>\n",
       "  </tbody>\n",
       "</table>\n",
       "</div>"
      ],
      "text/plain": [
       "                                                  title\n",
       "6548                                               Т-34\n",
       "6391  Фантастические твари: Преступления Грин-де-Вальда\n",
       "5707                                                Лёд\n",
       "6500                                            Аквамен\n",
       "5895                              Мир Юрского периода 2"
      ]
     },
     "execution_count": 106,
     "metadata": {},
     "output_type": "execute_result"
    }
   ],
   "source": [
    "df[(df['year_start'] == 2018) & (df['age_restriction'] == '«12+» - для детей старше 12 лет')].\\\n",
    " sort_values(by = 'box_office', ascending = False)['title'].head(5).to_frame()"
   ]
  },
  {
   "cell_type": "markdown",
   "metadata": {
    "id": "l_Kg6Ku4gFya"
   },
   "source": [
    "### Step 4: Research Films That Have Received Government Support\n",
    "\n",
    "At this stage, there are no specific instructions and tasks - look for interesting patterns in the data. Look at how much money is allocated to support the cinema. Check if such films pay off well, what rating they have."
   ]
  },
  {
   "cell_type": "code",
   "execution_count": 107,
   "metadata": {
    "id": "W9QKpjUdgFyb"
   },
   "outputs": [
    {
     "data": {
      "text/plain": [
       "315"
      ]
     },
     "execution_count": 107,
     "metadata": {},
     "output_type": "execute_result"
    }
   ],
   "source": [
    "df_min = df[df['budget'] > 0].reset_index(drop = True)\n",
    "len(df_min)"
   ]
  },
  {
   "cell_type": "code",
   "execution_count": 108,
   "metadata": {},
   "outputs": [],
   "source": [
    "df_min['budget'] = df_min['budget'].astype('Int64')\n",
    "df_min['part_gov_help'] = df_min['part_gov_help'].astype('Float64')"
   ]
  },
  {
   "cell_type": "code",
   "execution_count": 109,
   "metadata": {},
   "outputs": [],
   "source": [
    "df_min['return'] = df_min['box_office']*100/df_min['budget']"
   ]
  },
  {
   "cell_type": "markdown",
   "metadata": {},
   "source": [
    "The sample is not that big, let's study it more carefully"
   ]
  },
  {
   "cell_type": "code",
   "execution_count": 110,
   "metadata": {},
   "outputs": [
    {
     "ename": "TypeError",
     "evalue": "Int64",
     "output_type": "error",
     "traceback": [
      "\u001b[0;31m---------------------------------------------------------------------------\u001b[0m",
      "\u001b[0;31mTypeError\u001b[0m                                 Traceback (most recent call last)",
      "Input \u001b[0;32mIn [110]\u001b[0m, in \u001b[0;36m<module>\u001b[0;34m\u001b[0m\n\u001b[0;32m----> 1\u001b[0m \u001b[43mdf_min\u001b[49m\u001b[38;5;241;43m.\u001b[39;49m\u001b[43mpivot_table\u001b[49m\u001b[43m(\u001b[49m\u001b[43mvalues\u001b[49m\u001b[43m \u001b[49m\u001b[38;5;241;43m=\u001b[39;49m\u001b[43m \u001b[49m\u001b[43m[\u001b[49m\u001b[38;5;124;43m'\u001b[39;49m\u001b[38;5;124;43mbudget\u001b[39;49m\u001b[38;5;124;43m'\u001b[39;49m\u001b[43m,\u001b[49m\u001b[38;5;124;43m'\u001b[39;49m\u001b[38;5;124;43mpart_gov_help\u001b[39;49m\u001b[38;5;124;43m'\u001b[39;49m\u001b[43m,\u001b[49m\u001b[38;5;124;43m'\u001b[39;49m\u001b[38;5;124;43mreturn\u001b[39;49m\u001b[38;5;124;43m'\u001b[39;49m\u001b[43m,\u001b[49m\u001b[38;5;124;43m'\u001b[39;49m\u001b[38;5;124;43mratings\u001b[39;49m\u001b[38;5;124;43m'\u001b[39;49m\u001b[43m,\u001b[49m\u001b[43m \u001b[49m\u001b[38;5;124;43m'\u001b[39;49m\u001b[38;5;124;43mtitle\u001b[39;49m\u001b[38;5;124;43m'\u001b[39;49m\u001b[43m]\u001b[49m\u001b[43m,\u001b[49m\u001b[43m \u001b[49m\u001b[43mindex\u001b[49m\u001b[43m \u001b[49m\u001b[38;5;241;43m=\u001b[39;49m\u001b[43m \u001b[49m\u001b[38;5;124;43m'\u001b[39;49m\u001b[38;5;124;43myear_start\u001b[39;49m\u001b[38;5;124;43m'\u001b[39;49m\u001b[43m,\u001b[49m\n\u001b[1;32m      2\u001b[0m \u001b[43m                \u001b[49m\u001b[43maggfunc\u001b[49m\u001b[38;5;241;43m=\u001b[39;49m\u001b[43m{\u001b[49m\u001b[38;5;124;43m'\u001b[39;49m\u001b[38;5;124;43mbudget\u001b[39;49m\u001b[38;5;124;43m'\u001b[39;49m\u001b[43m:\u001b[49m\u001b[43m \u001b[49m\u001b[43mnp\u001b[49m\u001b[38;5;241;43m.\u001b[39;49m\u001b[43mmedian\u001b[49m\u001b[43m,\u001b[49m\n\u001b[1;32m      3\u001b[0m \u001b[43m                         \u001b[49m\u001b[38;5;124;43m'\u001b[39;49m\u001b[38;5;124;43mpart_gov_help\u001b[39;49m\u001b[38;5;124;43m'\u001b[39;49m\u001b[43m:\u001b[49m\u001b[43m \u001b[49m\u001b[43mnp\u001b[49m\u001b[38;5;241;43m.\u001b[39;49m\u001b[43mmedian\u001b[49m\u001b[43m,\u001b[49m\n\u001b[1;32m      4\u001b[0m \u001b[43m                         \u001b[49m\u001b[38;5;124;43m'\u001b[39;49m\u001b[38;5;124;43mreturn\u001b[39;49m\u001b[38;5;124;43m'\u001b[39;49m\u001b[43m:\u001b[49m\u001b[43m \u001b[49m\u001b[43mnp\u001b[49m\u001b[38;5;241;43m.\u001b[39;49m\u001b[43mmedian\u001b[49m\u001b[43m,\u001b[49m\n\u001b[1;32m      5\u001b[0m \u001b[43m                         \u001b[49m\u001b[38;5;124;43m'\u001b[39;49m\u001b[38;5;124;43mratings\u001b[39;49m\u001b[38;5;124;43m'\u001b[39;49m\u001b[43m:\u001b[49m\u001b[43m \u001b[49m\u001b[43mnp\u001b[49m\u001b[38;5;241;43m.\u001b[39;49m\u001b[43mmedian\u001b[49m\u001b[43m,\u001b[49m\n\u001b[1;32m      6\u001b[0m \u001b[43m                         \u001b[49m\u001b[38;5;124;43m'\u001b[39;49m\u001b[38;5;124;43mtitle\u001b[39;49m\u001b[38;5;124;43m'\u001b[39;49m\u001b[43m:\u001b[49m\u001b[43m \u001b[49m\u001b[38;5;124;43m'\u001b[39;49m\u001b[38;5;124;43mcount\u001b[39;49m\u001b[38;5;124;43m'\u001b[39;49m\n\u001b[1;32m      7\u001b[0m \u001b[43m                        \u001b[49m\u001b[43m}\u001b[49m\u001b[43m)\u001b[49m\u001b[38;5;241m.\u001b[39mfillna(\u001b[38;5;241m0\u001b[39m)\u001b[38;5;241m.\u001b[39mreset_index()\n",
      "File \u001b[0;32m/opt/anaconda3/lib/python3.8/site-packages/pandas/core/frame.py:8044\u001b[0m, in \u001b[0;36mDataFrame.pivot_table\u001b[0;34m(self, values, index, columns, aggfunc, fill_value, margins, dropna, margins_name, observed, sort)\u001b[0m\n\u001b[1;32m   8027\u001b[0m \u001b[38;5;129m@Substitution\u001b[39m(\u001b[38;5;124m\"\u001b[39m\u001b[38;5;124m\"\u001b[39m)\n\u001b[1;32m   8028\u001b[0m \u001b[38;5;129m@Appender\u001b[39m(_shared_docs[\u001b[38;5;124m\"\u001b[39m\u001b[38;5;124mpivot_table\u001b[39m\u001b[38;5;124m\"\u001b[39m])\n\u001b[1;32m   8029\u001b[0m \u001b[38;5;28;01mdef\u001b[39;00m \u001b[38;5;21mpivot_table\u001b[39m(\n\u001b[0;32m   (...)\u001b[0m\n\u001b[1;32m   8040\u001b[0m     sort\u001b[38;5;241m=\u001b[39m\u001b[38;5;28;01mTrue\u001b[39;00m,\n\u001b[1;32m   8041\u001b[0m ) \u001b[38;5;241m-\u001b[39m\u001b[38;5;241m>\u001b[39m DataFrame:\n\u001b[1;32m   8042\u001b[0m     \u001b[38;5;28;01mfrom\u001b[39;00m \u001b[38;5;21;01mpandas\u001b[39;00m\u001b[38;5;21;01m.\u001b[39;00m\u001b[38;5;21;01mcore\u001b[39;00m\u001b[38;5;21;01m.\u001b[39;00m\u001b[38;5;21;01mreshape\u001b[39;00m\u001b[38;5;21;01m.\u001b[39;00m\u001b[38;5;21;01mpivot\u001b[39;00m \u001b[38;5;28;01mimport\u001b[39;00m pivot_table\n\u001b[0;32m-> 8044\u001b[0m     \u001b[38;5;28;01mreturn\u001b[39;00m \u001b[43mpivot_table\u001b[49m\u001b[43m(\u001b[49m\n\u001b[1;32m   8045\u001b[0m \u001b[43m        \u001b[49m\u001b[38;5;28;43mself\u001b[39;49m\u001b[43m,\u001b[49m\n\u001b[1;32m   8046\u001b[0m \u001b[43m        \u001b[49m\u001b[43mvalues\u001b[49m\u001b[38;5;241;43m=\u001b[39;49m\u001b[43mvalues\u001b[49m\u001b[43m,\u001b[49m\n\u001b[1;32m   8047\u001b[0m \u001b[43m        \u001b[49m\u001b[43mindex\u001b[49m\u001b[38;5;241;43m=\u001b[39;49m\u001b[43mindex\u001b[49m\u001b[43m,\u001b[49m\n\u001b[1;32m   8048\u001b[0m \u001b[43m        \u001b[49m\u001b[43mcolumns\u001b[49m\u001b[38;5;241;43m=\u001b[39;49m\u001b[43mcolumns\u001b[49m\u001b[43m,\u001b[49m\n\u001b[1;32m   8049\u001b[0m \u001b[43m        \u001b[49m\u001b[43maggfunc\u001b[49m\u001b[38;5;241;43m=\u001b[39;49m\u001b[43maggfunc\u001b[49m\u001b[43m,\u001b[49m\n\u001b[1;32m   8050\u001b[0m \u001b[43m        \u001b[49m\u001b[43mfill_value\u001b[49m\u001b[38;5;241;43m=\u001b[39;49m\u001b[43mfill_value\u001b[49m\u001b[43m,\u001b[49m\n\u001b[1;32m   8051\u001b[0m \u001b[43m        \u001b[49m\u001b[43mmargins\u001b[49m\u001b[38;5;241;43m=\u001b[39;49m\u001b[43mmargins\u001b[49m\u001b[43m,\u001b[49m\n\u001b[1;32m   8052\u001b[0m \u001b[43m        \u001b[49m\u001b[43mdropna\u001b[49m\u001b[38;5;241;43m=\u001b[39;49m\u001b[43mdropna\u001b[49m\u001b[43m,\u001b[49m\n\u001b[1;32m   8053\u001b[0m \u001b[43m        \u001b[49m\u001b[43mmargins_name\u001b[49m\u001b[38;5;241;43m=\u001b[39;49m\u001b[43mmargins_name\u001b[49m\u001b[43m,\u001b[49m\n\u001b[1;32m   8054\u001b[0m \u001b[43m        \u001b[49m\u001b[43mobserved\u001b[49m\u001b[38;5;241;43m=\u001b[39;49m\u001b[43mobserved\u001b[49m\u001b[43m,\u001b[49m\n\u001b[1;32m   8055\u001b[0m \u001b[43m        \u001b[49m\u001b[43msort\u001b[49m\u001b[38;5;241;43m=\u001b[39;49m\u001b[43msort\u001b[49m\u001b[43m,\u001b[49m\n\u001b[1;32m   8056\u001b[0m \u001b[43m    \u001b[49m\u001b[43m)\u001b[49m\n",
      "File \u001b[0;32m/opt/anaconda3/lib/python3.8/site-packages/pandas/core/reshape/pivot.py:95\u001b[0m, in \u001b[0;36mpivot_table\u001b[0;34m(data, values, index, columns, aggfunc, fill_value, margins, dropna, margins_name, observed, sort)\u001b[0m\n\u001b[1;32m     92\u001b[0m     table \u001b[38;5;241m=\u001b[39m concat(pieces, keys\u001b[38;5;241m=\u001b[39mkeys, axis\u001b[38;5;241m=\u001b[39m\u001b[38;5;241m1\u001b[39m)\n\u001b[1;32m     93\u001b[0m     \u001b[38;5;28;01mreturn\u001b[39;00m table\u001b[38;5;241m.\u001b[39m__finalize__(data, method\u001b[38;5;241m=\u001b[39m\u001b[38;5;124m\"\u001b[39m\u001b[38;5;124mpivot_table\u001b[39m\u001b[38;5;124m\"\u001b[39m)\n\u001b[0;32m---> 95\u001b[0m table \u001b[38;5;241m=\u001b[39m \u001b[43m__internal_pivot_table\u001b[49m\u001b[43m(\u001b[49m\n\u001b[1;32m     96\u001b[0m \u001b[43m    \u001b[49m\u001b[43mdata\u001b[49m\u001b[43m,\u001b[49m\n\u001b[1;32m     97\u001b[0m \u001b[43m    \u001b[49m\u001b[43mvalues\u001b[49m\u001b[43m,\u001b[49m\n\u001b[1;32m     98\u001b[0m \u001b[43m    \u001b[49m\u001b[43mindex\u001b[49m\u001b[43m,\u001b[49m\n\u001b[1;32m     99\u001b[0m \u001b[43m    \u001b[49m\u001b[43mcolumns\u001b[49m\u001b[43m,\u001b[49m\n\u001b[1;32m    100\u001b[0m \u001b[43m    \u001b[49m\u001b[43maggfunc\u001b[49m\u001b[43m,\u001b[49m\n\u001b[1;32m    101\u001b[0m \u001b[43m    \u001b[49m\u001b[43mfill_value\u001b[49m\u001b[43m,\u001b[49m\n\u001b[1;32m    102\u001b[0m \u001b[43m    \u001b[49m\u001b[43mmargins\u001b[49m\u001b[43m,\u001b[49m\n\u001b[1;32m    103\u001b[0m \u001b[43m    \u001b[49m\u001b[43mdropna\u001b[49m\u001b[43m,\u001b[49m\n\u001b[1;32m    104\u001b[0m \u001b[43m    \u001b[49m\u001b[43mmargins_name\u001b[49m\u001b[43m,\u001b[49m\n\u001b[1;32m    105\u001b[0m \u001b[43m    \u001b[49m\u001b[43mobserved\u001b[49m\u001b[43m,\u001b[49m\n\u001b[1;32m    106\u001b[0m \u001b[43m    \u001b[49m\u001b[43msort\u001b[49m\u001b[43m,\u001b[49m\n\u001b[1;32m    107\u001b[0m \u001b[43m\u001b[49m\u001b[43m)\u001b[49m\n\u001b[1;32m    108\u001b[0m \u001b[38;5;28;01mreturn\u001b[39;00m table\u001b[38;5;241m.\u001b[39m__finalize__(data, method\u001b[38;5;241m=\u001b[39m\u001b[38;5;124m\"\u001b[39m\u001b[38;5;124mpivot_table\u001b[39m\u001b[38;5;124m\"\u001b[39m)\n",
      "File \u001b[0;32m/opt/anaconda3/lib/python3.8/site-packages/pandas/core/reshape/pivot.py:187\u001b[0m, in \u001b[0;36m__internal_pivot_table\u001b[0;34m(data, values, index, columns, aggfunc, fill_value, margins, dropna, margins_name, observed, sort)\u001b[0m\n\u001b[1;32m    175\u001b[0m         \u001b[38;5;28;01mif\u001b[39;00m (\n\u001b[1;32m    176\u001b[0m             v \u001b[38;5;129;01min\u001b[39;00m data\n\u001b[1;32m    177\u001b[0m             \u001b[38;5;129;01mand\u001b[39;00m is_integer_dtype(data[v])\n\u001b[1;32m    178\u001b[0m             \u001b[38;5;129;01mand\u001b[39;00m v \u001b[38;5;129;01min\u001b[39;00m agged\n\u001b[1;32m    179\u001b[0m             \u001b[38;5;129;01mand\u001b[39;00m \u001b[38;5;129;01mnot\u001b[39;00m is_integer_dtype(agged[v])\n\u001b[1;32m    180\u001b[0m         ):\n\u001b[1;32m    181\u001b[0m             \u001b[38;5;28;01mif\u001b[39;00m \u001b[38;5;129;01mnot\u001b[39;00m \u001b[38;5;28misinstance\u001b[39m(agged[v], ABCDataFrame):\n\u001b[1;32m    182\u001b[0m                 \u001b[38;5;66;03m# exclude DataFrame case bc maybe_downcast_to_dtype expects\u001b[39;00m\n\u001b[1;32m    183\u001b[0m                 \u001b[38;5;66;03m#  ArrayLike\u001b[39;00m\n\u001b[1;32m    184\u001b[0m                 \u001b[38;5;66;03m# e.g. test_pivot_table_multiindex_columns_doctest_case\u001b[39;00m\n\u001b[1;32m    185\u001b[0m                 \u001b[38;5;66;03m#  agged.columns is a MultiIndex and 'v' is indexing only\u001b[39;00m\n\u001b[1;32m    186\u001b[0m                 \u001b[38;5;66;03m#  on its first level.\u001b[39;00m\n\u001b[0;32m--> 187\u001b[0m                 agged[v] \u001b[38;5;241m=\u001b[39m \u001b[43mmaybe_downcast_to_dtype\u001b[49m\u001b[43m(\u001b[49m\u001b[43magged\u001b[49m\u001b[43m[\u001b[49m\u001b[43mv\u001b[49m\u001b[43m]\u001b[49m\u001b[43m,\u001b[49m\u001b[43m \u001b[49m\u001b[43mdata\u001b[49m\u001b[43m[\u001b[49m\u001b[43mv\u001b[49m\u001b[43m]\u001b[49m\u001b[38;5;241;43m.\u001b[39;49m\u001b[43mdtype\u001b[49m\u001b[43m)\u001b[49m\n\u001b[1;32m    189\u001b[0m table \u001b[38;5;241m=\u001b[39m agged\n\u001b[1;32m    191\u001b[0m \u001b[38;5;66;03m# GH17038, this check should only happen if index is defined (not None)\u001b[39;00m\n",
      "File \u001b[0;32m/opt/anaconda3/lib/python3.8/site-packages/pandas/core/dtypes/cast.py:277\u001b[0m, in \u001b[0;36mmaybe_downcast_to_dtype\u001b[0;34m(result, dtype)\u001b[0m\n\u001b[1;32m    273\u001b[0m     dtype \u001b[38;5;241m=\u001b[39m np\u001b[38;5;241m.\u001b[39mdtype(dtype)\n\u001b[1;32m    275\u001b[0m \u001b[38;5;28;01mif\u001b[39;00m \u001b[38;5;129;01mnot\u001b[39;00m \u001b[38;5;28misinstance\u001b[39m(dtype, np\u001b[38;5;241m.\u001b[39mdtype):\n\u001b[1;32m    276\u001b[0m     \u001b[38;5;66;03m# enforce our signature annotation\u001b[39;00m\n\u001b[0;32m--> 277\u001b[0m     \u001b[38;5;28;01mraise\u001b[39;00m \u001b[38;5;167;01mTypeError\u001b[39;00m(dtype)  \u001b[38;5;66;03m# pragma: no cover\u001b[39;00m\n\u001b[1;32m    279\u001b[0m converted \u001b[38;5;241m=\u001b[39m maybe_downcast_numeric(result, dtype, do_round)\n\u001b[1;32m    280\u001b[0m \u001b[38;5;28;01mif\u001b[39;00m converted \u001b[38;5;129;01mis\u001b[39;00m \u001b[38;5;129;01mnot\u001b[39;00m result:\n",
      "\u001b[0;31mTypeError\u001b[0m: Int64"
     ]
    }
   ],
   "source": [
    "df_min.pivot_table(values = ['budget','part_gov_help','return','ratings', 'title'], index = 'year_start',\n",
    "                aggfunc={'budget': np.median,\n",
    "                         'part_gov_help': np.median,\n",
    "                         'return': np.median,\n",
    "                         'ratings': np.median,\n",
    "                         'title': 'count'\n",
    "                        }).fillna(0).reset_index() "
   ]
  },
  {
   "cell_type": "code",
   "execution_count": 111,
   "metadata": {},
   "outputs": [
    {
     "ename": "TypeError",
     "evalue": "Int64",
     "output_type": "error",
     "traceback": [
      "\u001b[0;31m---------------------------------------------------------------------------\u001b[0m",
      "\u001b[0;31mTypeError\u001b[0m                                 Traceback (most recent call last)",
      "Input \u001b[0;32mIn [111]\u001b[0m, in \u001b[0;36m<module>\u001b[0;34m\u001b[0m\n\u001b[0;32m----> 1\u001b[0m \u001b[43mdf_min\u001b[49m\u001b[38;5;241;43m.\u001b[39;49m\u001b[43mpivot_table\u001b[49m\u001b[43m(\u001b[49m\u001b[43mvalues\u001b[49m\u001b[43m \u001b[49m\u001b[38;5;241;43m=\u001b[39;49m\u001b[43m \u001b[49m\u001b[43m[\u001b[49m\u001b[38;5;124;43m'\u001b[39;49m\u001b[38;5;124;43mbudget\u001b[39;49m\u001b[38;5;124;43m'\u001b[39;49m\u001b[43m,\u001b[49m\u001b[38;5;124;43m'\u001b[39;49m\u001b[38;5;124;43mpart_gov_help\u001b[39;49m\u001b[38;5;124;43m'\u001b[39;49m\u001b[43m,\u001b[49m\u001b[38;5;124;43m'\u001b[39;49m\u001b[38;5;124;43mreturn\u001b[39;49m\u001b[38;5;124;43m'\u001b[39;49m\u001b[43m,\u001b[49m\u001b[38;5;124;43m'\u001b[39;49m\u001b[38;5;124;43mratings\u001b[39;49m\u001b[38;5;124;43m'\u001b[39;49m\u001b[43m,\u001b[49m\u001b[43m \u001b[49m\u001b[38;5;124;43m'\u001b[39;49m\u001b[38;5;124;43mtitle\u001b[39;49m\u001b[38;5;124;43m'\u001b[39;49m\u001b[43m]\u001b[49m\u001b[43m,\u001b[49m\u001b[43m \u001b[49m\u001b[43mindex\u001b[49m\u001b[43m \u001b[49m\u001b[38;5;241;43m=\u001b[39;49m\u001b[43m \u001b[49m\u001b[38;5;124;43m'\u001b[39;49m\u001b[38;5;124;43myear_start\u001b[39;49m\u001b[38;5;124;43m'\u001b[39;49m\u001b[43m,\u001b[49m\n\u001b[1;32m      2\u001b[0m \u001b[43m                \u001b[49m\u001b[43maggfunc\u001b[49m\u001b[38;5;241;43m=\u001b[39;49m\u001b[43m{\u001b[49m\u001b[38;5;124;43m'\u001b[39;49m\u001b[38;5;124;43mbudget\u001b[39;49m\u001b[38;5;124;43m'\u001b[39;49m\u001b[43m:\u001b[49m\u001b[43m \u001b[49m\u001b[43mnp\u001b[49m\u001b[38;5;241;43m.\u001b[39;49m\u001b[43mmean\u001b[49m\u001b[43m,\u001b[49m\n\u001b[1;32m      3\u001b[0m \u001b[43m                         \u001b[49m\u001b[38;5;124;43m'\u001b[39;49m\u001b[38;5;124;43mpart_gov_help\u001b[39;49m\u001b[38;5;124;43m'\u001b[39;49m\u001b[43m:\u001b[49m\u001b[43m \u001b[49m\u001b[43mnp\u001b[49m\u001b[38;5;241;43m.\u001b[39;49m\u001b[43mmean\u001b[49m\u001b[43m,\u001b[49m\n\u001b[1;32m      4\u001b[0m \u001b[43m                         \u001b[49m\u001b[38;5;124;43m'\u001b[39;49m\u001b[38;5;124;43mreturn\u001b[39;49m\u001b[38;5;124;43m'\u001b[39;49m\u001b[43m:\u001b[49m\u001b[43m \u001b[49m\u001b[43mnp\u001b[49m\u001b[38;5;241;43m.\u001b[39;49m\u001b[43mmean\u001b[49m\u001b[43m,\u001b[49m\n\u001b[1;32m      5\u001b[0m \u001b[43m                         \u001b[49m\u001b[38;5;124;43m'\u001b[39;49m\u001b[38;5;124;43mratings\u001b[39;49m\u001b[38;5;124;43m'\u001b[39;49m\u001b[43m:\u001b[49m\u001b[43m \u001b[49m\u001b[43mnp\u001b[49m\u001b[38;5;241;43m.\u001b[39;49m\u001b[43mmean\u001b[49m\u001b[43m,\u001b[49m\n\u001b[1;32m      6\u001b[0m \u001b[43m                         \u001b[49m\u001b[38;5;124;43m'\u001b[39;49m\u001b[38;5;124;43mtitle\u001b[39;49m\u001b[38;5;124;43m'\u001b[39;49m\u001b[43m:\u001b[49m\u001b[43m \u001b[49m\u001b[38;5;124;43m'\u001b[39;49m\u001b[38;5;124;43mcount\u001b[39;49m\u001b[38;5;124;43m'\u001b[39;49m\n\u001b[1;32m      7\u001b[0m \u001b[43m                        \u001b[49m\u001b[43m}\u001b[49m\u001b[43m)\u001b[49m\u001b[38;5;241m.\u001b[39mfillna(\u001b[38;5;241m0\u001b[39m)\u001b[38;5;241m.\u001b[39mreset_index()\n",
      "File \u001b[0;32m/opt/anaconda3/lib/python3.8/site-packages/pandas/core/frame.py:8044\u001b[0m, in \u001b[0;36mDataFrame.pivot_table\u001b[0;34m(self, values, index, columns, aggfunc, fill_value, margins, dropna, margins_name, observed, sort)\u001b[0m\n\u001b[1;32m   8027\u001b[0m \u001b[38;5;129m@Substitution\u001b[39m(\u001b[38;5;124m\"\u001b[39m\u001b[38;5;124m\"\u001b[39m)\n\u001b[1;32m   8028\u001b[0m \u001b[38;5;129m@Appender\u001b[39m(_shared_docs[\u001b[38;5;124m\"\u001b[39m\u001b[38;5;124mpivot_table\u001b[39m\u001b[38;5;124m\"\u001b[39m])\n\u001b[1;32m   8029\u001b[0m \u001b[38;5;28;01mdef\u001b[39;00m \u001b[38;5;21mpivot_table\u001b[39m(\n\u001b[0;32m   (...)\u001b[0m\n\u001b[1;32m   8040\u001b[0m     sort\u001b[38;5;241m=\u001b[39m\u001b[38;5;28;01mTrue\u001b[39;00m,\n\u001b[1;32m   8041\u001b[0m ) \u001b[38;5;241m-\u001b[39m\u001b[38;5;241m>\u001b[39m DataFrame:\n\u001b[1;32m   8042\u001b[0m     \u001b[38;5;28;01mfrom\u001b[39;00m \u001b[38;5;21;01mpandas\u001b[39;00m\u001b[38;5;21;01m.\u001b[39;00m\u001b[38;5;21;01mcore\u001b[39;00m\u001b[38;5;21;01m.\u001b[39;00m\u001b[38;5;21;01mreshape\u001b[39;00m\u001b[38;5;21;01m.\u001b[39;00m\u001b[38;5;21;01mpivot\u001b[39;00m \u001b[38;5;28;01mimport\u001b[39;00m pivot_table\n\u001b[0;32m-> 8044\u001b[0m     \u001b[38;5;28;01mreturn\u001b[39;00m \u001b[43mpivot_table\u001b[49m\u001b[43m(\u001b[49m\n\u001b[1;32m   8045\u001b[0m \u001b[43m        \u001b[49m\u001b[38;5;28;43mself\u001b[39;49m\u001b[43m,\u001b[49m\n\u001b[1;32m   8046\u001b[0m \u001b[43m        \u001b[49m\u001b[43mvalues\u001b[49m\u001b[38;5;241;43m=\u001b[39;49m\u001b[43mvalues\u001b[49m\u001b[43m,\u001b[49m\n\u001b[1;32m   8047\u001b[0m \u001b[43m        \u001b[49m\u001b[43mindex\u001b[49m\u001b[38;5;241;43m=\u001b[39;49m\u001b[43mindex\u001b[49m\u001b[43m,\u001b[49m\n\u001b[1;32m   8048\u001b[0m \u001b[43m        \u001b[49m\u001b[43mcolumns\u001b[49m\u001b[38;5;241;43m=\u001b[39;49m\u001b[43mcolumns\u001b[49m\u001b[43m,\u001b[49m\n\u001b[1;32m   8049\u001b[0m \u001b[43m        \u001b[49m\u001b[43maggfunc\u001b[49m\u001b[38;5;241;43m=\u001b[39;49m\u001b[43maggfunc\u001b[49m\u001b[43m,\u001b[49m\n\u001b[1;32m   8050\u001b[0m \u001b[43m        \u001b[49m\u001b[43mfill_value\u001b[49m\u001b[38;5;241;43m=\u001b[39;49m\u001b[43mfill_value\u001b[49m\u001b[43m,\u001b[49m\n\u001b[1;32m   8051\u001b[0m \u001b[43m        \u001b[49m\u001b[43mmargins\u001b[49m\u001b[38;5;241;43m=\u001b[39;49m\u001b[43mmargins\u001b[49m\u001b[43m,\u001b[49m\n\u001b[1;32m   8052\u001b[0m \u001b[43m        \u001b[49m\u001b[43mdropna\u001b[49m\u001b[38;5;241;43m=\u001b[39;49m\u001b[43mdropna\u001b[49m\u001b[43m,\u001b[49m\n\u001b[1;32m   8053\u001b[0m \u001b[43m        \u001b[49m\u001b[43mmargins_name\u001b[49m\u001b[38;5;241;43m=\u001b[39;49m\u001b[43mmargins_name\u001b[49m\u001b[43m,\u001b[49m\n\u001b[1;32m   8054\u001b[0m \u001b[43m        \u001b[49m\u001b[43mobserved\u001b[49m\u001b[38;5;241;43m=\u001b[39;49m\u001b[43mobserved\u001b[49m\u001b[43m,\u001b[49m\n\u001b[1;32m   8055\u001b[0m \u001b[43m        \u001b[49m\u001b[43msort\u001b[49m\u001b[38;5;241;43m=\u001b[39;49m\u001b[43msort\u001b[49m\u001b[43m,\u001b[49m\n\u001b[1;32m   8056\u001b[0m \u001b[43m    \u001b[49m\u001b[43m)\u001b[49m\n",
      "File \u001b[0;32m/opt/anaconda3/lib/python3.8/site-packages/pandas/core/reshape/pivot.py:95\u001b[0m, in \u001b[0;36mpivot_table\u001b[0;34m(data, values, index, columns, aggfunc, fill_value, margins, dropna, margins_name, observed, sort)\u001b[0m\n\u001b[1;32m     92\u001b[0m     table \u001b[38;5;241m=\u001b[39m concat(pieces, keys\u001b[38;5;241m=\u001b[39mkeys, axis\u001b[38;5;241m=\u001b[39m\u001b[38;5;241m1\u001b[39m)\n\u001b[1;32m     93\u001b[0m     \u001b[38;5;28;01mreturn\u001b[39;00m table\u001b[38;5;241m.\u001b[39m__finalize__(data, method\u001b[38;5;241m=\u001b[39m\u001b[38;5;124m\"\u001b[39m\u001b[38;5;124mpivot_table\u001b[39m\u001b[38;5;124m\"\u001b[39m)\n\u001b[0;32m---> 95\u001b[0m table \u001b[38;5;241m=\u001b[39m \u001b[43m__internal_pivot_table\u001b[49m\u001b[43m(\u001b[49m\n\u001b[1;32m     96\u001b[0m \u001b[43m    \u001b[49m\u001b[43mdata\u001b[49m\u001b[43m,\u001b[49m\n\u001b[1;32m     97\u001b[0m \u001b[43m    \u001b[49m\u001b[43mvalues\u001b[49m\u001b[43m,\u001b[49m\n\u001b[1;32m     98\u001b[0m \u001b[43m    \u001b[49m\u001b[43mindex\u001b[49m\u001b[43m,\u001b[49m\n\u001b[1;32m     99\u001b[0m \u001b[43m    \u001b[49m\u001b[43mcolumns\u001b[49m\u001b[43m,\u001b[49m\n\u001b[1;32m    100\u001b[0m \u001b[43m    \u001b[49m\u001b[43maggfunc\u001b[49m\u001b[43m,\u001b[49m\n\u001b[1;32m    101\u001b[0m \u001b[43m    \u001b[49m\u001b[43mfill_value\u001b[49m\u001b[43m,\u001b[49m\n\u001b[1;32m    102\u001b[0m \u001b[43m    \u001b[49m\u001b[43mmargins\u001b[49m\u001b[43m,\u001b[49m\n\u001b[1;32m    103\u001b[0m \u001b[43m    \u001b[49m\u001b[43mdropna\u001b[49m\u001b[43m,\u001b[49m\n\u001b[1;32m    104\u001b[0m \u001b[43m    \u001b[49m\u001b[43mmargins_name\u001b[49m\u001b[43m,\u001b[49m\n\u001b[1;32m    105\u001b[0m \u001b[43m    \u001b[49m\u001b[43mobserved\u001b[49m\u001b[43m,\u001b[49m\n\u001b[1;32m    106\u001b[0m \u001b[43m    \u001b[49m\u001b[43msort\u001b[49m\u001b[43m,\u001b[49m\n\u001b[1;32m    107\u001b[0m \u001b[43m\u001b[49m\u001b[43m)\u001b[49m\n\u001b[1;32m    108\u001b[0m \u001b[38;5;28;01mreturn\u001b[39;00m table\u001b[38;5;241m.\u001b[39m__finalize__(data, method\u001b[38;5;241m=\u001b[39m\u001b[38;5;124m\"\u001b[39m\u001b[38;5;124mpivot_table\u001b[39m\u001b[38;5;124m\"\u001b[39m)\n",
      "File \u001b[0;32m/opt/anaconda3/lib/python3.8/site-packages/pandas/core/reshape/pivot.py:187\u001b[0m, in \u001b[0;36m__internal_pivot_table\u001b[0;34m(data, values, index, columns, aggfunc, fill_value, margins, dropna, margins_name, observed, sort)\u001b[0m\n\u001b[1;32m    175\u001b[0m         \u001b[38;5;28;01mif\u001b[39;00m (\n\u001b[1;32m    176\u001b[0m             v \u001b[38;5;129;01min\u001b[39;00m data\n\u001b[1;32m    177\u001b[0m             \u001b[38;5;129;01mand\u001b[39;00m is_integer_dtype(data[v])\n\u001b[1;32m    178\u001b[0m             \u001b[38;5;129;01mand\u001b[39;00m v \u001b[38;5;129;01min\u001b[39;00m agged\n\u001b[1;32m    179\u001b[0m             \u001b[38;5;129;01mand\u001b[39;00m \u001b[38;5;129;01mnot\u001b[39;00m is_integer_dtype(agged[v])\n\u001b[1;32m    180\u001b[0m         ):\n\u001b[1;32m    181\u001b[0m             \u001b[38;5;28;01mif\u001b[39;00m \u001b[38;5;129;01mnot\u001b[39;00m \u001b[38;5;28misinstance\u001b[39m(agged[v], ABCDataFrame):\n\u001b[1;32m    182\u001b[0m                 \u001b[38;5;66;03m# exclude DataFrame case bc maybe_downcast_to_dtype expects\u001b[39;00m\n\u001b[1;32m    183\u001b[0m                 \u001b[38;5;66;03m#  ArrayLike\u001b[39;00m\n\u001b[1;32m    184\u001b[0m                 \u001b[38;5;66;03m# e.g. test_pivot_table_multiindex_columns_doctest_case\u001b[39;00m\n\u001b[1;32m    185\u001b[0m                 \u001b[38;5;66;03m#  agged.columns is a MultiIndex and 'v' is indexing only\u001b[39;00m\n\u001b[1;32m    186\u001b[0m                 \u001b[38;5;66;03m#  on its first level.\u001b[39;00m\n\u001b[0;32m--> 187\u001b[0m                 agged[v] \u001b[38;5;241m=\u001b[39m \u001b[43mmaybe_downcast_to_dtype\u001b[49m\u001b[43m(\u001b[49m\u001b[43magged\u001b[49m\u001b[43m[\u001b[49m\u001b[43mv\u001b[49m\u001b[43m]\u001b[49m\u001b[43m,\u001b[49m\u001b[43m \u001b[49m\u001b[43mdata\u001b[49m\u001b[43m[\u001b[49m\u001b[43mv\u001b[49m\u001b[43m]\u001b[49m\u001b[38;5;241;43m.\u001b[39;49m\u001b[43mdtype\u001b[49m\u001b[43m)\u001b[49m\n\u001b[1;32m    189\u001b[0m table \u001b[38;5;241m=\u001b[39m agged\n\u001b[1;32m    191\u001b[0m \u001b[38;5;66;03m# GH17038, this check should only happen if index is defined (not None)\u001b[39;00m\n",
      "File \u001b[0;32m/opt/anaconda3/lib/python3.8/site-packages/pandas/core/dtypes/cast.py:277\u001b[0m, in \u001b[0;36mmaybe_downcast_to_dtype\u001b[0;34m(result, dtype)\u001b[0m\n\u001b[1;32m    273\u001b[0m     dtype \u001b[38;5;241m=\u001b[39m np\u001b[38;5;241m.\u001b[39mdtype(dtype)\n\u001b[1;32m    275\u001b[0m \u001b[38;5;28;01mif\u001b[39;00m \u001b[38;5;129;01mnot\u001b[39;00m \u001b[38;5;28misinstance\u001b[39m(dtype, np\u001b[38;5;241m.\u001b[39mdtype):\n\u001b[1;32m    276\u001b[0m     \u001b[38;5;66;03m# enforce our signature annotation\u001b[39;00m\n\u001b[0;32m--> 277\u001b[0m     \u001b[38;5;28;01mraise\u001b[39;00m \u001b[38;5;167;01mTypeError\u001b[39;00m(dtype)  \u001b[38;5;66;03m# pragma: no cover\u001b[39;00m\n\u001b[1;32m    279\u001b[0m converted \u001b[38;5;241m=\u001b[39m maybe_downcast_numeric(result, dtype, do_round)\n\u001b[1;32m    280\u001b[0m \u001b[38;5;28;01mif\u001b[39;00m converted \u001b[38;5;129;01mis\u001b[39;00m \u001b[38;5;129;01mnot\u001b[39;00m result:\n",
      "\u001b[0;31mTypeError\u001b[0m: Int64"
     ]
    }
   ],
   "source": [
    "df_min.pivot_table(values = ['budget','part_gov_help','return','ratings', 'title'], index = 'year_start',\n",
    "                aggfunc={'budget': np.mean,\n",
    "                         'part_gov_help': np.mean,\n",
    "                         'return': np.mean,\n",
    "                         'ratings': np.mean,\n",
    "                         'title': 'count'\n",
    "                        }).fillna(0).reset_index() "
   ]
  },
  {
   "cell_type": "code",
   "execution_count": 112,
   "metadata": {},
   "outputs": [
    {
     "data": {
      "text/html": [
       "<div>\n",
       "<style scoped>\n",
       "    .dataframe tbody tr th:only-of-type {\n",
       "        vertical-align: middle;\n",
       "    }\n",
       "\n",
       "    .dataframe tbody tr th {\n",
       "        vertical-align: top;\n",
       "    }\n",
       "\n",
       "    .dataframe thead th {\n",
       "        text-align: right;\n",
       "    }\n",
       "</style>\n",
       "<table border=\"1\" class=\"dataframe\">\n",
       "  <thead>\n",
       "    <tr style=\"text-align: right;\">\n",
       "      <th></th>\n",
       "      <th>title</th>\n",
       "      <th>year_start</th>\n",
       "      <th>budget</th>\n",
       "      <th>box_office</th>\n",
       "      <th>return</th>\n",
       "    </tr>\n",
       "  </thead>\n",
       "  <tbody>\n",
       "    <tr>\n",
       "      <th>200</th>\n",
       "      <td>Лёд</td>\n",
       "      <td>2018</td>\n",
       "      <td>148585222</td>\n",
       "      <td>1445731798</td>\n",
       "      <td>973.00</td>\n",
       "    </tr>\n",
       "    <tr>\n",
       "      <th>204</th>\n",
       "      <td>Я худею</td>\n",
       "      <td>2018</td>\n",
       "      <td>87649127</td>\n",
       "      <td>633462267</td>\n",
       "      <td>722.73</td>\n",
       "    </tr>\n",
       "    <tr>\n",
       "      <th>192</th>\n",
       "      <td>Ёлки Новые</td>\n",
       "      <td>2017</td>\n",
       "      <td>174381922</td>\n",
       "      <td>855451052</td>\n",
       "      <td>490.56</td>\n",
       "    </tr>\n",
       "    <tr>\n",
       "      <th>233</th>\n",
       "      <td>Непрощенный</td>\n",
       "      <td>2018</td>\n",
       "      <td>82496889</td>\n",
       "      <td>393279629</td>\n",
       "      <td>476.72</td>\n",
       "    </tr>\n",
       "    <tr>\n",
       "      <th>194</th>\n",
       "      <td>Движение вверх</td>\n",
       "      <td>2017</td>\n",
       "      <td>590192191</td>\n",
       "      <td>2779686144</td>\n",
       "      <td>470.98</td>\n",
       "    </tr>\n",
       "    <tr>\n",
       "      <th>180</th>\n",
       "      <td>Последний богатырь</td>\n",
       "      <td>2017</td>\n",
       "      <td>352477575</td>\n",
       "      <td>1655037688</td>\n",
       "      <td>469.54</td>\n",
       "    </tr>\n",
       "    <tr>\n",
       "      <th>195</th>\n",
       "      <td>Три богатыря и принцесса Египта</td>\n",
       "      <td>2017</td>\n",
       "      <td>174464395</td>\n",
       "      <td>759226773</td>\n",
       "      <td>435.18</td>\n",
       "    </tr>\n",
       "    <tr>\n",
       "      <th>245</th>\n",
       "      <td>Т-34</td>\n",
       "      <td>2018</td>\n",
       "      <td>563784717</td>\n",
       "      <td>2271754005</td>\n",
       "      <td>402.95</td>\n",
       "    </tr>\n",
       "    <tr>\n",
       "      <th>244</th>\n",
       "      <td>Ёлки Последние</td>\n",
       "      <td>2018</td>\n",
       "      <td>179708770</td>\n",
       "      <td>701507030</td>\n",
       "      <td>390.36</td>\n",
       "    </tr>\n",
       "    <tr>\n",
       "      <th>202</th>\n",
       "      <td>О чем говорят мужчины. Продолжение</td>\n",
       "      <td>2018</td>\n",
       "      <td>109609029</td>\n",
       "      <td>389818769</td>\n",
       "      <td>355.64</td>\n",
       "    </tr>\n",
       "  </tbody>\n",
       "</table>\n",
       "</div>"
      ],
      "text/plain": [
       "                                  title  year_start     budget  box_office  \\\n",
       "200                                 Лёд        2018  148585222  1445731798   \n",
       "204                             Я худею        2018   87649127   633462267   \n",
       "192                          Ёлки Новые        2017  174381922   855451052   \n",
       "233                         Непрощенный        2018   82496889   393279629   \n",
       "194                      Движение вверх        2017  590192191  2779686144   \n",
       "180                  Последний богатырь        2017  352477575  1655037688   \n",
       "195     Три богатыря и принцесса Египта        2017  174464395   759226773   \n",
       "245                                Т-34        2018  563784717  2271754005   \n",
       "244                      Ёлки Последние        2018  179708770   701507030   \n",
       "202  О чем говорят мужчины. Продолжение        2018  109609029   389818769   \n",
       "\n",
       "     return  \n",
       "200  973.00  \n",
       "204  722.73  \n",
       "192  490.56  \n",
       "233  476.72  \n",
       "194  470.98  \n",
       "180  469.54  \n",
       "195  435.18  \n",
       "245  402.95  \n",
       "244  390.36  \n",
       "202  355.64  "
      ]
     },
     "execution_count": 112,
     "metadata": {},
     "output_type": "execute_result"
    }
   ],
   "source": [
    "df_min[(df_min['return'] > 100) & (df_min['year_start'] >= 2017) & (df_min['year_start'] <= 2018)]\\\n",
    "     .sort_values(by = 'return', ascending = False)[['title','year_start','budget','box_office', 'return']].head(10)"
   ]
  },
  {
   "cell_type": "code",
   "execution_count": 113,
   "metadata": {},
   "outputs": [
    {
     "data": {
      "text/html": [
       "<div>\n",
       "<style scoped>\n",
       "    .dataframe tbody tr th:only-of-type {\n",
       "        vertical-align: middle;\n",
       "    }\n",
       "\n",
       "    .dataframe tbody tr th {\n",
       "        vertical-align: top;\n",
       "    }\n",
       "\n",
       "    .dataframe thead th {\n",
       "        text-align: right;\n",
       "    }\n",
       "</style>\n",
       "<table border=\"1\" class=\"dataframe\">\n",
       "  <thead>\n",
       "    <tr style=\"text-align: right;\">\n",
       "      <th></th>\n",
       "      <th>main_genre</th>\n",
       "    </tr>\n",
       "  </thead>\n",
       "  <tbody>\n",
       "    <tr>\n",
       "      <th>драма</th>\n",
       "      <td>92</td>\n",
       "    </tr>\n",
       "    <tr>\n",
       "      <th>комедия</th>\n",
       "      <td>68</td>\n",
       "    </tr>\n",
       "    <tr>\n",
       "      <th>мультфильм</th>\n",
       "      <td>26</td>\n",
       "    </tr>\n",
       "  </tbody>\n",
       "</table>\n",
       "</div>"
      ],
      "text/plain": [
       "            main_genre\n",
       "драма               92\n",
       "комедия             68\n",
       "мультфильм          26"
      ]
     },
     "execution_count": 113,
     "metadata": {},
     "output_type": "execute_result"
    }
   ],
   "source": [
    "df_min['main_genre'].value_counts().to_frame().head(3)"
   ]
  },
  {
   "cell_type": "code",
   "execution_count": 114,
   "metadata": {},
   "outputs": [
    {
     "data": {
      "text/html": [
       "<div>\n",
       "<style scoped>\n",
       "    .dataframe tbody tr th:only-of-type {\n",
       "        vertical-align: middle;\n",
       "    }\n",
       "\n",
       "    .dataframe tbody tr th {\n",
       "        vertical-align: top;\n",
       "    }\n",
       "\n",
       "    .dataframe thead th {\n",
       "        text-align: right;\n",
       "    }\n",
       "</style>\n",
       "<table border=\"1\" class=\"dataframe\">\n",
       "  <thead>\n",
       "    <tr style=\"text-align: right;\">\n",
       "      <th></th>\n",
       "      <th>age_restriction</th>\n",
       "    </tr>\n",
       "  </thead>\n",
       "  <tbody>\n",
       "    <tr>\n",
       "      <th>«16+» - для детей старше 16 лет</th>\n",
       "      <td>118</td>\n",
       "    </tr>\n",
       "    <tr>\n",
       "      <th>«12+» - для детей старше 12 лет</th>\n",
       "      <td>103</td>\n",
       "    </tr>\n",
       "    <tr>\n",
       "      <th>«6+» - для детей старше 6 лет</th>\n",
       "      <td>59</td>\n",
       "    </tr>\n",
       "  </tbody>\n",
       "</table>\n",
       "</div>"
      ],
      "text/plain": [
       "                                 age_restriction\n",
       "«16+» - для детей старше 16 лет              118\n",
       "«12+» - для детей старше 12 лет              103\n",
       "«6+» - для детей старше 6 лет                 59"
      ]
     },
     "execution_count": 114,
     "metadata": {},
     "output_type": "execute_result"
    }
   ],
   "source": [
    "df_min['age_restriction'].value_counts().to_frame().head(3)"
   ]
  },
  {
   "cell_type": "markdown",
   "metadata": {},
   "source": [
    "**From state support:**"
   ]
  },
  {
   "cell_type": "code",
   "execution_count": 115,
   "metadata": {},
   "outputs": [
    {
     "data": {
      "text/html": [
       "<div>\n",
       "<style scoped>\n",
       "    .dataframe tbody tr th:only-of-type {\n",
       "        vertical-align: middle;\n",
       "    }\n",
       "\n",
       "    .dataframe tbody tr th {\n",
       "        vertical-align: top;\n",
       "    }\n",
       "\n",
       "    .dataframe thead th {\n",
       "        text-align: right;\n",
       "    }\n",
       "</style>\n",
       "<table border=\"1\" class=\"dataframe\">\n",
       "  <thead>\n",
       "    <tr style=\"text-align: right;\">\n",
       "      <th></th>\n",
       "      <th>year_start</th>\n",
       "      <th>ratings</th>\n",
       "    </tr>\n",
       "  </thead>\n",
       "  <tbody>\n",
       "    <tr>\n",
       "      <th>0</th>\n",
       "      <td>2013</td>\n",
       "      <td>6.70</td>\n",
       "    </tr>\n",
       "    <tr>\n",
       "      <th>1</th>\n",
       "      <td>2014</td>\n",
       "      <td>6.35</td>\n",
       "    </tr>\n",
       "    <tr>\n",
       "      <th>2</th>\n",
       "      <td>2015</td>\n",
       "      <td>6.20</td>\n",
       "    </tr>\n",
       "    <tr>\n",
       "      <th>3</th>\n",
       "      <td>2016</td>\n",
       "      <td>5.90</td>\n",
       "    </tr>\n",
       "    <tr>\n",
       "      <th>4</th>\n",
       "      <td>2017</td>\n",
       "      <td>6.20</td>\n",
       "    </tr>\n",
       "    <tr>\n",
       "      <th>5</th>\n",
       "      <td>2018</td>\n",
       "      <td>6.30</td>\n",
       "    </tr>\n",
       "    <tr>\n",
       "      <th>6</th>\n",
       "      <td>2019</td>\n",
       "      <td>6.15</td>\n",
       "    </tr>\n",
       "  </tbody>\n",
       "</table>\n",
       "</div>"
      ],
      "text/plain": [
       "   year_start  ratings\n",
       "0        2013     6.70\n",
       "1        2014     6.35\n",
       "2        2015     6.20\n",
       "3        2016     5.90\n",
       "4        2017     6.20\n",
       "5        2018     6.30\n",
       "6        2019     6.15"
      ]
     },
     "execution_count": 115,
     "metadata": {},
     "output_type": "execute_result"
    }
   ],
   "source": [
    "df_min.pivot_table(values = ['ratings'], index = 'year_start',\n",
    "                aggfunc={\n",
    "                         'ratings': np.median,\n",
    "                    \n",
    "                        }).fillna(0).reset_index() "
   ]
  },
  {
   "cell_type": "markdown",
   "metadata": {},
   "source": [
    "**Russian-made film without support for the same period:**"
   ]
  },
  {
   "cell_type": "code",
   "execution_count": 116,
   "metadata": {
    "scrolled": false
   },
   "outputs": [
    {
     "data": {
      "text/html": [
       "<div>\n",
       "<style scoped>\n",
       "    .dataframe tbody tr th:only-of-type {\n",
       "        vertical-align: middle;\n",
       "    }\n",
       "\n",
       "    .dataframe tbody tr th {\n",
       "        vertical-align: top;\n",
       "    }\n",
       "\n",
       "    .dataframe thead th {\n",
       "        text-align: right;\n",
       "    }\n",
       "</style>\n",
       "<table border=\"1\" class=\"dataframe\">\n",
       "  <thead>\n",
       "    <tr style=\"text-align: right;\">\n",
       "      <th></th>\n",
       "      <th>year_start</th>\n",
       "      <th>ratings</th>\n",
       "    </tr>\n",
       "  </thead>\n",
       "  <tbody>\n",
       "    <tr>\n",
       "      <th>0</th>\n",
       "      <td>2013</td>\n",
       "      <td>5.85</td>\n",
       "    </tr>\n",
       "    <tr>\n",
       "      <th>1</th>\n",
       "      <td>2014</td>\n",
       "      <td>6.30</td>\n",
       "    </tr>\n",
       "    <tr>\n",
       "      <th>2</th>\n",
       "      <td>2015</td>\n",
       "      <td>5.65</td>\n",
       "    </tr>\n",
       "    <tr>\n",
       "      <th>3</th>\n",
       "      <td>2016</td>\n",
       "      <td>6.30</td>\n",
       "    </tr>\n",
       "    <tr>\n",
       "      <th>4</th>\n",
       "      <td>2017</td>\n",
       "      <td>6.05</td>\n",
       "    </tr>\n",
       "    <tr>\n",
       "      <th>5</th>\n",
       "      <td>2018</td>\n",
       "      <td>6.50</td>\n",
       "    </tr>\n",
       "    <tr>\n",
       "      <th>6</th>\n",
       "      <td>2019</td>\n",
       "      <td>6.60</td>\n",
       "    </tr>\n",
       "  </tbody>\n",
       "</table>\n",
       "</div>"
      ],
      "text/plain": [
       "   year_start  ratings\n",
       "0        2013     5.85\n",
       "1        2014     6.30\n",
       "2        2015     5.65\n",
       "3        2016     6.30\n",
       "4        2017     6.05\n",
       "5        2018     6.50\n",
       "6        2019     6.60"
      ]
     },
     "execution_count": 116,
     "metadata": {},
     "output_type": "execute_result"
    }
   ],
   "source": [
    "df[(df['production_country'] == 'Россия') & (df['budget'].isna() == True) & (df['year_start'] >= 2013)]\\\n",
    ".pivot_table(values = ['ratings'], index = 'year_start',\n",
    "                aggfunc={\n",
    "                         'ratings': np.median,\n",
    "                         \n",
    "                        }).fillna(0).reset_index() "
   ]
  },
  {
   "cell_type": "markdown",
   "metadata": {},
   "source": [
    "**Conclusion**\n",
    "- total films from the state. participation in our sample of 315 pieces\n",
    "- the peak of rental certificates - 2015, this year cannot be called successful for such films, with a state participation share of more than 60%, on average, films were only able to fight back by 5%\n",
    "- Film budgets are growing every year, while ratings and state. participation remains about the same (more state funds are spent on films with an average rating of 6.0)\n",
    "- the most popular genres for state-supported films are drama, comedy, cartoon\n",
    "- the most popular age category - 16 and 18+\n",
    "- in 2017 and 2018, there were super successful films with refunds - Ice, I'm losing weight, New Christmas trees, Unforgiven, Moving up\n",
    "- state support does not help much to improve the ratings of domestic films"
   ]
  },
  {
   "cell_type": "markdown",
   "metadata": {
    "id": "V2gYwMcPgFyd"
   },
   "source": [
    "### Step 5. General conclusion"
   ]
  },
  {
   "cell_type": "markdown",
   "metadata": {},
   "source": [
    "- as part of the task, an array of data on distribution certificates and box office films for the period 2010 - 2019 was studied\n",
    "- data preprocessing was performed, which included:\n",
    "    - gap analysis\n",
    "    - search for duplicates\n",
    "    - changing data types to more logical ones\n",
    "    - categorical and quantitative values were analyzed separately\n",
    "- further additional columns were set:\n",
    "    - in order to simplify work with categorical data\n",
    "    - for the purpose of further analysis of films from the state. participation\n",
    "- in the research part was considered:\n",
    "    - the dynamics of the release of films in distribution (with information about the box office and without it)\n",
    "    - estimated average fees (arithmetic mean and median)\n",
    "    - dependence of revenue on the age category of the film\n",
    "- additionally, the pool of films that received the state. financing\n",
    "\n",
    "More detailed findings are presented in each chapter."
   ]
  }
 ],
 "metadata": {
  "ExecuteTimeLog": [
   {
    "duration": 537,
    "start_time": "2021-07-07T10:12:08.634Z"
   },
   {
    "duration": 206,
    "start_time": "2021-07-07T10:12:30.191Z"
   },
   {
    "duration": 227,
    "start_time": "2021-07-07T10:12:33.078Z"
   },
   {
    "duration": 153,
    "start_time": "2021-07-07T10:13:42.146Z"
   },
   {
    "duration": 233,
    "start_time": "2021-07-07T10:30:09.252Z"
   },
   {
    "duration": 19,
    "start_time": "2021-07-07T10:30:15.577Z"
   },
   {
    "duration": 18,
    "start_time": "2021-07-07T10:30:57.348Z"
   },
   {
    "duration": 19,
    "start_time": "2021-07-07T10:31:17.452Z"
   },
   {
    "duration": 21,
    "start_time": "2021-07-07T10:31:32.227Z"
   },
   {
    "duration": 27,
    "start_time": "2021-07-07T10:32:06.588Z"
   },
   {
    "duration": 23,
    "start_time": "2021-07-07T10:32:43.645Z"
   },
   {
    "duration": 24,
    "start_time": "2021-07-07T10:33:06.948Z"
   },
   {
    "duration": 7,
    "start_time": "2021-07-07T10:33:28.558Z"
   },
   {
    "duration": 23,
    "start_time": "2021-07-07T10:33:43.761Z"
   },
   {
    "duration": 28,
    "start_time": "2021-07-07T10:34:13.466Z"
   },
   {
    "duration": 23,
    "start_time": "2021-07-07T10:35:56.187Z"
   },
   {
    "duration": 6,
    "start_time": "2021-07-07T10:36:48.182Z"
   },
   {
    "duration": 14,
    "start_time": "2021-07-07T10:37:49.641Z"
   },
   {
    "duration": 6,
    "start_time": "2021-07-07T10:38:06.694Z"
   },
   {
    "duration": 6,
    "start_time": "2021-07-07T10:38:13.493Z"
   },
   {
    "duration": 19,
    "start_time": "2021-07-07T10:38:44.056Z"
   },
   {
    "duration": 186,
    "start_time": "2021-07-07T10:48:35.618Z"
   },
   {
    "duration": 24,
    "start_time": "2021-07-07T10:48:51.498Z"
   },
   {
    "duration": 20,
    "start_time": "2021-07-07T10:48:59.415Z"
   },
   {
    "duration": 20,
    "start_time": "2021-07-07T10:53:02.195Z"
   },
   {
    "duration": 188,
    "start_time": "2021-07-07T10:54:40.486Z"
   },
   {
    "duration": 115,
    "start_time": "2021-07-07T10:54:52.552Z"
   },
   {
    "duration": 214,
    "start_time": "2021-07-07T10:54:56.354Z"
   },
   {
    "duration": 47,
    "start_time": "2021-07-07T10:54:58.282Z"
   },
   {
    "duration": 217,
    "start_time": "2021-07-07T10:59:16.075Z"
   },
   {
    "duration": 51,
    "start_time": "2021-07-07T10:59:16.243Z"
   },
   {
    "duration": 578,
    "start_time": "2021-07-07T10:59:18.774Z"
   },
   {
    "duration": 161,
    "start_time": "2021-07-07T10:59:21.238Z"
   },
   {
    "duration": 59,
    "start_time": "2021-07-07T10:59:21.453Z"
   },
   {
    "duration": 3,
    "start_time": "2021-07-07T11:02:10.786Z"
   },
   {
    "duration": 13,
    "start_time": "2021-07-07T11:07:07.722Z"
   },
   {
    "duration": 26,
    "start_time": "2021-07-07T11:07:17.958Z"
   },
   {
    "duration": 22,
    "start_time": "2021-07-07T11:08:17.939Z"
   },
   {
    "duration": 212,
    "start_time": "2021-07-07T11:08:19.665Z"
   },
   {
    "duration": 21,
    "start_time": "2021-07-07T11:08:29.945Z"
   },
   {
    "duration": 31,
    "start_time": "2021-07-07T11:08:38.899Z"
   },
   {
    "duration": 23,
    "start_time": "2021-07-07T11:08:54.527Z"
   },
   {
    "duration": 8,
    "start_time": "2021-07-07T11:18:55.974Z"
   },
   {
    "duration": 7,
    "start_time": "2021-07-07T11:19:03.639Z"
   },
   {
    "duration": 7,
    "start_time": "2021-07-07T11:19:06.444Z"
   },
   {
    "duration": 578,
    "start_time": "2021-07-07T12:09:59.576Z"
   },
   {
    "duration": 195,
    "start_time": "2021-07-07T12:10:00.156Z"
   },
   {
    "duration": 115,
    "start_time": "2021-07-07T12:10:00.353Z"
   },
   {
    "duration": 3,
    "start_time": "2021-07-07T12:10:00.470Z"
   },
   {
    "duration": 32,
    "start_time": "2021-07-07T12:10:00.474Z"
   },
   {
    "duration": 23,
    "start_time": "2021-07-07T12:10:00.508Z"
   },
   {
    "duration": 19,
    "start_time": "2021-07-07T12:10:00.533Z"
   },
   {
    "duration": 44,
    "start_time": "2021-07-07T12:10:00.553Z"
   },
   {
    "duration": 7,
    "start_time": "2021-07-07T12:10:00.600Z"
   },
   {
    "duration": 7,
    "start_time": "2021-07-07T12:19:45.761Z"
   },
   {
    "duration": 21,
    "start_time": "2021-07-07T12:21:35.482Z"
   },
   {
    "duration": 21,
    "start_time": "2021-07-07T12:29:23.569Z"
   },
   {
    "duration": 525,
    "start_time": "2021-07-07T12:29:44.542Z"
   },
   {
    "duration": 214,
    "start_time": "2021-07-07T12:29:45.069Z"
   },
   {
    "duration": 92,
    "start_time": "2021-07-07T12:29:45.285Z"
   },
   {
    "duration": 3,
    "start_time": "2021-07-07T12:29:45.379Z"
   },
   {
    "duration": 28,
    "start_time": "2021-07-07T12:29:45.384Z"
   },
   {
    "duration": 23,
    "start_time": "2021-07-07T12:29:45.413Z"
   },
   {
    "duration": 21,
    "start_time": "2021-07-07T12:29:45.437Z"
   },
   {
    "duration": 41,
    "start_time": "2021-07-07T12:29:45.460Z"
   },
   {
    "duration": 7,
    "start_time": "2021-07-07T12:29:45.502Z"
   },
   {
    "duration": 20,
    "start_time": "2021-07-07T12:29:45.511Z"
   },
   {
    "duration": 12,
    "start_time": "2021-07-07T12:34:02.800Z"
   },
   {
    "duration": 7,
    "start_time": "2021-07-07T12:35:10.479Z"
   },
   {
    "duration": 8,
    "start_time": "2021-07-07T12:35:22.440Z"
   },
   {
    "duration": 6,
    "start_time": "2021-07-07T12:35:35.649Z"
   },
   {
    "duration": 6,
    "start_time": "2021-07-07T12:35:43.107Z"
   },
   {
    "duration": 22,
    "start_time": "2021-07-07T12:38:03.029Z"
   },
   {
    "duration": 10,
    "start_time": "2021-07-07T12:38:06.592Z"
   },
   {
    "duration": 563,
    "start_time": "2021-07-07T12:38:46.493Z"
   },
   {
    "duration": 265,
    "start_time": "2021-07-07T12:38:47.058Z"
   },
   {
    "duration": 94,
    "start_time": "2021-07-07T12:38:47.325Z"
   },
   {
    "duration": 3,
    "start_time": "2021-07-07T12:38:47.422Z"
   },
   {
    "duration": 30,
    "start_time": "2021-07-07T12:38:47.427Z"
   },
   {
    "duration": 16,
    "start_time": "2021-07-07T12:38:53.305Z"
   },
   {
    "duration": 10,
    "start_time": "2021-07-07T12:38:53.499Z"
   },
   {
    "duration": 8,
    "start_time": "2021-07-07T12:39:48.161Z"
   },
   {
    "duration": 27,
    "start_time": "2021-07-07T12:41:17.629Z"
   },
   {
    "duration": 17,
    "start_time": "2021-07-07T12:41:17.867Z"
   },
   {
    "duration": 21,
    "start_time": "2021-07-07T12:41:19.310Z"
   },
   {
    "duration": 7,
    "start_time": "2021-07-07T12:41:19.544Z"
   },
   {
    "duration": 20,
    "start_time": "2021-07-07T12:41:20.504Z"
   },
   {
    "duration": 554,
    "start_time": "2021-07-07T12:56:23.696Z"
   },
   {
    "duration": 200,
    "start_time": "2021-07-07T12:56:25.234Z"
   },
   {
    "duration": 119,
    "start_time": "2021-07-07T12:56:25.480Z"
   },
   {
    "duration": 4,
    "start_time": "2021-07-07T12:56:25.762Z"
   },
   {
    "duration": 26,
    "start_time": "2021-07-07T12:56:27.172Z"
   },
   {
    "duration": 12,
    "start_time": "2021-07-07T12:56:29.051Z"
   },
   {
    "duration": 10,
    "start_time": "2021-07-07T12:56:29.291Z"
   },
   {
    "duration": 8,
    "start_time": "2021-07-07T12:56:29.623Z"
   },
   {
    "duration": 28,
    "start_time": "2021-07-07T12:56:32.137Z"
   },
   {
    "duration": 19,
    "start_time": "2021-07-07T12:56:39.785Z"
   },
   {
    "duration": 20,
    "start_time": "2021-07-07T12:56:44.297Z"
   },
   {
    "duration": 7,
    "start_time": "2021-07-07T12:56:45.392Z"
   },
   {
    "duration": 23,
    "start_time": "2021-07-07T12:56:46.615Z"
   },
   {
    "duration": 4,
    "start_time": "2021-07-07T12:57:06.625Z"
   },
   {
    "duration": 32,
    "start_time": "2021-07-07T12:57:36.690Z"
   },
   {
    "duration": 18,
    "start_time": "2021-07-07T12:58:00.149Z"
   },
   {
    "duration": 15,
    "start_time": "2021-07-07T12:59:16.793Z"
   },
   {
    "duration": 7,
    "start_time": "2021-07-07T13:19:22.624Z"
   },
   {
    "duration": 6,
    "start_time": "2021-07-07T14:17:33.527Z"
   },
   {
    "duration": 9,
    "start_time": "2021-07-07T14:17:48.409Z"
   },
   {
    "duration": 8,
    "start_time": "2021-07-07T14:20:13.060Z"
   },
   {
    "duration": 8,
    "start_time": "2021-07-07T14:20:37.957Z"
   },
   {
    "duration": 8,
    "start_time": "2021-07-07T14:20:47.470Z"
   },
   {
    "duration": 9,
    "start_time": "2021-07-07T14:20:54.503Z"
   },
   {
    "duration": 10,
    "start_time": "2021-07-07T14:28:57.763Z"
   },
   {
    "duration": 3,
    "start_time": "2021-07-07T14:30:23.377Z"
   },
   {
    "duration": 3,
    "start_time": "2021-07-07T14:30:36.489Z"
   },
   {
    "duration": 103,
    "start_time": "2021-07-07T14:30:52.351Z"
   },
   {
    "duration": 8,
    "start_time": "2021-07-07T14:30:54.763Z"
   },
   {
    "duration": 8,
    "start_time": "2021-07-07T14:31:29.301Z"
   },
   {
    "duration": 13,
    "start_time": "2021-07-07T14:31:44.516Z"
   },
   {
    "duration": 7,
    "start_time": "2021-07-07T14:33:10.972Z"
   },
   {
    "duration": 11,
    "start_time": "2021-07-07T14:33:27.780Z"
   },
   {
    "duration": 8,
    "start_time": "2021-07-07T14:34:44.588Z"
   },
   {
    "duration": 57,
    "start_time": "2021-07-07T14:35:59.042Z"
   },
   {
    "duration": 3,
    "start_time": "2021-07-07T14:36:28.168Z"
   },
   {
    "duration": 5,
    "start_time": "2021-07-07T14:36:46.254Z"
   },
   {
    "duration": 4,
    "start_time": "2021-07-07T14:36:52.714Z"
   },
   {
    "duration": 3,
    "start_time": "2021-07-07T14:36:56.612Z"
   },
   {
    "duration": 4,
    "start_time": "2021-07-07T14:36:57.049Z"
   },
   {
    "duration": 3,
    "start_time": "2021-07-07T14:39:21.214Z"
   },
   {
    "duration": 7,
    "start_time": "2021-07-07T14:39:52.406Z"
   },
   {
    "duration": 11,
    "start_time": "2021-07-07T14:39:58.576Z"
   },
   {
    "duration": 9,
    "start_time": "2021-07-07T14:40:26.301Z"
   },
   {
    "duration": 10,
    "start_time": "2021-07-07T14:40:31.704Z"
   },
   {
    "duration": 11,
    "start_time": "2021-07-07T14:40:36.249Z"
   },
   {
    "duration": 10,
    "start_time": "2021-07-07T14:40:39.783Z"
   },
   {
    "duration": 9,
    "start_time": "2021-07-07T14:40:48.558Z"
   },
   {
    "duration": 10,
    "start_time": "2021-07-07T14:40:57.143Z"
   },
   {
    "duration": 9,
    "start_time": "2021-07-07T14:41:06.074Z"
   },
   {
    "duration": 4324,
    "start_time": "2021-07-07T14:41:22.004Z"
   },
   {
    "duration": 11,
    "start_time": "2021-07-07T14:41:33.392Z"
   },
   {
    "duration": 9,
    "start_time": "2021-07-07T14:41:39.288Z"
   },
   {
    "duration": 569,
    "start_time": "2021-07-07T14:42:14.387Z"
   },
   {
    "duration": 197,
    "start_time": "2021-07-07T14:42:14.959Z"
   },
   {
    "duration": 84,
    "start_time": "2021-07-07T14:42:16.052Z"
   },
   {
    "duration": 4,
    "start_time": "2021-07-07T14:42:16.900Z"
   },
   {
    "duration": 27,
    "start_time": "2021-07-07T14:42:19.898Z"
   },
   {
    "duration": 12,
    "start_time": "2021-07-07T14:42:21.577Z"
   },
   {
    "duration": 9,
    "start_time": "2021-07-07T14:42:21.813Z"
   },
   {
    "duration": 9,
    "start_time": "2021-07-07T14:42:22.569Z"
   },
   {
    "duration": 29,
    "start_time": "2021-07-07T14:42:25.837Z"
   },
   {
    "duration": 20,
    "start_time": "2021-07-07T14:42:27.003Z"
   },
   {
    "duration": 21,
    "start_time": "2021-07-07T14:42:28.767Z"
   },
   {
    "duration": 7,
    "start_time": "2021-07-07T14:42:29.838Z"
   },
   {
    "duration": 4,
    "start_time": "2021-07-07T14:43:25.493Z"
   },
   {
    "duration": 7,
    "start_time": "2021-07-07T14:43:26.573Z"
   },
   {
    "duration": 10,
    "start_time": "2021-07-07T14:43:31.639Z"
   },
   {
    "duration": 9,
    "start_time": "2021-07-07T14:43:32.046Z"
   },
   {
    "duration": 10,
    "start_time": "2021-07-07T14:43:33.301Z"
   },
   {
    "duration": 12,
    "start_time": "2021-07-07T14:43:33.658Z"
   },
   {
    "duration": 8,
    "start_time": "2021-07-07T14:43:34.552Z"
   },
   {
    "duration": 9,
    "start_time": "2021-07-07T14:43:35.058Z"
   },
   {
    "duration": 12,
    "start_time": "2021-07-07T14:43:35.914Z"
   },
   {
    "duration": 17,
    "start_time": "2021-07-07T14:45:34.368Z"
   },
   {
    "duration": 512,
    "start_time": "2021-07-07T14:51:58.236Z"
   },
   {
    "duration": 223,
    "start_time": "2021-07-07T14:51:58.750Z"
   },
   {
    "duration": 93,
    "start_time": "2021-07-07T14:51:58.977Z"
   },
   {
    "duration": 4,
    "start_time": "2021-07-07T14:51:59.071Z"
   },
   {
    "duration": 37,
    "start_time": "2021-07-07T14:51:59.077Z"
   },
   {
    "duration": 18,
    "start_time": "2021-07-07T14:51:59.116Z"
   },
   {
    "duration": 10,
    "start_time": "2021-07-07T14:51:59.137Z"
   },
   {
    "duration": 8,
    "start_time": "2021-07-07T14:51:59.149Z"
   },
   {
    "duration": 54,
    "start_time": "2021-07-07T14:51:59.158Z"
   },
   {
    "duration": 18,
    "start_time": "2021-07-07T14:51:59.213Z"
   },
   {
    "duration": 22,
    "start_time": "2021-07-07T14:51:59.232Z"
   },
   {
    "duration": 36,
    "start_time": "2021-07-07T14:51:59.255Z"
   },
   {
    "duration": 7,
    "start_time": "2021-07-07T14:51:59.293Z"
   },
   {
    "duration": 10,
    "start_time": "2021-07-07T14:51:59.302Z"
   },
   {
    "duration": 9,
    "start_time": "2021-07-07T14:51:59.313Z"
   },
   {
    "duration": 11,
    "start_time": "2021-07-07T14:51:59.324Z"
   },
   {
    "duration": 8,
    "start_time": "2021-07-07T14:51:59.337Z"
   },
   {
    "duration": 46,
    "start_time": "2021-07-07T14:51:59.347Z"
   },
   {
    "duration": 22,
    "start_time": "2021-07-07T14:51:59.395Z"
   },
   {
    "duration": 24,
    "start_time": "2021-07-07T14:57:32.911Z"
   },
   {
    "duration": 7,
    "start_time": "2021-07-07T14:58:22.070Z"
   },
   {
    "duration": 4,
    "start_time": "2021-07-07T14:59:11.239Z"
   },
   {
    "duration": 25,
    "start_time": "2021-07-07T15:07:22.208Z"
   },
   {
    "duration": 16,
    "start_time": "2021-07-07T15:08:25.560Z"
   },
   {
    "duration": 15,
    "start_time": "2021-07-07T15:08:40.647Z"
   },
   {
    "duration": 14,
    "start_time": "2021-07-07T15:08:46.669Z"
   },
   {
    "duration": 533,
    "start_time": "2021-07-07T15:18:07.440Z"
   },
   {
    "duration": 173,
    "start_time": "2021-07-07T15:18:07.974Z"
   },
   {
    "duration": 84,
    "start_time": "2021-07-07T15:18:08.149Z"
   },
   {
    "duration": 3,
    "start_time": "2021-07-07T15:18:08.235Z"
   },
   {
    "duration": 30,
    "start_time": "2021-07-07T15:18:08.240Z"
   },
   {
    "duration": 22,
    "start_time": "2021-07-07T15:18:08.272Z"
   },
   {
    "duration": 11,
    "start_time": "2021-07-07T15:18:08.295Z"
   },
   {
    "duration": 11,
    "start_time": "2021-07-07T15:18:08.309Z"
   },
   {
    "duration": 40,
    "start_time": "2021-07-07T15:18:08.322Z"
   },
   {
    "duration": 42,
    "start_time": "2021-07-07T15:18:08.364Z"
   },
   {
    "duration": 22,
    "start_time": "2021-07-07T15:18:08.408Z"
   },
   {
    "duration": 5,
    "start_time": "2021-07-07T15:18:08.432Z"
   },
   {
    "duration": 13,
    "start_time": "2021-07-07T15:18:08.439Z"
   },
   {
    "duration": 9,
    "start_time": "2021-07-07T15:18:08.454Z"
   },
   {
    "duration": 32,
    "start_time": "2021-07-07T15:18:08.465Z"
   },
   {
    "duration": 10,
    "start_time": "2021-07-07T15:18:08.501Z"
   },
   {
    "duration": 7,
    "start_time": "2021-07-07T15:18:08.513Z"
   },
   {
    "duration": 11,
    "start_time": "2021-07-07T15:18:08.521Z"
   },
   {
    "duration": 17,
    "start_time": "2021-07-07T15:18:08.534Z"
   },
   {
    "duration": 44,
    "start_time": "2021-07-07T15:18:08.553Z"
   },
   {
    "duration": 22,
    "start_time": "2021-07-07T15:18:08.599Z"
   },
   {
    "duration": 61,
    "start_time": "2021-07-07T15:18:08.622Z"
   },
   {
    "duration": 7,
    "start_time": "2021-07-07T15:18:39.457Z"
   },
   {
    "duration": 5,
    "start_time": "2021-07-07T16:05:17.020Z"
   },
   {
    "duration": 5,
    "start_time": "2021-07-07T16:51:28.794Z"
   },
   {
    "duration": 546,
    "start_time": "2021-07-07T16:52:26.306Z"
   },
   {
    "duration": 203,
    "start_time": "2021-07-07T16:52:27.523Z"
   },
   {
    "duration": 85,
    "start_time": "2021-07-07T16:52:27.736Z"
   },
   {
    "duration": 4,
    "start_time": "2021-07-07T16:52:27.899Z"
   },
   {
    "duration": 25,
    "start_time": "2021-07-07T16:52:28.674Z"
   },
   {
    "duration": 8,
    "start_time": "2021-07-07T16:52:32.956Z"
   },
   {
    "duration": 18,
    "start_time": "2021-07-07T16:52:35.616Z"
   },
   {
    "duration": 6,
    "start_time": "2021-07-07T16:52:36.913Z"
   },
   {
    "duration": 11,
    "start_time": "2021-07-07T16:52:40.258Z"
   },
   {
    "duration": 10,
    "start_time": "2021-07-07T16:52:46.251Z"
   },
   {
    "duration": 8,
    "start_time": "2021-07-07T16:52:47.182Z"
   },
   {
    "duration": 27,
    "start_time": "2021-07-07T16:53:20.391Z"
   },
   {
    "duration": 20,
    "start_time": "2021-07-07T16:53:22.022Z"
   },
   {
    "duration": 23,
    "start_time": "2021-07-07T16:53:23.690Z"
   },
   {
    "duration": 8,
    "start_time": "2021-07-07T16:53:24.261Z"
   },
   {
    "duration": 4,
    "start_time": "2021-07-07T16:53:38.733Z"
   },
   {
    "duration": 7,
    "start_time": "2021-07-07T16:53:40.445Z"
   },
   {
    "duration": 11,
    "start_time": "2021-07-07T16:53:41.348Z"
   },
   {
    "duration": 13,
    "start_time": "2021-07-07T16:53:45.250Z"
   },
   {
    "duration": 12,
    "start_time": "2021-07-07T16:53:45.467Z"
   },
   {
    "duration": 4,
    "start_time": "2021-07-07T16:55:32.704Z"
   },
   {
    "duration": 12,
    "start_time": "2021-07-07T16:55:49.012Z"
   },
   {
    "duration": 18,
    "start_time": "2021-07-07T16:55:49.547Z"
   },
   {
    "duration": 611,
    "start_time": "2021-07-07T16:58:35.156Z"
   },
   {
    "duration": 200,
    "start_time": "2021-07-07T16:58:35.770Z"
   },
   {
    "duration": 86,
    "start_time": "2021-07-07T16:58:35.972Z"
   },
   {
    "duration": 3,
    "start_time": "2021-07-07T16:58:36.060Z"
   },
   {
    "duration": 27,
    "start_time": "2021-07-07T16:58:36.065Z"
   },
   {
    "duration": 8,
    "start_time": "2021-07-07T16:58:36.094Z"
   },
   {
    "duration": 17,
    "start_time": "2021-07-07T16:58:36.103Z"
   },
   {
    "duration": 5,
    "start_time": "2021-07-07T16:58:36.123Z"
   },
   {
    "duration": 11,
    "start_time": "2021-07-07T16:58:36.130Z"
   },
   {
    "duration": 7,
    "start_time": "2021-07-07T16:58:36.143Z"
   },
   {
    "duration": 37,
    "start_time": "2021-07-07T16:58:36.152Z"
   },
   {
    "duration": 27,
    "start_time": "2021-07-07T16:58:36.191Z"
   },
   {
    "duration": 19,
    "start_time": "2021-07-07T16:58:36.219Z"
   },
   {
    "duration": 49,
    "start_time": "2021-07-07T16:58:36.240Z"
   },
   {
    "duration": 6,
    "start_time": "2021-07-07T16:58:36.291Z"
   },
   {
    "duration": 3,
    "start_time": "2021-07-07T16:58:36.299Z"
   },
   {
    "duration": 13,
    "start_time": "2021-07-07T16:58:36.304Z"
   },
   {
    "duration": 10,
    "start_time": "2021-07-07T16:58:36.319Z"
   },
   {
    "duration": 10,
    "start_time": "2021-07-07T16:58:36.331Z"
   },
   {
    "duration": 44,
    "start_time": "2021-07-07T16:58:36.343Z"
   },
   {
    "duration": 4,
    "start_time": "2021-07-07T16:58:36.388Z"
   },
   {
    "duration": 13,
    "start_time": "2021-07-07T16:58:36.394Z"
   },
   {
    "duration": 16,
    "start_time": "2021-07-07T16:58:36.410Z"
   },
   {
    "duration": 8,
    "start_time": "2021-07-07T17:02:31.629Z"
   },
   {
    "duration": 8,
    "start_time": "2021-07-07T17:02:34.308Z"
   },
   {
    "duration": 6,
    "start_time": "2021-07-07T17:05:13.483Z"
   },
   {
    "duration": 17,
    "start_time": "2021-07-07T17:05:20.606Z"
   },
   {
    "duration": 7,
    "start_time": "2021-07-07T17:05:34.638Z"
   },
   {
    "duration": 3,
    "start_time": "2021-07-07T17:06:31.883Z"
   },
   {
    "duration": 570,
    "start_time": "2021-07-07T17:06:37.165Z"
   },
   {
    "duration": 174,
    "start_time": "2021-07-07T17:06:37.737Z"
   },
   {
    "duration": 47,
    "start_time": "2021-07-07T17:06:37.913Z"
   },
   {
    "duration": 3,
    "start_time": "2021-07-07T17:06:37.962Z"
   },
   {
    "duration": 27,
    "start_time": "2021-07-07T17:06:37.967Z"
   },
   {
    "duration": 7,
    "start_time": "2021-07-07T17:06:37.996Z"
   },
   {
    "duration": 16,
    "start_time": "2021-07-07T17:06:38.005Z"
   },
   {
    "duration": 6,
    "start_time": "2021-07-07T17:06:38.024Z"
   },
   {
    "duration": 12,
    "start_time": "2021-07-07T17:06:38.031Z"
   },
   {
    "duration": 41,
    "start_time": "2021-07-07T17:06:38.045Z"
   },
   {
    "duration": 8,
    "start_time": "2021-07-07T17:06:38.088Z"
   },
   {
    "duration": 26,
    "start_time": "2021-07-07T17:06:38.098Z"
   },
   {
    "duration": 17,
    "start_time": "2021-07-07T17:06:38.126Z"
   },
   {
    "duration": 43,
    "start_time": "2021-07-07T17:06:38.144Z"
   },
   {
    "duration": 6,
    "start_time": "2021-07-07T17:06:38.188Z"
   },
   {
    "duration": 5,
    "start_time": "2021-07-07T17:06:38.195Z"
   },
   {
    "duration": 9,
    "start_time": "2021-07-07T17:06:38.201Z"
   },
   {
    "duration": 12,
    "start_time": "2021-07-07T17:06:38.212Z"
   },
   {
    "duration": 11,
    "start_time": "2021-07-07T17:06:38.226Z"
   },
   {
    "duration": 47,
    "start_time": "2021-07-07T17:06:38.239Z"
   },
   {
    "duration": 4,
    "start_time": "2021-07-07T17:06:38.288Z"
   },
   {
    "duration": 13,
    "start_time": "2021-07-07T17:06:38.293Z"
   },
   {
    "duration": 5,
    "start_time": "2021-07-07T17:06:38.309Z"
   },
   {
    "duration": 18,
    "start_time": "2021-07-07T17:06:38.325Z"
   },
   {
    "duration": 20,
    "start_time": "2021-07-07T17:07:02.805Z"
   },
   {
    "duration": 19,
    "start_time": "2021-07-07T17:07:08.527Z"
   },
   {
    "duration": 19,
    "start_time": "2021-07-07T17:07:12.758Z"
   },
   {
    "duration": 22,
    "start_time": "2021-07-07T17:07:17.497Z"
   },
   {
    "duration": 19,
    "start_time": "2021-07-07T17:07:19.645Z"
   },
   {
    "duration": 10,
    "start_time": "2021-07-07T17:07:34.239Z"
   },
   {
    "duration": 17,
    "start_time": "2021-07-07T17:07:54.144Z"
   },
   {
    "duration": 14,
    "start_time": "2021-07-07T17:08:14.357Z"
   },
   {
    "duration": 616,
    "start_time": "2021-07-07T17:08:45.254Z"
   },
   {
    "duration": 178,
    "start_time": "2021-07-07T17:08:45.872Z"
   },
   {
    "duration": 60,
    "start_time": "2021-07-07T17:08:46.054Z"
   },
   {
    "duration": 3,
    "start_time": "2021-07-07T17:08:46.116Z"
   },
   {
    "duration": 26,
    "start_time": "2021-07-07T17:08:46.121Z"
   },
   {
    "duration": 7,
    "start_time": "2021-07-07T17:08:46.149Z"
   },
   {
    "duration": 17,
    "start_time": "2021-07-07T17:08:46.158Z"
   },
   {
    "duration": 14,
    "start_time": "2021-07-07T17:08:46.176Z"
   },
   {
    "duration": 17,
    "start_time": "2021-07-07T17:08:46.193Z"
   },
   {
    "duration": 9,
    "start_time": "2021-07-07T17:08:46.211Z"
   },
   {
    "duration": 21,
    "start_time": "2021-07-07T17:08:46.221Z"
   },
   {
    "duration": 49,
    "start_time": "2021-07-07T17:08:46.244Z"
   },
   {
    "duration": 24,
    "start_time": "2021-07-07T17:08:46.295Z"
   },
   {
    "duration": 22,
    "start_time": "2021-07-07T17:08:46.321Z"
   },
   {
    "duration": 6,
    "start_time": "2021-07-07T17:08:46.345Z"
   },
   {
    "duration": 5,
    "start_time": "2021-07-07T17:08:46.353Z"
   },
   {
    "duration": 13,
    "start_time": "2021-07-07T17:08:46.386Z"
   },
   {
    "duration": 12,
    "start_time": "2021-07-07T17:08:46.402Z"
   },
   {
    "duration": 10,
    "start_time": "2021-07-07T17:08:46.415Z"
   },
   {
    "duration": 7,
    "start_time": "2021-07-07T17:08:46.427Z"
   },
   {
    "duration": 8,
    "start_time": "2021-07-07T17:08:46.435Z"
   },
   {
    "duration": 68,
    "start_time": "2021-07-07T17:08:46.446Z"
   },
   {
    "duration": 13,
    "start_time": "2021-07-07T17:08:46.516Z"
   },
   {
    "duration": 78,
    "start_time": "2021-07-07T17:08:46.530Z"
   },
   {
    "duration": 40,
    "start_time": "2021-07-07T17:09:08.185Z"
   },
   {
    "duration": 16,
    "start_time": "2021-07-07T17:09:19.324Z"
   },
   {
    "duration": 21,
    "start_time": "2021-07-07T17:09:23.290Z"
   },
   {
    "duration": 13,
    "start_time": "2021-07-07T17:09:54.812Z"
   },
   {
    "duration": 13,
    "start_time": "2021-07-07T17:10:02.039Z"
   },
   {
    "duration": 10,
    "start_time": "2021-07-07T17:10:29.632Z"
   },
   {
    "duration": 13,
    "start_time": "2021-07-07T17:10:52.372Z"
   },
   {
    "duration": 13,
    "start_time": "2021-07-07T17:11:17.270Z"
   },
   {
    "duration": 13,
    "start_time": "2021-07-07T17:14:59.284Z"
   },
   {
    "duration": 547,
    "start_time": "2021-07-07T17:18:52.403Z"
   },
   {
    "duration": 163,
    "start_time": "2021-07-07T17:18:52.952Z"
   },
   {
    "duration": 44,
    "start_time": "2021-07-07T17:18:53.117Z"
   },
   {
    "duration": 3,
    "start_time": "2021-07-07T17:18:53.162Z"
   },
   {
    "duration": 26,
    "start_time": "2021-07-07T17:18:53.167Z"
   },
   {
    "duration": 6,
    "start_time": "2021-07-07T17:18:53.195Z"
   },
   {
    "duration": 15,
    "start_time": "2021-07-07T17:18:53.203Z"
   },
   {
    "duration": 5,
    "start_time": "2021-07-07T17:18:53.220Z"
   },
   {
    "duration": 11,
    "start_time": "2021-07-07T17:18:53.228Z"
   },
   {
    "duration": 9,
    "start_time": "2021-07-07T17:18:53.241Z"
   },
   {
    "duration": 41,
    "start_time": "2021-07-07T17:18:53.252Z"
   },
   {
    "duration": 33,
    "start_time": "2021-07-07T17:18:53.295Z"
   },
   {
    "duration": 19,
    "start_time": "2021-07-07T17:18:53.330Z"
   },
   {
    "duration": 49,
    "start_time": "2021-07-07T17:18:53.350Z"
   },
   {
    "duration": 5,
    "start_time": "2021-07-07T17:18:53.401Z"
   },
   {
    "duration": 5,
    "start_time": "2021-07-07T17:18:53.408Z"
   },
   {
    "duration": 11,
    "start_time": "2021-07-07T17:18:53.414Z"
   },
   {
    "duration": 9,
    "start_time": "2021-07-07T17:18:53.427Z"
   },
   {
    "duration": 10,
    "start_time": "2021-07-07T17:18:53.437Z"
   },
   {
    "duration": 39,
    "start_time": "2021-07-07T17:18:53.448Z"
   },
   {
    "duration": 26,
    "start_time": "2021-07-07T17:18:55.799Z"
   },
   {
    "duration": 598,
    "start_time": "2021-07-07T17:20:17.862Z"
   },
   {
    "duration": 161,
    "start_time": "2021-07-07T17:20:18.462Z"
   },
   {
    "duration": 45,
    "start_time": "2021-07-07T17:20:18.626Z"
   },
   {
    "duration": 4,
    "start_time": "2021-07-07T17:20:18.673Z"
   },
   {
    "duration": 38,
    "start_time": "2021-07-07T17:20:26.877Z"
   },
   {
    "duration": 7,
    "start_time": "2021-07-07T17:20:37.405Z"
   },
   {
    "duration": 19,
    "start_time": "2021-07-07T17:20:51.534Z"
   },
   {
    "duration": 5,
    "start_time": "2021-07-07T17:20:57.228Z"
   },
   {
    "duration": 7,
    "start_time": "2021-07-07T17:21:08.235Z"
   },
   {
    "duration": 19,
    "start_time": "2021-07-07T17:21:42.158Z"
   },
   {
    "duration": 14,
    "start_time": "2021-07-07T17:21:50.225Z"
   },
   {
    "duration": 22,
    "start_time": "2021-07-07T17:22:54.104Z"
   },
   {
    "duration": 5,
    "start_time": "2021-07-07T17:22:56.371Z"
   },
   {
    "duration": 14,
    "start_time": "2021-07-07T17:22:58.316Z"
   },
   {
    "duration": 5,
    "start_time": "2021-07-07T17:22:58.493Z"
   },
   {
    "duration": 35,
    "start_time": "2021-07-07T17:22:59.666Z"
   },
   {
    "duration": 6,
    "start_time": "2021-07-07T17:23:02.410Z"
   },
   {
    "duration": 611,
    "start_time": "2021-07-07T17:24:59.664Z"
   },
   {
    "duration": 178,
    "start_time": "2021-07-07T17:25:01.945Z"
   },
   {
    "duration": 47,
    "start_time": "2021-07-07T17:25:02.125Z"
   },
   {
    "duration": 2,
    "start_time": "2021-07-07T17:25:07.903Z"
   },
   {
    "duration": 254,
    "start_time": "2021-07-07T17:25:08.232Z"
   },
   {
    "duration": 182,
    "start_time": "2021-07-07T17:25:08.671Z"
   },
   {
    "duration": 6,
    "start_time": "2021-07-07T17:25:13.104Z"
   },
   {
    "duration": 36,
    "start_time": "2021-07-07T17:25:13.662Z"
   },
   {
    "duration": 7,
    "start_time": "2021-07-07T17:25:14.528Z"
   },
   {
    "duration": 24,
    "start_time": "2021-07-07T17:25:27.982Z"
   },
   {
    "duration": 3,
    "start_time": "2021-07-07T17:25:48.982Z"
   },
   {
    "duration": 165,
    "start_time": "2021-07-07T17:25:48.987Z"
   },
   {
    "duration": 50,
    "start_time": "2021-07-07T17:25:49.154Z"
   },
   {
    "duration": 4,
    "start_time": "2021-07-07T17:25:49.206Z"
   },
   {
    "duration": 26,
    "start_time": "2021-07-07T17:25:49.212Z"
   },
   {
    "duration": 7,
    "start_time": "2021-07-07T17:25:49.240Z"
   },
   {
    "duration": 16,
    "start_time": "2021-07-07T17:25:49.249Z"
   },
   {
    "duration": 22,
    "start_time": "2021-07-07T17:25:49.266Z"
   },
   {
    "duration": 16,
    "start_time": "2021-07-07T17:25:49.291Z"
   },
   {
    "duration": 9,
    "start_time": "2021-07-07T17:25:49.309Z"
   },
   {
    "duration": 7,
    "start_time": "2021-07-07T17:25:49.319Z"
   },
   {
    "duration": 28,
    "start_time": "2021-07-07T17:25:49.328Z"
   },
   {
    "duration": 44,
    "start_time": "2021-07-07T17:25:49.357Z"
   },
   {
    "duration": 22,
    "start_time": "2021-07-07T17:25:49.403Z"
   },
   {
    "duration": 7,
    "start_time": "2021-07-07T17:25:49.427Z"
   },
   {
    "duration": 3,
    "start_time": "2021-07-07T17:25:49.436Z"
   },
   {
    "duration": 44,
    "start_time": "2021-07-07T17:25:49.441Z"
   },
   {
    "duration": 12,
    "start_time": "2021-07-07T17:25:49.488Z"
   },
   {
    "duration": 13,
    "start_time": "2021-07-07T17:25:49.502Z"
   },
   {
    "duration": 10,
    "start_time": "2021-07-07T17:25:49.516Z"
   },
   {
    "duration": 62,
    "start_time": "2021-07-07T17:25:49.527Z"
   },
   {
    "duration": 26,
    "start_time": "2021-07-07T17:26:51.809Z"
   },
   {
    "duration": 26,
    "start_time": "2021-07-07T17:26:55.759Z"
   },
   {
    "duration": 26,
    "start_time": "2021-07-07T17:27:04.501Z"
   },
   {
    "duration": 25,
    "start_time": "2021-07-07T17:28:24.859Z"
   },
   {
    "duration": 21,
    "start_time": "2021-07-07T17:28:55.250Z"
   },
   {
    "duration": 21,
    "start_time": "2021-07-07T17:28:58.885Z"
   },
   {
    "duration": 7,
    "start_time": "2021-07-07T17:45:40.972Z"
   },
   {
    "duration": 13,
    "start_time": "2021-07-07T17:45:42.529Z"
   },
   {
    "duration": 27,
    "start_time": "2021-07-07T17:45:51.026Z"
   },
   {
    "duration": 518,
    "start_time": "2021-07-07T17:46:15.532Z"
   },
   {
    "duration": 235,
    "start_time": "2021-07-07T17:46:16.053Z"
   },
   {
    "duration": 80,
    "start_time": "2021-07-07T17:46:16.292Z"
   },
   {
    "duration": 5,
    "start_time": "2021-07-07T17:46:16.373Z"
   },
   {
    "duration": 26,
    "start_time": "2021-07-07T17:46:16.380Z"
   },
   {
    "duration": 7,
    "start_time": "2021-07-07T17:46:16.408Z"
   },
   {
    "duration": 16,
    "start_time": "2021-07-07T17:46:16.418Z"
   },
   {
    "duration": 5,
    "start_time": "2021-07-07T17:46:16.436Z"
   },
   {
    "duration": 13,
    "start_time": "2021-07-07T17:46:16.442Z"
   },
   {
    "duration": 35,
    "start_time": "2021-07-07T17:46:16.456Z"
   },
   {
    "duration": 8,
    "start_time": "2021-07-07T17:46:16.493Z"
   },
   {
    "duration": 28,
    "start_time": "2021-07-07T17:46:16.502Z"
   },
   {
    "duration": 17,
    "start_time": "2021-07-07T17:46:16.532Z"
   },
   {
    "duration": 44,
    "start_time": "2021-07-07T17:46:16.551Z"
   },
   {
    "duration": 6,
    "start_time": "2021-07-07T17:46:16.597Z"
   },
   {
    "duration": 4,
    "start_time": "2021-07-07T17:46:16.605Z"
   },
   {
    "duration": 9,
    "start_time": "2021-07-07T17:46:16.610Z"
   },
   {
    "duration": 9,
    "start_time": "2021-07-07T17:46:16.621Z"
   },
   {
    "duration": 10,
    "start_time": "2021-07-07T17:46:16.632Z"
   },
   {
    "duration": 43,
    "start_time": "2021-07-07T17:46:16.644Z"
   },
   {
    "duration": 26,
    "start_time": "2021-07-07T17:46:16.689Z"
   },
   {
    "duration": 19,
    "start_time": "2021-07-07T17:46:16.718Z"
   },
   {
    "duration": 8,
    "start_time": "2021-07-07T17:46:16.738Z"
   },
   {
    "duration": 43,
    "start_time": "2021-07-07T17:46:16.747Z"
   },
   {
    "duration": 19,
    "start_time": "2021-07-07T17:46:16.791Z"
   },
   {
    "duration": 9,
    "start_time": "2021-07-07T17:46:16.812Z"
   },
   {
    "duration": 60,
    "start_time": "2021-07-07T17:46:16.822Z"
   },
   {
    "duration": -8,
    "start_time": "2021-07-07T17:46:16.892Z"
   },
   {
    "duration": 12,
    "start_time": "2021-07-07T17:48:47.707Z"
   },
   {
    "duration": 553,
    "start_time": "2021-07-07T18:10:09.350Z"
   },
   {
    "duration": 230,
    "start_time": "2021-07-07T18:10:09.905Z"
   },
   {
    "duration": 97,
    "start_time": "2021-07-07T18:10:10.137Z"
   },
   {
    "duration": 5,
    "start_time": "2021-07-07T18:10:10.236Z"
   },
   {
    "duration": 29,
    "start_time": "2021-07-07T18:10:10.242Z"
   },
   {
    "duration": 7,
    "start_time": "2021-07-07T18:10:10.272Z"
   },
   {
    "duration": 15,
    "start_time": "2021-07-07T18:10:10.281Z"
   },
   {
    "duration": 4,
    "start_time": "2021-07-07T18:10:10.299Z"
   },
   {
    "duration": 14,
    "start_time": "2021-07-07T18:10:10.305Z"
   },
   {
    "duration": 8,
    "start_time": "2021-07-07T18:10:10.321Z"
   },
   {
    "duration": 8,
    "start_time": "2021-07-07T18:10:10.331Z"
   },
   {
    "duration": 56,
    "start_time": "2021-07-07T18:10:10.341Z"
   },
   {
    "duration": 19,
    "start_time": "2021-07-07T18:10:10.399Z"
   },
   {
    "duration": 23,
    "start_time": "2021-07-07T18:10:10.419Z"
   },
   {
    "duration": 6,
    "start_time": "2021-07-07T18:10:10.444Z"
   },
   {
    "duration": 9,
    "start_time": "2021-07-07T18:10:10.451Z"
   },
   {
    "duration": 30,
    "start_time": "2021-07-07T18:10:10.462Z"
   },
   {
    "duration": 9,
    "start_time": "2021-07-07T18:10:10.494Z"
   },
   {
    "duration": 14,
    "start_time": "2021-07-07T18:10:10.505Z"
   },
   {
    "duration": 7,
    "start_time": "2021-07-07T18:10:10.521Z"
   },
   {
    "duration": 26,
    "start_time": "2021-07-07T18:10:10.530Z"
   },
   {
    "duration": 44,
    "start_time": "2021-07-07T18:10:10.558Z"
   },
   {
    "duration": 7,
    "start_time": "2021-07-07T18:10:10.605Z"
   },
   {
    "duration": 11,
    "start_time": "2021-07-07T18:10:10.614Z"
   },
   {
    "duration": 19,
    "start_time": "2021-07-07T18:10:10.626Z"
   },
   {
    "duration": 44,
    "start_time": "2021-07-07T18:10:10.646Z"
   },
   {
    "duration": 516,
    "start_time": "2021-07-07T18:14:00.826Z"
   },
   {
    "duration": 230,
    "start_time": "2021-07-07T18:14:01.344Z"
   },
   {
    "duration": 105,
    "start_time": "2021-07-07T18:14:01.576Z"
   },
   {
    "duration": 5,
    "start_time": "2021-07-07T18:14:01.683Z"
   },
   {
    "duration": 46,
    "start_time": "2021-07-07T18:14:01.690Z"
   },
   {
    "duration": 7,
    "start_time": "2021-07-07T18:14:01.738Z"
   },
   {
    "duration": 20,
    "start_time": "2021-07-07T18:14:01.747Z"
   },
   {
    "duration": 16,
    "start_time": "2021-07-07T18:14:01.769Z"
   },
   {
    "duration": 14,
    "start_time": "2021-07-07T18:14:01.787Z"
   },
   {
    "duration": 15,
    "start_time": "2021-07-07T18:14:01.803Z"
   },
   {
    "duration": 12,
    "start_time": "2021-07-07T18:14:01.820Z"
   },
   {
    "duration": 35,
    "start_time": "2021-07-07T18:14:01.833Z"
   },
   {
    "duration": 31,
    "start_time": "2021-07-07T18:14:01.869Z"
   },
   {
    "duration": 37,
    "start_time": "2021-07-07T18:14:01.902Z"
   },
   {
    "duration": 8,
    "start_time": "2021-07-07T18:14:01.942Z"
   },
   {
    "duration": 16,
    "start_time": "2021-07-07T18:14:01.952Z"
   },
   {
    "duration": 13,
    "start_time": "2021-07-07T18:14:01.970Z"
   },
   {
    "duration": 32,
    "start_time": "2021-07-07T18:14:01.985Z"
   },
   {
    "duration": 11,
    "start_time": "2021-07-07T18:14:02.019Z"
   },
   {
    "duration": 22,
    "start_time": "2021-07-07T18:14:02.031Z"
   },
   {
    "duration": 27,
    "start_time": "2021-07-07T18:14:02.055Z"
   },
   {
    "duration": 18,
    "start_time": "2021-07-07T18:14:02.084Z"
   },
   {
    "duration": 18,
    "start_time": "2021-07-07T18:14:02.106Z"
   },
   {
    "duration": 11,
    "start_time": "2021-07-07T18:14:02.126Z"
   },
   {
    "duration": 21,
    "start_time": "2021-07-07T18:14:02.138Z"
   },
   {
    "duration": 32,
    "start_time": "2021-07-07T18:14:02.161Z"
   },
   {
    "duration": 28,
    "start_time": "2021-07-07T18:14:44.295Z"
   },
   {
    "duration": 6,
    "start_time": "2021-07-07T18:15:05.834Z"
   },
   {
    "duration": 511,
    "start_time": "2021-07-07T18:15:41.541Z"
   },
   {
    "duration": 183,
    "start_time": "2021-07-07T18:15:42.054Z"
   },
   {
    "duration": 50,
    "start_time": "2021-07-07T18:15:42.239Z"
   },
   {
    "duration": 5,
    "start_time": "2021-07-07T18:15:42.291Z"
   },
   {
    "duration": 48,
    "start_time": "2021-07-07T18:15:42.297Z"
   },
   {
    "duration": 8,
    "start_time": "2021-07-07T18:15:42.346Z"
   },
   {
    "duration": 17,
    "start_time": "2021-07-07T18:15:42.356Z"
   },
   {
    "duration": 15,
    "start_time": "2021-07-07T18:15:42.375Z"
   },
   {
    "duration": 12,
    "start_time": "2021-07-07T18:15:42.392Z"
   },
   {
    "duration": 7,
    "start_time": "2021-07-07T18:15:42.406Z"
   },
   {
    "duration": 7,
    "start_time": "2021-07-07T18:15:42.415Z"
   },
   {
    "duration": 29,
    "start_time": "2021-07-07T18:15:42.423Z"
   },
   {
    "duration": 43,
    "start_time": "2021-07-07T18:15:42.453Z"
   },
   {
    "duration": 18,
    "start_time": "2021-07-07T18:15:42.497Z"
   },
   {
    "duration": 6,
    "start_time": "2021-07-07T18:15:42.516Z"
   },
   {
    "duration": 3,
    "start_time": "2021-07-07T18:15:42.523Z"
   },
   {
    "duration": 18,
    "start_time": "2021-07-07T18:15:42.528Z"
   },
   {
    "duration": 10,
    "start_time": "2021-07-07T18:15:42.547Z"
   },
   {
    "duration": 36,
    "start_time": "2021-07-07T18:15:42.559Z"
   },
   {
    "duration": 8,
    "start_time": "2021-07-07T18:15:42.597Z"
   },
   {
    "duration": 28,
    "start_time": "2021-07-07T18:15:42.606Z"
   },
   {
    "duration": 52,
    "start_time": "2021-07-07T18:15:42.635Z"
   },
   {
    "duration": 7,
    "start_time": "2021-07-07T18:15:42.690Z"
   },
   {
    "duration": 10,
    "start_time": "2021-07-07T18:15:42.699Z"
   },
   {
    "duration": 19,
    "start_time": "2021-07-07T18:15:42.711Z"
   },
   {
    "duration": 9,
    "start_time": "2021-07-07T18:15:42.732Z"
   },
   {
    "duration": 5,
    "start_time": "2021-07-07T18:15:42.743Z"
   },
   {
    "duration": 1450,
    "start_time": "2021-07-07T18:15:51.984Z"
   },
   {
    "duration": 161,
    "start_time": "2021-07-07T18:15:53.435Z"
   },
   {
    "duration": 124,
    "start_time": "2021-07-07T18:15:53.598Z"
   },
   {
    "duration": 5,
    "start_time": "2021-07-07T18:15:53.724Z"
   },
   {
    "duration": 34,
    "start_time": "2021-07-07T18:15:53.730Z"
   },
   {
    "duration": 7,
    "start_time": "2021-07-07T18:15:53.765Z"
   },
   {
    "duration": 15,
    "start_time": "2021-07-07T18:15:53.773Z"
   },
   {
    "duration": 5,
    "start_time": "2021-07-07T18:15:53.791Z"
   },
   {
    "duration": 19,
    "start_time": "2021-07-07T18:15:53.798Z"
   },
   {
    "duration": 9,
    "start_time": "2021-07-07T18:15:53.818Z"
   },
   {
    "duration": 19,
    "start_time": "2021-07-07T18:15:53.828Z"
   },
   {
    "duration": 27,
    "start_time": "2021-07-07T18:15:53.848Z"
   },
   {
    "duration": 16,
    "start_time": "2021-07-07T18:15:53.884Z"
   },
   {
    "duration": 29,
    "start_time": "2021-07-07T18:15:53.901Z"
   },
   {
    "duration": 5,
    "start_time": "2021-07-07T18:15:53.932Z"
   },
   {
    "duration": 15,
    "start_time": "2021-07-07T18:15:53.939Z"
   },
   {
    "duration": 13,
    "start_time": "2021-07-07T18:15:53.956Z"
   },
   {
    "duration": 20,
    "start_time": "2021-07-07T18:15:53.971Z"
   },
   {
    "duration": 14,
    "start_time": "2021-07-07T18:15:53.992Z"
   },
   {
    "duration": 9,
    "start_time": "2021-07-07T18:15:54.009Z"
   },
   {
    "duration": 28,
    "start_time": "2021-07-07T18:15:54.020Z"
   },
   {
    "duration": 50,
    "start_time": "2021-07-07T18:15:54.051Z"
   },
   {
    "duration": 8,
    "start_time": "2021-07-07T18:15:54.105Z"
   },
   {
    "duration": 11,
    "start_time": "2021-07-07T18:15:54.115Z"
   },
   {
    "duration": 20,
    "start_time": "2021-07-07T18:15:54.128Z"
   },
   {
    "duration": 13,
    "start_time": "2021-07-07T18:15:54.184Z"
   },
   {
    "duration": 7,
    "start_time": "2021-07-07T18:15:54.199Z"
   },
   {
    "duration": 7,
    "start_time": "2021-07-07T18:17:08.042Z"
   },
   {
    "duration": 8,
    "start_time": "2021-07-07T18:17:21.008Z"
   },
   {
    "duration": 7,
    "start_time": "2021-07-07T18:17:29.003Z"
   },
   {
    "duration": 8,
    "start_time": "2021-07-07T18:17:32.492Z"
   },
   {
    "duration": 9,
    "start_time": "2021-07-07T18:17:41.758Z"
   },
   {
    "duration": 255,
    "start_time": "2021-07-07T18:20:20.897Z"
   },
   {
    "duration": 173,
    "start_time": "2021-07-07T18:20:26.636Z"
   },
   {
    "duration": 7,
    "start_time": "2021-07-07T18:21:47.164Z"
   },
   {
    "duration": 254,
    "start_time": "2021-07-07T18:23:08.703Z"
   },
   {
    "duration": 21,
    "start_time": "2021-07-07T18:23:22.506Z"
   },
   {
    "duration": 315,
    "start_time": "2021-07-07T18:25:54.801Z"
   },
   {
    "duration": 34,
    "start_time": "2021-07-07T18:26:51.817Z"
   },
   {
    "duration": 327,
    "start_time": "2021-07-07T18:26:56.147Z"
   },
   {
    "duration": 342,
    "start_time": "2021-07-07T18:27:15.887Z"
   },
   {
    "duration": 302,
    "start_time": "2021-07-07T18:28:18.569Z"
   },
   {
    "duration": 226,
    "start_time": "2021-07-07T18:29:20.879Z"
   },
   {
    "duration": 207,
    "start_time": "2021-07-07T18:29:58.114Z"
   },
   {
    "duration": 140,
    "start_time": "2021-07-07T18:32:04.372Z"
   },
   {
    "duration": 158,
    "start_time": "2021-07-07T18:32:32.508Z"
   },
   {
    "duration": 145,
    "start_time": "2021-07-07T18:32:41.365Z"
   },
   {
    "duration": 132,
    "start_time": "2021-07-07T18:32:45.199Z"
   },
   {
    "duration": 11,
    "start_time": "2021-07-07T18:35:24.679Z"
   },
   {
    "duration": 268,
    "start_time": "2021-07-07T18:36:16.145Z"
   },
   {
    "duration": 227,
    "start_time": "2021-07-07T18:37:04.918Z"
   },
   {
    "duration": 3,
    "start_time": "2021-07-07T18:37:33.012Z"
   },
   {
    "duration": 671,
    "start_time": "2021-07-07T18:37:38.295Z"
   },
   {
    "duration": 54,
    "start_time": "2021-07-07T18:37:53.406Z"
   },
   {
    "duration": 631,
    "start_time": "2021-07-07T18:37:56.463Z"
   },
   {
    "duration": 19,
    "start_time": "2021-07-07T18:39:40.535Z"
   },
   {
    "duration": 20,
    "start_time": "2021-07-07T18:40:12.236Z"
   },
   {
    "duration": 633,
    "start_time": "2021-07-07T18:42:00.398Z"
   },
   {
    "duration": 218,
    "start_time": "2021-07-07T18:42:01.033Z"
   },
   {
    "duration": 49,
    "start_time": "2021-07-07T18:42:01.253Z"
   },
   {
    "duration": 5,
    "start_time": "2021-07-07T18:42:01.303Z"
   },
   {
    "duration": 27,
    "start_time": "2021-07-07T18:42:01.310Z"
   },
   {
    "duration": 8,
    "start_time": "2021-07-07T18:42:01.339Z"
   },
   {
    "duration": 20,
    "start_time": "2021-07-07T18:42:01.348Z"
   },
   {
    "duration": 6,
    "start_time": "2021-07-07T18:42:01.386Z"
   },
   {
    "duration": 16,
    "start_time": "2021-07-07T18:42:01.394Z"
   },
   {
    "duration": 9,
    "start_time": "2021-07-07T18:42:01.411Z"
   },
   {
    "duration": 11,
    "start_time": "2021-07-07T18:42:01.421Z"
   },
   {
    "duration": 31,
    "start_time": "2021-07-07T18:42:01.434Z"
   },
   {
    "duration": 18,
    "start_time": "2021-07-07T18:42:01.485Z"
   },
   {
    "duration": 23,
    "start_time": "2021-07-07T18:42:01.505Z"
   },
   {
    "duration": 6,
    "start_time": "2021-07-07T18:42:01.530Z"
   },
   {
    "duration": 10,
    "start_time": "2021-07-07T18:42:01.538Z"
   },
   {
    "duration": 13,
    "start_time": "2021-07-07T18:42:01.550Z"
   },
   {
    "duration": 24,
    "start_time": "2021-07-07T18:42:01.564Z"
   },
   {
    "duration": 20,
    "start_time": "2021-07-07T18:42:01.590Z"
   },
   {
    "duration": 8,
    "start_time": "2021-07-07T18:42:01.611Z"
   },
   {
    "duration": 31,
    "start_time": "2021-07-07T18:42:01.620Z"
   },
   {
    "duration": 39,
    "start_time": "2021-07-07T18:42:01.653Z"
   },
   {
    "duration": 8,
    "start_time": "2021-07-07T18:42:01.696Z"
   },
   {
    "duration": 13,
    "start_time": "2021-07-07T18:42:01.705Z"
   },
   {
    "duration": 20,
    "start_time": "2021-07-07T18:42:01.720Z"
   },
   {
    "duration": 12,
    "start_time": "2021-07-07T18:42:01.741Z"
   },
   {
    "duration": 35,
    "start_time": "2021-07-07T18:42:01.755Z"
   },
   {
    "duration": 14,
    "start_time": "2021-07-07T18:42:01.792Z"
   },
   {
    "duration": 188,
    "start_time": "2021-07-07T18:42:01.808Z"
   },
   {
    "duration": 19,
    "start_time": "2021-07-07T18:42:01.998Z"
   },
   {
    "duration": 175,
    "start_time": "2021-07-07T18:42:02.019Z"
   },
   {
    "duration": 134,
    "start_time": "2021-07-07T18:42:02.196Z"
   },
   {
    "duration": 10,
    "start_time": "2021-07-07T18:42:02.331Z"
   },
   {
    "duration": 19,
    "start_time": "2021-07-07T18:42:02.343Z"
   },
   {
    "duration": 628,
    "start_time": "2021-07-07T18:46:30.701Z"
   },
   {
    "duration": 183,
    "start_time": "2021-07-07T18:46:31.331Z"
   },
   {
    "duration": 48,
    "start_time": "2021-07-07T18:46:31.516Z"
   },
   {
    "duration": 5,
    "start_time": "2021-07-07T18:46:31.566Z"
   },
   {
    "duration": 28,
    "start_time": "2021-07-07T18:46:31.572Z"
   },
   {
    "duration": 8,
    "start_time": "2021-07-07T18:46:31.602Z"
   },
   {
    "duration": 19,
    "start_time": "2021-07-07T18:46:31.611Z"
   },
   {
    "duration": 6,
    "start_time": "2021-07-07T18:46:31.633Z"
   },
   {
    "duration": 17,
    "start_time": "2021-07-07T18:46:31.642Z"
   },
   {
    "duration": 10,
    "start_time": "2021-07-07T18:46:31.684Z"
   },
   {
    "duration": 9,
    "start_time": "2021-07-07T18:46:31.695Z"
   },
   {
    "duration": 28,
    "start_time": "2021-07-07T18:46:31.705Z"
   },
   {
    "duration": 18,
    "start_time": "2021-07-07T18:46:31.735Z"
   },
   {
    "duration": 48,
    "start_time": "2021-07-07T18:46:31.755Z"
   },
   {
    "duration": 6,
    "start_time": "2021-07-07T18:46:31.804Z"
   },
   {
    "duration": 4,
    "start_time": "2021-07-07T18:46:31.812Z"
   },
   {
    "duration": 9,
    "start_time": "2021-07-07T18:46:31.817Z"
   },
   {
    "duration": 10,
    "start_time": "2021-07-07T18:46:31.827Z"
   },
   {
    "duration": 12,
    "start_time": "2021-07-07T18:46:31.838Z"
   },
   {
    "duration": 39,
    "start_time": "2021-07-07T18:46:31.851Z"
   },
   {
    "duration": 24,
    "start_time": "2021-07-07T18:46:31.892Z"
   },
   {
    "duration": 15,
    "start_time": "2021-07-07T18:46:31.918Z"
   },
   {
    "duration": 7,
    "start_time": "2021-07-07T18:46:31.936Z"
   },
   {
    "duration": 8,
    "start_time": "2021-07-07T18:46:31.944Z"
   },
   {
    "duration": 19,
    "start_time": "2021-07-07T18:46:31.984Z"
   },
   {
    "duration": 10,
    "start_time": "2021-07-07T18:46:32.004Z"
   },
   {
    "duration": 5,
    "start_time": "2021-07-07T18:46:32.016Z"
   },
   {
    "duration": 9,
    "start_time": "2021-07-07T18:46:32.023Z"
   },
   {
    "duration": 199,
    "start_time": "2021-07-07T18:46:32.033Z"
   },
   {
    "duration": 19,
    "start_time": "2021-07-07T18:46:32.234Z"
   },
   {
    "duration": 159,
    "start_time": "2021-07-07T18:46:32.255Z"
   },
   {
    "duration": 134,
    "start_time": "2021-07-07T18:46:32.416Z"
   },
   {
    "duration": 10,
    "start_time": "2021-07-07T18:46:32.552Z"
   },
   {
    "duration": 34,
    "start_time": "2021-07-07T18:46:32.563Z"
   },
   {
    "duration": 1039,
    "start_time": "2021-07-08T08:41:09.419Z"
   },
   {
    "duration": 333,
    "start_time": "2021-07-08T08:41:10.459Z"
   },
   {
    "duration": 173,
    "start_time": "2021-07-08T08:41:10.794Z"
   },
   {
    "duration": 5,
    "start_time": "2021-07-08T08:41:10.968Z"
   },
   {
    "duration": 25,
    "start_time": "2021-07-08T08:41:10.975Z"
   },
   {
    "duration": 9,
    "start_time": "2021-07-08T08:41:11.002Z"
   },
   {
    "duration": 18,
    "start_time": "2021-07-08T08:41:11.013Z"
   },
   {
    "duration": 6,
    "start_time": "2021-07-08T08:41:11.033Z"
   },
   {
    "duration": 44,
    "start_time": "2021-07-08T08:41:11.042Z"
   },
   {
    "duration": 10,
    "start_time": "2021-07-08T08:41:11.088Z"
   },
   {
    "duration": 9,
    "start_time": "2021-07-08T08:41:11.100Z"
   },
   {
    "duration": 27,
    "start_time": "2021-07-08T08:41:11.111Z"
   },
   {
    "duration": 46,
    "start_time": "2021-07-08T08:41:11.140Z"
   },
   {
    "duration": 17,
    "start_time": "2021-07-08T08:41:11.187Z"
   },
   {
    "duration": 6,
    "start_time": "2021-07-08T08:41:11.206Z"
   },
   {
    "duration": 5,
    "start_time": "2021-07-08T08:41:11.213Z"
   },
   {
    "duration": 10,
    "start_time": "2021-07-08T08:41:11.219Z"
   },
   {
    "duration": 9,
    "start_time": "2021-07-08T08:41:11.230Z"
   },
   {
    "duration": 45,
    "start_time": "2021-07-08T08:41:11.241Z"
   },
   {
    "duration": 7,
    "start_time": "2021-07-08T08:41:11.287Z"
   },
   {
    "duration": 24,
    "start_time": "2021-07-08T08:41:11.296Z"
   },
   {
    "duration": 16,
    "start_time": "2021-07-08T08:41:11.322Z"
   },
   {
    "duration": 7,
    "start_time": "2021-07-08T08:41:11.341Z"
   },
   {
    "duration": 41,
    "start_time": "2021-07-08T08:41:11.349Z"
   },
   {
    "duration": 17,
    "start_time": "2021-07-08T08:41:11.391Z"
   },
   {
    "duration": 9,
    "start_time": "2021-07-08T08:41:11.410Z"
   },
   {
    "duration": 5,
    "start_time": "2021-07-08T08:41:11.421Z"
   },
   {
    "duration": 6,
    "start_time": "2021-07-08T08:41:11.428Z"
   },
   {
    "duration": 198,
    "start_time": "2021-07-08T08:41:11.435Z"
   },
   {
    "duration": 18,
    "start_time": "2021-07-08T08:41:11.635Z"
   },
   {
    "duration": 155,
    "start_time": "2021-07-08T08:41:11.655Z"
   },
   {
    "duration": 138,
    "start_time": "2021-07-08T08:41:11.811Z"
   },
   {
    "duration": 10,
    "start_time": "2021-07-08T08:41:11.950Z"
   },
   {
    "duration": 29,
    "start_time": "2021-07-08T08:41:11.961Z"
   },
   {
    "duration": 171,
    "start_time": "2021-07-08T08:47:44.522Z"
   },
   {
    "duration": 124,
    "start_time": "2021-07-08T08:47:46.872Z"
   },
   {
    "duration": 191,
    "start_time": "2021-07-08T08:47:58.148Z"
   },
   {
    "duration": 191,
    "start_time": "2021-07-08T08:48:07.412Z"
   },
   {
    "duration": 261,
    "start_time": "2021-07-08T08:48:10.385Z"
   },
   {
    "duration": 255,
    "start_time": "2021-07-08T08:48:14.494Z"
   },
   {
    "duration": 219,
    "start_time": "2021-07-08T08:48:22.752Z"
   },
   {
    "duration": 173,
    "start_time": "2021-07-08T08:49:06.395Z"
   },
   {
    "duration": 180,
    "start_time": "2021-07-08T08:49:21.011Z"
   },
   {
    "duration": 6,
    "start_time": "2021-07-08T08:50:31.697Z"
   },
   {
    "duration": 10,
    "start_time": "2021-07-08T08:50:47.394Z"
   },
   {
    "duration": 11,
    "start_time": "2021-07-08T08:53:49.332Z"
   },
   {
    "duration": 171,
    "start_time": "2021-07-08T08:54:28.408Z"
   },
   {
    "duration": 636,
    "start_time": "2021-07-08T09:02:48.385Z"
   },
   {
    "duration": 227,
    "start_time": "2021-07-08T09:02:49.023Z"
   },
   {
    "duration": 104,
    "start_time": "2021-07-08T09:02:49.252Z"
   },
   {
    "duration": 5,
    "start_time": "2021-07-08T09:02:49.358Z"
   },
   {
    "duration": 27,
    "start_time": "2021-07-08T09:02:49.365Z"
   },
   {
    "duration": 8,
    "start_time": "2021-07-08T09:02:49.394Z"
   },
   {
    "duration": 18,
    "start_time": "2021-07-08T09:02:49.404Z"
   },
   {
    "duration": 6,
    "start_time": "2021-07-08T09:02:49.424Z"
   },
   {
    "duration": 11,
    "start_time": "2021-07-08T09:02:49.433Z"
   },
   {
    "duration": 13,
    "start_time": "2021-07-08T09:02:49.485Z"
   },
   {
    "duration": 9,
    "start_time": "2021-07-08T09:02:49.500Z"
   },
   {
    "duration": 38,
    "start_time": "2021-07-08T09:02:49.511Z"
   },
   {
    "duration": 42,
    "start_time": "2021-07-08T09:02:49.551Z"
   },
   {
    "duration": 21,
    "start_time": "2021-07-08T09:02:49.594Z"
   },
   {
    "duration": 6,
    "start_time": "2021-07-08T09:02:49.616Z"
   },
   {
    "duration": 3,
    "start_time": "2021-07-08T09:02:49.623Z"
   },
   {
    "duration": 9,
    "start_time": "2021-07-08T09:02:49.628Z"
   },
   {
    "duration": 52,
    "start_time": "2021-07-08T09:02:49.638Z"
   },
   {
    "duration": 11,
    "start_time": "2021-07-08T09:02:49.692Z"
   },
   {
    "duration": 8,
    "start_time": "2021-07-08T09:02:49.704Z"
   },
   {
    "duration": 27,
    "start_time": "2021-07-08T09:02:49.713Z"
   },
   {
    "duration": 59,
    "start_time": "2021-07-08T09:02:49.741Z"
   },
   {
    "duration": 8,
    "start_time": "2021-07-08T09:02:49.803Z"
   },
   {
    "duration": 14,
    "start_time": "2021-07-08T09:02:49.813Z"
   },
   {
    "duration": 20,
    "start_time": "2021-07-08T09:02:49.829Z"
   },
   {
    "duration": 44,
    "start_time": "2021-07-08T09:02:49.851Z"
   },
   {
    "duration": 14,
    "start_time": "2021-07-08T09:02:49.896Z"
   },
   {
    "duration": 221,
    "start_time": "2021-07-08T09:02:49.912Z"
   },
   {
    "duration": 6,
    "start_time": "2021-07-08T09:02:50.134Z"
   },
   {
    "duration": 206,
    "start_time": "2021-07-08T09:02:50.142Z"
   },
   {
    "duration": 19,
    "start_time": "2021-07-08T09:02:50.350Z"
   },
   {
    "duration": 21,
    "start_time": "2021-07-08T09:02:50.370Z"
   },
   {
    "duration": 20,
    "start_time": "2021-07-08T09:02:50.393Z"
   },
   {
    "duration": 5,
    "start_time": "2021-07-08T09:02:50.414Z"
   },
   {
    "duration": 5,
    "start_time": "2021-07-08T09:03:34.173Z"
   },
   {
    "duration": 6,
    "start_time": "2021-07-08T09:04:49.062Z"
   },
   {
    "duration": 9,
    "start_time": "2021-07-08T09:04:50.118Z"
   },
   {
    "duration": 14,
    "start_time": "2021-07-08T09:04:58.512Z"
   },
   {
    "duration": 9,
    "start_time": "2021-07-08T09:05:10.988Z"
   },
   {
    "duration": 11,
    "start_time": "2021-07-08T09:05:11.743Z"
   },
   {
    "duration": 7,
    "start_time": "2021-07-08T09:05:25.677Z"
   },
   {
    "duration": 13,
    "start_time": "2021-07-08T09:05:47.189Z"
   },
   {
    "duration": 13,
    "start_time": "2021-07-08T09:05:54.755Z"
   },
   {
    "duration": 4,
    "start_time": "2021-07-08T09:06:29.189Z"
   },
   {
    "duration": 244,
    "start_time": "2021-07-08T09:06:29.195Z"
   },
   {
    "duration": 91,
    "start_time": "2021-07-08T09:06:29.441Z"
   },
   {
    "duration": 4,
    "start_time": "2021-07-08T09:06:29.534Z"
   },
   {
    "duration": 28,
    "start_time": "2021-07-08T09:06:29.540Z"
   },
   {
    "duration": 6,
    "start_time": "2021-07-08T09:06:29.570Z"
   },
   {
    "duration": 18,
    "start_time": "2021-07-08T09:06:29.578Z"
   },
   {
    "duration": 5,
    "start_time": "2021-07-08T09:06:29.597Z"
   },
   {
    "duration": 13,
    "start_time": "2021-07-08T09:06:29.605Z"
   },
   {
    "duration": 8,
    "start_time": "2021-07-08T09:06:29.620Z"
   },
   {
    "duration": 7,
    "start_time": "2021-07-08T09:06:29.630Z"
   },
   {
    "duration": 63,
    "start_time": "2021-07-08T09:06:29.639Z"
   },
   {
    "duration": 17,
    "start_time": "2021-07-08T09:06:29.704Z"
   },
   {
    "duration": 20,
    "start_time": "2021-07-08T09:06:29.723Z"
   },
   {
    "duration": 6,
    "start_time": "2021-07-08T09:06:29.745Z"
   },
   {
    "duration": 3,
    "start_time": "2021-07-08T09:06:29.752Z"
   },
   {
    "duration": 7,
    "start_time": "2021-07-08T09:06:29.785Z"
   },
   {
    "duration": 11,
    "start_time": "2021-07-08T09:06:29.794Z"
   },
   {
    "duration": 15,
    "start_time": "2021-07-08T09:06:29.807Z"
   },
   {
    "duration": 8,
    "start_time": "2021-07-08T09:06:29.823Z"
   },
   {
    "duration": 70,
    "start_time": "2021-07-08T09:06:29.832Z"
   },
   {
    "duration": 17,
    "start_time": "2021-07-08T09:06:29.903Z"
   },
   {
    "duration": 9,
    "start_time": "2021-07-08T09:06:29.921Z"
   },
   {
    "duration": 9,
    "start_time": "2021-07-08T09:06:29.932Z"
   },
   {
    "duration": 57,
    "start_time": "2021-07-08T09:06:29.942Z"
   },
   {
    "duration": 11,
    "start_time": "2021-07-08T09:06:30.001Z"
   },
   {
    "duration": 19,
    "start_time": "2021-07-08T09:06:30.016Z"
   },
   {
    "duration": 217,
    "start_time": "2021-07-08T09:06:30.037Z"
   },
   {
    "duration": 6,
    "start_time": "2021-07-08T09:06:30.255Z"
   },
   {
    "duration": 205,
    "start_time": "2021-07-08T09:06:30.263Z"
   },
   {
    "duration": 27,
    "start_time": "2021-07-08T09:06:30.470Z"
   },
   {
    "duration": 11,
    "start_time": "2021-07-08T09:06:30.500Z"
   },
   {
    "duration": 31,
    "start_time": "2021-07-08T09:06:30.513Z"
   },
   {
    "duration": 18,
    "start_time": "2021-07-08T09:06:30.546Z"
   },
   {
    "duration": 11,
    "start_time": "2021-07-08T09:06:30.566Z"
   },
   {
    "duration": 19,
    "start_time": "2021-07-08T09:06:30.579Z"
   },
   {
    "duration": 20,
    "start_time": "2021-07-08T09:06:49.466Z"
   },
   {
    "duration": 9,
    "start_time": "2021-07-08T09:06:51.994Z"
   },
   {
    "duration": 20,
    "start_time": "2021-07-08T09:06:52.273Z"
   },
   {
    "duration": 246,
    "start_time": "2021-07-08T09:10:21.272Z"
   },
   {
    "duration": 84,
    "start_time": "2021-07-08T09:10:21.436Z"
   },
   {
    "duration": 7,
    "start_time": "2021-07-08T09:10:37.608Z"
   },
   {
    "duration": 189,
    "start_time": "2021-07-08T09:10:38.573Z"
   },
   {
    "duration": 185,
    "start_time": "2021-07-08T09:10:53.181Z"
   },
   {
    "duration": 11,
    "start_time": "2021-07-08T09:10:59.549Z"
   },
   {
    "duration": 42,
    "start_time": "2021-07-08T09:10:59.709Z"
   },
   {
    "duration": 12,
    "start_time": "2021-07-08T09:11:02.857Z"
   },
   {
    "duration": 28,
    "start_time": "2021-07-08T09:11:10.062Z"
   },
   {
    "duration": 249,
    "start_time": "2021-07-08T09:11:37.388Z"
   },
   {
    "duration": 232,
    "start_time": "2021-07-08T09:11:49.485Z"
   },
   {
    "duration": 453,
    "start_time": "2021-07-08T09:12:01.546Z"
   },
   {
    "duration": 440,
    "start_time": "2021-07-08T09:12:12.347Z"
   },
   {
    "duration": 213,
    "start_time": "2021-07-08T09:13:32.196Z"
   },
   {
    "duration": 172,
    "start_time": "2021-07-08T09:14:07.400Z"
   },
   {
    "duration": 185,
    "start_time": "2021-07-08T09:14:14.905Z"
   },
   {
    "duration": 209,
    "start_time": "2021-07-08T09:14:40.109Z"
   },
   {
    "duration": 201,
    "start_time": "2021-07-08T09:14:54.506Z"
   },
   {
    "duration": 622,
    "start_time": "2021-07-08T09:18:14.497Z"
   },
   {
    "duration": 220,
    "start_time": "2021-07-08T09:18:15.121Z"
   },
   {
    "duration": 79,
    "start_time": "2021-07-08T09:18:15.343Z"
   },
   {
    "duration": 4,
    "start_time": "2021-07-08T09:18:15.425Z"
   },
   {
    "duration": 24,
    "start_time": "2021-07-08T09:18:15.431Z"
   },
   {
    "duration": 8,
    "start_time": "2021-07-08T09:18:15.457Z"
   },
   {
    "duration": 16,
    "start_time": "2021-07-08T09:18:15.466Z"
   },
   {
    "duration": 5,
    "start_time": "2021-07-08T09:18:15.484Z"
   },
   {
    "duration": 10,
    "start_time": "2021-07-08T09:18:15.493Z"
   },
   {
    "duration": 8,
    "start_time": "2021-07-08T09:18:15.504Z"
   },
   {
    "duration": 7,
    "start_time": "2021-07-08T09:18:15.513Z"
   },
   {
    "duration": 26,
    "start_time": "2021-07-08T09:18:15.522Z"
   },
   {
    "duration": 49,
    "start_time": "2021-07-08T09:18:15.550Z"
   },
   {
    "duration": 21,
    "start_time": "2021-07-08T09:18:15.601Z"
   },
   {
    "duration": 8,
    "start_time": "2021-07-08T09:18:15.624Z"
   },
   {
    "duration": 3,
    "start_time": "2021-07-08T09:18:15.634Z"
   },
   {
    "duration": 8,
    "start_time": "2021-07-08T09:18:15.639Z"
   },
   {
    "duration": 45,
    "start_time": "2021-07-08T09:18:15.649Z"
   },
   {
    "duration": 13,
    "start_time": "2021-07-08T09:18:15.696Z"
   },
   {
    "duration": 10,
    "start_time": "2021-07-08T09:18:15.711Z"
   },
   {
    "duration": 64,
    "start_time": "2021-07-08T09:18:15.722Z"
   },
   {
    "duration": 19,
    "start_time": "2021-07-08T09:18:15.788Z"
   },
   {
    "duration": 9,
    "start_time": "2021-07-08T09:18:15.809Z"
   },
   {
    "duration": 9,
    "start_time": "2021-07-08T09:18:15.820Z"
   },
   {
    "duration": 18,
    "start_time": "2021-07-08T09:18:15.831Z"
   },
   {
    "duration": 43,
    "start_time": "2021-07-08T09:18:15.851Z"
   },
   {
    "duration": 12,
    "start_time": "2021-07-08T09:18:15.897Z"
   },
   {
    "duration": 219,
    "start_time": "2021-07-08T09:18:15.911Z"
   },
   {
    "duration": 8,
    "start_time": "2021-07-08T09:18:16.132Z"
   },
   {
    "duration": 199,
    "start_time": "2021-07-08T09:18:16.141Z"
   },
   {
    "duration": 18,
    "start_time": "2021-07-08T09:18:16.341Z"
   },
   {
    "duration": 24,
    "start_time": "2021-07-08T09:18:16.361Z"
   },
   {
    "duration": 24,
    "start_time": "2021-07-08T09:18:16.387Z"
   },
   {
    "duration": 211,
    "start_time": "2021-07-08T09:18:16.413Z"
   },
   {
    "duration": 18,
    "start_time": "2021-07-08T09:18:16.626Z"
   },
   {
    "duration": 596,
    "start_time": "2021-07-08T10:06:33.623Z"
   },
   {
    "duration": 181,
    "start_time": "2021-07-08T10:06:34.221Z"
   },
   {
    "duration": 176,
    "start_time": "2021-07-08T10:06:34.635Z"
   },
   {
    "duration": 239,
    "start_time": "2021-07-08T10:06:55.572Z"
   },
   {
    "duration": 6,
    "start_time": "2021-07-08T10:06:57.687Z"
   },
   {
    "duration": 4,
    "start_time": "2021-07-08T10:07:03.956Z"
   },
   {
    "duration": 4,
    "start_time": "2021-07-08T10:07:10.376Z"
   },
   {
    "duration": 4,
    "start_time": "2021-07-08T10:17:19.889Z"
   },
   {
    "duration": 3,
    "start_time": "2021-07-08T10:19:19.407Z"
   },
   {
    "duration": 197,
    "start_time": "2021-07-08T10:19:19.412Z"
   },
   {
    "duration": 127,
    "start_time": "2021-07-08T10:19:19.611Z"
   },
   {
    "duration": 4,
    "start_time": "2021-07-08T10:19:19.740Z"
   },
   {
    "duration": 27,
    "start_time": "2021-07-08T10:19:19.746Z"
   },
   {
    "duration": 7,
    "start_time": "2021-07-08T10:19:19.775Z"
   },
   {
    "duration": 30,
    "start_time": "2021-07-08T10:19:19.784Z"
   },
   {
    "duration": 7,
    "start_time": "2021-07-08T10:19:19.817Z"
   },
   {
    "duration": 26,
    "start_time": "2021-07-08T10:19:19.826Z"
   },
   {
    "duration": 18,
    "start_time": "2021-07-08T10:19:19.854Z"
   },
   {
    "duration": 14,
    "start_time": "2021-07-08T10:19:19.874Z"
   },
   {
    "duration": 48,
    "start_time": "2021-07-08T10:19:19.890Z"
   },
   {
    "duration": 17,
    "start_time": "2021-07-08T10:19:19.940Z"
   },
   {
    "duration": 38,
    "start_time": "2021-07-08T10:19:19.959Z"
   },
   {
    "duration": 8,
    "start_time": "2021-07-08T10:19:19.999Z"
   },
   {
    "duration": 15,
    "start_time": "2021-07-08T10:19:20.009Z"
   },
   {
    "duration": 22,
    "start_time": "2021-07-08T10:19:20.026Z"
   },
   {
    "duration": 10,
    "start_time": "2021-07-08T10:19:20.050Z"
   },
   {
    "duration": 10,
    "start_time": "2021-07-08T10:19:20.062Z"
   },
   {
    "duration": 20,
    "start_time": "2021-07-08T10:19:20.073Z"
   },
   {
    "duration": 29,
    "start_time": "2021-07-08T10:19:20.095Z"
   },
   {
    "duration": 17,
    "start_time": "2021-07-08T10:19:20.126Z"
   },
   {
    "duration": 40,
    "start_time": "2021-07-08T10:19:20.146Z"
   },
   {
    "duration": 15,
    "start_time": "2021-07-08T10:19:20.189Z"
   },
   {
    "duration": 19,
    "start_time": "2021-07-08T10:19:20.206Z"
   },
   {
    "duration": 10,
    "start_time": "2021-07-08T10:19:20.226Z"
   },
   {
    "duration": 11,
    "start_time": "2021-07-08T10:19:20.238Z"
   },
   {
    "duration": 297,
    "start_time": "2021-07-08T10:19:20.250Z"
   },
   {
    "duration": 6,
    "start_time": "2021-07-08T10:19:20.549Z"
   },
   {
    "duration": 191,
    "start_time": "2021-07-08T10:19:20.557Z"
   },
   {
    "duration": 19,
    "start_time": "2021-07-08T10:19:20.750Z"
   },
   {
    "duration": 20,
    "start_time": "2021-07-08T10:19:20.771Z"
   },
   {
    "duration": 15,
    "start_time": "2021-07-08T10:19:20.793Z"
   },
   {
    "duration": 222,
    "start_time": "2021-07-08T10:19:20.809Z"
   },
   {
    "duration": 20,
    "start_time": "2021-07-08T10:19:21.033Z"
   },
   {
    "duration": 27,
    "start_time": "2021-07-08T10:45:04.055Z"
   },
   {
    "duration": 8,
    "start_time": "2021-07-08T10:45:08.478Z"
   },
   {
    "duration": 8,
    "start_time": "2021-07-08T10:45:31.982Z"
   },
   {
    "duration": 10,
    "start_time": "2021-07-08T10:46:01.221Z"
   },
   {
    "duration": 17,
    "start_time": "2021-07-08T10:46:40.011Z"
   },
   {
    "duration": 193,
    "start_time": "2021-07-08T10:48:19.471Z"
   },
   {
    "duration": 225,
    "start_time": "2021-07-08T10:49:26.480Z"
   },
   {
    "duration": 204,
    "start_time": "2021-07-08T10:49:59.992Z"
   },
   {
    "duration": 435,
    "start_time": "2021-07-08T10:50:06.779Z"
   },
   {
    "duration": 199,
    "start_time": "2021-07-08T10:50:14.891Z"
   },
   {
    "duration": 204,
    "start_time": "2021-07-08T10:50:18.501Z"
   },
   {
    "duration": 244,
    "start_time": "2021-07-08T10:50:23.359Z"
   },
   {
    "duration": 192,
    "start_time": "2021-07-08T10:50:29.135Z"
   },
   {
    "duration": 218,
    "start_time": "2021-07-08T10:50:33.092Z"
   },
   {
    "duration": 207,
    "start_time": "2021-07-08T10:52:45.381Z"
   },
   {
    "duration": 5,
    "start_time": "2021-07-08T10:53:34.641Z"
   },
   {
    "duration": 196,
    "start_time": "2021-07-08T10:53:41.478Z"
   },
   {
    "duration": 43,
    "start_time": "2021-07-08T10:53:50.335Z"
   },
   {
    "duration": 32,
    "start_time": "2021-07-08T10:53:55.294Z"
   },
   {
    "duration": 55,
    "start_time": "2021-07-08T10:54:09.675Z"
   },
   {
    "duration": 16,
    "start_time": "2021-07-08T10:54:12.260Z"
   },
   {
    "duration": 15,
    "start_time": "2021-07-08T10:54:49.150Z"
   },
   {
    "duration": 20,
    "start_time": "2021-07-08T10:56:07.596Z"
   },
   {
    "duration": 16,
    "start_time": "2021-07-08T10:58:26.276Z"
   },
   {
    "duration": 22,
    "start_time": "2021-07-08T10:59:00.486Z"
   },
   {
    "duration": 18,
    "start_time": "2021-07-08T11:02:09.653Z"
   },
   {
    "duration": 10,
    "start_time": "2021-07-08T11:03:44.331Z"
   },
   {
    "duration": 10,
    "start_time": "2021-07-08T11:03:54.055Z"
   },
   {
    "duration": 12,
    "start_time": "2021-07-08T11:04:41.967Z"
   },
   {
    "duration": 24,
    "start_time": "2021-07-08T11:07:30.732Z"
   },
   {
    "duration": 6,
    "start_time": "2021-07-08T11:07:37.364Z"
   },
   {
    "duration": 16,
    "start_time": "2021-07-08T11:08:01.819Z"
   },
   {
    "duration": 17,
    "start_time": "2021-07-08T11:09:47.488Z"
   },
   {
    "duration": 246,
    "start_time": "2021-07-08T11:10:00.830Z"
   },
   {
    "duration": 18,
    "start_time": "2021-07-08T11:13:55.195Z"
   },
   {
    "duration": 204,
    "start_time": "2021-07-08T11:14:04.951Z"
   },
   {
    "duration": 19,
    "start_time": "2021-07-08T11:15:10.613Z"
   },
   {
    "duration": 680,
    "start_time": "2021-07-08T11:16:25.793Z"
   },
   {
    "duration": 451,
    "start_time": "2021-07-08T11:16:40.313Z"
   },
   {
    "duration": 469,
    "start_time": "2021-07-08T11:17:21.286Z"
   },
   {
    "duration": 20,
    "start_time": "2021-07-08T11:19:12.554Z"
   },
   {
    "duration": 35,
    "start_time": "2021-07-08T11:20:05.484Z"
   },
   {
    "duration": 53,
    "start_time": "2021-07-08T11:21:40.050Z"
   },
   {
    "duration": 13,
    "start_time": "2021-07-08T11:22:26.059Z"
   },
   {
    "duration": 19,
    "start_time": "2021-07-08T11:22:47.419Z"
   },
   {
    "duration": 25,
    "start_time": "2021-07-08T11:23:19.958Z"
   },
   {
    "duration": 29,
    "start_time": "2021-07-08T11:23:25.415Z"
   },
   {
    "duration": 10,
    "start_time": "2021-07-08T11:24:45.138Z"
   },
   {
    "duration": 19,
    "start_time": "2021-07-08T11:24:54.498Z"
   },
   {
    "duration": 12,
    "start_time": "2021-07-08T11:25:32.225Z"
   },
   {
    "duration": 19,
    "start_time": "2021-07-08T11:25:37.092Z"
   },
   {
    "duration": 17,
    "start_time": "2021-07-08T11:25:58.116Z"
   },
   {
    "duration": 15,
    "start_time": "2021-07-08T11:26:02.258Z"
   },
   {
    "duration": 8,
    "start_time": "2021-07-08T11:26:59.682Z"
   },
   {
    "duration": 184,
    "start_time": "2021-07-08T11:27:21.894Z"
   },
   {
    "duration": 8,
    "start_time": "2021-07-08T11:27:23.824Z"
   },
   {
    "duration": 202,
    "start_time": "2021-07-08T11:27:23.962Z"
   },
   {
    "duration": 360,
    "start_time": "2021-07-08T11:28:33.215Z"
   },
   {
    "duration": 231,
    "start_time": "2021-07-08T11:32:05.542Z"
   },
   {
    "duration": 607,
    "start_time": "2021-07-08T11:36:27.854Z"
   },
   {
    "duration": 241,
    "start_time": "2021-07-08T11:36:28.463Z"
   },
   {
    "duration": 67,
    "start_time": "2021-07-08T11:36:28.709Z"
   },
   {
    "duration": 5,
    "start_time": "2021-07-08T11:36:28.778Z"
   },
   {
    "duration": 32,
    "start_time": "2021-07-08T11:36:28.784Z"
   },
   {
    "duration": 11,
    "start_time": "2021-07-08T11:36:28.819Z"
   },
   {
    "duration": 20,
    "start_time": "2021-07-08T11:36:28.834Z"
   },
   {
    "duration": 36,
    "start_time": "2021-07-08T11:36:28.857Z"
   },
   {
    "duration": 16,
    "start_time": "2021-07-08T11:36:28.895Z"
   },
   {
    "duration": 14,
    "start_time": "2021-07-08T11:36:28.913Z"
   },
   {
    "duration": 9,
    "start_time": "2021-07-08T11:36:28.930Z"
   },
   {
    "duration": 55,
    "start_time": "2021-07-08T11:36:28.941Z"
   },
   {
    "duration": 27,
    "start_time": "2021-07-08T11:36:28.999Z"
   },
   {
    "duration": 30,
    "start_time": "2021-07-08T11:36:29.028Z"
   },
   {
    "duration": 31,
    "start_time": "2021-07-08T11:36:29.060Z"
   },
   {
    "duration": 3,
    "start_time": "2021-07-08T11:36:29.093Z"
   },
   {
    "duration": 12,
    "start_time": "2021-07-08T11:36:29.099Z"
   },
   {
    "duration": 11,
    "start_time": "2021-07-08T11:36:29.112Z"
   },
   {
    "duration": 12,
    "start_time": "2021-07-08T11:36:29.125Z"
   },
   {
    "duration": 9,
    "start_time": "2021-07-08T11:36:29.139Z"
   },
   {
    "duration": 31,
    "start_time": "2021-07-08T11:36:29.191Z"
   },
   {
    "duration": 17,
    "start_time": "2021-07-08T11:36:29.226Z"
   },
   {
    "duration": 7,
    "start_time": "2021-07-08T11:36:29.245Z"
   },
   {
    "duration": 10,
    "start_time": "2021-07-08T11:36:29.254Z"
   },
   {
    "duration": 30,
    "start_time": "2021-07-08T11:36:29.292Z"
   },
   {
    "duration": 11,
    "start_time": "2021-07-08T11:36:29.324Z"
   },
   {
    "duration": 11,
    "start_time": "2021-07-08T11:36:29.337Z"
   },
   {
    "duration": 230,
    "start_time": "2021-07-08T11:36:29.349Z"
   },
   {
    "duration": 13,
    "start_time": "2021-07-08T11:36:29.588Z"
   },
   {
    "duration": 205,
    "start_time": "2021-07-08T11:36:29.603Z"
   },
   {
    "duration": 20,
    "start_time": "2021-07-08T11:36:29.810Z"
   },
   {
    "duration": 9,
    "start_time": "2021-07-08T11:36:29.832Z"
   },
   {
    "duration": 16,
    "start_time": "2021-07-08T11:36:29.843Z"
   },
   {
    "duration": 283,
    "start_time": "2021-07-08T11:36:29.861Z"
   },
   {
    "duration": 50,
    "start_time": "2021-07-08T11:36:30.146Z"
   },
   {
    "duration": 14,
    "start_time": "2021-07-08T11:36:30.198Z"
   },
   {
    "duration": 11,
    "start_time": "2021-07-08T11:36:30.214Z"
   },
   {
    "duration": 245,
    "start_time": "2021-07-08T11:36:30.227Z"
   },
   {
    "duration": 439,
    "start_time": "2021-07-08T11:36:30.474Z"
   },
   {
    "duration": 210,
    "start_time": "2021-07-08T11:36:30.915Z"
   },
   {
    "duration": 15,
    "start_time": "2021-07-08T11:36:31.127Z"
   },
   {
    "duration": 17,
    "start_time": "2021-07-08T11:38:20.451Z"
   },
   {
    "duration": 642,
    "start_time": "2021-07-08T11:46:17.881Z"
   },
   {
    "duration": 210,
    "start_time": "2021-07-08T11:46:18.525Z"
   },
   {
    "duration": 104,
    "start_time": "2021-07-08T11:46:18.741Z"
   },
   {
    "duration": 8,
    "start_time": "2021-07-08T11:46:18.847Z"
   },
   {
    "duration": 25,
    "start_time": "2021-07-08T11:46:18.857Z"
   },
   {
    "duration": 14,
    "start_time": "2021-07-08T11:46:18.884Z"
   },
   {
    "duration": 22,
    "start_time": "2021-07-08T11:46:18.900Z"
   },
   {
    "duration": 5,
    "start_time": "2021-07-08T11:46:18.924Z"
   },
   {
    "duration": 13,
    "start_time": "2021-07-08T11:46:18.931Z"
   },
   {
    "duration": 45,
    "start_time": "2021-07-08T11:46:18.946Z"
   },
   {
    "duration": 12,
    "start_time": "2021-07-08T11:46:18.993Z"
   },
   {
    "duration": 38,
    "start_time": "2021-07-08T11:46:19.006Z"
   },
   {
    "duration": 50,
    "start_time": "2021-07-08T11:46:19.046Z"
   },
   {
    "duration": 29,
    "start_time": "2021-07-08T11:46:19.099Z"
   },
   {
    "duration": 7,
    "start_time": "2021-07-08T11:46:19.130Z"
   },
   {
    "duration": 3,
    "start_time": "2021-07-08T11:46:19.139Z"
   },
   {
    "duration": 11,
    "start_time": "2021-07-08T11:46:19.144Z"
   },
   {
    "duration": 40,
    "start_time": "2021-07-08T11:46:19.157Z"
   },
   {
    "duration": 15,
    "start_time": "2021-07-08T11:46:19.199Z"
   },
   {
    "duration": 10,
    "start_time": "2021-07-08T11:46:19.217Z"
   },
   {
    "duration": 68,
    "start_time": "2021-07-08T11:46:19.230Z"
   },
   {
    "duration": 17,
    "start_time": "2021-07-08T11:46:19.301Z"
   },
   {
    "duration": 7,
    "start_time": "2021-07-08T11:46:19.321Z"
   },
   {
    "duration": 11,
    "start_time": "2021-07-08T11:46:19.330Z"
   },
   {
    "duration": 59,
    "start_time": "2021-07-08T11:46:19.343Z"
   },
   {
    "duration": 17,
    "start_time": "2021-07-08T11:46:19.405Z"
   },
   {
    "duration": 16,
    "start_time": "2021-07-08T11:46:19.424Z"
   },
   {
    "duration": 252,
    "start_time": "2021-07-08T11:46:19.443Z"
   },
   {
    "duration": 9,
    "start_time": "2021-07-08T11:46:19.697Z"
   },
   {
    "duration": 224,
    "start_time": "2021-07-08T11:46:19.708Z"
   },
   {
    "duration": 21,
    "start_time": "2021-07-08T11:46:19.934Z"
   },
   {
    "duration": 9,
    "start_time": "2021-07-08T11:46:19.956Z"
   },
   {
    "duration": 32,
    "start_time": "2021-07-08T11:46:19.967Z"
   },
   {
    "duration": 288,
    "start_time": "2021-07-08T11:46:20.004Z"
   },
   {
    "duration": 23,
    "start_time": "2021-07-08T11:46:20.300Z"
   },
   {
    "duration": 11,
    "start_time": "2021-07-08T11:46:20.325Z"
   },
   {
    "duration": 11,
    "start_time": "2021-07-08T11:46:20.339Z"
   },
   {
    "duration": 259,
    "start_time": "2021-07-08T11:46:20.352Z"
   },
   {
    "duration": 438,
    "start_time": "2021-07-08T11:46:20.613Z"
   },
   {
    "duration": 207,
    "start_time": "2021-07-08T11:46:21.054Z"
   },
   {
    "duration": 27,
    "start_time": "2021-07-08T11:46:21.262Z"
   },
   {
    "duration": 19,
    "start_time": "2021-07-08T11:46:21.291Z"
   },
   {
    "duration": 820,
    "start_time": "2021-07-08T11:49:01.655Z"
   },
   {
    "duration": 372,
    "start_time": "2021-07-08T11:49:02.478Z"
   },
   {
    "duration": 98,
    "start_time": "2021-07-08T11:49:02.853Z"
   },
   {
    "duration": 6,
    "start_time": "2021-07-08T11:49:02.953Z"
   },
   {
    "duration": 39,
    "start_time": "2021-07-08T11:49:02.960Z"
   },
   {
    "duration": 9,
    "start_time": "2021-07-08T11:49:03.003Z"
   },
   {
    "duration": 23,
    "start_time": "2021-07-08T11:49:03.014Z"
   },
   {
    "duration": 6,
    "start_time": "2021-07-08T11:49:03.041Z"
   },
   {
    "duration": 20,
    "start_time": "2021-07-08T11:49:03.049Z"
   },
   {
    "duration": 18,
    "start_time": "2021-07-08T11:49:03.084Z"
   },
   {
    "duration": 14,
    "start_time": "2021-07-08T11:49:03.104Z"
   },
   {
    "duration": 39,
    "start_time": "2021-07-08T11:49:03.119Z"
   },
   {
    "duration": 38,
    "start_time": "2021-07-08T11:49:03.160Z"
   },
   {
    "duration": 26,
    "start_time": "2021-07-08T11:49:03.200Z"
   },
   {
    "duration": 7,
    "start_time": "2021-07-08T11:49:03.227Z"
   },
   {
    "duration": 4,
    "start_time": "2021-07-08T11:49:03.236Z"
   },
   {
    "duration": 15,
    "start_time": "2021-07-08T11:49:03.243Z"
   },
   {
    "duration": 21,
    "start_time": "2021-07-08T11:49:03.285Z"
   },
   {
    "duration": 17,
    "start_time": "2021-07-08T11:49:03.309Z"
   },
   {
    "duration": 10,
    "start_time": "2021-07-08T11:49:03.328Z"
   },
   {
    "duration": 65,
    "start_time": "2021-07-08T11:49:03.340Z"
   },
   {
    "duration": 18,
    "start_time": "2021-07-08T11:49:03.407Z"
   },
   {
    "duration": 8,
    "start_time": "2021-07-08T11:49:03.428Z"
   },
   {
    "duration": 15,
    "start_time": "2021-07-08T11:49:03.438Z"
   },
   {
    "duration": 40,
    "start_time": "2021-07-08T11:49:03.455Z"
   },
   {
    "duration": 12,
    "start_time": "2021-07-08T11:49:03.497Z"
   },
   {
    "duration": 29,
    "start_time": "2021-07-08T11:49:03.511Z"
   },
   {
    "duration": 285,
    "start_time": "2021-07-08T11:49:03.542Z"
   },
   {
    "duration": 8,
    "start_time": "2021-07-08T11:49:03.829Z"
   },
   {
    "duration": 227,
    "start_time": "2021-07-08T11:49:03.838Z"
   },
   {
    "duration": 40,
    "start_time": "2021-07-08T11:49:04.066Z"
   },
   {
    "duration": 10,
    "start_time": "2021-07-08T11:49:04.108Z"
   },
   {
    "duration": 26,
    "start_time": "2021-07-08T11:49:04.121Z"
   },
   {
    "duration": 290,
    "start_time": "2021-07-08T11:49:04.149Z"
   },
   {
    "duration": 26,
    "start_time": "2021-07-08T11:49:04.441Z"
   },
   {
    "duration": 31,
    "start_time": "2021-07-08T11:49:04.470Z"
   },
   {
    "duration": 14,
    "start_time": "2021-07-08T11:49:04.503Z"
   },
   {
    "duration": 259,
    "start_time": "2021-07-08T11:49:04.521Z"
   },
   {
    "duration": 480,
    "start_time": "2021-07-08T11:49:04.782Z"
   },
   {
    "duration": 225,
    "start_time": "2021-07-08T11:49:05.264Z"
   },
   {
    "duration": 22,
    "start_time": "2021-07-08T11:49:05.491Z"
   },
   {
    "duration": 24,
    "start_time": "2021-07-08T11:49:05.515Z"
   },
   {
    "duration": 634,
    "start_time": "2021-07-08T11:52:24.960Z"
   },
   {
    "duration": 199,
    "start_time": "2021-07-08T11:52:25.599Z"
   },
   {
    "duration": 106,
    "start_time": "2021-07-08T11:52:25.803Z"
   },
   {
    "duration": 7,
    "start_time": "2021-07-08T11:52:25.911Z"
   },
   {
    "duration": 29,
    "start_time": "2021-07-08T11:52:25.920Z"
   },
   {
    "duration": 7,
    "start_time": "2021-07-08T11:52:25.951Z"
   },
   {
    "duration": 26,
    "start_time": "2021-07-08T11:52:25.961Z"
   },
   {
    "duration": 11,
    "start_time": "2021-07-08T11:52:25.990Z"
   },
   {
    "duration": 29,
    "start_time": "2021-07-08T11:52:26.005Z"
   },
   {
    "duration": 9,
    "start_time": "2021-07-08T11:52:26.036Z"
   },
   {
    "duration": 8,
    "start_time": "2021-07-08T11:52:26.047Z"
   },
   {
    "duration": 63,
    "start_time": "2021-07-08T11:52:26.057Z"
   },
   {
    "duration": 17,
    "start_time": "2021-07-08T11:52:26.122Z"
   },
   {
    "duration": 43,
    "start_time": "2021-07-08T11:52:26.142Z"
   },
   {
    "duration": 17,
    "start_time": "2021-07-08T11:52:26.187Z"
   },
   {
    "duration": 5,
    "start_time": "2021-07-08T11:52:26.206Z"
   },
   {
    "duration": 12,
    "start_time": "2021-07-08T11:52:26.212Z"
   },
   {
    "duration": 11,
    "start_time": "2021-07-08T11:52:26.226Z"
   },
   {
    "duration": 12,
    "start_time": "2021-07-08T11:52:26.238Z"
   },
   {
    "duration": 38,
    "start_time": "2021-07-08T11:52:26.252Z"
   },
   {
    "duration": 40,
    "start_time": "2021-07-08T11:52:26.292Z"
   },
   {
    "duration": 17,
    "start_time": "2021-07-08T11:52:26.336Z"
   },
   {
    "duration": 39,
    "start_time": "2021-07-08T11:52:26.355Z"
   },
   {
    "duration": 11,
    "start_time": "2021-07-08T11:52:26.395Z"
   },
   {
    "duration": 23,
    "start_time": "2021-07-08T11:52:26.408Z"
   },
   {
    "duration": 12,
    "start_time": "2021-07-08T11:52:26.432Z"
   },
   {
    "duration": 41,
    "start_time": "2021-07-08T11:52:26.446Z"
   },
   {
    "duration": 215,
    "start_time": "2021-07-08T11:52:26.493Z"
   },
   {
    "duration": 8,
    "start_time": "2021-07-08T11:52:26.710Z"
   },
   {
    "duration": 228,
    "start_time": "2021-07-08T11:52:26.720Z"
   },
   {
    "duration": 18,
    "start_time": "2021-07-08T11:52:26.950Z"
   },
   {
    "duration": 35,
    "start_time": "2021-07-08T11:52:26.969Z"
   },
   {
    "duration": 23,
    "start_time": "2021-07-08T11:52:27.006Z"
   },
   {
    "duration": 258,
    "start_time": "2021-07-08T11:52:27.030Z"
   },
   {
    "duration": 24,
    "start_time": "2021-07-08T11:52:27.290Z"
   },
   {
    "duration": 12,
    "start_time": "2021-07-08T11:52:27.316Z"
   },
   {
    "duration": 10,
    "start_time": "2021-07-08T11:52:27.329Z"
   },
   {
    "duration": 298,
    "start_time": "2021-07-08T11:52:27.341Z"
   },
   {
    "duration": 436,
    "start_time": "2021-07-08T11:52:27.641Z"
   },
   {
    "duration": 216,
    "start_time": "2021-07-08T11:52:28.079Z"
   },
   {
    "duration": 20,
    "start_time": "2021-07-08T11:52:28.297Z"
   },
   {
    "duration": 17,
    "start_time": "2021-07-08T11:52:28.319Z"
   },
   {
    "duration": 722,
    "start_time": "2021-07-16T11:07:13.906Z"
   },
   {
    "duration": 101,
    "start_time": "2021-07-16T11:08:15.299Z"
   },
   {
    "duration": 58,
    "start_time": "2021-07-16T11:08:22.385Z"
   },
   {
    "duration": 707,
    "start_time": "2021-07-16T11:09:29.593Z"
   },
   {
    "duration": 74,
    "start_time": "2021-07-16T11:09:37.358Z"
   },
   {
    "duration": 121,
    "start_time": "2021-07-16T11:10:14.170Z"
   },
   {
    "duration": 546,
    "start_time": "2021-07-16T11:11:22.674Z"
   },
   {
    "duration": 1519,
    "start_time": "2021-07-16T11:11:32.733Z"
   },
   {
    "duration": 7,
    "start_time": "2021-07-16T11:11:59.122Z"
   },
   {
    "duration": 7,
    "start_time": "2021-07-16T11:12:06.225Z"
   },
   {
    "duration": 360,
    "start_time": "2021-07-16T11:12:11.066Z"
   },
   {
    "duration": 9,
    "start_time": "2021-07-16T11:12:21.445Z"
   },
   {
    "duration": 5,
    "start_time": "2021-07-16T11:12:30.894Z"
   },
   {
    "duration": 5,
    "start_time": "2021-07-16T11:14:44.314Z"
   },
   {
    "duration": 330,
    "start_time": "2021-07-16T11:16:04.763Z"
   },
   {
    "duration": 5,
    "start_time": "2021-07-16T11:16:15.547Z"
   },
   {
    "duration": 2154,
    "start_time": "2021-07-16T11:16:19.717Z"
   },
   {
    "duration": 325,
    "start_time": "2021-07-16T11:16:45.421Z"
   },
   {
    "duration": 338,
    "start_time": "2021-07-16T11:17:05.658Z"
   },
   {
    "duration": 4,
    "start_time": "2021-07-16T11:17:34.139Z"
   },
   {
    "duration": 410,
    "start_time": "2021-07-16T11:19:37.880Z"
   },
   {
    "duration": 8,
    "start_time": "2021-07-16T11:20:02.660Z"
   },
   {
    "duration": 6,
    "start_time": "2021-07-16T11:20:18.816Z"
   },
   {
    "duration": 18,
    "start_time": "2021-07-16T11:26:47.563Z"
   },
   {
    "duration": 21,
    "start_time": "2021-07-16T11:27:00.036Z"
   },
   {
    "duration": 9,
    "start_time": "2021-07-16T11:27:20.233Z"
   },
   {
    "duration": 9,
    "start_time": "2021-07-16T11:31:22.820Z"
   },
   {
    "duration": 35,
    "start_time": "2021-07-16T11:31:29.464Z"
   },
   {
    "duration": 36,
    "start_time": "2021-07-16T11:32:11.931Z"
   },
   {
    "duration": 14,
    "start_time": "2021-07-16T11:32:45.783Z"
   },
   {
    "duration": 3086,
    "start_time": "2021-07-16T11:32:58.141Z"
   },
   {
    "duration": 7,
    "start_time": "2021-07-16T11:33:11.492Z"
   },
   {
    "duration": 14,
    "start_time": "2021-07-16T11:35:33.022Z"
   },
   {
    "duration": 9,
    "start_time": "2021-07-16T11:36:45.218Z"
   },
   {
    "duration": 129,
    "start_time": "2021-07-16T11:37:23.447Z"
   },
   {
    "duration": 5,
    "start_time": "2021-07-16T11:37:24.941Z"
   },
   {
    "duration": 5,
    "start_time": "2021-07-16T11:37:25.972Z"
   },
   {
    "duration": 15,
    "start_time": "2021-07-16T11:37:26.746Z"
   },
   {
    "duration": 19,
    "start_time": "2021-07-16T11:37:30.666Z"
   },
   {
    "duration": 10,
    "start_time": "2021-07-16T11:37:34.648Z"
   },
   {
    "duration": 11,
    "start_time": "2021-07-16T11:37:44.616Z"
   },
   {
    "duration": 9,
    "start_time": "2021-07-16T11:39:49.227Z"
   },
   {
    "duration": 346,
    "start_time": "2021-07-16T11:40:11.307Z"
   },
   {
    "duration": 6,
    "start_time": "2021-07-16T11:40:16.457Z"
   },
   {
    "duration": 5,
    "start_time": "2021-07-16T11:40:17.405Z"
   },
   {
    "duration": 6,
    "start_time": "2021-07-16T11:40:18.229Z"
   },
   {
    "duration": 14,
    "start_time": "2021-07-16T11:40:34.587Z"
   },
   {
    "duration": 15,
    "start_time": "2021-07-16T11:40:41.235Z"
   },
   {
    "duration": 9,
    "start_time": "2021-07-16T11:40:42.291Z"
   },
   {
    "duration": 9038,
    "start_time": "2021-07-16T11:40:44.683Z"
   },
   {
    "duration": 8984,
    "start_time": "2021-07-16T11:41:13.007Z"
   },
   {
    "duration": 37,
    "start_time": "2021-07-16T11:41:33.471Z"
   },
   {
    "duration": 3,
    "start_time": "2021-07-16T11:41:39.301Z"
   },
   {
    "duration": 113,
    "start_time": "2021-07-16T11:41:39.671Z"
   },
   {
    "duration": 7,
    "start_time": "2021-07-16T11:41:40.815Z"
   },
   {
    "duration": 5,
    "start_time": "2021-07-16T11:41:41.806Z"
   },
   {
    "duration": 19,
    "start_time": "2021-07-16T11:41:42.758Z"
   },
   {
    "duration": 35,
    "start_time": "2021-07-16T11:41:43.332Z"
   },
   {
    "duration": 6,
    "start_time": "2021-07-16T11:42:04.936Z"
   },
   {
    "duration": 1528,
    "start_time": "2021-07-16T11:51:08.331Z"
   },
   {
    "duration": 424,
    "start_time": "2021-07-16T11:51:50.548Z"
   },
   {
    "duration": 363,
    "start_time": "2021-07-16T11:51:54.354Z"
   },
   {
    "duration": 6,
    "start_time": "2021-07-16T11:52:07.827Z"
   },
   {
    "duration": 23,
    "start_time": "2021-07-16T11:52:38.670Z"
   },
   {
    "duration": 7,
    "start_time": "2021-07-16T11:58:58.552Z"
   },
   {
    "duration": 6,
    "start_time": "2021-07-16T11:59:18.773Z"
   },
   {
    "duration": 16,
    "start_time": "2021-07-16T11:59:45.010Z"
   },
   {
    "duration": 13,
    "start_time": "2021-07-16T12:06:15.992Z"
   },
   {
    "duration": 565,
    "start_time": "2021-07-17T07:55:03.178Z"
   },
   {
    "duration": 93,
    "start_time": "2021-07-17T07:55:10.512Z"
   },
   {
    "duration": 238,
    "start_time": "2021-07-17T07:56:51.104Z"
   },
   {
    "duration": 4,
    "start_time": "2021-07-17T07:57:01.661Z"
   },
   {
    "duration": 66,
    "start_time": "2021-07-17T07:57:15.028Z"
   },
   {
    "duration": 3,
    "start_time": "2021-07-17T07:57:18.111Z"
   },
   {
    "duration": 4,
    "start_time": "2021-07-17T07:57:21.739Z"
   },
   {
    "duration": 3,
    "start_time": "2021-07-17T07:57:41.938Z"
   },
   {
    "duration": 21,
    "start_time": "2021-07-17T07:58:57.402Z"
   },
   {
    "duration": 700,
    "start_time": "2021-07-17T08:02:06.554Z"
   },
   {
    "duration": 7,
    "start_time": "2021-07-17T08:04:49.544Z"
   },
   {
    "duration": 4,
    "start_time": "2021-07-17T08:05:24.137Z"
   },
   {
    "duration": 3,
    "start_time": "2021-07-17T08:05:37.322Z"
   },
   {
    "duration": 92,
    "start_time": "2021-07-17T08:05:37.522Z"
   },
   {
    "duration": 3,
    "start_time": "2021-07-17T08:05:37.759Z"
   },
   {
    "duration": 15,
    "start_time": "2021-07-17T08:05:38.227Z"
   },
   {
    "duration": 191,
    "start_time": "2021-07-17T08:05:39.423Z"
   },
   {
    "duration": 3,
    "start_time": "2021-07-17T08:05:39.929Z"
   },
   {
    "duration": 7,
    "start_time": "2021-07-17T08:05:49.108Z"
   },
   {
    "duration": 4,
    "start_time": "2021-07-17T08:05:49.865Z"
   },
   {
    "duration": 4,
    "start_time": "2021-07-17T08:06:03.777Z"
   },
   {
    "duration": 196,
    "start_time": "2021-07-17T08:07:35.984Z"
   },
   {
    "duration": 2,
    "start_time": "2021-07-17T08:07:40.778Z"
   },
   {
    "duration": 91,
    "start_time": "2021-07-17T08:07:41.129Z"
   },
   {
    "duration": 4,
    "start_time": "2021-07-17T08:07:41.539Z"
   },
   {
    "duration": 14,
    "start_time": "2021-07-17T08:07:42.040Z"
   },
   {
    "duration": 186,
    "start_time": "2021-07-17T08:07:43.158Z"
   },
   {
    "duration": 7,
    "start_time": "2021-07-17T08:07:58.261Z"
   },
   {
    "duration": 4,
    "start_time": "2021-07-17T08:07:59.778Z"
   },
   {
    "duration": 4,
    "start_time": "2021-07-17T08:08:03.924Z"
   },
   {
    "duration": 63,
    "start_time": "2021-07-17T08:09:28.039Z"
   },
   {
    "duration": 186,
    "start_time": "2021-07-17T08:09:34.333Z"
   },
   {
    "duration": 187,
    "start_time": "2021-07-17T08:09:43.652Z"
   },
   {
    "duration": 88,
    "start_time": "2021-07-17T08:09:52.385Z"
   },
   {
    "duration": 3,
    "start_time": "2021-07-17T08:09:52.598Z"
   },
   {
    "duration": 13,
    "start_time": "2021-07-17T08:09:52.796Z"
   },
   {
    "duration": 7,
    "start_time": "2021-07-17T08:09:53.936Z"
   },
   {
    "duration": 95,
    "start_time": "2021-07-17T08:10:00.958Z"
   },
   {
    "duration": 4,
    "start_time": "2021-07-17T08:10:01.302Z"
   },
   {
    "duration": 13,
    "start_time": "2021-07-17T08:10:01.966Z"
   },
   {
    "duration": 6,
    "start_time": "2021-07-17T08:10:35.354Z"
   },
   {
    "duration": 3,
    "start_time": "2021-07-17T08:10:36.683Z"
   },
   {
    "duration": 91,
    "start_time": "2021-07-17T08:10:50.846Z"
   },
   {
    "duration": 4,
    "start_time": "2021-07-17T08:10:51.244Z"
   },
   {
    "duration": 14,
    "start_time": "2021-07-17T08:10:51.462Z"
   },
   {
    "duration": 7,
    "start_time": "2021-07-17T08:10:52.106Z"
   },
   {
    "duration": 4,
    "start_time": "2021-07-17T08:10:52.717Z"
   },
   {
    "duration": 3,
    "start_time": "2021-07-17T09:04:06.251Z"
   },
   {
    "duration": 1096,
    "start_time": "2021-07-17T09:05:08.514Z"
   },
   {
    "duration": 218,
    "start_time": "2021-07-17T09:08:46.330Z"
   },
   {
    "duration": 91,
    "start_time": "2021-07-17T09:08:58.227Z"
   },
   {
    "duration": 5,
    "start_time": "2021-07-17T09:08:58.779Z"
   },
   {
    "duration": 19,
    "start_time": "2021-07-17T09:08:59.460Z"
   },
   {
    "duration": 15,
    "start_time": "2021-07-17T09:09:00.646Z"
   },
   {
    "duration": 5,
    "start_time": "2021-07-17T09:09:02.975Z"
   },
   {
    "duration": 17,
    "start_time": "2021-07-17T09:09:04.994Z"
   },
   {
    "duration": 21,
    "start_time": "2021-07-17T09:13:14.413Z"
   },
   {
    "duration": 18,
    "start_time": "2021-07-17T09:14:46.003Z"
   },
   {
    "duration": 17,
    "start_time": "2021-07-17T09:16:13.853Z"
   },
   {
    "duration": 10,
    "start_time": "2021-07-17T09:26:06.966Z"
   },
   {
    "duration": 13,
    "start_time": "2021-07-17T09:30:55.218Z"
   },
   {
    "duration": 16,
    "start_time": "2021-07-17T09:36:13.196Z"
   },
   {
    "duration": 14,
    "start_time": "2021-07-17T09:36:28.071Z"
   },
   {
    "duration": 66,
    "start_time": "2021-07-17T09:38:43.412Z"
   },
   {
    "duration": 14,
    "start_time": "2021-07-17T09:38:46.405Z"
   },
   {
    "duration": 3,
    "start_time": "2021-07-17T09:39:14.651Z"
   },
   {
    "duration": 133,
    "start_time": "2021-07-17T09:39:14.983Z"
   },
   {
    "duration": 3,
    "start_time": "2021-07-17T09:39:15.373Z"
   },
   {
    "duration": 14,
    "start_time": "2021-07-17T09:39:16.030Z"
   },
   {
    "duration": 16,
    "start_time": "2021-07-17T09:39:17.034Z"
   },
   {
    "duration": 5,
    "start_time": "2021-07-17T09:39:17.829Z"
   },
   {
    "duration": 19,
    "start_time": "2021-07-17T09:39:21.152Z"
   },
   {
    "duration": 11,
    "start_time": "2021-07-17T09:39:27.739Z"
   },
   {
    "duration": 17,
    "start_time": "2021-07-17T09:39:45.090Z"
   },
   {
    "duration": 3,
    "start_time": "2021-07-17T10:09:20.516Z"
   },
   {
    "duration": 3,
    "start_time": "2021-07-17T10:09:20.985Z"
   },
   {
    "duration": 3,
    "start_time": "2021-07-17T10:12:56.389Z"
   },
   {
    "duration": 3,
    "start_time": "2021-07-17T10:12:58.084Z"
   },
   {
    "duration": 4,
    "start_time": "2021-07-17T10:13:20.625Z"
   },
   {
    "duration": 195,
    "start_time": "2021-07-17T10:13:49.209Z"
   },
   {
    "duration": 192,
    "start_time": "2021-07-17T10:14:01.591Z"
   },
   {
    "duration": 190,
    "start_time": "2021-07-17T10:14:09.121Z"
   },
   {
    "duration": 4,
    "start_time": "2021-07-17T10:14:25.339Z"
   },
   {
    "duration": 4,
    "start_time": "2021-07-17T10:14:53.299Z"
   },
   {
    "duration": 4,
    "start_time": "2021-07-17T10:15:46.023Z"
   },
   {
    "duration": 58,
    "start_time": "2021-07-17T10:16:46.294Z"
   },
   {
    "duration": 53,
    "start_time": "2021-07-17T10:16:50.946Z"
   },
   {
    "duration": 4,
    "start_time": "2021-07-17T10:16:57.008Z"
   },
   {
    "duration": 4,
    "start_time": "2021-07-17T10:19:15.032Z"
   },
   {
    "duration": 3,
    "start_time": "2021-07-17T10:27:28.436Z"
   },
   {
    "duration": 3,
    "start_time": "2021-07-17T10:27:42.904Z"
   },
   {
    "duration": 400,
    "start_time": "2021-07-17T10:28:06.307Z"
   },
   {
    "duration": 2,
    "start_time": "2021-07-17T10:28:13.135Z"
   },
   {
    "duration": 874,
    "start_time": "2021-07-17T10:28:13.561Z"
   },
   {
    "duration": 4,
    "start_time": "2021-07-17T10:28:43.823Z"
   },
   {
    "duration": 3,
    "start_time": "2021-07-17T10:28:44.532Z"
   },
   {
    "duration": 3,
    "start_time": "2021-07-17T10:28:45.045Z"
   },
   {
    "duration": 883,
    "start_time": "2021-07-17T10:28:45.638Z"
   },
   {
    "duration": 3,
    "start_time": "2021-07-17T10:28:58.895Z"
   },
   {
    "duration": 3,
    "start_time": "2021-07-17T10:28:59.369Z"
   },
   {
    "duration": 375,
    "start_time": "2021-07-17T10:29:00.523Z"
   },
   {
    "duration": 173,
    "start_time": "2021-07-17T10:29:48.296Z"
   },
   {
    "duration": 172,
    "start_time": "2021-07-17T10:29:53.157Z"
   },
   {
    "duration": 6,
    "start_time": "2021-07-17T10:30:12.191Z"
   },
   {
    "duration": 3,
    "start_time": "2021-07-17T10:30:13.110Z"
   },
   {
    "duration": 3,
    "start_time": "2021-07-17T10:30:13.702Z"
   },
   {
    "duration": 373,
    "start_time": "2021-07-17T10:30:35.789Z"
   },
   {
    "duration": 3,
    "start_time": "2021-07-17T10:32:15.629Z"
   },
   {
    "duration": 550,
    "start_time": "2021-07-17T10:32:16.141Z"
   },
   {
    "duration": 4,
    "start_time": "2021-07-17T10:32:23.209Z"
   },
   {
    "duration": 359,
    "start_time": "2021-07-17T10:32:23.491Z"
   },
   {
    "duration": 3,
    "start_time": "2021-07-17T10:33:42.919Z"
   },
   {
    "duration": 4,
    "start_time": "2021-07-17T10:33:43.494Z"
   },
   {
    "duration": 6,
    "start_time": "2021-07-17T10:33:44.025Z"
   },
   {
    "duration": 3,
    "start_time": "2021-07-17T10:33:50.077Z"
   },
   {
    "duration": 356,
    "start_time": "2021-07-17T10:33:50.604Z"
   },
   {
    "duration": -22,
    "start_time": "2021-07-17T10:33:50.983Z"
   },
   {
    "duration": 3,
    "start_time": "2021-07-17T10:33:57.067Z"
   },
   {
    "duration": 152,
    "start_time": "2021-07-17T10:33:57.222Z"
   },
   {
    "duration": 3,
    "start_time": "2021-07-17T10:33:57.385Z"
   },
   {
    "duration": 14,
    "start_time": "2021-07-17T10:33:57.530Z"
   },
   {
    "duration": 16,
    "start_time": "2021-07-17T10:33:57.832Z"
   },
   {
    "duration": 5,
    "start_time": "2021-07-17T10:33:57.989Z"
   },
   {
    "duration": 19,
    "start_time": "2021-07-17T10:33:58.678Z"
   },
   {
    "duration": 12,
    "start_time": "2021-07-17T10:33:59.578Z"
   },
   {
    "duration": 18,
    "start_time": "2021-07-17T10:34:00.019Z"
   },
   {
    "duration": 8,
    "start_time": "2021-07-17T10:34:01.666Z"
   },
   {
    "duration": 4,
    "start_time": "2021-07-17T10:34:02.020Z"
   },
   {
    "duration": 3,
    "start_time": "2021-07-17T10:34:02.523Z"
   },
   {
    "duration": 358,
    "start_time": "2021-07-17T10:34:03.301Z"
   },
   {
    "duration": 76,
    "start_time": "2021-07-17T10:34:50.654Z"
   },
   {
    "duration": 3,
    "start_time": "2021-07-17T10:35:05.495Z"
   },
   {
    "duration": 3,
    "start_time": "2021-07-17T10:35:06.207Z"
   },
   {
    "duration": 581,
    "start_time": "2021-07-17T10:35:06.793Z"
   },
   {
    "duration": 3,
    "start_time": "2021-07-17T10:35:30.701Z"
   },
   {
    "duration": 3,
    "start_time": "2021-07-17T10:35:31.140Z"
   },
   {
    "duration": 356,
    "start_time": "2021-07-17T10:35:31.842Z"
   },
   {
    "duration": 3,
    "start_time": "2021-07-17T10:35:41.170Z"
   },
   {
    "duration": 3,
    "start_time": "2021-07-17T10:35:41.699Z"
   },
   {
    "duration": 346,
    "start_time": "2021-07-17T10:35:42.094Z"
   },
   {
    "duration": 8,
    "start_time": "2021-07-17T10:36:21.834Z"
   },
   {
    "duration": 5,
    "start_time": "2021-07-17T10:40:29.370Z"
   },
   {
    "duration": 7,
    "start_time": "2021-07-17T10:40:42.812Z"
   },
   {
    "duration": 4,
    "start_time": "2021-07-17T10:41:15.287Z"
   },
   {
    "duration": 7,
    "start_time": "2021-07-17T10:41:16.034Z"
   },
   {
    "duration": 10,
    "start_time": "2021-07-17T10:41:47.256Z"
   },
   {
    "duration": 213,
    "start_time": "2021-07-17T10:42:11.859Z"
   },
   {
    "duration": 187,
    "start_time": "2021-07-17T10:42:30.226Z"
   },
   {
    "duration": 4,
    "start_time": "2021-07-17T10:42:34.521Z"
   },
   {
    "duration": 194,
    "start_time": "2021-07-17T10:42:38.073Z"
   },
   {
    "duration": 179,
    "start_time": "2021-07-17T10:43:35.100Z"
   },
   {
    "duration": 178,
    "start_time": "2021-07-17T10:43:39.262Z"
   },
   {
    "duration": 171,
    "start_time": "2021-07-17T10:43:43.289Z"
   },
   {
    "duration": 174,
    "start_time": "2021-07-17T10:43:47.621Z"
   },
   {
    "duration": 22,
    "start_time": "2021-07-17T10:44:11.894Z"
   },
   {
    "duration": 12,
    "start_time": "2021-07-17T10:44:22.450Z"
   },
   {
    "duration": 4,
    "start_time": "2021-07-17T10:45:12.784Z"
   },
   {
    "duration": 7,
    "start_time": "2021-07-17T10:45:29.246Z"
   },
   {
    "duration": 205,
    "start_time": "2021-07-17T10:46:39.268Z"
   },
   {
    "duration": 207,
    "start_time": "2021-07-17T10:46:46.894Z"
   },
   {
    "duration": 207,
    "start_time": "2021-07-17T10:46:59.452Z"
   },
   {
    "duration": 4,
    "start_time": "2021-07-17T10:47:50.307Z"
   },
   {
    "duration": 6,
    "start_time": "2021-07-17T10:47:57.917Z"
   },
   {
    "duration": 5,
    "start_time": "2021-07-17T10:48:33.556Z"
   },
   {
    "duration": 2,
    "start_time": "2021-07-17T10:48:42.191Z"
   },
   {
    "duration": 121,
    "start_time": "2021-07-17T10:48:42.341Z"
   },
   {
    "duration": 4,
    "start_time": "2021-07-17T10:48:42.475Z"
   },
   {
    "duration": 15,
    "start_time": "2021-07-17T10:48:42.630Z"
   },
   {
    "duration": 16,
    "start_time": "2021-07-17T10:48:42.930Z"
   },
   {
    "duration": 4,
    "start_time": "2021-07-17T10:48:43.087Z"
   },
   {
    "duration": 19,
    "start_time": "2021-07-17T10:48:43.595Z"
   },
   {
    "duration": 11,
    "start_time": "2021-07-17T10:48:45.109Z"
   },
   {
    "duration": 17,
    "start_time": "2021-07-17T10:48:46.774Z"
   },
   {
    "duration": 7,
    "start_time": "2021-07-17T10:48:49.817Z"
   },
   {
    "duration": 5,
    "start_time": "2021-07-17T10:48:50.280Z"
   },
   {
    "duration": 7,
    "start_time": "2021-07-17T10:49:02.236Z"
   },
   {
    "duration": 6,
    "start_time": "2021-07-17T10:49:06.492Z"
   },
   {
    "duration": 6,
    "start_time": "2021-07-17T10:49:08.331Z"
   },
   {
    "duration": 8,
    "start_time": "2021-07-17T10:51:51.100Z"
   },
   {
    "duration": 8,
    "start_time": "2021-07-17T10:52:02.321Z"
   },
   {
    "duration": 5,
    "start_time": "2021-07-17T10:57:17.555Z"
   },
   {
    "duration": 7,
    "start_time": "2021-07-17T10:57:25.581Z"
   },
   {
    "duration": 2,
    "start_time": "2021-07-17T10:57:32.379Z"
   },
   {
    "duration": 3,
    "start_time": "2021-07-17T10:57:33.269Z"
   },
   {
    "duration": 8,
    "start_time": "2021-07-17T10:57:33.945Z"
   },
   {
    "duration": 180,
    "start_time": "2021-07-17T11:10:32.210Z"
   },
   {
    "duration": 175,
    "start_time": "2021-07-17T11:10:38.506Z"
   },
   {
    "duration": 2,
    "start_time": "2021-07-17T11:10:42.038Z"
   },
   {
    "duration": 2,
    "start_time": "2021-07-17T11:10:55.033Z"
   },
   {
    "duration": 122,
    "start_time": "2021-07-17T11:10:55.197Z"
   },
   {
    "duration": 4,
    "start_time": "2021-07-17T11:10:55.365Z"
   },
   {
    "duration": 13,
    "start_time": "2021-07-17T11:10:55.525Z"
   },
   {
    "duration": 17,
    "start_time": "2021-07-17T11:10:55.850Z"
   },
   {
    "duration": 5,
    "start_time": "2021-07-17T11:10:56.043Z"
   },
   {
    "duration": 18,
    "start_time": "2021-07-17T11:10:56.894Z"
   },
   {
    "duration": 12,
    "start_time": "2021-07-17T11:10:58.081Z"
   },
   {
    "duration": 16,
    "start_time": "2021-07-17T11:10:58.630Z"
   },
   {
    "duration": 9,
    "start_time": "2021-07-17T11:11:14.136Z"
   },
   {
    "duration": 3,
    "start_time": "2021-07-17T11:11:14.835Z"
   },
   {
    "duration": 3,
    "start_time": "2021-07-17T11:11:15.368Z"
   },
   {
    "duration": 7,
    "start_time": "2021-07-17T11:11:16.008Z"
   },
   {
    "duration": 21,
    "start_time": "2021-07-17T11:11:16.649Z"
   },
   {
    "duration": 11,
    "start_time": "2021-07-17T11:11:29.359Z"
   },
   {
    "duration": 3,
    "start_time": "2021-07-17T11:14:10.886Z"
   },
   {
    "duration": 8,
    "start_time": "2021-07-17T11:14:11.763Z"
   },
   {
    "duration": 11,
    "start_time": "2021-07-17T11:14:13.044Z"
   },
   {
    "duration": 3,
    "start_time": "2021-07-17T11:14:33.158Z"
   },
   {
    "duration": 6,
    "start_time": "2021-07-17T11:14:33.603Z"
   },
   {
    "duration": 188,
    "start_time": "2021-07-17T11:14:34.257Z"
   },
   {
    "duration": 3,
    "start_time": "2021-07-17T11:14:44.295Z"
   },
   {
    "duration": 369,
    "start_time": "2021-07-17T11:14:44.831Z"
   },
   {
    "duration": 173,
    "start_time": "2021-07-17T11:14:45.269Z"
   },
   {
    "duration": 3,
    "start_time": "2021-07-17T11:14:48.460Z"
   },
   {
    "duration": 114,
    "start_time": "2021-07-17T11:14:48.620Z"
   },
   {
    "duration": 4,
    "start_time": "2021-07-17T11:14:48.771Z"
   },
   {
    "duration": 14,
    "start_time": "2021-07-17T11:14:48.935Z"
   },
   {
    "duration": 16,
    "start_time": "2021-07-17T11:14:49.292Z"
   },
   {
    "duration": 5,
    "start_time": "2021-07-17T11:14:49.459Z"
   },
   {
    "duration": 19,
    "start_time": "2021-07-17T11:14:49.977Z"
   },
   {
    "duration": 12,
    "start_time": "2021-07-17T11:14:51.073Z"
   },
   {
    "duration": 15,
    "start_time": "2021-07-17T11:14:51.317Z"
   },
   {
    "duration": 9,
    "start_time": "2021-07-17T11:14:52.873Z"
   },
   {
    "duration": 2,
    "start_time": "2021-07-17T11:14:53.397Z"
   },
   {
    "duration": 3,
    "start_time": "2021-07-17T11:14:54.087Z"
   },
   {
    "duration": 9,
    "start_time": "2021-07-17T11:14:58.431Z"
   },
   {
    "duration": 12,
    "start_time": "2021-07-17T11:15:00.679Z"
   },
   {
    "duration": 3,
    "start_time": "2021-07-17T11:15:40.875Z"
   },
   {
    "duration": 3,
    "start_time": "2021-07-17T11:15:50.614Z"
   },
   {
    "duration": 3,
    "start_time": "2021-07-17T11:16:15.100Z"
   },
   {
    "duration": 3,
    "start_time": "2021-07-17T11:16:16.843Z"
   },
   {
    "duration": 4,
    "start_time": "2021-07-17T11:17:06.364Z"
   },
   {
    "duration": 3,
    "start_time": "2021-07-17T11:18:00.064Z"
   },
   {
    "duration": 3,
    "start_time": "2021-07-17T11:18:03.140Z"
   },
   {
    "duration": 3,
    "start_time": "2021-07-17T11:18:06.148Z"
   },
   {
    "duration": 3,
    "start_time": "2021-07-17T11:18:11.785Z"
   },
   {
    "duration": 3,
    "start_time": "2021-07-17T11:18:40.566Z"
   },
   {
    "duration": 4,
    "start_time": "2021-07-17T11:18:43.070Z"
   },
   {
    "duration": 3,
    "start_time": "2021-07-17T11:19:00.420Z"
   },
   {
    "duration": 3,
    "start_time": "2021-07-17T11:20:25.773Z"
   },
   {
    "duration": 874,
    "start_time": "2021-07-17T11:20:29.644Z"
   },
   {
    "duration": -143,
    "start_time": "2021-07-17T11:20:30.662Z"
   },
   {
    "duration": 16,
    "start_time": "2021-07-17T11:21:09.371Z"
   },
   {
    "duration": 197,
    "start_time": "2021-07-17T11:21:43.001Z"
   },
   {
    "duration": 3,
    "start_time": "2021-07-17T11:27:32.119Z"
   },
   {
    "duration": 6,
    "start_time": "2021-07-17T11:27:32.973Z"
   },
   {
    "duration": 11,
    "start_time": "2021-07-17T11:27:34.407Z"
   },
   {
    "duration": 6,
    "start_time": "2021-07-17T11:37:11.231Z"
   },
   {
    "duration": 8,
    "start_time": "2021-07-17T11:37:37.950Z"
   },
   {
    "duration": 6,
    "start_time": "2021-07-17T11:42:35.608Z"
   },
   {
    "duration": 10,
    "start_time": "2021-07-17T11:42:37.529Z"
   },
   {
    "duration": 2,
    "start_time": "2021-07-17T11:42:54.523Z"
   },
   {
    "duration": 132,
    "start_time": "2021-07-17T11:42:54.687Z"
   },
   {
    "duration": 4,
    "start_time": "2021-07-17T11:42:54.839Z"
   },
   {
    "duration": 13,
    "start_time": "2021-07-17T11:42:54.994Z"
   },
   {
    "duration": 16,
    "start_time": "2021-07-17T11:42:55.310Z"
   },
   {
    "duration": 5,
    "start_time": "2021-07-17T11:42:55.477Z"
   },
   {
    "duration": 19,
    "start_time": "2021-07-17T11:42:56.025Z"
   },
   {
    "duration": 12,
    "start_time": "2021-07-17T11:42:56.960Z"
   },
   {
    "duration": 16,
    "start_time": "2021-07-17T11:42:57.438Z"
   },
   {
    "duration": 9,
    "start_time": "2021-07-17T11:42:58.597Z"
   },
   {
    "duration": 3,
    "start_time": "2021-07-17T11:42:58.967Z"
   },
   {
    "duration": 3,
    "start_time": "2021-07-17T11:42:59.676Z"
   },
   {
    "duration": 7,
    "start_time": "2021-07-17T11:43:01.570Z"
   },
   {
    "duration": 4,
    "start_time": "2021-07-17T11:43:02.010Z"
   },
   {
    "duration": 11,
    "start_time": "2021-07-17T11:43:02.643Z"
   },
   {
    "duration": 192,
    "start_time": "2021-07-17T11:45:23.355Z"
   },
   {
    "duration": 6,
    "start_time": "2021-07-17T11:47:50.274Z"
   },
   {
    "duration": 188,
    "start_time": "2021-07-17T11:48:03.018Z"
   },
   {
    "duration": 4,
    "start_time": "2021-07-17T11:48:30.983Z"
   },
   {
    "duration": 202,
    "start_time": "2021-07-17T11:48:49.399Z"
   },
   {
    "duration": 6,
    "start_time": "2021-07-17T11:49:03.137Z"
   },
   {
    "duration": 201,
    "start_time": "2021-07-17T11:49:10.645Z"
   },
   {
    "duration": 6,
    "start_time": "2021-07-17T11:49:21.794Z"
   },
   {
    "duration": 3,
    "start_time": "2021-07-17T11:53:36.687Z"
   },
   {
    "duration": 114,
    "start_time": "2021-07-17T11:53:37.049Z"
   },
   {
    "duration": 4,
    "start_time": "2021-07-17T11:53:39.804Z"
   },
   {
    "duration": 3,
    "start_time": "2021-07-17T13:01:59.862Z"
   },
   {
    "duration": 3,
    "start_time": "2021-07-17T13:30:16.765Z"
   },
   {
    "duration": 4,
    "start_time": "2021-07-17T13:30:21.122Z"
   },
   {
    "duration": 3,
    "start_time": "2021-07-17T13:30:25.562Z"
   },
   {
    "duration": 4,
    "start_time": "2021-07-17T13:30:26.074Z"
   },
   {
    "duration": 7425,
    "start_time": "2021-07-17T13:30:57.053Z"
   },
   {
    "duration": 4346,
    "start_time": "2021-07-17T13:31:10.058Z"
   },
   {
    "duration": 192,
    "start_time": "2021-07-17T13:31:27.956Z"
   },
   {
    "duration": 20,
    "start_time": "2021-07-17T13:31:33.902Z"
   },
   {
    "duration": 6,
    "start_time": "2021-07-17T13:31:41.909Z"
   },
   {
    "duration": 4334,
    "start_time": "2021-07-17T13:31:50.398Z"
   },
   {
    "duration": 4479,
    "start_time": "2021-07-17T13:31:58.790Z"
   },
   {
    "duration": -135,
    "start_time": "2021-07-17T13:32:15.767Z"
   },
   {
    "duration": 4317,
    "start_time": "2021-07-17T13:32:18.334Z"
   },
   {
    "duration": 10,
    "start_time": "2021-07-17T13:32:48.666Z"
   },
   {
    "duration": 172,
    "start_time": "2021-07-17T13:32:55.330Z"
   },
   {
    "duration": 122,
    "start_time": "2021-07-17T13:33:11.491Z"
   },
   {
    "duration": 4,
    "start_time": "2021-07-17T13:33:11.645Z"
   },
   {
    "duration": 15,
    "start_time": "2021-07-17T13:33:11.801Z"
   },
   {
    "duration": 17,
    "start_time": "2021-07-17T13:33:12.137Z"
   },
   {
    "duration": 5,
    "start_time": "2021-07-17T13:33:12.305Z"
   },
   {
    "duration": 21,
    "start_time": "2021-07-17T13:33:14.071Z"
   },
   {
    "duration": 10,
    "start_time": "2021-07-17T13:33:28.531Z"
   },
   {
    "duration": 3,
    "start_time": "2021-07-17T13:33:29.079Z"
   },
   {
    "duration": 4,
    "start_time": "2021-07-17T13:33:29.924Z"
   },
   {
    "duration": 13,
    "start_time": "2021-07-17T13:33:30.662Z"
   },
   {
    "duration": 68,
    "start_time": "2021-07-17T13:34:02.061Z"
   },
   {
    "duration": 54,
    "start_time": "2021-07-17T13:34:11.650Z"
   },
   {
    "duration": 61,
    "start_time": "2021-07-17T13:34:18.893Z"
   },
   {
    "duration": 69,
    "start_time": "2021-07-17T13:34:23.108Z"
   },
   {
    "duration": 58,
    "start_time": "2021-07-17T13:34:27.128Z"
   },
   {
    "duration": 86,
    "start_time": "2021-07-17T13:36:21.075Z"
   },
   {
    "duration": 68,
    "start_time": "2021-07-17T13:36:32.393Z"
   },
   {
    "duration": 11,
    "start_time": "2021-07-17T13:36:44.795Z"
   },
   {
    "duration": 7,
    "start_time": "2021-07-17T13:36:57.533Z"
   },
   {
    "duration": 6,
    "start_time": "2021-07-17T13:38:15.701Z"
   },
   {
    "duration": 5,
    "start_time": "2021-07-17T13:38:22.359Z"
   },
   {
    "duration": 6,
    "start_time": "2021-07-17T13:38:26.387Z"
   },
   {
    "duration": 4,
    "start_time": "2021-07-17T13:38:26.854Z"
   },
   {
    "duration": 5,
    "start_time": "2021-07-17T13:38:35.345Z"
   },
   {
    "duration": 4,
    "start_time": "2021-07-17T13:38:35.874Z"
   },
   {
    "duration": 5,
    "start_time": "2021-07-17T13:38:45.940Z"
   },
   {
    "duration": 4,
    "start_time": "2021-07-17T13:38:46.534Z"
   },
   {
    "duration": 18,
    "start_time": "2021-07-17T13:40:25.284Z"
   },
   {
    "duration": 5,
    "start_time": "2021-07-17T13:40:44.040Z"
   },
   {
    "duration": 13,
    "start_time": "2021-07-17T13:40:44.744Z"
   },
   {
    "duration": 5,
    "start_time": "2021-07-17T13:41:29.828Z"
   },
   {
    "duration": 13,
    "start_time": "2021-07-17T13:41:36.066Z"
   },
   {
    "duration": 4,
    "start_time": "2021-07-17T13:41:45.473Z"
   },
   {
    "duration": 12,
    "start_time": "2021-07-17T13:41:46.268Z"
   },
   {
    "duration": 5,
    "start_time": "2021-07-17T13:42:11.862Z"
   },
   {
    "duration": 12,
    "start_time": "2021-07-17T13:42:13.937Z"
   },
   {
    "duration": 201,
    "start_time": "2021-07-17T13:42:41.596Z"
   },
   {
    "duration": 4,
    "start_time": "2021-07-17T13:43:29.955Z"
   },
   {
    "duration": 203,
    "start_time": "2021-07-17T13:43:32.280Z"
   },
   {
    "duration": 13,
    "start_time": "2021-07-17T13:44:31.392Z"
   },
   {
    "duration": 3,
    "start_time": "2021-07-17T13:44:43.265Z"
   },
   {
    "duration": 186,
    "start_time": "2021-07-17T13:44:45.747Z"
   },
   {
    "duration": 189,
    "start_time": "2021-07-17T13:47:01.399Z"
   },
   {
    "duration": 11,
    "start_time": "2021-07-17T13:48:36.908Z"
   },
   {
    "duration": 181,
    "start_time": "2021-07-17T13:49:04.025Z"
   },
   {
    "duration": 150,
    "start_time": "2021-07-17T13:49:08.268Z"
   },
   {
    "duration": 4,
    "start_time": "2021-07-17T13:49:08.678Z"
   },
   {
    "duration": 17,
    "start_time": "2021-07-17T13:49:09.209Z"
   },
   {
    "duration": 15,
    "start_time": "2021-07-17T13:49:10.257Z"
   },
   {
    "duration": 4,
    "start_time": "2021-07-17T13:49:11.055Z"
   },
   {
    "duration": 17,
    "start_time": "2021-07-17T13:49:12.349Z"
   },
   {
    "duration": 18,
    "start_time": "2021-07-17T13:49:15.295Z"
   },
   {
    "duration": 21,
    "start_time": "2021-07-17T13:49:16.709Z"
   },
   {
    "duration": 8,
    "start_time": "2021-07-17T13:49:18.947Z"
   },
   {
    "duration": 5,
    "start_time": "2021-07-17T13:49:20.985Z"
   },
   {
    "duration": 6,
    "start_time": "2021-07-17T13:49:21.611Z"
   },
   {
    "duration": 18,
    "start_time": "2021-07-17T13:49:23.775Z"
   },
   {
    "duration": 6,
    "start_time": "2021-07-17T13:49:24.087Z"
   },
   {
    "duration": 4,
    "start_time": "2021-07-17T13:49:24.713Z"
   },
   {
    "duration": 4,
    "start_time": "2021-07-17T13:49:25.047Z"
   },
   {
    "duration": 5,
    "start_time": "2021-07-17T13:49:26.073Z"
   },
   {
    "duration": 178,
    "start_time": "2021-07-17T13:49:28.156Z"
   },
   {
    "duration": 4,
    "start_time": "2021-07-17T13:50:42.107Z"
   },
   {
    "duration": 4,
    "start_time": "2021-07-17T13:50:42.847Z"
   },
   {
    "duration": 4,
    "start_time": "2021-07-17T13:50:43.372Z"
   },
   {
    "duration": 4,
    "start_time": "2021-07-17T13:50:43.906Z"
   },
   {
    "duration": 11,
    "start_time": "2021-07-17T13:50:48.607Z"
   },
   {
    "duration": 11,
    "start_time": "2021-07-17T13:52:12.036Z"
   },
   {
    "duration": 192,
    "start_time": "2021-07-17T13:52:56.276Z"
   },
   {
    "duration": 4,
    "start_time": "2021-07-17T13:53:06.345Z"
   },
   {
    "duration": 5,
    "start_time": "2021-07-17T13:53:19.177Z"
   },
   {
    "duration": 16,
    "start_time": "2021-07-17T13:53:48.290Z"
   },
   {
    "duration": 4,
    "start_time": "2021-07-17T13:57:40.322Z"
   },
   {
    "duration": 5,
    "start_time": "2021-07-17T13:57:40.797Z"
   },
   {
    "duration": 184,
    "start_time": "2021-07-17T13:57:41.398Z"
   },
   {
    "duration": 6,
    "start_time": "2021-07-17T13:57:55.111Z"
   },
   {
    "duration": 7,
    "start_time": "2021-07-17T13:59:09.083Z"
   },
   {
    "duration": 4,
    "start_time": "2021-07-17T13:59:18.069Z"
   },
   {
    "duration": 7,
    "start_time": "2021-07-17T13:59:18.638Z"
   },
   {
    "duration": 5,
    "start_time": "2021-07-17T13:59:19.169Z"
   },
   {
    "duration": 186,
    "start_time": "2021-07-17T14:00:09.318Z"
   },
   {
    "duration": 188,
    "start_time": "2021-07-17T14:00:38.236Z"
   },
   {
    "duration": 3,
    "start_time": "2021-07-17T14:00:48.393Z"
   },
   {
    "duration": 119,
    "start_time": "2021-07-17T14:00:48.563Z"
   },
   {
    "duration": 3,
    "start_time": "2021-07-17T14:00:48.718Z"
   },
   {
    "duration": 18,
    "start_time": "2021-07-17T14:00:48.879Z"
   },
   {
    "duration": 16,
    "start_time": "2021-07-17T14:00:49.166Z"
   },
   {
    "duration": 5,
    "start_time": "2021-07-17T14:00:49.317Z"
   },
   {
    "duration": 26,
    "start_time": "2021-07-17T14:00:49.781Z"
   },
   {
    "duration": 11,
    "start_time": "2021-07-17T14:00:50.458Z"
   },
   {
    "duration": 17,
    "start_time": "2021-07-17T14:00:50.635Z"
   },
   {
    "duration": 11,
    "start_time": "2021-07-17T14:00:51.995Z"
   },
   {
    "duration": 3,
    "start_time": "2021-07-17T14:01:26.963Z"
   },
   {
    "duration": 4,
    "start_time": "2021-07-17T14:02:46.322Z"
   },
   {
    "duration": 12,
    "start_time": "2021-07-17T14:02:49.773Z"
   },
   {
    "duration": 11,
    "start_time": "2021-07-17T14:02:58.464Z"
   },
   {
    "duration": 211,
    "start_time": "2021-07-17T14:03:49.957Z"
   },
   {
    "duration": 184,
    "start_time": "2021-07-17T14:03:50.485Z"
   },
   {
    "duration": 8,
    "start_time": "2021-07-17T14:04:17.893Z"
   },
   {
    "duration": 10,
    "start_time": "2021-07-17T14:04:48.724Z"
   },
   {
    "duration": 10,
    "start_time": "2021-07-17T14:07:03.406Z"
   },
   {
    "duration": 189,
    "start_time": "2021-07-17T14:12:15.539Z"
   },
   {
    "duration": 13,
    "start_time": "2021-07-17T14:13:05.855Z"
   },
   {
    "duration": 4,
    "start_time": "2021-07-17T14:14:28.039Z"
   },
   {
    "duration": 8,
    "start_time": "2021-07-17T14:14:29.087Z"
   },
   {
    "duration": 11,
    "start_time": "2021-07-17T14:14:41.132Z"
   },
   {
    "duration": 3,
    "start_time": "2021-07-17T14:15:28.441Z"
   },
   {
    "duration": 8,
    "start_time": "2021-07-17T14:15:28.898Z"
   },
   {
    "duration": 14,
    "start_time": "2021-07-17T14:15:29.491Z"
   },
   {
    "duration": 3,
    "start_time": "2021-07-17T14:16:32.074Z"
   },
   {
    "duration": 3,
    "start_time": "2021-07-17T14:16:39.523Z"
   },
   {
    "duration": 3,
    "start_time": "2021-07-17T14:16:40.249Z"
   },
   {
    "duration": 366,
    "start_time": "2021-07-17T14:16:41.438Z"
   },
   {
    "duration": 186,
    "start_time": "2021-07-17T14:17:08.899Z"
   },
   {
    "duration": 11,
    "start_time": "2021-07-17T14:17:33.435Z"
   },
   {
    "duration": 7,
    "start_time": "2021-07-17T14:19:07.748Z"
   },
   {
    "duration": 178,
    "start_time": "2021-07-17T14:19:36.900Z"
   },
   {
    "duration": 173,
    "start_time": "2021-07-17T14:19:43.821Z"
   },
   {
    "duration": 17,
    "start_time": "2021-07-17T14:20:48.589Z"
   },
   {
    "duration": 183,
    "start_time": "2021-07-17T14:20:53.957Z"
   },
   {
    "duration": 12,
    "start_time": "2021-07-17T14:22:21.520Z"
   },
   {
    "duration": 173,
    "start_time": "2021-07-17T14:22:57.936Z"
   },
   {
    "duration": 3,
    "start_time": "2021-07-17T14:23:02.717Z"
   },
   {
    "duration": 186,
    "start_time": "2021-07-17T14:23:26.898Z"
   },
   {
    "duration": 4,
    "start_time": "2021-07-17T14:23:32.454Z"
   },
   {
    "duration": 5,
    "start_time": "2021-07-17T14:23:45.595Z"
   },
   {
    "duration": 5,
    "start_time": "2021-07-17T14:23:50.694Z"
   },
   {
    "duration": 4,
    "start_time": "2021-07-17T14:23:58.200Z"
   },
   {
    "duration": 3,
    "start_time": "2021-07-17T14:24:07.913Z"
   },
   {
    "duration": 3,
    "start_time": "2021-07-17T14:24:14.247Z"
   },
   {
    "duration": 4,
    "start_time": "2021-07-17T14:24:33.356Z"
   },
   {
    "duration": 15,
    "start_time": "2021-07-17T14:24:34.160Z"
   },
   {
    "duration": 11,
    "start_time": "2021-07-17T14:24:45.102Z"
   },
   {
    "duration": 4,
    "start_time": "2021-07-17T14:25:03.440Z"
   },
   {
    "duration": 6,
    "start_time": "2021-07-17T14:25:12.284Z"
   },
   {
    "duration": 13,
    "start_time": "2021-07-17T14:25:13.531Z"
   },
   {
    "duration": 10,
    "start_time": "2021-07-17T14:25:14.037Z"
   },
   {
    "duration": 3,
    "start_time": "2021-07-17T14:25:37.146Z"
   },
   {
    "duration": 4,
    "start_time": "2021-07-17T14:25:43.427Z"
   },
   {
    "duration": 4,
    "start_time": "2021-07-17T14:25:46.982Z"
   },
   {
    "duration": 4,
    "start_time": "2021-07-17T14:26:15.372Z"
   },
   {
    "duration": 59,
    "start_time": "2021-07-17T14:26:50.845Z"
   },
   {
    "duration": 4,
    "start_time": "2021-07-17T14:26:58.153Z"
   },
   {
    "duration": 16,
    "start_time": "2021-07-17T14:26:59.180Z"
   },
   {
    "duration": 16,
    "start_time": "2021-07-17T14:26:59.808Z"
   },
   {
    "duration": 4,
    "start_time": "2021-07-17T14:27:12.897Z"
   },
   {
    "duration": 12,
    "start_time": "2021-07-17T14:27:13.510Z"
   },
   {
    "duration": 15,
    "start_time": "2021-07-17T14:27:14.505Z"
   },
   {
    "duration": 211,
    "start_time": "2021-07-17T14:28:02.224Z"
   },
   {
    "duration": 180,
    "start_time": "2021-07-17T14:28:11.590Z"
   },
   {
    "duration": 6,
    "start_time": "2021-07-17T14:28:25.545Z"
   },
   {
    "duration": 105,
    "start_time": "2021-07-17T14:28:47.955Z"
   },
   {
    "duration": 4,
    "start_time": "2021-07-17T14:28:48.230Z"
   },
   {
    "duration": 15,
    "start_time": "2021-07-17T14:28:48.417Z"
   },
   {
    "duration": 16,
    "start_time": "2021-07-17T14:28:48.758Z"
   },
   {
    "duration": 5,
    "start_time": "2021-07-17T14:28:48.920Z"
   },
   {
    "duration": 19,
    "start_time": "2021-07-17T14:28:49.369Z"
   },
   {
    "duration": 12,
    "start_time": "2021-07-17T14:28:50.258Z"
   },
   {
    "duration": 16,
    "start_time": "2021-07-17T14:28:50.415Z"
   },
   {
    "duration": 11,
    "start_time": "2021-07-17T14:28:53.271Z"
   },
   {
    "duration": 4,
    "start_time": "2021-07-17T14:28:53.727Z"
   },
   {
    "duration": 4,
    "start_time": "2021-07-17T14:28:54.627Z"
   },
   {
    "duration": 19,
    "start_time": "2021-07-17T14:29:00.653Z"
   },
   {
    "duration": 12,
    "start_time": "2021-07-17T14:29:02.036Z"
   },
   {
    "duration": 3,
    "start_time": "2021-07-17T14:29:51.088Z"
   },
   {
    "duration": 14,
    "start_time": "2021-07-17T14:29:51.595Z"
   },
   {
    "duration": 13,
    "start_time": "2021-07-17T14:29:53.717Z"
   },
   {
    "duration": 4,
    "start_time": "2021-07-17T14:30:01.013Z"
   },
   {
    "duration": 12,
    "start_time": "2021-07-17T14:30:02.085Z"
   },
   {
    "duration": 12,
    "start_time": "2021-07-17T14:30:03.170Z"
   },
   {
    "duration": 3,
    "start_time": "2021-07-17T14:30:48.456Z"
   },
   {
    "duration": 106,
    "start_time": "2021-07-17T14:30:48.617Z"
   },
   {
    "duration": 3,
    "start_time": "2021-07-17T14:30:48.763Z"
   },
   {
    "duration": 13,
    "start_time": "2021-07-17T14:30:48.924Z"
   },
   {
    "duration": 17,
    "start_time": "2021-07-17T14:30:50.047Z"
   },
   {
    "duration": 5,
    "start_time": "2021-07-17T14:30:50.252Z"
   },
   {
    "duration": 19,
    "start_time": "2021-07-17T14:30:51.173Z"
   },
   {
    "duration": 12,
    "start_time": "2021-07-17T14:30:52.084Z"
   },
   {
    "duration": 16,
    "start_time": "2021-07-17T14:30:52.690Z"
   },
   {
    "duration": 10,
    "start_time": "2021-07-17T14:30:54.804Z"
   },
   {
    "duration": 2,
    "start_time": "2021-07-17T14:30:55.177Z"
   },
   {
    "duration": 4,
    "start_time": "2021-07-17T14:30:57.535Z"
   },
   {
    "duration": 19,
    "start_time": "2021-07-17T14:30:57.998Z"
   },
   {
    "duration": 14,
    "start_time": "2021-07-17T14:31:00.704Z"
   },
   {
    "duration": 9,
    "start_time": "2021-07-17T14:31:17.926Z"
   },
   {
    "duration": 11,
    "start_time": "2021-07-17T14:31:29.115Z"
   },
   {
    "duration": 7,
    "start_time": "2021-07-17T14:31:56.324Z"
   },
   {
    "duration": 11,
    "start_time": "2021-07-17T14:31:57.694Z"
   },
   {
    "duration": 9,
    "start_time": "2021-07-17T14:32:23.881Z"
   },
   {
    "duration": 6,
    "start_time": "2021-07-17T14:32:32.934Z"
   },
   {
    "duration": 14,
    "start_time": "2021-07-17T14:32:35.104Z"
   },
   {
    "duration": 173,
    "start_time": "2021-07-17T14:32:49.837Z"
   },
   {
    "duration": 18,
    "start_time": "2021-07-17T14:32:55.644Z"
   },
   {
    "duration": 114,
    "start_time": "2021-07-17T14:37:57.913Z"
   },
   {
    "duration": 3,
    "start_time": "2021-07-17T14:37:58.096Z"
   },
   {
    "duration": 14,
    "start_time": "2021-07-17T14:37:58.258Z"
   },
   {
    "duration": 16,
    "start_time": "2021-07-17T14:37:58.590Z"
   },
   {
    "duration": 5,
    "start_time": "2021-07-17T14:37:58.738Z"
   },
   {
    "duration": 18,
    "start_time": "2021-07-17T14:37:59.193Z"
   },
   {
    "duration": 11,
    "start_time": "2021-07-17T14:37:59.826Z"
   },
   {
    "duration": 18,
    "start_time": "2021-07-17T14:38:00.454Z"
   },
   {
    "duration": 17,
    "start_time": "2021-07-17T14:38:08.538Z"
   },
   {
    "duration": 9,
    "start_time": "2021-07-17T14:38:09.791Z"
   },
   {
    "duration": 2,
    "start_time": "2021-07-17T14:38:10.289Z"
   },
   {
    "duration": 3,
    "start_time": "2021-07-17T14:38:12.386Z"
   },
   {
    "duration": 16,
    "start_time": "2021-07-17T14:38:12.687Z"
   },
   {
    "duration": 11,
    "start_time": "2021-07-17T14:38:13.078Z"
   },
   {
    "duration": 166,
    "start_time": "2021-07-17T14:38:17.973Z"
   },
   {
    "duration": 7,
    "start_time": "2021-07-17T14:38:22.514Z"
   },
   {
    "duration": 2,
    "start_time": "2021-07-17T14:40:36.043Z"
   },
   {
    "duration": 105,
    "start_time": "2021-07-17T14:40:36.208Z"
   },
   {
    "duration": 4,
    "start_time": "2021-07-17T14:40:36.378Z"
   },
   {
    "duration": 15,
    "start_time": "2021-07-17T14:40:36.525Z"
   },
   {
    "duration": 15,
    "start_time": "2021-07-17T14:40:36.934Z"
   },
   {
    "duration": 5,
    "start_time": "2021-07-17T14:40:37.110Z"
   },
   {
    "duration": 19,
    "start_time": "2021-07-17T14:40:37.638Z"
   },
   {
    "duration": 11,
    "start_time": "2021-07-17T14:40:39.393Z"
   },
   {
    "duration": 16,
    "start_time": "2021-07-17T14:40:42.914Z"
   },
   {
    "duration": 11,
    "start_time": "2021-07-17T14:40:43.949Z"
   },
   {
    "duration": 2,
    "start_time": "2021-07-17T14:40:44.342Z"
   },
   {
    "duration": 3,
    "start_time": "2021-07-17T14:40:44.955Z"
   },
   {
    "duration": 23,
    "start_time": "2021-07-17T14:40:46.188Z"
   },
   {
    "duration": 13,
    "start_time": "2021-07-17T14:40:47.462Z"
   },
   {
    "duration": 5,
    "start_time": "2021-07-17T14:40:53.486Z"
   },
   {
    "duration": 175,
    "start_time": "2021-07-17T14:42:40.889Z"
   },
   {
    "duration": 183,
    "start_time": "2021-07-17T14:42:45.953Z"
   },
   {
    "duration": 183,
    "start_time": "2021-07-17T14:43:11.372Z"
   },
   {
    "duration": 181,
    "start_time": "2021-07-17T14:43:55.775Z"
   },
   {
    "duration": 200,
    "start_time": "2021-07-17T14:44:00.672Z"
   },
   {
    "duration": 176,
    "start_time": "2021-07-17T14:44:05.826Z"
   },
   {
    "duration": 6,
    "start_time": "2021-07-17T14:44:14.706Z"
   },
   {
    "duration": 2,
    "start_time": "2021-07-17T14:44:40.912Z"
   },
   {
    "duration": 114,
    "start_time": "2021-07-17T14:44:41.066Z"
   },
   {
    "duration": 3,
    "start_time": "2021-07-17T14:44:41.222Z"
   },
   {
    "duration": 14,
    "start_time": "2021-07-17T14:44:41.379Z"
   },
   {
    "duration": 17,
    "start_time": "2021-07-17T14:44:41.683Z"
   },
   {
    "duration": 4,
    "start_time": "2021-07-17T14:44:41.838Z"
   },
   {
    "duration": 19,
    "start_time": "2021-07-17T14:44:42.310Z"
   },
   {
    "duration": 12,
    "start_time": "2021-07-17T14:44:43.584Z"
   },
   {
    "duration": 18,
    "start_time": "2021-07-17T14:44:44.604Z"
   },
   {
    "duration": 9,
    "start_time": "2021-07-17T14:44:47.341Z"
   },
   {
    "duration": 2,
    "start_time": "2021-07-17T14:44:48.288Z"
   },
   {
    "duration": 4,
    "start_time": "2021-07-17T14:44:50.369Z"
   },
   {
    "duration": 21,
    "start_time": "2021-07-17T14:44:51.384Z"
   },
   {
    "duration": 11,
    "start_time": "2021-07-17T14:44:52.302Z"
   },
   {
    "duration": 17,
    "start_time": "2021-07-17T14:45:04.428Z"
   },
   {
    "duration": 3,
    "start_time": "2021-07-17T14:46:45.682Z"
   },
   {
    "duration": 112,
    "start_time": "2021-07-17T14:46:45.841Z"
   },
   {
    "duration": 3,
    "start_time": "2021-07-17T14:46:45.995Z"
   },
   {
    "duration": 14,
    "start_time": "2021-07-17T14:46:46.152Z"
   },
   {
    "duration": 17,
    "start_time": "2021-07-17T14:46:46.439Z"
   },
   {
    "duration": 5,
    "start_time": "2021-07-17T14:46:46.601Z"
   },
   {
    "duration": 20,
    "start_time": "2021-07-17T14:46:47.061Z"
   },
   {
    "duration": 13,
    "start_time": "2021-07-17T14:46:47.709Z"
   },
   {
    "duration": 17,
    "start_time": "2021-07-17T14:46:47.874Z"
   },
   {
    "duration": 9,
    "start_time": "2021-07-17T14:46:48.759Z"
   },
   {
    "duration": 3,
    "start_time": "2021-07-17T14:46:49.183Z"
   },
   {
    "duration": 3,
    "start_time": "2021-07-17T14:46:49.781Z"
   },
   {
    "duration": 22,
    "start_time": "2021-07-17T14:46:51.709Z"
   },
   {
    "duration": 16,
    "start_time": "2021-07-17T14:46:52.258Z"
   },
   {
    "duration": 12,
    "start_time": "2021-07-17T14:47:04.695Z"
   },
   {
    "duration": 4,
    "start_time": "2021-07-17T14:55:08.326Z"
   },
   {
    "duration": 174,
    "start_time": "2021-07-17T14:55:27.459Z"
   },
   {
    "duration": 4,
    "start_time": "2021-07-17T14:55:30.979Z"
   },
   {
    "duration": 209,
    "start_time": "2021-07-17T14:57:13.596Z"
   },
   {
    "duration": -51,
    "start_time": "2021-07-17T14:57:13.858Z"
   },
   {
    "duration": 3,
    "start_time": "2021-07-17T14:57:14.268Z"
   },
   {
    "duration": 2,
    "start_time": "2021-07-17T14:57:50.495Z"
   },
   {
    "duration": 103,
    "start_time": "2021-07-17T14:57:50.635Z"
   },
   {
    "duration": 3,
    "start_time": "2021-07-17T14:57:50.788Z"
   },
   {
    "duration": 16,
    "start_time": "2021-07-17T14:57:50.937Z"
   },
   {
    "duration": 16,
    "start_time": "2021-07-17T14:57:51.245Z"
   },
   {
    "duration": 5,
    "start_time": "2021-07-17T14:57:51.356Z"
   },
   {
    "duration": 17,
    "start_time": "2021-07-17T14:57:51.799Z"
   },
   {
    "duration": 11,
    "start_time": "2021-07-17T14:57:52.572Z"
   },
   {
    "duration": 16,
    "start_time": "2021-07-17T14:57:52.724Z"
   },
   {
    "duration": 10,
    "start_time": "2021-07-17T14:57:53.342Z"
   },
   {
    "duration": 3,
    "start_time": "2021-07-17T14:57:54.006Z"
   },
   {
    "duration": 4,
    "start_time": "2021-07-17T14:57:54.162Z"
   },
   {
    "duration": 23,
    "start_time": "2021-07-17T14:57:54.325Z"
   },
   {
    "duration": 5,
    "start_time": "2021-07-17T14:57:54.468Z"
   },
   {
    "duration": 12,
    "start_time": "2021-07-17T14:57:55.102Z"
   },
   {
    "duration": 129,
    "start_time": "2021-07-17T15:14:08.800Z"
   },
   {
    "duration": 196,
    "start_time": "2021-07-17T15:14:37.259Z"
   },
   {
    "duration": 3,
    "start_time": "2021-07-17T15:17:23.519Z"
   },
   {
    "duration": 187,
    "start_time": "2021-07-17T15:17:24.392Z"
   },
   {
    "duration": 13,
    "start_time": "2021-07-17T15:17:28.782Z"
   },
   {
    "duration": 3,
    "start_time": "2021-07-17T15:17:38.833Z"
   },
   {
    "duration": 56,
    "start_time": "2021-07-17T15:18:49.252Z"
   },
   {
    "duration": 179,
    "start_time": "2021-07-17T15:19:20.425Z"
   },
   {
    "duration": 7,
    "start_time": "2021-07-17T15:19:32.922Z"
   },
   {
    "duration": 5,
    "start_time": "2021-07-17T15:20:14.656Z"
   },
   {
    "duration": 19,
    "start_time": "2021-07-17T15:20:23.309Z"
   },
   {
    "duration": 3,
    "start_time": "2021-07-17T15:21:02.649Z"
   },
   {
    "duration": 13,
    "start_time": "2021-07-17T15:21:03.166Z"
   },
   {
    "duration": 19,
    "start_time": "2021-07-17T15:21:34.146Z"
   },
   {
    "duration": 18,
    "start_time": "2021-07-17T15:21:40.742Z"
   },
   {
    "duration": 20,
    "start_time": "2021-07-17T15:21:48.449Z"
   },
   {
    "duration": 26,
    "start_time": "2021-07-17T15:22:23.147Z"
   },
   {
    "duration": 27,
    "start_time": "2021-07-17T15:22:35.763Z"
   },
   {
    "duration": 24,
    "start_time": "2021-07-17T15:22:48.969Z"
   },
   {
    "duration": 5,
    "start_time": "2021-07-17T15:35:38.662Z"
   },
   {
    "duration": 6,
    "start_time": "2021-07-17T15:35:55.131Z"
   },
   {
    "duration": 6,
    "start_time": "2021-07-17T15:36:03.839Z"
   },
   {
    "duration": 5,
    "start_time": "2021-07-17T15:36:13.043Z"
   },
   {
    "duration": 4,
    "start_time": "2021-07-17T15:36:17.675Z"
   },
   {
    "duration": 5,
    "start_time": "2021-07-17T15:36:37.323Z"
   },
   {
    "duration": 4,
    "start_time": "2021-07-17T15:36:50.617Z"
   },
   {
    "duration": 4,
    "start_time": "2021-07-17T15:37:32.279Z"
   },
   {
    "duration": 71,
    "start_time": "2021-07-17T15:38:18.369Z"
   },
   {
    "duration": 4,
    "start_time": "2021-07-17T15:38:18.790Z"
   },
   {
    "duration": 4,
    "start_time": "2021-07-17T15:38:24.647Z"
   },
   {
    "duration": 17,
    "start_time": "2021-07-17T15:47:32.833Z"
   },
   {
    "duration": 17,
    "start_time": "2021-07-17T15:48:51.200Z"
   },
   {
    "duration": 4,
    "start_time": "2021-07-17T15:48:56.335Z"
   },
   {
    "duration": 191,
    "start_time": "2021-07-17T15:50:48.572Z"
   },
   {
    "duration": 11,
    "start_time": "2021-07-17T15:50:52.978Z"
   },
   {
    "duration": 12,
    "start_time": "2021-07-17T15:51:03.825Z"
   },
   {
    "duration": 8,
    "start_time": "2021-07-17T15:52:31.903Z"
   },
   {
    "duration": 14,
    "start_time": "2021-07-17T15:52:47.217Z"
   },
   {
    "duration": 24,
    "start_time": "2021-07-17T15:58:19.059Z"
   },
   {
    "duration": 55,
    "start_time": "2021-07-17T15:59:52.383Z"
   },
   {
    "duration": 11,
    "start_time": "2021-07-17T16:01:35.744Z"
   },
   {
    "duration": 12,
    "start_time": "2021-07-17T16:01:59.125Z"
   },
   {
    "duration": 11,
    "start_time": "2021-07-17T16:06:30.250Z"
   },
   {
    "duration": 12,
    "start_time": "2021-07-17T16:06:55.189Z"
   },
   {
    "duration": 16,
    "start_time": "2021-07-17T16:08:18.024Z"
   },
   {
    "duration": 218,
    "start_time": "2021-07-17T16:08:24.839Z"
   },
   {
    "duration": 13,
    "start_time": "2021-07-17T16:08:31.205Z"
   },
   {
    "duration": 17,
    "start_time": "2021-07-17T16:09:26.551Z"
   },
   {
    "duration": 61,
    "start_time": "2021-07-17T16:10:51.347Z"
   },
   {
    "duration": 20,
    "start_time": "2021-07-17T16:11:00.853Z"
   },
   {
    "duration": 13,
    "start_time": "2021-07-17T16:54:05.274Z"
   },
   {
    "duration": 12,
    "start_time": "2021-07-17T16:54:19.598Z"
   },
   {
    "duration": 203,
    "start_time": "2021-07-17T16:54:23.130Z"
   },
   {
    "duration": 18,
    "start_time": "2021-07-17T16:54:28.188Z"
   },
   {
    "duration": 21,
    "start_time": "2021-07-17T16:55:06.251Z"
   },
   {
    "duration": 19,
    "start_time": "2021-07-17T17:09:21.758Z"
   },
   {
    "duration": 19,
    "start_time": "2021-07-17T17:09:34.542Z"
   },
   {
    "duration": 9,
    "start_time": "2021-07-17T17:14:34.655Z"
   },
   {
    "duration": 19,
    "start_time": "2021-07-17T17:14:42.423Z"
   },
   {
    "duration": 8,
    "start_time": "2021-07-17T17:15:01.133Z"
   },
   {
    "duration": 189,
    "start_time": "2021-07-17T17:15:01.662Z"
   },
   {
    "duration": 2,
    "start_time": "2021-07-17T17:15:14.058Z"
   },
   {
    "duration": 122,
    "start_time": "2021-07-17T17:15:14.213Z"
   },
   {
    "duration": 3,
    "start_time": "2021-07-17T17:15:14.361Z"
   },
   {
    "duration": 19,
    "start_time": "2021-07-17T17:15:14.522Z"
   },
   {
    "duration": 16,
    "start_time": "2021-07-17T17:15:14.815Z"
   },
   {
    "duration": 5,
    "start_time": "2021-07-17T17:15:14.975Z"
   },
   {
    "duration": 18,
    "start_time": "2021-07-17T17:15:15.460Z"
   },
   {
    "duration": 11,
    "start_time": "2021-07-17T17:15:17.100Z"
   },
   {
    "duration": 15,
    "start_time": "2021-07-17T17:15:17.527Z"
   },
   {
    "duration": 10,
    "start_time": "2021-07-17T17:15:18.451Z"
   },
   {
    "duration": 3,
    "start_time": "2021-07-17T17:15:18.679Z"
   },
   {
    "duration": 4,
    "start_time": "2021-07-17T17:15:18.861Z"
   },
   {
    "duration": 21,
    "start_time": "2021-07-17T17:15:20.042Z"
   },
   {
    "duration": 11,
    "start_time": "2021-07-17T17:15:20.379Z"
   },
   {
    "duration": 3,
    "start_time": "2021-07-17T17:15:21.455Z"
   },
   {
    "duration": 13,
    "start_time": "2021-07-17T17:15:21.639Z"
   },
   {
    "duration": 5,
    "start_time": "2021-07-17T17:15:22.346Z"
   },
   {
    "duration": 4,
    "start_time": "2021-07-17T17:15:23.321Z"
   },
   {
    "duration": 19,
    "start_time": "2021-07-17T17:15:36.898Z"
   },
   {
    "duration": 4,
    "start_time": "2021-07-17T17:15:37.062Z"
   },
   {
    "duration": 24,
    "start_time": "2021-07-17T17:15:38.790Z"
   },
   {
    "duration": 11,
    "start_time": "2021-07-17T17:15:39.201Z"
   },
   {
    "duration": 19,
    "start_time": "2021-07-17T17:15:41.172Z"
   },
   {
    "duration": 59,
    "start_time": "2021-07-17T17:15:43.869Z"
   },
   {
    "duration": 6,
    "start_time": "2021-07-17T17:15:44.282Z"
   },
   {
    "duration": 16,
    "start_time": "2021-07-17T17:15:45.966Z"
   },
   {
    "duration": 4,
    "start_time": "2021-07-17T17:16:05.338Z"
   },
   {
    "duration": 18,
    "start_time": "2021-07-17T17:16:06.652Z"
   },
   {
    "duration": 26,
    "start_time": "2021-07-17T17:16:29.378Z"
   },
   {
    "duration": 3,
    "start_time": "2021-07-17T17:17:44.463Z"
   },
   {
    "duration": 141,
    "start_time": "2021-07-17T17:17:44.607Z"
   },
   {
    "duration": 4,
    "start_time": "2021-07-17T17:17:44.750Z"
   },
   {
    "duration": 14,
    "start_time": "2021-07-17T17:17:44.897Z"
   },
   {
    "duration": 17,
    "start_time": "2021-07-17T17:17:45.179Z"
   },
   {
    "duration": 6,
    "start_time": "2021-07-17T17:17:45.334Z"
   },
   {
    "duration": 19,
    "start_time": "2021-07-17T17:17:45.781Z"
   },
   {
    "duration": 11,
    "start_time": "2021-07-17T17:17:46.562Z"
   },
   {
    "duration": 16,
    "start_time": "2021-07-17T17:17:46.728Z"
   },
   {
    "duration": 9,
    "start_time": "2021-07-17T17:17:47.355Z"
   },
   {
    "duration": 3,
    "start_time": "2021-07-17T17:17:47.515Z"
   },
   {
    "duration": 3,
    "start_time": "2021-07-17T17:17:47.881Z"
   },
   {
    "duration": 22,
    "start_time": "2021-07-17T17:17:48.078Z"
   },
   {
    "duration": 10,
    "start_time": "2021-07-17T17:17:48.384Z"
   },
   {
    "duration": 2,
    "start_time": "2021-07-17T17:17:49.158Z"
   },
   {
    "duration": 14,
    "start_time": "2021-07-17T17:17:49.322Z"
   },
   {
    "duration": 5,
    "start_time": "2021-07-17T17:17:49.676Z"
   },
   {
    "duration": 4,
    "start_time": "2021-07-17T17:17:50.134Z"
   },
   {
    "duration": 19,
    "start_time": "2021-07-17T17:17:50.670Z"
   },
   {
    "duration": 4,
    "start_time": "2021-07-17T17:17:51.297Z"
   },
   {
    "duration": 24,
    "start_time": "2021-07-17T17:17:53.367Z"
   },
   {
    "duration": 13,
    "start_time": "2021-07-17T17:17:54.018Z"
   },
   {
    "duration": 17,
    "start_time": "2021-07-17T17:17:54.351Z"
   },
   {
    "duration": 60,
    "start_time": "2021-07-17T17:17:56.475Z"
   },
   {
    "duration": 7,
    "start_time": "2021-07-17T17:17:57.681Z"
   },
   {
    "duration": 25,
    "start_time": "2021-07-17T17:18:01.137Z"
   },
   {
    "duration": 5,
    "start_time": "2021-07-17T17:18:05.214Z"
   },
   {
    "duration": 18,
    "start_time": "2021-07-17T17:18:06.479Z"
   },
   {
    "duration": 4,
    "start_time": "2021-07-17T17:19:12.410Z"
   },
   {
    "duration": 19,
    "start_time": "2021-07-17T17:19:14.474Z"
   },
   {
    "duration": 62,
    "start_time": "2021-07-17T17:20:47.003Z"
   },
   {
    "duration": 14,
    "start_time": "2021-07-17T17:21:00.986Z"
   },
   {
    "duration": 57,
    "start_time": "2021-07-17T17:23:09.990Z"
   },
   {
    "duration": 181,
    "start_time": "2021-07-17T17:30:53.967Z"
   },
   {
    "duration": 4360,
    "start_time": "2021-07-17T17:31:09.439Z"
   },
   {
    "duration": 4613,
    "start_time": "2021-07-17T17:31:17.702Z"
   },
   {
    "duration": 4608,
    "start_time": "2021-07-17T17:31:30.308Z"
   },
   {
    "duration": 35,
    "start_time": "2021-07-17T17:32:11.657Z"
   },
   {
    "duration": 15,
    "start_time": "2021-07-17T17:32:31.704Z"
   },
   {
    "duration": 15,
    "start_time": "2021-07-17T17:32:42.899Z"
   },
   {
    "duration": 14,
    "start_time": "2021-07-17T17:32:53.103Z"
   },
   {
    "duration": 181,
    "start_time": "2021-07-17T17:32:58.661Z"
   },
   {
    "duration": 13,
    "start_time": "2021-07-17T17:33:03.748Z"
   },
   {
    "duration": 13,
    "start_time": "2021-07-17T17:33:46.299Z"
   },
   {
    "duration": 14,
    "start_time": "2021-07-17T17:33:52.342Z"
   },
   {
    "duration": 56,
    "start_time": "2021-07-17T17:34:53.324Z"
   },
   {
    "duration": 14,
    "start_time": "2021-07-17T17:35:03.114Z"
   },
   {
    "duration": 184,
    "start_time": "2021-07-17T17:36:13.143Z"
   },
   {
    "duration": 17,
    "start_time": "2021-07-17T17:36:17.007Z"
   },
   {
    "duration": 16,
    "start_time": "2021-07-17T17:36:31.594Z"
   },
   {
    "duration": 11,
    "start_time": "2021-07-17T17:36:48.399Z"
   },
   {
    "duration": 11,
    "start_time": "2021-07-17T17:38:00.857Z"
   },
   {
    "duration": 13,
    "start_time": "2021-07-17T17:38:10.838Z"
   },
   {
    "duration": 14,
    "start_time": "2021-07-17T17:38:16.180Z"
   },
   {
    "duration": 11,
    "start_time": "2021-07-17T17:38:30.157Z"
   },
   {
    "duration": 13,
    "start_time": "2021-07-17T17:38:44.372Z"
   },
   {
    "duration": 17,
    "start_time": "2021-07-17T17:38:49.607Z"
   },
   {
    "duration": 15,
    "start_time": "2021-07-17T17:38:55.448Z"
   },
   {
    "duration": 14,
    "start_time": "2021-07-17T17:39:44.025Z"
   },
   {
    "duration": 15,
    "start_time": "2021-07-17T17:39:50.592Z"
   },
   {
    "duration": 26,
    "start_time": "2021-07-17T17:39:57.748Z"
   },
   {
    "duration": 71,
    "start_time": "2021-07-17T17:40:28.738Z"
   },
   {
    "duration": 476,
    "start_time": "2021-07-17T17:43:47.790Z"
   },
   {
    "duration": 680,
    "start_time": "2021-07-17T17:44:21.875Z"
   },
   {
    "duration": 465,
    "start_time": "2021-07-17T17:44:32.937Z"
   },
   {
    "duration": 4,
    "start_time": "2021-07-17T17:58:22.620Z"
   },
   {
    "duration": 3,
    "start_time": "2021-07-17T17:58:40.203Z"
   },
   {
    "duration": 218,
    "start_time": "2021-07-17T17:59:39.031Z"
   },
   {
    "duration": 4,
    "start_time": "2021-07-17T17:59:58.854Z"
   },
   {
    "duration": 57,
    "start_time": "2021-07-17T18:00:36.380Z"
   },
   {
    "duration": 63,
    "start_time": "2021-07-17T18:00:59.994Z"
   },
   {
    "duration": 61,
    "start_time": "2021-07-17T18:01:16.208Z"
   },
   {
    "duration": 9,
    "start_time": "2021-07-17T18:01:45.460Z"
   },
   {
    "duration": 58,
    "start_time": "2021-07-17T18:03:11.583Z"
   },
   {
    "duration": 11,
    "start_time": "2021-07-17T18:03:29.165Z"
   },
   {
    "duration": 4308,
    "start_time": "2021-07-17T18:03:56.800Z"
   },
   {
    "duration": 12,
    "start_time": "2021-07-17T18:04:05.246Z"
   },
   {
    "duration": 13,
    "start_time": "2021-07-17T18:04:40.214Z"
   },
   {
    "duration": 7,
    "start_time": "2021-07-17T18:33:43.325Z"
   },
   {
    "duration": 459,
    "start_time": "2021-07-17T18:33:57.858Z"
   },
   {
    "duration": 478,
    "start_time": "2021-07-17T18:34:16.980Z"
   },
   {
    "duration": 665,
    "start_time": "2021-07-17T18:36:23.269Z"
   },
   {
    "duration": 651,
    "start_time": "2021-07-17T18:36:52.009Z"
   },
   {
    "duration": 477,
    "start_time": "2021-07-17T18:37:03.445Z"
   },
   {
    "duration": 634,
    "start_time": "2021-07-17T18:37:15.034Z"
   },
   {
    "duration": 478,
    "start_time": "2021-07-17T18:37:23.548Z"
   },
   {
    "duration": 445,
    "start_time": "2021-07-17T18:37:48.314Z"
   },
   {
    "duration": 184,
    "start_time": "2021-07-17T18:37:56.192Z"
   },
   {
    "duration": 19,
    "start_time": "2021-07-17T18:38:08.456Z"
   },
   {
    "duration": 171,
    "start_time": "2021-07-17T18:38:44.490Z"
   },
   {
    "duration": 171,
    "start_time": "2021-07-17T18:38:50.242Z"
   },
   {
    "duration": 25,
    "start_time": "2021-07-17T18:39:04.311Z"
   },
   {
    "duration": 24,
    "start_time": "2021-07-17T18:39:09.149Z"
   },
   {
    "duration": 475,
    "start_time": "2021-07-17T18:39:36.570Z"
   },
   {
    "duration": 490,
    "start_time": "2021-07-17T18:40:44.931Z"
   },
   {
    "duration": 5,
    "start_time": "2021-07-17T18:41:02.294Z"
   },
   {
    "duration": 17,
    "start_time": "2021-07-17T18:42:10.477Z"
   },
   {
    "duration": 18,
    "start_time": "2021-07-17T18:42:43.629Z"
   },
   {
    "duration": 18,
    "start_time": "2021-07-17T18:43:09.358Z"
   },
   {
    "duration": 10,
    "start_time": "2021-07-17T18:44:11.540Z"
   },
   {
    "duration": 61,
    "start_time": "2021-07-17T18:44:25.340Z"
   },
   {
    "duration": 17,
    "start_time": "2021-07-17T18:44:29.028Z"
   },
   {
    "duration": 70,
    "start_time": "2021-07-17T18:46:50.621Z"
   },
   {
    "duration": 17,
    "start_time": "2021-07-17T18:47:12.730Z"
   },
   {
    "duration": 4,
    "start_time": "2021-07-17T18:49:13.109Z"
   },
   {
    "duration": 16,
    "start_time": "2021-07-17T18:49:49.484Z"
   },
   {
    "duration": 17,
    "start_time": "2021-07-17T18:49:50.831Z"
   },
   {
    "duration": 9,
    "start_time": "2021-07-17T19:10:53.834Z"
   },
   {
    "duration": 17,
    "start_time": "2021-07-17T19:12:06.475Z"
   },
   {
    "duration": 173,
    "start_time": "2021-07-17T19:12:40.293Z"
   },
   {
    "duration": 178,
    "start_time": "2021-07-17T19:12:43.861Z"
   },
   {
    "duration": 8,
    "start_time": "2021-07-17T19:12:55.627Z"
   },
   {
    "duration": 9,
    "start_time": "2021-07-17T19:13:36.121Z"
   },
   {
    "duration": 7,
    "start_time": "2021-07-17T19:13:50.306Z"
   },
   {
    "duration": 174,
    "start_time": "2021-07-17T19:14:11.411Z"
   },
   {
    "duration": 14,
    "start_time": "2021-07-17T19:14:21.183Z"
   },
   {
    "duration": 30,
    "start_time": "2021-07-17T19:14:31.704Z"
   },
   {
    "duration": 3,
    "start_time": "2021-07-17T19:14:45.427Z"
   },
   {
    "duration": 4,
    "start_time": "2021-07-17T19:14:54.330Z"
   },
   {
    "duration": 15,
    "start_time": "2021-07-17T19:15:03.060Z"
   },
   {
    "duration": 74,
    "start_time": "2021-07-17T19:15:57.104Z"
   },
   {
    "duration": 11,
    "start_time": "2021-07-17T19:16:01.927Z"
   },
   {
    "duration": 12,
    "start_time": "2021-07-17T19:16:19.996Z"
   },
   {
    "duration": 59,
    "start_time": "2021-07-17T19:20:05.493Z"
   },
   {
    "duration": 29,
    "start_time": "2021-07-17T19:21:16.480Z"
   },
   {
    "duration": 182,
    "start_time": "2021-07-17T19:21:52.646Z"
   },
   {
    "duration": 42,
    "start_time": "2021-07-17T19:21:58.095Z"
   },
   {
    "duration": 39,
    "start_time": "2021-07-17T19:22:12.921Z"
   },
   {
    "duration": 25,
    "start_time": "2021-07-17T19:22:55.477Z"
   },
   {
    "duration": 24,
    "start_time": "2021-07-17T19:22:59.303Z"
   },
   {
    "duration": 186,
    "start_time": "2021-07-17T19:23:05.481Z"
   },
   {
    "duration": 51,
    "start_time": "2021-07-17T19:23:35.828Z"
   },
   {
    "duration": 5,
    "start_time": "2021-07-17T19:26:36.447Z"
   },
   {
    "duration": 57,
    "start_time": "2021-07-17T19:27:07.676Z"
   },
   {
    "duration": 8,
    "start_time": "2021-07-17T19:27:13.276Z"
   },
   {
    "duration": 289,
    "start_time": "2021-07-17T19:38:03.711Z"
   },
   {
    "duration": 170,
    "start_time": "2021-07-17T19:38:42.130Z"
   },
   {
    "duration": 314,
    "start_time": "2021-07-17T19:38:47.615Z"
   },
   {
    "duration": 331,
    "start_time": "2021-07-17T19:39:01.095Z"
   },
   {
    "duration": 332,
    "start_time": "2021-07-17T19:39:10.324Z"
   },
   {
    "duration": 591,
    "start_time": "2021-07-17T19:39:18.927Z"
   },
   {
    "duration": 2,
    "start_time": "2021-07-17T19:39:45.468Z"
   },
   {
    "duration": 321,
    "start_time": "2021-07-17T19:39:52.263Z"
   },
   {
    "duration": 171,
    "start_time": "2021-07-17T19:40:00.593Z"
   },
   {
    "duration": 7,
    "start_time": "2021-07-17T19:40:20.217Z"
   },
   {
    "duration": 173,
    "start_time": "2021-07-17T19:40:42.881Z"
   },
   {
    "duration": 168,
    "start_time": "2021-07-17T19:40:53.774Z"
   },
   {
    "duration": 129,
    "start_time": "2021-07-17T19:41:55.270Z"
   },
   {
    "duration": 129,
    "start_time": "2021-07-17T19:41:59.507Z"
   },
   {
    "duration": 137,
    "start_time": "2021-07-17T19:42:07.177Z"
   },
   {
    "duration": 145,
    "start_time": "2021-07-17T19:42:30.936Z"
   },
   {
    "duration": 136,
    "start_time": "2021-07-17T19:42:45.064Z"
   },
   {
    "duration": 206,
    "start_time": "2021-07-17T19:43:28.253Z"
   },
   {
    "duration": 33,
    "start_time": "2021-07-17T19:43:31.393Z"
   },
   {
    "duration": 58,
    "start_time": "2021-07-17T19:43:37.553Z"
   },
   {
    "duration": 38,
    "start_time": "2021-07-17T19:43:39.824Z"
   },
   {
    "duration": 3,
    "start_time": "2021-07-17T19:46:20.726Z"
   },
   {
    "duration": 29,
    "start_time": "2021-07-17T19:46:21.286Z"
   },
   {
    "duration": 16,
    "start_time": "2021-07-17T19:48:16.482Z"
   },
   {
    "duration": 16,
    "start_time": "2021-07-17T19:48:43.826Z"
   },
   {
    "duration": 125,
    "start_time": "2021-07-17T19:53:28.345Z"
   },
   {
    "duration": 146,
    "start_time": "2021-07-17T19:53:30.606Z"
   },
   {
    "duration": 25,
    "start_time": "2021-07-17T19:58:41.126Z"
   },
   {
    "duration": 29,
    "start_time": "2021-07-17T19:59:26.435Z"
   },
   {
    "duration": 27,
    "start_time": "2021-07-17T19:59:37.777Z"
   },
   {
    "duration": 25,
    "start_time": "2021-07-17T19:59:46.704Z"
   },
   {
    "duration": 27,
    "start_time": "2021-07-17T20:00:06.975Z"
   },
   {
    "duration": 12,
    "start_time": "2021-07-17T20:09:30.006Z"
   },
   {
    "duration": 23,
    "start_time": "2021-07-17T21:41:29.424Z"
   },
   {
    "duration": 7,
    "start_time": "2021-07-17T21:42:40.382Z"
   },
   {
    "duration": 17,
    "start_time": "2021-07-17T21:43:15.823Z"
   },
   {
    "duration": 11,
    "start_time": "2021-07-17T21:45:06.477Z"
   },
   {
    "duration": 7,
    "start_time": "2021-07-17T21:46:01.921Z"
   },
   {
    "duration": 11,
    "start_time": "2021-07-17T21:49:17.607Z"
   },
   {
    "duration": 6,
    "start_time": "2021-07-17T21:49:33.581Z"
   },
   {
    "duration": 12,
    "start_time": "2021-07-17T21:50:23.095Z"
   },
   {
    "duration": 10,
    "start_time": "2021-07-17T21:50:41.407Z"
   },
   {
    "duration": 17,
    "start_time": "2021-07-17T21:50:45.549Z"
   },
   {
    "duration": 10,
    "start_time": "2021-07-17T21:50:50.727Z"
   },
   {
    "duration": 7,
    "start_time": "2021-07-17T21:54:22.037Z"
   },
   {
    "duration": 5,
    "start_time": "2021-07-17T21:54:53.496Z"
   },
   {
    "duration": 4,
    "start_time": "2021-07-17T21:54:56.589Z"
   },
   {
    "duration": 4,
    "start_time": "2021-07-17T21:55:03.229Z"
   },
   {
    "duration": 201,
    "start_time": "2021-07-17T21:55:52.026Z"
   },
   {
    "duration": 23,
    "start_time": "2021-07-17T21:56:06.884Z"
   },
   {
    "duration": 8,
    "start_time": "2021-07-17T21:56:16.289Z"
   },
   {
    "duration": 22,
    "start_time": "2021-07-17T21:56:22.487Z"
   },
   {
    "duration": 9,
    "start_time": "2021-07-17T21:56:40.474Z"
   },
   {
    "duration": 4227,
    "start_time": "2021-07-17T21:56:52.706Z"
   },
   {
    "duration": 13,
    "start_time": "2021-07-17T21:56:58.226Z"
   },
   {
    "duration": 7,
    "start_time": "2021-07-17T22:01:18.854Z"
   },
   {
    "duration": 456,
    "start_time": "2021-07-17T22:01:53.881Z"
   },
   {
    "duration": 4391,
    "start_time": "2021-07-17T22:04:49.205Z"
   },
   {
    "duration": 7,
    "start_time": "2021-07-17T22:05:04.787Z"
   },
   {
    "duration": 6,
    "start_time": "2021-07-17T22:05:05.344Z"
   },
   {
    "duration": 4793,
    "start_time": "2021-07-17T22:05:15.655Z"
   },
   {
    "duration": 193,
    "start_time": "2021-07-17T22:06:06.189Z"
   },
   {
    "duration": 1218,
    "start_time": "2021-07-17T22:06:35.070Z"
   },
   {
    "duration": 182,
    "start_time": "2021-07-17T22:08:14.755Z"
   },
   {
    "duration": 790,
    "start_time": "2021-07-17T22:08:25.285Z"
   },
   {
    "duration": 1113,
    "start_time": "2021-07-17T22:08:34.140Z"
   },
   {
    "duration": 4348,
    "start_time": "2021-07-17T22:09:37.077Z"
   },
   {
    "duration": 6,
    "start_time": "2021-07-17T22:10:22.385Z"
   },
   {
    "duration": 6,
    "start_time": "2021-07-17T22:13:36.231Z"
   },
   {
    "duration": 183,
    "start_time": "2021-07-17T22:14:17.920Z"
   },
   {
    "duration": 9,
    "start_time": "2021-07-17T22:14:30.431Z"
   },
   {
    "duration": 6,
    "start_time": "2021-07-17T22:14:43.390Z"
   },
   {
    "duration": 8,
    "start_time": "2021-07-17T22:14:44.013Z"
   },
   {
    "duration": 7,
    "start_time": "2021-07-17T22:15:02.270Z"
   },
   {
    "duration": 6,
    "start_time": "2021-07-17T22:15:02.892Z"
   },
   {
    "duration": 8,
    "start_time": "2021-07-17T22:15:11.432Z"
   },
   {
    "duration": 7,
    "start_time": "2021-07-17T22:15:20.124Z"
   },
   {
    "duration": 7,
    "start_time": "2021-07-17T22:16:12.705Z"
   },
   {
    "duration": 7,
    "start_time": "2021-07-17T22:16:13.711Z"
   },
   {
    "duration": 184,
    "start_time": "2021-07-17T22:16:29.013Z"
   },
   {
    "duration": 7,
    "start_time": "2021-07-17T22:16:32.161Z"
   },
   {
    "duration": 181,
    "start_time": "2021-07-17T22:16:32.865Z"
   },
   {
    "duration": 7,
    "start_time": "2021-07-17T22:16:37.396Z"
   },
   {
    "duration": 7,
    "start_time": "2021-07-17T22:16:43.608Z"
   },
   {
    "duration": 8,
    "start_time": "2021-07-17T22:16:49.202Z"
   },
   {
    "duration": 7,
    "start_time": "2021-07-17T22:16:55.371Z"
   },
   {
    "duration": 8,
    "start_time": "2021-07-17T22:16:56.078Z"
   },
   {
    "duration": 3,
    "start_time": "2021-07-17T22:18:25.717Z"
   },
   {
    "duration": 122,
    "start_time": "2021-07-17T22:18:25.881Z"
   },
   {
    "duration": 5,
    "start_time": "2021-07-17T22:18:26.057Z"
   },
   {
    "duration": 14,
    "start_time": "2021-07-17T22:18:26.270Z"
   },
   {
    "duration": 16,
    "start_time": "2021-07-17T22:18:26.592Z"
   },
   {
    "duration": 5,
    "start_time": "2021-07-17T22:18:26.689Z"
   },
   {
    "duration": 17,
    "start_time": "2021-07-17T22:18:27.200Z"
   },
   {
    "duration": 12,
    "start_time": "2021-07-17T22:18:28.013Z"
   },
   {
    "duration": 15,
    "start_time": "2021-07-17T22:18:28.182Z"
   },
   {
    "duration": 10,
    "start_time": "2021-07-17T22:18:28.856Z"
   },
   {
    "duration": 2,
    "start_time": "2021-07-17T22:18:29.021Z"
   },
   {
    "duration": 4,
    "start_time": "2021-07-17T22:18:29.198Z"
   },
   {
    "duration": 23,
    "start_time": "2021-07-17T22:18:29.354Z"
   },
   {
    "duration": 12,
    "start_time": "2021-07-17T22:18:29.683Z"
   },
   {
    "duration": 3,
    "start_time": "2021-07-17T22:18:30.403Z"
   },
   {
    "duration": 13,
    "start_time": "2021-07-17T22:18:30.530Z"
   },
   {
    "duration": 4,
    "start_time": "2021-07-17T22:18:30.883Z"
   },
   {
    "duration": 3,
    "start_time": "2021-07-17T22:18:31.245Z"
   },
   {
    "duration": 18,
    "start_time": "2021-07-17T22:18:31.759Z"
   },
   {
    "duration": 4,
    "start_time": "2021-07-17T22:18:31.964Z"
   },
   {
    "duration": 26,
    "start_time": "2021-07-17T22:18:32.639Z"
   },
   {
    "duration": 13,
    "start_time": "2021-07-17T22:18:33.179Z"
   },
   {
    "duration": 19,
    "start_time": "2021-07-17T22:18:33.537Z"
   },
   {
    "duration": 7,
    "start_time": "2021-07-17T22:18:33.952Z"
   },
   {
    "duration": 4,
    "start_time": "2021-07-17T22:18:34.206Z"
   },
   {
    "duration": 6,
    "start_time": "2021-07-17T22:18:34.676Z"
   },
   {
    "duration": 18,
    "start_time": "2021-07-17T22:18:34.874Z"
   },
   {
    "duration": 18,
    "start_time": "2021-07-17T22:18:35.225Z"
   },
   {
    "duration": 18,
    "start_time": "2021-07-17T22:18:36.047Z"
   },
   {
    "duration": 14,
    "start_time": "2021-07-17T22:18:36.243Z"
   },
   {
    "duration": 18,
    "start_time": "2021-07-17T22:18:37.808Z"
   },
   {
    "duration": 4,
    "start_time": "2021-07-17T22:18:39.195Z"
   },
   {
    "duration": 13,
    "start_time": "2021-07-17T22:18:39.422Z"
   },
   {
    "duration": 56,
    "start_time": "2021-07-17T22:18:39.632Z"
   },
   {
    "duration": 459,
    "start_time": "2021-07-17T22:18:49.994Z"
   },
   {
    "duration": 8,
    "start_time": "2021-07-17T22:18:50.988Z"
   },
   {
    "duration": 4,
    "start_time": "2021-07-17T22:18:52.036Z"
   },
   {
    "duration": 16,
    "start_time": "2021-07-17T22:18:53.887Z"
   },
   {
    "duration": 17,
    "start_time": "2021-07-17T22:18:56.224Z"
   },
   {
    "duration": 8,
    "start_time": "2021-07-17T22:18:57.464Z"
   },
   {
    "duration": 4,
    "start_time": "2021-07-17T22:18:57.636Z"
   },
   {
    "duration": 13,
    "start_time": "2021-07-17T22:18:57.865Z"
   },
   {
    "duration": 56,
    "start_time": "2021-07-17T22:18:59.128Z"
   },
   {
    "duration": 6,
    "start_time": "2021-07-17T22:19:00.083Z"
   },
   {
    "duration": 9,
    "start_time": "2021-07-17T22:19:01.002Z"
   },
   {
    "duration": 3,
    "start_time": "2021-07-17T22:19:03.543Z"
   },
   {
    "duration": 30,
    "start_time": "2021-07-17T22:19:04.798Z"
   },
   {
    "duration": 17,
    "start_time": "2021-07-17T22:19:05.756Z"
   },
   {
    "duration": 16,
    "start_time": "2021-07-17T22:19:06.190Z"
   },
   {
    "duration": 135,
    "start_time": "2021-07-17T22:19:06.559Z"
   },
   {
    "duration": 6,
    "start_time": "2021-07-17T22:19:07.332Z"
   },
   {
    "duration": 7,
    "start_time": "2021-07-17T22:19:16.233Z"
   },
   {
    "duration": 8,
    "start_time": "2021-07-17T22:19:34.671Z"
   },
   {
    "duration": 8,
    "start_time": "2021-07-17T22:19:34.862Z"
   },
   {
    "duration": 19,
    "start_time": "2021-07-17T22:19:35.050Z"
   },
   {
    "duration": 11,
    "start_time": "2021-07-17T22:19:35.417Z"
   },
   {
    "duration": 12,
    "start_time": "2021-07-17T22:19:36.118Z"
   },
   {
    "duration": 7,
    "start_time": "2021-07-17T22:19:47.092Z"
   },
   {
    "duration": 4,
    "start_time": "2021-07-17T22:19:47.707Z"
   },
   {
    "duration": 7,
    "start_time": "2021-07-17T22:19:48.370Z"
   },
   {
    "duration": 7,
    "start_time": "2021-07-17T22:20:36.239Z"
   },
   {
    "duration": 7,
    "start_time": "2021-07-17T22:20:39.826Z"
   },
   {
    "duration": 5,
    "start_time": "2021-07-17T22:20:52.437Z"
   },
   {
    "duration": 6,
    "start_time": "2021-07-17T22:20:59.170Z"
   },
   {
    "duration": 4,
    "start_time": "2021-07-17T22:21:18.057Z"
   },
   {
    "duration": 7,
    "start_time": "2021-07-17T22:21:23.680Z"
   },
   {
    "duration": 6,
    "start_time": "2021-07-17T22:21:31.355Z"
   },
   {
    "duration": 4,
    "start_time": "2021-07-17T22:21:32.005Z"
   },
   {
    "duration": 6,
    "start_time": "2021-07-17T22:21:32.525Z"
   },
   {
    "duration": 13,
    "start_time": "2021-07-17T22:23:21.802Z"
   },
   {
    "duration": 6,
    "start_time": "2021-07-17T22:23:50.263Z"
   },
   {
    "duration": 15,
    "start_time": "2021-07-17T22:23:56.097Z"
   },
   {
    "duration": 7,
    "start_time": "2021-07-17T22:24:19.291Z"
   },
   {
    "duration": 16,
    "start_time": "2021-07-17T22:24:20.021Z"
   },
   {
    "duration": 57,
    "start_time": "2021-07-17T22:24:42.162Z"
   },
   {
    "duration": 14,
    "start_time": "2021-07-17T22:24:46.387Z"
   },
   {
    "duration": 12,
    "start_time": "2021-07-17T22:24:55.289Z"
   },
   {
    "duration": 841,
    "start_time": "2021-07-18T17:51:12.762Z"
   },
   {
    "duration": 115,
    "start_time": "2021-07-18T17:51:13.605Z"
   },
   {
    "duration": 5,
    "start_time": "2021-07-18T17:51:13.723Z"
   },
   {
    "duration": 35,
    "start_time": "2021-07-18T17:51:13.730Z"
   },
   {
    "duration": 26,
    "start_time": "2021-07-18T17:51:13.767Z"
   },
   {
    "duration": 6,
    "start_time": "2021-07-18T17:51:13.796Z"
   },
   {
    "duration": 28,
    "start_time": "2021-07-18T17:51:14.272Z"
   },
   {
    "duration": 15,
    "start_time": "2021-07-18T17:51:15.085Z"
   },
   {
    "duration": 25,
    "start_time": "2021-07-18T17:51:15.273Z"
   },
   {
    "duration": 12,
    "start_time": "2021-07-18T17:51:15.897Z"
   },
   {
    "duration": 4,
    "start_time": "2021-07-18T17:51:16.071Z"
   },
   {
    "duration": 5,
    "start_time": "2021-07-18T17:51:16.225Z"
   },
   {
    "duration": 32,
    "start_time": "2021-07-18T17:51:16.375Z"
   },
   {
    "duration": 17,
    "start_time": "2021-07-18T17:51:16.724Z"
   },
   {
    "duration": 4,
    "start_time": "2021-07-18T17:51:17.338Z"
   },
   {
    "duration": 17,
    "start_time": "2021-07-18T17:51:17.495Z"
   },
   {
    "duration": 6,
    "start_time": "2021-07-18T17:51:17.858Z"
   },
   {
    "duration": 5,
    "start_time": "2021-07-18T17:51:18.162Z"
   },
   {
    "duration": 27,
    "start_time": "2021-07-18T17:51:18.643Z"
   },
   {
    "duration": 5,
    "start_time": "2021-07-18T17:51:18.887Z"
   },
   {
    "duration": 35,
    "start_time": "2021-07-18T17:51:19.471Z"
   },
   {
    "duration": 22,
    "start_time": "2021-07-18T17:51:19.997Z"
   },
   {
    "duration": 30,
    "start_time": "2021-07-18T17:51:20.390Z"
   },
   {
    "duration": 9,
    "start_time": "2021-07-18T17:51:20.715Z"
   },
   {
    "duration": 6,
    "start_time": "2021-07-18T17:51:20.855Z"
   },
   {
    "duration": 7,
    "start_time": "2021-07-18T17:51:21.034Z"
   },
   {
    "duration": 29,
    "start_time": "2021-07-18T17:51:21.215Z"
   },
   {
    "duration": 29,
    "start_time": "2021-07-18T17:51:21.557Z"
   },
   {
    "duration": 24,
    "start_time": "2021-07-18T17:51:22.246Z"
   },
   {
    "duration": 20,
    "start_time": "2021-07-18T17:51:22.434Z"
   },
   {
    "duration": 28,
    "start_time": "2021-07-18T17:51:22.789Z"
   },
   {
    "duration": 1064,
    "start_time": "2021-07-18T17:51:23.606Z"
   },
   {
    "duration": 13,
    "start_time": "2021-07-18T17:51:24.673Z"
   },
   {
    "duration": 9,
    "start_time": "2021-07-18T17:51:24.689Z"
   },
   {
    "duration": 28,
    "start_time": "2021-07-18T17:51:25.181Z"
   },
   {
    "duration": 26,
    "start_time": "2021-07-18T17:51:25.755Z"
   },
   {
    "duration": 11,
    "start_time": "2021-07-18T17:51:27.118Z"
   },
   {
    "duration": 18,
    "start_time": "2021-07-18T17:51:27.632Z"
   },
   {
    "duration": 94,
    "start_time": "2021-07-18T17:51:28.765Z"
   },
   {
    "duration": 8,
    "start_time": "2021-07-18T17:51:29.932Z"
   },
   {
    "duration": 13,
    "start_time": "2021-07-18T17:51:30.614Z"
   },
   {
    "duration": 3,
    "start_time": "2021-07-18T17:51:32.827Z"
   },
   {
    "duration": 46,
    "start_time": "2021-07-18T17:51:33.491Z"
   },
   {
    "duration": 29,
    "start_time": "2021-07-18T17:51:36.978Z"
   },
   {
    "duration": 25,
    "start_time": "2021-07-18T17:51:38.074Z"
   },
   {
    "duration": 10,
    "start_time": "2021-07-18T17:51:42.357Z"
   },
   {
    "duration": 10,
    "start_time": "2021-07-18T17:51:42.960Z"
   },
   {
    "duration": 30,
    "start_time": "2021-07-18T17:51:43.656Z"
   },
   {
    "duration": 16,
    "start_time": "2021-07-18T17:51:45.901Z"
   },
   {
    "duration": 18,
    "start_time": "2021-07-18T17:51:51.375Z"
   },
   {
    "duration": 8,
    "start_time": "2021-07-18T17:52:14.293Z"
   },
   {
    "duration": 4,
    "start_time": "2021-07-18T17:52:14.910Z"
   },
   {
    "duration": 6,
    "start_time": "2021-07-18T17:52:24.551Z"
   },
   {
    "duration": 4,
    "start_time": "2021-07-18T17:56:22.586Z"
   },
   {
    "duration": 6,
    "start_time": "2021-07-18T17:56:26.258Z"
   },
   {
    "duration": 412,
    "start_time": "2021-07-18T17:56:42.761Z"
   },
   {
    "duration": 7,
    "start_time": "2021-07-18T17:56:48.043Z"
   },
   {
    "duration": 6,
    "start_time": "2021-07-18T17:57:19.379Z"
   },
   {
    "duration": 8,
    "start_time": "2021-07-18T17:58:03.729Z"
   },
   {
    "duration": 7,
    "start_time": "2021-07-18T17:59:12.946Z"
   },
   {
    "duration": 8,
    "start_time": "2021-07-18T17:59:13.561Z"
   },
   {
    "duration": 7,
    "start_time": "2021-07-18T17:59:24.237Z"
   },
   {
    "duration": 8,
    "start_time": "2021-07-18T17:59:24.898Z"
   },
   {
    "duration": 10,
    "start_time": "2021-07-18T18:00:59.266Z"
   },
   {
    "duration": 22,
    "start_time": "2021-07-18T18:01:00.646Z"
   },
   {
    "duration": 244,
    "start_time": "2021-07-18T18:06:15.271Z"
   },
   {
    "duration": 222,
    "start_time": "2021-07-18T18:06:24.542Z"
   },
   {
    "duration": 233,
    "start_time": "2021-07-18T18:06:30.542Z"
   },
   {
    "duration": 257,
    "start_time": "2021-07-18T18:06:35.975Z"
   },
   {
    "duration": 201,
    "start_time": "2021-07-18T18:06:50.722Z"
   },
   {
    "duration": 247,
    "start_time": "2021-07-18T18:08:00.881Z"
   },
   {
    "duration": 249,
    "start_time": "2021-07-18T18:08:11.792Z"
   },
   {
    "duration": 280,
    "start_time": "2021-07-18T18:17:38.255Z"
   },
   {
    "duration": 660,
    "start_time": "2021-07-18T18:17:46.029Z"
   },
   {
    "duration": 1020,
    "start_time": "2021-07-18T18:18:33.130Z"
   },
   {
    "duration": 646,
    "start_time": "2021-07-18T18:18:52.366Z"
   },
   {
    "duration": 434,
    "start_time": "2021-07-18T18:19:14.232Z"
   },
   {
    "duration": 204,
    "start_time": "2021-07-18T18:19:20.111Z"
   },
   {
    "duration": 636,
    "start_time": "2021-07-18T18:19:48.643Z"
   },
   {
    "duration": 656,
    "start_time": "2021-07-18T18:20:06.848Z"
   },
   {
    "duration": 715,
    "start_time": "2021-07-18T18:20:33.697Z"
   },
   {
    "duration": 680,
    "start_time": "2021-07-18T18:20:45.263Z"
   },
   {
    "duration": 642,
    "start_time": "2021-07-18T18:21:49.397Z"
   },
   {
    "duration": 641,
    "start_time": "2021-07-18T18:21:57.839Z"
   },
   {
    "duration": 666,
    "start_time": "2021-07-18T18:23:11.466Z"
   },
   {
    "duration": 503,
    "start_time": "2021-07-18T18:23:28.803Z"
   },
   {
    "duration": 663,
    "start_time": "2021-07-18T18:23:50.447Z"
   },
   {
    "duration": 489,
    "start_time": "2021-07-18T18:24:05.401Z"
   },
   {
    "duration": 509,
    "start_time": "2021-07-18T18:25:30.829Z"
   },
   {
    "duration": 579,
    "start_time": "2021-07-18T18:25:44.342Z"
   },
   {
    "duration": 753,
    "start_time": "2021-07-18T18:27:06.344Z"
   },
   {
    "duration": 651,
    "start_time": "2021-07-18T18:27:36.742Z"
   },
   {
    "duration": 555,
    "start_time": "2021-07-18T18:27:46.886Z"
   },
   {
    "duration": 579,
    "start_time": "2021-07-18T18:27:54.865Z"
   },
   {
    "duration": 591,
    "start_time": "2021-07-18T18:27:58.350Z"
   },
   {
    "duration": 588,
    "start_time": "2021-07-18T18:28:12.692Z"
   },
   {
    "duration": 626,
    "start_time": "2021-07-18T18:28:16.322Z"
   },
   {
    "duration": 566,
    "start_time": "2021-07-18T18:28:20.406Z"
   },
   {
    "duration": 576,
    "start_time": "2021-07-18T18:28:23.615Z"
   },
   {
    "duration": 606,
    "start_time": "2021-07-18T18:28:26.823Z"
   },
   {
    "duration": 571,
    "start_time": "2021-07-18T18:28:30.995Z"
   },
   {
    "duration": 671,
    "start_time": "2021-07-18T18:28:38.852Z"
   },
   {
    "duration": 737,
    "start_time": "2021-07-18T18:28:50.434Z"
   },
   {
    "duration": 594,
    "start_time": "2021-07-18T18:28:55.468Z"
   },
   {
    "duration": 588,
    "start_time": "2021-07-18T18:29:01.309Z"
   },
   {
    "duration": 591,
    "start_time": "2021-07-18T18:29:05.172Z"
   },
   {
    "duration": 642,
    "start_time": "2021-07-18T18:29:08.882Z"
   },
   {
    "duration": 580,
    "start_time": "2021-07-18T18:29:16.223Z"
   },
   {
    "duration": 598,
    "start_time": "2021-07-18T18:29:26.544Z"
   },
   {
    "duration": 575,
    "start_time": "2021-07-18T18:29:38.483Z"
   },
   {
    "duration": 597,
    "start_time": "2021-07-18T18:30:03.535Z"
   },
   {
    "duration": 620,
    "start_time": "2021-07-18T18:30:09.454Z"
   },
   {
    "duration": 638,
    "start_time": "2021-07-18T18:30:14.963Z"
   },
   {
    "duration": 1145,
    "start_time": "2021-07-18T18:30:40.526Z"
   },
   {
    "duration": 1053,
    "start_time": "2021-07-18T18:30:52.119Z"
   },
   {
    "duration": 580,
    "start_time": "2021-07-18T18:31:44.197Z"
   },
   {
    "duration": 1025,
    "start_time": "2021-07-18T19:13:16.399Z"
   },
   {
    "duration": 984,
    "start_time": "2021-07-18T19:13:22.134Z"
   },
   {
    "duration": 1093,
    "start_time": "2021-07-18T19:14:12.370Z"
   },
   {
    "duration": 1229,
    "start_time": "2021-07-18T19:15:03.684Z"
   },
   {
    "duration": 1105,
    "start_time": "2021-07-18T19:15:27.773Z"
   },
   {
    "duration": 7679,
    "start_time": "2021-07-18T19:15:42.454Z"
   },
   {
    "duration": 1662,
    "start_time": "2021-07-18T19:15:56.160Z"
   },
   {
    "duration": 1657,
    "start_time": "2021-07-18T19:16:51.774Z"
   },
   {
    "duration": 9,
    "start_time": "2021-07-18T19:18:43.319Z"
   },
   {
    "duration": 12,
    "start_time": "2021-07-18T19:19:06.852Z"
   },
   {
    "duration": 13,
    "start_time": "2021-07-18T19:19:55.806Z"
   },
   {
    "duration": 4,
    "start_time": "2021-07-18T19:27:23.649Z"
   },
   {
    "duration": 110,
    "start_time": "2021-07-18T19:27:23.815Z"
   },
   {
    "duration": 5,
    "start_time": "2021-07-18T19:27:23.977Z"
   },
   {
    "duration": 24,
    "start_time": "2021-07-18T19:27:24.155Z"
   },
   {
    "duration": 22,
    "start_time": "2021-07-18T19:27:25.174Z"
   },
   {
    "duration": 6,
    "start_time": "2021-07-18T19:27:25.518Z"
   },
   {
    "duration": 25,
    "start_time": "2021-07-18T19:27:26.504Z"
   },
   {
    "duration": 16,
    "start_time": "2021-07-18T19:27:28.811Z"
   },
   {
    "duration": 26,
    "start_time": "2021-07-18T19:27:31.494Z"
   },
   {
    "duration": 287,
    "start_time": "2021-07-18T19:30:31.885Z"
   },
   {
    "duration": 41,
    "start_time": "2021-07-18T19:31:31.102Z"
   },
   {
    "duration": 13,
    "start_time": "2021-07-18T19:32:10.791Z"
   },
   {
    "duration": 12,
    "start_time": "2021-07-18T19:32:25.272Z"
   },
   {
    "duration": 12,
    "start_time": "2021-07-18T19:32:36.085Z"
   },
   {
    "duration": 8,
    "start_time": "2021-07-18T19:32:50.258Z"
   },
   {
    "duration": 12,
    "start_time": "2021-07-18T19:32:55.997Z"
   },
   {
    "duration": 4,
    "start_time": "2021-07-18T19:33:04.646Z"
   },
   {
    "duration": 8,
    "start_time": "2021-07-18T19:33:08.002Z"
   },
   {
    "duration": 9,
    "start_time": "2021-07-18T19:33:15.103Z"
   },
   {
    "duration": 8,
    "start_time": "2021-07-18T19:33:18.693Z"
   },
   {
    "duration": 12,
    "start_time": "2021-07-18T19:33:27.703Z"
   },
   {
    "duration": 11,
    "start_time": "2021-07-18T19:34:23.969Z"
   },
   {
    "duration": 43,
    "start_time": "2021-07-18T19:34:34.634Z"
   },
   {
    "duration": 957,
    "start_time": "2021-07-18T19:35:53.230Z"
   },
   {
    "duration": 88,
    "start_time": "2021-07-18T19:37:22.144Z"
   },
   {
    "duration": 1093,
    "start_time": "2021-07-18T19:39:46.919Z"
   },
   {
    "duration": 12,
    "start_time": "2021-07-18T19:39:56.222Z"
   },
   {
    "duration": 4,
    "start_time": "2021-07-18T19:39:56.686Z"
   },
   {
    "duration": 6,
    "start_time": "2021-07-18T19:39:56.869Z"
   },
   {
    "duration": 33,
    "start_time": "2021-07-18T19:39:57.022Z"
   },
   {
    "duration": 16,
    "start_time": "2021-07-18T19:39:57.836Z"
   },
   {
    "duration": 289,
    "start_time": "2021-07-18T19:39:59.204Z"
   },
   {
    "duration": 44,
    "start_time": "2021-07-18T19:40:03.919Z"
   },
   {
    "duration": 10,
    "start_time": "2021-07-18T19:41:03.685Z"
   },
   {
    "duration": 5,
    "start_time": "2021-07-18T19:41:06.902Z"
   },
   {
    "duration": 9,
    "start_time": "2021-07-18T19:41:12.447Z"
   },
   {
    "duration": 9,
    "start_time": "2021-07-18T19:41:27.823Z"
   },
   {
    "duration": 5,
    "start_time": "2021-07-18T19:41:28.780Z"
   },
   {
    "duration": 16,
    "start_time": "2021-07-18T19:41:28.950Z"
   },
   {
    "duration": 6,
    "start_time": "2021-07-18T19:41:29.274Z"
   },
   {
    "duration": 6,
    "start_time": "2021-07-18T19:41:29.585Z"
   },
   {
    "duration": 29,
    "start_time": "2021-07-18T19:41:30.045Z"
   },
   {
    "duration": 5,
    "start_time": "2021-07-18T19:41:30.220Z"
   },
   {
    "duration": 36,
    "start_time": "2021-07-18T19:41:30.883Z"
   },
   {
    "duration": 17,
    "start_time": "2021-07-18T19:41:50.744Z"
   },
   {
    "duration": 28,
    "start_time": "2021-07-18T19:41:51.094Z"
   },
   {
    "duration": 8,
    "start_time": "2021-07-18T19:41:52.321Z"
   },
   {
    "duration": 6,
    "start_time": "2021-07-18T19:41:52.502Z"
   },
   {
    "duration": 6,
    "start_time": "2021-07-18T19:41:52.667Z"
   },
   {
    "duration": 29,
    "start_time": "2021-07-18T19:41:52.820Z"
   },
   {
    "duration": 29,
    "start_time": "2021-07-18T19:41:53.160Z"
   },
   {
    "duration": 24,
    "start_time": "2021-07-18T19:41:53.783Z"
   },
   {
    "duration": 19,
    "start_time": "2021-07-18T19:41:53.985Z"
   },
   {
    "duration": 27,
    "start_time": "2021-07-18T19:41:55.311Z"
   },
   {
    "duration": 953,
    "start_time": "2021-07-18T19:41:56.468Z"
   },
   {
    "duration": 14,
    "start_time": "2021-07-18T19:41:57.423Z"
   },
   {
    "duration": 6,
    "start_time": "2021-07-18T19:41:58.058Z"
   },
   {
    "duration": 28,
    "start_time": "2021-07-18T19:41:58.567Z"
   },
   {
    "duration": 28,
    "start_time": "2021-07-18T19:41:59.901Z"
   },
   {
    "duration": 11,
    "start_time": "2021-07-18T19:42:01.538Z"
   },
   {
    "duration": 18,
    "start_time": "2021-07-18T19:42:02.151Z"
   },
   {
    "duration": 104,
    "start_time": "2021-07-18T19:42:04.508Z"
   },
   {
    "duration": 7,
    "start_time": "2021-07-18T19:42:07.014Z"
   },
   {
    "duration": 13,
    "start_time": "2021-07-18T19:42:07.814Z"
   },
   {
    "duration": 4,
    "start_time": "2021-07-18T19:42:11.271Z"
   },
   {
    "duration": 48,
    "start_time": "2021-07-18T19:42:11.694Z"
   },
   {
    "duration": 52,
    "start_time": "2021-07-18T19:42:23.042Z"
   },
   {
    "duration": 24,
    "start_time": "2021-07-18T19:42:33.092Z"
   },
   {
    "duration": 1956,
    "start_time": "2021-07-18T19:42:36.674Z"
   },
   {
    "duration": 1707,
    "start_time": "2021-07-18T19:42:56.666Z"
   },
   {
    "duration": 13,
    "start_time": "2021-07-18T19:43:07.301Z"
   },
   {
    "duration": 15,
    "start_time": "2021-07-18T19:43:08.023Z"
   },
   {
    "duration": 1347,
    "start_time": "2021-07-18T19:43:32.876Z"
   },
   {
    "duration": 4236,
    "start_time": "2021-07-18T19:45:12.383Z"
   },
   {
    "duration": 17,
    "start_time": "2021-07-18T19:45:31.276Z"
   },
   {
    "duration": 41,
    "start_time": "2021-07-18T19:46:11.887Z"
   },
   {
    "duration": 7098,
    "start_time": "2021-07-18T19:49:48.433Z"
   },
   {
    "duration": 17,
    "start_time": "2021-07-18T19:49:59.148Z"
   },
   {
    "duration": 19,
    "start_time": "2021-07-18T19:50:11.238Z"
   },
   {
    "duration": 20,
    "start_time": "2021-07-18T19:51:34.273Z"
   },
   {
    "duration": 23,
    "start_time": "2021-07-18T19:53:55.799Z"
   },
   {
    "duration": 9,
    "start_time": "2021-07-18T19:55:04.034Z"
   },
   {
    "duration": 87,
    "start_time": "2021-07-18T19:55:28.484Z"
   },
   {
    "duration": 9,
    "start_time": "2021-07-18T19:55:33.620Z"
   },
   {
    "duration": 14,
    "start_time": "2021-07-18T19:55:54.723Z"
   },
   {
    "duration": 86,
    "start_time": "2021-07-18T19:56:29.134Z"
   },
   {
    "duration": 310,
    "start_time": "2021-07-18T19:56:38.928Z"
   },
   {
    "duration": 17,
    "start_time": "2021-07-18T19:56:48.986Z"
   },
   {
    "duration": 18,
    "start_time": "2021-07-18T19:57:58.620Z"
   },
   {
    "duration": 6,
    "start_time": "2021-07-18T20:28:16.994Z"
   },
   {
    "duration": 10,
    "start_time": "2021-07-18T20:28:35.959Z"
   },
   {
    "duration": 5,
    "start_time": "2021-07-18T20:29:00.621Z"
   },
   {
    "duration": 10,
    "start_time": "2021-07-18T20:29:01.199Z"
   },
   {
    "duration": 15,
    "start_time": "2021-07-18T20:41:30.631Z"
   },
   {
    "duration": 6,
    "start_time": "2021-07-18T20:41:40.838Z"
   },
   {
    "duration": 16,
    "start_time": "2021-07-18T20:44:50.066Z"
   },
   {
    "duration": 30,
    "start_time": "2021-07-18T20:45:12.675Z"
   },
   {
    "duration": 34,
    "start_time": "2021-07-18T20:46:42.268Z"
   },
   {
    "duration": 112,
    "start_time": "2021-07-18T20:46:55.890Z"
   },
   {
    "duration": 16,
    "start_time": "2021-07-18T20:47:18.817Z"
   },
   {
    "duration": 34,
    "start_time": "2021-07-18T20:48:22.246Z"
   },
   {
    "duration": 95,
    "start_time": "2021-07-18T20:49:02.962Z"
   },
   {
    "duration": 16,
    "start_time": "2021-07-18T20:49:07.528Z"
   },
   {
    "duration": 3,
    "start_time": "2021-07-18T20:57:13.151Z"
   },
   {
    "duration": 4,
    "start_time": "2021-07-18T20:58:31.864Z"
   },
   {
    "duration": 273,
    "start_time": "2021-07-18T20:58:42.616Z"
   },
   {
    "duration": 261,
    "start_time": "2021-07-18T20:58:45.956Z"
   },
   {
    "duration": 5,
    "start_time": "2021-07-18T20:58:49.062Z"
   },
   {
    "duration": 270,
    "start_time": "2021-07-18T20:59:04.426Z"
   },
   {
    "duration": 6,
    "start_time": "2021-07-18T20:59:43.150Z"
   },
   {
    "duration": 4,
    "start_time": "2021-07-18T20:59:49.558Z"
   },
   {
    "duration": 7,
    "start_time": "2021-07-18T20:59:54.756Z"
   },
   {
    "duration": 7,
    "start_time": "2021-07-18T21:00:19.276Z"
   },
   {
    "duration": 4,
    "start_time": "2021-07-18T21:02:00.805Z"
   },
   {
    "duration": 292,
    "start_time": "2021-07-18T21:02:30.398Z"
   },
   {
    "duration": 272,
    "start_time": "2021-07-18T21:02:45.551Z"
   },
   {
    "duration": 5,
    "start_time": "2021-07-18T21:03:26.167Z"
   },
   {
    "duration": 4,
    "start_time": "2021-07-18T21:04:03.106Z"
   },
   {
    "duration": 4,
    "start_time": "2021-07-18T21:04:03.732Z"
   },
   {
    "duration": 5,
    "start_time": "2021-07-18T21:04:20.959Z"
   },
   {
    "duration": 57,
    "start_time": "2021-07-18T21:04:46.990Z"
   },
   {
    "duration": 30,
    "start_time": "2021-07-18T21:04:57.486Z"
   },
   {
    "duration": 4,
    "start_time": "2021-07-18T21:05:09.323Z"
   },
   {
    "duration": 142,
    "start_time": "2021-07-18T21:05:09.502Z"
   },
   {
    "duration": 4,
    "start_time": "2021-07-18T21:05:09.647Z"
   },
   {
    "duration": 21,
    "start_time": "2021-07-18T21:05:09.802Z"
   },
   {
    "duration": 23,
    "start_time": "2021-07-18T21:05:10.080Z"
   },
   {
    "duration": 6,
    "start_time": "2021-07-18T21:05:10.221Z"
   },
   {
    "duration": 25,
    "start_time": "2021-07-18T21:05:10.621Z"
   },
   {
    "duration": 15,
    "start_time": "2021-07-18T21:05:11.339Z"
   },
   {
    "duration": 24,
    "start_time": "2021-07-18T21:05:11.529Z"
   },
   {
    "duration": 12,
    "start_time": "2021-07-18T21:05:12.123Z"
   },
   {
    "duration": 5,
    "start_time": "2021-07-18T21:05:12.282Z"
   },
   {
    "duration": 6,
    "start_time": "2021-07-18T21:05:12.451Z"
   },
   {
    "duration": 34,
    "start_time": "2021-07-18T21:05:12.596Z"
   },
   {
    "duration": 15,
    "start_time": "2021-07-18T21:05:12.909Z"
   },
   {
    "duration": 10,
    "start_time": "2021-07-18T21:05:13.198Z"
   },
   {
    "duration": 8,
    "start_time": "2021-07-18T21:05:13.381Z"
   },
   {
    "duration": 8,
    "start_time": "2021-07-18T21:05:13.689Z"
   },
   {
    "duration": 4,
    "start_time": "2021-07-18T21:05:14.331Z"
   },
   {
    "duration": 25,
    "start_time": "2021-07-18T21:05:14.505Z"
   },
   {
    "duration": 6,
    "start_time": "2021-07-18T21:05:14.821Z"
   },
   {
    "duration": 5,
    "start_time": "2021-07-18T21:05:15.139Z"
   },
   {
    "duration": 27,
    "start_time": "2021-07-18T21:05:15.610Z"
   },
   {
    "duration": 5,
    "start_time": "2021-07-18T21:05:15.799Z"
   },
   {
    "duration": 35,
    "start_time": "2021-07-18T21:05:16.407Z"
   },
   {
    "duration": 18,
    "start_time": "2021-07-18T21:05:16.877Z"
   },
   {
    "duration": 29,
    "start_time": "2021-07-18T21:05:17.197Z"
   },
   {
    "duration": 10,
    "start_time": "2021-07-18T21:05:17.523Z"
   },
   {
    "duration": 6,
    "start_time": "2021-07-18T21:05:17.687Z"
   },
   {
    "duration": 7,
    "start_time": "2021-07-18T21:05:18.089Z"
   },
   {
    "duration": 29,
    "start_time": "2021-07-18T21:05:18.247Z"
   },
   {
    "duration": 29,
    "start_time": "2021-07-18T21:05:19.194Z"
   },
   {
    "duration": 30,
    "start_time": "2021-07-18T21:05:19.691Z"
   },
   {
    "duration": 26,
    "start_time": "2021-07-18T21:05:19.888Z"
   },
   {
    "duration": 35,
    "start_time": "2021-07-18T21:05:20.180Z"
   },
   {
    "duration": 1227,
    "start_time": "2021-07-18T21:05:20.498Z"
   },
   {
    "duration": 13,
    "start_time": "2021-07-18T21:05:21.728Z"
   },
   {
    "duration": 16,
    "start_time": "2021-07-18T21:05:21.744Z"
   },
   {
    "duration": 43,
    "start_time": "2021-07-18T21:05:21.763Z"
   },
   {
    "duration": 69,
    "start_time": "2021-07-18T21:05:21.809Z"
   },
   {
    "duration": 11,
    "start_time": "2021-07-18T21:05:21.997Z"
   },
   {
    "duration": 20,
    "start_time": "2021-07-18T21:05:22.156Z"
   },
   {
    "duration": 105,
    "start_time": "2021-07-18T21:05:22.968Z"
   },
   {
    "duration": 8,
    "start_time": "2021-07-18T21:05:23.422Z"
   },
   {
    "duration": 19,
    "start_time": "2021-07-18T21:05:23.581Z"
   },
   {
    "duration": 5,
    "start_time": "2021-07-18T21:05:24.209Z"
   },
   {
    "duration": 55,
    "start_time": "2021-07-18T21:05:24.417Z"
   },
   {
    "duration": 36,
    "start_time": "2021-07-18T21:05:25.179Z"
   },
   {
    "duration": 34,
    "start_time": "2021-07-18T21:05:25.678Z"
   },
   {
    "duration": 5465,
    "start_time": "2021-07-18T21:05:26.181Z"
   },
   {
    "duration": 24,
    "start_time": "2021-07-18T21:05:31.649Z"
   },
   {
    "duration": 17,
    "start_time": "2021-07-18T21:05:31.676Z"
   },
   {
    "duration": 26,
    "start_time": "2021-07-18T21:05:31.888Z"
   },
   {
    "duration": 16,
    "start_time": "2021-07-18T21:05:32.852Z"
   },
   {
    "duration": 6,
    "start_time": "2021-07-18T21:05:34.825Z"
   },
   {
    "duration": 10,
    "start_time": "2021-07-18T21:05:35.395Z"
   },
   {
    "duration": 11,
    "start_time": "2021-07-18T21:05:35.877Z"
   },
   {
    "duration": 10,
    "start_time": "2021-07-18T21:05:36.479Z"
   },
   {
    "duration": 31,
    "start_time": "2021-07-18T21:05:36.934Z"
   },
   {
    "duration": 17,
    "start_time": "2021-07-18T21:05:37.982Z"
   },
   {
    "duration": 18,
    "start_time": "2021-07-18T21:05:38.328Z"
   },
   {
    "duration": 12,
    "start_time": "2021-07-18T21:05:39.289Z"
   },
   {
    "duration": 5,
    "start_time": "2021-07-18T21:05:39.528Z"
   },
   {
    "duration": 11,
    "start_time": "2021-07-18T21:05:40.625Z"
   },
   {
    "duration": 21,
    "start_time": "2021-07-18T21:05:41.102Z"
   },
   {
    "duration": 8,
    "start_time": "2021-07-18T21:05:42.380Z"
   },
   {
    "duration": 4,
    "start_time": "2021-07-18T21:05:44.503Z"
   },
   {
    "duration": 5,
    "start_time": "2021-07-18T21:05:45.132Z"
   },
   {
    "duration": 76,
    "start_time": "2021-07-18T21:05:46.331Z"
   },
   {
    "duration": 26,
    "start_time": "2021-07-18T21:05:47.202Z"
   },
   {
    "duration": 30,
    "start_time": "2021-07-18T21:06:23.812Z"
   },
   {
    "duration": 12300,
    "start_time": "2021-07-18T21:06:41.995Z"
   },
   {
    "duration": 267,
    "start_time": "2021-07-18T21:07:20.176Z"
   },
   {
    "duration": 27,
    "start_time": "2021-07-18T21:07:29.315Z"
   },
   {
    "duration": 17,
    "start_time": "2021-07-18T21:08:26.720Z"
   },
   {
    "duration": 26,
    "start_time": "2021-07-18T21:10:52.018Z"
   },
   {
    "duration": 21,
    "start_time": "2021-07-18T21:14:07.820Z"
   },
   {
    "duration": 304,
    "start_time": "2021-07-18T21:15:58.773Z"
   },
   {
    "duration": 11,
    "start_time": "2021-07-18T21:16:04.685Z"
   },
   {
    "duration": 290,
    "start_time": "2021-07-18T21:16:20.780Z"
   },
   {
    "duration": 17,
    "start_time": "2021-07-18T21:16:43.369Z"
   },
   {
    "duration": 20,
    "start_time": "2021-07-18T21:16:49.198Z"
   },
   {
    "duration": 10,
    "start_time": "2021-07-18T21:17:11.608Z"
   },
   {
    "duration": 292,
    "start_time": "2021-07-18T21:17:42.125Z"
   },
   {
    "duration": 302,
    "start_time": "2021-07-18T21:17:53.459Z"
   },
   {
    "duration": 292,
    "start_time": "2021-07-18T21:19:42.978Z"
   },
   {
    "duration": 372,
    "start_time": "2021-07-18T21:19:58.037Z"
   },
   {
    "duration": 573,
    "start_time": "2021-07-18T21:20:14.198Z"
   },
   {
    "duration": 301,
    "start_time": "2021-07-18T21:20:24.853Z"
   },
   {
    "duration": 611,
    "start_time": "2021-07-18T21:20:51.992Z"
   },
   {
    "duration": 17,
    "start_time": "2021-07-18T21:33:23.051Z"
   },
   {
    "duration": 276,
    "start_time": "2021-07-18T21:34:02.591Z"
   },
   {
    "duration": 564,
    "start_time": "2021-07-18T21:35:47.542Z"
   },
   {
    "duration": 413,
    "start_time": "2021-07-18T21:35:59.892Z"
   },
   {
    "duration": 405,
    "start_time": "2021-07-18T21:36:23.825Z"
   },
   {
    "duration": 335,
    "start_time": "2021-07-18T21:37:02.132Z"
   },
   {
    "duration": 436,
    "start_time": "2021-07-18T21:37:12.077Z"
   },
   {
    "duration": 276,
    "start_time": "2021-07-18T21:38:29.626Z"
   },
   {
    "duration": 37,
    "start_time": "2021-07-18T21:38:35.156Z"
   },
   {
    "duration": 286,
    "start_time": "2021-07-18T21:38:49.575Z"
   },
   {
    "duration": 8,
    "start_time": "2021-07-18T21:40:23.088Z"
   },
   {
    "duration": 14,
    "start_time": "2021-07-18T21:40:50.446Z"
   },
   {
    "duration": 113,
    "start_time": "2021-07-18T21:41:18.759Z"
   },
   {
    "duration": 439,
    "start_time": "2021-07-18T21:41:28.579Z"
   },
   {
    "duration": 15,
    "start_time": "2021-07-18T21:45:02.162Z"
   },
   {
    "duration": 13,
    "start_time": "2021-07-18T21:45:31.318Z"
   },
   {
    "duration": 19,
    "start_time": "2021-07-18T21:45:33.949Z"
   },
   {
    "duration": 14,
    "start_time": "2021-07-18T21:45:45.008Z"
   },
   {
    "duration": 15,
    "start_time": "2021-07-18T21:46:23.665Z"
   },
   {
    "duration": 9,
    "start_time": "2021-07-18T21:46:26.180Z"
   },
   {
    "duration": 9,
    "start_time": "2021-07-18T21:47:16.982Z"
   },
   {
    "duration": 10,
    "start_time": "2021-07-18T21:47:20.989Z"
   },
   {
    "duration": 4,
    "start_time": "2021-07-18T21:49:16.251Z"
   },
   {
    "duration": 14,
    "start_time": "2021-07-18T21:49:16.681Z"
   },
   {
    "duration": 6,
    "start_time": "2021-07-18T21:50:07.642Z"
   },
   {
    "duration": 430,
    "start_time": "2021-07-18T21:51:04.836Z"
   },
   {
    "duration": 452,
    "start_time": "2021-07-18T21:51:37.487Z"
   },
   {
    "duration": 387,
    "start_time": "2021-07-18T21:52:03.389Z"
   },
   {
    "duration": 11,
    "start_time": "2021-07-18T21:52:20.943Z"
   },
   {
    "duration": 5,
    "start_time": "2021-07-18T21:52:37.732Z"
   },
   {
    "duration": 12,
    "start_time": "2021-07-18T21:52:38.332Z"
   },
   {
    "duration": 411,
    "start_time": "2021-07-18T21:53:34.666Z"
   },
   {
    "duration": 372,
    "start_time": "2021-07-18T21:56:48.698Z"
   },
   {
    "duration": 756,
    "start_time": "2021-07-18T21:57:02.472Z"
   },
   {
    "duration": 92,
    "start_time": "2021-07-18T21:57:36.048Z"
   },
   {
    "duration": 421,
    "start_time": "2021-07-18T21:57:42.676Z"
   },
   {
    "duration": 796,
    "start_time": "2021-07-18T21:58:15.699Z"
   },
   {
    "duration": 620,
    "start_time": "2021-07-18T21:59:40.517Z"
   },
   {
    "duration": 595,
    "start_time": "2021-07-18T22:00:47.438Z"
   },
   {
    "duration": 1104,
    "start_time": "2021-07-18T22:00:57.554Z"
   },
   {
    "duration": 642,
    "start_time": "2021-07-18T22:01:23.076Z"
   },
   {
    "duration": 30,
    "start_time": "2021-07-18T22:04:17.401Z"
   },
   {
    "duration": 54,
    "start_time": "2021-07-18T22:04:26.219Z"
   },
   {
    "duration": 24,
    "start_time": "2021-07-18T22:07:03.194Z"
   },
   {
    "duration": 20,
    "start_time": "2021-07-18T22:07:40.489Z"
   },
   {
    "duration": 23,
    "start_time": "2021-07-18T22:09:15.367Z"
   },
   {
    "duration": 18,
    "start_time": "2021-07-18T22:10:47.326Z"
   },
   {
    "duration": 21,
    "start_time": "2021-07-18T22:13:41.585Z"
   },
   {
    "duration": 904,
    "start_time": "2021-07-19T05:05:08.647Z"
   },
   {
    "duration": 668,
    "start_time": "2021-07-19T05:05:09.554Z"
   },
   {
    "duration": 5,
    "start_time": "2021-07-19T05:05:10.225Z"
   },
   {
    "duration": 31,
    "start_time": "2021-07-19T05:05:10.232Z"
   },
   {
    "duration": 21,
    "start_time": "2021-07-19T05:05:10.398Z"
   },
   {
    "duration": 7,
    "start_time": "2021-07-19T05:05:10.563Z"
   },
   {
    "duration": 26,
    "start_time": "2021-07-19T05:05:11.037Z"
   },
   {
    "duration": 15,
    "start_time": "2021-07-19T05:05:12.108Z"
   },
   {
    "duration": 24,
    "start_time": "2021-07-19T05:05:12.268Z"
   },
   {
    "duration": 13,
    "start_time": "2021-07-19T05:05:13.144Z"
   },
   {
    "duration": 4,
    "start_time": "2021-07-19T05:05:13.293Z"
   },
   {
    "duration": 5,
    "start_time": "2021-07-19T05:05:13.460Z"
   },
   {
    "duration": 34,
    "start_time": "2021-07-19T05:05:13.605Z"
   },
   {
    "duration": 15,
    "start_time": "2021-07-19T05:05:13.849Z"
   },
   {
    "duration": 8,
    "start_time": "2021-07-19T05:05:15.499Z"
   },
   {
    "duration": 12,
    "start_time": "2021-07-19T05:05:15.678Z"
   },
   {
    "duration": 9,
    "start_time": "2021-07-19T05:05:16.001Z"
   },
   {
    "duration": 3,
    "start_time": "2021-07-19T05:05:16.716Z"
   },
   {
    "duration": 19,
    "start_time": "2021-07-19T05:05:16.866Z"
   },
   {
    "duration": 6,
    "start_time": "2021-07-19T05:05:17.157Z"
   },
   {
    "duration": 5,
    "start_time": "2021-07-19T05:05:17.544Z"
   },
   {
    "duration": 26,
    "start_time": "2021-07-19T05:05:18.088Z"
   },
   {
    "duration": 5,
    "start_time": "2021-07-19T05:05:18.260Z"
   },
   {
    "duration": 38,
    "start_time": "2021-07-19T05:05:18.940Z"
   },
   {
    "duration": 17,
    "start_time": "2021-07-19T05:05:19.504Z"
   },
   {
    "duration": 28,
    "start_time": "2021-07-19T05:05:20.119Z"
   },
   {
    "duration": 9,
    "start_time": "2021-07-19T05:05:20.482Z"
   },
   {
    "duration": 6,
    "start_time": "2021-07-19T05:05:20.814Z"
   },
   {
    "duration": 6,
    "start_time": "2021-07-19T05:05:21.078Z"
   },
   {
    "duration": 27,
    "start_time": "2021-07-19T05:05:21.218Z"
   },
   {
    "duration": 27,
    "start_time": "2021-07-19T05:05:21.628Z"
   },
   {
    "duration": 23,
    "start_time": "2021-07-19T05:05:22.169Z"
   },
   {
    "duration": 18,
    "start_time": "2021-07-19T05:05:22.391Z"
   },
   {
    "duration": 20,
    "start_time": "2021-07-19T05:05:22.739Z"
   },
   {
    "duration": 30,
    "start_time": "2021-07-19T05:05:23.282Z"
   },
   {
    "duration": 993,
    "start_time": "2021-07-19T05:05:23.692Z"
   },
   {
    "duration": 16,
    "start_time": "2021-07-19T05:05:24.688Z"
   },
   {
    "duration": 8,
    "start_time": "2021-07-19T05:05:24.708Z"
   },
   {
    "duration": 32,
    "start_time": "2021-07-19T05:05:24.719Z"
   },
   {
    "duration": 29,
    "start_time": "2021-07-19T05:05:24.786Z"
   },
   {
    "duration": 11,
    "start_time": "2021-07-19T05:05:25.348Z"
   },
   {
    "duration": 21,
    "start_time": "2021-07-19T05:05:25.492Z"
   },
   {
    "duration": 87,
    "start_time": "2021-07-19T05:05:25.875Z"
   },
   {
    "duration": 8,
    "start_time": "2021-07-19T05:05:26.311Z"
   },
   {
    "duration": 13,
    "start_time": "2021-07-19T05:05:26.440Z"
   },
   {
    "duration": 4,
    "start_time": "2021-07-19T05:05:27.226Z"
   },
   {
    "duration": 45,
    "start_time": "2021-07-19T05:05:27.395Z"
   },
   {
    "duration": 25,
    "start_time": "2021-07-19T05:05:27.879Z"
   },
   {
    "duration": 23,
    "start_time": "2021-07-19T05:05:28.361Z"
   },
   {
    "duration": 4333,
    "start_time": "2021-07-19T05:05:28.893Z"
   },
   {
    "duration": 14,
    "start_time": "2021-07-19T05:05:33.228Z"
   },
   {
    "duration": 18,
    "start_time": "2021-07-19T05:05:33.245Z"
   },
   {
    "duration": 21,
    "start_time": "2021-07-19T05:05:33.287Z"
   },
   {
    "duration": 22,
    "start_time": "2021-07-19T05:05:33.310Z"
   },
   {
    "duration": 7,
    "start_time": "2021-07-19T05:05:33.334Z"
   },
   {
    "duration": 42,
    "start_time": "2021-07-19T05:05:33.344Z"
   },
   {
    "duration": 10,
    "start_time": "2021-07-19T05:05:33.389Z"
   },
   {
    "duration": 19,
    "start_time": "2021-07-19T05:05:33.402Z"
   },
   {
    "duration": 36,
    "start_time": "2021-07-19T05:05:33.423Z"
   },
   {
    "duration": 18,
    "start_time": "2021-07-19T05:05:33.485Z"
   },
   {
    "duration": 23,
    "start_time": "2021-07-19T05:05:33.505Z"
   },
   {
    "duration": 7,
    "start_time": "2021-07-19T05:05:33.535Z"
   },
   {
    "duration": 6,
    "start_time": "2021-07-19T05:05:33.727Z"
   },
   {
    "duration": 11,
    "start_time": "2021-07-19T05:05:34.115Z"
   },
   {
    "duration": 24,
    "start_time": "2021-07-19T05:05:34.516Z"
   },
   {
    "duration": 6,
    "start_time": "2021-07-19T05:05:35.619Z"
   },
   {
    "duration": 4,
    "start_time": "2021-07-19T05:05:36.056Z"
   },
   {
    "duration": 4,
    "start_time": "2021-07-19T05:05:36.249Z"
   },
   {
    "duration": 62,
    "start_time": "2021-07-19T05:05:36.435Z"
   },
   {
    "duration": 29,
    "start_time": "2021-07-19T05:05:37.026Z"
   },
   {
    "duration": 8,
    "start_time": "2021-07-19T05:05:37.398Z"
   },
   {
    "duration": 291,
    "start_time": "2021-07-19T05:05:37.921Z"
   },
   {
    "duration": 530,
    "start_time": "2021-07-19T05:05:39.178Z"
   },
   {
    "duration": 16,
    "start_time": "2021-07-19T05:05:39.711Z"
   },
   {
    "duration": 119,
    "start_time": "2021-07-19T05:06:29.565Z"
   },
   {
    "duration": 536,
    "start_time": "2021-07-19T05:06:35.389Z"
   },
   {
    "duration": 373,
    "start_time": "2021-07-19T05:07:02.930Z"
   },
   {
    "duration": 111,
    "start_time": "2021-07-19T05:07:58.525Z"
   },
   {
    "duration": 410,
    "start_time": "2021-07-19T05:08:24.062Z"
   },
   {
    "duration": 17,
    "start_time": "2021-07-19T05:08:45.419Z"
   },
   {
    "duration": 341,
    "start_time": "2021-07-19T05:09:08.842Z"
   },
   {
    "duration": 5,
    "start_time": "2021-07-19T05:09:13.651Z"
   },
   {
    "duration": 16,
    "start_time": "2021-07-19T05:09:56.434Z"
   },
   {
    "duration": 731,
    "start_time": "2021-07-19T05:13:11.010Z"
   },
   {
    "duration": 744,
    "start_time": "2021-07-19T05:13:28.665Z"
   },
   {
    "duration": 763,
    "start_time": "2021-07-19T05:13:42.731Z"
   },
   {
    "duration": 715,
    "start_time": "2021-07-19T05:14:14.904Z"
   },
   {
    "duration": 900,
    "start_time": "2021-07-19T05:14:55.413Z"
   },
   {
    "duration": 19,
    "start_time": "2021-07-19T05:15:12.935Z"
   },
   {
    "duration": 5,
    "start_time": "2021-07-19T05:15:13.898Z"
   },
   {
    "duration": 4,
    "start_time": "2021-07-19T05:15:22.843Z"
   },
   {
    "duration": 1020,
    "start_time": "2021-07-19T05:15:24.093Z"
   },
   {
    "duration": 834,
    "start_time": "2021-07-19T05:15:39.480Z"
   },
   {
    "duration": 931,
    "start_time": "2021-07-19T05:15:51.329Z"
   },
   {
    "duration": 1096,
    "start_time": "2021-07-19T05:16:00.129Z"
   },
   {
    "duration": 338,
    "start_time": "2021-07-19T05:18:02.692Z"
   },
   {
    "duration": 11,
    "start_time": "2021-07-19T05:18:05.277Z"
   },
   {
    "duration": 15,
    "start_time": "2021-07-19T05:18:05.436Z"
   },
   {
    "duration": 9,
    "start_time": "2021-07-19T05:18:05.602Z"
   },
   {
    "duration": 4,
    "start_time": "2021-07-19T05:18:05.769Z"
   },
   {
    "duration": 11,
    "start_time": "2021-07-19T05:18:05.934Z"
   },
   {
    "duration": 6,
    "start_time": "2021-07-19T05:18:09.446Z"
   },
   {
    "duration": 529,
    "start_time": "2021-07-19T05:18:09.939Z"
   },
   {
    "duration": 15,
    "start_time": "2021-07-19T05:19:45.450Z"
   },
   {
    "duration": 8,
    "start_time": "2021-07-19T05:21:05.579Z"
   },
   {
    "duration": 13,
    "start_time": "2021-07-19T05:21:05.745Z"
   },
   {
    "duration": 9,
    "start_time": "2021-07-19T05:21:05.926Z"
   },
   {
    "duration": 4,
    "start_time": "2021-07-19T05:21:06.156Z"
   },
   {
    "duration": 10,
    "start_time": "2021-07-19T05:21:06.854Z"
   },
   {
    "duration": 6,
    "start_time": "2021-07-19T05:21:07.585Z"
   },
   {
    "duration": 610,
    "start_time": "2021-07-19T05:21:08.545Z"
   },
   {
    "duration": 6,
    "start_time": "2021-07-19T05:21:33.019Z"
   },
   {
    "duration": 11,
    "start_time": "2021-07-19T05:21:37.311Z"
   },
   {
    "duration": 11,
    "start_time": "2021-07-19T05:22:04.408Z"
   },
   {
    "duration": 18,
    "start_time": "2021-07-19T05:23:29.594Z"
   },
   {
    "duration": 18,
    "start_time": "2021-07-19T05:23:56.014Z"
   },
   {
    "duration": 18,
    "start_time": "2021-07-19T05:24:42.386Z"
   },
   {
    "duration": 327,
    "start_time": "2021-07-19T05:26:27.866Z"
   },
   {
    "duration": 299,
    "start_time": "2021-07-19T05:26:32.940Z"
   },
   {
    "duration": 10,
    "start_time": "2021-07-19T05:27:39.059Z"
   },
   {
    "duration": 13,
    "start_time": "2021-07-19T05:27:49.904Z"
   },
   {
    "duration": 301,
    "start_time": "2021-07-19T05:30:55.771Z"
   },
   {
    "duration": 331,
    "start_time": "2021-07-19T05:31:45.584Z"
   },
   {
    "duration": 111,
    "start_time": "2021-07-19T05:32:04.998Z"
   },
   {
    "duration": 71,
    "start_time": "2021-07-19T05:35:11.219Z"
   },
   {
    "duration": 386,
    "start_time": "2021-07-19T05:35:46.388Z"
   },
   {
    "duration": 73,
    "start_time": "2021-07-19T05:36:00.965Z"
   },
   {
    "duration": 63,
    "start_time": "2021-07-19T05:36:35.160Z"
   },
   {
    "duration": 13,
    "start_time": "2021-07-19T05:38:23.051Z"
   },
   {
    "duration": 8500,
    "start_time": "2021-07-19T05:38:35.045Z"
   },
   {
    "duration": 307,
    "start_time": "2021-07-19T05:38:51.650Z"
   },
   {
    "duration": 7,
    "start_time": "2021-07-19T05:39:08.719Z"
   },
   {
    "duration": 64,
    "start_time": "2021-07-19T05:39:23.755Z"
   },
   {
    "duration": 12,
    "start_time": "2021-07-19T05:39:24.375Z"
   },
   {
    "duration": 6,
    "start_time": "2021-07-19T05:39:28.099Z"
   },
   {
    "duration": 14,
    "start_time": "2021-07-19T05:39:31.101Z"
   },
   {
    "duration": 65,
    "start_time": "2021-07-19T05:40:15.892Z"
   },
   {
    "duration": 12,
    "start_time": "2021-07-19T05:40:16.502Z"
   },
   {
    "duration": 104,
    "start_time": "2021-07-19T06:00:36.350Z"
   },
   {
    "duration": 375,
    "start_time": "2021-07-19T06:00:41.486Z"
   },
   {
    "duration": 360,
    "start_time": "2021-07-19T06:01:10.313Z"
   },
   {
    "duration": 9,
    "start_time": "2021-07-19T06:01:27.907Z"
   },
   {
    "duration": 379,
    "start_time": "2021-07-19T06:01:43.248Z"
   },
   {
    "duration": 66,
    "start_time": "2021-07-19T06:01:46.451Z"
   },
   {
    "duration": 9,
    "start_time": "2021-07-19T06:01:47.183Z"
   },
   {
    "duration": 10,
    "start_time": "2021-07-19T06:01:50.666Z"
   },
   {
    "duration": 5,
    "start_time": "2021-07-19T06:02:17.960Z"
   },
   {
    "duration": 11,
    "start_time": "2021-07-19T06:02:18.622Z"
   },
   {
    "duration": 5,
    "start_time": "2021-07-19T06:02:24.459Z"
   },
   {
    "duration": 4,
    "start_time": "2021-07-19T06:02:24.987Z"
   },
   {
    "duration": 64,
    "start_time": "2021-07-19T06:02:30.622Z"
   },
   {
    "duration": 5,
    "start_time": "2021-07-19T06:02:30.972Z"
   },
   {
    "duration": 11,
    "start_time": "2021-07-19T06:02:31.502Z"
   },
   {
    "duration": 64,
    "start_time": "2021-07-19T06:02:43.514Z"
   },
   {
    "duration": 5,
    "start_time": "2021-07-19T06:02:44.042Z"
   },
   {
    "duration": 12,
    "start_time": "2021-07-19T06:02:44.695Z"
   },
   {
    "duration": 101,
    "start_time": "2021-07-19T06:02:54.623Z"
   },
   {
    "duration": 4,
    "start_time": "2021-07-19T06:02:57.659Z"
   },
   {
    "duration": 11,
    "start_time": "2021-07-19T06:02:58.058Z"
   },
   {
    "duration": 13,
    "start_time": "2021-07-19T06:03:08.012Z"
   },
   {
    "duration": 7,
    "start_time": "2021-07-19T06:03:15.229Z"
   },
   {
    "duration": 13,
    "start_time": "2021-07-19T06:03:17.042Z"
   },
   {
    "duration": 13,
    "start_time": "2021-07-19T06:03:50.713Z"
   },
   {
    "duration": 63,
    "start_time": "2021-07-19T06:03:52.909Z"
   },
   {
    "duration": 11,
    "start_time": "2021-07-19T06:03:53.394Z"
   },
   {
    "duration": 404,
    "start_time": "2021-07-19T06:04:07.018Z"
   },
   {
    "duration": 11,
    "start_time": "2021-07-19T06:04:07.660Z"
   },
   {
    "duration": 66,
    "start_time": "2021-07-19T06:04:13.577Z"
   },
   {
    "duration": 3,
    "start_time": "2021-07-19T06:04:14.146Z"
   },
   {
    "duration": 3,
    "start_time": "2021-07-19T06:04:17.156Z"
   },
   {
    "duration": 371,
    "start_time": "2021-07-19T06:04:21.426Z"
   },
   {
    "duration": 3,
    "start_time": "2021-07-19T06:04:21.923Z"
   },
   {
    "duration": 69,
    "start_time": "2021-07-19T06:04:28.741Z"
   },
   {
    "duration": 11,
    "start_time": "2021-07-19T06:04:29.238Z"
   },
   {
    "duration": 6,
    "start_time": "2021-07-19T06:04:48.539Z"
   },
   {
    "duration": 11,
    "start_time": "2021-07-19T06:04:49.396Z"
   },
   {
    "duration": 52,
    "start_time": "2021-07-19T06:05:34.214Z"
   },
   {
    "duration": 53,
    "start_time": "2021-07-19T06:07:44.893Z"
   },
   {
    "duration": 59,
    "start_time": "2021-07-19T06:10:43.846Z"
   },
   {
    "duration": 56,
    "start_time": "2021-07-19T06:11:46.018Z"
   },
   {
    "duration": 44,
    "start_time": "2021-07-19T06:12:28.344Z"
   },
   {
    "duration": 37,
    "start_time": "2021-07-19T06:12:32.011Z"
   },
   {
    "duration": 1284,
    "start_time": "2021-07-19T06:13:08.211Z"
   },
   {
    "duration": 13,
    "start_time": "2021-07-19T06:13:18.536Z"
   },
   {
    "duration": 12,
    "start_time": "2021-07-19T06:13:40.641Z"
   },
   {
    "duration": 1059,
    "start_time": "2021-07-19T06:13:49.892Z"
   },
   {
    "duration": 314,
    "start_time": "2021-07-19T06:14:11.873Z"
   },
   {
    "duration": 316,
    "start_time": "2021-07-19T06:15:06.487Z"
   },
   {
    "duration": 17,
    "start_time": "2021-07-19T06:15:29.248Z"
   },
   {
    "duration": 16,
    "start_time": "2021-07-19T06:15:43.069Z"
   },
   {
    "duration": 26,
    "start_time": "2021-07-19T06:19:01.083Z"
   },
   {
    "duration": 14412,
    "start_time": "2021-07-19T06:19:03.456Z"
   },
   {
    "duration": -118,
    "start_time": "2021-07-19T06:19:17.992Z"
   },
   {
    "duration": -125,
    "start_time": "2021-07-19T06:19:18.000Z"
   },
   {
    "duration": 28,
    "start_time": "2021-07-19T06:19:25.053Z"
   },
   {
    "duration": 9,
    "start_time": "2021-07-19T06:19:25.913Z"
   },
   {
    "duration": 28,
    "start_time": "2021-07-19T06:19:39.665Z"
   },
   {
    "duration": 9,
    "start_time": "2021-07-19T06:19:40.338Z"
   },
   {
    "duration": 29,
    "start_time": "2021-07-19T06:19:48.988Z"
   },
   {
    "duration": 9,
    "start_time": "2021-07-19T06:19:49.476Z"
   },
   {
    "duration": 16,
    "start_time": "2021-07-19T06:19:55.818Z"
   },
   {
    "duration": 13,
    "start_time": "2021-07-19T06:19:56.308Z"
   },
   {
    "duration": 701,
    "start_time": "2021-07-19T06:20:08.927Z"
   },
   {
    "duration": 307,
    "start_time": "2021-07-19T06:20:20.020Z"
   },
   {
    "duration": 362,
    "start_time": "2021-07-19T06:21:44.423Z"
   },
   {
    "duration": 10,
    "start_time": "2021-07-19T06:22:06.199Z"
   },
   {
    "duration": 534,
    "start_time": "2021-07-19T06:22:31.514Z"
   },
   {
    "duration": 456,
    "start_time": "2021-07-19T06:22:47.288Z"
   },
   {
    "duration": 121,
    "start_time": "2021-07-19T06:23:13.434Z"
   },
   {
    "duration": 360,
    "start_time": "2021-07-19T06:23:17.034Z"
   },
   {
    "duration": 613,
    "start_time": "2021-07-19T06:23:49.802Z"
   },
   {
    "duration": 605,
    "start_time": "2021-07-19T06:23:54.808Z"
   },
   {
    "duration": 576,
    "start_time": "2021-07-19T06:23:59.624Z"
   },
   {
    "duration": 344,
    "start_time": "2021-07-19T06:24:04.958Z"
   },
   {
    "duration": 377,
    "start_time": "2021-07-19T06:24:26.066Z"
   },
   {
    "duration": 5197,
    "start_time": "2021-07-19T06:26:54.317Z"
   },
   {
    "duration": 10266,
    "start_time": "2021-07-19T06:27:03.810Z"
   },
   {
    "duration": 4939,
    "start_time": "2021-07-19T06:27:28.888Z"
   },
   {
    "duration": 10031,
    "start_time": "2021-07-19T06:27:35.560Z"
   },
   {
    "duration": 10083,
    "start_time": "2021-07-19T06:28:00.289Z"
   },
   {
    "duration": 5153,
    "start_time": "2021-07-19T06:29:25.510Z"
   },
   {
    "duration": 931,
    "start_time": "2021-07-19T06:30:08.366Z"
   },
   {
    "duration": 120,
    "start_time": "2021-07-19T06:30:09.300Z"
   },
   {
    "duration": 6,
    "start_time": "2021-07-19T06:30:09.424Z"
   },
   {
    "duration": 28,
    "start_time": "2021-07-19T06:30:09.433Z"
   },
   {
    "duration": 28,
    "start_time": "2021-07-19T06:30:09.464Z"
   },
   {
    "duration": 10,
    "start_time": "2021-07-19T06:30:09.495Z"
   },
   {
    "duration": 27,
    "start_time": "2021-07-19T06:30:09.712Z"
   },
   {
    "duration": 15,
    "start_time": "2021-07-19T06:30:10.461Z"
   },
   {
    "duration": 26,
    "start_time": "2021-07-19T06:30:10.620Z"
   },
   {
    "duration": 12,
    "start_time": "2021-07-19T06:30:11.252Z"
   },
   {
    "duration": 4,
    "start_time": "2021-07-19T06:30:11.402Z"
   },
   {
    "duration": 5,
    "start_time": "2021-07-19T06:30:11.551Z"
   },
   {
    "duration": 34,
    "start_time": "2021-07-19T06:30:11.703Z"
   },
   {
    "duration": 15,
    "start_time": "2021-07-19T06:30:12.162Z"
   },
   {
    "duration": 10,
    "start_time": "2021-07-19T06:30:12.495Z"
   },
   {
    "duration": 11,
    "start_time": "2021-07-19T06:30:12.682Z"
   },
   {
    "duration": 8,
    "start_time": "2021-07-19T06:30:12.974Z"
   },
   {
    "duration": 3,
    "start_time": "2021-07-19T06:30:13.638Z"
   },
   {
    "duration": 24,
    "start_time": "2021-07-19T06:30:13.795Z"
   },
   {
    "duration": 7,
    "start_time": "2021-07-19T06:30:14.138Z"
   },
   {
    "duration": 5,
    "start_time": "2021-07-19T06:30:14.450Z"
   },
   {
    "duration": 27,
    "start_time": "2021-07-19T06:30:14.929Z"
   },
   {
    "duration": 6,
    "start_time": "2021-07-19T06:30:15.088Z"
   },
   {
    "duration": 41,
    "start_time": "2021-07-19T06:30:15.757Z"
   },
   {
    "duration": 17,
    "start_time": "2021-07-19T06:30:16.239Z"
   },
   {
    "duration": 28,
    "start_time": "2021-07-19T06:30:16.557Z"
   },
   {
    "duration": 9,
    "start_time": "2021-07-19T06:30:16.887Z"
   },
   {
    "duration": 5,
    "start_time": "2021-07-19T06:30:17.064Z"
   },
   {
    "duration": 8,
    "start_time": "2021-07-19T06:30:17.238Z"
   },
   {
    "duration": 29,
    "start_time": "2021-07-19T06:30:17.422Z"
   },
   {
    "duration": 27,
    "start_time": "2021-07-19T06:30:17.749Z"
   },
   {
    "duration": 25,
    "start_time": "2021-07-19T06:30:18.250Z"
   },
   {
    "duration": 18,
    "start_time": "2021-07-19T06:30:18.412Z"
   },
   {
    "duration": 20,
    "start_time": "2021-07-19T06:30:18.753Z"
   },
   {
    "duration": 29,
    "start_time": "2021-07-19T06:30:19.081Z"
   },
   {
    "duration": 1051,
    "start_time": "2021-07-19T06:30:19.406Z"
   },
   {
    "duration": 15,
    "start_time": "2021-07-19T06:30:20.460Z"
   },
   {
    "duration": 14,
    "start_time": "2021-07-19T06:30:20.478Z"
   },
   {
    "duration": 31,
    "start_time": "2021-07-19T06:30:20.495Z"
   },
   {
    "duration": 57,
    "start_time": "2021-07-19T06:30:20.529Z"
   },
   {
    "duration": 11,
    "start_time": "2021-07-19T06:30:20.942Z"
   },
   {
    "duration": 17,
    "start_time": "2021-07-19T06:30:21.108Z"
   },
   {
    "duration": 88,
    "start_time": "2021-07-19T06:30:21.457Z"
   },
   {
    "duration": 8,
    "start_time": "2021-07-19T06:30:21.821Z"
   },
   {
    "duration": 13,
    "start_time": "2021-07-19T06:30:22.316Z"
   },
   {
    "duration": 4,
    "start_time": "2021-07-19T06:30:23.262Z"
   },
   {
    "duration": 49,
    "start_time": "2021-07-19T06:30:23.469Z"
   },
   {
    "duration": 28,
    "start_time": "2021-07-19T06:30:23.831Z"
   },
   {
    "duration": 26,
    "start_time": "2021-07-19T06:30:24.196Z"
   },
   {
    "duration": 4195,
    "start_time": "2021-07-19T06:30:24.814Z"
   },
   {
    "duration": 14,
    "start_time": "2021-07-19T06:30:29.012Z"
   },
   {
    "duration": 16,
    "start_time": "2021-07-19T06:30:29.030Z"
   },
   {
    "duration": 53,
    "start_time": "2021-07-19T06:30:29.049Z"
   },
   {
    "duration": 17,
    "start_time": "2021-07-19T06:30:29.105Z"
   },
   {
    "duration": 5,
    "start_time": "2021-07-19T06:30:29.125Z"
   },
   {
    "duration": 12,
    "start_time": "2021-07-19T06:30:29.133Z"
   },
   {
    "duration": 11,
    "start_time": "2021-07-19T06:30:29.186Z"
   },
   {
    "duration": 12,
    "start_time": "2021-07-19T06:30:29.200Z"
   },
   {
    "duration": 32,
    "start_time": "2021-07-19T06:30:29.215Z"
   },
   {
    "duration": 54,
    "start_time": "2021-07-19T06:30:29.249Z"
   },
   {
    "duration": 27,
    "start_time": "2021-07-19T06:30:29.306Z"
   },
   {
    "duration": 8,
    "start_time": "2021-07-19T06:30:29.339Z"
   },
   {
    "duration": 5,
    "start_time": "2021-07-19T06:30:29.507Z"
   },
   {
    "duration": 11,
    "start_time": "2021-07-19T06:30:29.894Z"
   },
   {
    "duration": 23,
    "start_time": "2021-07-19T06:30:30.247Z"
   },
   {
    "duration": 6,
    "start_time": "2021-07-19T06:30:32.148Z"
   },
   {
    "duration": 4,
    "start_time": "2021-07-19T06:30:32.494Z"
   },
   {
    "duration": 4,
    "start_time": "2021-07-19T06:30:32.673Z"
   },
   {
    "duration": 56,
    "start_time": "2021-07-19T06:30:32.860Z"
   },
   {
    "duration": 31,
    "start_time": "2021-07-19T06:30:33.213Z"
   },
   {
    "duration": 8,
    "start_time": "2021-07-19T06:30:33.575Z"
   },
   {
    "duration": 311,
    "start_time": "2021-07-19T06:30:33.742Z"
   },
   {
    "duration": 23,
    "start_time": "2021-07-19T06:30:37.466Z"
   },
   {
    "duration": 4,
    "start_time": "2021-07-19T06:30:37.832Z"
   },
   {
    "duration": 1026,
    "start_time": "2021-07-19T06:30:39.133Z"
   },
   {
    "duration": 24,
    "start_time": "2021-07-19T06:30:40.162Z"
   },
   {
    "duration": 26,
    "start_time": "2021-07-19T06:30:40.189Z"
   },
   {
    "duration": 9,
    "start_time": "2021-07-19T06:30:40.277Z"
   },
   {
    "duration": 13,
    "start_time": "2021-07-19T06:30:40.444Z"
   },
   {
    "duration": 10,
    "start_time": "2021-07-19T06:30:40.606Z"
   },
   {
    "duration": 4,
    "start_time": "2021-07-19T06:30:40.882Z"
   },
   {
    "duration": 6,
    "start_time": "2021-07-19T06:30:41.078Z"
   },
   {
    "duration": 11,
    "start_time": "2021-07-19T06:30:41.429Z"
   },
   {
    "duration": 555,
    "start_time": "2021-07-19T06:30:41.780Z"
   },
   {
    "duration": 18,
    "start_time": "2021-07-19T06:30:42.628Z"
   },
   {
    "duration": 11,
    "start_time": "2021-07-19T06:30:44.499Z"
   },
   {
    "duration": 381,
    "start_time": "2021-07-19T06:30:48.659Z"
   },
   {
    "duration": 11504,
    "start_time": "2021-07-19T06:30:53.901Z"
   },
   {
    "duration": 406,
    "start_time": "2021-07-19T06:31:07.823Z"
   },
   {
    "duration": 6,
    "start_time": "2021-07-19T06:31:12.552Z"
   },
   {
    "duration": 5,
    "start_time": "2021-07-19T06:31:41.167Z"
   },
   {
    "duration": 7,
    "start_time": "2021-07-19T06:31:59.615Z"
   },
   {
    "duration": 431,
    "start_time": "2021-07-19T06:32:54.439Z"
   },
   {
    "duration": 12,
    "start_time": "2021-07-19T06:33:04.805Z"
   },
   {
    "duration": 9,
    "start_time": "2021-07-19T06:33:11.848Z"
   },
   {
    "duration": 8,
    "start_time": "2021-07-19T06:33:20.928Z"
   },
   {
    "duration": 454,
    "start_time": "2021-07-19T06:33:28.864Z"
   },
   {
    "duration": 7,
    "start_time": "2021-07-19T06:33:37.275Z"
   },
   {
    "duration": 138,
    "start_time": "2021-07-19T06:33:45.283Z"
   },
   {
    "duration": 9,
    "start_time": "2021-07-19T06:33:48.595Z"
   },
   {
    "duration": 154,
    "start_time": "2021-07-19T06:33:56.973Z"
   },
   {
    "duration": 12,
    "start_time": "2021-07-19T06:34:03.097Z"
   },
   {
    "duration": 209,
    "start_time": "2021-07-19T06:35:13.473Z"
   },
   {
    "duration": 23911,
    "start_time": "2021-07-19T06:35:17.942Z"
   },
   {
    "duration": 173,
    "start_time": "2021-07-19T06:36:44.084Z"
   },
   {
    "duration": 9,
    "start_time": "2021-07-19T06:36:47.683Z"
   },
   {
    "duration": 25,
    "start_time": "2021-07-19T06:36:54.821Z"
   },
   {
    "duration": 12,
    "start_time": "2021-07-19T06:37:03.904Z"
   },
   {
    "duration": 423,
    "start_time": "2021-07-19T06:37:14.247Z"
   },
   {
    "duration": 410,
    "start_time": "2021-07-19T06:37:19.256Z"
   },
   {
    "duration": 20,
    "start_time": "2021-07-19T06:37:26.028Z"
   },
   {
    "duration": 8,
    "start_time": "2021-07-19T06:37:30.494Z"
   },
   {
    "duration": 6,
    "start_time": "2021-07-19T06:37:38.122Z"
   },
   {
    "duration": 8,
    "start_time": "2021-07-19T06:37:42.819Z"
   },
   {
    "duration": 11,
    "start_time": "2021-07-19T06:37:51.630Z"
   },
   {
    "duration": 8,
    "start_time": "2021-07-19T06:38:31.914Z"
   },
   {
    "duration": 9,
    "start_time": "2021-07-19T06:38:57.295Z"
   },
   {
    "duration": 8,
    "start_time": "2021-07-19T06:39:06.569Z"
   },
   {
    "duration": 12,
    "start_time": "2021-07-19T06:39:28.018Z"
   },
   {
    "duration": -67,
    "start_time": "2021-07-19T06:43:20.177Z"
   },
   {
    "duration": -81,
    "start_time": "2021-07-19T06:43:20.203Z"
   },
   {
    "duration": 939,
    "start_time": "2021-07-19T06:43:32.669Z"
   },
   {
    "duration": 127,
    "start_time": "2021-07-19T06:43:33.611Z"
   },
   {
    "duration": 8,
    "start_time": "2021-07-19T06:43:33.747Z"
   },
   {
    "duration": 47,
    "start_time": "2021-07-19T06:43:33.758Z"
   },
   {
    "duration": 24,
    "start_time": "2021-07-19T06:43:33.810Z"
   },
   {
    "duration": 15,
    "start_time": "2021-07-19T06:43:33.837Z"
   },
   {
    "duration": 56,
    "start_time": "2021-07-19T06:43:33.854Z"
   },
   {
    "duration": 18,
    "start_time": "2021-07-19T06:43:34.341Z"
   },
   {
    "duration": 31,
    "start_time": "2021-07-19T06:43:34.481Z"
   },
   {
    "duration": 13,
    "start_time": "2021-07-19T06:43:35.089Z"
   },
   {
    "duration": 5,
    "start_time": "2021-07-19T06:43:35.250Z"
   },
   {
    "duration": 7,
    "start_time": "2021-07-19T06:43:35.406Z"
   },
   {
    "duration": 34,
    "start_time": "2021-07-19T06:43:35.569Z"
   },
   {
    "duration": 16,
    "start_time": "2021-07-19T06:43:35.872Z"
   },
   {
    "duration": 11,
    "start_time": "2021-07-19T06:43:36.187Z"
   },
   {
    "duration": 13,
    "start_time": "2021-07-19T06:43:36.355Z"
   },
   {
    "duration": 9,
    "start_time": "2021-07-19T06:43:36.649Z"
   },
   {
    "duration": 4,
    "start_time": "2021-07-19T06:43:37.267Z"
   },
   {
    "duration": 18,
    "start_time": "2021-07-19T06:43:37.412Z"
   },
   {
    "duration": 8,
    "start_time": "2021-07-19T06:43:37.732Z"
   },
   {
    "duration": 6,
    "start_time": "2021-07-19T06:43:38.029Z"
   },
   {
    "duration": 29,
    "start_time": "2021-07-19T06:43:38.503Z"
   },
   {
    "duration": 7,
    "start_time": "2021-07-19T06:43:38.661Z"
   },
   {
    "duration": 35,
    "start_time": "2021-07-19T06:43:39.327Z"
   },
   {
    "duration": 17,
    "start_time": "2021-07-19T06:43:39.864Z"
   },
   {
    "duration": 28,
    "start_time": "2021-07-19T06:43:40.206Z"
   },
   {
    "duration": 9,
    "start_time": "2021-07-19T06:43:40.529Z"
   },
   {
    "duration": 6,
    "start_time": "2021-07-19T06:43:40.851Z"
   },
   {
    "duration": 7,
    "start_time": "2021-07-19T06:43:41.054Z"
   },
   {
    "duration": 41,
    "start_time": "2021-07-19T06:43:41.226Z"
   },
   {
    "duration": 27,
    "start_time": "2021-07-19T06:43:41.543Z"
   },
   {
    "duration": 24,
    "start_time": "2021-07-19T06:43:42.108Z"
   },
   {
    "duration": 24,
    "start_time": "2021-07-19T06:43:42.280Z"
   },
   {
    "duration": 23,
    "start_time": "2021-07-19T06:43:42.613Z"
   },
   {
    "duration": 40,
    "start_time": "2021-07-19T06:43:42.948Z"
   },
   {
    "duration": 976,
    "start_time": "2021-07-19T06:43:43.347Z"
   },
   {
    "duration": 17,
    "start_time": "2021-07-19T06:43:44.326Z"
   },
   {
    "duration": 11,
    "start_time": "2021-07-19T06:43:44.346Z"
   },
   {
    "duration": 54,
    "start_time": "2021-07-19T06:43:44.359Z"
   },
   {
    "duration": 43,
    "start_time": "2021-07-19T06:43:44.416Z"
   },
   {
    "duration": 16,
    "start_time": "2021-07-19T06:43:44.929Z"
   },
   {
    "duration": 19,
    "start_time": "2021-07-19T06:43:45.379Z"
   },
   {
    "duration": 122,
    "start_time": "2021-07-19T06:43:45.781Z"
   },
   {
    "duration": 8,
    "start_time": "2021-07-19T06:43:46.263Z"
   },
   {
    "duration": 12,
    "start_time": "2021-07-19T06:43:47.088Z"
   },
   {
    "duration": 4,
    "start_time": "2021-07-19T06:43:48.129Z"
   },
   {
    "duration": 48,
    "start_time": "2021-07-19T06:43:48.282Z"
   },
   {
    "duration": 27,
    "start_time": "2021-07-19T06:43:48.645Z"
   },
   {
    "duration": 25,
    "start_time": "2021-07-19T06:43:49.039Z"
   },
   {
    "duration": 4065,
    "start_time": "2021-07-19T06:43:49.566Z"
   },
   {
    "duration": 14,
    "start_time": "2021-07-19T06:43:53.634Z"
   },
   {
    "duration": 34,
    "start_time": "2021-07-19T06:43:53.651Z"
   },
   {
    "duration": 20,
    "start_time": "2021-07-19T06:43:53.687Z"
   },
   {
    "duration": 22,
    "start_time": "2021-07-19T06:43:53.710Z"
   },
   {
    "duration": 9,
    "start_time": "2021-07-19T06:43:53.734Z"
   },
   {
    "duration": 12,
    "start_time": "2021-07-19T06:43:53.746Z"
   },
   {
    "duration": 11,
    "start_time": "2021-07-19T06:43:53.787Z"
   },
   {
    "duration": 9,
    "start_time": "2021-07-19T06:43:53.800Z"
   },
   {
    "duration": 29,
    "start_time": "2021-07-19T06:43:53.812Z"
   },
   {
    "duration": 53,
    "start_time": "2021-07-19T06:43:53.844Z"
   },
   {
    "duration": 28,
    "start_time": "2021-07-19T06:43:53.899Z"
   },
   {
    "duration": 8,
    "start_time": "2021-07-19T06:43:53.930Z"
   },
   {
    "duration": 15,
    "start_time": "2021-07-19T06:43:53.941Z"
   },
   {
    "duration": 32,
    "start_time": "2021-07-19T06:43:53.959Z"
   },
   {
    "duration": 20,
    "start_time": "2021-07-19T06:43:54.316Z"
   },
   {
    "duration": 6,
    "start_time": "2021-07-19T06:43:55.259Z"
   },
   {
    "duration": 4,
    "start_time": "2021-07-19T06:43:55.601Z"
   },
   {
    "duration": 4,
    "start_time": "2021-07-19T06:43:55.950Z"
   },
   {
    "duration": 58,
    "start_time": "2021-07-19T06:43:56.174Z"
   },
   {
    "duration": 27,
    "start_time": "2021-07-19T06:43:56.510Z"
   },
   {
    "duration": 7,
    "start_time": "2021-07-19T06:43:56.882Z"
   },
   {
    "duration": 280,
    "start_time": "2021-07-19T06:43:57.058Z"
   },
   {
    "duration": 24,
    "start_time": "2021-07-19T06:43:58.480Z"
   },
   {
    "duration": 8,
    "start_time": "2021-07-19T06:43:58.853Z"
   },
   {
    "duration": 958,
    "start_time": "2021-07-19T06:43:59.030Z"
   },
   {
    "duration": 22,
    "start_time": "2021-07-19T06:43:59.991Z"
   },
   {
    "duration": 19,
    "start_time": "2021-07-19T06:44:00.016Z"
   },
   {
    "duration": 8,
    "start_time": "2021-07-19T06:44:00.038Z"
   },
   {
    "duration": 46,
    "start_time": "2021-07-19T06:44:00.048Z"
   },
   {
    "duration": 13,
    "start_time": "2021-07-19T06:44:00.219Z"
   },
   {
    "duration": 4,
    "start_time": "2021-07-19T06:44:00.414Z"
   },
   {
    "duration": 6,
    "start_time": "2021-07-19T06:44:00.661Z"
   },
   {
    "duration": 11,
    "start_time": "2021-07-19T06:44:01.013Z"
   },
   {
    "duration": 515,
    "start_time": "2021-07-19T06:44:04.110Z"
   },
   {
    "duration": 17,
    "start_time": "2021-07-19T06:44:04.628Z"
   },
   {
    "duration": 11,
    "start_time": "2021-07-19T06:44:04.793Z"
   },
   {
    "duration": 347,
    "start_time": "2021-07-19T06:44:07.741Z"
   },
   {
    "duration": 12,
    "start_time": "2021-07-19T06:44:08.278Z"
   },
   {
    "duration": 7483,
    "start_time": "2021-07-19T06:44:09.517Z"
   },
   {
    "duration": 63,
    "start_time": "2021-07-19T06:46:08.034Z"
   },
   {
    "duration": 25,
    "start_time": "2021-07-19T06:46:17.334Z"
   },
   {
    "duration": 313,
    "start_time": "2021-07-19T06:47:05.555Z"
   },
   {
    "duration": 27,
    "start_time": "2021-07-19T06:47:09.815Z"
   },
   {
    "duration": 57,
    "start_time": "2021-07-19T07:48:49.549Z"
   },
   {
    "duration": 60,
    "start_time": "2021-07-19T07:49:48.734Z"
   },
   {
    "duration": 88,
    "start_time": "2021-07-19T07:57:01.158Z"
   },
   {
    "duration": 61,
    "start_time": "2021-07-19T07:57:17.347Z"
   },
   {
    "duration": 570,
    "start_time": "2021-07-19T07:57:31.855Z"
   },
   {
    "duration": 482,
    "start_time": "2021-07-19T07:57:54.474Z"
   },
   {
    "duration": 117,
    "start_time": "2021-07-19T07:57:58.910Z"
   },
   {
    "duration": 110,
    "start_time": "2021-07-19T07:59:58.863Z"
   },
   {
    "duration": 53,
    "start_time": "2021-07-19T08:01:47.454Z"
   },
   {
    "duration": 58,
    "start_time": "2021-07-19T08:01:57.900Z"
   },
   {
    "duration": 17,
    "start_time": "2021-07-19T08:03:51.080Z"
   },
   {
    "duration": 36,
    "start_time": "2021-07-19T08:04:40.374Z"
   },
   {
    "duration": 44,
    "start_time": "2021-07-19T08:05:23.162Z"
   },
   {
    "duration": 32,
    "start_time": "2021-07-19T08:06:03.694Z"
   },
   {
    "duration": 16,
    "start_time": "2021-07-19T08:06:19.035Z"
   },
   {
    "duration": 330,
    "start_time": "2021-07-19T08:06:42.424Z"
   },
   {
    "duration": 18,
    "start_time": "2021-07-19T08:06:49.114Z"
   },
   {
    "duration": 22,
    "start_time": "2021-07-19T08:06:58.528Z"
   },
   {
    "duration": 20,
    "start_time": "2021-07-19T08:07:31.767Z"
   },
   {
    "duration": 42,
    "start_time": "2021-07-19T08:09:26.616Z"
   },
   {
    "duration": 46,
    "start_time": "2021-07-19T08:10:41.834Z"
   },
   {
    "duration": 8,
    "start_time": "2021-07-19T08:10:59.737Z"
   },
   {
    "duration": 15,
    "start_time": "2021-07-19T08:11:05.660Z"
   },
   {
    "duration": 6,
    "start_time": "2021-07-19T08:11:13.050Z"
   },
   {
    "duration": 14,
    "start_time": "2021-07-19T08:11:13.688Z"
   },
   {
    "duration": 4,
    "start_time": "2021-07-19T08:11:29.197Z"
   },
   {
    "duration": 12,
    "start_time": "2021-07-19T08:11:29.944Z"
   },
   {
    "duration": 31,
    "start_time": "2021-07-19T08:11:34.224Z"
   },
   {
    "duration": 5,
    "start_time": "2021-07-19T08:11:34.718Z"
   },
   {
    "duration": 12,
    "start_time": "2021-07-19T08:11:35.169Z"
   },
   {
    "duration": 9,
    "start_time": "2021-07-19T08:11:56.275Z"
   },
   {
    "duration": 302,
    "start_time": "2021-07-19T08:12:44.154Z"
   },
   {
    "duration": 30,
    "start_time": "2021-07-19T08:12:50.447Z"
   },
   {
    "duration": 6,
    "start_time": "2021-07-19T08:12:51.030Z"
   },
   {
    "duration": 9,
    "start_time": "2021-07-19T08:12:51.879Z"
   },
   {
    "duration": 10,
    "start_time": "2021-07-19T08:12:56.157Z"
   },
   {
    "duration": 31,
    "start_time": "2021-07-19T08:13:06.240Z"
   },
   {
    "duration": 13,
    "start_time": "2021-07-19T08:13:06.687Z"
   },
   {
    "duration": 7,
    "start_time": "2021-07-19T08:13:21.138Z"
   },
   {
    "duration": 12,
    "start_time": "2021-07-19T08:13:21.936Z"
   },
   {
    "duration": 431,
    "start_time": "2021-07-19T08:14:27.820Z"
   },
   {
    "duration": 688,
    "start_time": "2021-07-19T08:14:52.498Z"
   },
   {
    "duration": 113,
    "start_time": "2021-07-19T08:15:48.903Z"
   },
   {
    "duration": 55,
    "start_time": "2021-07-19T08:17:30.336Z"
   },
   {
    "duration": 55,
    "start_time": "2021-07-19T08:18:49.521Z"
   },
   {
    "duration": 43,
    "start_time": "2021-07-19T08:18:58.979Z"
   },
   {
    "duration": 41,
    "start_time": "2021-07-19T08:22:10.427Z"
   },
   {
    "duration": 15,
    "start_time": "2021-07-19T08:25:57.899Z"
   },
   {
    "duration": 17,
    "start_time": "2021-07-19T08:26:15.859Z"
   },
   {
    "duration": 17,
    "start_time": "2021-07-19T08:26:31.084Z"
   },
   {
    "duration": 18,
    "start_time": "2021-07-19T08:26:39.235Z"
   },
   {
    "duration": 17,
    "start_time": "2021-07-19T08:29:38.739Z"
   },
   {
    "duration": 7,
    "start_time": "2021-07-19T08:29:45.301Z"
   },
   {
    "duration": 315,
    "start_time": "2021-07-19T08:30:10.374Z"
   },
   {
    "duration": 293,
    "start_time": "2021-07-19T08:30:24.639Z"
   },
   {
    "duration": 16,
    "start_time": "2021-07-19T08:31:53.382Z"
   },
   {
    "duration": 333,
    "start_time": "2021-07-19T08:32:00.244Z"
   },
   {
    "duration": 310,
    "start_time": "2021-07-19T08:32:11.511Z"
   },
   {
    "duration": 11,
    "start_time": "2021-07-19T08:32:19.966Z"
   },
   {
    "duration": 267,
    "start_time": "2021-07-19T08:32:49.127Z"
   },
   {
    "duration": 12,
    "start_time": "2021-07-19T08:33:19.613Z"
   },
   {
    "duration": 318,
    "start_time": "2021-07-19T08:33:26.501Z"
   },
   {
    "duration": 335,
    "start_time": "2021-07-19T08:34:03.722Z"
   },
   {
    "duration": 383,
    "start_time": "2021-07-19T08:34:15.160Z"
   },
   {
    "duration": 17,
    "start_time": "2021-07-19T08:34:21.312Z"
   },
   {
    "duration": 326,
    "start_time": "2021-07-19T08:34:34.456Z"
   },
   {
    "duration": 4,
    "start_time": "2021-07-19T08:35:25.765Z"
   },
   {
    "duration": 128,
    "start_time": "2021-07-19T08:35:25.919Z"
   },
   {
    "duration": 5,
    "start_time": "2021-07-19T08:35:26.089Z"
   },
   {
    "duration": 21,
    "start_time": "2021-07-19T08:35:26.243Z"
   },
   {
    "duration": 22,
    "start_time": "2021-07-19T08:35:26.551Z"
   },
   {
    "duration": 6,
    "start_time": "2021-07-19T08:35:26.683Z"
   },
   {
    "duration": 27,
    "start_time": "2021-07-19T08:35:27.157Z"
   },
   {
    "duration": 15,
    "start_time": "2021-07-19T08:35:27.894Z"
   },
   {
    "duration": 25,
    "start_time": "2021-07-19T08:35:28.042Z"
   },
   {
    "duration": 12,
    "start_time": "2021-07-19T08:35:28.637Z"
   },
   {
    "duration": 4,
    "start_time": "2021-07-19T08:35:28.831Z"
   },
   {
    "duration": 5,
    "start_time": "2021-07-19T08:35:28.946Z"
   },
   {
    "duration": 30,
    "start_time": "2021-07-19T08:35:29.086Z"
   },
   {
    "duration": 15,
    "start_time": "2021-07-19T08:35:29.413Z"
   },
   {
    "duration": 9,
    "start_time": "2021-07-19T08:35:29.747Z"
   },
   {
    "duration": 5,
    "start_time": "2021-07-19T08:35:29.864Z"
   },
   {
    "duration": 8,
    "start_time": "2021-07-19T08:35:30.200Z"
   },
   {
    "duration": 4,
    "start_time": "2021-07-19T08:35:30.801Z"
   },
   {
    "duration": 19,
    "start_time": "2021-07-19T08:35:30.920Z"
   },
   {
    "duration": 6,
    "start_time": "2021-07-19T08:35:31.322Z"
   },
   {
    "duration": 6,
    "start_time": "2021-07-19T08:35:31.552Z"
   },
   {
    "duration": 28,
    "start_time": "2021-07-19T08:35:32.032Z"
   },
   {
    "duration": 5,
    "start_time": "2021-07-19T08:35:32.168Z"
   },
   {
    "duration": 39,
    "start_time": "2021-07-19T08:35:32.771Z"
   },
   {
    "duration": 15,
    "start_time": "2021-07-19T08:35:33.241Z"
   },
   {
    "duration": 26,
    "start_time": "2021-07-19T08:35:33.583Z"
   },
   {
    "duration": 9,
    "start_time": "2021-07-19T08:35:33.888Z"
   },
   {
    "duration": 6,
    "start_time": "2021-07-19T08:35:33.998Z"
   },
   {
    "duration": 7,
    "start_time": "2021-07-19T08:35:34.201Z"
   },
   {
    "duration": 27,
    "start_time": "2021-07-19T08:35:34.319Z"
   },
   {
    "duration": 27,
    "start_time": "2021-07-19T08:35:34.629Z"
   },
   {
    "duration": 23,
    "start_time": "2021-07-19T08:35:35.075Z"
   },
   {
    "duration": 17,
    "start_time": "2021-07-19T08:35:35.233Z"
   },
   {
    "duration": 19,
    "start_time": "2021-07-19T08:35:35.595Z"
   },
   {
    "duration": 26,
    "start_time": "2021-07-19T08:35:35.920Z"
   },
   {
    "duration": 1074,
    "start_time": "2021-07-19T08:35:36.246Z"
   },
   {
    "duration": 13,
    "start_time": "2021-07-19T08:35:37.322Z"
   },
   {
    "duration": 21,
    "start_time": "2021-07-19T08:35:37.338Z"
   },
   {
    "duration": 39,
    "start_time": "2021-07-19T08:35:37.361Z"
   },
   {
    "duration": 33,
    "start_time": "2021-07-19T08:35:37.402Z"
   },
   {
    "duration": 10,
    "start_time": "2021-07-19T08:35:37.661Z"
   },
   {
    "duration": 17,
    "start_time": "2021-07-19T08:35:41.311Z"
   },
   {
    "duration": 117,
    "start_time": "2021-07-19T08:35:41.636Z"
   },
   {
    "duration": 15,
    "start_time": "2021-07-19T08:35:49.270Z"
   },
   {
    "duration": 333,
    "start_time": "2021-07-19T08:35:53.747Z"
   },
   {
    "duration": 14,
    "start_time": "2021-07-19T08:36:20.013Z"
   },
   {
    "duration": 12,
    "start_time": "2021-07-19T08:36:33.615Z"
   },
   {
    "duration": 306,
    "start_time": "2021-07-19T08:38:06.412Z"
   },
   {
    "duration": 429,
    "start_time": "2021-07-19T08:38:36.580Z"
   },
   {
    "duration": 8707,
    "start_time": "2021-07-19T08:38:37.422Z"
   },
   {
    "duration": 676,
    "start_time": "2021-07-19T08:38:48.845Z"
   },
   {
    "duration": 287,
    "start_time": "2021-07-19T08:39:00.382Z"
   },
   {
    "duration": 294,
    "start_time": "2021-07-19T08:39:10.423Z"
   },
   {
    "duration": 280,
    "start_time": "2021-07-19T08:39:15.196Z"
   },
   {
    "duration": 305,
    "start_time": "2021-07-19T08:39:27.848Z"
   },
   {
    "duration": 13,
    "start_time": "2021-07-19T08:39:46.206Z"
   },
   {
    "duration": 295,
    "start_time": "2021-07-19T08:40:16.762Z"
   },
   {
    "duration": 266,
    "start_time": "2021-07-19T08:40:34.422Z"
   },
   {
    "duration": 266,
    "start_time": "2021-07-19T08:40:42.758Z"
   },
   {
    "duration": 1022,
    "start_time": "2021-07-19T09:35:40.308Z"
   },
   {
    "duration": 139,
    "start_time": "2021-07-19T09:35:41.333Z"
   },
   {
    "duration": 5,
    "start_time": "2021-07-19T09:35:41.476Z"
   },
   {
    "duration": 38,
    "start_time": "2021-07-19T09:35:41.484Z"
   },
   {
    "duration": 36,
    "start_time": "2021-07-19T09:35:41.525Z"
   },
   {
    "duration": 22,
    "start_time": "2021-07-19T09:35:41.565Z"
   },
   {
    "duration": 28,
    "start_time": "2021-07-19T09:35:41.590Z"
   },
   {
    "duration": 16,
    "start_time": "2021-07-19T09:35:41.622Z"
   },
   {
    "duration": 59,
    "start_time": "2021-07-19T09:35:41.641Z"
   },
   {
    "duration": 13,
    "start_time": "2021-07-19T09:35:41.703Z"
   },
   {
    "duration": 4,
    "start_time": "2021-07-19T09:35:41.718Z"
   },
   {
    "duration": 6,
    "start_time": "2021-07-19T09:35:41.725Z"
   },
   {
    "duration": 77,
    "start_time": "2021-07-19T09:35:41.733Z"
   },
   {
    "duration": 17,
    "start_time": "2021-07-19T09:35:41.812Z"
   },
   {
    "duration": 11,
    "start_time": "2021-07-19T09:35:41.831Z"
   },
   {
    "duration": 41,
    "start_time": "2021-07-19T09:35:41.845Z"
   },
   {
    "duration": 18,
    "start_time": "2021-07-19T09:35:41.889Z"
   },
   {
    "duration": 5,
    "start_time": "2021-07-19T09:35:41.910Z"
   },
   {
    "duration": 21,
    "start_time": "2021-07-19T09:35:41.918Z"
   },
   {
    "duration": 45,
    "start_time": "2021-07-19T09:35:41.942Z"
   },
   {
    "duration": 6,
    "start_time": "2021-07-19T09:35:41.989Z"
   },
   {
    "duration": 32,
    "start_time": "2021-07-19T09:35:41.998Z"
   },
   {
    "duration": 6,
    "start_time": "2021-07-19T09:35:42.037Z"
   },
   {
    "duration": 74,
    "start_time": "2021-07-19T09:35:42.047Z"
   },
   {
    "duration": 18,
    "start_time": "2021-07-19T09:35:42.123Z"
   },
   {
    "duration": 66,
    "start_time": "2021-07-19T09:35:42.143Z"
   },
   {
    "duration": 8,
    "start_time": "2021-07-19T09:35:42.211Z"
   },
   {
    "duration": 6,
    "start_time": "2021-07-19T09:35:42.221Z"
   },
   {
    "duration": 10,
    "start_time": "2021-07-19T09:35:42.229Z"
   },
   {
    "duration": 69,
    "start_time": "2021-07-19T09:35:42.241Z"
   },
   {
    "duration": 29,
    "start_time": "2021-07-19T09:35:42.313Z"
   },
   {
    "duration": 59,
    "start_time": "2021-07-19T09:35:42.345Z"
   },
   {
    "duration": 18,
    "start_time": "2021-07-19T09:35:42.407Z"
   },
   {
    "duration": 19,
    "start_time": "2021-07-19T09:35:42.427Z"
   },
   {
    "duration": 60,
    "start_time": "2021-07-19T09:35:42.449Z"
   },
   {
    "duration": 974,
    "start_time": "2021-07-19T09:35:42.511Z"
   },
   {
    "duration": 31,
    "start_time": "2021-07-19T09:35:43.487Z"
   },
   {
    "duration": 8,
    "start_time": "2021-07-19T09:35:43.521Z"
   },
   {
    "duration": 30,
    "start_time": "2021-07-19T09:35:43.532Z"
   },
   {
    "duration": 46,
    "start_time": "2021-07-19T09:35:43.564Z"
   },
   {
    "duration": 13,
    "start_time": "2021-07-19T09:35:43.612Z"
   },
   {
    "duration": 21,
    "start_time": "2021-07-19T09:35:43.627Z"
   },
   {
    "duration": 122,
    "start_time": "2021-07-19T09:35:43.686Z"
   },
   {
    "duration": 7,
    "start_time": "2021-07-19T09:35:43.811Z"
   },
   {
    "duration": 14,
    "start_time": "2021-07-19T09:35:43.821Z"
   },
   {
    "duration": 47,
    "start_time": "2021-07-19T09:35:43.838Z"
   },
   {
    "duration": 50,
    "start_time": "2021-07-19T09:35:43.888Z"
   },
   {
    "duration": 55,
    "start_time": "2021-07-19T09:35:43.941Z"
   },
   {
    "duration": 26,
    "start_time": "2021-07-19T09:35:43.999Z"
   },
   {
    "duration": 5277,
    "start_time": "2021-07-19T09:35:44.027Z"
   },
   {
    "duration": 15,
    "start_time": "2021-07-19T09:35:49.307Z"
   },
   {
    "duration": 16,
    "start_time": "2021-07-19T09:35:49.324Z"
   },
   {
    "duration": 54,
    "start_time": "2021-07-19T09:35:49.342Z"
   },
   {
    "duration": 24,
    "start_time": "2021-07-19T09:35:49.399Z"
   },
   {
    "duration": 8,
    "start_time": "2021-07-19T09:35:49.426Z"
   },
   {
    "duration": 52,
    "start_time": "2021-07-19T09:35:49.437Z"
   },
   {
    "duration": 13,
    "start_time": "2021-07-19T09:35:49.492Z"
   },
   {
    "duration": 16,
    "start_time": "2021-07-19T09:35:49.509Z"
   },
   {
    "duration": 79,
    "start_time": "2021-07-19T09:35:49.528Z"
   },
   {
    "duration": 27,
    "start_time": "2021-07-19T09:35:49.610Z"
   },
   {
    "duration": 52,
    "start_time": "2021-07-19T09:35:49.640Z"
   },
   {
    "duration": 12,
    "start_time": "2021-07-19T09:35:49.696Z"
   },
   {
    "duration": 10,
    "start_time": "2021-07-19T09:35:49.711Z"
   },
   {
    "duration": 17,
    "start_time": "2021-07-19T09:35:49.725Z"
   },
   {
    "duration": 66,
    "start_time": "2021-07-19T09:35:49.745Z"
   },
   {
    "duration": 8,
    "start_time": "2021-07-19T09:35:49.813Z"
   },
   {
    "duration": 5,
    "start_time": "2021-07-19T09:35:49.824Z"
   },
   {
    "duration": 6,
    "start_time": "2021-07-19T09:35:49.843Z"
   },
   {
    "duration": 143,
    "start_time": "2021-07-19T09:35:49.854Z"
   },
   {
    "duration": 45,
    "start_time": "2021-07-19T09:35:50.000Z"
   },
   {
    "duration": 10,
    "start_time": "2021-07-19T09:35:50.048Z"
   },
   {
    "duration": 330,
    "start_time": "2021-07-19T09:35:50.060Z"
   },
   {
    "duration": 24,
    "start_time": "2021-07-19T09:35:50.392Z"
   },
   {
    "duration": 4,
    "start_time": "2021-07-19T09:35:50.418Z"
   },
   {
    "duration": 1045,
    "start_time": "2021-07-19T09:35:50.425Z"
   },
   {
    "duration": 26,
    "start_time": "2021-07-19T09:35:51.473Z"
   },
   {
    "duration": 28,
    "start_time": "2021-07-19T09:35:51.501Z"
   },
   {
    "duration": 13,
    "start_time": "2021-07-19T09:35:51.531Z"
   },
   {
    "duration": 23,
    "start_time": "2021-07-19T09:35:51.547Z"
   },
   {
    "duration": 17,
    "start_time": "2021-07-19T09:35:51.573Z"
   },
   {
    "duration": 14,
    "start_time": "2021-07-19T09:35:51.593Z"
   },
   {
    "duration": 10,
    "start_time": "2021-07-19T09:35:51.609Z"
   },
   {
    "duration": 25,
    "start_time": "2021-07-19T09:35:51.621Z"
   },
   {
    "duration": 570,
    "start_time": "2021-07-19T09:35:51.648Z"
   },
   {
    "duration": 16,
    "start_time": "2021-07-19T09:35:52.221Z"
   },
   {
    "duration": 11,
    "start_time": "2021-07-19T09:35:52.240Z"
   },
   {
    "duration": 390,
    "start_time": "2021-07-19T09:35:52.254Z"
   },
   {
    "duration": 12,
    "start_time": "2021-07-19T09:35:52.647Z"
   },
   {
    "duration": 80,
    "start_time": "2021-07-19T09:35:52.662Z"
   },
   {
    "duration": 106,
    "start_time": "2021-07-19T09:35:52.745Z"
   },
   {
    "duration": 34,
    "start_time": "2021-07-19T09:35:52.853Z"
   },
   {
    "duration": 33,
    "start_time": "2021-07-19T09:35:52.890Z"
   },
   {
    "duration": 6,
    "start_time": "2021-07-19T09:35:52.925Z"
   },
   {
    "duration": 19,
    "start_time": "2021-07-19T09:35:52.934Z"
   },
   {
    "duration": 35,
    "start_time": "2021-07-19T09:35:52.956Z"
   },
   {
    "duration": 737,
    "start_time": "2021-07-19T09:35:52.994Z"
   },
   {
    "duration": 19,
    "start_time": "2021-07-19T09:35:53.733Z"
   },
   {
    "duration": 45,
    "start_time": "2021-07-19T09:35:53.755Z"
   },
   {
    "duration": 21,
    "start_time": "2021-07-19T09:35:53.803Z"
   },
   {
    "duration": 10,
    "start_time": "2021-07-19T09:35:53.827Z"
   },
   {
    "duration": 509,
    "start_time": "2021-07-19T09:35:53.840Z"
   },
   {
    "duration": 478,
    "start_time": "2021-07-19T09:35:54.352Z"
   },
   {
    "duration": 790,
    "start_time": "2021-07-19T09:35:54.833Z"
   },
   {
    "duration": 6046,
    "start_time": "2021-07-19T09:45:59.267Z"
   },
   {
    "duration": 9,
    "start_time": "2021-07-19T09:46:25.209Z"
   },
   {
    "duration": 12,
    "start_time": "2021-07-19T09:46:37.347Z"
   },
   {
    "duration": 9,
    "start_time": "2021-07-19T10:25:13.523Z"
   },
   {
    "duration": 17,
    "start_time": "2021-07-19T10:25:16.236Z"
   },
   {
    "duration": 364,
    "start_time": "2021-07-19T10:27:12.396Z"
   },
   {
    "duration": 903,
    "start_time": "2021-07-19T10:30:05.920Z"
   },
   {
    "duration": 159,
    "start_time": "2021-07-19T10:30:06.825Z"
   },
   {
    "duration": 5,
    "start_time": "2021-07-19T10:30:06.988Z"
   },
   {
    "duration": 52,
    "start_time": "2021-07-19T10:30:06.996Z"
   },
   {
    "duration": 42,
    "start_time": "2021-07-19T10:30:07.050Z"
   },
   {
    "duration": 22,
    "start_time": "2021-07-19T10:30:07.095Z"
   },
   {
    "duration": 40,
    "start_time": "2021-07-19T10:30:07.120Z"
   },
   {
    "duration": 15,
    "start_time": "2021-07-19T10:30:07.165Z"
   },
   {
    "duration": 27,
    "start_time": "2021-07-19T10:30:07.183Z"
   },
   {
    "duration": 21,
    "start_time": "2021-07-19T10:30:07.212Z"
   },
   {
    "duration": 20,
    "start_time": "2021-07-19T10:30:07.235Z"
   },
   {
    "duration": 14,
    "start_time": "2021-07-19T10:30:07.258Z"
   },
   {
    "duration": 38,
    "start_time": "2021-07-19T10:30:07.275Z"
   },
   {
    "duration": 15,
    "start_time": "2021-07-19T10:30:07.315Z"
   },
   {
    "duration": 14,
    "start_time": "2021-07-19T10:30:07.332Z"
   },
   {
    "duration": 38,
    "start_time": "2021-07-19T10:30:07.349Z"
   },
   {
    "duration": 8,
    "start_time": "2021-07-19T10:30:07.390Z"
   },
   {
    "duration": 15,
    "start_time": "2021-07-19T10:30:07.401Z"
   },
   {
    "duration": 27,
    "start_time": "2021-07-19T10:30:07.418Z"
   },
   {
    "duration": 6,
    "start_time": "2021-07-19T10:30:07.448Z"
   },
   {
    "duration": 28,
    "start_time": "2021-07-19T10:30:07.457Z"
   },
   {
    "duration": 27,
    "start_time": "2021-07-19T10:30:07.488Z"
   },
   {
    "duration": 15,
    "start_time": "2021-07-19T10:30:07.521Z"
   },
   {
    "duration": 59,
    "start_time": "2021-07-19T10:30:07.540Z"
   },
   {
    "duration": 16,
    "start_time": "2021-07-19T10:30:07.601Z"
   },
   {
    "duration": 26,
    "start_time": "2021-07-19T10:30:07.620Z"
   },
   {
    "duration": 41,
    "start_time": "2021-07-19T10:30:07.649Z"
   },
   {
    "duration": 5,
    "start_time": "2021-07-19T10:30:07.693Z"
   },
   {
    "duration": 21,
    "start_time": "2021-07-19T10:30:07.701Z"
   },
   {
    "duration": 55,
    "start_time": "2021-07-19T10:30:07.724Z"
   },
   {
    "duration": 46,
    "start_time": "2021-07-19T10:30:07.781Z"
   },
   {
    "duration": 40,
    "start_time": "2021-07-19T10:30:07.831Z"
   },
   {
    "duration": 18,
    "start_time": "2021-07-19T10:30:07.873Z"
   },
   {
    "duration": 37,
    "start_time": "2021-07-19T10:30:07.893Z"
   },
   {
    "duration": 40,
    "start_time": "2021-07-19T10:30:07.933Z"
   },
   {
    "duration": 1014,
    "start_time": "2021-07-19T10:30:07.977Z"
   },
   {
    "duration": 15,
    "start_time": "2021-07-19T10:30:08.993Z"
   },
   {
    "duration": 19,
    "start_time": "2021-07-19T10:30:09.011Z"
   },
   {
    "duration": 36,
    "start_time": "2021-07-19T10:30:09.033Z"
   },
   {
    "duration": 30,
    "start_time": "2021-07-19T10:30:09.086Z"
   },
   {
    "duration": 26,
    "start_time": "2021-07-19T10:30:09.118Z"
   },
   {
    "duration": 33,
    "start_time": "2021-07-19T10:30:09.146Z"
   },
   {
    "duration": 119,
    "start_time": "2021-07-19T10:30:09.186Z"
   },
   {
    "duration": 8,
    "start_time": "2021-07-19T10:30:09.308Z"
   },
   {
    "duration": 27,
    "start_time": "2021-07-19T10:30:09.319Z"
   },
   {
    "duration": 10,
    "start_time": "2021-07-19T10:30:09.349Z"
   },
   {
    "duration": 72,
    "start_time": "2021-07-19T10:30:09.362Z"
   },
   {
    "duration": 53,
    "start_time": "2021-07-19T10:30:09.437Z"
   },
   {
    "duration": 27,
    "start_time": "2021-07-19T10:30:09.493Z"
   },
   {
    "duration": 4226,
    "start_time": "2021-07-19T10:30:09.522Z"
   },
   {
    "duration": 13,
    "start_time": "2021-07-19T10:30:13.751Z"
   },
   {
    "duration": 29,
    "start_time": "2021-07-19T10:30:13.767Z"
   },
   {
    "duration": 21,
    "start_time": "2021-07-19T10:30:13.799Z"
   },
   {
    "duration": 25,
    "start_time": "2021-07-19T10:30:13.823Z"
   },
   {
    "duration": 7,
    "start_time": "2021-07-19T10:30:13.851Z"
   },
   {
    "duration": 13,
    "start_time": "2021-07-19T10:30:13.886Z"
   },
   {
    "duration": 12,
    "start_time": "2021-07-19T10:30:13.902Z"
   },
   {
    "duration": 25,
    "start_time": "2021-07-19T10:30:13.916Z"
   },
   {
    "duration": 58,
    "start_time": "2021-07-19T10:30:13.943Z"
   },
   {
    "duration": 22,
    "start_time": "2021-07-19T10:30:14.003Z"
   },
   {
    "duration": 18,
    "start_time": "2021-07-19T10:30:14.028Z"
   },
   {
    "duration": 37,
    "start_time": "2021-07-19T10:30:14.049Z"
   },
   {
    "duration": 22,
    "start_time": "2021-07-19T10:30:14.088Z"
   },
   {
    "duration": 19,
    "start_time": "2021-07-19T10:30:14.113Z"
   },
   {
    "duration": 35,
    "start_time": "2021-07-19T10:30:14.135Z"
   },
   {
    "duration": 5,
    "start_time": "2021-07-19T10:30:14.172Z"
   },
   {
    "duration": 7,
    "start_time": "2021-07-19T10:30:14.180Z"
   },
   {
    "duration": 5,
    "start_time": "2021-07-19T10:30:14.196Z"
   },
   {
    "duration": 59,
    "start_time": "2021-07-19T10:30:14.205Z"
   },
   {
    "duration": 40,
    "start_time": "2021-07-19T10:30:14.267Z"
   },
   {
    "duration": 8,
    "start_time": "2021-07-19T10:30:14.309Z"
   },
   {
    "duration": 313,
    "start_time": "2021-07-19T10:30:14.319Z"
   },
   {
    "duration": 22,
    "start_time": "2021-07-19T10:30:14.634Z"
   },
   {
    "duration": 4,
    "start_time": "2021-07-19T10:30:14.659Z"
   },
   {
    "duration": 980,
    "start_time": "2021-07-19T10:30:14.686Z"
   },
   {
    "duration": 27,
    "start_time": "2021-07-19T10:30:15.668Z"
   },
   {
    "duration": 16,
    "start_time": "2021-07-19T10:30:15.697Z"
   },
   {
    "duration": 17,
    "start_time": "2021-07-19T10:30:15.716Z"
   },
   {
    "duration": 17,
    "start_time": "2021-07-19T10:30:15.736Z"
   },
   {
    "duration": 30,
    "start_time": "2021-07-19T10:30:15.755Z"
   },
   {
    "duration": 19,
    "start_time": "2021-07-19T10:30:15.788Z"
   },
   {
    "duration": 14,
    "start_time": "2021-07-19T10:30:15.809Z"
   },
   {
    "duration": 26,
    "start_time": "2021-07-19T10:30:15.825Z"
   },
   {
    "duration": 533,
    "start_time": "2021-07-19T10:30:15.854Z"
   },
   {
    "duration": 16,
    "start_time": "2021-07-19T10:30:16.389Z"
   },
   {
    "duration": 17,
    "start_time": "2021-07-19T10:30:16.408Z"
   },
   {
    "duration": 383,
    "start_time": "2021-07-19T10:30:16.428Z"
   },
   {
    "duration": 11,
    "start_time": "2021-07-19T10:30:16.813Z"
   },
   {
    "duration": 85,
    "start_time": "2021-07-19T10:30:16.826Z"
   },
   {
    "duration": 95,
    "start_time": "2021-07-19T10:30:16.913Z"
   },
   {
    "duration": 19,
    "start_time": "2021-07-19T10:30:17.010Z"
   },
   {
    "duration": 55,
    "start_time": "2021-07-19T10:30:17.031Z"
   },
   {
    "duration": 6,
    "start_time": "2021-07-19T10:30:17.088Z"
   },
   {
    "duration": 19,
    "start_time": "2021-07-19T10:30:17.096Z"
   },
   {
    "duration": 19,
    "start_time": "2021-07-19T10:30:17.117Z"
   },
   {
    "duration": 715,
    "start_time": "2021-07-19T10:30:17.138Z"
   },
   {
    "duration": 33,
    "start_time": "2021-07-19T10:30:17.855Z"
   },
   {
    "duration": 27,
    "start_time": "2021-07-19T10:30:17.891Z"
   },
   {
    "duration": 17,
    "start_time": "2021-07-19T10:30:17.921Z"
   },
   {
    "duration": 12,
    "start_time": "2021-07-19T10:30:17.940Z"
   },
   {
    "duration": 552,
    "start_time": "2021-07-19T10:30:17.985Z"
   },
   {
    "duration": 52,
    "start_time": "2021-07-19T10:30:18.489Z"
   },
   {
    "duration": 47,
    "start_time": "2021-07-19T10:30:18.495Z"
   },
   {
    "duration": 44,
    "start_time": "2021-07-19T10:30:18.500Z"
   },
   {
    "duration": 41,
    "start_time": "2021-07-19T10:30:18.505Z"
   },
   {
    "duration": 13,
    "start_time": "2021-07-19T10:30:32.316Z"
   },
   {
    "duration": 6,
    "start_time": "2021-07-19T10:31:31.705Z"
   },
   {
    "duration": 6,
    "start_time": "2021-07-19T10:31:55.768Z"
   },
   {
    "duration": 9,
    "start_time": "2021-07-19T10:31:58.010Z"
   },
   {
    "duration": 6,
    "start_time": "2021-07-19T10:32:01.910Z"
   },
   {
    "duration": 8,
    "start_time": "2021-07-19T10:32:14.850Z"
   },
   {
    "duration": 6,
    "start_time": "2021-07-19T10:32:15.451Z"
   },
   {
    "duration": 6,
    "start_time": "2021-07-19T10:32:16.285Z"
   },
   {
    "duration": 55,
    "start_time": "2021-07-19T10:32:32.930Z"
   },
   {
    "duration": 19,
    "start_time": "2021-07-19T10:33:26.676Z"
   },
   {
    "duration": 9,
    "start_time": "2021-07-19T10:33:40.107Z"
   },
   {
    "duration": 51,
    "start_time": "2021-07-19T10:33:47.980Z"
   },
   {
    "duration": 10,
    "start_time": "2021-07-19T10:34:01.144Z"
   },
   {
    "duration": 52,
    "start_time": "2021-07-19T10:34:01.906Z"
   },
   {
    "duration": 314,
    "start_time": "2021-07-19T10:34:12.490Z"
   },
   {
    "duration": 4,
    "start_time": "2021-07-19T10:34:13.095Z"
   },
   {
    "duration": 11,
    "start_time": "2021-07-19T10:34:19.677Z"
   },
   {
    "duration": 56,
    "start_time": "2021-07-19T10:34:20.299Z"
   },
   {
    "duration": 6,
    "start_time": "2021-07-19T10:34:25.064Z"
   },
   {
    "duration": 5,
    "start_time": "2021-07-19T10:34:26.305Z"
   },
   {
    "duration": 20,
    "start_time": "2021-07-19T10:34:31.541Z"
   },
   {
    "duration": 5,
    "start_time": "2021-07-19T10:34:43.185Z"
   },
   {
    "duration": 19,
    "start_time": "2021-07-19T10:34:43.777Z"
   },
   {
    "duration": 319,
    "start_time": "2021-07-19T10:38:50.942Z"
   },
   {
    "duration": 298,
    "start_time": "2021-07-19T11:06:30.348Z"
   },
   {
    "duration": 12,
    "start_time": "2021-07-19T11:06:30.923Z"
   },
   {
    "duration": 285,
    "start_time": "2021-07-19T11:07:15.856Z"
   },
   {
    "duration": 384,
    "start_time": "2021-07-19T11:16:50.110Z"
   },
   {
    "duration": 318,
    "start_time": "2021-07-19T11:18:13.140Z"
   },
   {
    "duration": 322,
    "start_time": "2021-07-19T11:18:29.121Z"
   },
   {
    "duration": 311,
    "start_time": "2021-07-19T11:18:33.216Z"
   },
   {
    "duration": 6,
    "start_time": "2021-07-19T11:18:38.493Z"
   },
   {
    "duration": 351,
    "start_time": "2021-07-19T11:18:54.056Z"
   },
   {
    "duration": 12,
    "start_time": "2021-07-19T11:19:08.865Z"
   },
   {
    "duration": 6,
    "start_time": "2021-07-19T11:19:47.889Z"
   },
   {
    "duration": 5,
    "start_time": "2021-07-19T11:19:48.391Z"
   },
   {
    "duration": 14,
    "start_time": "2021-07-19T11:19:48.898Z"
   },
   {
    "duration": 27,
    "start_time": "2021-07-19T11:19:52.821Z"
   },
   {
    "duration": 27,
    "start_time": "2021-07-19T11:20:46.283Z"
   },
   {
    "duration": 11,
    "start_time": "2021-07-19T11:29:27.753Z"
   },
   {
    "duration": 334,
    "start_time": "2021-07-19T11:29:28.308Z"
   },
   {
    "duration": 11,
    "start_time": "2021-07-19T11:29:37.662Z"
   },
   {
    "duration": 297,
    "start_time": "2021-07-19T11:30:52.505Z"
   },
   {
    "duration": 319,
    "start_time": "2021-07-19T11:31:39.166Z"
   },
   {
    "duration": 370,
    "start_time": "2021-07-19T11:31:44.518Z"
   },
   {
    "duration": 28,
    "start_time": "2021-07-19T11:32:59.811Z"
   },
   {
    "duration": 30,
    "start_time": "2021-07-19T11:33:29.191Z"
   },
   {
    "duration": 892,
    "start_time": "2021-07-19T12:54:52.431Z"
   },
   {
    "duration": 172,
    "start_time": "2021-07-19T12:54:53.326Z"
   },
   {
    "duration": 5,
    "start_time": "2021-07-19T12:54:53.501Z"
   },
   {
    "duration": 28,
    "start_time": "2021-07-19T12:54:53.509Z"
   },
   {
    "duration": 23,
    "start_time": "2021-07-19T12:54:53.539Z"
   },
   {
    "duration": 22,
    "start_time": "2021-07-19T12:54:53.564Z"
   },
   {
    "duration": 28,
    "start_time": "2021-07-19T12:54:53.589Z"
   },
   {
    "duration": 15,
    "start_time": "2021-07-19T12:54:53.621Z"
   },
   {
    "duration": 61,
    "start_time": "2021-07-19T12:54:53.640Z"
   },
   {
    "duration": 14,
    "start_time": "2021-07-19T12:54:53.705Z"
   },
   {
    "duration": 4,
    "start_time": "2021-07-19T12:54:53.722Z"
   },
   {
    "duration": 8,
    "start_time": "2021-07-19T12:54:53.729Z"
   },
   {
    "duration": 78,
    "start_time": "2021-07-19T12:54:53.740Z"
   },
   {
    "duration": 15,
    "start_time": "2021-07-19T12:54:53.821Z"
   },
   {
    "duration": 8,
    "start_time": "2021-07-19T12:54:53.839Z"
   },
   {
    "duration": 36,
    "start_time": "2021-07-19T12:54:53.850Z"
   },
   {
    "duration": 12,
    "start_time": "2021-07-19T12:54:53.888Z"
   },
   {
    "duration": 5,
    "start_time": "2021-07-19T12:54:53.903Z"
   },
   {
    "duration": 24,
    "start_time": "2021-07-19T12:54:53.911Z"
   },
   {
    "duration": 8,
    "start_time": "2021-07-19T12:54:53.939Z"
   },
   {
    "duration": 8,
    "start_time": "2021-07-19T12:54:53.985Z"
   },
   {
    "duration": 40,
    "start_time": "2021-07-19T12:54:53.996Z"
   },
   {
    "duration": 7,
    "start_time": "2021-07-19T12:54:54.047Z"
   },
   {
    "duration": 36,
    "start_time": "2021-07-19T12:54:54.088Z"
   },
   {
    "duration": 16,
    "start_time": "2021-07-19T12:54:54.126Z"
   },
   {
    "duration": 60,
    "start_time": "2021-07-19T12:54:54.144Z"
   },
   {
    "duration": 11,
    "start_time": "2021-07-19T12:54:54.207Z"
   },
   {
    "duration": 5,
    "start_time": "2021-07-19T12:54:54.221Z"
   },
   {
    "duration": 8,
    "start_time": "2021-07-19T12:54:54.228Z"
   },
   {
    "duration": 60,
    "start_time": "2021-07-19T12:54:54.238Z"
   },
   {
    "duration": 35,
    "start_time": "2021-07-19T12:54:54.300Z"
   },
   {
    "duration": 27,
    "start_time": "2021-07-19T12:54:54.337Z"
   },
   {
    "duration": 18,
    "start_time": "2021-07-19T12:54:54.386Z"
   },
   {
    "duration": 23,
    "start_time": "2021-07-19T12:54:54.407Z"
   },
   {
    "duration": 53,
    "start_time": "2021-07-19T12:54:54.433Z"
   },
   {
    "duration": 1036,
    "start_time": "2021-07-19T12:54:54.489Z"
   },
   {
    "duration": 14,
    "start_time": "2021-07-19T12:54:55.528Z"
   },
   {
    "duration": 25,
    "start_time": "2021-07-19T12:54:55.544Z"
   },
   {
    "duration": 38,
    "start_time": "2021-07-19T12:54:55.571Z"
   },
   {
    "duration": 36,
    "start_time": "2021-07-19T12:54:55.612Z"
   },
   {
    "duration": 14,
    "start_time": "2021-07-19T12:54:55.651Z"
   },
   {
    "duration": 34,
    "start_time": "2021-07-19T12:54:55.668Z"
   },
   {
    "duration": 109,
    "start_time": "2021-07-19T12:54:55.705Z"
   },
   {
    "duration": 7,
    "start_time": "2021-07-19T12:54:55.817Z"
   },
   {
    "duration": 15,
    "start_time": "2021-07-19T12:54:55.826Z"
   },
   {
    "duration": 5,
    "start_time": "2021-07-19T12:54:55.844Z"
   },
   {
    "duration": 48,
    "start_time": "2021-07-19T12:54:55.885Z"
   },
   {
    "duration": 25,
    "start_time": "2021-07-19T12:54:55.935Z"
   },
   {
    "duration": 23,
    "start_time": "2021-07-19T12:54:55.985Z"
   },
   {
    "duration": 4130,
    "start_time": "2021-07-19T12:54:56.011Z"
   },
   {
    "duration": 14,
    "start_time": "2021-07-19T12:55:00.144Z"
   },
   {
    "duration": 36,
    "start_time": "2021-07-19T12:55:00.160Z"
   },
   {
    "duration": 19,
    "start_time": "2021-07-19T12:55:00.199Z"
   },
   {
    "duration": 15,
    "start_time": "2021-07-19T12:55:00.221Z"
   },
   {
    "duration": 13,
    "start_time": "2021-07-19T12:55:00.238Z"
   },
   {
    "duration": 46,
    "start_time": "2021-07-19T12:55:00.254Z"
   },
   {
    "duration": 12,
    "start_time": "2021-07-19T12:55:00.303Z"
   },
   {
    "duration": 17,
    "start_time": "2021-07-19T12:55:00.317Z"
   },
   {
    "duration": 50,
    "start_time": "2021-07-19T12:55:00.337Z"
   },
   {
    "duration": 17,
    "start_time": "2021-07-19T12:55:00.390Z"
   },
   {
    "duration": 30,
    "start_time": "2021-07-19T12:55:00.410Z"
   },
   {
    "duration": 14,
    "start_time": "2021-07-19T12:55:00.443Z"
   },
   {
    "duration": 28,
    "start_time": "2021-07-19T12:55:00.459Z"
   },
   {
    "duration": 20,
    "start_time": "2021-07-19T12:55:00.490Z"
   },
   {
    "duration": 35,
    "start_time": "2021-07-19T12:55:00.513Z"
   },
   {
    "duration": 13,
    "start_time": "2021-07-19T12:55:00.551Z"
   },
   {
    "duration": 32,
    "start_time": "2021-07-19T12:55:00.567Z"
   },
   {
    "duration": 19,
    "start_time": "2021-07-19T12:55:00.609Z"
   },
   {
    "duration": 64,
    "start_time": "2021-07-19T12:55:00.632Z"
   },
   {
    "duration": 27,
    "start_time": "2021-07-19T12:55:00.698Z"
   },
   {
    "duration": 17,
    "start_time": "2021-07-19T12:55:00.727Z"
   },
   {
    "duration": 297,
    "start_time": "2021-07-19T12:55:00.746Z"
   },
   {
    "duration": 40,
    "start_time": "2021-07-19T12:55:01.047Z"
   },
   {
    "duration": 5,
    "start_time": "2021-07-19T12:55:01.090Z"
   },
   {
    "duration": 1047,
    "start_time": "2021-07-19T12:55:01.099Z"
   },
   {
    "duration": 19,
    "start_time": "2021-07-19T12:55:02.150Z"
   },
   {
    "duration": 24,
    "start_time": "2021-07-19T12:55:02.186Z"
   },
   {
    "duration": 26,
    "start_time": "2021-07-19T12:55:02.212Z"
   },
   {
    "duration": 50,
    "start_time": "2021-07-19T12:55:02.240Z"
   },
   {
    "duration": 18,
    "start_time": "2021-07-19T12:55:02.293Z"
   },
   {
    "duration": 17,
    "start_time": "2021-07-19T12:55:02.313Z"
   },
   {
    "duration": 12,
    "start_time": "2021-07-19T12:55:02.333Z"
   },
   {
    "duration": 29,
    "start_time": "2021-07-19T12:55:02.348Z"
   },
   {
    "duration": 526,
    "start_time": "2021-07-19T12:55:02.380Z"
   },
   {
    "duration": 18,
    "start_time": "2021-07-19T12:55:02.909Z"
   },
   {
    "duration": 17,
    "start_time": "2021-07-19T12:55:02.930Z"
   },
   {
    "duration": 384,
    "start_time": "2021-07-19T12:55:02.950Z"
   },
   {
    "duration": 12,
    "start_time": "2021-07-19T12:55:03.337Z"
   },
   {
    "duration": 83,
    "start_time": "2021-07-19T12:55:03.353Z"
   },
   {
    "duration": 96,
    "start_time": "2021-07-19T12:55:03.439Z"
   },
   {
    "duration": 20,
    "start_time": "2021-07-19T12:55:03.539Z"
   },
   {
    "duration": 53,
    "start_time": "2021-07-19T12:55:03.562Z"
   },
   {
    "duration": 6,
    "start_time": "2021-07-19T12:55:03.617Z"
   },
   {
    "duration": 37,
    "start_time": "2021-07-19T12:55:03.626Z"
   },
   {
    "duration": 38,
    "start_time": "2021-07-19T12:55:03.666Z"
   },
   {
    "duration": 706,
    "start_time": "2021-07-19T12:55:03.707Z"
   },
   {
    "duration": 16,
    "start_time": "2021-07-19T12:55:04.417Z"
   },
   {
    "duration": 32,
    "start_time": "2021-07-19T12:55:04.436Z"
   },
   {
    "duration": 11,
    "start_time": "2021-07-19T12:55:04.486Z"
   },
   {
    "duration": 35,
    "start_time": "2021-07-19T12:55:04.499Z"
   },
   {
    "duration": 20,
    "start_time": "2021-07-19T12:55:04.537Z"
   },
   {
    "duration": 50,
    "start_time": "2021-07-19T12:55:04.560Z"
   },
   {
    "duration": 29,
    "start_time": "2021-07-19T12:55:04.613Z"
   },
   {
    "duration": 11,
    "start_time": "2021-07-19T12:55:04.644Z"
   },
   {
    "duration": 916,
    "start_time": "2021-07-19T12:57:56.588Z"
   },
   {
    "duration": 140,
    "start_time": "2021-07-19T12:57:57.507Z"
   },
   {
    "duration": 6,
    "start_time": "2021-07-19T12:57:57.650Z"
   },
   {
    "duration": 33,
    "start_time": "2021-07-19T12:57:57.658Z"
   },
   {
    "duration": 24,
    "start_time": "2021-07-19T12:57:57.694Z"
   },
   {
    "duration": 6,
    "start_time": "2021-07-19T12:57:57.720Z"
   },
   {
    "duration": 26,
    "start_time": "2021-07-19T12:57:57.728Z"
   },
   {
    "duration": 16,
    "start_time": "2021-07-19T12:57:57.786Z"
   },
   {
    "duration": 25,
    "start_time": "2021-07-19T12:57:57.805Z"
   },
   {
    "duration": 13,
    "start_time": "2021-07-19T12:57:57.832Z"
   },
   {
    "duration": 6,
    "start_time": "2021-07-19T12:57:57.847Z"
   },
   {
    "duration": 33,
    "start_time": "2021-07-19T12:57:57.855Z"
   },
   {
    "duration": 42,
    "start_time": "2021-07-19T12:57:57.891Z"
   },
   {
    "duration": 18,
    "start_time": "2021-07-19T12:57:57.935Z"
   },
   {
    "duration": 37,
    "start_time": "2021-07-19T12:57:57.956Z"
   },
   {
    "duration": 14,
    "start_time": "2021-07-19T12:57:57.996Z"
   },
   {
    "duration": 9,
    "start_time": "2021-07-19T12:57:58.013Z"
   },
   {
    "duration": 6,
    "start_time": "2021-07-19T12:57:58.025Z"
   },
   {
    "duration": 65,
    "start_time": "2021-07-19T12:57:58.034Z"
   },
   {
    "duration": 8,
    "start_time": "2021-07-19T12:57:58.102Z"
   },
   {
    "duration": 7,
    "start_time": "2021-07-19T12:57:58.113Z"
   },
   {
    "duration": 64,
    "start_time": "2021-07-19T12:57:58.123Z"
   },
   {
    "duration": 5,
    "start_time": "2021-07-19T12:57:58.193Z"
   },
   {
    "duration": 41,
    "start_time": "2021-07-19T12:57:58.202Z"
   },
   {
    "duration": 41,
    "start_time": "2021-07-19T12:57:58.245Z"
   },
   {
    "duration": 27,
    "start_time": "2021-07-19T12:57:58.289Z"
   },
   {
    "duration": 13,
    "start_time": "2021-07-19T12:57:58.318Z"
   },
   {
    "duration": 6,
    "start_time": "2021-07-19T12:57:58.333Z"
   },
   {
    "duration": 9,
    "start_time": "2021-07-19T12:57:58.341Z"
   },
   {
    "duration": 28,
    "start_time": "2021-07-19T12:57:58.385Z"
   },
   {
    "duration": 32,
    "start_time": "2021-07-19T12:57:58.415Z"
   },
   {
    "duration": 49,
    "start_time": "2021-07-19T12:57:58.449Z"
   },
   {
    "duration": 18,
    "start_time": "2021-07-19T12:57:58.500Z"
   },
   {
    "duration": 19,
    "start_time": "2021-07-19T12:57:58.520Z"
   },
   {
    "duration": 55,
    "start_time": "2021-07-19T12:57:58.542Z"
   },
   {
    "duration": 975,
    "start_time": "2021-07-19T12:57:58.600Z"
   },
   {
    "duration": 19,
    "start_time": "2021-07-19T12:57:59.578Z"
   },
   {
    "duration": 9,
    "start_time": "2021-07-19T12:57:59.600Z"
   },
   {
    "duration": 27,
    "start_time": "2021-07-19T12:57:59.612Z"
   },
   {
    "duration": 60,
    "start_time": "2021-07-19T12:57:59.642Z"
   },
   {
    "duration": 27,
    "start_time": "2021-07-19T12:57:59.705Z"
   },
   {
    "duration": 29,
    "start_time": "2021-07-19T12:57:59.735Z"
   },
   {
    "duration": 119,
    "start_time": "2021-07-19T12:57:59.767Z"
   },
   {
    "duration": 8,
    "start_time": "2021-07-19T12:57:59.888Z"
   },
   {
    "duration": 19,
    "start_time": "2021-07-19T12:57:59.898Z"
   },
   {
    "duration": 8,
    "start_time": "2021-07-19T12:57:59.919Z"
   },
   {
    "duration": 60,
    "start_time": "2021-07-19T12:57:59.929Z"
   },
   {
    "duration": 26,
    "start_time": "2021-07-19T12:57:59.992Z"
   },
   {
    "duration": 44,
    "start_time": "2021-07-19T12:58:00.021Z"
   },
   {
    "duration": 4248,
    "start_time": "2021-07-19T12:58:00.068Z"
   },
   {
    "duration": 14,
    "start_time": "2021-07-19T12:58:04.318Z"
   },
   {
    "duration": 16,
    "start_time": "2021-07-19T12:58:04.334Z"
   },
   {
    "duration": 45,
    "start_time": "2021-07-19T12:58:04.352Z"
   },
   {
    "duration": 20,
    "start_time": "2021-07-19T12:58:04.400Z"
   },
   {
    "duration": 8,
    "start_time": "2021-07-19T12:58:04.422Z"
   },
   {
    "duration": 21,
    "start_time": "2021-07-19T12:58:04.433Z"
   },
   {
    "duration": 30,
    "start_time": "2021-07-19T12:58:04.457Z"
   },
   {
    "duration": 11,
    "start_time": "2021-07-19T12:58:04.490Z"
   },
   {
    "duration": 42,
    "start_time": "2021-07-19T12:58:04.504Z"
   },
   {
    "duration": 42,
    "start_time": "2021-07-19T12:58:04.548Z"
   },
   {
    "duration": 25,
    "start_time": "2021-07-19T12:58:04.592Z"
   },
   {
    "duration": 8,
    "start_time": "2021-07-19T12:58:04.620Z"
   },
   {
    "duration": 15,
    "start_time": "2021-07-19T12:58:04.630Z"
   },
   {
    "duration": 18,
    "start_time": "2021-07-19T12:58:04.648Z"
   },
   {
    "duration": 36,
    "start_time": "2021-07-19T12:58:04.668Z"
   },
   {
    "duration": 6,
    "start_time": "2021-07-19T12:58:04.706Z"
   },
   {
    "duration": 14,
    "start_time": "2021-07-19T12:58:04.715Z"
   },
   {
    "duration": 9,
    "start_time": "2021-07-19T12:58:04.737Z"
   },
   {
    "duration": 82,
    "start_time": "2021-07-19T12:58:04.749Z"
   },
   {
    "duration": 28,
    "start_time": "2021-07-19T12:58:04.833Z"
   },
   {
    "duration": 24,
    "start_time": "2021-07-19T12:58:04.864Z"
   },
   {
    "duration": 300,
    "start_time": "2021-07-19T12:58:04.891Z"
   },
   {
    "duration": 26,
    "start_time": "2021-07-19T12:58:05.194Z"
   },
   {
    "duration": 5,
    "start_time": "2021-07-19T12:58:05.223Z"
   },
   {
    "duration": 1024,
    "start_time": "2021-07-19T12:58:05.232Z"
   },
   {
    "duration": 34,
    "start_time": "2021-07-19T12:58:06.259Z"
   },
   {
    "duration": 17,
    "start_time": "2021-07-19T12:58:06.295Z"
   },
   {
    "duration": 6,
    "start_time": "2021-07-19T12:58:06.315Z"
   },
   {
    "duration": 15,
    "start_time": "2021-07-19T12:58:06.324Z"
   },
   {
    "duration": 8,
    "start_time": "2021-07-19T12:58:06.342Z"
   },
   {
    "duration": 4,
    "start_time": "2021-07-19T12:58:06.386Z"
   },
   {
    "duration": 9,
    "start_time": "2021-07-19T12:58:06.393Z"
   },
   {
    "duration": 19,
    "start_time": "2021-07-19T12:58:06.405Z"
   },
   {
    "duration": 539,
    "start_time": "2021-07-19T12:58:06.427Z"
   },
   {
    "duration": 26,
    "start_time": "2021-07-19T12:58:06.968Z"
   },
   {
    "duration": 10,
    "start_time": "2021-07-19T12:58:06.996Z"
   },
   {
    "duration": 383,
    "start_time": "2021-07-19T12:58:07.008Z"
   },
   {
    "duration": 12,
    "start_time": "2021-07-19T12:58:07.393Z"
   },
   {
    "duration": 82,
    "start_time": "2021-07-19T12:58:07.408Z"
   },
   {
    "duration": 96,
    "start_time": "2021-07-19T12:58:07.492Z"
   },
   {
    "duration": 19,
    "start_time": "2021-07-19T12:58:07.591Z"
   },
   {
    "duration": 31,
    "start_time": "2021-07-19T12:58:07.612Z"
   },
   {
    "duration": 6,
    "start_time": "2021-07-19T12:58:07.646Z"
   },
   {
    "duration": 11,
    "start_time": "2021-07-19T12:58:07.686Z"
   },
   {
    "duration": 12,
    "start_time": "2021-07-19T12:58:07.700Z"
   },
   {
    "duration": 723,
    "start_time": "2021-07-19T12:58:07.715Z"
   },
   {
    "duration": 18,
    "start_time": "2021-07-19T12:58:08.440Z"
   },
   {
    "duration": 37,
    "start_time": "2021-07-19T12:58:08.460Z"
   },
   {
    "duration": 16,
    "start_time": "2021-07-19T12:58:08.500Z"
   },
   {
    "duration": 9,
    "start_time": "2021-07-19T12:58:08.518Z"
   },
   {
    "duration": 16,
    "start_time": "2021-07-19T12:58:08.529Z"
   },
   {
    "duration": 53,
    "start_time": "2021-07-19T12:58:08.548Z"
   },
   {
    "duration": 30,
    "start_time": "2021-07-19T12:58:08.604Z"
   },
   {
    "duration": 11,
    "start_time": "2021-07-19T12:58:08.637Z"
   },
   {
    "duration": 29,
    "start_time": "2021-07-19T13:00:08.757Z"
   },
   {
    "duration": 11,
    "start_time": "2021-07-19T13:02:54.684Z"
   },
   {
    "duration": 54,
    "start_time": "2021-07-19T13:05:00.345Z"
   },
   {
    "duration": 25,
    "start_time": "2021-07-19T13:05:59.425Z"
   },
   {
    "duration": 62,
    "start_time": "2021-07-19T13:06:18.275Z"
   },
   {
    "duration": 62,
    "start_time": "2021-07-19T13:07:12.049Z"
   },
   {
    "duration": 29,
    "start_time": "2021-07-19T13:08:21.741Z"
   },
   {
    "duration": 25,
    "start_time": "2021-07-19T13:08:34.213Z"
   },
   {
    "duration": 11,
    "start_time": "2021-07-19T13:10:34.437Z"
   },
   {
    "duration": 11,
    "start_time": "2021-07-19T13:10:42.555Z"
   },
   {
    "duration": 926,
    "start_time": "2021-07-19T14:11:20.128Z"
   },
   {
    "duration": 149,
    "start_time": "2021-07-19T14:11:21.057Z"
   },
   {
    "duration": 5,
    "start_time": "2021-07-19T14:11:21.209Z"
   },
   {
    "duration": 43,
    "start_time": "2021-07-19T14:11:21.217Z"
   },
   {
    "duration": 36,
    "start_time": "2021-07-19T14:11:21.262Z"
   },
   {
    "duration": 12,
    "start_time": "2021-07-19T14:11:21.300Z"
   },
   {
    "duration": 43,
    "start_time": "2021-07-19T14:11:21.314Z"
   },
   {
    "duration": 14,
    "start_time": "2021-07-19T14:11:21.361Z"
   },
   {
    "duration": 32,
    "start_time": "2021-07-19T14:11:21.378Z"
   },
   {
    "duration": 17,
    "start_time": "2021-07-19T14:11:21.412Z"
   },
   {
    "duration": 26,
    "start_time": "2021-07-19T14:11:21.431Z"
   },
   {
    "duration": 18,
    "start_time": "2021-07-19T14:11:21.460Z"
   },
   {
    "duration": 49,
    "start_time": "2021-07-19T14:11:21.481Z"
   },
   {
    "duration": 15,
    "start_time": "2021-07-19T14:11:21.532Z"
   },
   {
    "duration": 16,
    "start_time": "2021-07-19T14:11:21.550Z"
   },
   {
    "duration": 25,
    "start_time": "2021-07-19T14:11:21.568Z"
   },
   {
    "duration": 21,
    "start_time": "2021-07-19T14:11:21.595Z"
   },
   {
    "duration": 15,
    "start_time": "2021-07-19T14:11:21.618Z"
   },
   {
    "duration": 40,
    "start_time": "2021-07-19T14:11:21.635Z"
   },
   {
    "duration": 7,
    "start_time": "2021-07-19T14:11:21.677Z"
   },
   {
    "duration": 21,
    "start_time": "2021-07-19T14:11:21.686Z"
   },
   {
    "duration": 49,
    "start_time": "2021-07-19T14:11:21.709Z"
   },
   {
    "duration": 8,
    "start_time": "2021-07-19T14:11:21.764Z"
   },
   {
    "duration": 58,
    "start_time": "2021-07-19T14:11:21.775Z"
   },
   {
    "duration": 21,
    "start_time": "2021-07-19T14:11:21.835Z"
   },
   {
    "duration": 28,
    "start_time": "2021-07-19T14:11:21.859Z"
   },
   {
    "duration": 8,
    "start_time": "2021-07-19T14:11:21.890Z"
   },
   {
    "duration": 21,
    "start_time": "2021-07-19T14:11:21.900Z"
   },
   {
    "duration": 33,
    "start_time": "2021-07-19T14:11:21.923Z"
   },
   {
    "duration": 40,
    "start_time": "2021-07-19T14:11:21.959Z"
   },
   {
    "duration": 48,
    "start_time": "2021-07-19T14:11:22.002Z"
   },
   {
    "duration": 49,
    "start_time": "2021-07-19T14:11:22.053Z"
   },
   {
    "duration": 17,
    "start_time": "2021-07-19T14:11:22.104Z"
   },
   {
    "duration": 36,
    "start_time": "2021-07-19T14:11:22.123Z"
   },
   {
    "duration": 38,
    "start_time": "2021-07-19T14:11:22.162Z"
   },
   {
    "duration": 996,
    "start_time": "2021-07-19T14:11:22.203Z"
   },
   {
    "duration": 15,
    "start_time": "2021-07-19T14:11:23.202Z"
   },
   {
    "duration": 16,
    "start_time": "2021-07-19T14:11:23.220Z"
   },
   {
    "duration": 41,
    "start_time": "2021-07-19T14:11:23.238Z"
   },
   {
    "duration": 45,
    "start_time": "2021-07-19T14:11:23.281Z"
   },
   {
    "duration": 25,
    "start_time": "2021-07-19T14:11:23.329Z"
   },
   {
    "duration": 40,
    "start_time": "2021-07-19T14:11:23.356Z"
   },
   {
    "duration": 88,
    "start_time": "2021-07-19T14:11:23.399Z"
   },
   {
    "duration": 7,
    "start_time": "2021-07-19T14:11:23.490Z"
   },
   {
    "duration": 28,
    "start_time": "2021-07-19T14:11:23.499Z"
   },
   {
    "duration": 24,
    "start_time": "2021-07-19T14:11:23.529Z"
   },
   {
    "duration": 67,
    "start_time": "2021-07-19T14:11:23.556Z"
   },
   {
    "duration": 29,
    "start_time": "2021-07-19T14:11:23.625Z"
   },
   {
    "duration": 46,
    "start_time": "2021-07-19T14:11:23.656Z"
   },
   {
    "duration": 4194,
    "start_time": "2021-07-19T14:11:23.705Z"
   },
   {
    "duration": 16,
    "start_time": "2021-07-19T14:11:27.902Z"
   },
   {
    "duration": 40,
    "start_time": "2021-07-19T14:11:27.920Z"
   },
   {
    "duration": 19,
    "start_time": "2021-07-19T14:11:27.963Z"
   },
   {
    "duration": 23,
    "start_time": "2021-07-19T14:11:27.985Z"
   },
   {
    "duration": 6,
    "start_time": "2021-07-19T14:11:28.011Z"
   },
   {
    "duration": 41,
    "start_time": "2021-07-19T14:11:28.019Z"
   },
   {
    "duration": 23,
    "start_time": "2021-07-19T14:11:28.063Z"
   },
   {
    "duration": 32,
    "start_time": "2021-07-19T14:11:28.089Z"
   },
   {
    "duration": 49,
    "start_time": "2021-07-19T14:11:28.123Z"
   },
   {
    "duration": 17,
    "start_time": "2021-07-19T14:11:28.174Z"
   },
   {
    "duration": 35,
    "start_time": "2021-07-19T14:11:28.194Z"
   },
   {
    "duration": 22,
    "start_time": "2021-07-19T14:11:28.232Z"
   },
   {
    "duration": 17,
    "start_time": "2021-07-19T14:11:28.256Z"
   },
   {
    "duration": 21,
    "start_time": "2021-07-19T14:11:28.275Z"
   },
   {
    "duration": 37,
    "start_time": "2021-07-19T14:11:28.298Z"
   },
   {
    "duration": 15,
    "start_time": "2021-07-19T14:11:28.337Z"
   },
   {
    "duration": 21,
    "start_time": "2021-07-19T14:11:28.354Z"
   },
   {
    "duration": 17,
    "start_time": "2021-07-19T14:11:28.384Z"
   },
   {
    "duration": 82,
    "start_time": "2021-07-19T14:11:28.405Z"
   },
   {
    "duration": 28,
    "start_time": "2021-07-19T14:11:28.490Z"
   },
   {
    "duration": 11,
    "start_time": "2021-07-19T14:11:28.520Z"
   },
   {
    "duration": 312,
    "start_time": "2021-07-19T14:11:28.534Z"
   },
   {
    "duration": 23,
    "start_time": "2021-07-19T14:11:28.854Z"
   },
   {
    "duration": 7,
    "start_time": "2021-07-19T14:11:28.879Z"
   },
   {
    "duration": 1043,
    "start_time": "2021-07-19T14:11:28.889Z"
   },
   {
    "duration": 26,
    "start_time": "2021-07-19T14:11:29.934Z"
   },
   {
    "duration": 19,
    "start_time": "2021-07-19T14:11:29.963Z"
   },
   {
    "duration": 24,
    "start_time": "2021-07-19T14:11:29.985Z"
   },
   {
    "duration": 29,
    "start_time": "2021-07-19T14:11:30.011Z"
   },
   {
    "duration": 25,
    "start_time": "2021-07-19T14:11:30.043Z"
   },
   {
    "duration": 25,
    "start_time": "2021-07-19T14:11:30.070Z"
   },
   {
    "duration": 22,
    "start_time": "2021-07-19T14:11:30.097Z"
   },
   {
    "duration": 35,
    "start_time": "2021-07-19T14:11:30.122Z"
   },
   {
    "duration": 546,
    "start_time": "2021-07-19T14:11:30.160Z"
   },
   {
    "duration": 17,
    "start_time": "2021-07-19T14:11:30.708Z"
   },
   {
    "duration": 31,
    "start_time": "2021-07-19T14:11:30.727Z"
   },
   {
    "duration": 381,
    "start_time": "2021-07-19T14:11:30.760Z"
   },
   {
    "duration": 20,
    "start_time": "2021-07-19T14:11:31.143Z"
   },
   {
    "duration": 75,
    "start_time": "2021-07-19T14:11:31.166Z"
   },
   {
    "duration": 113,
    "start_time": "2021-07-19T14:11:31.243Z"
   },
   {
    "duration": 20,
    "start_time": "2021-07-19T14:11:31.358Z"
   },
   {
    "duration": 29,
    "start_time": "2021-07-19T14:11:31.381Z"
   },
   {
    "duration": 5,
    "start_time": "2021-07-19T14:11:31.412Z"
   },
   {
    "duration": 44,
    "start_time": "2021-07-19T14:11:31.419Z"
   },
   {
    "duration": 14,
    "start_time": "2021-07-19T14:11:31.465Z"
   },
   {
    "duration": 712,
    "start_time": "2021-07-19T14:11:31.482Z"
   },
   {
    "duration": 20,
    "start_time": "2021-07-19T14:11:32.196Z"
   },
   {
    "duration": 42,
    "start_time": "2021-07-19T14:11:32.218Z"
   },
   {
    "duration": 10,
    "start_time": "2021-07-19T14:11:32.262Z"
   },
   {
    "duration": 8,
    "start_time": "2021-07-19T14:11:32.274Z"
   },
   {
    "duration": 13,
    "start_time": "2021-07-19T14:11:32.284Z"
   },
   {
    "duration": 57,
    "start_time": "2021-07-19T14:11:32.299Z"
   },
   {
    "duration": 30,
    "start_time": "2021-07-19T14:11:32.358Z"
   },
   {
    "duration": 24,
    "start_time": "2021-07-19T14:11:32.391Z"
   },
   {
    "duration": 46,
    "start_time": "2021-07-19T14:11:32.417Z"
   },
   {
    "duration": 13,
    "start_time": "2021-07-19T14:11:32.465Z"
   },
   {
    "duration": 851,
    "start_time": "2021-07-20T06:19:52.937Z"
   },
   {
    "duration": 162,
    "start_time": "2021-07-20T06:19:53.791Z"
   },
   {
    "duration": 5,
    "start_time": "2021-07-20T06:19:53.956Z"
   },
   {
    "duration": 33,
    "start_time": "2021-07-20T06:19:53.964Z"
   },
   {
    "duration": 20,
    "start_time": "2021-07-20T06:19:53.999Z"
   },
   {
    "duration": 5,
    "start_time": "2021-07-20T06:19:54.022Z"
   },
   {
    "duration": 54,
    "start_time": "2021-07-20T06:19:54.030Z"
   },
   {
    "duration": 13,
    "start_time": "2021-07-20T06:19:54.088Z"
   },
   {
    "duration": 24,
    "start_time": "2021-07-20T06:19:54.104Z"
   },
   {
    "duration": 12,
    "start_time": "2021-07-20T06:19:54.130Z"
   },
   {
    "duration": 7,
    "start_time": "2021-07-20T06:19:54.144Z"
   },
   {
    "duration": 11,
    "start_time": "2021-07-20T06:19:54.183Z"
   },
   {
    "duration": 34,
    "start_time": "2021-07-20T06:19:54.197Z"
   },
   {
    "duration": 13,
    "start_time": "2021-07-20T06:19:54.233Z"
   },
   {
    "duration": 8,
    "start_time": "2021-07-20T06:19:54.249Z"
   },
   {
    "duration": 11,
    "start_time": "2021-07-20T06:19:54.283Z"
   },
   {
    "duration": 7,
    "start_time": "2021-07-20T06:19:54.296Z"
   },
   {
    "duration": 7,
    "start_time": "2021-07-20T06:19:54.305Z"
   },
   {
    "duration": 18,
    "start_time": "2021-07-20T06:19:54.314Z"
   },
   {
    "duration": 6,
    "start_time": "2021-07-20T06:19:54.334Z"
   },
   {
    "duration": 43,
    "start_time": "2021-07-20T06:19:54.342Z"
   },
   {
    "duration": 28,
    "start_time": "2021-07-20T06:19:54.387Z"
   },
   {
    "duration": 5,
    "start_time": "2021-07-20T06:19:54.421Z"
   },
   {
    "duration": 70,
    "start_time": "2021-07-20T06:19:54.430Z"
   },
   {
    "duration": 15,
    "start_time": "2021-07-20T06:19:54.503Z"
   },
   {
    "duration": 25,
    "start_time": "2021-07-20T06:19:54.520Z"
   },
   {
    "duration": 37,
    "start_time": "2021-07-20T06:19:54.548Z"
   },
   {
    "duration": 9,
    "start_time": "2021-07-20T06:19:54.587Z"
   },
   {
    "duration": 7,
    "start_time": "2021-07-20T06:19:54.599Z"
   },
   {
    "duration": 27,
    "start_time": "2021-07-20T06:19:54.609Z"
   },
   {
    "duration": 51,
    "start_time": "2021-07-20T06:19:54.639Z"
   },
   {
    "duration": 23,
    "start_time": "2021-07-20T06:19:54.692Z"
   },
   {
    "duration": 19,
    "start_time": "2021-07-20T06:19:54.718Z"
   },
   {
    "duration": 46,
    "start_time": "2021-07-20T06:19:54.739Z"
   },
   {
    "duration": 27,
    "start_time": "2021-07-20T06:19:54.787Z"
   },
   {
    "duration": 958,
    "start_time": "2021-07-20T06:19:54.816Z"
   },
   {
    "duration": 19,
    "start_time": "2021-07-20T06:19:55.776Z"
   },
   {
    "duration": 9,
    "start_time": "2021-07-20T06:19:55.798Z"
   },
   {
    "duration": 29,
    "start_time": "2021-07-20T06:19:55.809Z"
   },
   {
    "duration": 58,
    "start_time": "2021-07-20T06:19:55.841Z"
   },
   {
    "duration": 15,
    "start_time": "2021-07-20T06:19:55.901Z"
   },
   {
    "duration": 22,
    "start_time": "2021-07-20T06:19:55.918Z"
   },
   {
    "duration": 104,
    "start_time": "2021-07-20T06:19:55.942Z"
   },
   {
    "duration": 35,
    "start_time": "2021-07-20T06:19:56.048Z"
   },
   {
    "duration": 16,
    "start_time": "2021-07-20T06:19:56.085Z"
   },
   {
    "duration": 7,
    "start_time": "2021-07-20T06:19:56.104Z"
   },
   {
    "duration": 69,
    "start_time": "2021-07-20T06:19:56.113Z"
   },
   {
    "duration": 26,
    "start_time": "2021-07-20T06:19:56.185Z"
   },
   {
    "duration": 28,
    "start_time": "2021-07-20T06:19:56.213Z"
   },
   {
    "duration": 4039,
    "start_time": "2021-07-20T06:19:56.243Z"
   },
   {
    "duration": 13,
    "start_time": "2021-07-20T06:20:00.284Z"
   },
   {
    "duration": 14,
    "start_time": "2021-07-20T06:20:00.300Z"
   },
   {
    "duration": 18,
    "start_time": "2021-07-20T06:20:00.317Z"
   },
   {
    "duration": 54,
    "start_time": "2021-07-20T06:20:00.338Z"
   },
   {
    "duration": 5,
    "start_time": "2021-07-20T06:20:00.395Z"
   },
   {
    "duration": 16,
    "start_time": "2021-07-20T06:20:00.402Z"
   },
   {
    "duration": 15,
    "start_time": "2021-07-20T06:20:00.421Z"
   },
   {
    "duration": 28,
    "start_time": "2021-07-20T06:20:00.438Z"
   },
   {
    "duration": 37,
    "start_time": "2021-07-20T06:20:00.468Z"
   },
   {
    "duration": 16,
    "start_time": "2021-07-20T06:20:00.507Z"
   },
   {
    "duration": 16,
    "start_time": "2021-07-20T06:20:00.526Z"
   },
   {
    "duration": 44,
    "start_time": "2021-07-20T06:20:00.545Z"
   },
   {
    "duration": 23,
    "start_time": "2021-07-20T06:20:00.591Z"
   },
   {
    "duration": 16,
    "start_time": "2021-07-20T06:20:00.616Z"
   },
   {
    "duration": 26,
    "start_time": "2021-07-20T06:20:00.634Z"
   },
   {
    "duration": 5,
    "start_time": "2021-07-20T06:20:00.662Z"
   },
   {
    "duration": 13,
    "start_time": "2021-07-20T06:20:00.669Z"
   },
   {
    "duration": 6,
    "start_time": "2021-07-20T06:20:00.690Z"
   },
   {
    "duration": 67,
    "start_time": "2021-07-20T06:20:00.699Z"
   },
   {
    "duration": 34,
    "start_time": "2021-07-20T06:20:00.769Z"
   },
   {
    "duration": 17,
    "start_time": "2021-07-20T06:20:00.805Z"
   },
   {
    "duration": 303,
    "start_time": "2021-07-20T06:20:00.824Z"
   },
   {
    "duration": 21,
    "start_time": "2021-07-20T06:20:01.129Z"
   },
   {
    "duration": 4,
    "start_time": "2021-07-20T06:20:01.153Z"
   },
   {
    "duration": 1005,
    "start_time": "2021-07-20T06:20:01.160Z"
   },
   {
    "duration": 26,
    "start_time": "2021-07-20T06:20:02.167Z"
   },
   {
    "duration": 18,
    "start_time": "2021-07-20T06:20:02.195Z"
   },
   {
    "duration": 8,
    "start_time": "2021-07-20T06:20:02.215Z"
   },
   {
    "duration": 18,
    "start_time": "2021-07-20T06:20:02.225Z"
   },
   {
    "duration": 37,
    "start_time": "2021-07-20T06:20:02.245Z"
   },
   {
    "duration": 8,
    "start_time": "2021-07-20T06:20:02.285Z"
   },
   {
    "duration": 10,
    "start_time": "2021-07-20T06:20:02.295Z"
   },
   {
    "duration": 17,
    "start_time": "2021-07-20T06:20:02.307Z"
   },
   {
    "duration": 546,
    "start_time": "2021-07-20T06:20:02.327Z"
   },
   {
    "duration": 20,
    "start_time": "2021-07-20T06:20:02.875Z"
   },
   {
    "duration": 15,
    "start_time": "2021-07-20T06:20:02.897Z"
   },
   {
    "duration": 371,
    "start_time": "2021-07-20T06:20:02.914Z"
   },
   {
    "duration": 13,
    "start_time": "2021-07-20T06:20:03.287Z"
   },
   {
    "duration": 82,
    "start_time": "2021-07-20T06:20:03.302Z"
   },
   {
    "duration": 82,
    "start_time": "2021-07-20T06:20:03.386Z"
   },
   {
    "duration": 28,
    "start_time": "2021-07-20T06:20:03.470Z"
   },
   {
    "duration": 28,
    "start_time": "2021-07-20T06:20:03.500Z"
   },
   {
    "duration": 5,
    "start_time": "2021-07-20T06:20:03.531Z"
   },
   {
    "duration": 48,
    "start_time": "2021-07-20T06:20:03.538Z"
   },
   {
    "duration": 18,
    "start_time": "2021-07-20T06:20:03.589Z"
   },
   {
    "duration": 696,
    "start_time": "2021-07-20T06:20:03.610Z"
   },
   {
    "duration": 17,
    "start_time": "2021-07-20T06:20:04.308Z"
   },
   {
    "duration": 24,
    "start_time": "2021-07-20T06:20:04.327Z"
   },
   {
    "duration": 33,
    "start_time": "2021-07-20T06:20:04.353Z"
   },
   {
    "duration": 8,
    "start_time": "2021-07-20T06:20:04.388Z"
   },
   {
    "duration": 10,
    "start_time": "2021-07-20T06:20:04.398Z"
   },
   {
    "duration": 31,
    "start_time": "2021-07-20T06:20:04.410Z"
   },
   {
    "duration": 56,
    "start_time": "2021-07-20T06:20:04.443Z"
   },
   {
    "duration": 23,
    "start_time": "2021-07-20T06:20:04.501Z"
   },
   {
    "duration": 10,
    "start_time": "2021-07-20T06:20:04.526Z"
   },
   {
    "duration": 45,
    "start_time": "2021-07-20T06:20:04.539Z"
   },
   {
    "duration": 29,
    "start_time": "2021-07-20T06:20:29.948Z"
   },
   {
    "duration": 12,
    "start_time": "2021-07-20T06:20:58.410Z"
   },
   {
    "duration": 29,
    "start_time": "2021-07-20T06:21:46.381Z"
   },
   {
    "duration": 8,
    "start_time": "2021-07-20T06:21:52.812Z"
   },
   {
    "duration": 8,
    "start_time": "2021-07-20T06:22:04.289Z"
   },
   {
    "duration": 5,
    "start_time": "2021-07-20T06:22:14.314Z"
   },
   {
    "duration": 9,
    "start_time": "2021-07-20T06:22:30.568Z"
   },
   {
    "duration": 7,
    "start_time": "2021-07-20T06:23:08.335Z"
   },
   {
    "duration": 9,
    "start_time": "2021-07-20T06:23:15.485Z"
   },
   {
    "duration": 13,
    "start_time": "2021-07-20T06:23:30.403Z"
   },
   {
    "duration": 6,
    "start_time": "2021-07-20T06:23:50.479Z"
   },
   {
    "duration": 6,
    "start_time": "2021-07-20T06:23:55.934Z"
   },
   {
    "duration": 11,
    "start_time": "2021-07-20T06:25:56.090Z"
   },
   {
    "duration": 36,
    "start_time": "2021-07-20T06:26:09.080Z"
   },
   {
    "duration": 12,
    "start_time": "2021-07-20T06:26:21.611Z"
   },
   {
    "duration": 203,
    "start_time": "2021-07-20T06:26:31.088Z"
   },
   {
    "duration": 5,
    "start_time": "2021-07-20T06:26:34.149Z"
   },
   {
    "duration": 22,
    "start_time": "2021-07-20T06:26:53.900Z"
   },
   {
    "duration": 10,
    "start_time": "2021-07-20T06:28:35.822Z"
   },
   {
    "duration": 13,
    "start_time": "2021-07-20T07:33:28.562Z"
   },
   {
    "duration": 7,
    "start_time": "2021-07-20T07:33:33.187Z"
   },
   {
    "duration": 14,
    "start_time": "2021-07-20T08:53:36.296Z"
   },
   {
    "duration": 15,
    "start_time": "2021-07-20T08:53:59.246Z"
   },
   {
    "duration": 15,
    "start_time": "2021-07-20T08:54:05.775Z"
   },
   {
    "duration": 16,
    "start_time": "2021-07-20T08:54:25.690Z"
   },
   {
    "duration": 8,
    "start_time": "2021-07-20T09:06:54.376Z"
   },
   {
    "duration": 51,
    "start_time": "2021-07-20T10:16:46.887Z"
   },
   {
    "duration": 8,
    "start_time": "2021-07-20T10:17:00.388Z"
   },
   {
    "duration": 56,
    "start_time": "2021-07-20T10:17:08.046Z"
   },
   {
    "duration": 9,
    "start_time": "2021-07-20T10:17:17.568Z"
   },
   {
    "duration": 874,
    "start_time": "2021-07-20T11:29:06.657Z"
   },
   {
    "duration": 230,
    "start_time": "2021-07-20T11:29:07.534Z"
   },
   {
    "duration": 6,
    "start_time": "2021-07-20T11:29:07.925Z"
   },
   {
    "duration": 31,
    "start_time": "2021-07-20T11:29:08.429Z"
   },
   {
    "duration": 22,
    "start_time": "2021-07-20T11:29:08.808Z"
   },
   {
    "duration": 7,
    "start_time": "2021-07-20T11:29:09.318Z"
   },
   {
    "duration": 27,
    "start_time": "2021-07-20T11:29:09.958Z"
   },
   {
    "duration": 16,
    "start_time": "2021-07-20T11:29:10.997Z"
   },
   {
    "duration": 25,
    "start_time": "2021-07-20T11:29:11.153Z"
   },
   {
    "duration": 12,
    "start_time": "2021-07-20T11:29:12.526Z"
   },
   {
    "duration": 4,
    "start_time": "2021-07-20T11:29:12.865Z"
   },
   {
    "duration": 5,
    "start_time": "2021-07-20T11:29:13.026Z"
   },
   {
    "duration": 35,
    "start_time": "2021-07-20T11:29:13.198Z"
   },
   {
    "duration": 16,
    "start_time": "2021-07-20T11:29:13.889Z"
   },
   {
    "duration": 10,
    "start_time": "2021-07-20T11:29:14.616Z"
   },
   {
    "duration": 3,
    "start_time": "2021-07-20T11:29:15.394Z"
   },
   {
    "duration": 6,
    "start_time": "2021-07-20T11:29:16.295Z"
   },
   {
    "duration": 9,
    "start_time": "2021-07-20T11:29:17.538Z"
   },
   {
    "duration": 4,
    "start_time": "2021-07-20T11:29:21.829Z"
   },
   {
    "duration": 16,
    "start_time": "2021-07-20T11:29:24.509Z"
   },
   {
    "duration": 16,
    "start_time": "2021-07-20T11:29:34.081Z"
   },
   {
    "duration": 18,
    "start_time": "2021-07-20T11:29:57.170Z"
   },
   {
    "duration": 15,
    "start_time": "2021-07-20T11:30:06.814Z"
   },
   {
    "duration": 16,
    "start_time": "2021-07-20T11:31:34.048Z"
   },
   {
    "duration": 7,
    "start_time": "2021-07-20T11:31:35.138Z"
   },
   {
    "duration": 6,
    "start_time": "2021-07-20T11:31:36.028Z"
   },
   {
    "duration": 30,
    "start_time": "2021-07-20T11:31:38.533Z"
   },
   {
    "duration": 5,
    "start_time": "2021-07-20T11:31:38.876Z"
   },
   {
    "duration": 37,
    "start_time": "2021-07-20T11:31:40.906Z"
   },
   {
    "duration": 22,
    "start_time": "2021-07-20T11:31:41.690Z"
   },
   {
    "duration": 30,
    "start_time": "2021-07-20T11:31:42.180Z"
   },
   {
    "duration": 9,
    "start_time": "2021-07-20T11:31:43.138Z"
   },
   {
    "duration": 5,
    "start_time": "2021-07-20T11:31:43.344Z"
   },
   {
    "duration": 7,
    "start_time": "2021-07-20T11:31:43.951Z"
   },
   {
    "duration": 29,
    "start_time": "2021-07-20T11:31:44.134Z"
   },
   {
    "duration": 39,
    "start_time": "2021-07-20T11:31:59.778Z"
   },
   {
    "duration": 25,
    "start_time": "2021-07-20T11:32:02.916Z"
   },
   {
    "duration": 17,
    "start_time": "2021-07-20T11:32:04.012Z"
   },
   {
    "duration": 8,
    "start_time": "2021-07-20T11:32:17.103Z"
   },
   {
    "duration": 91,
    "start_time": "2021-07-20T11:33:07.335Z"
   },
   {
    "duration": 10,
    "start_time": "2021-07-20T11:33:07.430Z"
   },
   {
    "duration": 22,
    "start_time": "2021-07-20T11:33:28.973Z"
   },
   {
    "duration": 97,
    "start_time": "2021-07-20T11:35:54.949Z"
   },
   {
    "duration": 19,
    "start_time": "2021-07-20T11:36:13.214Z"
   },
   {
    "duration": 29,
    "start_time": "2021-07-20T11:36:13.822Z"
   },
   {
    "duration": 994,
    "start_time": "2021-07-20T11:36:14.247Z"
   },
   {
    "duration": 17,
    "start_time": "2021-07-20T11:36:15.244Z"
   },
   {
    "duration": 7,
    "start_time": "2021-07-20T11:36:15.264Z"
   },
   {
    "duration": 28,
    "start_time": "2021-07-20T11:36:15.469Z"
   },
   {
    "duration": 28,
    "start_time": "2021-07-20T11:36:16.179Z"
   },
   {
    "duration": 11,
    "start_time": "2021-07-20T11:36:16.625Z"
   },
   {
    "duration": 18,
    "start_time": "2021-07-20T11:36:16.769Z"
   },
   {
    "duration": 84,
    "start_time": "2021-07-20T11:36:17.080Z"
   },
   {
    "duration": 8,
    "start_time": "2021-07-20T11:36:17.961Z"
   },
   {
    "duration": 13,
    "start_time": "2021-07-20T11:36:18.294Z"
   },
   {
    "duration": 4,
    "start_time": "2021-07-20T11:36:19.528Z"
   },
   {
    "duration": 46,
    "start_time": "2021-07-20T11:36:20.069Z"
   },
   {
    "duration": 17,
    "start_time": "2021-07-20T11:36:20.752Z"
   },
   {
    "duration": 25,
    "start_time": "2021-07-20T11:36:21.728Z"
   },
   {
    "duration": 4328,
    "start_time": "2021-07-20T11:36:24.756Z"
   },
   {
    "duration": 4438,
    "start_time": "2021-07-20T11:37:38.847Z"
   },
   {
    "duration": 103,
    "start_time": "2021-07-20T11:39:24.749Z"
   },
   {
    "duration": 105,
    "start_time": "2021-07-20T11:39:34.665Z"
   },
   {
    "duration": 94,
    "start_time": "2021-07-20T11:39:42.515Z"
   },
   {
    "duration": 273,
    "start_time": "2021-07-20T11:39:51.233Z"
   },
   {
    "duration": 41,
    "start_time": "2021-07-20T11:40:08.800Z"
   },
   {
    "duration": 4614,
    "start_time": "2021-07-20T11:40:30.218Z"
   },
   {
    "duration": 1808,
    "start_time": "2021-07-20T11:40:39.469Z"
   },
   {
    "duration": 4091,
    "start_time": "2021-07-20T11:40:49.273Z"
   },
   {
    "duration": 1884,
    "start_time": "2021-07-20T11:44:13.384Z"
   },
   {
    "duration": 111,
    "start_time": "2021-07-20T11:46:15.936Z"
   },
   {
    "duration": 4272,
    "start_time": "2021-07-20T11:46:19.904Z"
   },
   {
    "duration": 4249,
    "start_time": "2021-07-20T11:53:31.543Z"
   },
   {
    "duration": 4374,
    "start_time": "2021-07-20T11:55:11.728Z"
   },
   {
    "duration": 1995,
    "start_time": "2021-07-20T11:55:39.502Z"
   },
   {
    "duration": 1233,
    "start_time": "2021-07-20T11:55:48.398Z"
   },
   {
    "duration": 4180,
    "start_time": "2021-07-20T11:55:54.868Z"
   },
   {
    "duration": 1117,
    "start_time": "2021-07-20T11:57:11.659Z"
   },
   {
    "duration": 4399,
    "start_time": "2021-07-20T11:58:18.584Z"
   },
   {
    "duration": 4406,
    "start_time": "2021-07-20T12:01:40.907Z"
   },
   {
    "duration": 14,
    "start_time": "2021-07-20T12:02:31.541Z"
   },
   {
    "duration": 16,
    "start_time": "2021-07-20T12:02:31.942Z"
   },
   {
    "duration": 20,
    "start_time": "2021-07-20T12:02:33.909Z"
   },
   {
    "duration": 16,
    "start_time": "2021-07-20T12:02:34.303Z"
   },
   {
    "duration": 5,
    "start_time": "2021-07-20T12:02:35.265Z"
   },
   {
    "duration": 11,
    "start_time": "2021-07-20T12:02:41.624Z"
   },
   {
    "duration": 10,
    "start_time": "2021-07-20T12:02:51.502Z"
   },
   {
    "duration": 11,
    "start_time": "2021-07-20T12:02:51.825Z"
   },
   {
    "duration": 30,
    "start_time": "2021-07-20T12:02:52.256Z"
   },
   {
    "duration": 16,
    "start_time": "2021-07-20T12:02:55.258Z"
   },
   {
    "duration": 18,
    "start_time": "2021-07-20T12:02:55.472Z"
   },
   {
    "duration": 8,
    "start_time": "2021-07-20T12:03:01.855Z"
   },
   {
    "duration": 6,
    "start_time": "2021-07-20T12:03:02.339Z"
   },
   {
    "duration": 10,
    "start_time": "2021-07-20T12:03:07.279Z"
   },
   {
    "duration": 20,
    "start_time": "2021-07-20T12:03:12.809Z"
   },
   {
    "duration": 5,
    "start_time": "2021-07-20T12:03:17.297Z"
   },
   {
    "duration": 4,
    "start_time": "2021-07-20T12:03:22.848Z"
   },
   {
    "duration": 4,
    "start_time": "2021-07-20T12:05:42.352Z"
   },
   {
    "duration": 56,
    "start_time": "2021-07-20T12:05:44.819Z"
   },
   {
    "duration": 29,
    "start_time": "2021-07-20T12:05:49.815Z"
   },
   {
    "duration": 9,
    "start_time": "2021-07-20T12:06:42.381Z"
   },
   {
    "duration": 292,
    "start_time": "2021-07-20T12:06:42.923Z"
   },
   {
    "duration": 96,
    "start_time": "2021-07-20T12:07:23.838Z"
   },
   {
    "duration": 100,
    "start_time": "2021-07-20T12:07:54.987Z"
   },
   {
    "duration": 300,
    "start_time": "2021-07-20T12:08:01.357Z"
   },
   {
    "duration": 293,
    "start_time": "2021-07-20T12:08:05.938Z"
   },
   {
    "duration": 8407,
    "start_time": "2021-07-20T12:08:31.841Z"
   },
   {
    "duration": 301,
    "start_time": "2021-07-20T12:09:05.643Z"
   },
   {
    "duration": 417,
    "start_time": "2021-07-20T12:09:47.804Z"
   },
   {
    "duration": 316,
    "start_time": "2021-07-20T12:10:16.507Z"
   },
   {
    "duration": 501,
    "start_time": "2021-07-20T12:10:20.836Z"
   },
   {
    "duration": 308,
    "start_time": "2021-07-20T12:10:25.910Z"
   },
   {
    "duration": 326,
    "start_time": "2021-07-20T12:10:58.382Z"
   },
   {
    "duration": 612,
    "start_time": "2021-07-20T12:12:01.211Z"
   },
   {
    "duration": 327,
    "start_time": "2021-07-20T12:12:21.606Z"
   },
   {
    "duration": 346,
    "start_time": "2021-07-20T12:13:10.527Z"
   },
   {
    "duration": 8,
    "start_time": "2021-07-20T12:13:29.160Z"
   },
   {
    "duration": 7,
    "start_time": "2021-07-20T12:14:16.398Z"
   },
   {
    "duration": 929,
    "start_time": "2021-07-20T12:17:09.597Z"
   },
   {
    "duration": 20,
    "start_time": "2021-07-20T12:17:18.133Z"
   },
   {
    "duration": 5,
    "start_time": "2021-07-20T12:17:18.488Z"
   },
   {
    "duration": 936,
    "start_time": "2021-07-20T12:17:18.810Z"
   },
   {
    "duration": 1136,
    "start_time": "2021-07-20T12:18:32.863Z"
   },
   {
    "duration": 986,
    "start_time": "2021-07-20T12:19:24.922Z"
   },
   {
    "duration": 971,
    "start_time": "2021-07-20T12:19:36.685Z"
   },
   {
    "duration": 1356,
    "start_time": "2021-07-20T12:20:28.017Z"
   },
   {
    "duration": 1006,
    "start_time": "2021-07-20T12:21:34.212Z"
   },
   {
    "duration": 1006,
    "start_time": "2021-07-20T12:21:51.717Z"
   },
   {
    "duration": 1107,
    "start_time": "2021-07-20T12:22:42.569Z"
   },
   {
    "duration": 1069,
    "start_time": "2021-07-20T12:22:57.849Z"
   },
   {
    "duration": 1021,
    "start_time": "2021-07-20T12:23:20.696Z"
   },
   {
    "duration": 1047,
    "start_time": "2021-07-20T12:24:32.648Z"
   },
   {
    "duration": 1053,
    "start_time": "2021-07-20T12:25:08.995Z"
   },
   {
    "duration": 1204,
    "start_time": "2021-07-20T12:25:17.751Z"
   },
   {
    "duration": 1042,
    "start_time": "2021-07-20T12:25:56.927Z"
   },
   {
    "duration": 1028,
    "start_time": "2021-07-20T12:26:17.417Z"
   },
   {
    "duration": 105,
    "start_time": "2021-07-20T12:26:56.159Z"
   },
   {
    "duration": 97,
    "start_time": "2021-07-20T12:29:29.543Z"
   },
   {
    "duration": 322,
    "start_time": "2021-07-20T12:30:17.375Z"
   },
   {
    "duration": 25,
    "start_time": "2021-07-20T12:30:26.546Z"
   },
   {
    "duration": 19,
    "start_time": "2021-07-20T12:30:26.714Z"
   },
   {
    "duration": 9,
    "start_time": "2021-07-20T12:30:27.276Z"
   },
   {
    "duration": 16,
    "start_time": "2021-07-20T12:30:27.550Z"
   },
   {
    "duration": 10,
    "start_time": "2021-07-20T12:30:27.739Z"
   },
   {
    "duration": 3,
    "start_time": "2021-07-20T12:30:27.917Z"
   },
   {
    "duration": 6,
    "start_time": "2021-07-20T12:30:28.107Z"
   },
   {
    "duration": 15,
    "start_time": "2021-07-20T12:30:28.453Z"
   },
   {
    "duration": 559,
    "start_time": "2021-07-20T12:30:28.628Z"
   },
   {
    "duration": 332,
    "start_time": "2021-07-20T12:30:34.672Z"
   },
   {
    "duration": 412,
    "start_time": "2021-07-20T12:30:39.606Z"
   },
   {
    "duration": 294,
    "start_time": "2021-07-20T12:30:55.611Z"
   },
   {
    "duration": 425,
    "start_time": "2021-07-20T12:31:16.158Z"
   },
   {
    "duration": 322,
    "start_time": "2021-07-20T12:31:51.973Z"
   },
   {
    "duration": 373,
    "start_time": "2021-07-20T12:33:22.657Z"
   },
   {
    "duration": 16,
    "start_time": "2021-07-20T12:33:23.210Z"
   },
   {
    "duration": 12,
    "start_time": "2021-07-20T12:33:23.485Z"
   },
   {
    "duration": 423,
    "start_time": "2021-07-20T12:33:23.637Z"
   },
   {
    "duration": 16,
    "start_time": "2021-07-20T12:33:24.064Z"
   },
   {
    "duration": 66,
    "start_time": "2021-07-20T12:33:25.229Z"
   },
   {
    "duration": 88,
    "start_time": "2021-07-20T12:33:26.871Z"
   },
   {
    "duration": 19,
    "start_time": "2021-07-20T12:33:28.413Z"
   },
   {
    "duration": 119,
    "start_time": "2021-07-20T12:34:01.558Z"
   },
   {
    "duration": 19,
    "start_time": "2021-07-20T12:34:09.795Z"
   },
   {
    "duration": 30,
    "start_time": "2021-07-20T12:34:22.378Z"
   },
   {
    "duration": 6,
    "start_time": "2021-07-20T12:34:22.899Z"
   },
   {
    "duration": 11,
    "start_time": "2021-07-20T12:34:23.585Z"
   },
   {
    "duration": 95,
    "start_time": "2021-07-20T12:34:50.126Z"
   },
   {
    "duration": 915,
    "start_time": "2021-07-20T12:34:58.567Z"
   },
   {
    "duration": 964,
    "start_time": "2021-07-20T12:49:43.985Z"
   },
   {
    "duration": 104,
    "start_time": "2021-07-20T12:50:33.009Z"
   },
   {
    "duration": 294,
    "start_time": "2021-07-20T12:51:36.817Z"
   },
   {
    "duration": 10,
    "start_time": "2021-07-20T12:51:43.679Z"
   },
   {
    "duration": 6,
    "start_time": "2021-07-20T12:51:43.886Z"
   },
   {
    "duration": 6,
    "start_time": "2021-07-20T12:51:44.243Z"
   },
   {
    "duration": 30,
    "start_time": "2021-07-20T12:51:44.562Z"
   },
   {
    "duration": 31,
    "start_time": "2021-07-20T12:51:44.731Z"
   },
   {
    "duration": 25,
    "start_time": "2021-07-20T12:51:44.891Z"
   },
   {
    "duration": 12,
    "start_time": "2021-07-20T12:51:45.044Z"
   },
   {
    "duration": 12,
    "start_time": "2021-07-20T12:51:45.225Z"
   },
   {
    "duration": 21,
    "start_time": "2021-07-20T12:51:47.046Z"
   },
   {
    "duration": 18,
    "start_time": "2021-07-20T12:52:23.264Z"
   },
   {
    "duration": 96,
    "start_time": "2021-07-20T12:54:32.247Z"
   },
   {
    "duration": 7972,
    "start_time": "2021-07-20T12:54:36.829Z"
   },
   {
    "duration": 60,
    "start_time": "2021-07-20T12:55:02.242Z"
   },
   {
    "duration": 26,
    "start_time": "2021-07-20T12:55:26.781Z"
   },
   {
    "duration": 20,
    "start_time": "2021-07-20T12:56:02.078Z"
   },
   {
    "duration": 20,
    "start_time": "2021-07-20T12:56:25.291Z"
   },
   {
    "duration": 97,
    "start_time": "2021-07-20T12:57:17.405Z"
   },
   {
    "duration": 310,
    "start_time": "2021-07-20T12:57:23.077Z"
   },
   {
    "duration": 325,
    "start_time": "2021-07-20T12:57:37.817Z"
   },
   {
    "duration": 31,
    "start_time": "2021-07-20T12:57:48.345Z"
   },
   {
    "duration": 29,
    "start_time": "2021-07-20T12:58:01.156Z"
   },
   {
    "duration": 28,
    "start_time": "2021-07-20T12:58:12.039Z"
   },
   {
    "duration": 101,
    "start_time": "2021-07-20T12:58:17.394Z"
   },
   {
    "duration": 29,
    "start_time": "2021-07-20T12:58:21.265Z"
   },
   {
    "duration": 96,
    "start_time": "2021-07-20T12:59:13.391Z"
   },
   {
    "duration": 27,
    "start_time": "2021-07-20T13:14:35.034Z"
   },
   {
    "duration": 38,
    "start_time": "2021-07-20T13:14:41.820Z"
   },
   {
    "duration": 30,
    "start_time": "2021-07-20T13:15:25.567Z"
   },
   {
    "duration": 6,
    "start_time": "2021-07-20T13:15:26.229Z"
   },
   {
    "duration": 13,
    "start_time": "2021-07-20T13:15:30.419Z"
   },
   {
    "duration": 284,
    "start_time": "2021-07-20T13:15:54.982Z"
   },
   {
    "duration": 12,
    "start_time": "2021-07-20T13:15:55.599Z"
   },
   {
    "duration": 284,
    "start_time": "2021-07-20T13:16:04.243Z"
   },
   {
    "duration": 28,
    "start_time": "2021-07-20T13:16:08.298Z"
   },
   {
    "duration": 6,
    "start_time": "2021-07-20T13:16:08.689Z"
   },
   {
    "duration": 12,
    "start_time": "2021-07-20T13:16:12.449Z"
   },
   {
    "duration": 267,
    "start_time": "2021-07-20T13:16:45.218Z"
   },
   {
    "duration": 28,
    "start_time": "2021-07-20T13:16:51.479Z"
   },
   {
    "duration": 6,
    "start_time": "2021-07-20T13:16:51.946Z"
   },
   {
    "duration": 309,
    "start_time": "2021-07-20T13:16:52.401Z"
   },
   {
    "duration": 27,
    "start_time": "2021-07-20T13:17:22.225Z"
   },
   {
    "duration": 7,
    "start_time": "2021-07-20T13:17:22.420Z"
   },
   {
    "duration": 11,
    "start_time": "2021-07-20T13:17:22.719Z"
   },
   {
    "duration": 13,
    "start_time": "2021-07-20T13:17:52.468Z"
   },
   {
    "duration": 308,
    "start_time": "2021-07-20T13:25:39.928Z"
   },
   {
    "duration": 337,
    "start_time": "2021-07-20T13:25:49.309Z"
   },
   {
    "duration": 18,
    "start_time": "2021-07-20T13:25:59.965Z"
   },
   {
    "duration": 985,
    "start_time": "2021-07-20T17:29:51.875Z"
   },
   {
    "duration": 212,
    "start_time": "2021-07-20T17:29:52.863Z"
   },
   {
    "duration": 5,
    "start_time": "2021-07-20T17:29:53.079Z"
   },
   {
    "duration": 32,
    "start_time": "2021-07-20T17:29:53.087Z"
   },
   {
    "duration": 23,
    "start_time": "2021-07-20T17:29:53.122Z"
   },
   {
    "duration": 7,
    "start_time": "2021-07-20T17:29:53.147Z"
   },
   {
    "duration": 53,
    "start_time": "2021-07-20T17:29:53.157Z"
   },
   {
    "duration": 15,
    "start_time": "2021-07-20T17:29:53.214Z"
   },
   {
    "duration": 25,
    "start_time": "2021-07-20T17:29:53.232Z"
   },
   {
    "duration": 46,
    "start_time": "2021-07-20T17:29:53.260Z"
   },
   {
    "duration": 4,
    "start_time": "2021-07-20T17:29:53.308Z"
   },
   {
    "duration": 8,
    "start_time": "2021-07-20T17:29:53.315Z"
   },
   {
    "duration": 38,
    "start_time": "2021-07-20T17:29:53.325Z"
   },
   {
    "duration": 41,
    "start_time": "2021-07-20T17:29:53.366Z"
   },
   {
    "duration": 9,
    "start_time": "2021-07-20T17:29:53.409Z"
   },
   {
    "duration": 4,
    "start_time": "2021-07-20T17:29:53.421Z"
   },
   {
    "duration": 7,
    "start_time": "2021-07-20T17:29:53.427Z"
   },
   {
    "duration": 8,
    "start_time": "2021-07-20T17:29:53.437Z"
   },
   {
    "duration": 4,
    "start_time": "2021-07-20T17:29:53.448Z"
   },
   {
    "duration": 58,
    "start_time": "2021-07-20T17:29:53.454Z"
   },
   {
    "duration": 13,
    "start_time": "2021-07-20T17:29:53.515Z"
   },
   {
    "duration": 7,
    "start_time": "2021-07-20T17:29:53.530Z"
   },
   {
    "duration": 5,
    "start_time": "2021-07-20T17:29:53.544Z"
   },
   {
    "duration": 70,
    "start_time": "2021-07-20T17:29:53.553Z"
   },
   {
    "duration": 5,
    "start_time": "2021-07-20T17:29:53.626Z"
   },
   {
    "duration": 38,
    "start_time": "2021-07-20T17:29:53.634Z"
   },
   {
    "duration": 42,
    "start_time": "2021-07-20T17:29:53.674Z"
   },
   {
    "duration": 29,
    "start_time": "2021-07-20T17:29:53.719Z"
   },
   {
    "duration": 8,
    "start_time": "2021-07-20T17:29:53.750Z"
   },
   {
    "duration": 5,
    "start_time": "2021-07-20T17:29:53.761Z"
   },
   {
    "duration": 36,
    "start_time": "2021-07-20T17:29:53.768Z"
   },
   {
    "duration": 28,
    "start_time": "2021-07-20T17:29:53.807Z"
   },
   {
    "duration": 26,
    "start_time": "2021-07-20T17:29:53.838Z"
   },
   {
    "duration": 58,
    "start_time": "2021-07-20T17:29:53.866Z"
   },
   {
    "duration": 17,
    "start_time": "2021-07-20T17:29:53.927Z"
   },
   {
    "duration": 9,
    "start_time": "2021-07-20T17:29:53.946Z"
   },
   {
    "duration": 58,
    "start_time": "2021-07-20T17:29:53.958Z"
   },
   {
    "duration": 28,
    "start_time": "2021-07-20T17:29:54.019Z"
   },
   {
    "duration": 991,
    "start_time": "2021-07-20T17:29:54.050Z"
   },
   {
    "duration": 16,
    "start_time": "2021-07-20T17:29:55.044Z"
   },
   {
    "duration": 9,
    "start_time": "2021-07-20T17:29:55.063Z"
   },
   {
    "duration": 52,
    "start_time": "2021-07-20T17:29:55.074Z"
   },
   {
    "duration": 29,
    "start_time": "2021-07-20T17:29:55.129Z"
   },
   {
    "duration": 46,
    "start_time": "2021-07-20T17:29:55.161Z"
   },
   {
    "duration": 21,
    "start_time": "2021-07-20T17:29:55.210Z"
   },
   {
    "duration": 119,
    "start_time": "2021-07-20T17:29:55.234Z"
   },
   {
    "duration": 7,
    "start_time": "2021-07-20T17:29:55.355Z"
   },
   {
    "duration": 42,
    "start_time": "2021-07-20T17:29:55.365Z"
   },
   {
    "duration": 15,
    "start_time": "2021-07-20T17:29:55.410Z"
   },
   {
    "duration": 50,
    "start_time": "2021-07-20T17:29:55.428Z"
   },
   {
    "duration": 30,
    "start_time": "2021-07-20T17:29:55.480Z"
   },
   {
    "duration": 29,
    "start_time": "2021-07-20T17:29:55.512Z"
   },
   {
    "duration": 4182,
    "start_time": "2021-07-20T17:29:55.544Z"
   },
   {
    "duration": 14,
    "start_time": "2021-07-20T17:29:59.729Z"
   },
   {
    "duration": 14,
    "start_time": "2021-07-20T17:29:59.745Z"
   },
   {
    "duration": 50,
    "start_time": "2021-07-20T17:29:59.762Z"
   },
   {
    "duration": 16,
    "start_time": "2021-07-20T17:29:59.815Z"
   },
   {
    "duration": 6,
    "start_time": "2021-07-20T17:29:59.833Z"
   },
   {
    "duration": 13,
    "start_time": "2021-07-20T17:29:59.841Z"
   },
   {
    "duration": 48,
    "start_time": "2021-07-20T17:29:59.857Z"
   },
   {
    "duration": 11,
    "start_time": "2021-07-20T17:29:59.907Z"
   },
   {
    "duration": 30,
    "start_time": "2021-07-20T17:29:59.921Z"
   },
   {
    "duration": 51,
    "start_time": "2021-07-20T17:29:59.954Z"
   },
   {
    "duration": 20,
    "start_time": "2021-07-20T17:30:00.008Z"
   },
   {
    "duration": 8,
    "start_time": "2021-07-20T17:30:00.030Z"
   },
   {
    "duration": 10,
    "start_time": "2021-07-20T17:30:00.040Z"
   },
   {
    "duration": 48,
    "start_time": "2021-07-20T17:30:00.053Z"
   },
   {
    "duration": 21,
    "start_time": "2021-07-20T17:30:00.110Z"
   },
   {
    "duration": 5,
    "start_time": "2021-07-20T17:30:00.134Z"
   },
   {
    "duration": 14,
    "start_time": "2021-07-20T17:30:00.142Z"
   },
   {
    "duration": 6,
    "start_time": "2021-07-20T17:30:00.159Z"
   },
   {
    "duration": 84,
    "start_time": "2021-07-20T17:30:00.168Z"
   },
   {
    "duration": 48,
    "start_time": "2021-07-20T17:30:00.255Z"
   },
   {
    "duration": 8,
    "start_time": "2021-07-20T17:30:00.306Z"
   },
   {
    "duration": 350,
    "start_time": "2021-07-20T17:30:00.317Z"
   },
   {
    "duration": 7,
    "start_time": "2021-07-20T17:30:00.670Z"
   },
   {
    "duration": 38,
    "start_time": "2021-07-20T17:30:00.679Z"
   },
   {
    "duration": 5,
    "start_time": "2021-07-20T17:30:00.719Z"
   },
   {
    "duration": 1083,
    "start_time": "2021-07-20T17:30:00.726Z"
   },
   {
    "duration": 18,
    "start_time": "2021-07-20T17:30:01.812Z"
   },
   {
    "duration": 26,
    "start_time": "2021-07-20T17:30:01.832Z"
   },
   {
    "duration": 22,
    "start_time": "2021-07-20T17:30:01.861Z"
   },
   {
    "duration": 28,
    "start_time": "2021-07-20T17:30:01.886Z"
   },
   {
    "duration": 9,
    "start_time": "2021-07-20T17:30:01.916Z"
   },
   {
    "duration": 19,
    "start_time": "2021-07-20T17:30:01.928Z"
   },
   {
    "duration": 19,
    "start_time": "2021-07-20T17:30:01.950Z"
   },
   {
    "duration": 44,
    "start_time": "2021-07-20T17:30:01.972Z"
   },
   {
    "duration": 572,
    "start_time": "2021-07-20T17:30:02.018Z"
   },
   {
    "duration": 340,
    "start_time": "2021-07-20T17:30:02.592Z"
   },
   {
    "duration": 18,
    "start_time": "2021-07-20T17:30:02.934Z"
   },
   {
    "duration": 9,
    "start_time": "2021-07-20T17:30:02.954Z"
   },
   {
    "duration": 416,
    "start_time": "2021-07-20T17:30:02.966Z"
   },
   {
    "duration": 20,
    "start_time": "2021-07-20T17:30:03.384Z"
   },
   {
    "duration": 65,
    "start_time": "2021-07-20T17:30:03.407Z"
   },
   {
    "duration": 141,
    "start_time": "2021-07-20T17:30:03.476Z"
   },
   {
    "duration": 25,
    "start_time": "2021-07-20T17:30:03.621Z"
   },
   {
    "duration": 71,
    "start_time": "2021-07-20T17:30:03.650Z"
   },
   {
    "duration": 7,
    "start_time": "2021-07-20T17:30:03.724Z"
   },
   {
    "duration": 20,
    "start_time": "2021-07-20T17:30:03.734Z"
   },
   {
    "duration": 416,
    "start_time": "2021-07-20T17:30:03.756Z"
   },
   {
    "duration": -855,
    "start_time": "2021-07-20T17:30:05.030Z"
   },
   {
    "duration": -860,
    "start_time": "2021-07-20T17:30:05.036Z"
   },
   {
    "duration": -862,
    "start_time": "2021-07-20T17:30:05.040Z"
   },
   {
    "duration": -883,
    "start_time": "2021-07-20T17:30:05.062Z"
   },
   {
    "duration": -889,
    "start_time": "2021-07-20T17:30:05.070Z"
   },
   {
    "duration": -900,
    "start_time": "2021-07-20T17:30:05.082Z"
   },
   {
    "duration": -905,
    "start_time": "2021-07-20T17:30:05.089Z"
   },
   {
    "duration": -909,
    "start_time": "2021-07-20T17:30:05.094Z"
   },
   {
    "duration": -914,
    "start_time": "2021-07-20T17:30:05.100Z"
   },
   {
    "duration": -916,
    "start_time": "2021-07-20T17:30:05.104Z"
   },
   {
    "duration": -920,
    "start_time": "2021-07-20T17:30:05.109Z"
   },
   {
    "duration": -931,
    "start_time": "2021-07-20T17:30:05.121Z"
   },
   {
    "duration": -936,
    "start_time": "2021-07-20T17:30:05.127Z"
   },
   {
    "duration": -940,
    "start_time": "2021-07-20T17:30:05.133Z"
   },
   {
    "duration": -944,
    "start_time": "2021-07-20T17:30:05.138Z"
   },
   {
    "duration": -947,
    "start_time": "2021-07-20T17:30:05.142Z"
   },
   {
    "duration": -950,
    "start_time": "2021-07-20T17:30:05.147Z"
   },
   {
    "duration": 976,
    "start_time": "2021-07-20T17:30:54.500Z"
   },
   {
    "duration": 10,
    "start_time": "2021-07-20T17:31:02.252Z"
   },
   {
    "duration": 21,
    "start_time": "2021-07-20T17:31:12.149Z"
   },
   {
    "duration": 8,
    "start_time": "2021-07-20T17:31:15.140Z"
   },
   {
    "duration": 10,
    "start_time": "2021-07-20T17:32:24.141Z"
   },
   {
    "duration": 10,
    "start_time": "2021-07-20T17:32:34.557Z"
   },
   {
    "duration": 10,
    "start_time": "2021-07-20T17:32:40.236Z"
   },
   {
    "duration": 10,
    "start_time": "2021-07-20T17:34:14.181Z"
   },
   {
    "duration": 52,
    "start_time": "2021-07-20T17:36:10.781Z"
   },
   {
    "duration": 864,
    "start_time": "2021-07-20T17:39:00.940Z"
   },
   {
    "duration": 204,
    "start_time": "2021-07-20T17:39:01.807Z"
   },
   {
    "duration": 6,
    "start_time": "2021-07-20T17:39:02.014Z"
   },
   {
    "duration": 33,
    "start_time": "2021-07-20T17:39:02.024Z"
   },
   {
    "duration": 45,
    "start_time": "2021-07-20T17:39:02.060Z"
   },
   {
    "duration": 8,
    "start_time": "2021-07-20T17:39:02.107Z"
   },
   {
    "duration": 35,
    "start_time": "2021-07-20T17:39:02.118Z"
   },
   {
    "duration": 15,
    "start_time": "2021-07-20T17:39:02.157Z"
   },
   {
    "duration": 27,
    "start_time": "2021-07-20T17:39:02.202Z"
   },
   {
    "duration": 20,
    "start_time": "2021-07-20T17:39:02.232Z"
   },
   {
    "duration": 7,
    "start_time": "2021-07-20T17:39:02.254Z"
   },
   {
    "duration": 23,
    "start_time": "2021-07-20T17:39:02.264Z"
   },
   {
    "duration": 66,
    "start_time": "2021-07-20T17:39:02.290Z"
   },
   {
    "duration": 20,
    "start_time": "2021-07-20T17:39:02.360Z"
   },
   {
    "duration": 23,
    "start_time": "2021-07-20T17:39:02.383Z"
   },
   {
    "duration": 20,
    "start_time": "2021-07-20T17:39:02.409Z"
   },
   {
    "duration": 17,
    "start_time": "2021-07-20T17:39:02.432Z"
   },
   {
    "duration": 46,
    "start_time": "2021-07-20T17:39:02.452Z"
   },
   {
    "duration": 54,
    "start_time": "2021-07-20T17:39:02.501Z"
   },
   {
    "duration": 83,
    "start_time": "2021-07-20T17:39:02.558Z"
   },
   {
    "duration": 24,
    "start_time": "2021-07-20T17:39:02.644Z"
   },
   {
    "duration": 20,
    "start_time": "2021-07-20T17:39:02.670Z"
   },
   {
    "duration": 18,
    "start_time": "2021-07-20T17:39:02.696Z"
   },
   {
    "duration": 31,
    "start_time": "2021-07-20T17:39:02.719Z"
   },
   {
    "duration": 16,
    "start_time": "2021-07-20T17:39:02.752Z"
   },
   {
    "duration": 51,
    "start_time": "2021-07-20T17:39:02.771Z"
   },
   {
    "duration": 22,
    "start_time": "2021-07-20T17:39:02.824Z"
   },
   {
    "duration": 53,
    "start_time": "2021-07-20T17:39:02.848Z"
   },
   {
    "duration": 16,
    "start_time": "2021-07-20T17:39:02.904Z"
   },
   {
    "duration": 7,
    "start_time": "2021-07-20T17:39:02.923Z"
   },
   {
    "duration": 11,
    "start_time": "2021-07-20T17:39:02.933Z"
   },
   {
    "duration": 57,
    "start_time": "2021-07-20T17:39:02.947Z"
   },
   {
    "duration": 38,
    "start_time": "2021-07-20T17:39:03.007Z"
   },
   {
    "duration": 61,
    "start_time": "2021-07-20T17:39:03.048Z"
   },
   {
    "duration": 23,
    "start_time": "2021-07-20T17:39:03.112Z"
   },
   {
    "duration": 8,
    "start_time": "2021-07-20T17:39:03.137Z"
   },
   {
    "duration": 54,
    "start_time": "2021-07-20T17:39:03.148Z"
   },
   {
    "duration": 39,
    "start_time": "2021-07-20T17:39:03.205Z"
   },
   {
    "duration": 1001,
    "start_time": "2021-07-20T17:39:03.247Z"
   },
   {
    "duration": 14,
    "start_time": "2021-07-20T17:39:04.251Z"
   },
   {
    "duration": 17,
    "start_time": "2021-07-20T17:39:04.268Z"
   },
   {
    "duration": 29,
    "start_time": "2021-07-20T17:39:04.301Z"
   },
   {
    "duration": 26,
    "start_time": "2021-07-20T17:39:04.332Z"
   },
   {
    "duration": 41,
    "start_time": "2021-07-20T17:39:04.360Z"
   },
   {
    "duration": 22,
    "start_time": "2021-07-20T17:39:04.404Z"
   },
   {
    "duration": 116,
    "start_time": "2021-07-20T17:39:04.429Z"
   },
   {
    "duration": 10,
    "start_time": "2021-07-20T17:39:04.548Z"
   },
   {
    "duration": 41,
    "start_time": "2021-07-20T17:39:04.561Z"
   },
   {
    "duration": 4,
    "start_time": "2021-07-20T17:39:04.605Z"
   },
   {
    "duration": 50,
    "start_time": "2021-07-20T17:39:04.613Z"
   },
   {
    "duration": 36,
    "start_time": "2021-07-20T17:39:04.667Z"
   },
   {
    "duration": 27,
    "start_time": "2021-07-20T17:39:04.707Z"
   },
   {
    "duration": 4113,
    "start_time": "2021-07-20T17:39:04.737Z"
   },
   {
    "duration": 16,
    "start_time": "2021-07-20T17:39:08.853Z"
   },
   {
    "duration": 39,
    "start_time": "2021-07-20T17:39:08.872Z"
   },
   {
    "duration": 23,
    "start_time": "2021-07-20T17:39:08.914Z"
   },
   {
    "duration": 17,
    "start_time": "2021-07-20T17:39:08.940Z"
   },
   {
    "duration": 44,
    "start_time": "2021-07-20T17:39:08.960Z"
   },
   {
    "duration": 13,
    "start_time": "2021-07-20T17:39:09.007Z"
   },
   {
    "duration": 9,
    "start_time": "2021-07-20T17:39:09.024Z"
   },
   {
    "duration": 10,
    "start_time": "2021-07-20T17:39:09.035Z"
   },
   {
    "duration": 77,
    "start_time": "2021-07-20T17:39:09.047Z"
   },
   {
    "duration": 16,
    "start_time": "2021-07-20T17:39:09.127Z"
   },
   {
    "duration": 21,
    "start_time": "2021-07-20T17:39:09.146Z"
   },
   {
    "duration": 9,
    "start_time": "2021-07-20T17:39:09.201Z"
   },
   {
    "duration": 9,
    "start_time": "2021-07-20T17:39:09.213Z"
   },
   {
    "duration": 10,
    "start_time": "2021-07-20T17:39:09.224Z"
   },
   {
    "duration": 70,
    "start_time": "2021-07-20T17:39:09.243Z"
   },
   {
    "duration": 6,
    "start_time": "2021-07-20T17:39:09.317Z"
   },
   {
    "duration": 4,
    "start_time": "2021-07-20T17:39:09.325Z"
   },
   {
    "duration": 5,
    "start_time": "2021-07-20T17:39:09.332Z"
   },
   {
    "duration": 110,
    "start_time": "2021-07-20T17:39:09.340Z"
   },
   {
    "duration": 70,
    "start_time": "2021-07-20T17:39:09.453Z"
   },
   {
    "duration": 8,
    "start_time": "2021-07-20T17:39:09.526Z"
   },
   {
    "duration": 343,
    "start_time": "2021-07-20T17:39:09.536Z"
   },
   {
    "duration": 7,
    "start_time": "2021-07-20T17:39:09.881Z"
   },
   {
    "duration": 26,
    "start_time": "2021-07-20T17:39:09.891Z"
   },
   {
    "duration": 4,
    "start_time": "2021-07-20T17:39:09.920Z"
   },
   {
    "duration": 1388,
    "start_time": "2021-07-20T17:39:09.926Z"
   },
   {
    "duration": 22,
    "start_time": "2021-07-20T17:39:11.316Z"
   },
   {
    "duration": 64,
    "start_time": "2021-07-20T17:39:11.341Z"
   },
   {
    "duration": 10,
    "start_time": "2021-07-20T17:39:11.408Z"
   },
   {
    "duration": 20,
    "start_time": "2021-07-20T17:39:11.422Z"
   },
   {
    "duration": 13,
    "start_time": "2021-07-20T17:39:11.500Z"
   },
   {
    "duration": 6,
    "start_time": "2021-07-20T17:39:11.516Z"
   },
   {
    "duration": 11,
    "start_time": "2021-07-20T17:39:11.525Z"
   },
   {
    "duration": 17,
    "start_time": "2021-07-20T17:39:11.539Z"
   },
   {
    "duration": 733,
    "start_time": "2021-07-20T17:39:11.558Z"
   },
   {
    "duration": 330,
    "start_time": "2021-07-20T17:39:12.301Z"
   },
   {
    "duration": 18,
    "start_time": "2021-07-20T17:39:12.634Z"
   },
   {
    "duration": 10,
    "start_time": "2021-07-20T17:39:12.655Z"
   },
   {
    "duration": 491,
    "start_time": "2021-07-20T17:39:12.668Z"
   },
   {
    "duration": 12,
    "start_time": "2021-07-20T17:39:13.162Z"
   },
   {
    "duration": 77,
    "start_time": "2021-07-20T17:39:13.177Z"
   },
   {
    "duration": 106,
    "start_time": "2021-07-20T17:39:13.258Z"
   },
   {
    "duration": 34,
    "start_time": "2021-07-20T17:39:13.367Z"
   },
   {
    "duration": 39,
    "start_time": "2021-07-20T17:39:13.404Z"
   },
   {
    "duration": 7,
    "start_time": "2021-07-20T17:39:13.446Z"
   },
   {
    "duration": 44,
    "start_time": "2021-07-20T17:39:13.456Z"
   },
   {
    "duration": 976,
    "start_time": "2021-07-20T17:39:13.503Z"
   },
   {
    "duration": 33,
    "start_time": "2021-07-20T17:39:14.482Z"
   },
   {
    "duration": 26,
    "start_time": "2021-07-20T17:39:14.518Z"
   },
   {
    "duration": 58,
    "start_time": "2021-07-20T17:39:14.548Z"
   },
   {
    "duration": 8,
    "start_time": "2021-07-20T17:39:14.609Z"
   },
   {
    "duration": 29,
    "start_time": "2021-07-20T17:39:14.620Z"
   },
   {
    "duration": 26,
    "start_time": "2021-07-20T17:39:14.651Z"
   },
   {
    "duration": 18,
    "start_time": "2021-07-20T17:39:14.679Z"
   },
   {
    "duration": 19,
    "start_time": "2021-07-20T17:39:14.701Z"
   },
   {
    "duration": 17,
    "start_time": "2021-07-20T17:39:14.722Z"
   },
   {
    "duration": 46,
    "start_time": "2021-07-20T17:39:14.742Z"
   },
   {
    "duration": 27,
    "start_time": "2021-07-20T17:39:14.791Z"
   },
   {
    "duration": 46,
    "start_time": "2021-07-20T17:39:14.820Z"
   },
   {
    "duration": 24,
    "start_time": "2021-07-20T17:39:14.869Z"
   },
   {
    "duration": 20,
    "start_time": "2021-07-20T17:39:14.896Z"
   },
   {
    "duration": 26,
    "start_time": "2021-07-20T17:39:14.919Z"
   },
   {
    "duration": 45,
    "start_time": "2021-07-20T17:39:14.948Z"
   }
  ],
  "colab": {
   "name": "DA+. Сборный проект 1. Шаблон (1).ipynb",
   "provenance": []
  },
  "kernelspec": {
   "display_name": "Python 3",
   "language": "python",
   "name": "python3"
  },
  "language_info": {
   "codemirror_mode": {
    "name": "ipython",
    "version": 3
   },
   "file_extension": ".py",
   "mimetype": "text/x-python",
   "name": "python",
   "nbconvert_exporter": "python",
   "pygments_lexer": "ipython3",
   "version": "3.8.5"
  },
  "toc": {
   "base_numbering": 1,
   "nav_menu": {},
   "number_sections": true,
   "sideBar": true,
   "skip_h1_title": true,
   "title_cell": "Table of Contents",
   "title_sidebar": "Contents",
   "toc_cell": false,
   "toc_position": {
    "height": "calc(100% - 180px)",
    "left": "10px",
    "top": "150px",
    "width": "375.391px"
   },
   "toc_section_display": true,
   "toc_window_display": false
  }
 },
 "nbformat": 4,
 "nbformat_minor": 1
}
