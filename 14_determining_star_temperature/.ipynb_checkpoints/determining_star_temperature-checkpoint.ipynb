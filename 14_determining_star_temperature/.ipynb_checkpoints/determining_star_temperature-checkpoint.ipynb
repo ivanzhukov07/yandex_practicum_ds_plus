{
 "cells": [
  {
   "cell_type": "markdown",
   "metadata": {
    "ExecuteTime": {
     "end_time": "2022-05-05T04:58:05.692448Z",
     "start_time": "2022-05-05T04:58:05.688565Z"
    }
   },
   "source": [
    "## Determining star temperature"
   ]
  },
  {
   "cell_type": "markdown",
   "metadata": {},
   "source": [
    "We received a task from the observatory: to figure out how to use a neural network to determine the temperature on the surface of detected stars. \n",
    "\n",
    "Usually , scientists use the following methods to calculate the temperature:\n",
    "\n",
    "- The law of displacement of Wine\n",
    "- Stefan-Boltzmann Law\n",
    "- Spectral analysis\n",
    "\n",
    "Each of them has pros and cons. \n",
    "\n",
    "The observatory wants to introduce machine learning technologies to predict the temperature of stars, hoping that this method will be the most accurate and convenient.\n",
    "\n",
    "The observatory's database contains the characteristics of 240 stars that have already been studied."
   ]
  },
  {
   "cell_type": "markdown",
   "metadata": {},
   "source": [
    "**Features**\n",
    "\n",
    "- Relative luminosity **`L/Lo`** — luminosity of a star relative to the Sun\n",
    "- Relative radius **`R/Ro`** — radius of the star relative to the radius of the Sun\n",
    "- Absolute magnitude **`Mv`** — a physical quantity that characterizes the brilliance of a star\n",
    "- Star color (**`white`**, **`red`**, **`blue`**, **`yellow`**, **`yellow-orange`**, etc.) — the color of the star, which is determined on the basis of pectral analysis\n",
    "- Type of star\n",
    "\n",
    "| Type of star | The number corresponding to the type |\n",
    "| ------|------ |\n",
    "| Brown dwarf | 0 |\n",
    "| Red Dwarf | 1 |\n",
    "| White dwarf | 2 |\n",
    "| Main sequence stars | 3 |\n",
    "| Supergiant | 4 |\n",
    "| Hypergiant | 5 |\n",
    "\n",
    "- Absolute temperature **`T(K)`** — temperature on the surface of the star in Kelvins.\n",
    "\n",
    "**Background information:**\n",
    "\n",
    "- $ L_{0} = 3.828 * 10^{26} $ W - The Luminosity of the Sun (Average Luminosity of the Sun) \n",
    "- $ R_{0} = 6.9551 * 10^{8} $ m is the Radius of the Sun (Average Radius of the Sun) \n",
    "\n",
    "**Project objective**\n",
    "\n",
    "It is necessary to develop a neural network that will help predict the absolute temperature on the surface of the star."
   ]
  },
  {
   "cell_type": "code",
   "execution_count": 1,
   "metadata": {},
   "outputs": [],
   "source": [
    "import warnings\n",
    "warnings.filterwarnings('ignore')\n",
    "\n",
    "import pandas as pd\n",
    "import numpy as np\n",
    "import matplotlib.pyplot as plt\n",
    "import seaborn as sns\n",
    "import datetime\n",
    "import math\n",
    "\n",
    "from sklearn.preprocessing import StandardScaler\n",
    "from sklearn.preprocessing import OneHotEncoder\n",
    "from sklearn.preprocessing import OrdinalEncoder\n",
    "\n",
    "from sklearn.model_selection import train_test_split\n",
    "from sklearn.model_selection import GridSearchCV\n",
    "from sklearn.model_selection import KFold\n",
    "from sklearn.model_selection import cross_val_score\n",
    "\n",
    "from sklearn.linear_model import LinearRegression\n",
    "from sklearn.tree import DecisionTreeRegressor\n",
    "from sklearn.ensemble import RandomForestRegressor\n",
    "from catboost import Pool, CatBoostRegressor, cv\n",
    "from lightgbm import LGBMRegressor\n",
    "from sklearn.utils import shuffle\n",
    "\n",
    "from sklearn.metrics import accuracy_score\n",
    "from sklearn.metrics import f1_score\n",
    "from sklearn.metrics import roc_curve\n",
    "from sklearn.metrics import roc_auc_score\n",
    "from sklearn.metrics import recall_score\n",
    "from sklearn.metrics import precision_score\n",
    "from sklearn.metrics import mean_squared_error\n",
    "\n",
    "import torch\n",
    "import torch.nn as nn"
   ]
  },
  {
   "cell_type": "markdown",
   "metadata": {},
   "source": [
    "## Loading data"
   ]
  },
  {
   "cell_type": "code",
   "execution_count": 2,
   "metadata": {},
   "outputs": [
    {
     "data": {
      "text/html": [
       "<div>\n",
       "<style scoped>\n",
       "    .dataframe tbody tr th:only-of-type {\n",
       "        vertical-align: middle;\n",
       "    }\n",
       "\n",
       "    .dataframe tbody tr th {\n",
       "        vertical-align: top;\n",
       "    }\n",
       "\n",
       "    .dataframe thead th {\n",
       "        text-align: right;\n",
       "    }\n",
       "</style>\n",
       "<table border=\"1\" class=\"dataframe\">\n",
       "  <thead>\n",
       "    <tr style=\"text-align: right;\">\n",
       "      <th></th>\n",
       "      <th>Temperature (K)</th>\n",
       "      <th>Luminosity(L/Lo)</th>\n",
       "      <th>Radius(R/Ro)</th>\n",
       "      <th>Absolute magnitude(Mv)</th>\n",
       "      <th>Star type</th>\n",
       "      <th>Star color</th>\n",
       "    </tr>\n",
       "  </thead>\n",
       "  <tbody>\n",
       "    <tr>\n",
       "      <th>0</th>\n",
       "      <td>3068</td>\n",
       "      <td>0.0024</td>\n",
       "      <td>0.1700</td>\n",
       "      <td>16.12</td>\n",
       "      <td>0</td>\n",
       "      <td>Red</td>\n",
       "    </tr>\n",
       "    <tr>\n",
       "      <th>1</th>\n",
       "      <td>3042</td>\n",
       "      <td>0.0005</td>\n",
       "      <td>0.1542</td>\n",
       "      <td>16.60</td>\n",
       "      <td>0</td>\n",
       "      <td>Red</td>\n",
       "    </tr>\n",
       "    <tr>\n",
       "      <th>2</th>\n",
       "      <td>2600</td>\n",
       "      <td>0.0003</td>\n",
       "      <td>0.1020</td>\n",
       "      <td>18.70</td>\n",
       "      <td>0</td>\n",
       "      <td>Red</td>\n",
       "    </tr>\n",
       "  </tbody>\n",
       "</table>\n",
       "</div>"
      ],
      "text/plain": [
       "   Temperature (K)  Luminosity(L/Lo)  Radius(R/Ro)  Absolute magnitude(Mv)  \\\n",
       "0             3068            0.0024        0.1700                   16.12   \n",
       "1             3042            0.0005        0.1542                   16.60   \n",
       "2             2600            0.0003        0.1020                   18.70   \n",
       "\n",
       "   Star type Star color  \n",
       "0          0        Red  \n",
       "1          0        Red  \n",
       "2          0        Red  "
      ]
     },
     "execution_count": 2,
     "metadata": {},
     "output_type": "execute_result"
    }
   ],
   "source": [
    "df = pd.read_csv('/datasets/6_class.csv',index_col = 0)\n",
    "df = df.drop(df.iloc[:, [0]], axis=1)\n",
    "\n",
    "df.head(3)"
   ]
  },
  {
   "cell_type": "code",
   "execution_count": 3,
   "metadata": {},
   "outputs": [
    {
     "name": "stdout",
     "output_type": "stream",
     "text": [
      "<class 'pandas.core.frame.DataFrame'>\n",
      "Int64Index: 240 entries, 0 to 239\n",
      "Data columns (total 6 columns):\n",
      " #   Column                  Non-Null Count  Dtype  \n",
      "---  ------                  --------------  -----  \n",
      " 0   Temperature (K)         240 non-null    int64  \n",
      " 1   Luminosity(L/Lo)        240 non-null    float64\n",
      " 2   Radius(R/Ro)            240 non-null    float64\n",
      " 3   Absolute magnitude(Mv)  240 non-null    float64\n",
      " 4   Star type               240 non-null    int64  \n",
      " 5   Star color              240 non-null    object \n",
      "dtypes: float64(3), int64(2), object(1)\n",
      "memory usage: 13.1+ KB\n"
     ]
    }
   ],
   "source": [
    "df.info()"
   ]
  },
  {
   "cell_type": "code",
   "execution_count": 4,
   "metadata": {},
   "outputs": [
    {
     "data": {
      "text/html": [
       "<div>\n",
       "<style scoped>\n",
       "    .dataframe tbody tr th:only-of-type {\n",
       "        vertical-align: middle;\n",
       "    }\n",
       "\n",
       "    .dataframe tbody tr th {\n",
       "        vertical-align: top;\n",
       "    }\n",
       "\n",
       "    .dataframe thead th {\n",
       "        text-align: right;\n",
       "    }\n",
       "</style>\n",
       "<table border=\"1\" class=\"dataframe\">\n",
       "  <thead>\n",
       "    <tr style=\"text-align: right;\">\n",
       "      <th></th>\n",
       "      <th>count</th>\n",
       "      <th>mean</th>\n",
       "      <th>std</th>\n",
       "      <th>min</th>\n",
       "      <th>25%</th>\n",
       "      <th>50%</th>\n",
       "      <th>75%</th>\n",
       "      <th>max</th>\n",
       "    </tr>\n",
       "  </thead>\n",
       "  <tbody>\n",
       "    <tr>\n",
       "      <th>Temperature (K)</th>\n",
       "      <td>240.0</td>\n",
       "      <td>10497.462500</td>\n",
       "      <td>9552.425037</td>\n",
       "      <td>1939.00000</td>\n",
       "      <td>3344.250000</td>\n",
       "      <td>5776.0000</td>\n",
       "      <td>15055.5000</td>\n",
       "      <td>40000.00</td>\n",
       "    </tr>\n",
       "    <tr>\n",
       "      <th>Luminosity(L/Lo)</th>\n",
       "      <td>240.0</td>\n",
       "      <td>107188.361635</td>\n",
       "      <td>179432.244940</td>\n",
       "      <td>0.00008</td>\n",
       "      <td>0.000865</td>\n",
       "      <td>0.0705</td>\n",
       "      <td>198050.0000</td>\n",
       "      <td>849420.00</td>\n",
       "    </tr>\n",
       "    <tr>\n",
       "      <th>Radius(R/Ro)</th>\n",
       "      <td>240.0</td>\n",
       "      <td>237.157781</td>\n",
       "      <td>517.155763</td>\n",
       "      <td>0.00840</td>\n",
       "      <td>0.102750</td>\n",
       "      <td>0.7625</td>\n",
       "      <td>42.7500</td>\n",
       "      <td>1948.50</td>\n",
       "    </tr>\n",
       "    <tr>\n",
       "      <th>Absolute magnitude(Mv)</th>\n",
       "      <td>240.0</td>\n",
       "      <td>4.382396</td>\n",
       "      <td>10.532512</td>\n",
       "      <td>-11.92000</td>\n",
       "      <td>-6.232500</td>\n",
       "      <td>8.3130</td>\n",
       "      <td>13.6975</td>\n",
       "      <td>20.06</td>\n",
       "    </tr>\n",
       "    <tr>\n",
       "      <th>Star type</th>\n",
       "      <td>240.0</td>\n",
       "      <td>2.500000</td>\n",
       "      <td>1.711394</td>\n",
       "      <td>0.00000</td>\n",
       "      <td>1.000000</td>\n",
       "      <td>2.5000</td>\n",
       "      <td>4.0000</td>\n",
       "      <td>5.00</td>\n",
       "    </tr>\n",
       "  </tbody>\n",
       "</table>\n",
       "</div>"
      ],
      "text/plain": [
       "                        count           mean            std         min  \\\n",
       "Temperature (K)         240.0   10497.462500    9552.425037  1939.00000   \n",
       "Luminosity(L/Lo)        240.0  107188.361635  179432.244940     0.00008   \n",
       "Radius(R/Ro)            240.0     237.157781     517.155763     0.00840   \n",
       "Absolute magnitude(Mv)  240.0       4.382396      10.532512   -11.92000   \n",
       "Star type               240.0       2.500000       1.711394     0.00000   \n",
       "\n",
       "                                25%        50%          75%        max  \n",
       "Temperature (K)         3344.250000  5776.0000   15055.5000   40000.00  \n",
       "Luminosity(L/Lo)           0.000865     0.0705  198050.0000  849420.00  \n",
       "Radius(R/Ro)               0.102750     0.7625      42.7500    1948.50  \n",
       "Absolute magnitude(Mv)    -6.232500     8.3130      13.6975      20.06  \n",
       "Star type                  1.000000     2.5000       4.0000       5.00  "
      ]
     },
     "execution_count": 4,
     "metadata": {},
     "output_type": "execute_result"
    }
   ],
   "source": [
    "df.describe().T"
   ]
  },
  {
   "cell_type": "markdown",
   "metadata": {},
   "source": [
    "**Conclusion:**\n",
    "\n",
    "- imported the libraries necessary for the work\n",
    "- downloaded and viewed basic information about our data"
   ]
  },
  {
   "cell_type": "markdown",
   "metadata": {},
   "source": [
    "## Data preprocessing and analysis"
   ]
  },
  {
   "cell_type": "markdown",
   "metadata": {},
   "source": [
    "### Exploratory data analysis"
   ]
  },
  {
   "cell_type": "markdown",
   "metadata": {},
   "source": [
    "At the very beginning, rename the column names, it is very inconvenient to work with names containing spaces and different case."
   ]
  },
  {
   "cell_type": "code",
   "execution_count": 5,
   "metadata": {},
   "outputs": [],
   "source": [
    "df.columns = ['temp', 'lum_rel', 'rad_rel', 'magn', 'type', 'color']"
   ]
  },
  {
   "cell_type": "markdown",
   "metadata": {},
   "source": [
    "The number of null values (was previously in *`info`*)"
   ]
  },
  {
   "cell_type": "code",
   "execution_count": 6,
   "metadata": {},
   "outputs": [
    {
     "data": {
      "text/plain": [
       "0"
      ]
     },
     "execution_count": 6,
     "metadata": {},
     "output_type": "execute_result"
    }
   ],
   "source": [
    "df.isnull().sum().sum()"
   ]
  },
  {
   "cell_type": "markdown",
   "metadata": {},
   "source": [
    "Number of obvious duplicates"
   ]
  },
  {
   "cell_type": "code",
   "execution_count": 7,
   "metadata": {},
   "outputs": [
    {
     "data": {
      "text/plain": [
       "0"
      ]
     },
     "execution_count": 7,
     "metadata": {},
     "output_type": "execute_result"
    }
   ],
   "source": [
    "df.duplicated().sum()"
   ]
  },
  {
   "cell_type": "markdown",
   "metadata": {},
   "source": [
    "Now let's consider the quantitative and categorical variables separately.\n",
    "\n",
    "There are **6 signs** in our data.\n",
    "\n",
    "**Categorical**:\n",
    " - **`type`** - type of star\n",
    " - **`color`** - star color\n",
    "\n",
    "**Quantitative:**\n",
    " - **`temp`** - absolute temperature\n",
    " - **`lum_rel`** - relative luminosity\n",
    " - **`rad_rel`** - relative radius\n",
    " - **`magn`** - absolute magnitude\n",
    " \n",
    "***Note***\n",
    "\n",
    "For reference, we are given the values of the radius and luminosity of the Earth, but I suggest not to recalculate the relative indicators into absolute ones (**`lum_rel`**, **`rad_rel`**)\n",
    "\n",
    "This will add extra digits to us, but it will not add informativeness."
   ]
  },
  {
   "cell_type": "code",
   "execution_count": 8,
   "metadata": {},
   "outputs": [],
   "source": [
    "cat = ['type', 'color']\n",
    "num = ['temp','lum_rel','rad_rel','magn']"
   ]
  },
  {
   "cell_type": "markdown",
   "metadata": {},
   "source": [
    "Next, let's look at the distributions for each of the variables.\n",
    "\n",
    "First let 's look at the categorical:"
   ]
  },
  {
   "cell_type": "code",
   "execution_count": 9,
   "metadata": {},
   "outputs": [
    {
     "name": "stdout",
     "output_type": "stream",
     "text": [
      "[0 1 2 3 4 5]\n",
      "['Red' 'Blue White' 'White' 'Yellowish White' 'Blue white'\n",
      " 'Pale yellow orange' 'Blue' 'Blue-white' 'Whitish' 'yellow-white'\n",
      " 'Orange' 'White-Yellow' 'white' 'Blue ' 'yellowish' 'Yellowish'\n",
      " 'Orange-Red' 'Blue white ' 'Blue-White']\n"
     ]
    }
   ],
   "source": [
    "for i in cat:\n",
    "    print(df[i].unique())"
   ]
  },
  {
   "cell_type": "markdown",
   "metadata": {},
   "source": [
    "The values of the **`color`** attribute require manual adjustment"
   ]
  },
  {
   "cell_type": "code",
   "execution_count": 10,
   "metadata": {},
   "outputs": [],
   "source": [
    "df['color'] = np.where(df['color'].isin(['Blue ','Blue']),'Blue', df['color'])\n",
    "df['color'] = np.where(df['color'].isin(['Blue white','Blue-white','Blue White',\n",
    "                                        'Blue white ','Blue-White']),'Blue White', df['color'])\n",
    "df['color'] = np.where(df['color'].isin(['White','white','Whitish']),'White', df['color'])\n",
    "df['color'] = np.where(df['color'].isin(['White-Yellow','Yellowish White','yellow-white']),\n",
    "                                                                    'Yellow White', df['color'])\n",
    "\n",
    "df['color'] = np.where(df['color'].isin(['yellowish','Yellowish']),'Yellow', df['color'])\n",
    "\n",
    "df['color'] = np.where(df['color'].isin(['Orange-Red']),'Orange Red', df['color'])"
   ]
  },
  {
   "cell_type": "markdown",
   "metadata": {},
   "source": [
    "There are **`Pale yellow orange`** and **`Orange Red`** to recode them, let's look at the average temperature values"
   ]
  },
  {
   "cell_type": "code",
   "execution_count": 11,
   "metadata": {},
   "outputs": [
    {
     "data": {
      "text/html": [
       "<div>\n",
       "<style scoped>\n",
       "    .dataframe tbody tr th:only-of-type {\n",
       "        vertical-align: middle;\n",
       "    }\n",
       "\n",
       "    .dataframe tbody tr th {\n",
       "        vertical-align: top;\n",
       "    }\n",
       "\n",
       "    .dataframe thead th {\n",
       "        text-align: right;\n",
       "    }\n",
       "</style>\n",
       "<table border=\"1\" class=\"dataframe\">\n",
       "  <thead>\n",
       "    <tr style=\"text-align: right;\">\n",
       "      <th></th>\n",
       "      <th>Mean</th>\n",
       "      <th>Std</th>\n",
       "      <th>cnt</th>\n",
       "    </tr>\n",
       "    <tr>\n",
       "      <th>color</th>\n",
       "      <th></th>\n",
       "      <th></th>\n",
       "      <th></th>\n",
       "    </tr>\n",
       "  </thead>\n",
       "  <tbody>\n",
       "    <tr>\n",
       "      <th>Blue</th>\n",
       "      <td>21918.339286</td>\n",
       "      <td>9453.979609</td>\n",
       "      <td>56</td>\n",
       "    </tr>\n",
       "    <tr>\n",
       "      <th>Blue White</th>\n",
       "      <td>16659.951220</td>\n",
       "      <td>6560.050964</td>\n",
       "      <td>41</td>\n",
       "    </tr>\n",
       "    <tr>\n",
       "      <th>Orange</th>\n",
       "      <td>4018.000000</td>\n",
       "      <td>380.423448</td>\n",
       "      <td>2</td>\n",
       "    </tr>\n",
       "    <tr>\n",
       "      <th>Orange Red</th>\n",
       "      <td>5112.000000</td>\n",
       "      <td>NaN</td>\n",
       "      <td>1</td>\n",
       "    </tr>\n",
       "    <tr>\n",
       "      <th>Pale yellow orange</th>\n",
       "      <td>7230.000000</td>\n",
       "      <td>NaN</td>\n",
       "      <td>1</td>\n",
       "    </tr>\n",
       "    <tr>\n",
       "      <th>Red</th>\n",
       "      <td>3291.785714</td>\n",
       "      <td>490.780761</td>\n",
       "      <td>112</td>\n",
       "    </tr>\n",
       "    <tr>\n",
       "      <th>White</th>\n",
       "      <td>9579.583333</td>\n",
       "      <td>2368.265513</td>\n",
       "      <td>12</td>\n",
       "    </tr>\n",
       "    <tr>\n",
       "      <th>Yellow</th>\n",
       "      <td>4527.666667</td>\n",
       "      <td>451.502307</td>\n",
       "      <td>3</td>\n",
       "    </tr>\n",
       "    <tr>\n",
       "      <th>Yellow White</th>\n",
       "      <td>7609.166667</td>\n",
       "      <td>2428.134444</td>\n",
       "      <td>12</td>\n",
       "    </tr>\n",
       "  </tbody>\n",
       "</table>\n",
       "</div>"
      ],
      "text/plain": [
       "                            Mean          Std  cnt\n",
       "color                                             \n",
       "Blue                21918.339286  9453.979609   56\n",
       "Blue White          16659.951220  6560.050964   41\n",
       "Orange               4018.000000   380.423448    2\n",
       "Orange Red           5112.000000          NaN    1\n",
       "Pale yellow orange   7230.000000          NaN    1\n",
       "Red                  3291.785714   490.780761  112\n",
       "White                9579.583333  2368.265513   12\n",
       "Yellow               4527.666667   451.502307    3\n",
       "Yellow White         7609.166667  2428.134444   12"
      ]
     },
     "execution_count": 11,
     "metadata": {},
     "output_type": "execute_result"
    }
   ],
   "source": [
    "df.groupby('color').agg(Mean=('temp', np.mean),\n",
    "                        Std= ('temp', np.std),\n",
    "                        cnt= ('temp', 'count'))"
   ]
  },
  {
   "cell_type": "code",
   "execution_count": 12,
   "metadata": {},
   "outputs": [],
   "source": [
    "df['color'] = np.where(df['color'].isin(['Orange Red']),'Orange', df['color'])\n",
    "\n",
    "df['color'] = np.where(df['color'].isin(['Pale yellow orange']),'Yellow White', df['color'])"
   ]
  },
  {
   "cell_type": "markdown",
   "metadata": {},
   "source": [
    "Check"
   ]
  },
  {
   "cell_type": "code",
   "execution_count": 13,
   "metadata": {},
   "outputs": [
    {
     "name": "stdout",
     "output_type": "stream",
     "text": [
      "[0 1 2 3 4 5]\n",
      "['Red' 'Blue White' 'White' 'Yellow White' 'Blue' 'Orange' 'Yellow']\n"
     ]
    }
   ],
   "source": [
    "for i in cat:\n",
    "    print(df[i].unique())"
   ]
  },
  {
   "cell_type": "code",
   "execution_count": 14,
   "metadata": {},
   "outputs": [
    {
     "data": {
      "text/html": [
       "<div>\n",
       "<style scoped>\n",
       "    .dataframe tbody tr th:only-of-type {\n",
       "        vertical-align: middle;\n",
       "    }\n",
       "\n",
       "    .dataframe tbody tr th {\n",
       "        vertical-align: top;\n",
       "    }\n",
       "\n",
       "    .dataframe thead th {\n",
       "        text-align: right;\n",
       "    }\n",
       "</style>\n",
       "<table border=\"1\" class=\"dataframe\">\n",
       "  <thead>\n",
       "    <tr style=\"text-align: right;\">\n",
       "      <th></th>\n",
       "      <th>Mean</th>\n",
       "      <th>Std</th>\n",
       "      <th>cnt</th>\n",
       "    </tr>\n",
       "    <tr>\n",
       "      <th>color</th>\n",
       "      <th></th>\n",
       "      <th></th>\n",
       "      <th></th>\n",
       "    </tr>\n",
       "  </thead>\n",
       "  <tbody>\n",
       "    <tr>\n",
       "      <th>Blue</th>\n",
       "      <td>21918.339286</td>\n",
       "      <td>9453.979609</td>\n",
       "      <td>56</td>\n",
       "    </tr>\n",
       "    <tr>\n",
       "      <th>Blue White</th>\n",
       "      <td>16659.951220</td>\n",
       "      <td>6560.050964</td>\n",
       "      <td>41</td>\n",
       "    </tr>\n",
       "    <tr>\n",
       "      <th>Orange</th>\n",
       "      <td>4382.666667</td>\n",
       "      <td>686.517540</td>\n",
       "      <td>3</td>\n",
       "    </tr>\n",
       "    <tr>\n",
       "      <th>Red</th>\n",
       "      <td>3291.785714</td>\n",
       "      <td>490.780761</td>\n",
       "      <td>112</td>\n",
       "    </tr>\n",
       "    <tr>\n",
       "      <th>White</th>\n",
       "      <td>9579.583333</td>\n",
       "      <td>2368.265513</td>\n",
       "      <td>12</td>\n",
       "    </tr>\n",
       "    <tr>\n",
       "      <th>Yellow</th>\n",
       "      <td>4527.666667</td>\n",
       "      <td>451.502307</td>\n",
       "      <td>3</td>\n",
       "    </tr>\n",
       "    <tr>\n",
       "      <th>Yellow White</th>\n",
       "      <td>7580.000000</td>\n",
       "      <td>2327.139052</td>\n",
       "      <td>13</td>\n",
       "    </tr>\n",
       "  </tbody>\n",
       "</table>\n",
       "</div>"
      ],
      "text/plain": [
       "                      Mean          Std  cnt\n",
       "color                                       \n",
       "Blue          21918.339286  9453.979609   56\n",
       "Blue White    16659.951220  6560.050964   41\n",
       "Orange         4382.666667   686.517540    3\n",
       "Red            3291.785714   490.780761  112\n",
       "White          9579.583333  2368.265513   12\n",
       "Yellow         4527.666667   451.502307    3\n",
       "Yellow White   7580.000000  2327.139052   13"
      ]
     },
     "execution_count": 14,
     "metadata": {},
     "output_type": "execute_result"
    }
   ],
   "source": [
    "df.groupby('color').agg(Mean=('temp', np.mean),\n",
    "                        Std= ('temp', np.std),\n",
    "                        cnt= ('temp', 'count'))"
   ]
  },
  {
   "cell_type": "code",
   "execution_count": 15,
   "metadata": {},
   "outputs": [
    {
     "name": "stdout",
     "output_type": "stream",
     "text": [
      "CPU times: user 72.8 ms, sys: 3.74 ms, total: 76.5 ms\n",
      "Wall time: 77.3 ms\n"
     ]
    },
    {
     "data": {
      "image/png": "[encoded data removed]",
      "text/plain": [
       "<Figure size 1296x1008 with 2 Axes>"
      ]
     },
     "metadata": {
      "needs_background": "light"
     },
     "output_type": "display_data"
    }
   ],
   "source": [
    "%%time\n",
    "\n",
    "plt.figure(figsize = (18, 14))\n",
    "plt.subplots_adjust(hspace = 0.5)\n",
    "plt.suptitle(\"Categorical features\", fontsize = 18, y = 0.95)\n",
    "\n",
    "for n, ct in enumerate(cat):\n",
    "    ax = plt.subplot(4, 1, n + 1)\n",
    "    sns.countplot(x = df[ct], ax = ax)\n",
    "    plt.xticks(rotation=45)\n",
    "    plt.grid(True)"
   ]
  },
  {
   "cell_type": "markdown",
   "metadata": {},
   "source": [
    "Now the quantitative variables"
   ]
  },
  {
   "cell_type": "markdown",
   "metadata": {},
   "source": [
    "We will select the temperature separately - then it will be the target variable"
   ]
  },
  {
   "cell_type": "code",
   "execution_count": 16,
   "metadata": {},
   "outputs": [
    {
     "data": {
      "image/png": "[encoded data removed]",
      "text/plain": [
       "<Figure size 1008x576 with 2 Axes>"
      ]
     },
     "metadata": {
      "needs_background": "light"
     },
     "output_type": "display_data"
    }
   ],
   "source": [
    "f, (ax_hist, ax_box) = plt.subplots(2, sharex = True, gridspec_kw = {\"height_ratios\": (5, 1)}, figsize = (14,8))\n",
    "sns.histplot(data = df, x = \"temp\", ax = ax_hist, color = 'green',  fill = True)\n",
    "ax_hist.set_title(\"Temperature distribution\")\n",
    "ax_hist.grid()\n",
    "\n",
    "sns.boxplot(data = df, x = \"temp\", ax = ax_box, color = 'green')\n",
    "ax_box.grid()\n",
    "plt.show()"
   ]
  },
  {
   "cell_type": "code",
   "execution_count": 17,
   "metadata": {},
   "outputs": [
    {
     "name": "stdout",
     "output_type": "stream",
     "text": [
      "CPU times: user 62.1 ms, sys: 2.7 ms, total: 64.8 ms\n",
      "Wall time: 63.8 ms\n"
     ]
    },
    {
     "data": {
      "image/png": "[encoded data removed]",
      "text/plain": [
       "<Figure size 1296x1008 with 3 Axes>"
      ]
     },
     "metadata": {
      "needs_background": "light"
     },
     "output_type": "display_data"
    }
   ],
   "source": [
    "%%time\n",
    "\n",
    "num_grph = ['lum_rel','rad_rel','magn']\n",
    "\n",
    "plt.figure(figsize = (18, 14))\n",
    "plt.subplots_adjust(hspace = 0.5)\n",
    "plt.suptitle(\"Quantitative features\", fontsize = 18, y = 0.95)\n",
    "\n",
    "for n, ct in enumerate(num_grph):\n",
    "    ax = plt.subplot(4, 2, n + 1)\n",
    "    ax = plt.hist(df[ct], color = 'orange', edgecolor= 'black')\n",
    "    plt.title(f'Distribution of {ct}')\n",
    "    plt.xlabel(ct)\n",
    "    plt.ylabel('count')\n",
    "    plt.grid(True)"
   ]
  },
  {
   "cell_type": "markdown",
   "metadata": {},
   "source": [
    "Now let's look at the dependencies between the variables in our dataset"
   ]
  },
  {
   "cell_type": "markdown",
   "metadata": {},
   "source": [
    "**Let's build a scatter diagram**"
   ]
  },
  {
   "cell_type": "code",
   "execution_count": 18,
   "metadata": {},
   "outputs": [
    {
     "data": {
      "image/png": "[encoded data removed]",
      "text/plain": [
       "<Figure size 762.375x720 with 14 Axes>"
      ]
     },
     "metadata": {
      "needs_background": "light"
     },
     "output_type": "display_data"
    }
   ],
   "source": [
    "sns.pairplot(df, hue = 'type' ,corner = True, palette = 'Set2')\n",
    "plt.suptitle(\"Scatter diagram\")\n",
    "plt.show()"
   ]
  },
  {
   "cell_type": "markdown",
   "metadata": {},
   "source": [
    "**Let's build a correlation matrix**"
   ]
  },
  {
   "cell_type": "code",
   "execution_count": 19,
   "metadata": {},
   "outputs": [
    {
     "data": {
      "image/png": "[encoded data removed]",
      "text/plain": [
       "<Figure size 720x720 with 2 Axes>"
      ]
     },
     "metadata": {
      "needs_background": "light"
     },
     "output_type": "display_data"
    }
   ],
   "source": [
    "fig, ax = plt.subplots(figsize = (10,10))    \n",
    "\n",
    "sns.heatmap(df.corr(), annot = True, linewidths=.5, cmap=\"YlGnBu\", square=True, ax = ax)\n",
    "plt.suptitle(\"Feature correlation\")\n",
    "plt.show()"
   ]
  },
  {
   "cell_type": "markdown",
   "metadata": {},
   "source": [
    "**Conclusion**\n",
    "\n",
    "- the amount of data for the research is very small:\n",
    "    - 250 records\n",
    "    - 2 categorical and 4 quantitative variables\n",
    "- there are no omissions and obvious duplicates in the data\n",
    "- the values of the **`color`** attribute have been adjusted manually\n",
    "- when considering the parameters in detail, it was not possible to identify obvious regularities\n",
    "    - both the distribution of each variable in buckets separately\n",
    "    - and pairwise dependencies (scatter diagram and correlation matrix) were considered\n",
    "- the only significant observation is the strong dependence of the type of star `type` and the absolute magnitude `magn`"
   ]
  },
  {
   "cell_type": "markdown",
   "metadata": {},
   "source": [
    "### Preparing data for model training"
   ]
  },
  {
   "cell_type": "markdown",
   "metadata": {},
   "source": [
    "We will scale quantitative data and OHE categorization of categorical variables"
   ]
  },
  {
   "cell_type": "code",
   "execution_count": 20,
   "metadata": {},
   "outputs": [],
   "source": [
    "scaler = StandardScaler()\n",
    "ohe = OneHotEncoder() "
   ]
  },
  {
   "cell_type": "code",
   "execution_count": 21,
   "metadata": {},
   "outputs": [],
   "source": [
    "for col in num:\n",
    "    df[str(col) + \"_sc\"] = scaler.fit_transform(df[[col]])\n",
    "\n",
    "tp = ohe.fit_transform(df['type'].values.reshape(-1,1)).toarray()\n",
    "clr = ohe.fit_transform(df['color'].values.reshape(-1,1)).toarray()\n",
    "\n",
    "dfOneHot = pd.DataFrame(tp, columns = [\"tp\"+str(int(i)) for i in range(tp.shape[1])])\n",
    "df = pd.concat([df, dfOneHot], axis=1)\n",
    "\n",
    "dfOneHot = pd.DataFrame(clr, columns = [\"clr_\"+str(int(i)) for i in range(clr.shape[1])])\n",
    "df = pd.concat([df, dfOneHot], axis=1)\n",
    "\n",
    "df['temp'] = df['temp'].astype('float')"
   ]
  },
  {
   "cell_type": "code",
   "execution_count": 22,
   "metadata": {},
   "outputs": [
    {
     "data": {
      "text/plain": [
       "Index(['temp', 'lum_rel', 'rad_rel', 'magn', 'type', 'color', 'temp_sc',\n",
       "       'lum_rel_sc', 'rad_rel_sc', 'magn_sc', 'tp0', 'tp1', 'tp2', 'tp3',\n",
       "       'tp4', 'tp5', 'clr_0', 'clr_1', 'clr_2', 'clr_3', 'clr_4', 'clr_5',\n",
       "       'clr_6'],\n",
       "      dtype='object')"
      ]
     },
     "execution_count": 22,
     "metadata": {},
     "output_type": "execute_result"
    }
   ],
   "source": [
    "df.columns"
   ]
  },
  {
   "cell_type": "markdown",
   "metadata": {},
   "source": [
    "We will prepare train and test samples"
   ]
  },
  {
   "cell_type": "code",
   "execution_count": 23,
   "metadata": {},
   "outputs": [],
   "source": [
    "df_mdl = df.drop(columns = cat + num).copy()\n",
    "\n",
    "X_train_pd, X_test_pd, y_train_pd, y_test_pd = train_test_split(\n",
    "    df_mdl.drop(columns = ['temp_sc']), \n",
    "    df_mdl.temp_sc, \n",
    "    test_size = 0.3, \n",
    "    shuffle = True,\n",
    "    random_state = 12345)\n",
    "\n",
    "X_train = torch.FloatTensor(X_train_pd.values)\n",
    "X_test = torch.FloatTensor(X_test_pd.values)\n",
    "y_train = torch.FloatTensor(y_train_pd.values)\n",
    "y_test = torch.FloatTensor(y_test_pd.values)"
   ]
  },
  {
   "cell_type": "code",
   "execution_count": 24,
   "metadata": {},
   "outputs": [
    {
     "data": {
      "text/plain": [
       "torch.Size([168, 16])"
      ]
     },
     "execution_count": 24,
     "metadata": {},
     "output_type": "execute_result"
    }
   ],
   "source": [
    "X_train.shape"
   ]
  },
  {
   "cell_type": "markdown",
   "metadata": {},
   "source": [
    "**Conclusion**\n",
    "- prepared data for neural network training:\n",
    "    - performed scaling for numeric features\n",
    "    - performed OHE coding for categorical variables\n",
    "- split the data into train and test parts"
   ]
  },
  {
   "cell_type": "markdown",
   "metadata": {},
   "source": [
    "## Basic neural network training"
   ]
  },
  {
   "cell_type": "markdown",
   "metadata": {},
   "source": [
    "**Main task:** Prediction of the temperature of the star\n",
    "\n",
    "**Target variable:** temp_sc\n",
    "\n",
    "**What type of task is being solved:** A quantitative feature is predicted - we solve the regression problem\n",
    "\n",
    "**Quality metric:** RMSE\n",
    "\n",
    "**Customer requirements:** *`RMSE < 4500`*"
   ]
  },
  {
   "cell_type": "code",
   "execution_count": 25,
   "metadata": {},
   "outputs": [],
   "source": [
    "INPUT_SIZE = 16\n",
    "HIDDEN_SIZE = 32\n",
    "HIDDEN_SIZE_2 = 10\n",
    "NUM_CLASSES = 1\n",
    "\n",
    "NUM_EPOCHS = 2000\n",
    "LEARNING_RATE = 0.001"
   ]
  },
  {
   "cell_type": "markdown",
   "metadata": {},
   "source": [
    "Let's create a class for setting a neural network:"
   ]
  },
  {
   "cell_type": "code",
   "execution_count": 26,
   "metadata": {},
   "outputs": [],
   "source": [
    "class NeuralNet(nn.Module):\n",
    "    def __init__(self, input_size, hidden_size,hidden_size_2,num_classes):\n",
    "        super(NeuralNet, self).__init__()\n",
    "        self.fc1 = nn.Linear(input_size, hidden_size) \n",
    "        self.act1 = nn.ReLU()\n",
    "        self.fc2 = nn.Linear(hidden_size, hidden_size_2) \n",
    "        self.act2 = nn.ReLU()\n",
    "        self.fc3 = nn.Linear(hidden_size_2, num_classes) \n",
    "        \n",
    "     \n",
    "    def forward(self, x):\n",
    "        out = self.fc1(x)\n",
    "        out = self.act1(out)\n",
    "        out = self.fc2(out)\n",
    "        out = self.act2(out)\n",
    "        out = self.fc3(out)\n",
    "        return out"
   ]
  },
  {
   "cell_type": "code",
   "execution_count": 27,
   "metadata": {},
   "outputs": [],
   "source": [
    "model = NeuralNet(INPUT_SIZE, HIDDEN_SIZE, HIDDEN_SIZE_2, NUM_CLASSES)"
   ]
  },
  {
   "cell_type": "markdown",
   "metadata": {},
   "source": [
    "Output the network configuration for verification:"
   ]
  },
  {
   "cell_type": "code",
   "execution_count": 28,
   "metadata": {},
   "outputs": [
    {
     "data": {
      "text/plain": [
       "NeuralNet(\n",
       "  (fc1): Linear(in_features=16, out_features=32, bias=True)\n",
       "  (act1): ReLU()\n",
       "  (fc2): Linear(in_features=32, out_features=10, bias=True)\n",
       "  (act2): ReLU()\n",
       "  (fc3): Linear(in_features=10, out_features=1, bias=True)\n",
       ")"
      ]
     },
     "execution_count": 28,
     "metadata": {},
     "output_type": "execute_result"
    }
   ],
   "source": [
    "model"
   ]
  },
  {
   "cell_type": "code",
   "execution_count": 29,
   "metadata": {},
   "outputs": [],
   "source": [
    "standard_temp = StandardScaler().fit(df[['temp']])"
   ]
  },
  {
   "cell_type": "markdown",
   "metadata": {},
   "source": [
    "Next, we will write a function for training the model, we will input the number of epochs and the step of calculating the metric, as well as the model itself"
   ]
  },
  {
   "cell_type": "code",
   "execution_count": 30,
   "metadata": {},
   "outputs": [],
   "source": [
    "def fit_nn(md, n_epoch, step_epoch):\n",
    "    \n",
    "    t1 = datetime.datetime.now()\n",
    "    \n",
    "    loss = nn.MSELoss() \n",
    "\n",
    "    optimizer = torch.optim.Adam(md.parameters(), lr = LEARNING_RATE) \n",
    "    \n",
    "    rmse_prev = 0\n",
    "    \n",
    "    for epoch in range(n_epoch):\n",
    "\n",
    "        optimizer.zero_grad()\n",
    "\n",
    "        preds = md.forward(X_train).flatten()\n",
    "\n",
    "        loss_value = loss(preds, y_train)\n",
    "\n",
    "        loss_value.backward()\n",
    "\n",
    "        optimizer.step()\n",
    "\n",
    "        if epoch % step_epoch == 0 or epoch == n_epoch - 1:\n",
    "            \n",
    "            md.eval()\n",
    "\n",
    "            preds_test = md.forward(X_test)\n",
    "\n",
    "            y_scale_inx_test = pd.DataFrame(y_test_pd)\n",
    "            y_scale_inx_test['temp_pred'] = standard_temp.inverse_transform(preds_test.detach().numpy())\n",
    "            y_scale_inx_test = y_scale_inx_test.join(df[['temp']], how = 'inner' )\n",
    "            y_scale_inx_test = y_scale_inx_test.reset_index()\n",
    "            rmse = math.sqrt(mean_squared_error(y_scale_inx_test[['temp_pred']], y_scale_inx_test[['temp']]))\n",
    "            \n",
    "            if rmse < rmse_prev or rmse_prev == 0: \n",
    "            \n",
    "                rmse_prev = rmse\n",
    "                 \n",
    "            else:\n",
    "                break\n",
    "         \n",
    "    \n",
    "    t2 = datetime.datetime.now()\n",
    "    \n",
    "    time_lr = round((t2-t1).total_seconds(), 1)\n",
    "\n",
    "    data = {\n",
    "           'epoch': [str(epoch + 1) + '/' + str(n_epoch)],\n",
    "           'loss_value': [np.round(loss_value.data.numpy(), 2)],\n",
    "           'RMSE': [round(rmse,2)],\n",
    "           'time_calc': [time_lr]\n",
    "           }\n",
    " \n",
    "    res_dt = pd.DataFrame(data)\n",
    "    \n",
    "    print ('epoch [{}/{}], loss_value: {:.4f} RMSE: {}, time_calc: {}' \n",
    "                           .format(epoch + 1, n_epoch, loss_value, rmse, time_lr))\n",
    "            \n",
    "    return y_scale_inx_test, res_dt"
   ]
  },
  {
   "cell_type": "markdown",
   "metadata": {},
   "source": [
    "We conduct model training:"
   ]
  },
  {
   "cell_type": "code",
   "execution_count": 31,
   "metadata": {},
   "outputs": [
    {
     "name": "stdout",
     "output_type": "stream",
     "text": [
      "epoch [1601/2000], loss_value: 0.0768 RMSE: 4257.517194290087, time_calc: 1.4\n"
     ]
    }
   ],
   "source": [
    "model = NeuralNet(INPUT_SIZE, HIDDEN_SIZE, HIDDEN_SIZE_2, NUM_CLASSES)\n",
    "result, dt_end = fit_nn(model, 2000, 200)"
   ]
  },
  {
   "cell_type": "code",
   "execution_count": 32,
   "metadata": {},
   "outputs": [
    {
     "data": {
      "text/html": [
       "<div>\n",
       "<style scoped>\n",
       "    .dataframe tbody tr th:only-of-type {\n",
       "        vertical-align: middle;\n",
       "    }\n",
       "\n",
       "    .dataframe tbody tr th {\n",
       "        vertical-align: top;\n",
       "    }\n",
       "\n",
       "    .dataframe thead th {\n",
       "        text-align: right;\n",
       "    }\n",
       "</style>\n",
       "<table border=\"1\" class=\"dataframe\">\n",
       "  <thead>\n",
       "    <tr style=\"text-align: right;\">\n",
       "      <th></th>\n",
       "      <th>epoch</th>\n",
       "      <th>loss_value</th>\n",
       "      <th>RMSE</th>\n",
       "      <th>time_calc</th>\n",
       "    </tr>\n",
       "  </thead>\n",
       "  <tbody>\n",
       "    <tr>\n",
       "      <th>0</th>\n",
       "      <td>1601/2000</td>\n",
       "      <td>0.08</td>\n",
       "      <td>4257.52</td>\n",
       "      <td>1.4</td>\n",
       "    </tr>\n",
       "  </tbody>\n",
       "</table>\n",
       "</div>"
      ],
      "text/plain": [
       "       epoch  loss_value     RMSE  time_calc\n",
       "0  1601/2000        0.08  4257.52        1.4"
      ]
     },
     "execution_count": 32,
     "metadata": {},
     "output_type": "execute_result"
    }
   ],
   "source": [
    "dt_end"
   ]
  },
  {
   "cell_type": "markdown",
   "metadata": {},
   "source": [
    "We will show the predicted temperature for each object from the test sample:"
   ]
  },
  {
   "cell_type": "code",
   "execution_count": 33,
   "metadata": {
    "scrolled": true
   },
   "outputs": [
    {
     "data": {
      "image/png": "[encoded data removed]",
      "text/plain": [
       "<Figure size 1296x360 with 1 Axes>"
      ]
     },
     "metadata": {
      "needs_background": "light"
     },
     "output_type": "display_data"
    }
   ],
   "source": [
    "fig, ax = plt.subplots(figsize = (18, 5))\n",
    "\n",
    "result = result.sort_values(by = 'index')\n",
    "\n",
    "ax.bar(result['index'].astype('str'),  result['temp_pred'], edgecolor='black', alpha=0.3, label = 'temp_pred')\n",
    "ax.bar(result['index'].astype('str'),  result['temp'], edgecolor='black', alpha=0.3, label = 'temp_test')\n",
    "ax.set_xticks(list(result['index'].astype('str')[::3]))\n",
    "\n",
    "plt.grid(True)\n",
    "plt.xticks(rotation=45)\n",
    "plt.legend(loc = \"upper right\")\n",
    "plt.suptitle(\"Temperature prediction for each object\")\n",
    "plt.xlabel('id')\n",
    "plt.ylabel('T, K')\n",
    "plt.show()"
   ]
  },
  {
   "cell_type": "markdown",
   "metadata": {},
   "source": [
    "**Conclusion:**\n",
    "- created a class for setting a neural network with the selected architecture\n",
    "- we wrote a function for training the model with the setting of the number of iterations and the training step\n",
    "- built a graph with visualization of prediction and fact for each object from the test sample"
   ]
  },
  {
   "cell_type": "markdown",
   "metadata": {},
   "source": [
    "## Neural network tuning"
   ]
  },
  {
   "cell_type": "markdown",
   "metadata": {},
   "source": [
    "Next, we need to organize a search of neural network parameters to choose the best model.\n",
    "\n",
    "Optimization paths:\n",
    "- batch_size\n",
    "- dropout"
   ]
  },
  {
   "cell_type": "markdown",
   "metadata": {},
   "source": [
    "**Batch_size**"
   ]
  },
  {
   "cell_type": "code",
   "execution_count": 34,
   "metadata": {},
   "outputs": [],
   "source": [
    "class NeuralNet_batch(nn.Module):\n",
    "   \n",
    "    def __init__(self, input_size, hidden_size,hidden_size_2,num_classes):\n",
    "        super(NeuralNet_batch, self).__init__()\n",
    "        self.fc1 = nn.Linear(input_size, hidden_size) \n",
    "        self.bn1 = nn.BatchNorm1d(hidden_size)\n",
    "        self.act1 = nn.ReLU()\n",
    "        self.fc2 = nn.Linear(hidden_size, hidden_size_2) \n",
    "        self.bn2 = nn.BatchNorm1d(hidden_size_2)\n",
    "        self.act2 = nn.ReLU()\n",
    "        self.fc3 = nn.Linear(hidden_size_2, num_classes) \n",
    "        \n",
    "     \n",
    "    def forward(self, x):\n",
    "        out = self.fc1(x)\n",
    "        out = self.bn1(out)\n",
    "        out = self.act1(out)\n",
    "        out = self.fc2(out)\n",
    "        out = self.bn2(out)\n",
    "        out = self.act2(out)\n",
    "        out = self.fc3(out)\n",
    "        \n",
    "        return out"
   ]
  },
  {
   "cell_type": "code",
   "execution_count": 35,
   "metadata": {},
   "outputs": [],
   "source": [
    "model_batch = NeuralNet_batch(INPUT_SIZE, HIDDEN_SIZE, HIDDEN_SIZE_2, NUM_CLASSES)"
   ]
  },
  {
   "cell_type": "code",
   "execution_count": 36,
   "metadata": {},
   "outputs": [
    {
     "name": "stdout",
     "output_type": "stream",
     "text": [
      "epoch [1/600], loss_value: 1.0741 RMSE: 10879.405886811584, batch_idx 0, rmse_prev 0\n",
      "ok\n",
      "epoch [1/600], loss_value: 0.9155 RMSE: 10852.309287305907, batch_idx 1, rmse_prev 10879.405886811584\n",
      "ok\n",
      "epoch [1/600], loss_value: 0.9102 RMSE: 10826.24358216328, batch_idx 2, rmse_prev 10852.309287305907\n",
      "ok\n",
      "epoch [1/600], loss_value: 0.9051 RMSE: 10800.663356712766, batch_idx 3, rmse_prev 10826.24358216328\n",
      "ok\n",
      "epoch [201/600], loss_value: 0.1231 RMSE: 4565.776050407594, batch_idx 0, rmse_prev 10800.663356712766\n",
      "ok\n",
      "epoch [201/600], loss_value: 0.1231 RMSE: 4566.584115592707, batch_idx 1, rmse_prev 4565.776050407594\n",
      "not ok\n",
      "=================================================================\n",
      "epoch [201/600], loss_value: 0.1231 RMSE: 4565.776050407594\n"
     ]
    }
   ],
   "source": [
    "n_epoch = 600 \n",
    "step_epoch = 200\n",
    "batch_size = 50\n",
    "\n",
    "t1 = datetime.datetime.now()\n",
    "\n",
    "loss = nn.MSELoss() \n",
    "\n",
    "optimizer = torch.optim.Adam(model_batch.parameters(), lr = LEARNING_RATE) \n",
    "\n",
    "flag = False\n",
    "rmse_prev = 0\n",
    "\n",
    "num_batches = math.ceil(len(X_train)/batch_size)\n",
    "    \n",
    "for epoch in range(n_epoch):\n",
    "    \n",
    "    order = np.random.permutation(len(X_train))\n",
    "\n",
    "    for batch_idx in range(num_batches):\n",
    "    \n",
    "        start_index = batch_idx * batch_size\n",
    "\n",
    "        optimizer.zero_grad()\n",
    "        \n",
    "        batch_indexes = order[start_index:start_index+batch_size]\n",
    "        X_batch = X_train[batch_indexes]\n",
    "        y_batch = y_train[batch_indexes]\n",
    "\n",
    "        preds = model_batch.forward(X_train).flatten()\n",
    "\n",
    "        loss_value = loss(preds, y_train)\n",
    "\n",
    "        loss_value.backward()\n",
    "\n",
    "        optimizer.step()\n",
    "        \n",
    "       \n",
    "        if epoch % step_epoch == 0 or epoch == n_epoch - 1:  \n",
    "\n",
    "            model_batch.eval()\n",
    "\n",
    "            preds_test = model_batch.forward(X_test)\n",
    "\n",
    "            y_scale_inx_test = pd.DataFrame(y_test_pd)\n",
    "            y_scale_inx_test['temp_pred'] = standard_temp.inverse_transform(preds_test.detach().numpy())\n",
    "            y_scale_inx_test = y_scale_inx_test.join(df[['temp']], how = 'inner' )\n",
    "            y_scale_inx_test = y_scale_inx_test.reset_index()\n",
    "\n",
    "            rmse = math.sqrt(mean_squared_error(y_scale_inx_test[['temp_pred']], y_scale_inx_test[['temp']]))\n",
    "\n",
    "            print('epoch [{}/{}], loss_value: {:.4f} RMSE: {}, batch_idx {}, rmse_prev {}'.\n",
    "                            format(epoch + 1, n_epoch, loss_value, rmse, batch_idx,rmse_prev))\n",
    "\n",
    "            \n",
    "            if rmse < rmse_prev or rmse_prev == 0: \n",
    "                print('ok')\n",
    "                rmse_prev = rmse\n",
    "                loss_value_prev = loss_value\n",
    "                best_result_batch = y_scale_inx_test[['temp_pred']]\n",
    "                \n",
    "                \n",
    "                t2 = datetime.datetime.now()\n",
    "    \n",
    "                time_lr = round((t2-t1).total_seconds(), 1)\n",
    "\n",
    "                data = {\n",
    "                       'epoch': [str(epoch + 1) + '/' + str(n_epoch)],\n",
    "                       'loss_value': [np.round(loss_value.data.numpy(), 2)],\n",
    "                       'RMSE': [round(rmse,2)],\n",
    "                       'time_calc': [time_lr]\n",
    "                       }\n",
    " \n",
    "                dt_end_batch = pd.DataFrame(data)\n",
    "                \n",
    "        \n",
    "            else:\n",
    "                flag = True\n",
    "                print('not ok')\n",
    "                break\n",
    "                \n",
    "        if flag == True:\n",
    "            break\n",
    "                \n",
    "    if flag == True:\n",
    "        break\n",
    "        \n",
    "print('=================================================================')\n",
    "print('epoch [{}/{}], loss_value: {:.4f} RMSE: {}' \n",
    "                           .format(epoch + 1, n_epoch, loss_value_prev, rmse_prev))"
   ]
  },
  {
   "cell_type": "markdown",
   "metadata": {},
   "source": [
    "**Dropout**"
   ]
  },
  {
   "cell_type": "code",
   "execution_count": 37,
   "metadata": {},
   "outputs": [],
   "source": [
    "p_1 = [i/10 for i in range(1, 5)]\n",
    "p_2 = [i/10 for i in range(1, 6)]"
   ]
  },
  {
   "cell_type": "code",
   "execution_count": 38,
   "metadata": {},
   "outputs": [
    {
     "name": "stdout",
     "output_type": "stream",
     "text": [
      "p_1: 0.1, p_2: 0.1: \n",
      "epoch [1401/2000], loss_value: 0.0780 RMSE: 4266.237817673461, time_calc: 0.9\n",
      "==============================================================================\n",
      "p_1: 0.1, p_2: 0.2: \n",
      "epoch [1601/2000], loss_value: 0.0806 RMSE: 3884.0152879186826, time_calc: 1.1\n",
      "==============================================================================\n",
      "p_1: 0.1, p_2: 0.3: \n",
      "epoch [2000/2000], loss_value: 0.0807 RMSE: 4302.781300084863, time_calc: 1.7\n",
      "==============================================================================\n",
      "p_1: 0.1, p_2: 0.4: \n",
      "epoch [1201/2000], loss_value: 0.0910 RMSE: 4002.9367552289, time_calc: 0.7\n",
      "==============================================================================\n",
      "p_1: 0.1, p_2: 0.5: \n",
      "epoch [1601/2000], loss_value: 0.0772 RMSE: 3771.9988255567314, time_calc: 1.2\n",
      "==============================================================================\n",
      "p_1: 0.2, p_2: 0.1: \n",
      "epoch [1201/2000], loss_value: 0.0949 RMSE: 4310.546971060039, time_calc: 0.8\n",
      "==============================================================================\n",
      "p_1: 0.2, p_2: 0.2: \n",
      "epoch [2000/2000], loss_value: 0.0776 RMSE: 4023.1014142291456, time_calc: 1.1\n",
      "==============================================================================\n",
      "p_1: 0.2, p_2: 0.3: \n",
      "epoch [2000/2000], loss_value: 0.0729 RMSE: 3660.4620201052394, time_calc: 1.1\n",
      "==============================================================================\n",
      "p_1: 0.2, p_2: 0.4: \n",
      "epoch [1601/2000], loss_value: 0.0785 RMSE: 3946.774279582001, time_calc: 0.9\n",
      "==============================================================================\n",
      "p_1: 0.2, p_2: 0.5: \n",
      "epoch [801/2000], loss_value: 0.1105 RMSE: 4369.957434901974, time_calc: 0.5\n",
      "==============================================================================\n",
      "p_1: 0.3, p_2: 0.1: \n",
      "epoch [1201/2000], loss_value: 0.0844 RMSE: 4177.620105839451, time_calc: 0.7\n",
      "==============================================================================\n",
      "p_1: 0.3, p_2: 0.2: \n",
      "epoch [1201/2000], loss_value: 0.0870 RMSE: 3985.1207169582954, time_calc: 0.7\n",
      "==============================================================================\n",
      "p_1: 0.3, p_2: 0.3: \n",
      "epoch [801/2000], loss_value: 0.0963 RMSE: 4104.380425697595, time_calc: 0.5\n",
      "==============================================================================\n",
      "p_1: 0.3, p_2: 0.4: \n",
      "epoch [1001/2000], loss_value: 0.0966 RMSE: 4337.957219628814, time_calc: 0.6\n",
      "==============================================================================\n",
      "p_1: 0.3, p_2: 0.5: \n",
      "epoch [1401/2000], loss_value: 0.0831 RMSE: 3953.899420778364, time_calc: 0.8\n",
      "==============================================================================\n",
      "p_1: 0.4, p_2: 0.1: \n",
      "epoch [1401/2000], loss_value: 0.0759 RMSE: 3796.0198640716576, time_calc: 0.8\n",
      "==============================================================================\n",
      "p_1: 0.4, p_2: 0.2: \n",
      "epoch [1401/2000], loss_value: 0.0813 RMSE: 4040.1366560531756, time_calc: 0.8\n",
      "==============================================================================\n",
      "p_1: 0.4, p_2: 0.3: \n",
      "epoch [1801/2000], loss_value: 0.0823 RMSE: 3931.2478550805317, time_calc: 1.0\n",
      "==============================================================================\n",
      "p_1: 0.4, p_2: 0.4: \n",
      "epoch [1601/2000], loss_value: 0.0847 RMSE: 4069.7091041696285, time_calc: 0.9\n",
      "==============================================================================\n",
      "p_1: 0.4, p_2: 0.5: \n",
      "epoch [1801/2000], loss_value: 0.0770 RMSE: 3889.2793467575484, time_calc: 1.0\n",
      "==============================================================================\n"
     ]
    }
   ],
   "source": [
    "df_drp = pd.DataFrame()\n",
    "\n",
    "lst_mdls = []\n",
    "\n",
    "for i in p_1:\n",
    "    for j in p_2:\n",
    "        class NeuralNet_drop(nn.Module):\n",
    "            def __init__(self, input_size, hidden_size,hidden_size_2,num_classes):\n",
    "                super(NeuralNet_drop, self).__init__()\n",
    "                self.fc1 = nn.Linear(input_size, hidden_size)\n",
    "                self.act1 = nn.ReLU()\n",
    "                self.dp1 = nn.Dropout(p = i)\n",
    "                self.fc2 = nn.Linear(hidden_size, hidden_size_2) \n",
    "                self.act2 = nn.ReLU()\n",
    "                self.dp2 = nn.Dropout(p = j)\n",
    "                self.fc3 = nn.Linear(hidden_size_2, num_classes) \n",
    "\n",
    "\n",
    "            def forward(self, x):\n",
    "                out = self.fc1(x)\n",
    "                out = self.act1(out)\n",
    "                out = self.dp1(out)\n",
    "                out = self.fc2(out)\n",
    "                out = self.act2(out)\n",
    "                out = self.dp2(out)\n",
    "                out = self.fc3(out)\n",
    "\n",
    "                return out\n",
    "        \n",
    "        print('p_1: {}, p_2: {}: '.format(i, j))\n",
    "       \n",
    "        model_drp = NeuralNet_drop(INPUT_SIZE, HIDDEN_SIZE, HIDDEN_SIZE_2, NUM_CLASSES)\n",
    "        result_drp, dt_end_drp = fit_nn(model_drp, 2000, 200)\n",
    "        \n",
    "        lst_mdls += list(dt_end_drp['RMSE'])\n",
    "        \n",
    "        if list(dt_end_drp['RMSE'])[0] == min(lst_mdls):\n",
    "            best_model_drp = model_drp\n",
    "            best_result_drp = result_drp\n",
    "            best_dt_end_drp = dt_end_drp\n",
    "        \n",
    "        print('==============================================================================')\n",
    "        \n",
    "        dt_end_drp['param_p1'] = i\n",
    "        dt_end_drp['param_p2'] = j\n",
    "        df_drp = df_drp.append(dt_end_drp, ignore_index = True)"
   ]
  },
  {
   "cell_type": "code",
   "execution_count": 39,
   "metadata": {},
   "outputs": [
    {
     "data": {
      "text/html": [
       "<div>\n",
       "<style scoped>\n",
       "    .dataframe tbody tr th:only-of-type {\n",
       "        vertical-align: middle;\n",
       "    }\n",
       "\n",
       "    .dataframe tbody tr th {\n",
       "        vertical-align: top;\n",
       "    }\n",
       "\n",
       "    .dataframe thead th {\n",
       "        text-align: right;\n",
       "    }\n",
       "</style>\n",
       "<table border=\"1\" class=\"dataframe\">\n",
       "  <thead>\n",
       "    <tr style=\"text-align: right;\">\n",
       "      <th></th>\n",
       "      <th>epoch</th>\n",
       "      <th>loss_value</th>\n",
       "      <th>RMSE</th>\n",
       "      <th>time_calc</th>\n",
       "      <th>param_p1</th>\n",
       "      <th>param_p2</th>\n",
       "    </tr>\n",
       "  </thead>\n",
       "  <tbody>\n",
       "    <tr>\n",
       "      <th>0</th>\n",
       "      <td>2000/2000</td>\n",
       "      <td>0.07</td>\n",
       "      <td>3660.46</td>\n",
       "      <td>1.1</td>\n",
       "      <td>0.2</td>\n",
       "      <td>0.3</td>\n",
       "    </tr>\n",
       "  </tbody>\n",
       "</table>\n",
       "</div>"
      ],
      "text/plain": [
       "       epoch  loss_value     RMSE  time_calc  param_p1  param_p2\n",
       "0  2000/2000        0.07  3660.46        1.1       0.2       0.3"
      ]
     },
     "execution_count": 39,
     "metadata": {},
     "output_type": "execute_result"
    }
   ],
   "source": [
    "best_dt_end_drp"
   ]
  },
  {
   "cell_type": "markdown",
   "metadata": {},
   "source": [
    "**Check**\n",
    "\n",
    "The best model on the Dropout method"
   ]
  },
  {
   "cell_type": "code",
   "execution_count": 40,
   "metadata": {},
   "outputs": [
    {
     "data": {
      "text/html": [
       "<div>\n",
       "<style scoped>\n",
       "    .dataframe tbody tr th:only-of-type {\n",
       "        vertical-align: middle;\n",
       "    }\n",
       "\n",
       "    .dataframe tbody tr th {\n",
       "        vertical-align: top;\n",
       "    }\n",
       "\n",
       "    .dataframe thead th {\n",
       "        text-align: right;\n",
       "    }\n",
       "</style>\n",
       "<table border=\"1\" class=\"dataframe\">\n",
       "  <thead>\n",
       "    <tr style=\"text-align: right;\">\n",
       "      <th></th>\n",
       "      <th>epoch</th>\n",
       "      <th>loss_value</th>\n",
       "      <th>RMSE</th>\n",
       "      <th>time_calc</th>\n",
       "      <th>param_p1</th>\n",
       "      <th>param_p2</th>\n",
       "    </tr>\n",
       "  </thead>\n",
       "  <tbody>\n",
       "    <tr>\n",
       "      <th>0</th>\n",
       "      <td>2000/2000</td>\n",
       "      <td>0.07</td>\n",
       "      <td>3660.46</td>\n",
       "      <td>1.1</td>\n",
       "      <td>0.2</td>\n",
       "      <td>0.3</td>\n",
       "    </tr>\n",
       "  </tbody>\n",
       "</table>\n",
       "</div>"
      ],
      "text/plain": [
       "       epoch  loss_value     RMSE  time_calc  param_p1  param_p2\n",
       "0  2000/2000        0.07  3660.46        1.1       0.2       0.3"
      ]
     },
     "execution_count": 40,
     "metadata": {},
     "output_type": "execute_result"
    }
   ],
   "source": [
    "df_drp_end = df_drp.sort_values(by = 'RMSE').head(1).reset_index(drop = True)\n",
    "df_drp_end"
   ]
  },
  {
   "cell_type": "code",
   "execution_count": 41,
   "metadata": {},
   "outputs": [
    {
     "data": {
      "text/html": [
       "<div>\n",
       "<style scoped>\n",
       "    .dataframe tbody tr th:only-of-type {\n",
       "        vertical-align: middle;\n",
       "    }\n",
       "\n",
       "    .dataframe tbody tr th {\n",
       "        vertical-align: top;\n",
       "    }\n",
       "\n",
       "    .dataframe thead th {\n",
       "        text-align: right;\n",
       "    }\n",
       "</style>\n",
       "<table border=\"1\" class=\"dataframe\">\n",
       "  <thead>\n",
       "    <tr style=\"text-align: right;\">\n",
       "      <th></th>\n",
       "      <th>epoch</th>\n",
       "      <th>loss_value</th>\n",
       "      <th>RMSE</th>\n",
       "      <th>time_calc</th>\n",
       "    </tr>\n",
       "  </thead>\n",
       "  <tbody>\n",
       "    <tr>\n",
       "      <th>0</th>\n",
       "      <td>2000/2000</td>\n",
       "      <td>0.07</td>\n",
       "      <td>3660.46</td>\n",
       "      <td>1.1</td>\n",
       "    </tr>\n",
       "  </tbody>\n",
       "</table>\n",
       "</div>"
      ],
      "text/plain": [
       "       epoch  loss_value     RMSE  time_calc\n",
       "0  2000/2000        0.07  3660.46        1.1"
      ]
     },
     "execution_count": 41,
     "metadata": {},
     "output_type": "execute_result"
    }
   ],
   "source": [
    "df_end_drp = df_drp_end[['epoch','loss_value','RMSE','time_calc']].copy()\n",
    "df_end_drp"
   ]
  },
  {
   "cell_type": "code",
   "execution_count": 42,
   "metadata": {},
   "outputs": [
    {
     "data": {
      "text/html": [
       "<div>\n",
       "<style scoped>\n",
       "    .dataframe tbody tr th:only-of-type {\n",
       "        vertical-align: middle;\n",
       "    }\n",
       "\n",
       "    .dataframe tbody tr th {\n",
       "        vertical-align: top;\n",
       "    }\n",
       "\n",
       "    .dataframe thead th {\n",
       "        text-align: right;\n",
       "    }\n",
       "</style>\n",
       "<table border=\"1\" class=\"dataframe\">\n",
       "  <thead>\n",
       "    <tr style=\"text-align: right;\">\n",
       "      <th></th>\n",
       "      <th>epoch</th>\n",
       "      <th>loss_value</th>\n",
       "      <th>RMSE</th>\n",
       "      <th>time_calc</th>\n",
       "      <th>type</th>\n",
       "    </tr>\n",
       "  </thead>\n",
       "  <tbody>\n",
       "    <tr>\n",
       "      <th>0</th>\n",
       "      <td>1601/2000</td>\n",
       "      <td>0.08</td>\n",
       "      <td>4257.52</td>\n",
       "      <td>1.4</td>\n",
       "      <td>base</td>\n",
       "    </tr>\n",
       "    <tr>\n",
       "      <th>1</th>\n",
       "      <td>201/600</td>\n",
       "      <td>0.12</td>\n",
       "      <td>4565.78</td>\n",
       "      <td>1.3</td>\n",
       "      <td>batch_size</td>\n",
       "    </tr>\n",
       "    <tr>\n",
       "      <th>2</th>\n",
       "      <td>2000/2000</td>\n",
       "      <td>0.07</td>\n",
       "      <td>3660.46</td>\n",
       "      <td>1.1</td>\n",
       "      <td>dropout</td>\n",
       "    </tr>\n",
       "  </tbody>\n",
       "</table>\n",
       "</div>"
      ],
      "text/plain": [
       "       epoch  loss_value     RMSE  time_calc        type\n",
       "0  1601/2000        0.08  4257.52        1.4        base\n",
       "1    201/600        0.12  4565.78        1.3  batch_size\n",
       "2  2000/2000        0.07  3660.46        1.1     dropout"
      ]
     },
     "execution_count": 42,
     "metadata": {},
     "output_type": "execute_result"
    }
   ],
   "source": [
    "dt_end['type'] = 'base'\n",
    "dt_end_batch['type'] = 'batch_size'\n",
    "df_end_drp['type'] = 'dropout'\n",
    "\n",
    "dt_total = dt_end.append(dt_end_batch, ignore_index = True).append(df_end_drp, ignore_index = True)\n",
    "dt_total"
   ]
  },
  {
   "cell_type": "code",
   "execution_count": 43,
   "metadata": {},
   "outputs": [
    {
     "data": {
      "text/html": [
       "<div>\n",
       "<style scoped>\n",
       "    .dataframe tbody tr th:only-of-type {\n",
       "        vertical-align: middle;\n",
       "    }\n",
       "\n",
       "    .dataframe tbody tr th {\n",
       "        vertical-align: top;\n",
       "    }\n",
       "\n",
       "    .dataframe thead th {\n",
       "        text-align: right;\n",
       "    }\n",
       "</style>\n",
       "<table border=\"1\" class=\"dataframe\">\n",
       "  <thead>\n",
       "    <tr style=\"text-align: right;\">\n",
       "      <th></th>\n",
       "      <th>index</th>\n",
       "      <th>temp_sc</th>\n",
       "      <th>temp_pred</th>\n",
       "      <th>temp</th>\n",
       "    </tr>\n",
       "  </thead>\n",
       "  <tbody>\n",
       "    <tr>\n",
       "      <th>0</th>\n",
       "      <td>232</td>\n",
       "      <td>2.307005</td>\n",
       "      <td>33144.457031</td>\n",
       "      <td>32489.0</td>\n",
       "    </tr>\n",
       "    <tr>\n",
       "      <th>1</th>\n",
       "      <td>30</td>\n",
       "      <td>2.990037</td>\n",
       "      <td>34652.589844</td>\n",
       "      <td>39000.0</td>\n",
       "    </tr>\n",
       "    <tr>\n",
       "      <th>2</th>\n",
       "      <td>216</td>\n",
       "      <td>-0.123521</td>\n",
       "      <td>8225.353516</td>\n",
       "      <td>9320.0</td>\n",
       "    </tr>\n",
       "  </tbody>\n",
       "</table>\n",
       "</div>"
      ],
      "text/plain": [
       "   index   temp_sc     temp_pred     temp\n",
       "0    232  2.307005  33144.457031  32489.0\n",
       "1     30  2.990037  34652.589844  39000.0\n",
       "2    216 -0.123521   8225.353516   9320.0"
      ]
     },
     "execution_count": 43,
     "metadata": {},
     "output_type": "execute_result"
    }
   ],
   "source": [
    "best_result_drp.head(3)"
   ]
  },
  {
   "cell_type": "markdown",
   "metadata": {},
   "source": [
    "The **dropout** method shows the best result on RMSE"
   ]
  },
  {
   "cell_type": "code",
   "execution_count": 44,
   "metadata": {},
   "outputs": [
    {
     "data": {
      "image/png": "[encoded data removed]",
      "text/plain": [
       "<Figure size 1296x360 with 1 Axes>"
      ]
     },
     "metadata": {
      "needs_background": "light"
     },
     "output_type": "display_data"
    }
   ],
   "source": [
    "fig, ax = plt.subplots(figsize = (18, 5))\n",
    "\n",
    "result = best_result_drp.sort_values(by = 'index')\n",
    "\n",
    "ax.bar(result['index'].astype('str'),  result['temp_pred'], edgecolor='black', alpha=0.3, label = 'temp_pred')\n",
    "ax.bar(result['index'].astype('str'),  result['temp'], edgecolor='black', alpha=0.3, label = 'temp_test')\n",
    "ax.set_xticks(list(result['index'].astype('str')[::3]))\n",
    "\n",
    "plt.grid(True)\n",
    "plt.xticks(rotation=45)\n",
    "plt.legend(loc = \"upper right\")\n",
    "plt.suptitle(\"Temperature prediction for each object\")\n",
    "plt.xlabel('id')\n",
    "plt.ylabel('T, K')\n",
    "plt.show()"
   ]
  },
  {
   "cell_type": "markdown",
   "metadata": {},
   "source": [
    "## **General conclusion**"
   ]
  },
  {
   "cell_type": "markdown",
   "metadata": {},
   "source": [
    "In this project, a model based on a neural network was built to predict the temperature of a star\n",
    "\n",
    "The following steps were completed:\n",
    "- data analysis and preprocessing:\n",
    "    - errors were detected in filling in the color attribute\n",
    "    - replaced column names\n",
    "- preparation of data for training:\n",
    "    - breakdown into train and test parts\n",
    "    - scaling of quantitative features\n",
    "    - OHE-coding of categorical features\n",
    "- the neural network class is defined:\n",
    "    - choice of network architecture (number of layers and neurons, activation functions and loss functions)\n",
    "- neural network training without selection of regularization parameters\n",
    "    - the number of training epochs and the training step are selected\n",
    "- next, the stage of regularization of parameters was performed, Dropout methods and optimization of the size of the batch were considered\n",
    "\n",
    "The best result was achieved on the number of training epochs 2000 in increments of 200 and dropout: **RSME - 3660**"
   ]
  }
 ],
 "metadata": {
  "ExecuteTimeLog": [
   {
    "duration": 1465,
    "start_time": "2022-05-28T15:21:06.263Z"
   },
   {
    "duration": 167,
    "start_time": "2022-05-28T15:21:42.479Z"
   },
   {
    "duration": 92,
    "start_time": "2022-05-28T15:22:44.322Z"
   },
   {
    "duration": 34,
    "start_time": "2022-05-28T15:25:00.069Z"
   },
   {
    "duration": 12,
    "start_time": "2022-05-28T15:25:57.167Z"
   },
   {
    "duration": 27,
    "start_time": "2022-05-28T15:26:10.400Z"
   },
   {
    "duration": 14,
    "start_time": "2022-05-28T15:27:07.582Z"
   },
   {
    "duration": 11,
    "start_time": "2022-05-28T15:27:13.008Z"
   },
   {
    "duration": 37,
    "start_time": "2022-05-28T15:27:35.355Z"
   },
   {
    "duration": 35,
    "start_time": "2022-05-28T15:28:14.324Z"
   },
   {
    "duration": 43,
    "start_time": "2022-05-28T15:28:17.921Z"
   },
   {
    "duration": 14,
    "start_time": "2022-05-28T15:28:21.157Z"
   },
   {
    "duration": 36,
    "start_time": "2022-05-28T15:28:22.162Z"
   },
   {
    "duration": 33,
    "start_time": "2022-05-28T15:36:44.903Z"
   },
   {
    "duration": 5,
    "start_time": "2022-05-28T16:15:00.258Z"
   },
   {
    "duration": 14,
    "start_time": "2022-05-28T16:15:44.660Z"
   },
   {
    "duration": 11,
    "start_time": "2022-05-28T16:15:50.387Z"
   },
   {
    "duration": 5,
    "start_time": "2022-05-28T16:18:42.234Z"
   },
   {
    "duration": 19,
    "start_time": "2022-05-28T16:18:47.779Z"
   },
   {
    "duration": 8,
    "start_time": "2022-05-28T16:20:47.019Z"
   },
   {
    "duration": 16,
    "start_time": "2022-05-28T16:20:51.210Z"
   },
   {
    "duration": 7,
    "start_time": "2022-05-28T16:20:54.664Z"
   },
   {
    "duration": 9,
    "start_time": "2022-05-28T16:22:20.530Z"
   },
   {
    "duration": 50,
    "start_time": "2022-05-28T16:39:11.424Z"
   },
   {
    "duration": 12,
    "start_time": "2022-05-28T16:39:14.888Z"
   },
   {
    "duration": 694,
    "start_time": "2022-05-28T16:39:15.265Z"
   },
   {
    "duration": 396,
    "start_time": "2022-05-28T16:40:12.130Z"
   },
   {
    "duration": 5,
    "start_time": "2022-05-28T16:40:19.947Z"
   },
   {
    "duration": 7,
    "start_time": "2022-05-28T16:40:28.805Z"
   },
   {
    "duration": 415,
    "start_time": "2022-05-28T16:41:22.651Z"
   },
   {
    "duration": 447,
    "start_time": "2022-05-28T16:44:47.470Z"
   },
   {
    "duration": 370,
    "start_time": "2022-05-28T16:46:38.640Z"
   },
   {
    "duration": 17,
    "start_time": "2022-05-28T16:47:08.887Z"
   },
   {
    "duration": 43,
    "start_time": "2022-05-28T16:47:15.707Z"
   },
   {
    "duration": 16,
    "start_time": "2022-05-28T16:47:15.935Z"
   },
   {
    "duration": 47,
    "start_time": "2022-05-28T16:47:16.177Z"
   },
   {
    "duration": 11,
    "start_time": "2022-05-28T16:47:17.278Z"
   },
   {
    "duration": 9,
    "start_time": "2022-05-28T16:47:18.404Z"
   },
   {
    "duration": 11,
    "start_time": "2022-05-28T16:47:19.178Z"
   },
   {
    "duration": 5,
    "start_time": "2022-05-28T16:47:19.999Z"
   },
   {
    "duration": 501,
    "start_time": "2022-05-28T16:47:21.659Z"
   },
   {
    "duration": 11,
    "start_time": "2022-05-28T16:47:22.504Z"
   },
   {
    "duration": 295,
    "start_time": "2022-05-28T16:47:25.955Z"
   },
   {
    "duration": 7,
    "start_time": "2022-05-28T16:47:38.739Z"
   },
   {
    "duration": 68,
    "start_time": "2022-05-28T16:47:39.071Z"
   },
   {
    "duration": 15,
    "start_time": "2022-05-28T16:47:39.239Z"
   },
   {
    "duration": 36,
    "start_time": "2022-05-28T16:47:39.427Z"
   },
   {
    "duration": 5,
    "start_time": "2022-05-28T16:47:40.106Z"
   },
   {
    "duration": 7,
    "start_time": "2022-05-28T16:47:40.474Z"
   },
   {
    "duration": 8,
    "start_time": "2022-05-28T16:47:40.836Z"
   },
   {
    "duration": 4,
    "start_time": "2022-05-28T16:47:41.214Z"
   },
   {
    "duration": 421,
    "start_time": "2022-05-28T16:47:41.481Z"
   },
   {
    "duration": 12,
    "start_time": "2022-05-28T16:47:42.003Z"
   },
   {
    "duration": 669,
    "start_time": "2022-05-28T16:47:42.802Z"
   },
   {
    "duration": 299,
    "start_time": "2022-05-28T16:48:03.521Z"
   },
   {
    "duration": 6,
    "start_time": "2022-05-28T16:49:04.418Z"
   },
   {
    "duration": 10600,
    "start_time": "2022-05-28T16:49:18.117Z"
   },
   {
    "duration": 254,
    "start_time": "2022-05-28T16:49:54.678Z"
   },
   {
    "duration": 242,
    "start_time": "2022-05-28T16:50:25.439Z"
   },
   {
    "duration": 511,
    "start_time": "2022-05-28T16:50:35.761Z"
   },
   {
    "duration": 598,
    "start_time": "2022-05-28T16:50:50.030Z"
   },
   {
    "duration": 548,
    "start_time": "2022-05-28T16:51:05.658Z"
   },
   {
    "duration": 461,
    "start_time": "2022-05-28T16:52:56.406Z"
   },
   {
    "duration": 12703,
    "start_time": "2022-05-28T16:57:54.458Z"
   },
   {
    "duration": 4229,
    "start_time": "2022-05-28T16:58:34.477Z"
   },
   {
    "duration": 3120,
    "start_time": "2022-05-28T16:59:06.284Z"
   },
   {
    "duration": 3385,
    "start_time": "2022-05-28T17:00:26.456Z"
   },
   {
    "duration": 11,
    "start_time": "2022-05-28T17:01:51.953Z"
   },
   {
    "duration": 3283,
    "start_time": "2022-05-28T17:02:44.511Z"
   },
   {
    "duration": 3507,
    "start_time": "2022-05-28T17:03:20.838Z"
   },
   {
    "duration": 433,
    "start_time": "2022-05-28T17:04:55.886Z"
   },
   {
    "duration": 494,
    "start_time": "2022-05-28T17:05:27.208Z"
   },
   {
    "duration": 467,
    "start_time": "2022-05-28T17:05:39.357Z"
   },
   {
    "duration": 410,
    "start_time": "2022-05-28T17:05:45.220Z"
   },
   {
    "duration": 3697,
    "start_time": "2022-05-28T17:06:31.751Z"
   },
   {
    "duration": 753,
    "start_time": "2022-05-28T17:13:53.908Z"
   },
   {
    "duration": 427,
    "start_time": "2022-05-28T17:14:32.391Z"
   },
   {
    "duration": 52,
    "start_time": "2022-05-30T10:01:11.417Z"
   },
   {
    "duration": 1446,
    "start_time": "2022-05-30T10:02:01.145Z"
   },
   {
    "duration": 70,
    "start_time": "2022-05-30T10:02:02.593Z"
   },
   {
    "duration": 9,
    "start_time": "2022-05-30T10:02:02.665Z"
   },
   {
    "duration": 24,
    "start_time": "2022-05-30T10:02:02.676Z"
   },
   {
    "duration": 2,
    "start_time": "2022-05-30T10:02:02.701Z"
   },
   {
    "duration": 7,
    "start_time": "2022-05-30T10:02:02.705Z"
   },
   {
    "duration": 7,
    "start_time": "2022-05-30T10:02:02.951Z"
   },
   {
    "duration": 2,
    "start_time": "2022-05-30T10:02:03.276Z"
   },
   {
    "duration": 318,
    "start_time": "2022-05-30T10:02:03.594Z"
   },
   {
    "duration": 226,
    "start_time": "2022-05-30T10:02:04.080Z"
   },
   {
    "duration": 354,
    "start_time": "2022-05-30T10:02:04.308Z"
   },
   {
    "duration": 2630,
    "start_time": "2022-05-30T10:02:04.715Z"
   },
   {
    "duration": 360,
    "start_time": "2022-05-30T10:02:07.347Z"
   },
   {
    "duration": 48,
    "start_time": "2022-05-30T10:10:46.222Z"
   },
   {
    "duration": 2,
    "start_time": "2022-05-30T10:27:47.905Z"
   },
   {
    "duration": 5,
    "start_time": "2022-05-30T10:32:50.752Z"
   },
   {
    "duration": 33,
    "start_time": "2022-05-30T10:32:51.009Z"
   },
   {
    "duration": 11,
    "start_time": "2022-05-30T10:32:51.140Z"
   },
   {
    "duration": 22,
    "start_time": "2022-05-30T10:32:51.275Z"
   },
   {
    "duration": 5,
    "start_time": "2022-05-30T10:32:52.142Z"
   },
   {
    "duration": 4,
    "start_time": "2022-05-30T10:32:52.448Z"
   },
   {
    "duration": 8,
    "start_time": "2022-05-30T10:32:52.758Z"
   },
   {
    "duration": 3,
    "start_time": "2022-05-30T10:32:53.052Z"
   },
   {
    "duration": 323,
    "start_time": "2022-05-30T10:32:53.370Z"
   },
   {
    "duration": 224,
    "start_time": "2022-05-30T10:32:54.242Z"
   },
   {
    "duration": 354,
    "start_time": "2022-05-30T10:32:54.757Z"
   },
   {
    "duration": 2568,
    "start_time": "2022-05-30T10:32:55.956Z"
   },
   {
    "duration": 345,
    "start_time": "2022-05-30T10:32:58.525Z"
   },
   {
    "duration": 2,
    "start_time": "2022-05-30T10:32:59.212Z"
   },
   {
    "duration": 30,
    "start_time": "2022-05-30T10:33:07.934Z"
   },
   {
    "duration": 28,
    "start_time": "2022-05-30T10:33:12.035Z"
   },
   {
    "duration": 11,
    "start_time": "2022-05-30T10:37:07.567Z"
   },
   {
    "duration": 4,
    "start_time": "2022-05-30T10:37:49.453Z"
   },
   {
    "duration": 34,
    "start_time": "2022-05-30T10:37:49.903Z"
   },
   {
    "duration": 9,
    "start_time": "2022-05-30T10:37:50.040Z"
   },
   {
    "duration": 23,
    "start_time": "2022-05-30T10:37:50.192Z"
   },
   {
    "duration": 2,
    "start_time": "2022-05-30T10:37:51.120Z"
   },
   {
    "duration": 7,
    "start_time": "2022-05-30T10:37:51.397Z"
   },
   {
    "duration": 5,
    "start_time": "2022-05-30T10:37:51.689Z"
   },
   {
    "duration": 2,
    "start_time": "2022-05-30T10:37:52.009Z"
   },
   {
    "duration": 305,
    "start_time": "2022-05-30T10:37:52.302Z"
   },
   {
    "duration": 254,
    "start_time": "2022-05-30T10:37:52.783Z"
   },
   {
    "duration": 444,
    "start_time": "2022-05-30T10:37:53.039Z"
   },
   {
    "duration": 2447,
    "start_time": "2022-05-30T10:37:53.485Z"
   },
   {
    "duration": 352,
    "start_time": "2022-05-30T10:37:55.934Z"
   },
   {
    "duration": 2,
    "start_time": "2022-05-30T10:37:56.287Z"
   },
   {
    "duration": 22,
    "start_time": "2022-05-30T10:37:56.291Z"
   },
   {
    "duration": 10,
    "start_time": "2022-05-30T10:37:56.953Z"
   },
   {
    "duration": 28,
    "start_time": "2022-05-30T10:38:04.022Z"
   },
   {
    "duration": 9,
    "start_time": "2022-05-30T10:39:20.381Z"
   },
   {
    "duration": 73,
    "start_time": "2022-05-30T10:40:04.936Z"
   },
   {
    "duration": 5,
    "start_time": "2022-05-30T10:40:15.335Z"
   },
   {
    "duration": 13,
    "start_time": "2022-05-30T10:40:51.937Z"
   },
   {
    "duration": 12,
    "start_time": "2022-05-30T10:41:18.734Z"
   },
   {
    "duration": 7,
    "start_time": "2022-05-30T10:41:47.051Z"
   },
   {
    "duration": 9,
    "start_time": "2022-05-30T10:41:52.115Z"
   },
   {
    "duration": 6,
    "start_time": "2022-05-30T10:41:56.931Z"
   },
   {
    "duration": 4,
    "start_time": "2022-05-30T10:47:56.233Z"
   },
   {
    "duration": 4554,
    "start_time": "2022-05-30T10:49:59.599Z"
   },
   {
    "duration": 4,
    "start_time": "2022-05-30T10:50:16.334Z"
   },
   {
    "duration": 11,
    "start_time": "2022-05-30T10:50:21.995Z"
   },
   {
    "duration": 47,
    "start_time": "2022-05-30T10:50:36.939Z"
   },
   {
    "duration": 125,
    "start_time": "2022-05-30T10:50:44.318Z"
   },
   {
    "duration": 90,
    "start_time": "2022-05-30T11:12:58.459Z"
   },
   {
    "duration": 19,
    "start_time": "2022-05-30T11:14:19.177Z"
   },
   {
    "duration": 20,
    "start_time": "2022-05-30T11:14:27.680Z"
   },
   {
    "duration": 5,
    "start_time": "2022-05-30T11:15:19.421Z"
   },
   {
    "duration": 9,
    "start_time": "2022-05-30T11:15:23.797Z"
   },
   {
    "duration": 4,
    "start_time": "2022-05-30T11:15:29.335Z"
   },
   {
    "duration": 19,
    "start_time": "2022-05-30T11:15:43.176Z"
   },
   {
    "duration": 23,
    "start_time": "2022-05-30T11:15:52.981Z"
   },
   {
    "duration": 41,
    "start_time": "2022-05-30T11:25:07.462Z"
   },
   {
    "duration": 6,
    "start_time": "2022-05-30T11:25:46.319Z"
   },
   {
    "duration": 4,
    "start_time": "2022-05-30T11:25:56.216Z"
   },
   {
    "duration": 5,
    "start_time": "2022-05-30T11:26:18.556Z"
   },
   {
    "duration": 6,
    "start_time": "2022-05-30T11:26:32.182Z"
   },
   {
    "duration": 4,
    "start_time": "2022-05-30T11:26:39.559Z"
   },
   {
    "duration": 11,
    "start_time": "2022-05-30T11:31:46.952Z"
   },
   {
    "duration": 10,
    "start_time": "2022-05-30T11:31:55.793Z"
   },
   {
    "duration": 4,
    "start_time": "2022-05-30T11:32:01.037Z"
   },
   {
    "duration": 3,
    "start_time": "2022-05-30T11:32:08.460Z"
   },
   {
    "duration": 11,
    "start_time": "2022-05-30T11:34:08.358Z"
   },
   {
    "duration": 5,
    "start_time": "2022-05-30T11:34:31.055Z"
   },
   {
    "duration": 4,
    "start_time": "2022-05-30T11:34:37.423Z"
   },
   {
    "duration": 4,
    "start_time": "2022-05-30T11:34:38.074Z"
   },
   {
    "duration": 5,
    "start_time": "2022-05-30T11:34:38.568Z"
   },
   {
    "duration": 8,
    "start_time": "2022-05-30T11:34:48.597Z"
   },
   {
    "duration": 6,
    "start_time": "2022-05-30T11:34:53.092Z"
   },
   {
    "duration": 3,
    "start_time": "2022-05-30T11:34:55.263Z"
   },
   {
    "duration": 4,
    "start_time": "2022-05-30T11:34:55.678Z"
   },
   {
    "duration": 6,
    "start_time": "2022-05-30T11:34:56.362Z"
   },
   {
    "duration": 6,
    "start_time": "2022-05-30T11:35:13.991Z"
   },
   {
    "duration": 4,
    "start_time": "2022-05-30T12:09:50.789Z"
   },
   {
    "duration": 3,
    "start_time": "2022-05-30T12:10:31.603Z"
   },
   {
    "duration": 4,
    "start_time": "2022-05-30T12:10:49.204Z"
   },
   {
    "duration": 4,
    "start_time": "2022-05-30T12:11:02.944Z"
   },
   {
    "duration": 3,
    "start_time": "2022-05-30T12:11:03.503Z"
   },
   {
    "duration": 3,
    "start_time": "2022-05-30T12:11:03.995Z"
   },
   {
    "duration": 4,
    "start_time": "2022-05-30T12:13:21.104Z"
   },
   {
    "duration": 4,
    "start_time": "2022-05-30T12:13:21.627Z"
   },
   {
    "duration": 4,
    "start_time": "2022-05-30T12:13:22.193Z"
   },
   {
    "duration": 4,
    "start_time": "2022-05-30T12:25:51.682Z"
   },
   {
    "duration": 13,
    "start_time": "2022-05-30T12:25:52.313Z"
   },
   {
    "duration": 4,
    "start_time": "2022-05-30T12:26:19.375Z"
   },
   {
    "duration": 3,
    "start_time": "2022-05-30T12:26:20.004Z"
   },
   {
    "duration": 3,
    "start_time": "2022-05-30T12:32:53.126Z"
   },
   {
    "duration": 4,
    "start_time": "2022-05-30T12:32:53.586Z"
   },
   {
    "duration": 3,
    "start_time": "2022-05-30T12:32:56.648Z"
   },
   {
    "duration": 4,
    "start_time": "2022-05-30T12:33:00.577Z"
   },
   {
    "duration": 3,
    "start_time": "2022-05-30T12:34:03.883Z"
   },
   {
    "duration": 4,
    "start_time": "2022-05-30T12:34:04.563Z"
   },
   {
    "duration": 3,
    "start_time": "2022-05-30T12:35:17.208Z"
   },
   {
    "duration": 4,
    "start_time": "2022-05-30T12:35:18.014Z"
   },
   {
    "duration": 4,
    "start_time": "2022-05-30T12:35:18.652Z"
   },
   {
    "duration": 277,
    "start_time": "2022-05-30T12:46:36.802Z"
   },
   {
    "duration": 224,
    "start_time": "2022-05-30T12:47:26.853Z"
   },
   {
    "duration": 156,
    "start_time": "2022-05-30T12:47:51.932Z"
   },
   {
    "duration": 56,
    "start_time": "2022-05-30T12:57:47.010Z"
   },
   {
    "duration": 28,
    "start_time": "2022-05-30T12:58:05.428Z"
   },
   {
    "duration": 5,
    "start_time": "2022-05-30T12:58:17.853Z"
   },
   {
    "duration": 40,
    "start_time": "2022-05-30T12:58:21.861Z"
   },
   {
    "duration": 13,
    "start_time": "2022-05-30T12:58:26.103Z"
   },
   {
    "duration": 50,
    "start_time": "2022-05-30T12:58:40.868Z"
   },
   {
    "duration": 170,
    "start_time": "2022-05-30T12:58:47.227Z"
   },
   {
    "duration": 43,
    "start_time": "2022-05-30T12:58:51.944Z"
   },
   {
    "duration": 3,
    "start_time": "2022-05-30T12:58:58.546Z"
   },
   {
    "duration": 9,
    "start_time": "2022-05-30T12:59:12.028Z"
   },
   {
    "duration": 12,
    "start_time": "2022-05-30T12:59:31.613Z"
   },
   {
    "duration": 19,
    "start_time": "2022-05-30T12:59:43.657Z"
   },
   {
    "duration": 12,
    "start_time": "2022-05-30T12:59:52.055Z"
   },
   {
    "duration": 147,
    "start_time": "2022-05-30T13:00:09.843Z"
   },
   {
    "duration": 13,
    "start_time": "2022-05-30T13:01:51.431Z"
   },
   {
    "duration": 226,
    "start_time": "2022-05-30T13:01:57.849Z"
   },
   {
    "duration": 5,
    "start_time": "2022-05-30T13:03:20.902Z"
   },
   {
    "duration": 212,
    "start_time": "2022-05-30T13:03:50.584Z"
   },
   {
    "duration": 5,
    "start_time": "2022-05-30T13:03:55.764Z"
   },
   {
    "duration": 4,
    "start_time": "2022-05-30T13:04:05.179Z"
   },
   {
    "duration": 4,
    "start_time": "2022-05-30T13:04:51.660Z"
   },
   {
    "duration": 3,
    "start_time": "2022-05-30T13:04:52.013Z"
   },
   {
    "duration": 159,
    "start_time": "2022-05-30T13:04:52.426Z"
   },
   {
    "duration": 4,
    "start_time": "2022-05-30T13:05:50.920Z"
   },
   {
    "duration": 39,
    "start_time": "2022-05-30T13:07:26.766Z"
   },
   {
    "duration": 13,
    "start_time": "2022-05-30T13:07:33.497Z"
   },
   {
    "duration": 14,
    "start_time": "2022-05-30T13:07:43.916Z"
   },
   {
    "duration": 218,
    "start_time": "2022-05-30T13:07:51.463Z"
   },
   {
    "duration": 299,
    "start_time": "2022-05-30T13:08:01.879Z"
   },
   {
    "duration": 1834,
    "start_time": "2022-05-30T19:08:26.486Z"
   },
   {
    "duration": 86,
    "start_time": "2022-05-30T19:08:28.322Z"
   },
   {
    "duration": 11,
    "start_time": "2022-05-30T19:08:28.410Z"
   },
   {
    "duration": 24,
    "start_time": "2022-05-30T19:08:28.422Z"
   },
   {
    "duration": 3,
    "start_time": "2022-05-30T19:08:28.448Z"
   },
   {
    "duration": 7,
    "start_time": "2022-05-30T19:08:28.452Z"
   },
   {
    "duration": 7,
    "start_time": "2022-05-30T19:08:28.743Z"
   },
   {
    "duration": 2,
    "start_time": "2022-05-30T19:08:29.105Z"
   },
   {
    "duration": 351,
    "start_time": "2022-05-30T19:08:29.468Z"
   },
   {
    "duration": 325,
    "start_time": "2022-05-30T19:08:30.008Z"
   },
   {
    "duration": 375,
    "start_time": "2022-05-30T19:08:30.334Z"
   },
   {
    "duration": 2869,
    "start_time": "2022-05-30T19:08:30.710Z"
   },
   {
    "duration": 479,
    "start_time": "2022-05-30T19:08:33.580Z"
   },
   {
    "duration": 2,
    "start_time": "2022-05-30T19:08:34.061Z"
   },
   {
    "duration": 25,
    "start_time": "2022-05-30T19:08:34.065Z"
   },
   {
    "duration": 7,
    "start_time": "2022-05-30T19:08:34.091Z"
   },
   {
    "duration": 3,
    "start_time": "2022-05-30T19:08:37.847Z"
   },
   {
    "duration": 4,
    "start_time": "2022-05-30T19:08:38.547Z"
   },
   {
    "duration": 153,
    "start_time": "2022-05-30T19:08:39.346Z"
   },
   {
    "duration": 16,
    "start_time": "2022-05-30T19:09:09.228Z"
   },
   {
    "duration": 3,
    "start_time": "2022-05-30T19:09:23.229Z"
   },
   {
    "duration": 12,
    "start_time": "2022-05-30T19:09:24.754Z"
   },
   {
    "duration": 30,
    "start_time": "2022-05-30T19:09:45.205Z"
   },
   {
    "duration": 3,
    "start_time": "2022-05-30T19:10:33.229Z"
   },
   {
    "duration": 56,
    "start_time": "2022-05-30T19:10:33.815Z"
   },
   {
    "duration": 15,
    "start_time": "2022-05-30T19:10:49.740Z"
   },
   {
    "duration": 291,
    "start_time": "2022-05-30T19:11:00.564Z"
   },
   {
    "duration": 11,
    "start_time": "2022-05-30T19:17:59.689Z"
   },
   {
    "duration": 11,
    "start_time": "2022-05-30T19:18:09.004Z"
   },
   {
    "duration": 3,
    "start_time": "2022-05-30T19:18:19.426Z"
   },
   {
    "duration": 3,
    "start_time": "2022-05-30T19:18:47.699Z"
   },
   {
    "duration": 4,
    "start_time": "2022-05-30T19:18:54.161Z"
   },
   {
    "duration": 20,
    "start_time": "2022-05-30T19:20:31.152Z"
   },
   {
    "duration": 23,
    "start_time": "2022-05-30T19:20:42.974Z"
   },
   {
    "duration": 35,
    "start_time": "2022-05-30T19:21:35.253Z"
   },
   {
    "duration": 8,
    "start_time": "2022-05-30T19:21:41.850Z"
   },
   {
    "duration": 3,
    "start_time": "2022-05-30T19:22:28.806Z"
   },
   {
    "duration": 33,
    "start_time": "2022-05-30T19:22:29.208Z"
   },
   {
    "duration": 22,
    "start_time": "2022-05-30T19:22:31.047Z"
   },
   {
    "duration": 4,
    "start_time": "2022-05-30T19:22:45.975Z"
   },
   {
    "duration": 15,
    "start_time": "2022-05-30T19:22:54.649Z"
   },
   {
    "duration": 6,
    "start_time": "2022-05-30T19:24:53.884Z"
   },
   {
    "duration": 21,
    "start_time": "2022-05-30T19:25:01.829Z"
   },
   {
    "duration": 30,
    "start_time": "2022-05-30T19:25:15.266Z"
   },
   {
    "duration": 4,
    "start_time": "2022-05-30T19:25:46.736Z"
   },
   {
    "duration": 5,
    "start_time": "2022-05-30T19:25:55.535Z"
   },
   {
    "duration": 15,
    "start_time": "2022-05-30T19:25:56.644Z"
   },
   {
    "duration": 35,
    "start_time": "2022-05-30T19:26:05.635Z"
   },
   {
    "duration": 8,
    "start_time": "2022-05-30T19:26:25.384Z"
   },
   {
    "duration": 26,
    "start_time": "2022-05-30T19:26:35.827Z"
   },
   {
    "duration": 3,
    "start_time": "2022-05-30T19:26:43.162Z"
   },
   {
    "duration": 4,
    "start_time": "2022-05-30T19:26:43.463Z"
   },
   {
    "duration": 4,
    "start_time": "2022-05-30T19:26:44.020Z"
   },
   {
    "duration": 69,
    "start_time": "2022-05-30T19:26:44.503Z"
   },
   {
    "duration": 7,
    "start_time": "2022-05-30T19:26:45.112Z"
   },
   {
    "duration": 4,
    "start_time": "2022-05-30T19:27:54.290Z"
   },
   {
    "duration": 7,
    "start_time": "2022-05-30T19:28:21.341Z"
   },
   {
    "duration": 6,
    "start_time": "2022-05-30T19:28:36.826Z"
   },
   {
    "duration": 4,
    "start_time": "2022-05-30T19:28:43.631Z"
   },
   {
    "duration": 3,
    "start_time": "2022-05-30T19:29:07.767Z"
   },
   {
    "duration": 4,
    "start_time": "2022-05-30T19:29:08.267Z"
   },
   {
    "duration": 4,
    "start_time": "2022-05-30T19:29:08.868Z"
   },
   {
    "duration": 24,
    "start_time": "2022-05-30T19:29:09.411Z"
   },
   {
    "duration": 6,
    "start_time": "2022-05-30T19:29:10.240Z"
   },
   {
    "duration": 3,
    "start_time": "2022-05-30T19:29:21.876Z"
   },
   {
    "duration": 5,
    "start_time": "2022-05-30T19:29:22.367Z"
   },
   {
    "duration": 4,
    "start_time": "2022-05-30T19:29:22.873Z"
   },
   {
    "duration": 247,
    "start_time": "2022-05-30T19:29:23.734Z"
   },
   {
    "duration": 5,
    "start_time": "2022-05-30T19:29:25.427Z"
   },
   {
    "duration": 5,
    "start_time": "2022-05-30T19:29:51.387Z"
   },
   {
    "duration": 4,
    "start_time": "2022-05-30T19:29:51.886Z"
   },
   {
    "duration": 17,
    "start_time": "2022-05-30T19:29:52.368Z"
   },
   {
    "duration": 5,
    "start_time": "2022-05-30T19:29:52.913Z"
   },
   {
    "duration": 5,
    "start_time": "2022-05-30T19:29:59.159Z"
   },
   {
    "duration": 4,
    "start_time": "2022-05-30T19:29:59.672Z"
   },
   {
    "duration": 244,
    "start_time": "2022-05-30T19:30:00.137Z"
   },
   {
    "duration": 4,
    "start_time": "2022-05-30T19:30:00.696Z"
   },
   {
    "duration": 4,
    "start_time": "2022-05-30T19:30:23.537Z"
   },
   {
    "duration": 4,
    "start_time": "2022-05-30T19:30:23.706Z"
   },
   {
    "duration": 264,
    "start_time": "2022-05-30T19:30:23.916Z"
   },
   {
    "duration": 5,
    "start_time": "2022-05-30T19:30:24.583Z"
   },
   {
    "duration": 6,
    "start_time": "2022-05-30T19:31:19.907Z"
   },
   {
    "duration": 40,
    "start_time": "2022-05-30T19:31:20.235Z"
   },
   {
    "duration": 11,
    "start_time": "2022-05-30T19:31:20.391Z"
   },
   {
    "duration": 25,
    "start_time": "2022-05-30T19:31:20.567Z"
   },
   {
    "duration": 3,
    "start_time": "2022-05-30T19:31:21.617Z"
   },
   {
    "duration": 6,
    "start_time": "2022-05-30T19:31:21.984Z"
   },
   {
    "duration": 6,
    "start_time": "2022-05-30T19:31:22.497Z"
   },
   {
    "duration": 2,
    "start_time": "2022-05-30T19:31:22.841Z"
   },
   {
    "duration": 320,
    "start_time": "2022-05-30T19:31:23.202Z"
   },
   {
    "duration": 246,
    "start_time": "2022-05-30T19:31:23.934Z"
   },
   {
    "duration": 355,
    "start_time": "2022-05-30T19:31:24.182Z"
   },
   {
    "duration": 2740,
    "start_time": "2022-05-30T19:31:25.033Z"
   },
   {
    "duration": 368,
    "start_time": "2022-05-30T19:31:27.775Z"
   },
   {
    "duration": 3,
    "start_time": "2022-05-30T19:31:28.267Z"
   },
   {
    "duration": 23,
    "start_time": "2022-05-30T19:31:35.313Z"
   },
   {
    "duration": 4,
    "start_time": "2022-05-30T19:31:43.715Z"
   },
   {
    "duration": 4,
    "start_time": "2022-05-30T19:32:09.577Z"
   },
   {
    "duration": 9,
    "start_time": "2022-05-30T19:32:12.978Z"
   },
   {
    "duration": 3,
    "start_time": "2022-05-30T19:32:17.036Z"
   },
   {
    "duration": 3,
    "start_time": "2022-05-30T19:32:17.557Z"
   },
   {
    "duration": 4,
    "start_time": "2022-05-30T19:32:18.142Z"
   },
   {
    "duration": 26,
    "start_time": "2022-05-30T19:32:18.767Z"
   },
   {
    "duration": 3,
    "start_time": "2022-05-30T19:32:31.337Z"
   },
   {
    "duration": 4,
    "start_time": "2022-05-30T19:32:31.780Z"
   },
   {
    "duration": 4,
    "start_time": "2022-05-30T19:32:32.240Z"
   },
   {
    "duration": 170,
    "start_time": "2022-05-30T19:32:32.717Z"
   },
   {
    "duration": 4,
    "start_time": "2022-05-30T19:33:43.874Z"
   },
   {
    "duration": 3,
    "start_time": "2022-05-30T19:37:04.567Z"
   },
   {
    "duration": 4,
    "start_time": "2022-05-30T19:37:05.072Z"
   },
   {
    "duration": 10,
    "start_time": "2022-05-30T19:37:18.211Z"
   },
   {
    "duration": 5,
    "start_time": "2022-05-30T19:37:45.098Z"
   },
   {
    "duration": 5,
    "start_time": "2022-05-30T19:37:45.757Z"
   },
   {
    "duration": 4,
    "start_time": "2022-05-30T19:37:46.532Z"
   },
   {
    "duration": 383,
    "start_time": "2022-05-30T19:37:56.592Z"
   },
   {
    "duration": 5,
    "start_time": "2022-05-30T19:40:41.511Z"
   },
   {
    "duration": 4,
    "start_time": "2022-05-30T19:40:42.310Z"
   },
   {
    "duration": 4,
    "start_time": "2022-05-30T19:40:43.289Z"
   },
   {
    "duration": 317,
    "start_time": "2022-05-30T19:40:46.545Z"
   },
   {
    "duration": 4,
    "start_time": "2022-05-30T19:41:19.579Z"
   },
   {
    "duration": 14,
    "start_time": "2022-05-30T19:41:20.272Z"
   },
   {
    "duration": 4,
    "start_time": "2022-05-30T19:41:35.841Z"
   },
   {
    "duration": 3,
    "start_time": "2022-05-30T19:41:36.435Z"
   },
   {
    "duration": 5,
    "start_time": "2022-05-30T19:41:37.667Z"
   },
   {
    "duration": 256,
    "start_time": "2022-05-30T19:41:38.301Z"
   },
   {
    "duration": 156,
    "start_time": "2022-05-30T19:41:43.328Z"
   },
   {
    "duration": 4,
    "start_time": "2022-05-30T19:42:04.191Z"
   },
   {
    "duration": 15,
    "start_time": "2022-05-30T19:42:04.795Z"
   },
   {
    "duration": 22,
    "start_time": "2022-05-30T19:42:13.154Z"
   },
   {
    "duration": 6,
    "start_time": "2022-05-30T19:42:26.068Z"
   },
   {
    "duration": 4,
    "start_time": "2022-05-30T19:42:26.612Z"
   },
   {
    "duration": 4,
    "start_time": "2022-05-30T19:42:28.655Z"
   },
   {
    "duration": 322,
    "start_time": "2022-05-30T19:42:29.944Z"
   },
   {
    "duration": 5,
    "start_time": "2022-05-30T19:43:47.846Z"
   },
   {
    "duration": 4,
    "start_time": "2022-05-30T19:43:48.512Z"
   },
   {
    "duration": 4,
    "start_time": "2022-05-30T19:43:49.038Z"
   },
   {
    "duration": 418,
    "start_time": "2022-05-30T19:43:49.738Z"
   },
   {
    "duration": 3,
    "start_time": "2022-05-30T19:43:50.385Z"
   },
   {
    "duration": 4,
    "start_time": "2022-05-30T19:45:02.143Z"
   },
   {
    "duration": 4,
    "start_time": "2022-05-30T19:45:02.591Z"
   },
   {
    "duration": 4,
    "start_time": "2022-05-30T19:45:03.142Z"
   },
   {
    "duration": 374,
    "start_time": "2022-05-30T19:45:04.203Z"
   },
   {
    "duration": 4,
    "start_time": "2022-05-30T19:45:18.077Z"
   },
   {
    "duration": 4,
    "start_time": "2022-05-30T19:45:18.539Z"
   },
   {
    "duration": 4,
    "start_time": "2022-05-30T19:45:19.710Z"
   },
   {
    "duration": 372,
    "start_time": "2022-05-30T19:45:20.310Z"
   },
   {
    "duration": 3,
    "start_time": "2022-05-30T19:45:20.971Z"
   },
   {
    "duration": 381,
    "start_time": "2022-05-30T19:45:55.185Z"
   },
   {
    "duration": 490,
    "start_time": "2022-05-30T19:46:11.388Z"
   },
   {
    "duration": 3,
    "start_time": "2022-05-30T19:52:38.427Z"
   },
   {
    "duration": 4,
    "start_time": "2022-05-30T19:52:38.937Z"
   },
   {
    "duration": 3,
    "start_time": "2022-05-30T19:52:39.476Z"
   },
   {
    "duration": 345,
    "start_time": "2022-05-30T19:52:42.012Z"
   },
   {
    "duration": 568,
    "start_time": "2022-05-30T20:06:34.395Z"
   },
   {
    "duration": 6,
    "start_time": "2022-05-30T20:08:24.215Z"
   },
   {
    "duration": 5,
    "start_time": "2022-05-30T20:08:24.686Z"
   },
   {
    "duration": 4,
    "start_time": "2022-05-30T20:08:27.347Z"
   },
   {
    "duration": 4,
    "start_time": "2022-05-30T20:08:27.896Z"
   },
   {
    "duration": 485,
    "start_time": "2022-05-30T20:08:29.873Z"
   },
   {
    "duration": 5,
    "start_time": "2022-05-30T20:13:48.382Z"
   },
   {
    "duration": 5,
    "start_time": "2022-05-30T20:14:06.365Z"
   },
   {
    "duration": 7,
    "start_time": "2022-05-30T20:14:34.392Z"
   },
   {
    "duration": 5,
    "start_time": "2022-05-30T20:14:53.008Z"
   },
   {
    "duration": 2,
    "start_time": "2022-05-30T20:25:29.543Z"
   },
   {
    "duration": 4,
    "start_time": "2022-05-30T20:25:30.062Z"
   },
   {
    "duration": 4,
    "start_time": "2022-05-30T20:25:30.691Z"
   },
   {
    "duration": 4,
    "start_time": "2022-05-30T20:25:31.371Z"
   },
   {
    "duration": 505,
    "start_time": "2022-05-30T20:25:33.664Z"
   },
   {
    "duration": 4,
    "start_time": "2022-05-30T20:25:45.587Z"
   },
   {
    "duration": 6,
    "start_time": "2022-05-30T20:25:46.076Z"
   },
   {
    "duration": 4,
    "start_time": "2022-05-30T20:25:46.528Z"
   },
   {
    "duration": 4,
    "start_time": "2022-05-30T20:25:47.039Z"
   },
   {
    "duration": 274,
    "start_time": "2022-05-30T20:25:47.600Z"
   },
   {
    "duration": 6,
    "start_time": "2022-05-30T20:25:48.315Z"
   },
   {
    "duration": 5,
    "start_time": "2022-05-30T20:25:53.366Z"
   },
   {
    "duration": 11,
    "start_time": "2022-05-30T20:29:34.741Z"
   },
   {
    "duration": 3,
    "start_time": "2022-05-30T20:30:09.985Z"
   },
   {
    "duration": 25,
    "start_time": "2022-05-30T20:30:10.292Z"
   },
   {
    "duration": 4,
    "start_time": "2022-05-30T20:30:10.981Z"
   },
   {
    "duration": 15,
    "start_time": "2022-05-30T20:30:11.609Z"
   },
   {
    "duration": 4,
    "start_time": "2022-05-30T20:30:13.343Z"
   },
   {
    "duration": 8,
    "start_time": "2022-05-30T20:30:16.141Z"
   },
   {
    "duration": 3,
    "start_time": "2022-05-30T20:30:30.590Z"
   },
   {
    "duration": 4,
    "start_time": "2022-05-30T20:30:31.035Z"
   },
   {
    "duration": 5,
    "start_time": "2022-05-30T20:30:31.584Z"
   },
   {
    "duration": 3,
    "start_time": "2022-05-30T20:30:32.271Z"
   },
   {
    "duration": 31,
    "start_time": "2022-05-30T20:30:34.461Z"
   },
   {
    "duration": 5,
    "start_time": "2022-05-30T20:30:42.671Z"
   },
   {
    "duration": 33,
    "start_time": "2022-05-30T20:30:43.191Z"
   },
   {
    "duration": 10,
    "start_time": "2022-05-30T20:30:43.509Z"
   },
   {
    "duration": 23,
    "start_time": "2022-05-30T20:30:43.715Z"
   },
   {
    "duration": 3,
    "start_time": "2022-05-30T20:30:44.577Z"
   },
   {
    "duration": 5,
    "start_time": "2022-05-30T20:30:44.944Z"
   },
   {
    "duration": 6,
    "start_time": "2022-05-30T20:30:45.271Z"
   },
   {
    "duration": 3,
    "start_time": "2022-05-30T20:30:45.645Z"
   },
   {
    "duration": 334,
    "start_time": "2022-05-30T20:30:45.968Z"
   },
   {
    "duration": 228,
    "start_time": "2022-05-30T20:30:46.489Z"
   },
   {
    "duration": 387,
    "start_time": "2022-05-30T20:30:46.719Z"
   },
   {
    "duration": 2885,
    "start_time": "2022-05-30T20:30:47.183Z"
   },
   {
    "duration": 370,
    "start_time": "2022-05-30T20:30:50.070Z"
   },
   {
    "duration": 2,
    "start_time": "2022-05-30T20:30:50.442Z"
   },
   {
    "duration": 34,
    "start_time": "2022-05-30T20:30:50.455Z"
   },
   {
    "duration": 4,
    "start_time": "2022-05-30T20:30:50.491Z"
   },
   {
    "duration": 6,
    "start_time": "2022-05-30T20:30:50.496Z"
   },
   {
    "duration": 8,
    "start_time": "2022-05-30T20:30:50.504Z"
   },
   {
    "duration": 3,
    "start_time": "2022-05-30T20:30:55.645Z"
   },
   {
    "duration": 9,
    "start_time": "2022-05-30T20:30:55.958Z"
   },
   {
    "duration": 4,
    "start_time": "2022-05-30T20:30:56.496Z"
   },
   {
    "duration": 5,
    "start_time": "2022-05-30T20:30:57.256Z"
   },
   {
    "duration": 438,
    "start_time": "2022-05-30T20:30:57.846Z"
   },
   {
    "duration": 6,
    "start_time": "2022-05-30T20:30:58.443Z"
   },
   {
    "duration": 7,
    "start_time": "2022-05-30T20:31:03.373Z"
   },
   {
    "duration": 4,
    "start_time": "2022-05-30T20:40:44.216Z"
   },
   {
    "duration": 6,
    "start_time": "2022-05-30T20:40:44.889Z"
   },
   {
    "duration": 3,
    "start_time": "2022-05-30T20:40:48.246Z"
   },
   {
    "duration": 4,
    "start_time": "2022-05-30T20:40:48.956Z"
   },
   {
    "duration": 5,
    "start_time": "2022-05-30T20:40:51.503Z"
   },
   {
    "duration": 4,
    "start_time": "2022-05-30T20:40:52.147Z"
   },
   {
    "duration": 319,
    "start_time": "2022-05-30T20:40:54.652Z"
   },
   {
    "duration": 7,
    "start_time": "2022-05-30T20:41:01.953Z"
   },
   {
    "duration": 6,
    "start_time": "2022-05-30T20:41:04.362Z"
   },
   {
    "duration": 4,
    "start_time": "2022-05-30T20:41:42.959Z"
   },
   {
    "duration": 10,
    "start_time": "2022-05-30T20:41:51.280Z"
   },
   {
    "duration": 5,
    "start_time": "2022-05-30T20:42:00.999Z"
   },
   {
    "duration": 5,
    "start_time": "2022-05-30T20:42:09.091Z"
   },
   {
    "duration": 4,
    "start_time": "2022-05-30T20:42:47.974Z"
   },
   {
    "duration": 10,
    "start_time": "2022-05-30T20:42:48.271Z"
   },
   {
    "duration": 3,
    "start_time": "2022-05-30T20:42:49.592Z"
   },
   {
    "duration": 5,
    "start_time": "2022-05-30T20:42:49.908Z"
   },
   {
    "duration": 3,
    "start_time": "2022-05-30T20:42:50.260Z"
   },
   {
    "duration": 3,
    "start_time": "2022-05-30T20:42:50.751Z"
   },
   {
    "duration": 298,
    "start_time": "2022-05-30T20:42:51.376Z"
   },
   {
    "duration": 5,
    "start_time": "2022-05-30T20:42:51.874Z"
   },
   {
    "duration": 5,
    "start_time": "2022-05-30T20:42:54.767Z"
   },
   {
    "duration": 3,
    "start_time": "2022-05-30T20:45:43.746Z"
   },
   {
    "duration": 23,
    "start_time": "2022-05-30T20:45:44.113Z"
   },
   {
    "duration": 4,
    "start_time": "2022-05-30T20:45:44.550Z"
   },
   {
    "duration": 5,
    "start_time": "2022-05-30T20:45:50.020Z"
   },
   {
    "duration": 33,
    "start_time": "2022-05-30T20:45:50.359Z"
   },
   {
    "duration": 10,
    "start_time": "2022-05-30T20:45:50.500Z"
   },
   {
    "duration": 22,
    "start_time": "2022-05-30T20:45:50.686Z"
   },
   {
    "duration": 3,
    "start_time": "2022-05-30T20:45:51.560Z"
   },
   {
    "duration": 6,
    "start_time": "2022-05-30T20:45:51.912Z"
   },
   {
    "duration": 6,
    "start_time": "2022-05-30T20:45:52.248Z"
   },
   {
    "duration": 3,
    "start_time": "2022-05-30T20:45:52.707Z"
   },
   {
    "duration": 313,
    "start_time": "2022-05-30T20:45:53.660Z"
   },
   {
    "duration": 222,
    "start_time": "2022-05-30T20:45:54.596Z"
   },
   {
    "duration": 344,
    "start_time": "2022-05-30T20:45:54.820Z"
   },
   {
    "duration": 2579,
    "start_time": "2022-05-30T20:45:56.148Z"
   },
   {
    "duration": 375,
    "start_time": "2022-05-30T20:45:58.729Z"
   },
   {
    "duration": 3,
    "start_time": "2022-05-30T20:45:59.105Z"
   },
   {
    "duration": 34,
    "start_time": "2022-05-30T20:45:59.109Z"
   },
   {
    "duration": 3,
    "start_time": "2022-05-30T20:45:59.646Z"
   },
   {
    "duration": 4,
    "start_time": "2022-05-30T20:46:00.991Z"
   },
   {
    "duration": 8,
    "start_time": "2022-05-30T20:46:04.299Z"
   },
   {
    "duration": 2,
    "start_time": "2022-05-30T20:46:07.097Z"
   },
   {
    "duration": 5,
    "start_time": "2022-05-30T20:46:10.963Z"
   },
   {
    "duration": 4,
    "start_time": "2022-05-30T20:46:11.911Z"
   },
   {
    "duration": 4,
    "start_time": "2022-05-30T20:46:13.963Z"
   },
   {
    "duration": 274,
    "start_time": "2022-05-30T20:46:17.690Z"
   },
   {
    "duration": 16,
    "start_time": "2022-05-30T20:48:43.962Z"
   },
   {
    "duration": 5,
    "start_time": "2022-05-30T20:48:55.365Z"
   },
   {
    "duration": 12,
    "start_time": "2022-05-30T20:50:14.044Z"
   },
   {
    "duration": 7,
    "start_time": "2022-05-30T20:50:19.287Z"
   },
   {
    "duration": 6,
    "start_time": "2022-05-30T20:50:20.544Z"
   },
   {
    "duration": 9,
    "start_time": "2022-05-30T20:50:33.504Z"
   },
   {
    "duration": 6,
    "start_time": "2022-05-30T20:52:28.768Z"
   },
   {
    "duration": 4,
    "start_time": "2022-05-30T20:52:35.385Z"
   },
   {
    "duration": 27,
    "start_time": "2022-05-30T20:55:45.363Z"
   },
   {
    "duration": 19,
    "start_time": "2022-05-30T20:56:02.528Z"
   },
   {
    "duration": 22,
    "start_time": "2022-05-30T20:56:29.771Z"
   },
   {
    "duration": 19,
    "start_time": "2022-05-30T20:57:01.082Z"
   },
   {
    "duration": 405,
    "start_time": "2022-05-30T20:57:10.870Z"
   },
   {
    "duration": 6,
    "start_time": "2022-05-30T21:06:02.560Z"
   },
   {
    "duration": 5,
    "start_time": "2022-05-30T21:06:15.977Z"
   },
   {
    "duration": 369,
    "start_time": "2022-05-30T21:14:17.334Z"
   },
   {
    "duration": 5,
    "start_time": "2022-05-30T21:14:41.675Z"
   },
   {
    "duration": 502,
    "start_time": "2022-05-30T21:15:20.489Z"
   },
   {
    "duration": 363,
    "start_time": "2022-05-30T21:15:34.140Z"
   },
   {
    "duration": 341,
    "start_time": "2022-05-30T21:15:54.929Z"
   },
   {
    "duration": 405,
    "start_time": "2022-05-30T21:16:26.904Z"
   },
   {
    "duration": 542,
    "start_time": "2022-05-30T21:16:40.987Z"
   },
   {
    "duration": 377,
    "start_time": "2022-05-30T21:19:05.638Z"
   },
   {
    "duration": 401,
    "start_time": "2022-05-30T21:19:19.446Z"
   },
   {
    "duration": 402,
    "start_time": "2022-05-30T21:19:54.005Z"
   },
   {
    "duration": 277,
    "start_time": "2022-05-30T21:25:10.341Z"
   },
   {
    "duration": 356,
    "start_time": "2022-05-30T21:26:29.805Z"
   },
   {
    "duration": 4,
    "start_time": "2022-05-30T21:27:51.222Z"
   },
   {
    "duration": 3,
    "start_time": "2022-05-30T21:28:36.806Z"
   },
   {
    "duration": 4,
    "start_time": "2022-05-30T21:28:45.673Z"
   },
   {
    "duration": 139,
    "start_time": "2022-05-30T21:29:34.990Z"
   },
   {
    "duration": 5,
    "start_time": "2022-05-30T21:29:53.344Z"
   },
   {
    "duration": 13,
    "start_time": "2022-05-30T21:30:24.657Z"
   },
   {
    "duration": 39,
    "start_time": "2022-05-30T21:30:37.604Z"
   },
   {
    "duration": 34,
    "start_time": "2022-05-30T21:30:45.857Z"
   },
   {
    "duration": 16,
    "start_time": "2022-05-30T21:31:02.675Z"
   },
   {
    "duration": 11,
    "start_time": "2022-05-30T21:31:32.245Z"
   },
   {
    "duration": 13,
    "start_time": "2022-05-30T21:31:36.506Z"
   },
   {
    "duration": 5,
    "start_time": "2022-05-30T21:31:51.908Z"
   },
   {
    "duration": 5,
    "start_time": "2022-05-30T21:32:02.970Z"
   },
   {
    "duration": 5,
    "start_time": "2022-05-30T21:32:10.873Z"
   },
   {
    "duration": 10,
    "start_time": "2022-05-30T21:32:55.148Z"
   },
   {
    "duration": 11,
    "start_time": "2022-05-30T21:33:26.462Z"
   },
   {
    "duration": 38,
    "start_time": "2022-05-30T21:33:49.471Z"
   },
   {
    "duration": 168,
    "start_time": "2022-05-30T21:33:53.248Z"
   },
   {
    "duration": 105,
    "start_time": "2022-05-30T21:34:06.074Z"
   },
   {
    "duration": 3,
    "start_time": "2022-05-30T21:34:53.175Z"
   },
   {
    "duration": 5,
    "start_time": "2022-05-30T21:34:58.791Z"
   },
   {
    "duration": 9,
    "start_time": "2022-05-30T21:35:32.098Z"
   },
   {
    "duration": 98,
    "start_time": "2022-05-30T21:35:32.501Z"
   },
   {
    "duration": 10,
    "start_time": "2022-05-30T21:35:37.765Z"
   },
   {
    "duration": 4,
    "start_time": "2022-05-30T21:35:43.447Z"
   },
   {
    "duration": 4,
    "start_time": "2022-05-30T21:36:13.553Z"
   },
   {
    "duration": 11,
    "start_time": "2022-05-30T21:37:01.164Z"
   },
   {
    "duration": 4,
    "start_time": "2022-05-30T21:37:53.247Z"
   },
   {
    "duration": 11,
    "start_time": "2022-05-30T21:38:30.766Z"
   },
   {
    "duration": 8,
    "start_time": "2022-05-30T21:40:18.886Z"
   },
   {
    "duration": 10,
    "start_time": "2022-05-30T21:40:33.658Z"
   },
   {
    "duration": 27,
    "start_time": "2022-05-30T21:40:40.342Z"
   },
   {
    "duration": 162,
    "start_time": "2022-05-30T21:40:47.639Z"
   },
   {
    "duration": 3,
    "start_time": "2022-05-30T21:41:01.372Z"
   },
   {
    "duration": 373,
    "start_time": "2022-05-30T21:41:01.883Z"
   },
   {
    "duration": 198,
    "start_time": "2022-05-30T21:41:21.219Z"
   },
   {
    "duration": 13,
    "start_time": "2022-05-30T21:41:33.602Z"
   },
   {
    "duration": 22,
    "start_time": "2022-05-30T21:41:44.565Z"
   },
   {
    "duration": 8,
    "start_time": "2022-05-30T21:42:07.833Z"
   },
   {
    "duration": 170,
    "start_time": "2022-05-30T21:42:30.545Z"
   },
   {
    "duration": 14,
    "start_time": "2022-05-30T21:44:00.990Z"
   },
   {
    "duration": 13,
    "start_time": "2022-05-30T21:44:35.514Z"
   },
   {
    "duration": 312,
    "start_time": "2022-05-30T21:44:59.279Z"
   },
   {
    "duration": 8,
    "start_time": "2022-05-31T04:28:14.813Z"
   },
   {
    "duration": 1765,
    "start_time": "2022-05-31T04:28:18.797Z"
   },
   {
    "duration": 81,
    "start_time": "2022-05-31T04:28:20.564Z"
   },
   {
    "duration": 14,
    "start_time": "2022-05-31T04:28:20.646Z"
   },
   {
    "duration": 28,
    "start_time": "2022-05-31T04:28:20.661Z"
   },
   {
    "duration": 3,
    "start_time": "2022-05-31T04:28:20.690Z"
   },
   {
    "duration": 14,
    "start_time": "2022-05-31T04:28:20.694Z"
   },
   {
    "duration": 6,
    "start_time": "2022-05-31T04:28:20.838Z"
   },
   {
    "duration": 3,
    "start_time": "2022-05-31T04:28:21.146Z"
   },
   {
    "duration": 342,
    "start_time": "2022-05-31T04:28:21.571Z"
   },
   {
    "duration": 327,
    "start_time": "2022-05-31T04:28:22.112Z"
   },
   {
    "duration": 370,
    "start_time": "2022-05-31T04:28:22.444Z"
   },
   {
    "duration": 2674,
    "start_time": "2022-05-31T04:28:22.816Z"
   },
   {
    "duration": 495,
    "start_time": "2022-05-31T04:28:25.492Z"
   },
   {
    "duration": 3,
    "start_time": "2022-05-31T04:28:25.989Z"
   },
   {
    "duration": 29,
    "start_time": "2022-05-31T04:28:25.994Z"
   },
   {
    "duration": 19,
    "start_time": "2022-05-31T04:28:26.025Z"
   },
   {
    "duration": 4,
    "start_time": "2022-05-31T04:28:26.046Z"
   },
   {
    "duration": 8,
    "start_time": "2022-05-31T04:28:26.121Z"
   },
   {
    "duration": 3,
    "start_time": "2022-05-31T04:28:28.745Z"
   },
   {
    "duration": 4,
    "start_time": "2022-05-31T04:28:29.343Z"
   },
   {
    "duration": 4,
    "start_time": "2022-05-31T04:28:29.864Z"
   },
   {
    "duration": 4,
    "start_time": "2022-05-31T04:28:30.595Z"
   },
   {
    "duration": 5,
    "start_time": "2022-05-31T04:28:31.235Z"
   },
   {
    "duration": 2040,
    "start_time": "2022-05-31T04:28:32.009Z"
   },
   {
    "duration": 3,
    "start_time": "2022-05-31T04:28:36.266Z"
   },
   {
    "duration": 375,
    "start_time": "2022-05-31T04:28:57.698Z"
   },
   {
    "duration": 1848,
    "start_time": "2022-05-31T04:31:58.314Z"
   },
   {
    "duration": 6,
    "start_time": "2022-05-31T04:33:01.014Z"
   },
   {
    "duration": 5,
    "start_time": "2022-05-31T04:33:08.697Z"
   },
   {
    "duration": 4,
    "start_time": "2022-05-31T04:33:19.664Z"
   },
   {
    "duration": 74,
    "start_time": "2022-05-31T06:15:56.841Z"
   },
   {
    "duration": 8190,
    "start_time": "2022-05-31T06:16:02.214Z"
   },
   {
    "duration": 113,
    "start_time": "2022-05-31T06:16:10.406Z"
   },
   {
    "duration": 26,
    "start_time": "2022-05-31T06:16:10.522Z"
   },
   {
    "duration": 61,
    "start_time": "2022-05-31T06:16:10.550Z"
   },
   {
    "duration": 3,
    "start_time": "2022-05-31T06:16:10.612Z"
   },
   {
    "duration": 18,
    "start_time": "2022-05-31T06:16:10.617Z"
   },
   {
    "duration": 50,
    "start_time": "2022-05-31T06:16:10.637Z"
   },
   {
    "duration": 7,
    "start_time": "2022-05-31T06:16:10.689Z"
   },
   {
    "duration": 562,
    "start_time": "2022-05-31T06:16:10.697Z"
   },
   {
    "duration": 325,
    "start_time": "2022-05-31T06:16:11.261Z"
   },
   {
    "duration": 486,
    "start_time": "2022-05-31T06:16:11.588Z"
   },
   {
    "duration": 3932,
    "start_time": "2022-05-31T06:16:12.076Z"
   },
   {
    "duration": 492,
    "start_time": "2022-05-31T06:16:16.011Z"
   },
   {
    "duration": 6,
    "start_time": "2022-05-31T06:16:16.505Z"
   },
   {
    "duration": 91,
    "start_time": "2022-05-31T06:16:16.513Z"
   },
   {
    "duration": 5,
    "start_time": "2022-05-31T06:16:16.607Z"
   },
   {
    "duration": 70,
    "start_time": "2022-05-31T06:16:16.614Z"
   },
   {
    "duration": 133,
    "start_time": "2022-05-31T06:16:16.687Z"
   },
   {
    "duration": 3,
    "start_time": "2022-05-31T06:16:16.823Z"
   },
   {
    "duration": 11,
    "start_time": "2022-05-31T06:16:16.827Z"
   },
   {
    "duration": 77,
    "start_time": "2022-05-31T06:16:16.840Z"
   },
   {
    "duration": 5,
    "start_time": "2022-05-31T06:16:16.921Z"
   },
   {
    "duration": 54,
    "start_time": "2022-05-31T06:16:16.931Z"
   },
   {
    "duration": 6117,
    "start_time": "2022-05-31T06:16:16.988Z"
   },
   {
    "duration": 10,
    "start_time": "2022-05-31T06:16:23.130Z"
   },
   {
    "duration": 57,
    "start_time": "2022-05-31T06:16:23.155Z"
   },
   {
    "duration": 430,
    "start_time": "2022-05-31T06:18:06.613Z"
   },
   {
    "duration": 8,
    "start_time": "2022-05-31T06:18:24.513Z"
   },
   {
    "duration": 10,
    "start_time": "2022-05-31T06:20:54.649Z"
   },
   {
    "duration": 19,
    "start_time": "2022-05-31T06:21:03.149Z"
   },
   {
    "duration": 8,
    "start_time": "2022-05-31T06:21:32.488Z"
   },
   {
    "duration": 10,
    "start_time": "2022-05-31T06:21:39.666Z"
   },
   {
    "duration": 149,
    "start_time": "2022-05-31T06:22:25.949Z"
   },
   {
    "duration": 8,
    "start_time": "2022-05-31T06:22:55.102Z"
   },
   {
    "duration": 19,
    "start_time": "2022-05-31T06:23:42.681Z"
   },
   {
    "duration": 27,
    "start_time": "2022-05-31T06:24:03.559Z"
   },
   {
    "duration": 15,
    "start_time": "2022-05-31T06:24:11.476Z"
   },
   {
    "duration": 4,
    "start_time": "2022-05-31T06:24:43.783Z"
   },
   {
    "duration": 16,
    "start_time": "2022-05-31T08:19:16.254Z"
   },
   {
    "duration": 33,
    "start_time": "2022-05-31T08:19:16.582Z"
   },
   {
    "duration": 12,
    "start_time": "2022-05-31T08:19:16.707Z"
   },
   {
    "duration": 32,
    "start_time": "2022-05-31T08:19:16.871Z"
   },
   {
    "duration": 9,
    "start_time": "2022-05-31T08:19:17.658Z"
   },
   {
    "duration": 6,
    "start_time": "2022-05-31T08:19:17.975Z"
   },
   {
    "duration": 10,
    "start_time": "2022-05-31T08:19:18.327Z"
   },
   {
    "duration": 3,
    "start_time": "2022-05-31T08:19:18.788Z"
   },
   {
    "duration": 457,
    "start_time": "2022-05-31T08:19:19.143Z"
   },
   {
    "duration": 304,
    "start_time": "2022-05-31T08:19:19.803Z"
   },
   {
    "duration": 500,
    "start_time": "2022-05-31T08:19:20.110Z"
   },
   {
    "duration": 3364,
    "start_time": "2022-05-31T08:19:20.690Z"
   },
   {
    "duration": 387,
    "start_time": "2022-05-31T08:19:24.055Z"
   },
   {
    "duration": 11,
    "start_time": "2022-05-31T08:19:24.446Z"
   },
   {
    "duration": 65,
    "start_time": "2022-05-31T08:19:24.459Z"
   },
   {
    "duration": 4,
    "start_time": "2022-05-31T08:19:24.898Z"
   },
   {
    "duration": 9,
    "start_time": "2022-05-31T08:19:26.110Z"
   },
   {
    "duration": 10,
    "start_time": "2022-05-31T08:19:29.165Z"
   },
   {
    "duration": 5,
    "start_time": "2022-05-31T08:19:30.314Z"
   },
   {
    "duration": 6,
    "start_time": "2022-05-31T08:19:32.745Z"
   },
   {
    "duration": 8,
    "start_time": "2022-05-31T08:19:32.967Z"
   },
   {
    "duration": 17,
    "start_time": "2022-05-31T08:19:33.762Z"
   },
   {
    "duration": 4884,
    "start_time": "2022-05-31T08:19:34.311Z"
   },
   {
    "duration": 4749,
    "start_time": "2022-05-31T08:19:47.811Z"
   },
   {
    "duration": 8,
    "start_time": "2022-05-31T08:20:03.766Z"
   },
   {
    "duration": 11,
    "start_time": "2022-05-31T08:20:04.045Z"
   },
   {
    "duration": 19,
    "start_time": "2022-05-31T08:20:04.245Z"
   },
   {
    "duration": 4,
    "start_time": "2022-05-31T08:20:04.579Z"
   },
   {
    "duration": 10,
    "start_time": "2022-05-31T08:20:05.152Z"
   },
   {
    "duration": 8820,
    "start_time": "2022-05-31T08:20:05.769Z"
   },
   {
    "duration": 5,
    "start_time": "2022-05-31T08:21:04.869Z"
   },
   {
    "duration": 11,
    "start_time": "2022-05-31T08:21:08.006Z"
   },
   {
    "duration": 9,
    "start_time": "2022-05-31T08:21:26.688Z"
   },
   {
    "duration": 21,
    "start_time": "2022-05-31T08:22:08.852Z"
   },
   {
    "duration": 12,
    "start_time": "2022-05-31T08:23:02.379Z"
   },
   {
    "duration": 10,
    "start_time": "2022-05-31T08:23:12.473Z"
   },
   {
    "duration": 13,
    "start_time": "2022-05-31T08:23:42.254Z"
   },
   {
    "duration": 11,
    "start_time": "2022-05-31T08:24:50.180Z"
   },
   {
    "duration": 3,
    "start_time": "2022-05-31T08:25:30.315Z"
   },
   {
    "duration": 8,
    "start_time": "2022-05-31T08:25:34.585Z"
   },
   {
    "duration": 26,
    "start_time": "2022-05-31T08:26:04.653Z"
   },
   {
    "duration": 31,
    "start_time": "2022-05-31T08:28:29.243Z"
   },
   {
    "duration": 36,
    "start_time": "2022-05-31T08:28:40.048Z"
   },
   {
    "duration": 22,
    "start_time": "2022-05-31T08:28:56.244Z"
   },
   {
    "duration": 40,
    "start_time": "2022-05-31T08:29:03.253Z"
   },
   {
    "duration": 17,
    "start_time": "2022-05-31T08:29:23.481Z"
   },
   {
    "duration": 13,
    "start_time": "2022-05-31T08:29:58.375Z"
   },
   {
    "duration": 9748,
    "start_time": "2022-05-31T08:30:49.704Z"
   },
   {
    "duration": 450,
    "start_time": "2022-05-31T08:32:13.531Z"
   },
   {
    "duration": 11,
    "start_time": "2022-05-31T08:51:29.959Z"
   },
   {
    "duration": 7,
    "start_time": "2022-05-31T08:51:30.393Z"
   },
   {
    "duration": 5,
    "start_time": "2022-05-31T08:51:30.889Z"
   },
   {
    "duration": 10,
    "start_time": "2022-05-31T08:51:31.454Z"
   },
   {
    "duration": 6,
    "start_time": "2022-05-31T08:51:31.913Z"
   },
   {
    "duration": 17592,
    "start_time": "2022-05-31T08:51:32.489Z"
   },
   {
    "duration": 7,
    "start_time": "2022-05-31T08:54:05.168Z"
   },
   {
    "duration": 6,
    "start_time": "2022-05-31T08:54:05.602Z"
   },
   {
    "duration": 4,
    "start_time": "2022-05-31T08:54:06.107Z"
   },
   {
    "duration": 5,
    "start_time": "2022-05-31T08:54:06.574Z"
   },
   {
    "duration": 11,
    "start_time": "2022-05-31T08:54:07.066Z"
   },
   {
    "duration": 25615,
    "start_time": "2022-05-31T08:54:07.676Z"
   },
   {
    "duration": 617,
    "start_time": "2022-05-31T08:54:33.293Z"
   },
   {
    "duration": 3,
    "start_time": "2022-05-31T08:54:48.574Z"
   },
   {
    "duration": 14,
    "start_time": "2022-05-31T08:54:48.952Z"
   },
   {
    "duration": 4,
    "start_time": "2022-05-31T08:54:49.394Z"
   },
   {
    "duration": 4,
    "start_time": "2022-05-31T08:54:49.794Z"
   },
   {
    "duration": 6,
    "start_time": "2022-05-31T08:54:50.212Z"
   },
   {
    "duration": 22638,
    "start_time": "2022-05-31T08:54:50.698Z"
   },
   {
    "duration": 464,
    "start_time": "2022-05-31T08:55:13.347Z"
   },
   {
    "duration": 9,
    "start_time": "2022-05-31T08:56:08.270Z"
   },
   {
    "duration": 4,
    "start_time": "2022-05-31T08:56:08.698Z"
   },
   {
    "duration": 6,
    "start_time": "2022-05-31T08:56:09.170Z"
   },
   {
    "duration": 6,
    "start_time": "2022-05-31T08:56:09.597Z"
   },
   {
    "duration": 19165,
    "start_time": "2022-05-31T08:56:10.078Z"
   },
   {
    "duration": 485,
    "start_time": "2022-05-31T08:56:29.246Z"
   },
   {
    "duration": 8,
    "start_time": "2022-05-31T08:56:39.469Z"
   },
   {
    "duration": 5,
    "start_time": "2022-05-31T08:56:39.917Z"
   },
   {
    "duration": 17,
    "start_time": "2022-05-31T08:56:40.154Z"
   },
   {
    "duration": 14,
    "start_time": "2022-05-31T08:56:40.287Z"
   },
   {
    "duration": 20856,
    "start_time": "2022-05-31T08:56:40.448Z"
   },
   {
    "duration": 513,
    "start_time": "2022-05-31T08:57:01.305Z"
   },
   {
    "duration": 172379,
    "start_time": "2022-05-31T09:17:04.065Z"
   },
   {
    "duration": 0,
    "start_time": "2022-05-31T09:19:56.455Z"
   },
   {
    "duration": 17,
    "start_time": "2022-05-31T09:20:17.906Z"
   },
   {
    "duration": 56,
    "start_time": "2022-05-31T09:20:39.024Z"
   },
   {
    "duration": 4,
    "start_time": "2022-05-31T09:25:15.386Z"
   },
   {
    "duration": 12,
    "start_time": "2022-05-31T09:28:02.414Z"
   },
   {
    "duration": 4,
    "start_time": "2022-05-31T09:28:50.911Z"
   },
   {
    "duration": 5,
    "start_time": "2022-05-31T09:28:54.105Z"
   },
   {
    "duration": 4,
    "start_time": "2022-05-31T09:29:39.582Z"
   },
   {
    "duration": 6,
    "start_time": "2022-05-31T09:29:41.507Z"
   },
   {
    "duration": 10,
    "start_time": "2022-05-31T09:30:03.960Z"
   },
   {
    "duration": 16,
    "start_time": "2022-05-31T09:30:05.939Z"
   },
   {
    "duration": 6,
    "start_time": "2022-05-31T09:31:56.584Z"
   },
   {
    "duration": 4,
    "start_time": "2022-05-31T09:31:58.219Z"
   },
   {
    "duration": 8,
    "start_time": "2022-05-31T09:33:51.270Z"
   },
   {
    "duration": 4,
    "start_time": "2022-05-31T09:33:52.687Z"
   },
   {
    "duration": 19,
    "start_time": "2022-05-31T09:34:48.856Z"
   },
   {
    "duration": 13,
    "start_time": "2022-05-31T09:34:50.363Z"
   },
   {
    "duration": 10,
    "start_time": "2022-05-31T09:35:24.951Z"
   },
   {
    "duration": 4,
    "start_time": "2022-05-31T09:35:27.089Z"
   },
   {
    "duration": 24,
    "start_time": "2022-05-31T09:35:44.762Z"
   },
   {
    "duration": 35,
    "start_time": "2022-05-31T09:36:06.582Z"
   },
   {
    "duration": 57,
    "start_time": "2022-05-31T09:36:11.291Z"
   },
   {
    "duration": 29,
    "start_time": "2022-05-31T09:36:23.077Z"
   },
   {
    "duration": 16,
    "start_time": "2022-05-31T09:36:26.919Z"
   },
   {
    "duration": 26,
    "start_time": "2022-05-31T09:36:56.111Z"
   },
   {
    "duration": 25,
    "start_time": "2022-05-31T09:38:23.733Z"
   },
   {
    "duration": 4,
    "start_time": "2022-05-31T09:40:09.495Z"
   },
   {
    "duration": 6,
    "start_time": "2022-05-31T09:40:10.516Z"
   },
   {
    "duration": 465,
    "start_time": "2022-05-31T09:40:13.857Z"
   },
   {
    "duration": 455,
    "start_time": "2022-05-31T09:40:16.465Z"
   },
   {
    "duration": 736,
    "start_time": "2022-05-31T09:40:17.085Z"
   },
   {
    "duration": 2800,
    "start_time": "2022-05-31T09:41:30.151Z"
   },
   {
    "duration": 60,
    "start_time": "2022-05-31T09:41:32.953Z"
   },
   {
    "duration": 25,
    "start_time": "2022-05-31T09:41:33.015Z"
   },
   {
    "duration": 68,
    "start_time": "2022-05-31T09:41:33.048Z"
   },
   {
    "duration": 3,
    "start_time": "2022-05-31T09:41:33.118Z"
   },
   {
    "duration": 61,
    "start_time": "2022-05-31T09:41:33.123Z"
   },
   {
    "duration": 20,
    "start_time": "2022-05-31T09:41:33.186Z"
   },
   {
    "duration": 9,
    "start_time": "2022-05-31T09:41:33.208Z"
   },
   {
    "duration": 20,
    "start_time": "2022-05-31T09:41:33.219Z"
   },
   {
    "duration": 60,
    "start_time": "2022-05-31T09:41:33.241Z"
   },
   {
    "duration": 18,
    "start_time": "2022-05-31T09:41:33.379Z"
   },
   {
    "duration": 14,
    "start_time": "2022-05-31T09:41:33.547Z"
   },
   {
    "duration": 16,
    "start_time": "2022-05-31T09:41:34.562Z"
   },
   {
    "duration": 16,
    "start_time": "2022-05-31T09:41:34.800Z"
   },
   {
    "duration": 407,
    "start_time": "2022-05-31T09:41:34.980Z"
   },
   {
    "duration": 483,
    "start_time": "2022-05-31T09:41:36.893Z"
   },
   {
    "duration": 624,
    "start_time": "2022-05-31T09:41:37.378Z"
   },
   {
    "duration": 3497,
    "start_time": "2022-05-31T09:41:44.970Z"
   },
   {
    "duration": 580,
    "start_time": "2022-05-31T09:41:48.477Z"
   },
   {
    "duration": 3,
    "start_time": "2022-05-31T09:41:55.494Z"
   },
   {
    "duration": 45,
    "start_time": "2022-05-31T09:41:55.624Z"
   },
   {
    "duration": 12,
    "start_time": "2022-05-31T09:41:55.794Z"
   },
   {
    "duration": 21,
    "start_time": "2022-05-31T09:41:56.155Z"
   },
   {
    "duration": 5,
    "start_time": "2022-05-31T09:41:58.726Z"
   },
   {
    "duration": 5,
    "start_time": "2022-05-31T09:41:59.385Z"
   },
   {
    "duration": 12,
    "start_time": "2022-05-31T09:41:59.874Z"
   },
   {
    "duration": 8,
    "start_time": "2022-05-31T09:42:00.579Z"
   },
   {
    "duration": 9,
    "start_time": "2022-05-31T09:42:01.177Z"
   },
   {
    "duration": 491,
    "start_time": "2022-05-31T09:42:01.812Z"
   },
   {
    "duration": 3,
    "start_time": "2022-05-31T09:42:50.303Z"
   },
   {
    "duration": 12,
    "start_time": "2022-05-31T09:42:50.657Z"
   },
   {
    "duration": 12,
    "start_time": "2022-05-31T09:42:51.035Z"
   },
   {
    "duration": 10,
    "start_time": "2022-05-31T09:42:51.269Z"
   },
   {
    "duration": 7,
    "start_time": "2022-05-31T09:42:51.587Z"
   },
   {
    "duration": 10194,
    "start_time": "2022-05-31T09:42:52.166Z"
   },
   {
    "duration": 206,
    "start_time": "2022-05-31T09:43:02.362Z"
   },
   {
    "duration": 12567,
    "start_time": "2022-05-31T09:45:08.614Z"
   },
   {
    "duration": 19,
    "start_time": "2022-05-31T09:45:21.189Z"
   },
   {
    "duration": 578,
    "start_time": "2022-05-31T09:45:46.822Z"
   },
   {
    "duration": 5,
    "start_time": "2022-05-31T09:46:23.584Z"
   },
   {
    "duration": 5,
    "start_time": "2022-05-31T09:46:23.909Z"
   },
   {
    "duration": 5,
    "start_time": "2022-05-31T09:46:24.093Z"
   },
   {
    "duration": 4,
    "start_time": "2022-05-31T09:46:24.305Z"
   },
   {
    "duration": 11,
    "start_time": "2022-05-31T09:46:24.482Z"
   },
   {
    "duration": 17998,
    "start_time": "2022-05-31T09:46:24.693Z"
   },
   {
    "duration": 555,
    "start_time": "2022-05-31T09:46:42.693Z"
   },
   {
    "duration": 13,
    "start_time": "2022-05-31T10:01:19.191Z"
   },
   {
    "duration": 25,
    "start_time": "2022-05-31T10:01:19.585Z"
   },
   {
    "duration": 8,
    "start_time": "2022-05-31T10:01:19.978Z"
   },
   {
    "duration": 7,
    "start_time": "2022-05-31T10:01:20.454Z"
   },
   {
    "duration": 26,
    "start_time": "2022-05-31T10:01:21.346Z"
   },
   {
    "duration": 31382,
    "start_time": "2022-05-31T10:01:21.979Z"
   },
   {
    "duration": 580,
    "start_time": "2022-05-31T10:01:53.377Z"
   },
   {
    "duration": 4,
    "start_time": "2022-05-31T10:03:32.516Z"
   },
   {
    "duration": 5,
    "start_time": "2022-05-31T10:03:32.807Z"
   },
   {
    "duration": 18,
    "start_time": "2022-05-31T10:03:33.079Z"
   },
   {
    "duration": 4,
    "start_time": "2022-05-31T10:03:33.515Z"
   },
   {
    "duration": 8,
    "start_time": "2022-05-31T10:03:34.016Z"
   },
   {
    "duration": 36452,
    "start_time": "2022-05-31T10:03:34.585Z"
   },
   {
    "duration": 551,
    "start_time": "2022-05-31T10:04:11.045Z"
   },
   {
    "duration": 8,
    "start_time": "2022-05-31T10:17:41.549Z"
   },
   {
    "duration": 6,
    "start_time": "2022-05-31T10:17:41.962Z"
   },
   {
    "duration": 6,
    "start_time": "2022-05-31T10:17:42.402Z"
   },
   {
    "duration": 9,
    "start_time": "2022-05-31T10:17:42.821Z"
   },
   {
    "duration": 15,
    "start_time": "2022-05-31T10:17:43.355Z"
   },
   {
    "duration": 24178,
    "start_time": "2022-05-31T10:17:44.955Z"
   },
   {
    "duration": 22737,
    "start_time": "2022-05-31T10:18:23.270Z"
   },
   {
    "duration": 645,
    "start_time": "2022-05-31T10:18:46.018Z"
   },
   {
    "duration": 1669,
    "start_time": "2022-05-31T13:43:54.844Z"
   },
   {
    "duration": 1880,
    "start_time": "2022-05-31T13:44:35.868Z"
   },
   {
    "duration": 1611,
    "start_time": "2022-05-31T13:45:57.046Z"
   },
   {
    "duration": 12,
    "start_time": "2022-05-31T13:54:36.507Z"
   },
   {
    "duration": 14,
    "start_time": "2022-05-31T13:54:45.874Z"
   },
   {
    "duration": 1464,
    "start_time": "2022-05-31T13:55:21.385Z"
   },
   {
    "duration": 7,
    "start_time": "2022-05-31T13:55:34.211Z"
   },
   {
    "duration": 6,
    "start_time": "2022-05-31T13:55:41.726Z"
   },
   {
    "duration": 769,
    "start_time": "2022-05-31T13:56:08.788Z"
   },
   {
    "duration": 15,
    "start_time": "2022-05-31T14:10:20.418Z"
   },
   {
    "duration": 8,
    "start_time": "2022-05-31T14:12:24.920Z"
   },
   {
    "duration": 42,
    "start_time": "2022-05-31T14:12:58.022Z"
   },
   {
    "duration": 9,
    "start_time": "2022-05-31T14:13:19.870Z"
   },
   {
    "duration": 14,
    "start_time": "2022-05-31T14:13:20.688Z"
   },
   {
    "duration": 25,
    "start_time": "2022-05-31T14:13:51.744Z"
   },
   {
    "duration": 14,
    "start_time": "2022-05-31T14:14:13.673Z"
   },
   {
    "duration": 23,
    "start_time": "2022-05-31T14:14:17.178Z"
   },
   {
    "duration": 5,
    "start_time": "2022-05-31T14:15:24.516Z"
   },
   {
    "duration": 21860,
    "start_time": "2022-05-31T14:15:25.277Z"
   },
   {
    "duration": 14,
    "start_time": "2022-05-31T14:16:12.326Z"
   },
   {
    "duration": 18433,
    "start_time": "2022-05-31T14:16:14.862Z"
   },
   {
    "duration": 18624,
    "start_time": "2022-05-31T14:16:43.168Z"
   },
   {
    "duration": 18094,
    "start_time": "2022-05-31T14:17:08.395Z"
   },
   {
    "duration": 8177,
    "start_time": "2022-05-31T14:17:28.605Z"
   },
   {
    "duration": 9368,
    "start_time": "2022-05-31T14:18:05.982Z"
   },
   {
    "duration": 479,
    "start_time": "2022-05-31T14:18:27.331Z"
   },
   {
    "duration": 580,
    "start_time": "2022-05-31T14:19:01.989Z"
   },
   {
    "duration": 18796,
    "start_time": "2022-05-31T14:19:02.573Z"
   },
   {
    "duration": 5,
    "start_time": "2022-05-31T14:19:28.706Z"
   },
   {
    "duration": 6,
    "start_time": "2022-05-31T14:19:29.357Z"
   },
   {
    "duration": 10,
    "start_time": "2022-05-31T14:19:29.956Z"
   },
   {
    "duration": 7,
    "start_time": "2022-05-31T14:19:33.073Z"
   },
   {
    "duration": 18743,
    "start_time": "2022-05-31T14:19:35.201Z"
   },
   {
    "duration": 494,
    "start_time": "2022-05-31T14:20:29.683Z"
   },
   {
    "duration": 677,
    "start_time": "2022-05-31T14:22:11.821Z"
   },
   {
    "duration": 459,
    "start_time": "2022-05-31T14:24:40.763Z"
   },
   {
    "duration": 484,
    "start_time": "2022-05-31T14:25:12.627Z"
   },
   {
    "duration": 6,
    "start_time": "2022-05-31T15:00:34.983Z"
   },
   {
    "duration": 41,
    "start_time": "2022-05-31T15:00:35.805Z"
   },
   {
    "duration": 6,
    "start_time": "2022-05-31T15:03:16.874Z"
   },
   {
    "duration": 19,
    "start_time": "2022-05-31T15:03:17.374Z"
   },
   {
    "duration": 5,
    "start_time": "2022-05-31T15:03:48.071Z"
   },
   {
    "duration": 19,
    "start_time": "2022-05-31T15:03:57.423Z"
   },
   {
    "duration": 5,
    "start_time": "2022-05-31T15:04:12.064Z"
   },
   {
    "duration": 38669,
    "start_time": "2022-05-31T15:04:13.064Z"
   },
   {
    "duration": 6,
    "start_time": "2022-05-31T15:11:01.493Z"
   },
   {
    "duration": 14282,
    "start_time": "2022-05-31T15:11:16.074Z"
   },
   {
    "duration": 7,
    "start_time": "2022-05-31T15:16:57.884Z"
   },
   {
    "duration": 23264,
    "start_time": "2022-05-31T15:16:58.471Z"
   },
   {
    "duration": 1963,
    "start_time": "2022-05-31T15:28:44.084Z"
   },
   {
    "duration": 109,
    "start_time": "2022-05-31T15:28:46.049Z"
   },
   {
    "duration": 16,
    "start_time": "2022-05-31T15:28:46.168Z"
   },
   {
    "duration": 34,
    "start_time": "2022-05-31T15:28:46.187Z"
   },
   {
    "duration": 64,
    "start_time": "2022-05-31T15:28:46.223Z"
   },
   {
    "duration": 17,
    "start_time": "2022-05-31T15:28:46.289Z"
   },
   {
    "duration": 16,
    "start_time": "2022-05-31T15:28:46.308Z"
   },
   {
    "duration": 39,
    "start_time": "2022-05-31T15:28:46.328Z"
   },
   {
    "duration": 12,
    "start_time": "2022-05-31T15:28:46.369Z"
   },
   {
    "duration": 11,
    "start_time": "2022-05-31T15:28:46.384Z"
   },
   {
    "duration": 22,
    "start_time": "2022-05-31T15:28:46.396Z"
   },
   {
    "duration": 5,
    "start_time": "2022-05-31T15:28:46.419Z"
   },
   {
    "duration": 49,
    "start_time": "2022-05-31T15:28:46.428Z"
   },
   {
    "duration": 24,
    "start_time": "2022-05-31T15:28:46.479Z"
   },
   {
    "duration": 335,
    "start_time": "2022-05-31T15:28:46.505Z"
   },
   {
    "duration": 420,
    "start_time": "2022-05-31T15:28:46.841Z"
   },
   {
    "duration": 432,
    "start_time": "2022-05-31T15:28:47.267Z"
   },
   {
    "duration": 3119,
    "start_time": "2022-05-31T15:28:47.700Z"
   },
   {
    "duration": 532,
    "start_time": "2022-05-31T15:28:50.821Z"
   },
   {
    "duration": 3,
    "start_time": "2022-05-31T15:28:51.354Z"
   },
   {
    "duration": 37,
    "start_time": "2022-05-31T15:28:51.359Z"
   },
   {
    "duration": 4,
    "start_time": "2022-05-31T15:28:51.398Z"
   },
   {
    "duration": 9,
    "start_time": "2022-05-31T15:28:51.404Z"
   },
   {
    "duration": 5,
    "start_time": "2022-05-31T15:28:51.426Z"
   },
   {
    "duration": 42,
    "start_time": "2022-05-31T15:28:51.435Z"
   },
   {
    "duration": 12,
    "start_time": "2022-05-31T15:28:51.478Z"
   },
   {
    "duration": 6,
    "start_time": "2022-05-31T15:28:51.491Z"
   },
   {
    "duration": 7,
    "start_time": "2022-05-31T15:28:51.500Z"
   },
   {
    "duration": 8,
    "start_time": "2022-05-31T15:28:51.508Z"
   },
   {
    "duration": 10716,
    "start_time": "2022-05-31T15:28:51.517Z"
   },
   {
    "duration": 531,
    "start_time": "2022-05-31T15:29:02.244Z"
   },
   {
    "duration": 6,
    "start_time": "2022-05-31T15:29:02.776Z"
   },
   {
    "duration": 21858,
    "start_time": "2022-05-31T15:29:02.783Z"
   },
   {
    "duration": 7,
    "start_time": "2022-05-31T15:29:24.647Z"
   },
   {
    "duration": 12417,
    "start_time": "2022-05-31T15:29:24.659Z"
   },
   {
    "duration": 3,
    "start_time": "2022-05-31T15:30:41.382Z"
   },
   {
    "duration": 20,
    "start_time": "2022-05-31T15:30:42.424Z"
   },
   {
    "duration": 4,
    "start_time": "2022-05-31T15:30:45.292Z"
   },
   {
    "duration": 8,
    "start_time": "2022-05-31T15:30:47.822Z"
   },
   {
    "duration": 6,
    "start_time": "2022-05-31T15:30:48.686Z"
   },
   {
    "duration": 6,
    "start_time": "2022-05-31T15:30:50.399Z"
   },
   {
    "duration": 12993,
    "start_time": "2022-05-31T15:30:54.079Z"
   },
   {
    "duration": 6,
    "start_time": "2022-05-31T15:31:15.262Z"
   },
   {
    "duration": 6,
    "start_time": "2022-05-31T15:31:15.789Z"
   },
   {
    "duration": 4,
    "start_time": "2022-05-31T15:31:16.348Z"
   },
   {
    "duration": 6,
    "start_time": "2022-05-31T15:31:16.783Z"
   },
   {
    "duration": 5,
    "start_time": "2022-05-31T15:31:17.795Z"
   },
   {
    "duration": 13530,
    "start_time": "2022-05-31T15:31:19.721Z"
   },
   {
    "duration": 10,
    "start_time": "2022-05-31T15:31:33.257Z"
   },
   {
    "duration": 17,
    "start_time": "2022-05-31T15:31:33.269Z"
   },
   {
    "duration": 12,
    "start_time": "2022-05-31T15:31:35.354Z"
   },
   {
    "duration": 7,
    "start_time": "2022-05-31T15:31:35.904Z"
   },
   {
    "duration": 7,
    "start_time": "2022-05-31T15:34:16.964Z"
   },
   {
    "duration": 13537,
    "start_time": "2022-05-31T15:34:21.442Z"
   },
   {
    "duration": 2001,
    "start_time": "2022-05-31T15:35:12.263Z"
   },
   {
    "duration": 39,
    "start_time": "2022-05-31T15:35:14.266Z"
   },
   {
    "duration": 11,
    "start_time": "2022-05-31T15:35:14.307Z"
   },
   {
    "duration": 75,
    "start_time": "2022-05-31T15:35:14.319Z"
   },
   {
    "duration": 3,
    "start_time": "2022-05-31T15:35:14.396Z"
   },
   {
    "duration": 10,
    "start_time": "2022-05-31T15:35:14.400Z"
   },
   {
    "duration": 56,
    "start_time": "2022-05-31T15:35:14.412Z"
   },
   {
    "duration": 4,
    "start_time": "2022-05-31T15:35:14.470Z"
   },
   {
    "duration": 4,
    "start_time": "2022-05-31T15:35:14.612Z"
   },
   {
    "duration": 9,
    "start_time": "2022-05-31T15:35:15.174Z"
   },
   {
    "duration": 29,
    "start_time": "2022-05-31T15:35:15.844Z"
   },
   {
    "duration": 7,
    "start_time": "2022-05-31T15:35:15.997Z"
   },
   {
    "duration": 4,
    "start_time": "2022-05-31T15:35:16.302Z"
   },
   {
    "duration": 16,
    "start_time": "2022-05-31T15:35:16.467Z"
   },
   {
    "duration": 317,
    "start_time": "2022-05-31T15:35:16.642Z"
   },
   {
    "duration": 452,
    "start_time": "2022-05-31T15:35:17.199Z"
   },
   {
    "duration": 486,
    "start_time": "2022-05-31T15:35:17.796Z"
   },
   {
    "duration": 3188,
    "start_time": "2022-05-31T15:35:19.599Z"
   },
   {
    "duration": 531,
    "start_time": "2022-05-31T15:35:22.789Z"
   },
   {
    "duration": 14,
    "start_time": "2022-05-31T15:35:23.322Z"
   },
   {
    "duration": 54,
    "start_time": "2022-05-31T15:35:23.341Z"
   },
   {
    "duration": 8,
    "start_time": "2022-05-31T15:35:23.396Z"
   },
   {
    "duration": 8,
    "start_time": "2022-05-31T15:35:26.011Z"
   },
   {
    "duration": 4,
    "start_time": "2022-05-31T15:35:26.873Z"
   },
   {
    "duration": 15,
    "start_time": "2022-05-31T15:35:27.352Z"
   },
   {
    "duration": 10,
    "start_time": "2022-05-31T15:35:28.555Z"
   },
   {
    "duration": 4,
    "start_time": "2022-05-31T15:35:29.673Z"
   },
   {
    "duration": 11,
    "start_time": "2022-05-31T15:35:30.182Z"
   },
   {
    "duration": 17,
    "start_time": "2022-05-31T15:35:32.753Z"
   },
   {
    "duration": 12759,
    "start_time": "2022-05-31T15:35:35.073Z"
   },
   {
    "duration": 5,
    "start_time": "2022-05-31T15:36:17.657Z"
   },
   {
    "duration": 6,
    "start_time": "2022-05-31T15:36:18.540Z"
   },
   {
    "duration": 5,
    "start_time": "2022-05-31T15:36:19.652Z"
   },
   {
    "duration": 6,
    "start_time": "2022-05-31T15:36:20.407Z"
   },
   {
    "duration": 6,
    "start_time": "2022-05-31T15:36:22.512Z"
   },
   {
    "duration": 10645,
    "start_time": "2022-05-31T15:36:25.103Z"
   },
   {
    "duration": 10376,
    "start_time": "2022-05-31T15:36:45.581Z"
   },
   {
    "duration": 3,
    "start_time": "2022-05-31T15:39:29.295Z"
   },
   {
    "duration": 5,
    "start_time": "2022-05-31T15:39:29.655Z"
   },
   {
    "duration": 8,
    "start_time": "2022-05-31T15:39:30.130Z"
   },
   {
    "duration": 4,
    "start_time": "2022-05-31T15:39:30.652Z"
   },
   {
    "duration": 6,
    "start_time": "2022-05-31T15:39:31.177Z"
   },
   {
    "duration": 21198,
    "start_time": "2022-05-31T15:39:31.839Z"
   },
   {
    "duration": 4,
    "start_time": "2022-05-31T15:41:10.271Z"
   },
   {
    "duration": 5,
    "start_time": "2022-05-31T15:41:11.066Z"
   },
   {
    "duration": 5,
    "start_time": "2022-05-31T15:41:12.402Z"
   },
   {
    "duration": 16,
    "start_time": "2022-05-31T15:41:13.642Z"
   },
   {
    "duration": 6,
    "start_time": "2022-05-31T15:41:14.371Z"
   },
   {
    "duration": 14,
    "start_time": "2022-05-31T15:41:15.639Z"
   },
   {
    "duration": 9464,
    "start_time": "2022-05-31T15:41:17.968Z"
   },
   {
    "duration": 2,
    "start_time": "2022-05-31T15:42:09.863Z"
   },
   {
    "duration": 5,
    "start_time": "2022-05-31T15:42:10.364Z"
   },
   {
    "duration": 5,
    "start_time": "2022-05-31T15:42:11.116Z"
   },
   {
    "duration": 13,
    "start_time": "2022-05-31T15:42:12.364Z"
   },
   {
    "duration": 8,
    "start_time": "2022-05-31T15:42:12.876Z"
   },
   {
    "duration": 15055,
    "start_time": "2022-05-31T15:42:14.277Z"
   },
   {
    "duration": 8,
    "start_time": "2022-05-31T15:42:40.361Z"
   },
   {
    "duration": 6149,
    "start_time": "2022-05-31T15:42:41.559Z"
   },
   {
    "duration": 6,
    "start_time": "2022-05-31T15:43:09.605Z"
   },
   {
    "duration": 14155,
    "start_time": "2022-05-31T15:43:10.817Z"
   },
   {
    "duration": 479,
    "start_time": "2022-05-31T15:43:56.679Z"
   },
   {
    "duration": 11,
    "start_time": "2022-05-31T15:44:01.943Z"
   },
   {
    "duration": 31051,
    "start_time": "2022-05-31T15:44:05.198Z"
   },
   {
    "duration": 6,
    "start_time": "2022-05-31T15:44:38.669Z"
   },
   {
    "duration": 12138,
    "start_time": "2022-05-31T15:44:40.794Z"
   },
   {
    "duration": 538,
    "start_time": "2022-05-31T15:49:00.378Z"
   },
   {
    "duration": 6,
    "start_time": "2022-05-31T15:51:53.071Z"
   },
   {
    "duration": 12389,
    "start_time": "2022-05-31T15:51:54.147Z"
   },
   {
    "duration": 461,
    "start_time": "2022-05-31T15:52:06.544Z"
   },
   {
    "duration": 5,
    "start_time": "2022-05-31T15:52:08.011Z"
   },
   {
    "duration": 20565,
    "start_time": "2022-05-31T15:52:25.878Z"
   },
   {
    "duration": 1867,
    "start_time": "2022-05-31T15:53:07.600Z"
   },
   {
    "duration": 40,
    "start_time": "2022-05-31T15:53:09.469Z"
   },
   {
    "duration": 12,
    "start_time": "2022-05-31T15:53:09.511Z"
   },
   {
    "duration": 53,
    "start_time": "2022-05-31T15:53:09.526Z"
   },
   {
    "duration": 3,
    "start_time": "2022-05-31T15:53:09.581Z"
   },
   {
    "duration": 13,
    "start_time": "2022-05-31T15:53:09.585Z"
   },
   {
    "duration": 8,
    "start_time": "2022-05-31T15:53:09.599Z"
   },
   {
    "duration": 3,
    "start_time": "2022-05-31T15:53:09.609Z"
   },
   {
    "duration": 8,
    "start_time": "2022-05-31T15:53:09.613Z"
   },
   {
    "duration": 33,
    "start_time": "2022-05-31T15:53:09.624Z"
   },
   {
    "duration": 21,
    "start_time": "2022-05-31T15:53:09.659Z"
   },
   {
    "duration": 6,
    "start_time": "2022-05-31T15:53:09.682Z"
   },
   {
    "duration": 7,
    "start_time": "2022-05-31T15:53:09.689Z"
   },
   {
    "duration": 18,
    "start_time": "2022-05-31T15:53:09.697Z"
   },
   {
    "duration": 299,
    "start_time": "2022-05-31T15:53:09.716Z"
   },
   {
    "duration": 386,
    "start_time": "2022-05-31T15:53:10.016Z"
   },
   {
    "duration": 441,
    "start_time": "2022-05-31T15:53:10.404Z"
   },
   {
    "duration": 2951,
    "start_time": "2022-05-31T15:53:10.847Z"
   },
   {
    "duration": 531,
    "start_time": "2022-05-31T15:53:13.800Z"
   },
   {
    "duration": 7,
    "start_time": "2022-05-31T15:53:14.332Z"
   },
   {
    "duration": 41,
    "start_time": "2022-05-31T15:53:14.341Z"
   },
   {
    "duration": 6,
    "start_time": "2022-05-31T15:53:14.384Z"
   },
   {
    "duration": 10,
    "start_time": "2022-05-31T15:53:14.391Z"
   },
   {
    "duration": 14,
    "start_time": "2022-05-31T15:53:14.402Z"
   },
   {
    "duration": 35,
    "start_time": "2022-05-31T15:53:14.417Z"
   },
   {
    "duration": 9,
    "start_time": "2022-05-31T15:53:14.454Z"
   },
   {
    "duration": 7,
    "start_time": "2022-05-31T15:53:14.465Z"
   },
   {
    "duration": 8,
    "start_time": "2022-05-31T15:53:14.475Z"
   },
   {
    "duration": 18051,
    "start_time": "2022-05-31T15:53:14.484Z"
   },
   {
    "duration": 3,
    "start_time": "2022-05-31T15:53:32.539Z"
   },
   {
    "duration": 26,
    "start_time": "2022-05-31T15:53:32.545Z"
   },
   {
    "duration": 10,
    "start_time": "2022-05-31T15:53:32.572Z"
   },
   {
    "duration": 8,
    "start_time": "2022-05-31T15:53:32.584Z"
   },
   {
    "duration": 16,
    "start_time": "2022-05-31T15:53:32.594Z"
   },
   {
    "duration": 47,
    "start_time": "2022-05-31T15:53:32.612Z"
   },
   {
    "duration": 12886,
    "start_time": "2022-05-31T15:53:32.660Z"
   },
   {
    "duration": 533,
    "start_time": "2022-05-31T15:53:45.548Z"
   },
   {
    "duration": 5,
    "start_time": "2022-05-31T15:53:46.083Z"
   },
   {
    "duration": 21850,
    "start_time": "2022-05-31T15:53:46.090Z"
   },
   {
    "duration": 5,
    "start_time": "2022-05-31T15:54:07.953Z"
   },
   {
    "duration": 12810,
    "start_time": "2022-05-31T15:54:07.959Z"
   },
   {
    "duration": 528,
    "start_time": "2022-05-31T15:54:20.771Z"
   },
   {
    "duration": 1762,
    "start_time": "2022-05-31T15:55:52.977Z"
   },
   {
    "duration": 46,
    "start_time": "2022-05-31T15:55:54.742Z"
   },
   {
    "duration": 12,
    "start_time": "2022-05-31T15:55:54.789Z"
   },
   {
    "duration": 45,
    "start_time": "2022-05-31T15:55:54.803Z"
   },
   {
    "duration": 3,
    "start_time": "2022-05-31T15:55:54.851Z"
   },
   {
    "duration": 12,
    "start_time": "2022-05-31T15:55:54.856Z"
   },
   {
    "duration": 12,
    "start_time": "2022-05-31T15:55:54.870Z"
   },
   {
    "duration": 4,
    "start_time": "2022-05-31T15:55:54.883Z"
   },
   {
    "duration": 7,
    "start_time": "2022-05-31T15:55:54.888Z"
   },
   {
    "duration": 7,
    "start_time": "2022-05-31T15:55:54.898Z"
   },
   {
    "duration": 31,
    "start_time": "2022-05-31T15:55:54.906Z"
   },
   {
    "duration": 23,
    "start_time": "2022-05-31T15:55:54.938Z"
   },
   {
    "duration": 7,
    "start_time": "2022-05-31T15:55:54.963Z"
   },
   {
    "duration": 18,
    "start_time": "2022-05-31T15:55:54.971Z"
   },
   {
    "duration": 303,
    "start_time": "2022-05-31T15:55:54.990Z"
   },
   {
    "duration": 396,
    "start_time": "2022-05-31T15:55:55.295Z"
   },
   {
    "duration": 462,
    "start_time": "2022-05-31T15:55:55.693Z"
   },
   {
    "duration": 2915,
    "start_time": "2022-05-31T15:55:56.156Z"
   },
   {
    "duration": 553,
    "start_time": "2022-05-31T15:55:59.074Z"
   },
   {
    "duration": 3,
    "start_time": "2022-05-31T15:55:59.634Z"
   },
   {
    "duration": 39,
    "start_time": "2022-05-31T15:55:59.643Z"
   },
   {
    "duration": 4,
    "start_time": "2022-05-31T15:55:59.684Z"
   },
   {
    "duration": 9,
    "start_time": "2022-05-31T15:55:59.690Z"
   },
   {
    "duration": 4,
    "start_time": "2022-05-31T15:55:59.701Z"
   },
   {
    "duration": 8,
    "start_time": "2022-05-31T15:55:59.707Z"
   },
   {
    "duration": 26,
    "start_time": "2022-05-31T15:55:59.717Z"
   },
   {
    "duration": 12,
    "start_time": "2022-05-31T15:55:59.745Z"
   },
   {
    "duration": 6,
    "start_time": "2022-05-31T15:55:59.760Z"
   },
   {
    "duration": 6,
    "start_time": "2022-05-31T15:55:59.767Z"
   },
   {
    "duration": 12376,
    "start_time": "2022-05-31T15:55:59.775Z"
   },
   {
    "duration": 531,
    "start_time": "2022-05-31T15:56:12.155Z"
   },
   {
    "duration": 5,
    "start_time": "2022-05-31T15:56:12.688Z"
   },
   {
    "duration": 20543,
    "start_time": "2022-05-31T15:56:12.695Z"
   },
   {
    "duration": 7,
    "start_time": "2022-05-31T15:56:33.243Z"
   },
   {
    "duration": 12990,
    "start_time": "2022-05-31T15:56:33.255Z"
   },
   {
    "duration": 472,
    "start_time": "2022-05-31T15:56:46.250Z"
   },
   {
    "duration": 1945,
    "start_time": "2022-05-31T16:00:34.199Z"
   },
   {
    "duration": 40,
    "start_time": "2022-05-31T16:00:36.154Z"
   },
   {
    "duration": 13,
    "start_time": "2022-05-31T16:00:36.195Z"
   },
   {
    "duration": 34,
    "start_time": "2022-05-31T16:00:36.211Z"
   },
   {
    "duration": 22,
    "start_time": "2022-05-31T16:00:36.251Z"
   },
   {
    "duration": 45,
    "start_time": "2022-05-31T16:00:36.275Z"
   },
   {
    "duration": 33,
    "start_time": "2022-05-31T16:00:36.321Z"
   },
   {
    "duration": 5,
    "start_time": "2022-05-31T16:00:36.356Z"
   },
   {
    "duration": 15,
    "start_time": "2022-05-31T16:00:36.363Z"
   },
   {
    "duration": 8,
    "start_time": "2022-05-31T16:00:36.381Z"
   },
   {
    "duration": 27,
    "start_time": "2022-05-31T16:00:36.390Z"
   },
   {
    "duration": 9,
    "start_time": "2022-05-31T16:00:36.419Z"
   },
   {
    "duration": 33,
    "start_time": "2022-05-31T16:00:36.433Z"
   },
   {
    "duration": 18,
    "start_time": "2022-05-31T16:00:36.468Z"
   },
   {
    "duration": 304,
    "start_time": "2022-05-31T16:00:36.489Z"
   },
   {
    "duration": 409,
    "start_time": "2022-05-31T16:00:36.795Z"
   },
   {
    "duration": 425,
    "start_time": "2022-05-31T16:00:37.206Z"
   },
   {
    "duration": 3032,
    "start_time": "2022-05-31T16:00:37.635Z"
   },
   {
    "duration": 548,
    "start_time": "2022-05-31T16:00:40.670Z"
   },
   {
    "duration": 3,
    "start_time": "2022-05-31T16:00:41.219Z"
   },
   {
    "duration": 53,
    "start_time": "2022-05-31T16:00:41.227Z"
   },
   {
    "duration": 4,
    "start_time": "2022-05-31T16:00:41.282Z"
   },
   {
    "duration": 12,
    "start_time": "2022-05-31T16:00:41.288Z"
   },
   {
    "duration": 3,
    "start_time": "2022-05-31T16:00:41.302Z"
   },
   {
    "duration": 6,
    "start_time": "2022-05-31T16:00:41.307Z"
   },
   {
    "duration": 7,
    "start_time": "2022-05-31T16:00:41.315Z"
   },
   {
    "duration": 30,
    "start_time": "2022-05-31T16:00:41.324Z"
   },
   {
    "duration": 7,
    "start_time": "2022-05-31T16:00:41.358Z"
   },
   {
    "duration": 8,
    "start_time": "2022-05-31T16:00:41.367Z"
   },
   {
    "duration": 14062,
    "start_time": "2022-05-31T16:00:41.377Z"
   },
   {
    "duration": 533,
    "start_time": "2022-05-31T16:00:55.440Z"
   },
   {
    "duration": 8,
    "start_time": "2022-05-31T16:00:55.975Z"
   },
   {
    "duration": 23781,
    "start_time": "2022-05-31T16:00:55.985Z"
   },
   {
    "duration": 13,
    "start_time": "2022-05-31T16:01:19.827Z"
   },
   {
    "duration": 12609,
    "start_time": "2022-05-31T16:01:19.842Z"
   },
   {
    "duration": 515,
    "start_time": "2022-05-31T16:01:32.452Z"
   },
   {
    "duration": 6,
    "start_time": "2022-05-31T16:09:01.683Z"
   },
   {
    "duration": 9583,
    "start_time": "2022-05-31T16:09:02.663Z"
   },
   {
    "duration": 5,
    "start_time": "2022-05-31T16:09:12.250Z"
   },
   {
    "duration": 12099,
    "start_time": "2022-05-31T16:09:12.257Z"
   },
   {
    "duration": 6,
    "start_time": "2022-05-31T16:09:24.439Z"
   },
   {
    "duration": 8890,
    "start_time": "2022-05-31T16:09:24.447Z"
   },
   {
    "duration": 5,
    "start_time": "2022-05-31T16:27:00.295Z"
   },
   {
    "duration": 9,
    "start_time": "2022-05-31T16:27:08.549Z"
   },
   {
    "duration": 9398,
    "start_time": "2022-05-31T16:27:09.035Z"
   },
   {
    "duration": 6,
    "start_time": "2022-05-31T16:27:18.435Z"
   },
   {
    "duration": 7502,
    "start_time": "2022-05-31T16:27:18.443Z"
   },
   {
    "duration": 493,
    "start_time": "2022-05-31T16:27:25.947Z"
   },
   {
    "duration": 2190,
    "start_time": "2022-05-31T19:40:16.700Z"
   },
   {
    "duration": 85,
    "start_time": "2022-05-31T19:40:18.892Z"
   },
   {
    "duration": 23,
    "start_time": "2022-05-31T19:40:18.980Z"
   },
   {
    "duration": 35,
    "start_time": "2022-05-31T19:40:19.005Z"
   },
   {
    "duration": 3,
    "start_time": "2022-05-31T19:40:19.041Z"
   },
   {
    "duration": 8,
    "start_time": "2022-05-31T19:40:19.046Z"
   },
   {
    "duration": 26,
    "start_time": "2022-05-31T19:40:19.055Z"
   },
   {
    "duration": 5,
    "start_time": "2022-05-31T19:40:19.085Z"
   },
   {
    "duration": 17,
    "start_time": "2022-05-31T19:40:19.092Z"
   },
   {
    "duration": 11,
    "start_time": "2022-05-31T19:40:19.112Z"
   },
   {
    "duration": 24,
    "start_time": "2022-05-31T19:40:19.125Z"
   },
   {
    "duration": 5,
    "start_time": "2022-05-31T19:40:19.151Z"
   },
   {
    "duration": 6,
    "start_time": "2022-05-31T19:40:19.158Z"
   },
   {
    "duration": 20,
    "start_time": "2022-05-31T19:40:19.175Z"
   },
   {
    "duration": 268,
    "start_time": "2022-05-31T19:40:19.197Z"
   },
   {
    "duration": 375,
    "start_time": "2022-05-31T19:40:19.477Z"
   },
   {
    "duration": 410,
    "start_time": "2022-05-31T19:40:19.853Z"
   },
   {
    "duration": 2930,
    "start_time": "2022-05-31T19:40:20.264Z"
   },
   {
    "duration": 575,
    "start_time": "2022-05-31T19:40:23.200Z"
   },
   {
    "duration": 6,
    "start_time": "2022-05-31T19:40:23.791Z"
   },
   {
    "duration": 53,
    "start_time": "2022-05-31T19:40:23.799Z"
   },
   {
    "duration": 5,
    "start_time": "2022-05-31T19:40:23.854Z"
   },
   {
    "duration": 35,
    "start_time": "2022-05-31T19:40:23.861Z"
   },
   {
    "duration": 30,
    "start_time": "2022-05-31T19:40:23.898Z"
   },
   {
    "duration": 12,
    "start_time": "2022-05-31T19:40:23.932Z"
   },
   {
    "duration": 14,
    "start_time": "2022-05-31T19:40:23.947Z"
   },
   {
    "duration": 6,
    "start_time": "2022-05-31T19:40:23.963Z"
   },
   {
    "duration": 8,
    "start_time": "2022-05-31T19:40:23.973Z"
   },
   {
    "duration": 46,
    "start_time": "2022-05-31T19:40:23.983Z"
   },
   {
    "duration": 16165,
    "start_time": "2022-05-31T19:40:24.031Z"
   },
   {
    "duration": 518,
    "start_time": "2022-05-31T19:40:40.199Z"
   },
   {
    "duration": 19,
    "start_time": "2022-05-31T19:40:40.728Z"
   },
   {
    "duration": 38630,
    "start_time": "2022-05-31T19:40:40.757Z"
   },
   {
    "duration": 6,
    "start_time": "2022-05-31T19:41:19.402Z"
   },
   {
    "duration": 12310,
    "start_time": "2022-05-31T19:41:19.410Z"
   },
   {
    "duration": 576,
    "start_time": "2022-05-31T19:41:31.782Z"
   },
   {
    "duration": 64,
    "start_time": "2022-06-02T20:22:16.260Z"
   },
   {
    "duration": 2348,
    "start_time": "2022-06-02T20:22:24.594Z"
   },
   {
    "duration": 87,
    "start_time": "2022-06-02T20:22:26.945Z"
   },
   {
    "duration": 14,
    "start_time": "2022-06-02T20:22:27.034Z"
   },
   {
    "duration": 30,
    "start_time": "2022-06-02T20:22:27.050Z"
   },
   {
    "duration": 4,
    "start_time": "2022-06-02T20:22:27.081Z"
   },
   {
    "duration": 14,
    "start_time": "2022-06-02T20:22:27.086Z"
   },
   {
    "duration": 8,
    "start_time": "2022-06-02T20:22:27.101Z"
   },
   {
    "duration": 4,
    "start_time": "2022-06-02T20:22:27.125Z"
   },
   {
    "duration": 5,
    "start_time": "2022-06-02T20:22:27.572Z"
   },
   {
    "duration": 11,
    "start_time": "2022-06-02T20:22:27.946Z"
   },
   {
    "duration": 17,
    "start_time": "2022-06-02T20:22:28.283Z"
   },
   {
    "duration": 6,
    "start_time": "2022-06-02T20:22:28.439Z"
   },
   {
    "duration": 4,
    "start_time": "2022-06-02T20:22:28.842Z"
   },
   {
    "duration": 19,
    "start_time": "2022-06-02T20:22:28.953Z"
   },
   {
    "duration": 452,
    "start_time": "2022-06-02T20:22:29.122Z"
   },
   {
    "duration": 286,
    "start_time": "2022-06-02T20:22:29.619Z"
   },
   {
    "duration": 439,
    "start_time": "2022-06-02T20:22:29.907Z"
   },
   {
    "duration": 3241,
    "start_time": "2022-06-02T20:22:30.480Z"
   },
   {
    "duration": 411,
    "start_time": "2022-06-02T20:22:33.723Z"
   },
   {
    "duration": 5,
    "start_time": "2022-06-02T20:22:34.136Z"
   },
   {
    "duration": 43,
    "start_time": "2022-06-02T20:22:34.147Z"
   },
   {
    "duration": 9,
    "start_time": "2022-06-02T20:22:34.192Z"
   },
   {
    "duration": 77,
    "start_time": "2022-06-02T20:22:34.203Z"
   },
   {
    "duration": 3,
    "start_time": "2022-06-02T20:22:34.282Z"
   },
   {
    "duration": 6,
    "start_time": "2022-06-02T20:22:34.287Z"
   },
   {
    "duration": 57,
    "start_time": "2022-06-02T20:22:34.295Z"
   },
   {
    "duration": 4,
    "start_time": "2022-06-02T20:22:34.354Z"
   },
   {
    "duration": 12,
    "start_time": "2022-06-02T20:22:34.360Z"
   },
   {
    "duration": 6,
    "start_time": "2022-06-02T20:22:34.560Z"
   },
   {
    "duration": 9338,
    "start_time": "2022-06-02T20:22:34.916Z"
   },
   {
    "duration": 645,
    "start_time": "2022-06-02T20:22:44.257Z"
   },
   {
    "duration": 6,
    "start_time": "2022-06-02T20:22:44.904Z"
   },
   {
    "duration": 12940,
    "start_time": "2022-06-02T20:22:44.911Z"
   },
   {
    "duration": 5,
    "start_time": "2022-06-02T20:22:57.853Z"
   },
   {
    "duration": 10476,
    "start_time": "2022-06-02T20:22:57.859Z"
   },
   {
    "duration": 484,
    "start_time": "2022-06-02T20:23:08.337Z"
   },
   {
    "duration": 2091,
    "start_time": "2022-06-03T16:24:38.382Z"
   },
   {
    "duration": 96,
    "start_time": "2022-06-03T16:24:40.475Z"
   },
   {
    "duration": 15,
    "start_time": "2022-06-03T16:24:40.574Z"
   },
   {
    "duration": 39,
    "start_time": "2022-06-03T16:24:40.592Z"
   },
   {
    "duration": 8,
    "start_time": "2022-06-03T16:24:40.636Z"
   },
   {
    "duration": 30,
    "start_time": "2022-06-03T16:24:40.646Z"
   },
   {
    "duration": 11,
    "start_time": "2022-06-03T16:24:40.678Z"
   },
   {
    "duration": 3,
    "start_time": "2022-06-03T16:24:40.691Z"
   },
   {
    "duration": 12,
    "start_time": "2022-06-03T16:24:40.696Z"
   },
   {
    "duration": 9,
    "start_time": "2022-06-03T16:24:40.711Z"
   },
   {
    "duration": 55,
    "start_time": "2022-06-03T16:24:40.721Z"
   },
   {
    "duration": 9,
    "start_time": "2022-06-03T16:24:40.778Z"
   },
   {
    "duration": 11,
    "start_time": "2022-06-03T16:24:40.789Z"
   },
   {
    "duration": 17,
    "start_time": "2022-06-03T16:24:40.802Z"
   },
   {
    "duration": 328,
    "start_time": "2022-06-03T16:24:40.821Z"
   },
   {
    "duration": 357,
    "start_time": "2022-06-03T16:24:41.156Z"
   },
   {
    "duration": 406,
    "start_time": "2022-06-03T16:24:41.514Z"
   },
   {
    "duration": 3104,
    "start_time": "2022-06-03T16:24:41.922Z"
   },
   {
    "duration": 528,
    "start_time": "2022-06-03T16:24:45.029Z"
   },
   {
    "duration": 3,
    "start_time": "2022-06-03T16:24:45.559Z"
   },
   {
    "duration": 27,
    "start_time": "2022-06-03T16:24:45.564Z"
   },
   {
    "duration": 5,
    "start_time": "2022-06-03T16:24:45.593Z"
   },
   {
    "duration": 107,
    "start_time": "2022-06-03T16:24:45.600Z"
   },
   {
    "duration": 3,
    "start_time": "2022-06-03T16:24:45.709Z"
   },
   {
    "duration": 9,
    "start_time": "2022-06-03T16:24:45.713Z"
   },
   {
    "duration": 67,
    "start_time": "2022-06-03T16:24:45.724Z"
   },
   {
    "duration": 3,
    "start_time": "2022-06-03T16:24:45.793Z"
   },
   {
    "duration": 9,
    "start_time": "2022-06-03T16:24:45.799Z"
   },
   {
    "duration": 7,
    "start_time": "2022-06-03T16:24:45.809Z"
   },
   {
    "duration": 14718,
    "start_time": "2022-06-03T16:24:45.817Z"
   },
   {
    "duration": 495,
    "start_time": "2022-06-03T16:25:00.537Z"
   },
   {
    "duration": 8,
    "start_time": "2022-06-03T16:25:01.037Z"
   },
   {
    "duration": 30915,
    "start_time": "2022-06-03T16:25:01.047Z"
   },
   {
    "duration": 5,
    "start_time": "2022-06-03T16:25:31.965Z"
   },
   {
    "duration": 14565,
    "start_time": "2022-06-03T16:25:31.972Z"
   },
   {
    "duration": 471,
    "start_time": "2022-06-03T16:25:46.539Z"
   },
   {
    "duration": 7,
    "start_time": "2022-06-03T16:45:50.562Z"
   },
   {
    "duration": 14581,
    "start_time": "2022-06-03T16:45:54.412Z"
   },
   {
    "duration": 10,
    "start_time": "2022-06-03T16:46:12.816Z"
   },
   {
    "duration": 17202,
    "start_time": "2022-06-03T16:46:14.159Z"
   },
   {
    "duration": 10,
    "start_time": "2022-06-03T16:46:39.418Z"
   },
   {
    "duration": 16939,
    "start_time": "2022-06-03T16:46:40.107Z"
   },
   {
    "duration": 15,
    "start_time": "2022-06-03T16:50:23.145Z"
   },
   {
    "duration": 14,
    "start_time": "2022-06-03T16:50:26.287Z"
   },
   {
    "duration": 6,
    "start_time": "2022-06-03T16:50:36.960Z"
   },
   {
    "duration": 6,
    "start_time": "2022-06-03T16:50:56.512Z"
   },
   {
    "duration": 1434,
    "start_time": "2022-06-03T16:50:57.532Z"
   },
   {
    "duration": 6,
    "start_time": "2022-06-03T16:51:08.614Z"
   },
   {
    "duration": 19,
    "start_time": "2022-06-03T16:51:09.346Z"
   },
   {
    "duration": 6,
    "start_time": "2022-06-03T16:51:46.987Z"
   },
   {
    "duration": 14078,
    "start_time": "2022-06-03T16:51:47.782Z"
   },
   {
    "duration": 482,
    "start_time": "2022-06-03T16:52:16.245Z"
   },
   {
    "duration": 6,
    "start_time": "2022-06-03T16:52:18.056Z"
   },
   {
    "duration": 36336,
    "start_time": "2022-06-03T16:52:19.521Z"
   },
   {
    "duration": 6,
    "start_time": "2022-06-03T16:52:58.559Z"
   },
   {
    "duration": 15922,
    "start_time": "2022-06-03T16:52:59.408Z"
   },
   {
    "duration": 5527,
    "start_time": "2022-06-05T10:20:18.882Z"
   },
   {
    "duration": 102,
    "start_time": "2022-06-05T10:20:24.411Z"
   },
   {
    "duration": 11,
    "start_time": "2022-06-05T10:20:24.514Z"
   },
   {
    "duration": 29,
    "start_time": "2022-06-05T10:20:24.527Z"
   },
   {
    "duration": 3,
    "start_time": "2022-06-05T10:20:24.557Z"
   },
   {
    "duration": 28,
    "start_time": "2022-06-05T10:20:24.562Z"
   },
   {
    "duration": 8,
    "start_time": "2022-06-05T10:20:24.592Z"
   },
   {
    "duration": 3,
    "start_time": "2022-06-05T10:20:24.602Z"
   },
   {
    "duration": 15,
    "start_time": "2022-06-05T10:20:24.607Z"
   },
   {
    "duration": 10,
    "start_time": "2022-06-05T10:20:24.624Z"
   },
   {
    "duration": 19,
    "start_time": "2022-06-05T10:20:24.635Z"
   },
   {
    "duration": 4,
    "start_time": "2022-06-05T10:20:24.656Z"
   },
   {
    "duration": 22,
    "start_time": "2022-06-05T10:20:24.661Z"
   },
   {
    "duration": 19,
    "start_time": "2022-06-05T10:20:24.685Z"
   },
   {
    "duration": 428,
    "start_time": "2022-06-05T10:20:24.706Z"
   },
   {
    "duration": 282,
    "start_time": "2022-06-05T10:20:25.135Z"
   },
   {
    "duration": 411,
    "start_time": "2022-06-05T10:20:25.418Z"
   },
   {
    "duration": 3208,
    "start_time": "2022-06-05T10:20:25.831Z"
   },
   {
    "duration": 418,
    "start_time": "2022-06-05T10:20:29.041Z"
   },
   {
    "duration": 11,
    "start_time": "2022-06-05T10:20:29.464Z"
   },
   {
    "duration": 32,
    "start_time": "2022-06-05T10:20:29.479Z"
   },
   {
    "duration": 4,
    "start_time": "2022-06-05T10:20:29.516Z"
   },
   {
    "duration": 52,
    "start_time": "2022-06-05T10:20:29.521Z"
   },
   {
    "duration": 4,
    "start_time": "2022-06-05T10:20:29.576Z"
   },
   {
    "duration": 6,
    "start_time": "2022-06-05T10:20:29.582Z"
   },
   {
    "duration": 37,
    "start_time": "2022-06-05T10:20:33.212Z"
   },
   {
    "duration": 5,
    "start_time": "2022-06-05T10:20:34.156Z"
   },
   {
    "duration": 7,
    "start_time": "2022-06-05T10:20:34.707Z"
   },
   {
    "duration": 149,
    "start_time": "2022-06-05T10:21:19.510Z"
   },
   {
    "duration": 10,
    "start_time": "2022-06-05T10:21:23.768Z"
   },
   {
    "duration": 10602,
    "start_time": "2022-06-05T10:21:24.963Z"
   },
   {
    "duration": 16,
    "start_time": "2022-06-05T10:21:35.568Z"
   },
   {
    "duration": 11,
    "start_time": "2022-06-05T10:21:41.077Z"
   },
   {
    "duration": 14,
    "start_time": "2022-06-05T10:22:00.609Z"
   },
   {
    "duration": 7,
    "start_time": "2022-06-05T10:25:39.812Z"
   },
   {
    "duration": 7890,
    "start_time": "2022-06-05T10:25:40.794Z"
   },
   {
    "duration": 7,
    "start_time": "2022-06-05T10:26:18.759Z"
   },
   {
    "duration": 8145,
    "start_time": "2022-06-05T10:26:21.344Z"
   },
   {
    "duration": 6,
    "start_time": "2022-06-05T10:26:55.579Z"
   },
   {
    "duration": 4929,
    "start_time": "2022-06-05T10:27:03.362Z"
   },
   {
    "duration": 8,
    "start_time": "2022-06-05T10:28:27.582Z"
   },
   {
    "duration": 7064,
    "start_time": "2022-06-05T10:28:30.315Z"
   },
   {
    "duration": 6,
    "start_time": "2022-06-05T10:28:51.803Z"
   },
   {
    "duration": 4,
    "start_time": "2022-06-05T10:28:52.132Z"
   },
   {
    "duration": 7,
    "start_time": "2022-06-05T10:29:07.729Z"
   },
   {
    "duration": 8509,
    "start_time": "2022-06-05T10:29:10.184Z"
   },
   {
    "duration": 4,
    "start_time": "2022-06-05T10:34:51.321Z"
   },
   {
    "duration": 4,
    "start_time": "2022-06-05T10:34:51.532Z"
   },
   {
    "duration": 4,
    "start_time": "2022-06-05T10:34:52.189Z"
   },
   {
    "duration": 5,
    "start_time": "2022-06-05T10:34:52.759Z"
   },
   {
    "duration": 7,
    "start_time": "2022-06-05T10:34:55.751Z"
   },
   {
    "duration": 19,
    "start_time": "2022-06-05T10:35:01.035Z"
   },
   {
    "duration": 19,
    "start_time": "2022-06-05T10:35:10.203Z"
   },
   {
    "duration": 8,
    "start_time": "2022-06-05T10:35:31.012Z"
   },
   {
    "duration": 9900,
    "start_time": "2022-06-05T10:35:31.886Z"
   },
   {
    "duration": 10,
    "start_time": "2022-06-05T10:35:42.045Z"
   },
   {
    "duration": 7,
    "start_time": "2022-06-05T10:36:12.232Z"
   },
   {
    "duration": 10340,
    "start_time": "2022-06-05T10:36:12.988Z"
   },
   {
    "duration": 7,
    "start_time": "2022-06-05T10:36:49.962Z"
   },
   {
    "duration": 7647,
    "start_time": "2022-06-05T10:36:50.848Z"
   },
   {
    "duration": 0,
    "start_time": "2022-06-05T10:36:58.496Z"
   },
   {
    "duration": 7,
    "start_time": "2022-06-05T10:38:01.426Z"
   },
   {
    "duration": 9292,
    "start_time": "2022-06-05T10:38:02.385Z"
   },
   {
    "duration": 0,
    "start_time": "2022-06-05T10:38:11.679Z"
   },
   {
    "duration": 6,
    "start_time": "2022-06-05T10:39:49.906Z"
   },
   {
    "duration": 4154,
    "start_time": "2022-06-05T10:39:51.018Z"
   },
   {
    "duration": 5,
    "start_time": "2022-06-05T10:41:08.882Z"
   },
   {
    "duration": 7,
    "start_time": "2022-06-05T10:41:25.031Z"
   },
   {
    "duration": 7,
    "start_time": "2022-06-05T10:41:31.048Z"
   },
   {
    "duration": 5840,
    "start_time": "2022-06-05T10:41:31.825Z"
   },
   {
    "duration": 7,
    "start_time": "2022-06-05T10:41:59.590Z"
   },
   {
    "duration": 8291,
    "start_time": "2022-06-05T10:42:01.002Z"
   },
   {
    "duration": 7,
    "start_time": "2022-06-05T10:42:18.185Z"
   },
   {
    "duration": 6400,
    "start_time": "2022-06-05T10:42:20.704Z"
   },
   {
    "duration": 0,
    "start_time": "2022-06-05T10:42:27.165Z"
   },
   {
    "duration": 9,
    "start_time": "2022-06-05T10:43:16.350Z"
   },
   {
    "duration": 8,
    "start_time": "2022-06-05T10:43:36.423Z"
   },
   {
    "duration": 9,
    "start_time": "2022-06-05T10:43:53.836Z"
   },
   {
    "duration": 9,
    "start_time": "2022-06-05T10:44:09.182Z"
   },
   {
    "duration": 8,
    "start_time": "2022-06-05T10:44:10.235Z"
   },
   {
    "duration": 24,
    "start_time": "2022-06-05T10:44:11.550Z"
   },
   {
    "duration": 22,
    "start_time": "2022-06-05T10:44:15.387Z"
   },
   {
    "duration": 5,
    "start_time": "2022-06-05T10:44:33.960Z"
   },
   {
    "duration": 3,
    "start_time": "2022-06-05T10:44:34.529Z"
   },
   {
    "duration": 5,
    "start_time": "2022-06-05T10:44:35.589Z"
   },
   {
    "duration": 8,
    "start_time": "2022-06-05T10:44:40.330Z"
   },
   {
    "duration": 22,
    "start_time": "2022-06-05T10:44:43.866Z"
   },
   {
    "duration": 13,
    "start_time": "2022-06-05T10:45:29.459Z"
   },
   {
    "duration": 8,
    "start_time": "2022-06-05T10:45:30.103Z"
   },
   {
    "duration": 27,
    "start_time": "2022-06-05T10:45:31.195Z"
   },
   {
    "duration": 36,
    "start_time": "2022-06-05T10:45:50.026Z"
   },
   {
    "duration": 8,
    "start_time": "2022-06-05T10:45:50.424Z"
   },
   {
    "duration": 7,
    "start_time": "2022-06-05T10:45:55.209Z"
   },
   {
    "duration": 7,
    "start_time": "2022-06-05T10:45:55.632Z"
   },
   {
    "duration": 22,
    "start_time": "2022-06-05T10:45:57.096Z"
   },
   {
    "duration": 3,
    "start_time": "2022-06-05T10:46:20.388Z"
   },
   {
    "duration": 6,
    "start_time": "2022-06-05T10:47:01.887Z"
   },
   {
    "duration": 21,
    "start_time": "2022-06-05T10:47:02.892Z"
   },
   {
    "duration": 4,
    "start_time": "2022-06-05T10:47:08.710Z"
   },
   {
    "duration": 37,
    "start_time": "2022-06-05T10:47:09.004Z"
   },
   {
    "duration": 14,
    "start_time": "2022-06-05T10:47:09.129Z"
   },
   {
    "duration": 25,
    "start_time": "2022-06-05T10:47:09.290Z"
   },
   {
    "duration": 3,
    "start_time": "2022-06-05T10:47:10.199Z"
   },
   {
    "duration": 6,
    "start_time": "2022-06-05T10:47:10.531Z"
   },
   {
    "duration": 6,
    "start_time": "2022-06-05T10:47:10.844Z"
   },
   {
    "duration": 3,
    "start_time": "2022-06-05T10:47:11.185Z"
   },
   {
    "duration": 4,
    "start_time": "2022-06-05T10:47:11.503Z"
   },
   {
    "duration": 8,
    "start_time": "2022-06-05T10:47:11.806Z"
   },
   {
    "duration": 16,
    "start_time": "2022-06-05T10:47:12.144Z"
   },
   {
    "duration": 4,
    "start_time": "2022-06-05T10:47:12.299Z"
   },
   {
    "duration": 5,
    "start_time": "2022-06-05T10:47:12.623Z"
   },
   {
    "duration": 17,
    "start_time": "2022-06-05T10:47:12.794Z"
   },
   {
    "duration": 289,
    "start_time": "2022-06-05T10:47:12.955Z"
   },
   {
    "duration": 288,
    "start_time": "2022-06-05T10:47:13.431Z"
   },
   {
    "duration": 418,
    "start_time": "2022-06-05T10:47:13.721Z"
   },
   {
    "duration": 3098,
    "start_time": "2022-06-05T10:47:14.140Z"
   },
   {
    "duration": 434,
    "start_time": "2022-06-05T10:47:17.240Z"
   },
   {
    "duration": 4,
    "start_time": "2022-06-05T10:47:17.675Z"
   },
   {
    "duration": 26,
    "start_time": "2022-06-05T10:47:17.681Z"
   },
   {
    "duration": 4,
    "start_time": "2022-06-05T10:47:17.709Z"
   },
   {
    "duration": 8,
    "start_time": "2022-06-05T10:47:17.715Z"
   },
   {
    "duration": 4,
    "start_time": "2022-06-05T10:47:17.724Z"
   },
   {
    "duration": 5,
    "start_time": "2022-06-05T10:47:17.729Z"
   },
   {
    "duration": 34,
    "start_time": "2022-06-05T10:47:17.736Z"
   },
   {
    "duration": 8,
    "start_time": "2022-06-05T10:47:19.763Z"
   },
   {
    "duration": 5,
    "start_time": "2022-06-05T10:47:20.288Z"
   },
   {
    "duration": 6,
    "start_time": "2022-06-05T10:47:22.784Z"
   },
   {
    "duration": 8271,
    "start_time": "2022-06-05T10:47:25.409Z"
   },
   {
    "duration": 7,
    "start_time": "2022-06-05T10:47:37.883Z"
   },
   {
    "duration": 8167,
    "start_time": "2022-06-05T10:47:38.710Z"
   },
   {
    "duration": 7,
    "start_time": "2022-06-05T10:48:05.060Z"
   },
   {
    "duration": 7420,
    "start_time": "2022-06-05T10:48:05.961Z"
   },
   {
    "duration": 4,
    "start_time": "2022-06-05T10:48:13.383Z"
   },
   {
    "duration": 7,
    "start_time": "2022-06-05T10:48:27.966Z"
   },
   {
    "duration": 3785,
    "start_time": "2022-06-05T10:48:28.996Z"
   },
   {
    "duration": 4,
    "start_time": "2022-06-05T10:48:32.783Z"
   },
   {
    "duration": 7,
    "start_time": "2022-06-05T10:48:40.262Z"
   },
   {
    "duration": 8235,
    "start_time": "2022-06-05T10:48:41.041Z"
   },
   {
    "duration": 4,
    "start_time": "2022-06-05T10:48:49.278Z"
   },
   {
    "duration": 12,
    "start_time": "2022-06-05T10:48:55.626Z"
   },
   {
    "duration": 3910,
    "start_time": "2022-06-05T10:49:09.155Z"
   },
   {
    "duration": 8,
    "start_time": "2022-06-05T10:49:13.067Z"
   },
   {
    "duration": 7,
    "start_time": "2022-06-05T10:49:20.433Z"
   },
   {
    "duration": 4849,
    "start_time": "2022-06-05T10:49:21.527Z"
   },
   {
    "duration": 7,
    "start_time": "2022-06-05T10:49:26.378Z"
   },
   {
    "duration": 8,
    "start_time": "2022-06-05T10:49:31.020Z"
   },
   {
    "duration": 7391,
    "start_time": "2022-06-05T10:49:32.006Z"
   },
   {
    "duration": 0,
    "start_time": "2022-06-05T10:49:39.399Z"
   },
   {
    "duration": 7,
    "start_time": "2022-06-05T10:49:48.466Z"
   },
   {
    "duration": 3696,
    "start_time": "2022-06-05T10:49:49.285Z"
   },
   {
    "duration": 9,
    "start_time": "2022-06-05T10:49:52.983Z"
   },
   {
    "duration": 7,
    "start_time": "2022-06-05T10:49:59.497Z"
   },
   {
    "duration": 3818,
    "start_time": "2022-06-05T10:50:00.264Z"
   },
   {
    "duration": 7,
    "start_time": "2022-06-05T10:50:04.084Z"
   },
   {
    "duration": 6,
    "start_time": "2022-06-05T10:50:44.640Z"
   },
   {
    "duration": 7696,
    "start_time": "2022-06-05T10:50:45.596Z"
   },
   {
    "duration": 39,
    "start_time": "2022-06-05T10:50:53.365Z"
   },
   {
    "duration": 7,
    "start_time": "2022-06-05T10:51:03.746Z"
   },
   {
    "duration": 3390,
    "start_time": "2022-06-05T10:51:04.804Z"
   },
   {
    "duration": 0,
    "start_time": "2022-06-05T10:51:08.196Z"
   },
   {
    "duration": 7,
    "start_time": "2022-06-05T10:51:30.789Z"
   },
   {
    "duration": 2832,
    "start_time": "2022-06-05T10:51:31.953Z"
   },
   {
    "duration": 7,
    "start_time": "2022-06-05T10:51:40.165Z"
   },
   {
    "duration": 7211,
    "start_time": "2022-06-05T10:51:40.958Z"
   },
   {
    "duration": 8,
    "start_time": "2022-06-05T10:51:48.171Z"
   },
   {
    "duration": 7,
    "start_time": "2022-06-05T10:52:33.389Z"
   },
   {
    "duration": 5037,
    "start_time": "2022-06-05T10:52:34.252Z"
   },
   {
    "duration": 0,
    "start_time": "2022-06-05T10:52:39.291Z"
   },
   {
    "duration": 6,
    "start_time": "2022-06-05T10:52:51.342Z"
   },
   {
    "duration": 4087,
    "start_time": "2022-06-05T10:52:52.394Z"
   },
   {
    "duration": 12,
    "start_time": "2022-06-05T10:52:58.917Z"
   },
   {
    "duration": 7,
    "start_time": "2022-06-05T10:53:07.711Z"
   },
   {
    "duration": 4879,
    "start_time": "2022-06-05T10:53:08.589Z"
   },
   {
    "duration": 0,
    "start_time": "2022-06-05T10:53:13.470Z"
   },
   {
    "duration": 5,
    "start_time": "2022-06-05T10:54:19.124Z"
   },
   {
    "duration": 4,
    "start_time": "2022-06-05T10:54:22.875Z"
   },
   {
    "duration": 8,
    "start_time": "2022-06-05T10:54:31.561Z"
   },
   {
    "duration": 7,
    "start_time": "2022-06-05T10:54:51.508Z"
   },
   {
    "duration": 7300,
    "start_time": "2022-06-05T10:54:52.189Z"
   },
   {
    "duration": 7,
    "start_time": "2022-06-05T10:55:44.121Z"
   },
   {
    "duration": 3513,
    "start_time": "2022-06-05T10:55:45.166Z"
   },
   {
    "duration": 4,
    "start_time": "2022-06-05T10:55:48.681Z"
   },
   {
    "duration": 9,
    "start_time": "2022-06-05T10:55:53.969Z"
   },
   {
    "duration": 3,
    "start_time": "2022-06-05T10:56:18.080Z"
   },
   {
    "duration": 4,
    "start_time": "2022-06-05T10:56:18.451Z"
   },
   {
    "duration": 3,
    "start_time": "2022-06-05T10:56:18.656Z"
   },
   {
    "duration": 4,
    "start_time": "2022-06-05T10:56:19.188Z"
   },
   {
    "duration": 6,
    "start_time": "2022-06-05T10:56:19.688Z"
   },
   {
    "duration": 7,
    "start_time": "2022-06-05T10:56:20.741Z"
   },
   {
    "duration": 6606,
    "start_time": "2022-06-05T10:56:22.072Z"
   },
   {
    "duration": 7,
    "start_time": "2022-06-05T10:56:28.680Z"
   },
   {
    "duration": 538,
    "start_time": "2022-06-05T10:56:28.689Z"
   },
   {
    "duration": 7,
    "start_time": "2022-06-05T11:02:31.589Z"
   },
   {
    "duration": 87,
    "start_time": "2022-06-05T11:02:32.028Z"
   },
   {
    "duration": 5,
    "start_time": "2022-06-05T11:03:01.310Z"
   },
   {
    "duration": 36,
    "start_time": "2022-06-05T11:03:02.117Z"
   },
   {
    "duration": 6,
    "start_time": "2022-06-05T11:03:37.411Z"
   },
   {
    "duration": 31,
    "start_time": "2022-06-05T11:03:38.052Z"
   },
   {
    "duration": 5,
    "start_time": "2022-06-05T11:04:04.691Z"
   },
   {
    "duration": 9454,
    "start_time": "2022-06-05T11:04:05.121Z"
   },
   {
    "duration": 14,
    "start_time": "2022-06-05T11:05:18.254Z"
   },
   {
    "duration": 5260,
    "start_time": "2022-06-05T11:05:19.717Z"
   },
   {
    "duration": 4,
    "start_time": "2022-06-05T11:06:17.186Z"
   },
   {
    "duration": 4,
    "start_time": "2022-06-05T11:06:17.855Z"
   },
   {
    "duration": 4,
    "start_time": "2022-06-05T11:06:18.041Z"
   },
   {
    "duration": 4,
    "start_time": "2022-06-05T11:06:18.784Z"
   },
   {
    "duration": 5,
    "start_time": "2022-06-05T11:06:19.239Z"
   },
   {
    "duration": 7,
    "start_time": "2022-06-05T11:06:20.461Z"
   },
   {
    "duration": 7590,
    "start_time": "2022-06-05T11:06:21.592Z"
   },
   {
    "duration": 9,
    "start_time": "2022-06-05T11:07:02.053Z"
   },
   {
    "duration": 3,
    "start_time": "2022-06-05T11:07:26.691Z"
   },
   {
    "duration": 4,
    "start_time": "2022-06-05T11:07:27.089Z"
   },
   {
    "duration": 4,
    "start_time": "2022-06-05T11:07:27.233Z"
   },
   {
    "duration": 4,
    "start_time": "2022-06-05T11:07:27.551Z"
   },
   {
    "duration": 6,
    "start_time": "2022-06-05T11:07:27.712Z"
   },
   {
    "duration": 7,
    "start_time": "2022-06-05T11:07:28.832Z"
   },
   {
    "duration": 7402,
    "start_time": "2022-06-05T11:07:31.589Z"
   },
   {
    "duration": 10,
    "start_time": "2022-06-05T11:07:38.993Z"
   },
   {
    "duration": 7,
    "start_time": "2022-06-05T11:08:21.398Z"
   },
   {
    "duration": 4,
    "start_time": "2022-06-05T11:08:25.087Z"
   },
   {
    "duration": 6,
    "start_time": "2022-06-05T11:08:25.245Z"
   },
   {
    "duration": 8,
    "start_time": "2022-06-05T11:08:25.599Z"
   },
   {
    "duration": 7546,
    "start_time": "2022-06-05T11:08:25.943Z"
   },
   {
    "duration": 7,
    "start_time": "2022-06-05T11:10:29.389Z"
   },
   {
    "duration": 7986,
    "start_time": "2022-06-05T11:10:30.489Z"
   },
   {
    "duration": 5,
    "start_time": "2022-06-05T11:11:25.410Z"
   },
   {
    "duration": 4,
    "start_time": "2022-06-05T11:11:25.592Z"
   },
   {
    "duration": 5,
    "start_time": "2022-06-05T11:11:25.944Z"
   },
   {
    "duration": 7,
    "start_time": "2022-06-05T11:11:26.091Z"
   },
   {
    "duration": 7,
    "start_time": "2022-06-05T11:11:26.488Z"
   },
   {
    "duration": 7474,
    "start_time": "2022-06-05T11:11:27.414Z"
   },
   {
    "duration": 8,
    "start_time": "2022-06-05T11:11:34.890Z"
   },
   {
    "duration": 6,
    "start_time": "2022-06-05T11:12:19.033Z"
   },
   {
    "duration": 4,
    "start_time": "2022-06-05T11:12:19.223Z"
   },
   {
    "duration": 5,
    "start_time": "2022-06-05T11:12:19.512Z"
   },
   {
    "duration": 6,
    "start_time": "2022-06-05T11:12:19.663Z"
   },
   {
    "duration": 8,
    "start_time": "2022-06-05T11:12:19.958Z"
   },
   {
    "duration": 7285,
    "start_time": "2022-06-05T11:12:20.288Z"
   },
   {
    "duration": 9,
    "start_time": "2022-06-05T11:12:27.575Z"
   },
   {
    "duration": 463,
    "start_time": "2022-06-05T11:12:27.586Z"
   },
   {
    "duration": 5,
    "start_time": "2022-06-05T11:12:28.051Z"
   },
   {
    "duration": 6310,
    "start_time": "2022-06-05T11:12:28.064Z"
   },
   {
    "duration": 5,
    "start_time": "2022-06-05T11:13:01.392Z"
   },
   {
    "duration": 8582,
    "start_time": "2022-06-05T11:13:01.691Z"
   },
   {
    "duration": 4,
    "start_time": "2022-06-05T11:39:09.388Z"
   },
   {
    "duration": 5,
    "start_time": "2022-06-05T11:39:15.847Z"
   },
   {
    "duration": 4,
    "start_time": "2022-06-05T11:39:22.643Z"
   },
   {
    "duration": 13,
    "start_time": "2022-06-05T11:39:35.503Z"
   },
   {
    "duration": 11,
    "start_time": "2022-06-05T11:39:39.782Z"
   },
   {
    "duration": 4,
    "start_time": "2022-06-05T11:39:51.906Z"
   },
   {
    "duration": 4,
    "start_time": "2022-06-05T11:40:26.648Z"
   },
   {
    "duration": 68,
    "start_time": "2022-06-05T11:45:05.117Z"
   },
   {
    "duration": 23,
    "start_time": "2022-06-05T11:45:25.648Z"
   },
   {
    "duration": 25,
    "start_time": "2022-06-05T11:45:58.488Z"
   },
   {
    "duration": 26740,
    "start_time": "2022-06-05T11:46:07.953Z"
   },
   {
    "duration": 5,
    "start_time": "2022-06-05T11:48:09.139Z"
   },
   {
    "duration": 25,
    "start_time": "2022-06-05T11:48:13.292Z"
   },
   {
    "duration": 21895,
    "start_time": "2022-06-05T11:48:24.784Z"
   },
   {
    "duration": 19885,
    "start_time": "2022-06-05T11:48:53.093Z"
   },
   {
    "duration": 23498,
    "start_time": "2022-06-05T11:49:48.192Z"
   },
   {
    "duration": 77,
    "start_time": "2022-06-05T11:50:11.693Z"
   },
   {
    "duration": 18554,
    "start_time": "2022-06-05T11:50:34.919Z"
   },
   {
    "duration": 9,
    "start_time": "2022-06-05T11:50:53.475Z"
   },
   {
    "duration": 21971,
    "start_time": "2022-06-05T11:52:17.613Z"
   },
   {
    "duration": 9,
    "start_time": "2022-06-05T11:52:39.586Z"
   },
   {
    "duration": 3,
    "start_time": "2022-06-05T11:53:02.024Z"
   },
   {
    "duration": 152600,
    "start_time": "2022-06-05T11:53:02.583Z"
   },
   {
    "duration": 0,
    "start_time": "2022-06-05T11:55:35.185Z"
   },
   {
    "duration": 4,
    "start_time": "2022-06-05T11:55:42.409Z"
   },
   {
    "duration": 3043,
    "start_time": "2022-06-05T11:55:43.044Z"
   },
   {
    "duration": 4,
    "start_time": "2022-06-05T11:55:55.303Z"
   },
   {
    "duration": 109051,
    "start_time": "2022-06-05T11:55:55.742Z"
   },
   {
    "duration": 17,
    "start_time": "2022-06-05T11:57:44.798Z"
   },
   {
    "duration": 17,
    "start_time": "2022-06-05T11:58:12.855Z"
   },
   {
    "duration": 11,
    "start_time": "2022-06-05T11:58:24.774Z"
   },
   {
    "duration": 10,
    "start_time": "2022-06-05T12:00:18.416Z"
   },
   {
    "duration": 12,
    "start_time": "2022-06-05T12:00:29.182Z"
   },
   {
    "duration": 11,
    "start_time": "2022-06-05T12:00:42.307Z"
   },
   {
    "duration": 6,
    "start_time": "2022-06-05T12:03:07.347Z"
   },
   {
    "duration": 8,
    "start_time": "2022-06-05T12:03:14.454Z"
   },
   {
    "duration": 5,
    "start_time": "2022-06-05T12:03:18.179Z"
   },
   {
    "duration": 5,
    "start_time": "2022-06-05T12:03:29.410Z"
   },
   {
    "duration": 5,
    "start_time": "2022-06-05T12:03:33.249Z"
   },
   {
    "duration": 29,
    "start_time": "2022-06-05T12:03:49.187Z"
   },
   {
    "duration": 5,
    "start_time": "2022-06-05T12:04:57.088Z"
   },
   {
    "duration": 4926,
    "start_time": "2022-06-05T12:06:00.545Z"
   },
   {
    "duration": 2235,
    "start_time": "2022-06-05T12:06:28.645Z"
   },
   {
    "duration": 6,
    "start_time": "2022-06-05T12:06:34.081Z"
   },
   {
    "duration": 5897,
    "start_time": "2022-06-05T12:06:34.882Z"
   },
   {
    "duration": 6,
    "start_time": "2022-06-05T12:08:52.453Z"
   },
   {
    "duration": 11,
    "start_time": "2022-06-05T12:08:57.203Z"
   },
   {
    "duration": 5,
    "start_time": "2022-06-05T12:08:59.182Z"
   },
   {
    "duration": 5624,
    "start_time": "2022-06-05T12:09:01.857Z"
   },
   {
    "duration": 6,
    "start_time": "2022-06-05T12:09:15.741Z"
   },
   {
    "duration": 4068,
    "start_time": "2022-06-05T12:09:16.017Z"
   },
   {
    "duration": 10,
    "start_time": "2022-06-05T12:09:22.810Z"
   },
   {
    "duration": 6,
    "start_time": "2022-06-05T12:09:23.594Z"
   },
   {
    "duration": 4469,
    "start_time": "2022-06-05T12:09:24.014Z"
   },
   {
    "duration": 6,
    "start_time": "2022-06-05T12:09:33.853Z"
   },
   {
    "duration": 7745,
    "start_time": "2022-06-05T12:09:34.446Z"
   },
   {
    "duration": 10,
    "start_time": "2022-06-05T12:09:48.692Z"
   },
   {
    "duration": 7,
    "start_time": "2022-06-05T12:09:50.003Z"
   },
   {
    "duration": 7563,
    "start_time": "2022-06-05T12:09:50.720Z"
   },
   {
    "duration": 9,
    "start_time": "2022-06-05T12:10:12.184Z"
   },
   {
    "duration": 8,
    "start_time": "2022-06-05T12:10:33.485Z"
   },
   {
    "duration": 10,
    "start_time": "2022-06-05T12:10:59.089Z"
   },
   {
    "duration": 7,
    "start_time": "2022-06-05T12:11:21.305Z"
   },
   {
    "duration": 8,
    "start_time": "2022-06-05T12:11:37.287Z"
   },
   {
    "duration": 15,
    "start_time": "2022-06-05T12:13:36.289Z"
   },
   {
    "duration": 602,
    "start_time": "2022-06-05T12:14:13.690Z"
   },
   {
    "duration": 1763,
    "start_time": "2022-06-05T12:14:27.798Z"
   },
   {
    "duration": 39,
    "start_time": "2022-06-05T12:14:29.563Z"
   },
   {
    "duration": 11,
    "start_time": "2022-06-05T12:14:29.603Z"
   },
   {
    "duration": 28,
    "start_time": "2022-06-05T12:14:29.615Z"
   },
   {
    "duration": 4,
    "start_time": "2022-06-05T12:14:29.644Z"
   },
   {
    "duration": 9,
    "start_time": "2022-06-05T12:14:29.650Z"
   },
   {
    "duration": 17,
    "start_time": "2022-06-05T12:14:29.661Z"
   },
   {
    "duration": 5,
    "start_time": "2022-06-05T12:14:29.679Z"
   },
   {
    "duration": 6,
    "start_time": "2022-06-05T12:14:29.686Z"
   },
   {
    "duration": 8,
    "start_time": "2022-06-05T12:14:29.694Z"
   },
   {
    "duration": 22,
    "start_time": "2022-06-05T12:14:29.703Z"
   },
   {
    "duration": 5,
    "start_time": "2022-06-05T12:14:29.726Z"
   },
   {
    "duration": 7,
    "start_time": "2022-06-05T12:14:29.733Z"
   },
   {
    "duration": 25,
    "start_time": "2022-06-05T12:14:29.741Z"
   },
   {
    "duration": 292,
    "start_time": "2022-06-05T12:14:29.768Z"
   },
   {
    "duration": 363,
    "start_time": "2022-06-05T12:14:30.064Z"
   },
   {
    "duration": 402,
    "start_time": "2022-06-05T12:14:30.428Z"
   },
   {
    "duration": 2864,
    "start_time": "2022-06-05T12:14:30.831Z"
   },
   {
    "duration": 536,
    "start_time": "2022-06-05T12:14:33.697Z"
   },
   {
    "duration": 2,
    "start_time": "2022-06-05T12:14:34.235Z"
   },
   {
    "duration": 47,
    "start_time": "2022-06-05T12:14:34.238Z"
   },
   {
    "duration": 5,
    "start_time": "2022-06-05T12:14:34.287Z"
   },
   {
    "duration": 27,
    "start_time": "2022-06-05T12:14:34.293Z"
   },
   {
    "duration": 26,
    "start_time": "2022-06-05T12:14:34.321Z"
   },
   {
    "duration": 14,
    "start_time": "2022-06-05T12:14:34.348Z"
   },
   {
    "duration": 37,
    "start_time": "2022-06-05T12:14:34.363Z"
   },
   {
    "duration": 12,
    "start_time": "2022-06-05T12:14:34.402Z"
   },
   {
    "duration": 22,
    "start_time": "2022-06-05T12:14:34.417Z"
   },
   {
    "duration": 23,
    "start_time": "2022-06-05T12:14:34.441Z"
   },
   {
    "duration": 5305,
    "start_time": "2022-06-05T12:14:34.466Z"
   },
   {
    "duration": 8,
    "start_time": "2022-06-05T12:14:39.773Z"
   },
   {
    "duration": 446,
    "start_time": "2022-06-05T12:14:39.782Z"
   },
   {
    "duration": 5,
    "start_time": "2022-06-05T12:14:40.230Z"
   },
   {
    "duration": 7945,
    "start_time": "2022-06-05T12:14:40.237Z"
   },
   {
    "duration": 3,
    "start_time": "2022-06-05T12:14:48.183Z"
   },
   {
    "duration": 116795,
    "start_time": "2022-06-05T12:14:48.188Z"
   },
   {
    "duration": 11,
    "start_time": "2022-06-05T12:16:44.984Z"
   },
   {
    "duration": 19,
    "start_time": "2022-06-05T12:16:44.996Z"
   },
   {
    "duration": 5363,
    "start_time": "2022-06-05T12:16:45.017Z"
   },
   {
    "duration": 13,
    "start_time": "2022-06-05T12:16:50.381Z"
   },
   {
    "duration": 459,
    "start_time": "2022-06-05T12:16:50.396Z"
   },
   {
    "duration": 449,
    "start_time": "2022-06-05T12:20:15.499Z"
   },
   {
    "duration": 1820,
    "start_time": "2022-06-06T07:10:38.876Z"
   },
   {
    "duration": 100,
    "start_time": "2022-06-06T07:10:42.820Z"
   },
   {
    "duration": 13,
    "start_time": "2022-06-06T07:10:44.461Z"
   },
   {
    "duration": 36,
    "start_time": "2022-06-06T07:10:44.979Z"
   },
   {
    "duration": 4,
    "start_time": "2022-06-06T07:11:23.441Z"
   },
   {
    "duration": 7,
    "start_time": "2022-06-06T07:11:24.501Z"
   },
   {
    "duration": 3,
    "start_time": "2022-06-06T07:11:35.226Z"
   },
   {
    "duration": 5,
    "start_time": "2022-06-06T07:11:36.325Z"
   },
   {
    "duration": 10,
    "start_time": "2022-06-06T07:11:37.538Z"
   },
   {
    "duration": 23,
    "start_time": "2022-06-06T07:11:48.940Z"
   },
   {
    "duration": 6,
    "start_time": "2022-06-06T07:11:54.501Z"
   },
   {
    "duration": 4,
    "start_time": "2022-06-06T07:11:55.508Z"
   },
   {
    "duration": 17,
    "start_time": "2022-06-06T07:11:59.665Z"
   },
   {
    "duration": 991,
    "start_time": "2022-06-06T07:13:48.040Z"
   },
   {
    "duration": 491,
    "start_time": "2022-06-06T07:13:49.729Z"
   },
   {
    "duration": 2893,
    "start_time": "2022-06-06T07:13:53.059Z"
   },
   {
    "duration": 407,
    "start_time": "2022-06-06T07:13:55.954Z"
   },
   {
    "duration": 3,
    "start_time": "2022-06-06T07:14:47.377Z"
   },
   {
    "duration": 36,
    "start_time": "2022-06-06T07:14:48.543Z"
   },
   {
    "duration": 4,
    "start_time": "2022-06-06T07:14:49.312Z"
   },
   {
    "duration": 58,
    "start_time": "2022-06-06T07:15:13.876Z"
   },
   {
    "duration": 3,
    "start_time": "2022-06-06T07:15:37.016Z"
   },
   {
    "duration": 5,
    "start_time": "2022-06-06T07:15:41.775Z"
   },
   {
    "duration": 41,
    "start_time": "2022-06-06T07:15:45.263Z"
   },
   {
    "duration": 4,
    "start_time": "2022-06-06T07:18:39.447Z"
   },
   {
    "duration": 6,
    "start_time": "2022-06-06T07:18:41.934Z"
   },
   {
    "duration": 7,
    "start_time": "2022-06-06T07:18:44.278Z"
   },
   {
    "duration": 7634,
    "start_time": "2022-06-06T07:18:47.522Z"
   },
   {
    "duration": 8,
    "start_time": "2022-06-06T07:18:55.228Z"
   },
   {
    "duration": 563,
    "start_time": "2022-06-06T07:19:36.789Z"
   },
   {
    "duration": 5,
    "start_time": "2022-06-06T07:20:14.599Z"
   },
   {
    "duration": 13001,
    "start_time": "2022-06-06T07:20:15.344Z"
   },
   {
    "duration": 2029,
    "start_time": "2022-06-07T09:09:29.502Z"
   },
   {
    "duration": 92,
    "start_time": "2022-06-07T09:09:31.536Z"
   },
   {
    "duration": 17,
    "start_time": "2022-06-07T09:09:31.629Z"
   },
   {
    "duration": 83,
    "start_time": "2022-06-07T09:09:31.649Z"
   },
   {
    "duration": 3,
    "start_time": "2022-06-07T09:09:31.733Z"
   },
   {
    "duration": 39,
    "start_time": "2022-06-07T09:09:31.738Z"
   },
   {
    "duration": 54,
    "start_time": "2022-06-07T09:09:31.778Z"
   },
   {
    "duration": 21,
    "start_time": "2022-06-07T09:09:31.833Z"
   },
   {
    "duration": 22,
    "start_time": "2022-06-07T09:09:31.855Z"
   },
   {
    "duration": 49,
    "start_time": "2022-06-07T09:09:31.880Z"
   },
   {
    "duration": 118,
    "start_time": "2022-06-07T09:09:31.931Z"
   },
   {
    "duration": 18,
    "start_time": "2022-06-07T09:09:32.050Z"
   },
   {
    "duration": 29,
    "start_time": "2022-06-07T09:09:32.069Z"
   },
   {
    "duration": 52,
    "start_time": "2022-06-07T09:09:32.100Z"
   },
   {
    "duration": 349,
    "start_time": "2022-06-07T09:09:32.154Z"
   },
   {
    "duration": 352,
    "start_time": "2022-06-07T09:09:32.504Z"
   },
   {
    "duration": 465,
    "start_time": "2022-06-07T09:09:32.863Z"
   },
   {
    "duration": 3359,
    "start_time": "2022-06-07T09:09:33.330Z"
   },
   {
    "duration": 600,
    "start_time": "2022-06-07T09:09:36.692Z"
   },
   {
    "duration": 4,
    "start_time": "2022-06-07T09:09:37.294Z"
   },
   {
    "duration": 45,
    "start_time": "2022-06-07T09:09:37.300Z"
   },
   {
    "duration": 7,
    "start_time": "2022-06-07T09:09:37.347Z"
   },
   {
    "duration": 16,
    "start_time": "2022-06-07T09:09:37.356Z"
   },
   {
    "duration": 7,
    "start_time": "2022-06-07T09:09:37.374Z"
   },
   {
    "duration": 16,
    "start_time": "2022-06-07T09:09:37.382Z"
   },
   {
    "duration": 17,
    "start_time": "2022-06-07T09:09:37.400Z"
   },
   {
    "duration": 9,
    "start_time": "2022-06-07T09:09:37.418Z"
   },
   {
    "duration": 16,
    "start_time": "2022-06-07T09:09:37.431Z"
   },
   {
    "duration": 13,
    "start_time": "2022-06-07T09:09:37.449Z"
   },
   {
    "duration": 5376,
    "start_time": "2022-06-07T09:09:37.463Z"
   },
   {
    "duration": 11,
    "start_time": "2022-06-07T09:09:42.842Z"
   },
   {
    "duration": 632,
    "start_time": "2022-06-07T09:09:42.855Z"
   },
   {
    "duration": 8,
    "start_time": "2022-06-07T09:09:43.491Z"
   },
   {
    "duration": 6355,
    "start_time": "2022-06-07T09:09:43.501Z"
   },
   {
    "duration": 3,
    "start_time": "2022-06-07T09:09:49.926Z"
   },
   {
    "duration": 24310,
    "start_time": "2022-06-07T09:09:49.932Z"
   },
   {
    "duration": 10,
    "start_time": "2022-06-07T09:10:14.244Z"
   },
   {
    "duration": 20,
    "start_time": "2022-06-07T09:10:14.256Z"
   },
   {
    "duration": 6776,
    "start_time": "2022-06-07T09:10:14.278Z"
   },
   {
    "duration": 83,
    "start_time": "2022-06-07T09:10:21.056Z"
   },
   {
    "duration": 487,
    "start_time": "2022-06-07T09:10:21.140Z"
   },
   {
    "duration": 152,
    "start_time": "2022-06-07T09:12:26.495Z"
   },
   {
    "duration": 1686,
    "start_time": "2022-06-07T09:21:02.449Z"
   },
   {
    "duration": 38,
    "start_time": "2022-06-07T09:21:04.136Z"
   },
   {
    "duration": 13,
    "start_time": "2022-06-07T09:21:04.176Z"
   },
   {
    "duration": 44,
    "start_time": "2022-06-07T09:21:04.192Z"
   },
   {
    "duration": 3,
    "start_time": "2022-06-07T09:21:04.237Z"
   },
   {
    "duration": 12,
    "start_time": "2022-06-07T09:21:04.242Z"
   },
   {
    "duration": 9,
    "start_time": "2022-06-07T09:21:04.255Z"
   },
   {
    "duration": 4,
    "start_time": "2022-06-07T09:21:04.266Z"
   },
   {
    "duration": 14,
    "start_time": "2022-06-07T09:21:04.271Z"
   },
   {
    "duration": 7,
    "start_time": "2022-06-07T09:21:04.288Z"
   },
   {
    "duration": 39,
    "start_time": "2022-06-07T09:21:04.296Z"
   },
   {
    "duration": 10,
    "start_time": "2022-06-07T09:21:04.336Z"
   },
   {
    "duration": 6,
    "start_time": "2022-06-07T09:21:04.348Z"
   },
   {
    "duration": 20,
    "start_time": "2022-06-07T09:21:04.355Z"
   },
   {
    "duration": 284,
    "start_time": "2022-06-07T09:21:04.377Z"
   },
   {
    "duration": 334,
    "start_time": "2022-06-07T09:21:04.662Z"
   },
   {
    "duration": 398,
    "start_time": "2022-06-07T09:21:04.998Z"
   },
   {
    "duration": 2711,
    "start_time": "2022-06-07T09:21:05.398Z"
   },
   {
    "duration": 485,
    "start_time": "2022-06-07T09:21:08.111Z"
   },
   {
    "duration": 3,
    "start_time": "2022-06-07T09:21:08.597Z"
   },
   {
    "duration": 39,
    "start_time": "2022-06-07T09:21:08.601Z"
   },
   {
    "duration": 24,
    "start_time": "2022-06-07T09:21:08.641Z"
   },
   {
    "duration": 14,
    "start_time": "2022-06-07T09:21:08.666Z"
   },
   {
    "duration": 5,
    "start_time": "2022-06-07T09:21:08.682Z"
   },
   {
    "duration": 7,
    "start_time": "2022-06-07T09:21:08.688Z"
   },
   {
    "duration": 11,
    "start_time": "2022-06-07T09:21:08.696Z"
   },
   {
    "duration": 8,
    "start_time": "2022-06-07T09:21:08.708Z"
   },
   {
    "duration": 10,
    "start_time": "2022-06-07T09:21:08.719Z"
   },
   {
    "duration": 7,
    "start_time": "2022-06-07T09:21:08.731Z"
   },
   {
    "duration": 4900,
    "start_time": "2022-06-07T09:21:08.740Z"
   },
   {
    "duration": 8,
    "start_time": "2022-06-07T09:21:13.642Z"
   },
   {
    "duration": 445,
    "start_time": "2022-06-07T09:21:13.651Z"
   },
   {
    "duration": 5,
    "start_time": "2022-06-07T09:21:14.098Z"
   },
   {
    "duration": 9947,
    "start_time": "2022-06-07T09:21:14.105Z"
   },
   {
    "duration": 3,
    "start_time": "2022-06-07T09:21:24.054Z"
   },
   {
    "duration": 4572,
    "start_time": "2022-06-07T09:21:24.127Z"
   },
   {
    "duration": 0,
    "start_time": "2022-06-07T09:21:28.700Z"
   },
   {
    "duration": 1,
    "start_time": "2022-06-07T09:21:28.701Z"
   },
   {
    "duration": 0,
    "start_time": "2022-06-07T09:21:28.703Z"
   },
   {
    "duration": 0,
    "start_time": "2022-06-07T09:21:28.704Z"
   },
   {
    "duration": 0,
    "start_time": "2022-06-07T09:21:28.705Z"
   },
   {
    "duration": 5181,
    "start_time": "2022-06-07T09:21:46.675Z"
   },
   {
    "duration": 5901,
    "start_time": "2022-06-07T09:22:06.847Z"
   },
   {
    "duration": 10,
    "start_time": "2022-06-07T09:22:22.374Z"
   },
   {
    "duration": 7870,
    "start_time": "2022-06-07T09:22:34.651Z"
   },
   {
    "duration": 11450,
    "start_time": "2022-06-07T09:22:59.598Z"
   },
   {
    "duration": 18108,
    "start_time": "2022-06-07T09:23:26.446Z"
   },
   {
    "duration": 6,
    "start_time": "2022-06-07T09:23:58.943Z"
   },
   {
    "duration": 5,
    "start_time": "2022-06-07T09:24:03.539Z"
   },
   {
    "duration": 10,
    "start_time": "2022-06-07T09:24:07.353Z"
   },
   {
    "duration": 6,
    "start_time": "2022-06-07T09:24:27.696Z"
   },
   {
    "duration": 4,
    "start_time": "2022-06-07T09:24:35.575Z"
   },
   {
    "duration": 21947,
    "start_time": "2022-06-07T09:24:43.605Z"
   },
   {
    "duration": 24189,
    "start_time": "2022-06-07T09:26:18.252Z"
   },
   {
    "duration": 27024,
    "start_time": "2022-06-07T09:27:03.625Z"
   },
   {
    "duration": 8,
    "start_time": "2022-06-07T09:28:05.615Z"
   },
   {
    "duration": 10,
    "start_time": "2022-06-07T09:28:15.332Z"
   },
   {
    "duration": 10,
    "start_time": "2022-06-07T09:28:38.486Z"
   },
   {
    "duration": 11,
    "start_time": "2022-06-07T09:28:51.489Z"
   },
   {
    "duration": 106596,
    "start_time": "2022-06-07T09:28:51.863Z"
   },
   {
    "duration": 75,
    "start_time": "2022-06-07T09:30:38.461Z"
   },
   {
    "duration": 11,
    "start_time": "2022-06-07T09:30:38.538Z"
   },
   {
    "duration": 25,
    "start_time": "2022-06-07T09:31:43.070Z"
   },
   {
    "duration": 15,
    "start_time": "2022-06-07T09:32:08.143Z"
   },
   {
    "duration": 10,
    "start_time": "2022-06-07T09:35:00.708Z"
   },
   {
    "duration": 4,
    "start_time": "2022-06-07T09:35:10.714Z"
   },
   {
    "duration": 10,
    "start_time": "2022-06-07T09:35:19.344Z"
   },
   {
    "duration": 9,
    "start_time": "2022-06-07T09:35:20.362Z"
   },
   {
    "duration": 15,
    "start_time": "2022-06-07T09:35:35.808Z"
   },
   {
    "duration": 13,
    "start_time": "2022-06-07T09:36:10.903Z"
   },
   {
    "duration": 10,
    "start_time": "2022-06-07T09:36:22.379Z"
   },
   {
    "duration": 16,
    "start_time": "2022-06-07T09:36:24.470Z"
   },
   {
    "duration": 2088,
    "start_time": "2022-06-07T09:39:11.436Z"
   },
   {
    "duration": 40,
    "start_time": "2022-06-07T09:39:13.526Z"
   },
   {
    "duration": 13,
    "start_time": "2022-06-07T09:39:13.567Z"
   },
   {
    "duration": 47,
    "start_time": "2022-06-07T09:39:13.582Z"
   },
   {
    "duration": 8,
    "start_time": "2022-06-07T09:39:13.631Z"
   },
   {
    "duration": 31,
    "start_time": "2022-06-07T09:39:13.641Z"
   },
   {
    "duration": 54,
    "start_time": "2022-06-07T09:39:13.674Z"
   },
   {
    "duration": 31,
    "start_time": "2022-06-07T09:39:13.730Z"
   },
   {
    "duration": 44,
    "start_time": "2022-06-07T09:39:13.762Z"
   },
   {
    "duration": 33,
    "start_time": "2022-06-07T09:39:13.807Z"
   },
   {
    "duration": 67,
    "start_time": "2022-06-07T09:39:13.842Z"
   },
   {
    "duration": 48,
    "start_time": "2022-06-07T09:39:13.911Z"
   },
   {
    "duration": 15,
    "start_time": "2022-06-07T09:39:13.961Z"
   },
   {
    "duration": 22,
    "start_time": "2022-06-07T09:39:13.979Z"
   },
   {
    "duration": 322,
    "start_time": "2022-06-07T09:39:14.002Z"
   },
   {
    "duration": 402,
    "start_time": "2022-06-07T09:39:14.325Z"
   },
   {
    "duration": 438,
    "start_time": "2022-06-07T09:39:14.729Z"
   },
   {
    "duration": 2912,
    "start_time": "2022-06-07T09:39:15.169Z"
   },
   {
    "duration": 509,
    "start_time": "2022-06-07T09:39:18.082Z"
   },
   {
    "duration": 3,
    "start_time": "2022-06-07T09:39:18.593Z"
   },
   {
    "duration": 40,
    "start_time": "2022-06-07T09:39:18.597Z"
   },
   {
    "duration": 26,
    "start_time": "2022-06-07T09:39:18.638Z"
   },
   {
    "duration": 26,
    "start_time": "2022-06-07T09:39:18.665Z"
   },
   {
    "duration": 20,
    "start_time": "2022-06-07T09:39:18.693Z"
   },
   {
    "duration": 9,
    "start_time": "2022-06-07T09:39:18.715Z"
   },
   {
    "duration": 7,
    "start_time": "2022-06-07T09:39:18.726Z"
   },
   {
    "duration": 5,
    "start_time": "2022-06-07T09:39:18.734Z"
   },
   {
    "duration": 6,
    "start_time": "2022-06-07T09:39:18.741Z"
   },
   {
    "duration": 8,
    "start_time": "2022-06-07T09:39:18.749Z"
   },
   {
    "duration": 6084,
    "start_time": "2022-06-07T09:39:18.758Z"
   },
   {
    "duration": 11,
    "start_time": "2022-06-07T09:39:24.844Z"
   },
   {
    "duration": 547,
    "start_time": "2022-06-07T09:39:24.857Z"
   },
   {
    "duration": 5,
    "start_time": "2022-06-07T09:39:25.406Z"
   },
   {
    "duration": 6330,
    "start_time": "2022-06-07T09:39:25.412Z"
   },
   {
    "duration": 3,
    "start_time": "2022-06-07T09:39:31.744Z"
   },
   {
    "duration": 79049,
    "start_time": "2022-06-07T09:39:31.749Z"
   },
   {
    "duration": 0,
    "start_time": "2022-06-07T09:40:50.800Z"
   },
   {
    "duration": 0,
    "start_time": "2022-06-07T09:40:50.802Z"
   },
   {
    "duration": 0,
    "start_time": "2022-06-07T09:40:50.803Z"
   },
   {
    "duration": 0,
    "start_time": "2022-06-07T09:40:50.805Z"
   },
   {
    "duration": 0,
    "start_time": "2022-06-07T09:40:50.806Z"
   },
   {
    "duration": 112703,
    "start_time": "2022-06-07T09:40:53.640Z"
   },
   {
    "duration": 8,
    "start_time": "2022-06-07T09:42:46.345Z"
   },
   {
    "duration": 17,
    "start_time": "2022-06-07T09:42:46.355Z"
   },
   {
    "duration": 11,
    "start_time": "2022-06-07T09:42:46.374Z"
   },
   {
    "duration": 14,
    "start_time": "2022-06-07T09:42:46.427Z"
   },
   {
    "duration": 434,
    "start_time": "2022-06-07T09:42:46.443Z"
   },
   {
    "duration": 1721,
    "start_time": "2022-06-07T09:46:15.858Z"
   },
   {
    "duration": 41,
    "start_time": "2022-06-07T09:46:17.581Z"
   },
   {
    "duration": 24,
    "start_time": "2022-06-07T09:46:17.624Z"
   },
   {
    "duration": 53,
    "start_time": "2022-06-07T09:46:17.650Z"
   },
   {
    "duration": 4,
    "start_time": "2022-06-07T09:46:17.705Z"
   },
   {
    "duration": 47,
    "start_time": "2022-06-07T09:46:17.711Z"
   },
   {
    "duration": 30,
    "start_time": "2022-06-07T09:46:17.760Z"
   },
   {
    "duration": 25,
    "start_time": "2022-06-07T09:46:17.791Z"
   },
   {
    "duration": 42,
    "start_time": "2022-06-07T09:46:17.817Z"
   },
   {
    "duration": 32,
    "start_time": "2022-06-07T09:46:17.863Z"
   },
   {
    "duration": 30,
    "start_time": "2022-06-07T09:46:17.897Z"
   },
   {
    "duration": 22,
    "start_time": "2022-06-07T09:46:17.929Z"
   },
   {
    "duration": 41,
    "start_time": "2022-06-07T09:46:17.952Z"
   },
   {
    "duration": 34,
    "start_time": "2022-06-07T09:46:17.995Z"
   },
   {
    "duration": 289,
    "start_time": "2022-06-07T09:46:18.031Z"
   },
   {
    "duration": 360,
    "start_time": "2022-06-07T09:46:18.321Z"
   },
   {
    "duration": 420,
    "start_time": "2022-06-07T09:46:18.683Z"
   },
   {
    "duration": 3118,
    "start_time": "2022-06-07T09:46:19.104Z"
   },
   {
    "duration": 538,
    "start_time": "2022-06-07T09:46:22.224Z"
   },
   {
    "duration": 3,
    "start_time": "2022-06-07T09:46:22.764Z"
   },
   {
    "duration": 40,
    "start_time": "2022-06-07T09:46:22.768Z"
   },
   {
    "duration": 16,
    "start_time": "2022-06-07T09:46:22.810Z"
   },
   {
    "duration": 9,
    "start_time": "2022-06-07T09:46:22.828Z"
   },
   {
    "duration": 15,
    "start_time": "2022-06-07T09:46:22.839Z"
   },
   {
    "duration": 9,
    "start_time": "2022-06-07T09:46:22.857Z"
   },
   {
    "duration": 8,
    "start_time": "2022-06-07T09:46:22.868Z"
   },
   {
    "duration": 21,
    "start_time": "2022-06-07T09:46:22.878Z"
   },
   {
    "duration": 16,
    "start_time": "2022-06-07T09:46:22.903Z"
   },
   {
    "duration": 14,
    "start_time": "2022-06-07T09:46:22.921Z"
   },
   {
    "duration": 7311,
    "start_time": "2022-06-07T09:46:22.937Z"
   },
   {
    "duration": 8,
    "start_time": "2022-06-07T09:46:30.250Z"
   },
   {
    "duration": 491,
    "start_time": "2022-06-07T09:46:30.260Z"
   },
   {
    "duration": 5,
    "start_time": "2022-06-07T09:46:30.753Z"
   },
   {
    "duration": 7987,
    "start_time": "2022-06-07T09:46:30.760Z"
   },
   {
    "duration": 4,
    "start_time": "2022-06-07T09:46:38.748Z"
   },
   {
    "duration": 1700,
    "start_time": "2022-06-07T09:47:04.806Z"
   },
   {
    "duration": 39,
    "start_time": "2022-06-07T09:47:06.508Z"
   },
   {
    "duration": 11,
    "start_time": "2022-06-07T09:47:06.548Z"
   },
   {
    "duration": 28,
    "start_time": "2022-06-07T09:47:06.561Z"
   },
   {
    "duration": 3,
    "start_time": "2022-06-07T09:47:06.590Z"
   },
   {
    "duration": 17,
    "start_time": "2022-06-07T09:47:06.594Z"
   },
   {
    "duration": 7,
    "start_time": "2022-06-07T09:47:06.612Z"
   },
   {
    "duration": 16,
    "start_time": "2022-06-07T09:47:06.621Z"
   },
   {
    "duration": 15,
    "start_time": "2022-06-07T09:47:06.638Z"
   },
   {
    "duration": 8,
    "start_time": "2022-06-07T09:47:06.655Z"
   },
   {
    "duration": 23,
    "start_time": "2022-06-07T09:47:06.664Z"
   },
   {
    "duration": 8,
    "start_time": "2022-06-07T09:47:06.689Z"
   },
   {
    "duration": 10,
    "start_time": "2022-06-07T09:47:06.698Z"
   },
   {
    "duration": 21,
    "start_time": "2022-06-07T09:47:06.710Z"
   },
   {
    "duration": 282,
    "start_time": "2022-06-07T09:47:06.733Z"
   },
   {
    "duration": 343,
    "start_time": "2022-06-07T09:47:07.016Z"
   },
   {
    "duration": 369,
    "start_time": "2022-06-07T09:47:07.360Z"
   },
   {
    "duration": 2646,
    "start_time": "2022-06-07T09:47:07.731Z"
   },
   {
    "duration": 499,
    "start_time": "2022-06-07T09:47:10.379Z"
   },
   {
    "duration": 2,
    "start_time": "2022-06-07T09:47:10.880Z"
   },
   {
    "duration": 27,
    "start_time": "2022-06-07T09:47:10.884Z"
   },
   {
    "duration": 14,
    "start_time": "2022-06-07T09:47:10.913Z"
   },
   {
    "duration": 7,
    "start_time": "2022-06-07T09:47:10.928Z"
   },
   {
    "duration": 2,
    "start_time": "2022-06-07T09:47:10.937Z"
   },
   {
    "duration": 6,
    "start_time": "2022-06-07T09:47:10.941Z"
   },
   {
    "duration": 14,
    "start_time": "2022-06-07T09:47:10.948Z"
   },
   {
    "duration": 6,
    "start_time": "2022-06-07T09:47:10.964Z"
   },
   {
    "duration": 7,
    "start_time": "2022-06-07T09:47:10.973Z"
   },
   {
    "duration": 7,
    "start_time": "2022-06-07T09:47:10.981Z"
   },
   {
    "duration": 6644,
    "start_time": "2022-06-07T09:47:10.989Z"
   },
   {
    "duration": 8,
    "start_time": "2022-06-07T09:47:17.635Z"
   },
   {
    "duration": 420,
    "start_time": "2022-06-07T09:47:17.644Z"
   },
   {
    "duration": 5,
    "start_time": "2022-06-07T09:47:18.065Z"
   },
   {
    "duration": 6958,
    "start_time": "2022-06-07T09:47:18.072Z"
   },
   {
    "duration": 2,
    "start_time": "2022-06-07T09:47:25.032Z"
   },
   {
    "duration": 100918,
    "start_time": "2022-06-07T09:47:25.036Z"
   },
   {
    "duration": 76,
    "start_time": "2022-06-07T09:49:05.956Z"
   },
   {
    "duration": 18,
    "start_time": "2022-06-07T09:49:06.033Z"
   },
   {
    "duration": 20,
    "start_time": "2022-06-07T09:49:06.053Z"
   },
   {
    "duration": 16,
    "start_time": "2022-06-07T09:49:06.075Z"
   },
   {
    "duration": 401,
    "start_time": "2022-06-07T09:49:06.092Z"
   },
   {
    "duration": 2092,
    "start_time": "2022-06-09T15:36:03.830Z"
   },
   {
    "duration": 93,
    "start_time": "2022-06-09T15:36:05.924Z"
   },
   {
    "duration": 10,
    "start_time": "2022-06-09T15:36:06.019Z"
   },
   {
    "duration": 31,
    "start_time": "2022-06-09T15:36:06.031Z"
   },
   {
    "duration": 3,
    "start_time": "2022-06-09T15:36:06.064Z"
   },
   {
    "duration": 17,
    "start_time": "2022-06-09T15:36:06.068Z"
   },
   {
    "duration": 10,
    "start_time": "2022-06-09T15:36:06.086Z"
   },
   {
    "duration": 9,
    "start_time": "2022-06-09T15:36:06.098Z"
   },
   {
    "duration": 17,
    "start_time": "2022-06-09T15:36:06.109Z"
   },
   {
    "duration": 26,
    "start_time": "2022-06-09T15:36:06.128Z"
   },
   {
    "duration": 41,
    "start_time": "2022-06-09T15:36:06.156Z"
   },
   {
    "duration": 10,
    "start_time": "2022-06-09T15:36:06.199Z"
   },
   {
    "duration": 19,
    "start_time": "2022-06-09T15:36:06.210Z"
   },
   {
    "duration": 17,
    "start_time": "2022-06-09T15:36:06.231Z"
   },
   {
    "duration": 272,
    "start_time": "2022-06-09T15:36:06.249Z"
   },
   {
    "duration": 246,
    "start_time": "2022-06-09T15:36:06.523Z"
   },
   {
    "duration": 364,
    "start_time": "2022-06-09T15:36:06.770Z"
   },
   {
    "duration": 2740,
    "start_time": "2022-06-09T15:36:07.136Z"
   },
   {
    "duration": 349,
    "start_time": "2022-06-09T15:36:09.877Z"
   },
   {
    "duration": 2,
    "start_time": "2022-06-09T15:36:10.228Z"
   },
   {
    "duration": 35,
    "start_time": "2022-06-09T15:36:10.232Z"
   },
   {
    "duration": 4,
    "start_time": "2022-06-09T15:36:10.269Z"
   },
   {
    "duration": 13,
    "start_time": "2022-06-09T15:36:10.275Z"
   },
   {
    "duration": 7,
    "start_time": "2022-06-09T15:36:10.289Z"
   },
   {
    "duration": 8,
    "start_time": "2022-06-09T15:36:10.297Z"
   },
   {
    "duration": 17,
    "start_time": "2022-06-09T15:36:10.307Z"
   },
   {
    "duration": 8,
    "start_time": "2022-06-09T15:36:10.326Z"
   },
   {
    "duration": 8,
    "start_time": "2022-06-09T15:36:10.337Z"
   },
   {
    "duration": 7,
    "start_time": "2022-06-09T15:36:10.346Z"
   },
   {
    "duration": 3312,
    "start_time": "2022-06-09T15:36:10.354Z"
   },
   {
    "duration": 10,
    "start_time": "2022-06-09T15:36:13.668Z"
   },
   {
    "duration": 443,
    "start_time": "2022-06-09T15:36:13.679Z"
   },
   {
    "duration": 5,
    "start_time": "2022-06-09T15:36:14.123Z"
   },
   {
    "duration": 8630,
    "start_time": "2022-06-09T15:36:14.130Z"
   },
   {
    "duration": 3,
    "start_time": "2022-06-09T15:36:22.762Z"
   },
   {
    "duration": 90318,
    "start_time": "2022-06-09T15:36:22.767Z"
   },
   {
    "duration": 9,
    "start_time": "2022-06-09T15:37:53.088Z"
   },
   {
    "duration": 10,
    "start_time": "2022-06-09T15:37:53.159Z"
   },
   {
    "duration": 11,
    "start_time": "2022-06-09T15:37:53.171Z"
   },
   {
    "duration": 14,
    "start_time": "2022-06-09T15:37:53.184Z"
   },
   {
    "duration": 565,
    "start_time": "2022-06-09T15:37:53.199Z"
   },
   {
    "duration": 4,
    "start_time": "2022-06-09T15:43:15.016Z"
   },
   {
    "duration": 10173,
    "start_time": "2022-06-09T15:43:16.892Z"
   },
   {
    "duration": 136,
    "start_time": "2022-06-09T15:44:05.791Z"
   },
   {
    "duration": 5,
    "start_time": "2022-06-09T15:44:19.331Z"
   },
   {
    "duration": 5,
    "start_time": "2022-06-09T15:44:23.344Z"
   },
   {
    "duration": 10679,
    "start_time": "2022-06-09T15:44:38.189Z"
   },
   {
    "duration": 10192,
    "start_time": "2022-06-09T15:45:21.876Z"
   },
   {
    "duration": 4,
    "start_time": "2022-06-09T15:45:32.311Z"
   },
   {
    "duration": 10466,
    "start_time": "2022-06-09T15:45:42.917Z"
   },
   {
    "duration": 64788,
    "start_time": "2022-06-09T15:52:15.684Z"
   },
   {
    "duration": 31,
    "start_time": "2022-06-09T15:54:32.683Z"
   },
   {
    "duration": 63933,
    "start_time": "2022-06-09T15:54:45.046Z"
   },
   {
    "duration": 63778,
    "start_time": "2022-06-09T15:57:30.581Z"
   },
   {
    "duration": 64615,
    "start_time": "2022-06-09T15:59:13.258Z"
   },
   {
    "duration": 64955,
    "start_time": "2022-06-09T16:00:43.024Z"
   },
   {
    "duration": 22276,
    "start_time": "2022-06-09T16:02:25.605Z"
   },
   {
    "duration": 21146,
    "start_time": "2022-06-09T16:03:27.335Z"
   },
   {
    "duration": 42784,
    "start_time": "2022-06-09T16:03:55.190Z"
   },
   {
    "duration": 42138,
    "start_time": "2022-06-09T16:06:13.044Z"
   },
   {
    "duration": 1046,
    "start_time": "2022-06-09T17:22:34.637Z"
   },
   {
    "duration": 1761,
    "start_time": "2022-06-09T20:29:59.527Z"
   },
   {
    "duration": 88,
    "start_time": "2022-06-09T20:30:01.289Z"
   },
   {
    "duration": 11,
    "start_time": "2022-06-09T20:30:01.378Z"
   },
   {
    "duration": 27,
    "start_time": "2022-06-09T20:30:01.391Z"
   },
   {
    "duration": 3,
    "start_time": "2022-06-09T20:30:01.420Z"
   },
   {
    "duration": 16,
    "start_time": "2022-06-09T20:30:01.424Z"
   },
   {
    "duration": 8,
    "start_time": "2022-06-09T20:30:01.441Z"
   },
   {
    "duration": 5,
    "start_time": "2022-06-09T20:30:01.450Z"
   },
   {
    "duration": 6,
    "start_time": "2022-06-09T20:30:01.456Z"
   },
   {
    "duration": 10,
    "start_time": "2022-06-09T20:30:01.464Z"
   },
   {
    "duration": 31,
    "start_time": "2022-06-09T20:30:01.475Z"
   },
   {
    "duration": 9,
    "start_time": "2022-06-09T20:30:01.507Z"
   },
   {
    "duration": 22,
    "start_time": "2022-06-09T20:30:01.517Z"
   },
   {
    "duration": 27,
    "start_time": "2022-06-09T20:30:01.540Z"
   },
   {
    "duration": 261,
    "start_time": "2022-06-09T20:30:01.568Z"
   },
   {
    "duration": 258,
    "start_time": "2022-06-09T20:30:01.831Z"
   },
   {
    "duration": 363,
    "start_time": "2022-06-09T20:30:02.091Z"
   },
   {
    "duration": 2516,
    "start_time": "2022-06-09T20:30:02.456Z"
   },
   {
    "duration": 354,
    "start_time": "2022-06-09T20:30:04.974Z"
   },
   {
    "duration": 2,
    "start_time": "2022-06-09T20:30:05.330Z"
   },
   {
    "duration": 25,
    "start_time": "2022-06-09T20:30:05.333Z"
   },
   {
    "duration": 3,
    "start_time": "2022-06-09T20:30:05.360Z"
   },
   {
    "duration": 17,
    "start_time": "2022-06-09T20:30:05.364Z"
   },
   {
    "duration": 2,
    "start_time": "2022-06-09T20:30:05.383Z"
   },
   {
    "duration": 4,
    "start_time": "2022-06-09T20:30:05.394Z"
   },
   {
    "duration": 15,
    "start_time": "2022-06-09T20:30:05.400Z"
   },
   {
    "duration": 5,
    "start_time": "2022-06-09T20:30:05.416Z"
   },
   {
    "duration": 5,
    "start_time": "2022-06-09T20:30:05.424Z"
   },
   {
    "duration": 7,
    "start_time": "2022-06-09T20:30:05.430Z"
   },
   {
    "duration": 2776,
    "start_time": "2022-06-09T20:30:05.439Z"
   },
   {
    "duration": 9,
    "start_time": "2022-06-09T20:30:08.216Z"
   },
   {
    "duration": 499,
    "start_time": "2022-06-09T20:30:08.226Z"
   },
   {
    "duration": 6,
    "start_time": "2022-06-09T20:30:08.727Z"
   },
   {
    "duration": 8,
    "start_time": "2022-06-09T20:30:08.735Z"
   },
   {
    "duration": 5266,
    "start_time": "2022-06-09T20:30:08.745Z"
   },
   {
    "duration": 192,
    "start_time": "2022-06-09T20:30:14.013Z"
   },
   {
    "duration": 0,
    "start_time": "2022-06-09T20:30:14.206Z"
   },
   {
    "duration": 0,
    "start_time": "2022-06-09T20:30:14.207Z"
   },
   {
    "duration": 0,
    "start_time": "2022-06-09T20:30:14.208Z"
   },
   {
    "duration": 0,
    "start_time": "2022-06-09T20:30:14.209Z"
   },
   {
    "duration": 0,
    "start_time": "2022-06-09T20:30:14.210Z"
   },
   {
    "duration": 0,
    "start_time": "2022-06-09T20:30:14.211Z"
   },
   {
    "duration": 0,
    "start_time": "2022-06-09T20:30:14.212Z"
   },
   {
    "duration": 24,
    "start_time": "2022-06-09T20:30:41.554Z"
   },
   {
    "duration": 39826,
    "start_time": "2022-06-09T20:30:57.369Z"
   },
   {
    "duration": 40773,
    "start_time": "2022-06-09T20:34:10.422Z"
   },
   {
    "duration": 51996,
    "start_time": "2022-06-09T20:35:30.540Z"
   },
   {
    "duration": 38754,
    "start_time": "2022-06-09T20:36:35.371Z"
   },
   {
    "duration": 13399,
    "start_time": "2022-06-09T20:38:00.318Z"
   },
   {
    "duration": 10797,
    "start_time": "2022-06-09T20:41:31.513Z"
   },
   {
    "duration": 1569,
    "start_time": "2022-06-09T20:42:30.925Z"
   },
   {
    "duration": 35,
    "start_time": "2022-06-09T20:42:32.496Z"
   },
   {
    "duration": 11,
    "start_time": "2022-06-09T20:42:32.532Z"
   },
   {
    "duration": 26,
    "start_time": "2022-06-09T20:42:32.544Z"
   },
   {
    "duration": 2,
    "start_time": "2022-06-09T20:42:32.572Z"
   },
   {
    "duration": 6,
    "start_time": "2022-06-09T20:42:32.576Z"
   },
   {
    "duration": 6,
    "start_time": "2022-06-09T20:42:32.584Z"
   },
   {
    "duration": 3,
    "start_time": "2022-06-09T20:42:32.593Z"
   },
   {
    "duration": 6,
    "start_time": "2022-06-09T20:42:32.597Z"
   },
   {
    "duration": 8,
    "start_time": "2022-06-09T20:42:32.604Z"
   },
   {
    "duration": 20,
    "start_time": "2022-06-09T20:42:32.613Z"
   },
   {
    "duration": 7,
    "start_time": "2022-06-09T20:42:32.634Z"
   },
   {
    "duration": 6,
    "start_time": "2022-06-09T20:42:32.642Z"
   },
   {
    "duration": 12,
    "start_time": "2022-06-09T20:42:32.650Z"
   },
   {
    "duration": 272,
    "start_time": "2022-06-09T20:42:32.664Z"
   },
   {
    "duration": 227,
    "start_time": "2022-06-09T20:42:32.938Z"
   },
   {
    "duration": 340,
    "start_time": "2022-06-09T20:42:33.166Z"
   },
   {
    "duration": 2541,
    "start_time": "2022-06-09T20:42:33.507Z"
   },
   {
    "duration": 358,
    "start_time": "2022-06-09T20:42:36.050Z"
   },
   {
    "duration": 2,
    "start_time": "2022-06-09T20:42:36.410Z"
   },
   {
    "duration": 26,
    "start_time": "2022-06-09T20:42:36.414Z"
   },
   {
    "duration": 5,
    "start_time": "2022-06-09T20:42:36.441Z"
   },
   {
    "duration": 7,
    "start_time": "2022-06-09T20:42:36.447Z"
   },
   {
    "duration": 3,
    "start_time": "2022-06-09T20:42:36.455Z"
   },
   {
    "duration": 4,
    "start_time": "2022-06-09T20:42:36.460Z"
   },
   {
    "duration": 3,
    "start_time": "2022-06-09T20:42:36.495Z"
   },
   {
    "duration": 7,
    "start_time": "2022-06-09T20:42:36.499Z"
   },
   {
    "duration": 7,
    "start_time": "2022-06-09T20:42:36.507Z"
   },
   {
    "duration": 7,
    "start_time": "2022-06-09T20:42:36.515Z"
   },
   {
    "duration": 5098,
    "start_time": "2022-06-09T20:42:36.523Z"
   },
   {
    "duration": 8,
    "start_time": "2022-06-09T20:42:41.693Z"
   },
   {
    "duration": 398,
    "start_time": "2022-06-09T20:42:41.703Z"
   },
   {
    "duration": 4,
    "start_time": "2022-06-09T20:42:42.102Z"
   },
   {
    "duration": 5,
    "start_time": "2022-06-09T20:42:42.108Z"
   },
   {
    "duration": 6098,
    "start_time": "2022-06-09T20:42:42.115Z"
   },
   {
    "duration": 3073,
    "start_time": "2022-06-09T20:42:48.214Z"
   },
   {
    "duration": 0,
    "start_time": "2022-06-09T20:42:51.294Z"
   },
   {
    "duration": 0,
    "start_time": "2022-06-09T20:42:51.295Z"
   },
   {
    "duration": 0,
    "start_time": "2022-06-09T20:42:51.296Z"
   },
   {
    "duration": 0,
    "start_time": "2022-06-09T20:42:51.297Z"
   },
   {
    "duration": 0,
    "start_time": "2022-06-09T20:42:51.298Z"
   },
   {
    "duration": 0,
    "start_time": "2022-06-09T20:42:51.298Z"
   },
   {
    "duration": 0,
    "start_time": "2022-06-09T20:42:51.299Z"
   },
   {
    "duration": 2446,
    "start_time": "2022-06-11T09:24:22.099Z"
   },
   {
    "duration": 71,
    "start_time": "2022-06-11T09:24:24.547Z"
   },
   {
    "duration": 11,
    "start_time": "2022-06-11T09:24:24.619Z"
   },
   {
    "duration": 24,
    "start_time": "2022-06-11T09:24:24.631Z"
   },
   {
    "duration": 2,
    "start_time": "2022-06-11T09:24:24.657Z"
   },
   {
    "duration": 9,
    "start_time": "2022-06-11T09:24:24.660Z"
   },
   {
    "duration": 6,
    "start_time": "2022-06-11T09:24:24.670Z"
   },
   {
    "duration": 2,
    "start_time": "2022-06-11T09:24:24.677Z"
   },
   {
    "duration": 6,
    "start_time": "2022-06-11T09:24:24.680Z"
   },
   {
    "duration": 8,
    "start_time": "2022-06-11T09:24:24.688Z"
   },
   {
    "duration": 37,
    "start_time": "2022-06-11T09:24:24.697Z"
   },
   {
    "duration": 4,
    "start_time": "2022-06-11T09:24:24.735Z"
   },
   {
    "duration": 8,
    "start_time": "2022-06-11T09:24:24.740Z"
   },
   {
    "duration": 18,
    "start_time": "2022-06-11T09:24:24.749Z"
   },
   {
    "duration": 280,
    "start_time": "2022-06-11T09:24:24.769Z"
   },
   {
    "duration": 240,
    "start_time": "2022-06-11T09:24:25.051Z"
   },
   {
    "duration": 361,
    "start_time": "2022-06-11T09:24:25.292Z"
   },
   {
    "duration": 2617,
    "start_time": "2022-06-11T09:24:25.654Z"
   },
   {
    "duration": 335,
    "start_time": "2022-06-11T09:24:28.272Z"
   },
   {
    "duration": 2,
    "start_time": "2022-06-11T09:24:28.609Z"
   },
   {
    "duration": 34,
    "start_time": "2022-06-11T09:24:28.613Z"
   },
   {
    "duration": 5,
    "start_time": "2022-06-11T09:24:28.648Z"
   },
   {
    "duration": 17,
    "start_time": "2022-06-11T09:24:28.654Z"
   },
   {
    "duration": 3,
    "start_time": "2022-06-11T09:24:28.672Z"
   },
   {
    "duration": 5,
    "start_time": "2022-06-11T09:24:28.676Z"
   },
   {
    "duration": 11,
    "start_time": "2022-06-11T09:24:28.682Z"
   },
   {
    "duration": 4,
    "start_time": "2022-06-11T09:24:28.695Z"
   },
   {
    "duration": 24,
    "start_time": "2022-06-11T09:24:28.701Z"
   },
   {
    "duration": 7,
    "start_time": "2022-06-11T09:24:28.727Z"
   },
   {
    "duration": 3812,
    "start_time": "2022-06-11T09:24:28.735Z"
   },
   {
    "duration": 7,
    "start_time": "2022-06-11T09:24:32.549Z"
   },
   {
    "duration": 462,
    "start_time": "2022-06-11T09:24:32.558Z"
   },
   {
    "duration": 5,
    "start_time": "2022-06-11T09:24:33.021Z"
   },
   {
    "duration": 8,
    "start_time": "2022-06-11T09:24:33.027Z"
   },
   {
    "duration": 5912,
    "start_time": "2022-06-11T09:24:33.036Z"
   },
   {
    "duration": 2826,
    "start_time": "2022-06-11T09:24:38.950Z"
   },
   {
    "duration": 0,
    "start_time": "2022-06-11T09:24:41.778Z"
   },
   {
    "duration": 0,
    "start_time": "2022-06-11T09:24:41.779Z"
   },
   {
    "duration": 0,
    "start_time": "2022-06-11T09:24:41.780Z"
   },
   {
    "duration": 0,
    "start_time": "2022-06-11T09:24:41.781Z"
   },
   {
    "duration": 0,
    "start_time": "2022-06-11T09:24:41.782Z"
   },
   {
    "duration": 0,
    "start_time": "2022-06-11T09:24:41.783Z"
   },
   {
    "duration": 0,
    "start_time": "2022-06-11T09:24:41.784Z"
   },
   {
    "duration": 36,
    "start_time": "2022-06-11T09:28:19.067Z"
   },
   {
    "duration": 10,
    "start_time": "2022-06-11T09:28:24.310Z"
   },
   {
    "duration": 36,
    "start_time": "2022-06-11T09:28:55.714Z"
   },
   {
    "duration": 36,
    "start_time": "2022-06-11T09:29:03.863Z"
   },
   {
    "duration": 40,
    "start_time": "2022-06-11T09:29:15.245Z"
   },
   {
    "duration": 74,
    "start_time": "2022-06-11T09:29:34.656Z"
   },
   {
    "duration": 73,
    "start_time": "2022-06-11T09:30:18.788Z"
   },
   {
    "duration": 19,
    "start_time": "2022-06-11T09:30:43.957Z"
   },
   {
    "duration": 14,
    "start_time": "2022-06-11T09:30:58.346Z"
   },
   {
    "duration": 37,
    "start_time": "2022-06-11T09:32:12.150Z"
   },
   {
    "duration": 31,
    "start_time": "2022-06-11T09:32:42.156Z"
   },
   {
    "duration": 28,
    "start_time": "2022-06-11T09:34:07.885Z"
   },
   {
    "duration": 26,
    "start_time": "2022-06-11T09:34:47.803Z"
   },
   {
    "duration": 17748,
    "start_time": "2022-06-11T09:37:57.797Z"
   },
   {
    "duration": 5,
    "start_time": "2022-06-11T09:38:57.751Z"
   },
   {
    "duration": 0,
    "start_time": "2022-06-11T09:39:41.237Z"
   },
   {
    "duration": 29,
    "start_time": "2022-06-11T09:39:44.960Z"
   },
   {
    "duration": 6420,
    "start_time": "2022-06-11T09:39:48.215Z"
   },
   {
    "duration": 45,
    "start_time": "2022-06-11T09:40:49.593Z"
   },
   {
    "duration": 7914,
    "start_time": "2022-06-11T09:41:07.819Z"
   },
   {
    "duration": 20571,
    "start_time": "2022-06-11T09:42:12.465Z"
   },
   {
    "duration": 3059,
    "start_time": "2022-06-11T09:42:38.380Z"
   },
   {
    "duration": 24066,
    "start_time": "2022-06-11T09:43:53.677Z"
   },
   {
    "duration": 9951,
    "start_time": "2022-06-11T09:44:38.786Z"
   },
   {
    "duration": 7278,
    "start_time": "2022-06-11T09:45:39.157Z"
   },
   {
    "duration": 29584,
    "start_time": "2022-06-11T09:47:29.952Z"
   },
   {
    "duration": 11290,
    "start_time": "2022-06-11T09:49:07.255Z"
   },
   {
    "duration": 11058,
    "start_time": "2022-06-11T09:50:09.006Z"
   },
   {
    "duration": 11708,
    "start_time": "2022-06-11T09:50:30.332Z"
   },
   {
    "duration": 63,
    "start_time": "2022-06-11T10:17:36.514Z"
   },
   {
    "duration": 44869,
    "start_time": "2022-06-11T10:17:43.379Z"
   },
   {
    "duration": 32642,
    "start_time": "2022-06-11T10:18:32.693Z"
   },
   {
    "duration": 33284,
    "start_time": "2022-06-11T10:19:09.554Z"
   },
   {
    "duration": 29635,
    "start_time": "2022-06-11T10:20:45.430Z"
   },
   {
    "duration": 32734,
    "start_time": "2022-06-11T10:21:16.405Z"
   },
   {
    "duration": 44089,
    "start_time": "2022-06-11T10:23:27.549Z"
   },
   {
    "duration": 6764,
    "start_time": "2022-06-11T10:24:26.178Z"
   },
   {
    "duration": 11931,
    "start_time": "2022-06-11T10:25:22.309Z"
   },
   {
    "duration": 7165,
    "start_time": "2022-06-11T10:25:51.179Z"
   },
   {
    "duration": 6790,
    "start_time": "2022-06-11T10:26:26.650Z"
   },
   {
    "duration": 37,
    "start_time": "2022-06-11T10:27:35.189Z"
   },
   {
    "duration": 27,
    "start_time": "2022-06-11T10:27:43.479Z"
   },
   {
    "duration": 10224,
    "start_time": "2022-06-11T10:27:52.806Z"
   },
   {
    "duration": 3600,
    "start_time": "2022-06-11T10:29:03.338Z"
   },
   {
    "duration": 24390,
    "start_time": "2022-06-11T10:29:42.059Z"
   },
   {
    "duration": 403,
    "start_time": "2022-06-11T10:31:21.237Z"
   },
   {
    "duration": 42,
    "start_time": "2022-06-11T10:33:07.445Z"
   },
   {
    "duration": 7983,
    "start_time": "2022-06-11T10:33:12.357Z"
   },
   {
    "duration": 39065,
    "start_time": "2022-06-11T10:34:26.887Z"
   },
   {
    "duration": 43434,
    "start_time": "2022-06-11T10:35:10.602Z"
   },
   {
    "duration": 5199,
    "start_time": "2022-06-11T10:36:12.942Z"
   },
   {
    "duration": 42936,
    "start_time": "2022-06-11T10:47:53.604Z"
   },
   {
    "duration": 6499,
    "start_time": "2022-06-11T10:50:17.840Z"
   },
   {
    "duration": 21219,
    "start_time": "2022-06-11T10:51:34.218Z"
   },
   {
    "duration": 13697,
    "start_time": "2022-06-11T10:52:26.845Z"
   },
   {
    "duration": 42147,
    "start_time": "2022-06-11T10:53:00.489Z"
   },
   {
    "duration": 5,
    "start_time": "2022-06-11T10:55:24.633Z"
   },
   {
    "duration": 38887,
    "start_time": "2022-06-11T10:55:33.542Z"
   },
   {
    "duration": 9581,
    "start_time": "2022-06-11T10:56:34.954Z"
   },
   {
    "duration": 11552,
    "start_time": "2022-06-11T10:59:57.179Z"
   },
   {
    "duration": 36560,
    "start_time": "2022-06-11T11:01:59.480Z"
   },
   {
    "duration": 29238,
    "start_time": "2022-06-11T11:02:50.022Z"
   },
   {
    "duration": 12704,
    "start_time": "2022-06-11T11:04:30.321Z"
   },
   {
    "duration": 0,
    "start_time": "2022-06-11T11:05:34.441Z"
   },
   {
    "duration": 0,
    "start_time": "2022-06-11T11:06:31.447Z"
   },
   {
    "duration": 24,
    "start_time": "2022-06-11T11:07:19.944Z"
   },
   {
    "duration": 17,
    "start_time": "2022-06-11T11:08:14.846Z"
   },
   {
    "duration": 14975,
    "start_time": "2022-06-11T11:08:40.960Z"
   },
   {
    "duration": 0,
    "start_time": "2022-06-11T11:09:39.845Z"
   },
   {
    "duration": 44723,
    "start_time": "2022-06-11T11:09:48.223Z"
   },
   {
    "duration": 36026,
    "start_time": "2022-06-11T11:10:36.017Z"
   },
   {
    "duration": 30,
    "start_time": "2022-06-11T11:12:56.067Z"
   },
   {
    "duration": 104,
    "start_time": "2022-06-11T11:13:52.360Z"
   },
   {
    "duration": 2383,
    "start_time": "2022-06-11T16:00:01.524Z"
   },
   {
    "duration": 81,
    "start_time": "2022-06-11T16:00:03.912Z"
   },
   {
    "duration": 13,
    "start_time": "2022-06-11T16:00:03.995Z"
   },
   {
    "duration": 38,
    "start_time": "2022-06-11T16:00:04.011Z"
   },
   {
    "duration": 4,
    "start_time": "2022-06-11T16:00:04.052Z"
   },
   {
    "duration": 18,
    "start_time": "2022-06-11T16:00:04.058Z"
   },
   {
    "duration": 21,
    "start_time": "2022-06-11T16:00:04.078Z"
   },
   {
    "duration": 7,
    "start_time": "2022-06-11T16:00:04.101Z"
   },
   {
    "duration": 11,
    "start_time": "2022-06-11T16:00:04.114Z"
   },
   {
    "duration": 11,
    "start_time": "2022-06-11T16:00:04.128Z"
   },
   {
    "duration": 27,
    "start_time": "2022-06-11T16:00:04.141Z"
   },
   {
    "duration": 12,
    "start_time": "2022-06-11T16:00:04.170Z"
   },
   {
    "duration": 13,
    "start_time": "2022-06-11T16:00:04.184Z"
   },
   {
    "duration": 31,
    "start_time": "2022-06-11T16:00:04.198Z"
   },
   {
    "duration": 336,
    "start_time": "2022-06-11T16:00:04.230Z"
   },
   {
    "duration": 295,
    "start_time": "2022-06-11T16:00:04.568Z"
   },
   {
    "duration": 422,
    "start_time": "2022-06-11T16:00:04.865Z"
   },
   {
    "duration": 3188,
    "start_time": "2022-06-11T16:00:05.289Z"
   },
   {
    "duration": 432,
    "start_time": "2022-06-11T16:00:08.479Z"
   },
   {
    "duration": 4,
    "start_time": "2022-06-11T16:00:08.913Z"
   },
   {
    "duration": 52,
    "start_time": "2022-06-11T16:00:08.919Z"
   },
   {
    "duration": 22,
    "start_time": "2022-06-11T16:00:08.973Z"
   },
   {
    "duration": 48,
    "start_time": "2022-06-11T16:00:08.997Z"
   },
   {
    "duration": 35,
    "start_time": "2022-06-11T16:00:09.048Z"
   },
   {
    "duration": 52,
    "start_time": "2022-06-11T16:00:09.085Z"
   },
   {
    "duration": 46,
    "start_time": "2022-06-11T16:00:09.140Z"
   },
   {
    "duration": 46,
    "start_time": "2022-06-11T16:00:09.188Z"
   },
   {
    "duration": 28,
    "start_time": "2022-06-11T16:00:09.238Z"
   },
   {
    "duration": 31,
    "start_time": "2022-06-11T16:00:09.268Z"
   },
   {
    "duration": 3125,
    "start_time": "2022-06-11T16:00:09.301Z"
   },
   {
    "duration": 13,
    "start_time": "2022-06-11T16:00:12.429Z"
   },
   {
    "duration": 530,
    "start_time": "2022-06-11T16:00:12.495Z"
   },
   {
    "duration": 8,
    "start_time": "2022-06-11T16:00:13.027Z"
   },
   {
    "duration": 7,
    "start_time": "2022-06-11T16:00:13.036Z"
   },
   {
    "duration": 11986,
    "start_time": "2022-06-11T16:00:13.045Z"
   },
   {
    "duration": 19828,
    "start_time": "2022-06-11T16:00:25.097Z"
   },
   {
    "duration": 6,
    "start_time": "2022-06-11T16:00:44.927Z"
   },
   {
    "duration": 65,
    "start_time": "2022-06-11T16:00:44.935Z"
   },
   {
    "duration": 52559,
    "start_time": "2022-06-11T16:00:45.004Z"
   },
   {
    "duration": 0,
    "start_time": "2022-06-11T16:01:37.564Z"
   },
   {
    "duration": 0,
    "start_time": "2022-06-11T16:01:37.566Z"
   },
   {
    "duration": 0,
    "start_time": "2022-06-11T16:01:37.567Z"
   },
   {
    "duration": 0,
    "start_time": "2022-06-11T16:01:37.568Z"
   },
   {
    "duration": 0,
    "start_time": "2022-06-11T16:01:37.569Z"
   },
   {
    "duration": 0,
    "start_time": "2022-06-11T16:01:37.570Z"
   },
   {
    "duration": 12313,
    "start_time": "2022-06-11T16:01:38.916Z"
   },
   {
    "duration": 8899,
    "start_time": "2022-06-11T16:02:00.018Z"
   },
   {
    "duration": 42,
    "start_time": "2022-06-11T16:03:08.201Z"
   },
   {
    "duration": 36,
    "start_time": "2022-06-11T16:03:15.912Z"
   },
   {
    "duration": 39,
    "start_time": "2022-06-11T16:03:31.469Z"
   },
   {
    "duration": 7196,
    "start_time": "2022-06-11T16:03:36.229Z"
   },
   {
    "duration": 9988,
    "start_time": "2022-06-11T16:04:19.255Z"
   },
   {
    "duration": 18509,
    "start_time": "2022-06-11T16:06:34.730Z"
   },
   {
    "duration": 45073,
    "start_time": "2022-06-11T16:06:53.860Z"
   },
   {
    "duration": 79,
    "start_time": "2022-06-11T16:07:39.358Z"
   },
   {
    "duration": 1918,
    "start_time": "2022-09-11T20:19:34.597Z"
   },
   {
    "duration": 71,
    "start_time": "2022-09-11T20:19:36.517Z"
   },
   {
    "duration": 10,
    "start_time": "2022-09-11T20:19:37.727Z"
   },
   {
    "duration": 23,
    "start_time": "2022-09-11T20:19:38.372Z"
   },
   {
    "duration": 3,
    "start_time": "2022-09-11T20:19:39.738Z"
   },
   {
    "duration": 5,
    "start_time": "2022-09-11T20:19:40.121Z"
   },
   {
    "duration": 7,
    "start_time": "2022-09-11T20:19:40.463Z"
   },
   {
    "duration": 3,
    "start_time": "2022-09-11T20:19:40.867Z"
   },
   {
    "duration": 4,
    "start_time": "2022-09-11T20:19:41.239Z"
   },
   {
    "duration": 9,
    "start_time": "2022-09-11T20:19:41.608Z"
   },
   {
    "duration": 19,
    "start_time": "2022-09-11T20:19:41.953Z"
   },
   {
    "duration": 4,
    "start_time": "2022-09-11T20:19:42.128Z"
   },
   {
    "duration": 4,
    "start_time": "2022-09-11T20:19:42.526Z"
   },
   {
    "duration": 13,
    "start_time": "2022-09-11T20:19:42.700Z"
   },
   {
    "duration": 261,
    "start_time": "2022-09-11T20:19:43.052Z"
   },
   {
    "duration": 217,
    "start_time": "2022-09-11T20:19:43.813Z"
   },
   {
    "duration": 338,
    "start_time": "2022-09-11T20:19:44.032Z"
   },
   {
    "duration": 2496,
    "start_time": "2022-09-11T20:19:44.529Z"
   },
   {
    "duration": 367,
    "start_time": "2022-09-11T20:19:47.028Z"
   },
   {
    "duration": 3,
    "start_time": "2022-09-11T20:19:47.397Z"
   },
   {
    "duration": 41,
    "start_time": "2022-09-11T20:19:47.402Z"
   },
   {
    "duration": 20,
    "start_time": "2022-09-11T20:19:47.445Z"
   },
   {
    "duration": 9,
    "start_time": "2022-09-11T20:19:49.017Z"
   },
   {
    "duration": 12,
    "start_time": "2022-09-11T20:19:57.475Z"
   },
   {
    "duration": 3,
    "start_time": "2022-09-11T20:20:03.573Z"
   },
   {
    "duration": 5,
    "start_time": "2022-09-11T20:46:19.401Z"
   },
   {
    "duration": 33,
    "start_time": "2022-09-11T20:46:19.753Z"
   },
   {
    "duration": 11,
    "start_time": "2022-09-11T20:46:19.923Z"
   },
   {
    "duration": 22,
    "start_time": "2022-09-11T20:46:20.099Z"
   },
   {
    "duration": 2,
    "start_time": "2022-09-11T20:46:21.126Z"
   },
   {
    "duration": 5,
    "start_time": "2022-09-11T20:46:21.511Z"
   },
   {
    "duration": 6,
    "start_time": "2022-09-11T20:46:21.859Z"
   },
   {
    "duration": 2,
    "start_time": "2022-09-11T20:46:22.214Z"
   },
   {
    "duration": 3,
    "start_time": "2022-09-11T20:46:22.566Z"
   },
   {
    "duration": 8,
    "start_time": "2022-09-11T20:46:22.921Z"
   },
   {
    "duration": 14,
    "start_time": "2022-09-11T20:46:23.293Z"
   },
   {
    "duration": 4,
    "start_time": "2022-09-11T20:46:23.465Z"
   },
   {
    "duration": 4,
    "start_time": "2022-09-11T20:46:23.835Z"
   },
   {
    "duration": 13,
    "start_time": "2022-09-11T20:46:24.008Z"
   },
   {
    "duration": 231,
    "start_time": "2022-09-11T20:46:24.373Z"
   },
   {
    "duration": 204,
    "start_time": "2022-09-11T20:46:25.092Z"
   },
   {
    "duration": 330,
    "start_time": "2022-09-11T20:46:25.298Z"
   },
   {
    "duration": 2530,
    "start_time": "2022-09-11T20:46:25.801Z"
   },
   {
    "duration": 350,
    "start_time": "2022-09-11T20:46:28.333Z"
   },
   {
    "duration": 3,
    "start_time": "2022-09-11T20:46:28.684Z"
   },
   {
    "duration": 24,
    "start_time": "2022-09-11T20:46:28.688Z"
   },
   {
    "duration": 7,
    "start_time": "2022-09-11T20:46:28.714Z"
   },
   {
    "duration": 11,
    "start_time": "2022-09-11T20:46:28.722Z"
   },
   {
    "duration": 21,
    "start_time": "2022-09-11T20:46:28.734Z"
   },
   {
    "duration": 3,
    "start_time": "2022-09-11T20:46:29.519Z"
   },
   {
    "duration": 4,
    "start_time": "2022-09-11T20:46:29.898Z"
   },
   {
    "duration": 3,
    "start_time": "2022-09-11T20:46:30.587Z"
   },
   {
    "duration": 4,
    "start_time": "2022-09-11T20:46:32.323Z"
   },
   {
    "duration": 6,
    "start_time": "2022-09-11T20:46:32.652Z"
   },
   {
    "duration": 7,
    "start_time": "2022-09-11T20:46:33.794Z"
   },
   {
    "duration": 4947,
    "start_time": "2022-09-11T20:46:37.121Z"
   },
   {
    "duration": 8,
    "start_time": "2022-09-11T20:46:42.070Z"
   },
   {
    "duration": 3,
    "start_time": "2022-09-11T20:46:55.229Z"
   },
   {
    "duration": 9,
    "start_time": "2022-09-11T20:47:02.108Z"
   },
   {
    "duration": 11,
    "start_time": "2022-09-11T20:47:48.055Z"
   },
   {
    "duration": 2015,
    "start_time": "2022-12-07T23:42:00.963Z"
   },
   {
    "duration": 89,
    "start_time": "2022-12-07T23:42:02.980Z"
   },
   {
    "duration": 10,
    "start_time": "2022-12-07T23:42:03.071Z"
   },
   {
    "duration": 26,
    "start_time": "2022-12-07T23:42:03.083Z"
   },
   {
    "duration": 3,
    "start_time": "2022-12-07T23:42:03.253Z"
   },
   {
    "duration": 5,
    "start_time": "2022-12-07T23:42:03.566Z"
   },
   {
    "duration": 6,
    "start_time": "2022-12-07T23:42:03.897Z"
   },
   {
    "duration": 2,
    "start_time": "2022-12-07T23:42:04.232Z"
   },
   {
    "duration": 5,
    "start_time": "2022-12-07T23:42:04.561Z"
   },
   {
    "duration": 7,
    "start_time": "2022-12-07T23:42:04.892Z"
   },
   {
    "duration": 15,
    "start_time": "2022-12-07T23:42:05.248Z"
   },
   {
    "duration": 5,
    "start_time": "2022-12-07T23:42:05.423Z"
   },
   {
    "duration": 4,
    "start_time": "2022-12-07T23:42:05.754Z"
   },
   {
    "duration": 15,
    "start_time": "2022-12-07T23:42:05.924Z"
   },
   {
    "duration": 294,
    "start_time": "2022-12-07T23:42:06.387Z"
   },
   {
    "duration": 238,
    "start_time": "2022-12-07T23:42:07.084Z"
   },
   {
    "duration": 365,
    "start_time": "2022-12-07T23:42:07.410Z"
   },
   {
    "duration": 2672,
    "start_time": "2022-12-07T23:42:07.879Z"
   },
   {
    "duration": 344,
    "start_time": "2022-12-07T23:42:10.554Z"
   },
   {
    "duration": 2,
    "start_time": "2022-12-07T23:42:10.900Z"
   },
   {
    "duration": 32,
    "start_time": "2022-12-07T23:42:10.904Z"
   },
   {
    "duration": 4,
    "start_time": "2022-12-07T23:42:10.937Z"
   },
   {
    "duration": 9,
    "start_time": "2022-12-07T23:42:10.942Z"
   },
   {
    "duration": 6,
    "start_time": "2022-12-07T23:42:10.952Z"
   },
   {
    "duration": 4,
    "start_time": "2022-12-07T23:42:11.288Z"
   },
   {
    "duration": 5,
    "start_time": "2022-12-07T23:42:11.628Z"
   },
   {
    "duration": 4,
    "start_time": "2022-12-07T23:42:11.817Z"
   },
   {
    "duration": 4,
    "start_time": "2022-12-07T23:42:12.873Z"
   },
   {
    "duration": 6,
    "start_time": "2022-12-07T23:42:13.102Z"
   },
   {
    "duration": 8,
    "start_time": "2022-12-07T23:42:13.479Z"
   },
   {
    "duration": 4800,
    "start_time": "2022-12-07T23:42:13.844Z"
   },
   {
    "duration": 76,
    "start_time": "2022-12-07T23:42:18.647Z"
   },
   {
    "duration": 435,
    "start_time": "2022-12-07T23:42:18.724Z"
   },
   {
    "duration": 5,
    "start_time": "2022-12-07T23:42:19.161Z"
   },
   {
    "duration": 15,
    "start_time": "2022-12-07T23:42:19.168Z"
   },
   {
    "duration": 7655,
    "start_time": "2022-12-07T23:42:19.185Z"
   },
   {
    "duration": 112,
    "start_time": "2022-12-07T23:42:26.843Z"
   },
   {
    "duration": 18,
    "start_time": "2022-12-07T23:43:48.420Z"
   },
   {
    "duration": 92,
    "start_time": "2022-12-07T23:44:00.234Z"
   },
   {
    "duration": 47,
    "start_time": "2022-12-07T23:45:45.854Z"
   },
   {
    "duration": 46,
    "start_time": "2022-12-07T23:46:01.577Z"
   },
   {
    "duration": 5,
    "start_time": "2022-12-07T23:47:24.544Z"
   },
   {
    "duration": 3,
    "start_time": "2022-12-07T23:49:45.851Z"
   },
   {
    "duration": 101324,
    "start_time": "2022-12-07T23:49:46.703Z"
   },
   {
    "duration": 9,
    "start_time": "2022-12-07T23:53:11.262Z"
   }
  ],
  "kernelspec": {
   "display_name": "Python 3",
   "language": "python",
   "name": "python3"
  },
  "language_info": {
   "codemirror_mode": {
    "name": "ipython",
    "version": 3
   },
   "file_extension": ".py",
   "mimetype": "text/x-python",
   "name": "python",
   "nbconvert_exporter": "python",
   "pygments_lexer": "ipython3",
   "version": "3.8.5"
  },
  "toc": {
   "base_numbering": 1,
   "nav_menu": {},
   "number_sections": false,
   "sideBar": true,
   "skip_h1_title": false,
   "title_cell": "Table of Contents",
   "title_sidebar": "Contents",
   "toc_cell": false,
   "toc_position": {},
   "toc_section_display": true,
   "toc_window_display": false
  },
  "varInspector": {
   "cols": {
    "lenName": 16,
    "lenType": 16,
    "lenVar": 40
   },
   "kernels_config": {
    "python": {
     "delete_cmd_postfix": "",
     "delete_cmd_prefix": "del ",
     "library": "var_list.py",
     "varRefreshCmd": "print(var_dic_list())"
    },
    "r": {
     "delete_cmd_postfix": ") ",
     "delete_cmd_prefix": "rm(",
     "library": "var_list.r",
     "varRefreshCmd": "cat(var_dic_list()) "
    }
   },
   "types_to_exclude": [
    "module",
    "function",
    "builtin_function_or_method",
    "instance",
    "_Feature"
   ],
   "window_display": false
  }
 },
 "nbformat": 4,
 "nbformat_minor": 5
}
