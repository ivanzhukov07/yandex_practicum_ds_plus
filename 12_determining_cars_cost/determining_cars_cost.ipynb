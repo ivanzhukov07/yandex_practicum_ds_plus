{
 "cells": [
  {
   "cell_type": "markdown",
   "metadata": {},
   "source": [
    "# Determining cars cost"
   ]
  },
  {
   "cell_type": "markdown",
   "metadata": {},
   "source": [
    "The service for the sale of used cars is developing an application to attract new customers. In it, you can quickly find out the market value of your car. Historical data is at your disposal: technical specifications, complete sets and prices of cars. You need to build a model to determine the cost. \n",
    "\n",
    "***Important to the customer:***\n",
    "\n",
    "- prediction quality\n",
    "- prediction speed\n",
    "- training time\n",
    "\n",
    "***Features***\n",
    "\n",
    "- **`DateCrawled`** — date of downloading the questionnaire from the database\n",
    "- **`VehicleType`** — car body type\n",
    "- **`RegistrationYear`** — year of registration of the car\n",
    "- **`Gearbox`** — type of gearbox\n",
    "- **`Power`** — power (hp)\n",
    "- **`Model`** — car model\n",
    "- **`Kilometer`** — mileage (km)\n",
    "- **`RegistrationMonth`** — month of car registration\n",
    "- **`FuelType`** — fuel type\n",
    "- **`Brand`** — car brand\n",
    "- **`NotRepaired`** — was the car under repair or not\n",
    "- **`DateCreated`** — date the questionnaire was created\n",
    "- **`NumberOfPictures`** — number of photos of the car\n",
    "- **`PostalCode`** — postal code of the questionnaire owner (user)\n",
    "- **`lastSeen`** — date of the user's last activity\n",
    "\n",
    "***Target***\n",
    "\n",
    "- **`Price`** — price (Euro)"
   ]
  },
  {
   "cell_type": "code",
   "execution_count": 1,
   "metadata": {},
   "outputs": [],
   "source": [
    "import warnings\n",
    "warnings.filterwarnings('ignore')\n",
    "\n",
    "import pandas as pd\n",
    "import numpy as np\n",
    "import matplotlib.pyplot as plt\n",
    "import seaborn as sns\n",
    "import datetime\n",
    "\n",
    "from sklearn.preprocessing import StandardScaler\n",
    "from sklearn.preprocessing import OneHotEncoder\n",
    "from sklearn.preprocessing import OrdinalEncoder\n",
    "\n",
    "from sklearn.model_selection import train_test_split\n",
    "from sklearn.model_selection import GridSearchCV\n",
    "from sklearn.model_selection import KFold\n",
    "from sklearn.model_selection import cross_val_score\n",
    "\n",
    "from sklearn.linear_model import LinearRegression\n",
    "from sklearn.tree import DecisionTreeRegressor\n",
    "from sklearn.ensemble import RandomForestRegressor\n",
    "from catboost import Pool, CatBoostRegressor, cv\n",
    "from lightgbm import LGBMRegressor\n",
    "from sklearn.utils import shuffle\n",
    "\n",
    "from sklearn.metrics import roc_auc_score\n",
    "from sklearn.metrics import mean_squared_error"
   ]
  },
  {
   "cell_type": "markdown",
   "metadata": {},
   "source": [
    "## Data preparation"
   ]
  },
  {
   "cell_type": "code",
   "execution_count": 2,
   "metadata": {},
   "outputs": [
    {
     "data": {
      "text/html": [
       "<div>\n",
       "<style scoped>\n",
       "    .dataframe tbody tr th:only-of-type {\n",
       "        vertical-align: middle;\n",
       "    }\n",
       "\n",
       "    .dataframe tbody tr th {\n",
       "        vertical-align: top;\n",
       "    }\n",
       "\n",
       "    .dataframe thead th {\n",
       "        text-align: right;\n",
       "    }\n",
       "</style>\n",
       "<table border=\"1\" class=\"dataframe\">\n",
       "  <thead>\n",
       "    <tr style=\"text-align: right;\">\n",
       "      <th></th>\n",
       "      <th>DateCrawled</th>\n",
       "      <th>Price</th>\n",
       "      <th>VehicleType</th>\n",
       "      <th>RegistrationYear</th>\n",
       "      <th>Gearbox</th>\n",
       "      <th>Power</th>\n",
       "      <th>Model</th>\n",
       "      <th>Kilometer</th>\n",
       "      <th>RegistrationMonth</th>\n",
       "      <th>FuelType</th>\n",
       "      <th>Brand</th>\n",
       "      <th>NotRepaired</th>\n",
       "      <th>DateCreated</th>\n",
       "      <th>NumberOfPictures</th>\n",
       "      <th>PostalCode</th>\n",
       "      <th>LastSeen</th>\n",
       "    </tr>\n",
       "  </thead>\n",
       "  <tbody>\n",
       "    <tr>\n",
       "      <th>0</th>\n",
       "      <td>2016-03-24 11:52:17</td>\n",
       "      <td>480</td>\n",
       "      <td>NaN</td>\n",
       "      <td>1993</td>\n",
       "      <td>manual</td>\n",
       "      <td>0</td>\n",
       "      <td>golf</td>\n",
       "      <td>150000</td>\n",
       "      <td>0</td>\n",
       "      <td>petrol</td>\n",
       "      <td>volkswagen</td>\n",
       "      <td>NaN</td>\n",
       "      <td>2016-03-24 00:00:00</td>\n",
       "      <td>0</td>\n",
       "      <td>70435</td>\n",
       "      <td>2016-04-07 03:16:57</td>\n",
       "    </tr>\n",
       "    <tr>\n",
       "      <th>1</th>\n",
       "      <td>2016-03-24 10:58:45</td>\n",
       "      <td>18300</td>\n",
       "      <td>coupe</td>\n",
       "      <td>2011</td>\n",
       "      <td>manual</td>\n",
       "      <td>190</td>\n",
       "      <td>NaN</td>\n",
       "      <td>125000</td>\n",
       "      <td>5</td>\n",
       "      <td>gasoline</td>\n",
       "      <td>audi</td>\n",
       "      <td>yes</td>\n",
       "      <td>2016-03-24 00:00:00</td>\n",
       "      <td>0</td>\n",
       "      <td>66954</td>\n",
       "      <td>2016-04-07 01:46:50</td>\n",
       "    </tr>\n",
       "    <tr>\n",
       "      <th>2</th>\n",
       "      <td>2016-03-14 12:52:21</td>\n",
       "      <td>9800</td>\n",
       "      <td>suv</td>\n",
       "      <td>2004</td>\n",
       "      <td>auto</td>\n",
       "      <td>163</td>\n",
       "      <td>grand</td>\n",
       "      <td>125000</td>\n",
       "      <td>8</td>\n",
       "      <td>gasoline</td>\n",
       "      <td>jeep</td>\n",
       "      <td>NaN</td>\n",
       "      <td>2016-03-14 00:00:00</td>\n",
       "      <td>0</td>\n",
       "      <td>90480</td>\n",
       "      <td>2016-04-05 12:47:46</td>\n",
       "    </tr>\n",
       "  </tbody>\n",
       "</table>\n",
       "</div>"
      ],
      "text/plain": [
       "           DateCrawled  Price VehicleType  RegistrationYear Gearbox  Power  \\\n",
       "0  2016-03-24 11:52:17    480         NaN              1993  manual      0   \n",
       "1  2016-03-24 10:58:45  18300       coupe              2011  manual    190   \n",
       "2  2016-03-14 12:52:21   9800         suv              2004    auto    163   \n",
       "\n",
       "   Model  Kilometer  RegistrationMonth  FuelType       Brand NotRepaired  \\\n",
       "0   golf     150000                  0    petrol  volkswagen         NaN   \n",
       "1    NaN     125000                  5  gasoline        audi         yes   \n",
       "2  grand     125000                  8  gasoline        jeep         NaN   \n",
       "\n",
       "           DateCreated  NumberOfPictures  PostalCode             LastSeen  \n",
       "0  2016-03-24 00:00:00                 0       70435  2016-04-07 03:16:57  \n",
       "1  2016-03-24 00:00:00                 0       66954  2016-04-07 01:46:50  \n",
       "2  2016-03-14 00:00:00                 0       90480  2016-04-05 12:47:46  "
      ]
     },
     "execution_count": 2,
     "metadata": {},
     "output_type": "execute_result"
    }
   ],
   "source": [
    "df = pd.read_csv('/datasets/autos.csv')\n",
    "df.head(3)"
   ]
  },
  {
   "cell_type": "code",
   "execution_count": 3,
   "metadata": {},
   "outputs": [
    {
     "name": "stdout",
     "output_type": "stream",
     "text": [
      "<class 'pandas.core.frame.DataFrame'>\n",
      "RangeIndex: 354369 entries, 0 to 354368\n",
      "Data columns (total 16 columns):\n",
      " #   Column             Non-Null Count   Dtype \n",
      "---  ------             --------------   ----- \n",
      " 0   DateCrawled        354369 non-null  object\n",
      " 1   Price              354369 non-null  int64 \n",
      " 2   VehicleType        316879 non-null  object\n",
      " 3   RegistrationYear   354369 non-null  int64 \n",
      " 4   Gearbox            334536 non-null  object\n",
      " 5   Power              354369 non-null  int64 \n",
      " 6   Model              334664 non-null  object\n",
      " 7   Kilometer          354369 non-null  int64 \n",
      " 8   RegistrationMonth  354369 non-null  int64 \n",
      " 9   FuelType           321474 non-null  object\n",
      " 10  Brand              354369 non-null  object\n",
      " 11  NotRepaired        283215 non-null  object\n",
      " 12  DateCreated        354369 non-null  object\n",
      " 13  NumberOfPictures   354369 non-null  int64 \n",
      " 14  PostalCode         354369 non-null  int64 \n",
      " 15  LastSeen           354369 non-null  object\n",
      "dtypes: int64(7), object(9)\n",
      "memory usage: 43.3+ MB\n"
     ]
    }
   ],
   "source": [
    "df.info()"
   ]
  },
  {
   "cell_type": "code",
   "execution_count": 4,
   "metadata": {},
   "outputs": [
    {
     "data": {
      "text/html": [
       "<div>\n",
       "<style scoped>\n",
       "    .dataframe tbody tr th:only-of-type {\n",
       "        vertical-align: middle;\n",
       "    }\n",
       "\n",
       "    .dataframe tbody tr th {\n",
       "        vertical-align: top;\n",
       "    }\n",
       "\n",
       "    .dataframe thead th {\n",
       "        text-align: right;\n",
       "    }\n",
       "</style>\n",
       "<table border=\"1\" class=\"dataframe\">\n",
       "  <thead>\n",
       "    <tr style=\"text-align: right;\">\n",
       "      <th></th>\n",
       "      <th>count</th>\n",
       "      <th>mean</th>\n",
       "      <th>std</th>\n",
       "      <th>min</th>\n",
       "      <th>25%</th>\n",
       "      <th>50%</th>\n",
       "      <th>75%</th>\n",
       "      <th>max</th>\n",
       "    </tr>\n",
       "  </thead>\n",
       "  <tbody>\n",
       "    <tr>\n",
       "      <th>Price</th>\n",
       "      <td>354369.0</td>\n",
       "      <td>4416.656776</td>\n",
       "      <td>4514.158514</td>\n",
       "      <td>0.0</td>\n",
       "      <td>1050.0</td>\n",
       "      <td>2700.0</td>\n",
       "      <td>6400.0</td>\n",
       "      <td>20000.0</td>\n",
       "    </tr>\n",
       "    <tr>\n",
       "      <th>RegistrationYear</th>\n",
       "      <td>354369.0</td>\n",
       "      <td>2004.234448</td>\n",
       "      <td>90.227958</td>\n",
       "      <td>1000.0</td>\n",
       "      <td>1999.0</td>\n",
       "      <td>2003.0</td>\n",
       "      <td>2008.0</td>\n",
       "      <td>9999.0</td>\n",
       "    </tr>\n",
       "    <tr>\n",
       "      <th>Power</th>\n",
       "      <td>354369.0</td>\n",
       "      <td>110.094337</td>\n",
       "      <td>189.850405</td>\n",
       "      <td>0.0</td>\n",
       "      <td>69.0</td>\n",
       "      <td>105.0</td>\n",
       "      <td>143.0</td>\n",
       "      <td>20000.0</td>\n",
       "    </tr>\n",
       "    <tr>\n",
       "      <th>Kilometer</th>\n",
       "      <td>354369.0</td>\n",
       "      <td>128211.172535</td>\n",
       "      <td>37905.341530</td>\n",
       "      <td>5000.0</td>\n",
       "      <td>125000.0</td>\n",
       "      <td>150000.0</td>\n",
       "      <td>150000.0</td>\n",
       "      <td>150000.0</td>\n",
       "    </tr>\n",
       "    <tr>\n",
       "      <th>RegistrationMonth</th>\n",
       "      <td>354369.0</td>\n",
       "      <td>5.714645</td>\n",
       "      <td>3.726421</td>\n",
       "      <td>0.0</td>\n",
       "      <td>3.0</td>\n",
       "      <td>6.0</td>\n",
       "      <td>9.0</td>\n",
       "      <td>12.0</td>\n",
       "    </tr>\n",
       "    <tr>\n",
       "      <th>NumberOfPictures</th>\n",
       "      <td>354369.0</td>\n",
       "      <td>0.000000</td>\n",
       "      <td>0.000000</td>\n",
       "      <td>0.0</td>\n",
       "      <td>0.0</td>\n",
       "      <td>0.0</td>\n",
       "      <td>0.0</td>\n",
       "      <td>0.0</td>\n",
       "    </tr>\n",
       "    <tr>\n",
       "      <th>PostalCode</th>\n",
       "      <td>354369.0</td>\n",
       "      <td>50508.689087</td>\n",
       "      <td>25783.096248</td>\n",
       "      <td>1067.0</td>\n",
       "      <td>30165.0</td>\n",
       "      <td>49413.0</td>\n",
       "      <td>71083.0</td>\n",
       "      <td>99998.0</td>\n",
       "    </tr>\n",
       "  </tbody>\n",
       "</table>\n",
       "</div>"
      ],
      "text/plain": [
       "                      count           mean           std     min       25%  \\\n",
       "Price              354369.0    4416.656776   4514.158514     0.0    1050.0   \n",
       "RegistrationYear   354369.0    2004.234448     90.227958  1000.0    1999.0   \n",
       "Power              354369.0     110.094337    189.850405     0.0      69.0   \n",
       "Kilometer          354369.0  128211.172535  37905.341530  5000.0  125000.0   \n",
       "RegistrationMonth  354369.0       5.714645      3.726421     0.0       3.0   \n",
       "NumberOfPictures   354369.0       0.000000      0.000000     0.0       0.0   \n",
       "PostalCode         354369.0   50508.689087  25783.096248  1067.0   30165.0   \n",
       "\n",
       "                        50%       75%       max  \n",
       "Price                2700.0    6400.0   20000.0  \n",
       "RegistrationYear     2003.0    2008.0    9999.0  \n",
       "Power                 105.0     143.0   20000.0  \n",
       "Kilometer          150000.0  150000.0  150000.0  \n",
       "RegistrationMonth       6.0       9.0      12.0  \n",
       "NumberOfPictures        0.0       0.0       0.0  \n",
       "PostalCode          49413.0   71083.0   99998.0  "
      ]
     },
     "execution_count": 4,
     "metadata": {},
     "output_type": "execute_result"
    }
   ],
   "source": [
    "df.describe().T"
   ]
  },
  {
   "cell_type": "markdown",
   "metadata": {},
   "source": [
    "**Let's see the number of explicit duplicates in the data:**"
   ]
  },
  {
   "cell_type": "code",
   "execution_count": 5,
   "metadata": {},
   "outputs": [
    {
     "data": {
      "text/plain": [
       "4"
      ]
     },
     "execution_count": 5,
     "metadata": {},
     "output_type": "execute_result"
    }
   ],
   "source": [
    "df.duplicated().sum()"
   ]
  },
  {
   "cell_type": "code",
   "execution_count": 6,
   "metadata": {},
   "outputs": [
    {
     "data": {
      "text/html": [
       "<div>\n",
       "<style scoped>\n",
       "    .dataframe tbody tr th:only-of-type {\n",
       "        vertical-align: middle;\n",
       "    }\n",
       "\n",
       "    .dataframe tbody tr th {\n",
       "        vertical-align: top;\n",
       "    }\n",
       "\n",
       "    .dataframe thead th {\n",
       "        text-align: right;\n",
       "    }\n",
       "</style>\n",
       "<table border=\"1\" class=\"dataframe\">\n",
       "  <thead>\n",
       "    <tr style=\"text-align: right;\">\n",
       "      <th></th>\n",
       "      <th>DateCrawled</th>\n",
       "      <th>Price</th>\n",
       "      <th>VehicleType</th>\n",
       "      <th>RegistrationYear</th>\n",
       "      <th>Gearbox</th>\n",
       "      <th>Power</th>\n",
       "      <th>Model</th>\n",
       "      <th>Kilometer</th>\n",
       "      <th>RegistrationMonth</th>\n",
       "      <th>FuelType</th>\n",
       "      <th>Brand</th>\n",
       "      <th>NotRepaired</th>\n",
       "      <th>DateCreated</th>\n",
       "      <th>NumberOfPictures</th>\n",
       "      <th>PostalCode</th>\n",
       "      <th>LastSeen</th>\n",
       "    </tr>\n",
       "  </thead>\n",
       "  <tbody>\n",
       "    <tr>\n",
       "      <th>171088</th>\n",
       "      <td>2016-03-08 18:42:48</td>\n",
       "      <td>1799</td>\n",
       "      <td>coupe</td>\n",
       "      <td>1999</td>\n",
       "      <td>auto</td>\n",
       "      <td>193</td>\n",
       "      <td>clk</td>\n",
       "      <td>20000</td>\n",
       "      <td>7</td>\n",
       "      <td>petrol</td>\n",
       "      <td>mercedes_benz</td>\n",
       "      <td>no</td>\n",
       "      <td>2016-03-08 00:00:00</td>\n",
       "      <td>0</td>\n",
       "      <td>89518</td>\n",
       "      <td>2016-03-09 09:46:57</td>\n",
       "    </tr>\n",
       "    <tr>\n",
       "      <th>231258</th>\n",
       "      <td>2016-03-28 00:56:10</td>\n",
       "      <td>1000</td>\n",
       "      <td>small</td>\n",
       "      <td>2002</td>\n",
       "      <td>manual</td>\n",
       "      <td>83</td>\n",
       "      <td>other</td>\n",
       "      <td>150000</td>\n",
       "      <td>1</td>\n",
       "      <td>petrol</td>\n",
       "      <td>suzuki</td>\n",
       "      <td>no</td>\n",
       "      <td>2016-03-28 00:00:00</td>\n",
       "      <td>0</td>\n",
       "      <td>66589</td>\n",
       "      <td>2016-03-28 08:46:21</td>\n",
       "    </tr>\n",
       "    <tr>\n",
       "      <th>258109</th>\n",
       "      <td>2016-04-03 09:01:15</td>\n",
       "      <td>4699</td>\n",
       "      <td>coupe</td>\n",
       "      <td>2003</td>\n",
       "      <td>auto</td>\n",
       "      <td>218</td>\n",
       "      <td>clk</td>\n",
       "      <td>125000</td>\n",
       "      <td>6</td>\n",
       "      <td>petrol</td>\n",
       "      <td>mercedes_benz</td>\n",
       "      <td>yes</td>\n",
       "      <td>2016-04-03 00:00:00</td>\n",
       "      <td>0</td>\n",
       "      <td>75196</td>\n",
       "      <td>2016-04-07 09:44:54</td>\n",
       "    </tr>\n",
       "    <tr>\n",
       "      <th>325651</th>\n",
       "      <td>2016-03-18 18:46:15</td>\n",
       "      <td>1999</td>\n",
       "      <td>wagon</td>\n",
       "      <td>2001</td>\n",
       "      <td>manual</td>\n",
       "      <td>131</td>\n",
       "      <td>passat</td>\n",
       "      <td>150000</td>\n",
       "      <td>7</td>\n",
       "      <td>gasoline</td>\n",
       "      <td>volkswagen</td>\n",
       "      <td>no</td>\n",
       "      <td>2016-03-18 00:00:00</td>\n",
       "      <td>0</td>\n",
       "      <td>36391</td>\n",
       "      <td>2016-03-18 18:46:15</td>\n",
       "    </tr>\n",
       "  </tbody>\n",
       "</table>\n",
       "</div>"
      ],
      "text/plain": [
       "                DateCrawled  Price VehicleType  RegistrationYear Gearbox  \\\n",
       "171088  2016-03-08 18:42:48   1799       coupe              1999    auto   \n",
       "231258  2016-03-28 00:56:10   1000       small              2002  manual   \n",
       "258109  2016-04-03 09:01:15   4699       coupe              2003    auto   \n",
       "325651  2016-03-18 18:46:15   1999       wagon              2001  manual   \n",
       "\n",
       "        Power   Model  Kilometer  RegistrationMonth  FuelType          Brand  \\\n",
       "171088    193     clk      20000                  7    petrol  mercedes_benz   \n",
       "231258     83   other     150000                  1    petrol         suzuki   \n",
       "258109    218     clk     125000                  6    petrol  mercedes_benz   \n",
       "325651    131  passat     150000                  7  gasoline     volkswagen   \n",
       "\n",
       "       NotRepaired          DateCreated  NumberOfPictures  PostalCode  \\\n",
       "171088          no  2016-03-08 00:00:00                 0       89518   \n",
       "231258          no  2016-03-28 00:00:00                 0       66589   \n",
       "258109         yes  2016-04-03 00:00:00                 0       75196   \n",
       "325651          no  2016-03-18 00:00:00                 0       36391   \n",
       "\n",
       "                   LastSeen  \n",
       "171088  2016-03-09 09:46:57  \n",
       "231258  2016-03-28 08:46:21  \n",
       "258109  2016-04-07 09:44:54  \n",
       "325651  2016-03-18 18:46:15  "
      ]
     },
     "execution_count": 6,
     "metadata": {},
     "output_type": "execute_result"
    }
   ],
   "source": [
    "df[df.duplicated() == True]"
   ]
  },
  {
   "cell_type": "code",
   "execution_count": 7,
   "metadata": {},
   "outputs": [],
   "source": [
    "df = df.drop_duplicates()"
   ]
  },
  {
   "cell_type": "markdown",
   "metadata": {},
   "source": [
    "**Let's check the share of missing data**"
   ]
  },
  {
   "cell_type": "code",
   "execution_count": 8,
   "metadata": {},
   "outputs": [
    {
     "data": {
      "text/html": [
       "<div>\n",
       "<style scoped>\n",
       "    .dataframe tbody tr th:only-of-type {\n",
       "        vertical-align: middle;\n",
       "    }\n",
       "\n",
       "    .dataframe tbody tr th {\n",
       "        vertical-align: top;\n",
       "    }\n",
       "\n",
       "    .dataframe thead th {\n",
       "        text-align: right;\n",
       "    }\n",
       "</style>\n",
       "<table border=\"1\" class=\"dataframe\">\n",
       "  <thead>\n",
       "    <tr style=\"text-align: right;\">\n",
       "      <th></th>\n",
       "      <th>0</th>\n",
       "    </tr>\n",
       "  </thead>\n",
       "  <tbody>\n",
       "    <tr>\n",
       "      <th>NotRepaired</th>\n",
       "      <td>0.200793</td>\n",
       "    </tr>\n",
       "    <tr>\n",
       "      <th>VehicleType</th>\n",
       "      <td>0.105795</td>\n",
       "    </tr>\n",
       "    <tr>\n",
       "      <th>FuelType</th>\n",
       "      <td>0.092828</td>\n",
       "    </tr>\n",
       "    <tr>\n",
       "      <th>Gearbox</th>\n",
       "      <td>0.055968</td>\n",
       "    </tr>\n",
       "    <tr>\n",
       "      <th>Model</th>\n",
       "      <td>0.055607</td>\n",
       "    </tr>\n",
       "  </tbody>\n",
       "</table>\n",
       "</div>"
      ],
      "text/plain": [
       "                    0\n",
       "NotRepaired  0.200793\n",
       "VehicleType  0.105795\n",
       "FuelType     0.092828\n",
       "Gearbox      0.055968\n",
       "Model        0.055607"
      ]
     },
     "execution_count": 8,
     "metadata": {},
     "output_type": "execute_result"
    }
   ],
   "source": [
    "df[df.columns[df.isnull().any()]].isna().mean().to_frame().sort_values(by = [0], ascending = False)"
   ]
  },
  {
   "cell_type": "markdown",
   "metadata": {},
   "source": [
    "**Let's take a closer look at the numerical and categorical features**"
   ]
  },
  {
   "cell_type": "code",
   "execution_count": 9,
   "metadata": {},
   "outputs": [
    {
     "data": {
      "text/plain": [
       "'int64'"
      ]
     },
     "execution_count": 9,
     "metadata": {},
     "output_type": "execute_result"
    }
   ],
   "source": [
    "df['RegistrationYear'].dtypes.name"
   ]
  },
  {
   "cell_type": "code",
   "execution_count": 10,
   "metadata": {},
   "outputs": [
    {
     "name": "stdout",
     "output_type": "stream",
     "text": [
      "Numerical Values 9 are : ['DateCrawled', 'Price', 'RegistrationYear', 'Power', 'Model', 'Brand', 'DateCreated', 'PostalCode', 'LastSeen']\n",
      "\n",
      "Categorical Values 7 are : ['VehicleType', 'Gearbox', 'Kilometer', 'RegistrationMonth', 'FuelType', 'NotRepaired', 'NumberOfPictures']\n"
     ]
    }
   ],
   "source": [
    "numerical_cols = []\n",
    "numerical_cols = [feature for feature in df.columns if len(df[feature].unique()) > 15]\n",
    "\n",
    "cat_cols = []\n",
    "cat_cols = [feature for feature in df.columns if len(df[feature].unique()) <= 15]\n",
    "\n",
    "print('Numerical Values {} are : {}'.format(len(numerical_cols), numerical_cols))\n",
    "print('')\n",
    "print('Categorical Values {} are : {}'.format(len(cat_cols), cat_cols))"
   ]
  },
  {
   "cell_type": "code",
   "execution_count": 11,
   "metadata": {},
   "outputs": [
    {
     "name": "stdout",
     "output_type": "stream",
     "text": [
      "DateCrawled 271174\n",
      "Price 3731\n",
      "RegistrationYear 151\n",
      "Power 712\n",
      "Model 251\n",
      "Brand 40\n",
      "DateCreated 109\n",
      "PostalCode 8143\n",
      "LastSeen 179150\n"
     ]
    }
   ],
   "source": [
    "for i in numerical_cols:\n",
    "    print(i, len(df[i].unique()))"
   ]
  },
  {
   "cell_type": "markdown",
   "metadata": {},
   "source": [
    "- **Dates** - are specified daily, so there are so many unique values\n",
    "    - Date Crawled\n",
    "    - DateCreated\n",
    "    - LastSeen\n",
    "- **PostalCode** - there are also a lot of values here\n",
    "- **Brand, Model** - can be considered categorical features\n",
    "- **RegistrationYear** - 151 unique value of the year of registration of a car looks strange\n",
    "- **Power** - also many values\n",
    "\n",
    "Let's print out the unique values as an example:"
   ]
  },
  {
   "cell_type": "code",
   "execution_count": 12,
   "metadata": {},
   "outputs": [
    {
     "name": "stdout",
     "output_type": "stream",
     "text": [
      "Column name: DateCrawled\n",
      "\n",
      "['2016-03-24 11:52:17' '2016-03-24 10:58:45' '2016-03-14 12:52:21' ...\n",
      " '2016-03-21 09:50:58' '2016-03-14 17:48:27' '2016-03-19 18:57:12']\n",
      "===========================\n",
      "Column name: RegistrationYear\n",
      "\n",
      "[1993 2011 2004 2001 2008 1995 1980 2014 1998 2005 1910 2016 2007 2009\n",
      " 2002 2018 1997 1990 2017 1981 2003 1994 1991 1984 2006 1999 2012 2010\n",
      " 2000 1992 2013 1996 1985 1989 2015 1982 1976 1983 1973 1111 1969 1971\n",
      " 1987 1986 1988 1970 1965 1945 1925 1974 1979 1955 1978 1972 1968 1977\n",
      " 1961 1960 1966 1975 1963 1964 5000 1954 1958 1967 1959 9999 1956 3200\n",
      " 1000 1941 8888 1500 2200 4100 1962 1929 1957 1940 3000 2066 1949 2019\n",
      " 1937 1951 1800 1953 1234 8000 5300 9000 2900 6000 5900 5911 1933 1400\n",
      " 1950 4000 1948 1952 1200 8500 1932 1255 3700 3800 4800 1942 7000 1935\n",
      " 1936 6500 1923 2290 2500 1930 1001 9450 1944 1943 1934 1938 1688 2800\n",
      " 1253 1928 1919 5555 5600 1600 2222 1039 9996 1300 8455 1931 1915 4500\n",
      " 1920 1602 7800 9229 1947 1927 7100 8200 1946 7500 3500]\n",
      "===========================\n",
      "Column name: Power\n",
      "\n",
      "[    0   190   163    75    69   102   109    50   125   101   105   140\n",
      "   115   131    60   136   160   231    90   118   193    99   113   218\n",
      "   122   129    70   306    95    61   177    80   170    55   143    64\n",
      "   286   232   150   156    82   155    54   185    87   180    86    84\n",
      "   224   235   200   178   265    77   110   144   120   116   184   126\n",
      "   204    88   194   305   197   179   250    45   313    41   165    98\n",
      "   130   114   211    56   201   213    58   107    83   174   100   220\n",
      "    85    73   192    68    66   299    74    52   147    65   310    71\n",
      "    97   239   203     5   300   103   258   320    63    81   148    44\n",
      "   145   230   280   260   104   188   333   186   117   141    59   132\n",
      "   234   158    39    92    51   135    53   209    43   146    67   106\n",
      "   166   276   344    72   249   237   245   111   326   279    23   138\n",
      "   175    96   226    26    37   301   334   128   133   124    33   219\n",
      "   241   167    94   182   196   238  1398   228   112    48   272   139\n",
      "  1799    40   240    79   256   360   243   375   252   396   340   108\n",
      "   121   345   187   289   222   198   284   450   233   387   152   347\n",
      "   172    57   137   212   476   314    30     7    47   173   290   207\n",
      "   205   171   750    78    91    89   349   325    76   151   350   953\n",
      "    93   142   500   343   199   119   164    16   264   367   208   210\n",
      "    46   435  1001   225   127   176   161   603   307   354    35   206\n",
      "   771   355   273   223   255   123   154   149  7515  1400   268   620\n",
      "   169   400   275    34     2   242  1779   285   162   328  1753   329\n",
      "   134   420   247   168 10317   215    18   330   283    62    10   214\n",
      "   183   254    15   321   322   315   952   600   181   426   599   379\n",
      "   999    22   157    42   195   553     4   309   507   381   271   440\n",
      "   189   401  1111  2729    21   236  1240  1704   521     1  1900   270\n",
      "    24   159   292   808   515  1200   303    29    38  1993    14   216\n",
      "   610   504    49   267   331   363   261   385  1011   253   696 10520\n",
      "   376   227   311    27   217    20  1999    11  1056    25   394    12\n",
      "   298   296  1659   294   551  6920   246    17  1800  1625   368   390\n",
      "   221  1367   259   606   327  2017  1597   266   374   392     9   405\n",
      "    13   262   601   430   295     8   411   900   541  7512   382 10218\n",
      "  7544  1102   287    19   751   297  1090   457   282   602   388     6\n",
      "  1000  5411   335  1360   202  3750   805  1062  1024 11530   364  1796\n",
      "  5000   269   460  1002   288  1780 12012 17932   316  2005  1399   191\n",
      "   278  1300   380   257   449  1256   153  1653   520   560   281 12510\n",
      "     3  1500   386    32  1202  2016  1436  1405   671   274  1288  1055\n",
      " 10912 15016  6226  1115   277  1105   341  1223  2340  8404  1968   338\n",
      "   445  1920   370   517  4400 10710 10522  9010   431  1164 11509   371\n",
      "  1501   428 11635    36   304   348  1703  1910  1995   579 10000   580\n",
      "   408    31  1005   358  1403   489  5575 19211   585   960   365   353\n",
      "   490   352  1801   346   550  3199   800  7508  1312   357  1937   950\n",
      "  4700  1600  3454 19208   251   850   337   700  8011  2331  2789   487\n",
      "   519  2461  6006  3500  5815  6018  1781  1503   612  1596   229  1506\n",
      "  5809 15020  5867  2172  1598 17410  1363   584  1054   851  1339   318\n",
      "   510   525  1700    28  1151   685  6011   317   703  1771 15001   514\n",
      "   362   332   324  6045   530   425   308  6010   475   903   640  2000\n",
      "   248   651  2799 17011   505  1103  1521   351 16051   398  9000  1998\n",
      " 10311   409  1230 17019 12684  8259  1895   901  1317   871   909  2201\n",
      "  1595   776 17700 11011  1199   459  1162  1120 15033  1896   339   361\n",
      "   574  6512   454   650 13616   604   607 16312  1082   336 20000   416\n",
      "   678  6012  1401  1021  1870 13636  1250  9710   323  1158  2009   902\n",
      "  6062  1275   572   244   399  1016   743  1221  2402 16011  1362   544\n",
      "   645   907   702 12512  1986  1003  1432  9013  9011   442  1017  1394\n",
      " 15017 10910  1992   540  2018 11025  1433  1701  2792  1502  1239  1390\n",
      " 14009  1160  1351 11111  1783  9007   923  1149   754  1988   402  2004\n",
      "  5420  1793  1324   356  7511  1299   293 19312  1079  1689   998  1100\n",
      "  9012  1933   508 16311   682  1252  1922  7529   732  2389  2200  1707\n",
      "  1416  8500  1012   485  3000 10110   421  4507  1631  7518   377  1004\n",
      "  2007  2598  1548  1241]\n",
      "===========================\n",
      "Column name: Model\n",
      "\n",
      "['golf' nan 'grand' 'fabia' '3er' '2_reihe' 'other' 'c_max' '3_reihe'\n",
      " 'passat' 'navara' 'ka' 'polo' 'twingo' 'a_klasse' 'scirocco' '5er'\n",
      " 'meriva' 'arosa' 'c4' 'civic' 'transporter' 'punto' 'e_klasse' 'clio'\n",
      " 'kadett' 'kangoo' 'corsa' 'one' 'fortwo' '1er' 'b_klasse' 'signum'\n",
      " 'astra' 'a8' 'jetta' 'fiesta' 'c_klasse' 'micra' 'vito' 'sprinter' '156'\n",
      " 'escort' 'forester' 'xc_reihe' 'scenic' 'a4' 'a1' 'insignia' 'combo'\n",
      " 'focus' 'tt' 'a6' 'jazz' 'omega' 'slk' '7er' '80' '147' '100' 'z_reihe'\n",
      " 'sportage' 'sorento' 'v40' 'ibiza' 'mustang' 'eos' 'touran' 'getz' 'a3'\n",
      " 'almera' 'megane' 'lupo' 'r19' 'zafira' 'caddy' 'mondeo' 'cordoba' 'colt'\n",
      " 'impreza' 'vectra' 'berlingo' 'tiguan' 'i_reihe' 'espace' 'sharan'\n",
      " '6_reihe' 'panda' 'up' 'seicento' 'ceed' '5_reihe' 'yeti' 'octavia' 'mii'\n",
      " 'rx_reihe' '6er' 'modus' 'fox' 'matiz' 'beetle' 'c1' 'rio' 'touareg'\n",
      " 'logan' 'spider' 'cuore' 's_max' 'a2' 'galaxy' 'c3' 'viano' 's_klasse'\n",
      " '1_reihe' 'avensis' 'roomster' 'sl' 'kaefer' 'santa' 'cooper' 'leon'\n",
      " '4_reihe' 'a5' '500' 'laguna' 'ptcruiser' 'clk' 'primera' 'x_reihe'\n",
      " 'exeo' '159' 'transit' 'juke' 'qashqai' 'carisma' 'accord' 'corolla'\n",
      " 'lanos' 'phaeton' 'verso' 'swift' 'rav' 'picanto' 'boxster' 'kalos'\n",
      " 'superb' 'stilo' 'alhambra' 'mx_reihe' 'roadster' 'ypsilon' 'cayenne'\n",
      " 'galant' 'justy' '90' 'sirion' 'crossfire' 'agila' 'duster' 'cr_reihe'\n",
      " 'v50' 'c_reihe' 'v_klasse' 'm_klasse' 'yaris' 'c5' 'aygo' 'cc' 'carnival'\n",
      " 'fusion' '911' 'bora' 'forfour' 'm_reihe' 'cl' 'tigra' '300c' 'spark'\n",
      " 'v70' 'kuga' 'x_type' 'ducato' 's_type' 'x_trail' 'toledo' 'altea'\n",
      " 'voyager' 'calibra' 'bravo' 'antara' 'tucson' 'citigo' 'jimny' 'wrangler'\n",
      " 'lybra' 'q7' 'lancer' 'captiva' 'c2' 'discovery' 'freelander' 'sandero'\n",
      " 'note' '900' 'cherokee' 'clubman' 'samara' 'defender' '601' 'cx_reihe'\n",
      " 'legacy' 'pajero' 'auris' 'niva' 's60' 'nubira' 'vivaro' 'g_klasse'\n",
      " 'lodgy' '850' 'range_rover' 'q3' 'serie_2' 'glk' 'charade' 'croma'\n",
      " 'outlander' 'doblo' 'musa' 'move' '9000' 'v60' '145' 'aveo' '200' 'b_max'\n",
      " 'range_rover_sport' 'terios' 'rangerover' 'q5' 'range_rover_evoque'\n",
      " 'materia' 'delta' 'gl' 'kalina' 'amarok' 'elefantino' 'i3' 'kappa'\n",
      " 'serie_3' 'serie_1']\n",
      "===========================\n",
      "Column name: Brand\n",
      "\n",
      "['volkswagen' 'audi' 'jeep' 'skoda' 'bmw' 'peugeot' 'ford' 'mazda'\n",
      " 'nissan' 'renault' 'mercedes_benz' 'opel' 'seat' 'citroen' 'honda' 'fiat'\n",
      " 'mini' 'smart' 'hyundai' 'sonstige_autos' 'alfa_romeo' 'subaru' 'volvo'\n",
      " 'mitsubishi' 'kia' 'suzuki' 'lancia' 'toyota' 'chevrolet' 'dacia'\n",
      " 'daihatsu' 'trabant' 'saab' 'chrysler' 'jaguar' 'daewoo' 'porsche'\n",
      " 'rover' 'land_rover' 'lada']\n",
      "===========================\n",
      "Column name: DateCreated\n",
      "\n",
      "['2016-03-24 00:00:00' '2016-03-14 00:00:00' '2016-03-17 00:00:00'\n",
      " '2016-03-31 00:00:00' '2016-04-04 00:00:00' '2016-04-01 00:00:00'\n",
      " '2016-03-21 00:00:00' '2016-03-26 00:00:00' '2016-04-07 00:00:00'\n",
      " '2016-03-15 00:00:00' '2016-03-11 00:00:00' '2016-03-20 00:00:00'\n",
      " '2016-03-23 00:00:00' '2016-03-27 00:00:00' '2016-03-12 00:00:00'\n",
      " '2016-03-13 00:00:00' '2016-03-18 00:00:00' '2016-03-10 00:00:00'\n",
      " '2016-03-07 00:00:00' '2016-03-09 00:00:00' '2016-03-08 00:00:00'\n",
      " '2016-04-03 00:00:00' '2016-03-29 00:00:00' '2016-03-25 00:00:00'\n",
      " '2016-03-28 00:00:00' '2016-03-30 00:00:00' '2016-03-22 00:00:00'\n",
      " '2016-02-09 00:00:00' '2016-03-05 00:00:00' '2016-04-02 00:00:00'\n",
      " '2016-03-16 00:00:00' '2016-03-19 00:00:00' '2016-04-05 00:00:00'\n",
      " '2016-03-06 00:00:00' '2016-02-12 00:00:00' '2016-03-03 00:00:00'\n",
      " '2016-03-01 00:00:00' '2016-03-04 00:00:00' '2016-04-06 00:00:00'\n",
      " '2016-02-15 00:00:00' '2016-02-24 00:00:00' '2016-02-27 00:00:00'\n",
      " '2015-03-20 00:00:00' '2016-02-28 00:00:00' '2016-02-17 00:00:00'\n",
      " '2016-01-27 00:00:00' '2016-02-20 00:00:00' '2016-02-29 00:00:00'\n",
      " '2016-02-10 00:00:00' '2016-02-23 00:00:00' '2016-02-21 00:00:00'\n",
      " '2015-11-02 00:00:00' '2016-02-19 00:00:00' '2016-02-26 00:00:00'\n",
      " '2016-02-11 00:00:00' '2016-01-10 00:00:00' '2016-02-06 00:00:00'\n",
      " '2016-02-18 00:00:00' '2016-01-29 00:00:00' '2016-03-02 00:00:00'\n",
      " '2015-12-06 00:00:00' '2016-01-24 00:00:00' '2016-01-30 00:00:00'\n",
      " '2016-02-02 00:00:00' '2016-02-16 00:00:00' '2016-02-13 00:00:00'\n",
      " '2016-02-05 00:00:00' '2016-02-22 00:00:00' '2015-11-17 00:00:00'\n",
      " '2014-03-10 00:00:00' '2016-02-07 00:00:00' '2016-01-23 00:00:00'\n",
      " '2016-02-25 00:00:00' '2016-02-14 00:00:00' '2016-01-02 00:00:00'\n",
      " '2015-09-04 00:00:00' '2015-11-12 00:00:00' '2015-12-27 00:00:00'\n",
      " '2015-11-24 00:00:00' '2016-01-20 00:00:00' '2016-02-03 00:00:00'\n",
      " '2015-12-05 00:00:00' '2015-08-07 00:00:00' '2016-01-28 00:00:00'\n",
      " '2016-01-31 00:00:00' '2016-02-08 00:00:00' '2016-01-07 00:00:00'\n",
      " '2016-01-22 00:00:00' '2016-01-18 00:00:00' '2016-01-08 00:00:00'\n",
      " '2015-11-23 00:00:00' '2016-01-13 00:00:00' '2016-01-17 00:00:00'\n",
      " '2016-01-15 00:00:00' '2015-11-08 00:00:00' '2016-01-26 00:00:00'\n",
      " '2016-02-04 00:00:00' '2016-01-25 00:00:00' '2016-01-16 00:00:00'\n",
      " '2015-08-10 00:00:00' '2016-01-03 00:00:00' '2016-01-19 00:00:00'\n",
      " '2015-12-30 00:00:00' '2016-02-01 00:00:00' '2015-12-17 00:00:00'\n",
      " '2015-11-10 00:00:00' '2016-01-06 00:00:00' '2015-09-09 00:00:00'\n",
      " '2015-06-18 00:00:00']\n",
      "===========================\n",
      "Column name: PostalCode\n",
      "\n",
      "[70435 66954 90480 ... 38528 38325 31096]\n",
      "===========================\n",
      "Column name: LastSeen\n",
      "\n"
     ]
    },
    {
     "name": "stdout",
     "output_type": "stream",
     "text": [
      "['2016-04-07 03:16:57' '2016-04-07 01:46:50' '2016-04-05 12:47:46' ...\n",
      " '2016-03-19 20:44:43' '2016-03-29 10:17:23' '2016-03-21 10:42:49']\n",
      "===========================\n"
     ]
    }
   ],
   "source": [
    "for i in [i for i in numerical_cols if i != 'Price']:\n",
    "    print(f'Column name: {i}')\n",
    "    print()\n",
    "    print((df[i].unique()))\n",
    "    print('===========================')"
   ]
  },
  {
   "cell_type": "markdown",
   "metadata": {},
   "source": [
    "**Let's take a detailed look at the cost of a car - our target:**"
   ]
  },
  {
   "cell_type": "code",
   "execution_count": 13,
   "metadata": {},
   "outputs": [
    {
     "data": {
      "image/png": "[encoded data removed]",
      "text/plain": [
       "<Figure size 1008x576 with 2 Axes>"
      ]
     },
     "metadata": {
      "needs_background": "light"
     },
     "output_type": "display_data"
    }
   ],
   "source": [
    "f, (ax_hist, ax_box) = plt.subplots(2, sharex = True, gridspec_kw = {\"height_ratios\": (5, 1)}, figsize = (14,8))\n",
    "sns.histplot(data = df, x = \"Price\", ax = ax_hist, color = 'green',  fill = True)\n",
    "ax_hist.set_title(\"Cars cost distribution\")\n",
    "ax_hist.grid()\n",
    "\n",
    "sns.boxplot(data = df, x = \"Price\", ax = ax_box, color = 'green')\n",
    "ax_box.grid()\n",
    "plt.show()"
   ]
  },
  {
   "cell_type": "markdown",
   "metadata": {},
   "source": [
    "**Also look at the power and year of registration of the car**"
   ]
  },
  {
   "cell_type": "code",
   "execution_count": 14,
   "metadata": {},
   "outputs": [
    {
     "data": {
      "image/png": "[encoded data removed]",
      "text/plain": [
       "<Figure size 1296x1440 with 2 Axes>"
      ]
     },
     "metadata": {
      "needs_background": "light"
     },
     "output_type": "display_data"
    },
    {
     "name": "stdout",
     "output_type": "stream",
     "text": [
      "CPU times: user 518 ms, sys: 44.4 ms, total: 563 ms\n",
      "Wall time: 321 ms\n"
     ]
    }
   ],
   "source": [
    "%%time\n",
    "\n",
    "plt.figure(figsize = (18, 20))\n",
    "plt.suptitle(\"Distribution of power and year of registration of the car\", fontsize = 18, y = 0.93)\n",
    "\n",
    "for n, ct in enumerate(['Power','RegistrationYear']):\n",
    "    ax = plt.subplot(4, 2, n + 1)\n",
    "    ax = plt.hist(df[ct], color = 'orange', bins = 50)\n",
    "    plt.title(f'Distribution of {ct}')\n",
    "    plt.xlabel(ct)\n",
    "    plt.ylabel('count')\n",
    "    plt.grid(True)\n",
    "plt.show()"
   ]
  },
  {
   "cell_type": "markdown",
   "metadata": {},
   "source": [
    "**We will also look at the dates of the creation of ads**"
   ]
  },
  {
   "cell_type": "code",
   "execution_count": 15,
   "metadata": {},
   "outputs": [],
   "source": [
    "df['DateCreated'] =  pd.to_datetime(df['DateCreated'], format = '%Y%m%d %H:%M:%S')"
   ]
  },
  {
   "cell_type": "code",
   "execution_count": 16,
   "metadata": {},
   "outputs": [
    {
     "data": {
      "text/plain": [
       "2016    354339\n",
       "2015        25\n",
       "2014         1\n",
       "Name: DateCreated, dtype: int64"
      ]
     },
     "execution_count": 16,
     "metadata": {},
     "output_type": "execute_result"
    }
   ],
   "source": [
    "df['DateCreated'].dt.year.value_counts()"
   ]
  },
  {
   "cell_type": "markdown",
   "metadata": {},
   "source": [
    "Most of the ads were created in 2016"
   ]
  },
  {
   "cell_type": "markdown",
   "metadata": {},
   "source": [
    "**Let's define the boundaries of outliers and calculate their number**"
   ]
  },
  {
   "attachments": {
    "boxplot_iqr.png": {
     "image/png": "[encoded data removed]"
    }
   },
   "cell_type": "markdown",
   "metadata": {},
   "source": [
    "![boxplot_iqr.png](attachment:boxplot_iqr.png)"
   ]
  },
  {
   "cell_type": "code",
   "execution_count": 17,
   "metadata": {},
   "outputs": [],
   "source": [
    "def interval_iqr(data, col, n_iqr_lo, n_iqr_hi):\n",
    "\n",
    "    q1 = data[col].quantile(0.25)\n",
    "    q3 = data[col].quantile(0.75)\n",
    "    iqr = q3 - q1\n",
    "    start = q1 - n_iqr_lo * iqr\n",
    "    finish = q3 + n_iqr_hi * iqr\n",
    "    \n",
    "    return (start, finish)"
   ]
  },
  {
   "cell_type": "code",
   "execution_count": 18,
   "metadata": {},
   "outputs": [
    {
     "name": "stdout",
     "output_type": "stream",
     "text": [
      "Outliers cnt Price - 18979\n",
      "Outliers borders Price - (-6975.0, 14425.0)\n",
      "==========================================\n",
      "Outliers cnt Power - 7340\n",
      "Outliers borders Power - (-42.0, 254.0)\n",
      "==========================================\n",
      "Outliers cnt RegistrationYear - 5553\n",
      "Outliers borders RegistrationYear - (1985.5, 2021.5)\n",
      "==========================================\n"
     ]
    }
   ],
   "source": [
    "list_val = ['Price','Power','RegistrationYear']\n",
    "\n",
    "for i in list_val:\n",
    "    temp_interval = interval_iqr(df, i, 1.5, 1.5)\n",
    "    cnt = len(df[(df[i] < int(temp_interval[0])) | (df[i] > int(temp_interval[1]))])\n",
    "    print(f'Outliers cnt {i} - {cnt}')\n",
    "    print(f'Outliers borders {i} - {temp_interval}')\n",
    "    print('==========================================')"
   ]
  },
  {
   "cell_type": "markdown",
   "metadata": {},
   "source": [
    "**With those columns where the categories are < 15, the visualization looks better:**"
   ]
  },
  {
   "cell_type": "code",
   "execution_count": 19,
   "metadata": {},
   "outputs": [
    {
     "name": "stdout",
     "output_type": "stream",
     "text": [
      "CPU times: user 903 ms, sys: 33.4 ms, total: 936 ms\n",
      "Wall time: 935 ms\n"
     ]
    },
    {
     "data": {
      "image/png": "[encoded data removed]",
      "text/plain": [
       "<Figure size 1296x1008 with 7 Axes>"
      ]
     },
     "metadata": {
      "needs_background": "light"
     },
     "output_type": "display_data"
    }
   ],
   "source": [
    "%%time\n",
    "\n",
    "plt.figure(figsize = (18, 14))\n",
    "plt.subplots_adjust(hspace = 0.5)\n",
    "plt.suptitle(\"Categorical features\", fontsize = 18, y = 0.95)\n",
    "\n",
    "for n, ct in enumerate(cat_cols):\n",
    "    ax = plt.subplot(4, 2, n + 1)\n",
    "    sns.countplot(x = df[ct], ax = ax)\n",
    "    plt.grid(True)"
   ]
  },
  {
   "cell_type": "markdown",
   "metadata": {},
   "source": [
    "The feature  **`Number Of Pictures`** is always filled in 0 => technical error of data storage or incomplete transfer of data from the customer to us.\n",
    "\n",
    "I propose to exclude the column from the data array."
   ]
  },
  {
   "cell_type": "markdown",
   "metadata": {},
   "source": [
    "**Let's build a correlation matrix**"
   ]
  },
  {
   "cell_type": "code",
   "execution_count": 20,
   "metadata": {},
   "outputs": [
    {
     "data": {
      "image/png": "[encoded data removed]",
      "text/plain": [
       "<Figure size 1080x720 with 2 Axes>"
      ]
     },
     "metadata": {
      "needs_background": "light"
     },
     "output_type": "display_data"
    }
   ],
   "source": [
    "fig, ax = plt.subplots(figsize = (15,10))    \n",
    "\n",
    "sns.heatmap(df[df.columns.difference(['NumberOfPictures'])].corr(), annot = True, linewidths=.5, cmap=\"YlGnBu\", square=True, ax = ax)\n",
    "plt.suptitle(\"Features correlation\")\n",
    "plt.show()"
   ]
  },
  {
   "cell_type": "markdown",
   "metadata": {},
   "source": [
    "There are no strong pair dependencies between the features."
   ]
  },
  {
   "cell_type": "markdown",
   "metadata": {},
   "source": [
    "**Conclusion:**\n",
    "\n",
    "- this time we really have a lot of data both in the number of features and in the number of records\n",
    "\n",
    "***What can be simplified:***\n",
    "\n",
    "- **`DateCrawled`** - looks like an exclusively technical feature, it is unlikely that it will be used by the russians to predict the cost\n",
    "- **`PostalCode`** - location has little effect on the cost of the car, if the insurance cost was predicted, the sign would be important\n",
    "- **`lastSeen`** - again more technical information\n",
    "- **`DateCreated`** - the attribute could have remained in the sample, but not in 2015 we have only 26 records\n",
    "- **`NumberOfPictures`** - not filled in any entry - feel free to cross out\n",
    "- **`RegistrationMonth`** - we are talking about cars and most likely the year is important to us\n",
    "\n",
    "***What needs to be fixed:***\n",
    "\n",
    "- we can try to restore or correct the data or discard everything suspicious and missed (**not the target picture**)\n",
    "\n",
    "***Missing data:***\n",
    "\n",
    "- **`NotRepaired`, `Gearbox`** - most likely the field was filled in by the user and, for example, if there was no repair, the field was not filled in (with the box type similarly)\n",
    "\n",
    "- **`VehicleType`**, **`FuelType`** - choose the most popular type for this car brand\n",
    "\n",
    "- **`Model`** - replace the omissions with unknw\n",
    "\n",
    "***Outliers:***\n",
    "\n",
    "- **`Price`**, **`Power`**, **`RegistrationYear`** - we will try to correct the data manually"
   ]
  },
  {
   "cell_type": "markdown",
   "metadata": {},
   "source": [
    "###  Data preprocessing"
   ]
  },
  {
   "cell_type": "markdown",
   "metadata": {},
   "source": [
    "**Let's drop unnecessary features**"
   ]
  },
  {
   "cell_type": "code",
   "execution_count": 21,
   "metadata": {},
   "outputs": [],
   "source": [
    "drop_clmns = ['DateCrawled','PostalCode','LastSeen','DateCreated','NumberOfPictures','RegistrationMonth']\n",
    "df = df.drop(drop_clmns, axis = 1).copy()"
   ]
  },
  {
   "cell_type": "code",
   "execution_count": 22,
   "metadata": {},
   "outputs": [
    {
     "name": "stdout",
     "output_type": "stream",
     "text": [
      "<class 'pandas.core.frame.DataFrame'>\n",
      "Int64Index: 354365 entries, 0 to 354368\n",
      "Data columns (total 10 columns):\n",
      " #   Column            Non-Null Count   Dtype \n",
      "---  ------            --------------   ----- \n",
      " 0   Price             354365 non-null  int64 \n",
      " 1   VehicleType       316875 non-null  object\n",
      " 2   RegistrationYear  354365 non-null  int64 \n",
      " 3   Gearbox           334532 non-null  object\n",
      " 4   Power             354365 non-null  int64 \n",
      " 5   Model             334660 non-null  object\n",
      " 6   Kilometer         354365 non-null  int64 \n",
      " 7   FuelType          321470 non-null  object\n",
      " 8   Brand             354365 non-null  object\n",
      " 9   NotRepaired       283211 non-null  object\n",
      "dtypes: int64(4), object(6)\n",
      "memory usage: 37.8+ MB\n"
     ]
    }
   ],
   "source": [
    "df.info()"
   ]
  },
  {
   "cell_type": "markdown",
   "metadata": {},
   "source": [
    "**Fill in the missing:**\n",
    "\n",
    "- Let's replace the sign of repair for 1 - **this is more intuitive**, we will also do with an automatic transmission\n",
    "- We will delete the original columns"
   ]
  },
  {
   "cell_type": "code",
   "execution_count": 23,
   "metadata": {},
   "outputs": [],
   "source": [
    "df['NotRepaired'] = df['NotRepaired'].fillna('no')\n",
    "df['Repaired'] = np.where(df['NotRepaired'] == 'yes', 1, 0)"
   ]
  },
  {
   "cell_type": "code",
   "execution_count": 24,
   "metadata": {},
   "outputs": [],
   "source": [
    "df['Gearbox'] =  df['Gearbox'].fillna('manual')\n",
    "df['Gerbox_auto'] = np.where(df['Gearbox'] == 'auto', 1, 0)"
   ]
  },
  {
   "cell_type": "markdown",
   "metadata": {},
   "source": [
    "***Check***"
   ]
  },
  {
   "cell_type": "code",
   "execution_count": 25,
   "metadata": {},
   "outputs": [
    {
     "data": {
      "text/plain": [
       "0    318312\n",
       "1     36053\n",
       "Name: Repaired, dtype: int64"
      ]
     },
     "execution_count": 25,
     "metadata": {},
     "output_type": "execute_result"
    }
   ],
   "source": [
    "df['Repaired'].value_counts()"
   ]
  },
  {
   "cell_type": "code",
   "execution_count": 26,
   "metadata": {},
   "outputs": [
    {
     "data": {
      "text/plain": [
       "0    288082\n",
       "1     66283\n",
       "Name: Gerbox_auto, dtype: int64"
      ]
     },
     "execution_count": 26,
     "metadata": {},
     "output_type": "execute_result"
    }
   ],
   "source": [
    "df['Gerbox_auto'].value_counts()"
   ]
  },
  {
   "cell_type": "code",
   "execution_count": 27,
   "metadata": {},
   "outputs": [],
   "source": [
    "df = df.drop(['Gearbox','NotRepaired'], axis = 1).copy()"
   ]
  },
  {
   "cell_type": "markdown",
   "metadata": {},
   "source": [
    "***Model***"
   ]
  },
  {
   "cell_type": "code",
   "execution_count": 28,
   "metadata": {},
   "outputs": [],
   "source": [
    "df['Model'] = df['Model'].fillna('unknw')"
   ]
  },
  {
   "cell_type": "markdown",
   "metadata": {},
   "source": [
    "***Now more complex missings `VehicleType`, `FuelType`***"
   ]
  },
  {
   "cell_type": "code",
   "execution_count": 29,
   "metadata": {},
   "outputs": [],
   "source": [
    "df_vh_tp = df.groupby([\"Brand\", \"VehicleType\"], as_index = False).agg({\"Price\": \"count\"})\n",
    "df_vh_tp.columns = ['Brand','VehicleType_top','cnt']\n",
    "df_vh_tp[\"rank\"] = df_vh_tp.groupby([\"Brand\"])[\"cnt\"].rank(method = \"first\", ascending = False)"
   ]
  },
  {
   "cell_type": "code",
   "execution_count": 30,
   "metadata": {},
   "outputs": [
    {
     "data": {
      "text/html": [
       "<div>\n",
       "<style scoped>\n",
       "    .dataframe tbody tr th:only-of-type {\n",
       "        vertical-align: middle;\n",
       "    }\n",
       "\n",
       "    .dataframe tbody tr th {\n",
       "        vertical-align: top;\n",
       "    }\n",
       "\n",
       "    .dataframe thead th {\n",
       "        text-align: right;\n",
       "    }\n",
       "</style>\n",
       "<table border=\"1\" class=\"dataframe\">\n",
       "  <thead>\n",
       "    <tr style=\"text-align: right;\">\n",
       "      <th></th>\n",
       "      <th>Brand</th>\n",
       "      <th>VehicleType_top</th>\n",
       "      <th>cnt</th>\n",
       "      <th>rank</th>\n",
       "    </tr>\n",
       "  </thead>\n",
       "  <tbody>\n",
       "    <tr>\n",
       "      <th>0</th>\n",
       "      <td>alfa_romeo</td>\n",
       "      <td>convertible</td>\n",
       "      <td>180</td>\n",
       "      <td>5.0</td>\n",
       "    </tr>\n",
       "    <tr>\n",
       "      <th>1</th>\n",
       "      <td>alfa_romeo</td>\n",
       "      <td>coupe</td>\n",
       "      <td>229</td>\n",
       "      <td>4.0</td>\n",
       "    </tr>\n",
       "    <tr>\n",
       "      <th>2</th>\n",
       "      <td>alfa_romeo</td>\n",
       "      <td>other</td>\n",
       "      <td>15</td>\n",
       "      <td>6.0</td>\n",
       "    </tr>\n",
       "    <tr>\n",
       "      <th>3</th>\n",
       "      <td>alfa_romeo</td>\n",
       "      <td>sedan</td>\n",
       "      <td>945</td>\n",
       "      <td>1.0</td>\n",
       "    </tr>\n",
       "    <tr>\n",
       "      <th>4</th>\n",
       "      <td>alfa_romeo</td>\n",
       "      <td>small</td>\n",
       "      <td>239</td>\n",
       "      <td>3.0</td>\n",
       "    </tr>\n",
       "    <tr>\n",
       "      <th>5</th>\n",
       "      <td>alfa_romeo</td>\n",
       "      <td>suv</td>\n",
       "      <td>1</td>\n",
       "      <td>7.0</td>\n",
       "    </tr>\n",
       "    <tr>\n",
       "      <th>6</th>\n",
       "      <td>alfa_romeo</td>\n",
       "      <td>wagon</td>\n",
       "      <td>457</td>\n",
       "      <td>2.0</td>\n",
       "    </tr>\n",
       "    <tr>\n",
       "      <th>7</th>\n",
       "      <td>audi</td>\n",
       "      <td>bus</td>\n",
       "      <td>10</td>\n",
       "      <td>8.0</td>\n",
       "    </tr>\n",
       "    <tr>\n",
       "      <th>8</th>\n",
       "      <td>audi</td>\n",
       "      <td>convertible</td>\n",
       "      <td>1627</td>\n",
       "      <td>3.0</td>\n",
       "    </tr>\n",
       "    <tr>\n",
       "      <th>9</th>\n",
       "      <td>audi</td>\n",
       "      <td>coupe</td>\n",
       "      <td>1499</td>\n",
       "      <td>5.0</td>\n",
       "    </tr>\n",
       "    <tr>\n",
       "      <th>10</th>\n",
       "      <td>audi</td>\n",
       "      <td>other</td>\n",
       "      <td>110</td>\n",
       "      <td>7.0</td>\n",
       "    </tr>\n",
       "    <tr>\n",
       "      <th>11</th>\n",
       "      <td>audi</td>\n",
       "      <td>sedan</td>\n",
       "      <td>10965</td>\n",
       "      <td>2.0</td>\n",
       "    </tr>\n",
       "    <tr>\n",
       "      <th>12</th>\n",
       "      <td>audi</td>\n",
       "      <td>small</td>\n",
       "      <td>1571</td>\n",
       "      <td>4.0</td>\n",
       "    </tr>\n",
       "    <tr>\n",
       "      <th>13</th>\n",
       "      <td>audi</td>\n",
       "      <td>suv</td>\n",
       "      <td>180</td>\n",
       "      <td>6.0</td>\n",
       "    </tr>\n",
       "    <tr>\n",
       "      <th>14</th>\n",
       "      <td>audi</td>\n",
       "      <td>wagon</td>\n",
       "      <td>11081</td>\n",
       "      <td>1.0</td>\n",
       "    </tr>\n",
       "  </tbody>\n",
       "</table>\n",
       "</div>"
      ],
      "text/plain": [
       "         Brand VehicleType_top    cnt  rank\n",
       "0   alfa_romeo     convertible    180   5.0\n",
       "1   alfa_romeo           coupe    229   4.0\n",
       "2   alfa_romeo           other     15   6.0\n",
       "3   alfa_romeo           sedan    945   1.0\n",
       "4   alfa_romeo           small    239   3.0\n",
       "5   alfa_romeo             suv      1   7.0\n",
       "6   alfa_romeo           wagon    457   2.0\n",
       "7         audi             bus     10   8.0\n",
       "8         audi     convertible   1627   3.0\n",
       "9         audi           coupe   1499   5.0\n",
       "10        audi           other    110   7.0\n",
       "11        audi           sedan  10965   2.0\n",
       "12        audi           small   1571   4.0\n",
       "13        audi             suv    180   6.0\n",
       "14        audi           wagon  11081   1.0"
      ]
     },
     "execution_count": 30,
     "metadata": {},
     "output_type": "execute_result"
    }
   ],
   "source": [
    "df_vh_tp.head(15)"
   ]
  },
  {
   "cell_type": "code",
   "execution_count": 31,
   "metadata": {},
   "outputs": [
    {
     "data": {
      "text/html": [
       "<div>\n",
       "<style scoped>\n",
       "    .dataframe tbody tr th:only-of-type {\n",
       "        vertical-align: middle;\n",
       "    }\n",
       "\n",
       "    .dataframe tbody tr th {\n",
       "        vertical-align: top;\n",
       "    }\n",
       "\n",
       "    .dataframe thead th {\n",
       "        text-align: right;\n",
       "    }\n",
       "</style>\n",
       "<table border=\"1\" class=\"dataframe\">\n",
       "  <thead>\n",
       "    <tr style=\"text-align: right;\">\n",
       "      <th></th>\n",
       "      <th>Brand</th>\n",
       "      <th>VehicleType_top</th>\n",
       "      <th>cnt</th>\n",
       "      <th>rank</th>\n",
       "    </tr>\n",
       "  </thead>\n",
       "  <tbody>\n",
       "    <tr>\n",
       "      <th>3</th>\n",
       "      <td>alfa_romeo</td>\n",
       "      <td>sedan</td>\n",
       "      <td>945</td>\n",
       "      <td>1.0</td>\n",
       "    </tr>\n",
       "    <tr>\n",
       "      <th>14</th>\n",
       "      <td>audi</td>\n",
       "      <td>wagon</td>\n",
       "      <td>11081</td>\n",
       "      <td>1.0</td>\n",
       "    </tr>\n",
       "    <tr>\n",
       "      <th>19</th>\n",
       "      <td>bmw</td>\n",
       "      <td>sedan</td>\n",
       "      <td>17585</td>\n",
       "      <td>1.0</td>\n",
       "    </tr>\n",
       "  </tbody>\n",
       "</table>\n",
       "</div>"
      ],
      "text/plain": [
       "         Brand VehicleType_top    cnt  rank\n",
       "3   alfa_romeo           sedan    945   1.0\n",
       "14        audi           wagon  11081   1.0\n",
       "19         bmw           sedan  17585   1.0"
      ]
     },
     "execution_count": 31,
     "metadata": {},
     "output_type": "execute_result"
    }
   ],
   "source": [
    "df_vh_tp = df_vh_tp[df_vh_tp['rank'] == 1]\n",
    "df_vh_tp.head(3)"
   ]
  },
  {
   "cell_type": "code",
   "execution_count": 32,
   "metadata": {},
   "outputs": [],
   "source": [
    "df_vh_tp = df_vh_tp[['Brand','VehicleType_top']]"
   ]
  },
  {
   "cell_type": "markdown",
   "metadata": {},
   "source": [
    "*Counting the most popular FuelType for Brand*"
   ]
  },
  {
   "cell_type": "code",
   "execution_count": 33,
   "metadata": {},
   "outputs": [],
   "source": [
    "df_fl_tp = df.groupby([\"Brand\", \"FuelType\"], as_index = False).agg({\"Price\": \"count\"})\n",
    "df_fl_tp.columns = ['Brand','FuelType_top','cnt']\n",
    "df_fl_tp[\"rank\"] = df_fl_tp.groupby([\"Brand\"])[\"cnt\"].rank(method = \"first\", ascending = False)"
   ]
  },
  {
   "cell_type": "code",
   "execution_count": 34,
   "metadata": {
    "scrolled": true
   },
   "outputs": [
    {
     "data": {
      "text/html": [
       "<div>\n",
       "<style scoped>\n",
       "    .dataframe tbody tr th:only-of-type {\n",
       "        vertical-align: middle;\n",
       "    }\n",
       "\n",
       "    .dataframe tbody tr th {\n",
       "        vertical-align: top;\n",
       "    }\n",
       "\n",
       "    .dataframe thead th {\n",
       "        text-align: right;\n",
       "    }\n",
       "</style>\n",
       "<table border=\"1\" class=\"dataframe\">\n",
       "  <thead>\n",
       "    <tr style=\"text-align: right;\">\n",
       "      <th></th>\n",
       "      <th>Brand</th>\n",
       "      <th>FuelType_top</th>\n",
       "      <th>cnt</th>\n",
       "      <th>rank</th>\n",
       "    </tr>\n",
       "  </thead>\n",
       "  <tbody>\n",
       "    <tr>\n",
       "      <th>0</th>\n",
       "      <td>alfa_romeo</td>\n",
       "      <td>gasoline</td>\n",
       "      <td>611</td>\n",
       "      <td>2.0</td>\n",
       "    </tr>\n",
       "    <tr>\n",
       "      <th>1</th>\n",
       "      <td>alfa_romeo</td>\n",
       "      <td>lpg</td>\n",
       "      <td>37</td>\n",
       "      <td>3.0</td>\n",
       "    </tr>\n",
       "    <tr>\n",
       "      <th>2</th>\n",
       "      <td>alfa_romeo</td>\n",
       "      <td>petrol</td>\n",
       "      <td>1444</td>\n",
       "      <td>1.0</td>\n",
       "    </tr>\n",
       "    <tr>\n",
       "      <th>3</th>\n",
       "      <td>audi</td>\n",
       "      <td>cng</td>\n",
       "      <td>2</td>\n",
       "      <td>5.0</td>\n",
       "    </tr>\n",
       "    <tr>\n",
       "      <th>4</th>\n",
       "      <td>audi</td>\n",
       "      <td>electric</td>\n",
       "      <td>2</td>\n",
       "      <td>6.0</td>\n",
       "    </tr>\n",
       "    <tr>\n",
       "      <th>5</th>\n",
       "      <td>audi</td>\n",
       "      <td>gasoline</td>\n",
       "      <td>12423</td>\n",
       "      <td>2.0</td>\n",
       "    </tr>\n",
       "    <tr>\n",
       "      <th>6</th>\n",
       "      <td>audi</td>\n",
       "      <td>hybrid</td>\n",
       "      <td>2</td>\n",
       "      <td>7.0</td>\n",
       "    </tr>\n",
       "    <tr>\n",
       "      <th>7</th>\n",
       "      <td>audi</td>\n",
       "      <td>lpg</td>\n",
       "      <td>469</td>\n",
       "      <td>3.0</td>\n",
       "    </tr>\n",
       "    <tr>\n",
       "      <th>8</th>\n",
       "      <td>audi</td>\n",
       "      <td>other</td>\n",
       "      <td>5</td>\n",
       "      <td>4.0</td>\n",
       "    </tr>\n",
       "    <tr>\n",
       "      <th>9</th>\n",
       "      <td>audi</td>\n",
       "      <td>petrol</td>\n",
       "      <td>14305</td>\n",
       "      <td>1.0</td>\n",
       "    </tr>\n",
       "    <tr>\n",
       "      <th>10</th>\n",
       "      <td>bmw</td>\n",
       "      <td>cng</td>\n",
       "      <td>10</td>\n",
       "      <td>4.0</td>\n",
       "    </tr>\n",
       "    <tr>\n",
       "      <th>11</th>\n",
       "      <td>bmw</td>\n",
       "      <td>electric</td>\n",
       "      <td>3</td>\n",
       "      <td>6.0</td>\n",
       "    </tr>\n",
       "    <tr>\n",
       "      <th>12</th>\n",
       "      <td>bmw</td>\n",
       "      <td>gasoline</td>\n",
       "      <td>12118</td>\n",
       "      <td>2.0</td>\n",
       "    </tr>\n",
       "    <tr>\n",
       "      <th>13</th>\n",
       "      <td>bmw</td>\n",
       "      <td>lpg</td>\n",
       "      <td>783</td>\n",
       "      <td>3.0</td>\n",
       "    </tr>\n",
       "    <tr>\n",
       "      <th>14</th>\n",
       "      <td>bmw</td>\n",
       "      <td>other</td>\n",
       "      <td>8</td>\n",
       "      <td>5.0</td>\n",
       "    </tr>\n",
       "  </tbody>\n",
       "</table>\n",
       "</div>"
      ],
      "text/plain": [
       "         Brand FuelType_top    cnt  rank\n",
       "0   alfa_romeo     gasoline    611   2.0\n",
       "1   alfa_romeo          lpg     37   3.0\n",
       "2   alfa_romeo       petrol   1444   1.0\n",
       "3         audi          cng      2   5.0\n",
       "4         audi     electric      2   6.0\n",
       "5         audi     gasoline  12423   2.0\n",
       "6         audi       hybrid      2   7.0\n",
       "7         audi          lpg    469   3.0\n",
       "8         audi        other      5   4.0\n",
       "9         audi       petrol  14305   1.0\n",
       "10         bmw          cng     10   4.0\n",
       "11         bmw     electric      3   6.0\n",
       "12         bmw     gasoline  12118   2.0\n",
       "13         bmw          lpg    783   3.0\n",
       "14         bmw        other      8   5.0"
      ]
     },
     "execution_count": 34,
     "metadata": {},
     "output_type": "execute_result"
    }
   ],
   "source": [
    "df_fl_tp.head(15)"
   ]
  },
  {
   "cell_type": "code",
   "execution_count": 35,
   "metadata": {},
   "outputs": [
    {
     "data": {
      "text/html": [
       "<div>\n",
       "<style scoped>\n",
       "    .dataframe tbody tr th:only-of-type {\n",
       "        vertical-align: middle;\n",
       "    }\n",
       "\n",
       "    .dataframe tbody tr th {\n",
       "        vertical-align: top;\n",
       "    }\n",
       "\n",
       "    .dataframe thead th {\n",
       "        text-align: right;\n",
       "    }\n",
       "</style>\n",
       "<table border=\"1\" class=\"dataframe\">\n",
       "  <thead>\n",
       "    <tr style=\"text-align: right;\">\n",
       "      <th></th>\n",
       "      <th>Brand</th>\n",
       "      <th>FuelType_top</th>\n",
       "      <th>cnt</th>\n",
       "      <th>rank</th>\n",
       "    </tr>\n",
       "  </thead>\n",
       "  <tbody>\n",
       "    <tr>\n",
       "      <th>2</th>\n",
       "      <td>alfa_romeo</td>\n",
       "      <td>petrol</td>\n",
       "      <td>1444</td>\n",
       "      <td>1.0</td>\n",
       "    </tr>\n",
       "    <tr>\n",
       "      <th>9</th>\n",
       "      <td>audi</td>\n",
       "      <td>petrol</td>\n",
       "      <td>14305</td>\n",
       "      <td>1.0</td>\n",
       "    </tr>\n",
       "    <tr>\n",
       "      <th>15</th>\n",
       "      <td>bmw</td>\n",
       "      <td>petrol</td>\n",
       "      <td>21056</td>\n",
       "      <td>1.0</td>\n",
       "    </tr>\n",
       "  </tbody>\n",
       "</table>\n",
       "</div>"
      ],
      "text/plain": [
       "         Brand FuelType_top    cnt  rank\n",
       "2   alfa_romeo       petrol   1444   1.0\n",
       "9         audi       petrol  14305   1.0\n",
       "15         bmw       petrol  21056   1.0"
      ]
     },
     "execution_count": 35,
     "metadata": {},
     "output_type": "execute_result"
    }
   ],
   "source": [
    "df_fl_tp = df_fl_tp[df_fl_tp['rank'] == 1]\n",
    "df_fl_tp.head(3)"
   ]
  },
  {
   "cell_type": "code",
   "execution_count": 36,
   "metadata": {},
   "outputs": [],
   "source": [
    "df_fl_tp = df_fl_tp[['Brand','FuelType_top']]"
   ]
  },
  {
   "cell_type": "code",
   "execution_count": 37,
   "metadata": {},
   "outputs": [],
   "source": [
    "df = df.merge(df_vh_tp, on = 'Brand', how = 'left')\n",
    "df = df.merge(df_fl_tp, on = 'Brand', how = 'left')"
   ]
  },
  {
   "cell_type": "code",
   "execution_count": 38,
   "metadata": {},
   "outputs": [],
   "source": [
    "df['VehicleType'] = np.where(df['VehicleType'].isnull() == True, df['VehicleType_top'], df['VehicleType'])\n",
    "df['FuelType'] = np.where(df['FuelType'].isnull() == True, df['FuelType_top'], df['FuelType'])"
   ]
  },
  {
   "cell_type": "code",
   "execution_count": 39,
   "metadata": {},
   "outputs": [],
   "source": [
    "df = df.drop(['VehicleType_top','FuelType_top'], axis = 1).copy()"
   ]
  },
  {
   "cell_type": "markdown",
   "metadata": {},
   "source": [
    "***Check***"
   ]
  },
  {
   "cell_type": "code",
   "execution_count": 40,
   "metadata": {},
   "outputs": [
    {
     "name": "stdout",
     "output_type": "stream",
     "text": [
      "Column name: VehicleType\n",
      "\n",
      "['sedan' 'coupe' 'suv' 'small' 'convertible' 'bus' 'wagon' 'other']\n",
      "===========================\n",
      "Column name: FuelType\n",
      "\n",
      "['petrol' 'gasoline' 'lpg' 'other' 'hybrid' 'cng' 'electric']\n",
      "===========================\n"
     ]
    }
   ],
   "source": [
    "for i in ['VehicleType','FuelType']:\n",
    "    print(f'Column name: {i}')\n",
    "    print()\n",
    "    print((df[i].unique()))\n",
    "    print('===========================')"
   ]
  },
  {
   "cell_type": "code",
   "execution_count": 41,
   "metadata": {},
   "outputs": [
    {
     "name": "stdout",
     "output_type": "stream",
     "text": [
      "<class 'pandas.core.frame.DataFrame'>\n",
      "Int64Index: 354365 entries, 0 to 354364\n",
      "Data columns (total 10 columns):\n",
      " #   Column            Non-Null Count   Dtype \n",
      "---  ------            --------------   ----- \n",
      " 0   Price             354365 non-null  int64 \n",
      " 1   VehicleType       354365 non-null  object\n",
      " 2   RegistrationYear  354365 non-null  int64 \n",
      " 3   Power             354365 non-null  int64 \n",
      " 4   Model             354365 non-null  object\n",
      " 5   Kilometer         354365 non-null  int64 \n",
      " 6   FuelType          354365 non-null  object\n",
      " 7   Brand             354365 non-null  object\n",
      " 8   Repaired          354365 non-null  int64 \n",
      " 9   Gerbox_auto       354365 non-null  int64 \n",
      "dtypes: int64(6), object(4)\n",
      "memory usage: 29.7+ MB\n"
     ]
    }
   ],
   "source": [
    "df.info()"
   ]
  },
  {
   "cell_type": "markdown",
   "metadata": {},
   "source": [
    "**Outliers preprocessing:**\n",
    "\n",
    "- **`Price`**, **`Power`**, **`RegistrationYear`** - let's try to correct the data\n"
   ]
  },
  {
   "cell_type": "code",
   "execution_count": 42,
   "metadata": {},
   "outputs": [
    {
     "data": {
      "text/html": [
       "<div>\n",
       "<style scoped>\n",
       "    .dataframe tbody tr th:only-of-type {\n",
       "        vertical-align: middle;\n",
       "    }\n",
       "\n",
       "    .dataframe tbody tr th {\n",
       "        vertical-align: top;\n",
       "    }\n",
       "\n",
       "    .dataframe thead th {\n",
       "        text-align: right;\n",
       "    }\n",
       "</style>\n",
       "<table border=\"1\" class=\"dataframe\">\n",
       "  <thead>\n",
       "    <tr style=\"text-align: right;\">\n",
       "      <th></th>\n",
       "      <th>count</th>\n",
       "      <th>mean</th>\n",
       "      <th>std</th>\n",
       "      <th>min</th>\n",
       "      <th>25%</th>\n",
       "      <th>50%</th>\n",
       "      <th>75%</th>\n",
       "      <th>max</th>\n",
       "    </tr>\n",
       "  </thead>\n",
       "  <tbody>\n",
       "    <tr>\n",
       "      <th>Price</th>\n",
       "      <td>354365.0</td>\n",
       "      <td>4416.679830</td>\n",
       "      <td>4514.176349</td>\n",
       "      <td>0.0</td>\n",
       "      <td>1050.0</td>\n",
       "      <td>2700.0</td>\n",
       "      <td>6400.0</td>\n",
       "      <td>20000.0</td>\n",
       "    </tr>\n",
       "    <tr>\n",
       "      <th>Power</th>\n",
       "      <td>354365.0</td>\n",
       "      <td>110.093816</td>\n",
       "      <td>189.851330</td>\n",
       "      <td>0.0</td>\n",
       "      <td>69.0</td>\n",
       "      <td>105.0</td>\n",
       "      <td>143.0</td>\n",
       "      <td>20000.0</td>\n",
       "    </tr>\n",
       "    <tr>\n",
       "      <th>RegistrationYear</th>\n",
       "      <td>354365.0</td>\n",
       "      <td>2004.234481</td>\n",
       "      <td>90.228466</td>\n",
       "      <td>1000.0</td>\n",
       "      <td>1999.0</td>\n",
       "      <td>2003.0</td>\n",
       "      <td>2008.0</td>\n",
       "      <td>9999.0</td>\n",
       "    </tr>\n",
       "  </tbody>\n",
       "</table>\n",
       "</div>"
      ],
      "text/plain": [
       "                     count         mean          std     min     25%     50%  \\\n",
       "Price             354365.0  4416.679830  4514.176349     0.0  1050.0  2700.0   \n",
       "Power             354365.0   110.093816   189.851330     0.0    69.0   105.0   \n",
       "RegistrationYear  354365.0  2004.234481    90.228466  1000.0  1999.0  2003.0   \n",
       "\n",
       "                     75%      max  \n",
       "Price             6400.0  20000.0  \n",
       "Power              143.0  20000.0  \n",
       "RegistrationYear  2008.0   9999.0  "
      ]
     },
     "execution_count": 42,
     "metadata": {},
     "output_type": "execute_result"
    }
   ],
   "source": [
    "df[['Price','Power','RegistrationYear']].describe().T"
   ]
  },
  {
   "cell_type": "code",
   "execution_count": 43,
   "metadata": {},
   "outputs": [
    {
     "name": "stdout",
     "output_type": "stream",
     "text": [
      "Outliers cnt Power - 7340\n",
      "Outliers borders Power - (-42.0, 254.0)\n",
      "==========================================\n",
      "Outliers cnt RegistrationYear - 5553\n",
      "Outliers borders RegistrationYear - (1985.5, 2021.5)\n",
      "==========================================\n",
      "Outliers cnt Price - 18979\n",
      "Outliers borders Price - (-6975.0, 14425.0)\n",
      "==========================================\n"
     ]
    }
   ],
   "source": [
    "list_val = ['Power','RegistrationYear','Price']\n",
    "\n",
    "for i in list_val:\n",
    "    temp_interval = interval_iqr(df, i, 1.5, 1.5)\n",
    "    cnt = len(df[(df[i] < int(temp_interval[0])) | (df[i] > int(temp_interval[1]))])\n",
    "    print(f'Outliers cnt {i} - {cnt}')\n",
    "    print(f'Outliers borders {i} - {temp_interval}')\n",
    "    print('==========================================')"
   ]
  },
  {
   "cell_type": "markdown",
   "metadata": {},
   "source": [
    "**Power**\n",
    "\n",
    "Obviously, first we need to get rid of all values less than 1 hp,  \n",
    "then we will select the boundaries we need based on logic and the values of IQR thresholds"
   ]
  },
  {
   "cell_type": "code",
   "execution_count": 44,
   "metadata": {},
   "outputs": [
    {
     "data": {
      "image/png": "[encoded data removed]",
      "text/plain": [
       "<Figure size 1080x360 with 1 Axes>"
      ]
     },
     "metadata": {
      "needs_background": "light"
     },
     "output_type": "display_data"
    }
   ],
   "source": [
    "df_tmp = df[(df['Power'] > 0) & (df['Power'] < interval_iqr(df, 'Power', 1.5, 1.5)[1])]\n",
    "\n",
    "plt.figure(figsize = (15, 5))\n",
    "plt.hist(df_tmp['Power'], color = 'green', bins = 50)\n",
    "\n",
    "plt.axvline(35, linewidth = 2, c = 'red', linestyle = '--')\n",
    "plt.axvline(interval_iqr(df, 'Power', 1.5, 1.5)[1], linewidth = 2, c = 'red', linestyle = '--')\n",
    "plt.title(f'Distribution of Power')\n",
    "plt.ylabel('count')\n",
    "plt.grid(True)\n",
    "plt.show()"
   ]
  },
  {
   "cell_type": "code",
   "execution_count": 45,
   "metadata": {},
   "outputs": [],
   "source": [
    "df = df[(df['Power'] > 35) & (df['Power'] < interval_iqr(df, 'Power', 1.5, 1.5)[1])].copy()"
   ]
  },
  {
   "cell_type": "markdown",
   "metadata": {},
   "source": [
    "**RegistrationYear** \n",
    "\n",
    "There is an important point here, earlier when analysis the data, we saw that the maximum year of ad creation is 2016  \n",
    "This means that there can be no cars with registration after 2016 in our data"
   ]
  },
  {
   "cell_type": "code",
   "execution_count": 46,
   "metadata": {},
   "outputs": [
    {
     "name": "stdout",
     "output_type": "stream",
     "text": [
      "(1987.0, 2019.0)\n"
     ]
    },
    {
     "data": {
      "image/png": "[encoded data removed]",
      "text/plain": [
       "<Figure size 1080x360 with 1 Axes>"
      ]
     },
     "metadata": {
      "needs_background": "light"
     },
     "output_type": "display_data"
    }
   ],
   "source": [
    "df_tmp = (df[(df['RegistrationYear'] > 1920) \n",
    "                & (df['RegistrationYear'] < 2017)])\n",
    "\n",
    "print(interval_iqr(df_tmp, 'RegistrationYear', 1.5, 1.5))\n",
    "\n",
    "plt.figure(figsize = (15, 5))\n",
    "plt.hist(df_tmp['RegistrationYear'], color = 'green', bins = 50)\n",
    "\n",
    "plt.axvline(1960, linewidth = 2, c = 'red', linestyle = '--')\n",
    "plt.axvline(2016, linewidth = 2, c = 'red', linestyle = '--')\n",
    "plt.title(f'Distribution of RegistrationYear')\n",
    "plt.ylabel('count')\n",
    "plt.grid(True)\n",
    "plt.show()"
   ]
  },
  {
   "cell_type": "code",
   "execution_count": 47,
   "metadata": {},
   "outputs": [],
   "source": [
    "df = df[(df['RegistrationYear'] > 1960) & (df['RegistrationYear'] < 2017)].copy()"
   ]
  },
  {
   "cell_type": "markdown",
   "metadata": {},
   "source": [
    "**Price** "
   ]
  },
  {
   "cell_type": "code",
   "execution_count": 48,
   "metadata": {},
   "outputs": [
    {
     "name": "stdout",
     "output_type": "stream",
     "text": [
      "(-6930.0, 15150.0)\n"
     ]
    },
    {
     "data": {
      "image/png": "[encoded data removed]",
      "text/plain": [
       "<Figure size 1080x360 with 1 Axes>"
      ]
     },
     "metadata": {
      "needs_background": "light"
     },
     "output_type": "display_data"
    }
   ],
   "source": [
    "df_tmp = (df[(df['Price'] >= 150) \n",
    "                & (df['Price'] < 100000)])\n",
    "\n",
    "print(interval_iqr(df_tmp, 'Price', 1.5, 1.5))\n",
    "\n",
    "plt.figure(figsize = (15, 5))\n",
    "plt.hist(df_tmp['Price'], color = 'green', bins = 100)\n",
    "\n",
    "plt.axvline(1000, linewidth = 2, c = 'red', linestyle = '--')\n",
    "plt.axvline(10000, linewidth = 2, c = 'red', linestyle = '--')\n",
    "plt.title(f'Distribution of Price')\n",
    "plt.ylabel('count')\n",
    "plt.grid(True)\n",
    "plt.show()"
   ]
  },
  {
   "cell_type": "code",
   "execution_count": 49,
   "metadata": {},
   "outputs": [
    {
     "name": "stdout",
     "output_type": "stream",
     "text": [
      "The number of rows with a price above 10000 - 37328\n"
     ]
    }
   ],
   "source": [
    "print(f'''The number of rows with a price above 10000 - {len(df[df['Price'] > 10000])}''')"
   ]
  },
  {
   "cell_type": "markdown",
   "metadata": {},
   "source": [
    "I suggest choosing a price range from 1000 to 10000:\n",
    "- the profile of the cost graph is sawtooth - we see a lot of outliers in the price\n",
    "- the price of 1000 EUR for a used car looks real\n",
    "- I propose to take a maximum of 100 000 because after it the outliers become too sensitive"
   ]
  },
  {
   "cell_type": "code",
   "execution_count": 50,
   "metadata": {},
   "outputs": [],
   "source": [
    "df = df[(df['Price'] > 1000) & (df['Price'] < 10000)].copy()"
   ]
  },
  {
   "cell_type": "code",
   "execution_count": 51,
   "metadata": {},
   "outputs": [
    {
     "data": {
      "text/html": [
       "<div>\n",
       "<style scoped>\n",
       "    .dataframe tbody tr th:only-of-type {\n",
       "        vertical-align: middle;\n",
       "    }\n",
       "\n",
       "    .dataframe tbody tr th {\n",
       "        vertical-align: top;\n",
       "    }\n",
       "\n",
       "    .dataframe thead th {\n",
       "        text-align: right;\n",
       "    }\n",
       "</style>\n",
       "<table border=\"1\" class=\"dataframe\">\n",
       "  <thead>\n",
       "    <tr style=\"text-align: right;\">\n",
       "      <th></th>\n",
       "      <th>count</th>\n",
       "      <th>mean</th>\n",
       "      <th>std</th>\n",
       "      <th>min</th>\n",
       "      <th>25%</th>\n",
       "      <th>50%</th>\n",
       "      <th>75%</th>\n",
       "      <th>max</th>\n",
       "    </tr>\n",
       "  </thead>\n",
       "  <tbody>\n",
       "    <tr>\n",
       "      <th>Price</th>\n",
       "      <td>192404.0</td>\n",
       "      <td>4096.206955</td>\n",
       "      <td>2458.178472</td>\n",
       "      <td>1001.0</td>\n",
       "      <td>1999.0</td>\n",
       "      <td>3499.0</td>\n",
       "      <td>5890.0</td>\n",
       "      <td>9999.0</td>\n",
       "    </tr>\n",
       "    <tr>\n",
       "      <th>Power</th>\n",
       "      <td>192404.0</td>\n",
       "      <td>117.295228</td>\n",
       "      <td>42.312686</td>\n",
       "      <td>36.0</td>\n",
       "      <td>82.0</td>\n",
       "      <td>111.0</td>\n",
       "      <td>143.0</td>\n",
       "      <td>253.0</td>\n",
       "    </tr>\n",
       "    <tr>\n",
       "      <th>RegistrationYear</th>\n",
       "      <td>192404.0</td>\n",
       "      <td>2003.043741</td>\n",
       "      <td>5.651281</td>\n",
       "      <td>1961.0</td>\n",
       "      <td>2000.0</td>\n",
       "      <td>2003.0</td>\n",
       "      <td>2006.0</td>\n",
       "      <td>2016.0</td>\n",
       "    </tr>\n",
       "  </tbody>\n",
       "</table>\n",
       "</div>"
      ],
      "text/plain": [
       "                     count         mean          std     min     25%     50%  \\\n",
       "Price             192404.0  4096.206955  2458.178472  1001.0  1999.0  3499.0   \n",
       "Power             192404.0   117.295228    42.312686    36.0    82.0   111.0   \n",
       "RegistrationYear  192404.0  2003.043741     5.651281  1961.0  2000.0  2003.0   \n",
       "\n",
       "                     75%     max  \n",
       "Price             5890.0  9999.0  \n",
       "Power              143.0   253.0  \n",
       "RegistrationYear  2006.0  2016.0  "
      ]
     },
     "execution_count": 51,
     "metadata": {},
     "output_type": "execute_result"
    }
   ],
   "source": [
    "df[['Price','Power','RegistrationYear']].describe().T"
   ]
  },
  {
   "cell_type": "code",
   "execution_count": 52,
   "metadata": {},
   "outputs": [],
   "source": [
    "df = df.drop_duplicates()"
   ]
  },
  {
   "cell_type": "markdown",
   "metadata": {},
   "source": [
    "**Conclusions:**\n",
    "\n",
    "- dropped a number of unnecessary features\n",
    "- processed data gaps in several different ways:\n",
    "    - *`NotRepaired`, `Gearbox`* - filled out for logical reasons\n",
    "    - *`VehicleType`*, *`FuelType`* - filled with the most popular type for this brand of car\n",
    "    - *`Model`* - replace the missings with unknw\n",
    "\n",
    "- we processed the outliers, initially we wanted to use 1.5 IQR, but in the end we were partially guided by logic\n",
    "    - *`Price`*, *`Power`*, *`RegistrationYear`*"
   ]
  },
  {
   "cell_type": "markdown",
   "metadata": {},
   "source": [
    "## Model training"
   ]
  },
  {
   "cell_type": "markdown",
   "metadata": {},
   "source": [
    "**Main task:** Car cost prediction\n",
    "\n",
    "**Target variable:** Price\n",
    "\n",
    "**What type of task is being solved:** A quantitative feature is predicted - we solve the regression problem\n",
    "\n",
    "**Quality metric:** RMSE\n",
    "\n",
    "**Customer requirements:** prediction speed, training time, prediction quality\n",
    "\n",
    "Let's split the data into features and target:"
   ]
  },
  {
   "cell_type": "code",
   "execution_count": 53,
   "metadata": {},
   "outputs": [],
   "source": [
    "features = df.drop('Price', axis=1)\n",
    "target = df['Price']"
   ]
  },
  {
   "cell_type": "code",
   "execution_count": 54,
   "metadata": {},
   "outputs": [],
   "source": [
    "features_train, features_test, target_train, target_test = train_test_split(\n",
    "    features, target, test_size = 0.25, random_state = 12345)"
   ]
  },
  {
   "cell_type": "markdown",
   "metadata": {},
   "source": [
    "**LinearRegression**"
   ]
  },
  {
   "cell_type": "markdown",
   "metadata": {},
   "source": [
    "For the algorithm to work adequately, we need to perform OHE and data normalization."
   ]
  },
  {
   "cell_type": "code",
   "execution_count": 55,
   "metadata": {},
   "outputs": [],
   "source": [
    "features_ohe = pd.get_dummies(features, drop_first = True)\n",
    "\n",
    "features_train_ohe, features_test_ohe, target_train_ohe, target_test_ohe = train_test_split(\n",
    "    features_ohe, target, test_size = 0.25, random_state = 12345)"
   ]
  },
  {
   "cell_type": "markdown",
   "metadata": {},
   "source": [
    "Scaling the features"
   ]
  },
  {
   "cell_type": "code",
   "execution_count": 56,
   "metadata": {},
   "outputs": [],
   "source": [
    "scaler = StandardScaler()"
   ]
  },
  {
   "cell_type": "code",
   "execution_count": 57,
   "metadata": {},
   "outputs": [],
   "source": [
    "scaler.fit(features_train_ohe)\n",
    "\n",
    "features_train_ohe_sc = scaler.transform(features_train_ohe)\n",
    "features_test_ohe_sc = scaler.transform(features_test_ohe)"
   ]
  },
  {
   "cell_type": "code",
   "execution_count": 58,
   "metadata": {},
   "outputs": [],
   "source": [
    "model_lr = LinearRegression()"
   ]
  },
  {
   "cell_type": "code",
   "execution_count": 59,
   "metadata": {},
   "outputs": [
    {
     "name": "stdout",
     "output_type": "stream",
     "text": [
      "CPU times: user 50.1 s, sys: 4.64 s, total: 54.7 s\n",
      "Wall time: 12.2 s\n"
     ]
    }
   ],
   "source": [
    "%%time\n",
    "\n",
    "t1 = datetime.datetime.now()\n",
    "\n",
    "scores_lr = np.array([])\n",
    "\n",
    "fold = KFold(n_splits = 5 , shuffle = True, random_state = 12345)\n",
    "\n",
    "scores_on_this_split = cross_val_score(\n",
    "          estimator = model_lr , X = features_train_ohe, y = target_train_ohe,\n",
    "            cv = fold, scoring = 'neg_mean_squared_error')\n",
    "\n",
    "scores_lr = np.append(scores_lr, scores_on_this_split)\n",
    "\n",
    "t2 = datetime.datetime.now()\n",
    "\n",
    "time_lr_cv = round((t2-t1).total_seconds(), 1)"
   ]
  },
  {
   "cell_type": "code",
   "execution_count": 60,
   "metadata": {},
   "outputs": [
    {
     "name": "stdout",
     "output_type": "stream",
     "text": [
      "[-2800647.19345727 -2821403.99071202 -2857745.9155791  -2868883.86114787\n",
      " -2851535.41114985]\n"
     ]
    }
   ],
   "source": [
    "print(scores_lr)"
   ]
  },
  {
   "cell_type": "code",
   "execution_count": 61,
   "metadata": {},
   "outputs": [
    {
     "name": "stdout",
     "output_type": "stream",
     "text": [
      "RMSE LinearRegression  1685.2427939051465\n"
     ]
    }
   ],
   "source": [
    "print('RMSE LinearRegression ', (scores_lr.mean() * -1) ** 0.5)"
   ]
  },
  {
   "cell_type": "markdown",
   "metadata": {},
   "source": [
    "**DecisionTree**"
   ]
  },
  {
   "cell_type": "code",
   "execution_count": 62,
   "metadata": {},
   "outputs": [],
   "source": [
    "model_dtr = DecisionTreeRegressor(random_state = 12345)"
   ]
  },
  {
   "cell_type": "code",
   "execution_count": 63,
   "metadata": {},
   "outputs": [],
   "source": [
    "param_grid_dtr = { \n",
    "    'max_depth' : [4,5,6,7,8,9,10,11,12,13,14,15,20]\n",
    "}"
   ]
  },
  {
   "cell_type": "code",
   "execution_count": 64,
   "metadata": {
    "scrolled": false
   },
   "outputs": [
    {
     "name": "stdout",
     "output_type": "stream",
     "text": [
      "Best param DTR\n",
      "{'max_depth': 15}\n",
      "CPU times: user 1min 49s, sys: 10.3 s, total: 1min 59s\n",
      "Wall time: 1min 59s\n"
     ]
    }
   ],
   "source": [
    "%%time\n",
    "t1 = datetime.datetime.now()\n",
    "\n",
    "CV_dtr = GridSearchCV(estimator = model_dtr, param_grid = param_grid_dtr, cv = 5, \n",
    "                                                  scoring = 'neg_mean_squared_error')\n",
    "CV_dtr.fit(features_train_ohe, target_train_ohe)\n",
    "\n",
    "print(\"Best param DTR\")\n",
    "print(CV_dtr.best_params_)\n",
    "\n",
    "model_dtr.set_params(**CV_dtr.best_params_)\n",
    "\n",
    "scores_dtr = np.array([])\n",
    "\n",
    "fold = KFold(n_splits = 5 , shuffle = True, random_state = 12345)\n",
    "\n",
    "scores_on_this_split = cross_val_score(\n",
    "            estimator = model_dtr , X = features_train_ohe, y = target_train_ohe,\n",
    "            cv = fold, scoring = 'neg_mean_squared_error')\n",
    "scores_dtr = np.append(scores_dtr, scores_on_this_split)\n",
    "\n",
    "t2 = datetime.datetime.now()\n",
    "\n",
    "time_dtr_cv = round((t2-t1).total_seconds(), 1)"
   ]
  },
  {
   "cell_type": "code",
   "execution_count": 65,
   "metadata": {},
   "outputs": [
    {
     "name": "stdout",
     "output_type": "stream",
     "text": [
      "[-1700190.22359725 -1721463.43510564 -1766730.56312231 -1716139.71278072\n",
      " -1747749.14063362]\n"
     ]
    }
   ],
   "source": [
    "print(scores_dtr)"
   ]
  },
  {
   "cell_type": "code",
   "execution_count": 66,
   "metadata": {},
   "outputs": [
    {
     "name": "stdout",
     "output_type": "stream",
     "text": [
      "RMSE DTR  1315.4674511548762\n"
     ]
    }
   ],
   "source": [
    "print('RMSE DTR ', (scores_dtr.mean() * -1) ** 0.5)"
   ]
  },
  {
   "cell_type": "markdown",
   "metadata": {},
   "source": [
    "**RandomForest**"
   ]
  },
  {
   "cell_type": "code",
   "execution_count": 67,
   "metadata": {},
   "outputs": [],
   "source": [
    "model_rfr = RandomForestRegressor(random_state = 12345)"
   ]
  },
  {
   "cell_type": "code",
   "execution_count": 68,
   "metadata": {},
   "outputs": [],
   "source": [
    "param_grid_rfr = { \n",
    "      'max_depth' : [4,5,6,7,8],\n",
    "    'n_estimators': [2, 3, 4, 5, 6, 7, 8, 9, 10, 11, 12, 13, 14, 15]\n",
    "}"
   ]
  },
  {
   "cell_type": "code",
   "execution_count": 69,
   "metadata": {},
   "outputs": [
    {
     "name": "stdout",
     "output_type": "stream",
     "text": [
      "Best param RFR\n",
      "{'max_depth': 8, 'n_estimators': 14}\n",
      "CPU times: user 29min 37s, sys: 53 s, total: 30min 30s\n",
      "Wall time: 30min 32s\n"
     ]
    }
   ],
   "source": [
    "%%time\n",
    "\n",
    "t1 = datetime.datetime.now()\n",
    "\n",
    "CV_rfr = GridSearchCV(estimator = model_rfr, param_grid = param_grid_rfr, cv = 5, \n",
    "                                                  scoring = 'neg_mean_squared_error')\n",
    "CV_rfr.fit(features_train_ohe, target_train_ohe)\n",
    "\n",
    "print(\"Best param RFR\")\n",
    "print(CV_rfr.best_params_)\n",
    "\n",
    "model_rfr.set_params(**CV_rfr.best_params_)\n",
    "\n",
    "scores_rfr = np.array([])\n",
    "\n",
    "fold = KFold(n_splits = 5 , shuffle = True, random_state = 12345)\n",
    "\n",
    "scores_on_this_split = cross_val_score(\n",
    "            estimator = model_rfr , X = features_train_ohe, y = target_train_ohe,\n",
    "            cv = fold, scoring = 'neg_mean_squared_error')\n",
    "scores_rfr = np.append(scores_rfr, scores_on_this_split)\n",
    "\n",
    "t2 = datetime.datetime.now()\n",
    "\n",
    "time_rfr_cv = round((t2-t1).total_seconds(), 1)"
   ]
  },
  {
   "cell_type": "code",
   "execution_count": 70,
   "metadata": {},
   "outputs": [
    {
     "name": "stdout",
     "output_type": "stream",
     "text": [
      "[-1923360.04949512 -1929462.58210522 -1984494.04771584 -1978100.82239479\n",
      " -1999216.24592083]\n"
     ]
    }
   ],
   "source": [
    "print(scores_rfr)"
   ]
  },
  {
   "cell_type": "code",
   "execution_count": 71,
   "metadata": {},
   "outputs": [
    {
     "name": "stdout",
     "output_type": "stream",
     "text": [
      "RMSE RFR  1401.0448777702873\n"
     ]
    }
   ],
   "source": [
    "print('RMSE RFR ', (scores_rfr.mean() * -1) ** 0.5)"
   ]
  },
  {
   "cell_type": "markdown",
   "metadata": {},
   "source": [
    "**CatBoost**\n",
    "  \n",
    "We just specify categorical features."
   ]
  },
  {
   "cell_type": "code",
   "execution_count": 72,
   "metadata": {},
   "outputs": [],
   "source": [
    "model_catbst = CatBoostRegressor(random_state = 12345, \n",
    "                                 verbose = False, \n",
    "                                 cat_features = ['VehicleType','FuelType','Brand','Model']) "
   ]
  },
  {
   "cell_type": "code",
   "execution_count": 73,
   "metadata": {},
   "outputs": [],
   "source": [
    "param_grid_catbst = {'learning_rate':[0.1, 0.5, 0.8]}"
   ]
  },
  {
   "cell_type": "code",
   "execution_count": 74,
   "metadata": {},
   "outputs": [
    {
     "name": "stdout",
     "output_type": "stream",
     "text": [
      "Best param Catbst\n",
      "{'learning_rate': 0.5}\n",
      "CPU times: user 58min 19s, sys: 1min 18s, total: 59min 37s\n",
      "Wall time: 6min 27s\n"
     ]
    }
   ],
   "source": [
    "%%time\n",
    "\n",
    "t1 = datetime.datetime.now()\n",
    "\n",
    "CV_catbst = GridSearchCV(estimator = model_catbst, param_grid = param_grid_catbst, cv = 5, \n",
    "                                                  scoring = 'neg_mean_squared_error')\n",
    "CV_catbst.fit(features_train, target_train)\n",
    "\n",
    "print(\"Best param Catbst\")\n",
    "print(CV_catbst.best_params_)\n",
    "\n",
    "model_catbst.set_params(**CV_catbst.best_params_)\n",
    "\n",
    "scores_catbst = np.array([])\n",
    "\n",
    "fold = KFold(n_splits = 5 , shuffle = True, random_state = 12345)\n",
    "\n",
    "scores_on_this_split = cross_val_score(\n",
    "            estimator = model_catbst , X = features_train, y = target_train,\n",
    "            cv = fold, scoring = 'neg_mean_squared_error')\n",
    "scores_catbst = np.append(scores_catbst, scores_on_this_split)\n",
    "\n",
    "t2 = datetime.datetime.now()\n",
    "\n",
    "time_catbst_cv = round((t2-t1).total_seconds(), 1)"
   ]
  },
  {
   "cell_type": "code",
   "execution_count": 75,
   "metadata": {},
   "outputs": [
    {
     "name": "stdout",
     "output_type": "stream",
     "text": [
      "[-1287385.20178524 -1306372.33570149 -1346522.96543903 -1320208.65042381\n",
      " -1324902.62065223]\n"
     ]
    }
   ],
   "source": [
    "print(scores_catbst)"
   ]
  },
  {
   "cell_type": "code",
   "execution_count": 76,
   "metadata": {},
   "outputs": [
    {
     "name": "stdout",
     "output_type": "stream",
     "text": [
      "RMSE Catbst  1147.640342093445\n"
     ]
    }
   ],
   "source": [
    "print('RMSE Catbst ', (scores_catbst.mean() * -1) ** 0.5)"
   ]
  },
  {
   "cell_type": "markdown",
   "metadata": {},
   "source": [
    "**LightGBM**"
   ]
  },
  {
   "cell_type": "code",
   "execution_count": 77,
   "metadata": {},
   "outputs": [
    {
     "data": {
      "text/html": [
       "<div>\n",
       "<style scoped>\n",
       "    .dataframe tbody tr th:only-of-type {\n",
       "        vertical-align: middle;\n",
       "    }\n",
       "\n",
       "    .dataframe tbody tr th {\n",
       "        vertical-align: top;\n",
       "    }\n",
       "\n",
       "    .dataframe thead th {\n",
       "        text-align: right;\n",
       "    }\n",
       "</style>\n",
       "<table border=\"1\" class=\"dataframe\">\n",
       "  <thead>\n",
       "    <tr style=\"text-align: right;\">\n",
       "      <th></th>\n",
       "      <th>VehicleType</th>\n",
       "      <th>FuelType</th>\n",
       "      <th>Brand</th>\n",
       "      <th>Model</th>\n",
       "    </tr>\n",
       "  </thead>\n",
       "  <tbody>\n",
       "    <tr>\n",
       "      <th>2</th>\n",
       "      <td>6.0</td>\n",
       "      <td>2.0</td>\n",
       "      <td>14.0</td>\n",
       "      <td>116.0</td>\n",
       "    </tr>\n",
       "    <tr>\n",
       "      <th>3</th>\n",
       "      <td>5.0</td>\n",
       "      <td>6.0</td>\n",
       "      <td>38.0</td>\n",
       "      <td>115.0</td>\n",
       "    </tr>\n",
       "    <tr>\n",
       "      <th>4</th>\n",
       "      <td>5.0</td>\n",
       "      <td>2.0</td>\n",
       "      <td>31.0</td>\n",
       "      <td>101.0</td>\n",
       "    </tr>\n",
       "  </tbody>\n",
       "</table>\n",
       "</div>"
      ],
      "text/plain": [
       "   VehicleType  FuelType  Brand  Model\n",
       "2          6.0       2.0   14.0  116.0\n",
       "3          5.0       6.0   38.0  115.0\n",
       "4          5.0       2.0   31.0  101.0"
      ]
     },
     "execution_count": 77,
     "metadata": {},
     "output_type": "execute_result"
    }
   ],
   "source": [
    "ordinal = OrdinalEncoder()\n",
    "\n",
    "cat_columns = ['VehicleType','FuelType','Brand','Model']\n",
    "cat_features = features[cat_columns]\n",
    "cat_features = pd.DataFrame(ordinal.fit_transform(cat_features),\n",
    "                                columns = cat_features.columns, \n",
    "                                index = cat_features.index)\n",
    "cat_features.head(3)"
   ]
  },
  {
   "cell_type": "code",
   "execution_count": 78,
   "metadata": {},
   "outputs": [],
   "source": [
    "features_ordinal = features.copy()\n",
    "\n",
    "for column in cat_columns:\n",
    "    features_ordinal[column] = cat_features[column]"
   ]
  },
  {
   "cell_type": "code",
   "execution_count": 79,
   "metadata": {},
   "outputs": [],
   "source": [
    "features_train_ordinal, features_test_ordinal, target_train_ordinal, target_test_ordinal = train_test_split(\n",
    "    features_ordinal, target, test_size = 0.25, random_state = 12345)"
   ]
  },
  {
   "cell_type": "code",
   "execution_count": 80,
   "metadata": {},
   "outputs": [
    {
     "data": {
      "text/html": [
       "<div>\n",
       "<style scoped>\n",
       "    .dataframe tbody tr th:only-of-type {\n",
       "        vertical-align: middle;\n",
       "    }\n",
       "\n",
       "    .dataframe tbody tr th {\n",
       "        vertical-align: top;\n",
       "    }\n",
       "\n",
       "    .dataframe thead th {\n",
       "        text-align: right;\n",
       "    }\n",
       "</style>\n",
       "<table border=\"1\" class=\"dataframe\">\n",
       "  <thead>\n",
       "    <tr style=\"text-align: right;\">\n",
       "      <th></th>\n",
       "      <th>VehicleType</th>\n",
       "      <th>RegistrationYear</th>\n",
       "      <th>Power</th>\n",
       "      <th>Model</th>\n",
       "      <th>Kilometer</th>\n",
       "      <th>FuelType</th>\n",
       "      <th>Brand</th>\n",
       "      <th>Repaired</th>\n",
       "      <th>Gerbox_auto</th>\n",
       "    </tr>\n",
       "  </thead>\n",
       "  <tbody>\n",
       "    <tr>\n",
       "      <th>92461</th>\n",
       "      <td>0.0</td>\n",
       "      <td>2009</td>\n",
       "      <td>136</td>\n",
       "      <td>57.0</td>\n",
       "      <td>150000</td>\n",
       "      <td>2.0</td>\n",
       "      <td>5.0</td>\n",
       "      <td>0</td>\n",
       "      <td>1</td>\n",
       "    </tr>\n",
       "    <tr>\n",
       "      <th>124892</th>\n",
       "      <td>1.0</td>\n",
       "      <td>2007</td>\n",
       "      <td>71</td>\n",
       "      <td>106.0</td>\n",
       "      <td>70000</td>\n",
       "      <td>6.0</td>\n",
       "      <td>32.0</td>\n",
       "      <td>0</td>\n",
       "      <td>1</td>\n",
       "    </tr>\n",
       "    <tr>\n",
       "      <th>275651</th>\n",
       "      <td>4.0</td>\n",
       "      <td>1998</td>\n",
       "      <td>75</td>\n",
       "      <td>42.0</td>\n",
       "      <td>150000</td>\n",
       "      <td>6.0</td>\n",
       "      <td>24.0</td>\n",
       "      <td>0</td>\n",
       "      <td>0</td>\n",
       "    </tr>\n",
       "  </tbody>\n",
       "</table>\n",
       "</div>"
      ],
      "text/plain": [
       "        VehicleType  RegistrationYear  Power  Model  Kilometer  FuelType  \\\n",
       "92461           0.0              2009    136   57.0     150000       2.0   \n",
       "124892          1.0              2007     71  106.0      70000       6.0   \n",
       "275651          4.0              1998     75   42.0     150000       6.0   \n",
       "\n",
       "        Brand  Repaired  Gerbox_auto  \n",
       "92461     5.0         0            1  \n",
       "124892   32.0         0            1  \n",
       "275651   24.0         0            0  "
      ]
     },
     "execution_count": 80,
     "metadata": {},
     "output_type": "execute_result"
    }
   ],
   "source": [
    "features_train_ordinal.head(3)"
   ]
  },
  {
   "cell_type": "code",
   "execution_count": 81,
   "metadata": {},
   "outputs": [],
   "source": [
    "model_lgbm = LGBMRegressor(random_state = 12345)"
   ]
  },
  {
   "cell_type": "code",
   "execution_count": 82,
   "metadata": {},
   "outputs": [],
   "source": [
    "param_grid_lgbm = {'num_leaves':[20, 100, 200], \n",
    "                    'learning_rate':[0.1, 0.3, 0.5]}"
   ]
  },
  {
   "cell_type": "code",
   "execution_count": 83,
   "metadata": {},
   "outputs": [
    {
     "name": "stdout",
     "output_type": "stream",
     "text": [
      "Best param LightGBM\n",
      "{'learning_rate': 0.1, 'num_leaves': 200}\n",
      "CPU times: user 5min 42s, sys: 9.76 s, total: 5min 52s\n",
      "Wall time: 31.7 s\n"
     ]
    }
   ],
   "source": [
    "%%time\n",
    "\n",
    "t1 = datetime.datetime.now()\n",
    "\n",
    "CV_lgbm = GridSearchCV(estimator = model_lgbm, param_grid = param_grid_lgbm, cv = 5, \n",
    "                                                  scoring = 'neg_mean_squared_error')\n",
    "CV_lgbm.fit(features_train_ordinal, target_train_ordinal)\n",
    "\n",
    "print(\"Best param LightGBM\")\n",
    "print(CV_lgbm.best_params_)\n",
    "\n",
    "model_lgbm.set_params(**CV_lgbm.best_params_)\n",
    "\n",
    "\n",
    "scores_lgbm = np.array([])\n",
    "\n",
    "fold = KFold(n_splits = 5 , shuffle = True, random_state = 12345)\n",
    "\n",
    "scores_on_this_split = cross_val_score(\n",
    "            estimator = model_lgbm , X = features_train_ordinal, y = target_train_ordinal,\n",
    "            cv = fold, scoring = 'neg_mean_squared_error')\n",
    "scores_lgbm = np.append(scores_lgbm, scores_on_this_split)\n",
    "\n",
    "t2 = datetime.datetime.now()\n",
    "\n",
    "time_lgbm_cv = round((t2-t1).total_seconds(), 1)"
   ]
  },
  {
   "cell_type": "code",
   "execution_count": 84,
   "metadata": {},
   "outputs": [
    {
     "name": "stdout",
     "output_type": "stream",
     "text": [
      "[-1268737.88385663 -1280399.89937318 -1312865.48039423 -1301643.55107345\n",
      " -1299849.46457104]\n"
     ]
    }
   ],
   "source": [
    "print(scores_lgbm)"
   ]
  },
  {
   "cell_type": "code",
   "execution_count": 85,
   "metadata": {},
   "outputs": [
    {
     "name": "stdout",
     "output_type": "stream",
     "text": [
      "RMSE LightGBM  1136.9693293372984\n"
     ]
    }
   ],
   "source": [
    "print('RMSE LightGBM ', (scores_lgbm.mean() * -1) ** 0.5)"
   ]
  },
  {
   "cell_type": "markdown",
   "metadata": {},
   "source": [
    "**Output**\n",
    "\n",
    "- in this paragraph, we have divided the data into test and training samples\n",
    "- did OHE coding of categorical variables and scaling of features\n",
    "    - trained 5 different models to solve our business problem:\n",
    "    - clearly identified the training task, target attribute and target metric of model quality\n",
    "    - selected hyperparameters that give maximum quality on test data\n",
    "    - checked the quality of models on cross-validation\n",
    "\n",
    "In the next chapter we will make a prediction on the train, check the final metric for the train and evaluate the models more comprehensively."
   ]
  },
  {
   "cell_type": "markdown",
   "metadata": {},
   "source": [
    "## Model analysis"
   ]
  },
  {
   "cell_type": "markdown",
   "metadata": {},
   "source": [
    "Now let's move on to training on test data and the final evaluation of our models"
   ]
  },
  {
   "cell_type": "markdown",
   "metadata": {},
   "source": [
    "**LinearRegression**"
   ]
  },
  {
   "cell_type": "code",
   "execution_count": 86,
   "metadata": {},
   "outputs": [
    {
     "name": "stdout",
     "output_type": "stream",
     "text": [
      "CPU times: user 13 s, sys: 972 ms, total: 14 s\n",
      "Wall time: 2.86 s\n"
     ]
    }
   ],
   "source": [
    "%%time\n",
    "\n",
    "t1 = datetime.datetime.now()\n",
    "\n",
    "model_lr.fit(features_train_ohe, target_train_ohe)\n",
    "\n",
    "t2 = datetime.datetime.now()\n",
    "\n",
    "time_lr_fit = round((t2-t1).total_seconds(), 1)"
   ]
  },
  {
   "cell_type": "code",
   "execution_count": 87,
   "metadata": {},
   "outputs": [
    {
     "name": "stdout",
     "output_type": "stream",
     "text": [
      "CPU times: user 457 ms, sys: 147 ms, total: 603 ms\n",
      "Wall time: 144 ms\n"
     ]
    }
   ],
   "source": [
    "%%time\n",
    "\n",
    "t1 = datetime.datetime.now()\n",
    "\n",
    "predicted_target_test_lr = model_lr.predict(features_test_ohe)\n",
    "\n",
    "t2 = datetime.datetime.now()\n",
    "\n",
    "time_lr_prd = round((t2-t1).total_seconds(), 1)"
   ]
  },
  {
   "cell_type": "code",
   "execution_count": 88,
   "metadata": {},
   "outputs": [
    {
     "data": {
      "text/plain": [
       "1676.718065401536"
      ]
     },
     "execution_count": 88,
     "metadata": {},
     "output_type": "execute_result"
    }
   ],
   "source": [
    "lr_rmse_test = mean_squared_error(target_test_ohe, predicted_target_test_lr) ** 0.5\n",
    "lr_rmse_test"
   ]
  },
  {
   "cell_type": "markdown",
   "metadata": {},
   "source": [
    "**DecisionTree**"
   ]
  },
  {
   "cell_type": "code",
   "execution_count": 89,
   "metadata": {},
   "outputs": [
    {
     "name": "stdout",
     "output_type": "stream",
     "text": [
      "CPU times: user 2.67 s, sys: 224 ms, total: 2.9 s\n",
      "Wall time: 2.47 s\n"
     ]
    }
   ],
   "source": [
    "%%time\n",
    "\n",
    "t1 = datetime.datetime.now()\n",
    "\n",
    "model_dtr.fit(features_train_ohe, target_train_ohe)\n",
    "\n",
    "t2 = datetime.datetime.now()\n",
    "\n",
    "time_dtr_fit = round((t2-t1).total_seconds(), 1)"
   ]
  },
  {
   "cell_type": "code",
   "execution_count": 90,
   "metadata": {},
   "outputs": [
    {
     "name": "stdout",
     "output_type": "stream",
     "text": [
      "CPU times: user 54.7 ms, sys: 25.3 ms, total: 80 ms\n",
      "Wall time: 78.7 ms\n"
     ]
    }
   ],
   "source": [
    "%%time\n",
    "\n",
    "t1 = datetime.datetime.now()\n",
    "\n",
    "predicted_target_test_dtr = model_dtr.predict(features_test_ohe)\n",
    "\n",
    "t2 = datetime.datetime.now()\n",
    "\n",
    "time_dtr_prd = round((t2-t1).total_seconds(), 1)"
   ]
  },
  {
   "cell_type": "code",
   "execution_count": 91,
   "metadata": {},
   "outputs": [
    {
     "data": {
      "text/plain": [
       "1312.6412313885094"
      ]
     },
     "execution_count": 91,
     "metadata": {},
     "output_type": "execute_result"
    }
   ],
   "source": [
    "dtr_rmse_test = mean_squared_error(target_test_ohe, predicted_target_test_dtr) ** 0.5\n",
    "dtr_rmse_test"
   ]
  },
  {
   "cell_type": "markdown",
   "metadata": {},
   "source": [
    "**RandomForest**"
   ]
  },
  {
   "cell_type": "code",
   "execution_count": 92,
   "metadata": {},
   "outputs": [
    {
     "name": "stdout",
     "output_type": "stream",
     "text": [
      "CPU times: user 13.1 s, sys: 151 ms, total: 13.3 s\n",
      "Wall time: 13.3 s\n"
     ]
    }
   ],
   "source": [
    "%%time\n",
    "\n",
    "t1 = datetime.datetime.now()\n",
    "\n",
    "model_rfr.fit(features_train_ohe, target_train_ohe)\n",
    "\n",
    "t2 = datetime.datetime.now()\n",
    "\n",
    "time_rfr_fit = round((t2-t1).total_seconds(), 1)"
   ]
  },
  {
   "cell_type": "code",
   "execution_count": 93,
   "metadata": {},
   "outputs": [
    {
     "name": "stdout",
     "output_type": "stream",
     "text": [
      "CPU times: user 90.3 ms, sys: 12.1 ms, total: 102 ms\n",
      "Wall time: 101 ms\n"
     ]
    }
   ],
   "source": [
    "%%time\n",
    "\n",
    "t1 = datetime.datetime.now()\n",
    "\n",
    "predicted_target_test_rfr = model_rfr.predict(features_test_ohe)\n",
    "\n",
    "t2 = datetime.datetime.now()\n",
    "\n",
    "time_rfr_prd = round((t2-t1).total_seconds(), 1)"
   ]
  },
  {
   "cell_type": "code",
   "execution_count": 94,
   "metadata": {},
   "outputs": [
    {
     "data": {
      "text/plain": [
       "1411.2730804505986"
      ]
     },
     "execution_count": 94,
     "metadata": {},
     "output_type": "execute_result"
    }
   ],
   "source": [
    "rfr_rmse_test = mean_squared_error(target_test_ohe, predicted_target_test_rfr) ** 0.5\n",
    "rfr_rmse_test"
   ]
  },
  {
   "cell_type": "markdown",
   "metadata": {},
   "source": [
    "**CatBoost**"
   ]
  },
  {
   "cell_type": "code",
   "execution_count": 95,
   "metadata": {},
   "outputs": [
    {
     "name": "stdout",
     "output_type": "stream",
     "text": [
      "CPU times: user 3min 12s, sys: 3.61 s, total: 3min 15s\n",
      "Wall time: 20.8 s\n"
     ]
    }
   ],
   "source": [
    "%%time\n",
    "\n",
    "t1 = datetime.datetime.now()\n",
    "\n",
    "model_catbst.fit(features_train, target_train)\n",
    "\n",
    "t2 = datetime.datetime.now()\n",
    "\n",
    "time_catbst_fit = round((t2-t1).total_seconds(), 1)"
   ]
  },
  {
   "cell_type": "code",
   "execution_count": 96,
   "metadata": {},
   "outputs": [
    {
     "name": "stdout",
     "output_type": "stream",
     "text": [
      "CPU times: user 740 ms, sys: 23.5 ms, total: 764 ms\n",
      "Wall time: 106 ms\n"
     ]
    }
   ],
   "source": [
    "%%time\n",
    "\n",
    "t1 = datetime.datetime.now()\n",
    "\n",
    "predicted_target_test_catbst = model_catbst.predict(features_test)\n",
    "\n",
    "t2 = datetime.datetime.now()\n",
    "\n",
    "time_catbst_prd = round((t2-t1).total_seconds(), 1)"
   ]
  },
  {
   "cell_type": "code",
   "execution_count": 97,
   "metadata": {},
   "outputs": [
    {
     "data": {
      "text/plain": [
       "1148.4843154833134"
      ]
     },
     "execution_count": 97,
     "metadata": {},
     "output_type": "execute_result"
    }
   ],
   "source": [
    "catbst_rmse_test = mean_squared_error(target_test, predicted_target_test_catbst) ** 0.5\n",
    "catbst_rmse_test"
   ]
  },
  {
   "cell_type": "markdown",
   "metadata": {},
   "source": [
    "**LightGBM**"
   ]
  },
  {
   "cell_type": "code",
   "execution_count": 98,
   "metadata": {},
   "outputs": [
    {
     "name": "stdout",
     "output_type": "stream",
     "text": [
      "CPU times: user 9.43 s, sys: 216 ms, total: 9.65 s\n",
      "Wall time: 905 ms\n"
     ]
    }
   ],
   "source": [
    "%%time\n",
    "\n",
    "t1 = datetime.datetime.now()\n",
    "\n",
    "model_lgbm.fit(features_train_ordinal, target_train_ordinal)\n",
    "\n",
    "t2 = datetime.datetime.now()\n",
    "\n",
    "time_lgbm_fit = round((t2-t1).total_seconds(), 1)"
   ]
  },
  {
   "cell_type": "code",
   "execution_count": 99,
   "metadata": {},
   "outputs": [
    {
     "name": "stdout",
     "output_type": "stream",
     "text": [
      "CPU times: user 935 ms, sys: 11.7 ms, total: 947 ms\n",
      "Wall time: 89.1 ms\n"
     ]
    }
   ],
   "source": [
    "%%time\n",
    "\n",
    "t1 = datetime.datetime.now()\n",
    "\n",
    "predicted_target_test_lgbm = model_lgbm.predict(features_test_ordinal)\n",
    "\n",
    "t2 = datetime.datetime.now()\n",
    "\n",
    "time_lgbm_prd = round((t2-t1).total_seconds(), 1)"
   ]
  },
  {
   "cell_type": "code",
   "execution_count": 100,
   "metadata": {},
   "outputs": [
    {
     "data": {
      "text/plain": [
       "1137.741228862699"
      ]
     },
     "execution_count": 100,
     "metadata": {},
     "output_type": "execute_result"
    }
   ],
   "source": [
    "lgbm_rmse_test = mean_squared_error(target_test_ordinal, predicted_target_test_lgbm) ** 0.5\n",
    "lgbm_rmse_test"
   ]
  },
  {
   "cell_type": "markdown",
   "metadata": {},
   "source": [
    "**Put in all the data in the general table**"
   ]
  },
  {
   "cell_type": "code",
   "execution_count": 101,
   "metadata": {},
   "outputs": [],
   "source": [
    "index = ['LinearRegression',\n",
    "         'DecisionTreeRegressor OHE',\n",
    "         'RandomForestRegressor OHE',\n",
    "         'CatBoostRegressor original',\n",
    "         'LGBMRegressor ordinal']\n",
    "\n",
    "data = {'RMSE on CV, EUR':[(scores_lr.mean() * -1) ** 0.5, (scores_dtr.mean() * -1) ** 0.5,\n",
    "                           (scores_rfr.mean() * -1) ** 0.5, (scores_catbst.mean() * -1) ** 0.5, \n",
    "                           (scores_lgbm.mean() * -1) ** 0.5],\n",
    "                           \n",
    "        'CV training time, sec':[time_lr_cv, time_dtr_cv, time_rfr_cv, \n",
    "                                                 time_catbst_cv, time_lgbm_cv],\n",
    "       \n",
    "        'RMSE on test, EUR':[lr_rmse_test, dtr_rmse_test, rfr_rmse_test, \n",
    "                                                 catbst_rmse_test, lgbm_rmse_test],\n",
    "        \n",
    "        'training time, sec':[time_lr_fit, time_dtr_fit, time_rfr_fit, \n",
    "                                                 time_catbst_fit, time_lgbm_fit],\n",
    "        \n",
    "        'prediction time, sec':[time_lr_prd, time_dtr_prd, time_rfr_prd, \n",
    "                                                 time_catbst_prd, time_lgbm_prd]}\n",
    "\n",
    "models_result = pd.DataFrame(data=data, index=index)"
   ]
  },
  {
   "cell_type": "code",
   "execution_count": 102,
   "metadata": {
    "scrolled": true
   },
   "outputs": [
    {
     "data": {
      "text/html": [
       "<div>\n",
       "<style scoped>\n",
       "    .dataframe tbody tr th:only-of-type {\n",
       "        vertical-align: middle;\n",
       "    }\n",
       "\n",
       "    .dataframe tbody tr th {\n",
       "        vertical-align: top;\n",
       "    }\n",
       "\n",
       "    .dataframe thead th {\n",
       "        text-align: right;\n",
       "    }\n",
       "</style>\n",
       "<table border=\"1\" class=\"dataframe\">\n",
       "  <thead>\n",
       "    <tr style=\"text-align: right;\">\n",
       "      <th></th>\n",
       "      <th>RMSE on CV, EUR</th>\n",
       "      <th>CV training time, sec</th>\n",
       "      <th>RMSE on test, EUR</th>\n",
       "      <th>training time, sec</th>\n",
       "      <th>prediction time, sec</th>\n",
       "    </tr>\n",
       "  </thead>\n",
       "  <tbody>\n",
       "    <tr>\n",
       "      <th>LinearRegression</th>\n",
       "      <td>1685.242794</td>\n",
       "      <td>12.2</td>\n",
       "      <td>1676.718065</td>\n",
       "      <td>2.9</td>\n",
       "      <td>0.1</td>\n",
       "    </tr>\n",
       "    <tr>\n",
       "      <th>DecisionTreeRegressor OHE</th>\n",
       "      <td>1315.467451</td>\n",
       "      <td>119.1</td>\n",
       "      <td>1312.641231</td>\n",
       "      <td>2.5</td>\n",
       "      <td>0.1</td>\n",
       "    </tr>\n",
       "    <tr>\n",
       "      <th>RandomForestRegressor OHE</th>\n",
       "      <td>1401.044878</td>\n",
       "      <td>1832.8</td>\n",
       "      <td>1411.273080</td>\n",
       "      <td>13.3</td>\n",
       "      <td>0.1</td>\n",
       "    </tr>\n",
       "    <tr>\n",
       "      <th>CatBoostRegressor original</th>\n",
       "      <td>1147.640342</td>\n",
       "      <td>387.3</td>\n",
       "      <td>1148.484315</td>\n",
       "      <td>20.8</td>\n",
       "      <td>0.1</td>\n",
       "    </tr>\n",
       "    <tr>\n",
       "      <th>LGBMRegressor ordinal</th>\n",
       "      <td>1136.969329</td>\n",
       "      <td>31.7</td>\n",
       "      <td>1137.741229</td>\n",
       "      <td>0.9</td>\n",
       "      <td>0.1</td>\n",
       "    </tr>\n",
       "  </tbody>\n",
       "</table>\n",
       "</div>"
      ],
      "text/plain": [
       "                            RMSE on CV, EUR  CV training time, sec  \\\n",
       "LinearRegression                1685.242794                   12.2   \n",
       "DecisionTreeRegressor OHE       1315.467451                  119.1   \n",
       "RandomForestRegressor OHE       1401.044878                 1832.8   \n",
       "CatBoostRegressor original      1147.640342                  387.3   \n",
       "LGBMRegressor ordinal           1136.969329                   31.7   \n",
       "\n",
       "                            RMSE on test, EUR  training time, sec  \\\n",
       "LinearRegression                  1676.718065                 2.9   \n",
       "DecisionTreeRegressor OHE         1312.641231                 2.5   \n",
       "RandomForestRegressor OHE         1411.273080                13.3   \n",
       "CatBoostRegressor original        1148.484315                20.8   \n",
       "LGBMRegressor ordinal             1137.741229                 0.9   \n",
       "\n",
       "                            prediction time, sec  \n",
       "LinearRegression                             0.1  \n",
       "DecisionTreeRegressor OHE                    0.1  \n",
       "RandomForestRegressor OHE                    0.1  \n",
       "CatBoostRegressor original                   0.1  \n",
       "LGBMRegressor ordinal                        0.1  "
      ]
     },
     "execution_count": 102,
     "metadata": {},
     "output_type": "execute_result"
    }
   ],
   "source": [
    "models_result"
   ]
  },
  {
   "cell_type": "markdown",
   "metadata": {},
   "source": [
    "**Choosing the optimal model**\n",
    "\n",
    "It turned out at first glance a strange result:\n",
    "\n",
    "- longest training time with the ***RandomForestRegressor***\n",
    "- at the same time, ***LGBMRegressor*** has the best result both in terms of accuracy and calculation time (the speed is significantly higher than ***CatBoostRegressor***)\n",
    "- it is worth noting that for the ***CatBoostRegressor*** model, no additional data manipulation was performed (transcoding, scaling and other) - the model works with categorical features \"out of the box\"\n",
    "- **LinearRegression** has the worst result, while it is the fastest - it can be used to build a baseline (but again, preprocessing of categorical variables is required)"
   ]
  },
  {
   "cell_type": "markdown",
   "metadata": {},
   "source": [
    "**General conclusion**\n",
    "\n",
    "- in this project, models were built to predict the cost of the car\n",
    "- - the first stage was a review, the distribution and anomaly in the data were studied\n",
    "- after which the preprocessing was performed, which included:\n",
    "    - selection of only those indicators that will participate in the training of the model\n",
    "- recoding of variables\n",
    "- filling the missing data\n",
    "- removing of obvious duplicates\n",
    "- combating abnormal outliers in quantitative variables\n",
    "- then 5 models were trained (regression, decision tree, random forest, CatBoost, LightGBM)\n",
    "    - optimal hyperparameters were selected to increase the target metric - RMSE\n",
    "- the result of the work is the selection of the optimal model based on accuracy, training time and prediction time"
   ]
  }
 ],
 "metadata": {
  "ExecuteTimeLog": [
   {
    "duration": 3260,
    "start_time": "2022-04-24T14:04:44.694Z"
   },
   {
    "duration": 1612,
    "start_time": "2022-04-24T14:09:00.473Z"
   },
   {
    "duration": 274,
    "start_time": "2022-04-24T14:09:13.971Z"
   },
   {
    "duration": 236,
    "start_time": "2022-04-24T14:09:45.121Z"
   },
   {
    "duration": 433,
    "start_time": "2022-04-24T14:11:11.452Z"
   },
   {
    "duration": 137,
    "start_time": "2022-04-24T14:12:43.468Z"
   },
   {
    "duration": 848,
    "start_time": "2022-04-24T14:13:13.688Z"
   },
   {
    "duration": 991,
    "start_time": "2022-04-24T14:13:41.659Z"
   },
   {
    "duration": 1032,
    "start_time": "2022-04-24T14:13:53.649Z"
   },
   {
    "duration": 103,
    "start_time": "2022-04-24T14:15:04.128Z"
   },
   {
    "duration": 735,
    "start_time": "2022-04-24T14:15:07.198Z"
   },
   {
    "duration": 1199,
    "start_time": "2022-04-24T14:19:24.743Z"
   },
   {
    "duration": 6,
    "start_time": "2022-04-24T14:19:38.823Z"
   },
   {
    "duration": 884,
    "start_time": "2022-04-24T14:20:43.422Z"
   },
   {
    "duration": 1181,
    "start_time": "2022-04-24T14:21:17.638Z"
   },
   {
    "duration": 827,
    "start_time": "2022-04-24T14:22:50.523Z"
   },
   {
    "duration": 508,
    "start_time": "2022-04-24T14:23:01.433Z"
   },
   {
    "duration": 288,
    "start_time": "2022-04-24T14:23:09.127Z"
   },
   {
    "duration": 36487,
    "start_time": "2022-04-24T14:25:25.933Z"
   },
   {
    "duration": 1,
    "start_time": "2022-04-24T14:28:37.067Z"
   },
   {
    "duration": 2861,
    "start_time": "2022-04-24T14:30:04.115Z"
   },
   {
    "duration": 0,
    "start_time": "2022-04-24T14:31:19.245Z"
   },
   {
    "duration": 323,
    "start_time": "2022-04-24T14:32:07.005Z"
   },
   {
    "duration": 65274,
    "start_time": "2022-04-24T14:32:27.847Z"
   },
   {
    "duration": 13143,
    "start_time": "2022-04-24T14:33:59.203Z"
   },
   {
    "duration": 0,
    "start_time": "2022-04-24T14:37:50.337Z"
   },
   {
    "duration": 1170,
    "start_time": "2022-04-24T14:38:03.637Z"
   },
   {
    "duration": 3597,
    "start_time": "2022-04-24T14:38:08.955Z"
   },
   {
    "duration": 2855,
    "start_time": "2022-04-24T14:38:28.791Z"
   },
   {
    "duration": 3351,
    "start_time": "2022-04-24T14:38:44.892Z"
   },
   {
    "duration": 2120,
    "start_time": "2022-04-24T14:39:04.064Z"
   },
   {
    "duration": 1932,
    "start_time": "2022-04-24T14:39:22.067Z"
   },
   {
    "duration": 2724,
    "start_time": "2022-04-24T14:39:27.812Z"
   },
   {
    "duration": 3155,
    "start_time": "2022-04-24T14:40:22.472Z"
   },
   {
    "duration": 4538,
    "start_time": "2022-04-24T14:40:46.374Z"
   },
   {
    "duration": 148,
    "start_time": "2022-04-24T14:43:44.577Z"
   },
   {
    "duration": 152,
    "start_time": "2022-04-24T14:43:59.073Z"
   },
   {
    "duration": 3953,
    "start_time": "2022-04-24T14:44:16.156Z"
   },
   {
    "duration": 1077,
    "start_time": "2022-04-24T14:49:22.825Z"
   },
   {
    "duration": 64,
    "start_time": "2022-04-24T14:50:06.152Z"
   },
   {
    "duration": 246,
    "start_time": "2022-04-24T14:50:31.517Z"
   },
   {
    "duration": 191,
    "start_time": "2022-04-24T14:51:23.985Z"
   },
   {
    "duration": 171,
    "start_time": "2022-04-24T14:51:29.883Z"
   },
   {
    "duration": 144,
    "start_time": "2022-04-24T14:51:39.624Z"
   },
   {
    "duration": 14,
    "start_time": "2022-04-24T14:51:56.744Z"
   },
   {
    "duration": 1323,
    "start_time": "2022-04-24T14:52:03.128Z"
   },
   {
    "duration": 4267,
    "start_time": "2022-04-24T14:52:07.851Z"
   },
   {
    "duration": 2481,
    "start_time": "2022-04-24T14:52:55.554Z"
   },
   {
    "duration": 23,
    "start_time": "2022-04-24T14:53:37.318Z"
   },
   {
    "duration": 12,
    "start_time": "2022-04-24T14:53:59.038Z"
   },
   {
    "duration": 6,
    "start_time": "2022-04-24T14:54:06.016Z"
   },
   {
    "duration": 6,
    "start_time": "2022-04-24T14:54:24.900Z"
   },
   {
    "duration": 1242,
    "start_time": "2022-04-24T14:54:29.458Z"
   },
   {
    "duration": 10,
    "start_time": "2022-04-24T14:54:33.638Z"
   },
   {
    "duration": 2818,
    "start_time": "2022-04-24T14:55:01.311Z"
   },
   {
    "duration": 7,
    "start_time": "2022-04-24T14:55:15.138Z"
   },
   {
    "duration": 1327,
    "start_time": "2022-04-24T14:55:19.619Z"
   },
   {
    "duration": 8,
    "start_time": "2022-04-24T14:56:52.578Z"
   },
   {
    "duration": 1768,
    "start_time": "2022-04-24T14:57:01.970Z"
   },
   {
    "duration": 1207,
    "start_time": "2022-04-24T14:57:17.050Z"
   },
   {
    "duration": 1159,
    "start_time": "2022-04-24T15:00:19.322Z"
   },
   {
    "duration": 8,
    "start_time": "2022-04-24T15:00:23.202Z"
   },
   {
    "duration": 11,
    "start_time": "2022-04-24T15:00:34.993Z"
   },
   {
    "duration": 797,
    "start_time": "2022-04-24T15:00:40.672Z"
   },
   {
    "duration": 9,
    "start_time": "2022-04-24T15:00:45.782Z"
   },
   {
    "duration": 9,
    "start_time": "2022-04-24T15:00:48.902Z"
   },
   {
    "duration": 1222,
    "start_time": "2022-04-24T15:00:54.153Z"
   },
   {
    "duration": 2008,
    "start_time": "2022-04-24T15:00:57.893Z"
   },
   {
    "duration": 107,
    "start_time": "2022-04-24T15:01:13.632Z"
   },
   {
    "duration": 1715,
    "start_time": "2022-04-24T15:01:18.412Z"
   },
   {
    "duration": 818,
    "start_time": "2022-04-24T15:01:24.902Z"
   },
   {
    "duration": 380,
    "start_time": "2022-04-24T15:01:34.322Z"
   },
   {
    "duration": 818,
    "start_time": "2022-04-24T15:02:47.769Z"
   },
   {
    "duration": 446,
    "start_time": "2022-04-24T15:02:51.009Z"
   },
   {
    "duration": 834,
    "start_time": "2022-04-24T15:03:06.608Z"
   },
   {
    "duration": 2854,
    "start_time": "2022-04-24T15:03:12.579Z"
   },
   {
    "duration": 2431,
    "start_time": "2022-04-24T15:03:40.549Z"
   },
   {
    "duration": 841,
    "start_time": "2022-04-24T15:03:51.179Z"
   },
   {
    "duration": 3656,
    "start_time": "2022-04-24T15:03:53.269Z"
   },
   {
    "duration": 12,
    "start_time": "2022-04-24T15:04:51.228Z"
   },
   {
    "duration": 925,
    "start_time": "2022-04-24T15:04:59.768Z"
   },
   {
    "duration": 8,
    "start_time": "2022-04-24T15:05:00.696Z"
   },
   {
    "duration": 8,
    "start_time": "2022-04-24T15:05:03.549Z"
   },
   {
    "duration": 11,
    "start_time": "2022-04-24T15:05:05.859Z"
   },
   {
    "duration": 3716,
    "start_time": "2022-04-24T15:05:21.469Z"
   },
   {
    "duration": 510,
    "start_time": "2022-04-24T15:06:39.999Z"
   },
   {
    "duration": 2741,
    "start_time": "2022-04-24T15:06:49.248Z"
   },
   {
    "duration": 73657,
    "start_time": "2022-04-24T15:07:13.181Z"
   },
   {
    "duration": 26,
    "start_time": "2022-04-24T15:09:31.858Z"
   },
   {
    "duration": 15,
    "start_time": "2022-04-24T15:09:53.361Z"
   },
   {
    "duration": 71,
    "start_time": "2022-04-24T15:10:04.359Z"
   },
   {
    "duration": 6408,
    "start_time": "2022-04-24T15:11:07.088Z"
   },
   {
    "duration": 4988,
    "start_time": "2022-04-24T15:13:15.760Z"
   },
   {
    "duration": 20,
    "start_time": "2022-04-24T18:00:01.514Z"
   },
   {
    "duration": 957,
    "start_time": "2022-04-24T18:00:01.536Z"
   },
   {
    "duration": 145,
    "start_time": "2022-04-24T18:00:02.495Z"
   },
   {
    "duration": 112,
    "start_time": "2022-04-24T18:00:02.642Z"
   },
   {
    "duration": 435,
    "start_time": "2022-04-24T18:00:02.755Z"
   },
   {
    "duration": 439,
    "start_time": "2022-04-24T18:00:03.192Z"
   },
   {
    "duration": 463,
    "start_time": "2022-04-24T18:00:03.633Z"
   },
   {
    "duration": 211,
    "start_time": "2022-04-24T18:00:04.098Z"
   },
   {
    "duration": 618,
    "start_time": "2022-04-24T18:00:04.311Z"
   },
   {
    "duration": 227,
    "start_time": "2022-04-24T18:00:09.793Z"
   },
   {
    "duration": 1759,
    "start_time": "2022-04-24T18:00:40.926Z"
   },
   {
    "duration": 1443,
    "start_time": "2022-04-24T18:28:26.782Z"
   },
   {
    "duration": 2831,
    "start_time": "2022-04-24T18:28:47.721Z"
   },
   {
    "duration": 458,
    "start_time": "2022-04-24T18:28:57.342Z"
   },
   {
    "duration": 0,
    "start_time": "2022-04-24T18:30:00.153Z"
   },
   {
    "duration": 0,
    "start_time": "2022-04-24T18:30:00.154Z"
   },
   {
    "duration": 4,
    "start_time": "2022-04-24T18:30:19.441Z"
   },
   {
    "duration": 368,
    "start_time": "2022-04-24T18:30:21.295Z"
   },
   {
    "duration": 15158,
    "start_time": "2022-04-24T18:30:52.988Z"
   },
   {
    "duration": 2859,
    "start_time": "2022-04-24T18:31:30.636Z"
   },
   {
    "duration": 5,
    "start_time": "2022-04-24T18:41:56.653Z"
   },
   {
    "duration": 9,
    "start_time": "2022-04-24T18:42:11.482Z"
   },
   {
    "duration": 4,
    "start_time": "2022-04-24T18:42:14.437Z"
   },
   {
    "duration": 5,
    "start_time": "2022-04-24T18:42:19.813Z"
   },
   {
    "duration": 4,
    "start_time": "2022-04-24T18:42:25.142Z"
   },
   {
    "duration": 168,
    "start_time": "2022-04-24T18:43:06.183Z"
   },
   {
    "duration": 93,
    "start_time": "2022-04-24T18:43:11.397Z"
   },
   {
    "duration": 94,
    "start_time": "2022-04-24T18:44:52.284Z"
   },
   {
    "duration": 4,
    "start_time": "2022-04-24T18:44:58.764Z"
   },
   {
    "duration": 4,
    "start_time": "2022-04-24T18:46:33.743Z"
   },
   {
    "duration": 96,
    "start_time": "2022-04-24T18:46:43.769Z"
   },
   {
    "duration": 95,
    "start_time": "2022-04-24T18:46:49.628Z"
   },
   {
    "duration": 103,
    "start_time": "2022-04-24T18:47:01.627Z"
   },
   {
    "duration": 600,
    "start_time": "2022-04-24T18:47:45.737Z"
   },
   {
    "duration": 13,
    "start_time": "2022-04-24T18:48:08.338Z"
   },
   {
    "duration": 9,
    "start_time": "2022-04-24T18:48:35.377Z"
   },
   {
    "duration": 5,
    "start_time": "2022-04-24T18:48:43.982Z"
   },
   {
    "duration": 5,
    "start_time": "2022-04-24T18:48:53.391Z"
   },
   {
    "duration": 9,
    "start_time": "2022-04-24T18:49:03.914Z"
   },
   {
    "duration": 11,
    "start_time": "2022-04-24T18:49:18.563Z"
   },
   {
    "duration": 6,
    "start_time": "2022-04-24T18:49:23.186Z"
   },
   {
    "duration": 4,
    "start_time": "2022-04-24T18:49:51.675Z"
   },
   {
    "duration": 7,
    "start_time": "2022-04-24T18:50:04.254Z"
   },
   {
    "duration": 14,
    "start_time": "2022-04-24T18:50:41.214Z"
   },
   {
    "duration": 169,
    "start_time": "2022-04-24T18:50:43.319Z"
   },
   {
    "duration": 13,
    "start_time": "2022-04-24T18:50:43.775Z"
   },
   {
    "duration": 589,
    "start_time": "2022-04-24T18:50:54.939Z"
   },
   {
    "duration": 236,
    "start_time": "2022-04-24T18:50:55.530Z"
   },
   {
    "duration": 219,
    "start_time": "2022-04-24T18:55:56.997Z"
   },
   {
    "duration": 300,
    "start_time": "2022-04-24T19:00:30.501Z"
   },
   {
    "duration": 21,
    "start_time": "2022-04-24T19:01:31.736Z"
   },
   {
    "duration": 4,
    "start_time": "2022-04-24T19:01:58.403Z"
   },
   {
    "duration": 239,
    "start_time": "2022-04-24T19:02:10.610Z"
   },
   {
    "duration": 372,
    "start_time": "2022-04-24T19:03:07.549Z"
   },
   {
    "duration": 383,
    "start_time": "2022-04-24T19:03:19.914Z"
   },
   {
    "duration": 426,
    "start_time": "2022-04-24T19:04:09.828Z"
   },
   {
    "duration": 2570,
    "start_time": "2022-04-24T19:07:19.449Z"
   },
   {
    "duration": 430,
    "start_time": "2022-04-24T19:07:30.040Z"
   },
   {
    "duration": 500,
    "start_time": "2022-04-24T19:07:36.019Z"
   },
   {
    "duration": 431,
    "start_time": "2022-04-24T19:07:40.496Z"
   },
   {
    "duration": 473,
    "start_time": "2022-04-24T19:07:45.226Z"
   },
   {
    "duration": 438,
    "start_time": "2022-04-24T19:07:49.726Z"
   },
   {
    "duration": 584,
    "start_time": "2022-04-24T19:07:54.270Z"
   },
   {
    "duration": 427,
    "start_time": "2022-04-24T19:07:59.258Z"
   },
   {
    "duration": 412,
    "start_time": "2022-04-24T19:08:07.119Z"
   },
   {
    "duration": 507,
    "start_time": "2022-04-24T19:11:59.988Z"
   },
   {
    "duration": 690,
    "start_time": "2022-04-24T19:12:21.765Z"
   },
   {
    "duration": 444,
    "start_time": "2022-04-24T19:13:38.551Z"
   },
   {
    "duration": 533,
    "start_time": "2022-04-24T19:13:55.234Z"
   },
   {
    "duration": 490,
    "start_time": "2022-04-24T19:14:36.226Z"
   },
   {
    "duration": 191,
    "start_time": "2022-04-24T19:15:32.990Z"
   },
   {
    "duration": 649,
    "start_time": "2022-04-24T19:15:40.315Z"
   },
   {
    "duration": 487,
    "start_time": "2022-04-24T19:16:06.401Z"
   },
   {
    "duration": 441,
    "start_time": "2022-04-24T19:16:28.414Z"
   },
   {
    "duration": 19,
    "start_time": "2022-04-24T19:16:50.834Z"
   },
   {
    "duration": 18,
    "start_time": "2022-04-24T19:16:56.460Z"
   },
   {
    "duration": 581,
    "start_time": "2022-04-24T19:20:09.367Z"
   },
   {
    "duration": 402,
    "start_time": "2022-04-24T19:20:22.878Z"
   },
   {
    "duration": 446,
    "start_time": "2022-04-24T19:21:34.509Z"
   },
   {
    "duration": 438,
    "start_time": "2022-04-24T19:21:43.291Z"
   },
   {
    "duration": 620,
    "start_time": "2022-04-24T19:22:06.789Z"
   },
   {
    "duration": 464,
    "start_time": "2022-04-24T19:22:12.733Z"
   },
   {
    "duration": 449,
    "start_time": "2022-04-24T19:22:17.771Z"
   },
   {
    "duration": 635,
    "start_time": "2022-04-24T19:22:49.522Z"
   },
   {
    "duration": 507,
    "start_time": "2022-04-24T19:23:08.907Z"
   },
   {
    "duration": 258,
    "start_time": "2022-04-24T19:23:21.679Z"
   },
   {
    "duration": 521,
    "start_time": "2022-04-24T19:23:31.379Z"
   },
   {
    "duration": 479,
    "start_time": "2022-04-24T19:23:40.664Z"
   },
   {
    "duration": 745,
    "start_time": "2022-04-24T19:23:54.607Z"
   },
   {
    "duration": 515,
    "start_time": "2022-04-24T19:24:01.967Z"
   },
   {
    "duration": 492,
    "start_time": "2022-04-24T19:24:07.674Z"
   },
   {
    "duration": 248,
    "start_time": "2022-04-24T19:25:20.965Z"
   },
   {
    "duration": 439,
    "start_time": "2022-04-24T19:25:30.094Z"
   },
   {
    "duration": 523,
    "start_time": "2022-04-24T19:25:34.501Z"
   },
   {
    "duration": 515,
    "start_time": "2022-04-24T19:25:48.243Z"
   },
   {
    "duration": 2734,
    "start_time": "2022-04-24T21:15:22.826Z"
   },
   {
    "duration": 1239,
    "start_time": "2022-04-24T21:15:25.563Z"
   },
   {
    "duration": 223,
    "start_time": "2022-04-24T21:15:26.804Z"
   },
   {
    "duration": 148,
    "start_time": "2022-04-24T21:15:27.030Z"
   },
   {
    "duration": 1026,
    "start_time": "2022-04-24T21:15:27.183Z"
   },
   {
    "duration": 856,
    "start_time": "2022-04-24T21:15:28.213Z"
   },
   {
    "duration": 1117,
    "start_time": "2022-04-24T21:15:29.071Z"
   },
   {
    "duration": 434,
    "start_time": "2022-04-24T21:15:30.190Z"
   },
   {
    "duration": 6,
    "start_time": "2022-04-24T21:15:30.626Z"
   },
   {
    "duration": 924,
    "start_time": "2022-04-24T21:15:30.636Z"
   },
   {
    "duration": 440,
    "start_time": "2022-04-24T21:15:31.563Z"
   },
   {
    "duration": 401,
    "start_time": "2022-04-24T21:15:32.006Z"
   },
   {
    "duration": 797,
    "start_time": "2022-04-24T21:15:32.410Z"
   },
   {
    "duration": 7,
    "start_time": "2022-04-24T21:20:34.518Z"
   },
   {
    "duration": 71,
    "start_time": "2022-04-24T21:21:48.013Z"
   },
   {
    "duration": 16,
    "start_time": "2022-04-24T21:27:03.992Z"
   },
   {
    "duration": 48,
    "start_time": "2022-04-24T21:28:07.930Z"
   },
   {
    "duration": 18,
    "start_time": "2022-04-24T21:28:25.711Z"
   },
   {
    "duration": 30,
    "start_time": "2022-04-24T21:30:06.263Z"
   },
   {
    "duration": 55,
    "start_time": "2022-04-24T21:31:27.370Z"
   },
   {
    "duration": 5,
    "start_time": "2022-04-24T21:32:28.194Z"
   },
   {
    "duration": 67,
    "start_time": "2022-04-24T21:32:28.722Z"
   },
   {
    "duration": 1164,
    "start_time": "2022-04-24T21:35:31.477Z"
   },
   {
    "duration": 161,
    "start_time": "2022-04-24T21:38:51.589Z"
   },
   {
    "duration": 147,
    "start_time": "2022-04-24T21:39:06.952Z"
   },
   {
    "duration": 753,
    "start_time": "2022-04-24T21:39:08.264Z"
   },
   {
    "duration": 825,
    "start_time": "2022-04-24T21:39:17.504Z"
   },
   {
    "duration": 1634,
    "start_time": "2022-04-25T17:51:51.984Z"
   },
   {
    "duration": 784,
    "start_time": "2022-04-25T17:51:53.621Z"
   },
   {
    "duration": 135,
    "start_time": "2022-04-25T17:51:54.407Z"
   },
   {
    "duration": 85,
    "start_time": "2022-04-25T17:51:54.555Z"
   },
   {
    "duration": 450,
    "start_time": "2022-04-25T17:51:54.642Z"
   },
   {
    "duration": 442,
    "start_time": "2022-04-25T17:51:55.094Z"
   },
   {
    "duration": 469,
    "start_time": "2022-04-25T17:51:55.538Z"
   },
   {
    "duration": 206,
    "start_time": "2022-04-25T17:51:56.009Z"
   },
   {
    "duration": 4,
    "start_time": "2022-04-25T17:51:57.236Z"
   },
   {
    "duration": 556,
    "start_time": "2022-04-25T17:51:57.792Z"
   },
   {
    "duration": 228,
    "start_time": "2022-04-25T17:51:58.355Z"
   },
   {
    "duration": 221,
    "start_time": "2022-04-25T17:51:59.407Z"
   },
   {
    "duration": 453,
    "start_time": "2022-04-25T17:52:00.831Z"
   },
   {
    "duration": 4,
    "start_time": "2022-04-25T17:52:03.025Z"
   },
   {
    "duration": 46,
    "start_time": "2022-04-25T17:52:03.676Z"
   },
   {
    "duration": 1699,
    "start_time": "2022-04-25T17:52:05.984Z"
   },
   {
    "duration": 115,
    "start_time": "2022-04-25T17:52:07.685Z"
   },
   {
    "duration": 559,
    "start_time": "2022-04-25T17:52:11.353Z"
   },
   {
    "duration": 3123,
    "start_time": "2022-05-02T11:04:03.432Z"
   },
   {
    "duration": 1839,
    "start_time": "2022-05-02T11:04:08.386Z"
   },
   {
    "duration": 171,
    "start_time": "2022-05-02T11:04:10.228Z"
   },
   {
    "duration": 141,
    "start_time": "2022-05-02T11:04:10.402Z"
   },
   {
    "duration": 732,
    "start_time": "2022-05-02T11:04:10.546Z"
   },
   {
    "duration": 1062,
    "start_time": "2022-05-02T11:04:11.280Z"
   },
   {
    "duration": 1045,
    "start_time": "2022-05-02T11:04:12.345Z"
   },
   {
    "duration": 437,
    "start_time": "2022-05-02T11:04:13.393Z"
   },
   {
    "duration": 6,
    "start_time": "2022-05-02T11:04:13.833Z"
   },
   {
    "duration": 983,
    "start_time": "2022-05-02T11:04:13.843Z"
   },
   {
    "duration": 351,
    "start_time": "2022-05-02T11:04:14.829Z"
   },
   {
    "duration": 353,
    "start_time": "2022-05-02T11:04:15.182Z"
   },
   {
    "duration": 1181,
    "start_time": "2022-05-02T11:04:15.539Z"
   },
   {
    "duration": 865,
    "start_time": "2022-05-02T11:04:50.820Z"
   },
   {
    "duration": 319,
    "start_time": "2022-05-02T11:04:59.991Z"
   },
   {
    "duration": 6,
    "start_time": "2022-05-02T11:05:11.745Z"
   },
   {
    "duration": 76,
    "start_time": "2022-05-02T11:05:12.337Z"
   },
   {
    "duration": 22108,
    "start_time": "2022-05-02T11:06:40.894Z"
   },
   {
    "duration": 9407,
    "start_time": "2022-05-02T11:07:10.368Z"
   },
   {
    "duration": 242,
    "start_time": "2022-05-02T11:08:28.993Z"
   },
   {
    "duration": 9211,
    "start_time": "2022-05-02T11:09:03.884Z"
   },
   {
    "duration": 12242,
    "start_time": "2022-05-02T11:10:11.684Z"
   },
   {
    "duration": 4252,
    "start_time": "2022-05-02T11:11:20.666Z"
   },
   {
    "duration": 4509,
    "start_time": "2022-05-02T11:12:01.773Z"
   },
   {
    "duration": 9793,
    "start_time": "2022-05-02T11:12:12.566Z"
   },
   {
    "duration": 4345,
    "start_time": "2022-05-02T11:12:47.969Z"
   },
   {
    "duration": 251,
    "start_time": "2022-05-02T11:13:15.595Z"
   },
   {
    "duration": 252,
    "start_time": "2022-05-02T11:13:23.875Z"
   },
   {
    "duration": 401,
    "start_time": "2022-05-02T11:13:40.823Z"
   },
   {
    "duration": 321,
    "start_time": "2022-05-02T11:13:47.018Z"
   },
   {
    "duration": 411,
    "start_time": "2022-05-02T11:45:56.781Z"
   },
   {
    "duration": 400,
    "start_time": "2022-05-02T11:47:36.741Z"
   },
   {
    "duration": 387,
    "start_time": "2022-05-02T11:47:44.795Z"
   },
   {
    "duration": 513,
    "start_time": "2022-05-02T11:48:46.825Z"
   },
   {
    "duration": 303,
    "start_time": "2022-05-02T11:49:32.148Z"
   },
   {
    "duration": 626,
    "start_time": "2022-05-02T11:49:36.545Z"
   },
   {
    "duration": 370,
    "start_time": "2022-05-02T11:49:49.778Z"
   },
   {
    "duration": 396,
    "start_time": "2022-05-02T11:50:36.231Z"
   },
   {
    "duration": 407,
    "start_time": "2022-05-02T11:51:02.780Z"
   },
   {
    "duration": 792,
    "start_time": "2022-05-02T11:51:43.879Z"
   },
   {
    "duration": 839,
    "start_time": "2022-05-02T11:52:07.909Z"
   },
   {
    "duration": 339,
    "start_time": "2022-05-02T11:52:17.081Z"
   },
   {
    "duration": 329,
    "start_time": "2022-05-02T11:52:21.569Z"
   },
   {
    "duration": 336,
    "start_time": "2022-05-02T11:52:26.168Z"
   },
   {
    "duration": 343,
    "start_time": "2022-05-02T11:52:34.425Z"
   },
   {
    "duration": 802,
    "start_time": "2022-05-02T11:52:38.638Z"
   },
   {
    "duration": 2498,
    "start_time": "2022-05-02T11:55:35.339Z"
   },
   {
    "duration": 1571,
    "start_time": "2022-05-02T11:55:37.839Z"
   },
   {
    "duration": 192,
    "start_time": "2022-05-02T11:55:39.413Z"
   },
   {
    "duration": 136,
    "start_time": "2022-05-02T11:55:39.608Z"
   },
   {
    "duration": 10,
    "start_time": "2022-05-02T11:56:02.679Z"
   },
   {
    "duration": 1814,
    "start_time": "2022-05-02T11:56:03.911Z"
   },
   {
    "duration": 279,
    "start_time": "2022-05-02T11:56:05.728Z"
   },
   {
    "duration": 136,
    "start_time": "2022-05-02T11:56:06.010Z"
   },
   {
    "duration": 897,
    "start_time": "2022-05-02T11:56:07.757Z"
   },
   {
    "duration": 920,
    "start_time": "2022-05-02T11:56:08.658Z"
   },
   {
    "duration": 767,
    "start_time": "2022-05-02T11:56:09.581Z"
   },
   {
    "duration": 263,
    "start_time": "2022-05-02T11:56:10.352Z"
   },
   {
    "duration": 6,
    "start_time": "2022-05-02T11:56:10.625Z"
   },
   {
    "duration": 1170,
    "start_time": "2022-05-02T11:56:10.633Z"
   },
   {
    "duration": 406,
    "start_time": "2022-05-02T11:56:11.805Z"
   },
   {
    "duration": 347,
    "start_time": "2022-05-02T11:56:12.213Z"
   },
   {
    "duration": 804,
    "start_time": "2022-05-02T11:56:12.562Z"
   },
   {
    "duration": 0,
    "start_time": "2022-05-02T11:56:13.369Z"
   },
   {
    "duration": 0,
    "start_time": "2022-05-02T11:56:13.370Z"
   },
   {
    "duration": 754,
    "start_time": "2022-05-02T11:56:23.797Z"
   },
   {
    "duration": 1032,
    "start_time": "2022-05-02T11:58:12.355Z"
   },
   {
    "duration": 1064,
    "start_time": "2022-05-02T11:58:23.560Z"
   },
   {
    "duration": 1066,
    "start_time": "2022-05-02T11:58:29.931Z"
   },
   {
    "duration": 1258,
    "start_time": "2022-05-02T11:58:40.153Z"
   },
   {
    "duration": 1140,
    "start_time": "2022-05-02T11:59:20.630Z"
   },
   {
    "duration": 1216,
    "start_time": "2022-05-02T11:59:36.772Z"
   },
   {
    "duration": 1171,
    "start_time": "2022-05-02T11:59:42.049Z"
   },
   {
    "duration": 425,
    "start_time": "2022-05-02T11:59:56.770Z"
   },
   {
    "duration": 462,
    "start_time": "2022-05-02T12:00:38.862Z"
   },
   {
    "duration": 1262,
    "start_time": "2022-05-02T12:00:57.618Z"
   },
   {
    "duration": 1212,
    "start_time": "2022-05-02T12:01:12.182Z"
   },
   {
    "duration": 550,
    "start_time": "2022-05-02T12:01:22.739Z"
   },
   {
    "duration": 27730,
    "start_time": "2022-05-02T12:01:28.402Z"
   },
   {
    "duration": 12,
    "start_time": "2022-05-02T12:01:56.136Z"
   },
   {
    "duration": 91,
    "start_time": "2022-05-02T12:01:56.151Z"
   },
   {
    "duration": 3394,
    "start_time": "2022-05-02T12:01:56.246Z"
   },
   {
    "duration": 160,
    "start_time": "2022-05-02T12:01:59.642Z"
   },
   {
    "duration": 787,
    "start_time": "2022-05-02T12:01:59.804Z"
   },
   {
    "duration": 1663,
    "start_time": "2022-05-02T12:03:46.396Z"
   },
   {
    "duration": 1927,
    "start_time": "2022-05-02T12:09:11.858Z"
   },
   {
    "duration": 126,
    "start_time": "2022-05-02T12:09:29.216Z"
   },
   {
    "duration": 10,
    "start_time": "2022-05-02T12:09:36.125Z"
   },
   {
    "duration": 672,
    "start_time": "2022-05-02T12:10:04.212Z"
   },
   {
    "duration": 35,
    "start_time": "2022-05-02T12:10:37.174Z"
   },
   {
    "duration": 23,
    "start_time": "2022-05-02T12:10:48.885Z"
   },
   {
    "duration": 153,
    "start_time": "2022-05-02T12:10:52.784Z"
   },
   {
    "duration": 53,
    "start_time": "2022-05-02T12:11:21.160Z"
   },
   {
    "duration": 53,
    "start_time": "2022-05-02T12:11:25.325Z"
   },
   {
    "duration": 46,
    "start_time": "2022-05-02T12:11:31.244Z"
   },
   {
    "duration": 51,
    "start_time": "2022-05-02T12:12:17.438Z"
   },
   {
    "duration": 19,
    "start_time": "2022-05-02T12:54:01.129Z"
   },
   {
    "duration": 10,
    "start_time": "2022-05-02T12:55:46.230Z"
   },
   {
    "duration": 1134,
    "start_time": "2022-05-02T12:55:46.592Z"
   },
   {
    "duration": 170,
    "start_time": "2022-05-02T12:55:47.728Z"
   },
   {
    "duration": 143,
    "start_time": "2022-05-02T12:55:47.901Z"
   },
   {
    "duration": 755,
    "start_time": "2022-05-02T12:55:48.048Z"
   },
   {
    "duration": 820,
    "start_time": "2022-05-02T12:55:48.805Z"
   },
   {
    "duration": 849,
    "start_time": "2022-05-02T12:55:49.628Z"
   },
   {
    "duration": 464,
    "start_time": "2022-05-02T12:55:50.480Z"
   },
   {
    "duration": 7,
    "start_time": "2022-05-02T12:55:50.948Z"
   },
   {
    "duration": 1338,
    "start_time": "2022-05-02T12:55:50.960Z"
   },
   {
    "duration": 525,
    "start_time": "2022-05-02T12:55:52.301Z"
   },
   {
    "duration": 465,
    "start_time": "2022-05-02T12:55:52.829Z"
   },
   {
    "duration": 1110,
    "start_time": "2022-05-02T12:55:53.297Z"
   },
   {
    "duration": 418,
    "start_time": "2022-05-02T12:55:54.409Z"
   },
   {
    "duration": 182,
    "start_time": "2022-05-02T12:55:54.831Z"
   },
   {
    "duration": 58,
    "start_time": "2022-05-02T12:55:55.017Z"
   },
   {
    "duration": 6,
    "start_time": "2022-05-02T12:55:55.077Z"
   },
   {
    "duration": 91,
    "start_time": "2022-05-02T12:55:55.086Z"
   },
   {
    "duration": 2685,
    "start_time": "2022-05-02T12:55:55.181Z"
   },
   {
    "duration": 933,
    "start_time": "2022-05-02T12:55:57.868Z"
   },
   {
    "duration": 91,
    "start_time": "2022-05-02T12:55:58.803Z"
   },
   {
    "duration": 153,
    "start_time": "2022-05-02T12:58:16.836Z"
   },
   {
    "duration": 7,
    "start_time": "2022-05-02T13:00:06.010Z"
   },
   {
    "duration": 1448,
    "start_time": "2022-05-02T13:00:06.368Z"
   },
   {
    "duration": 276,
    "start_time": "2022-05-02T13:00:07.826Z"
   },
   {
    "duration": 142,
    "start_time": "2022-05-02T13:00:08.105Z"
   },
   {
    "duration": 930,
    "start_time": "2022-05-02T13:00:08.252Z"
   },
   {
    "duration": 969,
    "start_time": "2022-05-02T13:00:09.185Z"
   },
   {
    "duration": 1014,
    "start_time": "2022-05-02T13:00:10.158Z"
   },
   {
    "duration": 438,
    "start_time": "2022-05-02T13:00:11.176Z"
   },
   {
    "duration": 12,
    "start_time": "2022-05-02T13:00:11.617Z"
   },
   {
    "duration": 965,
    "start_time": "2022-05-02T13:00:11.632Z"
   },
   {
    "duration": 395,
    "start_time": "2022-05-02T13:00:12.603Z"
   },
   {
    "duration": 412,
    "start_time": "2022-05-02T13:00:13.001Z"
   },
   {
    "duration": 881,
    "start_time": "2022-05-02T13:00:13.425Z"
   },
   {
    "duration": 593,
    "start_time": "2022-05-02T13:00:14.309Z"
   },
   {
    "duration": 169,
    "start_time": "2022-05-02T13:00:14.905Z"
   },
   {
    "duration": 81,
    "start_time": "2022-05-02T13:00:15.077Z"
   },
   {
    "duration": 6,
    "start_time": "2022-05-02T13:00:15.161Z"
   },
   {
    "duration": 99,
    "start_time": "2022-05-02T13:00:15.170Z"
   },
   {
    "duration": 3044,
    "start_time": "2022-05-02T13:00:15.272Z"
   },
   {
    "duration": 371,
    "start_time": "2022-05-02T13:00:18.319Z"
   },
   {
    "duration": 266,
    "start_time": "2022-05-02T13:00:29.352Z"
   },
   {
    "duration": 7,
    "start_time": "2022-05-02T13:00:34.982Z"
   },
   {
    "duration": 1219,
    "start_time": "2022-05-02T13:00:35.484Z"
   },
   {
    "duration": 226,
    "start_time": "2022-05-02T13:00:36.708Z"
   },
   {
    "duration": 135,
    "start_time": "2022-05-02T13:00:36.937Z"
   },
   {
    "duration": 768,
    "start_time": "2022-05-02T13:00:37.076Z"
   },
   {
    "duration": 739,
    "start_time": "2022-05-02T13:00:37.847Z"
   },
   {
    "duration": 883,
    "start_time": "2022-05-02T13:00:38.588Z"
   },
   {
    "duration": 486,
    "start_time": "2022-05-02T13:00:39.474Z"
   },
   {
    "duration": 7,
    "start_time": "2022-05-02T13:00:39.964Z"
   },
   {
    "duration": 1215,
    "start_time": "2022-05-02T13:00:39.976Z"
   },
   {
    "duration": 449,
    "start_time": "2022-05-02T13:00:41.194Z"
   },
   {
    "duration": 450,
    "start_time": "2022-05-02T13:00:41.646Z"
   },
   {
    "duration": 981,
    "start_time": "2022-05-02T13:00:42.098Z"
   },
   {
    "duration": 513,
    "start_time": "2022-05-02T13:00:43.081Z"
   },
   {
    "duration": 184,
    "start_time": "2022-05-02T13:00:43.597Z"
   },
   {
    "duration": 79,
    "start_time": "2022-05-02T13:00:43.784Z"
   },
   {
    "duration": 8,
    "start_time": "2022-05-02T13:00:43.866Z"
   },
   {
    "duration": 105,
    "start_time": "2022-05-02T13:00:43.878Z"
   },
   {
    "duration": 3395,
    "start_time": "2022-05-02T13:00:43.987Z"
   },
   {
    "duration": 356,
    "start_time": "2022-05-02T13:00:47.387Z"
   },
   {
    "duration": 21,
    "start_time": "2022-05-02T13:01:01.031Z"
   },
   {
    "duration": 27,
    "start_time": "2022-05-02T13:01:06.118Z"
   },
   {
    "duration": 8,
    "start_time": "2022-05-02T13:01:16.376Z"
   },
   {
    "duration": 6,
    "start_time": "2022-05-02T13:01:26.388Z"
   },
   {
    "duration": 349,
    "start_time": "2022-05-02T13:01:51.718Z"
   },
   {
    "duration": 273,
    "start_time": "2022-05-02T13:02:00.143Z"
   },
   {
    "duration": 972,
    "start_time": "2022-05-02T13:02:12.466Z"
   },
   {
    "duration": 1063,
    "start_time": "2022-05-02T13:02:31.514Z"
   },
   {
    "duration": 83,
    "start_time": "2022-05-02T13:02:32.779Z"
   },
   {
    "duration": 238,
    "start_time": "2022-05-02T13:02:33.245Z"
   },
   {
    "duration": 59,
    "start_time": "2022-05-02T13:04:47.429Z"
   },
   {
    "duration": 78,
    "start_time": "2022-05-02T13:05:00.349Z"
   },
   {
    "duration": 64,
    "start_time": "2022-05-02T13:06:00.974Z"
   },
   {
    "duration": 82,
    "start_time": "2022-05-02T13:06:02.641Z"
   },
   {
    "duration": 32,
    "start_time": "2022-05-02T13:06:03.245Z"
   },
   {
    "duration": 44,
    "start_time": "2022-05-02T13:06:05.560Z"
   },
   {
    "duration": 49,
    "start_time": "2022-05-02T13:06:07.494Z"
   },
   {
    "duration": 104,
    "start_time": "2022-05-02T13:08:43.085Z"
   },
   {
    "duration": 163,
    "start_time": "2022-05-02T13:10:48.264Z"
   },
   {
    "duration": 62,
    "start_time": "2022-05-02T13:10:48.603Z"
   },
   {
    "duration": 15,
    "start_time": "2022-05-02T13:10:49.559Z"
   },
   {
    "duration": 16,
    "start_time": "2022-05-02T13:10:50.243Z"
   },
   {
    "duration": 89,
    "start_time": "2022-05-02T13:11:01.294Z"
   },
   {
    "duration": 84,
    "start_time": "2022-05-02T13:11:01.571Z"
   },
   {
    "duration": 15,
    "start_time": "2022-05-02T13:11:02.755Z"
   },
   {
    "duration": 13,
    "start_time": "2022-05-02T13:11:03.177Z"
   },
   {
    "duration": 88,
    "start_time": "2022-05-02T13:11:40.158Z"
   },
   {
    "duration": 55,
    "start_time": "2022-05-02T13:12:05.316Z"
   },
   {
    "duration": 60,
    "start_time": "2022-05-02T13:12:05.554Z"
   },
   {
    "duration": 12,
    "start_time": "2022-05-02T13:12:06.248Z"
   },
   {
    "duration": 14,
    "start_time": "2022-05-02T13:12:06.604Z"
   },
   {
    "duration": 65,
    "start_time": "2022-05-02T13:13:12.240Z"
   },
   {
    "duration": 86,
    "start_time": "2022-05-02T13:13:17.411Z"
   },
   {
    "duration": 1708,
    "start_time": "2022-05-02T17:08:19.309Z"
   },
   {
    "duration": 915,
    "start_time": "2022-05-02T17:08:21.020Z"
   },
   {
    "duration": 144,
    "start_time": "2022-05-02T17:08:21.937Z"
   },
   {
    "duration": 155,
    "start_time": "2022-05-02T17:08:22.083Z"
   },
   {
    "duration": 522,
    "start_time": "2022-05-02T17:08:22.240Z"
   },
   {
    "duration": 517,
    "start_time": "2022-05-02T17:08:22.764Z"
   },
   {
    "duration": 573,
    "start_time": "2022-05-02T17:08:23.283Z"
   },
   {
    "duration": 243,
    "start_time": "2022-05-02T17:08:23.858Z"
   },
   {
    "duration": 10,
    "start_time": "2022-05-02T17:08:24.106Z"
   },
   {
    "duration": 695,
    "start_time": "2022-05-02T17:08:24.119Z"
   },
   {
    "duration": 253,
    "start_time": "2022-05-02T17:08:24.821Z"
   },
   {
    "duration": 264,
    "start_time": "2022-05-02T17:08:25.076Z"
   },
   {
    "duration": 595,
    "start_time": "2022-05-02T17:08:25.343Z"
   },
   {
    "duration": 303,
    "start_time": "2022-05-02T17:08:25.940Z"
   },
   {
    "duration": 116,
    "start_time": "2022-05-02T17:08:26.245Z"
   },
   {
    "duration": 51,
    "start_time": "2022-05-02T17:08:26.365Z"
   },
   {
    "duration": 5,
    "start_time": "2022-05-02T17:08:26.420Z"
   },
   {
    "duration": 47,
    "start_time": "2022-05-02T17:08:26.427Z"
   },
   {
    "duration": 2063,
    "start_time": "2022-05-02T17:08:26.476Z"
   },
   {
    "duration": 709,
    "start_time": "2022-05-02T17:08:28.541Z"
   },
   {
    "duration": 71,
    "start_time": "2022-05-02T17:08:29.253Z"
   },
   {
    "duration": 100,
    "start_time": "2022-05-02T17:08:29.326Z"
   },
   {
    "duration": 57,
    "start_time": "2022-05-02T17:08:29.428Z"
   },
   {
    "duration": 65,
    "start_time": "2022-05-02T17:08:29.487Z"
   },
   {
    "duration": 9,
    "start_time": "2022-05-02T17:08:29.554Z"
   },
   {
    "duration": 8,
    "start_time": "2022-05-02T17:08:29.565Z"
   },
   {
    "duration": 70,
    "start_time": "2022-05-02T17:08:29.576Z"
   },
   {
    "duration": 61,
    "start_time": "2022-05-02T17:10:37.864Z"
   },
   {
    "duration": 20,
    "start_time": "2022-05-02T17:11:32.431Z"
   },
   {
    "duration": 5,
    "start_time": "2022-05-02T17:23:05.439Z"
   },
   {
    "duration": 130,
    "start_time": "2022-05-02T17:27:09.674Z"
   },
   {
    "duration": 12,
    "start_time": "2022-05-02T17:29:57.330Z"
   },
   {
    "duration": 12,
    "start_time": "2022-05-02T17:30:23.669Z"
   },
   {
    "duration": 11,
    "start_time": "2022-05-02T17:33:07.644Z"
   },
   {
    "duration": 16,
    "start_time": "2022-05-02T17:33:20.872Z"
   },
   {
    "duration": 91,
    "start_time": "2022-05-02T17:34:34.255Z"
   },
   {
    "duration": 83,
    "start_time": "2022-05-02T17:34:49.297Z"
   },
   {
    "duration": 72,
    "start_time": "2022-05-02T17:35:09.251Z"
   },
   {
    "duration": 70,
    "start_time": "2022-05-02T17:37:13.660Z"
   },
   {
    "duration": 10,
    "start_time": "2022-05-02T17:37:21.021Z"
   },
   {
    "duration": 65,
    "start_time": "2022-05-02T17:37:36.056Z"
   },
   {
    "duration": 12,
    "start_time": "2022-05-02T17:37:36.604Z"
   },
   {
    "duration": 65,
    "start_time": "2022-05-02T17:37:51.265Z"
   },
   {
    "duration": 9,
    "start_time": "2022-05-02T17:37:51.586Z"
   },
   {
    "duration": 12,
    "start_time": "2022-05-02T17:38:04.494Z"
   },
   {
    "duration": 11,
    "start_time": "2022-05-02T17:38:13.272Z"
   },
   {
    "duration": 11,
    "start_time": "2022-05-02T17:39:29.484Z"
   },
   {
    "duration": 68,
    "start_time": "2022-05-02T17:40:11.512Z"
   },
   {
    "duration": 10,
    "start_time": "2022-05-02T17:40:12.195Z"
   },
   {
    "duration": 11,
    "start_time": "2022-05-02T17:40:25.016Z"
   },
   {
    "duration": 9,
    "start_time": "2022-05-02T17:41:00.388Z"
   },
   {
    "duration": 68,
    "start_time": "2022-05-02T17:41:50.669Z"
   },
   {
    "duration": 10,
    "start_time": "2022-05-02T17:41:51.084Z"
   },
   {
    "duration": 13,
    "start_time": "2022-05-02T17:41:51.614Z"
   },
   {
    "duration": 959,
    "start_time": "2022-05-02T17:41:52.129Z"
   },
   {
    "duration": 4,
    "start_time": "2022-05-02T17:42:01.586Z"
   },
   {
    "duration": 72,
    "start_time": "2022-05-02T17:43:57.105Z"
   },
   {
    "duration": 11,
    "start_time": "2022-05-02T17:43:57.901Z"
   },
   {
    "duration": 10,
    "start_time": "2022-05-02T17:44:18.978Z"
   },
   {
    "duration": 3,
    "start_time": "2022-05-02T17:44:44.113Z"
   },
   {
    "duration": 166,
    "start_time": "2022-05-02T17:47:33.753Z"
   },
   {
    "duration": 75,
    "start_time": "2022-05-02T17:48:28.514Z"
   },
   {
    "duration": 81,
    "start_time": "2022-05-02T17:48:35.620Z"
   },
   {
    "duration": 1420,
    "start_time": "2022-05-02T17:49:26.172Z"
   },
   {
    "duration": 842,
    "start_time": "2022-05-02T17:49:27.594Z"
   },
   {
    "duration": 138,
    "start_time": "2022-05-02T17:49:28.437Z"
   },
   {
    "duration": 143,
    "start_time": "2022-05-02T17:49:28.577Z"
   },
   {
    "duration": 476,
    "start_time": "2022-05-02T17:49:28.722Z"
   },
   {
    "duration": 475,
    "start_time": "2022-05-02T17:49:29.208Z"
   },
   {
    "duration": 511,
    "start_time": "2022-05-02T17:49:29.685Z"
   },
   {
    "duration": 222,
    "start_time": "2022-05-02T17:49:30.198Z"
   },
   {
    "duration": 4,
    "start_time": "2022-05-02T17:49:30.422Z"
   },
   {
    "duration": 618,
    "start_time": "2022-05-02T17:49:30.429Z"
   },
   {
    "duration": 240,
    "start_time": "2022-05-02T17:49:31.049Z"
   },
   {
    "duration": 248,
    "start_time": "2022-05-02T17:49:31.291Z"
   },
   {
    "duration": 544,
    "start_time": "2022-05-02T17:49:31.541Z"
   },
   {
    "duration": 263,
    "start_time": "2022-05-02T17:49:32.087Z"
   },
   {
    "duration": 113,
    "start_time": "2022-05-02T17:49:32.352Z"
   },
   {
    "duration": 42,
    "start_time": "2022-05-02T17:49:32.466Z"
   },
   {
    "duration": 4,
    "start_time": "2022-05-02T17:49:32.510Z"
   },
   {
    "duration": 50,
    "start_time": "2022-05-02T17:49:32.515Z"
   },
   {
    "duration": 1849,
    "start_time": "2022-05-02T17:49:32.568Z"
   },
   {
    "duration": 594,
    "start_time": "2022-05-02T17:49:34.419Z"
   },
   {
    "duration": 58,
    "start_time": "2022-05-02T17:49:35.015Z"
   },
   {
    "duration": 105,
    "start_time": "2022-05-02T17:49:35.075Z"
   },
   {
    "duration": 53,
    "start_time": "2022-05-02T17:49:35.182Z"
   },
   {
    "duration": 42,
    "start_time": "2022-05-02T17:49:35.237Z"
   },
   {
    "duration": 26,
    "start_time": "2022-05-02T17:49:35.281Z"
   },
   {
    "duration": 7,
    "start_time": "2022-05-02T17:49:35.310Z"
   },
   {
    "duration": 40,
    "start_time": "2022-05-02T17:49:35.318Z"
   },
   {
    "duration": 21,
    "start_time": "2022-05-02T17:49:35.360Z"
   },
   {
    "duration": 64,
    "start_time": "2022-05-02T17:49:35.605Z"
   },
   {
    "duration": 10,
    "start_time": "2022-05-02T17:49:36.250Z"
   },
   {
    "duration": 10,
    "start_time": "2022-05-02T17:49:36.788Z"
   },
   {
    "duration": 4,
    "start_time": "2022-05-02T17:49:36.967Z"
   },
   {
    "duration": 63,
    "start_time": "2022-05-02T17:49:37.801Z"
   },
   {
    "duration": 11,
    "start_time": "2022-05-02T17:49:38.385Z"
   },
   {
    "duration": 10,
    "start_time": "2022-05-02T17:49:38.949Z"
   },
   {
    "duration": 4,
    "start_time": "2022-05-02T17:49:39.678Z"
   },
   {
    "duration": 158,
    "start_time": "2022-05-02T17:49:40.792Z"
   },
   {
    "duration": 45,
    "start_time": "2022-05-02T17:49:41.493Z"
   },
   {
    "duration": 96,
    "start_time": "2022-05-02T17:49:51.628Z"
   },
   {
    "duration": 41,
    "start_time": "2022-05-02T17:50:39.135Z"
   },
   {
    "duration": 71,
    "start_time": "2022-05-02T17:52:19.864Z"
   },
   {
    "duration": 41,
    "start_time": "2022-05-02T17:52:21.122Z"
   },
   {
    "duration": 67,
    "start_time": "2022-05-02T17:52:21.725Z"
   },
   {
    "duration": 80,
    "start_time": "2022-05-02T17:54:41.380Z"
   },
   {
    "duration": 120,
    "start_time": "2022-05-02T17:55:31.394Z"
   },
   {
    "duration": 39,
    "start_time": "2022-05-02T17:55:39.403Z"
   },
   {
    "duration": 519,
    "start_time": "2022-05-02T17:57:30.347Z"
   },
   {
    "duration": 235,
    "start_time": "2022-05-02T17:59:08.223Z"
   },
   {
    "duration": 414,
    "start_time": "2022-05-02T17:59:16.565Z"
   },
   {
    "duration": 291,
    "start_time": "2022-05-02T18:00:00.265Z"
   },
   {
    "duration": 56,
    "start_time": "2022-05-02T18:04:05.199Z"
   },
   {
    "duration": 11352,
    "start_time": "2022-05-02T18:04:38.899Z"
   },
   {
    "duration": 195,
    "start_time": "2022-05-02T18:05:23.074Z"
   },
   {
    "duration": 209,
    "start_time": "2022-05-02T18:16:39.333Z"
   },
   {
    "duration": 261,
    "start_time": "2022-05-02T18:16:52.659Z"
   },
   {
    "duration": 455,
    "start_time": "2022-05-02T18:17:20.221Z"
   },
   {
    "duration": 242,
    "start_time": "2022-05-02T18:17:26.149Z"
   },
   {
    "duration": 238,
    "start_time": "2022-05-02T18:17:58.242Z"
   },
   {
    "duration": 294,
    "start_time": "2022-05-02T18:18:14.811Z"
   },
   {
    "duration": 491,
    "start_time": "2022-05-02T18:18:33.963Z"
   },
   {
    "duration": 469,
    "start_time": "2022-05-02T18:18:41.929Z"
   },
   {
    "duration": 276,
    "start_time": "2022-05-02T18:19:24.410Z"
   },
   {
    "duration": 337,
    "start_time": "2022-05-02T18:19:52.391Z"
   },
   {
    "duration": 284,
    "start_time": "2022-05-02T18:20:21.908Z"
   },
   {
    "duration": 277,
    "start_time": "2022-05-02T18:20:29.605Z"
   },
   {
    "duration": 377,
    "start_time": "2022-05-02T18:20:36.262Z"
   },
   {
    "duration": 374,
    "start_time": "2022-05-02T18:20:53.024Z"
   },
   {
    "duration": 530,
    "start_time": "2022-05-02T18:21:29.255Z"
   },
   {
    "duration": 390,
    "start_time": "2022-05-02T18:21:37.689Z"
   },
   {
    "duration": 375,
    "start_time": "2022-05-02T18:21:43.550Z"
   },
   {
    "duration": 434,
    "start_time": "2022-05-02T18:21:47.824Z"
   },
   {
    "duration": 387,
    "start_time": "2022-05-02T18:21:56.066Z"
   },
   {
    "duration": 391,
    "start_time": "2022-05-02T18:22:01.353Z"
   },
   {
    "duration": 395,
    "start_time": "2022-05-02T18:22:43.159Z"
   },
   {
    "duration": 273,
    "start_time": "2022-05-02T18:22:55.360Z"
   },
   {
    "duration": 400,
    "start_time": "2022-05-02T18:23:02.998Z"
   },
   {
    "duration": 396,
    "start_time": "2022-05-02T18:23:14.788Z"
   },
   {
    "duration": 392,
    "start_time": "2022-05-02T18:23:42.244Z"
   },
   {
    "duration": 407,
    "start_time": "2022-05-02T18:24:42.536Z"
   },
   {
    "duration": 51,
    "start_time": "2022-05-02T18:25:17.052Z"
   },
   {
    "duration": 222,
    "start_time": "2022-05-02T18:27:10.214Z"
   },
   {
    "duration": 543,
    "start_time": "2022-05-02T18:27:39.997Z"
   },
   {
    "duration": 45,
    "start_time": "2022-05-02T18:28:47.957Z"
   },
   {
    "duration": 52,
    "start_time": "2022-05-02T18:32:17.031Z"
   },
   {
    "duration": 85,
    "start_time": "2022-05-02T18:39:39.616Z"
   },
   {
    "duration": 13,
    "start_time": "2022-05-02T18:39:49.703Z"
   },
   {
    "duration": 31,
    "start_time": "2022-05-02T18:40:33.207Z"
   },
   {
    "duration": 13,
    "start_time": "2022-05-02T18:41:06.449Z"
   },
   {
    "duration": 16,
    "start_time": "2022-05-02T18:41:14.926Z"
   },
   {
    "duration": 322,
    "start_time": "2022-05-02T18:42:56.431Z"
   },
   {
    "duration": 314,
    "start_time": "2022-05-02T18:43:59.108Z"
   },
   {
    "duration": 330,
    "start_time": "2022-05-02T18:44:14.549Z"
   },
   {
    "duration": 300,
    "start_time": "2022-05-02T18:44:19.756Z"
   },
   {
    "duration": 223,
    "start_time": "2022-05-02T18:44:27.726Z"
   },
   {
    "duration": 205,
    "start_time": "2022-05-02T18:44:36.841Z"
   },
   {
    "duration": 315,
    "start_time": "2022-05-02T18:44:42.429Z"
   },
   {
    "duration": 206,
    "start_time": "2022-05-02T18:44:49.580Z"
   },
   {
    "duration": 16,
    "start_time": "2022-05-02T18:45:19.103Z"
   },
   {
    "duration": 21,
    "start_time": "2022-05-02T18:45:23.251Z"
   },
   {
    "duration": 15,
    "start_time": "2022-05-02T18:45:26.653Z"
   },
   {
    "duration": 15,
    "start_time": "2022-05-02T18:45:30.289Z"
   },
   {
    "duration": 206,
    "start_time": "2022-05-02T18:45:37.211Z"
   },
   {
    "duration": 248,
    "start_time": "2022-05-02T18:45:54.792Z"
   },
   {
    "duration": 219,
    "start_time": "2022-05-02T18:45:59.386Z"
   },
   {
    "duration": 336,
    "start_time": "2022-05-02T18:48:25.958Z"
   },
   {
    "duration": 335,
    "start_time": "2022-05-02T18:48:33.774Z"
   },
   {
    "duration": 309,
    "start_time": "2022-05-02T18:48:40.006Z"
   },
   {
    "duration": 354,
    "start_time": "2022-05-02T18:49:16.857Z"
   },
   {
    "duration": 347,
    "start_time": "2022-05-02T18:49:28.225Z"
   },
   {
    "duration": 324,
    "start_time": "2022-05-02T18:49:56.309Z"
   },
   {
    "duration": 15,
    "start_time": "2022-05-02T18:50:04.478Z"
   },
   {
    "duration": 501,
    "start_time": "2022-05-02T18:50:24.097Z"
   },
   {
    "duration": 345,
    "start_time": "2022-05-02T18:50:50.019Z"
   },
   {
    "duration": 363,
    "start_time": "2022-05-02T18:51:07.552Z"
   },
   {
    "duration": 335,
    "start_time": "2022-05-02T18:51:15.296Z"
   },
   {
    "duration": 351,
    "start_time": "2022-05-02T18:51:19.692Z"
   },
   {
    "duration": 329,
    "start_time": "2022-05-02T19:27:31.912Z"
   },
   {
    "duration": 352,
    "start_time": "2022-05-02T19:27:36.661Z"
   },
   {
    "duration": 348,
    "start_time": "2022-05-02T19:29:59.479Z"
   },
   {
    "duration": 54,
    "start_time": "2022-05-02T19:30:05.510Z"
   },
   {
    "duration": 4,
    "start_time": "2022-05-02T19:35:35.512Z"
   },
   {
    "duration": 383,
    "start_time": "2022-05-02T19:35:57.818Z"
   },
   {
    "duration": 355,
    "start_time": "2022-05-02T19:36:16.458Z"
   },
   {
    "duration": 352,
    "start_time": "2022-05-02T19:37:20.679Z"
   },
   {
    "duration": 472,
    "start_time": "2022-05-02T19:37:33.651Z"
   },
   {
    "duration": 369,
    "start_time": "2022-05-02T19:38:49.748Z"
   },
   {
    "duration": 333,
    "start_time": "2022-05-02T19:39:27.312Z"
   },
   {
    "duration": 347,
    "start_time": "2022-05-02T19:39:38.415Z"
   },
   {
    "duration": 379,
    "start_time": "2022-05-02T19:39:41.944Z"
   },
   {
    "duration": 403,
    "start_time": "2022-05-02T19:40:01.567Z"
   },
   {
    "duration": 476,
    "start_time": "2022-05-02T19:40:05.359Z"
   },
   {
    "duration": 356,
    "start_time": "2022-05-02T19:40:40.727Z"
   },
   {
    "duration": 365,
    "start_time": "2022-05-02T19:40:53.535Z"
   },
   {
    "duration": 26,
    "start_time": "2022-05-02T19:41:18.914Z"
   },
   {
    "duration": 361,
    "start_time": "2022-05-02T19:45:16.600Z"
   },
   {
    "duration": 329,
    "start_time": "2022-05-02T19:45:34.902Z"
   },
   {
    "duration": 456,
    "start_time": "2022-05-02T19:47:38.836Z"
   },
   {
    "duration": 552,
    "start_time": "2022-05-02T19:47:57.135Z"
   },
   {
    "duration": 438,
    "start_time": "2022-05-02T19:48:23.142Z"
   },
   {
    "duration": 467,
    "start_time": "2022-05-02T19:48:33.534Z"
   },
   {
    "duration": 441,
    "start_time": "2022-05-02T19:48:38.647Z"
   },
   {
    "duration": 445,
    "start_time": "2022-05-02T19:48:44.017Z"
   },
   {
    "duration": 421,
    "start_time": "2022-05-02T19:48:55.268Z"
   },
   {
    "duration": 533,
    "start_time": "2022-05-02T19:49:04.660Z"
   },
   {
    "duration": 10,
    "start_time": "2022-05-02T19:50:15.720Z"
   },
   {
    "duration": 78,
    "start_time": "2022-05-02T19:51:14.661Z"
   },
   {
    "duration": 101,
    "start_time": "2022-05-02T19:51:32.639Z"
   },
   {
    "duration": 83,
    "start_time": "2022-05-02T19:51:43.750Z"
   },
   {
    "duration": 9,
    "start_time": "2022-05-02T19:51:59.977Z"
   },
   {
    "duration": 12,
    "start_time": "2022-05-02T19:52:05.866Z"
   },
   {
    "duration": 8,
    "start_time": "2022-05-02T19:52:29.660Z"
   },
   {
    "duration": 410,
    "start_time": "2022-05-02T19:52:37.961Z"
   },
   {
    "duration": 9,
    "start_time": "2022-05-02T19:56:05.974Z"
   },
   {
    "duration": 21,
    "start_time": "2022-05-02T19:56:20.247Z"
   },
   {
    "duration": 41,
    "start_time": "2022-05-02T19:56:40.350Z"
   },
   {
    "duration": 72,
    "start_time": "2022-05-02T20:01:58.981Z"
   },
   {
    "duration": 7,
    "start_time": "2022-05-02T20:26:35.911Z"
   },
   {
    "duration": 29,
    "start_time": "2022-05-02T20:28:16.198Z"
   },
   {
    "duration": 418,
    "start_time": "2022-05-02T20:32:00.021Z"
   },
   {
    "duration": 2,
    "start_time": "2022-05-02T20:32:43.439Z"
   },
   {
    "duration": 455,
    "start_time": "2022-05-02T20:33:10.943Z"
   },
   {
    "duration": 3,
    "start_time": "2022-05-02T20:33:12.089Z"
   },
   {
    "duration": 1343,
    "start_time": "2022-05-02T20:33:27.981Z"
   },
   {
    "duration": 8,
    "start_time": "2022-05-02T20:36:55.922Z"
   },
   {
    "duration": 11,
    "start_time": "2022-05-02T20:37:28.949Z"
   },
   {
    "duration": 11,
    "start_time": "2022-05-02T20:37:42.212Z"
   },
   {
    "duration": 4,
    "start_time": "2022-05-02T20:38:06.234Z"
   },
   {
    "duration": 10,
    "start_time": "2022-05-02T20:38:14.749Z"
   },
   {
    "duration": 10,
    "start_time": "2022-05-02T20:39:09.653Z"
   },
   {
    "duration": 3,
    "start_time": "2022-05-02T20:39:17.422Z"
   },
   {
    "duration": 42117,
    "start_time": "2022-05-02T20:43:39.991Z"
   },
   {
    "duration": 41382,
    "start_time": "2022-05-02T20:44:53.533Z"
   },
   {
    "duration": 4,
    "start_time": "2022-05-02T20:45:47.225Z"
   },
   {
    "duration": 4,
    "start_time": "2022-05-02T20:46:29.157Z"
   },
   {
    "duration": 105,
    "start_time": "2022-05-02T20:47:16.219Z"
   },
   {
    "duration": 2,
    "start_time": "2022-05-02T20:47:20.839Z"
   },
   {
    "duration": 1568,
    "start_time": "2022-05-02T20:47:26.216Z"
   },
   {
    "duration": 429,
    "start_time": "2022-05-02T20:48:00.125Z"
   },
   {
    "duration": 3,
    "start_time": "2022-05-02T20:48:01.641Z"
   },
   {
    "duration": 1386,
    "start_time": "2022-05-02T20:48:01.809Z"
   },
   {
    "duration": 3,
    "start_time": "2022-05-02T20:48:03.197Z"
   },
   {
    "duration": 76,
    "start_time": "2022-05-02T20:48:10.249Z"
   },
   {
    "duration": 8,
    "start_time": "2022-05-02T20:48:23.104Z"
   },
   {
    "duration": 29,
    "start_time": "2022-05-02T20:48:24.218Z"
   },
   {
    "duration": 2,
    "start_time": "2022-05-02T20:48:26.377Z"
   },
   {
    "duration": 416,
    "start_time": "2022-05-02T20:48:31.328Z"
   },
   {
    "duration": 83,
    "start_time": "2022-05-02T20:48:52.451Z"
   },
   {
    "duration": 419,
    "start_time": "2022-05-02T20:49:55.276Z"
   },
   {
    "duration": 2,
    "start_time": "2022-05-02T20:49:58.849Z"
   },
   {
    "duration": 1420,
    "start_time": "2022-05-02T20:50:03.144Z"
   },
   {
    "duration": 3,
    "start_time": "2022-05-02T20:50:04.565Z"
   },
   {
    "duration": 118,
    "start_time": "2022-05-02T20:50:10.222Z"
   },
   {
    "duration": 418,
    "start_time": "2022-05-02T20:50:53.798Z"
   },
   {
    "duration": 3,
    "start_time": "2022-05-02T20:50:57.583Z"
   },
   {
    "duration": 1374,
    "start_time": "2022-05-02T20:50:58.365Z"
   },
   {
    "duration": 2,
    "start_time": "2022-05-02T20:51:00.143Z"
   },
   {
    "duration": 86,
    "start_time": "2022-05-02T20:51:16.997Z"
   },
   {
    "duration": 4,
    "start_time": "2022-05-02T20:51:43.968Z"
   },
   {
    "duration": 4,
    "start_time": "2022-05-02T20:51:50.083Z"
   },
   {
    "duration": 39243,
    "start_time": "2022-05-02T20:52:35.466Z"
   },
   {
    "duration": 96,
    "start_time": "2022-05-02T20:53:14.713Z"
   },
   {
    "duration": 8,
    "start_time": "2022-05-02T20:53:14.811Z"
   },
   {
    "duration": 2,
    "start_time": "2022-05-02T21:03:56.623Z"
   },
   {
    "duration": 3,
    "start_time": "2022-05-02T21:03:57.181Z"
   },
   {
    "duration": 1417,
    "start_time": "2022-05-02T21:03:58.269Z"
   },
   {
    "duration": 1471,
    "start_time": "2022-05-02T21:04:12.789Z"
   },
   {
    "duration": 1483,
    "start_time": "2022-05-02T21:05:08.333Z"
   },
   {
    "duration": 38,
    "start_time": "2022-05-02T21:06:25.106Z"
   },
   {
    "duration": 118,
    "start_time": "2022-05-02T21:06:34.291Z"
   },
   {
    "duration": 1406,
    "start_time": "2022-05-02T21:06:40.267Z"
   },
   {
    "duration": 4,
    "start_time": "2022-05-02T21:06:47.817Z"
   },
   {
    "duration": 1361,
    "start_time": "2022-05-02T21:07:06.693Z"
   },
   {
    "duration": 93832,
    "start_time": "2022-05-02T21:08:32.988Z"
   },
   {
    "duration": 0,
    "start_time": "2022-05-02T21:10:06.822Z"
   },
   {
    "duration": 0,
    "start_time": "2022-05-02T21:10:06.823Z"
   },
   {
    "duration": 0,
    "start_time": "2022-05-02T21:10:06.824Z"
   },
   {
    "duration": 1455,
    "start_time": "2022-05-02T21:10:09.997Z"
   },
   {
    "duration": 9,
    "start_time": "2022-05-02T21:10:11.454Z"
   },
   {
    "duration": 92646,
    "start_time": "2022-05-02T21:10:28.164Z"
   },
   {
    "duration": 8,
    "start_time": "2022-05-02T21:12:00.812Z"
   },
   {
    "duration": 1,
    "start_time": "2022-05-02T21:12:00.821Z"
   },
   {
    "duration": 91485,
    "start_time": "2022-05-02T21:12:28.331Z"
   },
   {
    "duration": 4,
    "start_time": "2022-05-02T21:13:59.818Z"
   },
   {
    "duration": 6,
    "start_time": "2022-05-02T21:13:59.824Z"
   },
   {
    "duration": 6,
    "start_time": "2022-05-02T21:13:59.832Z"
   },
   {
    "duration": 105341,
    "start_time": "2022-05-02T21:14:45.718Z"
   },
   {
    "duration": 3,
    "start_time": "2022-05-02T21:16:31.061Z"
   },
   {
    "duration": 12,
    "start_time": "2022-05-02T21:16:31.066Z"
   },
   {
    "duration": 6,
    "start_time": "2022-05-02T21:16:31.080Z"
   },
   {
    "duration": 5,
    "start_time": "2022-05-02T21:16:31.088Z"
   },
   {
    "duration": 103149,
    "start_time": "2022-05-02T21:18:09.813Z"
   },
   {
    "duration": 3,
    "start_time": "2022-05-02T21:19:52.964Z"
   },
   {
    "duration": 6,
    "start_time": "2022-05-02T21:19:52.968Z"
   },
   {
    "duration": 4,
    "start_time": "2022-05-02T21:19:52.976Z"
   },
   {
    "duration": 5,
    "start_time": "2022-05-02T21:19:52.981Z"
   },
   {
    "duration": 1685,
    "start_time": "2022-05-03T03:49:04.606Z"
   },
   {
    "duration": 792,
    "start_time": "2022-05-03T03:49:06.293Z"
   },
   {
    "duration": 125,
    "start_time": "2022-05-03T03:49:07.087Z"
   },
   {
    "duration": 174,
    "start_time": "2022-05-03T03:49:07.215Z"
   },
   {
    "duration": 715,
    "start_time": "2022-05-03T03:49:07.391Z"
   },
   {
    "duration": 706,
    "start_time": "2022-05-03T03:49:08.108Z"
   },
   {
    "duration": 748,
    "start_time": "2022-05-03T03:49:08.816Z"
   },
   {
    "duration": 346,
    "start_time": "2022-05-03T03:49:09.567Z"
   },
   {
    "duration": 4,
    "start_time": "2022-05-03T03:49:09.916Z"
   },
   {
    "duration": 894,
    "start_time": "2022-05-03T03:49:09.922Z"
   },
   {
    "duration": 337,
    "start_time": "2022-05-03T03:49:10.818Z"
   },
   {
    "duration": 351,
    "start_time": "2022-05-03T03:49:11.157Z"
   },
   {
    "duration": 706,
    "start_time": "2022-05-03T03:49:11.510Z"
   },
   {
    "duration": 660,
    "start_time": "2022-05-03T03:49:12.218Z"
   },
   {
    "duration": 147,
    "start_time": "2022-05-03T03:49:12.880Z"
   },
   {
    "duration": 50,
    "start_time": "2022-05-03T03:49:13.029Z"
   },
   {
    "duration": 5,
    "start_time": "2022-05-03T03:49:13.082Z"
   },
   {
    "duration": 85,
    "start_time": "2022-05-03T03:49:13.089Z"
   },
   {
    "duration": 2120,
    "start_time": "2022-05-03T03:49:13.176Z"
   },
   {
    "duration": 624,
    "start_time": "2022-05-03T03:49:15.297Z"
   },
   {
    "duration": 70,
    "start_time": "2022-05-03T03:49:15.923Z"
   },
   {
    "duration": 87,
    "start_time": "2022-05-03T03:49:15.994Z"
   },
   {
    "duration": 55,
    "start_time": "2022-05-03T03:49:16.083Z"
   },
   {
    "duration": 46,
    "start_time": "2022-05-03T03:49:16.139Z"
   },
   {
    "duration": 7,
    "start_time": "2022-05-03T03:49:16.186Z"
   },
   {
    "duration": 29,
    "start_time": "2022-05-03T03:49:16.195Z"
   },
   {
    "duration": 47,
    "start_time": "2022-05-03T03:49:16.226Z"
   },
   {
    "duration": 19,
    "start_time": "2022-05-03T03:49:16.275Z"
   },
   {
    "duration": 83,
    "start_time": "2022-05-03T03:49:16.295Z"
   },
   {
    "duration": 9,
    "start_time": "2022-05-03T03:49:16.380Z"
   },
   {
    "duration": 25,
    "start_time": "2022-05-03T03:49:16.391Z"
   },
   {
    "duration": 25,
    "start_time": "2022-05-03T03:49:16.417Z"
   },
   {
    "duration": 76,
    "start_time": "2022-05-03T03:49:16.444Z"
   },
   {
    "duration": 9,
    "start_time": "2022-05-03T03:49:16.523Z"
   },
   {
    "duration": 26,
    "start_time": "2022-05-03T03:49:16.534Z"
   },
   {
    "duration": 18,
    "start_time": "2022-05-03T03:49:16.562Z"
   },
   {
    "duration": 172,
    "start_time": "2022-05-03T03:49:16.868Z"
   },
   {
    "duration": 41,
    "start_time": "2022-05-03T03:49:17.079Z"
   },
   {
    "duration": 73,
    "start_time": "2022-05-03T03:49:17.446Z"
   },
   {
    "duration": 36,
    "start_time": "2022-05-03T03:49:17.840Z"
   },
   {
    "duration": 59,
    "start_time": "2022-05-03T03:49:18.062Z"
   },
   {
    "duration": 50,
    "start_time": "2022-05-03T03:49:18.536Z"
   },
   {
    "duration": 46,
    "start_time": "2022-05-03T03:49:19.340Z"
   },
   {
    "duration": 316,
    "start_time": "2022-05-03T03:49:20.468Z"
   },
   {
    "duration": 55,
    "start_time": "2022-05-03T03:49:20.786Z"
   },
   {
    "duration": 322,
    "start_time": "2022-05-03T03:49:21.170Z"
   },
   {
    "duration": 37,
    "start_time": "2022-05-03T03:49:21.494Z"
   },
   {
    "duration": 534,
    "start_time": "2022-05-03T03:49:21.767Z"
   },
   {
    "duration": 10,
    "start_time": "2022-05-03T03:49:22.303Z"
   },
   {
    "duration": 22,
    "start_time": "2022-05-03T03:49:22.342Z"
   },
   {
    "duration": 37,
    "start_time": "2022-05-03T03:49:22.517Z"
   },
   {
    "duration": 70,
    "start_time": "2022-05-03T03:49:22.706Z"
   },
   {
    "duration": 8,
    "start_time": "2022-05-03T03:49:23.598Z"
   },
   {
    "duration": 27,
    "start_time": "2022-05-03T03:49:23.824Z"
   },
   {
    "duration": 3,
    "start_time": "2022-05-03T03:49:24.225Z"
   },
   {
    "duration": 437,
    "start_time": "2022-05-03T03:49:24.955Z"
   },
   {
    "duration": 3,
    "start_time": "2022-05-03T03:49:25.784Z"
   },
   {
    "duration": 1376,
    "start_time": "2022-05-03T03:49:26.113Z"
   },
   {
    "duration": 3,
    "start_time": "2022-05-03T03:49:27.492Z"
   },
   {
    "duration": 57058,
    "start_time": "2022-05-03T03:49:27.497Z"
   },
   {
    "duration": 4,
    "start_time": "2022-05-03T03:50:24.557Z"
   },
   {
    "duration": 12,
    "start_time": "2022-05-03T03:50:24.562Z"
   },
   {
    "duration": 15,
    "start_time": "2022-05-03T03:50:24.576Z"
   },
   {
    "duration": 9,
    "start_time": "2022-05-03T03:50:24.593Z"
   },
   {
    "duration": 109836,
    "start_time": "2022-05-03T03:50:24.605Z"
   },
   {
    "duration": 3,
    "start_time": "2022-05-03T03:52:14.443Z"
   },
   {
    "duration": 8,
    "start_time": "2022-05-03T03:52:14.448Z"
   },
   {
    "duration": 7,
    "start_time": "2022-05-03T03:52:14.457Z"
   },
   {
    "duration": 6,
    "start_time": "2022-05-03T03:52:14.465Z"
   },
   {
    "duration": 1124448,
    "start_time": "2022-05-03T03:52:14.472Z"
   },
   {
    "duration": 11,
    "start_time": "2022-05-03T04:10:58.921Z"
   },
   {
    "duration": 0,
    "start_time": "2022-05-03T04:10:58.934Z"
   },
   {
    "duration": 3,
    "start_time": "2022-05-03T04:11:04.751Z"
   },
   {
    "duration": 11,
    "start_time": "2022-05-03T04:11:27.465Z"
   },
   {
    "duration": 3,
    "start_time": "2022-05-03T04:11:35.178Z"
   },
   {
    "duration": 3,
    "start_time": "2022-05-03T04:11:38.905Z"
   },
   {
    "duration": 10,
    "start_time": "2022-05-03T04:12:03.588Z"
   },
   {
    "duration": 42,
    "start_time": "2022-05-03T04:12:33.542Z"
   },
   {
    "duration": 4,
    "start_time": "2022-05-03T04:12:46.482Z"
   },
   {
    "duration": 3,
    "start_time": "2022-05-03T04:13:21.234Z"
   },
   {
    "duration": 16037,
    "start_time": "2022-05-03T04:14:07.915Z"
   },
   {
    "duration": 14753,
    "start_time": "2022-05-03T04:14:39.142Z"
   },
   {
    "duration": 10,
    "start_time": "2022-05-03T04:17:32.639Z"
   },
   {
    "duration": 4,
    "start_time": "2022-05-03T04:18:10.965Z"
   },
   {
    "duration": 3,
    "start_time": "2022-05-03T04:18:12.586Z"
   },
   {
    "duration": 1111550,
    "start_time": "2022-05-03T04:18:20.587Z"
   },
   {
    "duration": 9,
    "start_time": "2022-05-03T04:36:52.140Z"
   },
   {
    "duration": 0,
    "start_time": "2022-05-03T04:36:52.150Z"
   },
   {
    "duration": 1452819,
    "start_time": "2022-05-03T04:51:11.892Z"
   },
   {
    "duration": 3,
    "start_time": "2022-05-03T05:15:24.713Z"
   },
   {
    "duration": 18,
    "start_time": "2022-05-03T05:15:24.717Z"
   },
   {
    "duration": 3,
    "start_time": "2022-05-03T05:16:43.218Z"
   },
   {
    "duration": 3,
    "start_time": "2022-05-03T05:16:43.462Z"
   },
   {
    "duration": 1691,
    "start_time": "2022-05-03T10:51:51.292Z"
   },
   {
    "duration": 1124,
    "start_time": "2022-05-03T10:51:52.985Z"
   },
   {
    "duration": 114,
    "start_time": "2022-05-03T10:51:54.111Z"
   },
   {
    "duration": 104,
    "start_time": "2022-05-03T10:51:54.228Z"
   },
   {
    "duration": 424,
    "start_time": "2022-05-03T10:51:54.334Z"
   },
   {
    "duration": 400,
    "start_time": "2022-05-03T10:51:54.760Z"
   },
   {
    "duration": 421,
    "start_time": "2022-05-03T10:51:55.162Z"
   },
   {
    "duration": 160,
    "start_time": "2022-05-03T10:51:57.539Z"
   },
   {
    "duration": 4,
    "start_time": "2022-05-03T10:51:57.853Z"
   },
   {
    "duration": 535,
    "start_time": "2022-05-03T10:51:58.013Z"
   },
   {
    "duration": 222,
    "start_time": "2022-05-03T10:51:58.550Z"
   },
   {
    "duration": 227,
    "start_time": "2022-05-03T10:51:58.774Z"
   },
   {
    "duration": 483,
    "start_time": "2022-05-03T10:51:59.003Z"
   },
   {
    "duration": 445,
    "start_time": "2022-05-03T10:51:59.488Z"
   },
   {
    "duration": 100,
    "start_time": "2022-05-03T10:51:59.935Z"
   },
   {
    "duration": 34,
    "start_time": "2022-05-03T10:52:00.037Z"
   },
   {
    "duration": 4,
    "start_time": "2022-05-03T10:52:00.380Z"
   },
   {
    "duration": 62,
    "start_time": "2022-05-03T10:52:00.537Z"
   },
   {
    "duration": 1491,
    "start_time": "2022-05-03T10:52:00.885Z"
   },
   {
    "duration": 650,
    "start_time": "2022-05-03T10:52:02.378Z"
   },
   {
    "duration": 54,
    "start_time": "2022-05-03T10:52:03.030Z"
   },
   {
    "duration": 84,
    "start_time": "2022-05-03T10:52:03.086Z"
   },
   {
    "duration": 52,
    "start_time": "2022-05-03T10:52:03.172Z"
   },
   {
    "duration": 37,
    "start_time": "2022-05-03T10:52:03.225Z"
   },
   {
    "duration": 7,
    "start_time": "2022-05-03T10:52:03.265Z"
   },
   {
    "duration": 7,
    "start_time": "2022-05-03T10:52:03.370Z"
   },
   {
    "duration": 36,
    "start_time": "2022-05-03T10:52:03.544Z"
   },
   {
    "duration": 17,
    "start_time": "2022-05-03T10:52:03.891Z"
   },
   {
    "duration": 61,
    "start_time": "2022-05-03T10:52:04.237Z"
   },
   {
    "duration": 10,
    "start_time": "2022-05-03T10:52:04.400Z"
   },
   {
    "duration": 10,
    "start_time": "2022-05-03T10:52:04.578Z"
   },
   {
    "duration": 4,
    "start_time": "2022-05-03T10:52:04.755Z"
   },
   {
    "duration": 56,
    "start_time": "2022-05-03T10:52:05.110Z"
   },
   {
    "duration": 10,
    "start_time": "2022-05-03T10:52:05.277Z"
   },
   {
    "duration": 9,
    "start_time": "2022-05-03T10:52:05.466Z"
   },
   {
    "duration": 3,
    "start_time": "2022-05-03T10:52:05.639Z"
   },
   {
    "duration": 157,
    "start_time": "2022-05-03T10:52:06.012Z"
   },
   {
    "duration": 40,
    "start_time": "2022-05-03T10:52:06.204Z"
   },
   {
    "duration": 64,
    "start_time": "2022-05-03T10:52:06.396Z"
   },
   {
    "duration": 38,
    "start_time": "2022-05-03T10:52:06.768Z"
   },
   {
    "duration": 54,
    "start_time": "2022-05-03T10:52:06.937Z"
   },
   {
    "duration": 49,
    "start_time": "2022-05-03T10:52:07.336Z"
   },
   {
    "duration": 50,
    "start_time": "2022-05-03T10:52:07.741Z"
   },
   {
    "duration": 348,
    "start_time": "2022-05-03T10:52:08.270Z"
   },
   {
    "duration": 52,
    "start_time": "2022-05-03T10:52:09.772Z"
   },
   {
    "duration": 351,
    "start_time": "2022-05-03T10:52:13.446Z"
   },
   {
    "duration": 27,
    "start_time": "2022-05-03T10:52:14.037Z"
   },
   {
    "duration": 471,
    "start_time": "2022-05-03T10:52:15.307Z"
   },
   {
    "duration": 9,
    "start_time": "2022-05-03T10:52:15.780Z"
   },
   {
    "duration": 22,
    "start_time": "2022-05-03T10:52:16.249Z"
   },
   {
    "duration": 35,
    "start_time": "2022-05-03T10:52:16.454Z"
   },
   {
    "duration": 70,
    "start_time": "2022-05-03T10:52:16.675Z"
   },
   {
    "duration": 7,
    "start_time": "2022-05-03T10:52:20.279Z"
   },
   {
    "duration": 29,
    "start_time": "2022-05-03T10:52:21.113Z"
   },
   {
    "duration": 399,
    "start_time": "2022-05-03T10:52:25.679Z"
   },
   {
    "duration": 3,
    "start_time": "2022-05-03T10:52:26.611Z"
   },
   {
    "duration": 1210,
    "start_time": "2022-05-03T10:52:26.976Z"
   },
   {
    "duration": 3,
    "start_time": "2022-05-03T10:52:28.188Z"
   },
   {
    "duration": 37961,
    "start_time": "2022-05-03T10:52:30.462Z"
   },
   {
    "duration": 3,
    "start_time": "2022-05-03T10:53:08.426Z"
   },
   {
    "duration": 119,
    "start_time": "2022-05-03T10:53:08.431Z"
   },
   {
    "duration": 2,
    "start_time": "2022-05-03T10:53:57.339Z"
   },
   {
    "duration": 3,
    "start_time": "2022-05-03T10:53:58.168Z"
   },
   {
    "duration": 98662,
    "start_time": "2022-05-03T10:54:03.700Z"
   },
   {
    "duration": 3,
    "start_time": "2022-05-03T10:55:42.364Z"
   },
   {
    "duration": 6,
    "start_time": "2022-05-03T10:55:42.369Z"
   },
   {
    "duration": 4,
    "start_time": "2022-05-03T10:55:42.377Z"
   },
   {
    "duration": 5,
    "start_time": "2022-05-03T10:55:42.382Z"
   },
   {
    "duration": 8184707,
    "start_time": "2022-05-03T10:55:42.388Z"
   },
   {
    "duration": 14,
    "start_time": "2022-05-03T13:12:07.097Z"
   },
   {
    "duration": 0,
    "start_time": "2022-05-03T13:12:07.114Z"
   },
   {
    "duration": 0,
    "start_time": "2022-05-03T13:12:07.115Z"
   },
   {
    "duration": 0,
    "start_time": "2022-05-03T13:12:07.116Z"
   },
   {
    "duration": 0,
    "start_time": "2022-05-03T13:12:07.117Z"
   },
   {
    "duration": 0,
    "start_time": "2022-05-03T13:12:07.118Z"
   },
   {
    "duration": 0,
    "start_time": "2022-05-03T13:12:07.119Z"
   },
   {
    "duration": 0,
    "start_time": "2022-05-03T13:12:07.121Z"
   },
   {
    "duration": 0,
    "start_time": "2022-05-03T13:12:07.122Z"
   },
   {
    "duration": 0,
    "start_time": "2022-05-03T13:12:07.123Z"
   },
   {
    "duration": 0,
    "start_time": "2022-05-03T13:12:07.124Z"
   },
   {
    "duration": 0,
    "start_time": "2022-05-03T13:12:07.125Z"
   },
   {
    "duration": 3,
    "start_time": "2022-05-03T13:12:29.767Z"
   },
   {
    "duration": 512464,
    "start_time": "2022-05-03T13:12:30.524Z"
   },
   {
    "duration": 3,
    "start_time": "2022-05-03T13:21:02.990Z"
   },
   {
    "duration": 10,
    "start_time": "2022-05-03T13:21:02.995Z"
   },
   {
    "duration": 17,
    "start_time": "2022-05-03T13:21:03.007Z"
   },
   {
    "duration": 4,
    "start_time": "2022-05-03T13:21:03.025Z"
   },
   {
    "duration": 1404846,
    "start_time": "2022-05-03T13:21:03.031Z"
   },
   {
    "duration": 4,
    "start_time": "2022-05-03T13:44:27.879Z"
   },
   {
    "duration": 6,
    "start_time": "2022-05-03T13:44:27.884Z"
   },
   {
    "duration": 7,
    "start_time": "2022-05-03T13:44:27.892Z"
   },
   {
    "duration": 4,
    "start_time": "2022-05-03T13:44:27.901Z"
   },
   {
    "duration": 633,
    "start_time": "2022-05-03T13:44:27.907Z"
   },
   {
    "duration": 9,
    "start_time": "2022-05-03T13:44:28.542Z"
   },
   {
    "duration": 0,
    "start_time": "2022-05-03T13:44:28.552Z"
   },
   {
    "duration": 0,
    "start_time": "2022-05-03T13:44:28.554Z"
   },
   {
    "duration": 0,
    "start_time": "2022-05-03T13:44:28.555Z"
   },
   {
    "duration": 0,
    "start_time": "2022-05-03T13:44:28.556Z"
   },
   {
    "duration": 0,
    "start_time": "2022-05-03T13:44:28.557Z"
   },
   {
    "duration": 0,
    "start_time": "2022-05-03T13:44:28.558Z"
   },
   {
    "duration": 0,
    "start_time": "2022-05-03T13:44:28.559Z"
   },
   {
    "duration": 0,
    "start_time": "2022-05-03T13:44:28.560Z"
   },
   {
    "duration": 0,
    "start_time": "2022-05-03T13:44:28.561Z"
   },
   {
    "duration": 0,
    "start_time": "2022-05-03T13:44:28.562Z"
   },
   {
    "duration": 0,
    "start_time": "2022-05-03T13:44:28.563Z"
   },
   {
    "duration": 3,
    "start_time": "2022-05-03T13:50:55.657Z"
   },
   {
    "duration": 3,
    "start_time": "2022-05-03T13:50:55.833Z"
   },
   {
    "duration": 117074,
    "start_time": "2022-05-03T13:50:56.108Z"
   },
   {
    "duration": 3,
    "start_time": "2022-05-03T13:52:53.184Z"
   },
   {
    "duration": 7,
    "start_time": "2022-05-03T13:52:53.189Z"
   },
   {
    "duration": 4,
    "start_time": "2022-05-03T13:52:53.198Z"
   },
   {
    "duration": 5,
    "start_time": "2022-05-03T13:52:53.203Z"
   },
   {
    "duration": 885717,
    "start_time": "2022-05-03T13:52:53.224Z"
   },
   {
    "duration": 5,
    "start_time": "2022-05-03T14:07:38.943Z"
   },
   {
    "duration": 5,
    "start_time": "2022-05-03T14:07:38.950Z"
   },
   {
    "duration": 647,
    "start_time": "2022-05-03T14:25:58.036Z"
   },
   {
    "duration": 11,
    "start_time": "2022-05-03T14:47:25.753Z"
   },
   {
    "duration": 145,
    "start_time": "2022-05-03T14:47:37.599Z"
   },
   {
    "duration": 15,
    "start_time": "2022-05-03T14:49:00.619Z"
   },
   {
    "duration": 26,
    "start_time": "2022-05-03T14:49:29.941Z"
   },
   {
    "duration": 2,
    "start_time": "2022-05-03T14:49:35.491Z"
   },
   {
    "duration": 2,
    "start_time": "2022-05-03T14:49:36.741Z"
   },
   {
    "duration": 1420,
    "start_time": "2022-05-03T14:50:06.060Z"
   },
   {
    "duration": 1086,
    "start_time": "2022-05-03T14:50:28.450Z"
   },
   {
    "duration": 12,
    "start_time": "2022-05-03T14:54:06.273Z"
   },
   {
    "duration": 145,
    "start_time": "2022-05-03T14:55:36.675Z"
   },
   {
    "duration": 15,
    "start_time": "2022-05-03T14:55:37.359Z"
   },
   {
    "duration": 22,
    "start_time": "2022-05-03T14:55:40.766Z"
   },
   {
    "duration": 3,
    "start_time": "2022-05-03T14:55:44.375Z"
   },
   {
    "duration": 3,
    "start_time": "2022-05-03T14:55:44.950Z"
   },
   {
    "duration": 1014,
    "start_time": "2022-05-03T14:55:45.627Z"
   },
   {
    "duration": 989,
    "start_time": "2022-05-03T14:55:57.787Z"
   },
   {
    "duration": 587,
    "start_time": "2022-05-03T14:56:38.753Z"
   },
   {
    "duration": 3,
    "start_time": "2022-05-03T15:04:00.604Z"
   },
   {
    "duration": 3,
    "start_time": "2022-05-03T15:04:01.132Z"
   },
   {
    "duration": 378878,
    "start_time": "2022-05-03T15:04:02.956Z"
   },
   {
    "duration": 4,
    "start_time": "2022-05-03T15:10:21.836Z"
   },
   {
    "duration": 83,
    "start_time": "2022-05-03T15:10:21.841Z"
   },
   {
    "duration": 67,
    "start_time": "2022-05-03T15:18:16.598Z"
   },
   {
    "duration": 632,
    "start_time": "2022-05-03T15:18:39.584Z"
   },
   {
    "duration": 2,
    "start_time": "2022-05-03T15:19:32.339Z"
   },
   {
    "duration": 3,
    "start_time": "2022-05-03T15:19:33.306Z"
   },
   {
    "duration": 1131,
    "start_time": "2022-05-03T15:19:35.126Z"
   },
   {
    "duration": 77,
    "start_time": "2022-05-03T15:38:50.399Z"
   },
   {
    "duration": 604,
    "start_time": "2022-05-03T15:38:58.160Z"
   },
   {
    "duration": 2,
    "start_time": "2022-05-03T15:43:04.615Z"
   },
   {
    "duration": 3,
    "start_time": "2022-05-03T15:43:05.067Z"
   },
   {
    "duration": 255289,
    "start_time": "2022-05-03T15:43:11.842Z"
   },
   {
    "duration": 3,
    "start_time": "2022-05-03T15:47:27.133Z"
   },
   {
    "duration": 22,
    "start_time": "2022-05-03T15:47:27.139Z"
   },
   {
    "duration": 10,
    "start_time": "2022-05-03T15:48:09.671Z"
   },
   {
    "duration": 11464,
    "start_time": "2022-05-03T15:59:43.464Z"
   },
   {
    "duration": 146,
    "start_time": "2022-05-03T16:00:23.286Z"
   },
   {
    "duration": 13,
    "start_time": "2022-05-03T16:01:11.309Z"
   },
   {
    "duration": 7,
    "start_time": "2022-05-03T16:01:34.952Z"
   },
   {
    "duration": 6,
    "start_time": "2022-05-03T16:01:40.708Z"
   },
   {
    "duration": 156,
    "start_time": "2022-05-03T16:02:38.141Z"
   },
   {
    "duration": 125,
    "start_time": "2022-05-03T16:02:38.676Z"
   },
   {
    "duration": 2391,
    "start_time": "2022-05-03T16:03:09.147Z"
   },
   {
    "duration": 72,
    "start_time": "2022-05-03T16:03:17.844Z"
   },
   {
    "duration": 5,
    "start_time": "2022-05-03T16:03:36.413Z"
   },
   {
    "duration": 14692,
    "start_time": "2022-05-03T16:04:40.621Z"
   },
   {
    "duration": 145,
    "start_time": "2022-05-03T16:04:55.315Z"
   },
   {
    "duration": 5,
    "start_time": "2022-05-03T16:04:55.462Z"
   },
   {
    "duration": 10465,
    "start_time": "2022-05-03T16:06:21.166Z"
   },
   {
    "duration": 203,
    "start_time": "2022-05-03T16:06:31.723Z"
   },
   {
    "duration": 96,
    "start_time": "2022-05-03T16:06:31.931Z"
   },
   {
    "duration": 2363,
    "start_time": "2022-05-03T16:06:32.029Z"
   },
   {
    "duration": 80,
    "start_time": "2022-05-03T16:06:34.394Z"
   },
   {
    "duration": 5,
    "start_time": "2022-05-03T16:06:34.476Z"
   },
   {
    "duration": 14526,
    "start_time": "2022-05-03T16:06:34.483Z"
   },
   {
    "duration": 142,
    "start_time": "2022-05-03T16:06:49.010Z"
   },
   {
    "duration": 5,
    "start_time": "2022-05-03T16:06:49.153Z"
   },
   {
    "duration": 79566,
    "start_time": "2022-05-03T16:06:49.160Z"
   },
   {
    "duration": 418,
    "start_time": "2022-05-03T16:08:08.728Z"
   },
   {
    "duration": 6,
    "start_time": "2022-05-03T16:08:09.148Z"
   },
   {
    "duration": 15025,
    "start_time": "2022-05-03T16:14:26.799Z"
   },
   {
    "duration": 498,
    "start_time": "2022-05-03T16:14:41.826Z"
   },
   {
    "duration": 5,
    "start_time": "2022-05-03T16:14:42.326Z"
   },
   {
    "duration": 9,
    "start_time": "2022-05-03T16:20:44.635Z"
   },
   {
    "duration": 8,
    "start_time": "2022-05-03T16:20:48.842Z"
   },
   {
    "duration": 9,
    "start_time": "2022-05-03T16:20:51.396Z"
   },
   {
    "duration": 6,
    "start_time": "2022-05-03T16:21:14.298Z"
   },
   {
    "duration": 8,
    "start_time": "2022-05-03T16:21:39.871Z"
   },
   {
    "duration": 4,
    "start_time": "2022-05-03T16:21:50.106Z"
   },
   {
    "duration": 3,
    "start_time": "2022-05-03T16:22:01.025Z"
   },
   {
    "duration": 2,
    "start_time": "2022-05-03T16:22:10.129Z"
   },
   {
    "duration": 4,
    "start_time": "2022-05-03T16:22:19.216Z"
   },
   {
    "duration": 4,
    "start_time": "2022-05-03T16:23:40.530Z"
   },
   {
    "duration": 4,
    "start_time": "2022-05-03T16:24:00.838Z"
   },
   {
    "duration": 4,
    "start_time": "2022-05-03T16:24:05.047Z"
   },
   {
    "duration": 41329,
    "start_time": "2022-05-03T16:26:39.408Z"
   },
   {
    "duration": 87,
    "start_time": "2022-05-03T16:27:20.740Z"
   },
   {
    "duration": 37243,
    "start_time": "2022-05-03T16:27:32.684Z"
   },
   {
    "duration": 94,
    "start_time": "2022-05-03T16:28:09.930Z"
   },
   {
    "duration": 1428,
    "start_time": "2022-05-03T16:35:16.090Z"
   },
   {
    "duration": 688,
    "start_time": "2022-05-03T16:35:17.520Z"
   },
   {
    "duration": 114,
    "start_time": "2022-05-03T16:35:18.209Z"
   },
   {
    "duration": 87,
    "start_time": "2022-05-03T16:35:18.325Z"
   },
   {
    "duration": 400,
    "start_time": "2022-05-03T16:35:18.424Z"
   },
   {
    "duration": 360,
    "start_time": "2022-05-03T16:35:18.825Z"
   },
   {
    "duration": 398,
    "start_time": "2022-05-03T16:35:19.186Z"
   },
   {
    "duration": 171,
    "start_time": "2022-05-03T16:35:19.585Z"
   },
   {
    "duration": 3,
    "start_time": "2022-05-03T16:35:19.758Z"
   },
   {
    "duration": 534,
    "start_time": "2022-05-03T16:35:19.764Z"
   },
   {
    "duration": 226,
    "start_time": "2022-05-03T16:35:20.300Z"
   },
   {
    "duration": 225,
    "start_time": "2022-05-03T16:35:20.528Z"
   },
   {
    "duration": 483,
    "start_time": "2022-05-03T16:35:20.755Z"
   },
   {
    "duration": 454,
    "start_time": "2022-05-03T16:35:21.240Z"
   },
   {
    "duration": 96,
    "start_time": "2022-05-03T16:35:21.696Z"
   },
   {
    "duration": 42,
    "start_time": "2022-05-03T16:35:21.794Z"
   },
   {
    "duration": 4,
    "start_time": "2022-05-03T16:35:21.838Z"
   },
   {
    "duration": 62,
    "start_time": "2022-05-03T16:35:21.844Z"
   },
   {
    "duration": 1547,
    "start_time": "2022-05-03T16:35:21.908Z"
   },
   {
    "duration": 562,
    "start_time": "2022-05-03T16:35:23.457Z"
   },
   {
    "duration": 55,
    "start_time": "2022-05-03T16:35:24.021Z"
   },
   {
    "duration": 87,
    "start_time": "2022-05-03T16:35:24.078Z"
   },
   {
    "duration": 38,
    "start_time": "2022-05-03T16:35:24.167Z"
   },
   {
    "duration": 50,
    "start_time": "2022-05-03T16:35:24.207Z"
   },
   {
    "duration": 7,
    "start_time": "2022-05-03T16:35:24.260Z"
   },
   {
    "duration": 9,
    "start_time": "2022-05-03T16:35:24.268Z"
   },
   {
    "duration": 60,
    "start_time": "2022-05-03T16:35:24.279Z"
   },
   {
    "duration": 20,
    "start_time": "2022-05-03T16:35:24.341Z"
   },
   {
    "duration": 62,
    "start_time": "2022-05-03T16:35:24.638Z"
   },
   {
    "duration": 10,
    "start_time": "2022-05-03T16:35:24.809Z"
   },
   {
    "duration": 10,
    "start_time": "2022-05-03T16:35:24.978Z"
   },
   {
    "duration": 4,
    "start_time": "2022-05-03T16:35:25.160Z"
   },
   {
    "duration": 57,
    "start_time": "2022-05-03T16:35:25.511Z"
   },
   {
    "duration": 10,
    "start_time": "2022-05-03T16:35:25.677Z"
   },
   {
    "duration": 10,
    "start_time": "2022-05-03T16:35:25.858Z"
   },
   {
    "duration": 4,
    "start_time": "2022-05-03T16:35:26.026Z"
   },
   {
    "duration": 151,
    "start_time": "2022-05-03T16:35:26.375Z"
   },
   {
    "duration": 35,
    "start_time": "2022-05-03T16:35:26.559Z"
   },
   {
    "duration": 69,
    "start_time": "2022-05-03T16:35:26.713Z"
   },
   {
    "duration": 38,
    "start_time": "2022-05-03T16:35:27.095Z"
   },
   {
    "duration": 50,
    "start_time": "2022-05-03T16:35:27.286Z"
   },
   {
    "duration": 63,
    "start_time": "2022-05-03T16:35:27.639Z"
   },
   {
    "duration": 46,
    "start_time": "2022-05-03T16:35:28.123Z"
   },
   {
    "duration": 306,
    "start_time": "2022-05-03T16:35:28.508Z"
   },
   {
    "duration": 52,
    "start_time": "2022-05-03T16:35:28.824Z"
   },
   {
    "duration": 313,
    "start_time": "2022-05-03T16:35:29.116Z"
   },
   {
    "duration": 25,
    "start_time": "2022-05-03T16:35:29.431Z"
   },
   {
    "duration": 534,
    "start_time": "2022-05-03T16:35:29.933Z"
   },
   {
    "duration": 10,
    "start_time": "2022-05-03T16:35:30.470Z"
   },
   {
    "duration": 33,
    "start_time": "2022-05-03T16:35:30.527Z"
   },
   {
    "duration": 50,
    "start_time": "2022-05-03T16:35:30.702Z"
   },
   {
    "duration": 107,
    "start_time": "2022-05-03T16:35:30.886Z"
   },
   {
    "duration": 9,
    "start_time": "2022-05-03T16:35:31.687Z"
   },
   {
    "duration": 43,
    "start_time": "2022-05-03T16:35:31.896Z"
   },
   {
    "duration": 537,
    "start_time": "2022-05-03T16:35:32.471Z"
   },
   {
    "duration": 3,
    "start_time": "2022-05-03T16:35:33.011Z"
   },
   {
    "duration": 1480,
    "start_time": "2022-05-03T16:35:33.090Z"
   },
   {
    "duration": 3,
    "start_time": "2022-05-03T16:35:34.573Z"
   },
   {
    "duration": 44262,
    "start_time": "2022-05-03T16:35:34.578Z"
   },
   {
    "duration": 83,
    "start_time": "2022-05-03T16:36:18.842Z"
   },
   {
    "duration": 99,
    "start_time": "2022-05-03T16:36:18.927Z"
   },
   {
    "duration": 8,
    "start_time": "2022-05-03T16:36:19.027Z"
   },
   {
    "duration": 4,
    "start_time": "2022-05-03T16:36:19.036Z"
   },
   {
    "duration": 6,
    "start_time": "2022-05-03T16:36:19.041Z"
   },
   {
    "duration": 111315,
    "start_time": "2022-05-03T16:36:19.048Z"
   },
   {
    "duration": 3,
    "start_time": "2022-05-03T16:38:10.366Z"
   },
   {
    "duration": 6,
    "start_time": "2022-05-03T16:38:10.371Z"
   },
   {
    "duration": 5,
    "start_time": "2022-05-03T16:38:10.378Z"
   },
   {
    "duration": 4,
    "start_time": "2022-05-03T16:38:10.385Z"
   },
   {
    "duration": 836239,
    "start_time": "2022-05-03T16:38:10.391Z"
   },
   {
    "duration": 4,
    "start_time": "2022-05-03T16:52:06.632Z"
   },
   {
    "duration": 13,
    "start_time": "2022-05-03T16:52:06.637Z"
   },
   {
    "duration": 7,
    "start_time": "2022-05-03T16:52:06.651Z"
   },
   {
    "duration": 5,
    "start_time": "2022-05-03T16:52:06.660Z"
   },
   {
    "duration": 1377650,
    "start_time": "2022-05-03T16:52:06.667Z"
   },
   {
    "duration": 3,
    "start_time": "2022-05-03T17:15:04.323Z"
   },
   {
    "duration": 10,
    "start_time": "2022-05-03T17:15:04.328Z"
   },
   {
    "duration": 166,
    "start_time": "2022-05-03T17:15:04.339Z"
   },
   {
    "duration": 25,
    "start_time": "2022-05-03T17:15:04.507Z"
   },
   {
    "duration": 27,
    "start_time": "2022-05-03T17:15:04.533Z"
   },
   {
    "duration": 12,
    "start_time": "2022-05-03T17:15:04.562Z"
   },
   {
    "duration": 5,
    "start_time": "2022-05-03T17:15:04.576Z"
   },
   {
    "duration": 6,
    "start_time": "2022-05-03T17:15:04.583Z"
   },
   {
    "duration": 274637,
    "start_time": "2022-05-03T17:15:04.593Z"
   },
   {
    "duration": 4,
    "start_time": "2022-05-03T17:19:39.232Z"
   },
   {
    "duration": 6,
    "start_time": "2022-05-03T17:19:39.238Z"
   },
   {
    "duration": 9378,
    "start_time": "2022-05-03T17:19:39.245Z"
   },
   {
    "duration": 200,
    "start_time": "2022-05-03T17:19:48.625Z"
   },
   {
    "duration": 6,
    "start_time": "2022-05-03T17:19:48.827Z"
   },
   {
    "duration": 2470,
    "start_time": "2022-05-03T17:19:48.924Z"
   },
   {
    "duration": 83,
    "start_time": "2022-05-03T17:19:51.396Z"
   },
   {
    "duration": 5,
    "start_time": "2022-05-03T17:19:51.481Z"
   },
   {
    "duration": 15324,
    "start_time": "2022-05-03T17:19:51.487Z"
   },
   {
    "duration": 151,
    "start_time": "2022-05-03T17:20:06.813Z"
   },
   {
    "duration": 6,
    "start_time": "2022-05-03T17:20:06.966Z"
   },
   {
    "duration": 83162,
    "start_time": "2022-05-03T17:20:06.974Z"
   },
   {
    "duration": 438,
    "start_time": "2022-05-03T17:21:30.138Z"
   },
   {
    "duration": 5,
    "start_time": "2022-05-03T17:21:30.577Z"
   },
   {
    "duration": 32053,
    "start_time": "2022-05-03T17:21:30.584Z"
   },
   {
    "duration": 503,
    "start_time": "2022-05-03T17:22:02.639Z"
   },
   {
    "duration": 5,
    "start_time": "2022-05-03T17:22:03.144Z"
   },
   {
    "duration": 6,
    "start_time": "2022-05-03T17:22:03.241Z"
   },
   {
    "duration": 14,
    "start_time": "2022-05-03T17:22:03.248Z"
   },
   {
    "duration": 51117,
    "start_time": "2022-05-04T10:18:54.647Z"
   },
   {
    "duration": 753,
    "start_time": "2022-05-04T10:19:45.766Z"
   },
   {
    "duration": 120,
    "start_time": "2022-05-04T10:19:46.523Z"
   },
   {
    "duration": 95,
    "start_time": "2022-05-04T10:19:46.645Z"
   },
   {
    "duration": 526,
    "start_time": "2022-05-04T10:19:46.742Z"
   },
   {
    "duration": 436,
    "start_time": "2022-05-04T10:19:47.269Z"
   },
   {
    "duration": 462,
    "start_time": "2022-05-04T10:19:47.707Z"
   },
   {
    "duration": 170,
    "start_time": "2022-05-04T10:19:48.171Z"
   },
   {
    "duration": 4,
    "start_time": "2022-05-04T10:19:48.342Z"
   },
   {
    "duration": 547,
    "start_time": "2022-05-04T10:19:48.347Z"
   },
   {
    "duration": 213,
    "start_time": "2022-05-04T10:19:48.896Z"
   },
   {
    "duration": 239,
    "start_time": "2022-05-04T10:19:49.111Z"
   },
   {
    "duration": 509,
    "start_time": "2022-05-04T10:19:49.352Z"
   },
   {
    "duration": 479,
    "start_time": "2022-05-04T10:19:49.865Z"
   },
   {
    "duration": 107,
    "start_time": "2022-05-04T10:19:50.346Z"
   },
   {
    "duration": 35,
    "start_time": "2022-05-04T10:19:50.454Z"
   },
   {
    "duration": 4,
    "start_time": "2022-05-04T10:19:50.491Z"
   },
   {
    "duration": 82,
    "start_time": "2022-05-04T10:19:50.497Z"
   },
   {
    "duration": 1544,
    "start_time": "2022-05-04T10:19:50.580Z"
   },
   {
    "duration": 561,
    "start_time": "2022-05-04T10:19:52.126Z"
   },
   {
    "duration": 67,
    "start_time": "2022-05-04T10:19:52.688Z"
   },
   {
    "duration": 79,
    "start_time": "2022-05-04T10:19:52.756Z"
   },
   {
    "duration": 38,
    "start_time": "2022-05-04T10:19:52.836Z"
   },
   {
    "duration": 54,
    "start_time": "2022-05-04T10:19:52.875Z"
   },
   {
    "duration": 7,
    "start_time": "2022-05-04T10:19:52.931Z"
   },
   {
    "duration": 9,
    "start_time": "2022-05-04T10:19:52.940Z"
   },
   {
    "duration": 38,
    "start_time": "2022-05-04T10:19:52.950Z"
   },
   {
    "duration": 43,
    "start_time": "2022-05-04T10:19:52.990Z"
   },
   {
    "duration": 63,
    "start_time": "2022-05-04T10:19:53.035Z"
   },
   {
    "duration": 10,
    "start_time": "2022-05-04T10:19:53.099Z"
   },
   {
    "duration": 19,
    "start_time": "2022-05-04T10:19:53.111Z"
   },
   {
    "duration": 6,
    "start_time": "2022-05-04T10:19:53.132Z"
   },
   {
    "duration": 61,
    "start_time": "2022-05-04T10:19:53.139Z"
   },
   {
    "duration": 23,
    "start_time": "2022-05-04T10:19:53.202Z"
   },
   {
    "duration": 13,
    "start_time": "2022-05-04T10:19:53.227Z"
   },
   {
    "duration": 6,
    "start_time": "2022-05-04T10:19:53.241Z"
   },
   {
    "duration": 175,
    "start_time": "2022-05-04T10:19:53.248Z"
   },
   {
    "duration": 37,
    "start_time": "2022-05-04T10:19:53.425Z"
   },
   {
    "duration": 85,
    "start_time": "2022-05-04T10:19:53.464Z"
   },
   {
    "duration": 40,
    "start_time": "2022-05-04T10:19:53.550Z"
   },
   {
    "duration": 65,
    "start_time": "2022-05-04T10:19:53.595Z"
   },
   {
    "duration": 63,
    "start_time": "2022-05-04T10:19:53.661Z"
   },
   {
    "duration": 48,
    "start_time": "2022-05-04T10:19:53.726Z"
   },
   {
    "duration": 358,
    "start_time": "2022-05-04T10:19:53.775Z"
   },
   {
    "duration": 57,
    "start_time": "2022-05-04T10:19:54.134Z"
   },
   {
    "duration": 341,
    "start_time": "2022-05-04T10:19:54.192Z"
   },
   {
    "duration": 25,
    "start_time": "2022-05-04T10:19:54.535Z"
   },
   {
    "duration": 508,
    "start_time": "2022-05-04T10:19:54.562Z"
   },
   {
    "duration": 9,
    "start_time": "2022-05-04T10:19:55.071Z"
   },
   {
    "duration": 35,
    "start_time": "2022-05-04T10:19:55.082Z"
   },
   {
    "duration": 38,
    "start_time": "2022-05-04T10:19:55.119Z"
   },
   {
    "duration": 82,
    "start_time": "2022-05-04T10:19:55.159Z"
   },
   {
    "duration": 7,
    "start_time": "2022-05-04T10:19:55.243Z"
   },
   {
    "duration": 45,
    "start_time": "2022-05-04T10:19:55.252Z"
   },
   {
    "duration": 404,
    "start_time": "2022-05-04T10:19:55.299Z"
   },
   {
    "duration": 3,
    "start_time": "2022-05-04T10:19:55.705Z"
   },
   {
    "duration": 1242,
    "start_time": "2022-05-04T10:19:55.710Z"
   },
   {
    "duration": 3,
    "start_time": "2022-05-04T10:19:56.954Z"
   },
   {
    "duration": 37875,
    "start_time": "2022-05-04T10:19:56.959Z"
   },
   {
    "duration": 4,
    "start_time": "2022-05-04T10:20:34.924Z"
   },
   {
    "duration": 102,
    "start_time": "2022-05-04T10:20:34.929Z"
   },
   {
    "duration": 5,
    "start_time": "2022-05-04T10:20:35.032Z"
   },
   {
    "duration": 7,
    "start_time": "2022-05-04T10:20:35.039Z"
   },
   {
    "duration": 5,
    "start_time": "2022-05-04T10:20:35.047Z"
   },
   {
    "duration": 112747,
    "start_time": "2022-05-04T10:20:35.054Z"
   },
   {
    "duration": 4,
    "start_time": "2022-05-04T10:22:27.803Z"
   },
   {
    "duration": 15,
    "start_time": "2022-05-04T10:22:27.809Z"
   },
   {
    "duration": 2,
    "start_time": "2022-05-04T10:22:27.826Z"
   },
   {
    "duration": 6,
    "start_time": "2022-05-04T10:22:27.830Z"
   },
   {
    "duration": 867346,
    "start_time": "2022-05-04T10:22:27.838Z"
   },
   {
    "duration": 3,
    "start_time": "2022-05-04T10:36:55.186Z"
   },
   {
    "duration": 7,
    "start_time": "2022-05-04T10:36:55.191Z"
   },
   {
    "duration": 5,
    "start_time": "2022-05-04T10:36:55.200Z"
   },
   {
    "duration": 17,
    "start_time": "2022-05-04T10:36:55.207Z"
   },
   {
    "duration": 1423819,
    "start_time": "2022-05-04T10:36:55.226Z"
   },
   {
    "duration": 5,
    "start_time": "2022-05-04T11:00:39.052Z"
   },
   {
    "duration": 172,
    "start_time": "2022-05-04T11:00:39.059Z"
   },
   {
    "duration": 15,
    "start_time": "2022-05-04T11:00:39.232Z"
   },
   {
    "duration": 25,
    "start_time": "2022-05-04T11:00:39.249Z"
   },
   {
    "duration": 9,
    "start_time": "2022-05-04T11:00:39.276Z"
   },
   {
    "duration": 16,
    "start_time": "2022-05-04T11:00:39.287Z"
   },
   {
    "duration": 19,
    "start_time": "2022-05-04T11:00:39.304Z"
   },
   {
    "duration": 436411,
    "start_time": "2022-05-04T11:00:39.325Z"
   },
   {
    "duration": 83,
    "start_time": "2022-05-04T11:07:55.743Z"
   },
   {
    "duration": 14500,
    "start_time": "2022-05-04T11:07:55.828Z"
   },
   {
    "duration": 198,
    "start_time": "2022-05-04T11:08:10.329Z"
   },
   {
    "duration": 96,
    "start_time": "2022-05-04T11:08:10.529Z"
   },
   {
    "duration": 2428,
    "start_time": "2022-05-04T11:08:10.627Z"
   },
   {
    "duration": 80,
    "start_time": "2022-05-04T11:08:13.057Z"
   },
   {
    "duration": 4,
    "start_time": "2022-05-04T11:08:13.139Z"
   },
   {
    "duration": 16201,
    "start_time": "2022-05-04T11:08:13.145Z"
   },
   {
    "duration": 140,
    "start_time": "2022-05-04T11:08:29.348Z"
   },
   {
    "duration": 5,
    "start_time": "2022-05-04T11:08:29.490Z"
   },
   {
    "duration": 90238,
    "start_time": "2022-05-04T11:08:29.496Z"
   },
   {
    "duration": 444,
    "start_time": "2022-05-04T11:09:59.736Z"
   },
   {
    "duration": 5,
    "start_time": "2022-05-04T11:10:00.182Z"
   },
   {
    "duration": 11940,
    "start_time": "2022-05-04T11:10:00.188Z"
   },
   {
    "duration": 512,
    "start_time": "2022-05-04T11:10:12.129Z"
   },
   {
    "duration": 5,
    "start_time": "2022-05-04T11:10:12.643Z"
   },
   {
    "duration": 79,
    "start_time": "2022-05-04T11:10:12.650Z"
   },
   {
    "duration": 23,
    "start_time": "2022-05-04T11:10:12.731Z"
   },
   {
    "duration": 3,
    "start_time": "2022-05-04T11:10:12.761Z"
   },
   {
    "duration": 5,
    "start_time": "2022-05-04T11:10:12.778Z"
   },
   {
    "duration": 2479,
    "start_time": "2022-05-04T14:21:37.287Z"
   },
   {
    "duration": 1083,
    "start_time": "2022-05-04T14:21:39.769Z"
   },
   {
    "duration": 174,
    "start_time": "2022-05-04T14:21:40.854Z"
   },
   {
    "duration": 173,
    "start_time": "2022-05-04T14:21:41.030Z"
   },
   {
    "duration": 671,
    "start_time": "2022-05-04T14:21:44.761Z"
   },
   {
    "duration": 729,
    "start_time": "2022-05-04T14:21:45.435Z"
   },
   {
    "duration": 756,
    "start_time": "2022-05-04T14:21:46.166Z"
   },
   {
    "duration": 290,
    "start_time": "2022-05-04T14:21:46.925Z"
   },
   {
    "duration": 6,
    "start_time": "2022-05-04T14:21:47.218Z"
   },
   {
    "duration": 841,
    "start_time": "2022-05-04T14:21:47.227Z"
   },
   {
    "duration": 321,
    "start_time": "2022-05-04T14:21:48.071Z"
   },
   {
    "duration": 335,
    "start_time": "2022-05-04T14:21:48.394Z"
   },
   {
    "duration": 328,
    "start_time": "2022-05-04T14:21:49.530Z"
   },
   {
    "duration": 899,
    "start_time": "2022-05-04T14:21:49.861Z"
   },
   {
    "duration": 660,
    "start_time": "2022-05-04T14:21:50.763Z"
   },
   {
    "duration": 152,
    "start_time": "2022-05-04T14:21:51.425Z"
   },
   {
    "duration": 52,
    "start_time": "2022-05-04T14:21:51.580Z"
   },
   {
    "duration": 6,
    "start_time": "2022-05-04T14:21:51.651Z"
   },
   {
    "duration": 78,
    "start_time": "2022-05-04T14:21:51.684Z"
   },
   {
    "duration": 2618,
    "start_time": "2022-05-04T14:21:52.615Z"
   },
   {
    "duration": 1007,
    "start_time": "2022-05-04T14:21:55.235Z"
   },
   {
    "duration": 86,
    "start_time": "2022-05-04T14:21:56.251Z"
   },
   {
    "duration": 131,
    "start_time": "2022-05-04T14:21:56.340Z"
   },
   {
    "duration": 95,
    "start_time": "2022-05-04T14:21:56.473Z"
   },
   {
    "duration": 56,
    "start_time": "2022-05-04T14:21:56.571Z"
   },
   {
    "duration": 28,
    "start_time": "2022-05-04T14:21:56.630Z"
   },
   {
    "duration": 11,
    "start_time": "2022-05-04T14:21:56.660Z"
   },
   {
    "duration": 84,
    "start_time": "2022-05-04T14:21:56.673Z"
   },
   {
    "duration": 29,
    "start_time": "2022-05-04T14:21:56.760Z"
   },
   {
    "duration": 119,
    "start_time": "2022-05-04T14:21:56.975Z"
   },
   {
    "duration": 21,
    "start_time": "2022-05-04T14:21:57.189Z"
   },
   {
    "duration": 14,
    "start_time": "2022-05-04T14:21:57.430Z"
   },
   {
    "duration": 6,
    "start_time": "2022-05-04T14:21:59.970Z"
   },
   {
    "duration": 90,
    "start_time": "2022-05-04T14:22:00.317Z"
   },
   {
    "duration": 15,
    "start_time": "2022-05-04T14:22:00.474Z"
   },
   {
    "duration": 13,
    "start_time": "2022-05-04T14:22:00.644Z"
   },
   {
    "duration": 6,
    "start_time": "2022-05-04T14:22:00.820Z"
   },
   {
    "duration": 334,
    "start_time": "2022-05-04T14:22:01.383Z"
   },
   {
    "duration": 59,
    "start_time": "2022-05-04T14:22:01.771Z"
   },
   {
    "duration": 112,
    "start_time": "2022-05-04T14:22:01.950Z"
   },
   {
    "duration": 64,
    "start_time": "2022-05-04T14:22:02.266Z"
   },
   {
    "duration": 189,
    "start_time": "2022-05-04T14:22:02.427Z"
   },
   {
    "duration": 65,
    "start_time": "2022-05-04T14:22:03.263Z"
   },
   {
    "duration": 61,
    "start_time": "2022-05-04T14:22:03.602Z"
   },
   {
    "duration": 505,
    "start_time": "2022-05-04T14:22:03.902Z"
   },
   {
    "duration": 108,
    "start_time": "2022-05-04T14:22:04.410Z"
   },
   {
    "duration": 513,
    "start_time": "2022-05-04T14:22:04.777Z"
   },
   {
    "duration": 58,
    "start_time": "2022-05-04T14:22:05.294Z"
   },
   {
    "duration": 658,
    "start_time": "2022-05-04T14:22:05.438Z"
   },
   {
    "duration": 12,
    "start_time": "2022-05-04T14:22:06.099Z"
   },
   {
    "duration": 43,
    "start_time": "2022-05-04T14:22:10.170Z"
   },
   {
    "duration": 51,
    "start_time": "2022-05-04T14:22:10.593Z"
   },
   {
    "duration": 117,
    "start_time": "2022-05-04T14:22:10.774Z"
   },
   {
    "duration": 3,
    "start_time": "2022-05-04T14:34:47.364Z"
   },
   {
    "duration": 172,
    "start_time": "2022-05-04T14:35:39.079Z"
   },
   {
    "duration": 65,
    "start_time": "2022-05-04T14:35:43.911Z"
   },
   {
    "duration": 60,
    "start_time": "2022-05-04T14:37:05.884Z"
   },
   {
    "duration": 12,
    "start_time": "2022-05-04T14:43:46.733Z"
   },
   {
    "duration": 11,
    "start_time": "2022-05-04T14:43:51.853Z"
   },
   {
    "duration": 61,
    "start_time": "2022-05-04T14:43:52.239Z"
   },
   {
    "duration": 699,
    "start_time": "2022-05-04T14:43:53.465Z"
   },
   {
    "duration": 88,
    "start_time": "2022-05-04T14:43:56.778Z"
   },
   {
    "duration": 1523,
    "start_time": "2022-05-04T14:43:58.072Z"
   },
   {
    "duration": 32,
    "start_time": "2022-05-04T14:44:12.220Z"
   },
   {
    "duration": 89,
    "start_time": "2022-05-04T14:44:25.952Z"
   },
   {
    "duration": 1842,
    "start_time": "2022-05-04T14:44:30.538Z"
   },
   {
    "duration": 16,
    "start_time": "2022-05-04T14:44:45.313Z"
   },
   {
    "duration": 50,
    "start_time": "2022-05-04T14:44:49.079Z"
   },
   {
    "duration": 129,
    "start_time": "2022-05-04T14:47:46.924Z"
   },
   {
    "duration": 126,
    "start_time": "2022-05-04T14:48:20.400Z"
   },
   {
    "duration": 127,
    "start_time": "2022-05-04T14:48:33.469Z"
   },
   {
    "duration": 45,
    "start_time": "2022-05-04T14:53:23.202Z"
   },
   {
    "duration": 3,
    "start_time": "2022-05-04T14:54:17.045Z"
   },
   {
    "duration": 1654,
    "start_time": "2022-05-04T14:54:17.590Z"
   },
   {
    "duration": 6,
    "start_time": "2022-05-04T14:54:19.246Z"
   },
   {
    "duration": 74608,
    "start_time": "2022-05-04T14:54:19.254Z"
   },
   {
    "duration": 86,
    "start_time": "2022-05-04T14:55:33.866Z"
   },
   {
    "duration": 7,
    "start_time": "2022-05-04T14:55:33.954Z"
   },
   {
    "duration": 8,
    "start_time": "2022-05-04T14:55:33.963Z"
   },
   {
    "duration": 6,
    "start_time": "2022-05-04T14:55:33.973Z"
   },
   {
    "duration": 6,
    "start_time": "2022-05-04T14:55:33.981Z"
   },
   {
    "duration": 163593,
    "start_time": "2022-05-04T14:55:33.989Z"
   },
   {
    "duration": 5,
    "start_time": "2022-05-04T14:58:17.585Z"
   },
   {
    "duration": 9,
    "start_time": "2022-05-04T14:58:17.592Z"
   },
   {
    "duration": 15,
    "start_time": "2022-05-04T14:58:17.604Z"
   },
   {
    "duration": 30,
    "start_time": "2022-05-04T14:58:17.622Z"
   },
   {
    "duration": 1124507,
    "start_time": "2022-05-04T14:58:17.655Z"
   },
   {
    "duration": 14,
    "start_time": "2022-05-04T15:17:02.165Z"
   },
   {
    "duration": 0,
    "start_time": "2022-05-04T15:17:02.182Z"
   },
   {
    "duration": 0,
    "start_time": "2022-05-04T15:17:02.184Z"
   },
   {
    "duration": 0,
    "start_time": "2022-05-04T15:17:02.187Z"
   },
   {
    "duration": 0,
    "start_time": "2022-05-04T15:17:02.189Z"
   },
   {
    "duration": 0,
    "start_time": "2022-05-04T15:17:02.191Z"
   },
   {
    "duration": 0,
    "start_time": "2022-05-04T15:17:02.193Z"
   },
   {
    "duration": 0,
    "start_time": "2022-05-04T15:17:02.195Z"
   },
   {
    "duration": 0,
    "start_time": "2022-05-04T15:17:02.198Z"
   },
   {
    "duration": 0,
    "start_time": "2022-05-04T15:17:02.199Z"
   },
   {
    "duration": 0,
    "start_time": "2022-05-04T15:17:02.202Z"
   },
   {
    "duration": 0,
    "start_time": "2022-05-04T15:17:02.203Z"
   },
   {
    "duration": 0,
    "start_time": "2022-05-04T15:17:02.252Z"
   },
   {
    "duration": 0,
    "start_time": "2022-05-04T15:17:02.255Z"
   },
   {
    "duration": 5,
    "start_time": "2022-05-04T15:17:09.057Z"
   },
   {
    "duration": 1187138,
    "start_time": "2022-05-04T15:17:10.340Z"
   },
   {
    "duration": 14,
    "start_time": "2022-05-04T15:36:57.481Z"
   },
   {
    "duration": 0,
    "start_time": "2022-05-04T15:36:57.498Z"
   },
   {
    "duration": 0,
    "start_time": "2022-05-04T15:36:57.500Z"
   },
   {
    "duration": 0,
    "start_time": "2022-05-04T15:36:57.502Z"
   },
   {
    "duration": 1,
    "start_time": "2022-05-04T15:36:57.503Z"
   },
   {
    "duration": 0,
    "start_time": "2022-05-04T15:36:57.505Z"
   },
   {
    "duration": 0,
    "start_time": "2022-05-04T15:36:57.506Z"
   },
   {
    "duration": 0,
    "start_time": "2022-05-04T15:36:57.508Z"
   },
   {
    "duration": 0,
    "start_time": "2022-05-04T15:36:57.510Z"
   },
   {
    "duration": 0,
    "start_time": "2022-05-04T15:36:57.512Z"
   },
   {
    "duration": 0,
    "start_time": "2022-05-04T15:36:57.514Z"
   },
   {
    "duration": 0,
    "start_time": "2022-05-04T15:36:57.551Z"
   },
   {
    "duration": 0,
    "start_time": "2022-05-04T15:36:57.553Z"
   },
   {
    "duration": 4,
    "start_time": "2022-05-04T15:37:03.368Z"
   },
   {
    "duration": 2647031,
    "start_time": "2022-05-04T15:37:04.599Z"
   },
   {
    "duration": 5,
    "start_time": "2022-05-04T16:21:11.633Z"
   },
   {
    "duration": 13,
    "start_time": "2022-05-04T16:21:11.652Z"
   },
   {
    "duration": 10,
    "start_time": "2022-05-04T16:21:11.668Z"
   },
   {
    "duration": 5,
    "start_time": "2022-05-04T16:21:11.681Z"
   },
   {
    "duration": 3485103,
    "start_time": "2022-05-04T16:21:11.689Z"
   },
   {
    "duration": 6,
    "start_time": "2022-05-04T17:19:16.794Z"
   },
   {
    "duration": 8,
    "start_time": "2022-05-04T17:19:16.801Z"
   },
   {
    "duration": 272,
    "start_time": "2022-05-04T17:19:16.813Z"
   },
   {
    "duration": 26,
    "start_time": "2022-05-04T17:19:17.087Z"
   },
   {
    "duration": 51,
    "start_time": "2022-05-04T17:19:17.115Z"
   },
   {
    "duration": 15,
    "start_time": "2022-05-04T17:19:17.168Z"
   },
   {
    "duration": 4,
    "start_time": "2022-05-04T17:19:17.185Z"
   },
   {
    "duration": 8,
    "start_time": "2022-05-04T17:19:17.192Z"
   },
   {
    "duration": 171,
    "start_time": "2022-05-04T17:19:17.202Z"
   },
   {
    "duration": 24039,
    "start_time": "2022-05-04T17:21:38.061Z"
   },
   {
    "duration": 210860,
    "start_time": "2022-05-04T17:26:12.909Z"
   },
   {
    "duration": 206,
    "start_time": "2022-05-05T06:17:22.012Z"
   },
   {
    "duration": 1737,
    "start_time": "2022-05-05T09:51:55.850Z"
   },
   {
    "duration": 733,
    "start_time": "2022-05-05T09:51:57.589Z"
   },
   {
    "duration": 119,
    "start_time": "2022-05-05T09:51:58.499Z"
   },
   {
    "duration": 105,
    "start_time": "2022-05-05T09:53:04.915Z"
   },
   {
    "duration": 8,
    "start_time": "2022-05-05T09:53:09.197Z"
   },
   {
    "duration": 20,
    "start_time": "2022-05-05T09:53:48.789Z"
   },
   {
    "duration": 36,
    "start_time": "2022-05-05T09:54:14.831Z"
   },
   {
    "duration": 27,
    "start_time": "2022-05-05T09:54:22.944Z"
   },
   {
    "duration": 26,
    "start_time": "2022-05-05T09:54:55.423Z"
   },
   {
    "duration": 2,
    "start_time": "2022-05-05T09:55:08.211Z"
   },
   {
    "duration": 16,
    "start_time": "2022-05-05T09:55:10.721Z"
   },
   {
    "duration": 171,
    "start_time": "2022-05-05T09:55:44.286Z"
   },
   {
    "duration": 136,
    "start_time": "2022-05-05T09:56:35.665Z"
   },
   {
    "duration": 310,
    "start_time": "2022-05-05T09:56:47.464Z"
   },
   {
    "duration": 2,
    "start_time": "2022-05-05T09:56:57.492Z"
   },
   {
    "duration": 133,
    "start_time": "2022-05-05T09:57:02.124Z"
   },
   {
    "duration": 3303,
    "start_time": "2022-05-05T09:57:05.514Z"
   },
   {
    "duration": 105819,
    "start_time": "2022-05-05T09:57:46.449Z"
   },
   {
    "duration": 3,
    "start_time": "2022-05-05T09:59:54.054Z"
   },
   {
    "duration": 66786,
    "start_time": "2022-05-05T10:00:01.471Z"
   },
   {
    "duration": 6,
    "start_time": "2022-05-05T10:09:45.467Z"
   },
   {
    "duration": 4,
    "start_time": "2022-05-05T10:10:51.479Z"
   },
   {
    "duration": 5,
    "start_time": "2022-05-05T10:11:02.425Z"
   },
   {
    "duration": 11,
    "start_time": "2022-05-05T10:11:07.800Z"
   },
   {
    "duration": 5,
    "start_time": "2022-05-05T10:11:19.413Z"
   },
   {
    "duration": 3,
    "start_time": "2022-05-05T10:11:27.068Z"
   },
   {
    "duration": 4,
    "start_time": "2022-05-05T10:11:34.925Z"
   },
   {
    "duration": 4,
    "start_time": "2022-05-05T10:11:40.117Z"
   },
   {
    "duration": 5,
    "start_time": "2022-05-05T10:11:42.768Z"
   },
   {
    "duration": 4,
    "start_time": "2022-05-05T10:11:50.582Z"
   },
   {
    "duration": 13,
    "start_time": "2022-05-05T10:13:22.532Z"
   },
   {
    "duration": 9,
    "start_time": "2022-05-05T10:13:40.423Z"
   },
   {
    "duration": 5,
    "start_time": "2022-05-05T10:13:48.070Z"
   },
   {
    "duration": 4,
    "start_time": "2022-05-05T10:14:09.034Z"
   },
   {
    "duration": 13,
    "start_time": "2022-05-05T10:14:16.056Z"
   },
   {
    "duration": 3237,
    "start_time": "2022-05-05T10:14:42.024Z"
   },
   {
    "duration": 4,
    "start_time": "2022-05-05T10:19:37.717Z"
   },
   {
    "duration": 115,
    "start_time": "2022-05-05T10:52:31.938Z"
   },
   {
    "duration": 2589,
    "start_time": "2022-05-05T14:03:06.127Z"
   },
   {
    "duration": 1104,
    "start_time": "2022-05-05T14:03:08.718Z"
   },
   {
    "duration": 21,
    "start_time": "2022-05-05T14:03:43.930Z"
   },
   {
    "duration": 472,
    "start_time": "2022-05-05T14:04:19.620Z"
   },
   {
    "duration": 4,
    "start_time": "2022-05-05T14:04:46.414Z"
   },
   {
    "duration": 650826,
    "start_time": "2022-05-05T14:04:54.257Z"
   },
   {
    "duration": 340209,
    "start_time": "2022-05-05T14:15:45.086Z"
   }
  ],
  "kernelspec": {
   "display_name": "Python 3",
   "language": "python",
   "name": "python3"
  },
  "language_info": {
   "codemirror_mode": {
    "name": "ipython",
    "version": 3
   },
   "file_extension": ".py",
   "mimetype": "text/x-python",
   "name": "python",
   "nbconvert_exporter": "python",
   "pygments_lexer": "ipython3",
   "version": "3.8.5"
  },
  "toc": {
   "base_numbering": 1,
   "nav_menu": {},
   "number_sections": true,
   "sideBar": true,
   "skip_h1_title": true,
   "title_cell": "Table of Contents",
   "title_sidebar": "Contents",
   "toc_cell": false,
   "toc_position": {},
   "toc_section_display": true,
   "toc_window_display": false
  }
 },
 "nbformat": 4,
 "nbformat_minor": 2
}
